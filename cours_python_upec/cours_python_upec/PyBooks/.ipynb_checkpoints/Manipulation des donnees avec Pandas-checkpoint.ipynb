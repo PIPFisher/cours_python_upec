{
 "cells": [
  {
   "cell_type": "markdown",
   "metadata": {},
   "source": [
    "# Python : Manipulation des données avec Pandas"
   ]
  },
  {
   "cell_type": "markdown",
   "metadata": {},
   "source": [
    "<img src=\"Pandas_website.png\">"
   ]
  },
  {
   "cell_type": "markdown",
   "metadata": {},
   "source": [
    "Pandas est une librairie Python spécialisée dans l’analyse des données. Dans ce support, nous nous intéresserons surtout aux fonctionnalités de manipulations de données qu’elle propose. Un objet de type \"data frame\", bien connu sous R, permet de réaliser de nombreuses opérations de filtrage,  prétraitements, etc., préalables à la modélisation statistique.\n",
    "\n",
    "La librairie est très largement documentée. Il faut prendre le temps de la parcourir simplement (ce n'est pas le plus évident). Deux références sont incontournables, celle relative aux DataFrame (tableau de données : http://pandas.pydata.org/pandas-docs/stable/generated/pandas.DataFrame.html#pandas.DataFrame), celle relative aux Series (vecteur de données, une variable dans notre contexte : http://pandas.pydata.org/pandas-docs/stable/generated/pandas.Series.html#pandas.Series)."
   ]
  },
  {
   "cell_type": "markdown",
   "metadata": {},
   "source": [
    "## Chargement et description des données"
   ]
  },
  {
   "cell_type": "markdown",
   "metadata": {},
   "source": [
    "### Librairie Pandas - Options et version\n",
    "\n",
    "Il faut charger la librairie et, éventuellement, la configurer selon vos attentes. Pensez à vérifier votre version, elle doit être raccord (la même ou plus récente) avec ce qui est proposé dans ce tutoriel."
   ]
  },
  {
   "cell_type": "code",
   "execution_count": 1,
   "metadata": {},
   "outputs": [
    {
     "name": "stdout",
     "output_type": "stream",
     "text": [
      "0.19.2\n"
     ]
    }
   ],
   "source": [
    "#Première étape : il faut charger la librairie Pandas\n",
    "import pandas\n",
    "\n",
    "#par convenance pure, nous modifions le nombre de lignes \n",
    "#à afficher dans les print. L'idée est d'éviter que le tutoriel\n",
    "#se résume à de multples affichages de longs tableaux\n",
    "\n",
    "#vous pouvez modifier cette option à votre guise\n",
    "pandas.options.display.max_rows = 10\n",
    "\n",
    "#vérifier la version\n",
    "print(pandas.__version__)"
   ]
  },
  {
   "cell_type": "markdown",
   "metadata": {
    "collapsed": true
   },
   "source": [
    "### Structure DataFrame\n",
    "\n",
    "Une matrice DataFrame correspond à une matrice individus-variables où les lignes correspondent à des observations, les colonnes à des attributs décrivant les individus.\n",
    "\n",
    "Concernanr notre fichier \"heart.txt\" : la première ligne correspond aux noms des champs (des variables) ; à partir de la seconde ligne, nous disposons des valeurs pour chaque enregistrement (individu) ; le caractère tabulation \"\\t\" fait office de séparateur de colonnes.\n",
    "\n",
    "Dans ce qui suit, nous chargeons le fichier de données et nous procédons à quelques vérifications."
   ]
  },
  {
   "cell_type": "code",
   "execution_count": 2,
   "metadata": {},
   "outputs": [
    {
     "name": "stdout",
     "output_type": "stream",
     "text": [
      "<class 'pandas.core.frame.DataFrame'>\n"
     ]
    }
   ],
   "source": [
    "#chargement du fichier\n",
    "#df est le nom de l'objet de type data frame créé\n",
    "#sep spécifie le caractère séparateur de colonnes\n",
    "#header = 0 : la ligne numéro 0 = aux noms des champs\n",
    "#éventuellement decimal permet d'indiquer le point décimal\n",
    "df = pandas.read_table(\"heart.txt\",sep = '\\t',header = 0)\n",
    "\n",
    "#vérifions le type de df\n",
    "print(type(df))"
   ]
  },
  {
   "cell_type": "markdown",
   "metadata": {},
   "source": [
    "Le type DataFrame est bien reconnu.\n",
    "\n",
    "Voyons maintenant l'architecture de la structure DataFrame."
   ]
  },
  {
   "cell_type": "code",
   "execution_count": 3,
   "metadata": {},
   "outputs": [
    {
     "name": "stdout",
     "output_type": "stream",
     "text": [
      "(270, 8)\n"
     ]
    }
   ],
   "source": [
    "#dimensions : nombre de lignes, nombre de colonnes\n",
    "#la ligne d'en-tête n'est pas comptabilisée\n",
    "#dans le nombre de lignes\n",
    "print(df.shape)"
   ]
  },
  {
   "cell_type": "code",
   "execution_count": 4,
   "metadata": {},
   "outputs": [
    {
     "name": "stdout",
     "output_type": "stream",
     "text": [
      "   age      sexe typedouleur sucre  tauxmax angine  depression     coeur\n",
      "0   70  masculin           D     A      109    non          24  presence\n",
      "1   67   feminin           C     A      160    non          16   absence\n",
      "2   57  masculin           B     A      141    non           3  presence\n",
      "3   64  masculin           D     A      105    oui           2   absence\n",
      "4   74   feminin           B     A      121    oui           2   absence\n"
     ]
    }
   ],
   "source": [
    "#afficher les premières lignes du jeu de données\n",
    "print(df.head())"
   ]
  },
  {
   "cell_type": "code",
   "execution_count": 5,
   "metadata": {},
   "outputs": [
    {
     "name": "stdout",
     "output_type": "stream",
     "text": [
      "Index(['age', 'sexe', 'typedouleur', 'sucre', 'tauxmax', 'angine',\n",
      "       'depression', 'coeur'],\n",
      "      dtype='object')\n"
     ]
    }
   ],
   "source": [
    "#énumération des colonnes\n",
    "print(df.columns)"
   ]
  },
  {
   "cell_type": "code",
   "execution_count": 6,
   "metadata": {},
   "outputs": [
    {
     "name": "stdout",
     "output_type": "stream",
     "text": [
      "age             int64\n",
      "sexe           object\n",
      "typedouleur    object\n",
      "sucre          object\n",
      "tauxmax         int64\n",
      "angine         object\n",
      "depression      int64\n",
      "coeur          object\n",
      "dtype: object\n"
     ]
    }
   ],
   "source": [
    "#type de chaque colonne\n",
    "print(df.dtypes)"
   ]
  },
  {
   "cell_type": "code",
   "execution_count": 7,
   "metadata": {},
   "outputs": [
    {
     "name": "stdout",
     "output_type": "stream",
     "text": [
      "<class 'pandas.core.frame.DataFrame'>\n",
      "RangeIndex: 270 entries, 0 to 269\n",
      "Data columns (total 8 columns):\n",
      "age            270 non-null int64\n",
      "sexe           270 non-null object\n",
      "typedouleur    270 non-null object\n",
      "sucre          270 non-null object\n",
      "tauxmax        270 non-null int64\n",
      "angine         270 non-null object\n",
      "depression     270 non-null int64\n",
      "coeur          270 non-null object\n",
      "dtypes: int64(3), object(5)\n",
      "memory usage: 17.0+ KB\n",
      "None\n"
     ]
    }
   ],
   "source": [
    "#informations sur les données\n",
    "print(df.info())"
   ]
  },
  {
   "cell_type": "code",
   "execution_count": 8,
   "metadata": {},
   "outputs": [
    {
     "name": "stdout",
     "output_type": "stream",
     "text": [
      "               age      sexe typedouleur sucre     tauxmax angine  depression  \\\n",
      "count   270.000000       270         270   270  270.000000    270       270.0   \n",
      "unique         NaN         2           4     2         NaN      2         NaN   \n",
      "top            NaN  masculin           D     A         NaN    non         NaN   \n",
      "freq           NaN       183         129   230         NaN    181         NaN   \n",
      "mean     54.433333       NaN         NaN   NaN  149.677778    NaN        10.5   \n",
      "...            ...       ...         ...   ...         ...    ...         ...   \n",
      "min      29.000000       NaN         NaN   NaN   71.000000    NaN         0.0   \n",
      "25%      48.000000       NaN         NaN   NaN  133.000000    NaN         0.0   \n",
      "50%      55.000000       NaN         NaN   NaN  153.500000    NaN         8.0   \n",
      "75%      61.000000       NaN         NaN   NaN  166.000000    NaN        16.0   \n",
      "max      77.000000       NaN         NaN   NaN  202.000000    NaN        62.0   \n",
      "\n",
      "          coeur  \n",
      "count       270  \n",
      "unique        2  \n",
      "top     absence  \n",
      "freq        150  \n",
      "mean        NaN  \n",
      "...         ...  \n",
      "min         NaN  \n",
      "25%         NaN  \n",
      "50%         NaN  \n",
      "75%         NaN  \n",
      "max         NaN  \n",
      "\n",
      "[11 rows x 8 columns]\n"
     ]
    }
   ],
   "source": [
    "#description des données\n",
    "print(df.describe(include='all'))"
   ]
  },
  {
   "cell_type": "markdown",
   "metadata": {},
   "source": [
    "Certains indicateurs statistiques ne sont valables que pour les variables numériques (ex. moyenne, min, etc. pour age, tauxmax,...), et inversemment pour les non-numériques (ex. top, freq, etc. pour sexe, typedouleur, ...), d'où les NaN dans certaines situations."
   ]
  },
  {
   "cell_type": "markdown",
   "metadata": {},
   "source": [
    "## Manipulation des variables"
   ]
  },
  {
   "cell_type": "markdown",
   "metadata": {},
   "source": [
    "### Accès aux variables\n",
    "\n",
    "Il est possible d'accéder explicitement aux variables. Dans un premier temps, nous utilisons directement les noms des champs (les noms des variables, en en-tête de colonne)."
   ]
  },
  {
   "cell_type": "code",
   "execution_count": 9,
   "metadata": {},
   "outputs": [
    {
     "name": "stdout",
     "output_type": "stream",
     "text": [
      "0      masculin\n",
      "1       feminin\n",
      "2      masculin\n",
      "3      masculin\n",
      "4       feminin\n",
      "         ...   \n",
      "265    masculin\n",
      "266    masculin\n",
      "267     feminin\n",
      "268    masculin\n",
      "269    masculin\n",
      "Name: sexe, dtype: object\n"
     ]
    }
   ],
   "source": [
    "#accès à une colonne\n",
    "print(df['sexe'])"
   ]
  },
  {
   "cell_type": "code",
   "execution_count": 10,
   "metadata": {},
   "outputs": [
    {
     "name": "stdout",
     "output_type": "stream",
     "text": [
      "0      masculin\n",
      "1       feminin\n",
      "2      masculin\n",
      "3      masculin\n",
      "4       feminin\n",
      "         ...   \n",
      "265    masculin\n",
      "266    masculin\n",
      "267     feminin\n",
      "268    masculin\n",
      "269    masculin\n",
      "Name: sexe, dtype: object\n"
     ]
    }
   ],
   "source": [
    "#autre manière d'accéder à une colonne avec le .\n",
    "#sous R nous utiliserions le $\n",
    "print(df.sexe)"
   ]
  },
  {
   "cell_type": "code",
   "execution_count": 11,
   "metadata": {},
   "outputs": [
    {
     "name": "stdout",
     "output_type": "stream",
     "text": [
      "         sexe sucre\n",
      "0    masculin     A\n",
      "1     feminin     A\n",
      "2    masculin     A\n",
      "3    masculin     A\n",
      "4     feminin     A\n",
      "..        ...   ...\n",
      "265  masculin     B\n",
      "266  masculin     A\n",
      "267   feminin     A\n",
      "268  masculin     A\n",
      "269  masculin     A\n",
      "\n",
      "[270 rows x 2 columns]\n"
     ]
    }
   ],
   "source": [
    "#accéder à un ensemble de colonnes\n",
    "print(df[['sexe','sucre']])"
   ]
  },
  {
   "cell_type": "code",
   "execution_count": 12,
   "metadata": {},
   "outputs": [
    {
     "name": "stdout",
     "output_type": "stream",
     "text": [
      "0    70\n",
      "1    67\n",
      "2    57\n",
      "3    64\n",
      "4    74\n",
      "Name: age, dtype: int64\n"
     ]
    }
   ],
   "source": [
    "#une colonne est un vecteur (Series en terminologie Pandas)\n",
    "#affichage des premières valeurs\n",
    "print(df['age'].head())"
   ]
  },
  {
   "cell_type": "code",
   "execution_count": 13,
   "metadata": {},
   "outputs": [
    {
     "name": "stdout",
     "output_type": "stream",
     "text": [
      "265    52\n",
      "266    44\n",
      "267    56\n",
      "268    57\n",
      "269    67\n",
      "Name: age, dtype: int64\n"
     ]
    }
   ],
   "source": [
    "#affichage des dernières valeurs\n",
    "print(df['age'].tail())"
   ]
  },
  {
   "cell_type": "code",
   "execution_count": 14,
   "metadata": {},
   "outputs": [
    {
     "name": "stdout",
     "output_type": "stream",
     "text": [
      "count    270.000000\n",
      "mean      54.433333\n",
      "std        9.109067\n",
      "min       29.000000\n",
      "25%       48.000000\n",
      "50%       55.000000\n",
      "75%       61.000000\n",
      "max       77.000000\n",
      "Name: age, dtype: float64\n"
     ]
    }
   ],
   "source": [
    "#statistique descriptive. Pour plus de détails, voir :\n",
    "#http://pandas.pydata.org/pandas-docs/stable/basics.html#summarizing-data-describe\n",
    "print(df['age'].describe())"
   ]
  },
  {
   "cell_type": "code",
   "execution_count": 15,
   "metadata": {},
   "outputs": [
    {
     "name": "stdout",
     "output_type": "stream",
     "text": [
      "54.43333333333333\n"
     ]
    }
   ],
   "source": [
    "#calculer explicitement la moyenne\n",
    "print(df['age'].mean())"
   ]
  },
  {
   "cell_type": "code",
   "execution_count": 16,
   "metadata": {},
   "outputs": [
    {
     "name": "stdout",
     "output_type": "stream",
     "text": [
      "D    129\n",
      "C     79\n",
      "B     42\n",
      "A     20\n",
      "Name: typedouleur, dtype: int64\n"
     ]
    }
   ],
   "source": [
    "#comptage des valeurs\n",
    "print(df['typedouleur'].value_counts())"
   ]
  },
  {
   "cell_type": "code",
   "execution_count": 17,
   "metadata": {},
   "outputs": [
    {
     "name": "stdout",
     "output_type": "stream",
     "text": [
      "70\n"
     ]
    }
   ],
   "source": [
    "#un type Series est un vecteur, il est possible d'utiliser des indices\n",
    "#première valeur\n",
    "print(df['age'][0])"
   ]
  },
  {
   "cell_type": "code",
   "execution_count": 18,
   "metadata": {},
   "outputs": [
    {
     "name": "stdout",
     "output_type": "stream",
     "text": [
      "0    70\n",
      "1    67\n",
      "2    57\n",
      "Name: age, dtype: int64\n"
     ]
    }
   ],
   "source": [
    "#3 premières valeurs\n",
    "print(df['age'][0:3])"
   ]
  },
  {
   "cell_type": "code",
   "execution_count": 19,
   "metadata": {},
   "outputs": [
    {
     "name": "stdout",
     "output_type": "stream",
     "text": [
      "0    70\n",
      "1    67\n",
      "2    57\n",
      "Name: age, dtype: int64\n"
     ]
    }
   ],
   "source": [
    "#ou bien donc\n",
    "print(df.age[0:3])"
   ]
  },
  {
   "cell_type": "code",
   "execution_count": 20,
   "metadata": {},
   "outputs": [
    {
     "name": "stdout",
     "output_type": "stream",
     "text": [
      "214    29\n",
      "174    34\n",
      "138    34\n",
      "224    35\n",
      "81     35\n",
      "       ..\n",
      "15     71\n",
      "255    71\n",
      "4      74\n",
      "73     76\n",
      "199    77\n",
      "Name: age, dtype: int64\n"
     ]
    }
   ],
   "source": [
    "#trier les valeurs d'une variable de manière croissante\n",
    "print(df['age'].sort_values())"
   ]
  },
  {
   "cell_type": "markdown",
   "metadata": {},
   "source": [
    "La plus petite valeur est 29, elle correspond à l'observation n°214."
   ]
  },
  {
   "cell_type": "code",
   "execution_count": 21,
   "metadata": {},
   "outputs": [
    {
     "name": "stdout",
     "output_type": "stream",
     "text": [
      "0      214\n",
      "1      174\n",
      "2      138\n",
      "3      224\n",
      "4       81\n",
      "      ... \n",
      "265     15\n",
      "266    255\n",
      "267      4\n",
      "268     73\n",
      "269    199\n",
      "Name: age, dtype: int64\n"
     ]
    }
   ],
   "source": [
    "#nous pouvons aussi obtenir les indices des valeurs triées\n",
    "print(df['age'].argsort())"
   ]
  },
  {
   "cell_type": "markdown",
   "metadata": {},
   "source": [
    "214 est le numéro de l'individu portant la plus petite valeur de la variable age, puis vient le n°174, etc. Ces résultats sont complètement cohérents avec ceux"
   ]
  },
  {
   "cell_type": "code",
   "execution_count": 22,
   "metadata": {},
   "outputs": [
    {
     "name": "stdout",
     "output_type": "stream",
     "text": [
      "     age      sexe typedouleur sucre  tauxmax angine  depression     coeur\n",
      "214   29  masculin           B     A      202    non           0   absence\n",
      "174   34  masculin           A     A      174    non           0   absence\n",
      "138   34   feminin           B     A      192    non           7   absence\n",
      "224   35   feminin           D     A      182    non          14   absence\n",
      "81    35  masculin           D     A      130    oui          16  presence\n"
     ]
    }
   ],
   "source": [
    "#le tri peut être généralisé aux DataFrame\n",
    "#par exemple : trier le tableau de données selon l'âge\n",
    "#puis affichage des premières lignes avec head()\n",
    "print(df.sort_values(by='age').head())"
   ]
  },
  {
   "cell_type": "markdown",
   "metadata": {},
   "source": [
    "### Itérations sur les variables\n",
    "\n",
    "Les itérations sur les variables peuvent se faire via une boucle, ou via l'utilisation de fonctions callback appelée à l'aide d'une fonction .apply(). Ce qui n'est pas sans rappeler les fonctions sapply() et lapply() de R."
   ]
  },
  {
   "cell_type": "code",
   "execution_count": 23,
   "metadata": {},
   "outputs": [
    {
     "name": "stdout",
     "output_type": "stream",
     "text": [
      "int64\n",
      "object\n",
      "object\n",
      "object\n",
      "int64\n",
      "object\n",
      "int64\n",
      "object\n"
     ]
    }
   ],
   "source": [
    "#boucler sur l'ensemble des colonnes\n",
    "for col in df.columns:\n",
    "    print(df[col].dtype)"
   ]
  },
  {
   "cell_type": "code",
   "execution_count": 24,
   "metadata": {},
   "outputs": [
    {
     "name": "stdout",
     "output_type": "stream",
     "text": [
      "age            54.433333\n",
      "tauxmax       149.677778\n",
      "depression     10.500000\n",
      "dtype: float64\n"
     ]
    }
   ],
   "source": [
    "#passage par la librairie numpy\n",
    "import numpy\n",
    "\n",
    "#fonction call back\n",
    "def operation(x):\n",
    "    return(x.mean())\n",
    "    \n",
    "#appel de la fonction sur l'ensemble des colonnes du DataFrame\n",
    "#axis = 0 ==> chaque colonne sera transmise à la fonction operation()\n",
    "#la selection select_dtypes() permet d'exclure les variables non numériques\n",
    "resultat = df.select_dtypes(exclude=['object']).apply(operation,axis=0)\n",
    "print(resultat)"
   ]
  },
  {
   "cell_type": "markdown",
   "metadata": {},
   "source": [
    "## Accès indicé aux données d'un DataFrame\n",
    "On peut accéder aux valeurs du DataFrame via des indices ou plages d'indice. La structure se comporte alors comme une matrice. La cellule en haut et à gauche est de coordonnées (0,0).\n",
    "\n",
    "Il y a différentes manières de le faire, l'utilisation de .iloc[,] constitue une des solutions les plus simples. N'oublions pas que Shape permet d'obtenir les dimensions (lignes et colonnes) du DataFrame."
   ]
  },
  {
   "cell_type": "code",
   "execution_count": 25,
   "metadata": {},
   "outputs": [
    {
     "name": "stdout",
     "output_type": "stream",
     "text": [
      "70\n"
     ]
    }
   ],
   "source": [
    "#accès à la valeur située en (0,0)\n",
    "print(df.iloc[0,0])"
   ]
  },
  {
   "cell_type": "code",
   "execution_count": 26,
   "metadata": {},
   "outputs": [
    {
     "name": "stdout",
     "output_type": "stream",
     "text": [
      "67\n"
     ]
    }
   ],
   "source": [
    "#valeur située en dernière ligne, première colonne\n",
    "#utilisation de l'indiçage négatif\n",
    "print(df.iloc[-1,0])"
   ]
  },
  {
   "cell_type": "code",
   "execution_count": 27,
   "metadata": {},
   "outputs": [
    {
     "name": "stdout",
     "output_type": "stream",
     "text": [
      "67\n"
     ]
    }
   ],
   "source": [
    "#valeur située en dernière ligne, première colonne\n",
    "#shape[0] renvoie le nombre de lignes (première dimension)\n",
    "#il faut réduire de -1 parce le premier indice est égal à 0\n",
    "#sinon on déborde\n",
    "print(df.iloc[df.shape[0]-1,0])"
   ]
  },
  {
   "cell_type": "code",
   "execution_count": 28,
   "metadata": {},
   "outputs": [
    {
     "name": "stdout",
     "output_type": "stream",
     "text": [
      "   age      sexe typedouleur sucre  tauxmax angine  depression     coeur\n",
      "0   70  masculin           D     A      109    non          24  presence\n",
      "1   67   feminin           C     A      160    non          16   absence\n",
      "2   57  masculin           B     A      141    non           3  presence\n",
      "3   64  masculin           D     A      105    oui           2   absence\n",
      "4   74   feminin           B     A      121    oui           2   absence\n"
     ]
    }
   ],
   "source": [
    "#5 premières valeurs de toutes les colonnes\n",
    "#lignes => 0:5 (0 à 5 [non inclus])\n",
    "#colonnes = : (toutes les colonnes)\n",
    "print(df.iloc[0:5,:])"
   ]
  },
  {
   "cell_type": "code",
   "execution_count": 29,
   "metadata": {},
   "outputs": [
    {
     "name": "stdout",
     "output_type": "stream",
     "text": [
      "     age      sexe typedouleur sucre  tauxmax angine  depression     coeur\n",
      "265   52  masculin           C     B      162    non           5   absence\n",
      "266   44  masculin           B     A      173    non           0   absence\n",
      "267   56   feminin           B     A      153    non          13   absence\n",
      "268   57  masculin           D     A      148    non           4   absence\n",
      "269   67  masculin           D     A      108    oui          15  presence\n"
     ]
    }
   ],
   "source": [
    "#avec l'indiçage négatif, on peut facilement accéder aux 5 dernières lignes\n",
    "print(df.iloc[-5:,:])"
   ]
  },
  {
   "cell_type": "code",
   "execution_count": 30,
   "metadata": {},
   "outputs": [
    {
     "name": "stdout",
     "output_type": "stream",
     "text": [
      "   age      sexe\n",
      "0   70  masculin\n",
      "1   67   feminin\n",
      "2   57  masculin\n",
      "3   64  masculin\n",
      "4   74   feminin\n"
     ]
    }
   ],
   "source": [
    "#5 premières lignes et deux premières colonnes\n",
    "print(df.iloc[0:5,0:2])"
   ]
  },
  {
   "cell_type": "code",
   "execution_count": 31,
   "metadata": {},
   "outputs": [
    {
     "name": "stdout",
     "output_type": "stream",
     "text": [
      "   age typedouleur  tauxmax\n",
      "0   70           D      109\n",
      "1   67           C      160\n",
      "2   57           B      141\n",
      "3   64           D      105\n",
      "4   74           B      121\n"
     ]
    }
   ],
   "source": [
    "#5 premières lignes et colonnes 0, 1 et 4\n",
    "#on a une liste d'indices en colonne\n",
    "print(df.iloc[0:5,[0,2,4]])"
   ]
  },
  {
   "cell_type": "code",
   "execution_count": 32,
   "metadata": {},
   "outputs": [
    {
     "name": "stdout",
     "output_type": "stream",
     "text": [
      "   age typedouleur  tauxmax\n",
      "0   70           D      109\n",
      "1   67           C      160\n",
      "2   57           B      141\n",
      "3   64           D      105\n",
      "4   74           B      121\n"
     ]
    }
   ],
   "source": [
    "#ou encore, pour exactement la même chose\n",
    "#remarquez le rôle de 2 dans 0:5:2\n",
    "print(df.iloc[0:5,0:5:2])"
   ]
  },
  {
   "cell_type": "markdown",
   "metadata": {
    "collapsed": true
   },
   "source": [
    "## Restrictions avec les conditions - Les requêtes\n",
    "\n",
    "Nous pouvons isoler les sous-ensembles d'observations répondant à des critères définis sur les champs. Nous utiliserons préférentiellement la méthode .loc[,] dans ce cadre."
   ]
  },
  {
   "cell_type": "code",
   "execution_count": 33,
   "metadata": {},
   "outputs": [
    {
     "name": "stdout",
     "output_type": "stream",
     "text": [
      "     age      sexe typedouleur sucre  tauxmax angine  depression     coeur\n",
      "13    61  masculin           A     A      145    non          26  presence\n",
      "18    64  masculin           A     A      144    oui          18   absence\n",
      "19    40  masculin           A     A      178    oui          14   absence\n",
      "37    59  masculin           A     A      125    non           0  presence\n",
      "63    60   feminin           A     A      171    non           9   absence\n",
      "..   ...       ...         ...   ...      ...    ...         ...       ...\n",
      "198   69   feminin           A     A      151    non          18   absence\n",
      "205   52  masculin           A     B      178    non          12   absence\n",
      "210   59  masculin           A     A      159    non           2  presence\n",
      "228   58   feminin           A     B      162    non          10   absence\n",
      "229   52  masculin           A     A      190    non           0   absence\n",
      "\n",
      "[20 rows x 8 columns]\n"
     ]
    }
   ],
   "source": [
    "#liste des individus présentant une douleur de type A\n",
    "print(df.loc[df['typedouleur']==\"A\",:])"
   ]
  },
  {
   "cell_type": "code",
   "execution_count": 34,
   "metadata": {},
   "outputs": [
    {
     "name": "stdout",
     "output_type": "stream",
     "text": [
      "0      False\n",
      "1      False\n",
      "2      False\n",
      "3      False\n",
      "4      False\n",
      "       ...  \n",
      "265    False\n",
      "266    False\n",
      "267    False\n",
      "268    False\n",
      "269    False\n",
      "Name: typedouleur, dtype: bool\n"
     ]
    }
   ],
   "source": [
    "#nous constatons que l'on indexe avec un vecteur de\n",
    "#booléens si on va dans le détail. En effet,\n",
    "print(df['typedouleur']==\"A\")"
   ]
  },
  {
   "cell_type": "markdown",
   "metadata": {},
   "source": [
    "Seules les observations correspondant à True sont repris par .loc[,]. Nous pouvons les comptabiliser :"
   ]
  },
  {
   "cell_type": "code",
   "execution_count": 35,
   "metadata": {},
   "outputs": [
    {
     "name": "stdout",
     "output_type": "stream",
     "text": [
      "False    250\n",
      "True      20\n",
      "Name: typedouleur, dtype: int64\n"
     ]
    }
   ],
   "source": [
    "print((df['typedouleur']==\"A\").value_counts())"
   ]
  },
  {
   "cell_type": "code",
   "execution_count": 36,
   "metadata": {},
   "outputs": [
    {
     "name": "stdout",
     "output_type": "stream",
     "text": [
      "     age      sexe typedouleur sucre  tauxmax angine  depression     coeur\n",
      "2     57  masculin           B     A      141    non           3  presence\n",
      "4     74   feminin           B     A      121    oui           2   absence\n",
      "13    61  masculin           A     A      145    non          26  presence\n",
      "18    64  masculin           A     A      144    oui          18   absence\n",
      "19    40  masculin           A     A      178    oui          14   absence\n",
      "..   ...       ...         ...   ...      ...    ...         ...       ...\n",
      "262   58  masculin           B     A      160    non          18  presence\n",
      "263   49  masculin           B     A      171    non           6   absence\n",
      "264   48  masculin           B     A      168    non          10  presence\n",
      "266   44  masculin           B     A      173    non           0   absence\n",
      "267   56   feminin           B     A      153    non          13   absence\n",
      "\n",
      "[62 rows x 8 columns]\n"
     ]
    }
   ],
   "source": [
    "#pour un ensemble de valeurs de la même variable,\n",
    "#nous utilisons isin()\n",
    "print(df.loc[df['typedouleur'].isin(['A','B']),:])"
   ]
  },
  {
   "cell_type": "markdown",
   "metadata": {},
   "source": [
    "Des opérateurs logiques permettent de combiner les conditions. Nous utilisons respectivement : & pour ET, | pour OU, et ~ pour la négation."
   ]
  },
  {
   "cell_type": "code",
   "execution_count": 37,
   "metadata": {},
   "outputs": [
    {
     "name": "stdout",
     "output_type": "stream",
     "text": [
      "     age      sexe typedouleur sucre  tauxmax angine  depression     coeur\n",
      "18    64  masculin           A     A      144    oui          18   absence\n",
      "19    40  masculin           A     A      178    oui          14   absence\n",
      "143   51  masculin           A     A      125    oui          14   absence\n",
      "160   38  masculin           A     A      182    oui          38  presence\n"
     ]
    }
   ],
   "source": [
    "#liste des individus présentant une douleur de type A et angine == oui\n",
    "print(df.loc[(df['typedouleur']==\"A\") & (df['angine'] == \"oui\"),:])"
   ]
  },
  {
   "cell_type": "code",
   "execution_count": 38,
   "metadata": {},
   "outputs": [
    {
     "name": "stdout",
     "output_type": "stream",
     "text": [
      "     age      sexe typedouleur sucre  tauxmax angine  depression     coeur\n",
      "40    40  masculin           D     A      181    non           0  presence\n",
      "47    44  masculin           D     A      177    non           0  presence\n",
      "50    42  masculin           D     A      125    oui          18  presence\n",
      "81    35  masculin           D     A      130    oui          16  presence\n",
      "147   40  masculin           D     A      114    oui          20  presence\n",
      "..   ...       ...         ...   ...      ...    ...         ...       ...\n",
      "182   41  masculin           D     A      158    non           0  presence\n",
      "193   35  masculin           D     A      156    oui           0  presence\n",
      "231   39  masculin           D     A      140    non          12  presence\n",
      "237   43  masculin           D     A      120    oui          25  presence\n",
      "252   44  masculin           D     A      153    non           0  presence\n",
      "\n",
      "[11 rows x 8 columns]\n"
     ]
    }
   ],
   "source": [
    "#liste des personnes de moins de 45 ans, de sexe masculin, présentant une maladie cardiaque\n",
    "print(df.loc[(df['age'] < 45) & (df['sexe'] == \"masculin\") & (df['coeur'] == \"presence\"),:])"
   ]
  },
  {
   "cell_type": "code",
   "execution_count": 39,
   "metadata": {},
   "outputs": [
    {
     "name": "stdout",
     "output_type": "stream",
     "text": [
      "     age      sexe     coeur  tauxmax\n",
      "40    40  masculin  presence      181\n",
      "47    44  masculin  presence      177\n",
      "50    42  masculin  presence      125\n",
      "81    35  masculin  presence      130\n",
      "147   40  masculin  presence      114\n",
      "..   ...       ...       ...      ...\n",
      "182   41  masculin  presence      158\n",
      "193   35  masculin  presence      156\n",
      "231   39  masculin  presence      140\n",
      "237   43  masculin  presence      120\n",
      "252   44  masculin  presence      153\n",
      "\n",
      "[11 rows x 4 columns]\n"
     ]
    }
   ],
   "source": [
    "#on peut n'afficher qu'une partie des colonnes\n",
    "#on définit la projection dans une liste\n",
    "colonnes = ['age','sexe','coeur','tauxmax']\n",
    "#que l'on utilise en paramètre dans .loc[]\n",
    "#pour la même restruction que précédemment\n",
    "print(df.loc[(df['age'] < 45) & (df['sexe'] == \"masculin\") & (df['coeur'] == \"presence\"),colonnes])"
   ]
  },
  {
   "cell_type": "markdown",
   "metadata": {},
   "source": [
    "## Calculs récapitulatifs - Croisement des variables\n",
    "\n",
    "A la manière des tableaux croisés dynamiques (TCD) d'Excel, nous pouvons procéder à des croisements et opérer des calculs récapitulatifs, qui vont du comptage simple aux calculs statistiques mettent en jeu d'autres variables."
   ]
  },
  {
   "cell_type": "code",
   "execution_count": 40,
   "metadata": {},
   "outputs": [
    {
     "name": "stdout",
     "output_type": "stream",
     "text": [
      "coeur     absence  presence\n",
      "sexe                       \n",
      "feminin        67        20\n",
      "masculin       83       100\n"
     ]
    }
   ],
   "source": [
    "#fréquences selon sexe et coeur - cela ressemnble à table() de R\n",
    "#voir : http://pandas.pydata.org/pandas-docs/stable/generated/pandas.crosstab.html\n",
    "print(pandas.crosstab(df['sexe'],df['coeur']))"
   ]
  },
  {
   "cell_type": "code",
   "execution_count": 41,
   "metadata": {},
   "outputs": [
    {
     "name": "stdout",
     "output_type": "stream",
     "text": [
      "coeur      absence  presence\n",
      "sexe                        \n",
      "feminin   0.770115  0.229885\n",
      "masculin  0.453552  0.546448\n"
     ]
    }
   ],
   "source": [
    "#nous pouvons demander un post-traitement, à la différence de table() de R\n",
    "#par exemple, un pourcentage en ligne\n",
    "print(pandas.crosstab(df['sexe'],df['coeur'],normalize='index'))"
   ]
  },
  {
   "cell_type": "code",
   "execution_count": 42,
   "metadata": {},
   "outputs": [
    {
     "name": "stdout",
     "output_type": "stream",
     "text": [
      "coeur       absence  presence\n",
      "sexe                         \n",
      "feminin   54.582090     59.35\n",
      "masculin  51.192771     56.04\n"
     ]
    }
   ],
   "source": [
    "#nous pouvons aussi insérer un champ calculé, comme avec les TCD d'Excel\n",
    "#ex. moyenne d'âge selon le sexe et la maladie\n",
    "#nous utilisons la fonction mean() de la classe Series de la librairie Pandas\n",
    "#cela nous rapproche plus des fonctions tapply() ou aggregate() de R\n",
    "print(pandas.crosstab(df['sexe'],df['coeur'],values=df['age'],aggfunc=pandas.Series.mean))"
   ]
  },
  {
   "cell_type": "code",
   "execution_count": 43,
   "metadata": {},
   "outputs": [
    {
     "name": "stdout",
     "output_type": "stream",
     "text": [
      "                age         \n",
      "coeur       absence presence\n",
      "sexe                        \n",
      "feminin   54.582090    59.35\n",
      "masculin  51.192771    56.04\n"
     ]
    }
   ],
   "source": [
    "#une autre manière de faire avec la commande pivot_table()\n",
    "#pour exactement le même résultat\n",
    "print(df.pivot_table(index=['sexe'],columns=['coeur'],values=['age'],aggfunc=pandas.Series.mean))"
   ]
  },
  {
   "cell_type": "code",
   "execution_count": 44,
   "metadata": {},
   "outputs": [
    {
     "name": "stdout",
     "output_type": "stream",
     "text": [
      "coeur           absence  presence\n",
      "sexe     sucre                   \n",
      "feminin  A           61        15\n",
      "         B            6         5\n",
      "masculin A           66        88\n",
      "         B           17        12\n"
     ]
    }
   ],
   "source": [
    "#multiplier les critères est possible\n",
    "#mais comme avec les TCD, la lecture devient compliquée\n",
    "print(pandas.crosstab([df['sexe'],df['sucre']],df['coeur']))"
   ]
  },
  {
   "cell_type": "code",
   "execution_count": 45,
   "metadata": {},
   "outputs": [
    {
     "name": "stdout",
     "output_type": "stream",
     "text": [
      "coeur            absence  presence\n",
      "sexe     sucre                    \n",
      "feminin  A      0.802632  0.197368\n",
      "         B      0.545455  0.454545\n",
      "masculin A      0.428571  0.571429\n",
      "         B      0.586207  0.413793\n"
     ]
    }
   ],
   "source": [
    "#il reste que les possibilités sont étendues\n",
    "print(pandas.crosstab([df['sexe'],df['sucre']],df['coeur'],normalize='index'))"
   ]
  },
  {
   "cell_type": "markdown",
   "metadata": {},
   "source": [
    "L'utilisation de groupby() permet d'accéder aux sous-DataFrame associés à chaque item de la variable de regroupement. Il est dès lors possible d'appliquer explicitement d'autres traitements sur ces sous-ensembles de données."
   ]
  },
  {
   "cell_type": "code",
   "execution_count": 46,
   "metadata": {},
   "outputs": [
    {
     "name": "stdout",
     "output_type": "stream",
     "text": [
      "(183, 8)\n"
     ]
    }
   ],
   "source": [
    "#scission des données selon le sexe\n",
    "g = df.groupby('sexe')\n",
    "\n",
    "#calculer la dimension du sous-DataFrame associé aux hommes\n",
    "print(g.get_group('masculin').shape)"
   ]
  },
  {
   "cell_type": "code",
   "execution_count": 47,
   "metadata": {},
   "outputs": [
    {
     "name": "stdout",
     "output_type": "stream",
     "text": [
      "53.84153005464481\n"
     ]
    }
   ],
   "source": [
    "#calculer la moyenne de l'âge chez les hommes.\n",
    "print(g.get_group('masculin')['age'].mean())"
   ]
  },
  {
   "cell_type": "code",
   "execution_count": 48,
   "metadata": {},
   "outputs": [
    {
     "name": "stdout",
     "output_type": "stream",
     "text": [
      "                age           depression           \n",
      "               mean       std       mean        std\n",
      "sexe                                               \n",
      "feminin   55.678161  9.626144   8.885057  11.332630\n",
      "masculin  53.841530  8.818189  11.267760  11.459408\n"
     ]
    }
   ],
   "source": [
    "#on peut appliquer différentes fonctions\n",
    "#agg() permet de revenir sur quelque chose qui ressemble au crosstab()\n",
    "print(g[['age','depression']].agg([pandas.Series.mean,pandas.Series.std]))"
   ]
  },
  {
   "cell_type": "code",
   "execution_count": 49,
   "metadata": {},
   "outputs": [
    {
     "name": "stdout",
     "output_type": "stream",
     "text": [
      "feminin\n",
      "55.67816091954023\n",
      "masculin\n",
      "53.84153005464481\n"
     ]
    }
   ],
   "source": [
    "#nous pouvons itérer sur les groupes\n",
    "for groupe in g:\n",
    "    #groupe est un tuple\n",
    "    print(groupe[0]) #étiquette du groupe\n",
    "    #accès à la variable 'age' du groupe concerné\n",
    "    print(pandas.Series.mean(groupe[1]['age']))"
   ]
  },
  {
   "cell_type": "markdown",
   "metadata": {},
   "source": [
    "## Construction de variables calculées\n",
    "\n",
    "Comme sous Numpy (comme sous R), les calculs sont vectorisés pour les vecteurs de type Series de Pandas. Ce qui évite de passer par des boucles fastidieuses pour manipuler les valeurs des vecteurs."
   ]
  },
  {
   "cell_type": "code",
   "execution_count": 50,
   "metadata": {},
   "outputs": [
    {
     "name": "stdout",
     "output_type": "stream",
     "text": [
      "0      463.085981\n",
      "1      672.750819\n",
      "2      570.070229\n",
      "3      436.682724\n",
      "4      520.791876\n",
      "          ...    \n",
      "265    640.101482\n",
      "266    654.664807\n",
      "267    615.878809\n",
      "268    598.371588\n",
      "269    454.106803\n",
      "dtype: float64\n"
     ]
    }
   ],
   "source": [
    "#création d'une variable tauxnet (qui n'a aucune signification médicale)\n",
    "#utilisation de la libraire numpy (log = logarithme népérien)\n",
    "import numpy\n",
    "tauxnet = df['tauxmax']*numpy.log(df['age'])\n",
    "print(tauxnet)"
   ]
  },
  {
   "cell_type": "code",
   "execution_count": 51,
   "metadata": {},
   "outputs": [
    {
     "name": "stdout",
     "output_type": "stream",
     "text": [
      "(270, 9)\n"
     ]
    }
   ],
   "source": [
    "#laquelle variable peut être concaténée au DataFrame\n",
    "newdf = pandas.concat([df,tauxnet],axis=1)\n",
    "print(newdf.shape)"
   ]
  },
  {
   "cell_type": "markdown",
   "metadata": {},
   "source": [
    "La construction d'une variable ex-nihilo est également possible. Par ex., nous souhaitons créer une indicatrice pour la variable sexe, 1 pour masculin, 0 pour féminin."
   ]
  },
  {
   "cell_type": "code",
   "execution_count": 52,
   "metadata": {},
   "outputs": [
    {
     "name": "stdout",
     "output_type": "stream",
     "text": [
      "(270,)\n"
     ]
    }
   ],
   "source": [
    "#création d'une Série de 0 de la même longueur\n",
    "#que notre DataFrame(nombre de lignes)\n",
    "#nous utilisons la méthode de numpy pour cela\n",
    "code = pandas.Series(numpy.zeros(df.shape[0]))\n",
    "print(code.shape)"
   ]
  },
  {
   "cell_type": "code",
   "execution_count": 53,
   "metadata": {},
   "outputs": [
    {
     "name": "stdout",
     "output_type": "stream",
     "text": [
      "1.0    183\n",
      "0.0     87\n",
      "dtype: int64\n"
     ]
    }
   ],
   "source": [
    "#les \"sexe = masculin\" sont codés 1\n",
    "#de fait, \"sexe = feminin\" est codé zéro puisque le \n",
    "#vecteur a préalablement été créé avec des valeurs 0\n",
    "code[df['sexe']=='masculin'] = 1\n",
    "print(code.value_counts())"
   ]
  },
  {
   "cell_type": "code",
   "execution_count": 54,
   "metadata": {},
   "outputs": [
    {
     "name": "stdout",
     "output_type": "stream",
     "text": [
      "1    183\n",
      "0     87\n",
      "Name: sexe, dtype: int64\n"
     ]
    }
   ],
   "source": [
    "#une autre solution plus simple, mais il faut connaître eq()\n",
    "codebis = df['sexe'].eq('masculin').astype('int')\n",
    "print(codebis.value_counts())"
   ]
  },
  {
   "cell_type": "markdown",
   "metadata": {},
   "source": [
    "## Graphiques\n",
    "\n",
    "Passer par matplotlib permet de réaliser des graphiques performants (http://matplotlib.org/). Mais il faut connaître les procédures de la librairie, ce qui nécessite un apprentissage supplémentaire qui n'est pas toujours évident.\n",
    "\n",
    "Heureusement, Pandas propose des commandes simples qui encapsulent l'appel à ces procédures et nous simplifie grandement la vie. Il faut importer matplotlib pour que l'ensemble fonctionne correctement."
   ]
  },
  {
   "cell_type": "code",
   "execution_count": 55,
   "metadata": {
    "collapsed": true
   },
   "outputs": [],
   "source": [
    "#indiquer que l'on veut voir apparaître les graphiques dans le notebook\n",
    "#/!\\ très important, sinon on ne verrait rien \n",
    "%matplotlib inline\n",
    "\n",
    "#importation de la librairie\n",
    "import matplotlib.pyplot as plt"
   ]
  },
  {
   "cell_type": "code",
   "execution_count": 56,
   "metadata": {},
   "outputs": [
    {
     "data": {
      "text/plain": [
       "array([[<matplotlib.axes._subplots.AxesSubplot object at 0x000001C472A89940>]], dtype=object)"
      ]
     },
     "execution_count": 56,
     "metadata": {},
     "output_type": "execute_result"
    },
    {
     "data": {
      "image/png": "[encoded data removed]",
      "text/plain": [
       "<matplotlib.figure.Figure at 0x1c472a3b358>"
      ]
     },
     "metadata": {},
     "output_type": "display_data"
    }
   ],
   "source": [
    "#histogramme de l'âge\n",
    "df.hist(column='age')"
   ]
  },
  {
   "cell_type": "code",
   "execution_count": 57,
   "metadata": {},
   "outputs": [
    {
     "data": {
      "text/plain": [
       "<matplotlib.axes._subplots.AxesSubplot at 0x1c472ed2048>"
      ]
     },
     "execution_count": 57,
     "metadata": {},
     "output_type": "execute_result"
    },
    {
     "data": {
      "image/png": "[encoded data removed]",
      "text/plain": [
       "<matplotlib.figure.Figure at 0x1c472ea1320>"
      ]
     },
     "metadata": {},
     "output_type": "display_data"
    }
   ],
   "source": [
    "#density plot\n",
    "df['age'].plot.kde()"
   ]
  },
  {
   "cell_type": "code",
   "execution_count": 58,
   "metadata": {},
   "outputs": [
    {
     "data": {
      "text/plain": [
       "array([<matplotlib.axes._subplots.AxesSubplot object at 0x000001C473784668>,\n",
       "       <matplotlib.axes._subplots.AxesSubplot object at 0x000001C47381D160>], dtype=object)"
      ]
     },
     "execution_count": 58,
     "metadata": {},
     "output_type": "execute_result"
    },
    {
     "data": {
      "image/png": "[encoded data removed]",
      "text/plain": [
       "<matplotlib.figure.Figure at 0x1c47379f780>"
      ]
     },
     "metadata": {},
     "output_type": "display_data"
    }
   ],
   "source": [
    "#histogrammes de l'âge selon le sexe\n",
    "df.hist(column='age',by='sexe')"
   ]
  },
  {
   "cell_type": "code",
   "execution_count": 59,
   "metadata": {},
   "outputs": [
    {
     "data": {
      "text/plain": [
       "<matplotlib.axes._subplots.AxesSubplot at 0x1c4738f7198>"
      ]
     },
     "execution_count": 59,
     "metadata": {},
     "output_type": "execute_result"
    },
    {
     "data": {
      "image/png": "[encoded data removed]",
      "text/plain": [
       "<matplotlib.figure.Figure at 0x1c47390ea90>"
      ]
     },
     "metadata": {},
     "output_type": "display_data"
    }
   ],
   "source": [
    "#comparaison des distributions avec un boxplot\n",
    "df.boxplot(column='age',by='sexe')"
   ]
  },
  {
   "cell_type": "code",
   "execution_count": 60,
   "metadata": {},
   "outputs": [
    {
     "data": {
      "text/plain": [
       "<matplotlib.axes._subplots.AxesSubplot at 0x1c4738c90b8>"
      ]
     },
     "execution_count": 60,
     "metadata": {},
     "output_type": "execute_result"
    },
    {
     "data": {
      "image/png": "[encoded data removed]",
      "text/plain": [
       "<matplotlib.figure.Figure at 0x1c473933748>"
      ]
     },
     "metadata": {},
     "output_type": "display_data"
    }
   ],
   "source": [
    "#scatterplot : age vs. tauxmax\n",
    "df.plot.scatter(x='age',y='tauxmax')"
   ]
  },
  {
   "cell_type": "code",
   "execution_count": 61,
   "metadata": {},
   "outputs": [
    {
     "data": {
      "text/plain": [
       "<matplotlib.axes._subplots.AxesSubplot at 0x1c4739ee400>"
      ]
     },
     "execution_count": 61,
     "metadata": {},
     "output_type": "execute_result"
    },
    {
     "data": {
      "image/png": "[encoded data removed]",
      "text/plain": [
       "<matplotlib.figure.Figure at 0x1c473a588d0>"
      ]
     },
     "metadata": {},
     "output_type": "display_data"
    }
   ],
   "source": [
    "#scatterplot (age vs. tauxmax) en distinguant les points\n",
    "#(niveau de gris)selon les valeurs de dépression\n",
    "df.plot.scatter(x='age',y='tauxmax',c='depression')"
   ]
  },
  {
   "cell_type": "code",
   "execution_count": 62,
   "metadata": {},
   "outputs": [
    {
     "data": {
      "text/plain": [
       "<matplotlib.axes._subplots.AxesSubplot at 0x1c474b1fc50>"
      ]
     },
     "execution_count": 62,
     "metadata": {},
     "output_type": "execute_result"
    },
    {
     "data": {
      "image/png": "[encoded data removed]",
      "text/plain": [
       "<matplotlib.figure.Figure at 0x1c474b3b2e8>"
      ]
     },
     "metadata": {},
     "output_type": "display_data"
    }
   ],
   "source": [
    "#scatterplot (age vs. tauxmax) en distinguant les points\n",
    "#(taille des points) selon les valeurs de dépression\n",
    "df.plot.scatter(x='age',y='tauxmax',s=df['depression'])"
   ]
  },
  {
   "cell_type": "code",
   "execution_count": 63,
   "metadata": {},
   "outputs": [
    {
     "data": {
      "text/plain": [
       "<matplotlib.axes._subplots.AxesSubplot at 0x1c473a589e8>"
      ]
     },
     "execution_count": 63,
     "metadata": {},
     "output_type": "execute_result"
    },
    {
     "data": {
      "image/png": "[encoded data removed]",
      "text/plain": [
       "<matplotlib.figure.Figure at 0x1c474b76518>"
      ]
     },
     "metadata": {},
     "output_type": "display_data"
    }
   ],
   "source": [
    "#scatterplot (age vs. tauxmax) en distinguant les points selon les valeurs\n",
    "#de coeur : nécessite un recodage de coeur - ici en 0/1\n",
    "code_coeur = df['coeur'].eq('presence').astype('int')\n",
    "#afficher le graphique en spécifiant la couleur (blue = 0, green = 1)\n",
    "#les habitués de R reconnaîtront l'astuce\n",
    "df.plot.scatter(x='age',y='tauxmax',c=pandas.Series(['blue','green'])[code_coeur])"
   ]
  },
  {
   "cell_type": "code",
   "execution_count": 64,
   "metadata": {},
   "outputs": [
    {
     "data": {
      "text/plain": [
       "<matplotlib.axes._subplots.AxesSubplot at 0x1c474c050f0>"
      ]
     },
     "execution_count": 64,
     "metadata": {},
     "output_type": "execute_result"
    },
    {
     "data": {
      "image/png": "[encoded data removed]",
      "text/plain": [
       "<matplotlib.figure.Figure at 0x1c474c62f98>"
      ]
     },
     "metadata": {},
     "output_type": "display_data"
    }
   ],
   "source": [
    "#grille à la carte de Kohonen - permet de voir la densité des points ici\n",
    "df.plot.hexbin(x='age',y='tauxmax',gridsize=25)"
   ]
  },
  {
   "cell_type": "code",
   "execution_count": 65,
   "metadata": {},
   "outputs": [
    {
     "data": {
      "text/plain": [
       "<matplotlib.axes._subplots.AxesSubplot at 0x1c473a8eeb8>"
      ]
     },
     "execution_count": 65,
     "metadata": {},
     "output_type": "execute_result"
    },
    {
     "data": {
      "image/png": "[encoded data removed]",
      "text/plain": [
       "<matplotlib.figure.Figure at 0x1c474d50eb8>"
      ]
     },
     "metadata": {},
     "output_type": "display_data"
    }
   ],
   "source": [
    "#calcul de la moyenne pour un vecteur\n",
    "def moyenne(v):\n",
    "    return(numpy.mean(v))\n",
    "\n",
    "#grille à la carte de Kohonen où la couleur dépend de la moyenne de depression\n",
    "df.plot.hexbin(x='age',y='tauxmax',C='depression',reduce_C_function=moyenne,gridsize=25)"
   ]
  },
  {
   "cell_type": "code",
   "execution_count": 66,
   "metadata": {},
   "outputs": [
    {
     "data": {
      "text/plain": [
       "<matplotlib.axes._subplots.AxesSubplot at 0x1c474e7b898>"
      ]
     },
     "execution_count": 66,
     "metadata": {},
     "output_type": "execute_result"
    },
    {
     "data": {
      "image/png": "[encoded data removed]",
      "text/plain": [
       "<matplotlib.figure.Figure at 0x1c474ea6eb8>"
      ]
     },
     "metadata": {},
     "output_type": "display_data"
    }
   ],
   "source": [
    "#diagramme à secteurs - comptage de sexe\n",
    "df['sexe'].value_counts().plot.pie()"
   ]
  },
  {
   "cell_type": "code",
   "execution_count": 67,
   "metadata": {},
   "outputs": [
    {
     "data": {
      "text/plain": [
       "array([[<matplotlib.axes._subplots.AxesSubplot object at 0x000001C474E8A4A8>,\n",
       "        <matplotlib.axes._subplots.AxesSubplot object at 0x000001C474F8ACC0>,\n",
       "        <matplotlib.axes._subplots.AxesSubplot object at 0x000001C474FF9208>],\n",
       "       [<matplotlib.axes._subplots.AxesSubplot object at 0x000001C47504E908>,\n",
       "        <matplotlib.axes._subplots.AxesSubplot object at 0x000001C4750B4C18>,\n",
       "        <matplotlib.axes._subplots.AxesSubplot object at 0x000001C4750B4C50>],\n",
       "       [<matplotlib.axes._subplots.AxesSubplot object at 0x000001C47517B7B8>,\n",
       "        <matplotlib.axes._subplots.AxesSubplot object at 0x000001C4751D75C0>,\n",
       "        <matplotlib.axes._subplots.AxesSubplot object at 0x000001C47523F710>]], dtype=object)"
      ]
     },
     "execution_count": 67,
     "metadata": {},
     "output_type": "execute_result"
    },
    {
     "data": {
      "image/png": "[encoded data removed]",
      "text/plain": [
       "<matplotlib.figure.Figure at 0x1c474ed3470>"
      ]
     },
     "metadata": {},
     "output_type": "display_data"
    }
   ],
   "source": [
    "#l'équivalent de pairs de R - scatterplot des variables pris deux à deux\n",
    "#cela n'a d'intérêt que pour les variables quantitatives bien évidemment\n",
    "pandas.tools.plotting.scatter_matrix(df.select_dtypes(exclude=['object']))"
   ]
  },
  {
   "cell_type": "markdown",
   "metadata": {},
   "source": [
    "## Conclusion\n",
    "\n",
    "Les possibilités de Pandas sont vraiment immenses. Je comprends le succès de la librairie. Des ouvrages entiers lui sont consacrés. Le plus difficile finalement est d'explorer la documentation qui est particulière fournie, au point que l'on peut s'y perdre un peu parfois."
   ]
  },
  {
   "cell_type": "code",
   "execution_count": null,
   "metadata": {
    "collapsed": true
   },
   "outputs": [],
   "source": []
  }
 ],
 "metadata": {
  "kernelspec": {
   "display_name": "Python 3",
   "language": "python",
   "name": "python3"
  },
  "language_info": {
   "codemirror_mode": {
    "name": "ipython",
    "version": 3
   },
   "file_extension": ".py",
   "mimetype": "text/x-python",
   "name": "python",
   "nbconvert_exporter": "python",
   "pygments_lexer": "ipython3",
   "version": "3.7.1"
  },
  "toc": {
   "base_numbering": 1,
   "nav_menu": {},
   "number_sections": true,
   "sideBar": true,
   "skip_h1_title": false,
   "title_cell": "Table of Contents",
   "title_sidebar": "Contents",
   "toc_cell": false,
   "toc_position": {},
   "toc_section_display": true,
   "toc_window_display": false
  },
  "varInspector": {
   "cols": {
    "lenName": 16,
    "lenType": 16,
    "lenVar": 40
   },
   "kernels_config": {
    "python": {
     "delete_cmd_postfix": "",
     "delete_cmd_prefix": "del ",
     "library": "var_list.py",
     "varRefreshCmd": "print(var_dic_list())"
    },
    "r": {
     "delete_cmd_postfix": ") ",
     "delete_cmd_prefix": "rm(",
     "library": "var_list.r",
     "varRefreshCmd": "cat(var_dic_list()) "
    }
   },
   "types_to_exclude": [
    "module",
    "function",
    "builtin_function_or_method",
    "instance",
    "_Feature"
   ],
   "window_display": false
  }
 },
 "nbformat": 4,
 "nbformat_minor": 2
}

{
 "cells": [
  {
   "cell_type": "markdown",
   "metadata": {
    "deletable": false,
    "editable": false
   },
   "source": [
    "<br>\n",
    "<div align=\"right\">Enseignant : Aric Wizenberg</div>\n",
    "<div align=\"right\">E-mail : icarwiz@yahoo.fr</div>\n",
    "<div align=\"right\">Année : 2018/2019</div><br><br><br>\n",
    "<div align=\"center\"><span style=\"font-family:Lucida Caligraphy;font-size:32px;color:darkgreen\">Master 2 MASERATI - Cours de Python</span></div><br><br>\n",
    "<div align=\"center\"><span style=\"font-family:Lucida Caligraphy;font-size:24px;color:#e60000\">Exercices du chapitre 2</span></div><br><br>\n",
    "<hr>"
   ]
  },
  {
   "cell_type": "markdown",
   "metadata": {
    "deletable": false,
    "editable": false
   },
   "source": [
    "# Instructions\n",
    "\n",
    "- Lire attentivement l'ensemble des instructions des exercices\n",
    "- Avant d'envoyer ce devoir, assurez-vous que tout fonctionne comme prévu :\n",
    "    - **Redémarrez d'abord le noyau** (dans la barre de menus, sélectionnez Kernel$\\rightarrow$Restart) \n",
    "    - puis **exécutez toutes les cellules** (dans la barre de menus, sélectionnez Cell$\\rightarrow$Run All)\n",
    "- N'oubliez pas de taper vos réponses à tout endroit portant la mention :\n",
    "    - `# Ecrivez votre code ci-dessous` lorsqu'une réponse en code Python est attendue, \n",
    "    - \"# Ecrivez votre réponse ci-dessous\" lorsqu'une réponse en français est attendue, \n",
    "- Vous verrez que lorsque dans une cellule de code, la définition d'un objet est attendue:\n",
    "    - S'il s'agit d'une variable, il sera écrit en début de cellule `nom_de_variable = None`, dans ce cas, il faudra que votre code définisse cette variable (en utilisant une ou plusieurs lignes de code)\n",
    "    - S'il s'agit d'une fonction, il sera écrit en début de cellule `def nom_de_fonction(): pass`, dans ce cas, il faudra que votre code définisse cette fonction (en utilisant plusieurs lignes de code)\n",
    "    - S'il s'agit d'une fonction, il sera écrit en début de cellule `class NomDeClasse: pass`, dans ce cas, il faudra que votre code définisse cette classe (en utilisant plusieurs lignes de code)\n",
    "- Sauf lorsque c'est clairement spécifié, vous n'avez pas le droit d'utiliser de modules dans ce devoir\n",
    "- Indiquez votre nom ci-dessous :"
   ]
  },
  {
   "cell_type": "code",
   "execution_count": null,
   "metadata": {},
   "outputs": [],
   "source": [
    "mon_nom = ''"
   ]
  },
  {
   "cell_type": "markdown",
   "metadata": {
    "deletable": false,
    "editable": false
   },
   "source": [
    "---"
   ]
  },
  {
   "cell_type": "markdown",
   "metadata": {
    "deletable": false,
    "editable": false,
    "nbgrader": {
     "checksum": "956bb8d4bf0d251904121ef66e19f3c8",
     "grade": false,
     "grade_id": "cell-c8ec92fbb4051590",
     "locked": true,
     "schema_version": 1,
     "solution": false
    }
   },
   "source": [
    "# Formats de données récursifs : arbres et réseaux\n",
    "\n",
    "## Exercice"
   ]
  },
  {
   "cell_type": "markdown",
   "metadata": {
    "deletable": false,
    "editable": false,
    "nbgrader": {
     "checksum": "488ff81a83ada93d236a37edc3294c38",
     "grade": false,
     "grade_id": "cell-91928388a9c19a51",
     "locked": true,
     "schema_version": 1,
     "solution": false
    }
   },
   "source": [
    "Soit les constantes suivantes :"
   ]
  },
  {
   "cell_type": "code",
   "execution_count": null,
   "metadata": {
    "deletable": false,
    "editable": false,
    "nbgrader": {
     "checksum": "dc691c5a32c5a7d64b790c2c50ca4a2f",
     "grade": false,
     "grade_id": "cell-44f0e27dd2b25b5b",
     "locked": true,
     "schema_version": 1,
     "solution": false
    }
   },
   "outputs": [],
   "source": [
    "CHEMIN_FICHIER = '../../../PyParis_XII_M1/cours/B.2.2.1_Nombres.ipynb'\n",
    "SEPARATEUR_DE_CELLULES = '\\n\\n###\\n\\n'"
   ]
  },
  {
   "cell_type": "markdown",
   "metadata": {
    "deletable": false,
    "editable": false,
    "nbgrader": {
     "checksum": "df945c2cb5dfd8f58056c60e7dc4a8fe",
     "grade": false,
     "grade_id": "cell-dde79df64e0cdcbb",
     "locked": true,
     "schema_version": 1,
     "solution": false
    }
   },
   "source": [
    "### Question\n",
    "Charger le contenu du fichier **B.2.2.1_Nombres.ipynb** dont la localisation est contenue dans **CHEMIN_FICHIER** dans la variable **json_obj**, en utilisant le module **json**"
   ]
  },
  {
   "cell_type": "code",
   "execution_count": null,
   "metadata": {
    "deletable": false,
    "nbgrader": {
     "checksum": "03b8fdf5d5e1a29213711bea70b03102",
     "grade": false,
     "grade_id": "cell-10fefe2757582032",
     "locked": false,
     "schema_version": 1,
     "solution": true
    }
   },
   "outputs": [],
   "source": [
    "json_obj = None\n",
    "# Ecrivez votre code ci-dessous"
   ]
  },
  {
   "cell_type": "code",
   "execution_count": null,
   "metadata": {
    "deletable": false,
    "editable": false,
    "nbgrader": {
     "checksum": "a16ef890b7a344464f847383b670ecfb",
     "grade": true,
     "grade_id": "cell-a6ed0588ea6d4b5d",
     "locked": true,
     "points": 1,
     "schema_version": 1,
     "solution": false
    }
   },
   "outputs": [],
   "source": [
    "assert 'nbformat' in json_obj.keys(), 'Le contenu n\\'a pas été bien chargé'\n",
    "json_obj.keys()"
   ]
  },
  {
   "cell_type": "markdown",
   "metadata": {
    "deletable": false,
    "editable": false,
    "nbgrader": {
     "checksum": "50729fb2b645a981de416d672c93b565",
     "grade": false,
     "grade_id": "cell-179b3313e400908b",
     "locked": true,
     "schema_version": 1,
     "solution": false
    }
   },
   "source": [
    "### Question\n",
    "Quel est le contenu de la première cellule ?"
   ]
  },
  {
   "cell_type": "code",
   "execution_count": null,
   "metadata": {
    "deletable": false,
    "nbgrader": {
     "checksum": "88ecfd94609c2276ba689e3a99cc3161",
     "grade": false,
     "grade_id": "cell-51c6b84b0a1c493b",
     "locked": false,
     "schema_version": 1,
     "solution": true
    }
   },
   "outputs": [],
   "source": [
    "reponse = None\n",
    "# Ecrivez votre code ci-dessous"
   ]
  },
  {
   "cell_type": "code",
   "execution_count": null,
   "metadata": {
    "deletable": false,
    "editable": false,
    "nbgrader": {
     "checksum": "c580c698a47c0459ac67c94425863e08",
     "grade": true,
     "grade_id": "cell-1ead3cfb147b65cd",
     "locked": true,
     "points": 1,
     "schema_version": 1,
     "solution": false
    }
   },
   "outputs": [],
   "source": [
    "assert reponse['cell_type'] == 'markdown'\n",
    "reponse['cell_type']"
   ]
  },
  {
   "cell_type": "code",
   "execution_count": null,
   "metadata": {
    "deletable": false,
    "editable": false,
    "nbgrader": {
     "checksum": "ee08ca6884c492bc700e654ab85f3b5c",
     "grade": false,
     "grade_id": "cell-f5d5485fc015a70f",
     "locked": true,
     "schema_version": 1,
     "solution": false
    }
   },
   "outputs": [],
   "source": [
    "reponse['source']"
   ]
  },
  {
   "cell_type": "markdown",
   "metadata": {
    "deletable": false,
    "editable": false,
    "nbgrader": {
     "checksum": "ab5d3ec5e1e05c8045bbc2448f587413",
     "grade": false,
     "grade_id": "cell-f2317759101e5a8e",
     "locked": true,
     "schema_version": 1,
     "solution": false
    }
   },
   "source": [
    "### Question\n",
    "Créer une fonction **formattage_contenu** qui transforme un contenu du type de celui affiché comme résultat de la cellule précédente en une chaine unique de caractères. \n",
    "\n",
    "Cette chaine de caractères doit avoir pour derniers caractères la séquence contenue dans **SEPARATEUR_DE_CELLULES**."
   ]
  },
  {
   "cell_type": "code",
   "execution_count": null,
   "metadata": {
    "deletable": false,
    "nbgrader": {
     "checksum": "b76c76110f6604350a9f0828d77b627b",
     "grade": false,
     "grade_id": "cell-21625a426866580c",
     "locked": false,
     "schema_version": 1,
     "solution": true
    }
   },
   "outputs": [],
   "source": [
    "def formattage_contenu():\n",
    "    pass\n",
    "# Ecrivez votre code ci-dessous"
   ]
  },
  {
   "cell_type": "code",
   "execution_count": null,
   "metadata": {
    "deletable": false,
    "editable": false,
    "nbgrader": {
     "checksum": "536cc8fa949d281bbfd9132fe5bc9777",
     "grade": true,
     "grade_id": "cell-68ad08cca918cba6",
     "locked": true,
     "points": 1,
     "schema_version": 1,
     "solution": false
    }
   },
   "outputs": [],
   "source": [
    "assert type(formattage_contenu(reponse['source'])) is str\n",
    "assert formattage_contenu(reponse['source'])[-7:] == SEPARATEUR_DE_CELLULES\n",
    "assert len(formattage_contenu(reponse['source'])) == 483\n",
    "\n",
    "formattage_contenu(reponse['source'])"
   ]
  },
  {
   "cell_type": "markdown",
   "metadata": {
    "deletable": false,
    "editable": false,
    "nbgrader": {
     "checksum": "f8e622b01bb865d032636a293bc02e7b",
     "grade": false,
     "grade_id": "cell-1ceb46076d2e31ac",
     "locked": true,
     "schema_version": 1,
     "solution": false
    }
   },
   "source": [
    "### Question\n",
    "Utiliser une boucle pour définir deux listes **parties_de_code** et **parties_de_contenu**, à partir de la liste des cellules du Notebook contenue dans **json_obj**.\n",
    "\n",
    "La première remplie avec les contenus de type **code** transformés grâce à la fonction **formattage_contenu**.\n",
    "\n",
    "La seconde remplie avec les contenus de type **markdown** transformés grâce à la fonction **formattage_contenu**.\n",
    "\n",
    "Le type d'une cellule est contenu dans l'entrée **cell_type**."
   ]
  },
  {
   "cell_type": "code",
   "execution_count": null,
   "metadata": {
    "deletable": false,
    "nbgrader": {
     "checksum": "8d8b5187205c0e35151bc787b45ef22d",
     "grade": false,
     "grade_id": "cell-432ebbcc370595f6",
     "locked": false,
     "schema_version": 1,
     "solution": true
    }
   },
   "outputs": [],
   "source": [
    "parties_de_code = None\n",
    "parties_de_contenu = None\n",
    "\n",
    "# Ecrivez votre code ci-dessous"
   ]
  },
  {
   "cell_type": "code",
   "execution_count": null,
   "metadata": {
    "deletable": false,
    "editable": false,
    "nbgrader": {
     "checksum": "6cae2628e466c019a532e53b2e981e92",
     "grade": true,
     "grade_id": "cell-47cf6647eb9e3347",
     "locked": true,
     "points": 1,
     "schema_version": 1,
     "solution": false
    }
   },
   "outputs": [],
   "source": [
    "assert len(parties_de_code) == 21\n",
    "assert len(parties_de_contenu) == 37\n",
    "assert type(parties_de_code[0]) is str\n",
    "assert type(parties_de_contenu[0]) is str\n",
    "assert formattage_contenu(parties_de_code[0])[-7:] == SEPARATEUR_DE_CELLULES\n",
    "assert formattage_contenu(parties_de_contenu[0])[-7:] == SEPARATEUR_DE_CELLULES\n",
    "\n",
    "parties_de_code[0]"
   ]
  },
  {
   "cell_type": "markdown",
   "metadata": {
    "deletable": false,
    "editable": false,
    "nbgrader": {
     "checksum": "919eec3512682c6cbe8aef51ae45b470",
     "grade": false,
     "grade_id": "cell-0bb0cb0ecb4f1dcf",
     "locked": true,
     "schema_version": 1,
     "solution": false
    }
   },
   "source": [
    "### Question\n",
    "\n",
    "Ecrire dans le fichier **resultat.py** le contenu de parties_de_code\n",
    "\n",
    "Ecrire dans le fichier **resultat.txt** le contenu de parties_de_contenu"
   ]
  },
  {
   "cell_type": "code",
   "execution_count": null,
   "metadata": {
    "deletable": false,
    "nbgrader": {
     "checksum": "a5af669a15ad839bacac4e8b97e61479",
     "grade": false,
     "grade_id": "cell-275e76356206a47b",
     "locked": false,
     "schema_version": 1,
     "solution": true
    }
   },
   "outputs": [],
   "source": [
    "# Ecrivez votre code ci-dessous"
   ]
  },
  {
   "cell_type": "code",
   "execution_count": null,
   "metadata": {
    "deletable": false,
    "editable": false,
    "nbgrader": {
     "checksum": "05dbdd0c32032e7ec44585085c470089",
     "grade": true,
     "grade_id": "cell-2408baf2962a5aba",
     "locked": true,
     "points": 1,
     "schema_version": 1,
     "solution": false
    }
   },
   "outputs": [],
   "source": [
    "import os\n",
    "assert os.path.getsize('resultat.py') == 479\n",
    "assert os.path.getsize('resultat.txt') == 6975"
   ]
  },
  {
   "cell_type": "markdown",
   "metadata": {
    "deletable": false,
    "editable": false,
    "nbgrader": {
     "checksum": "57ed3eb70a6227b59a6efb95c4bee613",
     "grade": false,
     "grade_id": "cell-3b7f05c0fa93544b",
     "locked": true,
     "schema_version": 1,
     "solution": false
    }
   },
   "source": [
    "# Formats de données itératifs : tables de données\n",
    "\n",
    "## Exercice\n",
    "\n",
    "### Intitalisation \n",
    "\n",
    "#### Question\n",
    "\n",
    "Charger les bibliothèques nécessaires pour lire des tables de données (**numpy** et **pandas**)  et afficher des graphiques (**pyplot** et **seaborn**) en utilisant leurs alias usuels"
   ]
  },
  {
   "cell_type": "code",
   "execution_count": null,
   "metadata": {
    "_cell_guid": "548437f4-7dcb-60a4-0a79-74d9594b071b",
    "deletable": false,
    "nbgrader": {
     "checksum": "36f7fc29fde982a99edc18b4e799a044",
     "grade": false,
     "grade_id": "cell-2373cce6fe819907",
     "locked": false,
     "schema_version": 1,
     "solution": true
    }
   },
   "outputs": [],
   "source": [
    "# Ecrivez votre code ci-dessous"
   ]
  },
  {
   "cell_type": "markdown",
   "metadata": {
    "ExecuteTime": {
     "end_time": "2018-12-01T13:42:42.547200Z",
     "start_time": "2018-12-01T13:42:42.535200Z"
    },
    "deletable": false,
    "editable": false,
    "nbgrader": {
     "checksum": "ff0482cec4696331f65db096c1199d2d",
     "grade": false,
     "grade_id": "cell-c10d9aba22539e3e",
     "locked": true,
     "schema_version": 1,
     "solution": false
    }
   },
   "source": [
    "On vérifie que tout a bien été chargé :"
   ]
  },
  {
   "cell_type": "code",
   "execution_count": null,
   "metadata": {
    "deletable": false,
    "editable": false,
    "nbgrader": {
     "checksum": "bf3eb96017d2b2706113d0b274873d8e",
     "grade": true,
     "grade_id": "cell-e0ae98daa2b6e791",
     "locked": true,
     "points": 1,
     "schema_version": 1,
     "solution": false
    }
   },
   "outputs": [],
   "source": [
    "print(np.__name__)\n",
    "print(pd.__name__)\n",
    "print(plt.__name__)\n",
    "print(sns.__name__)"
   ]
  },
  {
   "cell_type": "markdown",
   "metadata": {},
   "source": [
    "Mettez le format d'affichage graphique sur **inline**, et définissez la taille de figure par défaut sur **(12, 9)**."
   ]
  },
  {
   "cell_type": "code",
   "execution_count": null,
   "metadata": {
    "deletable": false,
    "nbgrader": {
     "checksum": "0124cd719e8585ad9f91a595bdd1d16c",
     "grade": false,
     "grade_id": "cell-21709098cdefa1e6",
     "locked": false,
     "schema_version": 1,
     "solution": true
    }
   },
   "outputs": [],
   "source": [
    "# Ecrivez votre code ci-dessous"
   ]
  },
  {
   "cell_type": "code",
   "execution_count": null,
   "metadata": {
    "deletable": false,
    "editable": false,
    "nbgrader": {
     "checksum": "b92f17c83a6cb4ceba5d39e40b389799",
     "grade": true,
     "grade_id": "cell-fc52750ee1da50ca",
     "locked": true,
     "points": 1,
     "schema_version": 1,
     "solution": false
    }
   },
   "outputs": [],
   "source": [
    "# Cellule vide"
   ]
  },
  {
   "cell_type": "markdown",
   "metadata": {
    "deletable": false,
    "editable": false,
    "nbgrader": {
     "checksum": "8ceeee4a8d671ea854e4f26c90a82ff0",
     "grade": false,
     "grade_id": "cell-91030f626f6d95e7",
     "locked": true,
     "schema_version": 1,
     "solution": false
    }
   },
   "source": [
    "#### Question\n",
    "Soit le chemin de fichier suivant :"
   ]
  },
  {
   "cell_type": "code",
   "execution_count": null,
   "metadata": {
    "deletable": false,
    "editable": false,
    "nbgrader": {
     "checksum": "f7ef6332aa914a212eedb86c7a26aa9c",
     "grade": false,
     "grade_id": "cell-54ba3dbf5b6ee021",
     "locked": true,
     "schema_version": 1,
     "solution": false
    }
   },
   "outputs": [],
   "source": [
    "CHEMIN_DESC = '../../../PyParis_XII_M1/data/bike_share.txt'"
   ]
  },
  {
   "cell_type": "markdown",
   "metadata": {
    "deletable": false,
    "editable": false,
    "nbgrader": {
     "checksum": "d1827e5ae4a6fa210b6e70058817aa49",
     "grade": false,
     "grade_id": "cell-6fe203fdf3d9bbc0",
     "locked": true,
     "schema_version": 1,
     "solution": false
    }
   },
   "source": [
    "Charger le texte contenu dans le fichier **bike_share.txt** dans la variable **metadonnees**"
   ]
  },
  {
   "cell_type": "code",
   "execution_count": null,
   "metadata": {
    "deletable": false,
    "nbgrader": {
     "checksum": "bb7998115b3b783e9c90e9f015ff1040",
     "grade": false,
     "grade_id": "cell-cc784900e7a87597",
     "locked": false,
     "schema_version": 1,
     "solution": true
    }
   },
   "outputs": [],
   "source": [
    "metadonnees = None\n",
    "# Ecrivez votre code ci-dessous"
   ]
  },
  {
   "cell_type": "code",
   "execution_count": null,
   "metadata": {
    "deletable": false,
    "editable": false,
    "nbgrader": {
     "checksum": "a05df64ef3ac81502047c24c5941f45c",
     "grade": true,
     "grade_id": "cell-454b06c335bfff06",
     "locked": true,
     "points": 1,
     "schema_version": 1,
     "solution": false
    }
   },
   "outputs": [],
   "source": [
    "assert len(metadonnees) == 664, 'Le fichier n\\'a pas été bien chargé'\n",
    "assert 'é' in metadonnees, 'Problème d\\'encodage... Il fallait charger le fichier en utf-8'\n",
    "print(metadonnees)"
   ]
  },
  {
   "cell_type": "markdown",
   "metadata": {
    "_cell_guid": "ec94edf8-890a-0ba2-decc-914582ac316d",
    "deletable": false,
    "editable": false,
    "nbgrader": {
     "checksum": "7204de26e688af8fa93cc4026b54177a",
     "grade": false,
     "grade_id": "cell-5c16a6da3e952ee5",
     "locked": true,
     "schema_version": 1,
     "solution": false
    }
   },
   "source": [
    "#### Question\n",
    "\n",
    "Soit le chemin de fichier suivant :"
   ]
  },
  {
   "cell_type": "code",
   "execution_count": null,
   "metadata": {},
   "outputs": [],
   "source": [
    "CHEMIN_DATA = '../../../PyParis_XII_M1/data/bike_share.csv'"
   ]
  },
  {
   "cell_type": "markdown",
   "metadata": {},
   "source": [
    "Lire le contenu du fichier **bike_share.csv** et le mettre dans une variable **df_bike**"
   ]
  },
  {
   "cell_type": "code",
   "execution_count": null,
   "metadata": {
    "_cell_guid": "057b1690-5b93-9f14-eafe-fad12c00da69",
    "deletable": false,
    "nbgrader": {
     "checksum": "62a4250d9ca3eb875b56d1d2b31c2cf8",
     "grade": false,
     "grade_id": "cell-ef93d338fa6a2a52",
     "locked": false,
     "schema_version": 1,
     "solution": true
    }
   },
   "outputs": [],
   "source": [
    "df_bike = None\n",
    "# Ecrivez votre code ci-dessous"
   ]
  },
  {
   "cell_type": "code",
   "execution_count": null,
   "metadata": {
    "deletable": false,
    "editable": false,
    "nbgrader": {
     "checksum": "8a71b56c5c0965f91a271aaa6a09fbc4",
     "grade": true,
     "grade_id": "cell-f325921be49453d6",
     "locked": true,
     "points": 1,
     "schema_version": 1,
     "solution": false
    }
   },
   "outputs": [],
   "source": [
    "df_bike"
   ]
  },
  {
   "cell_type": "markdown",
   "metadata": {},
   "source": [
    "### Première analyse"
   ]
  },
  {
   "cell_type": "markdown",
   "metadata": {
    "_cell_guid": "579ef8b7-02ad-7087-f27e-cc817f58f90a",
    "deletable": false,
    "editable": false,
    "nbgrader": {
     "checksum": "a0089a83060364a7a9f5536dec1a51ff",
     "grade": false,
     "grade_id": "cell-59077d8ea5a1337c",
     "locked": true,
     "schema_version": 1,
     "solution": false
    }
   },
   "source": [
    "#### Question\n",
    "\n",
    "Quel est le nombre de ligne de cette table (ne pas écrire directement ce nombre bien sûr)."
   ]
  },
  {
   "cell_type": "code",
   "execution_count": null,
   "metadata": {
    "_cell_guid": "4b5eee60-635b-e053-97cd-62f3e9e8acac",
    "deletable": false,
    "nbgrader": {
     "checksum": "643a9405fa21b7affcafa1445156f6c8",
     "grade": false,
     "grade_id": "cell-50f18d52e005977b",
     "locked": false,
     "schema_version": 1,
     "solution": true
    }
   },
   "outputs": [],
   "source": [
    "reponse = None\n",
    "# Ecrivez votre code ci-dessous"
   ]
  },
  {
   "cell_type": "code",
   "execution_count": null,
   "metadata": {
    "deletable": false,
    "editable": false,
    "nbgrader": {
     "checksum": "a16e4425e0b13c1c485a8aa158dad5b4",
     "grade": true,
     "grade_id": "cell-7d5c79a7a23554e9",
     "locked": true,
     "points": 1,
     "schema_version": 1,
     "solution": false
    }
   },
   "outputs": [],
   "source": [
    "reponse"
   ]
  },
  {
   "cell_type": "markdown",
   "metadata": {
    "_cell_guid": "d390d70a-24ba-1e0a-33af-f4bf58862f93",
    "deletable": false,
    "editable": false,
    "nbgrader": {
     "checksum": "45288b510c6d1a1f0e15bdc326fe03c2",
     "grade": false,
     "grade_id": "cell-26a4fed200740abf",
     "locked": true,
     "schema_version": 1,
     "solution": false
    }
   },
   "source": [
    "#### Question\n",
    "\n",
    "Afficher les 5 dernières lignes du DataFrame"
   ]
  },
  {
   "cell_type": "code",
   "execution_count": null,
   "metadata": {
    "_cell_guid": "664d34ff-4580-aeb1-18ea-6dca2b5ae078",
    "deletable": false,
    "nbgrader": {
     "checksum": "4f186ad84e44e2fb40d759185cf42e2a",
     "grade": false,
     "grade_id": "cell-7ad3298ed9b48c3e",
     "locked": false,
     "schema_version": 1,
     "solution": true
    }
   },
   "outputs": [],
   "source": [
    "reponse = None\n",
    "# Ecrivez votre code ci-dessous"
   ]
  },
  {
   "cell_type": "code",
   "execution_count": null,
   "metadata": {
    "deletable": false,
    "editable": false,
    "nbgrader": {
     "checksum": "8bb710944df0504f876e4be10c765ab5",
     "grade": true,
     "grade_id": "cell-0781be859de3a935",
     "locked": true,
     "points": 1,
     "schema_version": 1,
     "solution": false
    }
   },
   "outputs": [],
   "source": [
    "reponse"
   ]
  },
  {
   "cell_type": "markdown",
   "metadata": {
    "_cell_guid": "8c553d3a-0363-91e3-49b4-1a74a7b464c9",
    "deletable": false,
    "editable": false,
    "nbgrader": {
     "checksum": "68008f1efb441dae6255d8f3c4c5d20f",
     "grade": false,
     "grade_id": "cell-82bb374e38d7d24c",
     "locked": true,
     "schema_version": 1,
     "solution": false
    }
   },
   "source": [
    "#### Question\n",
    "\n",
    "Afficher les infos principales du DataFrame"
   ]
  },
  {
   "cell_type": "code",
   "execution_count": null,
   "metadata": {
    "_cell_guid": "6ee04436-80f8-ba7c-242e-ec78a9df5fdc",
    "deletable": false,
    "nbgrader": {
     "checksum": "8838c7f66996220c70f69b23fbbb2543",
     "grade": false,
     "grade_id": "cell-089422806af7a452",
     "locked": false,
     "schema_version": 1,
     "solution": true
    }
   },
   "outputs": [],
   "source": [
    "# Ecrivez votre code ci-dessous"
   ]
  },
  {
   "cell_type": "code",
   "execution_count": null,
   "metadata": {
    "deletable": false,
    "editable": false,
    "nbgrader": {
     "checksum": "e8b9796324369264d57f5f9f9e982fa6",
     "grade": true,
     "grade_id": "cell-0907ed200e76de4a",
     "locked": true,
     "points": 1,
     "schema_version": 1,
     "solution": false
    }
   },
   "outputs": [],
   "source": [
    "# Cellule vide"
   ]
  },
  {
   "cell_type": "markdown",
   "metadata": {
    "deletable": false,
    "editable": false,
    "nbgrader": {
     "checksum": "ff0ba5c13da33c0e76d3a6e3c9ac5ea6",
     "grade": false,
     "grade_id": "cell-efa012bd12566c91",
     "locked": true,
     "schema_version": 1,
     "solution": false
    }
   },
   "source": [
    "#### Question\n",
    "Afficher un extrait du DataFrame contenant toutes les lignes où les deux conditions suivantes sont respectées (voir les métadonnées pour trouver les identifiants correspondants) :\n",
    "- le **weather** est de la catégorie : **Pluie ou neige légère** \n",
    "- la **season** est : **Printemps**"
   ]
  },
  {
   "cell_type": "code",
   "execution_count": null,
   "metadata": {
    "deletable": false,
    "nbgrader": {
     "checksum": "a2b4e67bb9974c11f103c547b958c44d",
     "grade": false,
     "grade_id": "cell-d3e2b8ca9e6de6a7",
     "locked": false,
     "schema_version": 1,
     "solution": true
    }
   },
   "outputs": [],
   "source": [
    "reponse = None\n",
    "# Ecrivez votre code ci-dessous"
   ]
  },
  {
   "cell_type": "code",
   "execution_count": null,
   "metadata": {
    "deletable": false,
    "editable": false,
    "nbgrader": {
     "checksum": "fa52ee5ffc1499edc85cace77912b4f5",
     "grade": true,
     "grade_id": "cell-f326eebc69c9e622",
     "locked": true,
     "points": 1,
     "schema_version": 1,
     "solution": false
    }
   },
   "outputs": [],
   "source": [
    "assert reponse.shape == (211, 12)\n",
    "reponse"
   ]
  },
  {
   "cell_type": "markdown",
   "metadata": {
    "deletable": false,
    "editable": false,
    "nbgrader": {
     "checksum": "5389734c8cd404baf956426a02dc26a8",
     "grade": false,
     "grade_id": "cell-c46eb13acba8b45b",
     "locked": true,
     "schema_version": 1,
     "solution": false
    }
   },
   "source": [
    "### Traitement des dates"
   ]
  },
  {
   "cell_type": "markdown",
   "metadata": {
    "deletable": false,
    "editable": false,
    "nbgrader": {
     "checksum": "ee7016db8f4082ca5f435df828cc6816",
     "grade": false,
     "grade_id": "cell-7ef5faa51cfd2fac",
     "locked": true,
     "schema_version": 1,
     "solution": false
    }
   },
   "source": [
    "#### Question\n",
    "\n",
    "Créer une nouvelles série **date** dans **df_bike** qui contient la date dans un format compréhensible par Python (Timestamp/datetime)"
   ]
  },
  {
   "cell_type": "code",
   "execution_count": null,
   "metadata": {
    "deletable": false,
    "nbgrader": {
     "checksum": "13b536c837342b9508e8c0aeb582181f",
     "grade": false,
     "grade_id": "cell-4ee21ac9ead4635f",
     "locked": false,
     "schema_version": 1,
     "solution": true
    }
   },
   "outputs": [],
   "source": [
    "# Ecrivez votre code ci-dessous"
   ]
  },
  {
   "cell_type": "code",
   "execution_count": null,
   "metadata": {
    "deletable": false,
    "editable": false,
    "nbgrader": {
     "checksum": "431f407a6b3000489270f2fc3ab458c4",
     "grade": true,
     "grade_id": "cell-0383e3c930a85611",
     "locked": true,
     "points": 1,
     "schema_version": 1,
     "solution": false
    }
   },
   "outputs": [],
   "source": [
    "assert str(df_bike['date'].dtype) == 'datetime64[ns]'\n",
    "df_bike['date'].sample(5)"
   ]
  },
  {
   "cell_type": "markdown",
   "metadata": {
    "deletable": false,
    "editable": false,
    "nbgrader": {
     "checksum": "af776ba7f5355c3264fb5e3cfbaa62e9",
     "grade": false,
     "grade_id": "cell-1dc247b1273c1e3b",
     "locked": true,
     "schema_version": 1,
     "solution": false
    }
   },
   "source": [
    "#### Question\n",
    "Créer une nouvelles série **heure** dans **df_bike** qui ne contient que l'heure en nombre entier (pas les minutes, juste l'heure, par exemple pour 16h15, on aurait juste 16), créez pour cela une fonction au préalable"
   ]
  },
  {
   "cell_type": "code",
   "execution_count": null,
   "metadata": {
    "deletable": false,
    "nbgrader": {
     "checksum": "d2787f8d033a0be85188ff228581de27",
     "grade": false,
     "grade_id": "cell-2f211745f6e5d42d",
     "locked": false,
     "schema_version": 1,
     "solution": true
    }
   },
   "outputs": [],
   "source": [
    "def extraire_heure():\n",
    "    pass\n",
    "\n",
    "# Ecrivez votre code ci-dessous"
   ]
  },
  {
   "cell_type": "code",
   "execution_count": null,
   "metadata": {
    "deletable": false,
    "editable": false,
    "nbgrader": {
     "checksum": "42a9f329fce6d75ef510431adaa9734d",
     "grade": true,
     "grade_id": "cell-6976f7e4a2baedec",
     "locked": true,
     "points": 1,
     "schema_version": 1,
     "solution": false
    }
   },
   "outputs": [],
   "source": [
    "assert extraire_heure('2011-10-07 23:00:00') == 23\n",
    "df_bike['heure'].sample(5)"
   ]
  },
  {
   "cell_type": "markdown",
   "metadata": {
    "deletable": false,
    "editable": false,
    "nbgrader": {
     "checksum": "06d7fd8deecce0ecd6b2fd9264ca3552",
     "grade": false,
     "grade_id": "cell-45b4a27ce103621d",
     "locked": true,
     "schema_version": 1,
     "solution": false
    }
   },
   "source": [
    "#### Question\n",
    "\n",
    "Créer un dictionnaire associant à un identifiant numérique le nom des différentes saisons\n",
    "\n",
    "Faites de même pour les conditions météo\n",
    "\n",
    "Aidez-vous pour cela des listes définies ci-dessous"
   ]
  },
  {
   "cell_type": "code",
   "execution_count": null,
   "metadata": {
    "deletable": false,
    "editable": false,
    "nbgrader": {
     "checksum": "15474ca320fd5960d7015c39430f27f9",
     "grade": false,
     "grade_id": "cell-4235f12d6ef231db",
     "locked": true,
     "schema_version": 1,
     "solution": false
    }
   },
   "outputs": [],
   "source": [
    "LISTE_SAISONS = ['Printemps', 'Eté', 'Automne', 'Hiver']\n",
    "LISTE_CONDITIONS = ['Temps clair ou un peu couvert', 'Nuageux', 'Pluie ou neige légère', 'Grosse pluies ou neige']"
   ]
  },
  {
   "cell_type": "code",
   "execution_count": null,
   "metadata": {
    "deletable": false,
    "nbgrader": {
     "checksum": "ae24ece1e57b0924fac43637054a695d",
     "grade": false,
     "grade_id": "cell-faf7497d5e9479b6",
     "locked": false,
     "schema_version": 1,
     "solution": true
    }
   },
   "outputs": [],
   "source": [
    "dict_saisons = None\n",
    "dict_meteo = None\n",
    "# Ecrivez votre code ci-dessous"
   ]
  },
  {
   "cell_type": "code",
   "execution_count": null,
   "metadata": {
    "deletable": false,
    "editable": false,
    "nbgrader": {
     "checksum": "1c39b8a4e0c6b873bad9ac281f446414",
     "grade": true,
     "grade_id": "cell-71ff09f876dbfc99",
     "locked": true,
     "points": 1,
     "schema_version": 1,
     "solution": false
    }
   },
   "outputs": [],
   "source": [
    "assert dict_saisons[3] == 'Automne'\n",
    "assert dict_meteo[2] == 'Nuageux'"
   ]
  },
  {
   "cell_type": "markdown",
   "metadata": {
    "deletable": false,
    "editable": false,
    "nbgrader": {
     "checksum": "302370be584ca5ce623bc66115c4d474",
     "grade": false,
     "grade_id": "cell-cea74f10fbb921ba",
     "locked": true,
     "schema_version": 1,
     "solution": false
    }
   },
   "source": [
    "#### Question\n",
    "\n",
    "Modifier les séries **season** et **weather** en utilisant les dictionnaires précédemment crées afin que ce soient leurs noms qui soient contenus dans ces séries, à la place de l'identifiant numérique"
   ]
  },
  {
   "cell_type": "code",
   "execution_count": null,
   "metadata": {
    "deletable": false,
    "nbgrader": {
     "checksum": "5664d4229b7a154df581a0dada8a976c",
     "grade": false,
     "grade_id": "cell-2c70beb84839550e",
     "locked": false,
     "schema_version": 1,
     "solution": true
    }
   },
   "outputs": [],
   "source": [
    "# Ecrivez votre code ci-dessous"
   ]
  },
  {
   "cell_type": "code",
   "execution_count": null,
   "metadata": {
    "deletable": false,
    "editable": false,
    "nbgrader": {
     "checksum": "fef5ab242e1b3e01de8ea10ce39d34d4",
     "grade": true,
     "grade_id": "cell-afe419db5d2559a9",
     "locked": true,
     "points": 1,
     "schema_version": 1,
     "solution": false
    }
   },
   "outputs": [],
   "source": [
    "print(df_bike['season'].sample(5))\n",
    "print()\n",
    "print(df_bike['weather'].sample(5))"
   ]
  },
  {
   "cell_type": "markdown",
   "metadata": {
    "deletable": false,
    "editable": false,
    "nbgrader": {
     "checksum": "933262e9336fa6be537d8327aa43506b",
     "grade": false,
     "grade_id": "cell-9711983d68d91154",
     "locked": true,
     "schema_version": 1,
     "solution": false
    }
   },
   "source": [
    "#### Question\n",
    "\n",
    "Créer une nouvelle série **mois** dans **df_bike** en utilisant une méthode adaptée de l'opérateur Series.dt appliquée à la séries **date**"
   ]
  },
  {
   "cell_type": "code",
   "execution_count": null,
   "metadata": {
    "_cell_guid": "18f7c3fc-ffdf-4bc6-1d4c-c455fb4e0141",
    "deletable": false,
    "nbgrader": {
     "checksum": "7f4c9b37973b5135a861a05d033a80b7",
     "grade": false,
     "grade_id": "cell-1bd8e3d774203769",
     "locked": false,
     "schema_version": 1,
     "solution": true
    }
   },
   "outputs": [],
   "source": [
    "# Ecrivez votre code ci-dessous"
   ]
  },
  {
   "cell_type": "code",
   "execution_count": null,
   "metadata": {
    "deletable": false,
    "editable": false,
    "nbgrader": {
     "checksum": "076b6299960afb373deb14f4f9c93ed4",
     "grade": true,
     "grade_id": "cell-54f12f13b96dc9b1",
     "locked": true,
     "points": 1,
     "schema_version": 1,
     "solution": false
    }
   },
   "outputs": [],
   "source": [
    "df_bike[['date', 'mois']].sample(5)"
   ]
  },
  {
   "cell_type": "markdown",
   "metadata": {
    "deletable": false,
    "editable": false,
    "nbgrader": {
     "checksum": "659b66ccd0144b393953b2152fd26e18",
     "grade": false,
     "grade_id": "cell-9bef5330bfddc109",
     "locked": true,
     "schema_version": 1,
     "solution": false
    }
   },
   "source": [
    "#### Question\n",
    "\n",
    "Charger le fichier 'mois_annee.csv' dans un nouveau DataFrame **df_mois**"
   ]
  },
  {
   "cell_type": "code",
   "execution_count": null,
   "metadata": {},
   "outputs": [],
   "source": [
    "CHEMIN_MOIS_AN = '../../../PyParis_XII_M1/data/mois_annee.csv'"
   ]
  },
  {
   "cell_type": "code",
   "execution_count": null,
   "metadata": {
    "deletable": false,
    "nbgrader": {
     "checksum": "6652f88916fd366435bccf705cdf62d9",
     "grade": false,
     "grade_id": "cell-fc4b9503f9bec0d1",
     "locked": false,
     "schema_version": 1,
     "solution": true
    }
   },
   "outputs": [],
   "source": [
    "df_mois = None\n",
    "# Ecrivez votre code ci-dessous"
   ]
  },
  {
   "cell_type": "code",
   "execution_count": null,
   "metadata": {
    "deletable": false,
    "editable": false,
    "nbgrader": {
     "checksum": "cf5199c173dfbc5ec1dccaa6f8e332b9",
     "grade": true,
     "grade_id": "cell-1cc3604270a59f38",
     "locked": true,
     "points": 1,
     "schema_version": 1,
     "solution": false
    }
   },
   "outputs": [],
   "source": [
    "df_mois"
   ]
  },
  {
   "cell_type": "markdown",
   "metadata": {
    "deletable": false,
    "editable": false,
    "nbgrader": {
     "checksum": "367fd33bf34a0f1f532172e9a3683c01",
     "grade": false,
     "grade_id": "cell-63ec1a3f9f9a1423",
     "locked": true,
     "schema_version": 1,
     "solution": false
    }
   },
   "source": [
    "#### Question\n",
    "\n",
    "Utiliser le Dataframe des mois et une jointure pour ajouter la colonne month au DataFrame"
   ]
  },
  {
   "cell_type": "code",
   "execution_count": null,
   "metadata": {
    "deletable": false,
    "nbgrader": {
     "checksum": "c03e27f7f1306cab80461ce669e0bf9a",
     "grade": false,
     "grade_id": "cell-76fc23037f60f8cd",
     "locked": false,
     "schema_version": 1,
     "solution": true
    }
   },
   "outputs": [],
   "source": [
    "# Ecrivez votre code ci-dessous"
   ]
  },
  {
   "cell_type": "code",
   "execution_count": null,
   "metadata": {
    "deletable": false,
    "editable": false,
    "nbgrader": {
     "checksum": "b53d2420229299344614100ba1e343ca",
     "grade": true,
     "grade_id": "cell-7eb25230e083a167",
     "locked": true,
     "points": 1,
     "schema_version": 1,
     "solution": false
    }
   },
   "outputs": [],
   "source": [
    "df_bike[['date', 'mois', 'month']].sample(5)"
   ]
  },
  {
   "cell_type": "markdown",
   "metadata": {
    "_cell_guid": "a2f8b5fc-cc68-878d-0534-d706f6ff9aa8",
    "deletable": false,
    "editable": false,
    "nbgrader": {
     "checksum": "2a764d43460dc5748aa9000c87691d62",
     "grade": false,
     "grade_id": "cell-e14d7712d1af809c",
     "locked": true,
     "schema_version": 1,
     "solution": false
    }
   },
   "source": [
    "#### Question\n",
    "\n",
    "Supprimer la colonne datetime"
   ]
  },
  {
   "cell_type": "code",
   "execution_count": null,
   "metadata": {
    "_cell_guid": "7ddc906c-be9f-4ec4-44be-d97e3153af3d",
    "deletable": false,
    "nbgrader": {
     "checksum": "16327391c756e2c85b79617077a5cfa5",
     "grade": false,
     "grade_id": "cell-36a0de61a0415855",
     "locked": false,
     "schema_version": 1,
     "solution": true
    }
   },
   "outputs": [],
   "source": [
    "# Ecrivez votre code ci-dessous"
   ]
  },
  {
   "cell_type": "code",
   "execution_count": null,
   "metadata": {
    "deletable": false,
    "editable": false,
    "nbgrader": {
     "checksum": "8eaad5f47fbfa792eb1835c83ac4bf61",
     "grade": true,
     "grade_id": "cell-fe5c35b23735bc8e",
     "locked": true,
     "points": 1,
     "schema_version": 1,
     "solution": false
    }
   },
   "outputs": [],
   "source": [
    "assert 'datetime' not in df_bike.columns"
   ]
  },
  {
   "cell_type": "markdown",
   "metadata": {},
   "source": [
    "### Analyse numérique"
   ]
  },
  {
   "cell_type": "markdown",
   "metadata": {
    "deletable": false,
    "editable": false,
    "nbgrader": {
     "checksum": "4ad2aed966a3297c91d20312a87f3a92",
     "grade": false,
     "grade_id": "cell-a6d2e36f06201959",
     "locked": true,
     "schema_version": 1,
     "solution": false
    }
   },
   "source": [
    "#### Question\n",
    "\n",
    "Calculer la moyenne et l'écart-type de la série et les stocker dans des variables"
   ]
  },
  {
   "cell_type": "code",
   "execution_count": null,
   "metadata": {
    "deletable": false,
    "nbgrader": {
     "checksum": "95110f486f167841398f548f2b3e55a5",
     "grade": false,
     "grade_id": "cell-c40565e800922853",
     "locked": false,
     "schema_version": 1,
     "solution": true
    }
   },
   "outputs": [],
   "source": [
    "moy_count = None\n",
    "ecart_count = None\n",
    "# Ecrivez votre code ci-dessous"
   ]
  },
  {
   "cell_type": "code",
   "execution_count": null,
   "metadata": {
    "deletable": false,
    "editable": false,
    "nbgrader": {
     "checksum": "298ee75c08631ccdf4d25bc9c427f8d7",
     "grade": true,
     "grade_id": "cell-30a42702ff851e6a",
     "locked": true,
     "points": 1,
     "schema_version": 1,
     "solution": false
    }
   },
   "outputs": [],
   "source": [
    "print('moyenne :', moy_count)\n",
    "print('écart-type :', ecart_count)"
   ]
  },
  {
   "cell_type": "markdown",
   "metadata": {
    "deletable": false,
    "editable": false,
    "nbgrader": {
     "checksum": "9228870bbea32d9b7e7786af0f7bbda5",
     "grade": false,
     "grade_id": "cell-966f6e383c9569be",
     "locked": true,
     "schema_version": 1,
     "solution": false
    }
   },
   "source": [
    "#### Question\n",
    "\n",
    "Créer un tableau croisé dynamique ayant en ligne les saisons, et les conditions météos, puis les jours de la semaine et  pour colonnes la moyenne et la somme des **count**"
   ]
  },
  {
   "cell_type": "code",
   "execution_count": null,
   "metadata": {
    "deletable": false,
    "nbgrader": {
     "checksum": "2cd1101368e01925ca6be0476305efd2",
     "grade": false,
     "grade_id": "cell-1c80afe00a07adb9",
     "locked": false,
     "schema_version": 1,
     "solution": true
    }
   },
   "outputs": [],
   "source": [
    "# Ecrivez votre code ci-dessous"
   ]
  },
  {
   "cell_type": "code",
   "execution_count": null,
   "metadata": {
    "deletable": false,
    "editable": false,
    "nbgrader": {
     "checksum": "15bbfceb82e7ebb74e2dc70e1e337670",
     "grade": true,
     "grade_id": "cell-5e89b9403fa99bed",
     "locked": true,
     "points": 1,
     "schema_version": 1,
     "solution": false
    }
   },
   "outputs": [],
   "source": [
    "assert df_heu_sai.shape == (13, 2)\n",
    "df_heu_sai"
   ]
  },
  {
   "cell_type": "markdown",
   "metadata": {
    "deletable": false,
    "editable": false,
    "nbgrader": {
     "checksum": "a74ca973fbfb0e27ca3c37c968a66fbf",
     "grade": false,
     "grade_id": "cell-01857b112b0635e3",
     "locked": true,
     "schema_version": 1,
     "solution": false
    }
   },
   "source": [
    "#### Question\n",
    "Afficher un décompte du nombre de périodes de chacun des types de météo répertoriés dans **df_bike**"
   ]
  },
  {
   "cell_type": "code",
   "execution_count": null,
   "metadata": {
    "deletable": false,
    "nbgrader": {
     "checksum": "164725e796d5c47d4313632393fa3554",
     "grade": false,
     "grade_id": "cell-d28d99e34058b8b3",
     "locked": false,
     "schema_version": 1,
     "solution": true
    }
   },
   "outputs": [],
   "source": [
    "reponse = None\n",
    "# Ecrivez votre code ci-dessous"
   ]
  },
  {
   "cell_type": "code",
   "execution_count": null,
   "metadata": {
    "deletable": false,
    "editable": false,
    "nbgrader": {
     "checksum": "65fc6f50f19953fdc12514b999891aa3",
     "grade": true,
     "grade_id": "cell-b8b10eb900bdf000",
     "locked": true,
     "points": 1,
     "schema_version": 1,
     "solution": false
    }
   },
   "outputs": [],
   "source": [
    "assert reponse.loc['Temps clair ou un peu couvert'] == 7192\n",
    "reponse"
   ]
  },
  {
   "cell_type": "markdown",
   "metadata": {
    "deletable": false,
    "editable": false,
    "nbgrader": {
     "checksum": "a80fe7acb1bca4f81c9b5024bc31a886",
     "grade": false,
     "grade_id": "cell-ba39d63b4fc2ebe3",
     "locked": true,
     "schema_version": 1,
     "solution": false
    }
   },
   "source": [
    "### Analyse graphique\n",
    "\n",
    "#### Question\n",
    "\n",
    "Utiliser la fonction boxplot de seaborn pour afficher la boîte à moustache pour la variable count"
   ]
  },
  {
   "cell_type": "code",
   "execution_count": null,
   "metadata": {
    "deletable": false,
    "nbgrader": {
     "checksum": "e0745d40cb826af243d7fb4deed746d7",
     "grade": false,
     "grade_id": "cell-711789f4665ea172",
     "locked": false,
     "schema_version": 1,
     "solution": true
    }
   },
   "outputs": [],
   "source": [
    "# Ecrivez votre code ci-dessous"
   ]
  },
  {
   "cell_type": "code",
   "execution_count": null,
   "metadata": {
    "deletable": false,
    "editable": false,
    "nbgrader": {
     "checksum": "10ff96936660791a01d56384e45ea81a",
     "grade": true,
     "grade_id": "cell-76494b09afb233e0",
     "locked": true,
     "points": 1,
     "schema_version": 1,
     "solution": false
    }
   },
   "outputs": [],
   "source": []
  },
  {
   "cell_type": "markdown",
   "metadata": {
    "deletable": false,
    "editable": false,
    "nbgrader": {
     "checksum": "6100a66c343e7eeb01f937eb7b0cd798",
     "grade": false,
     "grade_id": "cell-e88aeae568cf5d86",
     "locked": true,
     "schema_version": 1,
     "solution": false
    }
   },
   "source": [
    "#### Question\n",
    "\n",
    "Utiliser maintenant cette même fonction avec :\n",
    "- la série **heure** en tant que paramètre x pour décliner count selon l'heure de la journée\n",
    "- la série **count** en tant que paramètre y\n",
    "- l'option **orient='v'** pour renverser le graphique"
   ]
  },
  {
   "cell_type": "code",
   "execution_count": null,
   "metadata": {
    "deletable": false,
    "nbgrader": {
     "checksum": "010cf0e0504fca8638880bb5f9c091ca",
     "grade": false,
     "grade_id": "cell-404c24dd56855217",
     "locked": false,
     "schema_version": 1,
     "solution": true
    }
   },
   "outputs": [],
   "source": [
    "# Ecrivez votre code ci-dessous"
   ]
  },
  {
   "cell_type": "code",
   "execution_count": null,
   "metadata": {
    "deletable": false,
    "editable": false,
    "nbgrader": {
     "checksum": "66c73cdfc41afb931772608135bcd334",
     "grade": true,
     "grade_id": "cell-3f015d942bb1ea57",
     "locked": true,
     "points": 1,
     "schema_version": 1,
     "solution": false
    }
   },
   "outputs": [],
   "source": []
  },
  {
   "cell_type": "markdown",
   "metadata": {
    "deletable": false,
    "editable": false,
    "nbgrader": {
     "checksum": "bf9fc3bbb1b88de2c88e43482305ac55",
     "grade": false,
     "grade_id": "cell-26ab73e2c4b19b45",
     "locked": true,
     "schema_version": 1,
     "solution": false
    }
   },
   "source": [
    "#### Question\n",
    "\n",
    "Afficher une **heatmap** des **correlations** entre les variables suivantes :\n",
    "\n",
    "'temp','atemp','casual','registered','humidity','windspeed','count'\n",
    "\n",
    "Ajouter l'option **annot=True** pour afficher les valeurs sur le graphique."
   ]
  },
  {
   "cell_type": "code",
   "execution_count": null,
   "metadata": {
    "_cell_guid": "fb27892c-7f5d-3d41-fe11-77576d2575d8",
    "deletable": false,
    "nbgrader": {
     "checksum": "6acf093c85cbaec1804f581b4865c074",
     "grade": false,
     "grade_id": "cell-9fd1c7580b674ea8",
     "locked": false,
     "schema_version": 1,
     "solution": true
    }
   },
   "outputs": [],
   "source": [
    "# Ecrivez votre code ci-dessous"
   ]
  },
  {
   "cell_type": "code",
   "execution_count": null,
   "metadata": {
    "deletable": false,
    "editable": false,
    "nbgrader": {
     "checksum": "4bd9255a7a302e95ab5145b2fc1ac1b3",
     "grade": true,
     "grade_id": "cell-d1317271f3dde386",
     "locked": true,
     "points": 1,
     "schema_version": 1,
     "solution": false
    }
   },
   "outputs": [],
   "source": []
  },
  {
   "cell_type": "markdown",
   "metadata": {},
   "source": [
    "#### Question\n",
    "Afficher le distplot de la série **count**"
   ]
  },
  {
   "cell_type": "code",
   "execution_count": null,
   "metadata": {
    "deletable": false,
    "nbgrader": {
     "checksum": "5ea9f67df82f3dad6edd5a13af8a79e5",
     "grade": false,
     "grade_id": "cell-4262bce7795d5f88",
     "locked": false,
     "schema_version": 1,
     "solution": true
    }
   },
   "outputs": [],
   "source": [
    "# Ecrivez votre code ci-dessous"
   ]
  },
  {
   "cell_type": "code",
   "execution_count": null,
   "metadata": {
    "deletable": false,
    "editable": false,
    "nbgrader": {
     "checksum": "37c2e83140673d77418b9f2fed079543",
     "grade": true,
     "grade_id": "cell-bd680e56ccb52163",
     "locked": true,
     "points": 1,
     "schema_version": 1,
     "solution": false
    }
   },
   "outputs": [],
   "source": []
  },
  {
   "cell_type": "code",
   "execution_count": null,
   "metadata": {},
   "outputs": [],
   "source": []
  }
 ],
 "metadata": {
  "kernelspec": {
   "display_name": "Python 3",
   "language": "python",
   "name": "python3"
  },
  "language_info": {
   "codemirror_mode": {
    "name": "ipython",
    "version": 3
   },
   "file_extension": ".py",
   "mimetype": "text/x-python",
   "name": "python",
   "nbconvert_exporter": "python",
   "pygments_lexer": "ipython3",
   "version": "3.7.1"
  },
  "toc": {
   "base_numbering": 1,
   "nav_menu": {},
   "number_sections": true,
   "sideBar": true,
   "skip_h1_title": false,
   "title_cell": "Table of Contents",
   "title_sidebar": "Contents",
   "toc_cell": false,
   "toc_position": {
    "height": "calc(100% - 180px)",
    "left": "10px",
    "top": "150px",
    "width": "250.067px"
   },
   "toc_section_display": true,
   "toc_window_display": true
  },
  "varInspector": {
   "cols": {
    "lenName": 16,
    "lenType": 16,
    "lenVar": 40
   },
   "kernels_config": {
    "python": {
     "delete_cmd_postfix": "",
     "delete_cmd_prefix": "del ",
     "library": "var_list.py",
     "varRefreshCmd": "print(var_dic_list())"
    },
    "r": {
     "delete_cmd_postfix": ") ",
     "delete_cmd_prefix": "rm(",
     "library": "var_list.r",
     "varRefreshCmd": "cat(var_dic_list()) "
    }
   },
   "types_to_exclude": [
    "module",
    "function",
    "builtin_function_or_method",
    "instance",
    "_Feature"
   ],
   "window_display": false
  }
 },
 "nbformat": 4,
 "nbformat_minor": 2
}

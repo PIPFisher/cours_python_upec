{
 "cells": [
  {
   "cell_type": "markdown",
   "metadata": {
    "nbgrader": {
     "grade": false,
     "grade_id": "cell-c8ec92fbb4051590",
     "locked": true,
     "schema_version": 1,
     "solution": false
    }
   },
   "source": [
    "<br>\n",
    "<div align=\"right\">Enseignant : Aric Wizenberg</div>\n",
    "<div align=\"right\">E-mail : icarwiz@yahoo.fr</div>\n",
    "<div align=\"right\">Année : 2018/2019</div><br><br><br>\n",
    "<div align=\"center\"><span style=\"font-family:Lucida Caligraphy;font-size:32px;color:darkgreen\">Master 2 MASERATI - Cours de Python</span></div><br><br>\n",
    "<div align=\"center\"><span style=\"font-family:Lucida Caligraphy;font-size:24px;color:#e60000\">Correction des exercices du chapitre 2</span></div><br><br>\n",
    "<hr>"
   ]
  },
  {
   "cell_type": "markdown",
   "metadata": {
    "nbgrader": {
     "grade": false,
     "grade_id": "cell-91928388a9c19a51",
     "locked": true,
     "schema_version": 1,
     "solution": false
    }
   },
   "source": [
    "Soit les constantes suivantes :"
   ]
  },
  {
   "cell_type": "code",
   "execution_count": null,
   "metadata": {
    "nbgrader": {
     "grade": false,
     "grade_id": "cell-44f0e27dd2b25b5b",
     "locked": true,
     "schema_version": 1,
     "solution": false
    }
   },
   "outputs": [],
   "source": [
    "CHEMIN_FICHIER = '../../../PyParis_XII_M1/cours/B.2.2.1_Nombres.ipynb'\n",
    "SEPARATEUR_DE_CELLULES = '\\n\\n###\\n\\n'"
   ]
  },
  {
   "cell_type": "code",
   "execution_count": null,
   "metadata": {},
   "outputs": [],
   "source": [
    "CHEMIN_FICHIER = 'B.2.2.1_Nombres.ipynb'"
   ]
  },
  {
   "cell_type": "markdown",
   "metadata": {
    "nbgrader": {
     "grade": false,
     "grade_id": "cell-dde79df64e0cdcbb",
     "locked": true,
     "schema_version": 1,
     "solution": false
    }
   },
   "source": [
    "### Question\n",
    "Charger le contenu du fichier **B.2.2.1_Nombres.ipynb** dont la localisation est contenue dans **CHEMIN_FICHIER** dans la variable **json_obj**, en utilisant le module **json**"
   ]
  },
  {
   "cell_type": "code",
   "execution_count": null,
   "metadata": {
    "nbgrader": {
     "grade": false,
     "grade_id": "cell-10fefe2757582032",
     "locked": false,
     "schema_version": 1,
     "solution": true
    }
   },
   "outputs": [],
   "source": [
    "### BEGIN SOLUTION\n",
    "import json\n",
    "\n",
    "with open(CHEMIN_FICHIER, encoding='utf-8') as fichier:\n",
    "    contenu = fichier.read()\n",
    "\n",
    "json_obj = json.loads(contenu)\n",
    "### END SOLUTION"
   ]
  },
  {
   "cell_type": "code",
   "execution_count": null,
   "metadata": {
    "nbgrader": {
     "grade": false,
     "grade_id": "cell-10fefe2757582032",
     "locked": false,
     "schema_version": 1,
     "solution": true
    }
   },
   "outputs": [],
   "source": [
    "### BEGIN SOLUTION\n",
    "import json\n",
    "\n",
    "with open(CHEMIN_FICHIER, encoding='utf-8') as fichier:\n",
    "    json_obj = json.load(fichier)\n",
    "### END SOLUTION"
   ]
  },
  {
   "cell_type": "code",
   "execution_count": null,
   "metadata": {
    "nbgrader": {
     "grade": true,
     "grade_id": "cell-a6ed0588ea6d4b5d",
     "locked": true,
     "points": 1,
     "schema_version": 1,
     "solution": false
    }
   },
   "outputs": [],
   "source": [
    "assert 'nbformat' in json_obj.keys(), 'Le contenu n\\'a pas été bien chargé'\n",
    "json_obj.keys()"
   ]
  },
  {
   "cell_type": "code",
   "execution_count": null,
   "metadata": {},
   "outputs": [],
   "source": [
    "json_obj['cells'][0]['source']"
   ]
  },
  {
   "cell_type": "markdown",
   "metadata": {
    "nbgrader": {
     "grade": false,
     "grade_id": "cell-179b3313e400908b",
     "locked": true,
     "schema_version": 1,
     "solution": false
    }
   },
   "source": [
    "### Question\n",
    "Quel est le contenu de la première cellule ?"
   ]
  },
  {
   "cell_type": "code",
   "execution_count": null,
   "metadata": {
    "nbgrader": {
     "grade": false,
     "grade_id": "cell-51c6b84b0a1c493b",
     "locked": false,
     "schema_version": 1,
     "solution": true
    }
   },
   "outputs": [],
   "source": [
    "reponse = None\n",
    "### BEGIN SOLUTION\n",
    "reponse = json_obj['cells'][0]\n",
    "### END SOLUTION"
   ]
  },
  {
   "cell_type": "code",
   "execution_count": null,
   "metadata": {
    "nbgrader": {
     "grade": true,
     "grade_id": "cell-1ead3cfb147b65cd",
     "locked": true,
     "points": 1,
     "schema_version": 1,
     "solution": false
    }
   },
   "outputs": [],
   "source": [
    "assert reponse['cell_type'] == 'markdown'\n",
    "reponse['cell_type']"
   ]
  },
  {
   "cell_type": "code",
   "execution_count": null,
   "metadata": {
    "nbgrader": {
     "grade": false,
     "grade_id": "cell-f5d5485fc015a70f",
     "locked": true,
     "schema_version": 1,
     "solution": false
    }
   },
   "outputs": [],
   "source": [
    "reponse['source']"
   ]
  },
  {
   "cell_type": "markdown",
   "metadata": {
    "nbgrader": {
     "grade": false,
     "grade_id": "cell-f2317759101e5a8e",
     "locked": true,
     "schema_version": 1,
     "solution": false
    }
   },
   "source": [
    "### Question\n",
    "Créer une fonction **formattage_contenu** qui transforme un contenu du type de celui affiché comme résultat de la cellule précédente en une chaine unique de caractères. \n",
    "\n",
    "Cette chaine de caractères doit avoir pour derniers caractères la séquence contenue dans **SEPARATEUR_DE_CELLULES**."
   ]
  },
  {
   "cell_type": "code",
   "execution_count": null,
   "metadata": {
    "nbgrader": {
     "grade": false,
     "grade_id": "cell-21625a426866580c",
     "locked": false,
     "schema_version": 1,
     "solution": true
    }
   },
   "outputs": [],
   "source": [
    "### BEGIN SOLUTION\n",
    "def formattage_contenu(source):        \n",
    "    contenu = ''.join(source) + SEPARATEUR_DE_CELLULES  \n",
    "    # print(contenu)\n",
    "    return contenu\n",
    "### END SOLUTION"
   ]
  },
  {
   "cell_type": "code",
   "execution_count": null,
   "metadata": {
    "nbgrader": {
     "grade": true,
     "grade_id": "cell-68ad08cca918cba6",
     "locked": true,
     "points": 1,
     "schema_version": 1,
     "solution": false
    }
   },
   "outputs": [],
   "source": [
    "assert type(formattage_contenu(reponse['source'])) is str\n",
    "assert formattage_contenu(reponse['source'])[-7:] == SEPARATEUR_DE_CELLULES\n",
    "assert len(formattage_contenu(reponse['source'])) == 483\n",
    "\n",
    "formattage_contenu(reponse['source'])"
   ]
  },
  {
   "cell_type": "markdown",
   "metadata": {
    "nbgrader": {
     "grade": false,
     "grade_id": "cell-1ceb46076d2e31ac",
     "locked": true,
     "schema_version": 1,
     "solution": false
    }
   },
   "source": [
    "### Question\n",
    "Utiliser une boucle pour définir deux listes **parties_de_code** et **parties_de_contenu**, à partir de la liste des cellules du Notebook contenue dans **json_obj**.\n",
    "\n",
    "La première remplie avec les contenus de type **code** transformés grâce à la fonction **formattage_contenu**.\n",
    "\n",
    "La seconde remplie avec les contenus de type **markdown** transformés grâce à la fonction **formattage_contenu**.\n",
    "\n",
    "Le type d'une cellule est contenu dans l'entrée **cell_type**."
   ]
  },
  {
   "cell_type": "code",
   "execution_count": null,
   "metadata": {
    "nbgrader": {
     "grade": false,
     "grade_id": "cell-432ebbcc370595f6",
     "locked": false,
     "schema_version": 1,
     "solution": true
    }
   },
   "outputs": [],
   "source": [
    "### BEGIN SOLUTION\n",
    "parties_de_code = []\n",
    "parties_de_contenu = []\n",
    "\n",
    "for cellule in json_obj['cells']:\n",
    "    if cellule['cell_type'] == 'markdown':\n",
    "        parties_de_contenu.append(formattage_contenu(cellule['source']))\n",
    "    elif cellule['cell_type'] == 'code':\n",
    "        parties_de_code.append(formattage_contenu(cellule['source']))\n",
    "### END SOLUTION"
   ]
  },
  {
   "cell_type": "code",
   "execution_count": null,
   "metadata": {
    "nbgrader": {
     "grade": true,
     "grade_id": "cell-47cf6647eb9e3347",
     "locked": true,
     "points": 1,
     "schema_version": 1,
     "solution": false
    }
   },
   "outputs": [],
   "source": [
    "assert len(parties_de_code) == 21\n",
    "assert len(parties_de_contenu) == 37\n",
    "assert type(parties_de_code[0]) is str\n",
    "assert type(parties_de_contenu[0]) is str\n",
    "assert formattage_contenu(parties_de_code[0])[-7:] == SEPARATEUR_DE_CELLULES\n",
    "assert formattage_contenu(parties_de_contenu[0])[-7:] == SEPARATEUR_DE_CELLULES\n",
    "\n",
    "parties_de_code[0]"
   ]
  },
  {
   "cell_type": "markdown",
   "metadata": {
    "nbgrader": {
     "grade": false,
     "grade_id": "cell-0bb0cb0ecb4f1dcf",
     "locked": true,
     "schema_version": 1,
     "solution": false
    }
   },
   "source": [
    "### Question\n",
    "\n",
    "Ecrire dans le fichier **resultat.py** le contenu de parties_de_code\n",
    "\n",
    "Ecrire dans le fichier **resultat.txt** le contenu de parties_de_contenu"
   ]
  },
  {
   "cell_type": "code",
   "execution_count": null,
   "metadata": {
    "nbgrader": {
     "grade": false,
     "grade_id": "cell-275e76356206a47b",
     "locked": false,
     "schema_version": 1,
     "solution": true
    }
   },
   "outputs": [],
   "source": [
    "### BEGIN SOLUTION\n",
    "with open('resultat.py', 'w', encoding='utf-8') as destfile:\n",
    "    destfile.writelines(parties_de_code)\n",
    "    \n",
    "with open('resultat.txt', 'w', encoding='utf-8') as destfile:\n",
    "    for line in parties_de_contenu:\n",
    "        destfile.write(line)\n",
    "    \n",
    "### END SOLUTION"
   ]
  },
  {
   "cell_type": "code",
   "execution_count": null,
   "metadata": {
    "nbgrader": {
     "grade": true,
     "grade_id": "cell-2408baf2962a5aba",
     "locked": true,
     "points": 1,
     "schema_version": 1,
     "solution": false
    }
   },
   "outputs": [],
   "source": [
    "import os\n",
    "assert os.path.getsize('resultat.py') == 479\n",
    "assert os.path.getsize('resultat.txt') == 6975"
   ]
  },
  {
   "cell_type": "markdown",
   "metadata": {
    "nbgrader": {
     "grade": false,
     "grade_id": "cell-3b7f05c0fa93544b",
     "locked": true,
     "schema_version": 1,
     "solution": false
    }
   },
   "source": [
    "# Formats de données itératifs : tables de données\n",
    "\n",
    "## Exercice\n",
    "\n",
    "### Intitalisation \n",
    "\n",
    "#### Question\n",
    "\n",
    "Charger les bibliothèques nécessaires pour lire des tables de données (**numpy** et **pandas**)  et afficher des graphiques (**pyplot** et **seaborn**) en utilisant leurs alias usuels"
   ]
  },
  {
   "cell_type": "code",
   "execution_count": null,
   "metadata": {
    "_cell_guid": "548437f4-7dcb-60a4-0a79-74d9594b071b",
    "nbgrader": {
     "grade": false,
     "grade_id": "cell-2373cce6fe819907",
     "locked": false,
     "schema_version": 1,
     "solution": true
    }
   },
   "outputs": [],
   "source": [
    "### BEGIN SOLUTION\n",
    "import numpy as np\n",
    "import pandas as pd\n",
    "import matplotlib.pyplot as plt\n",
    "import seaborn as sns\n",
    "### END SOLUTION"
   ]
  },
  {
   "cell_type": "markdown",
   "metadata": {
    "ExecuteTime": {
     "end_time": "2018-12-01T13:42:42.547200Z",
     "start_time": "2018-12-01T13:42:42.535200Z"
    },
    "nbgrader": {
     "grade": false,
     "grade_id": "cell-c10d9aba22539e3e",
     "locked": true,
     "schema_version": 1,
     "solution": false
    }
   },
   "source": [
    "On vérifie que tout a bien été chargé :"
   ]
  },
  {
   "cell_type": "code",
   "execution_count": null,
   "metadata": {
    "nbgrader": {
     "grade": true,
     "grade_id": "cell-e0ae98daa2b6e791",
     "locked": true,
     "points": 1,
     "schema_version": 1,
     "solution": false
    }
   },
   "outputs": [],
   "source": [
    "print(np.__name__)\n",
    "print(pd.__name__)\n",
    "print(plt.__name__)\n",
    "print(sns.__name__)"
   ]
  },
  {
   "cell_type": "markdown",
   "metadata": {},
   "source": [
    "Mettez le format d'affichage graphique sur **inline**, et définissez la taille de figure par défaut sur **(12, 9)**."
   ]
  },
  {
   "cell_type": "code",
   "execution_count": null,
   "metadata": {
    "nbgrader": {
     "grade": false,
     "grade_id": "cell-21709098cdefa1e6",
     "locked": false,
     "schema_version": 1,
     "solution": true
    }
   },
   "outputs": [],
   "source": [
    "### BEGIN SOLUTION\n",
    "%matplotlib inline\n",
    "plt.rcParams['figure.figsize'] = (12, 9) \n",
    "### END SOLUTION"
   ]
  },
  {
   "cell_type": "code",
   "execution_count": null,
   "metadata": {
    "nbgrader": {
     "grade": true,
     "grade_id": "cell-fc52750ee1da50ca",
     "locked": true,
     "points": 1,
     "schema_version": 1,
     "solution": false
    }
   },
   "outputs": [],
   "source": [
    "# Cellule vide\n",
    "### BEGIN HIDDEN TESTS\n",
    "assert plt.rcParams['figure.figsize'] == [12, 9]\n",
    "assert '%matplotlib inline' in In[-1]\n",
    "### END HIDDEN TESTS"
   ]
  },
  {
   "cell_type": "markdown",
   "metadata": {
    "nbgrader": {
     "grade": false,
     "grade_id": "cell-91030f626f6d95e7",
     "locked": true,
     "schema_version": 1,
     "solution": false
    }
   },
   "source": [
    "#### Question\n",
    "Soit le chemin de fichier suivant :"
   ]
  },
  {
   "cell_type": "code",
   "execution_count": null,
   "metadata": {
    "nbgrader": {
     "grade": false,
     "grade_id": "cell-54ba3dbf5b6ee021",
     "locked": true,
     "schema_version": 1,
     "solution": false
    }
   },
   "outputs": [],
   "source": [
    "CHEMIN_DESC = '../../../PyParis_XII_M1/data/bike_share.txt'"
   ]
  },
  {
   "cell_type": "markdown",
   "metadata": {
    "nbgrader": {
     "grade": false,
     "grade_id": "cell-6fe203fdf3d9bbc0",
     "locked": true,
     "schema_version": 1,
     "solution": false
    }
   },
   "source": [
    "Charger le texte contenu dans le fichier **bike_share.txt** dans la variable **metadonnees**"
   ]
  },
  {
   "cell_type": "code",
   "execution_count": null,
   "metadata": {
    "nbgrader": {
     "grade": false,
     "grade_id": "cell-cc784900e7a87597",
     "locked": false,
     "schema_version": 1,
     "solution": true
    }
   },
   "outputs": [],
   "source": [
    "metadonnees = None\n",
    "### BEGIN SOLUTION\n",
    "with open(CHEMIN_DESC, encoding='utf-8') as fichier:\n",
    "    metadonnees = fichier.read()\n",
    "### END SOLUTION"
   ]
  },
  {
   "cell_type": "code",
   "execution_count": null,
   "metadata": {
    "nbgrader": {
     "grade": true,
     "grade_id": "cell-454b06c335bfff06",
     "locked": true,
     "points": 1,
     "schema_version": 1,
     "solution": false
    }
   },
   "outputs": [],
   "source": [
    "assert len(metadonnees) == 664, 'Le fichier n\\'a pas été bien chargé'\n",
    "assert 'é' in metadonnees, 'Problème d\\'encodage... Il fallait charger le fichier en utf-8'\n",
    "print(metadonnees)"
   ]
  },
  {
   "cell_type": "markdown",
   "metadata": {
    "_cell_guid": "ec94edf8-890a-0ba2-decc-914582ac316d",
    "nbgrader": {
     "grade": false,
     "grade_id": "cell-5c16a6da3e952ee5",
     "locked": true,
     "schema_version": 1,
     "solution": false
    }
   },
   "source": [
    "#### Question\n",
    "\n",
    "Soit le chemin de fichier suivant :"
   ]
  },
  {
   "cell_type": "code",
   "execution_count": null,
   "metadata": {},
   "outputs": [],
   "source": [
    "CHEMIN_DATA = '../../../PyParis_XII_M1/data/bike_share.csv'"
   ]
  },
  {
   "cell_type": "markdown",
   "metadata": {},
   "source": [
    "Lire le contenu du fichier **bike_share.csv** et le mettre dans une variable **df_bike**"
   ]
  },
  {
   "cell_type": "code",
   "execution_count": null,
   "metadata": {
    "_cell_guid": "057b1690-5b93-9f14-eafe-fad12c00da69",
    "nbgrader": {
     "grade": false,
     "grade_id": "cell-ef93d338fa6a2a52",
     "locked": false,
     "schema_version": 1,
     "solution": true
    }
   },
   "outputs": [],
   "source": [
    "df_bike = None\n",
    "### BEGIN SOLUTION\n",
    "df_bike = pd.read_csv(CHEMIN_DATA)\n",
    "### END SOLUTION"
   ]
  },
  {
   "cell_type": "code",
   "execution_count": null,
   "metadata": {
    "nbgrader": {
     "grade": true,
     "grade_id": "cell-f325921be49453d6",
     "locked": true,
     "points": 1,
     "schema_version": 1,
     "solution": false
    },
    "scrolled": true
   },
   "outputs": [],
   "source": [
    "### BEGIN HIDDEN TESTS\n",
    "assert df_bike.shape == (10886, 12)\n",
    "### END HIDDEN TESTS\n",
    "df_bike"
   ]
  },
  {
   "cell_type": "markdown",
   "metadata": {},
   "source": [
    "### Première analyse"
   ]
  },
  {
   "cell_type": "markdown",
   "metadata": {
    "_cell_guid": "579ef8b7-02ad-7087-f27e-cc817f58f90a",
    "nbgrader": {
     "grade": false,
     "grade_id": "cell-59077d8ea5a1337c",
     "locked": true,
     "schema_version": 1,
     "solution": false
    }
   },
   "source": [
    "#### Question\n",
    "\n",
    "Quel est le nombre de ligne de cette table (ne pas écrire directement ce nombre bien sûr)."
   ]
  },
  {
   "cell_type": "code",
   "execution_count": null,
   "metadata": {
    "_cell_guid": "4b5eee60-635b-e053-97cd-62f3e9e8acac",
    "nbgrader": {
     "grade": false,
     "grade_id": "cell-50f18d52e005977b",
     "locked": false,
     "schema_version": 1,
     "solution": true
    }
   },
   "outputs": [],
   "source": [
    "reponse = None\n",
    "### BEGIN SOLUTION\n",
    "reponse = df_bike.shape[0]\n",
    "### END SOLUTION"
   ]
  },
  {
   "cell_type": "code",
   "execution_count": null,
   "metadata": {
    "nbgrader": {
     "grade": true,
     "grade_id": "cell-7d5c79a7a23554e9",
     "locked": true,
     "points": 1,
     "schema_version": 1,
     "solution": false
    }
   },
   "outputs": [],
   "source": [
    "reponse"
   ]
  },
  {
   "cell_type": "markdown",
   "metadata": {
    "_cell_guid": "d390d70a-24ba-1e0a-33af-f4bf58862f93",
    "nbgrader": {
     "grade": false,
     "grade_id": "cell-26a4fed200740abf",
     "locked": true,
     "schema_version": 1,
     "solution": false
    }
   },
   "source": [
    "#### Question\n",
    "\n",
    "Afficher les 5 dernières lignes du DataFrame"
   ]
  },
  {
   "cell_type": "code",
   "execution_count": null,
   "metadata": {
    "_cell_guid": "664d34ff-4580-aeb1-18ea-6dca2b5ae078",
    "nbgrader": {
     "grade": false,
     "grade_id": "cell-7ad3298ed9b48c3e",
     "locked": false,
     "schema_version": 1,
     "solution": true
    }
   },
   "outputs": [],
   "source": [
    "reponse = None\n",
    "### BEGIN SOLUTION\n",
    "reponse = df_bike.tail()\n",
    "### END SOLUTION"
   ]
  },
  {
   "cell_type": "code",
   "execution_count": null,
   "metadata": {
    "nbgrader": {
     "grade": true,
     "grade_id": "cell-0781be859de3a935",
     "locked": true,
     "points": 1,
     "schema_version": 1,
     "solution": false
    }
   },
   "outputs": [],
   "source": [
    "reponse"
   ]
  },
  {
   "cell_type": "markdown",
   "metadata": {
    "_cell_guid": "8c553d3a-0363-91e3-49b4-1a74a7b464c9",
    "nbgrader": {
     "grade": false,
     "grade_id": "cell-82bb374e38d7d24c",
     "locked": true,
     "schema_version": 1,
     "solution": false
    }
   },
   "source": [
    "#### Question\n",
    "\n",
    "Afficher les infos principales du DataFrame"
   ]
  },
  {
   "cell_type": "code",
   "execution_count": null,
   "metadata": {
    "_cell_guid": "6ee04436-80f8-ba7c-242e-ec78a9df5fdc",
    "nbgrader": {
     "grade": false,
     "grade_id": "cell-089422806af7a452",
     "locked": false,
     "schema_version": 1,
     "solution": true
    }
   },
   "outputs": [],
   "source": [
    "### BEGIN SOLUTION\n",
    "df_bike.info()\n",
    "### END SOLUTION"
   ]
  },
  {
   "cell_type": "code",
   "execution_count": null,
   "metadata": {
    "nbgrader": {
     "grade": true,
     "grade_id": "cell-0907ed200e76de4a",
     "locked": true,
     "points": 1,
     "schema_version": 1,
     "solution": false
    }
   },
   "outputs": [],
   "source": [
    "# Cellule vide"
   ]
  },
  {
   "cell_type": "markdown",
   "metadata": {
    "nbgrader": {
     "grade": false,
     "grade_id": "cell-efa012bd12566c91",
     "locked": true,
     "schema_version": 1,
     "solution": false
    }
   },
   "source": [
    "#### Question\n",
    "Afficher un extrait du DataFrame contenant toutes les lignes où les deux conditions suivantes sont respectées (voir les métadonnées pour trouver les identifiants correspondants) :\n",
    "- le **weather** est de la catégorie : **Pluie ou neige légère** \n",
    "- la **season** est : **Printemps**"
   ]
  },
  {
   "cell_type": "code",
   "execution_count": null,
   "metadata": {
    "nbgrader": {
     "grade": false,
     "grade_id": "cell-d3e2b8ca9e6de6a7",
     "locked": false,
     "schema_version": 1,
     "solution": true
    }
   },
   "outputs": [],
   "source": [
    "reponse = None\n",
    "### BEGIN SOLUTION\n",
    "reponse = df_bike[\n",
    "    (df_bike['season'] == 1) & \n",
    "    (df_bike['weather'] == 3)\n",
    "]\n",
    "### END SOLUTION"
   ]
  },
  {
   "cell_type": "code",
   "execution_count": null,
   "metadata": {
    "nbgrader": {
     "grade": true,
     "grade_id": "cell-f326eebc69c9e622",
     "locked": true,
     "points": 1,
     "schema_version": 1,
     "solution": false
    }
   },
   "outputs": [],
   "source": [
    "assert reponse.shape == (211, 12)\n",
    "reponse"
   ]
  },
  {
   "cell_type": "markdown",
   "metadata": {
    "nbgrader": {
     "grade": false,
     "grade_id": "cell-c46eb13acba8b45b",
     "locked": true,
     "schema_version": 1,
     "solution": false
    }
   },
   "source": [
    "### Traitement des dates"
   ]
  },
  {
   "cell_type": "markdown",
   "metadata": {
    "nbgrader": {
     "grade": false,
     "grade_id": "cell-7ef5faa51cfd2fac",
     "locked": true,
     "schema_version": 1,
     "solution": false
    }
   },
   "source": [
    "#### Question\n",
    "\n",
    "Créer une nouvelles série **date** dans **df_bike** qui contient la date dans un format compréhensible par Python (Timestamp/datetime)"
   ]
  },
  {
   "cell_type": "code",
   "execution_count": null,
   "metadata": {},
   "outputs": [],
   "source": [
    "df_bike.loc[0, 'datetime']"
   ]
  },
  {
   "cell_type": "code",
   "execution_count": null,
   "metadata": {
    "nbgrader": {
     "grade": false,
     "grade_id": "cell-4ee21ac9ead4635f",
     "locked": false,
     "schema_version": 1,
     "solution": true
    }
   },
   "outputs": [],
   "source": [
    "### BEGIN SOLUTION\n",
    "df_bike['date'] = pd.to_datetime(df_bike['datetime'])\n",
    "### END SOLUTION"
   ]
  },
  {
   "cell_type": "code",
   "execution_count": null,
   "metadata": {
    "nbgrader": {
     "grade": true,
     "grade_id": "cell-0383e3c930a85611",
     "locked": true,
     "points": 1,
     "schema_version": 1,
     "solution": false
    }
   },
   "outputs": [],
   "source": [
    "assert str(df_bike['date'].dtype) == 'datetime64[ns]'\n",
    "df_bike['date'].sample(5)"
   ]
  },
  {
   "cell_type": "markdown",
   "metadata": {
    "nbgrader": {
     "grade": false,
     "grade_id": "cell-1dc247b1273c1e3b",
     "locked": true,
     "schema_version": 1,
     "solution": false
    }
   },
   "source": [
    "#### Question\n",
    "Créer une nouvelles série **heure** dans **df_bike** qui ne contient que l'heure en nombre entier (pas les minutes, juste l'heure, par exemple pour 16h15, on aurait juste 16), créez pour cela une fonction au préalable"
   ]
  },
  {
   "cell_type": "code",
   "execution_count": null,
   "metadata": {},
   "outputs": [],
   "source": [
    "'2011-05-17 19:00:00'.split(' ')"
   ]
  },
  {
   "cell_type": "code",
   "execution_count": null,
   "metadata": {},
   "outputs": [],
   "source": [
    "'19:00:00'.split(':')"
   ]
  },
  {
   "cell_type": "code",
   "execution_count": null,
   "metadata": {
    "nbgrader": {
     "grade": false,
     "grade_id": "cell-2f211745f6e5d42d",
     "locked": false,
     "schema_version": 1,
     "solution": true
    }
   },
   "outputs": [],
   "source": [
    "def extraire_heure():\n",
    "    pass\n",
    "\n",
    "### BEGIN SOLUTION\n",
    "def extraire_heure(x):\n",
    "    partie_heure = x.split(' ')[1]\n",
    "    heure_texte = partie_heure.split(':')[0]\n",
    "    return int(heure_texte)\n",
    "\n",
    "df_bike['heure'] = df_bike['datetime'].apply(extraire_heure)\n",
    "### END SOLUTION"
   ]
  },
  {
   "cell_type": "code",
   "execution_count": null,
   "metadata": {
    "nbgrader": {
     "grade": true,
     "grade_id": "cell-6976f7e4a2baedec",
     "locked": true,
     "points": 1,
     "schema_version": 1,
     "solution": false
    }
   },
   "outputs": [],
   "source": [
    "assert extraire_heure('2011-10-07 23:00:00') == 23\n",
    "df_bike['heure'].sample(5)"
   ]
  },
  {
   "cell_type": "markdown",
   "metadata": {
    "nbgrader": {
     "grade": false,
     "grade_id": "cell-45b4a27ce103621d",
     "locked": true,
     "schema_version": 1,
     "solution": false
    }
   },
   "source": [
    "#### Question\n",
    "\n",
    "Créer un dictionnaire associant à un identifiant numérique le nom des différentes saisons\n",
    "\n",
    "Faites de même pour les conditions météo\n",
    "\n",
    "Aidez-vous pour cela des listes définies ci-dessous"
   ]
  },
  {
   "cell_type": "code",
   "execution_count": null,
   "metadata": {
    "nbgrader": {
     "grade": false,
     "grade_id": "cell-4235f12d6ef231db",
     "locked": true,
     "schema_version": 1,
     "solution": false
    }
   },
   "outputs": [],
   "source": [
    "LISTE_SAISONS = ['Printemps', 'Eté', 'Automne', 'Hiver']\n",
    "LISTE_CONDITIONS = ['Temps clair ou un peu couvert', 'Nuageux', 'Pluie ou neige légère', 'Grosse pluies ou neige']"
   ]
  },
  {
   "cell_type": "code",
   "execution_count": null,
   "metadata": {},
   "outputs": [],
   "source": [
    "list(enumerate(LISTE_SAISONS))"
   ]
  },
  {
   "cell_type": "code",
   "execution_count": null,
   "metadata": {
    "nbgrader": {
     "grade": false,
     "grade_id": "cell-faf7497d5e9479b6",
     "locked": false,
     "schema_version": 1,
     "solution": true
    }
   },
   "outputs": [],
   "source": [
    "dict_saisons = None\n",
    "dict_meteo = None\n",
    "### BEGIN SOLUTION\n",
    "dict_saisons = {}\n",
    "for i, v in enumerate(LISTE_SAISONS):\n",
    "    dict_saisons[i + 1] = v\n",
    "    \n",
    "dict_meteo = {}   \n",
    "for i, v in enumerate(LISTE_CONDITIONS):\n",
    "    dict_meteo[i + 1] = v\n",
    "    \n",
    "# dict_saisons = {i + 1: v for i, v in enumerate(LISTE_SAISONS)}\n",
    "# dict_meteo = {i + 1: v for i, v in enumerate(LISTE_CONDITIONS)}\n",
    "### END SOLUTION"
   ]
  },
  {
   "cell_type": "code",
   "execution_count": null,
   "metadata": {
    "nbgrader": {
     "grade": true,
     "grade_id": "cell-71ff09f876dbfc99",
     "locked": true,
     "points": 1,
     "schema_version": 1,
     "solution": false
    }
   },
   "outputs": [],
   "source": [
    "assert dict_saisons[3] == 'Automne'\n",
    "assert dict_meteo[2] == 'Nuageux'\n",
    "dict_saisons"
   ]
  },
  {
   "cell_type": "markdown",
   "metadata": {
    "nbgrader": {
     "grade": false,
     "grade_id": "cell-cea74f10fbb921ba",
     "locked": true,
     "schema_version": 1,
     "solution": false
    }
   },
   "source": [
    "#### Question\n",
    "\n",
    "Modifier les séries **season** et **weather** en utilisant les dictionnaires précédemment crées afin que ce soient leurs noms qui soient contenus dans ces séries, à la place de l'identifiant numérique"
   ]
  },
  {
   "cell_type": "code",
   "execution_count": null,
   "metadata": {
    "nbgrader": {
     "grade": false,
     "grade_id": "cell-2c70beb84839550e",
     "locked": false,
     "schema_version": 1,
     "solution": true
    }
   },
   "outputs": [],
   "source": [
    "### BEGIN SOLUTION\n",
    "df_bike['season'] = df_bike['season'].map(dict_saisons)\n",
    "df_bike['weather'] = df_bike['weather'].map(dict_meteo)\n",
    "### END SOLUTION"
   ]
  },
  {
   "cell_type": "code",
   "execution_count": null,
   "metadata": {
    "nbgrader": {
     "grade": true,
     "grade_id": "cell-afe419db5d2559a9",
     "locked": true,
     "points": 1,
     "schema_version": 1,
     "solution": false
    }
   },
   "outputs": [],
   "source": [
    "print(df_bike['season'].sample(5))\n",
    "print()\n",
    "print(df_bike['weather'].sample(5))"
   ]
  },
  {
   "cell_type": "markdown",
   "metadata": {
    "nbgrader": {
     "grade": false,
     "grade_id": "cell-9711983d68d91154",
     "locked": true,
     "schema_version": 1,
     "solution": false
    }
   },
   "source": [
    "#### Question\n",
    "\n",
    "Créer une nouvelle série **mois** dans **df_bike** en utilisant une méthode adaptée de l'opérateur Series.dt appliquée à la séries **date**"
   ]
  },
  {
   "cell_type": "code",
   "execution_count": null,
   "metadata": {
    "_cell_guid": "18f7c3fc-ffdf-4bc6-1d4c-c455fb4e0141",
    "nbgrader": {
     "grade": false,
     "grade_id": "cell-1bd8e3d774203769",
     "locked": false,
     "schema_version": 1,
     "solution": true
    }
   },
   "outputs": [],
   "source": [
    "### BEGIN SOLUTION\n",
    "df_bike['mois'] = df_bike['date'].dt.month\n",
    "### END SOLUTION"
   ]
  },
  {
   "cell_type": "code",
   "execution_count": null,
   "metadata": {
    "nbgrader": {
     "grade": true,
     "grade_id": "cell-54f12f13b96dc9b1",
     "locked": true,
     "points": 1,
     "schema_version": 1,
     "solution": false
    }
   },
   "outputs": [],
   "source": [
    "df_bike[['date', 'mois']].sample(5)"
   ]
  },
  {
   "cell_type": "markdown",
   "metadata": {
    "nbgrader": {
     "grade": false,
     "grade_id": "cell-9bef5330bfddc109",
     "locked": true,
     "schema_version": 1,
     "solution": false
    }
   },
   "source": [
    "#### Question\n",
    "\n",
    "Charger le fichier 'mois_annee.csv' dans un nouveau DataFrame **df_mois**"
   ]
  },
  {
   "cell_type": "code",
   "execution_count": null,
   "metadata": {},
   "outputs": [],
   "source": [
    "CHEMIN_MOIS_AN = '../../../PyParis_XII_M1/data/mois_annee.csv'"
   ]
  },
  {
   "cell_type": "code",
   "execution_count": null,
   "metadata": {
    "nbgrader": {
     "grade": false,
     "grade_id": "cell-fc4b9503f9bec0d1",
     "locked": false,
     "schema_version": 1,
     "solution": true
    }
   },
   "outputs": [],
   "source": [
    "df_mois = None\n",
    "## BEGIN SOLUTION\n",
    "df_mois = pd.read_csv(CHEMIN_MOIS_AN, sep=';')\n",
    "### END SOLUTION"
   ]
  },
  {
   "cell_type": "code",
   "execution_count": null,
   "metadata": {
    "nbgrader": {
     "grade": true,
     "grade_id": "cell-1cc3604270a59f38",
     "locked": true,
     "points": 1,
     "schema_version": 1,
     "solution": false
    }
   },
   "outputs": [],
   "source": [
    "df_mois"
   ]
  },
  {
   "cell_type": "markdown",
   "metadata": {
    "nbgrader": {
     "grade": false,
     "grade_id": "cell-63ec1a3f9f9a1423",
     "locked": true,
     "schema_version": 1,
     "solution": false
    }
   },
   "source": [
    "#### Question\n",
    "\n",
    "Utiliser le Dataframe des mois et une jointure pour ajouter la colonne month au DataFrame"
   ]
  },
  {
   "cell_type": "code",
   "execution_count": null,
   "metadata": {
    "nbgrader": {
     "grade": false,
     "grade_id": "cell-76fc23037f60f8cd",
     "locked": false,
     "schema_version": 1,
     "solution": true
    }
   },
   "outputs": [],
   "source": [
    "### BEGIN SOLUTION\n",
    "df_bike = pd.merge(df_bike, df_mois, left_on='mois', right_on='id_month')\n",
    "### END SOLUTION"
   ]
  },
  {
   "cell_type": "code",
   "execution_count": null,
   "metadata": {
    "nbgrader": {
     "grade": true,
     "grade_id": "cell-7eb25230e083a167",
     "locked": true,
     "points": 1,
     "schema_version": 1,
     "solution": false
    }
   },
   "outputs": [],
   "source": [
    "df_bike[['date', 'mois', 'month']].sample(5)"
   ]
  },
  {
   "cell_type": "markdown",
   "metadata": {
    "_cell_guid": "a2f8b5fc-cc68-878d-0534-d706f6ff9aa8",
    "nbgrader": {
     "grade": false,
     "grade_id": "cell-e14d7712d1af809c",
     "locked": true,
     "schema_version": 1,
     "solution": false
    }
   },
   "source": [
    "#### Question\n",
    "\n",
    "Supprimer la colonne datetime"
   ]
  },
  {
   "cell_type": "code",
   "execution_count": null,
   "metadata": {
    "_cell_guid": "7ddc906c-be9f-4ec4-44be-d97e3153af3d",
    "nbgrader": {
     "grade": false,
     "grade_id": "cell-36a0de61a0415855",
     "locked": false,
     "schema_version": 1,
     "solution": true
    }
   },
   "outputs": [],
   "source": [
    "### BEGIN SOLUTION\n",
    "df_bike.drop('datetime', axis=1, inplace=True)\n",
    "### END SOLUTION"
   ]
  },
  {
   "cell_type": "code",
   "execution_count": null,
   "metadata": {
    "nbgrader": {
     "grade": true,
     "grade_id": "cell-fe5c35b23735bc8e",
     "locked": true,
     "points": 1,
     "schema_version": 1,
     "solution": false
    }
   },
   "outputs": [],
   "source": [
    "assert 'datetime' not in df_bike.columns"
   ]
  },
  {
   "cell_type": "markdown",
   "metadata": {},
   "source": [
    "### Analyse numérique"
   ]
  },
  {
   "cell_type": "markdown",
   "metadata": {
    "nbgrader": {
     "grade": false,
     "grade_id": "cell-a6d2e36f06201959",
     "locked": true,
     "schema_version": 1,
     "solution": false
    }
   },
   "source": [
    "#### Question\n",
    "\n",
    "Calculer la moyenne et l'écart-type de la série et les stocker dans des variables"
   ]
  },
  {
   "cell_type": "code",
   "execution_count": null,
   "metadata": {
    "nbgrader": {
     "grade": false,
     "grade_id": "cell-c40565e800922853",
     "locked": false,
     "schema_version": 1,
     "solution": true
    }
   },
   "outputs": [],
   "source": [
    "moy_count = None\n",
    "ecart_count = None\n",
    "### BEGIN SOLUTION\n",
    "moy_count = df_bike['count'].mean()\n",
    "ecart_count = df_bike['count'].std()\n",
    "### END SOLUTION"
   ]
  },
  {
   "cell_type": "code",
   "execution_count": null,
   "metadata": {
    "nbgrader": {
     "grade": true,
     "grade_id": "cell-30a42702ff851e6a",
     "locked": true,
     "points": 1,
     "schema_version": 1,
     "solution": false
    }
   },
   "outputs": [],
   "source": [
    "print('moyenne :', moy_count)\n",
    "print('écart-type :', ecart_count)"
   ]
  },
  {
   "cell_type": "markdown",
   "metadata": {
    "nbgrader": {
     "grade": false,
     "grade_id": "cell-966f6e383c9569be",
     "locked": true,
     "schema_version": 1,
     "solution": false
    }
   },
   "source": [
    "#### Question\n",
    "\n",
    "Créer un tableau croisé dynamique ayant en ligne les saisons, et les conditions météos, puis les jours de la semaine et  pour colonnes la moyenne et la somme des **count**"
   ]
  },
  {
   "cell_type": "code",
   "execution_count": null,
   "metadata": {
    "nbgrader": {
     "grade": false,
     "grade_id": "cell-1c80afe00a07adb9",
     "locked": false,
     "schema_version": 1,
     "solution": true
    }
   },
   "outputs": [],
   "source": [
    "### BEGIN SOLUTION\n",
    "df_heu_sai = df_bike.pivot_table(\n",
    "    values='count', \n",
    "    index=['season', 'weather'], \n",
    "    aggfunc=[np.mean, np.sum]\n",
    ")\n",
    "### END SOLUTION"
   ]
  },
  {
   "cell_type": "code",
   "execution_count": null,
   "metadata": {
    "nbgrader": {
     "grade": true,
     "grade_id": "cell-5e89b9403fa99bed",
     "locked": true,
     "points": 1,
     "schema_version": 1,
     "solution": false
    }
   },
   "outputs": [],
   "source": [
    "assert df_heu_sai.shape == (13, 2)\n",
    "df_heu_sai"
   ]
  },
  {
   "cell_type": "markdown",
   "metadata": {
    "nbgrader": {
     "grade": false,
     "grade_id": "cell-01857b112b0635e3",
     "locked": true,
     "schema_version": 1,
     "solution": false
    }
   },
   "source": [
    "#### Question\n",
    "Afficher un décompte du nombre de périodes de chacun des types de météo répertoriés dans **df_bike**"
   ]
  },
  {
   "cell_type": "code",
   "execution_count": null,
   "metadata": {
    "nbgrader": {
     "grade": false,
     "grade_id": "cell-d28d99e34058b8b3",
     "locked": false,
     "schema_version": 1,
     "solution": true
    }
   },
   "outputs": [],
   "source": [
    "reponse = None\n",
    "### BEGIN SOLUTION\n",
    "reponse = df_bike.weather.value_counts()\n",
    "### END SOLUTION"
   ]
  },
  {
   "cell_type": "code",
   "execution_count": null,
   "metadata": {
    "nbgrader": {
     "grade": true,
     "grade_id": "cell-b8b10eb900bdf000",
     "locked": true,
     "points": 1,
     "schema_version": 1,
     "solution": false
    }
   },
   "outputs": [],
   "source": [
    "assert reponse.loc['Temps clair ou un peu couvert'] == 7192\n",
    "reponse"
   ]
  },
  {
   "cell_type": "markdown",
   "metadata": {
    "nbgrader": {
     "grade": false,
     "grade_id": "cell-ba39d63b4fc2ebe3",
     "locked": true,
     "schema_version": 1,
     "solution": false
    }
   },
   "source": [
    "### Analyse graphique\n",
    "\n",
    "#### Question\n",
    "\n",
    "Utiliser la fonction boxplot de seaborn pour afficher la boîte à moustache pour la variable count"
   ]
  },
  {
   "cell_type": "code",
   "execution_count": null,
   "metadata": {
    "nbgrader": {
     "grade": false,
     "grade_id": "cell-711789f4665ea172",
     "locked": false,
     "schema_version": 1,
     "solution": true
    },
    "scrolled": false
   },
   "outputs": [],
   "source": [
    "### BEGIN SOLUTION\n",
    "sns.boxplot(df_bike['count'])\n",
    "### END SOLUTION"
   ]
  },
  {
   "cell_type": "code",
   "execution_count": null,
   "metadata": {
    "nbgrader": {
     "grade": true,
     "grade_id": "cell-76494b09afb233e0",
     "locked": true,
     "points": 1,
     "schema_version": 1,
     "solution": false
    }
   },
   "outputs": [],
   "source": []
  },
  {
   "cell_type": "markdown",
   "metadata": {
    "nbgrader": {
     "grade": false,
     "grade_id": "cell-e88aeae568cf5d86",
     "locked": true,
     "schema_version": 1,
     "solution": false
    }
   },
   "source": [
    "#### Question\n",
    "\n",
    "Utiliser maintenant cette même fonction avec :\n",
    "- la série **heure** en tant que paramètre x pour décliner count selon l'heure de la journée\n",
    "- la série **count** en tant que paramètre y\n",
    "- l'option **orient='v'** pour renverser le graphique"
   ]
  },
  {
   "cell_type": "code",
   "execution_count": null,
   "metadata": {
    "nbgrader": {
     "grade": false,
     "grade_id": "cell-404c24dd56855217",
     "locked": false,
     "schema_version": 1,
     "solution": true
    }
   },
   "outputs": [],
   "source": [
    "### BEGIN SOLUTION\n",
    "sns.boxplot(df_bike['heure'], df_bike['count'], orient='v')\n",
    "### END SOLUTION"
   ]
  },
  {
   "cell_type": "code",
   "execution_count": null,
   "metadata": {
    "nbgrader": {
     "grade": true,
     "grade_id": "cell-3f015d942bb1ea57",
     "locked": true,
     "points": 1,
     "schema_version": 1,
     "solution": false
    }
   },
   "outputs": [],
   "source": []
  },
  {
   "cell_type": "markdown",
   "metadata": {
    "nbgrader": {
     "grade": false,
     "grade_id": "cell-26ab73e2c4b19b45",
     "locked": true,
     "schema_version": 1,
     "solution": false
    }
   },
   "source": [
    "#### Question\n",
    "\n",
    "Afficher une **heatmap** des **correlations** entre les variables suivantes :\n",
    "\n",
    "'temp','atemp','casual','registered','humidity','windspeed','count'\n",
    "\n",
    "Ajouter l'option **annot=True** pour afficher les valeurs sur le graphique."
   ]
  },
  {
   "cell_type": "code",
   "execution_count": null,
   "metadata": {
    "_cell_guid": "fb27892c-7f5d-3d41-fe11-77576d2575d8",
    "nbgrader": {
     "grade": false,
     "grade_id": "cell-9fd1c7580b674ea8",
     "locked": false,
     "schema_version": 1,
     "solution": true
    },
    "scrolled": false
   },
   "outputs": [],
   "source": [
    "### BEGIN SOLUTION\n",
    "correlations = df_bike[['temp','atemp','casual','registered','humidity','windspeed','count']].corr()\n",
    "sns.heatmap(correlations, annot=True)\n",
    "### END SOLUTION"
   ]
  },
  {
   "cell_type": "code",
   "execution_count": null,
   "metadata": {
    "nbgrader": {
     "grade": true,
     "grade_id": "cell-d1317271f3dde386",
     "locked": true,
     "points": 1,
     "schema_version": 1,
     "solution": false
    }
   },
   "outputs": [],
   "source": []
  },
  {
   "cell_type": "markdown",
   "metadata": {},
   "source": [
    "#### Question\n",
    "Afficher le distplot de la série **count**"
   ]
  },
  {
   "cell_type": "code",
   "execution_count": null,
   "metadata": {
    "nbgrader": {
     "grade": false,
     "grade_id": "cell-4262bce7795d5f88",
     "locked": false,
     "schema_version": 1,
     "solution": true
    }
   },
   "outputs": [],
   "source": [
    "### BEGIN SOLUTION\n",
    "sns.distplot(df_bike['count'])\n",
    "### END SOLUTION"
   ]
  },
  {
   "cell_type": "code",
   "execution_count": null,
   "metadata": {
    "nbgrader": {
     "grade": true,
     "grade_id": "cell-bd680e56ccb52163",
     "locked": true,
     "points": 1,
     "schema_version": 1,
     "solution": false
    }
   },
   "outputs": [],
   "source": []
  },
  {
   "cell_type": "code",
   "execution_count": null,
   "metadata": {},
   "outputs": [],
   "source": []
  }
 ],
 "metadata": {
  "kernelspec": {
   "display_name": "Python 3",
   "language": "python",
   "name": "python3"
  },
  "language_info": {
   "codemirror_mode": {
    "name": "ipython",
    "version": 3
   },
   "file_extension": ".py",
   "mimetype": "text/x-python",
   "name": "python",
   "nbconvert_exporter": "python",
   "pygments_lexer": "ipython3",
   "version": "3.7.1"
  },
  "toc": {
   "base_numbering": 1,
   "nav_menu": {},
   "number_sections": true,
   "sideBar": true,
   "skip_h1_title": false,
   "title_cell": "Table of Contents",
   "title_sidebar": "Contents",
   "toc_cell": false,
   "toc_position": {
    "height": "calc(100% - 180px)",
    "left": "10px",
    "top": "150px",
    "width": "250.067px"
   },
   "toc_section_display": true,
   "toc_window_display": false
  },
  "varInspector": {
   "cols": {
    "lenName": 16,
    "lenType": 16,
    "lenVar": 40
   },
   "kernels_config": {
    "python": {
     "delete_cmd_postfix": "",
     "delete_cmd_prefix": "del ",
     "library": "var_list.py",
     "varRefreshCmd": "print(var_dic_list())"
    },
    "r": {
     "delete_cmd_postfix": ") ",
     "delete_cmd_prefix": "rm(",
     "library": "var_list.r",
     "varRefreshCmd": "cat(var_dic_list()) "
    }
   },
   "types_to_exclude": [
    "module",
    "function",
    "builtin_function_or_method",
    "instance",
    "_Feature"
   ],
   "window_display": false
  }
 },
 "nbformat": 4,
 "nbformat_minor": 2
}

{
 "cells": [
  {
   "cell_type": "markdown",
   "metadata": {
    "nbgrader": {
     "grade": false,
     "grade_id": "cell-8cc5fd323320f140",
     "locked": true,
     "schema_version": 1,
     "solution": false
    }
   },
   "source": [
    "<br>\n",
    "<div align=\"right\">Enseignant : Aric Wizenberg</div>\n",
    "<div align=\"right\">E-mail : icarwiz@yahoo.fr</div>\n",
    "<div align=\"right\">Année : 2018/2019</div><br><br><br>\n",
    "<div align=\"center\"><span style=\"font-family:Lucida Caligraphy;font-size:32px;color:darkgreen\">Master 2 MASERATI - Cours de Python</span></div><br><br>\n",
    "<div align=\"center\"><span style=\"font-family:Lucida Caligraphy;font-size:24px;color:#e60000\">Correction des exercices du chapitre 1 et 3</span></div><br><br>\n",
    "<hr>"
   ]
  },
  {
   "cell_type": "markdown",
   "metadata": {
    "nbgrader": {
     "grade": false,
     "grade_id": "cell-2ac54a58651d08f2",
     "locked": true,
     "schema_version": 1,
     "solution": false
    }
   },
   "source": [
    "# Variables et types de base\n",
    "\n",
    "## Exercice\n",
    "\n",
    "Soit le texte suivant, assigné à la variable **TEXTE_WIKI** \n",
    "\n",
    "(Son nom est en majuscules pour signifier qu'on doit la considérer comme une constante)"
   ]
  },
  {
   "cell_type": "code",
   "execution_count": null,
   "metadata": {
    "nbgrader": {
     "grade": false,
     "grade_id": "cell-19d403b355122b0c",
     "locked": true,
     "schema_version": 1,
     "solution": false
    }
   },
   "outputs": [],
   "source": [
    "TEXTE_WIKI = '''La 75e cérémonie des Golden Globes, organisée par la Hollywood Foreign Press Association, a eu lieu le 7 janvier 2018 et récompense les films et séries diffusés en 2017, ainsi que les professionnels s'étant distingués cette année-là.\n",
    "L'humoriste et animateur de télévision Seth Meyers présente pour la première fois la cérémonie qui est diffusée sur le réseau NBC. Il succède ainsi à Jimmy Fallon qui avait animé la cérémonie précédente.\n",
    "Les nominations sont annoncées le 11 décembre 2017 au Beverly Hilton Hotel par Sharon Stone, Alfre Woodard, Garrett Hedlund et Kristen Bell.\n",
    "Le Cecil B. DeMille Award est attribué à Oprah Winfrey pour récompenser l'ensemble de sa carrière.'''"
   ]
  },
  {
   "cell_type": "markdown",
   "metadata": {
    "ExecuteTime": {
     "end_time": "2018-10-02T18:27:29.884817Z",
     "start_time": "2018-10-02T18:27:29.760017Z"
    },
    "nbgrader": {
     "grade": false,
     "grade_id": "cell-6c3be00996d7ad80",
     "locked": true,
     "schema_version": 1,
     "solution": false
    }
   },
   "source": [
    "### Question\n",
    "\n",
    "Assigner le type de cette variable à la variable réponse.\n",
    "\n",
    "Ne pas répondre directement, utiliser une fonction de Python."
   ]
  },
  {
   "cell_type": "code",
   "execution_count": null,
   "metadata": {
    "nbgrader": {
     "grade": false,
     "grade_id": "cell-5fe6cf57d3da9cda",
     "locked": false,
     "schema_version": 1,
     "solution": true
    }
   },
   "outputs": [],
   "source": [
    "reponse = None\n",
    "### BEGIN SOLUTION\n",
    "reponse = type(TEXTE_WIKI)\n",
    "### END SOLUTION"
   ]
  },
  {
   "cell_type": "code",
   "execution_count": null,
   "metadata": {
    "nbgrader": {
     "grade": true,
     "grade_id": "cell-5aea1baf2b42c3c5",
     "locked": true,
     "points": 1,
     "schema_version": 1,
     "solution": false
    }
   },
   "outputs": [],
   "source": [
    "reponse"
   ]
  },
  {
   "cell_type": "markdown",
   "metadata": {
    "nbgrader": {
     "grade": false,
     "grade_id": "cell-8f857b54fcaf3f5e",
     "locked": true,
     "schema_version": 1,
     "solution": false
    }
   },
   "source": [
    "### Question\n",
    "\n",
    "Assigner les 50 premiers caractères de cette chaine à la variable reponse"
   ]
  },
  {
   "cell_type": "code",
   "execution_count": null,
   "metadata": {
    "nbgrader": {
     "grade": false,
     "grade_id": "cell-d83bd4641ace0db1",
     "locked": false,
     "schema_version": 1,
     "solution": true
    }
   },
   "outputs": [],
   "source": [
    "reponse = None\n",
    "### BEGIN SOLUTION\n",
    "reponse = TEXTE_WIKI[:50]\n",
    "### END SOLUTION"
   ]
  },
  {
   "cell_type": "code",
   "execution_count": null,
   "metadata": {
    "nbgrader": {
     "grade": true,
     "grade_id": "cell-5156cd4ad79c4108",
     "locked": true,
     "points": 1,
     "schema_version": 1,
     "solution": false
    }
   },
   "outputs": [],
   "source": [
    "reponse"
   ]
  },
  {
   "cell_type": "markdown",
   "metadata": {
    "nbgrader": {
     "grade": false,
     "grade_id": "cell-f8cf6f2b1dd02d9e",
     "locked": true,
     "schema_version": 1,
     "solution": false
    }
   },
   "source": [
    "### Question\n",
    "\n",
    "Créer une variable **texte_minus** contenant le texte **TEXTE_WIKI** où toutes les lettres sont en minuscules."
   ]
  },
  {
   "cell_type": "code",
   "execution_count": null,
   "metadata": {
    "nbgrader": {
     "grade": false,
     "grade_id": "cell-e7baa278a274591e",
     "locked": false,
     "schema_version": 1,
     "solution": true
    }
   },
   "outputs": [],
   "source": [
    "texte_minus = None\n",
    "### BEGIN SOLUTION\n",
    "texte_minus = TEXTE_WIKI.lower()\n",
    "### END SOLUTION"
   ]
  },
  {
   "cell_type": "code",
   "execution_count": null,
   "metadata": {
    "nbgrader": {
     "grade": true,
     "grade_id": "cell-c2dab2cf53087dee",
     "locked": true,
     "points": 1,
     "schema_version": 1,
     "solution": false
    }
   },
   "outputs": [],
   "source": [
    "texte_minus"
   ]
  },
  {
   "cell_type": "markdown",
   "metadata": {
    "nbgrader": {
     "grade": false,
     "grade_id": "cell-215f96cfd4576ebe",
     "locked": true,
     "schema_version": 1,
     "solution": false
    }
   },
   "source": [
    "### Question\n",
    "\n",
    "Définir **texte_clean** à partir de **texte_minus** de manière à ce qu'il contienne l'ensemble du texte **texte_minus** mais sans points ni virgules"
   ]
  },
  {
   "cell_type": "code",
   "execution_count": null,
   "metadata": {
    "nbgrader": {
     "grade": false,
     "grade_id": "cell-82c278629c8c906f",
     "locked": false,
     "schema_version": 1,
     "solution": true
    }
   },
   "outputs": [],
   "source": [
    "texte_clean = None\n",
    "### BEGIN SOLUTION\n",
    "texte_clean = texte_minus.replace('.', ' ')\n",
    "texte_clean = texte_clean.replace(',', ' ')\n",
    "### END SOLUTION"
   ]
  },
  {
   "cell_type": "code",
   "execution_count": null,
   "metadata": {
    "nbgrader": {
     "grade": true,
     "grade_id": "cell-24c893d2db667956",
     "locked": true,
     "points": 1,
     "schema_version": 1,
     "solution": false
    }
   },
   "outputs": [],
   "source": [
    "texte_clean"
   ]
  },
  {
   "cell_type": "markdown",
   "metadata": {
    "nbgrader": {
     "grade": false,
     "grade_id": "cell-f9f3c7844f1b8a77",
     "locked": true,
     "schema_version": 1,
     "solution": false
    }
   },
   "source": [
    "### Question\n",
    "\n",
    "Définir **texte_decoup** de manière à ce qu'elle contienne l'ensemble des \"mots\" (ou des nombres) de **texte_clean** découpé sur la base des espaces."
   ]
  },
  {
   "cell_type": "code",
   "execution_count": null,
   "metadata": {
    "nbgrader": {
     "grade": false,
     "grade_id": "cell-3b9879512a4afe8c",
     "locked": false,
     "schema_version": 1,
     "solution": true
    }
   },
   "outputs": [],
   "source": [
    "texte_decoup = None\n",
    "### BEGIN SOLUTION\n",
    "texte_decoup = texte_clean.split()\n",
    "### END SOLUTION"
   ]
  },
  {
   "cell_type": "code",
   "execution_count": null,
   "metadata": {
    "nbgrader": {
     "grade": true,
     "grade_id": "cell-46f991e075987ec1",
     "locked": true,
     "points": 1,
     "schema_version": 1,
     "solution": false
    }
   },
   "outputs": [],
   "source": [
    "texte_decoup"
   ]
  },
  {
   "cell_type": "markdown",
   "metadata": {
    "nbgrader": {
     "grade": false,
     "grade_id": "cell-3242544bf8fd2c07",
     "locked": true,
     "schema_version": 1,
     "solution": false
    }
   },
   "source": [
    "### Question\n",
    "\n",
    "Définir **mots_uniques** comme étant l'**ensemble des mots uniques** de ce texte (retrait des doublons)"
   ]
  },
  {
   "cell_type": "code",
   "execution_count": null,
   "metadata": {
    "nbgrader": {
     "grade": false,
     "grade_id": "cell-fb358abf41f46080",
     "locked": false,
     "schema_version": 1,
     "solution": true
    }
   },
   "outputs": [],
   "source": [
    "mots_uniques = None\n",
    "### BEGIN SOLUTION\n",
    "mots_uniques = set(texte_decoup)\n",
    "### END SOLUTION"
   ]
  },
  {
   "cell_type": "code",
   "execution_count": null,
   "metadata": {
    "nbgrader": {
     "grade": true,
     "grade_id": "cell-6348d95581594500",
     "locked": true,
     "points": 1,
     "schema_version": 1,
     "solution": false
    }
   },
   "outputs": [],
   "source": [
    "mots_uniques"
   ]
  },
  {
   "cell_type": "markdown",
   "metadata": {
    "nbgrader": {
     "grade": false,
     "grade_id": "cell-b27f4b3791820c58",
     "locked": true,
     "schema_version": 1,
     "solution": false
    }
   },
   "source": [
    "### Question\n",
    "\n",
    "Assigner le **nombre de mots uniques** de ce texte à reponse"
   ]
  },
  {
   "cell_type": "code",
   "execution_count": null,
   "metadata": {
    "nbgrader": {
     "grade": false,
     "grade_id": "cell-0abb8d2ee718c0e5",
     "locked": false,
     "schema_version": 1,
     "solution": true
    }
   },
   "outputs": [],
   "source": [
    "reponse = None\n",
    "### BEGIN SOLUTION\n",
    "reponse = len(mots_uniques)\n",
    "### END SOLUTION"
   ]
  },
  {
   "cell_type": "code",
   "execution_count": null,
   "metadata": {
    "nbgrader": {
     "grade": true,
     "grade_id": "cell-a94e4cf7b8eaec9b",
     "locked": true,
     "points": 1,
     "schema_version": 1,
     "solution": false
    }
   },
   "outputs": [],
   "source": [
    "reponse"
   ]
  },
  {
   "cell_type": "markdown",
   "metadata": {
    "nbgrader": {
     "grade": false,
     "grade_id": "cell-c6ad78e313f65189",
     "locked": true,
     "schema_version": 1,
     "solution": false
    }
   },
   "source": [
    "### Question\n",
    "\n",
    "Assigner la proportion de mots redondants à **reponse**.\n",
    "\n",
    "Le résultat doit être un nombre à virgule entre 0.0 et 100.0"
   ]
  },
  {
   "cell_type": "code",
   "execution_count": null,
   "metadata": {
    "nbgrader": {
     "grade": false,
     "grade_id": "cell-578f549bd97cc090",
     "locked": false,
     "schema_version": 1,
     "solution": true
    }
   },
   "outputs": [],
   "source": [
    "reponse = None\n",
    "### BEGIN SOLUTION\n",
    "reponse = 100*(1 - len(set(texte_decoup))/len(texte_decoup))\n",
    "### END SOLUTION"
   ]
  },
  {
   "cell_type": "code",
   "execution_count": null,
   "metadata": {
    "nbgrader": {
     "grade": true,
     "grade_id": "cell-dbd87a4d75737573",
     "locked": true,
     "points": 1,
     "schema_version": 1,
     "solution": false
    }
   },
   "outputs": [],
   "source": [
    "reponse"
   ]
  },
  {
   "cell_type": "markdown",
   "metadata": {
    "nbgrader": {
     "grade": false,
     "grade_id": "cell-348f79c769f053b9",
     "locked": true,
     "schema_version": 1,
     "solution": false
    }
   },
   "source": [
    "### Question\n",
    "\n",
    "Définir **liste_lignes** comme étant une liste contenant les différentes lignes du texte d'origine."
   ]
  },
  {
   "cell_type": "code",
   "execution_count": null,
   "metadata": {
    "nbgrader": {
     "grade": false,
     "grade_id": "cell-1473d82de6965f47",
     "locked": false,
     "schema_version": 1,
     "solution": true
    }
   },
   "outputs": [],
   "source": [
    "liste_lignes = None\n",
    "### BEGIN SOLUTION\n",
    "liste_lignes = TEXTE_WIKI.splitlines()\n",
    "### END SOLUTION"
   ]
  },
  {
   "cell_type": "code",
   "execution_count": null,
   "metadata": {
    "nbgrader": {
     "grade": true,
     "grade_id": "cell-2dcc70b4e04bcfdf",
     "locked": true,
     "points": 1,
     "schema_version": 1,
     "solution": false
    }
   },
   "outputs": [],
   "source": [
    "liste_lignes"
   ]
  },
  {
   "cell_type": "markdown",
   "metadata": {
    "nbgrader": {
     "grade": false,
     "grade_id": "cell-ea0472f6d97eb101",
     "locked": true,
     "schema_version": 1,
     "solution": false
    }
   },
   "source": [
    "### Question\n",
    "\n",
    "Quel est le nombre de caractères de la dernière ligne"
   ]
  },
  {
   "cell_type": "code",
   "execution_count": null,
   "metadata": {
    "nbgrader": {
     "grade": false,
     "grade_id": "cell-9858de6af8ef5a68",
     "locked": false,
     "schema_version": 1,
     "solution": true
    }
   },
   "outputs": [],
   "source": [
    "reponse = None\n",
    "### BEGIN SOLUTION\n",
    "reponse = len(liste_lignes[-1])\n",
    "### END SOLUTION"
   ]
  },
  {
   "cell_type": "code",
   "execution_count": null,
   "metadata": {
    "nbgrader": {
     "grade": true,
     "grade_id": "cell-d83be5934f62c528",
     "locked": true,
     "points": 1,
     "schema_version": 1,
     "solution": false
    }
   },
   "outputs": [],
   "source": [
    "reponse"
   ]
  },
  {
   "cell_type": "markdown",
   "metadata": {
    "nbgrader": {
     "grade": false,
     "grade_id": "cell-6916e6565c9d0123",
     "locked": true,
     "schema_version": 1,
     "solution": false
    }
   },
   "source": [
    "## Exercice\n",
    "\n",
    "Soit la liste suivante, assignée à la variable **ORIG_LISTE**"
   ]
  },
  {
   "cell_type": "code",
   "execution_count": null,
   "metadata": {
    "nbgrader": {
     "grade": false,
     "grade_id": "cell-b1f8653da84f8e57",
     "locked": true,
     "schema_version": 1,
     "solution": false
    }
   },
   "outputs": [],
   "source": [
    "ORIG_LISTE = [12, 28, 42, 72, 16, 56, 25]"
   ]
  },
  {
   "cell_type": "markdown",
   "metadata": {
    "nbgrader": {
     "grade": false,
     "grade_id": "cell-3fdf50ada982b8aa",
     "locked": true,
     "schema_version": 1,
     "solution": false
    }
   },
   "source": [
    "### Question\n",
    "\n",
    "Vérifier que le type de cette variable est bien **list**. \n",
    "\n",
    "Ne pas répondre directement, faire un test en Python. Le résultat doit être un booléen."
   ]
  },
  {
   "cell_type": "code",
   "execution_count": null,
   "metadata": {
    "nbgrader": {
     "grade": false,
     "grade_id": "cell-55c43e9f8bd95211",
     "locked": false,
     "schema_version": 1,
     "solution": true
    }
   },
   "outputs": [],
   "source": [
    "reponse = None\n",
    "### BEGIN SOLUTION\n",
    "reponse = type(ORIG_LISTE) is list\n",
    "# ou bien\n",
    "reponse = isinstance(ORIG_LISTE, list)\n",
    "### END SOLUTION"
   ]
  },
  {
   "cell_type": "code",
   "execution_count": null,
   "metadata": {
    "nbgrader": {
     "grade": true,
     "grade_id": "cell-3796d0da005b40fd",
     "locked": true,
     "points": 1,
     "schema_version": 1,
     "solution": false
    }
   },
   "outputs": [],
   "source": [
    "reponse"
   ]
  },
  {
   "cell_type": "markdown",
   "metadata": {
    "nbgrader": {
     "grade": false,
     "grade_id": "cell-67137be74d769720",
     "locked": true,
     "schema_version": 1,
     "solution": false
    }
   },
   "source": [
    "### Question\n",
    "\n",
    "Nous souhaitons créer une nouvelle liste, **ma_liste** à partir de **ORIG_LISTE**, mais nous voulons que les modifications qui seront appliquées sur ma_liste ne soient pas répercutées sur ORIG_LISTE.\n",
    "\n",
    "Définir la variable **ma_liste** à partir d'**ORIG_LISTE**"
   ]
  },
  {
   "cell_type": "code",
   "execution_count": null,
   "metadata": {
    "nbgrader": {
     "grade": false,
     "grade_id": "cell-0b139796321c3c09",
     "locked": false,
     "schema_version": 1,
     "solution": true
    }
   },
   "outputs": [],
   "source": [
    "ma_liste = None\n",
    "### BEGIN SOLUTION\n",
    "ma_liste = ORIG_LISTE.copy()\n",
    "# ou bien\n",
    "ma_liste = list(ORIG_LISTE)\n",
    "### END SOLUTION"
   ]
  },
  {
   "cell_type": "markdown",
   "metadata": {
    "nbgrader": {
     "grade": false,
     "grade_id": "cell-b8b15812ecf8e88c",
     "locked": true,
     "schema_version": 1,
     "solution": false
    }
   },
   "source": [
    "## Question\n",
    "\n",
    "Expliquer ci-dessous en une phrase la réponse fournie à la question précédente :"
   ]
  },
  {
   "cell_type": "markdown",
   "metadata": {
    "nbgrader": {
     "grade": true,
     "grade_id": "cell-6716f92548af27d4",
     "locked": false,
     "points": 1,
     "schema_version": 1,
     "solution": true
    }
   },
   "source": [
    "### BEGIN SOLUTION\n",
    "Nous avons été obligé de faire une copie de ORIG_LISTE en raison du fait que le type list est un type mutable, donc si nous avions simplement utilisé ma_liste = ORIG_LISTE, toute modification de ma_liste se serait répercutée sur ORIG_LISTE.\n",
    "### END SOLUTION"
   ]
  },
  {
   "cell_type": "markdown",
   "metadata": {
    "nbgrader": {
     "grade": false,
     "grade_id": "cell-6ed66123228040a4",
     "locked": true,
     "schema_version": 1,
     "solution": false
    }
   },
   "source": [
    "### Question\n",
    "\n",
    "Ajouter l'élément **58** à la fin de cette liste."
   ]
  },
  {
   "cell_type": "code",
   "execution_count": null,
   "metadata": {
    "nbgrader": {
     "grade": false,
     "grade_id": "cell-706af18d40f61864",
     "locked": false,
     "schema_version": 1,
     "solution": true
    }
   },
   "outputs": [],
   "source": [
    "### BEGIN SOLUTION\n",
    "ma_liste.append(58)\n",
    "### END SOLUTION"
   ]
  },
  {
   "cell_type": "code",
   "execution_count": null,
   "metadata": {
    "nbgrader": {
     "grade": true,
     "grade_id": "cell-08da665f457eb5a9",
     "locked": true,
     "points": 1,
     "schema_version": 1,
     "solution": false
    }
   },
   "outputs": [],
   "source": [
    "ma_liste"
   ]
  },
  {
   "cell_type": "code",
   "execution_count": null,
   "metadata": {
    "nbgrader": {
     "grade": true,
     "grade_id": "cell-d2423e77b9fef8d5",
     "locked": true,
     "points": 1,
     "schema_version": 1,
     "solution": false
    }
   },
   "outputs": [],
   "source": [
    "ORIG_LISTE"
   ]
  },
  {
   "cell_type": "markdown",
   "metadata": {
    "nbgrader": {
     "grade": false,
     "grade_id": "cell-7664981719c66c12",
     "locked": true,
     "schema_version": 1,
     "solution": false
    }
   },
   "source": [
    "### Question\n",
    "\n",
    "Insérer l'entier **128** en deuxième position de cette liste. Attention: position, pas indice"
   ]
  },
  {
   "cell_type": "code",
   "execution_count": null,
   "metadata": {
    "nbgrader": {
     "grade": false,
     "grade_id": "cell-a49752e97310b93c",
     "locked": false,
     "schema_version": 1,
     "solution": true
    }
   },
   "outputs": [],
   "source": [
    "### BEGIN SOLUTION\n",
    "ma_liste.insert(1, 128)\n",
    "### END SOLUTION"
   ]
  },
  {
   "cell_type": "code",
   "execution_count": null,
   "metadata": {
    "nbgrader": {
     "grade": true,
     "grade_id": "cell-83acb49d894665b8",
     "locked": true,
     "points": 1,
     "schema_version": 1,
     "solution": false
    }
   },
   "outputs": [],
   "source": [
    "ma_liste"
   ]
  },
  {
   "cell_type": "markdown",
   "metadata": {
    "nbgrader": {
     "grade": false,
     "grade_id": "cell-c772ac82b2098a73",
     "locked": true,
     "schema_version": 1,
     "solution": false
    }
   },
   "source": [
    "### Question\n",
    "\n",
    "Faire en sorte que **ma_liste** devienne une liste triée par ordre croissant"
   ]
  },
  {
   "cell_type": "code",
   "execution_count": null,
   "metadata": {
    "nbgrader": {
     "grade": false,
     "grade_id": "cell-37d0a56f421f7fe0",
     "locked": false,
     "schema_version": 1,
     "solution": true
    }
   },
   "outputs": [],
   "source": [
    "### BEGIN SOLUTION\n",
    "ma_liste.sort()\n",
    "### END SOLUTION"
   ]
  },
  {
   "cell_type": "code",
   "execution_count": null,
   "metadata": {
    "nbgrader": {
     "grade": true,
     "grade_id": "cell-aa9830494788f3ba",
     "locked": true,
     "points": 1,
     "schema_version": 1,
     "solution": false
    }
   },
   "outputs": [],
   "source": [
    "ma_liste"
   ]
  },
  {
   "cell_type": "markdown",
   "metadata": {
    "nbgrader": {
     "grade": false,
     "grade_id": "cell-b861297b05258611",
     "locked": true,
     "schema_version": 1,
     "solution": false
    }
   },
   "source": [
    "### Question\n",
    "\n",
    "Quel est l'indice de l'élément contenant la valeur **56** ?"
   ]
  },
  {
   "cell_type": "code",
   "execution_count": null,
   "metadata": {
    "nbgrader": {
     "grade": false,
     "grade_id": "cell-5bc709d1a0273100",
     "locked": false,
     "schema_version": 1,
     "solution": true
    }
   },
   "outputs": [],
   "source": [
    "reponse = None\n",
    "### BEGIN SOLUTION\n",
    "reponse = ma_liste.index(56)\n",
    "### END SOLUTION"
   ]
  },
  {
   "cell_type": "code",
   "execution_count": null,
   "metadata": {
    "nbgrader": {
     "grade": true,
     "grade_id": "cell-e9437c503aed26cd",
     "locked": true,
     "points": 1,
     "schema_version": 1,
     "solution": false
    }
   },
   "outputs": [],
   "source": [
    "reponse"
   ]
  },
  {
   "cell_type": "markdown",
   "metadata": {
    "nbgrader": {
     "grade": false,
     "grade_id": "cell-5ca65a5c62d9139f",
     "locked": true,
     "schema_version": 1,
     "solution": false
    }
   },
   "source": [
    "### Question\n",
    "\n",
    "Assigner les trois derniers éléments de cette liste à reponse"
   ]
  },
  {
   "cell_type": "code",
   "execution_count": null,
   "metadata": {
    "nbgrader": {
     "grade": false,
     "grade_id": "cell-821dccfe83df8744",
     "locked": false,
     "schema_version": 1,
     "solution": true
    }
   },
   "outputs": [],
   "source": [
    "reponse = None\n",
    "### BEGIN SOLUTION\n",
    "reponse = ma_liste[-3:]\n",
    "### END SOLUTION"
   ]
  },
  {
   "cell_type": "code",
   "execution_count": null,
   "metadata": {
    "nbgrader": {
     "grade": true,
     "grade_id": "cell-1f2d91d980266a9b",
     "locked": true,
     "points": 1,
     "schema_version": 1,
     "solution": false
    }
   },
   "outputs": [],
   "source": [
    "reponse"
   ]
  },
  {
   "cell_type": "markdown",
   "metadata": {
    "nbgrader": {
     "grade": false,
     "grade_id": "cell-c5031f6021dd1f31",
     "locked": true,
     "schema_version": 1,
     "solution": false
    }
   },
   "source": [
    "### Question\n",
    "\n",
    "Assigner la sous-liste contenant le deuxième, le troisième et le quatrième élément à reponse.\n",
    "\n",
    "Le résultat doit être une liste"
   ]
  },
  {
   "cell_type": "code",
   "execution_count": null,
   "metadata": {
    "nbgrader": {
     "grade": false,
     "grade_id": "cell-6981aead4ac32bf9",
     "locked": false,
     "schema_version": 1,
     "solution": true
    }
   },
   "outputs": [],
   "source": [
    "reponse = None\n",
    "### BEGIN SOLUTION\n",
    "reponse = ma_liste[1:4]\n",
    "### END SOLUTION"
   ]
  },
  {
   "cell_type": "code",
   "execution_count": null,
   "metadata": {
    "nbgrader": {
     "grade": true,
     "grade_id": "cell-71470fb3af655fa4",
     "locked": true,
     "points": 1,
     "schema_version": 1,
     "solution": false
    }
   },
   "outputs": [],
   "source": [
    "reponse"
   ]
  },
  {
   "cell_type": "markdown",
   "metadata": {
    "nbgrader": {
     "grade": false,
     "grade_id": "cell-bcd127fe2d16910b",
     "locked": true,
     "schema_version": 1,
     "solution": false
    }
   },
   "source": [
    "### Question\n",
    "\n",
    "Quelle est la taille de cette liste ?\n",
    "\n",
    "Utiliser une fonction pour répondre"
   ]
  },
  {
   "cell_type": "code",
   "execution_count": null,
   "metadata": {
    "nbgrader": {
     "grade": false,
     "grade_id": "cell-8514ff719a838258",
     "locked": false,
     "schema_version": 1,
     "solution": true
    }
   },
   "outputs": [],
   "source": [
    "reponse = None\n",
    "### BEGIN SOLUTION\n",
    "reponse = len(ma_liste)\n",
    "### END SOLUTION"
   ]
  },
  {
   "cell_type": "code",
   "execution_count": null,
   "metadata": {
    "nbgrader": {
     "grade": true,
     "grade_id": "cell-f1355448016b07f6",
     "locked": true,
     "points": 1,
     "schema_version": 1,
     "solution": false
    }
   },
   "outputs": [],
   "source": [
    "reponse"
   ]
  },
  {
   "cell_type": "markdown",
   "metadata": {
    "nbgrader": {
     "grade": false,
     "grade_id": "cell-465c6ec16fad65cd",
     "locked": true,
     "schema_version": 1,
     "solution": false
    }
   },
   "source": [
    "# Structures programmatiques\n",
    "\n",
    "## Exercice\n",
    "\n",
    "Voici une liste des populations régionales en France, en milliers d'habitants, assignée à la variable POP_REG :"
   ]
  },
  {
   "cell_type": "code",
   "execution_count": null,
   "metadata": {
    "nbgrader": {
     "grade": false,
     "grade_id": "cell-fbc0688513639816",
     "locked": true,
     "schema_version": 1,
     "solution": false
    }
   },
   "outputs": [],
   "source": [
    "POP_REG = [7940, 2820, 3310, 2587, 330, 5558, 6030, 12142, 3343, 5943, 5830, 3743, 5024]"
   ]
  },
  {
   "cell_type": "markdown",
   "metadata": {
    "nbgrader": {
     "grade": false,
     "grade_id": "cell-6768e286f9c1d5af",
     "locked": true,
     "schema_version": 1,
     "solution": false
    }
   },
   "source": [
    "### Question\n",
    "\n",
    "Définir une liste **cate_reg**, de même taille que **POP_REG**, et qui contient des élements de type **str** correspondant aux catégories de région de **POP_REG**, définies selon la règle suivante :\n",
    "- **Bas** lorsqu'elle est strictement inférieur à 3500 milliers d'habitants\n",
    "- **Moyen** lorsqu'elle est entre 3500 (inclus) et 6000 milliers (exclus) d'habitants\n",
    "- **Haut** lorsqu'elle est supérieur ou égale à 6000 milliers d'habitants\n",
    "Comme POP_REG, le cate_reg doit être une liste.\n",
    "\n",
    "Il faut utiliser une boucle"
   ]
  },
  {
   "cell_type": "code",
   "execution_count": null,
   "metadata": {
    "nbgrader": {
     "grade": false,
     "grade_id": "cell-0a203fb59390344f",
     "locked": false,
     "schema_version": 1,
     "solution": true
    }
   },
   "outputs": [],
   "source": [
    "cate_reg = None\n",
    "### BEGIN SOLUTION\n",
    "cate_reg =[]\n",
    "for elem in POP_REG:\n",
    "    if elem < 3500:\n",
    "        cate_reg.append('Bas')\n",
    "    elif elem < 6000:\n",
    "        cate_reg.append('Moyen')\n",
    "    else:\n",
    "        cate_reg.append('Haut')\n",
    "### END SOLUTION"
   ]
  },
  {
   "cell_type": "code",
   "execution_count": null,
   "metadata": {
    "nbgrader": {
     "grade": true,
     "grade_id": "cell-488feee795590af2",
     "locked": true,
     "points": 1,
     "schema_version": 1,
     "solution": false
    }
   },
   "outputs": [],
   "source": [
    "cate_reg"
   ]
  },
  {
   "cell_type": "markdown",
   "metadata": {
    "nbgrader": {
     "grade": false,
     "grade_id": "cell-18266e7ebe36f95d",
     "locked": true,
     "schema_version": 1,
     "solution": false
    }
   },
   "source": [
    "### Question\n",
    "\n",
    "Définir un dictionnaire **reg_dict** qui associe à chaque catégorie de région (Bas, Moyen, Haut) un entier représentant le nombre de régions de cette catégorie en utilisant une boucle"
   ]
  },
  {
   "cell_type": "code",
   "execution_count": null,
   "metadata": {
    "nbgrader": {
     "grade": false,
     "grade_id": "cell-27e83def76a41b7e",
     "locked": false,
     "schema_version": 1,
     "solution": true
    }
   },
   "outputs": [],
   "source": [
    "reg_dict = None\n",
    "### BEGIN SOLUTION\n",
    "reg_dict = {}\n",
    "for cate in ['Bas', 'Moyen', 'Haut']:\n",
    "    reg_dict[cate] = cate_reg.count(cate)\n",
    "### END SOLUTION"
   ]
  },
  {
   "cell_type": "code",
   "execution_count": null,
   "metadata": {
    "nbgrader": {
     "grade": true,
     "grade_id": "cell-75246971c507d720",
     "locked": true,
     "points": 1,
     "schema_version": 1,
     "solution": false
    }
   },
   "outputs": [],
   "source": [
    "reg_dict"
   ]
  },
  {
   "cell_type": "markdown",
   "metadata": {
    "nbgrader": {
     "grade": false,
     "grade_id": "cell-9f2ed7c9a1272268",
     "locked": true,
     "schema_version": 1,
     "solution": false
    }
   },
   "source": [
    "### Question\n",
    "\n",
    "Définir un dictionnaire **reg_dict2** qui associe à chaque catégorie de région (Bas, Moyen, Haut) un triplet composé :\n",
    "- d'un entier représentant le nombre de régions de cette catégorie\n",
    "- d'un entier représentant la population total des régions de cette catégorie\n",
    "- d'un entier représentant la moyenne de la population des régions de cette catégorie\n",
    "\n",
    "Utiliser une boucle pour le faire."
   ]
  },
  {
   "cell_type": "code",
   "execution_count": null,
   "metadata": {
    "nbgrader": {
     "grade": false,
     "grade_id": "cell-2708a7fc2ee6932b",
     "locked": false,
     "schema_version": 1,
     "solution": true
    }
   },
   "outputs": [],
   "source": [
    "reg_dict2 = None\n",
    "### BEGIN SOLUTION\n",
    "reg_dict2 = {}\n",
    "for cate in ['Bas', 'Moyen', 'Haut']:\n",
    "    somme = 0\n",
    "    for i in range(len(cate_reg)):\n",
    "        if cate_reg[i] == cate:\n",
    "            somme += POP_REG[i]\n",
    "    reg_dict2[cate] = (cate_reg.count(cate), somme, somme/cate_reg.count(cate))\n",
    "### END SOLUTION"
   ]
  },
  {
   "cell_type": "code",
   "execution_count": null,
   "metadata": {
    "nbgrader": {
     "grade": true,
     "grade_id": "cell-cb183b13f6f40ef3",
     "locked": true,
     "points": 1,
     "schema_version": 1,
     "solution": false
    }
   },
   "outputs": [],
   "source": [
    "reg_dict2"
   ]
  },
  {
   "cell_type": "markdown",
   "metadata": {
    "nbgrader": {
     "grade": false,
     "grade_id": "cell-f0bbe5220bbf26de",
     "locked": true,
     "schema_version": 1,
     "solution": false
    }
   },
   "source": [
    "## Exercice\n",
    "\n",
    "Ecrire une boucle **while** qui créé une liste des 20 premiers rangs d'une suite de Fibonacci (du rang 0 au rang 19).\n",
    "\n",
    "Une suite de Fibonacci est une suite dont chaque terme est égal à la somme des deux termes précédents.\n",
    "\n",
    "Supposons que les deux premiers rangs 0 et 1 valent respectivement 1 et 1.\n",
    "\n",
    "Le résultat doit être une liste de 20 éléments."
   ]
  },
  {
   "cell_type": "code",
   "execution_count": 1,
   "metadata": {
    "ExecuteTime": {
     "end_time": "2019-02-03T22:17:04.739140Z",
     "start_time": "2019-02-03T22:17:04.385820Z"
    },
    "nbgrader": {
     "grade": false,
     "grade_id": "cell-dee4a5a825c807db",
     "locked": false,
     "schema_version": 1,
     "solution": true
    }
   },
   "outputs": [],
   "source": [
    "liste_rangs = None\n",
    "### BEGIN SOLUTION\n",
    "liste_rangs = [1, 1]\n",
    "n = 20\n",
    "r = 2\n",
    "\n",
    "while r < n:\n",
    "    val = liste_rangs[r - 1] + liste_rangs[r - 2]     \n",
    "    liste_rangs.append(val)\n",
    "    r += 1\n",
    "### END SOLUTION"
   ]
  },
  {
   "cell_type": "code",
   "execution_count": 2,
   "metadata": {
    "ExecuteTime": {
     "end_time": "2019-02-03T22:17:05.524718Z",
     "start_time": "2019-02-03T22:17:05.219870Z"
    },
    "nbgrader": {
     "grade": true,
     "grade_id": "cell-258da4b371d07d1a",
     "locked": true,
     "points": 1,
     "schema_version": 1,
     "solution": false
    }
   },
   "outputs": [
    {
     "data": {
      "text/plain": [
       "[1,\n",
       " 1,\n",
       " 2,\n",
       " 3,\n",
       " 5,\n",
       " 8,\n",
       " 13,\n",
       " 21,\n",
       " 34,\n",
       " 55,\n",
       " 89,\n",
       " 144,\n",
       " 233,\n",
       " 377,\n",
       " 610,\n",
       " 987,\n",
       " 1597,\n",
       " 2584,\n",
       " 4181,\n",
       " 6765]"
      ]
     },
     "execution_count": 2,
     "metadata": {},
     "output_type": "execute_result"
    }
   ],
   "source": [
    "liste_rangs"
   ]
  },
  {
   "cell_type": "markdown",
   "metadata": {
    "nbgrader": {
     "grade": false,
     "grade_id": "cell-397355c4433f611a",
     "locked": true,
     "schema_version": 1,
     "solution": false
    }
   },
   "source": [
    "## Exercice\n",
    "\n",
    "### Question\n",
    "\n",
    "Soit la liste **TEXTE_DECOUP** définie par les mots suivants :"
   ]
  },
  {
   "cell_type": "code",
   "execution_count": null,
   "metadata": {
    "nbgrader": {
     "grade": false,
     "grade_id": "cell-b8088f38a89a1256",
     "locked": true,
     "schema_version": 1,
     "solution": false
    }
   },
   "outputs": [],
   "source": [
    "TEXTE_DECOUP = [\n",
    "    'la', '75e', 'cérémonie', 'des', 'golden', 'globes', 'organisée', 'par', 'la',\n",
    "    'hollywood', 'foreign', 'press', 'association', 'a', 'eu', 'lieu', 'le', '7',\n",
    "    'janvier', '2018', 'et', 'récompense', 'les', 'films', 'et', 'séries', 'diffusés',\n",
    "    'en', '2017', 'ainsi', 'que', 'les', 'professionnels', \"s'étant\", 'distingués', 'cette',\n",
    "    'année-là', \"l'humoriste\", 'et', 'animateur', 'de', 'télévision', 'seth', 'meyers',\n",
    "    'présente', 'pour', 'la', 'première', 'fois', 'la', 'cérémonie', 'qui', 'est', 'diffusée',\n",
    "    'sur', 'le', 'réseau', 'nbc', 'il', 'succède', 'ainsi', 'à', 'jimmy', 'fallon', 'qui',\n",
    "    'avait', 'animé', 'la', 'cérémonie', 'précédente', 'les', 'nominations', 'sont', 'annoncées',\n",
    "    'le', '11', 'décembre', '2017', 'au', 'beverly', 'hilton', 'hotel', 'par', 'sharon', 'stone',\n",
    "    'alfre', 'woodard', 'garrett', 'hedlund', 'et', 'kristen', 'bell', 'le', 'cecil', 'b',\n",
    "    'demille', 'award', 'est', 'attribué', 'à', 'oprah', 'winfrey', 'pour', 'récompenser', \"l'ensemble\",\n",
    "    'de', 'sa', 'carrière'\n",
    "]"
   ]
  },
  {
   "cell_type": "markdown",
   "metadata": {
    "nbgrader": {
     "grade": false,
     "grade_id": "cell-d6599e5b8be82e0e",
     "locked": true,
     "schema_version": 1,
     "solution": false
    }
   },
   "source": [
    "Faire une boucle qui crée un dictionnaire **dict_res** qui à chaque mot (à mettre en minuscules) de la liste **TEXTE_DECOUP** associe le nombre d'occurences de ce mot dans cette liste (la fréquence de ces mots)"
   ]
  },
  {
   "cell_type": "code",
   "execution_count": null,
   "metadata": {
    "nbgrader": {
     "grade": false,
     "grade_id": "cell-238bcd8d24f0bd47",
     "locked": false,
     "schema_version": 1,
     "solution": true
    }
   },
   "outputs": [],
   "source": [
    "dict_res = None\n",
    "### BEGIN SOLUTION\n",
    "dict_res = {}\n",
    "for elem in TEXTE_DECOUP:\n",
    "    if elem in dict_res:\n",
    "        dict_res[elem] += 1\n",
    "    else:\n",
    "        dict_res[elem] = 1\n",
    "### END SOLUTION"
   ]
  },
  {
   "cell_type": "code",
   "execution_count": null,
   "metadata": {
    "nbgrader": {
     "grade": true,
     "grade_id": "cell-402c8e2a004cc8b7",
     "locked": true,
     "points": 1,
     "schema_version": 1,
     "solution": false
    }
   },
   "outputs": [],
   "source": [
    "dict_res"
   ]
  },
  {
   "cell_type": "markdown",
   "metadata": {
    "nbgrader": {
     "grade": false,
     "grade_id": "cell-69b9cb6b11d26eee",
     "locked": true,
     "schema_version": 1,
     "solution": false
    }
   },
   "source": [
    "### Question\n",
    "\n",
    "Ecrire une boucle qui créé la liste des mots qui sont apparus le plus souvent dans ce texte (ceux dont la fréquence est maximale parmi l'ensemble des fréquences)\n",
    "\n",
    "Cette liste peut contenir un ou plusieurs mots."
   ]
  },
  {
   "cell_type": "code",
   "execution_count": null,
   "metadata": {
    "nbgrader": {
     "grade": false,
     "grade_id": "cell-ee1f73558f473551",
     "locked": false,
     "schema_version": 1,
     "solution": true
    }
   },
   "outputs": [],
   "source": [
    "reponse = None\n",
    "### BEGIN SOLUTION\n",
    "reponse = []\n",
    "nombre_max = 0\n",
    "for k, v in dict_res.items():\n",
    "    if v > nombre_max:\n",
    "        nombre_max = v\n",
    "\n",
    "for k, v in dict_res.items():\n",
    "    if v == nombre_max:\n",
    "        reponse.append(k)\n",
    "### END SOLUTION"
   ]
  },
  {
   "cell_type": "code",
   "execution_count": null,
   "metadata": {
    "nbgrader": {
     "grade": true,
     "grade_id": "cell-cfd08472da51c859",
     "locked": true,
     "points": 1,
     "schema_version": 1,
     "solution": false
    }
   },
   "outputs": [],
   "source": [
    "reponse"
   ]
  },
  {
   "cell_type": "markdown",
   "metadata": {
    "nbgrader": {
     "grade": false,
     "grade_id": "cell-0f2aaaa72b9bfa25",
     "locked": true,
     "schema_version": 1,
     "solution": false
    }
   },
   "source": [
    "### Question\n",
    "\n",
    "Ecrire une boucle qui permette de constituer la variable **liste_mots_frequents** qui est la liste de tous les mots qui sont apparus **strictement plus de 2 fois**"
   ]
  },
  {
   "cell_type": "code",
   "execution_count": null,
   "metadata": {
    "nbgrader": {
     "grade": false,
     "grade_id": "cell-b330becf36434a7b",
     "locked": false,
     "schema_version": 1,
     "solution": true
    }
   },
   "outputs": [],
   "source": [
    "liste_mots_frequents = None\n",
    "### BEGIN SOLUTION\n",
    "liste_mots_frequents = []\n",
    "for k, v in dict_res.items():\n",
    "    if v > 2:\n",
    "        liste_mots_frequents.append(k)\n",
    "### END SOLUTION"
   ]
  },
  {
   "cell_type": "code",
   "execution_count": null,
   "metadata": {
    "nbgrader": {
     "grade": true,
     "grade_id": "cell-036196b57c3990bb",
     "locked": true,
     "points": 1,
     "schema_version": 1,
     "solution": false
    }
   },
   "outputs": [],
   "source": [
    "liste_mots_frequents"
   ]
  },
  {
   "cell_type": "markdown",
   "metadata": {
    "nbgrader": {
     "grade": false,
     "grade_id": "cell-1b014dfa21149c1d",
     "locked": true,
     "schema_version": 1,
     "solution": false
    }
   },
   "source": [
    "# Fonctions\n",
    "\n",
    "## Exercice\n",
    "\n",
    "Soit le dictionnaire **DICT_REGIONS** ayant pour clés les noms de régions de France et pour valeurs leurs populations en milliers d'habitants :"
   ]
  },
  {
   "cell_type": "code",
   "execution_count": 1,
   "metadata": {
    "ExecuteTime": {
     "end_time": "2019-02-16T15:46:49.102313Z",
     "start_time": "2019-02-16T15:46:49.092440Z"
    },
    "nbgrader": {
     "grade": false,
     "grade_id": "cell-dada61cc7da86b7f",
     "locked": true,
     "schema_version": 1,
     "solution": false
    }
   },
   "outputs": [],
   "source": [
    "DICT_REGIONS = {\n",
    "    'Auvergne-Rhône-Alpes': 7940,\n",
    "    'Bourgogne-Franche-Comté': 2820,\n",
    "    'Bretagne': 3310,\n",
    "    'Centre - Val de Loire': 2587,\n",
    "    'Corse': 330,\n",
    "    'Grand Est': 5558,\n",
    "    'Hauts-de-France': 6030,\n",
    "    'Île-de-France': 12142,\n",
    "    'Normandie': 3343,\n",
    "    'Nouvelle Aquitaine': 5943,\n",
    "    'Occitanie': 5830,\n",
    "    'Pays de la Loire': 3743,\n",
    "    'Provence-Alpes-Côte d’Azur': 5024\n",
    "}"
   ]
  },
  {
   "cell_type": "markdown",
   "metadata": {
    "nbgrader": {
     "grade": false,
     "grade_id": "cell-6f317ff735357886",
     "locked": true,
     "schema_version": 1,
     "solution": false
    }
   },
   "source": [
    "### Question\n",
    "\n",
    "Ecrire une fonction **cles_de_dict** qui génère une liste à partir de la liste des clés (keys) d'un dictionnaire **en utilisant une boucle** :"
   ]
  },
  {
   "cell_type": "code",
   "execution_count": 2,
   "metadata": {
    "ExecuteTime": {
     "end_time": "2019-02-16T15:46:51.342633Z",
     "start_time": "2019-02-16T15:46:51.332576Z"
    },
    "nbgrader": {
     "grade": false,
     "grade_id": "cell-d3e36d16ded00075",
     "locked": false,
     "schema_version": 1,
     "solution": true
    }
   },
   "outputs": [],
   "source": [
    "def cles_de_dict():\n",
    "    pass\n",
    "### BEGIN SOLUTION\n",
    "def cles_de_dict(dic):\n",
    "    res = []\n",
    "    for k, v in dic.items():\n",
    "        res.append(k)\n",
    "    return res\n",
    "### END SOLUTION"
   ]
  },
  {
   "cell_type": "code",
   "execution_count": 3,
   "metadata": {
    "ExecuteTime": {
     "end_time": "2019-02-16T15:46:53.382647Z",
     "start_time": "2019-02-16T15:46:53.363423Z"
    },
    "nbgrader": {
     "grade": true,
     "grade_id": "cell-5f1dc1c9467a2cda",
     "locked": true,
     "points": 1,
     "schema_version": 1,
     "solution": false
    }
   },
   "outputs": [
    {
     "data": {
      "text/plain": [
       "['Auvergne-Rhône-Alpes',\n",
       " 'Bourgogne-Franche-Comté',\n",
       " 'Bretagne',\n",
       " 'Centre - Val de Loire',\n",
       " 'Corse',\n",
       " 'Grand Est',\n",
       " 'Hauts-de-France',\n",
       " 'Île-de-France',\n",
       " 'Normandie',\n",
       " 'Nouvelle Aquitaine',\n",
       " 'Occitanie',\n",
       " 'Pays de la Loire',\n",
       " 'Provence-Alpes-Côte d’Azur']"
      ]
     },
     "execution_count": 3,
     "metadata": {},
     "output_type": "execute_result"
    }
   ],
   "source": [
    "cles_de_dict(DICT_REGIONS)"
   ]
  },
  {
   "cell_type": "markdown",
   "metadata": {
    "nbgrader": {
     "grade": false,
     "grade_id": "cell-6f5a988051bf1b95",
     "locked": true,
     "schema_version": 1,
     "solution": false
    }
   },
   "source": [
    "En réalité, on aurait pu utiliser **list(DICT_REGIONS.keys())** mais cela ne collait pas avec l'énoncé (attention il fallait utiliser une boucle)."
   ]
  },
  {
   "cell_type": "markdown",
   "metadata": {
    "nbgrader": {
     "grade": false,
     "grade_id": "cell-4701672012210f3c",
     "locked": true,
     "schema_version": 1,
     "solution": false
    }
   },
   "source": [
    "### Question\n",
    "\n",
    "Ecrire une fonction qui calcule la moyenne des valeurs d'une liste **en utilisant une boucle**"
   ]
  },
  {
   "cell_type": "code",
   "execution_count": 4,
   "metadata": {
    "ExecuteTime": {
     "end_time": "2019-02-16T15:47:30.362872Z",
     "start_time": "2019-02-16T15:47:30.342667Z"
    },
    "nbgrader": {
     "grade": false,
     "grade_id": "cell-b90570b9c2a5dfd4",
     "locked": false,
     "schema_version": 1,
     "solution": true
    }
   },
   "outputs": [],
   "source": [
    "def moyenne():\n",
    "    pass\n",
    "### BEGIN SOLUTION\n",
    "def moyenne(dic):\n",
    "    somme = 0\n",
    "    for elem in dic.values():\n",
    "        somme += elem\n",
    "    return somme/len(dic)\n",
    "\n",
    "### END SOLUTION"
   ]
  },
  {
   "cell_type": "markdown",
   "metadata": {
    "nbgrader": {
     "grade": false,
     "grade_id": "cell-626adc79553b1a1f",
     "locked": true,
     "schema_version": 1,
     "solution": false
    }
   },
   "source": [
    "Essayons sur la liste des populations régionales"
   ]
  },
  {
   "cell_type": "code",
   "execution_count": 5,
   "metadata": {
    "ExecuteTime": {
     "end_time": "2019-02-16T15:47:31.612387Z",
     "start_time": "2019-02-16T15:47:31.602517Z"
    },
    "nbgrader": {
     "grade": true,
     "grade_id": "cell-24f2811b774b6da7",
     "locked": true,
     "points": 1,
     "schema_version": 1,
     "solution": false
    }
   },
   "outputs": [
    {
     "data": {
      "text/plain": [
       "4969.2307692307695"
      ]
     },
     "execution_count": 5,
     "metadata": {},
     "output_type": "execute_result"
    }
   ],
   "source": [
    "moyenne(DICT_REGIONS)"
   ]
  },
  {
   "cell_type": "markdown",
   "metadata": {
    "nbgrader": {
     "grade": false,
     "grade_id": "cell-3a0325dd7757cbee",
     "locked": true,
     "schema_version": 1,
     "solution": false
    }
   },
   "source": [
    "## Exercice\n",
    "\n",
    "### Question\n",
    "\n",
    "Ecrire une fonction qui calcule l'écart-type des valeurs d'une liste en **utilisant une boucle**."
   ]
  },
  {
   "cell_type": "code",
   "execution_count": 6,
   "metadata": {
    "ExecuteTime": {
     "end_time": "2019-02-16T16:20:23.690773Z",
     "start_time": "2019-02-16T16:20:23.670753Z"
    },
    "nbgrader": {
     "grade": false,
     "grade_id": "cell-bd7615dddc9957c3",
     "locked": false,
     "schema_version": 1,
     "solution": true
    }
   },
   "outputs": [],
   "source": [
    "def ecart_type():\n",
    "    pass\n",
    "### BEGIN SOLUTION\n",
    "def ecart_type(dic):\n",
    "    m = moyenne(dic)\n",
    "    somme = 0\n",
    "    for elem in dic.values():\n",
    "        somme += (elem - m)**2\n",
    "    return (somme/len(dic))**0.5\n",
    "### END SOLUTION    "
   ]
  },
  {
   "cell_type": "markdown",
   "metadata": {
    "nbgrader": {
     "grade": false,
     "grade_id": "cell-772437f9530de0ef",
     "locked": true,
     "schema_version": 1,
     "solution": false
    }
   },
   "source": [
    "Essayons sur la liste des populations régionales"
   ]
  },
  {
   "cell_type": "code",
   "execution_count": 7,
   "metadata": {
    "ExecuteTime": {
     "end_time": "2019-02-16T16:20:25.940753Z",
     "start_time": "2019-02-16T16:20:25.924684Z"
    },
    "nbgrader": {
     "grade": true,
     "grade_id": "cell-a5f327db2776ee59",
     "locked": true,
     "points": 1,
     "schema_version": 1,
     "solution": false
    }
   },
   "outputs": [
    {
     "data": {
      "text/plain": [
       "2803.2414247094557"
      ]
     },
     "execution_count": 7,
     "metadata": {},
     "output_type": "execute_result"
    }
   ],
   "source": [
    "ecart_type(DICT_REGIONS)"
   ]
  },
  {
   "cell_type": "markdown",
   "metadata": {
    "nbgrader": {
     "grade": false,
     "grade_id": "cell-ec4f81f22dd5c433",
     "locked": true,
     "schema_version": 1,
     "solution": false
    }
   },
   "source": [
    "## Exercice\n",
    "\n",
    "### Question\n",
    "\n",
    "Ecrire une fonction qui détermine si une Chaine de caractères est un palindrome et renvoi alors **True**, sinon elle renvoie **False** en **utilisant une boucle**.\n",
    "\n",
    "Un palindrome est un mot ou une phrase (dans le cas d'une phrase on ne tient pas compte des espaces, des virgules ou des points) qui peut se lire lettre à lettre dans les deux sens. Kayak est un palindrome."
   ]
  },
  {
   "cell_type": "code",
   "execution_count": null,
   "metadata": {
    "nbgrader": {
     "grade": false,
     "grade_id": "cell-01e78a255c8581cb",
     "locked": false,
     "schema_version": 1,
     "solution": true
    }
   },
   "outputs": [],
   "source": [
    "def palindrome():\n",
    "    pass\n",
    "### BEGIN SOLUTION\n",
    "def palindrome(chaine):\n",
    "    chaine_propre = chaine.lower()\n",
    "    chaine_propre = chaine_propre.replace(' ', '').replace(',', '')\n",
    "\n",
    "    for i in range(int(len(chaine_propre)/2)):\n",
    "        if chaine_propre[i] != chaine_propre[-(1 + i)]:\n",
    "            return False\n",
    "    \n",
    "    return True\n",
    "### END SOLUTION"
   ]
  },
  {
   "cell_type": "markdown",
   "metadata": {
    "nbgrader": {
     "grade": false,
     "grade_id": "cell-f35ae1856be7b113",
     "locked": true,
     "schema_version": 1,
     "solution": false
    }
   },
   "source": [
    "### Question\n",
    "\n",
    "Essayons cette fonction sur des exemples de palindromes"
   ]
  },
  {
   "cell_type": "code",
   "execution_count": null,
   "metadata": {
    "nbgrader": {
     "grade": true,
     "grade_id": "cell-6ffe8db9f043d3b9",
     "locked": true,
     "points": 1,
     "schema_version": 1,
     "solution": false
    },
    "run_control": {
     "marked": false
    }
   },
   "outputs": [],
   "source": [
    "palindrome('kayak')"
   ]
  },
  {
   "cell_type": "code",
   "execution_count": null,
   "metadata": {
    "nbgrader": {
     "grade": true,
     "grade_id": "cell-6ffe8db5f043d3b9",
     "locked": true,
     "points": 1,
     "schema_version": 1,
     "solution": false
    },
    "run_control": {
     "marked": false
    }
   },
   "outputs": [],
   "source": [
    "palindrome('Engage le jeu, que je le gagne')"
   ]
  },
  {
   "cell_type": "markdown",
   "metadata": {
    "nbgrader": {
     "grade": false,
     "grade_id": "cell-449aef8fff5c8bc6",
     "locked": true,
     "schema_version": 1,
     "solution": false
    }
   },
   "source": [
    "## Exercice\n",
    "\n",
    "### Question\n",
    "\n",
    "Ecrire une fonction qui à un nombre entier renvoie la liste des diviseurs de ce nombre"
   ]
  },
  {
   "cell_type": "code",
   "execution_count": 8,
   "metadata": {
    "ExecuteTime": {
     "end_time": "2019-02-16T17:10:51.093799Z",
     "start_time": "2019-02-16T17:10:51.073570Z"
    },
    "nbgrader": {
     "grade": false,
     "grade_id": "cell-f0c719a18279418d",
     "locked": false,
     "schema_version": 1,
     "solution": true
    }
   },
   "outputs": [],
   "source": [
    "def liste_diviseurs():\n",
    "    pass\n",
    "### BEGIN SOLUTION\n",
    "def liste_diviseurs(n):\n",
    "    res = []\n",
    "    for i in range(2, int(n/2 + 1)):\n",
    "        if n % i == 0:\n",
    "            res.append(i)\n",
    "    return res\n",
    "### END SOLUTION"
   ]
  },
  {
   "cell_type": "markdown",
   "metadata": {
    "nbgrader": {
     "grade": false,
     "grade_id": "cell-45327a98b6fc6e2d",
     "locked": true,
     "schema_version": 1,
     "solution": false
    }
   },
   "source": [
    "Essayons cette fonction"
   ]
  },
  {
   "cell_type": "code",
   "execution_count": 9,
   "metadata": {
    "ExecuteTime": {
     "end_time": "2019-02-16T17:10:53.893879Z",
     "start_time": "2019-02-16T17:10:53.864342Z"
    },
    "nbgrader": {
     "grade": true,
     "grade_id": "cell-3486c064ae1c197e",
     "locked": true,
     "points": 1,
     "schema_version": 1,
     "solution": false
    }
   },
   "outputs": [
    {
     "name": "stdout",
     "output_type": "stream",
     "text": [
      "[2, 4, 5, 8, 10, 20, 25, 40, 50, 100, 125, 200, 250, 500]\n",
      "[2, 4, 8, 11, 16, 22, 32, 44, 88, 176]\n"
     ]
    }
   ],
   "source": [
    "print(liste_diviseurs(1000))\n",
    "print(liste_diviseurs(352))"
   ]
  },
  {
   "cell_type": "markdown",
   "metadata": {
    "nbgrader": {
     "grade": false,
     "grade_id": "cell-8206c56b8eaa2011",
     "locked": true,
     "schema_version": 1,
     "solution": false
    }
   },
   "source": [
    "## Exercice\n",
    "\n",
    "### Question\n",
    "\n",
    "Ecrire une fonction qui prend une chaine de caractères en entrée et renvoie en sortie une chaine de caractères identique mais à laquelle est ajouté le caractère 0 à la fin.\n",
    "\n",
    "Attention : la chaine de départ ne doit pas être modifiée par cette fonction."
   ]
  },
  {
   "cell_type": "code",
   "execution_count": null,
   "metadata": {
    "nbgrader": {
     "grade": false,
     "grade_id": "cell-fc6aaa2679e8968d",
     "locked": false,
     "schema_version": 1,
     "solution": true
    }
   },
   "outputs": [],
   "source": [
    "def ajout_0_str():\n",
    "    pass\n",
    "### BEGIN SOLUTION\n",
    "def ajout_0_str(instr):\n",
    "    return instr + '0'\n",
    "\n",
    "# ou bien\n",
    "\n",
    "def ajout_0_str(instr):\n",
    "    instr += '0'\n",
    "    return instr\n",
    "### END SOLUTION"
   ]
  },
  {
   "cell_type": "code",
   "execution_count": null,
   "metadata": {
    "nbgrader": {
     "grade": true,
     "grade_id": "cell-57a2eaa200cc94b4",
     "locked": true,
     "points": 1,
     "schema_version": 1,
     "solution": false
    }
   },
   "outputs": [],
   "source": [
    "TEST = '321'\n",
    "print(ajout_0_str(TEST))\n",
    "print(TEST)"
   ]
  },
  {
   "cell_type": "markdown",
   "metadata": {
    "nbgrader": {
     "grade": false,
     "grade_id": "cell-c4e9fc11635ad0af",
     "locked": true,
     "schema_version": 1,
     "solution": false
    }
   },
   "source": [
    "### Question\n",
    "\n",
    "Ecrire une fonction qui prend une liste en entrée et renvoie en sortie une liste identique mais à laquelle est ajouté l'élément 0 à la fin.\n",
    "\n",
    "Attention : la liste de départ ne doit pas être modifiée par cette fonction."
   ]
  },
  {
   "cell_type": "code",
   "execution_count": 10,
   "metadata": {
    "ExecuteTime": {
     "end_time": "2019-02-16T17:32:05.672434Z",
     "start_time": "2019-02-16T17:32:05.652547Z"
    },
    "nbgrader": {
     "grade": false,
     "grade_id": "cell-a1e742de97f60471",
     "locked": false,
     "schema_version": 1,
     "solution": true
    }
   },
   "outputs": [],
   "source": [
    "def ajout_0_list():\n",
    "    pass\n",
    "### BEGIN SOLUTION\n",
    "def ajout_0_list(inlist):    \n",
    "    return inlist + [0] \n",
    "    # les opérateurs de base (hors opérateurs de réaffectation, par exemple +=) \n",
    "    # ne modifient jamais les objets\n",
    "\n",
    "# ou bien\n",
    "\n",
    "def ajout_0_list(inlist):\n",
    "    outlist = inlist.copy()\n",
    "    outlist += [0] # ou encore outlist.append(0)\n",
    "    return outlist\n",
    "\n",
    "# mais surtout pas :\n",
    "# def ajout_0_list(inlist):\n",
    "#     inlist += [0] # ou encore outlist.append(0)\n",
    "#     return inlist\n",
    "\n",
    "### END SOLUTION"
   ]
  },
  {
   "cell_type": "code",
   "execution_count": 11,
   "metadata": {
    "ExecuteTime": {
     "end_time": "2019-02-16T17:32:07.162919Z",
     "start_time": "2019-02-16T17:32:07.142824Z"
    },
    "nbgrader": {
     "grade": true,
     "grade_id": "cell-f12a0b6ab769d263",
     "locked": true,
     "points": 1,
     "schema_version": 1,
     "solution": false
    }
   },
   "outputs": [
    {
     "name": "stdout",
     "output_type": "stream",
     "text": [
      "[3, 2, 1, 0]\n",
      "[3, 2, 1]\n"
     ]
    }
   ],
   "source": [
    "TEST = [3, 2, 1]\n",
    "print(ajout_0_list(TEST))\n",
    "print(TEST)"
   ]
  },
  {
   "cell_type": "markdown",
   "metadata": {
    "nbgrader": {
     "grade": false,
     "grade_id": "cell-5190048539e5a5a0",
     "locked": true,
     "schema_version": 1,
     "solution": false
    }
   },
   "source": [
    "Pourquoi ces deux cas sont fondamentalement différents, en dehors bien sûr du fait qu'une fonction se rapporte aux chaines de caractères, l'autre aux listes ?"
   ]
  },
  {
   "cell_type": "markdown",
   "metadata": {
    "nbgrader": {
     "grade": true,
     "grade_id": "cell-ab2ea70a569b5eae",
     "locked": false,
     "points": 1,
     "schema_version": 1,
     "solution": true
    }
   },
   "source": [
    "### BEGIN SOLUTION\n",
    "Les variables de type str sont immuables alors que les variables de type list sont muables. Par conséquent, dans le cas des list (comme pour la majorité des autres types d'ailleurs) il faut bien faire attention à ne pas modifier l'objet passé en paramètre de la fonction.\n",
    "### END SOLUTION"
   ]
  },
  {
   "cell_type": "markdown",
   "metadata": {
    "nbgrader": {
     "grade": false,
     "grade_id": "cell-8b857dc9547dae2f",
     "locked": true,
     "schema_version": 1,
     "solution": false
    }
   },
   "source": [
    "# Erreurs\n",
    "\n",
    "## Exercice"
   ]
  },
  {
   "cell_type": "markdown",
   "metadata": {
    "nbgrader": {
     "grade": false,
     "grade_id": "cell-55501084a9a634e6",
     "locked": true,
     "schema_version": 1,
     "solution": false
    }
   },
   "source": [
    "Soient:\n",
    "- la variable **PIB1**, contenant des PIB fictifs, chronologiquement ordonnés\n",
    "- la fonction **calc_croissances**, permettant de calculer des taux de variation en pourcentage."
   ]
  },
  {
   "cell_type": "code",
   "execution_count": null,
   "metadata": {
    "nbgrader": {
     "grade": false,
     "grade_id": "cell-060a223dc8c73317",
     "locked": true,
     "schema_version": 1,
     "solution": false
    }
   },
   "outputs": [],
   "source": [
    "PIB1 = [2000, 2025, 2035, 2090, 2110, 2140, 2160]\n",
    "\n",
    "def calc_croissances(liste):\n",
    "    res = []\n",
    "    for i in range(1, len(liste)):\n",
    "        croissance = 100*(liste[i]/liste[i - 1] - 1)\n",
    "        res.append(croissance)\n",
    "    \n",
    "    return res"
   ]
  },
  {
   "cell_type": "markdown",
   "metadata": {
    "nbgrader": {
     "grade": false,
     "grade_id": "cell-9cd184671631d045",
     "locked": true,
     "schema_version": 1,
     "solution": false
    }
   },
   "source": [
    "Voyons l'effet de cette fonction"
   ]
  },
  {
   "cell_type": "code",
   "execution_count": null,
   "metadata": {
    "nbgrader": {
     "grade": false,
     "grade_id": "cell-7e6adefc9c475831",
     "locked": true,
     "schema_version": 1,
     "solution": false
    }
   },
   "outputs": [],
   "source": [
    "calc_croissances(PIB1)"
   ]
  },
  {
   "cell_type": "markdown",
   "metadata": {
    "nbgrader": {
     "grade": false,
     "grade_id": "cell-059b37a4714f4e70",
     "locked": true,
     "schema_version": 1,
     "solution": false
    }
   },
   "source": [
    "### Question\n",
    "\n",
    "Imaginons maintenant que plusieurs valeurs manquantes se soient glissées dans notre série."
   ]
  },
  {
   "cell_type": "code",
   "execution_count": null,
   "metadata": {
    "nbgrader": {
     "grade": false,
     "grade_id": "cell-476f20b1e8db5926",
     "locked": true,
     "schema_version": 1,
     "solution": false
    }
   },
   "outputs": [],
   "source": [
    "PIB2 = [2000, 2025, '#N/A', 2090, 2110, '#N/A', 2160]"
   ]
  },
  {
   "cell_type": "markdown",
   "metadata": {
    "nbgrader": {
     "grade": false,
     "grade_id": "cell-63705006240228bc",
     "locked": true,
     "schema_version": 1,
     "solution": false
    }
   },
   "source": [
    "### Question\n",
    "\n",
    "Ecrire une nouvelle version de cette fonction utilisant le traitement des erreurs (**try**, **except**, **else**...) de manière à ce qu'il puisse traiter la liste suivante en remplaçant les valeurs manquantes (\"#N/A\") par la moyenne de l'année suivante et précédente (interpolation), avant de calculer la croissance.\n",
    "\n",
    "Attention, cette fonction ne doit pas modifier la liste passée en paramètre."
   ]
  },
  {
   "cell_type": "code",
   "execution_count": null,
   "metadata": {
    "code_folding": [],
    "nbgrader": {
     "grade": false,
     "grade_id": "cell-6f221a77def1d700",
     "locked": false,
     "schema_version": 1,
     "solution": true
    }
   },
   "outputs": [],
   "source": [
    "def calc_croissances(): \n",
    "    pass\n",
    "### BEGIN SOLUTION\n",
    "def calc_croissances(liste):\n",
    "    res = []\n",
    "    for i in range(1, len(liste)):\n",
    "        \n",
    "        try:\n",
    "            croissance = 100*(liste[i]/liste[i - 1] - 1)\n",
    "        except TypeError:\n",
    "            niveau_actu = liste[i]\n",
    "            niveau_prec = liste[i - 1]\n",
    "\n",
    "            if niveau_actu == '#N/A':\n",
    "                niveau_actu = (niveau_prec + liste[i + 1])/2\n",
    "            elif niveau_prec == '#N/A':\n",
    "                niveau_prec = (niveau_actu + liste[i - 2])/2\n",
    "            \n",
    "            croissance = 100*(niveau_actu/niveau_prec - 1)\n",
    "            \n",
    "        res.append(croissance)\n",
    "    \n",
    "    return res\n",
    "### END SOLUTION"
   ]
  },
  {
   "cell_type": "markdown",
   "metadata": {
    "nbgrader": {
     "grade": false,
     "grade_id": "cell-10079237d3bb2e90",
     "locked": true,
     "schema_version": 1,
     "solution": false
    }
   },
   "source": [
    "Tester maintenant cette fonction :"
   ]
  },
  {
   "cell_type": "code",
   "execution_count": null,
   "metadata": {
    "nbgrader": {
     "grade": true,
     "grade_id": "cell-49d77b9b54776a7d",
     "locked": true,
     "points": 0,
     "schema_version": 1,
     "solution": false
    }
   },
   "outputs": [],
   "source": [
    "calc_croissances(PIB2)"
   ]
  },
  {
   "cell_type": "markdown",
   "metadata": {
    "nbgrader": {
     "grade": false,
     "grade_id": "cell-6d43cfd81b39d018",
     "locked": true,
     "schema_version": 1,
     "solution": false
    }
   },
   "source": [
    "### Question\n",
    "\n",
    "Et maintenant supposons un cas plus complexe où des valeurs manquantes peuvent être côte à côté empêchant le calcul de l'interpolation sur la base des rangs supérieur et inférieur.\n",
    "\n",
    "Supposons que nous savons que ce cas existe, que l'on pense qu'il faudra le traiter un jour, mais qu'aujourd'hui, ce n'est pas possible en raison d'un manque de temps... Nous allons donc tester ce cas, et s'il advient, la fonction devra provoquer une erreur NotImplementedError.\n",
    "\n",
    "Modifier encore la fonction de manière à intégrer cette situation.\n",
    "\n",
    "Ne pas oublier qu'il n'y a pas que le terme et le terme précédent qui comptent..."
   ]
  },
  {
   "cell_type": "code",
   "execution_count": null,
   "metadata": {
    "nbgrader": {
     "grade": false,
     "grade_id": "cell-e32146a40f57d9a9",
     "locked": true,
     "schema_version": 1,
     "solution": false
    }
   },
   "outputs": [],
   "source": [
    "PIB3 = [2000, '#N/A', '#N/A', 2090, 2110, '#N/A', 2160]"
   ]
  },
  {
   "cell_type": "code",
   "execution_count": null,
   "metadata": {
    "nbgrader": {
     "grade": false,
     "grade_id": "cell-32b3135754dd9c38",
     "locked": false,
     "schema_version": 1,
     "solution": true
    }
   },
   "outputs": [],
   "source": [
    "def calc_croissances(): \n",
    "    pass\n",
    "### BEGIN SOLUTION\n",
    "def calc_croissances(liste):\n",
    "    res = []\n",
    "    for i in range(1, len(liste)):\n",
    "        \n",
    "        if liste[i] == '#N/A' and (liste[i + 1] == '#N/A' or liste[i - 1] == '#N/A'):\n",
    "            raise NotImplementedError\n",
    "        \n",
    "        try:\n",
    "            croissance = 100*(liste[i]/liste[i - 1] - 1)\n",
    "        except TypeError:\n",
    "            niveau_actu = liste[i]\n",
    "            niveau_prec = liste[i - 1]\n",
    "            \n",
    "            if niveau_actu == '#N/A':\n",
    "                niveau_actu = (niveau_prec + liste[i + 1])/2\n",
    "            elif niveau_prec == '#N/A':\n",
    "                niveau_prec = (niveau_actu + liste[i - 2])/2\n",
    "                \n",
    "            croissance = 100*(niveau_actu/niveau_prec - 1)\n",
    "            \n",
    "        res.append(croissance)\n",
    "    \n",
    "    return res\n",
    "### END SOLUTION"
   ]
  },
  {
   "cell_type": "markdown",
   "metadata": {
    "nbgrader": {
     "grade": false,
     "grade_id": "cell-5337c338b11c15b8",
     "locked": true,
     "schema_version": 1,
     "solution": false
    }
   },
   "source": [
    "Tester maintenant cette fonction :"
   ]
  },
  {
   "cell_type": "code",
   "execution_count": null,
   "metadata": {
    "nbgrader": {
     "grade": true,
     "grade_id": "cell-f44d1ee4fd698ca7",
     "locked": true,
     "points": 0,
     "schema_version": 1,
     "solution": false
    }
   },
   "outputs": [],
   "source": [
    "try:\n",
    "    calc_croissances(PIB3)\n",
    "except NotImplementedError:\n",
    "    print('Ce cas n\\'est pas implementé, c\\'est la bonne réponse.')\n",
    "else:\n",
    "    raise BaseException('Problème : il doit y avoir une erreur quelque part...')"
   ]
  },
  {
   "cell_type": "markdown",
   "metadata": {
    "nbgrader": {
     "grade": false,
     "grade_id": "cell-c882d6d8cafb574c",
     "locked": true,
     "schema_version": 1,
     "solution": false
    }
   },
   "source": [
    "# Modules\n",
    "\n",
    "## Exercice\n",
    "\n",
    "### Question\n",
    "\n",
    "Il existe une bibliothèque nommée sklearn qui contient un très grand nombre d'outils pour faire du Machine Learning qui possède un sous-module nommé linear_model. \n",
    "\n",
    "Importer ce sous-module directement, de manière à pouvoir l'appeler en utilisant le nom **lm**"
   ]
  },
  {
   "cell_type": "code",
   "execution_count": null,
   "metadata": {
    "nbgrader": {
     "grade": false,
     "grade_id": "cell-6b162c978a86925f",
     "locked": false,
     "schema_version": 1,
     "solution": true
    }
   },
   "outputs": [],
   "source": [
    "lm = None\n",
    "### BEGIN SOLUTION\n",
    "from sklearn import linear_model as lm\n",
    "### END SOLUTION"
   ]
  },
  {
   "cell_type": "code",
   "execution_count": null,
   "metadata": {
    "nbgrader": {
     "grade": true,
     "grade_id": "cell-89e028cb1074876b",
     "locked": true,
     "points": 1,
     "schema_version": 1,
     "solution": false
    }
   },
   "outputs": [],
   "source": [
    "lm"
   ]
  },
  {
   "cell_type": "markdown",
   "metadata": {
    "nbgrader": {
     "grade": false,
     "grade_id": "cell-c12b8852f09af74e",
     "locked": true,
     "schema_version": 1,
     "solution": false
    }
   },
   "source": [
    "### Question\n",
    "\n",
    "Afficher les 10 premiers éléments de la liste de l'ensemble des composants de ce sous-module.\n",
    "\n",
    "Il faut utiliser une fonction native de Python"
   ]
  },
  {
   "cell_type": "code",
   "execution_count": null,
   "metadata": {
    "nbgrader": {
     "grade": false,
     "grade_id": "cell-97d95ebfcd10fd82",
     "locked": false,
     "schema_version": 1,
     "solution": true
    }
   },
   "outputs": [],
   "source": [
    "reponse = None\n",
    "### BEGIN SOLUTION\n",
    "reponse = dir(lm)[:10]\n",
    "### END SOLUTION"
   ]
  },
  {
   "cell_type": "code",
   "execution_count": null,
   "metadata": {
    "nbgrader": {
     "grade": true,
     "grade_id": "cell-a6b29cd1a8be4aae",
     "locked": true,
     "points": 1,
     "schema_version": 1,
     "solution": false
    }
   },
   "outputs": [],
   "source": [
    "reponse"
   ]
  },
  {
   "cell_type": "markdown",
   "metadata": {
    "nbgrader": {
     "grade": false,
     "grade_id": "cell-b8772e8e0ef719ef",
     "locked": true,
     "schema_version": 1,
     "solution": false
    }
   },
   "source": [
    "### Question\n",
    "\n",
    "Ecrire une fonction **dir_objets** qui imprime seulement les classes d'un sous-module.\n",
    "\n",
    "Pour cela, on va supposer qu'une classe répond à 2 conditions:\n",
    "- Son nom commence par une **majuscule**\n",
    "- Son nom ne commence pas par un ***underscore*** (le caractère de soulignement : \\_)"
   ]
  },
  {
   "cell_type": "code",
   "execution_count": null,
   "metadata": {
    "nbgrader": {
     "grade": false,
     "grade_id": "cell-ee1728b4045a0f11",
     "locked": false,
     "schema_version": 1,
     "solution": true
    }
   },
   "outputs": [],
   "source": [
    "def dir_objets(): \n",
    "    pass\n",
    "### BEGIN SOLUTION\n",
    "def dir_objets(module):\n",
    "    res = []\n",
    "    for elem in dir(module):\n",
    "        if elem[0] != '_' and elem[0].isupper():\n",
    "            res.append(elem)\n",
    "    return res\n",
    "### END SOLUTION"
   ]
  },
  {
   "cell_type": "markdown",
   "metadata": {
    "nbgrader": {
     "grade": false,
     "grade_id": "cell-da204f13639a4caa",
     "locked": true,
     "schema_version": 1,
     "solution": false
    }
   },
   "source": [
    "Puis utiliser cette fonction sur lm"
   ]
  },
  {
   "cell_type": "code",
   "execution_count": null,
   "metadata": {
    "nbgrader": {
     "grade": true,
     "grade_id": "cell-5a30f3d4bd013c33",
     "locked": true,
     "points": 1,
     "schema_version": 1,
     "solution": false
    }
   },
   "outputs": [],
   "source": [
    "dir_objets(lm)"
   ]
  },
  {
   "cell_type": "markdown",
   "metadata": {
    "nbgrader": {
     "grade": false,
     "grade_id": "cell-4094b29124098dfa",
     "locked": true,
     "schema_version": 1,
     "solution": false
    }
   },
   "source": [
    "## Exercice\n",
    "\n",
    "### Question\n",
    "\n",
    "Python a un module **datetime** qui permet de faire beaucoup de choses en relation avec le temps. \n",
    "\n",
    "Importer ce module et afficher la liste de ses composants"
   ]
  },
  {
   "cell_type": "code",
   "execution_count": null,
   "metadata": {
    "nbgrader": {
     "grade": false,
     "grade_id": "cell-fffc6454a11b5ecf",
     "locked": false,
     "schema_version": 1,
     "solution": true
    }
   },
   "outputs": [],
   "source": [
    "reponse = None\n",
    "### BEGIN SOLUTION\n",
    "import datetime\n",
    "reponse = dir(datetime)\n",
    "### END SOLUTION"
   ]
  },
  {
   "cell_type": "code",
   "execution_count": null,
   "metadata": {
    "nbgrader": {
     "grade": true,
     "grade_id": "cell-0167a75eae045969",
     "locked": true,
     "points": 1,
     "schema_version": 1,
     "solution": false
    }
   },
   "outputs": [],
   "source": [
    "reponse"
   ]
  },
  {
   "cell_type": "markdown",
   "metadata": {
    "nbgrader": {
     "grade": false,
     "grade_id": "cell-8a39b6697172ae66",
     "locked": true,
     "schema_version": 1,
     "solution": false
    }
   },
   "source": [
    "### Question\n",
    "\n",
    "Afficher la date et l'heure qu'il est actuellement"
   ]
  },
  {
   "cell_type": "code",
   "execution_count": null,
   "metadata": {
    "nbgrader": {
     "grade": false,
     "grade_id": "cell-87f4b0f1527fb97c",
     "locked": false,
     "schema_version": 1,
     "solution": true
    }
   },
   "outputs": [],
   "source": [
    "reponse = None\n",
    "### BEGIN SOLUTION\n",
    "reponse = datetime.datetime.now()\n",
    "### END SOLUTION"
   ]
  },
  {
   "cell_type": "code",
   "execution_count": null,
   "metadata": {
    "nbgrader": {
     "grade": true,
     "grade_id": "cell-f5d4edeaa6ea0291",
     "locked": true,
     "points": 1,
     "schema_version": 1,
     "solution": false
    }
   },
   "outputs": [],
   "source": [
    "print(reponse)"
   ]
  },
  {
   "cell_type": "markdown",
   "metadata": {
    "nbgrader": {
     "grade": false,
     "grade_id": "cell-8a39b6697172ae67",
     "locked": true,
     "schema_version": 1,
     "solution": false
    }
   },
   "source": [
    "### Question\n",
    "\n",
    "Afficher la date qu'il sera dans 10 jours"
   ]
  },
  {
   "cell_type": "code",
   "execution_count": null,
   "metadata": {
    "nbgrader": {
     "grade": false,
     "grade_id": "cell-87f4b0f1527fb97d",
     "locked": false,
     "schema_version": 1,
     "solution": true
    }
   },
   "outputs": [],
   "source": [
    "reponse = None\n",
    "### BEGIN SOLUTION\n",
    "reponse = datetime.datetime.now() + datetime.timedelta(days=10)\n",
    "### END SOLUTION"
   ]
  },
  {
   "cell_type": "code",
   "execution_count": null,
   "metadata": {
    "nbgrader": {
     "grade": true,
     "grade_id": "cell-f5d4edeaa6ea0292",
     "locked": true,
     "points": 1,
     "schema_version": 1,
     "solution": false
    }
   },
   "outputs": [],
   "source": [
    "print(reponse.date())"
   ]
  },
  {
   "cell_type": "markdown",
   "metadata": {
    "nbgrader": {
     "grade": false,
     "grade_id": "cell-b0ad55f012f8295b",
     "locked": true,
     "schema_version": 1,
     "solution": false
    }
   },
   "source": [
    "# Gestion de fichiers\n",
    "\n",
    "## Exercice\n",
    "\n",
    "### Question\n",
    "\n",
    "Ouvrir le fichier Googleflights.csv qui est localisé à l'adresse contenue dans la variable **CHEMIN_FICHIER** et en charger le contenu dans la variable **contenu**. \n",
    "\n",
    "Cette variable doit être une liste contenant les différentes lignes du fichier.\n",
    "\n",
    "Attention : les caractères de retour à la ligne doivent être retirés"
   ]
  },
  {
   "cell_type": "code",
   "execution_count": null,
   "metadata": {
    "nbgrader": {
     "grade": false,
     "grade_id": "cell-be8ad0b6be0cd1a6",
     "locked": true,
     "schema_version": 1,
     "solution": false
    }
   },
   "outputs": [],
   "source": [
    "CHEMIN_FICHIER = '../../data/Googleflights.csv'"
   ]
  },
  {
   "cell_type": "code",
   "execution_count": null,
   "metadata": {
    "nbgrader": {
     "grade": false,
     "grade_id": "cell-e8fa36e1e1cd5a2a",
     "locked": false,
     "schema_version": 1,
     "solution": true
    }
   },
   "outputs": [],
   "source": [
    "contenu = None\n",
    "### BEGIN SOLUTION\n",
    "with open(CHEMIN_FICHIER, encoding='utf-8') as fichier:\n",
    "    contenu = fichier.read().splitlines()\n",
    "### END SOLUTION"
   ]
  },
  {
   "cell_type": "code",
   "execution_count": null,
   "metadata": {
    "nbgrader": {
     "grade": true,
     "grade_id": "cell-c872b66d1ed7d6d1",
     "locked": true,
     "points": 1,
     "schema_version": 1,
     "solution": false
    }
   },
   "outputs": [],
   "source": [
    "contenu[:4]"
   ]
  },
  {
   "cell_type": "markdown",
   "metadata": {
    "nbgrader": {
     "grade": false,
     "grade_id": "cell-8d0712a0d67ffac6",
     "locked": true,
     "schema_version": 1,
     "solution": false
    }
   },
   "source": [
    "### Question\n",
    "\n",
    "Créer une liste des titres de colonne à partir de la première ligne"
   ]
  },
  {
   "cell_type": "code",
   "execution_count": null,
   "metadata": {
    "nbgrader": {
     "grade": false,
     "grade_id": "cell-b2058d8244fdbec7",
     "locked": false,
     "schema_version": 1,
     "solution": true
    }
   },
   "outputs": [],
   "source": [
    "liste_titres = None\n",
    "### BEGIN SOLUTION\n",
    "liste_titres = contenu[0].split(';')\n",
    "### END SOLUTION"
   ]
  },
  {
   "cell_type": "code",
   "execution_count": null,
   "metadata": {
    "nbgrader": {
     "grade": true,
     "grade_id": "cell-b0da5aeaf756dcb3",
     "locked": true,
     "points": 1,
     "schema_version": 1,
     "solution": false
    }
   },
   "outputs": [],
   "source": [
    "liste_titres"
   ]
  },
  {
   "cell_type": "markdown",
   "metadata": {
    "nbgrader": {
     "grade": false,
     "grade_id": "cell-bfb2e1a8342b41d4",
     "locked": true,
     "schema_version": 1,
     "solution": false
    }
   },
   "source": [
    "### Question\n",
    "\n",
    "Créer une liste des lignes de données à partir des lignes suivantes et faites en sorte que cette liste contienne des lignes qui soient elle-même séparées en éléments individuels"
   ]
  },
  {
   "cell_type": "code",
   "execution_count": null,
   "metadata": {
    "nbgrader": {
     "grade": false,
     "grade_id": "cell-6741ec3e3c2d23f9",
     "locked": false,
     "schema_version": 1,
     "solution": true
    }
   },
   "outputs": [],
   "source": [
    "liste_donnees = None\n",
    "### BEGIN SOLUTION\n",
    "liste_donnees = []\n",
    "for line in contenu[1:]:\n",
    "    liste_donnees.append(line.split(';'))\n",
    "\n",
    "### END SOLUTION"
   ]
  },
  {
   "cell_type": "code",
   "execution_count": null,
   "metadata": {
    "nbgrader": {
     "grade": true,
     "grade_id": "cell-f8e22f0d73527795",
     "locked": true,
     "points": 1,
     "schema_version": 1,
     "solution": false
    }
   },
   "outputs": [],
   "source": [
    "liste_donnees[:2]"
   ]
  },
  {
   "cell_type": "markdown",
   "metadata": {
    "nbgrader": {
     "grade": false,
     "grade_id": "cell-d284ba217e406c10",
     "locked": true,
     "schema_version": 1,
     "solution": false
    }
   },
   "source": [
    "### Question\n",
    "\n",
    "Créér un dictionnaire **dict_data** qui à chaque nom de colonne de **liste_titres** associe une liste contenant l'ensemble des données de cette colonne"
   ]
  },
  {
   "cell_type": "code",
   "execution_count": null,
   "metadata": {
    "nbgrader": {
     "grade": false,
     "grade_id": "cell-ccb6169f9acb7bef",
     "locked": false,
     "schema_version": 1,
     "solution": true
    }
   },
   "outputs": [],
   "source": [
    "dict_data = None\n",
    "### BEGIN SOLUTION\n",
    "dict_data = {}\n",
    "for i in range(len(liste_titres)):\n",
    "    list_data = []\n",
    "    for line in liste_donnees:\n",
    "        list_data.append(line[i])\n",
    "    dict_data[liste_titres[i]] = list_data\n",
    "\n",
    "### END SOLUTION"
   ]
  },
  {
   "cell_type": "code",
   "execution_count": null,
   "metadata": {
    "nbgrader": {
     "grade": true,
     "grade_id": "cell-5fadd4b222ec745b",
     "locked": true,
     "points": 1,
     "schema_version": 1,
     "solution": false
    }
   },
   "outputs": [],
   "source": [
    "dict_data['price'][:10]"
   ]
  },
  {
   "cell_type": "markdown",
   "metadata": {
    "nbgrader": {
     "grade": false,
     "grade_id": "cell-284ae968c394b89e",
     "locked": true,
     "schema_version": 1,
     "solution": false
    }
   },
   "source": [
    "# Classes et objets\n",
    "\n",
    "## Exercice\n",
    "\n",
    "### Question\n",
    "\n",
    "Ecrire une classe **Cercle**, avec :\n",
    "- un attribut **rayon** qui est initialisé directement à la création d'un objet **Cercle** grâce à un paramètre\n",
    "- une méthode **surface** renvoyant la surface de ce cercle\n",
    "- une méthode **perimetre** renvoyant le périmètre de ce cercle \n",
    "\n",
    "Il est recommendé d'importer et utiliser la variable **pi** qui est disponible dans le module **math**\n",
    "\n"
   ]
  },
  {
   "cell_type": "code",
   "execution_count": null,
   "metadata": {
    "nbgrader": {
     "grade": false,
     "grade_id": "cell-5a220e18bc3c53cc",
     "locked": false,
     "schema_version": 1,
     "solution": true
    }
   },
   "outputs": [],
   "source": [
    "class Cercle:\n",
    "    pass\n",
    "### BEGIN SOLUTION\n",
    "from math import pi\n",
    "\n",
    "class Cercle:\n",
    "    def __init__(self, rayon):\n",
    "        self.rayon = rayon\n",
    "    \n",
    "    def surface(self):\n",
    "        return pi*self.rayon**2\n",
    "    \n",
    "    def perimetre(self):\n",
    "        return 2*pi*self.rayon  \n",
    "### END SOLUTION      "
   ]
  },
  {
   "cell_type": "code",
   "execution_count": null,
   "metadata": {
    "nbgrader": {
     "grade": true,
     "grade_id": "cell-986b072d9cfc7c73",
     "locked": true,
     "points": 0,
     "schema_version": 1,
     "solution": false
    }
   },
   "outputs": [],
   "source": [
    "Cercle"
   ]
  },
  {
   "cell_type": "markdown",
   "metadata": {
    "nbgrader": {
     "grade": false,
     "grade_id": "cell-842196367e6477b6",
     "locked": true,
     "schema_version": 1,
     "solution": false
    }
   },
   "source": [
    "### Question\n",
    "\n",
    "Créer maintenant un objet **mon_cercle** qui est un **Cercle** de rayon 3"
   ]
  },
  {
   "cell_type": "code",
   "execution_count": null,
   "metadata": {
    "nbgrader": {
     "grade": false,
     "grade_id": "cell-96f0b245debc7e6b",
     "locked": false,
     "schema_version": 1,
     "solution": true
    }
   },
   "outputs": [],
   "source": [
    "mon_cercle = None\n",
    "### BEGIN SOLUTION\n",
    "mon_cercle = Cercle(3)\n",
    "### END SOLUTION"
   ]
  },
  {
   "cell_type": "code",
   "execution_count": null,
   "metadata": {
    "nbgrader": {
     "grade": true,
     "grade_id": "cell-338bafb77c9d32ed",
     "locked": true,
     "points": 0,
     "schema_version": 1,
     "solution": false
    }
   },
   "outputs": [],
   "source": [
    "mon_cercle.rayon"
   ]
  },
  {
   "cell_type": "markdown",
   "metadata": {
    "nbgrader": {
     "grade": false,
     "grade_id": "cell-62db94ce61d1d158",
     "locked": true,
     "schema_version": 1,
     "solution": false
    }
   },
   "source": [
    "### Question\n",
    "\n",
    "Utiliser ses méthodes pour obtenir la surface et le périmètre de ce cercle"
   ]
  },
  {
   "cell_type": "code",
   "execution_count": null,
   "metadata": {
    "nbgrader": {
     "grade": true,
     "grade_id": "cell-e43500664b19ca7a",
     "locked": true,
     "points": 0,
     "schema_version": 1,
     "solution": false
    }
   },
   "outputs": [],
   "source": [
    "mon_cercle.surface()"
   ]
  },
  {
   "cell_type": "code",
   "execution_count": null,
   "metadata": {
    "nbgrader": {
     "grade": true,
     "grade_id": "cell-26968a21025e6fba",
     "locked": true,
     "points": 0,
     "schema_version": 1,
     "solution": false
    }
   },
   "outputs": [],
   "source": [
    "mon_cercle.perimetre()"
   ]
  },
  {
   "cell_type": "markdown",
   "metadata": {
    "nbgrader": {
     "grade": false,
     "grade_id": "cell-1468fb2ba8c4aa52",
     "locked": true,
     "schema_version": 1,
     "solution": false
    }
   },
   "source": [
    "### Question\n",
    "\n",
    "Générer une liste de 10 objets Cercle dont les rayons vont de 1 à 10."
   ]
  },
  {
   "cell_type": "code",
   "execution_count": null,
   "metadata": {
    "nbgrader": {
     "grade": false,
     "grade_id": "cell-158fef97d636dc31",
     "locked": false,
     "schema_version": 1,
     "solution": true
    }
   },
   "outputs": [],
   "source": [
    "liste_cercles = None\n",
    "### BEGIN SOLUTION\n",
    "liste_cercles = [Cercle(r) for r in range(1, 11)]\n",
    "### END SOLUTION"
   ]
  },
  {
   "cell_type": "code",
   "execution_count": null,
   "metadata": {
    "nbgrader": {
     "grade": true,
     "grade_id": "cell-7146d3e342c9f668",
     "locked": true,
     "points": 0,
     "schema_version": 1,
     "solution": false
    }
   },
   "outputs": [],
   "source": [
    "for elem in liste_cercles:\n",
    "    print(elem.surface())"
   ]
  },
  {
   "cell_type": "markdown",
   "metadata": {
    "nbgrader": {
     "grade": false,
     "grade_id": "cell-3743ef073cf603e1",
     "locked": true,
     "schema_version": 1,
     "solution": false
    }
   },
   "source": [
    "### Question\n",
    "\n",
    "Ecrire une classe **Cylindre** qui :\n",
    "- hérite de la classe **Cercle** (après tout, un cylindre est un cercle avec une hauteur...)\n",
    "- possède un attribut **cercle_type** (le cercle représentant chaque tranche du cylindre), qui est un objet de type **Cercle**, \n",
    "- possède un attribut **hauteur**, représentant la hauteur du cylindre\n",
    "- possède deux méthodes **surface** et **perimetre** surchargées\n",
    "- possède une méthode propre **volume** qui renvoie le volume de ce cylindre\n",
    "- dont les objets sont initialisés en prenant respectivement comme paramètre le rayon et la hauteur de ce **Cylindre**"
   ]
  },
  {
   "cell_type": "code",
   "execution_count": null,
   "metadata": {
    "nbgrader": {
     "grade": false,
     "grade_id": "cell-ddf21e3f17f74a4b",
     "locked": false,
     "schema_version": 1,
     "solution": true
    }
   },
   "outputs": [],
   "source": [
    "class Cylindre:\n",
    "    pass\n",
    "### BEGIN SOLUTION\n",
    "class Cylindre(Cercle):\n",
    "    def __init__(self, rayon, hauteur):\n",
    "        Cercle.__init__(self, rayon)\n",
    "        self.cercle_type = Cercle(rayon)\n",
    "        self.hauteur = hauteur\n",
    "    \n",
    "    def surface(self):\n",
    "        # Cacul de la surface de la partie incurvée\n",
    "        surf_cote = self.cercle_type.perimetre()*self.hauteur\n",
    "        # Caclul de la surface de chacun des cercles d'extremité\n",
    "        surf_extrem = self.cercle_type.surface()\n",
    "        return surf_cote + 2*surf_extrem\n",
    "    \n",
    "    def volume(self):\n",
    "        # Faisons une méthode de calcul de ce volume\n",
    "        return self.cercle_type.surface()*self.hauteur\n",
    "### END SOLUTION"
   ]
  },
  {
   "cell_type": "code",
   "execution_count": null,
   "metadata": {
    "nbgrader": {
     "grade": true,
     "grade_id": "cell-24e85a657475799a",
     "locked": true,
     "points": 0,
     "schema_version": 1,
     "solution": false
    }
   },
   "outputs": [],
   "source": [
    "Cylindre"
   ]
  },
  {
   "cell_type": "markdown",
   "metadata": {
    "nbgrader": {
     "grade": false,
     "grade_id": "cell-d34a7a566071dfc8",
     "locked": true,
     "schema_version": 1,
     "solution": false
    }
   },
   "source": [
    "### Question\n",
    "\n",
    "Créeons un objet **mon_cylindre** qui est un Cylindre de rayon 3 et de hauteur 5"
   ]
  },
  {
   "cell_type": "code",
   "execution_count": null,
   "metadata": {
    "nbgrader": {
     "grade": false,
     "grade_id": "cell-a1fac8dca45d56ed",
     "locked": false,
     "schema_version": 1,
     "solution": true
    }
   },
   "outputs": [],
   "source": [
    "mon_cylindre = None\n",
    "### BEGIN SOLUTION\n",
    "mon_cylindre = Cylindre(3, 5)\n",
    "### END SOLUTION"
   ]
  },
  {
   "cell_type": "code",
   "execution_count": null,
   "metadata": {
    "nbgrader": {
     "grade": true,
     "grade_id": "cell-945f2cf49cd9899e",
     "locked": true,
     "points": 0,
     "schema_version": 1,
     "solution": false
    }
   },
   "outputs": [],
   "source": [
    "mon_cylindre.hauteur"
   ]
  },
  {
   "cell_type": "markdown",
   "metadata": {
    "nbgrader": {
     "grade": false,
     "grade_id": "cell-106d6add30142018",
     "locked": true,
     "schema_version": 1,
     "solution": false
    }
   },
   "source": [
    "Utiliser ses méthodes pour obtenir le volume et la surface de ce cylindre"
   ]
  },
  {
   "cell_type": "code",
   "execution_count": null,
   "metadata": {
    "nbgrader": {
     "grade": true,
     "grade_id": "cell-abd80fd377dc7615",
     "locked": true,
     "points": 0,
     "schema_version": 1,
     "solution": false
    }
   },
   "outputs": [],
   "source": [
    "mon_cylindre.volume()"
   ]
  },
  {
   "cell_type": "code",
   "execution_count": null,
   "metadata": {
    "nbgrader": {
     "grade": true,
     "grade_id": "cell-30d31c76a2e87a8c",
     "locked": true,
     "points": 0,
     "schema_version": 1,
     "solution": false
    }
   },
   "outputs": [],
   "source": [
    "mon_cylindre.surface()"
   ]
  },
  {
   "cell_type": "markdown",
   "metadata": {
    "collapsed": true,
    "jupyter": {
     "outputs_hidden": true
    },
    "nbgrader": {
     "grade": false,
     "grade_id": "cell-dba3420ad73e7ad7",
     "locked": true,
     "schema_version": 1,
     "solution": false
    }
   },
   "source": [
    "# Envoi du Notebook\n",
    "\n",
    "Pour envoyer automatiquement ce Notebook par mail: \n",
    "1. enregistrez votre notebook avant de continuer,\n",
    "2. assignez True à ENVOI_DU_NOTEBOOK, \n",
    "3. puis exécutez les cellules ci-dessous\n",
    "\n",
    "Sinon, merci de me l'envoyer manuellement par mail à l'adresse icarwiz@yahoo.fr"
   ]
  },
  {
   "cell_type": "code",
   "execution_count": null,
   "metadata": {},
   "outputs": [],
   "source": [
    "ENVOI_DU_NOTEBOOK = False"
   ]
  },
  {
   "cell_type": "code",
   "execution_count": null,
   "metadata": {
    "nbgrader": {
     "grade": false,
     "grade_id": "cell-2bd0ced058392464",
     "locked": true,
     "schema_version": 1,
     "solution": false
    }
   },
   "outputs": [],
   "source": [
    "import send_it\n",
    "import hashlib\n",
    "import getpass\n",
    "\n",
    "if ENVOI_DU_NOTEBOOK:\n",
    "    \n",
    "    with open('../../hash_key.hash', encoding='utf-8') as srcfile:\n",
    "        hashcontent = srcfile.read().splitlines()\n",
    "    \n",
    "    assert mon_nom == hashcontent[0], '\\nAttention votre nom n\\'est pas identique à celui que vous aviez entré lors de votre enregistrement !\\nVous aviez utilisé le nom : ' + hashcontent[0]\n",
    "\n",
    "    hashed_password = hashlib.sha256(getpass.getpass('Entrez votre mot de passe : \\n\\n').encode('utf-8')).hexdigest()\n",
    "\n",
    "    assert hashed_password == hashcontent[2], '\\nAttention votre mot de passe n\\'est pas identique à celui que vous aviez entré lors de votre enregistrement ! \\n'\n",
    "\n",
    "    contenu_a_envoyer = f'{mon_nom}\\n{hashcontent[1]}\\n{hashed_password}'\n",
    "\n",
    "    print('Merci')\n",
    "\n",
    "    send_it.sendemail('Devoir no 1', '', 'Devoir_no_1.ipynb')"
   ]
  }
 ],
 "metadata": {
  "kernelspec": {
   "display_name": "Python 3 (ipykernel)",
   "language": "python",
   "name": "python3"
  },
  "language_info": {
   "codemirror_mode": {
    "name": "ipython",
    "version": 3
   },
   "file_extension": ".py",
   "mimetype": "text/x-python",
   "name": "python",
   "nbconvert_exporter": "python",
   "pygments_lexer": "ipython3",
   "version": "3.10.12"
  },
  "toc": {
   "base_numbering": 1,
   "nav_menu": {},
   "number_sections": true,
   "sideBar": true,
   "skip_h1_title": false,
   "title_cell": "Table of Contents",
   "title_sidebar": "Contents",
   "toc_cell": false,
   "toc_position": {
    "height": "calc(100% - 180px)",
    "left": "10px",
    "top": "150px",
    "width": "165px"
   },
   "toc_section_display": true,
   "toc_window_display": false
  },
  "varInspector": {
   "cols": {
    "lenName": 16,
    "lenType": 16,
    "lenVar": 40
   },
   "kernels_config": {
    "python": {
     "delete_cmd_postfix": "",
     "delete_cmd_prefix": "del ",
     "library": "var_list.py",
     "varRefreshCmd": "print(var_dic_list())"
    },
    "r": {
     "delete_cmd_postfix": ") ",
     "delete_cmd_prefix": "rm(",
     "library": "var_list.r",
     "varRefreshCmd": "cat(var_dic_list()) "
    }
   },
   "types_to_exclude": [
    "module",
    "function",
    "builtin_function_or_method",
    "instance",
    "_Feature"
   ],
   "window_display": false
  }
 },
 "nbformat": 4,
 "nbformat_minor": 4
}

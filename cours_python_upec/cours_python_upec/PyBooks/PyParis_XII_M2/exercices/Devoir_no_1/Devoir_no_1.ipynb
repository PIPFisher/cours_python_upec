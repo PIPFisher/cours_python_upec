{
 "cells": [
  {
   "cell_type": "markdown",
   "metadata": {
    "deletable": false,
    "editable": false
   },
   "source": [
    "<br>\n",
    "<div align=\"right\">Enseignant : Aric Wizenberg</div>\n",
    "<div align=\"right\">E-mail : icarwiz@yahoo.fr</div>\n",
    "<div align=\"right\">Année : 2018/2019</div><br><br><br>\n",
    "<div align=\"center\"><span style=\"font-family:Lucida Caligraphy;font-size:32px;color:darkgreen\">Master 2 MASERATI - Cours de Python</span></div><br><br>\n",
    "<div align=\"center\"><span style=\"font-family:Lucida Caligraphy;font-size:24px;color:#e60000\">Exercices du chapitre 1 et 3</span></div><br><br>\n",
    "<hr>"
   ]
  },
  {
   "cell_type": "markdown",
   "metadata": {
    "deletable": false,
    "editable": false
   },
   "source": [
    "# Instructions\n",
    "\n",
    "- Lire attentivement l'ensemble des instructions des exercices\n",
    "- Avant d'envoyer ce devoir, assurez-vous que tout fonctionne comme prévu :\n",
    "    - **Redémarrez d'abord le noyau** (dans la barre de menus, sélectionnez Kernel$\\rightarrow$Restart) \n",
    "    - puis **exécutez toutes les cellules** (dans la barre de menus, sélectionnez Cell$\\rightarrow$Run All)\n",
    "- N'oubliez pas de taper vos réponses à tout endroit portant la mention :\n",
    "    - `# Ecrivez votre code ci-dessous` lorsqu'une réponse en code Python est attendue, \n",
    "    - \"# Ecrivez votre réponse ci-dessous\" lorsqu'une réponse en français est attendue, \n",
    "- Vous verrez que lorsque dans une cellule de code, la définition d'un objet est attendue:\n",
    "    - S'il s'agit d'une variable, il sera écrit en début de cellule `nom_de_variable = None`, dans ce cas, il faudra que votre code définisse cette variable (en utilisant une ou plusieurs lignes de code)\n",
    "    - S'il s'agit d'une fonction, il sera écrit en début de cellule `def nom_de_fonction(): pass`, dans ce cas, il faudra que votre code définisse cette fonction (en utilisant plusieurs lignes de code)\n",
    "    - S'il s'agit d'une fonction, il sera écrit en début de cellule `class NomDeClasse: pass`, dans ce cas, il faudra que votre code définisse cette classe (en utilisant plusieurs lignes de code)\n",
    "- Sauf lorsque c'est clairement spécifié, vous n'avez pas le droit d'utiliser de modules dans ce devoir\n",
    "- Indiquez votre nom ci-dessous :"
   ]
  },
  {
   "cell_type": "code",
   "execution_count": null,
   "metadata": {},
   "outputs": [],
   "source": [
    "mon_nom = ''"
   ]
  },
  {
   "cell_type": "markdown",
   "metadata": {
    "deletable": false,
    "editable": false
   },
   "source": [
    "---"
   ]
  },
  {
   "cell_type": "markdown",
   "metadata": {
    "deletable": false,
    "editable": false,
    "nbgrader": {
     "checksum": "a0cc11d0a664a4253fa1a971052f42e9",
     "grade": false,
     "grade_id": "cell-8cc5fd323320f140",
     "locked": true,
     "schema_version": 1,
     "solution": false
    }
   },
   "source": [
    "**Devoir à rendre pour le 4 novembre**"
   ]
  },
  {
   "cell_type": "markdown",
   "metadata": {
    "deletable": false,
    "editable": false,
    "nbgrader": {
     "checksum": "d2dfafb6df233d5f3df4a96f9ed16f07",
     "grade": false,
     "grade_id": "cell-2ac54a58651d08f2",
     "locked": true,
     "schema_version": 1,
     "solution": false
    }
   },
   "source": [
    "# Variables et types de base\n",
    "\n",
    "## Exercice\n",
    "\n",
    "Soit le texte suivant, assigné à la variable **TEXTE_WIKI** \n",
    "\n",
    "(Son nom est en majuscules pour signifier qu'on doit la considérer comme une constante)"
   ]
  },
  {
   "cell_type": "code",
   "execution_count": 3,
   "metadata": {
    "ExecuteTime": {
     "end_time": "2019-02-02T21:51:08.577105Z",
     "start_time": "2019-02-02T21:51:08.557387Z"
    },
    "deletable": false,
    "editable": false,
    "nbgrader": {
     "checksum": "cf46c0f4e7b938de97f53b3d7739bdeb",
     "grade": false,
     "grade_id": "cell-19d403b355122b0c",
     "locked": true,
     "schema_version": 1,
     "solution": false
    }
   },
   "outputs": [],
   "source": [
    "TEXTE_WIKI = '''La 75e cérémonie des Golden Globes, organisée par la Hollywood Foreign Press Association, a eu lieu le 7 janvier 2018 et récompense les films et séries diffusés en 2017, ainsi que les professionnels s'étant distingués cette année-là.\n",
    "L'humoriste et animateur de télévision Seth Meyers présente pour la première fois la cérémonie qui est diffusée sur le réseau NBC. Il succède ainsi à Jimmy Fallon qui avait animé la cérémonie précédente.\n",
    "Les nominations sont annoncées le 11 décembre 2017 au Beverly Hilton Hotel par Sharon Stone, Alfre Woodard, Garrett Hedlund et Kristen Bell.\n",
    "Le Cecil B. DeMille Award est attribué à Oprah Winfrey pour récompenser l'ensemble de sa carrière.'''"
   ]
  },
  {
   "cell_type": "code",
   "execution_count": 4,
   "metadata": {
    "ExecuteTime": {
     "end_time": "2019-02-02T21:51:22.407260Z",
     "start_time": "2019-02-02T21:51:22.387102Z"
    }
   },
   "outputs": [
    {
     "data": {
      "text/plain": [
       "str"
      ]
     },
     "execution_count": 4,
     "metadata": {},
     "output_type": "execute_result"
    }
   ],
   "source": [
    "type(TEXTE_WIKI)"
   ]
  },
  {
   "cell_type": "markdown",
   "metadata": {
    "ExecuteTime": {
     "end_time": "2018-10-02T18:27:29.884817Z",
     "start_time": "2018-10-02T18:27:29.760017Z"
    },
    "deletable": false,
    "editable": false,
    "nbgrader": {
     "checksum": "b2aa4bd102b14fd84dbedbc12c04d8e9",
     "grade": false,
     "grade_id": "cell-6c3be00996d7ad80",
     "locked": true,
     "schema_version": 1,
     "solution": false
    }
   },
   "source": [
    "### Question\n",
    "\n",
    "Assigner le type de cette variable à la variable réponse.\n",
    "\n",
    "Ne pas répondre directement, utiliser une fonction de Python."
   ]
  },
  {
   "cell_type": "code",
   "execution_count": 1,
   "metadata": {
    "ExecuteTime": {
     "end_time": "2019-02-02T21:50:16.198693Z",
     "start_time": "2019-02-02T21:50:16.188417Z"
    },
    "deletable": false,
    "nbgrader": {
     "checksum": "ec578605704285f794ae0882031e547f",
     "grade": false,
     "grade_id": "cell-5fe6cf57d3da9cda",
     "locked": false,
     "schema_version": 1,
     "solution": true
    }
   },
   "outputs": [],
   "source": [
    "reponse = None\n",
    "# Ecrivez votre code ci-dessous"
   ]
  },
  {
   "cell_type": "code",
   "execution_count": 2,
   "metadata": {
    "ExecuteTime": {
     "end_time": "2019-02-02T21:50:17.363411Z",
     "start_time": "2019-02-02T21:50:17.349166Z"
    },
    "deletable": false,
    "editable": false,
    "nbgrader": {
     "checksum": "ce7759bd732c861099b521f346f3c1fc",
     "grade": true,
     "grade_id": "cell-5aea1baf2b42c3c5",
     "locked": true,
     "points": 1,
     "schema_version": 1,
     "solution": false
    }
   },
   "outputs": [],
   "source": [
    "reponse"
   ]
  },
  {
   "cell_type": "markdown",
   "metadata": {
    "deletable": false,
    "editable": false,
    "nbgrader": {
     "checksum": "f38bb6175bc30fd5e449d47a90ed0cbc",
     "grade": false,
     "grade_id": "cell-8f857b54fcaf3f5e",
     "locked": true,
     "schema_version": 1,
     "solution": false
    }
   },
   "source": [
    "### Question\n",
    "\n",
    "Assigner les 50 premiers caractères de cette chaine à la variable reponse"
   ]
  },
  {
   "cell_type": "code",
   "execution_count": 5,
   "metadata": {
    "ExecuteTime": {
     "end_time": "2019-02-02T21:52:10.301733Z",
     "start_time": "2019-02-02T21:52:10.298734Z"
    },
    "deletable": false,
    "nbgrader": {
     "checksum": "987e147239b17ec9b72d1d4b1666a93f",
     "grade": false,
     "grade_id": "cell-d83bd4641ace0db1",
     "locked": false,
     "schema_version": 1,
     "solution": true
    }
   },
   "outputs": [],
   "source": [
    "reponse = None\n",
    "# Ecrivez votre code ci-dessous"
   ]
  },
  {
   "cell_type": "code",
   "execution_count": 6,
   "metadata": {
    "ExecuteTime": {
     "end_time": "2019-02-02T21:52:12.907356Z",
     "start_time": "2019-02-02T21:52:12.897564Z"
    },
    "deletable": false,
    "editable": false,
    "nbgrader": {
     "checksum": "f80337047baf3fff79c1ca8cee6d9e36",
     "grade": true,
     "grade_id": "cell-5156cd4ad79c4108",
     "locked": true,
     "points": 1,
     "schema_version": 1,
     "solution": false
    }
   },
   "outputs": [],
   "source": [
    "reponse"
   ]
  },
  {
   "cell_type": "markdown",
   "metadata": {
    "deletable": false,
    "editable": false,
    "nbgrader": {
     "checksum": "3b659eb894538f1b083e67733de96a30",
     "grade": false,
     "grade_id": "cell-f8cf6f2b1dd02d9e",
     "locked": true,
     "schema_version": 1,
     "solution": false
    }
   },
   "source": [
    "### Question\n",
    "\n",
    "Créer une variable **texte_minus** contenant le texte **TEXTE_WIKI** où toutes les lettres sont en minuscules."
   ]
  },
  {
   "cell_type": "code",
   "execution_count": null,
   "metadata": {
    "deletable": false,
    "nbgrader": {
     "checksum": "08ff4398d422d57fc00578c536bac8f6",
     "grade": false,
     "grade_id": "cell-e7baa278a274591e",
     "locked": false,
     "schema_version": 1,
     "solution": true
    }
   },
   "outputs": [],
   "source": [
    "texte_minus = None\n",
    "# Ecrivez votre code ci-dessous"
   ]
  },
  {
   "cell_type": "code",
   "execution_count": null,
   "metadata": {
    "deletable": false,
    "editable": false,
    "nbgrader": {
     "checksum": "b23aa2c0c8301bcb050898e6e93c20ac",
     "grade": true,
     "grade_id": "cell-c2dab2cf53087dee",
     "locked": true,
     "points": 1,
     "schema_version": 1,
     "solution": false
    }
   },
   "outputs": [],
   "source": [
    "texte_minus"
   ]
  },
  {
   "cell_type": "markdown",
   "metadata": {
    "deletable": false,
    "editable": false,
    "nbgrader": {
     "checksum": "8b2b2dd8e8a85b1c43eac6d8d8350496",
     "grade": false,
     "grade_id": "cell-215f96cfd4576ebe",
     "locked": true,
     "schema_version": 1,
     "solution": false
    }
   },
   "source": [
    "### Question\n",
    "\n",
    "Définir **texte_clean** à partir de **texte_minus** de manière à ce qu'il contienne l'ensemble du texte **texte_minus** mais sans points ni virgules"
   ]
  },
  {
   "cell_type": "code",
   "execution_count": null,
   "metadata": {
    "deletable": false,
    "nbgrader": {
     "checksum": "2226d84a2a56d93bdc8a17c935024468",
     "grade": false,
     "grade_id": "cell-82c278629c8c906f",
     "locked": false,
     "schema_version": 1,
     "solution": true
    }
   },
   "outputs": [],
   "source": [
    "texte_clean = None\n",
    "# Ecrivez votre code ci-dessous"
   ]
  },
  {
   "cell_type": "code",
   "execution_count": null,
   "metadata": {
    "deletable": false,
    "editable": false,
    "nbgrader": {
     "checksum": "bf10600c257322d5abcf0961489dbbaf",
     "grade": true,
     "grade_id": "cell-24c893d2db667956",
     "locked": true,
     "points": 1,
     "schema_version": 1,
     "solution": false
    }
   },
   "outputs": [],
   "source": [
    "texte_clean"
   ]
  },
  {
   "cell_type": "markdown",
   "metadata": {
    "deletable": false,
    "editable": false,
    "nbgrader": {
     "checksum": "fc78accc302eb73288b4760e068d4639",
     "grade": false,
     "grade_id": "cell-f9f3c7844f1b8a77",
     "locked": true,
     "schema_version": 1,
     "solution": false
    }
   },
   "source": [
    "### Question\n",
    "\n",
    "Définir **texte_decoup** de manière à ce qu'elle contienne l'ensemble des \"mots\" (ou des nombres) de **texte_clean** découpé sur la base des espaces."
   ]
  },
  {
   "cell_type": "code",
   "execution_count": null,
   "metadata": {
    "deletable": false,
    "nbgrader": {
     "checksum": "3b2c8b63aa6c7a7e7532054860976abd",
     "grade": false,
     "grade_id": "cell-3b9879512a4afe8c",
     "locked": false,
     "schema_version": 1,
     "solution": true
    }
   },
   "outputs": [],
   "source": [
    "texte_decoup = None\n",
    "# Ecrivez votre code ci-dessous"
   ]
  },
  {
   "cell_type": "code",
   "execution_count": null,
   "metadata": {
    "deletable": false,
    "editable": false,
    "nbgrader": {
     "checksum": "f4c753b25c8b4e2bb5e0c61740c3ceb4",
     "grade": true,
     "grade_id": "cell-46f991e075987ec1",
     "locked": true,
     "points": 1,
     "schema_version": 1,
     "solution": false
    }
   },
   "outputs": [],
   "source": [
    "texte_decoup"
   ]
  },
  {
   "cell_type": "markdown",
   "metadata": {
    "deletable": false,
    "editable": false,
    "nbgrader": {
     "checksum": "e25742bf078a4014607eef05cf779538",
     "grade": false,
     "grade_id": "cell-3242544bf8fd2c07",
     "locked": true,
     "schema_version": 1,
     "solution": false
    }
   },
   "source": [
    "### Question\n",
    "\n",
    "Définir **mots_uniques** comme étant l'**ensemble des mots uniques** de ce texte (retrait des doublons)"
   ]
  },
  {
   "cell_type": "code",
   "execution_count": null,
   "metadata": {
    "deletable": false,
    "nbgrader": {
     "checksum": "90ffdaa4853e39a3d736ac1eb48653dc",
     "grade": false,
     "grade_id": "cell-fb358abf41f46080",
     "locked": false,
     "schema_version": 1,
     "solution": true
    }
   },
   "outputs": [],
   "source": [
    "mots_uniques = None\n",
    "# Ecrivez votre code ci-dessous"
   ]
  },
  {
   "cell_type": "code",
   "execution_count": null,
   "metadata": {
    "deletable": false,
    "editable": false,
    "nbgrader": {
     "checksum": "8ec40765d446e27cc68d255856edb75b",
     "grade": true,
     "grade_id": "cell-6348d95581594500",
     "locked": true,
     "points": 1,
     "schema_version": 1,
     "solution": false
    }
   },
   "outputs": [],
   "source": [
    "mots_uniques"
   ]
  },
  {
   "cell_type": "markdown",
   "metadata": {
    "deletable": false,
    "editable": false,
    "nbgrader": {
     "checksum": "3f0c19b49ed456bbce6b555264f53f0f",
     "grade": false,
     "grade_id": "cell-b27f4b3791820c58",
     "locked": true,
     "schema_version": 1,
     "solution": false
    }
   },
   "source": [
    "### Question\n",
    "\n",
    "Assigner le **nombre de mots uniques** de ce texte à reponse"
   ]
  },
  {
   "cell_type": "code",
   "execution_count": null,
   "metadata": {
    "deletable": false,
    "nbgrader": {
     "checksum": "eeed18096e99af8a8c915e50ba26a82c",
     "grade": false,
     "grade_id": "cell-0abb8d2ee718c0e5",
     "locked": false,
     "schema_version": 1,
     "solution": true
    }
   },
   "outputs": [],
   "source": [
    "reponse = None\n",
    "# Ecrivez votre code ci-dessous"
   ]
  },
  {
   "cell_type": "code",
   "execution_count": null,
   "metadata": {
    "deletable": false,
    "editable": false,
    "nbgrader": {
     "checksum": "812f42d495034f4ea6363b0493d3edcd",
     "grade": true,
     "grade_id": "cell-a94e4cf7b8eaec9b",
     "locked": true,
     "points": 1,
     "schema_version": 1,
     "solution": false
    }
   },
   "outputs": [],
   "source": [
    "reponse"
   ]
  },
  {
   "cell_type": "markdown",
   "metadata": {
    "deletable": false,
    "editable": false,
    "nbgrader": {
     "checksum": "aa228a22d496fb9578ad89931dd0457a",
     "grade": false,
     "grade_id": "cell-c6ad78e313f65189",
     "locked": true,
     "schema_version": 1,
     "solution": false
    }
   },
   "source": [
    "### Question\n",
    "\n",
    "Assigner la proportion de mots redondants à **reponse**.\n",
    "\n",
    "Le résultat doit être un nombre à virgule entre 0.0 et 100.0"
   ]
  },
  {
   "cell_type": "code",
   "execution_count": null,
   "metadata": {
    "deletable": false,
    "nbgrader": {
     "checksum": "e633d15eafccdaef78a5b8bee12d7588",
     "grade": false,
     "grade_id": "cell-578f549bd97cc090",
     "locked": false,
     "schema_version": 1,
     "solution": true
    }
   },
   "outputs": [],
   "source": [
    "reponse = None\n",
    "# Ecrivez votre code ci-dessous"
   ]
  },
  {
   "cell_type": "code",
   "execution_count": null,
   "metadata": {
    "deletable": false,
    "editable": false,
    "nbgrader": {
     "checksum": "af8fec3358ddd4da10355c3321bf9922",
     "grade": true,
     "grade_id": "cell-dbd87a4d75737573",
     "locked": true,
     "points": 1,
     "schema_version": 1,
     "solution": false
    }
   },
   "outputs": [],
   "source": [
    "reponse"
   ]
  },
  {
   "cell_type": "markdown",
   "metadata": {
    "deletable": false,
    "editable": false,
    "nbgrader": {
     "checksum": "ec89883450889715a47e2cdc9e8e107c",
     "grade": false,
     "grade_id": "cell-348f79c769f053b9",
     "locked": true,
     "schema_version": 1,
     "solution": false
    }
   },
   "source": [
    "### Question\n",
    "\n",
    "Définir **liste_lignes** comme étant une liste contenant les différentes lignes du texte d'origine."
   ]
  },
  {
   "cell_type": "code",
   "execution_count": null,
   "metadata": {
    "deletable": false,
    "nbgrader": {
     "checksum": "0ec60d90a37b03f1c17a72a031a5974f",
     "grade": false,
     "grade_id": "cell-1473d82de6965f47",
     "locked": false,
     "schema_version": 1,
     "solution": true
    }
   },
   "outputs": [],
   "source": [
    "liste_lignes = None\n",
    "# Ecrivez votre code ci-dessous"
   ]
  },
  {
   "cell_type": "code",
   "execution_count": null,
   "metadata": {
    "deletable": false,
    "editable": false,
    "nbgrader": {
     "checksum": "d89e762b2bb4df472ec3c61993e5f8e0",
     "grade": true,
     "grade_id": "cell-2dcc70b4e04bcfdf",
     "locked": true,
     "points": 1,
     "schema_version": 1,
     "solution": false
    }
   },
   "outputs": [],
   "source": [
    "liste_lignes"
   ]
  },
  {
   "cell_type": "markdown",
   "metadata": {
    "deletable": false,
    "editable": false,
    "nbgrader": {
     "checksum": "96b172d13b86344d97ad0c44098ec876",
     "grade": false,
     "grade_id": "cell-ea0472f6d97eb101",
     "locked": true,
     "schema_version": 1,
     "solution": false
    }
   },
   "source": [
    "### Question\n",
    "\n",
    "Quel est le nombre de caractères de la dernière ligne"
   ]
  },
  {
   "cell_type": "code",
   "execution_count": null,
   "metadata": {
    "deletable": false,
    "nbgrader": {
     "checksum": "1823b6f615e45a2c336bddd5bd81afba",
     "grade": false,
     "grade_id": "cell-9858de6af8ef5a68",
     "locked": false,
     "schema_version": 1,
     "solution": true
    }
   },
   "outputs": [],
   "source": [
    "reponse = None\n",
    "# Ecrivez votre code ci-dessous"
   ]
  },
  {
   "cell_type": "code",
   "execution_count": null,
   "metadata": {
    "deletable": false,
    "editable": false,
    "nbgrader": {
     "checksum": "31f21a3439396017a645f318b7f0bba5",
     "grade": true,
     "grade_id": "cell-d83be5934f62c528",
     "locked": true,
     "points": 1,
     "schema_version": 1,
     "solution": false
    }
   },
   "outputs": [],
   "source": [
    "reponse"
   ]
  },
  {
   "cell_type": "markdown",
   "metadata": {
    "deletable": false,
    "editable": false,
    "nbgrader": {
     "checksum": "3602a73b5bb05347b4e5e070f247ff33",
     "grade": false,
     "grade_id": "cell-6916e6565c9d0123",
     "locked": true,
     "schema_version": 1,
     "solution": false
    }
   },
   "source": [
    "## Exercice\n",
    "\n",
    "Soit la liste suivante, assignée à la variable **ORIG_LISTE**"
   ]
  },
  {
   "cell_type": "code",
   "execution_count": null,
   "metadata": {
    "deletable": false,
    "editable": false,
    "nbgrader": {
     "checksum": "a60e4c68b45f3f0f6b2288a396f5d6b8",
     "grade": false,
     "grade_id": "cell-b1f8653da84f8e57",
     "locked": true,
     "schema_version": 1,
     "solution": false
    }
   },
   "outputs": [],
   "source": [
    "ORIG_LISTE = [12, 28, 42, 72, 16, 56, 25]"
   ]
  },
  {
   "cell_type": "markdown",
   "metadata": {
    "deletable": false,
    "editable": false,
    "nbgrader": {
     "checksum": "a44f993ab0542ece0efda2c1a1280328",
     "grade": false,
     "grade_id": "cell-3fdf50ada982b8aa",
     "locked": true,
     "schema_version": 1,
     "solution": false
    }
   },
   "source": [
    "### Question\n",
    "\n",
    "Vérifier que le type de cette variable est bien **list**. \n",
    "\n",
    "Ne pas répondre directement, faire un test en Python. Le résultat doit être un booléen."
   ]
  },
  {
   "cell_type": "code",
   "execution_count": null,
   "metadata": {
    "deletable": false,
    "nbgrader": {
     "checksum": "95741d3a499b0f82644ff226d41dab79",
     "grade": false,
     "grade_id": "cell-55c43e9f8bd95211",
     "locked": false,
     "schema_version": 1,
     "solution": true
    }
   },
   "outputs": [],
   "source": [
    "reponse = None\n",
    "# Ecrivez votre code ci-dessous"
   ]
  },
  {
   "cell_type": "code",
   "execution_count": null,
   "metadata": {
    "deletable": false,
    "editable": false,
    "nbgrader": {
     "checksum": "f13db6da6d4bb61e1ca745f7ec3e94ec",
     "grade": true,
     "grade_id": "cell-3796d0da005b40fd",
     "locked": true,
     "points": 1,
     "schema_version": 1,
     "solution": false
    }
   },
   "outputs": [],
   "source": [
    "reponse"
   ]
  },
  {
   "cell_type": "markdown",
   "metadata": {
    "deletable": false,
    "editable": false,
    "nbgrader": {
     "checksum": "fa374c6f626c725941e49b976e3c21ed",
     "grade": false,
     "grade_id": "cell-67137be74d769720",
     "locked": true,
     "schema_version": 1,
     "solution": false
    }
   },
   "source": [
    "### Question\n",
    "\n",
    "Nous souhaitons créer une nouvelle liste, **ma_liste** à partir de **ORIG_LISTE**, mais nous voulons que les modifications qui seront appliquées sur ma_liste ne soient pas répercutées sur ORIG_LISTE.\n",
    "\n",
    "Définir la variable **ma_liste** à partir d'**ORIG_LISTE**"
   ]
  },
  {
   "cell_type": "code",
   "execution_count": null,
   "metadata": {
    "deletable": false,
    "nbgrader": {
     "checksum": "98899deecca61236a08e80bff608901b",
     "grade": false,
     "grade_id": "cell-0b139796321c3c09",
     "locked": false,
     "schema_version": 1,
     "solution": true
    }
   },
   "outputs": [],
   "source": [
    "ma_liste = None\n",
    "# Ecrivez votre code ci-dessous"
   ]
  },
  {
   "cell_type": "markdown",
   "metadata": {
    "deletable": false,
    "editable": false,
    "nbgrader": {
     "checksum": "95b20eb084bd7fbea27639a4cf1ce1aa",
     "grade": false,
     "grade_id": "cell-b8b15812ecf8e88c",
     "locked": true,
     "schema_version": 1,
     "solution": false
    }
   },
   "source": [
    "## Question\n",
    "\n",
    "Expliquer ci-dessous en une phrase la réponse fournie à la question précédente :"
   ]
  },
  {
   "cell_type": "markdown",
   "metadata": {
    "deletable": false,
    "nbgrader": {
     "checksum": "7a1898965fa3aef462d68c3603b67ffd",
     "grade": true,
     "grade_id": "cell-6716f92548af27d4",
     "locked": false,
     "points": 1,
     "schema_version": 1,
     "solution": true
    }
   },
   "source": [
    "Ecrivez votre réponse ci-dessous"
   ]
  },
  {
   "cell_type": "markdown",
   "metadata": {
    "deletable": false,
    "editable": false,
    "nbgrader": {
     "checksum": "fed5db1e4a4d2c3d5c5256535d3f22db",
     "grade": false,
     "grade_id": "cell-6ed66123228040a4",
     "locked": true,
     "schema_version": 1,
     "solution": false
    }
   },
   "source": [
    "### Question\n",
    "\n",
    "Ajouter l'élément **58** à la fin de cette liste."
   ]
  },
  {
   "cell_type": "code",
   "execution_count": null,
   "metadata": {
    "deletable": false,
    "nbgrader": {
     "checksum": "89d9a421e122442ff884c939ce8a7f17",
     "grade": false,
     "grade_id": "cell-706af18d40f61864",
     "locked": false,
     "schema_version": 1,
     "solution": true
    }
   },
   "outputs": [],
   "source": [
    "# Ecrivez votre code ci-dessous"
   ]
  },
  {
   "cell_type": "code",
   "execution_count": null,
   "metadata": {
    "deletable": false,
    "editable": false,
    "nbgrader": {
     "checksum": "2b104863eb39e01b611026fec64af563",
     "grade": true,
     "grade_id": "cell-08da665f457eb5a9",
     "locked": true,
     "points": 1,
     "schema_version": 1,
     "solution": false
    }
   },
   "outputs": [],
   "source": [
    "ma_liste"
   ]
  },
  {
   "cell_type": "code",
   "execution_count": null,
   "metadata": {
    "deletable": false,
    "editable": false,
    "nbgrader": {
     "checksum": "a311ed9ac9b9008ca3a0a228503e9965",
     "grade": true,
     "grade_id": "cell-d2423e77b9fef8d5",
     "locked": true,
     "points": 1,
     "schema_version": 1,
     "solution": false
    }
   },
   "outputs": [],
   "source": [
    "ORIG_LISTE"
   ]
  },
  {
   "cell_type": "markdown",
   "metadata": {
    "deletable": false,
    "editable": false,
    "nbgrader": {
     "checksum": "22149a4781a0b5d4cef30fb7ee476cdf",
     "grade": false,
     "grade_id": "cell-7664981719c66c12",
     "locked": true,
     "schema_version": 1,
     "solution": false
    }
   },
   "source": [
    "### Question\n",
    "\n",
    "Insérer l'entier **128** en deuxième position de cette liste. Attention: position, pas indice"
   ]
  },
  {
   "cell_type": "code",
   "execution_count": null,
   "metadata": {
    "deletable": false,
    "nbgrader": {
     "checksum": "69d6b5dac9c57980269e71e0d43fda3a",
     "grade": false,
     "grade_id": "cell-a49752e97310b93c",
     "locked": false,
     "schema_version": 1,
     "solution": true
    }
   },
   "outputs": [],
   "source": [
    "# Ecrivez votre code ci-dessous"
   ]
  },
  {
   "cell_type": "code",
   "execution_count": null,
   "metadata": {
    "deletable": false,
    "editable": false,
    "nbgrader": {
     "checksum": "c847433a0fddb9e3e237408a7aa84961",
     "grade": true,
     "grade_id": "cell-83acb49d894665b8",
     "locked": true,
     "points": 1,
     "schema_version": 1,
     "solution": false
    }
   },
   "outputs": [],
   "source": [
    "ma_liste"
   ]
  },
  {
   "cell_type": "markdown",
   "metadata": {
    "deletable": false,
    "editable": false,
    "nbgrader": {
     "checksum": "337635ff8f8a24dc8a1fe8982e4fb841",
     "grade": false,
     "grade_id": "cell-c772ac82b2098a73",
     "locked": true,
     "schema_version": 1,
     "solution": false
    }
   },
   "source": [
    "### Question\n",
    "\n",
    "Faire en sorte que **ma_liste** devienne une liste triée par ordre croissant"
   ]
  },
  {
   "cell_type": "code",
   "execution_count": null,
   "metadata": {
    "deletable": false,
    "nbgrader": {
     "checksum": "e233f485aec69dc0cc8a9ef18ca06faa",
     "grade": false,
     "grade_id": "cell-37d0a56f421f7fe0",
     "locked": false,
     "schema_version": 1,
     "solution": true
    }
   },
   "outputs": [],
   "source": [
    "# Ecrivez votre code ci-dessous"
   ]
  },
  {
   "cell_type": "code",
   "execution_count": null,
   "metadata": {
    "deletable": false,
    "editable": false,
    "nbgrader": {
     "checksum": "4c6bd8916e8679e6d22b20b3dda0b8cd",
     "grade": true,
     "grade_id": "cell-aa9830494788f3ba",
     "locked": true,
     "points": 1,
     "schema_version": 1,
     "solution": false
    }
   },
   "outputs": [],
   "source": [
    "ma_liste"
   ]
  },
  {
   "cell_type": "markdown",
   "metadata": {
    "deletable": false,
    "editable": false,
    "nbgrader": {
     "checksum": "7915d1ccca29f26bb67a08e97937fc40",
     "grade": false,
     "grade_id": "cell-b861297b05258611",
     "locked": true,
     "schema_version": 1,
     "solution": false
    }
   },
   "source": [
    "### Question\n",
    "\n",
    "Quel est l'indice de l'élément contenant la valeur **56** ?"
   ]
  },
  {
   "cell_type": "code",
   "execution_count": null,
   "metadata": {
    "deletable": false,
    "nbgrader": {
     "checksum": "72b8c99f1e1eadb6184fe2900b256f6a",
     "grade": false,
     "grade_id": "cell-5bc709d1a0273100",
     "locked": false,
     "schema_version": 1,
     "solution": true
    }
   },
   "outputs": [],
   "source": [
    "reponse = None\n",
    "# Ecrivez votre code ci-dessous"
   ]
  },
  {
   "cell_type": "code",
   "execution_count": null,
   "metadata": {
    "deletable": false,
    "editable": false,
    "nbgrader": {
     "checksum": "c35a3f38a036ee13a67e86366a8055ee",
     "grade": true,
     "grade_id": "cell-e9437c503aed26cd",
     "locked": true,
     "points": 1,
     "schema_version": 1,
     "solution": false
    }
   },
   "outputs": [],
   "source": [
    "reponse"
   ]
  },
  {
   "cell_type": "markdown",
   "metadata": {
    "deletable": false,
    "editable": false,
    "nbgrader": {
     "checksum": "22a2f1eeb7802838c76b2f26cb9cd561",
     "grade": false,
     "grade_id": "cell-5ca65a5c62d9139f",
     "locked": true,
     "schema_version": 1,
     "solution": false
    }
   },
   "source": [
    "### Question\n",
    "\n",
    "Assigner les trois derniers éléments de cette liste à reponse"
   ]
  },
  {
   "cell_type": "code",
   "execution_count": null,
   "metadata": {
    "deletable": false,
    "nbgrader": {
     "checksum": "2120399f924ec3bfb23364228ecd49e9",
     "grade": false,
     "grade_id": "cell-821dccfe83df8744",
     "locked": false,
     "schema_version": 1,
     "solution": true
    }
   },
   "outputs": [],
   "source": [
    "reponse = None\n",
    "# Ecrivez votre code ci-dessous"
   ]
  },
  {
   "cell_type": "code",
   "execution_count": null,
   "metadata": {
    "deletable": false,
    "editable": false,
    "nbgrader": {
     "checksum": "ef59cb12ac721acaba70ecf03ca9d62b",
     "grade": true,
     "grade_id": "cell-1f2d91d980266a9b",
     "locked": true,
     "points": 1,
     "schema_version": 1,
     "solution": false
    }
   },
   "outputs": [],
   "source": [
    "reponse"
   ]
  },
  {
   "cell_type": "markdown",
   "metadata": {
    "deletable": false,
    "editable": false,
    "nbgrader": {
     "checksum": "19c92ec931494eb794cb0cec4a6519e0",
     "grade": false,
     "grade_id": "cell-c5031f6021dd1f31",
     "locked": true,
     "schema_version": 1,
     "solution": false
    }
   },
   "source": [
    "### Question\n",
    "\n",
    "Assigner la sous-liste contenant le deuxième, le troisième et le quatrième élément à reponse.\n",
    "\n",
    "Le résultat doit être une liste"
   ]
  },
  {
   "cell_type": "code",
   "execution_count": null,
   "metadata": {
    "deletable": false,
    "nbgrader": {
     "checksum": "03837fefd01b546017995e58e3787ed1",
     "grade": false,
     "grade_id": "cell-6981aead4ac32bf9",
     "locked": false,
     "schema_version": 1,
     "solution": true
    }
   },
   "outputs": [],
   "source": [
    "reponse = None\n",
    "# Ecrivez votre code ci-dessous"
   ]
  },
  {
   "cell_type": "code",
   "execution_count": null,
   "metadata": {
    "deletable": false,
    "editable": false,
    "nbgrader": {
     "checksum": "d6782496124bdd641361910625674100",
     "grade": true,
     "grade_id": "cell-71470fb3af655fa4",
     "locked": true,
     "points": 1,
     "schema_version": 1,
     "solution": false
    }
   },
   "outputs": [],
   "source": [
    "reponse"
   ]
  },
  {
   "cell_type": "markdown",
   "metadata": {
    "deletable": false,
    "editable": false,
    "nbgrader": {
     "checksum": "25af8ff5aeffbf8a6037cd9a9768b2a3",
     "grade": false,
     "grade_id": "cell-bcd127fe2d16910b",
     "locked": true,
     "schema_version": 1,
     "solution": false
    }
   },
   "source": [
    "### Question\n",
    "\n",
    "Quelle est la taille de cette liste ?\n",
    "\n",
    "Utiliser une fonction pour répondre"
   ]
  },
  {
   "cell_type": "code",
   "execution_count": null,
   "metadata": {
    "deletable": false,
    "nbgrader": {
     "checksum": "698831fe1cecf3aadc35a46ac8b5e42d",
     "grade": false,
     "grade_id": "cell-8514ff719a838258",
     "locked": false,
     "schema_version": 1,
     "solution": true
    }
   },
   "outputs": [],
   "source": [
    "reponse = None\n",
    "# Ecrivez votre code ci-dessous"
   ]
  },
  {
   "cell_type": "code",
   "execution_count": null,
   "metadata": {
    "deletable": false,
    "editable": false,
    "nbgrader": {
     "checksum": "5e7b7caba1018df755b5eff3806672c4",
     "grade": true,
     "grade_id": "cell-f1355448016b07f6",
     "locked": true,
     "points": 1,
     "schema_version": 1,
     "solution": false
    }
   },
   "outputs": [],
   "source": [
    "reponse"
   ]
  },
  {
   "cell_type": "markdown",
   "metadata": {
    "deletable": false,
    "editable": false,
    "nbgrader": {
     "checksum": "66ef20333758f558881c6a0136a5fa4b",
     "grade": false,
     "grade_id": "cell-465c6ec16fad65cd",
     "locked": true,
     "schema_version": 1,
     "solution": false
    }
   },
   "source": [
    "# Structures programmatiques\n",
    "\n",
    "## Exercice\n",
    "\n",
    "Voici une liste des populations régionales en France, en milliers d'habitants, assignée à la variable POP_REG :"
   ]
  },
  {
   "cell_type": "code",
   "execution_count": null,
   "metadata": {
    "deletable": false,
    "editable": false,
    "nbgrader": {
     "checksum": "9fc9fa24bd45af17fbcb955fb342644b",
     "grade": false,
     "grade_id": "cell-fbc0688513639816",
     "locked": true,
     "schema_version": 1,
     "solution": false
    }
   },
   "outputs": [],
   "source": [
    "POP_REG = [7940, 2820, 3310, 2587, 330, 5558, 6030, 12142, 3343, 5943, 5830, 3743, 5024]"
   ]
  },
  {
   "cell_type": "markdown",
   "metadata": {
    "deletable": false,
    "editable": false,
    "nbgrader": {
     "checksum": "c25586723d08f84a6aae0d54aa44b47f",
     "grade": false,
     "grade_id": "cell-6768e286f9c1d5af",
     "locked": true,
     "schema_version": 1,
     "solution": false
    }
   },
   "source": [
    "### Question\n",
    "\n",
    "Définir une liste **cate_reg**, de même taille que **POP_REG**, et qui contient des élements de type **str** correspondant aux catégories de région de **POP_REG**, définies selon la règle suivante :\n",
    "- **Bas** lorsqu'elle est strictement inférieur à 3500 milliers d'habitants\n",
    "- **Moyen** lorsqu'elle est entre 3500 (inclus) et 6000 milliers (exclus) d'habitants\n",
    "- **Haut** lorsqu'elle est supérieur ou égale à 6000 milliers d'habitants\n",
    "Comme POP_REG, le cate_reg doit être une liste.\n",
    "\n",
    "Il faut utiliser une boucle"
   ]
  },
  {
   "cell_type": "code",
   "execution_count": null,
   "metadata": {
    "deletable": false,
    "nbgrader": {
     "checksum": "23100a0f50debee797c67aca9c92631a",
     "grade": false,
     "grade_id": "cell-0a203fb59390344f",
     "locked": false,
     "schema_version": 1,
     "solution": true
    }
   },
   "outputs": [],
   "source": [
    "cate_reg = None\n",
    "# Ecrivez votre code ci-dessous"
   ]
  },
  {
   "cell_type": "code",
   "execution_count": null,
   "metadata": {
    "deletable": false,
    "editable": false,
    "nbgrader": {
     "checksum": "e7dca976096888dc1abba37822e13610",
     "grade": true,
     "grade_id": "cell-488feee795590af2",
     "locked": true,
     "points": 1,
     "schema_version": 1,
     "solution": false
    }
   },
   "outputs": [],
   "source": [
    "cate_reg"
   ]
  },
  {
   "cell_type": "markdown",
   "metadata": {
    "deletable": false,
    "editable": false,
    "nbgrader": {
     "checksum": "31235841057ad88f1201c4ef981db1cb",
     "grade": false,
     "grade_id": "cell-18266e7ebe36f95d",
     "locked": true,
     "schema_version": 1,
     "solution": false
    }
   },
   "source": [
    "### Question\n",
    "\n",
    "Définir un dictionnaire **reg_dict** qui associe à chaque catégorie de région (Bas, Moyen, Haut) un entier représentant le nombre de régions de cette catégorie en utilisant une boucle"
   ]
  },
  {
   "cell_type": "code",
   "execution_count": null,
   "metadata": {
    "deletable": false,
    "nbgrader": {
     "checksum": "151a5b400d6d45432bc4e71fe311ed3c",
     "grade": false,
     "grade_id": "cell-27e83def76a41b7e",
     "locked": false,
     "schema_version": 1,
     "solution": true
    }
   },
   "outputs": [],
   "source": [
    "reg_dict = None\n",
    "# Ecrivez votre code ci-dessous"
   ]
  },
  {
   "cell_type": "code",
   "execution_count": null,
   "metadata": {
    "deletable": false,
    "editable": false,
    "nbgrader": {
     "checksum": "6199fe318a4f9c510745d68a98e07491",
     "grade": true,
     "grade_id": "cell-75246971c507d720",
     "locked": true,
     "points": 1,
     "schema_version": 1,
     "solution": false
    }
   },
   "outputs": [],
   "source": [
    "reg_dict"
   ]
  },
  {
   "cell_type": "markdown",
   "metadata": {
    "deletable": false,
    "editable": false,
    "nbgrader": {
     "checksum": "24cb454562c60780749b09372b41ac58",
     "grade": false,
     "grade_id": "cell-9f2ed7c9a1272268",
     "locked": true,
     "schema_version": 1,
     "solution": false
    }
   },
   "source": [
    "### Question\n",
    "\n",
    "Définir un dictionnaire **reg_dict2** qui associe à chaque catégorie de région (Bas, Moyen, Haut) un triplet composé :\n",
    "- d'un entier représentant le nombre de régions de cette catégorie\n",
    "- d'un entier représentant la population total des régions de cette catégorie\n",
    "- d'un entier représentant la moyenne de la population des régions de cette catégorie\n",
    "\n",
    "Utiliser une boucle pour le faire."
   ]
  },
  {
   "cell_type": "code",
   "execution_count": null,
   "metadata": {
    "deletable": false,
    "nbgrader": {
     "checksum": "9b85a3daaa055d5232bf32442c70a125",
     "grade": false,
     "grade_id": "cell-2708a7fc2ee6932b",
     "locked": false,
     "schema_version": 1,
     "solution": true
    }
   },
   "outputs": [],
   "source": [
    "reg_dict2 = None\n",
    "# Ecrivez votre code ci-dessous"
   ]
  },
  {
   "cell_type": "code",
   "execution_count": null,
   "metadata": {
    "deletable": false,
    "editable": false,
    "nbgrader": {
     "checksum": "608330ca25f18f792393ca71c6ff7cd1",
     "grade": true,
     "grade_id": "cell-cb183b13f6f40ef3",
     "locked": true,
     "points": 1,
     "schema_version": 1,
     "solution": false
    }
   },
   "outputs": [],
   "source": [
    "reg_dict2"
   ]
  },
  {
   "cell_type": "markdown",
   "metadata": {
    "deletable": false,
    "editable": false,
    "nbgrader": {
     "checksum": "d877dadf3cb890b301e89ad75c5b266a",
     "grade": false,
     "grade_id": "cell-f0bbe5220bbf26de",
     "locked": true,
     "schema_version": 1,
     "solution": false
    }
   },
   "source": [
    "## Exercice\n",
    "\n",
    "Ecrire une boucle **while** qui créé une liste des 20 premiers rangs d'une suite de Fibonacci (du rang 0 au rang 19).\n",
    "\n",
    "Une suite de Fibonacci est une suite dont chaque terme est égal à la somme des deux termes précédents.\n",
    "\n",
    "Supposons que les deux premiers rangs 0 et 1 valent respectivement 1 et 1.\n",
    "\n",
    "Le résultat doit être une liste de 20 éléments."
   ]
  },
  {
   "cell_type": "code",
   "execution_count": null,
   "metadata": {
    "deletable": false,
    "nbgrader": {
     "checksum": "d81a83b851552bfa47ed0b3434c0ba16",
     "grade": false,
     "grade_id": "cell-dee4a5a825c807db",
     "locked": false,
     "schema_version": 1,
     "solution": true
    }
   },
   "outputs": [],
   "source": [
    "liste_rangs = None\n",
    "# Ecrivez votre code ci-dessous"
   ]
  },
  {
   "cell_type": "code",
   "execution_count": null,
   "metadata": {
    "deletable": false,
    "editable": false,
    "nbgrader": {
     "checksum": "c586ae28e565568d4f1261e5959059a6",
     "grade": true,
     "grade_id": "cell-258da4b371d07d1a",
     "locked": true,
     "points": 1,
     "schema_version": 1,
     "solution": false
    }
   },
   "outputs": [],
   "source": [
    "liste_rangs"
   ]
  },
  {
   "cell_type": "markdown",
   "metadata": {
    "deletable": false,
    "editable": false,
    "nbgrader": {
     "checksum": "b8e41c625fc0561d7439b2b05b0f87fe",
     "grade": false,
     "grade_id": "cell-397355c4433f611a",
     "locked": true,
     "schema_version": 1,
     "solution": false
    }
   },
   "source": [
    "## Exercice\n",
    "\n",
    "### Question\n",
    "\n",
    "Soit la liste **TEXTE_DECOUP** définie par les mots suivants :"
   ]
  },
  {
   "cell_type": "code",
   "execution_count": null,
   "metadata": {
    "deletable": false,
    "editable": false,
    "nbgrader": {
     "checksum": "41e9194b07fdcef93c2c78b6882ce36b",
     "grade": false,
     "grade_id": "cell-b8088f38a89a1256",
     "locked": true,
     "schema_version": 1,
     "solution": false
    }
   },
   "outputs": [],
   "source": [
    "TEXTE_DECOUP = [\n",
    "    'la', '75e', 'cérémonie', 'des', 'golden', 'globes', 'organisée', 'par', 'la',\n",
    "    'hollywood', 'foreign', 'press', 'association', 'a', 'eu', 'lieu', 'le', '7',\n",
    "    'janvier', '2018', 'et', 'récompense', 'les', 'films', 'et', 'séries', 'diffusés',\n",
    "    'en', '2017', 'ainsi', 'que', 'les', 'professionnels', \"s'étant\", 'distingués', 'cette',\n",
    "    'année-là', \"l'humoriste\", 'et', 'animateur', 'de', 'télévision', 'seth', 'meyers',\n",
    "    'présente', 'pour', 'la', 'première', 'fois', 'la', 'cérémonie', 'qui', 'est', 'diffusée',\n",
    "    'sur', 'le', 'réseau', 'nbc', 'il', 'succède', 'ainsi', 'à', 'jimmy', 'fallon', 'qui',\n",
    "    'avait', 'animé', 'la', 'cérémonie', 'précédente', 'les', 'nominations', 'sont', 'annoncées',\n",
    "    'le', '11', 'décembre', '2017', 'au', 'beverly', 'hilton', 'hotel', 'par', 'sharon', 'stone',\n",
    "    'alfre', 'woodard', 'garrett', 'hedlund', 'et', 'kristen', 'bell', 'le', 'cecil', 'b',\n",
    "    'demille', 'award', 'est', 'attribué', 'à', 'oprah', 'winfrey', 'pour', 'récompenser', \"l'ensemble\",\n",
    "    'de', 'sa', 'carrière'\n",
    "]"
   ]
  },
  {
   "cell_type": "markdown",
   "metadata": {
    "deletable": false,
    "editable": false,
    "nbgrader": {
     "checksum": "563ce6219c1eb823b85efe76c249e413",
     "grade": false,
     "grade_id": "cell-d6599e5b8be82e0e",
     "locked": true,
     "schema_version": 1,
     "solution": false
    }
   },
   "source": [
    "Faire une boucle qui crée un dictionnaire **dict_res** qui à chaque mot (à mettre en minuscules) de la liste **TEXTE_DECOUP** associe le nombre d'occurences de ce mot dans cette liste (la fréquence de ces mots)"
   ]
  },
  {
   "cell_type": "code",
   "execution_count": null,
   "metadata": {
    "deletable": false,
    "nbgrader": {
     "checksum": "a639d3568f35ad783fa8c035f48599b9",
     "grade": false,
     "grade_id": "cell-238bcd8d24f0bd47",
     "locked": false,
     "schema_version": 1,
     "solution": true
    }
   },
   "outputs": [],
   "source": [
    "dict_res = None\n",
    "# Ecrivez votre code ci-dessous"
   ]
  },
  {
   "cell_type": "code",
   "execution_count": null,
   "metadata": {
    "deletable": false,
    "editable": false,
    "nbgrader": {
     "checksum": "048889169727164456dfac11a9edb3d3",
     "grade": true,
     "grade_id": "cell-402c8e2a004cc8b7",
     "locked": true,
     "points": 1,
     "schema_version": 1,
     "solution": false
    }
   },
   "outputs": [],
   "source": [
    "dict_res"
   ]
  },
  {
   "cell_type": "markdown",
   "metadata": {
    "deletable": false,
    "editable": false,
    "nbgrader": {
     "checksum": "f4a06e37d826e15447e5ecea4e5f7b8e",
     "grade": false,
     "grade_id": "cell-69b9cb6b11d26eee",
     "locked": true,
     "schema_version": 1,
     "solution": false
    }
   },
   "source": [
    "### Question\n",
    "\n",
    "Ecrire une boucle qui créé la liste des mots qui sont apparus le plus souvent dans ce texte (ceux dont la fréquence est maximale parmi l'ensemble des fréquences)\n",
    "\n",
    "Cette liste peut contenir un ou plusieurs mots."
   ]
  },
  {
   "cell_type": "code",
   "execution_count": null,
   "metadata": {
    "deletable": false,
    "nbgrader": {
     "checksum": "ff92e4f7454c068e6a01368e0aa4134e",
     "grade": false,
     "grade_id": "cell-ee1f73558f473551",
     "locked": false,
     "schema_version": 1,
     "solution": true
    }
   },
   "outputs": [],
   "source": [
    "reponse = None\n",
    "# Ecrivez votre code ci-dessous"
   ]
  },
  {
   "cell_type": "code",
   "execution_count": null,
   "metadata": {
    "deletable": false,
    "editable": false,
    "nbgrader": {
     "checksum": "472abcf81c2ad9bc0f00c82e6dd3a814",
     "grade": true,
     "grade_id": "cell-cfd08472da51c859",
     "locked": true,
     "points": 1,
     "schema_version": 1,
     "solution": false
    }
   },
   "outputs": [],
   "source": [
    "reponse"
   ]
  },
  {
   "cell_type": "markdown",
   "metadata": {
    "deletable": false,
    "editable": false,
    "nbgrader": {
     "checksum": "e68dd376ff910138c17e96d663237a1c",
     "grade": false,
     "grade_id": "cell-0f2aaaa72b9bfa25",
     "locked": true,
     "schema_version": 1,
     "solution": false
    }
   },
   "source": [
    "### Question\n",
    "\n",
    "Ecrire une boucle qui permette de constituer la variable **liste_mots_frequents** qui est la liste de tous les mots qui sont apparus **strictement plus de 2 fois**"
   ]
  },
  {
   "cell_type": "code",
   "execution_count": null,
   "metadata": {
    "deletable": false,
    "nbgrader": {
     "checksum": "360072ad76c630013e9bd675f8fc1351",
     "grade": false,
     "grade_id": "cell-b330becf36434a7b",
     "locked": false,
     "schema_version": 1,
     "solution": true
    }
   },
   "outputs": [],
   "source": [
    "liste_mots_frequents = None\n",
    "# Ecrivez votre code ci-dessous"
   ]
  },
  {
   "cell_type": "code",
   "execution_count": null,
   "metadata": {
    "deletable": false,
    "editable": false,
    "nbgrader": {
     "checksum": "e7d458bc2543582b7f82acbe515f7b40",
     "grade": true,
     "grade_id": "cell-036196b57c3990bb",
     "locked": true,
     "points": 1,
     "schema_version": 1,
     "solution": false
    }
   },
   "outputs": [],
   "source": [
    "liste_mots_frequents"
   ]
  },
  {
   "cell_type": "markdown",
   "metadata": {
    "deletable": false,
    "editable": false,
    "nbgrader": {
     "checksum": "f6b3b48f5e64ce744aafafc96d3323d5",
     "grade": false,
     "grade_id": "cell-1b014dfa21149c1d",
     "locked": true,
     "schema_version": 1,
     "solution": false
    }
   },
   "source": [
    "# Fonctions\n",
    "\n",
    "## Exercice\n",
    "\n",
    "Soit le dictionnaire **DICT_REGIONS** ayant pour clés les noms de régions de France et pour valeurs leurs populations en milliers d'habitants :"
   ]
  },
  {
   "cell_type": "code",
   "execution_count": null,
   "metadata": {
    "deletable": false,
    "editable": false,
    "nbgrader": {
     "checksum": "5db2d71c011ca358c77e121a274c73f9",
     "grade": false,
     "grade_id": "cell-dada61cc7da86b7f",
     "locked": true,
     "schema_version": 1,
     "solution": false
    }
   },
   "outputs": [],
   "source": [
    "DICT_REGIONS = {\n",
    "    'Auvergne-Rhône-Alpes': 7940,\n",
    "    'Bourgogne-Franche-Comté': 2820,\n",
    "    'Bretagne': 3310,\n",
    "    'Centre - Val de Loire': 2587,\n",
    "    'Corse': 330,\n",
    "    'Grand Est': 5558,\n",
    "    'Hauts-de-France': 6030,\n",
    "    'Île-de-France': 12142,\n",
    "    'Normandie': 3343,\n",
    "    'Nouvelle Aquitaine': 5943,\n",
    "    'Occitanie': 5830,\n",
    "    'Pays de la Loire': 3743,\n",
    "    'Provence-Alpes-Côte d’Azur': 5024\n",
    "}"
   ]
  },
  {
   "cell_type": "markdown",
   "metadata": {
    "deletable": false,
    "editable": false,
    "nbgrader": {
     "checksum": "3196e5490b3810fade07a9b28adb8a35",
     "grade": false,
     "grade_id": "cell-6f317ff735357886",
     "locked": true,
     "schema_version": 1,
     "solution": false
    }
   },
   "source": [
    "### Question\n",
    "\n",
    "Ecrire une fonction **cles_de_dict** qui génère une liste à partir de la liste des clés (keys) d'un dictionnaire **en utilisant une boucle** :"
   ]
  },
  {
   "cell_type": "code",
   "execution_count": null,
   "metadata": {
    "deletable": false,
    "nbgrader": {
     "checksum": "99b39279625e5787f91abb786d7f784d",
     "grade": false,
     "grade_id": "cell-d3e36d16ded00075",
     "locked": false,
     "schema_version": 1,
     "solution": true
    }
   },
   "outputs": [],
   "source": [
    "def cles_de_dict():\n",
    "    pass\n",
    "# Ecrivez votre code ci-dessous"
   ]
  },
  {
   "cell_type": "code",
   "execution_count": null,
   "metadata": {
    "deletable": false,
    "editable": false,
    "nbgrader": {
     "checksum": "4ff6076101780d0ac0c4e0992f84b590",
     "grade": true,
     "grade_id": "cell-5f1dc1c9467a2cda",
     "locked": true,
     "points": 1,
     "schema_version": 1,
     "solution": false
    }
   },
   "outputs": [],
   "source": [
    "\n",
    "cles_de_dict(DICT_REGIONS)"
   ]
  },
  {
   "cell_type": "markdown",
   "metadata": {
    "deletable": false,
    "editable": false,
    "nbgrader": {
     "checksum": "358f3383924d3464a6016c9cc88f8259",
     "grade": false,
     "grade_id": "cell-6f5a988051bf1b95",
     "locked": true,
     "schema_version": 1,
     "solution": false
    }
   },
   "source": [
    "En réalité, on aurait pu utiliser **list(DICT_REGIONS.keys())** mais cela ne collait pas avec l'énoncé (attention il fallait utiliser une boucle)."
   ]
  },
  {
   "cell_type": "markdown",
   "metadata": {
    "deletable": false,
    "editable": false,
    "nbgrader": {
     "checksum": "bde2ae2f87dd5202242ddecb9032e6ab",
     "grade": false,
     "grade_id": "cell-4701672012210f3c",
     "locked": true,
     "schema_version": 1,
     "solution": false
    }
   },
   "source": [
    "### Question\n",
    "\n",
    "Ecrire une fonction qui calcule la moyenne des valeurs d'une liste **en utilisant une boucle**"
   ]
  },
  {
   "cell_type": "code",
   "execution_count": null,
   "metadata": {
    "deletable": false,
    "nbgrader": {
     "checksum": "d8a8d2df8babe7d5ecd4e45e9eaad414",
     "grade": false,
     "grade_id": "cell-b90570b9c2a5dfd4",
     "locked": false,
     "schema_version": 1,
     "solution": true
    }
   },
   "outputs": [],
   "source": [
    "def moyenne():\n",
    "    pass\n",
    "# Ecrivez votre code ci-dessous"
   ]
  },
  {
   "cell_type": "markdown",
   "metadata": {
    "deletable": false,
    "editable": false,
    "nbgrader": {
     "checksum": "c7ec4739a1635811a1b3ef2c1fbc1340",
     "grade": false,
     "grade_id": "cell-626adc79553b1a1f",
     "locked": true,
     "schema_version": 1,
     "solution": false
    }
   },
   "source": [
    "Essayons sur la liste des populations régionales"
   ]
  },
  {
   "cell_type": "code",
   "execution_count": null,
   "metadata": {
    "deletable": false,
    "editable": false,
    "nbgrader": {
     "checksum": "7253a6662f66460e106d2c293975534e",
     "grade": true,
     "grade_id": "cell-24f2811b774b6da7",
     "locked": true,
     "points": 1,
     "schema_version": 1,
     "solution": false
    }
   },
   "outputs": [],
   "source": [
    "moyenne(DICT_REGIONS)"
   ]
  },
  {
   "cell_type": "markdown",
   "metadata": {
    "deletable": false,
    "editable": false,
    "nbgrader": {
     "checksum": "a54abd66b3c8f007ac06736268181d64",
     "grade": false,
     "grade_id": "cell-3a0325dd7757cbee",
     "locked": true,
     "schema_version": 1,
     "solution": false
    }
   },
   "source": [
    "## Exercice\n",
    "\n",
    "### Question\n",
    "\n",
    "Ecrire une fonction qui calcule l'écart-type des valeurs d'une liste en **utilisant une boucle**."
   ]
  },
  {
   "cell_type": "code",
   "execution_count": null,
   "metadata": {
    "deletable": false,
    "nbgrader": {
     "checksum": "b12c52aaf58edc6f709dafb93880bcf5",
     "grade": false,
     "grade_id": "cell-bd7615dddc9957c3",
     "locked": false,
     "schema_version": 1,
     "solution": true
    }
   },
   "outputs": [],
   "source": [
    "def ecart_type():\n",
    "    pass\n",
    "# Ecrivez votre code ci-dessous"
   ]
  },
  {
   "cell_type": "markdown",
   "metadata": {
    "deletable": false,
    "editable": false,
    "nbgrader": {
     "checksum": "cc02c3c550ab0dc5a0d91d92d945c2ad",
     "grade": false,
     "grade_id": "cell-772437f9530de0ef",
     "locked": true,
     "schema_version": 1,
     "solution": false
    }
   },
   "source": [
    "Essayons sur la liste des populations régionales"
   ]
  },
  {
   "cell_type": "code",
   "execution_count": null,
   "metadata": {
    "deletable": false,
    "editable": false,
    "nbgrader": {
     "checksum": "868498bc2d6859e5cd3e2ea2c9d68cec",
     "grade": true,
     "grade_id": "cell-a5f327db2776ee59",
     "locked": true,
     "points": 1,
     "schema_version": 1,
     "solution": false
    }
   },
   "outputs": [],
   "source": [
    "ecart_type(DICT_REGIONS)"
   ]
  },
  {
   "cell_type": "markdown",
   "metadata": {
    "deletable": false,
    "editable": false,
    "nbgrader": {
     "checksum": "2c0131315a65a4edd2e5c85d81855aba",
     "grade": false,
     "grade_id": "cell-ec4f81f22dd5c433",
     "locked": true,
     "schema_version": 1,
     "solution": false
    }
   },
   "source": [
    "## Exercice\n",
    "\n",
    "### Question\n",
    "\n",
    "Ecrire une fonction qui détermine si une Chaine de caractères est un palindrome et renvoi alors **True**, sinon elle renvoie **False** en **utilisant une boucle**.\n",
    "\n",
    "Un palindrome est un mot ou une phrase (dans le cas d'une phrase on ne tient pas compte des espaces, des virgules ou des points) qui peut se lire lettre à lettre dans les deux sens. Kayak est un palindrome."
   ]
  },
  {
   "cell_type": "code",
   "execution_count": null,
   "metadata": {
    "deletable": false,
    "nbgrader": {
     "checksum": "59c9e6b462fcf58dbe456cdd36637da3",
     "grade": false,
     "grade_id": "cell-01e78a255c8581cb",
     "locked": false,
     "schema_version": 1,
     "solution": true
    }
   },
   "outputs": [],
   "source": [
    "def palindrome():\n",
    "    pass\n",
    "# Ecrivez votre code ci-dessous"
   ]
  },
  {
   "cell_type": "markdown",
   "metadata": {
    "deletable": false,
    "editable": false,
    "nbgrader": {
     "checksum": "ba9af6784c91258aafededd0c0b0617c",
     "grade": false,
     "grade_id": "cell-f35ae1856be7b113",
     "locked": true,
     "schema_version": 1,
     "solution": false
    }
   },
   "source": [
    "### Question\n",
    "\n",
    "Essayons cette fonction sur des exemples de palindromes"
   ]
  },
  {
   "cell_type": "code",
   "execution_count": null,
   "metadata": {
    "deletable": false,
    "editable": false,
    "nbgrader": {
     "checksum": "e61e2ee161b6893af50bc918437fbc89",
     "grade": true,
     "grade_id": "cell-6ffe8db9f043d3b9",
     "locked": true,
     "points": 1,
     "schema_version": 1,
     "solution": false
    },
    "run_control": {
     "marked": false
    }
   },
   "outputs": [],
   "source": [
    "palindrome('kayak')"
   ]
  },
  {
   "cell_type": "code",
   "execution_count": null,
   "metadata": {
    "deletable": false,
    "editable": false,
    "nbgrader": {
     "checksum": "96cc8e4b610c1ea5ba49a6c271a5d5e2",
     "grade": true,
     "grade_id": "cell-6ffe8db5f043d3b9",
     "locked": true,
     "points": 1,
     "schema_version": 1,
     "solution": false
    },
    "run_control": {
     "marked": false
    }
   },
   "outputs": [],
   "source": [
    "palindrome('Engage le jeu, que je le gagne')"
   ]
  },
  {
   "cell_type": "markdown",
   "metadata": {
    "deletable": false,
    "editable": false,
    "nbgrader": {
     "checksum": "959a5169936301ffa7925c70f61e1c0c",
     "grade": false,
     "grade_id": "cell-449aef8fff5c8bc6",
     "locked": true,
     "schema_version": 1,
     "solution": false
    }
   },
   "source": [
    "## Exercice\n",
    "\n",
    "### Question\n",
    "\n",
    "Ecrire une fonction qui à un nombre entier renvoie la liste des diviseurs de ce nombre"
   ]
  },
  {
   "cell_type": "code",
   "execution_count": 1,
   "metadata": {
    "ExecuteTime": {
     "end_time": "2019-02-16T17:10:34.703846Z",
     "start_time": "2019-02-16T17:10:34.673780Z"
    },
    "deletable": false,
    "nbgrader": {
     "checksum": "d6f1ef40f47ca291ca2b07897cd10449",
     "grade": false,
     "grade_id": "cell-f0c719a18279418d",
     "locked": false,
     "schema_version": 1,
     "solution": true
    }
   },
   "outputs": [],
   "source": [
    "def liste_diviseurs():\n",
    "    pass\n",
    "# Ecrivez votre code ci-dessous"
   ]
  },
  {
   "cell_type": "markdown",
   "metadata": {
    "deletable": false,
    "editable": false,
    "nbgrader": {
     "checksum": "42bb345a29b06a1ec0060445bd7b074e",
     "grade": false,
     "grade_id": "cell-45327a98b6fc6e2d",
     "locked": true,
     "schema_version": 1,
     "solution": false
    }
   },
   "source": [
    "Essayons cette fonction"
   ]
  },
  {
   "cell_type": "code",
   "execution_count": 2,
   "metadata": {
    "ExecuteTime": {
     "end_time": "2019-02-16T17:10:36.574172Z",
     "start_time": "2019-02-16T17:10:36.413605Z"
    },
    "deletable": false,
    "editable": false,
    "nbgrader": {
     "checksum": "d788fd5874d1645eb023ae536731b8e0",
     "grade": true,
     "grade_id": "cell-3486c064ae1c197e",
     "locked": true,
     "points": 1,
     "schema_version": 1,
     "solution": false
    }
   },
   "outputs": [
    {
     "ename": "TypeError",
     "evalue": "liste_diviseurs() takes 0 positional arguments but 1 was given",
     "output_type": "error",
     "traceback": [
      "\u001b[1;31m---------------------------------------------------------------------------\u001b[0m",
      "\u001b[1;31mTypeError\u001b[0m                                 Traceback (most recent call last)",
      "\u001b[1;32m<ipython-input-2-c7b6f8badee7>\u001b[0m in \u001b[0;36m<module>\u001b[1;34m\u001b[0m\n\u001b[1;32m----> 1\u001b[1;33m \u001b[0mprint\u001b[0m\u001b[1;33m(\u001b[0m\u001b[0mliste_diviseurs\u001b[0m\u001b[1;33m(\u001b[0m\u001b[1;36m1000\u001b[0m\u001b[1;33m)\u001b[0m\u001b[1;33m)\u001b[0m\u001b[1;33m\u001b[0m\u001b[1;33m\u001b[0m\u001b[0m\n\u001b[0m\u001b[0;32m      2\u001b[0m \u001b[0mprint\u001b[0m\u001b[1;33m(\u001b[0m\u001b[0mliste_diviseurs\u001b[0m\u001b[1;33m(\u001b[0m\u001b[1;36m352\u001b[0m\u001b[1;33m)\u001b[0m\u001b[1;33m)\u001b[0m\u001b[1;33m\u001b[0m\u001b[1;33m\u001b[0m\u001b[0m\n",
      "\u001b[1;31mTypeError\u001b[0m: liste_diviseurs() takes 0 positional arguments but 1 was given"
     ]
    }
   ],
   "source": [
    "print(liste_diviseurs(1000))\n",
    "print(liste_diviseurs(352))"
   ]
  },
  {
   "cell_type": "markdown",
   "metadata": {
    "deletable": false,
    "editable": false,
    "nbgrader": {
     "checksum": "59c05cfcb03c1899806993222eb54a7d",
     "grade": false,
     "grade_id": "cell-8206c56b8eaa2011",
     "locked": true,
     "schema_version": 1,
     "solution": false
    }
   },
   "source": [
    "## Exercice\n",
    "\n",
    "### Question\n",
    "\n",
    "Ecrire une fonction qui prend une chaine de caractères en entrée et renvoie en sortie une chaine de caractères identique mais à laquelle est ajouté le caractère 0 à la fin.\n",
    "\n",
    "Attention : la chaine de départ ne doit pas être modifiée par cette fonction."
   ]
  },
  {
   "cell_type": "code",
   "execution_count": null,
   "metadata": {
    "deletable": false,
    "nbgrader": {
     "checksum": "8da91653171b48bf9cbf5913a28a33c2",
     "grade": false,
     "grade_id": "cell-fc6aaa2679e8968d",
     "locked": false,
     "schema_version": 1,
     "solution": true
    }
   },
   "outputs": [],
   "source": [
    "def ajout_0_str():\n",
    "    pass\n",
    "# Ecrivez votre code ci-dessous"
   ]
  },
  {
   "cell_type": "code",
   "execution_count": null,
   "metadata": {
    "deletable": false,
    "editable": false,
    "nbgrader": {
     "checksum": "3a7b7fb87e360833f55fc60a6640bdaf",
     "grade": true,
     "grade_id": "cell-57a2eaa200cc94b4",
     "locked": true,
     "points": 1,
     "schema_version": 1,
     "solution": false
    }
   },
   "outputs": [],
   "source": [
    "TEST = '321'\n",
    "print(ajout_0_str(TEST))\n",
    "print(TEST)"
   ]
  },
  {
   "cell_type": "markdown",
   "metadata": {
    "deletable": false,
    "editable": false,
    "nbgrader": {
     "checksum": "514929b8158d58f9ac2aa20adafc08ea",
     "grade": false,
     "grade_id": "cell-c4e9fc11635ad0af",
     "locked": true,
     "schema_version": 1,
     "solution": false
    }
   },
   "source": [
    "### Question\n",
    "\n",
    "Ecrire une fonction qui prend une liste en entrée et renvoie en sortie une liste identique mais à laquelle est ajouté l'élément 0 à la fin.\n",
    "\n",
    "Attention : la liste de départ ne doit pas être modifiée par cette fonction."
   ]
  },
  {
   "cell_type": "code",
   "execution_count": null,
   "metadata": {
    "deletable": false,
    "nbgrader": {
     "checksum": "796f19f7e2d132fdc53c67c0830d9b3a",
     "grade": false,
     "grade_id": "cell-a1e742de97f60471",
     "locked": false,
     "schema_version": 1,
     "solution": true
    }
   },
   "outputs": [],
   "source": [
    "    def ajout_0_list():\n",
    "    pass\n",
    "# Ecrivez votre code ci-dessous"
   ]
  },
  {
   "cell_type": "code",
   "execution_count": null,
   "metadata": {
    "deletable": false,
    "editable": false,
    "nbgrader": {
     "checksum": "d585c5fdf72412ae608646a6506a1711",
     "grade": true,
     "grade_id": "cell-f12a0b6ab769d263",
     "locked": true,
     "points": 1,
     "schema_version": 1,
     "solution": false
    }
   },
   "outputs": [],
   "source": [
    "TEST = [3, 2, 1]\n",
    "print(ajout_0_list(TEST))\n",
    "print(TEST)"
   ]
  },
  {
   "cell_type": "markdown",
   "metadata": {
    "deletable": false,
    "editable": false,
    "nbgrader": {
     "checksum": "136c6d2add7e444c38d746f7b8274c73",
     "grade": false,
     "grade_id": "cell-5190048539e5a5a0",
     "locked": true,
     "schema_version": 1,
     "solution": false
    }
   },
   "source": [
    "Pourquoi ces deux cas sont fondamentalement différents, en dehors bien sûr du fait qu'une fonction se rapporte aux chaines de caractères, l'autre aux listes ?"
   ]
  },
  {
   "cell_type": "markdown",
   "metadata": {
    "deletable": false,
    "nbgrader": {
     "checksum": "bd2b5533a59dfac1d7749d7b7e4dc3b6",
     "grade": true,
     "grade_id": "cell-ab2ea70a569b5eae",
     "locked": false,
     "points": 1,
     "schema_version": 1,
     "solution": true
    }
   },
   "source": [
    "Ecrivez votre réponse ci-dessous"
   ]
  },
  {
   "cell_type": "markdown",
   "metadata": {
    "deletable": false,
    "editable": false,
    "nbgrader": {
     "checksum": "b5b865cc839c2c960e347db608f85ac7",
     "grade": false,
     "grade_id": "cell-8b857dc9547dae2f",
     "locked": true,
     "schema_version": 1,
     "solution": false
    }
   },
   "source": [
    "# Erreurs\n",
    "\n",
    "## Exercice"
   ]
  },
  {
   "cell_type": "markdown",
   "metadata": {
    "deletable": false,
    "editable": false,
    "nbgrader": {
     "checksum": "6b6ef771e7de9133246cd202be4b1fc6",
     "grade": false,
     "grade_id": "cell-55501084a9a634e6",
     "locked": true,
     "schema_version": 1,
     "solution": false
    }
   },
   "source": [
    "Soient:\n",
    "- la variable **PIB1**, contenant des PIB fictifs, chronologiquement ordonnés\n",
    "- la fonction **calc_croissances**, permettant de calculer des taux de variation en pourcentage."
   ]
  },
  {
   "cell_type": "code",
   "execution_count": null,
   "metadata": {
    "deletable": false,
    "editable": false,
    "nbgrader": {
     "checksum": "974da69b5b146b14d46f0749118dfab6",
     "grade": false,
     "grade_id": "cell-060a223dc8c73317",
     "locked": true,
     "schema_version": 1,
     "solution": false
    }
   },
   "outputs": [],
   "source": [
    "PIB1 = [2000, 2025, 2035, 2090, 2110, 2140, 2160]\n",
    "\n",
    "def calc_croissances(liste):\n",
    "    res = []\n",
    "    for i in range(1, len(liste)):\n",
    "        croissance = 100*(liste[i]/liste[i - 1] - 1)\n",
    "        res.append(croissance)\n",
    "    \n",
    "    return res"
   ]
  },
  {
   "cell_type": "markdown",
   "metadata": {
    "deletable": false,
    "editable": false,
    "nbgrader": {
     "checksum": "d7c4918e95698e5261188ac164e24c90",
     "grade": false,
     "grade_id": "cell-9cd184671631d045",
     "locked": true,
     "schema_version": 1,
     "solution": false
    }
   },
   "source": [
    "Voyons l'effet de cette fonction"
   ]
  },
  {
   "cell_type": "code",
   "execution_count": null,
   "metadata": {
    "deletable": false,
    "editable": false,
    "nbgrader": {
     "checksum": "a9ef9b6fbf9588b77711bcbf794d272d",
     "grade": false,
     "grade_id": "cell-7e6adefc9c475831",
     "locked": true,
     "schema_version": 1,
     "solution": false
    }
   },
   "outputs": [],
   "source": [
    "calc_croissances(PIB1)"
   ]
  },
  {
   "cell_type": "markdown",
   "metadata": {
    "deletable": false,
    "editable": false,
    "nbgrader": {
     "checksum": "92f7ae93c7c040607e445805e70909a2",
     "grade": false,
     "grade_id": "cell-059b37a4714f4e70",
     "locked": true,
     "schema_version": 1,
     "solution": false
    }
   },
   "source": [
    "### Question\n",
    "\n",
    "Imaginons maintenant que plusieurs valeurs manquantes se soient glissées dans notre série."
   ]
  },
  {
   "cell_type": "code",
   "execution_count": null,
   "metadata": {
    "deletable": false,
    "editable": false,
    "nbgrader": {
     "checksum": "37c54a4258c10f4f2cc365df428ce531",
     "grade": false,
     "grade_id": "cell-476f20b1e8db5926",
     "locked": true,
     "schema_version": 1,
     "solution": false
    }
   },
   "outputs": [],
   "source": [
    "PIB2 = [2000, 2025, '#N/A', 2090, 2110, '#N/A', 2160]"
   ]
  },
  {
   "cell_type": "markdown",
   "metadata": {
    "deletable": false,
    "editable": false,
    "nbgrader": {
     "checksum": "b0264396acb8b020066fef7a7e024d60",
     "grade": false,
     "grade_id": "cell-63705006240228bc",
     "locked": true,
     "schema_version": 1,
     "solution": false
    }
   },
   "source": [
    "### Question\n",
    "\n",
    "Ecrire une nouvelle version de cette fonction utilisant le traitement des erreurs (**try**, **except**, **else**...) de manière à ce qu'il puisse traiter la liste suivante en remplaçant les valeurs manquantes (\"#N/A\") par la moyenne de l'année suivante et précédente (interpolation), avant de calculer la croissance.\n",
    "\n",
    "Attention, cette fonction ne doit pas modifier la liste passée en paramètre."
   ]
  },
  {
   "cell_type": "code",
   "execution_count": null,
   "metadata": {
    "code_folding": [],
    "deletable": false,
    "nbgrader": {
     "checksum": "4278286a208cadca4ccb3cc686334ca4",
     "grade": false,
     "grade_id": "cell-6f221a77def1d700",
     "locked": false,
     "schema_version": 1,
     "solution": true
    }
   },
   "outputs": [],
   "source": [
    "def calc_croissances(): \n",
    "    pass\n",
    "# Ecrivez votre code ci-dessous"
   ]
  },
  {
   "cell_type": "markdown",
   "metadata": {
    "deletable": false,
    "editable": false,
    "nbgrader": {
     "checksum": "559ab35988bb7aef82b5326bf2d7559d",
     "grade": false,
     "grade_id": "cell-10079237d3bb2e90",
     "locked": true,
     "schema_version": 1,
     "solution": false
    }
   },
   "source": [
    "Tester maintenant cette fonction :"
   ]
  },
  {
   "cell_type": "code",
   "execution_count": null,
   "metadata": {
    "deletable": false,
    "editable": false,
    "nbgrader": {
     "checksum": "50c0b802bee2ed368400e949eb82d7d8",
     "grade": true,
     "grade_id": "cell-49d77b9b54776a7d",
     "locked": true,
     "points": 1,
     "schema_version": 1,
     "solution": false
    }
   },
   "outputs": [],
   "source": [
    "\n",
    "calc_croissances(PIB2)"
   ]
  },
  {
   "cell_type": "markdown",
   "metadata": {
    "deletable": false,
    "editable": false,
    "nbgrader": {
     "checksum": "d92f33a593646163013d183195b40bef",
     "grade": false,
     "grade_id": "cell-6d43cfd81b39d018",
     "locked": true,
     "schema_version": 1,
     "solution": false
    }
   },
   "source": [
    "### Question\n",
    "\n",
    "Et maintenant supposons un cas plus complexe où des valeurs manquantes peuvent être côte à côté empêchant le calcul de l'interpolation sur la base des rangs supérieur et inférieur.\n",
    "\n",
    "Supposons que nous savons que ce cas existe, que l'on pense qu'il faudra le traiter un jour, mais qu'aujourd'hui, ce n'est pas possible en raison d'un manque de temps... Nous allons donc tester ce cas, et s'il advient, la fonction devra provoquer une erreur NotImplementedError.\n",
    "\n",
    "Modifier encore la fonction de manière à intégrer cette situation.\n",
    "\n",
    "Ne pas oublier qu'il n'y a pas que le terme et le terme précédent qui comptent..."
   ]
  },
  {
   "cell_type": "code",
   "execution_count": null,
   "metadata": {
    "deletable": false,
    "editable": false,
    "nbgrader": {
     "checksum": "41eaa49d3f4ab3b7f73428161436385e",
     "grade": false,
     "grade_id": "cell-e32146a40f57d9a9",
     "locked": true,
     "schema_version": 1,
     "solution": false
    }
   },
   "outputs": [],
   "source": [
    "PIB3 = [2000, '#N/A', '#N/A', 2090, 2110, '#N/A', 2160]"
   ]
  },
  {
   "cell_type": "code",
   "execution_count": null,
   "metadata": {
    "deletable": false,
    "nbgrader": {
     "checksum": "5042ebd1f144fc42dd5c00a903289157",
     "grade": false,
     "grade_id": "cell-32b3135754dd9c38",
     "locked": false,
     "schema_version": 1,
     "solution": true
    }
   },
   "outputs": [],
   "source": [
    "def calc_croissances(): \n",
    "    pass\n",
    "# Ecrivez votre code ci-dessous"
   ]
  },
  {
   "cell_type": "markdown",
   "metadata": {
    "deletable": false,
    "editable": false,
    "nbgrader": {
     "checksum": "fb41c2aed63c973d5267279683f848cb",
     "grade": false,
     "grade_id": "cell-5337c338b11c15b8",
     "locked": true,
     "schema_version": 1,
     "solution": false
    }
   },
   "source": [
    "Tester maintenant cette fonction :"
   ]
  },
  {
   "cell_type": "code",
   "execution_count": null,
   "metadata": {
    "deletable": false,
    "editable": false,
    "nbgrader": {
     "checksum": "149da15fa0f016fa8527d1e6a7eb26b5",
     "grade": true,
     "grade_id": "cell-f44d1ee4fd698ca7",
     "locked": true,
     "points": 1,
     "schema_version": 1,
     "solution": false
    }
   },
   "outputs": [],
   "source": [
    "\n",
    "try:\n",
    "    calc_croissances(PIB3)\n",
    "except NotImplementedError:\n",
    "    print('Ce cas n\\'est pas implementé, c\\'est la bonne réponse.')\n",
    "else:\n",
    "    raise BaseException('Problème : il doit y avoir une erreur quelque part...')"
   ]
  },
  {
   "cell_type": "markdown",
   "metadata": {
    "deletable": false,
    "editable": false,
    "nbgrader": {
     "checksum": "abb3f612611a1aba7fa364dc553df2a4",
     "grade": false,
     "grade_id": "cell-c882d6d8cafb574c",
     "locked": true,
     "schema_version": 1,
     "solution": false
    }
   },
   "source": [
    "# Modules\n",
    "\n",
    "## Exercice\n",
    "\n",
    "### Question\n",
    "\n",
    "Il existe une bibliothèque nommée sklearn qui contient un très grand nombre d'outils pour faire du Machine Learning qui possède un sous-module nommé linear_model. \n",
    "\n",
    "Importer ce sous-module directement, de manière à pouvoir l'appeler en utilisant le nom **lm**"
   ]
  },
  {
   "cell_type": "code",
   "execution_count": null,
   "metadata": {
    "deletable": false,
    "nbgrader": {
     "checksum": "2c9c559a446ac9c46c25814b68b9f2fb",
     "grade": false,
     "grade_id": "cell-6b162c978a86925f",
     "locked": false,
     "schema_version": 1,
     "solution": true
    }
   },
   "outputs": [],
   "source": [
    "lm = None\n",
    "# Ecrivez votre code ci-dessous"
   ]
  },
  {
   "cell_type": "code",
   "execution_count": null,
   "metadata": {
    "deletable": false,
    "editable": false,
    "nbgrader": {
     "checksum": "c4e11b62b070a32303b8503e403df011",
     "grade": true,
     "grade_id": "cell-89e028cb1074876b",
     "locked": true,
     "points": 1,
     "schema_version": 1,
     "solution": false
    }
   },
   "outputs": [],
   "source": [
    "lm"
   ]
  },
  {
   "cell_type": "markdown",
   "metadata": {
    "deletable": false,
    "editable": false,
    "nbgrader": {
     "checksum": "d9e2f51e14ea87377600160fc8e0a90d",
     "grade": false,
     "grade_id": "cell-c12b8852f09af74e",
     "locked": true,
     "schema_version": 1,
     "solution": false
    }
   },
   "source": [
    "### Question\n",
    "\n",
    "Afficher les 10 premiers éléments de la liste de l'ensemble des composants de ce sous-module.\n",
    "\n",
    "Il faut utiliser une fonction native de Python"
   ]
  },
  {
   "cell_type": "code",
   "execution_count": null,
   "metadata": {
    "deletable": false,
    "nbgrader": {
     "checksum": "aa856d5f71c907aa784e79d288826a13",
     "grade": false,
     "grade_id": "cell-97d95ebfcd10fd82",
     "locked": false,
     "schema_version": 1,
     "solution": true
    }
   },
   "outputs": [],
   "source": [
    "reponse = None\n",
    "# Ecrivez votre code ci-dessous"
   ]
  },
  {
   "cell_type": "code",
   "execution_count": null,
   "metadata": {
    "deletable": false,
    "editable": false,
    "nbgrader": {
     "checksum": "5781a2414109d3893d2963d544ac6e84",
     "grade": true,
     "grade_id": "cell-a6b29cd1a8be4aae",
     "locked": true,
     "points": 1,
     "schema_version": 1,
     "solution": false
    }
   },
   "outputs": [],
   "source": [
    "reponse"
   ]
  },
  {
   "cell_type": "markdown",
   "metadata": {
    "deletable": false,
    "editable": false,
    "nbgrader": {
     "checksum": "a63929888c6307df42b7014fa8cf198d",
     "grade": false,
     "grade_id": "cell-b8772e8e0ef719ef",
     "locked": true,
     "schema_version": 1,
     "solution": false
    }
   },
   "source": [
    "### Question\n",
    "\n",
    "Ecrire une fonction **dir_objets** qui imprime seulement les classes d'un sous-module.\n",
    "\n",
    "Pour cela, on va supposer qu'une classe répond à 2 conditions:\n",
    "- Son nom commence par une **majuscule**\n",
    "- Son nom ne commence pas par un ***underscore*** (le caractère de soulignement : \\_)"
   ]
  },
  {
   "cell_type": "code",
   "execution_count": null,
   "metadata": {
    "deletable": false,
    "nbgrader": {
     "checksum": "71d13eb052bf2cf2a305e35486715c03",
     "grade": false,
     "grade_id": "cell-ee1728b4045a0f11",
     "locked": false,
     "schema_version": 1,
     "solution": true
    }
   },
   "outputs": [],
   "source": [
    "def dir_objets(): \n",
    "    pass\n",
    "# Ecrivez votre code ci-dessous"
   ]
  },
  {
   "cell_type": "markdown",
   "metadata": {
    "deletable": false,
    "editable": false,
    "nbgrader": {
     "checksum": "9195e22476578eae90e1696b2a9bd4d2",
     "grade": false,
     "grade_id": "cell-da204f13639a4caa",
     "locked": true,
     "schema_version": 1,
     "solution": false
    }
   },
   "source": [
    "Puis utiliser cette fonction sur lm"
   ]
  },
  {
   "cell_type": "code",
   "execution_count": null,
   "metadata": {
    "deletable": false,
    "editable": false,
    "nbgrader": {
     "checksum": "94b5e529dff73f62612ab42017c3ce38",
     "grade": true,
     "grade_id": "cell-5a30f3d4bd013c33",
     "locked": true,
     "points": 1,
     "schema_version": 1,
     "solution": false
    }
   },
   "outputs": [],
   "source": [
    "dir_objets(lm)"
   ]
  },
  {
   "cell_type": "markdown",
   "metadata": {
    "deletable": false,
    "editable": false,
    "nbgrader": {
     "checksum": "84fb58b29de7f78b1dc60816304914a3",
     "grade": false,
     "grade_id": "cell-4094b29124098dfa",
     "locked": true,
     "schema_version": 1,
     "solution": false
    }
   },
   "source": [
    "## Exercice\n",
    "\n",
    "### Question\n",
    "\n",
    "Python a un module **datetime** qui permet de faire beaucoup de choses en relation avec le temps. \n",
    "\n",
    "Importer ce module et afficher la liste de ses composants"
   ]
  },
  {
   "cell_type": "code",
   "execution_count": null,
   "metadata": {
    "deletable": false,
    "nbgrader": {
     "checksum": "921beb7d1814fa317d1089e436abbc91",
     "grade": false,
     "grade_id": "cell-fffc6454a11b5ecf",
     "locked": false,
     "schema_version": 1,
     "solution": true
    }
   },
   "outputs": [],
   "source": [
    "reponse = None\n",
    "# Ecrivez votre code ci-dessous"
   ]
  },
  {
   "cell_type": "code",
   "execution_count": null,
   "metadata": {
    "deletable": false,
    "editable": false,
    "nbgrader": {
     "checksum": "7a643db0b11e009f0a2652a683b68028",
     "grade": true,
     "grade_id": "cell-0167a75eae045969",
     "locked": true,
     "points": 1,
     "schema_version": 1,
     "solution": false
    }
   },
   "outputs": [],
   "source": [
    "reponse"
   ]
  },
  {
   "cell_type": "markdown",
   "metadata": {
    "deletable": false,
    "editable": false,
    "nbgrader": {
     "checksum": "9c7d1dc6d74d08b7c1f4cddaa0df80bf",
     "grade": false,
     "grade_id": "cell-8a39b6697172ae66",
     "locked": true,
     "schema_version": 1,
     "solution": false
    }
   },
   "source": [
    "### Question\n",
    "\n",
    "Afficher la date et l'heure qu'il est actuellement"
   ]
  },
  {
   "cell_type": "code",
   "execution_count": null,
   "metadata": {
    "deletable": false,
    "nbgrader": {
     "checksum": "1ff7a760e23ff5ee3fe53c9ca3dd55a9",
     "grade": false,
     "grade_id": "cell-87f4b0f1527fb97c",
     "locked": false,
     "schema_version": 1,
     "solution": true
    }
   },
   "outputs": [],
   "source": [
    "reponse = None\n",
    "# Ecrivez votre code ci-dessous"
   ]
  },
  {
   "cell_type": "code",
   "execution_count": null,
   "metadata": {
    "deletable": false,
    "editable": false,
    "nbgrader": {
     "checksum": "f04ba508795f53a1da536f24b80afc00",
     "grade": true,
     "grade_id": "cell-f5d4edeaa6ea0291",
     "locked": true,
     "points": 1,
     "schema_version": 1,
     "solution": false
    }
   },
   "outputs": [],
   "source": [
    "print(reponse)"
   ]
  },
  {
   "cell_type": "markdown",
   "metadata": {
    "deletable": false,
    "editable": false,
    "nbgrader": {
     "checksum": "7d30e40e752c90b9ad4589a39f02aa30",
     "grade": false,
     "grade_id": "cell-8a39b6697172ae67",
     "locked": true,
     "schema_version": 1,
     "solution": false
    }
   },
   "source": [
    "### Question\n",
    "\n",
    "Afficher la date qu'il sera dans 10 jours"
   ]
  },
  {
   "cell_type": "code",
   "execution_count": null,
   "metadata": {
    "deletable": false,
    "nbgrader": {
     "checksum": "b783fdfe05ad169102b974d9805d3335",
     "grade": false,
     "grade_id": "cell-87f4b0f1527fb97d",
     "locked": false,
     "schema_version": 1,
     "solution": true
    }
   },
   "outputs": [],
   "source": [
    "reponse = None\n",
    "# Ecrivez votre code ci-dessous"
   ]
  },
  {
   "cell_type": "code",
   "execution_count": null,
   "metadata": {
    "deletable": false,
    "editable": false,
    "nbgrader": {
     "checksum": "8d87c1f84545897e4022f61b0b308ace",
     "grade": true,
     "grade_id": "cell-f5d4edeaa6ea0292",
     "locked": true,
     "points": 1,
     "schema_version": 1,
     "solution": false
    }
   },
   "outputs": [],
   "source": [
    "print(reponse.date())"
   ]
  },
  {
   "cell_type": "markdown",
   "metadata": {
    "deletable": false,
    "editable": false,
    "nbgrader": {
     "checksum": "b139213e5a3957c9515f7f880beca621",
     "grade": false,
     "grade_id": "cell-b0ad55f012f8295b",
     "locked": true,
     "schema_version": 1,
     "solution": false
    }
   },
   "source": [
    "# Gestion de fichiers\n",
    "\n",
    "## Exercice\n",
    "\n",
    "### Question\n",
    "\n",
    "Ouvrir le fichier Googleflights.csv qui est localisé à l'adresse contenue dans la variable **CHEMIN_FICHIER** et en charger le contenu dans la variable **contenu**. \n",
    "\n",
    "Cette variable doit être une liste contenant les différentes lignes du fichier.\n",
    "\n",
    "Attention : les caractères de retour à la ligne doivent être retirés"
   ]
  },
  {
   "cell_type": "code",
   "execution_count": null,
   "metadata": {
    "deletable": false,
    "editable": false,
    "nbgrader": {
     "checksum": "5d5956db4fc3d4a03b5770b074c956ec",
     "grade": false,
     "grade_id": "cell-be8ad0b6be0cd1a6",
     "locked": true,
     "schema_version": 1,
     "solution": false
    }
   },
   "outputs": [],
   "source": [
    "CHEMIN_FICHIER = '../../data/Googleflights.csv'"
   ]
  },
  {
   "cell_type": "code",
   "execution_count": null,
   "metadata": {
    "deletable": false,
    "nbgrader": {
     "checksum": "5d7ed9996699fdd82b0a54bfd387cde2",
     "grade": false,
     "grade_id": "cell-e8fa36e1e1cd5a2a",
     "locked": false,
     "schema_version": 1,
     "solution": true
    }
   },
   "outputs": [],
   "source": [
    "contenu = None\n",
    "# Ecrivez votre code ci-dessous"
   ]
  },
  {
   "cell_type": "code",
   "execution_count": null,
   "metadata": {
    "deletable": false,
    "editable": false,
    "nbgrader": {
     "checksum": "fb5cd16b776c84a321235cb2e01551b2",
     "grade": true,
     "grade_id": "cell-c872b66d1ed7d6d1",
     "locked": true,
     "points": 1,
     "schema_version": 1,
     "solution": false
    }
   },
   "outputs": [],
   "source": [
    "contenu[:4]"
   ]
  },
  {
   "cell_type": "markdown",
   "metadata": {
    "deletable": false,
    "editable": false,
    "nbgrader": {
     "checksum": "097f5457ae77e1f9b95057010735c168",
     "grade": false,
     "grade_id": "cell-8d0712a0d67ffac6",
     "locked": true,
     "schema_version": 1,
     "solution": false
    }
   },
   "source": [
    "### Question\n",
    "\n",
    "Créer une liste des titres de colonne à partir de la première ligne"
   ]
  },
  {
   "cell_type": "code",
   "execution_count": null,
   "metadata": {
    "deletable": false,
    "nbgrader": {
     "checksum": "ff5c7647d4ce664b557f16fcb53478c2",
     "grade": false,
     "grade_id": "cell-b2058d8244fdbec7",
     "locked": false,
     "schema_version": 1,
     "solution": true
    }
   },
   "outputs": [],
   "source": [
    "liste_titres = None\n",
    "# Ecrivez votre code ci-dessous"
   ]
  },
  {
   "cell_type": "code",
   "execution_count": null,
   "metadata": {
    "deletable": false,
    "editable": false,
    "nbgrader": {
     "checksum": "bc8289e347a6f82779e9e01964d7e11e",
     "grade": true,
     "grade_id": "cell-b0da5aeaf756dcb3",
     "locked": true,
     "points": 1,
     "schema_version": 1,
     "solution": false
    }
   },
   "outputs": [],
   "source": [
    "liste_titres"
   ]
  },
  {
   "cell_type": "markdown",
   "metadata": {
    "deletable": false,
    "editable": false,
    "nbgrader": {
     "checksum": "fd28d48902e37701a7f8ca2aec52f58e",
     "grade": false,
     "grade_id": "cell-bfb2e1a8342b41d4",
     "locked": true,
     "schema_version": 1,
     "solution": false
    }
   },
   "source": [
    "### Question\n",
    "\n",
    "Créer une liste des lignes de données à partir des lignes suivantes et faites en sorte que cette liste contienne des lignes qui soient elle-même séparées en éléments individuels"
   ]
  },
  {
   "cell_type": "code",
   "execution_count": null,
   "metadata": {
    "deletable": false,
    "nbgrader": {
     "checksum": "5260a6ecf8691f6ad1910b4e6e557a7b",
     "grade": false,
     "grade_id": "cell-6741ec3e3c2d23f9",
     "locked": false,
     "schema_version": 1,
     "solution": true
    }
   },
   "outputs": [],
   "source": [
    "liste_donnees = None\n",
    "# Ecrivez votre code ci-dessous"
   ]
  },
  {
   "cell_type": "code",
   "execution_count": null,
   "metadata": {
    "deletable": false,
    "editable": false,
    "nbgrader": {
     "checksum": "f2002df5e4884a3d1d5e799c49057e4b",
     "grade": true,
     "grade_id": "cell-f8e22f0d73527795",
     "locked": true,
     "points": 1,
     "schema_version": 1,
     "solution": false
    }
   },
   "outputs": [],
   "source": [
    "liste_donnees[:2]"
   ]
  },
  {
   "cell_type": "markdown",
   "metadata": {
    "deletable": false,
    "editable": false,
    "nbgrader": {
     "checksum": "b980d7258b64a73ddc5bc5beab3d096f",
     "grade": false,
     "grade_id": "cell-d284ba217e406c10",
     "locked": true,
     "schema_version": 1,
     "solution": false
    }
   },
   "source": [
    "### Question\n",
    "\n",
    "Créér un dictionnaire **dict_data** qui à chaque nom de colonne de **liste_titres** associe une liste contenant l'ensemble des données de cette colonne"
   ]
  },
  {
   "cell_type": "code",
   "execution_count": null,
   "metadata": {
    "deletable": false,
    "nbgrader": {
     "checksum": "7ce36439234d5e68654003055246c4b8",
     "grade": false,
     "grade_id": "cell-ccb6169f9acb7bef",
     "locked": false,
     "schema_version": 1,
     "solution": true
    }
   },
   "outputs": [],
   "source": [
    "dict_data = None\n",
    "# Ecrivez votre code ci-dessous"
   ]
  },
  {
   "cell_type": "code",
   "execution_count": null,
   "metadata": {
    "deletable": false,
    "editable": false,
    "nbgrader": {
     "checksum": "b921f1909709748ef9d25d4a88c5dc88",
     "grade": true,
     "grade_id": "cell-5fadd4b222ec745b",
     "locked": true,
     "points": 1,
     "schema_version": 1,
     "solution": false
    }
   },
   "outputs": [],
   "source": [
    "\n",
    "dict_data['price'][:10]"
   ]
  },
  {
   "cell_type": "markdown",
   "metadata": {
    "deletable": false,
    "editable": false,
    "nbgrader": {
     "checksum": "f9dd4f292144e9be0535c679120508c5",
     "grade": false,
     "grade_id": "cell-284ae968c394b89e",
     "locked": true,
     "schema_version": 1,
     "solution": false
    }
   },
   "source": [
    "# Classes et objets\n",
    "\n",
    "## Exercice\n",
    "\n",
    "### Question\n",
    "\n",
    "Ecrire une classe **Cercle**, avec :\n",
    "- un attribut **rayon** qui est initialisé directement à la création d'un objet **Cercle** grâce à un paramètre\n",
    "- une méthode **surface** renvoyant la surface de ce cercle\n",
    "- une méthode **perimetre** renvoyant le périmètre de ce cercle \n",
    "\n",
    "Il est recommendé d'importer et utiliser la variable **pi** qui est disponible dans le module **math**\n",
    "\n"
   ]
  },
  {
   "cell_type": "code",
   "execution_count": null,
   "metadata": {
    "deletable": false,
    "nbgrader": {
     "checksum": "a923f1f8e2b22e0918cbc57042175aaf",
     "grade": false,
     "grade_id": "cell-5a220e18bc3c53cc",
     "locked": false,
     "schema_version": 1,
     "solution": true
    }
   },
   "outputs": [],
   "source": [
    "class Cercle:\n",
    "    pass\n",
    "# Ecrivez votre code ci-dessous"
   ]
  },
  {
   "cell_type": "code",
   "execution_count": null,
   "metadata": {
    "deletable": false,
    "editable": false,
    "nbgrader": {
     "checksum": "356fe6e078726dcaf6aadfcc07eb3cd7",
     "grade": true,
     "grade_id": "cell-986b072d9cfc7c73",
     "locked": true,
     "points": 1,
     "schema_version": 1,
     "solution": false
    }
   },
   "outputs": [],
   "source": [
    "Cercle"
   ]
  },
  {
   "cell_type": "markdown",
   "metadata": {
    "deletable": false,
    "editable": false,
    "nbgrader": {
     "checksum": "dd54b915536755a6110cbd27ea33e326",
     "grade": false,
     "grade_id": "cell-842196367e6477b6",
     "locked": true,
     "schema_version": 1,
     "solution": false
    }
   },
   "source": [
    "### Question\n",
    "\n",
    "Créer maintenant un objet **mon_cercle** qui est un **Cercle** de rayon 3"
   ]
  },
  {
   "cell_type": "code",
   "execution_count": null,
   "metadata": {
    "deletable": false,
    "nbgrader": {
     "checksum": "ecc94623d689ed9cf9a9f5281f15584f",
     "grade": false,
     "grade_id": "cell-96f0b245debc7e6b",
     "locked": false,
     "schema_version": 1,
     "solution": true
    }
   },
   "outputs": [],
   "source": [
    "mon_cercle = None\n",
    "# Ecrivez votre code ci-dessous"
   ]
  },
  {
   "cell_type": "code",
   "execution_count": null,
   "metadata": {
    "deletable": false,
    "editable": false,
    "nbgrader": {
     "checksum": "d9eede9e5fdb4726f024d8c0e9fcecf5",
     "grade": true,
     "grade_id": "cell-338bafb77c9d32ed",
     "locked": true,
     "points": 1,
     "schema_version": 1,
     "solution": false
    }
   },
   "outputs": [],
   "source": [
    "mon_cercle.rayon"
   ]
  },
  {
   "cell_type": "markdown",
   "metadata": {
    "deletable": false,
    "editable": false,
    "nbgrader": {
     "checksum": "3ab3231b43201d975465aabe4d0c998f",
     "grade": false,
     "grade_id": "cell-62db94ce61d1d158",
     "locked": true,
     "schema_version": 1,
     "solution": false
    }
   },
   "source": [
    "### Question\n",
    "\n",
    "Utiliser ses méthodes pour obtenir la surface et le périmètre de ce cercle"
   ]
  },
  {
   "cell_type": "code",
   "execution_count": null,
   "metadata": {
    "deletable": false,
    "editable": false,
    "nbgrader": {
     "checksum": "7bc39144e9deb37847a19b20785efd15",
     "grade": true,
     "grade_id": "cell-e43500664b19ca7a",
     "locked": true,
     "points": 1,
     "schema_version": 1,
     "solution": false
    }
   },
   "outputs": [],
   "source": [
    "mon_cercle.surface()"
   ]
  },
  {
   "cell_type": "code",
   "execution_count": null,
   "metadata": {
    "deletable": false,
    "editable": false,
    "nbgrader": {
     "checksum": "7cd412d64c7aff4ee5a5808b8dc648c0",
     "grade": true,
     "grade_id": "cell-26968a21025e6fba",
     "locked": true,
     "points": 1,
     "schema_version": 1,
     "solution": false
    }
   },
   "outputs": [],
   "source": [
    "mon_cercle.perimetre()"
   ]
  },
  {
   "cell_type": "markdown",
   "metadata": {
    "deletable": false,
    "editable": false,
    "nbgrader": {
     "checksum": "e8978ee904aa31245e8d064b3bca79b6",
     "grade": false,
     "grade_id": "cell-1468fb2ba8c4aa52",
     "locked": true,
     "schema_version": 1,
     "solution": false
    }
   },
   "source": [
    "### Question\n",
    "\n",
    "Générer une liste de 10 objets Cercle dont les rayons vont de 1 à 10."
   ]
  },
  {
   "cell_type": "code",
   "execution_count": null,
   "metadata": {
    "deletable": false,
    "nbgrader": {
     "checksum": "79c10184dab5c40d7aa7d04a191ce584",
     "grade": false,
     "grade_id": "cell-158fef97d636dc31",
     "locked": false,
     "schema_version": 1,
     "solution": true
    }
   },
   "outputs": [],
   "source": [
    "liste_cercles = None\n",
    "# Ecrivez votre code ci-dessous"
   ]
  },
  {
   "cell_type": "code",
   "execution_count": null,
   "metadata": {
    "deletable": false,
    "editable": false,
    "nbgrader": {
     "checksum": "46e871e999cc07df128258cc5bc39647",
     "grade": true,
     "grade_id": "cell-7146d3e342c9f668",
     "locked": true,
     "points": 1,
     "schema_version": 1,
     "solution": false
    }
   },
   "outputs": [],
   "source": [
    "\n",
    "for elem in liste_cercles:\n",
    "    print(elem.surface())"
   ]
  },
  {
   "cell_type": "markdown",
   "metadata": {
    "deletable": false,
    "editable": false,
    "nbgrader": {
     "checksum": "b20a15682bdc4fd7468df5eaa8e22b1f",
     "grade": false,
     "grade_id": "cell-3743ef073cf603e1",
     "locked": true,
     "schema_version": 1,
     "solution": false
    }
   },
   "source": [
    "### Question\n",
    "\n",
    "Ecrire une classe **Cylindre** qui :\n",
    "- hérite de la classe **Cercle** (après tout, un cylindre est un cercle avec une hauteur...)\n",
    "- possède un attribut **cercle_type** (le cercle représentant chaque tranche du cylindre), qui est un objet de type **Cercle**, \n",
    "- possède un attribut **hauteur**, représentant la hauteur du cylindre\n",
    "- possède deux méthodes **surface** et **perimetre** surchargées\n",
    "- possède une méthode propre **volume** qui renvoie le volume de ce cylindre\n",
    "- dont les objets sont initialisés en prenant respectivement comme paramètre le rayon et la hauteur de ce **Cylindre**"
   ]
  },
  {
   "cell_type": "code",
   "execution_count": null,
   "metadata": {
    "deletable": false,
    "nbgrader": {
     "checksum": "d56405325e3debaabb8febc9eff499cc",
     "grade": false,
     "grade_id": "cell-ddf21e3f17f74a4b",
     "locked": false,
     "schema_version": 1,
     "solution": true
    }
   },
   "outputs": [],
   "source": [
    "class Cylindre:\n",
    "    pass\n",
    "# Ecrivez votre code ci-dessous"
   ]
  },
  {
   "cell_type": "code",
   "execution_count": null,
   "metadata": {
    "deletable": false,
    "editable": false,
    "nbgrader": {
     "checksum": "f15f755aa6ca417cb6622d691baa9c67",
     "grade": true,
     "grade_id": "cell-24e85a657475799a",
     "locked": true,
     "points": 1,
     "schema_version": 1,
     "solution": false
    }
   },
   "outputs": [],
   "source": [
    "Cylindre"
   ]
  },
  {
   "cell_type": "markdown",
   "metadata": {
    "deletable": false,
    "editable": false,
    "nbgrader": {
     "checksum": "d77bea0bb3b2d485c3ac30f96749d7c1",
     "grade": false,
     "grade_id": "cell-d34a7a566071dfc8",
     "locked": true,
     "schema_version": 1,
     "solution": false
    }
   },
   "source": [
    "### Question\n",
    "\n",
    "Créeons un objet **mon_cylindre** qui est un Cylindre de rayon 3 et de hauteur 5"
   ]
  },
  {
   "cell_type": "code",
   "execution_count": null,
   "metadata": {
    "deletable": false,
    "nbgrader": {
     "checksum": "a006ce07b45756c30b8138817c67aeb7",
     "grade": false,
     "grade_id": "cell-a1fac8dca45d56ed",
     "locked": false,
     "schema_version": 1,
     "solution": true
    }
   },
   "outputs": [],
   "source": [
    "mon_cylindre = None\n",
    "# Ecrivez votre code ci-dessous"
   ]
  },
  {
   "cell_type": "code",
   "execution_count": null,
   "metadata": {
    "deletable": false,
    "editable": false,
    "nbgrader": {
     "checksum": "5f806f7016ba24bbabd6e4fb1949cdf1",
     "grade": true,
     "grade_id": "cell-945f2cf49cd9899e",
     "locked": true,
     "points": 1,
     "schema_version": 1,
     "solution": false
    }
   },
   "outputs": [],
   "source": [
    "mon_cylindre.hauteur"
   ]
  },
  {
   "cell_type": "markdown",
   "metadata": {
    "deletable": false,
    "editable": false,
    "nbgrader": {
     "checksum": "c454ae3369f4924bc989350ee1d73bcd",
     "grade": false,
     "grade_id": "cell-106d6add30142018",
     "locked": true,
     "schema_version": 1,
     "solution": false
    }
   },
   "source": [
    "Utiliser ses méthodes pour obtenir le volume et la surface de ce cylindre"
   ]
  },
  {
   "cell_type": "code",
   "execution_count": null,
   "metadata": {
    "deletable": false,
    "editable": false,
    "nbgrader": {
     "checksum": "5235311e145ebeb35aa27cff38f3f1f2",
     "grade": true,
     "grade_id": "cell-abd80fd377dc7615",
     "locked": true,
     "points": 1,
     "schema_version": 1,
     "solution": false
    }
   },
   "outputs": [],
   "source": [
    "mon_cylindre.volume()"
   ]
  },
  {
   "cell_type": "code",
   "execution_count": null,
   "metadata": {
    "deletable": false,
    "editable": false,
    "nbgrader": {
     "checksum": "de194067667564295211c005db3de2b5",
     "grade": true,
     "grade_id": "cell-30d31c76a2e87a8c",
     "locked": true,
     "points": 1,
     "schema_version": 1,
     "solution": false
    }
   },
   "outputs": [],
   "source": [
    "mon_cylindre.surface()"
   ]
  },
  {
   "cell_type": "markdown",
   "metadata": {
    "collapsed": true,
    "deletable": false,
    "editable": false,
    "nbgrader": {
     "checksum": "e0333040357cce49cde5630b627420f7",
     "grade": false,
     "grade_id": "cell-dba3420ad73e7ad7",
     "locked": true,
     "schema_version": 1,
     "solution": false
    }
   },
   "source": [
    "# Envoi du Notebook\n",
    "\n",
    "Pour envoyer automatiquement ce Notebook par mail: \n",
    "1. enregistrez votre notebook avant de continuer,\n",
    "2. assignez True à ENVOI_DU_NOTEBOOK, \n",
    "3. puis exécutez les cellules ci-dessous\n",
    "\n",
    "Sinon, merci de me l'envoyer manuellement par mail à l'adresse icarwiz@yahoo.fr"
   ]
  },
  {
   "cell_type": "code",
   "execution_count": null,
   "metadata": {},
   "outputs": [],
   "source": [
    "ENVOI_DU_NOTEBOOK = False"
   ]
  },
  {
   "cell_type": "code",
   "execution_count": null,
   "metadata": {
    "deletable": false,
    "editable": false,
    "nbgrader": {
     "checksum": "c5d777c8213990b3242c31baea75531d",
     "grade": false,
     "grade_id": "cell-2bd0ced058392464",
     "locked": true,
     "schema_version": 1,
     "solution": false
    }
   },
   "outputs": [],
   "source": [
    "import send_it\n",
    "import hashlib\n",
    "import getpass\n",
    "\n",
    "if ENVOI_DU_NOTEBOOK:\n",
    "    \n",
    "    with open('../../hash_key.hash', encoding='utf-8') as srcfile:\n",
    "        hashcontent = srcfile.read().splitlines()\n",
    "    \n",
    "    assert mon_nom == hashcontent[0], '\\nAttention votre nom n\\'est pas identique à celui que vous aviez entré lors de votre enregistrement !\\nVous aviez utilisé le nom : ' + hashcontent[0]\n",
    "\n",
    "    hashed_password = hashlib.sha256(getpass.getpass('Entrez votre mot de passe : \\n\\n').encode('utf-8')).hexdigest()\n",
    "\n",
    "    assert hashed_password == hashcontent[2], '\\nAttention votre mot de passe n\\'est pas identique à celui que vous aviez entré lors de votre enregistrement ! \\n'\n",
    "\n",
    "    contenu_a_envoyer = f'{mon_nom}\\n{hashcontent[1]}\\n{hashed_password}'\n",
    "\n",
    "    print('Merci')\n",
    "\n",
    "    send_it.sendemail('Devoir no 1', '', 'Devoir_no_1.ipynb')"
   ]
  }
 ],
 "metadata": {
  "kernelspec": {
   "display_name": "Python 3",
   "language": "python",
   "name": "python3"
  },
  "language_info": {
   "codemirror_mode": {
    "name": "ipython",
    "version": 3
   },
   "file_extension": ".py",
   "mimetype": "text/x-python",
   "name": "python",
   "nbconvert_exporter": "python",
   "pygments_lexer": "ipython3",
   "version": "3.7.1"
  },
  "toc": {
   "base_numbering": 1,
   "nav_menu": {},
   "number_sections": true,
   "sideBar": true,
   "skip_h1_title": false,
   "title_cell": "Table of Contents",
   "title_sidebar": "Contents",
   "toc_cell": false,
   "toc_position": {
    "height": "calc(100% - 180px)",
    "left": "10px",
    "top": "150px",
    "width": "165px"
   },
   "toc_section_display": true,
   "toc_window_display": true
  },
  "varInspector": {
   "cols": {
    "lenName": 16,
    "lenType": 16,
    "lenVar": 40
   },
   "kernels_config": {
    "python": {
     "delete_cmd_postfix": "",
     "delete_cmd_prefix": "del ",
     "library": "var_list.py",
     "varRefreshCmd": "print(var_dic_list())"
    },
    "r": {
     "delete_cmd_postfix": ") ",
     "delete_cmd_prefix": "rm(",
     "library": "var_list.r",
     "varRefreshCmd": "cat(var_dic_list()) "
    }
   },
   "types_to_exclude": [
    "module",
    "function",
    "builtin_function_or_method",
    "instance",
    "_Feature"
   ],
   "window_display": false
  }
 },
 "nbformat": 4,
 "nbformat_minor": 2
}

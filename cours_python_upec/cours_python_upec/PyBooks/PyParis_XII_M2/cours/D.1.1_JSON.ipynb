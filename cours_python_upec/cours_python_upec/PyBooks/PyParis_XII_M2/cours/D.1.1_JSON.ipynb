{
 "cells": [
  {
   "cell_type": "markdown",
   "metadata": {},
   "source": [
    "<br>\n",
    "<div align=\"right\">Enseignant : Aric Wizenberg</div>\n",
    "<div align=\"right\">E-mail : icarwiz@yahoo.fr</div>\n",
    "<div align=\"right\">Année : 2018/2019</div><br><br><br>\n",
    "<div align=\"center\"><span style=\"font-family:Lucida Caligraphy;font-size:32px;color:darkgreen\">Master 2 MASERATI - Cours de Python</span></div><br><br>\n",
    "<div align=\"center\"><span style=\"font-family:Lucida Caligraphy;font-size:24px;color:#e60000\">Introduction aux formats récursifs et objets JSON</span></div><br><br>\n",
    "<hr>"
   ]
  },
  {
   "cell_type": "markdown",
   "metadata": {
    "ExecuteTime": {
     "end_time": "2018-09-10T10:08:43.380746Z",
     "start_time": "2018-09-10T10:08:43.349545Z"
    }
   },
   "source": [
    "# Introduction aux formats récursifs"
   ]
  },
  {
   "cell_type": "markdown",
   "metadata": {},
   "source": [
    "On peut désigner par **formats récursifs** une catégorie très importante de formats qui concernent :\n",
    "- les **graphs et réseaux** qui sont un sujet trop complexe pour qu'on le traite dans le cadre de ce cours. Mais sachez qu'il existe un module très puissant pour cela (et installé par défaut avec Anaconda) : **networkx** \n",
    "\n",
    "<div class=\"alert alert-block alert-info\"><b><i>Pour aller plus loin :</i></b>\n",
    "<a href=https://networkx.github.io/documentation/stable/>Doc officielle de <b>networkx</b></a>\n",
    "</div>\n",
    "\n",
    "- les structures de type **arbres** (arbres de décisions, structures hiérarchiques...), nous allons les traiter dans le suite de cette section\n",
    "\n",
    "On les retrouve par exemple beaucoup dans l'univers du Web. En effet trois langages sont essentiels pour cet univers, et les trois ont une dimension intrinsèquement récursive :\n",
    "- le **HTML** (Hypertext Markup Language) est le langage servant à coder les pages web, et c'est un format récursif\n",
    "- le **Javascript** est le langage servant à coder des possibilités nouvelles sur une page web, est intimement lié au format JSON (JavaScript Object Notation) qui est un autre format récursif (ce qui participe d'ailleurs du fait qu'on trouve aussi fréquemment des données dans ce format sur internet).\n",
    "- le format **CSS** (Cascading Style Sheets) est le \"langage\" dans lequel est écrit l'ensemble des styles et détails esthétiques d'une page web, c'est un format reposant sur des relations fortes d'héritage, un autre format récursif à sa manière (il ne sera pas abordé dans ce cours)"
   ]
  },
  {
   "cell_type": "markdown",
   "metadata": {},
   "source": [
    "# Présentation du format JSON"
   ]
  },
  {
   "cell_type": "markdown",
   "metadata": {},
   "source": [
    "## Le JSON, une manière de représenter des données"
   ]
  },
  {
   "cell_type": "markdown",
   "metadata": {},
   "source": [
    "Le format **JSON** (Javascript Object Notation) est extrêmement pratique, il est constitué comme un **dict** Python (ou comme un **objet sans méthode sous Javascript**, comme son nom l'indique)\n",
    "\n",
    "C'est aussi un format récursif, mais plus optimal que les formats ML en termes de taille\n",
    "\n",
    "Plusieurs formats spécifiques fonctionnent sur le principe du JSON, entre autres : \n",
    "- **TOPOJSON** et **GEOJSON** qui sont deux formats SIG (contenant des objets cartographiques)\n",
    "- **BSON** qui est un format d'échange\n",
    "- **JSON-LD** qui est un format JSON amélioré (cf. Web sémantique)\n",
    "- Les **Notebooks de Jupyter**\n",
    "\n",
    "Le **JSON** reproduit ci-dessous est d'ailleurs la représentation d'un Notebook extrêmement épurée pour ne pas être trop longue"
   ]
  },
  {
   "cell_type": "code",
   "execution_count": 2,
   "metadata": {
    "ExecuteTime": {
     "end_time": "2019-02-03T17:32:54.293640Z",
     "start_time": "2019-02-03T17:32:54.275623Z"
    }
   },
   "outputs": [],
   "source": [
    "mini_notebook = \\\n",
    "'''{\n",
    "    \"cells\": [\n",
    "        {\n",
    "            \"cell_type\": \"markdown\",\n",
    "            \"metadata\": {},\n",
    "            \"source\": [\n",
    "                \"<div align=\\\\\"center\\\\\"><span style=\\\\\"font-family:Comic Sans MS;font-size:32px;color:blue\\\\\">Cours de Python</span></div>\"\n",
    "            ]\n",
    "        },\n",
    "        {\n",
    "            \"cell_type\": \"markdown\",\n",
    "            \"metadata\": {},\n",
    "            \"source\": [\n",
    "                \"<div align=\\\\\"right\\\\\">Enseignant : *Aric Wizenberg*</div>\"\n",
    "            ]\n",
    "        }\n",
    "    ],\n",
    "    \"metadata\": {\n",
    "        \"kernelspec\": {\n",
    "            \"display_name\": \"Python 3\",\n",
    "            \"language\": \"python\",\n",
    "            \"name\": \"python3\"\n",
    "        },\n",
    "        \"language_info\": {\n",
    "            \"codemirror_mode\": {\n",
    "            \"name\": \"ipython\",\n",
    "            \"version\": 3\n",
    "        },\n",
    "        \"file_extension\": \".py\",\n",
    "        \"mimetype\": \"text/x-python\",\n",
    "        \"name\": \"python\",\n",
    "        \"nbconvert_exporter\": \"python\",\n",
    "        \"pygments_lexer\": \"ipython3\",\n",
    "        \"version\": \"3.6.1\"\n",
    "        }\n",
    "    },\n",
    "    \"nbformat\": 4,\n",
    "    \"nbformat_minor\": 2\n",
    "}'''\n",
    "\n",
    "# Definio una cheine de caractere con el objet json"
   ]
  },
  {
   "cell_type": "markdown",
   "metadata": {},
   "source": [
    "Miramos en C:\\Users\\lucia\\PyBooks\\PyParis_XII_M2\\data\\MarineTraffic.json el formato json."
   ]
  },
  {
   "cell_type": "markdown",
   "metadata": {},
   "source": [
    "Contrairement aux **dict** à 1 niveau étudiés dans la première partie du cours, un **dict** issu d'une chaine de caractères en **json** est généralement constitué par une hiérarchie complète de dictionnaires et de listes imbriquées."
   ]
  },
  {
   "cell_type": "markdown",
   "metadata": {},
   "source": [
    "## Le JSON en Python"
   ]
  },
  {
   "cell_type": "markdown",
   "metadata": {},
   "source": [
    "Il n'existe pas à proprement parler de type **json** en Python, il existe :\n",
    "- Soit des **chaines de caractères** contenant de manière écrite un contenu en **json** (par exemple enregistré dans un fichier ou sur une page web), on les appelera **json str**, c'est le cas de la variable mini_notebook (cf.ci-dessus)\n",
    "- Soit des **dictionnaires issus de chaines de caractères en json** (après affectation à une variable sous Python), qu'on peut appeler par commodité **json dict**.\n",
    "\n",
    "En termes de typage, il n'y a aucune différence entre un **json dict** et un **dict** normal. En revanche, tous les objets / dictionnaires Python ne peuvent nécessairement être transformés en JSON (certains types ne peuvent être transformés).\n",
    "\n",
    "Tout **json dict** est un **dict**, mais la réciproque n'est pas vraie.\n",
    "\n",
    "Il existe un module de la bibliothèque standard de Python parfaitement adaptée, permettant de passé de l'un à l'autre, nommé **json**"
   ]
  },
  {
   "cell_type": "code",
   "execution_count": 3,
   "metadata": {
    "ExecuteTime": {
     "end_time": "2019-02-03T17:32:58.544027Z",
     "start_time": "2019-02-03T17:32:58.534046Z"
    }
   },
   "outputs": [],
   "source": [
    "import json"
   ]
  },
  {
   "cell_type": "markdown",
   "metadata": {},
   "source": [
    "# Conversions entre json dict et json str"
   ]
  },
  {
   "cell_type": "markdown",
   "metadata": {},
   "source": [
    "## json str -> json dict"
   ]
  },
  {
   "cell_type": "markdown",
   "metadata": {},
   "source": [
    "Pour transformer une chaine de caractères avec du contenu **json** en **dict**, et donc l'affecter à une variable, on utilise la fonction **json.loads()** (charger)"
   ]
  },
  {
   "cell_type": "code",
   "execution_count": 4,
   "metadata": {
    "ExecuteTime": {
     "end_time": "2019-02-03T17:33:00.453701Z",
     "start_time": "2019-02-03T17:33:00.433603Z"
    },
    "scrolled": false
   },
   "outputs": [],
   "source": [
    "mon_json = json.loads(mini_notebook)"
   ]
  },
  {
   "cell_type": "code",
   "execution_count": 5,
   "metadata": {
    "ExecuteTime": {
     "end_time": "2019-02-03T17:33:02.923802Z",
     "start_time": "2019-02-03T17:33:02.908688Z"
    },
    "scrolled": true
   },
   "outputs": [
    {
     "data": {
      "text/plain": [
       "dict"
      ]
     },
     "execution_count": 5,
     "metadata": {},
     "output_type": "execute_result"
    }
   ],
   "source": [
    "type(mon_json)"
   ]
  },
  {
   "cell_type": "markdown",
   "metadata": {},
   "source": [
    "**NB** : Le **__s__** final du nom de fonction **json.loads()** vient de **str**"
   ]
  },
  {
   "cell_type": "markdown",
   "metadata": {},
   "source": [
    "## json dict -> json str"
   ]
  },
  {
   "cell_type": "markdown",
   "metadata": {},
   "source": [
    "### Ecrire un dict en json str"
   ]
  },
  {
   "cell_type": "markdown",
   "metadata": {},
   "source": [
    "On peut facilement écrire un dict en json en utilisant la fonction **json.dumps()** (jeter à la poubelle... ?)"
   ]
  },
  {
   "cell_type": "code",
   "execution_count": 7,
   "metadata": {
    "ExecuteTime": {
     "end_time": "2019-01-17T10:56:43.879391Z",
     "start_time": "2019-01-17T10:56:43.875535Z"
    }
   },
   "outputs": [],
   "source": [
    "ma_json_str = json.dumps(mon_json)"
   ]
  },
  {
   "cell_type": "markdown",
   "metadata": {},
   "source": [
    "**NB** : Le **__s__** final du nom de fonction **json.dumps()** vient de **str**"
   ]
  },
  {
   "cell_type": "markdown",
   "metadata": {},
   "source": [
    "### Ecrire les membres d'un objet en json str"
   ]
  },
  {
   "cell_type": "markdown",
   "metadata": {},
   "source": [
    "On peut écrire l'ensemble des attributs d'un objet de notre classe Deplacement en utilisant la fonction native **vars(objet)**. \n",
    "\n",
    "Ajoutons d'abord l'objet que nous avions créé dans la section [Classes et objets](B.3.4_Classes.ipynb) à notre fichier modules/transport.py"
   ]
  },
  {
   "cell_type": "code",
   "execution_count": 8,
   "metadata": {
    "ExecuteTime": {
     "end_time": "2019-01-17T10:58:05.986790Z",
     "start_time": "2019-01-17T10:58:05.959860Z"
    }
   },
   "outputs": [
    {
     "data": {
      "text/plain": [
       "'{\"origin\": \"Paris\", \"destination\": \"Marseille\", \"_Deplacement__date_dep\": \"2016-03-15T15:30:00\", \"_Deplacement__date_arr\": \"2016-03-15T22:05:00\", \"_Deplacement__duree\": 0}'"
      ]
     },
     "execution_count": 8,
     "metadata": {},
     "output_type": "execute_result"
    }
   ],
   "source": [
    "from modules.transport import Deplacement\n",
    "\n",
    "mon_deplacement = Deplacement('Paris', 'Marseille', '2016-03-15T15:30:00', '2016-03-15T22:05:00')\n",
    "\n",
    "ma_json_str = json.dumps(vars(mon_deplacement))\n",
    "ma_json_str"
   ]
  },
  {
   "cell_type": "markdown",
   "metadata": {},
   "source": [
    "# Parcourir un json dict"
   ]
  },
  {
   "cell_type": "markdown",
   "metadata": {},
   "source": [
    "On peut commencer par regarder quelles sont les clés de la racine du **dict** (on parle de racine pour distinguer le premier niveau de hiérarchie des niveaux inférieurs)"
   ]
  },
  {
   "cell_type": "code",
   "execution_count": 9,
   "metadata": {
    "ExecuteTime": {
     "end_time": "2019-01-17T10:58:15.277702Z",
     "start_time": "2019-01-17T10:58:15.272714Z"
    }
   },
   "outputs": [
    {
     "data": {
      "text/plain": [
       "dict_keys(['cells', 'metadata', 'nbformat', 'nbformat_minor'])"
      ]
     },
     "execution_count": 9,
     "metadata": {},
     "output_type": "execute_result"
    }
   ],
   "source": [
    "mon_json.keys()"
   ]
  },
  {
   "cell_type": "markdown",
   "metadata": {},
   "source": [
    "On peut ensuite explorer le contenu de la clé *cells* de ce **json**"
   ]
  },
  {
   "cell_type": "code",
   "execution_count": 10,
   "metadata": {
    "ExecuteTime": {
     "end_time": "2019-01-17T10:58:56.581046Z",
     "start_time": "2019-01-17T10:58:56.576068Z"
    },
    "scrolled": true
   },
   "outputs": [
    {
     "data": {
      "text/plain": [
       "[{'cell_type': 'markdown',\n",
       "  'metadata': {},\n",
       "  'source': ['<div align=\"center\"><span style=\"font-family:Comic Sans MS;font-size:32px;color:blue\">Cours de Python</span></div>']},\n",
       " {'cell_type': 'markdown',\n",
       "  'metadata': {},\n",
       "  'source': ['<div align=\"right\">Enseignant : *Aric Wizenberg*</div>']}]"
      ]
     },
     "execution_count": 10,
     "metadata": {},
     "output_type": "execute_result"
    }
   ],
   "source": [
    "mon_json['cells']"
   ]
  },
  {
   "cell_type": "markdown",
   "metadata": {},
   "source": [
    "Et ainsi de suite..."
   ]
  },
  {
   "cell_type": "code",
   "execution_count": 11,
   "metadata": {
    "ExecuteTime": {
     "end_time": "2019-01-17T10:59:00.656398Z",
     "start_time": "2019-01-17T10:59:00.651414Z"
    }
   },
   "outputs": [
    {
     "data": {
      "text/plain": [
       "{'cell_type': 'markdown',\n",
       " 'metadata': {},\n",
       " 'source': ['<div align=\"center\"><span style=\"font-family:Comic Sans MS;font-size:32px;color:blue\">Cours de Python</span></div>']}"
      ]
     },
     "execution_count": 11,
     "metadata": {},
     "output_type": "execute_result"
    }
   ],
   "source": [
    "mon_json['cells'][0]"
   ]
  },
  {
   "cell_type": "markdown",
   "metadata": {},
   "source": [
    "Jusqu'à arriver..."
   ]
  },
  {
   "cell_type": "code",
   "execution_count": 12,
   "metadata": {
    "ExecuteTime": {
     "end_time": "2019-01-17T10:59:02.208864Z",
     "start_time": "2019-01-17T10:59:02.202879Z"
    }
   },
   "outputs": [
    {
     "data": {
      "text/plain": [
       "['<div align=\"center\"><span style=\"font-family:Comic Sans MS;font-size:32px;color:blue\">Cours de Python</span></div>']"
      ]
     },
     "execution_count": 12,
     "metadata": {},
     "output_type": "execute_result"
    }
   ],
   "source": [
    "mon_json['cells'][0]['source']"
   ]
  },
  {
   "cell_type": "markdown",
   "metadata": {},
   "source": [
    "A la donnée finale (le contenu d'une **feuille** de l'**arbre** que représente le dictionnaire)"
   ]
  },
  {
   "cell_type": "code",
   "execution_count": 13,
   "metadata": {
    "ExecuteTime": {
     "end_time": "2019-01-17T10:59:09.983020Z",
     "start_time": "2019-01-17T10:59:09.978035Z"
    }
   },
   "outputs": [
    {
     "data": {
      "text/plain": [
       "'<div align=\"center\"><span style=\"font-family:Comic Sans MS;font-size:32px;color:blue\">Cours de Python</span></div>'"
      ]
     },
     "execution_count": 13,
     "metadata": {},
     "output_type": "execute_result"
    }
   ],
   "source": [
    "mon_json['cells'][0]['source'][0]"
   ]
  },
  {
   "cell_type": "markdown",
   "metadata": {},
   "source": [
    "Bien sûr toutes les sections d'un json dict sont modifiables simplement par affectation, comme les dict classiques"
   ]
  },
  {
   "cell_type": "code",
   "execution_count": 14,
   "metadata": {
    "ExecuteTime": {
     "end_time": "2019-01-17T10:59:12.089190Z",
     "start_time": "2019-01-17T10:59:12.085201Z"
    }
   },
   "outputs": [],
   "source": [
    "mon_json['cells'][0]['source'][0] = '<div align=\"center\">Cours de Python / Introduction au Web-scraping</div>'"
   ]
  },
  {
   "cell_type": "markdown",
   "metadata": {},
   "source": [
    "# Lecture et écriture de fichier json"
   ]
  },
  {
   "cell_type": "markdown",
   "metadata": {},
   "source": [
    "## Ouvrir un fichier"
   ]
  },
  {
   "cell_type": "code",
   "execution_count": 15,
   "metadata": {
    "ExecuteTime": {
     "end_time": "2019-01-17T11:04:35.947515Z",
     "start_time": "2019-01-17T11:04:35.924577Z"
    }
   },
   "outputs": [],
   "source": [
    "with open('../data/MarineTraffic.json', encoding='utf-8') as fichier_nb:\n",
    "    json_mt = json.load(fichier_nb)"
   ]
  },
  {
   "cell_type": "code",
   "execution_count": 16,
   "metadata": {
    "ExecuteTime": {
     "end_time": "2019-01-17T11:05:53.970328Z",
     "start_time": "2019-01-17T11:05:53.965340Z"
    }
   },
   "outputs": [
    {
     "data": {
      "text/plain": [
       "dict_keys(['anchor', 'lat', 'lon', 'portId', 'ships', 'zoom'])"
      ]
     },
     "execution_count": 16,
     "metadata": {},
     "output_type": "execute_result"
    }
   ],
   "source": [
    "json_mt.keys()"
   ]
  },
  {
   "cell_type": "code",
   "execution_count": 17,
   "metadata": {
    "ExecuteTime": {
     "end_time": "2019-01-17T11:05:56.021230Z",
     "start_time": "2019-01-17T11:05:56.016242Z"
    }
   },
   "outputs": [
    {
     "data": {
      "text/plain": [
       "1842"
      ]
     },
     "execution_count": 17,
     "metadata": {},
     "output_type": "execute_result"
    }
   ],
   "source": [
    "len(json_mt['ships'])"
   ]
  },
  {
   "cell_type": "code",
   "execution_count": 18,
   "metadata": {
    "ExecuteTime": {
     "end_time": "2019-01-17T11:05:57.306465Z",
     "start_time": "2019-01-17T11:05:57.301479Z"
    }
   },
   "outputs": [
    {
     "data": {
      "text/plain": [
       "{'COURSE': '337',\n",
       " 'FLAG': 'CN',\n",
       " 'IMO': '0',\n",
       " 'LAT': '31.3592491',\n",
       " 'LENGTH': '67',\n",
       " 'LON': '121.790199',\n",
       " 'MMSI': '413786948',\n",
       " 'SHIPNAME': 'JIAOJIAN5',\n",
       " 'SHIP_ID': '592068',\n",
       " 'SPEED': '0',\n",
       " 'TYPE_COLOR': '3'}"
      ]
     },
     "execution_count": 18,
     "metadata": {},
     "output_type": "execute_result"
    }
   ],
   "source": [
    "json_mt['ships'][0]"
   ]
  },
  {
   "cell_type": "markdown",
   "metadata": {},
   "source": [
    "## Ecrire le json dans un fichier"
   ]
  },
  {
   "cell_type": "markdown",
   "metadata": {},
   "source": [
    "On peut écrire un fichier json directement à partir de la chaine de caractère json"
   ]
  },
  {
   "cell_type": "code",
   "execution_count": 19,
   "metadata": {
    "ExecuteTime": {
     "end_time": "2019-01-17T11:06:13.257115Z",
     "start_time": "2019-01-17T11:06:13.245095Z"
    }
   },
   "outputs": [],
   "source": [
    "with open('../output/example.json', 'w', encoding='utf-8') as fichier:\n",
    "    fichier.write(ma_json_str)"
   ]
  },
  {
   "cell_type": "markdown",
   "metadata": {
    "ExecuteTime": {
     "end_time": "2018-01-17T19:42:07.339623Z",
     "start_time": "2018-01-17T19:42:07.308423Z"
    }
   },
   "source": [
    "Ou encore plus directement, grâce à la fonction **json.dump()**."
   ]
  },
  {
   "cell_type": "code",
   "execution_count": 20,
   "metadata": {
    "ExecuteTime": {
     "end_time": "2019-01-17T11:06:15.511112Z",
     "start_time": "2019-01-17T11:06:15.505092Z"
    }
   },
   "outputs": [],
   "source": [
    "with open('../output/example.json', 'w', encoding='utf-8') as fichier:\n",
    "    json.dump(vars(mon_deplacement), fichier)"
   ]
  },
  {
   "cell_type": "markdown",
   "metadata": {},
   "source": [
    "<div class=\"alert alert-block alert-info\"><b>Pour aller plus loin :</b> <a href=https://docs.python.org/3/library/json.html> Doc officielle du <b>module json</b></a></div>"
   ]
  }
 ],
 "metadata": {
  "kernelspec": {
   "display_name": "Python 3",
   "language": "python",
   "name": "python3"
  },
  "language_info": {
   "codemirror_mode": {
    "name": "ipython",
    "version": 3
   },
   "file_extension": ".py",
   "mimetype": "text/x-python",
   "name": "python",
   "nbconvert_exporter": "python",
   "pygments_lexer": "ipython3",
   "version": "3.7.1"
  },
  "toc": {
   "base_numbering": 1,
   "nav_menu": {
    "height": "500px",
    "width": "252px"
   },
   "number_sections": true,
   "sideBar": true,
   "skip_h1_title": false,
   "title_cell": "Table of Contents",
   "title_sidebar": "Contents",
   "toc_cell": false,
   "toc_position": {
    "height": "621px",
    "left": "0px",
    "right": "1359px",
    "top": "107px",
    "width": "186.983px"
   },
   "toc_section_display": "block",
   "toc_window_display": true
  },
  "varInspector": {
   "cols": {
    "lenName": 16,
    "lenType": 16,
    "lenVar": 40
   },
   "kernels_config": {
    "python": {
     "delete_cmd_postfix": "",
     "delete_cmd_prefix": "del ",
     "library": "var_list.py",
     "varRefreshCmd": "print(var_dic_list())"
    },
    "r": {
     "delete_cmd_postfix": ") ",
     "delete_cmd_prefix": "rm(",
     "library": "var_list.r",
     "varRefreshCmd": "cat(var_dic_list()) "
    }
   },
   "types_to_exclude": [
    "module",
    "function",
    "builtin_function_or_method",
    "instance",
    "_Feature"
   ],
   "window_display": false
  }
 },
 "nbformat": 4,
 "nbformat_minor": 2
}

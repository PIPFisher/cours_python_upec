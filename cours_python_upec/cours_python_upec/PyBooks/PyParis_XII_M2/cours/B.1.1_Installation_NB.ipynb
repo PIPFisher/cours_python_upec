{
 "cells": [
  {
   "cell_type": "markdown",
   "metadata": {},
   "source": [
    "<br>\n",
    "<div align=\"right\">Enseignant : Aric Wizenberg</div>\n",
    "<div align=\"right\">E-mail : icarwiz@yahoo.fr</div>\n",
    "<div align=\"right\">Année : 2018/2019</div><br><br><br>\n",
    "<div align=\"center\"><span style=\"font-family:Lucida Caligraphy;font-size:32px;color:darkgreen\">Master 2 MASERATI - Cours de Python</span></div><br><br>\n",
    "<div align=\"center\"><span style=\"font-family:Lucida Caligraphy;font-size:24px;color:#e60000\">Installation et mise à jour des composants</span></div><br><br>\n",
    "<hr>"
   ]
  },
  {
   "cell_type": "markdown",
   "metadata": {},
   "source": [
    "# Préparation"
   ]
  },
  {
   "cell_type": "markdown",
   "metadata": {},
   "source": [
    "Une **cellule** est, pour simplifier, un bloc de texte ou de code. Cliquez sur les différentes parties de ce notebook pour commencer à voir comment le document est découpé en cellules."
   ]
  },
  {
   "attachments": {
    "play.png": {
     "image/png": "[encoded data removed]"
    }
   },
   "cell_type": "markdown",
   "metadata": {},
   "source": [
    "Pour exécuter le code d'une cellule (tel que celui qui est dans la cellule ci-dessous), il faut :\n",
    "1. Sélectionner la cellule en cliquant dessus avec le curseur\n",
    "1. Cliquer sur le bouton run qui est situé en haut de l'écran\n",
    "    ![play.png](attachment:play.png)\n",
    "    \n",
    "Exécutez maintenant la cellule de code ci-dessous, puis, une à une, les suivantes :"
   ]
  },
  {
   "cell_type": "code",
   "execution_count": null,
   "metadata": {},
   "outputs": [],
   "source": [
    "from subprocess import Popen, PIPE, STDOUT\n",
    "from IPython.core.magic import register_line_magic\n",
    "import os\n",
    "import pathlib\n",
    "\n",
    "CHEMIN_HOME = str(pathlib.Path.home())\n",
    "\n",
    "@register_line_magic\n",
    "def runrealcmd(command):\n",
    "    process = Popen(command, stdout=PIPE, shell=True, stderr=STDOUT, bufsize=1)\n",
    "    for line in iter(process.stdout.readline, b''):\n",
    "        try:\n",
    "            print(line.rstrip().decode('utf-8'))\n",
    "        except UnicodeDecodeError:\n",
    "            print(line.rstrip().decode('ansi'))\n",
    "    process.stdout.close()\n",
    "    process.wait()\n",
    "\n",
    "CHEMIN_NOTEBOOK = os.getcwd()"
   ]
  },
  {
   "cell_type": "markdown",
   "metadata": {},
   "source": [
    "## Vérification de la localisation de ce Notebook"
   ]
  },
  {
   "cell_type": "code",
   "execution_count": null,
   "metadata": {},
   "outputs": [],
   "source": [
    "BON_CHEMIN_NOTEBOOK = (CHEMIN_HOME + '/PyBooks').replace('\\\\', '/')\n",
    "\n",
    "if CHEMIN_NOTEBOOK.replace('\\\\', '/') != BON_CHEMIN_NOTEBOOK:\n",
    "    print('Bizarre, ce Notebook ne devrait pas être là où il est actuellement...')\n",
    "    print('\\nIl devrait avoir été mis dans le dossier :')\n",
    "    if '\\\\' in CHEMIN_NOTEBOOK:\n",
    "        print(BON_CHEMIN_NOTEBOOK)\n",
    "    else:\n",
    "        print(BON_CHEMIN_NOTEBOOK.replace('/', '\\\\'))\n",
    "    print('\\nMerci donc :\\nde fermer ce Notebook, \\nde déplacer le fichier au bon endroit \\net de relancer le présent Notebook depuis cet endroit')"
   ]
  },
  {
   "cell_type": "markdown",
   "metadata": {},
   "source": [
    "## Verification de l'emplacement du dossier Anaconda"
   ]
  },
  {
   "cell_type": "code",
   "execution_count": null,
   "metadata": {},
   "outputs": [],
   "source": [
    "DOSSIER_ANACONDA = (CHEMIN_HOME + '\\\\Anaconda3').replace('\\\\', '/')"
   ]
  },
  {
   "cell_type": "code",
   "execution_count": null,
   "metadata": {},
   "outputs": [],
   "source": [
    "while True:\n",
    "    if os.path.exists(DOSSIER_ANACONDA):\n",
    "        print('Le dossier d\\'Anaconda a été trouvé')  \n",
    "        break\n",
    "    else:\n",
    "        print('Attention le dossier d\\'Anaconda n\\'a pas été trouvé !')\n",
    "        DOSSIER_ANACONDA = input('Merci d\\'indiquer ici le chemin de votre dossier Anaconda : \\n(par exemple : c:\\Anaconda (sur PC) ou /usr/local/Anaconda (sur Mac))')\n",
    "\n",
    "os.chdir(f'{DOSSIER_ANACONDA}\\\\Scripts'.replace('\\\\', '/'))"
   ]
  },
  {
   "cell_type": "markdown",
   "metadata": {},
   "source": [
    "# Mises à jour et extensions"
   ]
  },
  {
   "cell_type": "markdown",
   "metadata": {},
   "source": [
    "## Installation de jupyter_contrib_nbextensions"
   ]
  },
  {
   "attachments": {
    "2018-12-28%2016_39_38-B.1.1_Installation_NB.png": {
     "image/png": "[encoded data removed]"
    },
    "2018-12-28%2016_43_25-B.1.1_Installation_NB.png": {
     "image/png": "[encoded data removed]"
    }
   },
   "cell_type": "markdown",
   "metadata": {},
   "source": [
    "On va maintenant installer les extensions officielles de Jupyter Notebook. \n",
    "\n",
    "Exécutez la cellule suivante. L'exécution de cette cellule et des suivantes peut prendre quelques minutes. C'est normal. \n",
    "\n",
    "Notez bien que :\n",
    "- Si une cellule n'a pas été exécutée, il est écrit **In [ ]** à sa gauche\n",
    "- Tant que **l'exécution d'une cellule n'est pas terminée** :\n",
    "    - il sera écrit **In [ \\* ]** sur la gauche de cette cellule\n",
    "    - l'icône de l'onglet de votre navigateur devrait être un sablier :\n",
    "\n",
    "![2018-12-28%2016_39_38-B.1.1_Installation_NB.png](attachment:2018-12-28%2016_39_38-B.1.1_Installation_NB.png)\n",
    "\n",
    "- **L'exécution sera terminée** lorsque:\n",
    "    - un chiffre sera inscrit à la place de l'étoile, à gauche de la cellule, par exemple **In [5]**\n",
    "    - l'icône de l'onglet de votre navigateur devrait être redevenue un livre :\n",
    "\n",
    "![2018-12-28%2016_43_25-B.1.1_Installation_NB.png](attachment:2018-12-28%2016_43_25-B.1.1_Installation_NB.png)\n",
    "- Une fois la cellule ci-dessous exécutée, on peut passer à la suite"
   ]
  },
  {
   "cell_type": "code",
   "execution_count": null,
   "metadata": {},
   "outputs": [],
   "source": [
    "%runrealcmd conda install -y -c conda-forge jupyter_contrib_nbextensions"
   ]
  },
  {
   "cell_type": "markdown",
   "metadata": {},
   "source": [
    "Une fois l'exécution terminée, si tout s'est bien passé, la dernière ligne du texte devrait être :\n",
    "\n",
    "done"
   ]
  },
  {
   "cell_type": "markdown",
   "metadata": {},
   "source": [
    "Le retour suivant est aussi valide :"
   ]
  },
  {
   "cell_type": "raw",
   "metadata": {},
   "source": [
    "# All requested packages already installed."
   ]
  },
  {
   "attachments": {
    "filesave.png": {
     "image/png": "[encoded data removed]"
    }
   },
   "cell_type": "markdown",
   "metadata": {},
   "source": [
    "Enregistrez maintenant ce notebook en cliquant sur le bouton **enregistrer** situé en haut à gauche de l'écran :\n",
    "\n",
    "![filesave.png](attachment:filesave.png)"
   ]
  },
  {
   "cell_type": "markdown",
   "metadata": {},
   "source": [
    "## Redémarrage de Jupyter Notebook"
   ]
  },
  {
   "cell_type": "markdown",
   "metadata": {},
   "source": [
    "Maintenant que les composants sont à jour, il va falloir redémarrer Jupyter Notebook\n",
    "\n",
    "Vous allez devoir revenir sur le fichier [Installation.pdf](Installation.html#Activation-de-l'extension-Table-of-Contents) sur lequel vous étiez précédemment, mais d'abord il faut **fermer le notebook actuel** en cliquant sur le menu **\"File\" / \"Close and halt\"** (en haut de l'écran)"
   ]
  },
  {
   "cell_type": "markdown",
   "metadata": {},
   "source": [
    " "
   ]
  }
 ],
 "metadata": {
  "kernelspec": {
   "display_name": "Python 3 (ipykernel)",
   "language": "python",
   "name": "python3"
  },
  "language_info": {
   "codemirror_mode": {
    "name": "ipython",
    "version": 3
   },
   "file_extension": ".py",
   "mimetype": "text/x-python",
   "name": "python",
   "nbconvert_exporter": "python",
   "pygments_lexer": "ipython3",
   "version": "3.11.4"
  },
  "toc": {
   "base_numbering": 1,
   "nav_menu": {},
   "number_sections": true,
   "sideBar": true,
   "skip_h1_title": false,
   "title_cell": "Table of Contents",
   "title_sidebar": "Contents",
   "toc_cell": false,
   "toc_position": {},
   "toc_section_display": true,
   "toc_window_display": true
  },
  "varInspector": {
   "cols": {
    "lenName": 16,
    "lenType": 16,
    "lenVar": 40
   },
   "kernels_config": {
    "python": {
     "delete_cmd_postfix": "",
     "delete_cmd_prefix": "del ",
     "library": "var_list.py",
     "varRefreshCmd": "print(var_dic_list())"
    },
    "r": {
     "delete_cmd_postfix": ") ",
     "delete_cmd_prefix": "rm(",
     "library": "var_list.r",
     "varRefreshCmd": "cat(var_dic_list()) "
    }
   },
   "types_to_exclude": [
    "module",
    "function",
    "builtin_function_or_method",
    "instance",
    "_Feature"
   ],
   "window_display": false
  }
 },
 "nbformat": 4,
 "nbformat_minor": 4
}

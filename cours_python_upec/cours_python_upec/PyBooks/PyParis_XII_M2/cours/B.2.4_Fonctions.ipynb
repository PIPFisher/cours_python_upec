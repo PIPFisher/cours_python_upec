{
 "cells": [
  {
   "cell_type": "markdown",
   "metadata": {},
   "source": [
    "<br>\n",
    "<div align=\"right\">Enseignant : Aric Wizenberg</div>\n",
    "<div align=\"right\">E-mail : icarwiz@yahoo.fr</div>\n",
    "<div align=\"right\">Année : 2018/2019</div><br><br><br>\n",
    "<div align=\"center\"><span style=\"font-family:Lucida Caligraphy;font-size:32px;color:darkgreen\">Master 2 MASERATI - Cours de Python</span></div><br><br>\n",
    "<div align=\"center\"><span style=\"font-family:Lucida Caligraphy;font-size:24px;color:#e60000\">Fonctions</span></div><br><br>\n",
    "<hr>"
   ]
  },
  {
   "cell_type": "markdown",
   "metadata": {},
   "source": [
    "# Déclaration d'une fonction"
   ]
  },
  {
   "cell_type": "markdown",
   "metadata": {},
   "source": [
    "Une fonction rassemble un ensemble d'opérations qui, à une ou des valeur(s) d'entrée associe une ou des valeur(s) de sortie."
   ]
  },
  {
   "attachments": {
    "shema_fonction.png": {
     "image/png": "[encoded data removed]"
    }
   },
   "cell_type": "markdown",
   "metadata": {},
   "source": [
    "![shema_fonction.png](attachment:shema_fonction.png)"
   ]
  },
  {
   "cell_type": "markdown",
   "metadata": {},
   "source": [
    "Exemple : un être humain est doté d'une fonction interne \"réagir à une question qu'on lui pose\" et qui: \n",
    "- à une valeur d'entrée, la question, \n",
    "- associe des valeur(s) de sortie, ses réactions...\n",
    "\n",
    "Une fonction se définit à l'aide du mot-clé réservé **def**.\n",
    "\n",
    "Dès que la cellule contenant sa définition est exécutée, la fonction existe, est stockée en mémoire et devient donc utilisable, comme après l'initialisation d'une variable."
   ]
  },
  {
   "cell_type": "code",
   "execution_count": 1,
   "metadata": {
    "ExecuteTime": {
     "end_time": "2019-01-03T15:45:05.109420Z",
     "start_time": "2019-01-03T15:45:05.105433Z"
    }
   },
   "outputs": [],
   "source": [
    "def ma_fonction():\n",
    "    pass"
   ]
  },
  {
   "cell_type": "markdown",
   "metadata": {},
   "source": [
    "<div class=\"alert alert-block alert-success\">\n",
    "<b>Important :</b> \n",
    "\n",
    "Le mot-clé réservé **pass** est une instruction permettant d'indiquer à Python de ne rien faire... \n",
    "\n",
    "Il ne sert à rien en dehors d'éviter une erreur de syntaxe lorsque l'on écrit un squelette de fonctions ou de classes.\n",
    "</div>"
   ]
  },
  {
   "cell_type": "code",
   "execution_count": 2,
   "metadata": {
    "ExecuteTime": {
     "end_time": "2019-01-03T15:45:08.429169Z",
     "start_time": "2019-01-03T15:45:08.420194Z"
    }
   },
   "outputs": [
    {
     "data": {
      "text/plain": [
       "function"
      ]
     },
     "execution_count": 2,
     "metadata": {},
     "output_type": "execute_result"
    }
   ],
   "source": [
    "type(ma_fonction)"
   ]
  },
  {
   "cell_type": "markdown",
   "metadata": {},
   "source": [
    "On exécute une fonction en l'**appelant à l'aide de l'opérateur parenthèses** :"
   ]
  },
  {
   "cell_type": "code",
   "execution_count": 3,
   "metadata": {
    "ExecuteTime": {
     "end_time": "2019-01-03T15:45:10.922921Z",
     "start_time": "2019-01-03T15:45:10.918972Z"
    }
   },
   "outputs": [],
   "source": [
    "def ma_fonction():\n",
    "    \n",
    "    print('Salut')"
   ]
  },
  {
   "cell_type": "code",
   "execution_count": 4,
   "metadata": {
    "ExecuteTime": {
     "end_time": "2019-01-03T15:45:13.038147Z",
     "start_time": "2019-01-03T15:45:13.034158Z"
    }
   },
   "outputs": [
    {
     "name": "stdout",
     "output_type": "stream",
     "text": [
      "Salut\n"
     ]
    }
   ],
   "source": [
    "ma_fonction()"
   ]
  },
  {
   "cell_type": "markdown",
   "metadata": {},
   "source": [
    "Si l'on ne met pas les parenthèses, Python nous répond juste que ***ma_fonction*** est un objet **function** et donne son nom, et le module dans lequel elle est définie (en l'occurrence, à la base de notre Notebook, dans le pseudo-module __\\_\\_main\\_\\___)"
   ]
  },
  {
   "cell_type": "code",
   "execution_count": 5,
   "metadata": {
    "ExecuteTime": {
     "end_time": "2019-01-03T15:45:18.690864Z",
     "start_time": "2019-01-03T15:45:18.686873Z"
    }
   },
   "outputs": [
    {
     "data": {
      "text/plain": [
       "<function __main__.ma_fonction()>"
      ]
     },
     "execution_count": 5,
     "metadata": {},
     "output_type": "execute_result"
    }
   ],
   "source": [
    "ma_fonction"
   ]
  },
  {
   "cell_type": "markdown",
   "metadata": {},
   "source": [
    "# Composantes"
   ]
  },
  {
   "cell_type": "markdown",
   "metadata": {},
   "source": [
    "## Valeur de retour ou résultat d'une fonction"
   ]
  },
  {
   "cell_type": "markdown",
   "metadata": {},
   "source": [
    "On définit le résultat d'une fonction en utilisant le mot-clé réservé **return**\n",
    "\n",
    "Au sens strict, **toute fonction renvoie très exactement une et une seule valeur**.\n",
    "\n",
    "Mais de manière pratique, une fonction peut:\n",
    "1. renvoyer une valeur de retour"
   ]
  },
  {
   "cell_type": "code",
   "execution_count": 6,
   "metadata": {
    "ExecuteTime": {
     "end_time": "2019-01-03T15:45:28.122599Z",
     "start_time": "2019-01-03T15:45:28.118611Z"
    }
   },
   "outputs": [],
   "source": [
    "def ma_fonction():\n",
    "    \n",
    "    return 'Résultat'"
   ]
  },
  {
   "cell_type": "code",
   "execution_count": 7,
   "metadata": {
    "ExecuteTime": {
     "end_time": "2019-01-03T15:45:30.483962Z",
     "start_time": "2019-01-03T15:45:30.479973Z"
    }
   },
   "outputs": [],
   "source": [
    "mon_resultat = ma_fonction()"
   ]
  },
  {
   "cell_type": "code",
   "execution_count": 8,
   "metadata": {
    "ExecuteTime": {
     "end_time": "2019-01-03T15:45:33.876661Z",
     "start_time": "2019-01-03T15:45:33.871677Z"
    }
   },
   "outputs": [
    {
     "data": {
      "text/plain": [
       "str"
      ]
     },
     "execution_count": 8,
     "metadata": {},
     "output_type": "execute_result"
    }
   ],
   "source": [
    "type(mon_resultat)"
   ]
  },
  {
   "cell_type": "code",
   "execution_count": 9,
   "metadata": {
    "ExecuteTime": {
     "end_time": "2019-01-03T15:45:35.917089Z",
     "start_time": "2019-01-03T15:45:35.910326Z"
    }
   },
   "outputs": [
    {
     "data": {
      "text/plain": [
       "'Résultat'"
      ]
     },
     "execution_count": 9,
     "metadata": {},
     "output_type": "execute_result"
    }
   ],
   "source": [
    "mon_resultat"
   ]
  },
  {
   "cell_type": "markdown",
   "metadata": {},
   "source": [
    "2. Ou aucune, mais c'est alors comme si la fonction renvoyait la constante **None**, cela arrive lorsqu'une fonction est définie sans utilisation du mot-clé **return**"
   ]
  },
  {
   "cell_type": "code",
   "execution_count": 10,
   "metadata": {
    "ExecuteTime": {
     "end_time": "2019-01-03T15:45:41.893803Z",
     "start_time": "2019-01-03T15:45:41.889787Z"
    }
   },
   "outputs": [],
   "source": [
    "def ma_fonction():\n",
    "    \n",
    "    5*5 + 2\n",
    "    12 + 158"
   ]
  },
  {
   "cell_type": "code",
   "execution_count": 11,
   "metadata": {
    "ExecuteTime": {
     "end_time": "2019-01-03T15:45:44.224408Z",
     "start_time": "2019-01-03T15:45:44.220419Z"
    }
   },
   "outputs": [],
   "source": [
    "mon_resultat = ma_fonction()"
   ]
  },
  {
   "cell_type": "code",
   "execution_count": 12,
   "metadata": {
    "ExecuteTime": {
     "end_time": "2019-01-03T15:45:46.032415Z",
     "start_time": "2019-01-03T15:45:46.027428Z"
    }
   },
   "outputs": [
    {
     "data": {
      "text/plain": [
       "NoneType"
      ]
     },
     "execution_count": 12,
     "metadata": {},
     "output_type": "execute_result"
    }
   ],
   "source": [
    "type(mon_resultat)"
   ]
  },
  {
   "cell_type": "code",
   "execution_count": 13,
   "metadata": {
    "ExecuteTime": {
     "end_time": "2019-01-03T15:45:49.789395Z",
     "start_time": "2019-01-03T15:45:49.785405Z"
    }
   },
   "outputs": [],
   "source": [
    "mon_resultat"
   ]
  },
  {
   "cell_type": "markdown",
   "metadata": {},
   "source": [
    "Attention, ce n'est pas parce qu'une fonction ne renvoie rien qu'elle ne fait rien. Et malgré les apparences, une impression n'est pas du tout la même chose qu'un retour"
   ]
  },
  {
   "cell_type": "code",
   "execution_count": 14,
   "metadata": {
    "ExecuteTime": {
     "end_time": "2019-01-03T15:45:53.190753Z",
     "start_time": "2019-01-03T15:45:53.187760Z"
    }
   },
   "outputs": [],
   "source": [
    "def ma_fonction():\n",
    "    \n",
    "    print('Résultat')"
   ]
  },
  {
   "cell_type": "code",
   "execution_count": 15,
   "metadata": {
    "ExecuteTime": {
     "end_time": "2019-01-03T15:45:58.462187Z",
     "start_time": "2019-01-03T15:45:58.457163Z"
    }
   },
   "outputs": [
    {
     "name": "stdout",
     "output_type": "stream",
     "text": [
      "Résultat\n"
     ]
    }
   ],
   "source": [
    "mon_resultat = ma_fonction()"
   ]
  },
  {
   "cell_type": "code",
   "execution_count": 16,
   "metadata": {
    "ExecuteTime": {
     "end_time": "2019-01-03T15:46:00.036741Z",
     "start_time": "2019-01-03T15:46:00.031755Z"
    }
   },
   "outputs": [
    {
     "data": {
      "text/plain": [
       "NoneType"
      ]
     },
     "execution_count": 16,
     "metadata": {},
     "output_type": "execute_result"
    }
   ],
   "source": [
    "type(mon_resultat)"
   ]
  },
  {
   "cell_type": "code",
   "execution_count": 17,
   "metadata": {
    "ExecuteTime": {
     "end_time": "2019-01-03T15:46:01.616218Z",
     "start_time": "2019-01-03T15:46:01.613199Z"
    }
   },
   "outputs": [],
   "source": [
    "mon_resultat"
   ]
  },
  {
   "cell_type": "markdown",
   "metadata": {},
   "source": [
    "3. Ou même de renvoyer n valeurs, mais la fonction renvoie alors un unique **tuple** contenant n valeurs"
   ]
  },
  {
   "cell_type": "code",
   "execution_count": 18,
   "metadata": {
    "ExecuteTime": {
     "end_time": "2019-01-03T15:46:07.871369Z",
     "start_time": "2019-01-03T15:46:07.867380Z"
    }
   },
   "outputs": [],
   "source": [
    "def ma_fonction():\n",
    "    \n",
    "    return '1ère valeur', '2e valeur'"
   ]
  },
  {
   "cell_type": "code",
   "execution_count": 19,
   "metadata": {
    "ExecuteTime": {
     "end_time": "2019-01-03T15:46:10.442559Z",
     "start_time": "2019-01-03T15:46:10.437572Z"
    }
   },
   "outputs": [
    {
     "data": {
      "text/plain": [
       "('1ère valeur', '2e valeur')"
      ]
     },
     "execution_count": 19,
     "metadata": {},
     "output_type": "execute_result"
    }
   ],
   "source": [
    "ma_fonction()"
   ]
  },
  {
   "cell_type": "code",
   "execution_count": 20,
   "metadata": {
    "ExecuteTime": {
     "end_time": "2019-01-03T15:46:12.343577Z",
     "start_time": "2019-01-03T15:46:12.339588Z"
    }
   },
   "outputs": [
    {
     "data": {
      "text/plain": [
       "tuple"
      ]
     },
     "execution_count": 20,
     "metadata": {},
     "output_type": "execute_result"
    }
   ],
   "source": [
    "type(ma_fonction())"
   ]
  },
  {
   "cell_type": "markdown",
   "metadata": {},
   "source": [
    "## Arguments et paramètres"
   ]
  },
  {
   "cell_type": "markdown",
   "metadata": {},
   "source": [
    "### Base"
   ]
  },
  {
   "cell_type": "markdown",
   "metadata": {},
   "source": [
    "Comme on l'a vu une fonction peut ne pas avoir de **paramètres**, mais la grande majorité d'entre elles en ont.\n",
    "\n",
    "Un **paramètre** est la dénomination d'une valeur d'entrée dans la définition d'une fonction"
   ]
  },
  {
   "cell_type": "code",
   "execution_count": 22,
   "metadata": {
    "ExecuteTime": {
     "end_time": "2019-01-11T09:10:29.495609Z",
     "start_time": "2019-01-11T09:10:29.487619Z"
    }
   },
   "outputs": [],
   "source": [
    "def carre(nombre):\n",
    "    \n",
    "    return nombre*nombre"
   ]
  },
  {
   "cell_type": "markdown",
   "metadata": {},
   "source": [
    "***nombre*** est ici le **paramètre** de la fonction ***carre***.\n",
    "\n",
    "On peut maintenant appeler la fonction carre en lui passant un **argument**. \n",
    "\n",
    "Un **argument** est une valeur effectivement passée à la fonction lors de son appel, correspondant à un **paramètre** de la fonction."
   ]
  },
  {
   "cell_type": "code",
   "execution_count": null,
   "metadata": {},
   "outputs": [],
   "source": [
    "carre(15)"
   ]
  },
  {
   "cell_type": "markdown",
   "metadata": {},
   "source": [
    "On peut bien sûr utiliser une variable pour passer un argument à une fonction."
   ]
  },
  {
   "cell_type": "code",
   "execution_count": null,
   "metadata": {},
   "outputs": [],
   "source": [
    "ma_variable = 26"
   ]
  },
  {
   "cell_type": "code",
   "execution_count": null,
   "metadata": {},
   "outputs": [],
   "source": [
    "carre(ma_variable)"
   ]
  },
  {
   "cell_type": "markdown",
   "metadata": {},
   "source": [
    "Une fonction peut avoir, en termes de paramètres : \n",
    "- un ou des **paramètres obligatoires** (positional parameter)\n",
    "- un ou des **paramètres facultatifs** (keyword parameter)\n",
    "- les deux\n",
    "- aucun"
   ]
  },
  {
   "cell_type": "markdown",
   "metadata": {},
   "source": [
    "### Paramètres obligatoires"
   ]
  },
  {
   "cell_type": "markdown",
   "metadata": {},
   "source": [
    "Les **paramètres obligatoires** doivent nécessairement être renseignés au moment de l'appel d'une fonction, sans quoi elle ne s'exécutera pas."
   ]
  },
  {
   "cell_type": "code",
   "execution_count": null,
   "metadata": {},
   "outputs": [],
   "source": [
    "def puissance(nombre, exposant):\n",
    "    \n",
    "    return nombre**exposant"
   ]
  },
  {
   "cell_type": "code",
   "execution_count": null,
   "metadata": {},
   "outputs": [],
   "source": [
    "puissance(2, 5)"
   ]
  },
  {
   "cell_type": "code",
   "execution_count": null,
   "metadata": {},
   "outputs": [],
   "source": [
    "puissance(2)"
   ]
  },
  {
   "cell_type": "markdown",
   "metadata": {},
   "source": [
    "### Paramètres facultatifs"
   ]
  },
  {
   "cell_type": "markdown",
   "metadata": {},
   "source": [
    "Les **paramètres facultatifs** se distinguent par le fait qu'on leur donne une **valeur par défaut** (au cas où l'argument ne serait pas spécifié). Les paramètres obligatoires n'ont pas de valeur par défaut.\n",
    "\n",
    "Les arguments facultatifs viennent nécessairement **après l'ensemble des paramètres obligatoires** dans la déclaration de la fonction."
   ]
  },
  {
   "cell_type": "code",
   "execution_count": null,
   "metadata": {},
   "outputs": [],
   "source": [
    "def vol_vers_liste(chaine_donnees, separateur=','):\n",
    "    \n",
    "    return chaine_donnees.split(separateur)"
   ]
  },
  {
   "cell_type": "code",
   "execution_count": null,
   "metadata": {},
   "outputs": [],
   "source": [
    "mes_donnees_de_vol = 'CDG;NTE;Air France;2016-03-15T21:05:00;2016-03-15T22:10:00;1,0833333333333333;aller simple;52;Sans escale'"
   ]
  },
  {
   "cell_type": "code",
   "execution_count": null,
   "metadata": {},
   "outputs": [],
   "source": [
    "vol_vers_liste(mes_donnees_de_vol)"
   ]
  },
  {
   "cell_type": "code",
   "execution_count": null,
   "metadata": {},
   "outputs": [],
   "source": [
    "vol_vers_liste(mes_donnees_de_vol, ';')"
   ]
  },
  {
   "cell_type": "markdown",
   "metadata": {},
   "source": [
    "Il est d'usage (mais ce n'est pas obligatoire) de **donner le nom des paramètres facultatifs lors de l'appel** de la fonction. Si on ne spécifie pas leur nom, il est **indispensable de respecter leur ordre**."
   ]
  },
  {
   "cell_type": "code",
   "execution_count": null,
   "metadata": {},
   "outputs": [],
   "source": [
    "vol_vers_liste(mes_donnees_de_vol, separateur=';')"
   ]
  },
  {
   "cell_type": "markdown",
   "metadata": {},
   "source": [
    "### Note sur les valeurs de retour"
   ]
  },
  {
   "cell_type": "markdown",
   "metadata": {},
   "source": [
    "Il peut y avoir plusieurs **return** dans une même fonction"
   ]
  },
  {
   "cell_type": "code",
   "execution_count": null,
   "metadata": {},
   "outputs": [],
   "source": [
    "def ma_fonction(sexe):\n",
    "    \n",
    "    if sexe == 0:\n",
    "        return 'Femme'\n",
    "    \n",
    "    elif sexe == 1:\n",
    "        return 'Homme'\n",
    "    \n",
    "    print('Problème')"
   ]
  },
  {
   "cell_type": "code",
   "execution_count": null,
   "metadata": {},
   "outputs": [],
   "source": [
    "liste_resultats = []\n",
    "\n",
    "for valeur in [0, 1, 2]:\n",
    "    liste_resultats.append(ma_fonction(valeur))"
   ]
  },
  {
   "cell_type": "code",
   "execution_count": null,
   "metadata": {},
   "outputs": [],
   "source": [
    "liste_resultats"
   ]
  },
  {
   "cell_type": "markdown",
   "metadata": {},
   "source": [
    "## Variables locales et variables globales"
   ]
  },
  {
   "cell_type": "markdown",
   "metadata": {},
   "source": [
    "##### Variables locales"
   ]
  },
  {
   "cell_type": "markdown",
   "metadata": {},
   "source": [
    "Une fonction peut aussi avoir des variables locales"
   ]
  },
  {
   "cell_type": "code",
   "execution_count": null,
   "metadata": {},
   "outputs": [],
   "source": [
    "def liste_vols_vers_liste(liste_vols, separateur=';'):\n",
    "    resultat = []\n",
    "    \n",
    "    for ligne in liste_vols:\n",
    "        resultat.append(ligne.split(separateur))\n",
    "        \n",
    "    return resultat"
   ]
  },
  {
   "cell_type": "code",
   "execution_count": null,
   "metadata": {},
   "outputs": [],
   "source": [
    "ma_liste_de_vols = [\n",
    "    'CDG;NTE;Air France;2016-03-15T21:05:00;2016-03-15T22:10:00;1,0833333333333333;aller simple;52;Sans escale',\n",
    "    'ORY;NTE;Air France;2016-03-15T19:30:00;2016-03-15T20:45:00;1,25;aller simple;69;Sans escale'\n",
    "]"
   ]
  },
  {
   "cell_type": "code",
   "execution_count": null,
   "metadata": {},
   "outputs": [],
   "source": [
    "liste_vols_vers_liste(ma_liste_de_vols)"
   ]
  },
  {
   "cell_type": "markdown",
   "metadata": {},
   "source": [
    "La variable **resultat** est une variable locale, elle n'existe que dans le cadre de l'exécution de la fonction..."
   ]
  },
  {
   "cell_type": "code",
   "execution_count": null,
   "metadata": {
    "scrolled": false
   },
   "outputs": [],
   "source": [
    "resultat"
   ]
  },
  {
   "cell_type": "markdown",
   "metadata": {},
   "source": [
    "##### Variables globales"
   ]
  },
  {
   "cell_type": "markdown",
   "metadata": {},
   "source": [
    "A l'inverse on peut considérer comme **globales** des variables qui sont utilisées alors qu'elles ont été définies en dehors de la fonction. \n",
    "\n",
    "Une fonction peut accéder **en lecture seule** aux variables (ou aux fonctions) définies au même endroit qu'elles-mêmes, en l'occurrence, ce Notebook.\n",
    "\n",
    "C'est particulièrement utile avec les constantes."
   ]
  },
  {
   "cell_type": "code",
   "execution_count": null,
   "metadata": {},
   "outputs": [],
   "source": [
    "MON_SEPARATEUR = ';'"
   ]
  },
  {
   "cell_type": "code",
   "execution_count": null,
   "metadata": {},
   "outputs": [],
   "source": [
    "def liste_vols_vers_liste(liste_vols):\n",
    "    resultat = []\n",
    "    \n",
    "    for ligne in liste_vols:\n",
    "        resultat.append(ligne.split(MON_SEPARATEUR))\n",
    "        \n",
    "    return resultat"
   ]
  },
  {
   "cell_type": "code",
   "execution_count": null,
   "metadata": {},
   "outputs": [],
   "source": [
    "liste_vols_vers_liste(ma_liste_de_vols)"
   ]
  },
  {
   "cell_type": "markdown",
   "metadata": {},
   "source": [
    "<div class=\"alert alert-block alert-success\">\n",
    "<b>Nota Bene :</b> \n",
    "\n",
    "Il est rare que l'utilisation d'une variable globale soit justifiée...\n",
    "\n",
    "En général, faites en sorte de limiter aux maximum leur utilisation. Ne serait-ce que parce que si vous décidez de copier votre fonction dans un autre Notebook et que vous oubliez de copier la variable globale, votre fonction ne marchera plus\n",
    "</div>"
   ]
  },
  {
   "cell_type": "markdown",
   "metadata": {},
   "source": [
    "<div class=\"alert alert-block alert-info\">\n",
    "<b>Pour aller plus loin:</b> <a href=http://wiki.c2.com/?GlobalVariablesAreBad> Article détaillant toutes les raisons pour lesquelles il faut éviter les variables globales</a>\n",
    "</div>"
   ]
  },
  {
   "cell_type": "markdown",
   "metadata": {},
   "source": [
    "## Documentation de fonction (docstrings)"
   ]
  },
  {
   "cell_type": "markdown",
   "metadata": {},
   "source": [
    "Il est hautement recommandé de documenter ses fonctions, cela permet après de tirer parti de tous les outils d'aides...\n",
    "On définit un docstring en utilisant les opérateurs d'encadrement **'''** en tout début de fonction."
   ]
  },
  {
   "cell_type": "code",
   "execution_count": 21,
   "metadata": {
    "ExecuteTime": {
     "end_time": "2019-01-03T15:58:57.765149Z",
     "start_time": "2019-01-03T15:58:57.760164Z"
    }
   },
   "outputs": [],
   "source": [
    "def liste_vols_vers_liste(liste_vols, separateur=';'):\n",
    "    '''\n",
    "    Transforme une liste de chaines de caractères en liste de liste de caractéristiques\n",
    "\n",
    "    :param liste_vols: liste de données brutes (str), un élément par vol\n",
    "    :param separateur: séparateur utilisé pour les caractéristiques du vol\n",
    "    :return: liste de listes de caractéristiques de vols\n",
    "    '''\n",
    "    \n",
    "    resultat = []\n",
    "    \n",
    "    for ligne in liste_vols:\n",
    "        resultat.append(ligne.split(separateur))\n",
    "        \n",
    "    return resultat"
   ]
  },
  {
   "cell_type": "code",
   "execution_count": 22,
   "metadata": {
    "ExecuteTime": {
     "end_time": "2019-01-03T15:59:00.975408Z",
     "start_time": "2019-01-03T15:59:00.970460Z"
    }
   },
   "outputs": [
    {
     "name": "stdout",
     "output_type": "stream",
     "text": [
      "Help on function liste_vols_vers_liste in module __main__:\n",
      "\n",
      "liste_vols_vers_liste(liste_vols, separateur=';')\n",
      "    Transforme une liste de chaines de caractères en liste de liste de caractéristiques\n",
      "    \n",
      "    :param liste_vols: liste de données brutes (str), un élément par vol\n",
      "    :param separateur: séparateur utilisé pour les caractéristiques du vol\n",
      "    :return: liste de listes de caractéristiques de vols\n",
      "\n"
     ]
    }
   ],
   "source": [
    "help(liste_vols_vers_liste)"
   ]
  },
  {
   "cell_type": "markdown",
   "metadata": {},
   "source": [
    "## Exemple : fonction moyenne"
   ]
  },
  {
   "cell_type": "code",
   "execution_count": 1,
   "metadata": {
    "ExecuteTime": {
     "end_time": "2019-01-11T08:52:53.900094Z",
     "start_time": "2019-01-11T08:52:53.892105Z"
    }
   },
   "outputs": [],
   "source": [
    "def moyenne(liste):\n",
    "    '''\n",
    "    Calcule la moyenne des valeurs d'une liste\n",
    "    '''\n",
    "    \n",
    "    somme = 0\n",
    "    nombre_valeurs = 0\n",
    "    \n",
    "    for chiffre in liste:\n",
    "        somme += chiffre\n",
    "        nombre_valeurs += 1\n",
    "    \n",
    "    return somme/nombre_valeurs"
   ]
  },
  {
   "cell_type": "code",
   "execution_count": 2,
   "metadata": {
    "ExecuteTime": {
     "end_time": "2019-01-11T08:52:55.785300Z",
     "start_time": "2019-01-11T08:52:55.773313Z"
    }
   },
   "outputs": [
    {
     "data": {
      "text/plain": [
       "21.0"
      ]
     },
     "execution_count": 2,
     "metadata": {},
     "output_type": "execute_result"
    }
   ],
   "source": [
    "moyenne([5, 10, 1, 65, 24])"
   ]
  },
  {
   "cell_type": "markdown",
   "metadata": {},
   "source": [
    "# Importance de la muabilité"
   ]
  },
  {
   "cell_type": "markdown",
   "metadata": {},
   "source": [
    "## Muabilité et variables"
   ]
  },
  {
   "cell_type": "markdown",
   "metadata": {},
   "source": [
    "##### Types immuables"
   ]
  },
  {
   "cell_type": "markdown",
   "metadata": {},
   "source": [
    "Lorsque l'on définit une variable de type **immuable**"
   ]
  },
  {
   "cell_type": "code",
   "execution_count": 3,
   "metadata": {
    "ExecuteTime": {
     "end_time": "2019-01-11T08:55:29.522723Z",
     "start_time": "2019-01-11T08:55:29.514733Z"
    }
   },
   "outputs": [],
   "source": [
    "ma_chaine = 'test'"
   ]
  },
  {
   "cell_type": "markdown",
   "metadata": {},
   "source": [
    "Si l'on définit une deuxième variable comme étant égale à la première :"
   ]
  },
  {
   "cell_type": "code",
   "execution_count": 4,
   "metadata": {
    "ExecuteTime": {
     "end_time": "2019-01-11T08:55:38.072555Z",
     "start_time": "2019-01-11T08:55:38.068561Z"
    }
   },
   "outputs": [],
   "source": [
    "chaine_secondaire = ma_chaine"
   ]
  },
  {
   "cell_type": "markdown",
   "metadata": {},
   "source": [
    "Cette deuxième chaine a effectivement la **même valeur** que la première"
   ]
  },
  {
   "cell_type": "code",
   "execution_count": 5,
   "metadata": {
    "ExecuteTime": {
     "end_time": "2019-01-11T08:55:41.659187Z",
     "start_time": "2019-01-11T08:55:41.651200Z"
    }
   },
   "outputs": [
    {
     "name": "stdout",
     "output_type": "stream",
     "text": [
      "test\n",
      "test\n"
     ]
    }
   ],
   "source": [
    "print(ma_chaine)\n",
    "print(chaine_secondaire)"
   ]
  },
  {
   "cell_type": "markdown",
   "metadata": {},
   "source": [
    "Mais si l'on redéfinit la première (à défaut de pouvoir la modifier en raison de son immuabilité)"
   ]
  },
  {
   "cell_type": "code",
   "execution_count": 6,
   "metadata": {
    "ExecuteTime": {
     "end_time": "2019-01-11T08:55:51.959510Z",
     "start_time": "2019-01-11T08:55:51.951522Z"
    }
   },
   "outputs": [],
   "source": [
    "chaine_secondaire = 'Autre chaine'"
   ]
  },
  {
   "cell_type": "code",
   "execution_count": 7,
   "metadata": {
    "ExecuteTime": {
     "end_time": "2019-01-11T08:55:54.620770Z",
     "start_time": "2019-01-11T08:55:54.612781Z"
    }
   },
   "outputs": [
    {
     "name": "stdout",
     "output_type": "stream",
     "text": [
      "test\n",
      "Autre chaine\n"
     ]
    }
   ],
   "source": [
    "print(ma_chaine)\n",
    "print(chaine_secondaire)"
   ]
  },
  {
   "cell_type": "markdown",
   "metadata": {},
   "source": [
    "Logiquement, elles n'ont plus la même valeur... C'est ce à quoi on s'attendait... chaine_secondaire est une **copie** de ma_chaine"
   ]
  },
  {
   "cell_type": "markdown",
   "metadata": {},
   "source": [
    "##### Types muables"
   ]
  },
  {
   "cell_type": "markdown",
   "metadata": {},
   "source": [
    "En revanche, lorsque l'on définit une variable de type **muable**"
   ]
  },
  {
   "cell_type": "code",
   "execution_count": 8,
   "metadata": {
    "ExecuteTime": {
     "end_time": "2019-01-11T08:56:52.736934Z",
     "start_time": "2019-01-11T08:56:52.728946Z"
    }
   },
   "outputs": [],
   "source": [
    "ma_liste = ['liste', 'de', 'chaines']"
   ]
  },
  {
   "cell_type": "markdown",
   "metadata": {},
   "source": [
    "Si l'on définit une deuxième variable comme étant égale à la première :"
   ]
  },
  {
   "cell_type": "code",
   "execution_count": 9,
   "metadata": {
    "ExecuteTime": {
     "end_time": "2019-01-11T08:57:02.957973Z",
     "start_time": "2019-01-11T08:57:02.949984Z"
    }
   },
   "outputs": [],
   "source": [
    "liste_secondaire = ma_liste"
   ]
  },
  {
   "cell_type": "markdown",
   "metadata": {},
   "source": [
    "Cette deuxième liste a effectivement la **même valeur** que la première"
   ]
  },
  {
   "cell_type": "code",
   "execution_count": 10,
   "metadata": {
    "ExecuteTime": {
     "end_time": "2019-01-11T08:57:06.878808Z",
     "start_time": "2019-01-11T08:57:06.870816Z"
    }
   },
   "outputs": [
    {
     "name": "stdout",
     "output_type": "stream",
     "text": [
      "['liste', 'de', 'chaines']\n",
      "['liste', 'de', 'chaines']\n"
     ]
    }
   ],
   "source": [
    "print(ma_liste)\n",
    "print(liste_secondaire)"
   ]
  },
  {
   "cell_type": "markdown",
   "metadata": {},
   "source": [
    "Si l'on modifie notre deuxième liste en ajoutant un élément"
   ]
  },
  {
   "cell_type": "code",
   "execution_count": 11,
   "metadata": {
    "ExecuteTime": {
     "end_time": "2019-01-11T08:57:13.346884Z",
     "start_time": "2019-01-11T08:57:13.338896Z"
    }
   },
   "outputs": [],
   "source": [
    "liste_secondaire.append('modifiée')"
   ]
  },
  {
   "cell_type": "markdown",
   "metadata": {},
   "source": [
    "Normalement on s'attendrait à ce que les deux listes soient désormais différentes..."
   ]
  },
  {
   "cell_type": "code",
   "execution_count": 12,
   "metadata": {
    "ExecuteTime": {
     "end_time": "2019-01-11T08:57:15.147453Z",
     "start_time": "2019-01-11T08:57:15.139464Z"
    }
   },
   "outputs": [
    {
     "name": "stdout",
     "output_type": "stream",
     "text": [
      "['liste', 'de', 'chaines', 'modifiée']\n",
      "['liste', 'de', 'chaines', 'modifiée']\n"
     ]
    }
   ],
   "source": [
    "print(ma_liste)\n",
    "print(liste_secondaire)"
   ]
  },
  {
   "cell_type": "markdown",
   "metadata": {},
   "source": [
    "Bizarre...\n",
    "\n",
    "Lorsque l'on fait l'affectation, à partir d'un objet muable, en l'occurrence **liste_secondaire = ma_liste**, en réalité:\n",
    "- Python ne comprend pas : **affecte les valeurs contenues dans mon premier objet à mon second objet**, \n",
    "- il comprend : **considère que mon deuxième objet désigne le même objet que le premier** (un peu comme si on créait simplement un alias...)\n",
    "\n",
    "ce qui est TRES différent...\n",
    "\n",
    "Si l'on voulait faire une copie du **contenu** de mon premier objet et le mettre dans un second objet, il faudrait faire"
   ]
  },
  {
   "cell_type": "code",
   "execution_count": 13,
   "metadata": {
    "ExecuteTime": {
     "end_time": "2019-01-11T08:57:50.202429Z",
     "start_time": "2019-01-11T08:57:50.194441Z"
    }
   },
   "outputs": [],
   "source": [
    "liste_secondaire = ma_liste.copy()"
   ]
  },
  {
   "cell_type": "markdown",
   "metadata": {},
   "source": [
    "Ou de manière équivalente :"
   ]
  },
  {
   "cell_type": "code",
   "execution_count": 14,
   "metadata": {
    "ExecuteTime": {
     "end_time": "2019-01-11T08:57:53.597973Z",
     "start_time": "2019-01-11T08:57:53.589984Z"
    }
   },
   "outputs": [],
   "source": [
    "liste_secondaire = list(ma_liste) # la fonction list() créé une nouvelle liste"
   ]
  },
  {
   "cell_type": "markdown",
   "metadata": {},
   "source": [
    "Ainsi, nous n'aurons plus ce problème"
   ]
  },
  {
   "cell_type": "code",
   "execution_count": 15,
   "metadata": {
    "ExecuteTime": {
     "end_time": "2019-01-11T08:58:00.381632Z",
     "start_time": "2019-01-11T08:58:00.377638Z"
    }
   },
   "outputs": [],
   "source": [
    "liste_secondaire.append('modifiée')"
   ]
  },
  {
   "cell_type": "code",
   "execution_count": 16,
   "metadata": {
    "ExecuteTime": {
     "end_time": "2019-01-11T08:58:04.637263Z",
     "start_time": "2019-01-11T08:58:04.629276Z"
    }
   },
   "outputs": [
    {
     "name": "stdout",
     "output_type": "stream",
     "text": [
      "['liste', 'de', 'chaines', 'modifiée']\n",
      "['liste', 'de', 'chaines', 'modifiée', 'modifiée']\n"
     ]
    }
   ],
   "source": [
    "print(ma_liste)\n",
    "print(liste_secondaire)"
   ]
  },
  {
   "cell_type": "markdown",
   "metadata": {},
   "source": [
    "Lorsque l'on fait une copie, les deux objets deviennent vraiment des objets distincts"
   ]
  },
  {
   "cell_type": "markdown",
   "metadata": {},
   "source": [
    "## Muabilité et fonctions"
   ]
  },
  {
   "cell_type": "markdown",
   "metadata": {},
   "source": [
    "##### Types immuables"
   ]
  },
  {
   "cell_type": "markdown",
   "metadata": {},
   "source": [
    "Considérons la variable suivante, de type **str**, **immuable** donc :"
   ]
  },
  {
   "cell_type": "code",
   "execution_count": null,
   "metadata": {},
   "outputs": [],
   "source": [
    "ma_chaine = 'Chaine de caractères'"
   ]
  },
  {
   "cell_type": "code",
   "execution_count": null,
   "metadata": {},
   "outputs": [],
   "source": [
    "def ma_fonction(chaine):\n",
    "    chaine += ' modifiée'\n",
    "    \n",
    "    return chaine"
   ]
  },
  {
   "cell_type": "code",
   "execution_count": null,
   "metadata": {},
   "outputs": [],
   "source": [
    "ma_fonction(ma_chaine)"
   ]
  },
  {
   "cell_type": "code",
   "execution_count": null,
   "metadata": {},
   "outputs": [],
   "source": [
    "ma_chaine"
   ]
  },
  {
   "cell_type": "markdown",
   "metadata": {},
   "source": [
    "##### Types muables"
   ]
  },
  {
   "cell_type": "markdown",
   "metadata": {},
   "source": [
    "Lorsque l'on passe une **variable de type muable** à une **fonction**, même si l'on modifie le paramètre correspondant dans le cadre de la fonction, la variable d'entrée **n'est pas impactée**. On dit que l'on a passé la variable **par valeur** (son contenu donc, pas la variable elle-même)\n",
    "\n",
    "Considérons maintenant la variable suivante, de type **list** :"
   ]
  },
  {
   "cell_type": "code",
   "execution_count": null,
   "metadata": {},
   "outputs": [],
   "source": [
    "def ma_fonction(liste):\n",
    "    liste.append('modifiée')\n",
    "    \n",
    "    return liste"
   ]
  },
  {
   "cell_type": "code",
   "execution_count": null,
   "metadata": {},
   "outputs": [],
   "source": [
    "ma_liste = ['liste', 'de', 'chaines']"
   ]
  },
  {
   "cell_type": "code",
   "execution_count": null,
   "metadata": {},
   "outputs": [],
   "source": [
    "ma_fonction(ma_liste)"
   ]
  },
  {
   "cell_type": "code",
   "execution_count": null,
   "metadata": {},
   "outputs": [],
   "source": [
    "ma_liste"
   ]
  },
  {
   "cell_type": "markdown",
   "metadata": {},
   "source": [
    "Lorsque l'on passe une **variable de type muable** à une **fonction**, si l'on modifie le paramètre correspondant dans le cadre de la fonction, la variable d'origine **est impactée**. On dit que l'on a passé la variable **par référence**"
   ]
  },
  {
   "cell_type": "markdown",
   "metadata": {},
   "source": [
    "Pour éviter ce problème il faut créer une nouvelle liste"
   ]
  },
  {
   "cell_type": "code",
   "execution_count": null,
   "metadata": {},
   "outputs": [],
   "source": [
    "def ma_fonction(liste):\n",
    "    resultat = list(liste)\n",
    "    resultat.append('modifiée')\n",
    "    \n",
    "    return resultat"
   ]
  },
  {
   "cell_type": "code",
   "execution_count": null,
   "metadata": {},
   "outputs": [],
   "source": [
    "ma_liste = ['liste', 'de', 'chaines']"
   ]
  },
  {
   "cell_type": "code",
   "execution_count": null,
   "metadata": {},
   "outputs": [],
   "source": [
    "ma_fonction(ma_liste)"
   ]
  },
  {
   "cell_type": "code",
   "execution_count": null,
   "metadata": {},
   "outputs": [],
   "source": [
    "ma_liste"
   ]
  },
  {
   "cell_type": "markdown",
   "metadata": {},
   "source": [
    "## Synthèse"
   ]
  },
  {
   "cell_type": "markdown",
   "metadata": {},
   "source": [
    "Les **variables de type immuables** :\n",
    "- ne peuvent être modifiées, uniquement réaffectées\n",
    "- peuvent servir d'**entrée** de **dict**\n",
    "- sont passées par **valeur** lors d'un appel de fonction, ce sont donc des **copies** que l'on retrouve dans la fonction\n",
    "- fournissent des **copies** lorsque l'on affecte une autre variable à partir d'elles\n",
    "\n",
    "Les **variables de type muables** :\n",
    "- peuvent être modifiées\n",
    "- **ne peuvent pas** servir d'**entrée** de **dict**\n",
    "- sont passées par **référence** lors d'un appel de fonction, ce sont donc les variables elles-mêmes que l'on retrouve dans la fonction (et que l'on peut donc modifier définitivement)\n",
    "- fournissent des **alias** lorsque l'on affecte une autre variable à partir d'elles\n",
    "\n",
    "Les **types immuables** sont en nombre très limités, il s'agit : \n",
    "- des nombres (**int**, **float**, **complex**)\n",
    "- des ensembles de type **tuple** (et, moins courant, des **frozenset**)\n",
    "- des chaines de caractères (**str** ou **bytes**)\n",
    "\n",
    "**Tout autre type est muable.**"
   ]
  },
  {
   "cell_type": "markdown",
   "metadata": {},
   "source": [
    "<div class=\"alert alert-block alert-info\"><b><i>Pour aller plus loin :</i></b>\n",
    "\n",
    "Pour être tout à fait rigoureux, il faudrait parler du concept de **hashabilité** au lieu d'**immuabilité** car c'est ce concept précis qui entraine les conséquences que l'on a observé. Mais comme **tout type immuable est hashable**, peu importe...\n",
    "\n",
    "<a href=https://docs.python.org/3/glossary.html>Glossaire de la doc officielle Python</a></div>\n",
    "\n"
   ]
  },
  {
   "cell_type": "markdown",
   "metadata": {},
   "source": [
    "# Passage d'une fonction en argument d'une autre fonction"
   ]
  },
  {
   "cell_type": "markdown",
   "metadata": {},
   "source": [
    "Une fonction, aussi bizarre que ça puisse paraitre, peut aussi être passée comme argument d'une autre fonction.\n",
    "\n",
    "C'est une possibilité extrêmement puissante du langage Python"
   ]
  },
  {
   "cell_type": "code",
   "execution_count": 17,
   "metadata": {
    "ExecuteTime": {
     "end_time": "2019-01-11T09:08:26.767439Z",
     "start_time": "2019-01-11T09:08:26.759448Z"
    }
   },
   "outputs": [],
   "source": [
    "def mappage(fonction, liste):\n",
    "    '''\n",
    "    Applique une même fonction à tous les éléments d'une liste\n",
    "\n",
    "    :param data: liste de données brutes (str), un élément par vol\n",
    "    :param sep: séparateur utilisé pour les caractéristiques du vol\n",
    "    :return: liste de listes de caractéristiques de vols\n",
    "    '''\n",
    "    \n",
    "    resultat = []\n",
    "    \n",
    "    for element in liste:\n",
    "        resultat.append(fonction(element))\n",
    "        \n",
    "    return resultat"
   ]
  },
  {
   "cell_type": "code",
   "execution_count": 18,
   "metadata": {
    "ExecuteTime": {
     "end_time": "2019-01-11T09:08:35.337585Z",
     "start_time": "2019-01-11T09:08:35.329595Z"
    }
   },
   "outputs": [],
   "source": [
    "ma_liste = [12, 18, 35]"
   ]
  },
  {
   "cell_type": "code",
   "execution_count": 23,
   "metadata": {
    "ExecuteTime": {
     "end_time": "2019-01-11T09:10:47.815363Z",
     "start_time": "2019-01-11T09:10:47.807371Z"
    }
   },
   "outputs": [
    {
     "data": {
      "text/plain": [
       "[144, 324, 1225]"
      ]
     },
     "execution_count": 23,
     "metadata": {},
     "output_type": "execute_result"
    }
   ],
   "source": [
    "mappage(carre, ma_liste)"
   ]
  },
  {
   "cell_type": "code",
   "execution_count": 20,
   "metadata": {
    "ExecuteTime": {
     "end_time": "2019-01-11T09:08:41.553002Z",
     "start_time": "2019-01-11T09:08:41.545011Z"
    }
   },
   "outputs": [
    {
     "data": {
      "text/plain": [
       "[12, 18, 35]"
      ]
     },
     "execution_count": 20,
     "metadata": {},
     "output_type": "execute_result"
    }
   ],
   "source": [
    "ma_liste"
   ]
  },
  {
   "cell_type": "markdown",
   "metadata": {},
   "source": [
    "<div class=\"alert alert-block alert-success\">\n",
    "<b>Attention :</b> \n",
    "\n",
    "Lorsque l'on passe une fonction en argument, il faut enlever les parenthèses, sinon c'est le résultat de cette fonction qui est passée en argument.\n",
    "</div>"
   ]
  },
  {
   "cell_type": "markdown",
   "metadata": {},
   "source": [
    "# Pour aller plus loin : opérateur splat"
   ]
  },
  {
   "cell_type": "markdown",
   "metadata": {},
   "source": [
    "Vous verrez souvent écrit, dans les documentations officielles, la définition d'une fonction ainsi représentée :\n",
    "\n",
    "```python\n",
    "matplotlib.pyplot.plot(*args, **kwargs)\n",
    "```\n",
    "Ceci est la définition de la fonction **plot** du sous-module **pyplot**, du module **matplotlib**, permettant de faire des graphiques simples (nous l'étudierons en détail plus tard). On peut la retrouver dans l'aide du module matplotlib : https://matplotlib.org/api/_as_gen/matplotlib.pyplot.plot.html\n",
    "\n",
    "Lorsque l'astérisque simple ou double est utilisé en tant qu'opérateur unaire précédant un nom de variable, ce n'est pas l'opérateur de multiplication/puissance mais l'opérateur **splat**."
   ]
  },
  {
   "cell_type": "code",
   "execution_count": null,
   "metadata": {},
   "outputs": [],
   "source": [
    "def test_func(*args, **kwargs):\n",
    "    print('Paramètres args')\n",
    "    for e in args:\n",
    "        print(e)\n",
    "        \n",
    "    print('Paramètres kwargs')\n",
    "    for k, v in kwargs.items():\n",
    "        print(k, '=', v)"
   ]
  },
  {
   "cell_type": "markdown",
   "metadata": {},
   "source": [
    "Cette représentation signifie : \n",
    "- prendre tout argument ordonné (donc les arguments obligatoires) passés à la fonction et les mettre dans une liste nommée **args**, \n",
    "- prendre tout argument nommé (donc les arguments facultatifs) passé à la fonction et les mettre dans un dictionnaire nommé **kwargs**"
   ]
  },
  {
   "cell_type": "code",
   "execution_count": null,
   "metadata": {},
   "outputs": [],
   "source": [
    "test_func(1, 3, 5, 18, a=12, b=13)"
   ]
  },
  {
   "cell_type": "code",
   "execution_count": null,
   "metadata": {},
   "outputs": [],
   "source": []
  }
 ],
 "metadata": {
  "kernelspec": {
   "display_name": "Python 3",
   "language": "python",
   "name": "python3"
  },
  "language_info": {
   "codemirror_mode": {
    "name": "ipython",
    "version": 3
   },
   "file_extension": ".py",
   "mimetype": "text/x-python",
   "name": "python",
   "nbconvert_exporter": "python",
   "pygments_lexer": "ipython3",
   "version": "3.7.1"
  },
  "toc": {
   "base_numbering": 1,
   "nav_menu": {
    "height": "512px",
    "width": "252px"
   },
   "number_sections": true,
   "sideBar": true,
   "skip_h1_title": false,
   "title_cell": "Table of Contents",
   "title_sidebar": "Contents",
   "toc_cell": false,
   "toc_position": {
    "height": "660px",
    "left": "0px",
    "right": "1328px",
    "top": "107px",
    "width": "368.4px"
   },
   "toc_section_display": "block",
   "toc_window_display": true
  },
  "varInspector": {
   "cols": {
    "lenName": 16,
    "lenType": 16,
    "lenVar": 40
   },
   "kernels_config": {
    "python": {
     "delete_cmd_postfix": "",
     "delete_cmd_prefix": "del ",
     "library": "var_list.py",
     "varRefreshCmd": "print(var_dic_list())"
    },
    "r": {
     "delete_cmd_postfix": ") ",
     "delete_cmd_prefix": "rm(",
     "library": "var_list.r",
     "varRefreshCmd": "cat(var_dic_list()) "
    }
   },
   "position": {
    "height": "459px",
    "left": "913.2px",
    "right": "20px",
    "top": "120px",
    "width": "350px"
   },
   "types_to_exclude": [
    "module",
    "function",
    "builtin_function_or_method",
    "instance",
    "_Feature"
   ],
   "window_display": false
  }
 },
 "nbformat": 4,
 "nbformat_minor": 2
}

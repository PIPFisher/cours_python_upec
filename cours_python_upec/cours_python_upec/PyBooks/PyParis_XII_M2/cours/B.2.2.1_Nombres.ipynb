{
 "cells": [
  {
   "cell_type": "markdown",
   "metadata": {},
   "source": [
    "<br>\n",
    "<div align=\"right\">Enseignant : Aric Wizenberg</div>\n",
    "<div align=\"right\">E-mail : icarwiz@yahoo.fr</div>\n",
    "<div align=\"right\">Année : 2018/2019</div><br><br><br>\n",
    "<div align=\"center\"><span style=\"font-family:Lucida Caligraphy;font-size:32px;color:darkgreen\">Master 2 MASERATI - Cours de Python</span></div><br><br>\n",
    "<div align=\"center\"><span style=\"font-family:Lucida Caligraphy;font-size:24px;color:#e60000\">Nombres, booléens et opérateurs</span></div><br><br>\n",
    "<hr>"
   ]
  },
  {
   "cell_type": "markdown",
   "metadata": {},
   "source": [
    "# Types"
   ]
  },
  {
   "cell_type": "markdown",
   "metadata": {},
   "source": [
    "Absolument tout en Python a un **type** (y compris les types eux-mêmes, qui sont de type **type**). \n",
    "\n",
    "Pour savoir quel est le type d'un élément, on peut utiliser la fonction native **type()** comme nous allons le voir ci-dessous."
   ]
  },
  {
   "cell_type": "markdown",
   "metadata": {},
   "source": [
    "# Nombres et booléens"
   ]
  },
  {
   "cell_type": "markdown",
   "metadata": {},
   "source": [
    "## Nombres"
   ]
  },
  {
   "cell_type": "markdown",
   "metadata": {},
   "source": [
    "Il y a deux types principaux de nombres en Python"
   ]
  },
  {
   "cell_type": "markdown",
   "metadata": {},
   "source": [
    "### Les entiers : int"
   ]
  },
  {
   "cell_type": "markdown",
   "metadata": {},
   "source": [
    "Les entiers sont utilisés en statistiques pour décrire des **variables discrètes**.\n",
    "\n",
    "Cela correspond à l'ensemble des nombres **$\\mathbb{N}$** en mathématiques."
   ]
  },
  {
   "cell_type": "code",
   "execution_count": 1,
   "metadata": {
    "ExecuteTime": {
     "end_time": "2019-01-13T20:34:46.492589Z",
     "start_time": "2019-01-13T20:34:46.480605Z"
    }
   },
   "outputs": [
    {
     "data": {
      "text/plain": [
       "int"
      ]
     },
     "execution_count": 1,
     "metadata": {},
     "output_type": "execute_result"
    }
   ],
   "source": [
    "type(1)"
   ]
  },
  {
   "cell_type": "code",
   "execution_count": 2,
   "metadata": {
    "ExecuteTime": {
     "end_time": "2019-01-13T20:34:47.902527Z",
     "start_time": "2019-01-13T20:34:47.894537Z"
    }
   },
   "outputs": [
    {
     "data": {
      "text/plain": [
       "int"
      ]
     },
     "execution_count": 2,
     "metadata": {},
     "output_type": "execute_result"
    }
   ],
   "source": [
    "type(1 + 2)"
   ]
  },
  {
   "cell_type": "markdown",
   "metadata": {},
   "source": [
    "### Les nombres à virgule : float"
   ]
  },
  {
   "cell_type": "markdown",
   "metadata": {},
   "source": [
    "Les nombres à virgules sont utilisés en statistiques pour décrire des **variables continues**.\n",
    "\n",
    "Cela correspond à l'ensemble des nombres **$\\mathbb{R}$** en mathématiques."
   ]
  },
  {
   "cell_type": "code",
   "execution_count": 3,
   "metadata": {
    "ExecuteTime": {
     "end_time": "2019-01-13T20:34:55.588478Z",
     "start_time": "2019-01-13T20:34:55.580491Z"
    },
    "scrolled": true
   },
   "outputs": [
    {
     "data": {
      "text/plain": [
       "float"
      ]
     },
     "execution_count": 3,
     "metadata": {},
     "output_type": "execute_result"
    }
   ],
   "source": [
    "type(1.0)"
   ]
  },
  {
   "cell_type": "markdown",
   "metadata": {
    "ExecuteTime": {
     "end_time": "2019-01-13T20:34:56.579661Z",
     "start_time": "2019-01-13T20:34:56.571673Z"
    }
   },
   "source": [
    "### type(9/4)"
   ]
  },
  {
   "cell_type": "markdown",
   "metadata": {},
   "source": [
    "<div class=\"alert alert-block alert-info\">\n",
    "<b>Pour aller plus loin:</b> <br>\n",
    "Pour être exhaustif : il existe aussi un type pour les nombres complexes : <b>complex</b>\n",
    "\n",
    "Attention : ils sont écrits en utilisant un <b>j</b>, pas un i\n",
    "```python\n",
    "1 + 2j\n",
    "```\n",
    "\n",
    "</div>"
   ]
  },
  {
   "cell_type": "markdown",
   "metadata": {},
   "source": [
    "<div class=\"alert alert-block alert-success\">\n",
    "<b>Attention :</b>\n",
    "\n",
    "Lors d'une opération arithmétique simple (addition, multiplication, etc.), le type du résultat sera celui du membre ayant le type le plus **\"élaboré\"**:\n",
    "- **complex** l'emporte sur **float**\n",
    "- **float** l'emporte sur **int**\n",
    "\n",
    "Sauf dans le cas de la **division** qui ne renvoie **jamais d'int**.\n",
    "</div>"
   ]
  },
  {
   "cell_type": "markdown",
   "metadata": {},
   "source": [
    "## Les booléens : bool"
   ]
  },
  {
   "cell_type": "markdown",
   "metadata": {},
   "source": [
    "Un **bool** a uniquement deux valeurs possibles : les constantes **True** ou **False** (attention aux majuscules !!)"
   ]
  },
  {
   "cell_type": "code",
   "execution_count": 1,
   "metadata": {
    "ExecuteTime": {
     "end_time": "2019-01-18T09:33:29.932049Z",
     "start_time": "2019-01-18T09:33:29.916428Z"
    }
   },
   "outputs": [
    {
     "data": {
      "text/plain": [
       "bool"
      ]
     },
     "execution_count": 1,
     "metadata": {},
     "output_type": "execute_result"
    }
   ],
   "source": [
    "type(True)"
   ]
  },
  {
   "cell_type": "markdown",
   "metadata": {},
   "source": [
    "## None et le NoneType"
   ]
  },
  {
   "cell_type": "markdown",
   "metadata": {},
   "source": [
    "Il existe une autre constante en Python qui désigne l'absence de valeur : **None** (attention aux majuscules !!)\n",
    "\n",
    "**None** peut par exemple être utilisé pour désigner les **valeurs manquantes**.\n",
    "\n",
    "**None** est une valeur du type **NoneType**, c'est la seule valeur de ce type-là en Python"
   ]
  },
  {
   "cell_type": "code",
   "execution_count": 1,
   "metadata": {
    "ExecuteTime": {
     "end_time": "2019-01-13T20:35:45.311296Z",
     "start_time": "2019-01-13T20:35:45.303305Z"
    }
   },
   "outputs": [
    {
     "data": {
      "text/plain": [
       "NoneType"
      ]
     },
     "execution_count": 1,
     "metadata": {},
     "output_type": "execute_result"
    }
   ],
   "source": [
    "type(None)"
   ]
  },
  {
   "cell_type": "markdown",
   "metadata": {
    "run_control": {
     "marked": true
    }
   },
   "source": [
    "## Conversion de types"
   ]
  },
  {
   "cell_type": "markdown",
   "metadata": {},
   "source": [
    "Les types peuvent être convertis en utilisant le nom du type dans lequel on souhaite convertir notre valeur (car il existe une fonction native correspondante pour chaque type de base).\n",
    "\n",
    "On peut par exemple convertir un nombre entier en nombre à virgule :"
   ]
  },
  {
   "cell_type": "code",
   "execution_count": 7,
   "metadata": {
    "ExecuteTime": {
     "end_time": "2019-01-13T20:36:17.433875Z",
     "start_time": "2019-01-13T20:36:17.425887Z"
    }
   },
   "outputs": [
    {
     "data": {
      "text/plain": [
       "2.0"
      ]
     },
     "execution_count": 7,
     "metadata": {},
     "output_type": "execute_result"
    }
   ],
   "source": [
    "float(2)"
   ]
  },
  {
   "cell_type": "markdown",
   "metadata": {},
   "source": [
    "Ou convertir un nombre à virgule en nombre entier :"
   ]
  },
  {
   "cell_type": "code",
   "execution_count": 8,
   "metadata": {
    "ExecuteTime": {
     "end_time": "2019-01-13T20:36:37.386773Z",
     "start_time": "2019-01-13T20:36:37.378751Z"
    }
   },
   "outputs": [
    {
     "data": {
      "text/plain": [
       "1"
      ]
     },
     "execution_count": 8,
     "metadata": {},
     "output_type": "execute_result"
    }
   ],
   "source": [
    "int(1.9)"
   ]
  },
  {
   "cell_type": "markdown",
   "metadata": {},
   "source": [
    "<div class=\"alert alert-block alert-success\">\n",
    "<b>Attention :</b>\n",
    "\n",
    "la conversion d'un **float** en **int** est une simple **troncature**.\n",
    "\n",
    "Si l'on souhaite **arrondir** un nombre, il existe une fonction native pour cela : **round()** \n",
    "<div>"
   ]
  },
  {
   "cell_type": "code",
   "execution_count": 9,
   "metadata": {
    "ExecuteTime": {
     "end_time": "2019-01-13T20:36:45.306350Z",
     "start_time": "2019-01-13T20:36:45.298362Z"
    },
    "scrolled": true
   },
   "outputs": [
    {
     "data": {
      "text/plain": [
       "2"
      ]
     },
     "execution_count": 9,
     "metadata": {},
     "output_type": "execute_result"
    }
   ],
   "source": [
    "round(1.9)"
   ]
  },
  {
   "cell_type": "markdown",
   "metadata": {},
   "source": [
    "<div class=\"alert alert-block alert-success\">\n",
    "<b>Attention :</b>\n",
    "\n",
    "Tout type ne peut pas nécessairement être convertis en tout autre type.\n",
    "<div>"
   ]
  },
  {
   "cell_type": "markdown",
   "metadata": {},
   "source": [
    "# Opérateurs"
   ]
  },
  {
   "cell_type": "markdown",
   "metadata": {},
   "source": [
    "## Opérateurs de comparaison"
   ]
  },
  {
   "cell_type": "markdown",
   "metadata": {},
   "source": [
    "Opérateurs :\n",
    "\n",
    "* égal ou différent : **__==__** ou **__!=__**\n",
    "* supérieur ou inférieur : **__>__** ou **__<__**\n",
    "* supérieur ou égal ou inférieur ou égal **__>=__** ou **__<=__**"
   ]
  },
  {
   "cell_type": "markdown",
   "metadata": {},
   "source": [
    "<div class=\"alert alert-block alert-success\">\n",
    "<b>Attention :</b>\n",
    "\n",
    "- On utilise bien le double égal (**==**), qui est l'**opérateur d'égalité**, à l'inverse de l'opérateur simple égal (**__=__**) qui est l'**opérateur d'affectation**\n",
    "- L'opérateur **<>** qui existe dans d'autres langages (et était toléré dans Python 2) n'existe pas en Python 3\n",
    "<div>"
   ]
  },
  {
   "cell_type": "code",
   "execution_count": 10,
   "metadata": {
    "ExecuteTime": {
     "end_time": "2019-01-13T20:39:10.576106Z",
     "start_time": "2019-01-13T20:39:10.568118Z"
    }
   },
   "outputs": [
    {
     "data": {
      "text/plain": [
       "False"
      ]
     },
     "execution_count": 10,
     "metadata": {},
     "output_type": "execute_result"
    }
   ],
   "source": [
    "5 <= 4"
   ]
  },
  {
   "cell_type": "code",
   "execution_count": 11,
   "metadata": {
    "ExecuteTime": {
     "end_time": "2019-01-13T20:39:12.202346Z",
     "start_time": "2019-01-13T20:39:12.194358Z"
    }
   },
   "outputs": [
    {
     "data": {
      "text/plain": [
       "True"
      ]
     },
     "execution_count": 11,
     "metadata": {},
     "output_type": "execute_result"
    }
   ],
   "source": [
    "1 + 1 == 2"
   ]
  },
  {
   "cell_type": "markdown",
   "metadata": {},
   "source": [
    "Le résultat d'une opération de comparaison est **toujours un résultat booléen** (**True** ou **False**)"
   ]
  },
  {
   "cell_type": "code",
   "execution_count": 12,
   "metadata": {
    "ExecuteTime": {
     "end_time": "2019-01-13T20:39:35.875795Z",
     "start_time": "2019-01-13T20:39:35.867808Z"
    }
   },
   "outputs": [
    {
     "data": {
      "text/plain": [
       "bool"
      ]
     },
     "execution_count": 12,
     "metadata": {},
     "output_type": "execute_result"
    }
   ],
   "source": [
    "type(1 + 1 == 2)"
   ]
  },
  {
   "cell_type": "markdown",
   "metadata": {},
   "source": [
    "<div class=\"alert alert-block alert-success\">\n",
    "<b>Attention :</b>\n",
    "\n",
    "**Méfiez-vous des égalités strictes entre float** !\n",
    "\n",
    "Souvenez-vous que, comme vous devez le savoir :\n",
    "```python\n",
    "1/3 != 0.33\n",
    "```\n",
    "\n",
    "Mais hélas, en informatique, certaines relations moins intuitives peuvent apparaitre au sujet des **float**. On a par exemple, aussi bizarre que ça puisse paraitre : \n",
    "```python\n",
    "3 - 2.7 != 0.3\n",
    "```\n",
    "\n",
    "Les raisons sont complexes, mais retenez que les comparaison de stricte égalité (== et !=) sont à manier avec énormément de précautions lorsqu'il s'agit de **float**.\n",
    "\n",
    "Si ça vous intéresse vraiment, je vous renvoie vers la vidéo de Kelsey Houston Edwards  :\n",
    "https://www.youtube.com/watch?v=pQs_wx8eoQ8\n",
    "<div>"
   ]
  },
  {
   "cell_type": "markdown",
   "metadata": {},
   "source": [
    "## Opérateurs logiques"
   ]
  },
  {
   "cell_type": "markdown",
   "metadata": {},
   "source": [
    "##### \"Et\" logique : and"
   ]
  },
  {
   "cell_type": "code",
   "execution_count": 13,
   "metadata": {
    "ExecuteTime": {
     "end_time": "2019-01-13T20:42:35.018749Z",
     "start_time": "2019-01-13T20:42:35.010758Z"
    }
   },
   "outputs": [
    {
     "data": {
      "text/plain": [
       "True"
      ]
     },
     "execution_count": 13,
     "metadata": {},
     "output_type": "execute_result"
    }
   ],
   "source": [
    "3 < 4 and 12 == 3*4"
   ]
  },
  {
   "cell_type": "markdown",
   "metadata": {},
   "source": [
    "##### \"Ou\" logique  : or"
   ]
  },
  {
   "cell_type": "code",
   "execution_count": 14,
   "metadata": {
    "ExecuteTime": {
     "end_time": "2019-01-13T20:42:44.511605Z",
     "start_time": "2019-01-13T20:42:44.503617Z"
    }
   },
   "outputs": [
    {
     "data": {
      "text/plain": [
       "True"
      ]
     },
     "execution_count": 14,
     "metadata": {},
     "output_type": "execute_result"
    }
   ],
   "source": [
    "True or True"
   ]
  },
  {
   "cell_type": "markdown",
   "metadata": {},
   "source": [
    "<div class=\"alert alert-block alert-success\">\n",
    "<b>Attention :</b>\n",
    "\n",
    "Comme en statistiques et en logique, \"or\" c'est : **l'un OU l'autre OU les deux à la fois**. \n",
    "\n",
    "C'est un **ou inclusif**.\n",
    "<div>"
   ]
  },
  {
   "cell_type": "markdown",
   "metadata": {},
   "source": [
    "##### Négation logique : not"
   ]
  },
  {
   "cell_type": "code",
   "execution_count": 15,
   "metadata": {
    "ExecuteTime": {
     "end_time": "2019-01-13T20:42:52.147040Z",
     "start_time": "2019-01-13T20:42:52.139015Z"
    }
   },
   "outputs": [
    {
     "data": {
      "text/plain": [
       "False"
      ]
     },
     "execution_count": 15,
     "metadata": {},
     "output_type": "execute_result"
    }
   ],
   "source": [
    "not 1 + 1 == 2"
   ]
  },
  {
   "cell_type": "code",
   "execution_count": 16,
   "metadata": {
    "ExecuteTime": {
     "end_time": "2019-01-13T20:42:56.017180Z",
     "start_time": "2019-01-13T20:42:56.009189Z"
    }
   },
   "outputs": [
    {
     "data": {
      "text/plain": [
       "True"
      ]
     },
     "execution_count": 16,
     "metadata": {},
     "output_type": "execute_result"
    }
   ],
   "source": [
    "not False and True"
   ]
  },
  {
   "cell_type": "markdown",
   "metadata": {},
   "source": [
    "## Autres opérateurs"
   ]
  },
  {
   "cell_type": "markdown",
   "metadata": {},
   "source": [
    "Il existe quelques autres opérateurs, par exemple les opérateurs binaires, qui ne seront pas présentés dans le cadre de ce cours.\n",
    "<div class=\"alert alert-block alert-info\">\n",
    "<b>Pour aller plus loin:</b> <br>\n",
    "<a href=https://docs.python.org/3/reference/expressions.html#shifting-operations> Doc officielle sur les <b>opérateurs de décalage binaire</b></a><br>\n",
    "<a href=https://docs.python.org/3/reference/expressions.html#binary-bitwise-operations> Doc officielle sur les <b>opérateurs d'opérations binaires</b></a>\n",
    "</div>\n",
    "\n",
    "Il existe aussi :\n",
    "- un opérateur de multiplication de matrice : **__@__**\n",
    "- un opérateur ternaire (à trois termes) d'alternative : **if else**\n",
    "- un opérateur de définition de lambda fonction : **lambda**\n",
    "\n",
    "Mais nous y reviendrons en temps voulu dans de prochaines sections de ce cours"
   ]
  },
  {
   "cell_type": "markdown",
   "metadata": {},
   "source": [
    "## Priorité des opérateurs"
   ]
  },
  {
   "cell_type": "markdown",
   "metadata": {},
   "source": [
    "Il faut être conscient que les opérateur ont un ordre de priorité...\n",
    "\n",
    "En effet, si j'écris :\n",
    "```python\n",
    "5 * 2 + 4\n",
    "```\n",
    "qu'est-ce que va faire la machine... ?\n",
    "```python\n",
    "10 + 4 == 14\n",
    "ou\n",
    "```\n",
    "```python\n",
    "5 * 6 == 30\n",
    "```\n",
    "La convention générale et universelle est que :\n",
    "- les multiplications sont évaluées en priorité sur les additions, \n",
    "- et en logique et en statistiques, de manière analogue, les **and** sont considérées analogues aux multiplications et sont prioritaires sur les **or** (analogues aux additions) \n",
    "\n",
    "Mais mieux vaut se référer à l'ordre officiel de priorité des opérateurs du langage Python.\n",
    "\n",
    "On a, du plus prioritaire au moins prioritaire (liste non exhaustive) :\n",
    "\n",
    "1. **\n",
    "1. *, /, //, %\n",
    "1. +, -\n",
    "1. <, <=, >, >=, !=, ==\n",
    "1. not\n",
    "1. and\n",
    "1. or\n",
    "\n",
    "Mais en cas de doute le mieux reste de **mettre des parenthèses** pour forcer la priorité.\n",
    "\n",
    "Du coup, quel serait le résultat des opérations suivantes ?\n",
    "```python\n",
    "1+3*2**2*3+1\n",
    "```\n",
    "\n",
    "<div class=\"alert alert-block alert-info\">\n",
    "<b>Pour aller plus loin:</b> <a href=https://docs.python.org/3/reference/expressions.html#operator-precedence> Table officielle de <b>priorité des opérateurs</b></a>\n",
    "</div>"
   ]
  }
 ],
 "metadata": {
  "kernelspec": {
   "display_name": "Python 3 (ipykernel)",
   "language": "python",
   "name": "python3"
  },
  "language_info": {
   "codemirror_mode": {
    "name": "ipython",
    "version": 3
   },
   "file_extension": ".py",
   "mimetype": "text/x-python",
   "name": "python",
   "nbconvert_exporter": "python",
   "pygments_lexer": "ipython3",
   "version": "3.11.4"
  },
  "toc": {
   "base_numbering": 1,
   "nav_menu": {
    "height": "512px",
    "width": "252px"
   },
   "number_sections": true,
   "sideBar": true,
   "skip_h1_title": false,
   "title_cell": "Table of Contents",
   "title_sidebar": "Contents",
   "toc_cell": false,
   "toc_position": {
    "height": "660px",
    "left": "0px",
    "right": "1328px",
    "top": "107px",
    "width": "165px"
   },
   "toc_section_display": "block",
   "toc_window_display": true
  },
  "varInspector": {
   "cols": {
    "lenName": 16,
    "lenType": 16,
    "lenVar": 40
   },
   "kernels_config": {
    "python": {
     "delete_cmd_postfix": "",
     "delete_cmd_prefix": "del ",
     "library": "var_list.py",
     "varRefreshCmd": "print(var_dic_list())"
    },
    "r": {
     "delete_cmd_postfix": ") ",
     "delete_cmd_prefix": "rm(",
     "library": "var_list.r",
     "varRefreshCmd": "cat(var_dic_list()) "
    }
   },
   "position": {
    "height": "459px",
    "left": "913.2px",
    "right": "20px",
    "top": "120px",
    "width": "350px"
   },
   "types_to_exclude": [
    "module",
    "function",
    "builtin_function_or_method",
    "instance",
    "_Feature"
   ],
   "window_display": false
  }
 },
 "nbformat": 4,
 "nbformat_minor": 4
}

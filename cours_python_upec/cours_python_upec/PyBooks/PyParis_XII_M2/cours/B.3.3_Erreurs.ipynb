{
 "cells": [
  {
   "cell_type": "markdown",
   "metadata": {},
   "source": [
    "<br>\n",
    "<div align=\"right\">Enseignant : Aric Wizenberg</div>\n",
    "<div align=\"right\">E-mail : icarwiz@yahoo.fr</div>\n",
    "<div align=\"right\">Année : 2018/2019</div><br><br><br>\n",
    "<div align=\"center\"><span style=\"font-family:Lucida Caligraphy;font-size:32px;color:darkgreen\">Master 2 MASERATI - Cours de Python</span></div><br><br>\n",
    "<div align=\"center\"><span style=\"font-family:Lucida Caligraphy;font-size:24px;color:#e60000\">Gestion d’erreurs</span></div><br><br>\n",
    "<hr>"
   ]
  },
  {
   "cell_type": "markdown",
   "metadata": {},
   "source": [
    "# Types d'erreur"
   ]
  },
  {
   "cell_type": "markdown",
   "metadata": {
    "run_control": {
     "marked": false
    }
   },
   "source": [
    "## Erreurs syntaxiques (syntax errors)"
   ]
  },
  {
   "cell_type": "markdown",
   "metadata": {},
   "source": [
    "Les erreurs syntaxiques sont des erreurs dues à des problèmes de rédaction du code"
   ]
  },
  {
   "cell_type": "code",
   "execution_count": 1,
   "metadata": {
    "ExecuteTime": {
     "end_time": "2019-01-17T09:47:10.434418Z",
     "start_time": "2019-01-17T09:47:10.430426Z"
    }
   },
   "outputs": [
    {
     "ename": "SyntaxError",
     "evalue": "invalid syntax (<ipython-input-1-1a19491d70de>, line 3)",
     "output_type": "error",
     "traceback": [
      "\u001b[1;36m  File \u001b[1;32m\"<ipython-input-1-1a19491d70de>\"\u001b[1;36m, line \u001b[1;32m3\u001b[0m\n\u001b[1;33m    for :\u001b[0m\n\u001b[1;37m        ^\u001b[0m\n\u001b[1;31mSyntaxError\u001b[0m\u001b[1;31m:\u001b[0m invalid syntax\n"
     ]
    }
   ],
   "source": [
    "a = 2\n",
    "if a != 2:\n",
    "    for :"
   ]
  },
  {
   "cell_type": "markdown",
   "metadata": {},
   "source": [
    "Va a señalar donde esta el error con un \"^\""
   ]
  },
  {
   "cell_type": "code",
   "execution_count": 2,
   "metadata": {
    "ExecuteTime": {
     "end_time": "2019-01-17T09:49:28.112760Z",
     "start_time": "2019-01-17T09:49:28.108773Z"
    }
   },
   "outputs": [
    {
     "ename": "IndentationError",
     "evalue": "unexpected indent (<ipython-input-2-2919218bd3e8>, line 2)",
     "output_type": "error",
     "traceback": [
      "\u001b[1;36m  File \u001b[1;32m\"<ipython-input-2-2919218bd3e8>\"\u001b[1;36m, line \u001b[1;32m2\u001b[0m\n\u001b[1;33m    b = 2\u001b[0m\n\u001b[1;37m    ^\u001b[0m\n\u001b[1;31mIndentationError\u001b[0m\u001b[1;31m:\u001b[0m unexpected indent\n"
     ]
    }
   ],
   "source": [
    "a = 1\n",
    "    b = 2"
   ]
  },
  {
   "cell_type": "markdown",
   "metadata": {},
   "source": [
    "Ces erreurs sont vérifiées avant l'exécution d'une cellule de code et empêchent totalement l'exécution de l'ensemble de la cellule. \n",
    "\n",
    "Python les annonce sous le nom **SyntaxError** (ou autres erreurs héritées comme **IndentationError**)\n",
    "\n",
    "Ce sont les erreurs les moins problématiques, elles sont faciles à régler."
   ]
  },
  {
   "cell_type": "markdown",
   "metadata": {},
   "source": [
    "## Erreurs d'exécution (runtime errors)"
   ]
  },
  {
   "cell_type": "markdown",
   "metadata": {},
   "source": [
    "Ces erreurs sont vérifiées **en cours d'exécution** d'une cellule de code (qui se fait ligne après ligne) et interrompent l'exécution de la cellule, à la ligne où se manifeste l'erreur. En revanche, **toutes les étapes précédant l'erreur sont effectivement exécutées**."
   ]
  },
  {
   "cell_type": "code",
   "execution_count": 3,
   "metadata": {
    "ExecuteTime": {
     "end_time": "2019-01-17T09:49:59.787101Z",
     "start_time": "2019-01-17T09:49:59.685374Z"
    }
   },
   "outputs": [
    {
     "ename": "TypeError",
     "evalue": "unsupported operand type(s) for +: 'int' and 'str'",
     "output_type": "error",
     "traceback": [
      "\u001b[1;31m---------------------------------------------------------------------------\u001b[0m",
      "\u001b[1;31mTypeError\u001b[0m                                 Traceback (most recent call last)",
      "\u001b[1;32m<ipython-input-3-410d5cad53eb>\u001b[0m in \u001b[0;36m<module>\u001b[1;34m\u001b[0m\n\u001b[0;32m      1\u001b[0m \u001b[0mma_chaine\u001b[0m \u001b[1;33m=\u001b[0m \u001b[1;34m'Valeur=15'\u001b[0m\u001b[1;33m\u001b[0m\u001b[1;33m\u001b[0m\u001b[0m\n\u001b[0;32m      2\u001b[0m \u001b[0mma_valeur\u001b[0m \u001b[1;33m=\u001b[0m \u001b[0mma_chaine\u001b[0m\u001b[1;33m.\u001b[0m\u001b[0msplit\u001b[0m\u001b[1;33m(\u001b[0m\u001b[1;34m'='\u001b[0m\u001b[1;33m)\u001b[0m\u001b[1;33m[\u001b[0m\u001b[1;36m1\u001b[0m\u001b[1;33m]\u001b[0m\u001b[1;33m\u001b[0m\u001b[1;33m\u001b[0m\u001b[0m\n\u001b[1;32m----> 3\u001b[1;33m \u001b[0mresultat\u001b[0m \u001b[1;33m=\u001b[0m \u001b[1;36m20\u001b[0m \u001b[1;33m+\u001b[0m \u001b[0mma_valeur\u001b[0m\u001b[1;33m\u001b[0m\u001b[1;33m\u001b[0m\u001b[0m\n\u001b[0m",
      "\u001b[1;31mTypeError\u001b[0m: unsupported operand type(s) for +: 'int' and 'str'"
     ]
    }
   ],
   "source": [
    "ma_chaine = 'Valeur=15'\n",
    "ma_valeur = ma_chaine.split('=')[1]\n",
    "resultat = 20 + ma_valeur"
   ]
  },
  {
   "cell_type": "markdown",
   "metadata": {},
   "source": [
    "Va a dar error porque a une chaine de caractere no le puedo sumar un entero.cA diferencia de los anteriores; todas las lineas hasta que llego al error fueron ejecutadas (ma_chaine y ma_valeur se crearon). No se prensentan igual que los errores de sintaxis."
   ]
  },
  {
   "cell_type": "code",
   "execution_count": 4,
   "metadata": {
    "ExecuteTime": {
     "end_time": "2019-01-17T09:52:22.568045Z",
     "start_time": "2019-01-17T09:52:22.558109Z"
    }
   },
   "outputs": [
    {
     "data": {
      "text/plain": [
       "'15'"
      ]
     },
     "execution_count": 4,
     "metadata": {},
     "output_type": "execute_result"
    }
   ],
   "source": [
    "ma_valeur"
   ]
  },
  {
   "cell_type": "code",
   "execution_count": 5,
   "metadata": {
    "ExecuteTime": {
     "end_time": "2019-01-17T09:52:24.051184Z",
     "start_time": "2019-01-17T09:52:24.043206Z"
    }
   },
   "outputs": [
    {
     "ename": "NameError",
     "evalue": "name 'resultat' is not defined",
     "output_type": "error",
     "traceback": [
      "\u001b[1;31m---------------------------------------------------------------------------\u001b[0m",
      "\u001b[1;31mNameError\u001b[0m                                 Traceback (most recent call last)",
      "\u001b[1;32m<ipython-input-5-0b076df26e73>\u001b[0m in \u001b[0;36m<module>\u001b[1;34m\u001b[0m\n\u001b[1;32m----> 1\u001b[1;33m \u001b[0mresultat\u001b[0m\u001b[1;33m\u001b[0m\u001b[1;33m\u001b[0m\u001b[0m\n\u001b[0m",
      "\u001b[1;31mNameError\u001b[0m: name 'resultat' is not defined"
     ]
    }
   ],
   "source": [
    "resultat"
   ]
  },
  {
   "cell_type": "markdown",
   "metadata": {},
   "source": [
    "D'ailleurs, le fait que le cellule de code s'exécute sans provoquer d'erreur :\n",
    "- Prouve qu'il n'y a pas d'erreurs de syntaxe\n",
    "- Mais ne prouve aucunement qu'il ne se cache aucune erreur d'exécution..."
   ]
  },
  {
   "cell_type": "code",
   "execution_count": 6,
   "metadata": {
    "ExecuteTime": {
     "end_time": "2019-01-17T09:52:40.132975Z",
     "start_time": "2019-01-17T09:52:40.129943Z"
    }
   },
   "outputs": [],
   "source": [
    "a = 4"
   ]
  },
  {
   "cell_type": "code",
   "execution_count": 7,
   "metadata": {
    "ExecuteTime": {
     "end_time": "2019-01-17T09:52:43.109088Z",
     "start_time": "2019-01-17T09:52:43.104139Z"
    }
   },
   "outputs": [
    {
     "name": "stdout",
     "output_type": "stream",
     "text": [
      "333.3333333333333\n"
     ]
    }
   ],
   "source": [
    "a -= 1\n",
    "print(1000/a)"
   ]
  },
  {
   "cell_type": "markdown",
   "metadata": {},
   "source": [
    "Dans la cellule de code précédente il y a une erreur d'exécution potentielle évidente. Mais la cellule s'exécute pourtant une première fois sans provoquer d'erreur, cette erreur peut n'arriver que dans certains cas précis (ici, si l'on relance plusieurs fois la cellule)"
   ]
  },
  {
   "cell_type": "markdown",
   "metadata": {},
   "source": [
    "Python annonce les erreurs, qu'elles soient syntaxiques ou à l'exécution, sous un nom du type *NomdErreurError* (par exemple ZeroDivisionError, NameError, IndexError...). \n",
    "\n",
    "Le programmeur peut en outre créer de nouvelles erreurs (qui sont en réalité des classes).\n",
    "\n",
    "En Python, les deux premières lignes de présentation des erreurs sont très différentes entre les **runtime** et les **syntax** errors, apprenez à les distinguer."
   ]
  },
  {
   "cell_type": "markdown",
   "metadata": {},
   "source": [
    "<div class=\"alert alert-block alert-info\"><b>Pour aller plus loin :</b> <a href=https://docs.python.org/3/library/exceptions.html> Doc officielle présentant les <b>exceptions en Python</b></a></div>"
   ]
  },
  {
   "cell_type": "markdown",
   "metadata": {},
   "source": [
    "## Erreurs de logique (semantic errors)"
   ]
  },
  {
   "cell_type": "markdown",
   "metadata": {},
   "source": [
    "Ce sont toutes les erreurs qui sont sans lien avec le langage de programmation, mais qui sont dues à des erreurs de conception logique du programme\n",
    "\n",
    "Imaginons que je fasse une fonction qui renvoie le cube d'une valeur, définie ainsi :"
   ]
  },
  {
   "cell_type": "code",
   "execution_count": 1,
   "metadata": {
    "ExecuteTime": {
     "end_time": "2019-02-16T17:38:55.232323Z",
     "start_time": "2019-02-16T17:38:55.212452Z"
    }
   },
   "outputs": [],
   "source": [
    "def cube(x):\n",
    "    return x*x"
   ]
  },
  {
   "cell_type": "code",
   "execution_count": 2,
   "metadata": {
    "ExecuteTime": {
     "end_time": "2019-02-16T17:38:56.192101Z",
     "start_time": "2019-02-16T17:38:56.172472Z"
    }
   },
   "outputs": [
    {
     "data": {
      "text/plain": [
       "4"
      ]
     },
     "execution_count": 2,
     "metadata": {},
     "output_type": "execute_result"
    }
   ],
   "source": [
    "cube(2)"
   ]
  },
  {
   "cell_type": "markdown",
   "metadata": {},
   "source": [
    "Ces erreurs ne sont pas vérifiables directement par Python, il ne les détecte pas. \n",
    "\n",
    "Il ne tient qu'au programmeur de vérifier qu'il n'y a pas d'erreur sémantique.\n",
    "\n",
    "Ce sont les erreurs les plus embêtantes..."
   ]
  },
  {
   "cell_type": "markdown",
   "metadata": {},
   "source": [
    "# Traitement des erreurs"
   ]
  },
  {
   "cell_type": "markdown",
   "metadata": {},
   "source": [
    "## Bloc try / except"
   ]
  },
  {
   "cell_type": "markdown",
   "metadata": {},
   "source": [
    "Il ne faut pas avoir peur des erreurs, elles peuvent même être utilisées pour devenir des outils\n",
    "\n",
    "Les erreurs peuvent être traités pour fonctionner comme des blocs **if** **elif** **else**\n",
    "\n",
    "On utilise le mot clé **try** pour **tester** une instruction, et organiser la réaction à des erreurs spécifiques provoquées par cette instruction, chaque bloc de cas d'erreur étant traité avec le mot-clé **except**."
   ]
  },
  {
   "cell_type": "code",
   "execution_count": 3,
   "metadata": {
    "ExecuteTime": {
     "end_time": "2019-02-16T17:43:40.792108Z",
     "start_time": "2019-02-16T17:43:40.771959Z"
    }
   },
   "outputs": [],
   "source": [
    "liste_nombres = [0.1, 0.01, 0.001, '0.0001', 0.00001, 0]"
   ]
  },
  {
   "cell_type": "code",
   "execution_count": 4,
   "metadata": {
    "ExecuteTime": {
     "end_time": "2019-02-16T17:43:41.731378Z",
     "start_time": "2019-02-16T17:43:41.722310Z"
    },
    "code_folding": []
   },
   "outputs": [],
   "source": [
    "def ma_fonction(liste_nombres):\n",
    "    for elem in liste_nombres:\n",
    "        resultat = 1/elem\n",
    "        print('{:.1f}'.format(resultat))"
   ]
  },
  {
   "cell_type": "code",
   "execution_count": 5,
   "metadata": {
    "ExecuteTime": {
     "end_time": "2019-02-16T17:43:42.522153Z",
     "start_time": "2019-02-16T17:43:42.415133Z"
    },
    "code_folding": [],
    "scrolled": true
   },
   "outputs": [
    {
     "name": "stdout",
     "output_type": "stream",
     "text": [
      "10.0\n",
      "100.0\n",
      "1000.0\n"
     ]
    },
    {
     "ename": "TypeError",
     "evalue": "unsupported operand type(s) for /: 'int' and 'str'",
     "output_type": "error",
     "traceback": [
      "\u001b[1;31m---------------------------------------------------------------------------\u001b[0m",
      "\u001b[1;31mTypeError\u001b[0m                                 Traceback (most recent call last)",
      "\u001b[1;32m<ipython-input-5-0e98fe43d652>\u001b[0m in \u001b[0;36m<module>\u001b[1;34m\u001b[0m\n\u001b[1;32m----> 1\u001b[1;33m \u001b[0mma_fonction\u001b[0m\u001b[1;33m(\u001b[0m\u001b[0mliste_nombres\u001b[0m\u001b[1;33m)\u001b[0m\u001b[1;33m\u001b[0m\u001b[1;33m\u001b[0m\u001b[0m\n\u001b[0m",
      "\u001b[1;32m<ipython-input-4-c3d0e0b23ff2>\u001b[0m in \u001b[0;36mma_fonction\u001b[1;34m(liste_nombres)\u001b[0m\n\u001b[0;32m      1\u001b[0m \u001b[1;32mdef\u001b[0m \u001b[0mma_fonction\u001b[0m\u001b[1;33m(\u001b[0m\u001b[0mliste_nombres\u001b[0m\u001b[1;33m)\u001b[0m\u001b[1;33m:\u001b[0m\u001b[1;33m\u001b[0m\u001b[1;33m\u001b[0m\u001b[0m\n\u001b[0;32m      2\u001b[0m     \u001b[1;32mfor\u001b[0m \u001b[0melem\u001b[0m \u001b[1;32min\u001b[0m \u001b[0mliste_nombres\u001b[0m\u001b[1;33m:\u001b[0m\u001b[1;33m\u001b[0m\u001b[1;33m\u001b[0m\u001b[0m\n\u001b[1;32m----> 3\u001b[1;33m         \u001b[0mresultat\u001b[0m \u001b[1;33m=\u001b[0m \u001b[1;36m1\u001b[0m\u001b[1;33m/\u001b[0m\u001b[0melem\u001b[0m\u001b[1;33m\u001b[0m\u001b[1;33m\u001b[0m\u001b[0m\n\u001b[0m\u001b[0;32m      4\u001b[0m         \u001b[0mprint\u001b[0m\u001b[1;33m(\u001b[0m\u001b[1;34m'{:.1f}'\u001b[0m\u001b[1;33m.\u001b[0m\u001b[0mformat\u001b[0m\u001b[1;33m(\u001b[0m\u001b[0mresultat\u001b[0m\u001b[1;33m)\u001b[0m\u001b[1;33m)\u001b[0m\u001b[1;33m\u001b[0m\u001b[1;33m\u001b[0m\u001b[0m\n",
      "\u001b[1;31mTypeError\u001b[0m: unsupported operand type(s) for /: 'int' and 'str'"
     ]
    }
   ],
   "source": [
    "ma_fonction(liste_nombres)"
   ]
  },
  {
   "cell_type": "code",
   "execution_count": 6,
   "metadata": {
    "ExecuteTime": {
     "end_time": "2019-02-16T17:43:45.032119Z",
     "start_time": "2019-02-16T17:43:45.022035Z"
    }
   },
   "outputs": [],
   "source": [
    "def ma_fonction(liste_nombres):\n",
    "    for elem in liste_nombres:\n",
    "        try:\n",
    "            resultat = 1/elem\n",
    "        except TypeError:\n",
    "            resultat = 1/float(elem)\n",
    "        print('{:.1f}'.format(resultat))"
   ]
  },
  {
   "cell_type": "code",
   "execution_count": 7,
   "metadata": {
    "ExecuteTime": {
     "end_time": "2019-02-16T17:43:46.131896Z",
     "start_time": "2019-02-16T17:43:46.102040Z"
    }
   },
   "outputs": [
    {
     "name": "stdout",
     "output_type": "stream",
     "text": [
      "10.0\n",
      "100.0\n",
      "1000.0\n",
      "10000.0\n",
      "100000.0\n"
     ]
    },
    {
     "ename": "ZeroDivisionError",
     "evalue": "division by zero",
     "output_type": "error",
     "traceback": [
      "\u001b[1;31m---------------------------------------------------------------------------\u001b[0m",
      "\u001b[1;31mZeroDivisionError\u001b[0m                         Traceback (most recent call last)",
      "\u001b[1;32m<ipython-input-7-0e98fe43d652>\u001b[0m in \u001b[0;36m<module>\u001b[1;34m\u001b[0m\n\u001b[1;32m----> 1\u001b[1;33m \u001b[0mma_fonction\u001b[0m\u001b[1;33m(\u001b[0m\u001b[0mliste_nombres\u001b[0m\u001b[1;33m)\u001b[0m\u001b[1;33m\u001b[0m\u001b[1;33m\u001b[0m\u001b[0m\n\u001b[0m",
      "\u001b[1;32m<ipython-input-6-5fb1a3e7a8b0>\u001b[0m in \u001b[0;36mma_fonction\u001b[1;34m(liste_nombres)\u001b[0m\n\u001b[0;32m      2\u001b[0m     \u001b[1;32mfor\u001b[0m \u001b[0melem\u001b[0m \u001b[1;32min\u001b[0m \u001b[0mliste_nombres\u001b[0m\u001b[1;33m:\u001b[0m\u001b[1;33m\u001b[0m\u001b[1;33m\u001b[0m\u001b[0m\n\u001b[0;32m      3\u001b[0m         \u001b[1;32mtry\u001b[0m\u001b[1;33m:\u001b[0m\u001b[1;33m\u001b[0m\u001b[1;33m\u001b[0m\u001b[0m\n\u001b[1;32m----> 4\u001b[1;33m             \u001b[0mresultat\u001b[0m \u001b[1;33m=\u001b[0m \u001b[1;36m1\u001b[0m\u001b[1;33m/\u001b[0m\u001b[0melem\u001b[0m\u001b[1;33m\u001b[0m\u001b[1;33m\u001b[0m\u001b[0m\n\u001b[0m\u001b[0;32m      5\u001b[0m         \u001b[1;32mexcept\u001b[0m \u001b[0mTypeError\u001b[0m\u001b[1;33m:\u001b[0m\u001b[1;33m\u001b[0m\u001b[1;33m\u001b[0m\u001b[0m\n\u001b[0;32m      6\u001b[0m             \u001b[0mresultat\u001b[0m \u001b[1;33m=\u001b[0m \u001b[1;36m1\u001b[0m\u001b[1;33m/\u001b[0m\u001b[0mfloat\u001b[0m\u001b[1;33m(\u001b[0m\u001b[0melem\u001b[0m\u001b[1;33m)\u001b[0m\u001b[1;33m\u001b[0m\u001b[1;33m\u001b[0m\u001b[0m\n",
      "\u001b[1;31mZeroDivisionError\u001b[0m: division by zero"
     ]
    }
   ],
   "source": [
    "ma_fonction(liste_nombres)"
   ]
  },
  {
   "cell_type": "code",
   "execution_count": 8,
   "metadata": {
    "ExecuteTime": {
     "end_time": "2019-02-16T17:43:54.832102Z",
     "start_time": "2019-02-16T17:43:54.822330Z"
    }
   },
   "outputs": [],
   "source": [
    "def ma_fonction(liste_nombres):\n",
    "    for elem in liste_nombres:\n",
    "        try:\n",
    "            resultat = 1/elem     \n",
    "        except TypeError:\n",
    "            resultat = 1/float(elem)\n",
    "        except ZeroDivisionError:\n",
    "            resultat = 999999999999\n",
    "        print('{:.1f}'.format(resultat))"
   ]
  },
  {
   "cell_type": "code",
   "execution_count": 9,
   "metadata": {
    "ExecuteTime": {
     "end_time": "2019-02-16T17:44:04.545891Z",
     "start_time": "2019-02-16T17:44:04.531968Z"
    }
   },
   "outputs": [
    {
     "name": "stdout",
     "output_type": "stream",
     "text": [
      "10.0\n",
      "100.0\n",
      "1000.0\n",
      "10000.0\n",
      "100000.0\n",
      "999999999999.0\n"
     ]
    }
   ],
   "source": [
    "ma_fonction(liste_nombres)"
   ]
  },
  {
   "cell_type": "markdown",
   "metadata": {},
   "source": [
    "## Finally et else"
   ]
  },
  {
   "cell_type": "markdown",
   "metadata": {},
   "source": [
    "On peut aussi ajouter deux autres sous-parties dans un bloc **try** : \n",
    "- **else** qui s'exécute lorsqu'**aucune erreur** n'est survenue dans le bloc try (et que donc aucune erreur n'est arrivée)\n",
    "- **finally** qui s'exécute **quoiqu'il advienne**, s'il n'y a pas eu d'erreur, ou s'il y en a eu une. Elle est souvent utilisée pour faire du nettoyage"
   ]
  },
  {
   "cell_type": "code",
   "execution_count": null,
   "metadata": {},
   "outputs": [],
   "source": [
    "chemin_fichier = '../data/epicerie_94000.html'"
   ]
  },
  {
   "cell_type": "code",
   "execution_count": null,
   "metadata": {},
   "outputs": [],
   "source": [
    "with open(chemin_fichier, encoding='utf-8') as srcfile:\n",
    "    contenu = srcfile.read()\n",
    "    print(contenu[:100])"
   ]
  },
  {
   "cell_type": "code",
   "execution_count": null,
   "metadata": {},
   "outputs": [],
   "source": [
    "def lire_fichier(chemin_fichier):\n",
    "    try:\n",
    "        with open(chemin_fichier, encoding='utf-8') as srcfile:\n",
    "            contenu = srcfile.read()\n",
    "    except UnicodeDecodeError:\n",
    "        with open(chemin_fichier, encoding='ansi') as srcfile:\n",
    "            contenu = srcfile.read()        \n",
    "        print('Ce fichier n\\'est pas en UTF-8, essayons un décodage ANSI...')\n",
    "    else:\n",
    "        print('Ce fichier semble être en UTF-8...')\n",
    "    finally:\n",
    "        print(contenu[:100])\n",
    "    \n",
    "    return contenu"
   ]
  },
  {
   "cell_type": "code",
   "execution_count": null,
   "metadata": {},
   "outputs": [],
   "source": [
    "contenu = lire_fichier(chemin_fichier)"
   ]
  },
  {
   "cell_type": "markdown",
   "metadata": {},
   "source": [
    "<div class=\"alert alert-block alert-info\"><b>Pour aller plus loin :</b> <a href=https://docs.python.org/3/reference/compound_stmts.html#try> Doc officielle sur les <b>blocs de traitement des erreurs</b></a></div>"
   ]
  },
  {
   "cell_type": "markdown",
   "metadata": {},
   "source": [
    "## Déclencher une erreur : raise"
   ]
  },
  {
   "cell_type": "markdown",
   "metadata": {},
   "source": [
    "Le mot-clé réservé **raise** permet de **provoquer** volontairement une erreur, généralement en réponse à un test dont la réponse pose problème.\n",
    "\n",
    "Par exemple, lorsque l'on développe, on peut se retrouver dans la situation de coder une alternative dont l'un des cas, on le sait d'avance, va être long à coder et risque de poser problème. Dans ce cas, plutôt que de laisser un trou dans votre code, on peut utiliser un raise NotImplementedError"
   ]
  },
  {
   "cell_type": "code",
   "execution_count": null,
   "metadata": {},
   "outputs": [],
   "source": [
    "liste_nombres = [0.1, 0.01, 0.001, '0A0001', 0.00001, 0]"
   ]
  },
  {
   "cell_type": "code",
   "execution_count": null,
   "metadata": {},
   "outputs": [],
   "source": [
    "ma_fonction(liste_nombres)"
   ]
  },
  {
   "cell_type": "code",
   "execution_count": null,
   "metadata": {},
   "outputs": [],
   "source": [
    "def ma_fonction(liste_nombres):\n",
    "    for elem in liste_nombres:\n",
    "        try:\n",
    "            resultat = 1/elem\n",
    "        except TypeError:\n",
    "            try:\n",
    "                resultat = f'{1/float(elem):.1f}'\n",
    "            except ValueError:\n",
    "                # TODO : ajouter traitement des cas où la chaine n'est pas un nombre\n",
    "                raise NotImplementedError('Chaine de caractère qui n\\'est pas un nombre')\n",
    "        except ZeroDivisionError:\n",
    "            resultat = f'{1/0.0000000000001:.1f}'\n",
    "        print('{:.1f}'.format(resultat))"
   ]
  },
  {
   "cell_type": "code",
   "execution_count": null,
   "metadata": {},
   "outputs": [],
   "source": [
    "ma_fonction(liste_nombres)"
   ]
  },
  {
   "cell_type": "markdown",
   "metadata": {},
   "source": [
    "# Les tests de contrôle : assert"
   ]
  },
  {
   "cell_type": "markdown",
   "metadata": {},
   "source": [
    "Il existe enfin un équivalent de raise, il est généralement utilisé pour faire du **débogage** pendant la phase de développement d'un programme en Python\n",
    "\n",
    "Il s'agit de l'instruction \n",
    "```python\n",
    "assert condition[, message] # la partie message est optionnelle\n",
    "```\n",
    "Cette instruction ne produit aucun résultat si la condition est vraie, par contre, elle entraine une **AssertionError** (et renvoie éventuellement un message) si la condition n'est pas vérifiée."
   ]
  },
  {
   "cell_type": "markdown",
   "metadata": {},
   "source": [
    "Elle permet de faire des tests de bon fonctionnement de fonctions, ce qui permet donc de déceler les **erreurs sémantiques**. Si nous avions écrit un test, l'erreur de logique précédemment vue aurait été repérée."
   ]
  },
  {
   "cell_type": "code",
   "execution_count": null,
   "metadata": {},
   "outputs": [],
   "source": [
    "def cube(x):\n",
    "    return x*x\n",
    "\n",
    "assert cube(5) == 125"
   ]
  },
  {
   "cell_type": "markdown",
   "metadata": {},
   "source": [
    "Ceci est un exemple bien sûr caricatural, mais les tests peuvent être extrêment utiles et servir à s'assurer tout au long du processus de programmation qu'une fonction conserve constamment ses propriétés. Il existe en outre des modules pour faire des tests plus élaborés (modules **unittest** et **doctest**)"
   ]
  },
  {
   "cell_type": "markdown",
   "metadata": {},
   "source": [
    "<div class=\"alert alert-block alert-info\"><b>Pour aller plus loin :</b> <br>\n",
    "<a href=https://www.obeythetestinggoat.com/> Obey the testing goat</a> ! Excellent livre en libre accès portant sur l'utilisation avancée de <b>tests</b> en phase de développement<br>\n",
    "<a href=https://docs.python.org/3/library/doctest.html> Doc officielle sur le module <b>doctest</b></a><br>\n",
    "<a href=https://docs.python.org/3/library/unittest.html> Doc officielle sur le module <b>unittest</b></a><br>\n",
    "</div>"
   ]
  },
  {
   "cell_type": "markdown",
   "metadata": {},
   "source": [
    "On peut aussi utiliser assert pour d'autres tests utiles, par exemple pour tester la version d'un module :"
   ]
  },
  {
   "cell_type": "code",
   "execution_count": null,
   "metadata": {},
   "outputs": [],
   "source": [
    "import pandas as pd"
   ]
  },
  {
   "cell_type": "code",
   "execution_count": null,
   "metadata": {},
   "outputs": [],
   "source": [
    "pd.__version__"
   ]
  },
  {
   "cell_type": "code",
   "execution_count": null,
   "metadata": {},
   "outputs": [],
   "source": [
    "assert pd.__version__.startswith('0.22'), 'Mauvaise version de Pandas'"
   ]
  },
  {
   "cell_type": "markdown",
   "metadata": {},
   "source": [
    "A la différence des **raise**, les **assert** peuvent être désactivés lors de l'exécution d'un script Python"
   ]
  },
  {
   "cell_type": "markdown",
   "metadata": {},
   "source": [
    "# Remarques sur les Warnings"
   ]
  },
  {
   "cell_type": "markdown",
   "metadata": {},
   "source": [
    "En plus des Erreurs, il existe des **Warnings**, qui s'affichent de manière similaire aux Erreurs, mais sans interrompre l'exécution, ils ne font qu'attirer l'attention du programmeur sur un fait. \n",
    "\n",
    "Le Warning **FutureWarning** est par exemple invoqué lorsque le développeur d'un module veut informer les utilisateurs de son module qu'une modification à venir de son module pourrait poser problème au vu de ce que fait l'utilisateur. \n",
    "\n",
    "Par exemple, un argument facultatif d'une fonction est prévu pour changer, et l'utilisateur ne spécifie pas cette valeur lors de l'appel à cette fonction, le résultat de son appel risque donc de changer...\n",
    "\n",
    "Nous en croiserons quelques-uns plus tard.\n",
    "\n",
    "Les warnings peuvent être désactivés en utilisant le module **warnings**"
   ]
  },
  {
   "cell_type": "markdown",
   "metadata": {},
   "source": [
    "<div class=\"alert alert-block alert-info\"><b>Pour aller plus loin :</b><br>\n",
    "<a href=https://docs.python.org/3/library/warnings.html> Doc officielle sur le module<b> warnings</b></a><br>\n",
    "<a href=https://docs.python.org/3/library/exceptions.html#exception-hierarchy> Doc officielle présentant la liste des <b>exceptions et avertissements natifs de Python</b></a></div>"
   ]
  }
 ],
 "metadata": {
  "kernelspec": {
   "display_name": "Python 3",
   "language": "python",
   "name": "python3"
  },
  "language_info": {
   "codemirror_mode": {
    "name": "ipython",
    "version": 3
   },
   "file_extension": ".py",
   "mimetype": "text/x-python",
   "name": "python",
   "nbconvert_exporter": "python",
   "pygments_lexer": "ipython3",
   "version": "3.7.1"
  },
  "toc": {
   "base_numbering": 1,
   "nav_menu": {
    "height": "512px",
    "width": "252px"
   },
   "number_sections": true,
   "sideBar": true,
   "skip_h1_title": false,
   "title_cell": "Table of Contents",
   "title_sidebar": "Contents",
   "toc_cell": false,
   "toc_position": {
    "height": "660px",
    "left": "0px",
    "right": "1328px",
    "top": "107px",
    "width": "186px"
   },
   "toc_section_display": "block",
   "toc_window_display": true
  },
  "varInspector": {
   "cols": {
    "lenName": 16,
    "lenType": 16,
    "lenVar": 40
   },
   "kernels_config": {
    "python": {
     "delete_cmd_postfix": "",
     "delete_cmd_prefix": "del ",
     "library": "var_list.py",
     "varRefreshCmd": "print(var_dic_list())"
    },
    "r": {
     "delete_cmd_postfix": ") ",
     "delete_cmd_prefix": "rm(",
     "library": "var_list.r",
     "varRefreshCmd": "cat(var_dic_list()) "
    }
   },
   "position": {
    "height": "144px",
    "left": "913.2px",
    "right": "20px",
    "top": "116px",
    "width": "350px"
   },
   "types_to_exclude": [
    "module",
    "function",
    "builtin_function_or_method",
    "instance",
    "_Feature"
   ],
   "window_display": false
  }
 },
 "nbformat": 4,
 "nbformat_minor": 2
}

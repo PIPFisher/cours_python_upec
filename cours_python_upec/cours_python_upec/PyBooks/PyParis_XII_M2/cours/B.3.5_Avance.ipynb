{
 "cells": [
  {
   "cell_type": "markdown",
   "metadata": {},
   "source": [
    "<br>\n",
    "<div align=\"right\">Enseignant : Aric Wizenberg</div>\n",
    "<div align=\"right\">E-mail : icarwiz@yahoo.fr</div>\n",
    "<div align=\"right\">Année : 2018/2019</div><br><br><br>\n",
    "<div align=\"center\"><span style=\"font-family:Lucida Caligraphy;font-size:32px;color:darkgreen\">Master 2 MASERATI - Cours de Python</span></div><br><br>\n",
    "<div align=\"center\"><span style=\"font-family:Lucida Caligraphy;font-size:24px;color:#e60000\">Techniques avancées</span></div><br><br>\n",
    "<hr>"
   ]
  },
  {
   "cell_type": "markdown",
   "metadata": {},
   "source": [
    "# if condensé et list/dict comprehension"
   ]
  },
  {
   "cell_type": "markdown",
   "metadata": {},
   "source": [
    "## Bloc if simple condensé"
   ]
  },
  {
   "cell_type": "markdown",
   "metadata": {},
   "source": [
    "Un bloc **if else** simple (sans **elif**) peut être résumé en une ligne"
   ]
  },
  {
   "cell_type": "code",
   "execution_count": null,
   "metadata": {},
   "outputs": [],
   "source": [
    "nombre_eleves = 24"
   ]
  },
  {
   "cell_type": "markdown",
   "metadata": {},
   "source": [
    "Un bloc if else simple :"
   ]
  },
  {
   "cell_type": "code",
   "execution_count": null,
   "metadata": {},
   "outputs": [],
   "source": [
    "if nombre_eleves > 30:\n",
    "    cate = 'Grosse classe'\n",
    "else:\n",
    "    cate = 'Petite classe'\n",
    "\n",
    "cate"
   ]
  },
  {
   "cell_type": "markdown",
   "metadata": {},
   "source": [
    "Peut être abrégé ainsi :"
   ]
  },
  {
   "cell_type": "code",
   "execution_count": null,
   "metadata": {},
   "outputs": [],
   "source": [
    "cate = 'Grosse classe' if nombre_eleves > 30 else 'Petite classe'\n",
    "cate"
   ]
  },
  {
   "cell_type": "markdown",
   "metadata": {},
   "source": [
    "## List et Dict comprehension"
   ]
  },
  {
   "cell_type": "markdown",
   "metadata": {},
   "source": [
    "La list comprehension est une représentation épurée et efficace de boucles de faible complexité.\n",
    "\n",
    "Imaginons que l'on doive appliquer une fonction **int()** pour convertir en chiffre chacun des éléments d'une liste.\n",
    "\n",
    "La solution à laquelle on pense est la suivante :"
   ]
  },
  {
   "cell_type": "code",
   "execution_count": null,
   "metadata": {},
   "outputs": [],
   "source": [
    "ma_liste = ['18', '25', '56', '85', '42']"
   ]
  },
  {
   "cell_type": "code",
   "execution_count": null,
   "metadata": {},
   "outputs": [],
   "source": [
    "ma_nouvelle_liste = []\n",
    "for elem in ma_liste:\n",
    "    ma_nouvelle_liste.append(int(elem))\n",
    "\n",
    "ma_nouvelle_liste"
   ]
  },
  {
   "cell_type": "markdown",
   "metadata": {},
   "source": [
    "Une boucle simple comme celle-ci peut être abrégée ainsi (**list comprehension**):"
   ]
  },
  {
   "cell_type": "code",
   "execution_count": null,
   "metadata": {},
   "outputs": [],
   "source": [
    "ma_nouvelle_liste = [int(elem) for elem in ma_liste]"
   ]
  },
  {
   "cell_type": "markdown",
   "metadata": {},
   "source": [
    "Il existe aussi une **dict comprehension**.\n",
    "\n",
    "Imaginons qu'on veuille faire en sorte que les keys d'un dict en devienne ses values :"
   ]
  },
  {
   "cell_type": "code",
   "execution_count": null,
   "metadata": {},
   "outputs": [],
   "source": [
    "dict_regions = {\n",
    "    'Auvergne-Rhône-Alpes': 'ARA',\n",
    "    'Bourgogne- Franche-Comté': 'BFC',\n",
    "    'Bretagne': 'BRE',\n",
    "    'Centre - Val de Loire': 'CVL',\n",
    "    'Corse': 'COR',\n",
    "    'Grand Est': 'GRE',\n",
    "    'Hauts-de-France': 'HDF',\n",
    "    'Île-de-France': 'IDF',\n",
    "    'Normandie': 'NOR',\n",
    "    'Nouvelle Aquitaine': 'NAQ',\n",
    "    'Occitanie': 'OCC',\n",
    "    'Pays de la Loire': 'PDL',\n",
    "    'Provence-Alpes-Côte d’Azur': 'PAC'\n",
    "}"
   ]
  },
  {
   "cell_type": "code",
   "execution_count": null,
   "metadata": {},
   "outputs": [],
   "source": [
    "nouv_dict_regions = {}\n",
    "for k, v in dict_regions.items():\n",
    "    nouv_dict_regions[v] = k\n",
    "\n",
    "nouv_dict_regions"
   ]
  },
  {
   "cell_type": "markdown",
   "metadata": {},
   "source": [
    "Cette structure peut être abrégée ainsi :"
   ]
  },
  {
   "cell_type": "code",
   "execution_count": null,
   "metadata": {},
   "outputs": [],
   "source": [
    "nouv_dict_regions = {v: k for k, v in dict_regions.items()}"
   ]
  },
  {
   "cell_type": "markdown",
   "metadata": {
    "ExecuteTime": {
     "end_time": "2018-01-11T17:59:47.358007Z",
     "start_time": "2018-01-11T17:59:47.351007Z"
    }
   },
   "source": [
    "Les list/dict comprehensions fonctionnent aussi avec des structures plus complexes, lorsqu'un bloc **if** est ajouté (sans else). Imaginons le cas précédent complexifié :"
   ]
  },
  {
   "cell_type": "code",
   "execution_count": null,
   "metadata": {},
   "outputs": [],
   "source": [
    "ma_liste = ['12', '38', '#N/A', '55', '42']"
   ]
  },
  {
   "cell_type": "code",
   "execution_count": null,
   "metadata": {},
   "outputs": [],
   "source": [
    "ma_nouvelle_liste = []\n",
    "for elem in ma_liste:\n",
    "    if elem != '#N/A':\n",
    "        ma_nouvelle_liste.append(int(elem))\n",
    "\n",
    "ma_nouvelle_liste"
   ]
  },
  {
   "cell_type": "markdown",
   "metadata": {},
   "source": [
    "En plus d'être une expression plus élégante et compacte qu'une boucle, elle est **souvent bien plus efficace en temps de calcul**."
   ]
  },
  {
   "cell_type": "code",
   "execution_count": null,
   "metadata": {},
   "outputs": [],
   "source": [
    "import random\n",
    "\n",
    "def myfunc():\n",
    "    return [random.randint(1, 5) for _ in range(100)]\n",
    "\n",
    "def myfunc2():\n",
    "    res = []\n",
    "    for _ in range(100):\n",
    "        res.append(random.randint(1, 5))\n",
    "    return res"
   ]
  },
  {
   "cell_type": "code",
   "execution_count": null,
   "metadata": {},
   "outputs": [],
   "source": [
    "%%timeit\n",
    "myfunc()"
   ]
  },
  {
   "cell_type": "code",
   "execution_count": null,
   "metadata": {},
   "outputs": [],
   "source": [
    "%%timeit\n",
    "myfunc2()"
   ]
  },
  {
   "cell_type": "markdown",
   "metadata": {},
   "source": [
    "<div class=\"alert alert-block alert-success\">\n",
    "<b>Important :</b> \n",
    "\n",
    "la list/dict comprehension ne peut pas fonctionner si les rangs sont **interdépendants** (s'il font référence les uns aux autres, par exemple lorsque le rang n dépend du rang n-1 par exemple)\n",
    "\n",
    "On peut observer que ce comportement est d'ailleurs le comportement naturel de SAS (qui est peu à l'aise avec les rangs interdépendants)\n",
    "\n",
    "C'est aussi un comportement similaire à ce que l'on retrouve dans la partie **map** du paradigme **map-reduce** qui est la base du **calcul parallélisé** (clé de voute des Big Data).\n",
    "</div>"
   ]
  },
  {
   "cell_type": "markdown",
   "metadata": {},
   "source": [
    "La ligne **%%timeit** n'est pas une instruction, mais une **magic** de IPython/Jupyter. Ce sont des fonctions permettant de faciliter la vie au développeur."
   ]
  },
  {
   "cell_type": "markdown",
   "metadata": {
    "ExecuteTime": {
     "end_time": "2018-09-09T18:35:23.857604Z",
     "start_time": "2018-09-09T18:35:23.826404Z"
    }
   },
   "source": [
    "<div class=\"alert alert-block alert-info\"><b><i>Pour aller plus loin :</i></b>\n",
    "<a href=https://ipython.readthedocs.io/en/stable/interactive/magics.html >Doc officielle de IPython sur les <b>magics</b></a>\n",
    "</div>"
   ]
  },
  {
   "cell_type": "markdown",
   "metadata": {},
   "source": [
    "# Fonctions lambda et map-filter"
   ]
  },
  {
   "cell_type": "markdown",
   "metadata": {},
   "source": [
    "## Fonctions lambda"
   ]
  },
  {
   "cell_type": "markdown",
   "metadata": {},
   "source": [
    "Une fonction **lambda** est une fonction résumée sur une seule ligne"
   ]
  },
  {
   "cell_type": "code",
   "execution_count": null,
   "metadata": {},
   "outputs": [],
   "source": [
    "cube = lambda x: x**2"
   ]
  },
  {
   "cell_type": "code",
   "execution_count": null,
   "metadata": {},
   "outputs": [],
   "source": [
    "cube(3)"
   ]
  },
  {
   "cell_type": "markdown",
   "metadata": {},
   "source": [
    "En réalité, cette utilisation est bizarre, en fait on n'utilise que très rarement des lambdas nommées.\n",
    "\n",
    "Les lambdas sont **généralement utilisées lors d'un passage d'une fonction en tant que paramètre d'une autre fonction**.\n",
    "\n",
    "D'ailleurs leur équivalent en Javascript s'appellent des fonctions **anonymes**"
   ]
  },
  {
   "cell_type": "markdown",
   "metadata": {},
   "source": [
    "## Fonction native map"
   ]
  },
  {
   "cell_type": "markdown",
   "metadata": {},
   "source": [
    "On appelle **mapping** le fait d'appliquer une même **fonction** à un ensemble, chaque élément de l'ensemble étant passé individuellement en paramètre.\n",
    "\n",
    "Reprenons notre exemple :"
   ]
  },
  {
   "cell_type": "code",
   "execution_count": null,
   "metadata": {},
   "outputs": [],
   "source": [
    "ma_nouvelle_liste = []\n",
    "for elem in ma_liste:\n",
    "    ma_nouvelle_liste.append(int(elem))\n",
    "\n",
    "ma_nouvelle_liste"
   ]
  },
  {
   "cell_type": "markdown",
   "metadata": {},
   "source": [
    "Cette boucle peut être réécrite ainsi :"
   ]
  },
  {
   "cell_type": "code",
   "execution_count": null,
   "metadata": {
    "scrolled": true
   },
   "outputs": [],
   "source": [
    "ma_nouvelle_liste = list(map(int, ma_liste))\n",
    "ma_nouvelle_liste"
   ]
  },
  {
   "cell_type": "markdown",
   "metadata": {},
   "source": [
    "Attention, lors d'un **mapping sur dict**, ce sont les **valeurs** qui sont passées en paramètre à la fonction"
   ]
  },
  {
   "cell_type": "code",
   "execution_count": null,
   "metadata": {},
   "outputs": [],
   "source": [
    "list(map(lambda x: 'Région %s' % x, dict_regions))"
   ]
  },
  {
   "cell_type": "markdown",
   "metadata": {},
   "source": [
    "## Fonction native filter"
   ]
  },
  {
   "cell_type": "markdown",
   "metadata": {},
   "source": [
    "La fonction **filter** quant à elle joue le rôle joué par notre **if** sans **else** de l'exemple suivant :"
   ]
  },
  {
   "cell_type": "code",
   "execution_count": null,
   "metadata": {},
   "outputs": [],
   "source": [
    "ma_liste = ['12', '38', '#N/A', '55', '42']"
   ]
  },
  {
   "cell_type": "code",
   "execution_count": null,
   "metadata": {},
   "outputs": [],
   "source": [
    "ma_nouvelle_liste = []\n",
    "for elem in ma_liste:\n",
    "    if elem != '#N/A':\n",
    "        ma_nouvelle_liste.append(elem)\n",
    "\n",
    "ma_nouvelle_liste"
   ]
  },
  {
   "cell_type": "code",
   "execution_count": null,
   "metadata": {},
   "outputs": [],
   "source": [
    "ma_nouvelle_liste = list(filter(lambda x: x != '#N/A', ma_liste))\n",
    "ma_nouvelle_liste"
   ]
  },
  {
   "cell_type": "markdown",
   "metadata": {},
   "source": [
    "Les deux peuvent être combinées"
   ]
  },
  {
   "cell_type": "code",
   "execution_count": null,
   "metadata": {},
   "outputs": [],
   "source": [
    "ma_liste_mapfiltree = map(int, filter(lambda x: x != '#N/A', ma_liste))\n",
    "list(ma_liste_mapfiltree)"
   ]
  },
  {
   "cell_type": "markdown",
   "metadata": {},
   "source": [
    "# Générateurs et itérateurs"
   ]
  },
  {
   "cell_type": "markdown",
   "metadata": {},
   "source": [
    "Pourquoi **list(map())** ?\n",
    "\n",
    "Que renvoie **map()** en réalité ?"
   ]
  },
  {
   "cell_type": "code",
   "execution_count": null,
   "metadata": {},
   "outputs": [],
   "source": [
    "map(int, ma_liste)"
   ]
  },
  {
   "cell_type": "markdown",
   "metadata": {},
   "source": [
    "**map()** renvoie un **itérateur**!\n",
    "\n",
    "Un **itérateur** est un objet représentant une **fonction** à laquelle est associée des données d'entrée, fonction qui **a la capacité** à renvoyer un résultat pour un élément, puis à se mettre en suspens jusqu'à ce qu'on y fasse à nouveau appel.\n",
    "\n",
    "Analogie :\n",
    "\n",
    "C'est un peu comme lorsque vous allez voir quelqu'un qui travaille avec vous, que vous lui demandez s'il a fait le travail que vous lui aviez demandé de faire, et qu'il vous répond qu'il l'a fait...\n",
    "\n",
    "...enfin... \n",
    "\n",
    "... enfin, il a toute les données pour le faire, et il sait  exactement quoi faire... mais bon... en vrai il ne l'a pas encore fait.\n",
    "\n",
    "On peut forcer la réalisation du travail sur l'ensemble des éléments, en utilisant la conversion en **list**. Tous les calculs se font alors à ce moment.\n",
    "\n",
    "Quel est l'intérêt de tout ça?\n",
    "\n",
    "L'intérêt, c'est qu'un itérateur, lorsqu'il est utilisé dans une boucle, fait le calcul pour un seul élément à la fois, en début de boucle, ce qui peut faire une énorme différence avec certaines grosses opérations en répartissant la charge de travail de manière plus maîtrisée...\n",
    "\n",
    "On dit que la fonction native n'est pas qu'une simple fonction, c'est un **générateur**, un générateur est une fonction qui a pour valeur retournée un **itérateur**\n",
    "\n",
    "Un générateur est une fonction qui utilise le mot-clé réservé **yield** au lieu de **return** pour indiquer le moment où l'exécution du code où la fonction suspendra son exécution"
   ]
  },
  {
   "cell_type": "code",
   "execution_count": null,
   "metadata": {},
   "outputs": [],
   "source": [
    "def mon_generateur(val_base):\n",
    "    while True:\n",
    "        val_base *= val_base\n",
    "        yield val_base"
   ]
  },
  {
   "cell_type": "code",
   "execution_count": null,
   "metadata": {},
   "outputs": [],
   "source": [
    "mon_iterateur = mon_generateur(5)"
   ]
  },
  {
   "cell_type": "code",
   "execution_count": null,
   "metadata": {
    "scrolled": false
   },
   "outputs": [],
   "source": [
    "next(mon_iterateur)"
   ]
  },
  {
   "cell_type": "code",
   "execution_count": null,
   "metadata": {},
   "outputs": [],
   "source": [
    "mon_iterateur = mon_generateur(5)\n",
    "for i in range(5):\n",
    "    print(next(mon_iterateur))"
   ]
  },
  {
   "cell_type": "markdown",
   "metadata": {},
   "source": [
    "<div class=\"alert alert-block alert-info\"><b><i>Pour aller plus loin :</i></b><br>\n",
    "<a href=https://docs.python.org/3.6/library/stdtypes.html#typeiter >Doc officielle Python sur les <b>itérateurs</b></a><br>\n",
    "<a href=http://sametmax.com/comment-utiliser-yield-et-les-generateurs-en-python/ >Un très bon article du site Sam &amp; Max sur les <b>itérateurs et générateurs</b></a>\n",
    "</div>"
   ]
  },
  {
   "cell_type": "markdown",
   "metadata": {},
   "source": [
    "# Décorateurs de fonctions"
   ]
  },
  {
   "cell_type": "markdown",
   "metadata": {},
   "source": [
    "Un **décorateur** est une fonction que l'on peut appliquer à d'autres fonctions de manière à modifier leur action d'une manière ou d'une autre.\n",
    "\n",
    "Par exemple, le décorateur *timeit()*, défini ci-dessous permet de mesurer le temps d'exécution de la fonction qu'il décore"
   ]
  },
  {
   "cell_type": "code",
   "execution_count": null,
   "metadata": {},
   "outputs": [],
   "source": [
    "from datetime import datetime\n",
    "\n",
    "def timewrap():\n",
    "    \"\"\"\n",
    "    Timer\n",
    "    :return: execution time of function\n",
    "    \"\"\"\n",
    "\n",
    "    def decorate(func):\n",
    "        def call(*args, **kwargs):\n",
    "            timerstart = datetime.now()\n",
    "            result = func(*args, **kwargs)\n",
    "            timerdiff = datetime.now() - timerstart\n",
    "            print('{} - execution time : {}.{:02d} sec.'.format(func.__name__,\n",
    "                                                          timerdiff.seconds,\n",
    "                                                          (int(round(timerdiff.microseconds/1000, 0))))\n",
    "                  )\n",
    "            return result\n",
    "\n",
    "        return call\n",
    "\n",
    "    return decorate"
   ]
  },
  {
   "cell_type": "markdown",
   "metadata": {},
   "source": [
    "Un décorateur s'applique à une fonction en précédant sa déclaration d'un **@** de la manière suivante :"
   ]
  },
  {
   "cell_type": "code",
   "execution_count": null,
   "metadata": {},
   "outputs": [],
   "source": [
    "import random\n",
    "\n",
    "@timewrap()\n",
    "def myfunc():\n",
    "    return [random.randint(1, 5) for _ in range(10000)]"
   ]
  },
  {
   "cell_type": "code",
   "execution_count": null,
   "metadata": {},
   "outputs": [],
   "source": [
    "b = myfunc()"
   ]
  },
  {
   "cell_type": "markdown",
   "metadata": {},
   "source": [
    "<div class=\"alert alert-block alert-info\"><b><i>Pour aller plus loin :</i></b>\n",
    "Un très bon article du site Sam &amp; Max sur les <b>décorateurs</b>  \n",
    "    (<a href=http://sametmax.com/comprendre-les-decorateurs-python-pas-a-pas-partie-1/>1ère partie</a>,  \n",
    "    <a href=http://sametmax.com/comprendre-les-decorateurs-python-pas-a-pas-partie-2/>2e partie</a>)\n",
    "</div>"
   ]
  },
  {
   "cell_type": "markdown",
   "metadata": {},
   "source": [
    "# Coroutines"
   ]
  },
  {
   "cell_type": "markdown",
   "metadata": {},
   "source": [
    "Les coroutines sont des fonctions dont l'on peut entrer et sortir avec beaucoup de simplicité. Il s'agit d'un concept complexe qui est hors du scope de ce cours"
   ]
  },
  {
   "cell_type": "markdown",
   "metadata": {},
   "source": [
    "<div class=\"alert alert-block alert-info\"><b><i>Pour aller plus loin :</i></b> <a href=http://sametmax.com/quest-ce-quune-coroutine-en-python-et-a-quoi-ca-sert/ >Un très bon article du site Sam &amp; Max sur les <b>coroutines</b></a></div>"
   ]
  }
 ],
 "metadata": {
  "kernelspec": {
   "display_name": "Python 3",
   "language": "python",
   "name": "python3"
  },
  "language_info": {
   "codemirror_mode": {
    "name": "ipython",
    "version": 3
   },
   "file_extension": ".py",
   "mimetype": "text/x-python",
   "name": "python",
   "nbconvert_exporter": "python",
   "pygments_lexer": "ipython3",
   "version": "3.7.1"
  },
  "toc": {
   "base_numbering": 1,
   "nav_menu": {
    "height": "512px",
    "width": "252px"
   },
   "number_sections": true,
   "sideBar": true,
   "skip_h1_title": false,
   "title_cell": "Table of Contents",
   "title_sidebar": "Contents",
   "toc_cell": false,
   "toc_position": {
    "height": "660px",
    "left": "0px",
    "right": "1328px",
    "top": "107px",
    "width": "186px"
   },
   "toc_section_display": "block",
   "toc_window_display": true
  },
  "varInspector": {
   "cols": {
    "lenName": 16,
    "lenType": 16,
    "lenVar": 40
   },
   "kernels_config": {
    "python": {
     "delete_cmd_postfix": "",
     "delete_cmd_prefix": "del ",
     "library": "var_list.py",
     "varRefreshCmd": "print(var_dic_list())"
    },
    "r": {
     "delete_cmd_postfix": ") ",
     "delete_cmd_prefix": "rm(",
     "library": "var_list.r",
     "varRefreshCmd": "cat(var_dic_list()) "
    }
   },
   "position": {
    "height": "144px",
    "left": "913.2px",
    "right": "20px",
    "top": "116px",
    "width": "350px"
   },
   "types_to_exclude": [
    "module",
    "function",
    "builtin_function_or_method",
    "instance",
    "_Feature"
   ],
   "window_display": false
  }
 },
 "nbformat": 4,
 "nbformat_minor": 2
}

{
 "cells": [
  {
   "cell_type": "markdown",
   "metadata": {},
   "source": [
    "<br>\n",
    "<div align=\"right\">Enseignant : Aric Wizenberg</div>\n",
    "<div align=\"right\">E-mail : icarwiz@yahoo.fr</div>\n",
    "<div align=\"right\">Année : 2018/2019</div><br><br><br>\n",
    "<div align=\"center\"><span style=\"font-family:Lucida Caligraphy;font-size:32px;color:darkgreen\">Master 2 MASERATI - Cours de Python</span></div><br><br>\n",
    "<div align=\"center\"><span style=\"font-family:Lucida Caligraphy;font-size:24px;color:#e60000\">Premiers pas en Python</span></div><br><br>\n",
    "<hr>"
   ]
  },
  {
   "cell_type": "markdown",
   "metadata": {},
   "source": [
    "# Cellules de code"
   ]
  },
  {
   "cell_type": "markdown",
   "metadata": {},
   "source": [
    "Les cellules de code fonctionnent un peu comme des calculatrices dans lesquelles on inscrit des commandes (l'**input**), que l'on peut exécuter, et qui produisent alors un résultat (l'**output**)"
   ]
  },
  {
   "cell_type": "code",
   "execution_count": 1,
   "metadata": {
    "ExecuteTime": {
     "end_time": "2019-01-03T10:19:20.028249Z",
     "start_time": "2019-01-03T10:19:20.012272Z"
    }
   },
   "outputs": [
    {
     "data": {
      "text/plain": [
       "3"
      ]
     },
     "execution_count": 1,
     "metadata": {},
     "output_type": "execute_result"
    }
   ],
   "source": [
    "1 + 2"
   ]
  },
  {
   "cell_type": "code",
   "execution_count": 2,
   "metadata": {
    "ExecuteTime": {
     "end_time": "2019-01-03T10:19:28.264838Z",
     "start_time": "2019-01-03T10:19:28.256848Z"
    }
   },
   "outputs": [
    {
     "data": {
      "text/plain": [
       "48"
      ]
     },
     "execution_count": 2,
     "metadata": {},
     "output_type": "execute_result"
    }
   ],
   "source": [
    "3*(4 + 12)"
   ]
  },
  {
   "cell_type": "markdown",
   "metadata": {},
   "source": [
    "Ces opérations sont appelées **expressions** dans le langage informatique, on dit alors que Python **évalue** le résultat d'une expression."
   ]
  },
  {
   "cell_type": "markdown",
   "metadata": {},
   "source": [
    "# Affichage dans l'output"
   ]
  },
  {
   "cell_type": "markdown",
   "metadata": {},
   "source": [
    "L'exécution d'une série d'opérations d'une même cellule a pour résultat un **unique affichage dans l'output**, celui de la **dernière** opération."
   ]
  },
  {
   "cell_type": "code",
   "execution_count": 5,
   "metadata": {
    "ExecuteTime": {
     "end_time": "2019-01-03T10:21:11.095181Z",
     "start_time": "2019-01-03T10:21:11.091191Z"
    }
   },
   "outputs": [
    {
     "data": {
      "text/plain": [
       "9"
      ]
     },
     "execution_count": 5,
     "metadata": {},
     "output_type": "execute_result"
    }
   ],
   "source": [
    "1 + 2\n",
    "4 + 5"
   ]
  },
  {
   "cell_type": "markdown",
   "metadata": {},
   "source": [
    "On dit que Python ne renvoie que le résultat de la dernière expression évaluée.\n",
    "\n",
    "Un affichage dans l'output n'a aucun impact sur le déroulement du programme (il ne modifie pas la mémoire du Kernel), il ne sert qu'à informer l'utilisateur.\n",
    "\n",
    "Cet affichage dans l'output est juste une information à portée très limitée, si l'on veut véritablement imprimer dans l'output, on préfèrera généralement l'utilisation de la fonction native **print()**."
   ]
  },
  {
   "cell_type": "code",
   "execution_count": 6,
   "metadata": {
    "ExecuteTime": {
     "end_time": "2019-01-03T10:21:16.126888Z",
     "start_time": "2019-01-03T10:21:16.122898Z"
    }
   },
   "outputs": [
    {
     "name": "stdout",
     "output_type": "stream",
     "text": [
      "3\n",
      "9\n"
     ]
    }
   ],
   "source": [
    "print(1 + 2)\n",
    "print(4 + 5)"
   ]
  },
  {
   "cell_type": "markdown",
   "metadata": {},
   "source": [
    "Après chaque exécution de print, l'affichage revient à la ligne.\n",
    "\n",
    "On peut indiquer plusieurs éléments à imprimer à la suite, sur une même ligne, ils apparaitront alors séparés par des espaces (par défaut)."
   ]
  },
  {
   "cell_type": "code",
   "execution_count": 7,
   "metadata": {
    "ExecuteTime": {
     "end_time": "2019-01-03T10:22:22.459132Z",
     "start_time": "2019-01-03T10:22:22.454145Z"
    }
   },
   "outputs": [
    {
     "name": "stdout",
     "output_type": "stream",
     "text": [
      "3 9\n"
     ]
    }
   ],
   "source": [
    "print(1 + 2, 4 + 5)"
   ]
  },
  {
   "cell_type": "markdown",
   "metadata": {},
   "source": [
    "# Commentaires"
   ]
  },
  {
   "cell_type": "markdown",
   "metadata": {},
   "source": [
    "On peut faire des commentaires en Python de la manière suivante :"
   ]
  },
  {
   "cell_type": "code",
   "execution_count": null,
   "metadata": {},
   "outputs": [],
   "source": [
    "# Ceci est\n",
    "# un commentaire"
   ]
  },
  {
   "cell_type": "markdown",
   "metadata": {},
   "source": [
    "Les commentaires utilisant l'opérateur **#** peuvent même être inscrits après une expression (toute la fin de la ligne devient un commentaire) :"
   ]
  },
  {
   "cell_type": "code",
   "execution_count": null,
   "metadata": {},
   "outputs": [],
   "source": [
    "1 + 2 # ça c'est mon addition"
   ]
  },
  {
   "cell_type": "markdown",
   "metadata": {},
   "source": [
    "<div class=\"alert alert-block alert-success\"><b>Astuce importante :</b>\n",
    "\n",
    "Il est possible de commenter ou décommenter une ou plusieurs lignes d'une cellule de code en utilisant le raccourci clavier : <b>Ctrl + /</b> (/ du pavé numérique)\n",
    "</div>"
   ]
  },
  {
   "cell_type": "markdown",
   "metadata": {},
   "source": [
    "<div class=\"alert alert-block alert-success\"><b>Notez bien :</b>\n",
    "\n",
    "Notebook met automatiquement :\n",
    "- en vert les nombres et fonctions natives (cf. ci-dessous)\n",
    "- en violet les opérateurs\n",
    "- en bleu-gris les commentaires\n",
    "</div>"
   ]
  },
  {
   "cell_type": "markdown",
   "metadata": {},
   "source": [
    "# Indentations et retours à la ligne"
   ]
  },
  {
   "cell_type": "markdown",
   "metadata": {},
   "source": [
    "Contrairement aux autres langages de programmation, en Python, l'**indentation** (les espaces en début de ligne, les alinéas) n'est pas juste une question esthétique et visuelle. L'indentation est un marqueur syntaxique. \n",
    "\n",
    "Indenter une ligne inutilement ou à l'inverse oublier d'indenter une ligne qui devrait l'être sont des **erreurs**.\n",
    "\n",
    "On utilise **Tab** et **Shift + Tab** pour modifier l'indentation d'une ligne ou d'un ensemble de lignes.\n",
    "\n",
    "Une ligne de code n'a normalement qu'un et un seul niveau d'intentation valable au vu de son rôle."
   ]
  },
  {
   "cell_type": "code",
   "execution_count": null,
   "metadata": {},
   "outputs": [],
   "source": [
    "print(1 + 2)\n",
    "    print(3 + 4)"
   ]
  },
  {
   "cell_type": "markdown",
   "metadata": {},
   "source": [
    "On n'indente une ligne d'un rang supérieur à la précédente **si et seulement** si cette nouvelle ligne appartient à un bloc ouvert par la précédente."
   ]
  },
  {
   "cell_type": "markdown",
   "metadata": {},
   "source": [
    "A l'autre bout, une ligne constitue une instruction qui sera exécutée d'un coup, et la fin de ligne intervient au moment du **retour à la ligne** sauf :\n",
    "\n",
    "1. Si un **opérateur d'encadrement** n'a pas été refermé, ces opérateurs sont : **__(__**, **__[__**, **__{__**, **__'__** ou **__\"__**"
   ]
  },
  {
   "cell_type": "code",
   "execution_count": null,
   "metadata": {},
   "outputs": [],
   "source": [
    "3*(\n",
    "    5 + \n",
    "    6 +\n",
    "    7\n",
    ")"
   ]
  },
  {
   "cell_type": "markdown",
   "metadata": {},
   "source": [
    " 2. Si l'on utilise l'opérateur **antislash \\\\** (sans rien après), Python comprend alors que la ligne se continue après le retour à la ligne."
   ]
  },
  {
   "cell_type": "code",
   "execution_count": null,
   "metadata": {},
   "outputs": [],
   "source": [
    "3*5 \\\n",
    "    + 6 \\\n",
    "    + 7"
   ]
  },
  {
   "cell_type": "markdown",
   "metadata": {},
   "source": [
    "# Opérateurs arithmétiques élémentaires"
   ]
  },
  {
   "cell_type": "markdown",
   "metadata": {},
   "source": [
    "##### Addition"
   ]
  },
  {
   "cell_type": "code",
   "execution_count": null,
   "metadata": {
    "scrolled": false
   },
   "outputs": [],
   "source": [
    "1 + 8"
   ]
  },
  {
   "cell_type": "markdown",
   "metadata": {},
   "source": [
    "##### Soustraction"
   ]
  },
  {
   "cell_type": "code",
   "execution_count": null,
   "metadata": {
    "scrolled": true
   },
   "outputs": [],
   "source": [
    "1 - 5"
   ]
  },
  {
   "cell_type": "markdown",
   "metadata": {},
   "source": [
    "##### Multiplication"
   ]
  },
  {
   "cell_type": "code",
   "execution_count": null,
   "metadata": {},
   "outputs": [],
   "source": [
    "5 * 3"
   ]
  },
  {
   "cell_type": "markdown",
   "metadata": {},
   "source": [
    "##### Division"
   ]
  },
  {
   "cell_type": "code",
   "execution_count": null,
   "metadata": {},
   "outputs": [],
   "source": [
    "8 / 4"
   ]
  },
  {
   "cell_type": "markdown",
   "metadata": {},
   "source": [
    "<div class=\"alert alert-block alert-success\"><b>Attention :</b>\n",
    "\n",
    "Le résultat d'une division ne sera <b>jamais</b> un nombre entier (cf. section suivante pour les types de base)\n",
    "</div>"
   ]
  },
  {
   "cell_type": "markdown",
   "metadata": {},
   "source": [
    "##### Partie entière d'une division"
   ]
  },
  {
   "cell_type": "code",
   "execution_count": null,
   "metadata": {},
   "outputs": [],
   "source": [
    "11 // 3"
   ]
  },
  {
   "cell_type": "markdown",
   "metadata": {},
   "source": [
    "##### Modulo (reste d'une division entière)"
   ]
  },
  {
   "cell_type": "code",
   "execution_count": null,
   "metadata": {},
   "outputs": [],
   "source": [
    "11 % 3"
   ]
  },
  {
   "cell_type": "markdown",
   "metadata": {},
   "source": [
    "##### Puissance"
   ]
  },
  {
   "cell_type": "code",
   "execution_count": null,
   "metadata": {},
   "outputs": [],
   "source": [
    "2 ** 3"
   ]
  },
  {
   "cell_type": "markdown",
   "metadata": {},
   "source": [
    "# Objets particuliers en Python"
   ]
  },
  {
   "cell_type": "markdown",
   "metadata": {},
   "source": [
    "## Mots-clés réservés"
   ]
  },
  {
   "cell_type": "markdown",
   "metadata": {},
   "source": [
    "Il y a 33 mots-clés réservés dans la version 3.6 de Python.\n",
    "\n",
    "La très grande majorité d'entre eux est présentée dans ce cours.\n",
    "\n",
    "Un mot-clé réservé ne peut pas être utilisé autrement qu'en respectant la syntaxe qui lui correspond, essayer de les utiliser comme nom de variable provoquera une erreur.\n",
    "\n",
    "Les mots-clés réservés sont colorés en vert et sont en gras sous Notebook :\n",
    "\n",
    "```python\n",
    "and\n",
    "if\n",
    "for\n",
    "```"
   ]
  },
  {
   "cell_type": "markdown",
   "metadata": {},
   "source": [
    "[Présentation de l'ensemble des mots-clés réservés en annexe](X.1_Annexes.ipynb#Mots-clés-réservés)"
   ]
  },
  {
   "cell_type": "markdown",
   "metadata": {},
   "source": [
    "## Fonctions natives (built-in)"
   ]
  },
  {
   "cell_type": "markdown",
   "metadata": {},
   "source": [
    "Contrairement aux mots-clés réservés, les noms de fonctions natives peuvent être écrasés. Ceci est absolument déconseillé! Mais l'instruction suivante n'entrainera pas d'erreur :\n",
    "```python\n",
    "print = 12\n",
    "```\n",
    "\n",
    "Après cette instruction, la fonction print ne fonctionnera plus, vu que ce sera désormais une variable contenant le chiffre 12... (bien sûr cette modification n'est pas permanente, si on redémarre le Kernel, ça fonctionne à nouveau comme ça devrait)\n",
    "\n",
    "Les fonctions natives sont colorées en vert (mais pas en gras) sous Notebook\n",
    "```python\n",
    "print\n",
    "help\n",
    "input\n",
    "```"
   ]
  },
  {
   "cell_type": "markdown",
   "metadata": {},
   "source": [
    "[Présentation de l'ensemble des fonctions natives en annexe](X.1_Annexes.ipynb#Fonctions-natives)"
   ]
  },
  {
   "cell_type": "markdown",
   "metadata": {},
   "source": [
    "# Obtenir de l'aide sur un objet"
   ]
  },
  {
   "cell_type": "markdown",
   "metadata": {},
   "source": [
    "Pour obtenir de l'aide sur un objet en Python, on peut utiliser la fonction native **help(objet)**."
   ]
  },
  {
   "cell_type": "code",
   "execution_count": 8,
   "metadata": {
    "ExecuteTime": {
     "end_time": "2019-01-03T10:37:21.983945Z",
     "start_time": "2019-01-03T10:37:21.979958Z"
    }
   },
   "outputs": [
    {
     "name": "stdout",
     "output_type": "stream",
     "text": [
      "Help on built-in function print in module builtins:\n",
      "\n",
      "print(...)\n",
      "    print(value, ..., sep=' ', end='\\n', file=sys.stdout, flush=False)\n",
      "    \n",
      "    Prints the values to a stream, or to sys.stdout by default.\n",
      "    Optional keyword arguments:\n",
      "    file:  a file-like object (stream); defaults to the current sys.stdout.\n",
      "    sep:   string inserted between values, default a space.\n",
      "    end:   string appended after the last value, default a newline.\n",
      "    flush: whether to forcibly flush the stream.\n",
      "\n"
     ]
    }
   ],
   "source": [
    "help(print)"
   ]
  },
  {
   "cell_type": "markdown",
   "metadata": {},
   "source": [
    "De plus, sous Jupyter Notebook uniquement, il est possible d'utiliser la formulation suivante pour obtenir la documentation : "
   ]
  },
  {
   "cell_type": "code",
   "execution_count": 9,
   "metadata": {
    "ExecuteTime": {
     "end_time": "2019-01-03T10:37:25.983876Z",
     "start_time": "2019-01-03T10:37:25.979923Z"
    }
   },
   "outputs": [],
   "source": [
    "print?"
   ]
  }
 ],
 "metadata": {
  "kernelspec": {
   "display_name": "Python 3",
   "language": "python",
   "name": "python3"
  },
  "language_info": {
   "codemirror_mode": {
    "name": "ipython",
    "version": 3
   },
   "file_extension": ".py",
   "mimetype": "text/x-python",
   "name": "python",
   "nbconvert_exporter": "python",
   "pygments_lexer": "ipython3",
   "version": "3.7.1"
  },
  "toc": {
   "base_numbering": 1,
   "nav_menu": {
    "height": "512px",
    "width": "252px"
   },
   "number_sections": true,
   "sideBar": true,
   "skip_h1_title": false,
   "title_cell": "Table of Contents",
   "title_sidebar": "Contents",
   "toc_cell": false,
   "toc_position": {
    "height": "660px",
    "left": "0px",
    "right": "1328px",
    "top": "107px",
    "width": "165px"
   },
   "toc_section_display": "block",
   "toc_window_display": true
  },
  "varInspector": {
   "cols": {
    "lenName": 16,
    "lenType": 16,
    "lenVar": 40
   },
   "kernels_config": {
    "python": {
     "delete_cmd_postfix": "",
     "delete_cmd_prefix": "del ",
     "library": "var_list.py",
     "varRefreshCmd": "print(var_dic_list())"
    },
    "r": {
     "delete_cmd_postfix": ") ",
     "delete_cmd_prefix": "rm(",
     "library": "var_list.r",
     "varRefreshCmd": "cat(var_dic_list()) "
    }
   },
   "position": {
    "height": "459px",
    "left": "913.2px",
    "right": "20px",
    "top": "120px",
    "width": "350px"
   },
   "types_to_exclude": [
    "module",
    "function",
    "builtin_function_or_method",
    "instance",
    "_Feature"
   ],
   "window_display": false
  }
 },
 "nbformat": 4,
 "nbformat_minor": 2
}

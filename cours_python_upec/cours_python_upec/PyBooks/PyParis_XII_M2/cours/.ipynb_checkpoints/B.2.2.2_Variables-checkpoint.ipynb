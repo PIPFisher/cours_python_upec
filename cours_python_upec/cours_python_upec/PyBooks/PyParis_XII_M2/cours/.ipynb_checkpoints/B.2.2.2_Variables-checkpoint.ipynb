{
 "cells": [
  {
   "cell_type": "markdown",
   "metadata": {},
   "source": [
    "<br>\n",
    "<div align=\"right\">Enseignant : Aric Wizenberg</div>\n",
    "<div align=\"right\">E-mail : icarwiz@yahoo.fr</div>\n",
    "<div align=\"right\">Année : 2018/2019</div><br><br><br>\n",
    "<div align=\"center\"><span style=\"font-family:Lucida Caligraphy;font-size:32px;color:darkgreen\">Master 2 MASERATI - Cours de Python</span></div><br><br>\n",
    "<div align=\"center\"><span style=\"font-family:Lucida Caligraphy;font-size:24px;color:#e60000\">Variables</span></div><br><br>\n",
    "<hr>"
   ]
  },
  {
   "cell_type": "markdown",
   "metadata": {},
   "source": [
    "# Définition par affectation"
   ]
  },
  {
   "cell_type": "markdown",
   "metadata": {},
   "source": [
    "Une variable est un **espace de mémoire de l'ordinateur**, réservé et géré par le kernel, auquel on attribue :\n",
    "- un **nom**\n",
    "- un **type**\n",
    "- une **valeur précise**.\n",
    "\n",
    "En Python, contrairement à beaucoup d'autres langages de programmation (par exemple les langages de la famille C), on ne fait pas de **déclaration de type** explicite. Une variable **aquiert automatiquement un type** qui est fixée lors de l'affectation d'une valeur à cette variable.\n",
    "\n",
    "On dit qu'une variable est **déclarée** (son type et fixé) et **initialisée** (une valeur lui est affectée) conjointement, lors de l'affectation d'une valeur à cette variable.\n",
    "\n",
    "En termes de vocabulaire, il est important de noter qu'en Python on parle de **variables** et d'**objets** indistinctement."
   ]
  },
  {
   "cell_type": "code",
   "execution_count": 1,
   "metadata": {
    "ExecuteTime": {
     "end_time": "2019-01-03T10:57:31.099363Z",
     "start_time": "2019-01-03T10:57:31.095412Z"
    }
   },
   "outputs": [],
   "source": [
    "age = 25"
   ]
  },
  {
   "cell_type": "code",
   "execution_count": 2,
   "metadata": {
    "ExecuteTime": {
     "end_time": "2019-01-03T10:57:34.459424Z",
     "start_time": "2019-01-03T10:57:34.449452Z"
    }
   },
   "outputs": [
    {
     "data": {
      "text/plain": [
       "25"
      ]
     },
     "execution_count": 2,
     "metadata": {},
     "output_type": "execute_result"
    }
   ],
   "source": [
    "age"
   ]
  },
  {
   "cell_type": "code",
   "execution_count": 3,
   "metadata": {
    "ExecuteTime": {
     "end_time": "2019-01-03T10:57:36.827564Z",
     "start_time": "2019-01-03T10:57:36.822577Z"
    }
   },
   "outputs": [
    {
     "data": {
      "text/plain": [
       "int"
      ]
     },
     "execution_count": 3,
     "metadata": {},
     "output_type": "execute_result"
    }
   ],
   "source": [
    "type(age)"
   ]
  },
  {
   "cell_type": "markdown",
   "metadata": {},
   "source": [
    "La valeur et le type de la variable peut-être redéfinie en refaisant une opération d'affectation"
   ]
  },
  {
   "cell_type": "code",
   "execution_count": 4,
   "metadata": {
    "ExecuteTime": {
     "end_time": "2019-01-03T10:57:45.927930Z",
     "start_time": "2019-01-03T10:57:45.924956Z"
    }
   },
   "outputs": [],
   "source": [
    "age = 23.5"
   ]
  },
  {
   "cell_type": "code",
   "execution_count": 5,
   "metadata": {
    "ExecuteTime": {
     "end_time": "2019-01-03T10:57:48.096255Z",
     "start_time": "2019-01-03T10:57:48.092264Z"
    }
   },
   "outputs": [
    {
     "data": {
      "text/plain": [
       "23.5"
      ]
     },
     "execution_count": 5,
     "metadata": {},
     "output_type": "execute_result"
    }
   ],
   "source": [
    "age"
   ]
  },
  {
   "cell_type": "code",
   "execution_count": 6,
   "metadata": {
    "ExecuteTime": {
     "end_time": "2019-01-03T10:57:49.112697Z",
     "start_time": "2019-01-03T10:57:49.107709Z"
    }
   },
   "outputs": [
    {
     "data": {
      "text/plain": [
       "float"
      ]
     },
     "execution_count": 6,
     "metadata": {},
     "output_type": "execute_result"
    }
   ],
   "source": [
    "type(age)"
   ]
  },
  {
   "cell_type": "markdown",
   "metadata": {},
   "source": [
    "<div class=\"alert alert-block alert-success\">\n",
    "<b>Important :</b>\n",
    "\n",
    "- Une affectation ne renvoie pas de résultat dans l'output, sauf en cas d'erreur, contrairement à une expression\n",
    "- Contrairement à toutes les opérations effectuées jusqu'à présent, une **affectation impacte le déroulement du programme**, la variable **age** et son contenu a été écrite dans la **mémoire de l'ordinateur**\n",
    "</div>\n",
    "\n",
    "Les variables entrent naturellement dans le cadre d'opérations, comme tout autre type d'objet :"
   ]
  },
  {
   "cell_type": "code",
   "execution_count": null,
   "metadata": {
    "scrolled": true
   },
   "outputs": [],
   "source": [
    "age + 2"
   ]
  },
  {
   "cell_type": "markdown",
   "metadata": {},
   "source": [
    "# Nom de variables"
   ]
  },
  {
   "cell_type": "markdown",
   "metadata": {},
   "source": [
    "Un nom de variable ne peut contenir que :\n",
    "- des lettres, majuscules ou minuscules,\n",
    "- des chiffres,\n",
    "- le symbole underscore **__\\___**\n",
    "\n",
    "Propriété supplémentaires :\n",
    "- **Il ne peut pas commencer par un chiffre.**\n",
    "- **Les noms de variables sont sensibles à la casse.**\n",
    "- Les caractères accentués sont possibles mais il est **hautement recommendé** de ne pas en utiliser.\n",
    "- Par **convention** les noms de variables sont écrits en **minuscules**, les mots étant séparés par des **underscores**."
   ]
  },
  {
   "cell_type": "code",
   "execution_count": 7,
   "metadata": {
    "ExecuteTime": {
     "end_time": "2019-01-03T10:59:25.547021Z",
     "start_time": "2019-01-03T10:59:25.543990Z"
    }
   },
   "outputs": [],
   "source": [
    "bon_nom_de_variable = True"
   ]
  },
  {
   "cell_type": "code",
   "execution_count": 8,
   "metadata": {
    "ExecuteTime": {
     "end_time": "2019-01-03T10:59:46.176230Z",
     "start_time": "2019-01-03T10:59:46.171243Z"
    }
   },
   "outputs": [
    {
     "data": {
      "text/plain": [
       "bool"
      ]
     },
     "execution_count": 8,
     "metadata": {},
     "output_type": "execute_result"
    }
   ],
   "source": [
    "type(bon_nom_de_variable)"
   ]
  },
  {
   "cell_type": "markdown",
   "metadata": {},
   "source": [
    "**NB** : L'ensemble de conventions de Python sont regroupées dans un document nommé **PEP 8**"
   ]
  },
  {
   "cell_type": "markdown",
   "metadata": {},
   "source": [
    "<div class=\"alert alert-block alert-info\">\n",
    "<b>Pour aller plus loin :</b><br> \n",
    "<a href=https://www.python.org/dev/peps/pep-0008/> Style Guide officiel de Python (la PEP 8)</a><br>\n",
    "<a href=https://www.python.org/dev/peps/pep-0008/#naming-conventions> La section concernant les conventions de nommage</a>\n",
    "</div>\n"
   ]
  },
  {
   "cell_type": "markdown",
   "metadata": {},
   "source": [
    "# Supprimer une variable"
   ]
  },
  {
   "cell_type": "markdown",
   "metadata": {},
   "source": [
    "Une fois définie, une variable reste en mémoire jusqu'à extinction ou redémarrage du Kernel (et a fortiori de Jupyter et de l'ordinateur)\n",
    "\n",
    "On peut tout de même **supprimer une variable**, et donc libérer de la mémoire en utilisant l'instruction (mot-clé réservé) **del**"
   ]
  },
  {
   "cell_type": "code",
   "execution_count": 9,
   "metadata": {
    "ExecuteTime": {
     "end_time": "2019-01-03T11:01:54.214014Z",
     "start_time": "2019-01-03T11:01:54.210983Z"
    }
   },
   "outputs": [],
   "source": [
    "del bon_nom_de_variable"
   ]
  },
  {
   "cell_type": "code",
   "execution_count": 10,
   "metadata": {
    "ExecuteTime": {
     "end_time": "2019-01-03T11:01:56.194809Z",
     "start_time": "2019-01-03T11:01:56.087037Z"
    }
   },
   "outputs": [
    {
     "ename": "NameError",
     "evalue": "name 'bon_nom_de_variable' is not defined",
     "output_type": "error",
     "traceback": [
      "\u001b[1;31m---------------------------------------------------------------------------\u001b[0m",
      "\u001b[1;31mNameError\u001b[0m                                 Traceback (most recent call last)",
      "\u001b[1;32m<ipython-input-10-0c33b6d88173>\u001b[0m in \u001b[0;36m<module>\u001b[1;34m\u001b[0m\n\u001b[1;32m----> 1\u001b[1;33m \u001b[0mbon_nom_de_variable\u001b[0m\u001b[1;33m\u001b[0m\u001b[1;33m\u001b[0m\u001b[0m\n\u001b[0m",
      "\u001b[1;31mNameError\u001b[0m: name 'bon_nom_de_variable' is not defined"
     ]
    }
   ],
   "source": [
    "bon_nom_de_variable"
   ]
  },
  {
   "cell_type": "markdown",
   "metadata": {},
   "source": [
    "# Opérateurs de réaffectation"
   ]
  },
  {
   "cell_type": "markdown",
   "metadata": {},
   "source": [
    "Lorsqu'une variable a été définie pour la première fois (on dit qu'elle a été initialisée, elle est créée dans la mémoire de l'ordinateur), il est possible de la réinitialiser à travers plusieurs sortes d'opération.\n",
    "\n",
    "Le plus simple étant de la redéfinir directement"
   ]
  },
  {
   "cell_type": "code",
   "execution_count": 11,
   "metadata": {
    "ExecuteTime": {
     "end_time": "2019-01-03T11:03:18.635720Z",
     "start_time": "2019-01-03T11:03:18.630733Z"
    }
   },
   "outputs": [
    {
     "data": {
      "text/plain": [
       "33"
      ]
     },
     "execution_count": 11,
     "metadata": {},
     "output_type": "execute_result"
    }
   ],
   "source": [
    "age = 33\n",
    "age"
   ]
  },
  {
   "cell_type": "markdown",
   "metadata": {},
   "source": [
    "Ou de la redéfinir grâce à une opération"
   ]
  },
  {
   "cell_type": "code",
   "execution_count": 12,
   "metadata": {
    "ExecuteTime": {
     "end_time": "2019-01-03T11:03:23.077209Z",
     "start_time": "2019-01-03T11:03:23.073219Z"
    }
   },
   "outputs": [
    {
     "data": {
      "text/plain": [
       "35"
      ]
     },
     "execution_count": 12,
     "metadata": {},
     "output_type": "execute_result"
    }
   ],
   "source": [
    "age = 33 + 2\n",
    "age"
   ]
  },
  {
   "cell_type": "markdown",
   "metadata": {},
   "source": [
    "Ou de la redéfinir par rapport à elle-même, une opération courante, typiquement pour l'incrémentation"
   ]
  },
  {
   "cell_type": "code",
   "execution_count": 13,
   "metadata": {
    "ExecuteTime": {
     "end_time": "2019-01-03T11:03:26.077555Z",
     "start_time": "2019-01-03T11:03:26.072530Z"
    }
   },
   "outputs": [
    {
     "data": {
      "text/plain": [
       "36"
      ]
     },
     "execution_count": 13,
     "metadata": {},
     "output_type": "execute_result"
    }
   ],
   "source": [
    "age = age + 1\n",
    "age"
   ]
  },
  {
   "cell_type": "markdown",
   "metadata": {},
   "source": [
    "Pour faciliter l'écriture de telles opérations, on a inventé plusieurs opérateurs :\n",
    "\n",
    "* Ajouter à une variable : **+=** \n",
    "\n",
    "(**a = a + 1** est équivalent à **a += 1**)\n",
    "* Soustraire à une variable : **-=** \n",
    "\n",
    "(**a = a - 1** est équivalent à **a -= 1**)\n",
    "* Multiplier une variable : **\\*=** \n",
    "\n",
    "(**a = 2\\*a** est équivalent à **a \\*= 2**)\n",
    "* Diviser une variable : **/=** \n",
    "\n",
    "(**a = a/2** est équivalent à **a /= 2**)"
   ]
  },
  {
   "cell_type": "code",
   "execution_count": 14,
   "metadata": {
    "ExecuteTime": {
     "end_time": "2019-01-03T11:04:25.661706Z",
     "start_time": "2019-01-03T11:04:25.656720Z"
    }
   },
   "outputs": [
    {
     "data": {
      "text/plain": [
       "37"
      ]
     },
     "execution_count": 14,
     "metadata": {},
     "output_type": "execute_result"
    }
   ],
   "source": [
    "age += 1\n",
    "age"
   ]
  },
  {
   "cell_type": "code",
   "execution_count": 15,
   "metadata": {
    "ExecuteTime": {
     "end_time": "2019-01-03T11:04:27.495225Z",
     "start_time": "2019-01-03T11:04:27.490242Z"
    }
   },
   "outputs": [
    {
     "data": {
      "text/plain": [
       "30"
      ]
     },
     "execution_count": 15,
     "metadata": {},
     "output_type": "execute_result"
    }
   ],
   "source": [
    "age -= 7\n",
    "age"
   ]
  },
  {
   "cell_type": "code",
   "execution_count": 16,
   "metadata": {
    "ExecuteTime": {
     "end_time": "2019-01-03T11:04:29.095811Z",
     "start_time": "2019-01-03T11:04:29.091822Z"
    }
   },
   "outputs": [
    {
     "data": {
      "text/plain": [
       "6.0"
      ]
     },
     "execution_count": 16,
     "metadata": {},
     "output_type": "execute_result"
    }
   ],
   "source": [
    "age /= 5\n",
    "age"
   ]
  },
  {
   "cell_type": "code",
   "execution_count": 17,
   "metadata": {
    "ExecuteTime": {
     "end_time": "2019-01-03T11:04:30.064034Z",
     "start_time": "2019-01-03T11:04:30.059047Z"
    },
    "scrolled": true
   },
   "outputs": [
    {
     "data": {
      "text/plain": [
       "12.0"
      ]
     },
     "execution_count": 17,
     "metadata": {},
     "output_type": "execute_result"
    }
   ],
   "source": [
    "age *= 2\n",
    "age"
   ]
  },
  {
   "cell_type": "markdown",
   "metadata": {},
   "source": [
    "**NB** : une réaffectation, comme une affectation, ne renvoie pas de résultat dans l'output, sauf s'il y a une erreur\n",
    "\n",
    "Notons qu'en faisant ça, nous avons modifié le type de **age**"
   ]
  },
  {
   "cell_type": "code",
   "execution_count": null,
   "metadata": {},
   "outputs": [],
   "source": [
    "type(age)"
   ]
  },
  {
   "cell_type": "markdown",
   "metadata": {},
   "source": [
    "# Fonction native input"
   ]
  },
  {
   "cell_type": "markdown",
   "metadata": {},
   "source": [
    "Il est possible de demander à l'utilisateur d'entrer une valeur et de la stocker dans une variable en utilisant la fonction native **input()**"
   ]
  },
  {
   "cell_type": "code",
   "execution_count": 18,
   "metadata": {
    "ExecuteTime": {
     "end_time": "2019-01-03T11:06:14.658261Z",
     "start_time": "2019-01-03T11:06:10.140245Z"
    }
   },
   "outputs": [
    {
     "name": "stdout",
     "output_type": "stream",
     "text": [
      "Entrez une valeur : ttt\n"
     ]
    }
   ],
   "source": [
    "choix_utilisateur = input('Entrez une valeur : ')"
   ]
  },
  {
   "cell_type": "code",
   "execution_count": 19,
   "metadata": {
    "ExecuteTime": {
     "end_time": "2019-01-03T11:06:16.847138Z",
     "start_time": "2019-01-03T11:06:16.842152Z"
    }
   },
   "outputs": [
    {
     "data": {
      "text/plain": [
       "'ttt'"
      ]
     },
     "execution_count": 19,
     "metadata": {},
     "output_type": "execute_result"
    }
   ],
   "source": [
    "choix_utilisateur"
   ]
  },
  {
   "cell_type": "markdown",
   "metadata": {},
   "source": [
    "**NB :** **input()** renvoie toujours une **chaine de caractères**"
   ]
  },
  {
   "cell_type": "markdown",
   "metadata": {},
   "source": [
    "# Constantes"
   ]
  },
  {
   "cell_type": "markdown",
   "metadata": {},
   "source": [
    "Les **constantes** n'existent pas en tant que tel en Python.\n",
    "\n",
    "Mais comme il s'agit d'un objet utile il a été décidé par convention qu'une constante est :\n",
    "- une variable dont la valeur est fixée en tout début de code ou de Notebook, \n",
    "- une variable dont le nom est intégralement en majuscules,\n",
    "- une variable dont on s'interdit de redéfinir la valeur dans le reste du code ou du Notebook."
   ]
  },
  {
   "cell_type": "code",
   "execution_count": null,
   "metadata": {},
   "outputs": [],
   "source": [
    "MOT_DE_PASSE = 'SuperMot1de/Passe'"
   ]
  }
 ],
 "metadata": {
  "kernelspec": {
   "display_name": "Python 3",
   "language": "python",
   "name": "python3"
  },
  "language_info": {
   "codemirror_mode": {
    "name": "ipython",
    "version": 3
   },
   "file_extension": ".py",
   "mimetype": "text/x-python",
   "name": "python",
   "nbconvert_exporter": "python",
   "pygments_lexer": "ipython3",
   "version": "3.7.1"
  },
  "toc": {
   "base_numbering": 1,
   "nav_menu": {
    "height": "512px",
    "width": "252px"
   },
   "number_sections": true,
   "sideBar": true,
   "skip_h1_title": false,
   "title_cell": "Table of Contents",
   "title_sidebar": "Contents",
   "toc_cell": false,
   "toc_position": {
    "height": "660px",
    "left": "0px",
    "right": "1328px",
    "top": "107px",
    "width": "186px"
   },
   "toc_section_display": "block",
   "toc_window_display": true
  },
  "varInspector": {
   "cols": {
    "lenName": 16,
    "lenType": 16,
    "lenVar": 40
   },
   "kernels_config": {
    "python": {
     "delete_cmd_postfix": "",
     "delete_cmd_prefix": "del ",
     "library": "var_list.py",
     "varRefreshCmd": "print(var_dic_list())"
    },
    "r": {
     "delete_cmd_postfix": ") ",
     "delete_cmd_prefix": "rm(",
     "library": "var_list.r",
     "varRefreshCmd": "cat(var_dic_list()) "
    }
   },
   "oldHeight": 317.222222,
   "position": {
    "height": "40px",
    "left": "1183.19px",
    "right": "40.8px",
    "top": "86px",
    "width": "518.208px"
   },
   "types_to_exclude": [
    "module",
    "function",
    "builtin_function_or_method",
    "instance",
    "_Feature"
   ],
   "varInspector_section_display": "none",
   "window_display": true
  }
 },
 "nbformat": 4,
 "nbformat_minor": 2
}

{
 "cells": [
  {
   "cell_type": "markdown",
   "metadata": {},
   "source": [
    "<br>\n",
    "<div align=\"right\">Enseignant : Aric Wizenberg</div>\n",
    "<div align=\"right\">E-mail : icarwiz@yahoo.fr</div>\n",
    "<div align=\"right\">Année : 2018/2019</div><br><br><br>\n",
    "<div align=\"center\"><span style=\"font-family:Lucida Caligraphy;font-size:32px;color:darkgreen\">Master 2 MASERATI - Cours de Python</span></div><br><br>\n",
    "<div align=\"center\"><span style=\"font-family:Lucida Caligraphy;font-size:24px;color:#e60000\">Manipulation de données</span></div><br><br>\n",
    "<hr>"
   ]
  },
  {
   "cell_type": "markdown",
   "metadata": {},
   "source": [
    "Chargement des modules et données"
   ]
  },
  {
   "cell_type": "code",
   "execution_count": 1,
   "metadata": {
    "ExecuteTime": {
     "end_time": "2019-01-11T14:55:55.482299Z",
     "start_time": "2019-01-11T14:55:55.158149Z"
    }
   },
   "outputs": [],
   "source": [
    "import pandas as pd\n",
    "import numpy as np"
   ]
  },
  {
   "cell_type": "code",
   "execution_count": 2,
   "metadata": {
    "ExecuteTime": {
     "end_time": "2019-01-11T14:55:59.095222Z",
     "start_time": "2019-01-11T14:55:59.075248Z"
    },
    "scrolled": true
   },
   "outputs": [],
   "source": [
    "df_gflight = pd.read_pickle('../output/Output_GFLT.pickle')"
   ]
  },
  {
   "cell_type": "code",
   "execution_count": 3,
   "metadata": {
    "ExecuteTime": {
     "end_time": "2019-01-11T14:57:18.599239Z",
     "start_time": "2019-01-11T14:57:18.567284Z"
    }
   },
   "outputs": [
    {
     "data": {
      "text/html": [
       "<div>\n",
       "<style scoped>\n",
       "    .dataframe tbody tr th:only-of-type {\n",
       "        vertical-align: middle;\n",
       "    }\n",
       "\n",
       "    .dataframe tbody tr th {\n",
       "        vertical-align: top;\n",
       "    }\n",
       "\n",
       "    .dataframe thead th {\n",
       "        text-align: right;\n",
       "    }\n",
       "</style>\n",
       "<table border=\"1\" class=\"dataframe\">\n",
       "  <thead>\n",
       "    <tr style=\"text-align: right;\">\n",
       "      <th></th>\n",
       "      <th>origin</th>\n",
       "      <th>destination</th>\n",
       "      <th>company</th>\n",
       "      <th>depdate</th>\n",
       "      <th>arrdate</th>\n",
       "      <th>duration</th>\n",
       "      <th>price</th>\n",
       "      <th>stopover</th>\n",
       "      <th>stop_time</th>\n",
       "      <th>stop_place</th>\n",
       "      <th>inflight</th>\n",
       "      <th>time</th>\n",
       "    </tr>\n",
       "  </thead>\n",
       "  <tbody>\n",
       "    <tr>\n",
       "      <th>0</th>\n",
       "      <td>CDG</td>\n",
       "      <td>NTE</td>\n",
       "      <td>Air France</td>\n",
       "      <td>2016-03-15 12:35:00</td>\n",
       "      <td>2016-03-15 13:40:00</td>\n",
       "      <td>1.083333</td>\n",
       "      <td>52.0</td>\n",
       "      <td>0</td>\n",
       "      <td>0.00</td>\n",
       "      <td></td>\n",
       "      <td>1.083333</td>\n",
       "      <td>0.274306</td>\n",
       "    </tr>\n",
       "    <tr>\n",
       "      <th>1</th>\n",
       "      <td>CDG</td>\n",
       "      <td>NTE</td>\n",
       "      <td>Air France</td>\n",
       "      <td>2016-03-15 16:40:00</td>\n",
       "      <td>2016-03-15 17:45:00</td>\n",
       "      <td>1.083333</td>\n",
       "      <td>52.0</td>\n",
       "      <td>0</td>\n",
       "      <td>0.00</td>\n",
       "      <td></td>\n",
       "      <td>1.083333</td>\n",
       "      <td>0.444444</td>\n",
       "    </tr>\n",
       "    <tr>\n",
       "      <th>2</th>\n",
       "      <td>CDG</td>\n",
       "      <td>NTE</td>\n",
       "      <td>Air France</td>\n",
       "      <td>2016-03-15 21:05:00</td>\n",
       "      <td>2016-03-15 22:10:00</td>\n",
       "      <td>1.083333</td>\n",
       "      <td>52.0</td>\n",
       "      <td>0</td>\n",
       "      <td>0.00</td>\n",
       "      <td></td>\n",
       "      <td>1.083333</td>\n",
       "      <td>0.628472</td>\n",
       "    </tr>\n",
       "    <tr>\n",
       "      <th>3</th>\n",
       "      <td>ORY</td>\n",
       "      <td>NTE</td>\n",
       "      <td>Air France</td>\n",
       "      <td>2016-03-15 19:30:00</td>\n",
       "      <td>2016-03-15 20:45:00</td>\n",
       "      <td>1.250000</td>\n",
       "      <td>69.0</td>\n",
       "      <td>0</td>\n",
       "      <td>0.00</td>\n",
       "      <td></td>\n",
       "      <td>1.250000</td>\n",
       "      <td>0.562500</td>\n",
       "    </tr>\n",
       "    <tr>\n",
       "      <th>4</th>\n",
       "      <td>CDG</td>\n",
       "      <td>NTE</td>\n",
       "      <td>Air France-HOP!</td>\n",
       "      <td>2016-03-15 13:20:00</td>\n",
       "      <td>2016-03-15 16:25:00</td>\n",
       "      <td>3.083333</td>\n",
       "      <td>93.0</td>\n",
       "      <td>1</td>\n",
       "      <td>0.75</td>\n",
       "      <td>LYS</td>\n",
       "      <td>2.333333</td>\n",
       "      <td>0.305556</td>\n",
       "    </tr>\n",
       "  </tbody>\n",
       "</table>\n",
       "</div>"
      ],
      "text/plain": [
       "  origin destination          company             depdate             arrdate  \\\n",
       "0    CDG         NTE       Air France 2016-03-15 12:35:00 2016-03-15 13:40:00   \n",
       "1    CDG         NTE       Air France 2016-03-15 16:40:00 2016-03-15 17:45:00   \n",
       "2    CDG         NTE       Air France 2016-03-15 21:05:00 2016-03-15 22:10:00   \n",
       "3    ORY         NTE       Air France 2016-03-15 19:30:00 2016-03-15 20:45:00   \n",
       "4    CDG         NTE  Air France-HOP! 2016-03-15 13:20:00 2016-03-15 16:25:00   \n",
       "\n",
       "   duration  price stopover  stop_time stop_place  inflight      time  \n",
       "0  1.083333   52.0        0       0.00             1.083333  0.274306  \n",
       "1  1.083333   52.0        0       0.00             1.083333  0.444444  \n",
       "2  1.083333   52.0        0       0.00             1.083333  0.628472  \n",
       "3  1.250000   69.0        0       0.00             1.250000  0.562500  \n",
       "4  3.083333   93.0        1       0.75        LYS  2.333333  0.305556  "
      ]
     },
     "execution_count": 3,
     "metadata": {},
     "output_type": "execute_result"
    }
   ],
   "source": [
    "df_gflight.head(5)"
   ]
  },
  {
   "cell_type": "markdown",
   "metadata": {},
   "source": [
    "# Synthèse des variables numériques"
   ]
  },
  {
   "cell_type": "markdown",
   "metadata": {},
   "source": [
    "##### Synthèse des variables numériques du DataFrame"
   ]
  },
  {
   "cell_type": "code",
   "execution_count": null,
   "metadata": {},
   "outputs": [],
   "source": [
    "df_gflight.describe()"
   ]
  },
  {
   "cell_type": "markdown",
   "metadata": {},
   "source": [
    "<div class=\"alert alert-block alert-info\">\n",
    "<b>Pour aller plus loin:</b> <a href=https://pandas.pydata.org/pandas-docs/stable/generated/pandas.DataFrame.describe.html> Doc officielle de Pandas sur la méthode <b>describe</b></a>\n",
    "</div>"
   ]
  },
  {
   "cell_type": "markdown",
   "metadata": {},
   "source": [
    "##### Mathode de synthèse des numpy.ndarray"
   ]
  },
  {
   "cell_type": "markdown",
   "metadata": {},
   "source": [
    "En plus des métriques de synthèse des données héritées de **numpy.ndarray** (sum, mean, std...), on a plusieurs autres métriques statistiques en Pandas"
   ]
  },
  {
   "cell_type": "markdown",
   "metadata": {},
   "source": [
    "##### Médiane"
   ]
  },
  {
   "cell_type": "code",
   "execution_count": null,
   "metadata": {},
   "outputs": [],
   "source": [
    "df_gflight.median()"
   ]
  },
  {
   "cell_type": "markdown",
   "metadata": {},
   "source": [
    "##### Skewness (asymétrie, moment centré réduit d'ordre 3)"
   ]
  },
  {
   "cell_type": "code",
   "execution_count": null,
   "metadata": {},
   "outputs": [],
   "source": [
    "df_gflight.skew()"
   ]
  },
  {
   "cell_type": "markdown",
   "metadata": {},
   "source": [
    "##### Kurtosis (applatissement, moment centré réduit d'ordre 4)"
   ]
  },
  {
   "cell_type": "code",
   "execution_count": null,
   "metadata": {},
   "outputs": [],
   "source": [
    "df_gflight.kurt()"
   ]
  },
  {
   "cell_type": "markdown",
   "metadata": {},
   "source": [
    "##### Nombre d'éléments non vides"
   ]
  },
  {
   "cell_type": "code",
   "execution_count": null,
   "metadata": {},
   "outputs": [],
   "source": [
    "df_gflight.count()"
   ]
  },
  {
   "cell_type": "markdown",
   "metadata": {},
   "source": [
    "<div class=\"alert alert-block alert-info\"><b>Pour aller plus loin :</b> <a href=https://pandas.pydata.org/pandas-docs/stable/api.html#api-dataframe-stats> Doc officielle Pandas sur les <b>méthodes d'analyse statistique</b></a></div>"
   ]
  },
  {
   "cell_type": "markdown",
   "metadata": {},
   "source": [
    "# Dénombrements et découpages"
   ]
  },
  {
   "cell_type": "markdown",
   "metadata": {},
   "source": [
    "## Dénombrements"
   ]
  },
  {
   "cell_type": "code",
   "execution_count": null,
   "metadata": {
    "scrolled": true
   },
   "outputs": [],
   "source": [
    "df_gflight['origin'].value_counts()"
   ]
  },
  {
   "cell_type": "markdown",
   "metadata": {},
   "source": [
    "## Découpage d'intervalles"
   ]
  },
  {
   "cell_type": "markdown",
   "metadata": {},
   "source": [
    "Découpage de l'intervalle en tranche égales"
   ]
  },
  {
   "cell_type": "code",
   "execution_count": null,
   "metadata": {
    "scrolled": true
   },
   "outputs": [],
   "source": [
    "pd.cut(df_gflight['price'], 10).value_counts()"
   ]
  },
  {
   "cell_type": "markdown",
   "metadata": {},
   "source": [
    "Découpage de l'intervalle en fonction des quantiles"
   ]
  },
  {
   "cell_type": "code",
   "execution_count": null,
   "metadata": {},
   "outputs": [],
   "source": [
    "pd.qcut(df_gflight['price'], 4, precision=10).value_counts()"
   ]
  },
  {
   "cell_type": "markdown",
   "metadata": {},
   "source": [
    "# Filtrage"
   ]
  },
  {
   "cell_type": "markdown",
   "metadata": {},
   "source": [
    "## A une condition"
   ]
  },
  {
   "cell_type": "code",
   "execution_count": null,
   "metadata": {},
   "outputs": [],
   "source": [
    "df_gflight[df_gflight['origin'] == 'CDG'].head()"
   ]
  },
  {
   "cell_type": "markdown",
   "metadata": {},
   "source": [
    "## A plusieurs conditions"
   ]
  },
  {
   "cell_type": "markdown",
   "metadata": {},
   "source": [
    "Faire attention :\n",
    "- **__&__** (1) pour faire un **and**\n",
    "- **__|__** (6) pour faire un **or** \n",
    "- **__~__** (Alt Gr-2) pour faire un **not**\n",
    "- toujours encadrer les différents termes par des parenthèses"
   ]
  },
  {
   "cell_type": "code",
   "execution_count": null,
   "metadata": {
    "scrolled": false
   },
   "outputs": [],
   "source": [
    "df_gflight[\n",
    "    (df_gflight['origin'] == 'CDG') & \n",
    "    (df_gflight['destination'] == 'RNS')\n",
    "].head()"
   ]
  },
  {
   "cell_type": "code",
   "execution_count": null,
   "metadata": {},
   "outputs": [],
   "source": [
    "df_gflight[\n",
    "    ~(\n",
    "        (df_gflight['origin'] == 'CDG') & \n",
    "        (df_gflight['destination'] == 'NTE')\n",
    "    )\n",
    "].head()"
   ]
  },
  {
   "cell_type": "markdown",
   "metadata": {},
   "source": [
    "## Liste de valeurs"
   ]
  },
  {
   "cell_type": "markdown",
   "metadata": {},
   "source": [
    "Pour faire une condition avec plusieurs valeurs de test:"
   ]
  },
  {
   "cell_type": "code",
   "execution_count": null,
   "metadata": {},
   "outputs": [],
   "source": [
    "df_gflight[df_gflight['origin'].isin(['CDG', 'NTE'])].head()"
   ]
  },
  {
   "cell_type": "markdown",
   "metadata": {},
   "source": [
    "Utiliser un **__~__** pour faire un **is not in**"
   ]
  },
  {
   "cell_type": "code",
   "execution_count": null,
   "metadata": {
    "scrolled": false
   },
   "outputs": [],
   "source": [
    "df_gflight[~df_gflight['origin'].isin(['CDG', 'NTE'])].head()"
   ]
  },
  {
   "cell_type": "markdown",
   "metadata": {},
   "source": [
    "## Sur valeurs manquantes"
   ]
  },
  {
   "cell_type": "code",
   "execution_count": null,
   "metadata": {},
   "outputs": [],
   "source": [
    "df_gflight[df_gflight['price'].isna()]"
   ]
  },
  {
   "cell_type": "code",
   "execution_count": null,
   "metadata": {},
   "outputs": [],
   "source": [
    "df_gflight[df_gflight['price'].notna()].head()"
   ]
  },
  {
   "cell_type": "markdown",
   "metadata": {},
   "source": [
    "# Croisements"
   ]
  },
  {
   "cell_type": "markdown",
   "metadata": {},
   "source": [
    "## Croisements statistiques"
   ]
  },
  {
   "cell_type": "markdown",
   "metadata": {},
   "source": [
    "### Table de corrélations"
   ]
  },
  {
   "cell_type": "code",
   "execution_count": null,
   "metadata": {
    "scrolled": true
   },
   "outputs": [],
   "source": [
    "df_gflight.corr()"
   ]
  },
  {
   "cell_type": "markdown",
   "metadata": {},
   "source": [
    "<div class=\"alert alert-block alert-info\">\n",
    "<b>Pour aller plus loin:</b> <a href=https://pandas.pydata.org/pandas-docs/stable/generated/pandas.DataFrame.corr.html> Doc officielle de Pandas sur la méthode <b>corr</b></a>\n",
    "</div>"
   ]
  },
  {
   "cell_type": "markdown",
   "metadata": {},
   "source": [
    "### Table de contingence"
   ]
  },
  {
   "cell_type": "markdown",
   "metadata": {},
   "source": [
    "Attention : c'est ici une fonction de la librairie Pandas"
   ]
  },
  {
   "cell_type": "code",
   "execution_count": null,
   "metadata": {},
   "outputs": [],
   "source": [
    "pd.crosstab(df_gflight['origin'], df_gflight['destination'])"
   ]
  },
  {
   "cell_type": "code",
   "execution_count": null,
   "metadata": {
    "scrolled": false
   },
   "outputs": [],
   "source": [
    "100*pd.crosstab(\n",
    "    df_gflight['origin'], \n",
    "    df_gflight['destination'], \n",
    "    margins=True, \n",
    "    normalize=True\n",
    ")"
   ]
  },
  {
   "cell_type": "markdown",
   "metadata": {},
   "source": [
    "Le paramètre **margins=True** permet de rajouter les marges"
   ]
  },
  {
   "cell_type": "markdown",
   "metadata": {},
   "source": [
    "Le paramètre **normalize** permet de mettre la table en pourcentages :\n",
    "- de l'ensemble des valeurs en utilisant la valeur ***'all'*** ou **True**\n",
    "- des totaux de lignes en utilisant la valeur ***'index'***\n",
    "- des totaux de colonnes en utilisant la valeur ***'columns'***"
   ]
  },
  {
   "cell_type": "markdown",
   "metadata": {},
   "source": [
    "<div class=\"alert alert-block alert-info\"><b>Pour aller plus loin :</b> <a href=https://pandas.pydata.org/pandas-docs/stable/generated/pandas.crosstab.html> Doc officielle de Pandas sur la fonction <b>crosstab</b> </a></div>"
   ]
  },
  {
   "cell_type": "markdown",
   "metadata": {},
   "source": [
    "## Croisements d'analyse"
   ]
  },
  {
   "cell_type": "markdown",
   "metadata": {},
   "source": [
    "### Regroupement"
   ]
  },
  {
   "cell_type": "markdown",
   "metadata": {},
   "source": [
    "La méthode **groupby(x)** permet de produire une **analyse avec en ligne les modalités de la série x** (**__x__** étant une **str**) ou **des séries x** (**__x__** étant une **list**), avec une valeur par ligne, pour cela, on peut stocker l'objet gérant le regroupement\n",
    "\n",
    "Elle fait trois opérations en une :\n",
    "- split : Elle découpe le DataFrame selon des modalités\n",
    "- apply : Elle applique une fonction de synthèse sur chaque sous-partie du DataFrame\n",
    "- combine : Elle rassemble les résultats en une table\n"
   ]
  },
  {
   "cell_type": "markdown",
   "metadata": {},
   "source": [
    "Imaginons que je veuille obtenir les valeurs moyennes (apply), en découpant mon DataFrame selon les modalités (split) de la colonne ***origin*** de mon DataFrame."
   ]
  },
  {
   "cell_type": "markdown",
   "metadata": {},
   "source": [
    "Toutes les fonctions de synthèse de Pandas et Numpy fonctionnent pour jouer le rôle de fonction apply"
   ]
  },
  {
   "cell_type": "markdown",
   "metadata": {},
   "source": [
    "##### Sur Series unique"
   ]
  },
  {
   "cell_type": "code",
   "execution_count": null,
   "metadata": {
    "scrolled": false
   },
   "outputs": [],
   "source": [
    "df_gflight.groupby('origin').mean().sample(5)"
   ]
  },
  {
   "cell_type": "code",
   "execution_count": null,
   "metadata": {},
   "outputs": [],
   "source": [
    "df_gflight.groupby('origin').count().sample(5)"
   ]
  },
  {
   "cell_type": "markdown",
   "metadata": {},
   "source": [
    "##### Sur plusieurs Series\n",
    "\n",
    "L'index est alors un MultiIndex"
   ]
  },
  {
   "cell_type": "code",
   "execution_count": null,
   "metadata": {},
   "outputs": [],
   "source": [
    "df_gflight.groupby(['origin', 'destination']).mean().sample(5)"
   ]
  },
  {
   "cell_type": "markdown",
   "metadata": {},
   "source": [
    "##### Extraire une colonne"
   ]
  },
  {
   "cell_type": "code",
   "execution_count": null,
   "metadata": {},
   "outputs": [],
   "source": [
    "df_gflight.groupby(['origin', 'destination']).mean()['price'].sample(5)"
   ]
  },
  {
   "cell_type": "markdown",
   "metadata": {},
   "source": [
    "<div class=\"alert alert-block alert-info\"><b>Pour aller plus loin :</b> <a href=https://pandas.pydata.org/pandas-docs/stable/generated/pandas.DataFrame.groupby.html> Doc officielle de Pandas sur la méthode <b>groupby</b> </a></div>"
   ]
  },
  {
   "cell_type": "markdown",
   "metadata": {},
   "source": [
    "<div class=\"alert alert-block alert-success\">\n",
    "<b>Conseil :</b> \n",
    "    \n",
    "Lorsque trop de méthodes s'accumulent, il peut être agréable d'écrire la série d'instructions sur plusieurs lignes par exemple :\n",
    "\n",
    "```python\n",
    "(df_gflight\n",
    "     .groupby(['origin', 'destination'])\n",
    "     .mean()\n",
    "     ['price']\n",
    "     .sample(5))\n",
    "```\n",
    "\n",
    "\n",
    "Ou encore :\n",
    "```python\n",
    "(\n",
    "    df_gflight\n",
    "        .groupby(['origin', 'destination'])\n",
    "        .mean()\n",
    "        ['price']\n",
    "        .sample(5)\n",
    ")\n",
    "```\n",
    "</div>"
   ]
  },
  {
   "cell_type": "markdown",
   "metadata": {},
   "source": [
    "### Tableaux croisés dynamiques (pivot table)"
   ]
  },
  {
   "cell_type": "markdown",
   "metadata": {},
   "source": [
    "La méthode **DataFrame.pivot_table()** va renvoyer un DataFrame représentant le tableau croisé dynamique\n",
    "\n",
    "L'ordre des paramètres est : values, index, column, aggfunc, avec :\n",
    "- **values** est la série ou la liste de séries qui va faire l'objet d'un regroupement\n",
    "- **index** est la série ou la liste de séries qui vont servir de lignes\n",
    "- **column** est la série ou la liste de séries qui vont servir de colonnes\n",
    "- **aggfunc** est la fonction ou la liste de fonctions qui vont être appliquées au regroupement de **values**\n",
    "\n",
    "On peut aussi ajouter des marges avec l'argument optionnel **margins=True**"
   ]
  },
  {
   "cell_type": "markdown",
   "metadata": {},
   "source": [
    "<div class=\"alert alert-block alert-info\"><b>Pour aller plus loin :</b> <br>\n",
    "<a href=https://docs.scipy.org/doc/numpy-1.13.0/reference/routines.sort.html> Doc officielle de Numpy sur les <b>routines de réorganisation</b></a><br>\n",
    "<a href=https://docs.scipy.org/doc/numpy-1.13.0/reference/routines.math.html> Doc officielle de Numpy sur les <b>routines de calcul</b></a><br>\n",
    "</div>"
   ]
  },
  {
   "cell_type": "markdown",
   "metadata": {},
   "source": [
    "##### Proximité avec les regroupements"
   ]
  },
  {
   "cell_type": "code",
   "execution_count": null,
   "metadata": {
    "scrolled": true
   },
   "outputs": [],
   "source": [
    "df_gflight.pivot_table(\n",
    "    index=['origin', 'destination'], \n",
    "    aggfunc='mean'\n",
    ").sample(5)"
   ]
  },
  {
   "cell_type": "code",
   "execution_count": null,
   "metadata": {
    "scrolled": true
   },
   "outputs": [],
   "source": [
    "df_gflight.pivot_table(\n",
    "    values='price',\n",
    "    index=['origin', 'destination'], \n",
    "    aggfunc='mean'\n",
    ").sample(5)"
   ]
  },
  {
   "cell_type": "markdown",
   "metadata": {},
   "source": [
    "##### Exemple"
   ]
  },
  {
   "cell_type": "code",
   "execution_count": null,
   "metadata": {},
   "outputs": [],
   "source": [
    "df_gflight.pivot_table(\n",
    "    values='price', \n",
    "    index='origin',\n",
    "    columns='destination', \n",
    "    aggfunc='mean'\n",
    ").sample(5)"
   ]
  },
  {
   "cell_type": "markdown",
   "metadata": {},
   "source": [
    "##### Tables à plusieurs dimensions"
   ]
  },
  {
   "cell_type": "markdown",
   "metadata": {},
   "source": [
    "On peut mettre plus d'un nom de colonne pour chaque argument"
   ]
  },
  {
   "cell_type": "code",
   "execution_count": null,
   "metadata": {},
   "outputs": [],
   "source": [
    "mon_tcd = df_gflight.pivot_table(\n",
    "    values='price', \n",
    "    index=['origin', 'destination'], \n",
    "    columns='company', \n",
    "    aggfunc=['sum', 'mean']\n",
    ")\n",
    "mon_tcd.head()"
   ]
  },
  {
   "cell_type": "markdown",
   "metadata": {},
   "source": [
    "<div class=\"alert alert-block alert-info\"><b>Pour aller plus loin :</b> <a href=https://pandas.pydata.org/pandas-docs/stable/generated/pandas.DataFrame.pivot_table.html> Doc officielle de Pandas sur la méthode <b>pivot_table</b> </a></div>"
   ]
  },
  {
   "cell_type": "markdown",
   "metadata": {},
   "source": [
    "# Ecriture dans un fichier\n",
    "\n",
    "Bien entendu, toutes les tables et analyses étudiées dans ce cours peuvent être facilement écrites dans un fichier :"
   ]
  },
  {
   "cell_type": "code",
   "execution_count": null,
   "metadata": {},
   "outputs": [],
   "source": [
    "mon_tcd.to_excel('../output/pivot_table.xlsx')"
   ]
  },
  {
   "cell_type": "code",
   "execution_count": null,
   "metadata": {},
   "outputs": [],
   "source": []
  }
 ],
 "metadata": {
  "kernelspec": {
   "display_name": "Python 3",
   "language": "python",
   "name": "python3"
  },
  "language_info": {
   "codemirror_mode": {
    "name": "ipython",
    "version": 3
   },
   "file_extension": ".py",
   "mimetype": "text/x-python",
   "name": "python",
   "nbconvert_exporter": "python",
   "pygments_lexer": "ipython3",
   "version": "3.7.1"
  },
  "toc": {
   "base_numbering": 1,
   "nav_menu": {
    "height": "500px",
    "width": "252px"
   },
   "number_sections": true,
   "sideBar": true,
   "skip_h1_title": false,
   "title_cell": "Table of Contents",
   "title_sidebar": "Contents",
   "toc_cell": false,
   "toc_position": {
    "height": "660px",
    "left": "0px",
    "right": "1359px",
    "top": "107px",
    "width": "187px"
   },
   "toc_section_display": "block",
   "toc_window_display": true
  },
  "varInspector": {
   "cols": {
    "lenName": 16,
    "lenType": 16,
    "lenVar": 40
   },
   "kernels_config": {
    "python": {
     "delete_cmd_postfix": "",
     "delete_cmd_prefix": "del ",
     "library": "var_list.py",
     "varRefreshCmd": "print(var_dic_list())"
    },
    "r": {
     "delete_cmd_postfix": ") ",
     "delete_cmd_prefix": "rm(",
     "library": "var_list.r",
     "varRefreshCmd": "cat(var_dic_list()) "
    }
   },
   "types_to_exclude": [
    "module",
    "function",
    "builtin_function_or_method",
    "instance",
    "_Feature"
   ],
   "window_display": false
  }
 },
 "nbformat": 4,
 "nbformat_minor": 2
}

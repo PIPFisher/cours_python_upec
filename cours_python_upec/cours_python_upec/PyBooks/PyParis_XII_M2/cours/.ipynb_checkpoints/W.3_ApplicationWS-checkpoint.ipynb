{
 "cells": [
  {
   "cell_type": "markdown",
   "metadata": {},
   "source": [
    "<br>\n",
    "<div align=\"right\">Enseignant : Aric Wizenberg</div>\n",
    "<div align=\"right\">E-mail : icarwiz@yahoo.fr</div>\n",
    "<div align=\"right\">Année : 2018/2019</div><br><br><br>\n",
    "<div align=\"center\"><span style=\"font-family:Lucida Caligraphy;font-size:32px;color:darkgreen\">Master 2 MASERATI - Cours de Python</span></div><br><br>\n",
    "<div align=\"center\"><span style=\"font-family:Lucida Caligraphy;font-size:24px;color:#e60000\">Scraping avec Requests</span></div><br><br>\n",
    "<hr>"
   ]
  },
  {
   "cell_type": "markdown",
   "metadata": {},
   "source": [
    "# Communiquer avec un site web"
   ]
  },
  {
   "cell_type": "markdown",
   "metadata": {},
   "source": [
    "## Bases"
   ]
  },
  {
   "cell_type": "markdown",
   "metadata": {},
   "source": [
    "Il existe normalement un module de la bibliothèque standard de Python permettant de communiquer avec un site web, **urllib**. Mais elle est, dans la pratique, difficile à utiliser.\n",
    "\n",
    "C'est pour cette raison qu'a été crée la bibliothèque externe **requests** (installée avec **Anaconda**), et qui utilise en interne **urllib**. Comme son slogan l'annonce \"HTTP for humans\" elle simplifie grandement la vie du programmeur."
   ]
  },
  {
   "cell_type": "markdown",
   "metadata": {},
   "source": [
    "Au départ, on commencera toujours par importer le module **requests** et par créer une nouvelle session. \n",
    "\n",
    "Importons aussi **Beautiful Soup**, qui sera vite utile"
   ]
  },
  {
   "cell_type": "code",
   "execution_count": 3,
   "metadata": {
    "ExecuteTime": {
     "end_time": "2019-02-08T09:29:38.067473Z",
     "start_time": "2019-02-08T09:29:38.051847Z"
    }
   },
   "outputs": [],
   "source": [
    "import requests\n",
    "import time\n",
    "#  Time : module qui permet gerer les delai, pour faire de requetes toutes les X minutes par exemple. Cela est une des\n",
    "# limitations suivantes des sites web: n'est pas faire requetes sans delai pour ne pas ralentir son serveur\n",
    "TEMPS_ATTENTE = 5\n",
    "# Con sess (una variable creada), es un objet request.session()\n",
    "sess = requests.Session()"
   ]
  },
  {
   "cell_type": "markdown",
   "metadata": {},
   "source": [
    "## Envoi d'une requête simple"
   ]
  },
  {
   "cell_type": "code",
   "execution_count": 10,
   "metadata": {
    "ExecuteTime": {
     "end_time": "2019-02-08T09:38:20.694511Z",
     "start_time": "2019-02-08T09:38:20.647646Z"
    }
   },
   "outputs": [],
   "source": [
    "res = sess.get('http://www.wikipedia.fr/index.php')\n",
    "# Guardamos en res lo que responde el sitio wikipedia.fr"
   ]
  },
  {
   "cell_type": "code",
   "execution_count": 11,
   "metadata": {
    "ExecuteTime": {
     "end_time": "2019-02-08T09:38:22.983534Z",
     "start_time": "2019-02-08T09:38:22.967913Z"
    },
    "scrolled": true
   },
   "outputs": [
    {
     "data": {
      "text/plain": [
       "requests.models.Response"
      ]
     },
     "execution_count": 11,
     "metadata": {},
     "output_type": "execute_result"
    }
   ],
   "source": [
    "type(res)\n",
    "# El objeto res es del tipo request.models.reponse"
   ]
  },
  {
   "cell_type": "markdown",
   "metadata": {},
   "source": [
    "La méthode **Session.get()** permet d'envoyer une requête à un site web et d'obtenir en retour un objet réponse de type **requests.models.Response**. Lorsque l'on fait afficher directement cet objet, on obtient le code de statut de la réponse (200 dans le meilleur des cas)"
   ]
  },
  {
   "cell_type": "code",
   "execution_count": 12,
   "metadata": {
    "ExecuteTime": {
     "end_time": "2019-02-08T09:38:25.358565Z",
     "start_time": "2019-02-08T09:38:25.343194Z"
    }
   },
   "outputs": [
    {
     "data": {
      "text/plain": [
       "<Response [200]>"
      ]
     },
     "execution_count": 12,
     "metadata": {},
     "output_type": "execute_result"
    }
   ],
   "source": [
    "res\n",
    "# Cuando enviamos una request, obtenemos un codigo resultado (404, pagina no existe, 200 todo ok)"
   ]
  },
  {
   "cell_type": "markdown",
   "metadata": {},
   "source": [
    "### Le type requests.models.Response"
   ]
  },
  {
   "cell_type": "markdown",
   "metadata": {},
   "source": [
    "On peut obtenir les différentes parties de la réponse en utilisant les méthodes de cet objet."
   ]
  },
  {
   "cell_type": "markdown",
   "metadata": {},
   "source": [
    "##### Contenu"
   ]
  },
  {
   "cell_type": "markdown",
   "metadata": {},
   "source": [
    "On peut par exemple demander le **contenu** de la réponse en binaire (et donc en **bytes**) :"
   ]
  },
  {
   "cell_type": "code",
   "execution_count": 13,
   "metadata": {
    "ExecuteTime": {
     "end_time": "2019-02-08T09:38:28.512749Z",
     "start_time": "2019-02-08T09:38:28.497376Z"
    }
   },
   "outputs": [
    {
     "data": {
      "text/plain": [
       "b'<!DOCTYPE html PUBLIC \"-//W3C//DTD XHTML 1.0 Transitional//EN\" \"http://www.w3.org/TR/xhtml1/DTD/xhtml1-transitional.dtd\">\\n<html xmlns=\"http://www.w3.org/1999/xhtml\">\\n<!-- INTERFACE DEVELOPP\\xc3\\x89E PAR BAPTI -->\\n<!-- pour l\\'association Wikim\\xc3\\xa9dia France -->\\n<!-- http://meta.wikimedia.org/wiki/User:Bapti -->\\n<head>\\n<meta http-equiv=\"Content-Type\" content=\"text/html; charset=UTF-8\" />\\n<meta name=\"verify-v1\" content=\"wOr5wtKmZ0N22eMkjrTeTHV91dwVLau0e7uTFmo4zLM=\" />\\n<meta name=\"description\" content=\"Portail de recherche sur les projets Wikimedia : Wikip\\xc3\\xa9dia, Wikim\\xc3\\xa9dia Commons, Wikisource, Wiktionary, Wikiquote, Wikiversity, Wikinews, Wikibooks et Wikispecies.\" />\\n<meta name=\"robots\" content=\"index, follow\" />\\n<link rel=\"shortcut icon\" href=\"Fichiers/favicon/faviconWikipedia.ico\" />\\n<title>Wikipedia.fr - Portail de recherche sur les projets Wikim\\xc3\\xa9dia</title>\\n\\n\\n<link rel=\"stylesheet\" type=\"text/css\" href=\"css/main.css\" />\\n</head>\\n\\n<body onload=\"self.focus();document.getElementById(\\'Search\\').focus();\">\\n\\t\\n\\t<div id=\"wrapper\">\\n    \\n\\t    <div id=\"entete\">\\n\\t    \\t<!--<div id=\"fond-blanc\">&nbsp;</div>-->\\n\\t    \\t<!--<div id=\"fond-bleu\">&nbsp;</div> -->\\n\\t\\t</div>\\n\\t\\t\\n    \\t<div id=\"container\">\\n\\t\\t<div id=\"header\">\\n<div id=\"logo-floater\">\\n\\t<a href=\"https://dons.wikimedia.fr/soutenez-nous/~mon-don\"><img src=\"Fichiers/faites_un_don.png\" width=\"1080px\" /></a>\\n</div>\\n\\t\\t</div>   <!-- /header -->\\n\\t    \\n\\t\\t\\t<br clear=\"all\" />\\n\\t\\t\\t\\n\\t\\t\\t<div id=\"contenu_left\">\\n\\t\\t\\t\\t<center>\\n<!--<iframe width=\"560\" height=\"315\" src=\"https://www.youtube.com/embed/xU0mmBxJpP4\" frameborder=\"0\" allowfullscreen></iframe>-->\\n<br /><br />\\n                <!-- Bo\\xc3\\xaete Recherche $Projet -->\\n                <div class=\"mainbox\">\\n\\t\\t\\t\\t\\t<div>\\n\\t\\t\\t\\t\\t\\t<a href=\"http://fr.wikipedia.org/\" title=\"Accueil de Wikip\\xc3\\xa9dia en fran\\xc3\\xa7ais\"><img src=\"Fichiers/LogoWikipedia.png\" alt=\"Logo Wikip\\xc3\\xa9dia en fran\\xc3\\xa7ais\" align=\"left\" border=\"0\" style=\"float: left; padding-top:1.0em;\" /></a></div><div class=\"maincontent\"><p class=\"style1\" style=\"text-align: center; font-size: 12pt;\"><b>Chercher sur <a href=\"http://fr.wikipedia.org/\">Wikip\\xc3\\xa9dia en fran\\xc3\\xa7ais</a></b></p><p class=\"style2\" style=\"text-align: center; font-size: 9pt;\">L\\xe2\\x80\\x99encyclop\\xc3\\xa9die librement r\\xc3\\xa9utilisable que chacun peut am\\xc3\\xa9liorer.</p><div class=\"form\" align=\"center\"><form action=\"Resultats.php\" method=\"get\" style=\"padding-top:0.5em;\"><input class=\"txtSearch\" name=\"q\" type=\"text\" title=\"Chercher sur Wikip\\xc3\\xa9dia en fran\\xc3\\xa7ais\" accesskey=\"f\" id=\"Search\" /><input type=\"hidden\" name=\"projet\" value=\"article\" />&nbsp;<input value=\"Chercher\" alt=\"Commencer la rechercher\" type=\"submit\" /></form></div><p class=\"style2\" style=\"text-align: center;\"><a href=\"Resultats.php?projet=article&amp;lang=oui\" title=\"Wikipedia dans d\\'autres langues\"><em>Wikipedia dans d\\'autres langues</em></a></p>\\t\\t\\t\\t\\t</div>\\n\\t\\t\\t\\t</div>\\n\\t\\t\\t\\t\\n                <!-- Bo\\xc3\\xaete Recherche Wikimedia Commons -->\\n\\t\\t  \\t\\t<div class=\"mainbox\">\\n\\t\\t\\t\\t\\t<div><a href=\"http://commons.wikimedia.org/wiki/Accueil\"><img src=\"Fichiers/LogoCommons.png\" style=\"padding-top:0.5em; float: left;\" title=\"Accueil de Wikimedia Commons\" alt=\"Logo Wikimedia Commons\" align=\"left\" border=\"0\" /></a></div>\\n\\t\\t\\t\\t\\t<div class=\"maincontent\">\\n\\t\\t\\t\\t\\t\\t<p class=\"style1\" style=\"text-align: center; font-size: 12pt;\"><b>Chercher des images sur <a href=\"http://commons.wikimedia.org/\">Wikimedia Commons</a>\\t</b></p><p class=\"style2\" style=\"text-align: center; font-size: 9pt;\">La m\\xc3\\xa9diath\\xc3\\xa8que de documents multim\\xc3\\xa9dia libres.</p>\\n\\t\\t\\t\\t\\t\\t<div class=\"form\" align=\"center\">\\n\\t\\t\\t\\t\\t\\t\\t<form action=\"ResultatsCommons.php\" method=\"get\" style=\"padding-top:0.5em;\"><input class=\"txtSearch\" name=\"q\" type=\"text\" title=\"Chercher sur Wikimedia Commons\" accesskey=\"f\" />&nbsp; <input class=\"cmdSearch\" value=\"Chercher\" alt=\"Commencer la rechercher\" type=\"submit\" /></form><br/></div>\\n\\t\\t\\t\\t\\t</div>\\n\\t\\t\\t\\t</div>\\n                \\n                <!-- Bo\\xc3\\xaete \"Dans les autres projets Wikimedia\" -->\\n                <div class=\"mainbox\">\\n                <p style=\"text-align:center;\"><b>Chercher dans les autres projets Wikimedia <a href=\"http://www.wikimedia.fr/nous-soutenons\" title=\"Wikim\\xc3\\xa9dia France soutient les projets Wikimedia\">soutenus par Wikim\\xc3\\xa9dia France</a>&nbsp;:</b></p>\\n                <table border=\"0\" cellpadding=\"4\" style=\"text-align:center;\"><tr valign=\"bottom\"><td><a href=\"index.php?projet=source\"><img src=\"Fichiers/LogoWikisourcemini.png\" alt=\"Wikisource\" border=\"0\" /><br/>Wikisource</a><br /><small>(biblioth\\xc3\\xa8que)</small></td><td><a href=\"index.php?projet=dict\"><img src=\"Fichiers/LogoWiktionarymini.png\" alt=\"Wiktionary\" border=\"0\" /><br/>Wiktionary</a><br /><small>(dictionnaire)</small></td><td><a href=\"index.php?projet=quote\"><img src=\"Fichiers/LogoWikiquotemini.png\" alt=\"Wikiquote\" border=\"0\" /><br/>Wikiquote</a><br /><small>(citations)</small></td><td><a href=\"index.php?projet=versity\"><img src=\"Fichiers/LogoWikiversitymini.png\" alt=\"Wikiversity\" border=\"0\" /><br/>Wikiversity</a><br /><small>(docs p\\xc3\\xa9dagogiques)</small></td><td><a href=\"index.php?projet=news\"><img src=\"Fichiers/LogoWikinewsmini.png\" alt=\"Wikinews\" border=\"0\" /><br/>Wikinews</a><br /><small>(actualit\\xc3\\xa9s)</small></td><td><a href=\"index.php?projet=book\"><img src=\"Fichiers/LogoWikibooksmini.png\" alt=\"Wikibooks\" border=\"0\" /><br/>Wikibooks</a><br /><small>(livres)</small></td><td><a href=\"index.php?projet=species\"><img src=\"Fichiers/LogoWikispeciesmini.png\" alt=\"Wikispecies\" border=\"0\" /><br/>Wikispecies</a><br /><small>(taxonomie)</small></td></tr></table>                </div>\\n                \\n               \\t<center><div id=\"footer\" style=\"width:80%;\">\\n\\t\\t\\t<p style=\"line-height:15px\"><strong><a href=\"https://dons.wikimedia.fr/b/mon-don\" title=\"Faire un don pour soutenir Wikip&eacute;dia\"> Faire un don &agrave; Wikim&eacute;dia France et soutenir Wikip&eacute;dia.</a></strong><br/><small>Wikipedia.fr est un site de l\\'association <a href=\"http://www.wikimedia.fr\">Wikim&eacute;dia France</a>. Les r&eacute;sultats du moteur de recherche proviennent de <a href=\"http://www.wikiwix.com/?lang=fr\">Wikiwix</a> d&eacute;velopp&eacute; par <a href=\"http://www.linterweb.fr/\">LinterWeb</a>. Signalez les bugs et envoyez vos suggestions <a href=\"mailto:info@wikimedia.fr\">par courriel</a>.<br /><a href=\"http://www.wikipedia.org/\">Wikip&eacute;dia</a>, <a href=\"http://commons.wikimedia.org/\">Wikimedia Commons</a>, <a href=\"http://www.wikisource.org/\">Wikisource</a>, <a href=\"http://www.wiktionary.org/\">Wiktionary</a>, <a href=\"http://www.wikiquote.org/\">Wikiquote</a>, <a href=\"http://www.wikiversity.org/\">Wikiversity</a>, <a href=\"http://www.wikinews.org/\">Wikinews</a>, <a href=\"http://www.wikibooks.org/\">Wikibooks</a> et <a href=\"http://species.wikimedia.org/\">Wikispecies</a> sont des projets h&eacute;berg&eacute;s par la <a href=\"http://wikimediafoundation.org/wiki/%C3%80_propos_de_Wikimedia\">Wikimedia Foundation Inc.</a><br />Banni&egrave;re d\\'ent&ecirc;te sous licence <a href=\"http://creativecommons.org/licenses/by-sa/2.0/fr/deed.fr\">CC-BY-SA 2.0</a> con&ccedil;ue et r&eacute;alis&eacute;e par nojhan &agrave; partir des &oelig;uvres de <a href=\"http://commons.wikimedia.org/wiki/File:Metal_movable_type.jpg\">Willi\\nHeidelbach</a>, <a href=\"http://commons.wikimedia.org/wiki/File:Hard_disk_head_crash.jpg\">Alchemist-hp</a> et <a href=\"http://commons.wikimedia.org/wiki/File:Mains_pou%C3%A9tiques_mg_6663.jpg\">Rama</a> de Wikimedia Commons, de <a href=\"http://www.flickr.com/photos/svofski/3668383650/\">Viacheslav\\nSlavinsky</a> de Flickr et d\\'une <a href=\"\\nhttp://commons.wikimedia.org/wiki/File:Vinland_Map_HiRes.jpg\">carte tomb&eacute;e dans le domaine public</a> (Yale University Press).</small></p>  \\n\\t\\t</div></center>\\n\\n<!-- Piwik -->\\n<script type=\"text/javascript\">\\n  var _paq = _paq || [];\\n  _paq.push([\"trackPageView\"]);\\n  _paq.push([\"enableLinkTracking\"]);\\n\\n  (function() {\\n    var u=((\"https:\" == document.location.protocol) ? \"https\" : \"http\") + \"://analytics.wikimedia.fr/\";\\n    _paq.push([\"setTrackerUrl\", u+\"piwik.php\"]);\\n    _paq.push([\"setSiteId\", \"6\"]);\\n    var d=document, g=d.createElement(\"script\"), s=d.getElementsByTagName(\"script\")[0]; g.type=\"text/javascript\";\\n    g.defer=true; g.async=true; g.src=u+\"piwik.js\"; s.parentNode.insertBefore(g,s);\\n  })();\\n</script>\\n<!-- End Piwik Code -->\\n                \\n                </center>\\n\\t\\t\\t</div><!-- / contenu_left -->\\n\\t\\t\\t\\n           \\t                <div id=\"sidebar\">\\n\\t\\t\\t<img src=\"Fichiers/Wikimedia_France_logo.png\" />\\n\\t\\t\\t<h3>Collecte de fonds annuelle de Wikim\\xc3\\xa9dia France</h3>\\n \\n\\t\\t\\t<p>Comme chaque ann\\xc3\\xa9e, Wikim\\xc3\\xa9dia France sollicite le soutien des Fran\\xc3\\xa7ais afin de continuer \\xc3\\xa0 soutenir des actions visant \\xc3\\xa0 rendre accessibles toujours plus de connaissances sur Wikip\\xc3\\xa9dia, au plus grand nombre de personnes possible.<p>\\n\\n\\t\\t\\t<p><a target=\"_blank\" href=\"https://dons.wikimedia.fr/b/mon-don\">En savoir plus...</a></p> \\n\\t\\t\\t<!--<iframe src=\"https://contacts.wikimedia.fr/ext/campaign-thermometer/donations-iframe.php\" width=\"250px\" height=\"320px\" frameborder=\"0\"></iframe>-->\\n\\t\\t</div>\\n\\n\\t\\t\\t\\t\\t\\t\\n\\t\\t</div> <!-- /container -->\\n\\t\\t\\n\\t</div> <!-- / wrapper -->\\n\\t\\n\\n</body>\\n</html>\\n'"
      ]
     },
     "execution_count": 13,
     "metadata": {},
     "output_type": "execute_result"
    }
   ],
   "source": [
    "res.content\n",
    "# Queremos ver el contenido de res, para ver el contenido bruto (en bytes):"
   ]
  },
  {
   "cell_type": "markdown",
   "metadata": {},
   "source": [
    "Ou directement sous forme de chaine de caractères (**str**) décodée (requests fera de son mieux pour détecter lui-même le bon encodage) :"
   ]
  },
  {
   "cell_type": "code",
   "execution_count": 14,
   "metadata": {
    "ExecuteTime": {
     "end_time": "2019-02-08T09:38:35.855866Z",
     "start_time": "2019-02-08T09:38:35.833713Z"
    }
   },
   "outputs": [
    {
     "data": {
      "text/plain": [
       "'<!DOCTYPE html PUBLIC \"-//W3C//DTD XHTML 1.0 Transitional//EN\" \"http://www.w3.org/TR/xhtml1/DTD/xhtml1-transitional.dtd\">\\n<html xmlns=\"http://www.w3.org/1999/xhtml\">\\n<!-- INTERFACE DEVELOPPÃ\\x89E PAR BAPTI -->\\n<!-- pour l\\'association WikimÃ©dia France -->\\n<!-- http://meta.wikimedia.org/wiki/User:Bapti -->\\n<head>\\n<meta http-equiv=\"Content-Type\" content=\"text/html; charset=UTF-8\" />\\n<meta name=\"verify-v1\" content=\"wOr5wtKmZ0N22eMkjrTeTHV91dwVLau0e7uTFmo4zLM=\" />\\n<meta name=\"description\" content=\"Portail de recherche sur les projets Wikimedia : WikipÃ©dia, WikimÃ©dia Commons, Wikisource, Wiktionary, Wikiquote, Wikiversity, Wikinews, Wikibooks et Wikispecies.\" />\\n<meta name=\"robots\" content=\"index, follow\" />\\n<link rel=\"shortcut icon\" href=\"Fichiers/favicon/faviconWikipedia.ico\" />\\n<title>Wikipedia.fr - Portail de recherche sur les projets WikimÃ©dia</title>\\n\\n\\n<link rel=\"stylesheet\" type=\"text/css\" href=\"css/main.css\" />\\n</head>\\n\\n<body onload=\"self.focus();document.getElementById(\\'Search\\').focus();\">\\n\\t\\n\\t<div id=\"wrapper\">\\n    \\n\\t    <div id=\"entete\">\\n\\t    \\t<!--<div id=\"fond-blanc\">&nbsp;</div>-->\\n\\t    \\t<!--<div id=\"fond-bleu\">&nbsp;</div> -->\\n\\t\\t</div>\\n\\t\\t\\n    \\t<div id=\"container\">\\n\\t\\t<div id=\"header\">\\n<div id=\"logo-floater\">\\n\\t<a href=\"https://dons.wikimedia.fr/soutenez-nous/~mon-don\"><img src=\"Fichiers/faites_un_don.png\" width=\"1080px\" /></a>\\n</div>\\n\\t\\t</div>   <!-- /header -->\\n\\t    \\n\\t\\t\\t<br clear=\"all\" />\\n\\t\\t\\t\\n\\t\\t\\t<div id=\"contenu_left\">\\n\\t\\t\\t\\t<center>\\n<!--<iframe width=\"560\" height=\"315\" src=\"https://www.youtube.com/embed/xU0mmBxJpP4\" frameborder=\"0\" allowfullscreen></iframe>-->\\n<br /><br />\\n                <!-- BoÃ®te Recherche $Projet -->\\n                <div class=\"mainbox\">\\n\\t\\t\\t\\t\\t<div>\\n\\t\\t\\t\\t\\t\\t<a href=\"http://fr.wikipedia.org/\" title=\"Accueil de WikipÃ©dia en franÃ§ais\"><img src=\"Fichiers/LogoWikipedia.png\" alt=\"Logo WikipÃ©dia en franÃ§ais\" align=\"left\" border=\"0\" style=\"float: left; padding-top:1.0em;\" /></a></div><div class=\"maincontent\"><p class=\"style1\" style=\"text-align: center; font-size: 12pt;\"><b>Chercher sur <a href=\"http://fr.wikipedia.org/\">WikipÃ©dia en franÃ§ais</a></b></p><p class=\"style2\" style=\"text-align: center; font-size: 9pt;\">Lâ\\x80\\x99encyclopÃ©die librement rÃ©utilisable que chacun peut amÃ©liorer.</p><div class=\"form\" align=\"center\"><form action=\"Resultats.php\" method=\"get\" style=\"padding-top:0.5em;\"><input class=\"txtSearch\" name=\"q\" type=\"text\" title=\"Chercher sur WikipÃ©dia en franÃ§ais\" accesskey=\"f\" id=\"Search\" /><input type=\"hidden\" name=\"projet\" value=\"article\" />&nbsp;<input value=\"Chercher\" alt=\"Commencer la rechercher\" type=\"submit\" /></form></div><p class=\"style2\" style=\"text-align: center;\"><a href=\"Resultats.php?projet=article&amp;lang=oui\" title=\"Wikipedia dans d\\'autres langues\"><em>Wikipedia dans d\\'autres langues</em></a></p>\\t\\t\\t\\t\\t</div>\\n\\t\\t\\t\\t</div>\\n\\t\\t\\t\\t\\n                <!-- BoÃ®te Recherche Wikimedia Commons -->\\n\\t\\t  \\t\\t<div class=\"mainbox\">\\n\\t\\t\\t\\t\\t<div><a href=\"http://commons.wikimedia.org/wiki/Accueil\"><img src=\"Fichiers/LogoCommons.png\" style=\"padding-top:0.5em; float: left;\" title=\"Accueil de Wikimedia Commons\" alt=\"Logo Wikimedia Commons\" align=\"left\" border=\"0\" /></a></div>\\n\\t\\t\\t\\t\\t<div class=\"maincontent\">\\n\\t\\t\\t\\t\\t\\t<p class=\"style1\" style=\"text-align: center; font-size: 12pt;\"><b>Chercher des images sur <a href=\"http://commons.wikimedia.org/\">Wikimedia Commons</a>\\t</b></p><p class=\"style2\" style=\"text-align: center; font-size: 9pt;\">La mÃ©diathÃ¨que de documents multimÃ©dia libres.</p>\\n\\t\\t\\t\\t\\t\\t<div class=\"form\" align=\"center\">\\n\\t\\t\\t\\t\\t\\t\\t<form action=\"ResultatsCommons.php\" method=\"get\" style=\"padding-top:0.5em;\"><input class=\"txtSearch\" name=\"q\" type=\"text\" title=\"Chercher sur Wikimedia Commons\" accesskey=\"f\" />&nbsp; <input class=\"cmdSearch\" value=\"Chercher\" alt=\"Commencer la rechercher\" type=\"submit\" /></form><br/></div>\\n\\t\\t\\t\\t\\t</div>\\n\\t\\t\\t\\t</div>\\n                \\n                <!-- BoÃ®te \"Dans les autres projets Wikimedia\" -->\\n                <div class=\"mainbox\">\\n                <p style=\"text-align:center;\"><b>Chercher dans les autres projets Wikimedia <a href=\"http://www.wikimedia.fr/nous-soutenons\" title=\"WikimÃ©dia France soutient les projets Wikimedia\">soutenus par WikimÃ©dia France</a>&nbsp;:</b></p>\\n                <table border=\"0\" cellpadding=\"4\" style=\"text-align:center;\"><tr valign=\"bottom\"><td><a href=\"index.php?projet=source\"><img src=\"Fichiers/LogoWikisourcemini.png\" alt=\"Wikisource\" border=\"0\" /><br/>Wikisource</a><br /><small>(bibliothÃ¨que)</small></td><td><a href=\"index.php?projet=dict\"><img src=\"Fichiers/LogoWiktionarymini.png\" alt=\"Wiktionary\" border=\"0\" /><br/>Wiktionary</a><br /><small>(dictionnaire)</small></td><td><a href=\"index.php?projet=quote\"><img src=\"Fichiers/LogoWikiquotemini.png\" alt=\"Wikiquote\" border=\"0\" /><br/>Wikiquote</a><br /><small>(citations)</small></td><td><a href=\"index.php?projet=versity\"><img src=\"Fichiers/LogoWikiversitymini.png\" alt=\"Wikiversity\" border=\"0\" /><br/>Wikiversity</a><br /><small>(docs pÃ©dagogiques)</small></td><td><a href=\"index.php?projet=news\"><img src=\"Fichiers/LogoWikinewsmini.png\" alt=\"Wikinews\" border=\"0\" /><br/>Wikinews</a><br /><small>(actualitÃ©s)</small></td><td><a href=\"index.php?projet=book\"><img src=\"Fichiers/LogoWikibooksmini.png\" alt=\"Wikibooks\" border=\"0\" /><br/>Wikibooks</a><br /><small>(livres)</small></td><td><a href=\"index.php?projet=species\"><img src=\"Fichiers/LogoWikispeciesmini.png\" alt=\"Wikispecies\" border=\"0\" /><br/>Wikispecies</a><br /><small>(taxonomie)</small></td></tr></table>                </div>\\n                \\n               \\t<center><div id=\"footer\" style=\"width:80%;\">\\n\\t\\t\\t<p style=\"line-height:15px\"><strong><a href=\"https://dons.wikimedia.fr/b/mon-don\" title=\"Faire un don pour soutenir Wikip&eacute;dia\"> Faire un don &agrave; Wikim&eacute;dia France et soutenir Wikip&eacute;dia.</a></strong><br/><small>Wikipedia.fr est un site de l\\'association <a href=\"http://www.wikimedia.fr\">Wikim&eacute;dia France</a>. Les r&eacute;sultats du moteur de recherche proviennent de <a href=\"http://www.wikiwix.com/?lang=fr\">Wikiwix</a> d&eacute;velopp&eacute; par <a href=\"http://www.linterweb.fr/\">LinterWeb</a>. Signalez les bugs et envoyez vos suggestions <a href=\"mailto:info@wikimedia.fr\">par courriel</a>.<br /><a href=\"http://www.wikipedia.org/\">Wikip&eacute;dia</a>, <a href=\"http://commons.wikimedia.org/\">Wikimedia Commons</a>, <a href=\"http://www.wikisource.org/\">Wikisource</a>, <a href=\"http://www.wiktionary.org/\">Wiktionary</a>, <a href=\"http://www.wikiquote.org/\">Wikiquote</a>, <a href=\"http://www.wikiversity.org/\">Wikiversity</a>, <a href=\"http://www.wikinews.org/\">Wikinews</a>, <a href=\"http://www.wikibooks.org/\">Wikibooks</a> et <a href=\"http://species.wikimedia.org/\">Wikispecies</a> sont des projets h&eacute;berg&eacute;s par la <a href=\"http://wikimediafoundation.org/wiki/%C3%80_propos_de_Wikimedia\">Wikimedia Foundation Inc.</a><br />Banni&egrave;re d\\'ent&ecirc;te sous licence <a href=\"http://creativecommons.org/licenses/by-sa/2.0/fr/deed.fr\">CC-BY-SA 2.0</a> con&ccedil;ue et r&eacute;alis&eacute;e par nojhan &agrave; partir des &oelig;uvres de <a href=\"http://commons.wikimedia.org/wiki/File:Metal_movable_type.jpg\">Willi\\nHeidelbach</a>, <a href=\"http://commons.wikimedia.org/wiki/File:Hard_disk_head_crash.jpg\">Alchemist-hp</a> et <a href=\"http://commons.wikimedia.org/wiki/File:Mains_pou%C3%A9tiques_mg_6663.jpg\">Rama</a> de Wikimedia Commons, de <a href=\"http://www.flickr.com/photos/svofski/3668383650/\">Viacheslav\\nSlavinsky</a> de Flickr et d\\'une <a href=\"\\nhttp://commons.wikimedia.org/wiki/File:Vinland_Map_HiRes.jpg\">carte tomb&eacute;e dans le domaine public</a> (Yale University Press).</small></p>  \\n\\t\\t</div></center>\\n\\n<!-- Piwik -->\\n<script type=\"text/javascript\">\\n  var _paq = _paq || [];\\n  _paq.push([\"trackPageView\"]);\\n  _paq.push([\"enableLinkTracking\"]);\\n\\n  (function() {\\n    var u=((\"https:\" == document.location.protocol) ? \"https\" : \"http\") + \"://analytics.wikimedia.fr/\";\\n    _paq.push([\"setTrackerUrl\", u+\"piwik.php\"]);\\n    _paq.push([\"setSiteId\", \"6\"]);\\n    var d=document, g=d.createElement(\"script\"), s=d.getElementsByTagName(\"script\")[0]; g.type=\"text/javascript\";\\n    g.defer=true; g.async=true; g.src=u+\"piwik.js\"; s.parentNode.insertBefore(g,s);\\n  })();\\n</script>\\n<!-- End Piwik Code -->\\n                \\n                </center>\\n\\t\\t\\t</div><!-- / contenu_left -->\\n\\t\\t\\t\\n           \\t                <div id=\"sidebar\">\\n\\t\\t\\t<img src=\"Fichiers/Wikimedia_France_logo.png\" />\\n\\t\\t\\t<h3>Collecte de fonds annuelle de WikimÃ©dia France</h3>\\n \\n\\t\\t\\t<p>Comme chaque annÃ©e, WikimÃ©dia France sollicite le soutien des FranÃ§ais afin de continuer Ã\\xa0 soutenir des actions visant Ã\\xa0 rendre accessibles toujours plus de connaissances sur WikipÃ©dia, au plus grand nombre de personnes possible.<p>\\n\\n\\t\\t\\t<p><a target=\"_blank\" href=\"https://dons.wikimedia.fr/b/mon-don\">En savoir plus...</a></p> \\n\\t\\t\\t<!--<iframe src=\"https://contacts.wikimedia.fr/ext/campaign-thermometer/donations-iframe.php\" width=\"250px\" height=\"320px\" frameborder=\"0\"></iframe>-->\\n\\t\\t</div>\\n\\n\\t\\t\\t\\t\\t\\t\\n\\t\\t</div> <!-- /container -->\\n\\t\\t\\n\\t</div> <!-- / wrapper -->\\n\\t\\n\\n</body>\\n</html>\\n'"
      ]
     },
     "execution_count": 14,
     "metadata": {},
     "output_type": "execute_result"
    }
   ],
   "source": [
    "res.text\n",
    "# En cadena de caracteres. Si no obtenemos mucha cosa analizar navegando con el navegador, cual es la puerta de entrada\n",
    "# a la pagina. Por ejemplo en wikipedia si vamos a index, encontramos index.htp y tiene mucha mas info (http://www.wikipedia.fr/index.php)\n",
    "# Cambio a esta pagina, pero antes habiamos empezado con res = sess.get('http://www.wikipedia.fr')"
   ]
  },
  {
   "cell_type": "markdown",
   "metadata": {},
   "source": [
    "##### En-têtes (headers)"
   ]
  },
  {
   "cell_type": "markdown",
   "metadata": {},
   "source": [
    "On peut aussi obtenir les **en-têtes (headers)** de la réponse :"
   ]
  },
  {
   "cell_type": "code",
   "execution_count": 15,
   "metadata": {
    "ExecuteTime": {
     "end_time": "2019-02-08T09:38:46.200778Z",
     "start_time": "2019-02-08T09:38:46.169668Z"
    }
   },
   "outputs": [
    {
     "data": {
      "text/plain": [
       "{'Date': 'Fri, 08 Feb 2019 09:38:22 GMT', 'Server': 'Apache', 'Vary': 'Accept-Encoding', 'Content-Encoding': 'gzip', 'Content-Length': '3236', 'Connection': 'close', 'Content-Type': 'text/html'}"
      ]
     },
     "execution_count": 15,
     "metadata": {},
     "output_type": "execute_result"
    }
   ],
   "source": [
    "res.headers"
   ]
  },
  {
   "cell_type": "markdown",
   "metadata": {},
   "source": [
    "On peut particulièrement noter les clés :\n",
    "- **Content-type** qui indique si la réponse est en html, en binaire (fichiers exécutables par exemple) ou autres (images par exemple)\n",
    "- **Content-length** la taille en octets de la réponse\n",
    "\n",
    "NB : Les clés ne sont pas sensibles à la casse"
   ]
  },
  {
   "cell_type": "markdown",
   "metadata": {},
   "source": [
    "Ou uniquement les **cookies** (une partie des en-têtes qui peut aussi elle-même être représentée sous forme de dictionnaire."
   ]
  },
  {
   "cell_type": "code",
   "execution_count": 16,
   "metadata": {
    "ExecuteTime": {
     "end_time": "2019-02-08T09:40:27.068350Z",
     "start_time": "2019-02-08T09:40:27.052730Z"
    }
   },
   "outputs": [
    {
     "data": {
      "text/plain": [
       "{}"
      ]
     },
     "execution_count": 16,
     "metadata": {},
     "output_type": "execute_result"
    }
   ],
   "source": [
    "res.cookies.get_dict()"
   ]
  },
  {
   "cell_type": "markdown",
   "metadata": {},
   "source": [
    "##### Code de statuts"
   ]
  },
  {
   "cell_type": "markdown",
   "metadata": {},
   "source": [
    "On peut encore demander directement le code de status de la réponse au format entier (utile pour tester que la réponse a fonctionné)"
   ]
  },
  {
   "cell_type": "code",
   "execution_count": 17,
   "metadata": {
    "ExecuteTime": {
     "end_time": "2019-02-08T09:41:53.135088Z",
     "start_time": "2019-02-08T09:41:53.119501Z"
    }
   },
   "outputs": [
    {
     "data": {
      "text/plain": [
       "True"
      ]
     },
     "execution_count": 17,
     "metadata": {},
     "output_type": "execute_result"
    }
   ],
   "source": [
    "res.status_code == 200"
   ]
  },
  {
   "cell_type": "markdown",
   "metadata": {},
   "source": [
    "### Le type requests.models.PreparedRequest"
   ]
  },
  {
   "cell_type": "code",
   "execution_count": 18,
   "metadata": {
    "ExecuteTime": {
     "end_time": "2019-02-08T09:43:03.780804Z",
     "start_time": "2019-02-08T09:43:03.765184Z"
    }
   },
   "outputs": [
    {
     "data": {
      "text/plain": [
       "<PreparedRequest [GET]>"
      ]
     },
     "execution_count": 18,
     "metadata": {},
     "output_type": "execute_result"
    }
   ],
   "source": [
    "res.request"
   ]
  },
  {
   "cell_type": "markdown",
   "metadata": {},
   "source": [
    "Cette requête a elle-même les attributs d'une requête :"
   ]
  },
  {
   "cell_type": "code",
   "execution_count": 19,
   "metadata": {
    "ExecuteTime": {
     "end_time": "2019-02-08T09:43:07.411296Z",
     "start_time": "2019-02-08T09:43:07.380046Z"
    }
   },
   "outputs": [
    {
     "data": {
      "text/plain": [
       "'http://www.wikipedia.fr/index.php'"
      ]
     },
     "execution_count": 19,
     "metadata": {},
     "output_type": "execute_result"
    }
   ],
   "source": [
    "res.request.url"
   ]
  },
  {
   "cell_type": "code",
   "execution_count": 20,
   "metadata": {
    "ExecuteTime": {
     "end_time": "2019-02-08T09:43:14.376569Z",
     "start_time": "2019-02-08T09:43:14.360948Z"
    }
   },
   "outputs": [
    {
     "data": {
      "text/plain": [
       "{'User-Agent': 'python-requests/2.21.0', 'Accept-Encoding': 'gzip, deflate', 'Accept': '*/*', 'Connection': 'keep-alive'}"
      ]
     },
     "execution_count": 20,
     "metadata": {},
     "output_type": "execute_result"
    }
   ],
   "source": [
    "res.request.headers"
   ]
  },
  {
   "cell_type": "markdown",
   "metadata": {},
   "source": [
    "Voici les en-têtes que requests inclut par défaut (lorsque l'on ne spécifie rien) dans sa requête, il s'agit de :\n",
    "- 'Accept': '\\*/\\*' (il dit au site qu'il accepte tout type de données dans la réponse)\n",
    "- 'Accept-Encoding': 'gzip, deflate' (il dit au site qu'il accepte en retour des pages, mêmes si elles sont compressées en gzip ou deflate, deux formats classiques de compression de pages sur internet)\n",
    "- 'Connection': 'keep-alive' (il demande au site de garder la connection ouverte pour accélerer de futures nouvelles requêtes)\n",
    "- 'User-Agent': 'python-requests/2.14.2' (il dit au site que l'agent utilisé pour le contacter est python-requests)"
   ]
  },
  {
   "cell_type": "code",
   "execution_count": 21,
   "metadata": {
    "ExecuteTime": {
     "end_time": "2019-02-08T09:43:24.447096Z",
     "start_time": "2019-02-08T09:43:24.431476Z"
    }
   },
   "outputs": [
    {
     "data": {
      "text/plain": [
       "requests.models.PreparedRequest"
      ]
     },
     "execution_count": 21,
     "metadata": {},
     "output_type": "execute_result"
    }
   ],
   "source": [
    "type(res.request)"
   ]
  },
  {
   "cell_type": "markdown",
   "metadata": {},
   "source": [
    "## Requête complexes"
   ]
  },
  {
   "cell_type": "markdown",
   "metadata": {},
   "source": [
    "### En-têtes et paramètres"
   ]
  },
  {
   "cell_type": "markdown",
   "metadata": {},
   "source": [
    "##### En-têtes"
   ]
  },
  {
   "cell_type": "markdown",
   "metadata": {},
   "source": [
    "Comme expliqué plus haut, une requête est doté d'autres éléments que simplement un **nom de domaine** et d'un **chemin d'accès** éventuel."
   ]
  },
  {
   "cell_type": "markdown",
   "metadata": {},
   "source": [
    "On peut spécifier des en-têtes, c'est parfois nécessaire, par exemple, en scraping il est souvent nécessaire de faire croire à un site que l'on est un utilisateur d'un navigateur classique :"
   ]
  },
  {
   "cell_type": "code",
   "execution_count": 22,
   "metadata": {
    "ExecuteTime": {
     "end_time": "2019-02-08T09:45:07.908904Z",
     "start_time": "2019-02-08T09:45:07.893531Z"
    }
   },
   "outputs": [],
   "source": [
    "IDENT_USER_AGENT_2018 = 'Mozilla/5.0 (Windows NT 6.1; Win64; x64; rv:65.0) Gecko/20100101 Firefox/65.0'\n",
    "# Para hacerse pasar por un navegador, le decimos \"no soy python request\", soy mozilla X. A veces igual no funciona"
   ]
  },
  {
   "cell_type": "code",
   "execution_count": 23,
   "metadata": {
    "ExecuteTime": {
     "end_time": "2019-02-08T09:45:09.197755Z",
     "start_time": "2019-02-08T09:45:09.182097Z"
    }
   },
   "outputs": [],
   "source": [
    "en_tetes = {\n",
    "    'User-Agent': IDENT_USER_AGENT_2018,\n",
    "}"
   ]
  },
  {
   "cell_type": "code",
   "execution_count": 25,
   "metadata": {
    "ExecuteTime": {
     "end_time": "2019-02-08T09:45:44.126997Z",
     "start_time": "2019-02-08T09:45:44.096031Z"
    }
   },
   "outputs": [
    {
     "data": {
      "text/plain": [
       "<Response [200]>"
      ]
     },
     "execution_count": 25,
     "metadata": {},
     "output_type": "execute_result"
    }
   ],
   "source": [
    "res = sess.get('http://www.wikipedia.fr', headers=en_tetes)\n",
    "res"
   ]
  },
  {
   "cell_type": "code",
   "execution_count": 26,
   "metadata": {
    "ExecuteTime": {
     "end_time": "2019-02-08T09:46:21.415633Z",
     "start_time": "2019-02-08T09:46:21.393500Z"
    }
   },
   "outputs": [
    {
     "data": {
      "text/plain": [
       "{'User-Agent': 'Mozilla/5.0 (Windows NT 6.1; Win64; x64; rv:65.0) Gecko/20100101 Firefox/65.0', 'Accept-Encoding': 'gzip, deflate', 'Accept': '*/*', 'Connection': 'keep-alive'}"
      ]
     },
     "execution_count": 26,
     "metadata": {},
     "output_type": "execute_result"
    }
   ],
   "source": [
    "res.request.headers\n",
    "# Vemos que se \"creyo\" que somos un navigateur"
   ]
  },
  {
   "cell_type": "markdown",
   "metadata": {},
   "source": [
    "NB : ces en-têtes sont ajoutés (sauf en cas de remplacement comme ici avec User-agent) aux 4 en-tetes déjà présents par défaut dans les requêtes de **requests** (Accept, Accept-encoding, Connection et User-agent)"
   ]
  },
  {
   "cell_type": "markdown",
   "metadata": {},
   "source": [
    "##### Paramètres"
   ]
  },
  {
   "cell_type": "code",
   "execution_count": 27,
   "metadata": {
    "ExecuteTime": {
     "end_time": "2019-02-08T09:49:46.632261Z",
     "start_time": "2019-02-08T09:49:46.628273Z"
    }
   },
   "outputs": [],
   "source": [
    "parametres = {\n",
    "    'q': 'Python'\n",
    "}"
   ]
  },
  {
   "cell_type": "code",
   "execution_count": 30,
   "metadata": {
    "ExecuteTime": {
     "end_time": "2019-02-08T09:50:07.181058Z",
     "start_time": "2019-02-08T09:50:07.176073Z"
    }
   },
   "outputs": [
    {
     "data": {
      "text/plain": [
       "{'q': 'Python'}"
      ]
     },
     "execution_count": 30,
     "metadata": {},
     "output_type": "execute_result"
    }
   ],
   "source": [
    "parametres"
   ]
  },
  {
   "cell_type": "code",
   "execution_count": 28,
   "metadata": {
    "ExecuteTime": {
     "end_time": "2019-02-08T09:49:49.023794Z",
     "start_time": "2019-02-08T09:49:47.750288Z"
    }
   },
   "outputs": [
    {
     "data": {
      "text/plain": [
       "<Response [200]>"
      ]
     },
     "execution_count": 28,
     "metadata": {},
     "output_type": "execute_result"
    }
   ],
   "source": [
    "res = sess.get('http://www.google.fr', headers=en_tetes, params=parametres)\n",
    "res\n",
    "# Podemos pasar headers utilizando headers= y parametros usando params="
   ]
  },
  {
   "cell_type": "code",
   "execution_count": 29,
   "metadata": {
    "ExecuteTime": {
     "end_time": "2019-02-08T09:49:49.974215Z",
     "start_time": "2019-02-08T09:49:49.967231Z"
    }
   },
   "outputs": [
    {
     "data": {
      "text/plain": [
       "'<!doctype html><html itemscope=\"\" itemtype=\"http://schema.org/WebPage\" lang=\"fr\"><head><meta charset=\"UTF-8\"><meta content=\"origin\" name=\"referrer\"><meta content=\"/logos/doodles/2019/friedlieb-ferdinand-runges-225th-birthday-4887536710189056-law.gif\" itemprop=\"image\"><meta content=\"origin\" name=\"referrer\"><title>Google</title><script nonce=\"ddIe129WqW6KXfH3B86g5g==\">(function(){window.google={kEI:\\'vlBdXLfhM4iuUtL6gsAD\\',kEXPI:\\'31\\',authuser:0,kscs:\\'c9c918f0_vlBdXLfhM4iuUtL6gsAD\\',kGL:\\'FR\\'};google.k'"
      ]
     },
     "execution_count": 29,
     "metadata": {},
     "output_type": "execute_result"
    }
   ],
   "source": [
    "res.text[:500]"
   ]
  },
  {
   "cell_type": "code",
   "execution_count": 31,
   "metadata": {
    "ExecuteTime": {
     "end_time": "2019-02-08T09:52:54.281029Z",
     "start_time": "2019-02-08T09:52:54.278040Z"
    }
   },
   "outputs": [],
   "source": [
    "# Esto es muy dificil deleer (html), queremos imprimirlo de una manera que nos permita leerlo mejor, eso lo hacemos\n",
    "# en el paso siguiente"
   ]
  },
  {
   "cell_type": "markdown",
   "metadata": {},
   "source": [
    "NB : ici, [:500] est utilisé uniquement pour des raisons d'affichage dans le Notebook : on limite l'affichage à 500 caractères"
   ]
  },
  {
   "cell_type": "markdown",
   "metadata": {},
   "source": [
    "Ecrivons le contenu dans un fichier html temporaire, ce sera plus pratique de visualiser ça sous Notepad++ (utilisons d'abord Beautiful Soup pour le \"prettifyer\", l'indenter proprement)"
   ]
  },
  {
   "cell_type": "code",
   "execution_count": 32,
   "metadata": {
    "ExecuteTime": {
     "end_time": "2019-02-08T09:53:14.835716Z",
     "start_time": "2019-02-08T09:53:13.795660Z"
    }
   },
   "outputs": [],
   "source": [
    "import bs4\n",
    "import requests\n",
    "import json\n",
    "import pprint\n",
    "\n",
    "def imprime_le(resultat):\n",
    "    if type(resultat) is requests.models.Response:\n",
    "        with open('../output/temp_html.html', 'w', encoding='utf-8') as fichier:\n",
    "            objet_bs = bs4.BeautifulSoup(resultat.text, 'html.parser')\n",
    "            fichier.write(objet_bs.prettify())\n",
    "    elif type(resultat) is dict:\n",
    "        with open('../output/temp_json.json', 'w', encoding='utf-8') as fichier:\n",
    "            fichier.write(pprint.PrettyPrinter(indent=4).pformat(resultat))\n",
    "    else:\n",
    "        raise Exception('Objet non supporté')"
   ]
  },
  {
   "cell_type": "code",
   "execution_count": 33,
   "metadata": {
    "ExecuteTime": {
     "end_time": "2019-02-08T09:53:18.215643Z",
     "start_time": "2019-02-08T09:53:17.470121Z"
    }
   },
   "outputs": [],
   "source": [
    "imprime_le(res)\n",
    "# Encontramos el archivo para abrirlo con note++, en C:\\Users\\lucia\\PyBooks\\PyParis_XII_M2\\output\\temp_html.html"
   ]
  },
  {
   "attachments": {
    "image.png": {
     "image/png": "[encoded data removed]"
    }
   },
   "cell_type": "markdown",
   "metadata": {},
   "source": [
    "Hasta aqui vimos requete de tipo \"get\". Tambien estan las \"post\" que son las que se utilisan cuando no queremos que la info se muestre en la url (por ejemplo los datos bancarios). El tipo de requete lo vemos en el explorador del sitio.\n",
    "![image.png](attachment:image.png)\n"
   ]
  },
  {
   "cell_type": "markdown",
   "metadata": {},
   "source": [
    "### Data : requête post"
   ]
  },
  {
   "cell_type": "markdown",
   "metadata": {},
   "source": [
    "Dans le cas d'une requête post on ne parle plus de paramètres, mais de données de la requête"
   ]
  },
  {
   "cell_type": "code",
   "execution_count": 35,
   "metadata": {
    "ExecuteTime": {
     "end_time": "2019-02-08T10:01:01.526502Z",
     "start_time": "2019-02-08T10:01:01.510911Z"
    }
   },
   "outputs": [],
   "source": [
    "donnees = {'key1': 'value1', 'key2': 'value2'}"
   ]
  },
  {
   "cell_type": "code",
   "execution_count": 36,
   "metadata": {
    "ExecuteTime": {
     "end_time": "2019-02-08T10:01:05.284074Z",
     "start_time": "2019-02-08T10:01:05.083754Z"
    }
   },
   "outputs": [
    {
     "data": {
      "text/plain": [
       "<Response [200]>"
      ]
     },
     "execution_count": 36,
     "metadata": {},
     "output_type": "execute_result"
    }
   ],
   "source": [
    "res = sess.post('http://postman-echo.com/post', donnees, headers=en_tetes)\n",
    "res"
   ]
  },
  {
   "cell_type": "code",
   "execution_count": 37,
   "metadata": {
    "ExecuteTime": {
     "end_time": "2019-02-08T10:01:06.371089Z",
     "start_time": "2019-02-08T10:01:06.355470Z"
    }
   },
   "outputs": [
    {
     "data": {
      "text/plain": [
       "'{\"args\":{},\"data\":\"\",\"files\":{},\"form\":{\"key1\":\"value1\",\"key2\":\"value2\"},\"headers\":{\"x-forwarded-proto\":\"https\",\"host\":\"postman-echo.com\",\"content-length\":\"23\",\"accept\":\"*/*\",\"accept-encoding\":\"gzip, deflate\",\"content-type\":\"application/x-www-form-urlencoded\",\"user-agent\":\"Mozilla/5.0 (Windows NT 6.1; Win64; x64; rv:65.0) Gecko/20100101 Firefox/65.0\",\"x-forwarded-port\":\"80\"},\"json\":{\"key1\":\"value1\",\"key2\":\"value2\"},\"url\":\"https://postman-echo.com/post\"}'"
      ]
     },
     "execution_count": 37,
     "metadata": {},
     "output_type": "execute_result"
    }
   ],
   "source": [
    "res.text"
   ]
  },
  {
   "cell_type": "code",
   "execution_count": 38,
   "metadata": {
    "ExecuteTime": {
     "end_time": "2019-02-08T10:01:08.707474Z",
     "start_time": "2019-02-08T10:01:08.692103Z"
    }
   },
   "outputs": [],
   "source": [
    "import json"
   ]
  },
  {
   "cell_type": "code",
   "execution_count": 39,
   "metadata": {
    "ExecuteTime": {
     "end_time": "2019-02-08T10:01:10.550553Z",
     "start_time": "2019-02-08T10:01:10.534932Z"
    }
   },
   "outputs": [
    {
     "data": {
      "text/plain": [
       "{'args': {},\n",
       " 'data': '',\n",
       " 'files': {},\n",
       " 'form': {'key1': 'value1', 'key2': 'value2'},\n",
       " 'headers': {'x-forwarded-proto': 'https',\n",
       "  'host': 'postman-echo.com',\n",
       "  'content-length': '23',\n",
       "  'accept': '*/*',\n",
       "  'accept-encoding': 'gzip, deflate',\n",
       "  'content-type': 'application/x-www-form-urlencoded',\n",
       "  'user-agent': 'Mozilla/5.0 (Windows NT 6.1; Win64; x64; rv:65.0) Gecko/20100101 Firefox/65.0',\n",
       "  'x-forwarded-port': '80'},\n",
       " 'json': {'key1': 'value1', 'key2': 'value2'},\n",
       " 'url': 'https://postman-echo.com/post'}"
      ]
     },
     "execution_count": 39,
     "metadata": {},
     "output_type": "execute_result"
    }
   ],
   "source": [
    "json.loads(res.text)"
   ]
  },
  {
   "cell_type": "markdown",
   "metadata": {},
   "source": [
    "### Identification simple (test avec une API)"
   ]
  },
  {
   "cell_type": "markdown",
   "metadata": {},
   "source": [
    "Identification simple en paramètre"
   ]
  },
  {
   "cell_type": "code",
   "execution_count": 40,
   "metadata": {
    "ExecuteTime": {
     "end_time": "2019-02-08T10:01:19.154715Z",
     "start_time": "2019-02-08T10:01:19.151685Z"
    }
   },
   "outputs": [],
   "source": [
    "OMDB_KEY = 'f56f12e7'\n",
    "SERVER_URL = 'http://www.omdbapi.com/'"
   ]
  },
  {
   "cell_type": "code",
   "execution_count": 41,
   "metadata": {
    "ExecuteTime": {
     "end_time": "2019-02-08T10:01:25.530624Z",
     "start_time": "2019-02-08T10:01:25.515002Z"
    }
   },
   "outputs": [],
   "source": [
    "test_search = 'Dracula'"
   ]
  },
  {
   "cell_type": "code",
   "execution_count": 42,
   "metadata": {
    "ExecuteTime": {
     "end_time": "2019-02-08T10:01:26.886193Z",
     "start_time": "2019-02-08T10:01:26.870565Z"
    }
   },
   "outputs": [],
   "source": [
    "parametres = {\n",
    "    'apikey': OMDB_KEY,\n",
    "    's': test_search,\n",
    "}"
   ]
  },
  {
   "cell_type": "code",
   "execution_count": 43,
   "metadata": {
    "ExecuteTime": {
     "end_time": "2019-02-08T10:01:30.492084Z",
     "start_time": "2019-02-08T10:01:30.423081Z"
    }
   },
   "outputs": [
    {
     "data": {
      "text/plain": [
       "<Response [200]>"
      ]
     },
     "execution_count": 43,
     "metadata": {},
     "output_type": "execute_result"
    }
   ],
   "source": [
    "res = sess.get(SERVER_URL, params=parametres)\n",
    "res"
   ]
  },
  {
   "cell_type": "code",
   "execution_count": 49,
   "metadata": {
    "ExecuteTime": {
     "end_time": "2019-02-08T10:03:22.264854Z",
     "start_time": "2019-02-08T10:03:22.233891Z"
    }
   },
   "outputs": [
    {
     "data": {
      "text/plain": [
       "b'{\"Search\":[{\"Title\":\"Bram Stoker\\'s Dracula\",\"Year\":\"1992\",\"imdbID\":\"tt0103874\",\"Type\":\"movie\",\"Poster\":\"https://m.media-amazon.com/images/M/MV5BMTYyOTM5NzU3Nl5BMl5BanBnXkFtZTgwOTQxNjAxNzE@._V1_SX300.jpg\"},{\"Title\":\"Dracula Untold\",\"Year\":\"2014\",\"imdbID\":\"tt0829150\",\"Type\":\"movie\",\"Poster\":\"https://m.media-amazon.com/images/M/MV5BMTkzNzI1OTI4N15BMl5BanBnXkFtZTgwNTQ2NzEwMjE@._V1_SX300.jpg\"},{\"Title\":\"Dracula\",\"Year\":\"1931\",\"imdbID\":\"tt0021814\",\"Type\":\"movie\",\"Poster\":\"https://m.media-amazon.com/images/M/MV5BZDY2ODZhZWQtNDk0ZS00OGE4LWE4NjAtZjE5MTJhMjExMTRjXkEyXkFqcGdeQXVyNjc1NTYyMjg@._V1_SX300.jpg\"},{\"Title\":\"Dracula: Dead and Loving It\",\"Year\":\"1995\",\"imdbID\":\"tt0112896\",\"Type\":\"movie\",\"Poster\":\"https://m.media-amazon.com/images/M/MV5BZWQ0ZDFmYzMtZGMyMi00NmYxLWE0MGYtYzM2ZGNhMTE1NTczL2ltYWdlL2ltYWdlXkEyXkFqcGdeQXVyMjM5ODMxODc@._V1_SX300.jpg\"},{\"Title\":\"Dracula 2000\",\"Year\":\"2000\",\"imdbID\":\"tt0219653\",\"Type\":\"movie\",\"Poster\":\"https://m.media-amazon.com/images/M/MV5BYzUxYzFlZjYtYWNiOC00ZmY0LThjMjYtMDdlNmRhNmY5MDRjXkEyXkFqcGdeQXVyMTQxNzMzNDI@._V1_SX300.jpg\"},{\"Title\":\"Dracula\",\"Year\":\"2013\\xe2\\x80\\x932014\",\"imdbID\":\"tt2296682\",\"Type\":\"series\",\"Poster\":\"https://m.media-amazon.com/images/M/MV5BMzEzZTIyYjAtODY0Zi00NjhlLWJkOTItMjE0YjBkZDczMTA3XkEyXkFqcGdeQXVyNTA4NzY1MzY@._V1_SX300.jpg\"},{\"Title\":\"Horror of Dracula\",\"Year\":\"1958\",\"imdbID\":\"tt0051554\",\"Type\":\"movie\",\"Poster\":\"https://m.media-amazon.com/images/M/MV5BOGI5YTA5OTMtNDc1Yy00YTc2LTg2MDUtNjdiYzBkZmZkMzVlXkEyXkFqcGdeQXVyMDI2NDg0NQ@@._V1_SX300.jpg\"},{\"Title\":\"Dracula\",\"Year\":\"1979\",\"imdbID\":\"tt0079073\",\"Type\":\"movie\",\"Poster\":\"https://m.media-amazon.com/images/M/MV5BODcxNWU1MzktNzc4MC00YWI3LTllNzktNDY5YmJhMjNiN2YwXkEyXkFqcGdeQXVyMTMxMTY0OTQ@._V1_SX300.jpg\"},{\"Title\":\"Dracula: Prince of Darkness\",\"Year\":\"1966\",\"imdbID\":\"tt0059127\",\"Type\":\"movie\",\"Poster\":\"https://m.media-amazon.com/images/M/MV5BZDZiNWEzNTgtMDNkYS00YWY3LTg3ZmUtZDllMDFhZDUwYjIwXkEyXkFqcGdeQXVyMTQxNzMzNDI@._V1_SX300.jpg\"},{\"Title\":\"The Batman vs. Dracula\",\"Year\":\"2005\",\"imdbID\":\"tt0472219\",\"Type\":\"movie\",\"Poster\":\"https://m.media-amazon.com/images/M/MV5BMTkyMTMwNjA3MV5BMl5BanBnXkFtZTcwNzE2NTI2OQ@@._V1_SX300.jpg\"}],\"totalResults\":\"248\",\"Response\":\"True\"}'"
      ]
     },
     "execution_count": 49,
     "metadata": {},
     "output_type": "execute_result"
    }
   ],
   "source": [
    "res.content\n",
    "#Vemos que el resultado tiene pinta de json"
   ]
  },
  {
   "cell_type": "code",
   "execution_count": 45,
   "metadata": {
    "ExecuteTime": {
     "end_time": "2019-02-08T10:02:06.064474Z",
     "start_time": "2019-02-08T10:02:06.048853Z"
    }
   },
   "outputs": [],
   "source": [
    "json_obj = res.json()\n",
    "#  Para obtenir el json como diccionario"
   ]
  },
  {
   "cell_type": "code",
   "execution_count": 46,
   "metadata": {
    "ExecuteTime": {
     "end_time": "2019-02-08T10:02:07.752370Z",
     "start_time": "2019-02-08T10:02:07.737000Z"
    }
   },
   "outputs": [
    {
     "data": {
      "text/plain": [
       "dict_keys(['Search', 'totalResults', 'Response'])"
      ]
     },
     "execution_count": 46,
     "metadata": {},
     "output_type": "execute_result"
    }
   ],
   "source": [
    "json_obj.keys()"
   ]
  },
  {
   "cell_type": "code",
   "execution_count": 47,
   "metadata": {
    "ExecuteTime": {
     "end_time": "2019-02-08T10:02:12.000991Z",
     "start_time": "2019-02-08T10:02:11.985365Z"
    }
   },
   "outputs": [
    {
     "data": {
      "text/plain": [
       "{'Title': \"Bram Stoker's Dracula\",\n",
       " 'Year': '1992',\n",
       " 'imdbID': 'tt0103874',\n",
       " 'Type': 'movie',\n",
       " 'Poster': 'https://m.media-amazon.com/images/M/MV5BMTYyOTM5NzU3Nl5BMl5BanBnXkFtZTgwOTQxNjAxNzE@._V1_SX300.jpg'}"
      ]
     },
     "execution_count": 47,
     "metadata": {},
     "output_type": "execute_result"
    }
   ],
   "source": [
    "json_obj['Search'][0]"
   ]
  },
  {
   "cell_type": "code",
   "execution_count": 48,
   "metadata": {
    "ExecuteTime": {
     "end_time": "2019-02-08T10:02:53.861938Z",
     "start_time": "2019-02-08T10:02:53.846316Z"
    }
   },
   "outputs": [
    {
     "data": {
      "text/plain": [
       "{'Search': [{'Title': \"Bram Stoker's Dracula\",\n",
       "   'Year': '1992',\n",
       "   'imdbID': 'tt0103874',\n",
       "   'Type': 'movie',\n",
       "   'Poster': 'https://m.media-amazon.com/images/M/MV5BMTYyOTM5NzU3Nl5BMl5BanBnXkFtZTgwOTQxNjAxNzE@._V1_SX300.jpg'},\n",
       "  {'Title': 'Dracula Untold',\n",
       "   'Year': '2014',\n",
       "   'imdbID': 'tt0829150',\n",
       "   'Type': 'movie',\n",
       "   'Poster': 'https://m.media-amazon.com/images/M/MV5BMTkzNzI1OTI4N15BMl5BanBnXkFtZTgwNTQ2NzEwMjE@._V1_SX300.jpg'},\n",
       "  {'Title': 'Dracula',\n",
       "   'Year': '1931',\n",
       "   'imdbID': 'tt0021814',\n",
       "   'Type': 'movie',\n",
       "   'Poster': 'https://m.media-amazon.com/images/M/MV5BZDY2ODZhZWQtNDk0ZS00OGE4LWE4NjAtZjE5MTJhMjExMTRjXkEyXkFqcGdeQXVyNjc1NTYyMjg@._V1_SX300.jpg'},\n",
       "  {'Title': 'Dracula: Dead and Loving It',\n",
       "   'Year': '1995',\n",
       "   'imdbID': 'tt0112896',\n",
       "   'Type': 'movie',\n",
       "   'Poster': 'https://m.media-amazon.com/images/M/MV5BZWQ0ZDFmYzMtZGMyMi00NmYxLWE0MGYtYzM2ZGNhMTE1NTczL2ltYWdlL2ltYWdlXkEyXkFqcGdeQXVyMjM5ODMxODc@._V1_SX300.jpg'},\n",
       "  {'Title': 'Dracula 2000',\n",
       "   'Year': '2000',\n",
       "   'imdbID': 'tt0219653',\n",
       "   'Type': 'movie',\n",
       "   'Poster': 'https://m.media-amazon.com/images/M/MV5BYzUxYzFlZjYtYWNiOC00ZmY0LThjMjYtMDdlNmRhNmY5MDRjXkEyXkFqcGdeQXVyMTQxNzMzNDI@._V1_SX300.jpg'},\n",
       "  {'Title': 'Dracula',\n",
       "   'Year': '2013–2014',\n",
       "   'imdbID': 'tt2296682',\n",
       "   'Type': 'series',\n",
       "   'Poster': 'https://m.media-amazon.com/images/M/MV5BMzEzZTIyYjAtODY0Zi00NjhlLWJkOTItMjE0YjBkZDczMTA3XkEyXkFqcGdeQXVyNTA4NzY1MzY@._V1_SX300.jpg'},\n",
       "  {'Title': 'Horror of Dracula',\n",
       "   'Year': '1958',\n",
       "   'imdbID': 'tt0051554',\n",
       "   'Type': 'movie',\n",
       "   'Poster': 'https://m.media-amazon.com/images/M/MV5BOGI5YTA5OTMtNDc1Yy00YTc2LTg2MDUtNjdiYzBkZmZkMzVlXkEyXkFqcGdeQXVyMDI2NDg0NQ@@._V1_SX300.jpg'},\n",
       "  {'Title': 'Dracula',\n",
       "   'Year': '1979',\n",
       "   'imdbID': 'tt0079073',\n",
       "   'Type': 'movie',\n",
       "   'Poster': 'https://m.media-amazon.com/images/M/MV5BODcxNWU1MzktNzc4MC00YWI3LTllNzktNDY5YmJhMjNiN2YwXkEyXkFqcGdeQXVyMTMxMTY0OTQ@._V1_SX300.jpg'},\n",
       "  {'Title': 'Dracula: Prince of Darkness',\n",
       "   'Year': '1966',\n",
       "   'imdbID': 'tt0059127',\n",
       "   'Type': 'movie',\n",
       "   'Poster': 'https://m.media-amazon.com/images/M/MV5BZDZiNWEzNTgtMDNkYS00YWY3LTg3ZmUtZDllMDFhZDUwYjIwXkEyXkFqcGdeQXVyMTQxNzMzNDI@._V1_SX300.jpg'},\n",
       "  {'Title': 'The Batman vs. Dracula',\n",
       "   'Year': '2005',\n",
       "   'imdbID': 'tt0472219',\n",
       "   'Type': 'movie',\n",
       "   'Poster': 'https://m.media-amazon.com/images/M/MV5BMTkyMTMwNjA3MV5BMl5BanBnXkFtZTcwNzE2NTI2OQ@@._V1_SX300.jpg'}],\n",
       " 'totalResults': '248',\n",
       " 'Response': 'True'}"
      ]
     },
     "execution_count": 48,
     "metadata": {},
     "output_type": "execute_result"
    }
   ],
   "source": [
    "json_obj"
   ]
  },
  {
   "cell_type": "markdown",
   "metadata": {},
   "source": [
    "<div class=\"alert alert-block alert-info\"><b>Pour aller plus loin :</b> <a href=http://docs.python-requests.org/en/master> Le site officiel de <b>Requests</b> </a></div>"
   ]
  },
  {
   "cell_type": "markdown",
   "metadata": {},
   "source": [
    "# Réaliser un scraper simple"
   ]
  },
  {
   "cell_type": "markdown",
   "metadata": {},
   "source": [
    "## Principe"
   ]
  },
  {
   "cell_type": "markdown",
   "metadata": {},
   "source": [
    "Algorithme qui scrape un site une fois sur la base d'une liste de requêts et dont chaque requête renvoi 1 réponse (1 boucle)\n",
    "\n",
    "- Créer la liste des requètes\n",
    "- **Boucle des requêtes**. Pour chaque requête faire :\n",
    "    - Envoi de la requête\n",
    "    - Vérification de la réponse\n",
    "    - Extraction des données\n",
    "    - Traitement des données\n",
    "    - Enregistrement des données\n",
    "    - **Attente**"
   ]
  },
  {
   "cell_type": "markdown",
   "metadata": {},
   "source": [
    "## En détail"
   ]
  },
  {
   "cell_type": "markdown",
   "metadata": {},
   "source": [
    "### Créer la liste des requêtes"
   ]
  },
  {
   "cell_type": "markdown",
   "metadata": {},
   "source": [
    "Cette étape peut être soit :\n",
    "- effectuée à la main (genéralement : constitution sous Excel d'une liste de requêtes)\n",
    "- effectuée par le programme lui-même : il faut alors faire une section de code qui récupère un ensemble de possibilités de requêtes grâce à une extraction HTML ou JSON"
   ]
  },
  {
   "cell_type": "markdown",
   "metadata": {},
   "source": [
    "### Boucle principale"
   ]
  },
  {
   "cell_type": "markdown",
   "metadata": {
    "ExecuteTime": {
     "end_time": "2018-01-20T17:22:17.440330Z",
     "start_time": "2018-01-20T17:22:17.434330Z"
    }
   },
   "source": [
    "#### Envoi de la requête"
   ]
  },
  {
   "cell_type": "markdown",
   "metadata": {},
   "source": [
    "#### Vérication de la réponse"
   ]
  },
  {
   "cell_type": "markdown",
   "metadata": {},
   "source": [
    "On va d'abord vérifier que la requête n'a pas provoqué une erreur en utilisant la gestion des erreurs (**try except**) et en traitant le cas\n",
    "\n",
    "Il sera parfois nécessaire de **\"parer à toute éventualité\"**, en utilisant, en dernier recours, une clause except sans rien après (ce qui fait qu'AUCUNE erreur ne provoque l'arrêt de l'extraction). \n",
    "\n",
    "On vérifie une fois passé le traitement des erreurs que la réponse renvoyée par le server est bien une réponse avec un code de status 200.\n",
    "\n",
    "Il faut bien traiter les cas except et les non-validité du code de status, et bien penser à ajouter un timer si nécessaire pour éviter que l'algorithme ne s'acharne sur un site (cf. ci-dessous)"
   ]
  },
  {
   "cell_type": "markdown",
   "metadata": {},
   "source": [
    "#### Extraction des données"
   ]
  },
  {
   "cell_type": "markdown",
   "metadata": {},
   "source": [
    "On va parcourir la réponse pour obtenir les données brutes. On utilisera alors les modules Beautiful Soup et JSON (parfois l'un après l'autre) pour parcourir les données HTML ou JSON."
   ]
  },
  {
   "cell_type": "markdown",
   "metadata": {},
   "source": [
    "#### Formatage des données"
   ]
  },
  {
   "cell_type": "markdown",
   "metadata": {},
   "source": [
    "On va ensuite transformer ces données brutes pour en faire des données proprement formatées (en pensant déjà si possible à les mettre dans les **types** Python adaptés (par exemple transformer les chaines de caractères en nombres, dates, etc.)"
   ]
  },
  {
   "cell_type": "markdown",
   "metadata": {},
   "source": [
    "#### Enregistrement des résultats"
   ]
  },
  {
   "cell_type": "markdown",
   "metadata": {},
   "source": [
    "On utilisera ensuite généralement pandas pour ajouter nos résultats à une base de données"
   ]
  },
  {
   "cell_type": "markdown",
   "metadata": {},
   "source": [
    "#### Attente"
   ]
  },
  {
   "cell_type": "markdown",
   "metadata": {},
   "source": [
    "<div class=\"alert alert-block alert-danger\"><b>Attention : </b> L'attente est une action essentielle de l'activité de scraping</div>"
   ]
  },
  {
   "cell_type": "markdown",
   "metadata": {},
   "source": [
    "Comme expliqué en début de cours, il est important de respecter les sites que vous allez scraper. Pour cela il est essentiel d'inclure un **timer** dans vos boucles de requêtes. \n",
    "\n",
    "Sans timer, votre boucle, selon son degré de complexité, pourrait partir très vite et se mettre à envoyer plusieurs requêtes par secondes à un site web ! Cela s'apparente à du **flooding** (technique de piratage consistant à provoquer l'inaccessibiltié d'un site en raison d'un trop grand nombre de requêtes). \n",
    "\n",
    "**Il ne faut jamais faire ça !** Ca nuirait au site scrapé et vous attirerait des ennuis...\n",
    "\n",
    "En puis il faut savoir que **même en espaçant nos requêtes d'un laps de temps raisonnable de quelques secondes**, on peut obtenir vite de **grandes quantités de données**. \n",
    "\n",
    "Imaginons un site sur lequel chaque requête ne permet d'obtenir qu'une seule ligne de données. Même avec 1 requêtes toutes les 5 secondes, on obtient plus de 17000 lignes de données en 24 heures ! Or, 1 requête toutes les 5 secondes, c'est très peu pour un site. Songez que lorsque vous naviguez sur un site, vous changez de page (et envoyez donc des requêtes) généralement plus fréquemment qu'1 fois toutes les 5 secondes...\n",
    "\n",
    "La règle est que **toutes les requêtes doivent être espacées par un laps d'attente** (attention lorsque la requête provoque une erreur, cf. plus haut)\n",
    "\n",
    "Pour cela on va utiliser la fonction **sleep** du module de la bibliothèque standard **time**"
   ]
  },
  {
   "cell_type": "markdown",
   "metadata": {},
   "source": [
    "## Application"
   ]
  },
  {
   "cell_type": "markdown",
   "metadata": {
    "ExecuteTime": {
     "end_time": "2019-02-05T22:52:59.483409Z",
     "start_time": "2019-02-05T22:52:59.416409Z"
    }
   },
   "source": [
    "**Site** : http://www.laboiteverte.fr/120-photos-autour-du-pole-sud\n",
    "\n",
    "**Fichier robots du site** : http://www.laboiteverte.fr/robots.txt"
   ]
  },
  {
   "cell_type": "markdown",
   "metadata": {
    "ExecuteTime": {
     "end_time": "2019-02-08T10:55:54.736192Z",
     "start_time": "2019-02-08T10:55:54.714056Z"
    }
   },
   "source": [
    "### Initialisation"
   ]
  },
  {
   "cell_type": "code",
   "execution_count": 56,
   "metadata": {
    "ExecuteTime": {
     "end_time": "2019-02-08T10:43:56.499979Z",
     "start_time": "2019-02-08T10:43:56.484351Z"
    }
   },
   "outputs": [],
   "source": [
    "import requests\n",
    "import bs4"
   ]
  },
  {
   "cell_type": "code",
   "execution_count": 51,
   "metadata": {
    "ExecuteTime": {
     "end_time": "2019-02-08T10:40:04.023888Z",
     "start_time": "2019-02-08T10:40:04.008261Z"
    }
   },
   "outputs": [],
   "source": [
    "sess=requests.session()"
   ]
  },
  {
   "cell_type": "markdown",
   "metadata": {
    "ExecuteTime": {
     "end_time": "2019-02-08T10:56:26.503450Z",
     "start_time": "2019-02-08T10:56:26.488076Z"
    }
   },
   "source": [
    "### Liste requetes"
   ]
  },
  {
   "cell_type": "code",
   "execution_count": 125,
   "metadata": {
    "ExecuteTime": {
     "end_time": "2019-02-08T11:48:11.564725Z",
     "start_time": "2019-02-08T11:48:11.456018Z"
    }
   },
   "outputs": [
    {
     "data": {
      "text/plain": [
       "<Response [200]>"
      ]
     },
     "execution_count": 125,
     "metadata": {},
     "output_type": "execute_result"
    }
   ],
   "source": [
    "res=sess.get('http://www.laboiteverte.fr/120-photos-autour-du-pole-sud')\n",
    "res"
   ]
  },
  {
   "cell_type": "code",
   "execution_count": 126,
   "metadata": {
    "ExecuteTime": {
     "end_time": "2019-02-08T11:48:16.717789Z",
     "start_time": "2019-02-08T11:48:16.709854Z"
    }
   },
   "outputs": [
    {
     "data": {
      "text/plain": [
       "b'<!DOCTYPE html>\\n<html lang=\"fr-FR\" prefix=\"og: http://ogp.me/ns#\">\\n<head>\\n<meta charset=\"UTF-8\">\\n<me'"
      ]
     },
     "execution_count": 126,
     "metadata": {},
     "output_type": "execute_result"
    }
   ],
   "source": [
    "res.content[:100]"
   ]
  },
  {
   "cell_type": "code",
   "execution_count": 127,
   "metadata": {
    "ExecuteTime": {
     "end_time": "2019-02-08T11:48:21.844048Z",
     "start_time": "2019-02-08T11:48:21.740405Z"
    }
   },
   "outputs": [],
   "source": [
    "soup = bs4.BeautifulSoup(res.content, 'html.parser')"
   ]
  },
  {
   "cell_type": "code",
   "execution_count": 128,
   "metadata": {
    "ExecuteTime": {
     "end_time": "2019-02-08T11:48:30.136867Z",
     "start_time": "2019-02-08T11:48:30.120866Z"
    }
   },
   "outputs": [],
   "source": [
    "reponse=soup.find_all('a', attrs={'rel': 'attachment'})"
   ]
  },
  {
   "cell_type": "code",
   "execution_count": 129,
   "metadata": {
    "ExecuteTime": {
     "end_time": "2019-02-08T11:48:31.298213Z",
     "start_time": "2019-02-08T11:48:31.292640Z"
    }
   },
   "outputs": [],
   "source": [
    "test= list(reponses)"
   ]
  },
  {
   "cell_type": "code",
   "execution_count": 130,
   "metadata": {
    "ExecuteTime": {
     "end_time": "2019-02-08T11:48:32.639724Z",
     "start_time": "2019-02-08T11:48:32.631456Z"
    }
   },
   "outputs": [
    {
     "data": {
      "text/plain": [
       "<img src=\"http://www.laboiteverte.fr/wp-content/uploads/2015/10/mcmurdo-hivers-lumiere-nuit.jpg\"/>"
      ]
     },
     "execution_count": 130,
     "metadata": {},
     "output_type": "execute_result"
    }
   ],
   "source": [
    "test[0]"
   ]
  },
  {
   "cell_type": "code",
   "execution_count": 69,
   "metadata": {
    "ExecuteTime": {
     "end_time": "2019-02-08T10:51:18.163524Z",
     "start_time": "2019-02-08T10:51:18.116693Z"
    }
   },
   "outputs": [
    {
     "data": {
      "text/plain": [
       "[<a href=\"http://www.laboiteverte.fr/120-photos-autour-du-pole-sud/mcmurdo-hivers-lumiere-nuit/\" rel=\"attachment wp-att-66657\"><img alt=\"Les lumières de McMurdo éclairent la nuit hivernale - Joshua Swanson\" class=\"size-large wp-image-66657\" data-attachment-id=\"66657\" data-comments-opened=\"1\" data-image-description=\"\" data-image-meta='{\"aperture\":\"2.8\",\"credit\":\"Joshua Swanson\",\"camera\":\"NIKON D7100\",\"caption\":\"\",\"created_timestamp\":\"1433610990\",\"copyright\":\"Joshua_Swanson\",\"focal_length\":\"90\",\"iso\":\"200\",\"shutter_speed\":\"5\",\"title\":\"\",\"orientation\":\"1\"}' data-image-title=\"mcmurdo-hivers-lumiere-nuit\" data-large-file=\"http://www.laboiteverte.fr/wp-content/uploads/2015/10/mcmurdo-hivers-lumiere-nuit-1280x475.jpg\" data-medium-file=\"http://www.laboiteverte.fr/wp-content/uploads/2015/10/mcmurdo-hivers-lumiere-nuit-620x230.jpg\" data-orig-file=\"http://www.laboiteverte.fr/wp-content/uploads/2015/10/mcmurdo-hivers-lumiere-nuit.jpg\" data-orig-size=\"3000,1113\" data-permalink=\"http://www.laboiteverte.fr/120-photos-autour-du-pole-sud/mcmurdo-hivers-lumiere-nuit/\" height=\"401\" sizes=\"(max-width: 1080px) 100vw, 1080px\" src=\"http://www.laboiteverte.fr/wp-content/uploads/2015/10/mcmurdo-hivers-lumiere-nuit-1280x475.jpg\" srcset=\"http://www.laboiteverte.fr/wp-content/uploads/2015/10/mcmurdo-hivers-lumiere-nuit-1280x475.jpg 1280w, http://www.laboiteverte.fr/wp-content/uploads/2015/10/mcmurdo-hivers-lumiere-nuit-620x230.jpg 620w\" width=\"1080\"/></a>,\n",
       " <a href=\"http://www.laboiteverte.fr/120-photos-autour-du-pole-sud/carte-antarctique/\" rel=\"attachment wp-att-66786\"><img alt=\"carte-antarctique\" class=\"wp-image-66786 size-large\" data-attachment-id=\"66786\" data-comments-opened=\"1\" data-image-description=\"\" data-image-meta='{\"aperture\":\"0\",\"credit\":\"\",\"camera\":\"\",\"caption\":\"\",\"created_timestamp\":\"0\",\"copyright\":\"\",\"focal_length\":\"0\",\"iso\":\"0\",\"shutter_speed\":\"0\",\"title\":\"\",\"orientation\":\"1\"}' data-image-title=\"carte-antarctique\" data-large-file=\"http://www.laboiteverte.fr/wp-content/uploads/2015/10/carte-antarctique-1093x920.jpg\" data-medium-file=\"http://www.laboiteverte.fr/wp-content/uploads/2015/10/carte-antarctique-570x480.jpg\" data-orig-file=\"http://www.laboiteverte.fr/wp-content/uploads/2015/10/carte-antarctique.jpg\" data-orig-size=\"1466,1234\" data-permalink=\"http://www.laboiteverte.fr/120-photos-autour-du-pole-sud/carte-antarctique/\" height=\"909\" sizes=\"(max-width: 1080px) 100vw, 1080px\" src=\"http://www.laboiteverte.fr/wp-content/uploads/2015/10/carte-antarctique-1093x920.jpg\" srcset=\"http://www.laboiteverte.fr/wp-content/uploads/2015/10/carte-antarctique-1093x920.jpg 1093w, http://www.laboiteverte.fr/wp-content/uploads/2015/10/carte-antarctique-570x480.jpg 570w, http://www.laboiteverte.fr/wp-content/uploads/2015/10/carte-antarctique.jpg 1466w\" width=\"1080\"/></a>,\n",
       " <a href=\"http://www.laboiteverte.fr/120-photos-autour-du-pole-sud/vue-aerienne-montagne-antartique/\" rel=\"attachment wp-att-66661\"><img alt=\"vue-aerienne-montagne-antartique\" class=\"aligncenter size-large wp-image-66661\" data-attachment-id=\"66661\" data-comments-opened=\"1\" data-image-description=\"\" data-image-meta='{\"aperture\":\"8\",\"credit\":\"\",\"camera\":\"Canon PowerShot G3\",\"caption\":\"\",\"created_timestamp\":\"1067794843\",\"copyright\":\"\",\"focal_length\":\"28.8125\",\"iso\":\"0\",\"shutter_speed\":\"0.0008\",\"title\":\"\",\"orientation\":\"1\"}' data-image-title=\"vue-aerienne-montagne-antartique\" data-large-file=\"http://www.laboiteverte.fr/wp-content/uploads/2015/10/vue-aerienne-montagne-antartique-1280x960.jpg\" data-medium-file=\"http://www.laboiteverte.fr/wp-content/uploads/2015/10/vue-aerienne-montagne-antartique-620x465.jpg\" data-orig-file=\"http://www.laboiteverte.fr/wp-content/uploads/2015/10/vue-aerienne-montagne-antartique.jpg\" data-orig-size=\"2272,1704\" data-permalink=\"http://www.laboiteverte.fr/120-photos-autour-du-pole-sud/vue-aerienne-montagne-antartique/\" height=\"810\" sizes=\"(max-width: 1080px) 100vw, 1080px\" src=\"http://www.laboiteverte.fr/wp-content/uploads/2015/10/vue-aerienne-montagne-antartique-1280x960.jpg\" srcset=\"http://www.laboiteverte.fr/wp-content/uploads/2015/10/vue-aerienne-montagne-antartique-1280x960.jpg 1280w, http://www.laboiteverte.fr/wp-content/uploads/2015/10/vue-aerienne-montagne-antartique-620x465.jpg 620w\" width=\"1080\"/></a>,\n",
       " <a href=\"http://www.laboiteverte.fr/120-photos-autour-du-pole-sud/rv-laurence-gould-brise-glace/\" rel=\"attachment wp-att-66664\"><img alt=\"RV-Laurence-Gould-brise-glace\" class=\"wp-image-66664 size-large\" data-attachment-id=\"66664\" data-comments-opened=\"1\" data-image-description=\"\" data-image-meta='{\"aperture\":\"2.5\",\"credit\":\"\",\"camera\":\"Canon EOS 5D Mark II\",\"caption\":\"\",\"created_timestamp\":\"1434067200\",\"copyright\":\"Cynthia Spence\",\"focal_length\":\"50\",\"iso\":\"800\",\"shutter_speed\":\"0.00625\",\"title\":\"\",\"orientation\":\"1\"}' data-image-title=\"RV-Laurence-Gould-brise-glace\" data-large-file=\"http://www.laboiteverte.fr/wp-content/uploads/2015/10/RV-Laurence-Gould-brise-glace-1280x853.jpg\" data-medium-file=\"http://www.laboiteverte.fr/wp-content/uploads/2015/10/RV-Laurence-Gould-brise-glace-620x413.jpg\" data-orig-file=\"http://www.laboiteverte.fr/wp-content/uploads/2015/10/RV-Laurence-Gould-brise-glace.jpg\" data-orig-size=\"2000,1333\" data-permalink=\"http://www.laboiteverte.fr/120-photos-autour-du-pole-sud/rv-laurence-gould-brise-glace/\" height=\"720\" sizes=\"(max-width: 1080px) 100vw, 1080px\" src=\"http://www.laboiteverte.fr/wp-content/uploads/2015/10/RV-Laurence-Gould-brise-glace-1280x853.jpg\" srcset=\"http://www.laboiteverte.fr/wp-content/uploads/2015/10/RV-Laurence-Gould-brise-glace-1280x853.jpg 1280w, http://www.laboiteverte.fr/wp-content/uploads/2015/10/RV-Laurence-Gould-brise-glace-480x320.jpg 480w, http://www.laboiteverte.fr/wp-content/uploads/2015/10/RV-Laurence-Gould-brise-glace-620x413.jpg 620w\" width=\"1080\"/></a>,\n",
       " <a href=\"http://www.laboiteverte.fr/120-photos-autour-du-pole-sud/lake-hoare-taylor-valley/\" rel=\"attachment wp-att-66665\"><img alt=\"Lake-Hoare-Taylor-Valley\" class=\"wp-image-66665 size-large\" data-attachment-id=\"66665\" data-comments-opened=\"1\" data-image-description=\"\" data-image-meta='{\"aperture\":\"0\",\"credit\":\"\",\"camera\":\"\",\"caption\":\"\",\"created_timestamp\":\"0\",\"copyright\":\"\",\"focal_length\":\"0\",\"iso\":\"0\",\"shutter_speed\":\"0\",\"title\":\"\",\"orientation\":\"0\"}' data-image-title=\"Lake-Hoare-Taylor-Valley\" data-large-file=\"http://www.laboiteverte.fr/wp-content/uploads/2015/10/Lake-Hoare-Taylor-Valley-1280x848.jpg\" data-medium-file=\"http://www.laboiteverte.fr/wp-content/uploads/2015/10/Lake-Hoare-Taylor-Valley-620x411.jpg\" data-orig-file=\"http://www.laboiteverte.fr/wp-content/uploads/2015/10/Lake-Hoare-Taylor-Valley.jpg\" data-orig-size=\"2800,1855\" data-permalink=\"http://www.laboiteverte.fr/120-photos-autour-du-pole-sud/lake-hoare-taylor-valley/\" height=\"716\" sizes=\"(max-width: 1080px) 100vw, 1080px\" src=\"http://www.laboiteverte.fr/wp-content/uploads/2015/10/Lake-Hoare-Taylor-Valley-1280x848.jpg\" srcset=\"http://www.laboiteverte.fr/wp-content/uploads/2015/10/Lake-Hoare-Taylor-Valley-1280x848.jpg 1280w, http://www.laboiteverte.fr/wp-content/uploads/2015/10/Lake-Hoare-Taylor-Valley-620x411.jpg 620w\" width=\"1080\"/></a>,\n",
       " <a href=\"http://www.laboiteverte.fr/120-photos-autour-du-pole-sud/lumiere-rouge-maintenance-telescope-pole-sud/\" rel=\"attachment wp-att-66666\"><img alt=\"Lumiere-rouge-maintenance-telescope-pole-sud\" class=\"wp-image-66666 size-large\" data-attachment-id=\"66666\" data-comments-opened=\"1\" data-image-description=\"\" data-image-meta='{\"aperture\":\"2.8\",\"credit\":\"DLV\",\"camera\":\"Canon EOS 7D\",\"caption\":\"\",\"created_timestamp\":\"1282217140\",\"copyright\":\"DLV\",\"focal_length\":\"17\",\"iso\":\"200\",\"shutter_speed\":\"30\",\"title\":\"\",\"orientation\":\"1\"}' data-image-title=\"Lumiere-rouge-maintenance-telescope-pole-sud\" data-large-file=\"http://www.laboiteverte.fr/wp-content/uploads/2015/10/Lumiere-rouge-maintenance-telescope-pole-sud-1280x853.jpg\" data-medium-file=\"http://www.laboiteverte.fr/wp-content/uploads/2015/10/Lumiere-rouge-maintenance-telescope-pole-sud-620x413.jpg\" data-orig-file=\"http://www.laboiteverte.fr/wp-content/uploads/2015/10/Lumiere-rouge-maintenance-telescope-pole-sud.jpg\" data-orig-size=\"2048,1365\" data-permalink=\"http://www.laboiteverte.fr/120-photos-autour-du-pole-sud/lumiere-rouge-maintenance-telescope-pole-sud/\" height=\"720\" sizes=\"(max-width: 1080px) 100vw, 1080px\" src=\"http://www.laboiteverte.fr/wp-content/uploads/2015/10/Lumiere-rouge-maintenance-telescope-pole-sud-1280x853.jpg\" srcset=\"http://www.laboiteverte.fr/wp-content/uploads/2015/10/Lumiere-rouge-maintenance-telescope-pole-sud-1280x853.jpg 1280w, http://www.laboiteverte.fr/wp-content/uploads/2015/10/Lumiere-rouge-maintenance-telescope-pole-sud-480x320.jpg 480w, http://www.laboiteverte.fr/wp-content/uploads/2015/10/Lumiere-rouge-maintenance-telescope-pole-sud-620x413.jpg 620w\" width=\"1080\"/></a>,\n",
       " <a href=\"http://www.laboiteverte.fr/120-photos-autour-du-pole-sud/ruth-stiple-librairie-amundsen-scott/\" rel=\"attachment wp-att-66662\"><img alt=\"La bibliothèque Ruth Stiple sur la base d'Amundsen-Scott\" class=\"size-large wp-image-66662\" data-attachment-id=\"66662\" data-comments-opened=\"1\" data-image-description=\"\" data-image-meta='{\"aperture\":\"0\",\"credit\":\"\",\"camera\":\"\",\"caption\":\"\",\"created_timestamp\":\"0\",\"copyright\":\"\",\"focal_length\":\"0\",\"iso\":\"0\",\"shutter_speed\":\"0\",\"title\":\"\",\"orientation\":\"0\"}' data-image-title=\"Ruth-Stiple-Librairie-Amundsen-Scott\" data-large-file=\"http://www.laboiteverte.fr/wp-content/uploads/2015/10/Ruth-Stiple-Librairie-Amundsen-Scott-1280x851.jpg\" data-medium-file=\"http://www.laboiteverte.fr/wp-content/uploads/2015/10/Ruth-Stiple-Librairie-Amundsen-Scott-620x412.jpg\" data-orig-file=\"http://www.laboiteverte.fr/wp-content/uploads/2015/10/Ruth-Stiple-Librairie-Amundsen-Scott.jpg\" data-orig-size=\"2800,1861\" data-permalink=\"http://www.laboiteverte.fr/120-photos-autour-du-pole-sud/ruth-stiple-librairie-amundsen-scott/\" height=\"718\" sizes=\"(max-width: 1080px) 100vw, 1080px\" src=\"http://www.laboiteverte.fr/wp-content/uploads/2015/10/Ruth-Stiple-Librairie-Amundsen-Scott-1280x851.jpg\" srcset=\"http://www.laboiteverte.fr/wp-content/uploads/2015/10/Ruth-Stiple-Librairie-Amundsen-Scott-1280x851.jpg 1280w, http://www.laboiteverte.fr/wp-content/uploads/2015/10/Ruth-Stiple-Librairie-Amundsen-Scott-480x320.jpg 480w, http://www.laboiteverte.fr/wp-content/uploads/2015/10/Ruth-Stiple-Librairie-Amundsen-Scott-620x412.jpg 620w\" width=\"1080\"/></a>,\n",
       " <a href=\"http://www.laboiteverte.fr/120-photos-autour-du-pole-sud/orque-vue-aerienne/\" rel=\"attachment wp-att-66668\"><img alt=\"Un orque dans la mer de Ross - Donald Leroy\" class=\"size-large wp-image-66668\" data-attachment-id=\"66668\" data-comments-opened=\"1\" data-image-description=\"\" data-image-meta='{\"aperture\":\"0\",\"credit\":\"\",\"camera\":\"\",\"caption\":\"\",\"created_timestamp\":\"0\",\"copyright\":\"\",\"focal_length\":\"0\",\"iso\":\"0\",\"shutter_speed\":\"0\",\"title\":\"\",\"orientation\":\"0\"}' data-image-title=\"orque-vue-aerienne\" data-large-file=\"http://www.laboiteverte.fr/wp-content/uploads/2015/10/orque-vue-aerienne-1280x853.jpg\" data-medium-file=\"http://www.laboiteverte.fr/wp-content/uploads/2015/10/orque-vue-aerienne-620x413.jpg\" data-orig-file=\"http://www.laboiteverte.fr/wp-content/uploads/2015/10/orque-vue-aerienne.jpg\" data-orig-size=\"2800,1867\" data-permalink=\"http://www.laboiteverte.fr/120-photos-autour-du-pole-sud/orque-vue-aerienne/\" height=\"720\" sizes=\"(max-width: 1080px) 100vw, 1080px\" src=\"http://www.laboiteverte.fr/wp-content/uploads/2015/10/orque-vue-aerienne-1280x853.jpg\" srcset=\"http://www.laboiteverte.fr/wp-content/uploads/2015/10/orque-vue-aerienne-1280x853.jpg 1280w, http://www.laboiteverte.fr/wp-content/uploads/2015/10/orque-vue-aerienne-480x320.jpg 480w, http://www.laboiteverte.fr/wp-content/uploads/2015/10/orque-vue-aerienne-620x413.jpg 620w\" width=\"1080\"/></a>,\n",
       " <a href=\"http://www.laboiteverte.fr/120-photos-autour-du-pole-sud/icecubelab-aurore-australe/\" rel=\"attachment wp-att-66670\"><img alt=\"icecubelab-aurore-australe\" class=\"wp-image-66670 size-large\" data-attachment-id=\"66670\" data-comments-opened=\"1\" data-image-description=\"\" data-image-meta='{\"aperture\":\"0\",\"credit\":\"\",\"camera\":\"\",\"caption\":\"\",\"created_timestamp\":\"0\",\"copyright\":\"\",\"focal_length\":\"0\",\"iso\":\"0\",\"shutter_speed\":\"0\",\"title\":\"\",\"orientation\":\"0\"}' data-image-title=\"icecubelab-aurore-australe\" data-large-file=\"http://www.laboiteverte.fr/wp-content/uploads/2015/10/icecubelab-aurore-australe-1280x853.jpg\" data-medium-file=\"http://www.laboiteverte.fr/wp-content/uploads/2015/10/icecubelab-aurore-australe-620x413.jpg\" data-orig-file=\"http://www.laboiteverte.fr/wp-content/uploads/2015/10/icecubelab-aurore-australe.jpg\" data-orig-size=\"3200,2133\" data-permalink=\"http://www.laboiteverte.fr/120-photos-autour-du-pole-sud/icecubelab-aurore-australe/\" height=\"720\" sizes=\"(max-width: 1080px) 100vw, 1080px\" src=\"http://www.laboiteverte.fr/wp-content/uploads/2015/10/icecubelab-aurore-australe-1280x853.jpg\" srcset=\"http://www.laboiteverte.fr/wp-content/uploads/2015/10/icecubelab-aurore-australe-1280x853.jpg 1280w, http://www.laboiteverte.fr/wp-content/uploads/2015/10/icecubelab-aurore-australe-480x320.jpg 480w, http://www.laboiteverte.fr/wp-content/uploads/2015/10/icecubelab-aurore-australe-620x413.jpg 620w\" width=\"1080\"/></a>,\n",
       " <a href=\"http://www.laboiteverte.fr/120-photos-autour-du-pole-sud/iceberg-chaos-01/\" rel=\"attachment wp-att-66671\"><img alt=\"Un iceberg - Ethan Norris\" class=\"size-large wp-image-66671\" data-attachment-id=\"66671\" data-comments-opened=\"1\" data-image-description=\"\" data-image-meta='{\"aperture\":\"0\",\"credit\":\"\",\"camera\":\"\",\"caption\":\"\",\"created_timestamp\":\"0\",\"copyright\":\"\",\"focal_length\":\"0\",\"iso\":\"0\",\"shutter_speed\":\"0\",\"title\":\"\",\"orientation\":\"0\"}' data-image-title=\"iceberg-chaos-01\" data-large-file=\"http://www.laboiteverte.fr/wp-content/uploads/2015/10/iceberg-chaos-01-1280x960.jpg\" data-medium-file=\"http://www.laboiteverte.fr/wp-content/uploads/2015/10/iceberg-chaos-01-620x465.jpg\" data-orig-file=\"http://www.laboiteverte.fr/wp-content/uploads/2015/10/iceberg-chaos-01.jpg\" data-orig-size=\"3200,2400\" data-permalink=\"http://www.laboiteverte.fr/120-photos-autour-du-pole-sud/iceberg-chaos-01/\" height=\"810\" sizes=\"(max-width: 1080px) 100vw, 1080px\" src=\"http://www.laboiteverte.fr/wp-content/uploads/2015/10/iceberg-chaos-01-1280x960.jpg\" srcset=\"http://www.laboiteverte.fr/wp-content/uploads/2015/10/iceberg-chaos-01-1280x960.jpg 1280w, http://www.laboiteverte.fr/wp-content/uploads/2015/10/iceberg-chaos-01-620x465.jpg 620w\" width=\"1080\"/></a>,\n",
       " <a href=\"http://www.laboiteverte.fr/120-photos-autour-du-pole-sud/iceberg-chaos-02/\" rel=\"attachment wp-att-66672\"><img alt=\"Un iceberg - Ethan Norris\" class=\"size-large wp-image-66672\" data-attachment-id=\"66672\" data-comments-opened=\"1\" data-image-description=\"\" data-image-meta='{\"aperture\":\"0\",\"credit\":\"\",\"camera\":\"\",\"caption\":\"\",\"created_timestamp\":\"0\",\"copyright\":\"\",\"focal_length\":\"0\",\"iso\":\"0\",\"shutter_speed\":\"0\",\"title\":\"\",\"orientation\":\"0\"}' data-image-title=\"iceberg-chaos-02\" data-large-file=\"http://www.laboiteverte.fr/wp-content/uploads/2015/10/iceberg-chaos-02-1280x960.jpg\" data-medium-file=\"http://www.laboiteverte.fr/wp-content/uploads/2015/10/iceberg-chaos-02-620x465.jpg\" data-orig-file=\"http://www.laboiteverte.fr/wp-content/uploads/2015/10/iceberg-chaos-02.jpg\" data-orig-size=\"3200,2400\" data-permalink=\"http://www.laboiteverte.fr/120-photos-autour-du-pole-sud/iceberg-chaos-02/\" height=\"810\" sizes=\"(max-width: 1080px) 100vw, 1080px\" src=\"http://www.laboiteverte.fr/wp-content/uploads/2015/10/iceberg-chaos-02-1280x960.jpg\" srcset=\"http://www.laboiteverte.fr/wp-content/uploads/2015/10/iceberg-chaos-02-1280x960.jpg 1280w, http://www.laboiteverte.fr/wp-content/uploads/2015/10/iceberg-chaos-02-620x465.jpg 620w\" width=\"1080\"/></a>,\n",
       " <a href=\"http://www.laboiteverte.fr/120-photos-autour-du-pole-sud/iceberg-chaos-03/\" rel=\"attachment wp-att-66673\"><img alt=\"Un iceberg - Ethan Norris\" class=\"size-large wp-image-66673\" data-attachment-id=\"66673\" data-comments-opened=\"1\" data-image-description=\"\" data-image-meta='{\"aperture\":\"0\",\"credit\":\"\",\"camera\":\"\",\"caption\":\"\",\"created_timestamp\":\"0\",\"copyright\":\"\",\"focal_length\":\"0\",\"iso\":\"0\",\"shutter_speed\":\"0\",\"title\":\"\",\"orientation\":\"0\"}' data-image-title=\"iceberg-chaos-03\" data-large-file=\"http://www.laboiteverte.fr/wp-content/uploads/2015/10/iceberg-chaos-03-1280x960.jpg\" data-medium-file=\"http://www.laboiteverte.fr/wp-content/uploads/2015/10/iceberg-chaos-03-620x465.jpg\" data-orig-file=\"http://www.laboiteverte.fr/wp-content/uploads/2015/10/iceberg-chaos-03.jpg\" data-orig-size=\"3200,2400\" data-permalink=\"http://www.laboiteverte.fr/120-photos-autour-du-pole-sud/iceberg-chaos-03/\" height=\"810\" sizes=\"(max-width: 1080px) 100vw, 1080px\" src=\"http://www.laboiteverte.fr/wp-content/uploads/2015/10/iceberg-chaos-03-1280x960.jpg\" srcset=\"http://www.laboiteverte.fr/wp-content/uploads/2015/10/iceberg-chaos-03-1280x960.jpg 1280w, http://www.laboiteverte.fr/wp-content/uploads/2015/10/iceberg-chaos-03-620x465.jpg 620w\" width=\"1080\"/></a>,\n",
       " <a href=\"http://www.laboiteverte.fr/120-photos-autour-du-pole-sud/phoque-trou-capteur/\" rel=\"attachment wp-att-66675\"><img alt=\"Un phoque équipé d'appareils de mesures considère la possibilité de rejoindre la mer par un trou dans le sol\" class=\"wp-image-66675\" data-attachment-id=\"66675\" data-comments-opened=\"1\" data-image-description=\"\" data-image-meta='{\"aperture\":\"0\",\"credit\":\"\",\"camera\":\"\",\"caption\":\"\",\"created_timestamp\":\"0\",\"copyright\":\"\",\"focal_length\":\"0\",\"iso\":\"0\",\"shutter_speed\":\"0\",\"title\":\"\",\"orientation\":\"0\"}' data-image-title=\"phoque-trou-capteur\" data-large-file=\"http://www.laboiteverte.fr/wp-content/uploads/2015/10/phoque-trou-capteur-720x1080.jpg\" data-medium-file=\"http://www.laboiteverte.fr/wp-content/uploads/2015/10/phoque-trou-capteur-320x480.jpg\" data-orig-file=\"http://www.laboiteverte.fr/wp-content/uploads/2015/10/phoque-trou-capteur.jpg\" data-orig-size=\"2133,3200\" data-permalink=\"http://www.laboiteverte.fr/120-photos-autour-du-pole-sud/phoque-trou-capteur/\" height=\"920\" sizes=\"(max-width: 613px) 100vw, 613px\" src=\"http://www.laboiteverte.fr/wp-content/uploads/2015/10/phoque-trou-capteur-720x1080.jpg\" srcset=\"http://www.laboiteverte.fr/wp-content/uploads/2015/10/phoque-trou-capteur-720x1080.jpg 720w, http://www.laboiteverte.fr/wp-content/uploads/2015/10/phoque-trou-capteur-320x480.jpg 320w\" width=\"613\"/></a>,\n",
       " <a href=\"http://www.laboiteverte.fr/120-photos-autour-du-pole-sud/ross-islande/\" rel=\"attachment wp-att-66676\"><img alt=\"Îles de Ross - Dominick Dirksen\" class=\"wp-image-66676\" data-attachment-id=\"66676\" data-comments-opened=\"1\" data-image-description=\"\" data-image-meta='{\"aperture\":\"0\",\"credit\":\"\",\"camera\":\"\",\"caption\":\"\",\"created_timestamp\":\"0\",\"copyright\":\"\",\"focal_length\":\"0\",\"iso\":\"0\",\"shutter_speed\":\"0\",\"title\":\"\",\"orientation\":\"0\"}' data-image-title=\"ross-islande\" data-large-file=\"http://www.laboiteverte.fr/wp-content/uploads/2015/10/ross-islande-792x1080.jpg\" data-medium-file=\"http://www.laboiteverte.fr/wp-content/uploads/2015/10/ross-islande-352x480.jpg\" data-orig-file=\"http://www.laboiteverte.fr/wp-content/uploads/2015/10/ross-islande.jpg\" data-orig-size=\"1959,2670\" data-permalink=\"http://www.laboiteverte.fr/120-photos-autour-du-pole-sud/ross-islande/\" height=\"920\" sizes=\"(max-width: 675px) 100vw, 675px\" src=\"http://www.laboiteverte.fr/wp-content/uploads/2015/10/ross-islande-792x1080.jpg\" srcset=\"http://www.laboiteverte.fr/wp-content/uploads/2015/10/ross-islande-792x1080.jpg 792w, http://www.laboiteverte.fr/wp-content/uploads/2015/10/ross-islande-352x480.jpg 352w\" width=\"675\"/></a>,\n",
       " <a href=\"http://www.laboiteverte.fr/120-photos-autour-du-pole-sud/olympe-pyramide-montagne/\" rel=\"attachment wp-att-66677\"><img alt=\"Une montagne pyramidale de la chaîne de l'Olympus - Chris Kannen\" class=\"size-large wp-image-66677\" data-attachment-id=\"66677\" data-comments-opened=\"1\" data-image-description=\"\" data-image-meta='{\"aperture\":\"0\",\"credit\":\"\",\"camera\":\"\",\"caption\":\"\",\"created_timestamp\":\"0\",\"copyright\":\"\",\"focal_length\":\"0\",\"iso\":\"0\",\"shutter_speed\":\"0\",\"title\":\"\",\"orientation\":\"0\"}' data-image-title=\"olympe-pyramide-montagne\" data-large-file=\"http://www.laboiteverte.fr/wp-content/uploads/2015/10/olympe-pyramide-montagne-1280x853.jpg\" data-medium-file=\"http://www.laboiteverte.fr/wp-content/uploads/2015/10/olympe-pyramide-montagne-620x413.jpg\" data-orig-file=\"http://www.laboiteverte.fr/wp-content/uploads/2015/10/olympe-pyramide-montagne.jpg\" data-orig-size=\"3200,2133\" data-permalink=\"http://www.laboiteverte.fr/120-photos-autour-du-pole-sud/olympe-pyramide-montagne/\" height=\"720\" sizes=\"(max-width: 1080px) 100vw, 1080px\" src=\"http://www.laboiteverte.fr/wp-content/uploads/2015/10/olympe-pyramide-montagne-1280x853.jpg\" srcset=\"http://www.laboiteverte.fr/wp-content/uploads/2015/10/olympe-pyramide-montagne-1280x853.jpg 1280w, http://www.laboiteverte.fr/wp-content/uploads/2015/10/olympe-pyramide-montagne-480x320.jpg 480w, http://www.laboiteverte.fr/wp-content/uploads/2015/10/olympe-pyramide-montagne-620x413.jpg 620w\" width=\"1080\"/></a>,\n",
       " <a href=\"http://www.laboiteverte.fr/120-photos-autour-du-pole-sud/meteorologue-herbert-hansen-ballon/\" rel=\"attachment wp-att-66678\"><img alt=\"Le météorologue Herbert Hansen gonfle un ballon d'observation en 1958\" class=\"size-large wp-image-66678\" data-attachment-id=\"66678\" data-comments-opened=\"1\" data-image-description=\"\" data-image-meta='{\"aperture\":\"0\",\"credit\":\"\",\"camera\":\"\",\"caption\":\"\",\"created_timestamp\":\"0\",\"copyright\":\"\",\"focal_length\":\"0\",\"iso\":\"0\",\"shutter_speed\":\"0\",\"title\":\"\",\"orientation\":\"0\"}' data-image-title=\"meteorologue-Herbert-Hansen-ballon\" data-large-file=\"http://www.laboiteverte.fr/wp-content/uploads/2015/10/meteorologue-Herbert-Hansen-ballon-1280x1017.jpg\" data-medium-file=\"http://www.laboiteverte.fr/wp-content/uploads/2015/10/meteorologue-Herbert-Hansen-ballon-604x480.jpg\" data-orig-file=\"http://www.laboiteverte.fr/wp-content/uploads/2015/10/meteorologue-Herbert-Hansen-ballon.jpg\" data-orig-size=\"1950,1550\" data-permalink=\"http://www.laboiteverte.fr/120-photos-autour-du-pole-sud/meteorologue-herbert-hansen-ballon/\" height=\"858\" sizes=\"(max-width: 1080px) 100vw, 1080px\" src=\"http://www.laboiteverte.fr/wp-content/uploads/2015/10/meteorologue-Herbert-Hansen-ballon-1280x1017.jpg\" srcset=\"http://www.laboiteverte.fr/wp-content/uploads/2015/10/meteorologue-Herbert-Hansen-ballon-1280x1017.jpg 1280w, http://www.laboiteverte.fr/wp-content/uploads/2015/10/meteorologue-Herbert-Hansen-ballon-604x480.jpg 604w\" width=\"1080\"/></a>,\n",
       " <a href=\"http://www.laboiteverte.fr/120-photos-autour-du-pole-sud/meteorologue-phillip-marzette-ballon/\" rel=\"attachment wp-att-66679\"><img alt=\"Le météorologue Phillip Marzette gonfle un ballon météo pour un des deux lâchers journaliers - \" class=\"size-large wp-image-66679\" data-attachment-id=\"66679\" data-comments-opened=\"1\" data-image-description=\"\" data-image-meta='{\"aperture\":\"0\",\"credit\":\"\",\"camera\":\"\",\"caption\":\"\",\"created_timestamp\":\"0\",\"copyright\":\"\",\"focal_length\":\"0\",\"iso\":\"0\",\"shutter_speed\":\"0\",\"title\":\"\",\"orientation\":\"0\"}' data-image-title=\"meteorologue-Phillip-Marzette-ballon\" data-large-file=\"http://www.laboiteverte.fr/wp-content/uploads/2015/10/meteorologue-Phillip-Marzette-ballon-1280x850.jpg\" data-medium-file=\"http://www.laboiteverte.fr/wp-content/uploads/2015/10/meteorologue-Phillip-Marzette-ballon-620x412.jpg\" data-orig-file=\"http://www.laboiteverte.fr/wp-content/uploads/2015/10/meteorologue-Phillip-Marzette-ballon.jpg\" data-orig-size=\"3200,2126\" data-permalink=\"http://www.laboiteverte.fr/120-photos-autour-du-pole-sud/meteorologue-phillip-marzette-ballon/\" height=\"717\" sizes=\"(max-width: 1080px) 100vw, 1080px\" src=\"http://www.laboiteverte.fr/wp-content/uploads/2015/10/meteorologue-Phillip-Marzette-ballon-1280x850.jpg\" srcset=\"http://www.laboiteverte.fr/wp-content/uploads/2015/10/meteorologue-Phillip-Marzette-ballon-1280x850.jpg 1280w, http://www.laboiteverte.fr/wp-content/uploads/2015/10/meteorologue-Phillip-Marzette-ballon-480x320.jpg 480w, http://www.laboiteverte.fr/wp-content/uploads/2015/10/meteorologue-Phillip-Marzette-ballon-620x412.jpg 620w\" width=\"1080\"/></a>,\n",
       " <a href=\"http://www.laboiteverte.fr/120-photos-autour-du-pole-sud/sculpture-skieur/\" rel=\"attachment wp-att-66680\"><img alt=\"sculpture-skieur\" class=\"wp-image-66680\" data-attachment-id=\"66680\" data-comments-opened=\"1\" data-image-description=\"\" data-image-meta='{\"aperture\":\"0\",\"credit\":\"\",\"camera\":\"\",\"caption\":\"\",\"created_timestamp\":\"0\",\"copyright\":\"\",\"focal_length\":\"0\",\"iso\":\"0\",\"shutter_speed\":\"0\",\"title\":\"\",\"orientation\":\"0\"}' data-image-title=\"sculpture-skieur\" data-large-file=\"http://www.laboiteverte.fr/wp-content/uploads/2015/10/sculpture-skieur-898x1080.jpg\" data-medium-file=\"http://www.laboiteverte.fr/wp-content/uploads/2015/10/sculpture-skieur-399x480.jpg\" data-orig-file=\"http://www.laboiteverte.fr/wp-content/uploads/2015/10/sculpture-skieur.jpg\" data-orig-size=\"2494,3000\" data-permalink=\"http://www.laboiteverte.fr/120-photos-autour-du-pole-sud/sculpture-skieur/\" height=\"920\" sizes=\"(max-width: 765px) 100vw, 765px\" src=\"http://www.laboiteverte.fr/wp-content/uploads/2015/10/sculpture-skieur-898x1080.jpg\" srcset=\"http://www.laboiteverte.fr/wp-content/uploads/2015/10/sculpture-skieur-898x1080.jpg 898w, http://www.laboiteverte.fr/wp-content/uploads/2015/10/sculpture-skieur-399x480.jpg 399w\" width=\"765\"/></a>,\n",
       " <a href=\"http://www.laboiteverte.fr/120-photos-autour-du-pole-sud/crevasse-marquage/\" rel=\"attachment wp-att-66682\"><img alt=\"Les crevasses sur des zones de passages sont marquées\" class=\"wp-image-66682\" data-attachment-id=\"66682\" data-comments-opened=\"1\" data-image-description=\"\" data-image-meta='{\"aperture\":\"0\",\"credit\":\"\",\"camera\":\"\",\"caption\":\"\",\"created_timestamp\":\"0\",\"copyright\":\"\",\"focal_length\":\"0\",\"iso\":\"0\",\"shutter_speed\":\"0\",\"title\":\"\",\"orientation\":\"0\"}' data-image-title=\"crevasse-marquage\" data-large-file=\"http://www.laboiteverte.fr/wp-content/uploads/2015/10/crevasse-marquage-810x1080.jpg\" data-medium-file=\"http://www.laboiteverte.fr/wp-content/uploads/2015/10/crevasse-marquage-360x480.jpg\" data-orig-file=\"http://www.laboiteverte.fr/wp-content/uploads/2015/10/crevasse-marquage.jpg\" data-orig-size=\"2400,3200\" data-permalink=\"http://www.laboiteverte.fr/120-photos-autour-du-pole-sud/crevasse-marquage/\" height=\"920\" sizes=\"(max-width: 690px) 100vw, 690px\" src=\"http://www.laboiteverte.fr/wp-content/uploads/2015/10/crevasse-marquage-810x1080.jpg\" srcset=\"http://www.laboiteverte.fr/wp-content/uploads/2015/10/crevasse-marquage-810x1080.jpg 810w, http://www.laboiteverte.fr/wp-content/uploads/2015/10/crevasse-marquage-360x480.jpg 360w\" width=\"690\"/></a>,\n",
       " <a href=\"http://www.laboiteverte.fr/120-photos-autour-du-pole-sud/inspection-crevasse/\" rel=\"attachment wp-att-66683\"><img alt=\"et remplies de neige pour permettre en passage en toute sécurité\" class=\"wp-image-66683\" data-attachment-id=\"66683\" data-comments-opened=\"1\" data-image-description=\"\" data-image-meta='{\"aperture\":\"0\",\"credit\":\"\",\"camera\":\"\",\"caption\":\"\",\"created_timestamp\":\"0\",\"copyright\":\"\",\"focal_length\":\"0\",\"iso\":\"0\",\"shutter_speed\":\"0\",\"title\":\"\",\"orientation\":\"0\"}' data-image-title=\"inspection-crevasse\" data-large-file=\"http://www.laboiteverte.fr/wp-content/uploads/2015/10/inspection-crevasse-723x1080.jpg\" data-medium-file=\"http://www.laboiteverte.fr/wp-content/uploads/2015/10/inspection-crevasse-321x480.jpg\" data-orig-file=\"http://www.laboiteverte.fr/wp-content/uploads/2015/10/inspection-crevasse.jpg\" data-orig-size=\"2142,3200\" data-permalink=\"http://www.laboiteverte.fr/120-photos-autour-du-pole-sud/inspection-crevasse/\" height=\"920\" sizes=\"(max-width: 616px) 100vw, 616px\" src=\"http://www.laboiteverte.fr/wp-content/uploads/2015/10/inspection-crevasse-723x1080.jpg\" srcset=\"http://www.laboiteverte.fr/wp-content/uploads/2015/10/inspection-crevasse-723x1080.jpg 723w, http://www.laboiteverte.fr/wp-content/uploads/2015/10/inspection-crevasse-321x480.jpg 321w\" width=\"616\"/></a>,\n",
       " <a href=\"http://www.laboiteverte.fr/120-photos-autour-du-pole-sud/palmer-entrainement/\" rel=\"attachment wp-att-66684\"><img alt=\"Entrainement aux opérations de secours près de la station de Palmer - Sean Bonette\" class=\"wp-image-66684\" data-attachment-id=\"66684\" data-comments-opened=\"1\" data-image-description=\"\" data-image-meta='{\"aperture\":\"0\",\"credit\":\"\",\"camera\":\"\",\"caption\":\"\",\"created_timestamp\":\"0\",\"copyright\":\"\",\"focal_length\":\"0\",\"iso\":\"0\",\"shutter_speed\":\"0\",\"title\":\"\",\"orientation\":\"0\"}' data-image-title=\"Palmer-entrainement\" data-large-file=\"http://www.laboiteverte.fr/wp-content/uploads/2015/10/Palmer-entrainement-810x1080.jpg\" data-medium-file=\"http://www.laboiteverte.fr/wp-content/uploads/2015/10/Palmer-entrainement-360x480.jpg\" data-orig-file=\"http://www.laboiteverte.fr/wp-content/uploads/2015/10/Palmer-entrainement.jpg\" data-orig-size=\"2189,2918\" data-permalink=\"http://www.laboiteverte.fr/120-photos-autour-du-pole-sud/palmer-entrainement/\" height=\"920\" sizes=\"(max-width: 690px) 100vw, 690px\" src=\"http://www.laboiteverte.fr/wp-content/uploads/2015/10/Palmer-entrainement-810x1080.jpg\" srcset=\"http://www.laboiteverte.fr/wp-content/uploads/2015/10/Palmer-entrainement-810x1080.jpg 810w, http://www.laboiteverte.fr/wp-content/uploads/2015/10/Palmer-entrainement-360x480.jpg 360w\" width=\"690\"/></a>,\n",
       " <a href=\"http://www.laboiteverte.fr/120-photos-autour-du-pole-sud/expo-longue-aurore-antarctique/\" rel=\"attachment wp-att-66686\"><img alt=\"Chris Danals\" class=\"size-large wp-image-66686\" data-attachment-id=\"66686\" data-comments-opened=\"1\" data-image-description=\"\" data-image-meta='{\"aperture\":\"0\",\"credit\":\"\",\"camera\":\"\",\"caption\":\"\",\"created_timestamp\":\"0\",\"copyright\":\"\",\"focal_length\":\"0\",\"iso\":\"0\",\"shutter_speed\":\"0\",\"title\":\"\",\"orientation\":\"0\"}' data-image-title=\"expo-longue-aurore-antarctique\" data-large-file=\"http://www.laboiteverte.fr/wp-content/uploads/2015/10/expo-longue-aurore-antarctique-1280x853.jpg\" data-medium-file=\"http://www.laboiteverte.fr/wp-content/uploads/2015/10/expo-longue-aurore-antarctique-620x413.jpg\" data-orig-file=\"http://www.laboiteverte.fr/wp-content/uploads/2015/10/expo-longue-aurore-antarctique.jpg\" data-orig-size=\"3072,2048\" data-permalink=\"http://www.laboiteverte.fr/120-photos-autour-du-pole-sud/expo-longue-aurore-antarctique/\" height=\"720\" sizes=\"(max-width: 1080px) 100vw, 1080px\" src=\"http://www.laboiteverte.fr/wp-content/uploads/2015/10/expo-longue-aurore-antarctique-1280x853.jpg\" srcset=\"http://www.laboiteverte.fr/wp-content/uploads/2015/10/expo-longue-aurore-antarctique-1280x853.jpg 1280w, http://www.laboiteverte.fr/wp-content/uploads/2015/10/expo-longue-aurore-antarctique-480x320.jpg 480w, http://www.laboiteverte.fr/wp-content/uploads/2015/10/expo-longue-aurore-antarctique-620x413.jpg 620w\" width=\"1080\"/></a>,\n",
       " <a href=\"http://www.laboiteverte.fr/120-photos-autour-du-pole-sud/spool-henge/\" rel=\"attachment wp-att-66685\"><img alt=\"Des dérouleurs de câbles vides sont temporairement entreposés dans une configuration surnommée Spool-Henge\" class=\"size-large wp-image-66685\" data-attachment-id=\"66685\" data-comments-opened=\"1\" data-image-description=\"\" data-image-meta='{\"aperture\":\"0\",\"credit\":\"\",\"camera\":\"\",\"caption\":\"\",\"created_timestamp\":\"0\",\"copyright\":\"\",\"focal_length\":\"0\",\"iso\":\"0\",\"shutter_speed\":\"0\",\"title\":\"\",\"orientation\":\"0\"}' data-image-title=\"spool-henge\" data-large-file=\"http://www.laboiteverte.fr/wp-content/uploads/2015/10/spool-henge-1280x853.jpg\" data-medium-file=\"http://www.laboiteverte.fr/wp-content/uploads/2015/10/spool-henge-620x413.jpg\" data-orig-file=\"http://www.laboiteverte.fr/wp-content/uploads/2015/10/spool-henge.jpg\" data-orig-size=\"3200,2133\" data-permalink=\"http://www.laboiteverte.fr/120-photos-autour-du-pole-sud/spool-henge/\" height=\"720\" sizes=\"(max-width: 1080px) 100vw, 1080px\" src=\"http://www.laboiteverte.fr/wp-content/uploads/2015/10/spool-henge-1280x853.jpg\" srcset=\"http://www.laboiteverte.fr/wp-content/uploads/2015/10/spool-henge-1280x853.jpg 1280w, http://www.laboiteverte.fr/wp-content/uploads/2015/10/spool-henge-480x320.jpg 480w, http://www.laboiteverte.fr/wp-content/uploads/2015/10/spool-henge-620x413.jpg 620w\" width=\"1080\"/></a>,\n",
       " <a href=\"http://www.laboiteverte.fr/120-photos-autour-du-pole-sud/heliographe-meteo/\" rel=\"attachment wp-att-66688\"><img alt=\"Philip Marzette fait une démonstration d'un héliographe de Campbell-Stokes. Cet appareil mesure l'ensoleillement en brûlant une feuille de papier grâce à une lentille qui concentre les rayons du soleil.\" class=\"size-large wp-image-66688\" data-attachment-id=\"66688\" data-comments-opened=\"1\" data-image-description=\"\" data-image-meta='{\"aperture\":\"0\",\"credit\":\"\",\"camera\":\"\",\"caption\":\"\",\"created_timestamp\":\"0\",\"copyright\":\"\",\"focal_length\":\"0\",\"iso\":\"0\",\"shutter_speed\":\"0\",\"title\":\"\",\"orientation\":\"0\"}' data-image-title=\"heliographe-meteo\" data-large-file=\"http://www.laboiteverte.fr/wp-content/uploads/2015/10/heliographe-meteo-1280x850.jpg\" data-medium-file=\"http://www.laboiteverte.fr/wp-content/uploads/2015/10/heliographe-meteo-620x412.jpg\" data-orig-file=\"http://www.laboiteverte.fr/wp-content/uploads/2015/10/heliographe-meteo.jpg\" data-orig-size=\"3200,2126\" data-permalink=\"http://www.laboiteverte.fr/120-photos-autour-du-pole-sud/heliographe-meteo/\" height=\"717\" sizes=\"(max-width: 1080px) 100vw, 1080px\" src=\"http://www.laboiteverte.fr/wp-content/uploads/2015/10/heliographe-meteo-1280x850.jpg\" srcset=\"http://www.laboiteverte.fr/wp-content/uploads/2015/10/heliographe-meteo-1280x850.jpg 1280w, http://www.laboiteverte.fr/wp-content/uploads/2015/10/heliographe-meteo-480x320.jpg 480w, http://www.laboiteverte.fr/wp-content/uploads/2015/10/heliographe-meteo-620x412.jpg 620w\" width=\"1080\"/></a>,\n",
       " <a href=\"http://www.laboiteverte.fr/120-photos-autour-du-pole-sud/montagne-pole-sud/\" rel=\"attachment wp-att-66689\"><img alt=\"montagne-pole-sud\" class=\"aligncenter size-large wp-image-66689\" data-attachment-id=\"66689\" data-comments-opened=\"1\" data-image-description=\"\" data-image-meta='{\"aperture\":\"0\",\"credit\":\"\",\"camera\":\"\",\"caption\":\"\",\"created_timestamp\":\"0\",\"copyright\":\"\",\"focal_length\":\"0\",\"iso\":\"0\",\"shutter_speed\":\"0\",\"title\":\"\",\"orientation\":\"0\"}' data-image-title=\"montagne-pole-sud\" data-large-file=\"http://www.laboiteverte.fr/wp-content/uploads/2015/10/montagne-pole-sud-1280x851.jpg\" data-medium-file=\"http://www.laboiteverte.fr/wp-content/uploads/2015/10/montagne-pole-sud-620x412.jpg\" data-orig-file=\"http://www.laboiteverte.fr/wp-content/uploads/2015/10/montagne-pole-sud.jpg\" data-orig-size=\"3008,2000\" data-permalink=\"http://www.laboiteverte.fr/120-photos-autour-du-pole-sud/montagne-pole-sud/\" height=\"718\" sizes=\"(max-width: 1080px) 100vw, 1080px\" src=\"http://www.laboiteverte.fr/wp-content/uploads/2015/10/montagne-pole-sud-1280x851.jpg\" srcset=\"http://www.laboiteverte.fr/wp-content/uploads/2015/10/montagne-pole-sud-1280x851.jpg 1280w, http://www.laboiteverte.fr/wp-content/uploads/2015/10/montagne-pole-sud-480x320.jpg 480w, http://www.laboiteverte.fr/wp-content/uploads/2015/10/montagne-pole-sud-620x412.jpg 620w\" width=\"1080\"/></a>,\n",
       " <a href=\"http://www.laboiteverte.fr/120-photos-autour-du-pole-sud/collecte-air-frais/\" rel=\"attachment wp-att-66690\"><img alt=\"Heather Moe va collecter des échantillons d'air - Ryan R. Neely\" class=\"size-large wp-image-66690\" data-attachment-id=\"66690\" data-comments-opened=\"1\" data-image-description=\"\" data-image-meta='{\"aperture\":\"0\",\"credit\":\"\",\"camera\":\"\",\"caption\":\"\",\"created_timestamp\":\"0\",\"copyright\":\"\",\"focal_length\":\"0\",\"iso\":\"0\",\"shutter_speed\":\"0\",\"title\":\"\",\"orientation\":\"0\"}' data-image-title=\"collecte-air-frais\" data-large-file=\"http://www.laboiteverte.fr/wp-content/uploads/2015/10/collecte-air-frais-1280x836.jpg\" data-medium-file=\"http://www.laboiteverte.fr/wp-content/uploads/2015/10/collecte-air-frais-620x405.jpg\" data-orig-file=\"http://www.laboiteverte.fr/wp-content/uploads/2015/10/collecte-air-frais.jpg\" data-orig-size=\"2925,1910\" data-permalink=\"http://www.laboiteverte.fr/120-photos-autour-du-pole-sud/collecte-air-frais/\" height=\"705\" sizes=\"(max-width: 1080px) 100vw, 1080px\" src=\"http://www.laboiteverte.fr/wp-content/uploads/2015/10/collecte-air-frais-1280x836.jpg\" srcset=\"http://www.laboiteverte.fr/wp-content/uploads/2015/10/collecte-air-frais-1280x836.jpg 1280w, http://www.laboiteverte.fr/wp-content/uploads/2015/10/collecte-air-frais-620x405.jpg 620w\" width=\"1080\"/></a>,\n",
       " <a href=\"http://www.laboiteverte.fr/120-photos-autour-du-pole-sud/manchot-adelie/\" rel=\"attachment wp-att-66691\"><img alt=\"Un manchot Adélie - Patrick Rowe\" class=\"size-large wp-image-66691\" data-attachment-id=\"66691\" data-comments-opened=\"1\" data-image-description=\"\" data-image-meta='{\"aperture\":\"0\",\"credit\":\"\",\"camera\":\"\",\"caption\":\"\",\"created_timestamp\":\"0\",\"copyright\":\"\",\"focal_length\":\"0\",\"iso\":\"0\",\"shutter_speed\":\"0\",\"title\":\"\",\"orientation\":\"0\"}' data-image-title=\"Manchot-Adélie\" data-large-file=\"http://www.laboiteverte.fr/wp-content/uploads/2015/10/Manchot-Adélie-1280x960.jpg\" data-medium-file=\"http://www.laboiteverte.fr/wp-content/uploads/2015/10/Manchot-Adélie-620x465.jpg\" data-orig-file=\"http://www.laboiteverte.fr/wp-content/uploads/2015/10/Manchot-Adélie.jpg\" data-orig-size=\"3200,2400\" data-permalink=\"http://www.laboiteverte.fr/120-photos-autour-du-pole-sud/manchot-adelie/\" height=\"810\" sizes=\"(max-width: 1080px) 100vw, 1080px\" src=\"http://www.laboiteverte.fr/wp-content/uploads/2015/10/Manchot-Adélie-1280x960.jpg\" srcset=\"http://www.laboiteverte.fr/wp-content/uploads/2015/10/Manchot-Adélie-1280x960.jpg 1280w, http://www.laboiteverte.fr/wp-content/uploads/2015/10/Manchot-Adélie-620x465.jpg 620w\" width=\"1080\"/></a>,\n",
       " <a href=\"http://www.laboiteverte.fr/120-photos-autour-du-pole-sud/scientifique-arctique-sterile-forage/\" rel=\"attachment wp-att-66692\"><img alt=\"Un scientifique se rend sur une zone de forage en portant une combinaison pour la protéger des impuretés - Reed Scherer\" class=\"wp-image-66692\" data-attachment-id=\"66692\" data-comments-opened=\"1\" data-image-description=\"\" data-image-meta='{\"aperture\":\"0\",\"credit\":\"\",\"camera\":\"\",\"caption\":\"\",\"created_timestamp\":\"0\",\"copyright\":\"\",\"focal_length\":\"0\",\"iso\":\"0\",\"shutter_speed\":\"0\",\"title\":\"\",\"orientation\":\"0\"}' data-image-title=\"scientifique-arctique-sterile-forage\" data-large-file=\"http://www.laboiteverte.fr/wp-content/uploads/2015/10/scientifique-arctique-sterile-forage-775x1080.jpg\" data-medium-file=\"http://www.laboiteverte.fr/wp-content/uploads/2015/10/scientifique-arctique-sterile-forage-344x480.jpg\" data-orig-file=\"http://www.laboiteverte.fr/wp-content/uploads/2015/10/scientifique-arctique-sterile-forage.jpg\" data-orig-size=\"1868,2604\" data-permalink=\"http://www.laboiteverte.fr/120-photos-autour-du-pole-sud/scientifique-arctique-sterile-forage/\" height=\"920\" sizes=\"(max-width: 660px) 100vw, 660px\" src=\"http://www.laboiteverte.fr/wp-content/uploads/2015/10/scientifique-arctique-sterile-forage-775x1080.jpg\" srcset=\"http://www.laboiteverte.fr/wp-content/uploads/2015/10/scientifique-arctique-sterile-forage-775x1080.jpg 775w, http://www.laboiteverte.fr/wp-content/uploads/2015/10/scientifique-arctique-sterile-forage-344x480.jpg 344w\" width=\"660\"/></a>,\n",
       " <a href=\"http://www.laboiteverte.fr/120-photos-autour-du-pole-sud/plouf-manchot/\" rel=\"attachment wp-att-66693\"><img alt=\"Un jeune manchot empereur plonge dans une piscine creusée spécialement pour lui et ses neufs congénères qui servent sur lesquels on étudie le developpement de leurs muscles - Kristan Hutchison\" class=\"wp-image-66693 size-large\" data-attachment-id=\"66693\" data-comments-opened=\"1\" data-image-description=\"\" data-image-meta='{\"aperture\":\"0\",\"credit\":\"\",\"camera\":\"\",\"caption\":\"\",\"created_timestamp\":\"0\",\"copyright\":\"\",\"focal_length\":\"0\",\"iso\":\"0\",\"shutter_speed\":\"0\",\"title\":\"\",\"orientation\":\"0\"}' data-image-title=\"plouf-manchot\" data-large-file=\"http://www.laboiteverte.fr/wp-content/uploads/2015/10/plouf-manchot-1280x1024.jpg\" data-medium-file=\"http://www.laboiteverte.fr/wp-content/uploads/2015/10/plouf-manchot-e1444251202970-620x447.jpg\" data-orig-file=\"http://www.laboiteverte.fr/wp-content/uploads/2015/10/plouf-manchot-e1444251202970.jpg\" data-orig-size=\"1260,908\" data-permalink=\"http://www.laboiteverte.fr/120-photos-autour-du-pole-sud/plouf-manchot/\" height=\"864\" src=\"http://www.laboiteverte.fr/wp-content/uploads/2015/10/plouf-manchot-1280x1024.jpg\" width=\"1080\"/></a>,\n",
       " <a href=\"http://www.laboiteverte.fr/120-photos-autour-du-pole-sud/plongeur-mcmurdo/\" rel=\"attachment wp-att-66694\"><img alt=\"Un plongeur sous la banquise de McMurdo - Steve Rupp\" class=\"size-large wp-image-66694\" data-attachment-id=\"66694\" data-comments-opened=\"1\" data-image-description=\"\" data-image-meta='{\"aperture\":\"0\",\"credit\":\"\",\"camera\":\"\",\"caption\":\"\",\"created_timestamp\":\"0\",\"copyright\":\"\",\"focal_length\":\"0\",\"iso\":\"0\",\"shutter_speed\":\"0\",\"title\":\"\",\"orientation\":\"0\"}' data-image-title=\"plongeur-mcmurdo\" data-large-file=\"http://www.laboiteverte.fr/wp-content/uploads/2015/10/plongeur-mcmurdo-1280x960.jpg\" data-medium-file=\"http://www.laboiteverte.fr/wp-content/uploads/2015/10/plongeur-mcmurdo-620x465.jpg\" data-orig-file=\"http://www.laboiteverte.fr/wp-content/uploads/2015/10/plongeur-mcmurdo.jpg\" data-orig-size=\"3200,2400\" data-permalink=\"http://www.laboiteverte.fr/120-photos-autour-du-pole-sud/plongeur-mcmurdo/\" height=\"810\" sizes=\"(max-width: 1080px) 100vw, 1080px\" src=\"http://www.laboiteverte.fr/wp-content/uploads/2015/10/plongeur-mcmurdo-1280x960.jpg\" srcset=\"http://www.laboiteverte.fr/wp-content/uploads/2015/10/plongeur-mcmurdo-1280x960.jpg 1280w, http://www.laboiteverte.fr/wp-content/uploads/2015/10/plongeur-mcmurdo-620x465.jpg 620w\" width=\"1080\"/></a>,\n",
       " <a href=\"http://www.laboiteverte.fr/120-photos-autour-du-pole-sud/1957airdropschute-hr/\" rel=\"attachment wp-att-66718\"><img alt=\"Parachutage d'une cargaison au pole sud en 1957\" class=\"size-large wp-image-66718\" data-attachment-id=\"66718\" data-comments-opened=\"1\" data-image-description=\"\" data-image-meta='{\"aperture\":\"0\",\"credit\":\"\",\"camera\":\"\",\"caption\":\"\",\"created_timestamp\":\"0\",\"copyright\":\"\",\"focal_length\":\"0\",\"iso\":\"0\",\"shutter_speed\":\"0\",\"title\":\"\",\"orientation\":\"1\"}' data-image-title=\"1957AIRDROPSCHUTE-HR\" data-large-file=\"http://www.laboiteverte.fr/wp-content/uploads/2015/10/1957AIRDROPSCHUTE-HR-742x920.jpg\" data-medium-file=\"http://www.laboiteverte.fr/wp-content/uploads/2015/10/1957AIRDROPSCHUTE-HR-387x480.jpg\" data-orig-file=\"http://www.laboiteverte.fr/wp-content/uploads/2015/10/1957AIRDROPSCHUTE-HR.jpg\" data-orig-size=\"1914,2372\" data-permalink=\"http://www.laboiteverte.fr/120-photos-autour-du-pole-sud/1957airdropschute-hr/\" height=\"920\" sizes=\"(max-width: 742px) 100vw, 742px\" src=\"http://www.laboiteverte.fr/wp-content/uploads/2015/10/1957AIRDROPSCHUTE-HR-742x920.jpg\" srcset=\"http://www.laboiteverte.fr/wp-content/uploads/2015/10/1957AIRDROPSCHUTE-HR-742x920.jpg 742w, http://www.laboiteverte.fr/wp-content/uploads/2015/10/1957AIRDROPSCHUTE-HR-387x480.jpg 387w\" width=\"742\"/></a>,\n",
       " <a href=\"http://www.laboiteverte.fr/120-photos-autour-du-pole-sud/bulldozer-boom/\" rel=\"attachment wp-att-66719\"><img alt=\"Le trou laissé par un bulldozer après qu'une sangle ai cassé lors d'un parachutage\" class=\"size-large wp-image-66719\" data-attachment-id=\"66719\" data-comments-opened=\"1\" data-image-description=\"\" data-image-meta='{\"aperture\":\"0\",\"credit\":\"\",\"camera\":\"\",\"caption\":\"\",\"created_timestamp\":\"0\",\"copyright\":\"\",\"focal_length\":\"0\",\"iso\":\"0\",\"shutter_speed\":\"0\",\"title\":\"\",\"orientation\":\"1\"}' data-image-title=\"bulldozer-boom\" data-large-file=\"http://www.laboiteverte.fr/wp-content/uploads/2015/10/bulldozer-boom-1147x920.jpg\" data-medium-file=\"http://www.laboiteverte.fr/wp-content/uploads/2015/10/bulldozer-boom-598x480.jpg\" data-orig-file=\"http://www.laboiteverte.fr/wp-content/uploads/2015/10/bulldozer-boom.jpg\" data-orig-size=\"2965,2379\" data-permalink=\"http://www.laboiteverte.fr/120-photos-autour-du-pole-sud/bulldozer-boom/\" height=\"866\" sizes=\"(max-width: 1080px) 100vw, 1080px\" src=\"http://www.laboiteverte.fr/wp-content/uploads/2015/10/bulldozer-boom-1147x920.jpg\" srcset=\"http://www.laboiteverte.fr/wp-content/uploads/2015/10/bulldozer-boom-1147x920.jpg 1147w, http://www.laboiteverte.fr/wp-content/uploads/2015/10/bulldozer-boom-598x480.jpg 598w\" width=\"1080\"/></a>,\n",
       " <a href=\"http://www.laboiteverte.fr/120-photos-autour-du-pole-sud/amundsen-scott-south-pole-station-aurora/\" rel=\"attachment wp-att-66720\"><img alt=\"Une aurore australe au dessus d'une tente sur la station de Amundsen-Scott - Patrick Cullis\" class=\"size-large wp-image-66720\" data-attachment-id=\"66720\" data-comments-opened=\"1\" data-image-description=\"\" data-image-meta='{\"aperture\":\"0\",\"credit\":\"\",\"camera\":\"\",\"caption\":\"\",\"created_timestamp\":\"0\",\"copyright\":\"\",\"focal_length\":\"0\",\"iso\":\"0\",\"shutter_speed\":\"0\",\"title\":\"\",\"orientation\":\"0\"}' data-image-title=\"Amundsen-Scott-South-Pole-Station-Aurora\" data-large-file=\"http://www.laboiteverte.fr/wp-content/uploads/2015/10/Amundsen-Scott-South-Pole-Station-Aurora-1280x850.jpg\" data-medium-file=\"http://www.laboiteverte.fr/wp-content/uploads/2015/10/Amundsen-Scott-South-Pole-Station-Aurora-620x412.jpg\" data-orig-file=\"http://www.laboiteverte.fr/wp-content/uploads/2015/10/Amundsen-Scott-South-Pole-Station-Aurora.jpg\" data-orig-size=\"1280,850\" data-permalink=\"http://www.laboiteverte.fr/120-photos-autour-du-pole-sud/amundsen-scott-south-pole-station-aurora/\" height=\"717\" sizes=\"(max-width: 1080px) 100vw, 1080px\" src=\"http://www.laboiteverte.fr/wp-content/uploads/2015/10/Amundsen-Scott-South-Pole-Station-Aurora-1280x850.jpg\" srcset=\"http://www.laboiteverte.fr/wp-content/uploads/2015/10/Amundsen-Scott-South-Pole-Station-Aurora.jpg 1280w, http://www.laboiteverte.fr/wp-content/uploads/2015/10/Amundsen-Scott-South-Pole-Station-Aurora-480x320.jpg 480w, http://www.laboiteverte.fr/wp-content/uploads/2015/10/Amundsen-Scott-South-Pole-Station-Aurora-620x412.jpg 620w\" width=\"1080\"/></a>,\n",
       " <a href=\"http://www.laboiteverte.fr/120-photos-autour-du-pole-sud/chaine-montagne-antarctique/\" rel=\"attachment wp-att-66721\"><img alt=\"chaine-montagne-antarctique\" class=\"aligncenter size-large wp-image-66721\" data-attachment-id=\"66721\" data-comments-opened=\"1\" data-image-description=\"\" data-image-meta='{\"aperture\":\"0\",\"credit\":\"\",\"camera\":\"\",\"caption\":\"\",\"created_timestamp\":\"0\",\"copyright\":\"\",\"focal_length\":\"0\",\"iso\":\"0\",\"shutter_speed\":\"0\",\"title\":\"\",\"orientation\":\"0\"}' data-image-title=\"chaine-montagne-antarctique\" data-large-file=\"http://www.laboiteverte.fr/wp-content/uploads/2015/10/chaine-montagne-antarctique-1280x829.jpg\" data-medium-file=\"http://www.laboiteverte.fr/wp-content/uploads/2015/10/chaine-montagne-antarctique-620x401.jpg\" data-orig-file=\"http://www.laboiteverte.fr/wp-content/uploads/2015/10/chaine-montagne-antarctique.jpg\" data-orig-size=\"3200,2072\" data-permalink=\"http://www.laboiteverte.fr/120-photos-autour-du-pole-sud/chaine-montagne-antarctique/\" height=\"699\" sizes=\"(max-width: 1080px) 100vw, 1080px\" src=\"http://www.laboiteverte.fr/wp-content/uploads/2015/10/chaine-montagne-antarctique-1280x829.jpg\" srcset=\"http://www.laboiteverte.fr/wp-content/uploads/2015/10/chaine-montagne-antarctique-1280x829.jpg 1280w, http://www.laboiteverte.fr/wp-content/uploads/2015/10/chaine-montagne-antarctique-620x401.jpg 620w\" width=\"1080\"/></a>,\n",
       " <a href=\"http://www.laboiteverte.fr/120-photos-autour-du-pole-sud/arthur-arbor/\" rel=\"attachment wp-att-66722\"><img alt=\"Port Arthur, Palmer Station - Neal Scheibe\" class=\"size-large wp-image-66722\" data-attachment-id=\"66722\" data-comments-opened=\"1\" data-image-description=\"\" data-image-meta='{\"aperture\":\"0\",\"credit\":\"\",\"camera\":\"\",\"caption\":\"\",\"created_timestamp\":\"0\",\"copyright\":\"\",\"focal_length\":\"0\",\"iso\":\"0\",\"shutter_speed\":\"0\",\"title\":\"\",\"orientation\":\"0\"}' data-image-title=\"arthur-arbor\" data-large-file=\"http://www.laboiteverte.fr/wp-content/uploads/2015/10/arthur-arbor-1280x853.jpg\" data-medium-file=\"http://www.laboiteverte.fr/wp-content/uploads/2015/10/arthur-arbor-620x413.jpg\" data-orig-file=\"http://www.laboiteverte.fr/wp-content/uploads/2015/10/arthur-arbor.jpg\" data-orig-size=\"2592,1728\" data-permalink=\"http://www.laboiteverte.fr/120-photos-autour-du-pole-sud/arthur-arbor/\" height=\"720\" sizes=\"(max-width: 1080px) 100vw, 1080px\" src=\"http://www.laboiteverte.fr/wp-content/uploads/2015/10/arthur-arbor-1280x853.jpg\" srcset=\"http://www.laboiteverte.fr/wp-content/uploads/2015/10/arthur-arbor-1280x853.jpg 1280w, http://www.laboiteverte.fr/wp-content/uploads/2015/10/arthur-arbor-480x320.jpg 480w, http://www.laboiteverte.fr/wp-content/uploads/2015/10/arthur-arbor-620x413.jpg 620w\" width=\"1080\"/></a>,\n",
       " <a href=\"http://www.laboiteverte.fr/120-photos-autour-du-pole-sud/pteropod-microscope/\" rel=\"attachment wp-att-66723\"><img alt=\"Un ptéropode vu au microscope, ils sont étudiés pour voir les effets de l'acidification des océans sur leur coquille\" class=\"size-large wp-image-66723\" data-attachment-id=\"66723\" data-comments-opened=\"1\" data-image-description=\"\" data-image-meta='{\"aperture\":\"0\",\"credit\":\"\",\"camera\":\"\",\"caption\":\"\",\"created_timestamp\":\"0\",\"copyright\":\"\",\"focal_length\":\"0\",\"iso\":\"0\",\"shutter_speed\":\"0\",\"title\":\"\",\"orientation\":\"0\"}' data-image-title=\"pteropod-microscope\" data-large-file=\"http://www.laboiteverte.fr/wp-content/uploads/2015/10/pteropod-microscope-1227x920.jpg\" data-medium-file=\"http://www.laboiteverte.fr/wp-content/uploads/2015/10/pteropod-microscope-620x465.jpg\" data-orig-file=\"http://www.laboiteverte.fr/wp-content/uploads/2015/10/pteropod-microscope.jpg\" data-orig-size=\"3200,2400\" data-permalink=\"http://www.laboiteverte.fr/120-photos-autour-du-pole-sud/pteropod-microscope/\" height=\"810\" sizes=\"(max-width: 1080px) 100vw, 1080px\" src=\"http://www.laboiteverte.fr/wp-content/uploads/2015/10/pteropod-microscope-1227x920.jpg\" srcset=\"http://www.laboiteverte.fr/wp-content/uploads/2015/10/pteropod-microscope-1227x920.jpg 1227w, http://www.laboiteverte.fr/wp-content/uploads/2015/10/pteropod-microscope-620x465.jpg 620w\" width=\"1080\"/></a>,\n",
       " <a href=\"http://www.laboiteverte.fr/120-photos-autour-du-pole-sud/luge-radar/\" rel=\"attachment wp-att-66724\"><img alt=\"Clement Miege surveille deux radars qui collectent des données sur l'épaisseur de la calotte glaciaire - Lara Koenig\" class=\"size-large wp-image-66724\" data-attachment-id=\"66724\" data-comments-opened=\"1\" data-image-description=\"\" data-image-meta='{\"aperture\":\"0\",\"credit\":\"\",\"camera\":\"\",\"caption\":\"\",\"created_timestamp\":\"0\",\"copyright\":\"\",\"focal_length\":\"0\",\"iso\":\"0\",\"shutter_speed\":\"0\",\"title\":\"\",\"orientation\":\"0\"}' data-image-title=\"luge-radar\" data-large-file=\"http://www.laboiteverte.fr/wp-content/uploads/2015/10/luge-radar-1227x920.jpg\" data-medium-file=\"http://www.laboiteverte.fr/wp-content/uploads/2015/10/luge-radar-620x465.jpg\" data-orig-file=\"http://www.laboiteverte.fr/wp-content/uploads/2015/10/luge-radar.jpg\" data-orig-size=\"3200,2400\" data-permalink=\"http://www.laboiteverte.fr/120-photos-autour-du-pole-sud/luge-radar/\" height=\"810\" sizes=\"(max-width: 1080px) 100vw, 1080px\" src=\"http://www.laboiteverte.fr/wp-content/uploads/2015/10/luge-radar-1227x920.jpg\" srcset=\"http://www.laboiteverte.fr/wp-content/uploads/2015/10/luge-radar-1227x920.jpg 1227w, http://www.laboiteverte.fr/wp-content/uploads/2015/10/luge-radar-620x465.jpg 620w\" width=\"1080\"/></a>,\n",
       " <a href=\"http://www.laboiteverte.fr/120-photos-autour-du-pole-sud/icecube-serveurs/\" rel=\"attachment wp-att-66725\"><img alt=\"La salle des serveurs de l'IceCube, un détecteur géant de neutrinos - Jeffrey Donenfeld\" class=\"size-large wp-image-66725\" data-attachment-id=\"66725\" data-comments-opened=\"1\" data-image-description=\"\" data-image-meta='{\"aperture\":\"0\",\"credit\":\"\",\"camera\":\"\",\"caption\":\"\",\"created_timestamp\":\"0\",\"copyright\":\"\",\"focal_length\":\"0\",\"iso\":\"0\",\"shutter_speed\":\"0\",\"title\":\"\",\"orientation\":\"0\"}' data-image-title=\"icecube-serveurs\" data-large-file=\"http://www.laboiteverte.fr/wp-content/uploads/2015/10/icecube-serveurs-1280x853.jpg\" data-medium-file=\"http://www.laboiteverte.fr/wp-content/uploads/2015/10/icecube-serveurs-620x413.jpg\" data-orig-file=\"http://www.laboiteverte.fr/wp-content/uploads/2015/10/icecube-serveurs.jpg\" data-orig-size=\"3200,2133\" data-permalink=\"http://www.laboiteverte.fr/120-photos-autour-du-pole-sud/icecube-serveurs/\" height=\"720\" sizes=\"(max-width: 1080px) 100vw, 1080px\" src=\"http://www.laboiteverte.fr/wp-content/uploads/2015/10/icecube-serveurs-1280x853.jpg\" srcset=\"http://www.laboiteverte.fr/wp-content/uploads/2015/10/icecube-serveurs-1280x853.jpg 1280w, http://www.laboiteverte.fr/wp-content/uploads/2015/10/icecube-serveurs-480x320.jpg 480w, http://www.laboiteverte.fr/wp-content/uploads/2015/10/icecube-serveurs-620x413.jpg 620w\" width=\"1080\"/></a>,\n",
       " <a href=\"http://www.laboiteverte.fr/120-photos-autour-du-pole-sud/chauffe-terre-larve/\" rel=\"attachment wp-att-66726\"><img alt=\"Des lampes chauffent des échantillons de terre pour en faire tomber des insectes à étudier - Peter Rejcek \" class=\"size-large wp-image-66726\" data-attachment-id=\"66726\" data-comments-opened=\"1\" data-image-description=\"\" data-image-meta='{\"aperture\":\"0\",\"credit\":\"\",\"camera\":\"\",\"caption\":\"\",\"created_timestamp\":\"0\",\"copyright\":\"\",\"focal_length\":\"0\",\"iso\":\"0\",\"shutter_speed\":\"0\",\"title\":\"\",\"orientation\":\"0\"}' data-image-title=\"chauffe-terre-larve\" data-large-file=\"http://www.laboiteverte.fr/wp-content/uploads/2015/10/chauffe-terre-larve-1280x772.jpg\" data-medium-file=\"http://www.laboiteverte.fr/wp-content/uploads/2015/10/chauffe-terre-larve-620x374.jpg\" data-orig-file=\"http://www.laboiteverte.fr/wp-content/uploads/2015/10/chauffe-terre-larve.jpg\" data-orig-size=\"2690,1623\" data-permalink=\"http://www.laboiteverte.fr/120-photos-autour-du-pole-sud/chauffe-terre-larve/\" height=\"651\" sizes=\"(max-width: 1080px) 100vw, 1080px\" src=\"http://www.laboiteverte.fr/wp-content/uploads/2015/10/chauffe-terre-larve-1280x772.jpg\" srcset=\"http://www.laboiteverte.fr/wp-content/uploads/2015/10/chauffe-terre-larve-1280x772.jpg 1280w, http://www.laboiteverte.fr/wp-content/uploads/2015/10/chauffe-terre-larve-620x374.jpg 620w\" width=\"1080\"/></a>,\n",
       " <a href=\"http://www.laboiteverte.fr/120-photos-autour-du-pole-sud/bande-noire-forage-glace/\" rel=\"attachment wp-att-66727\"><img alt=\"La bande noire sur cette carotte de glace est un dépôt de cendre volcanique qui s'est déposé il y a environ 21 000 ans - Heidi Roop\" class=\"size-large wp-image-66727\" data-attachment-id=\"66727\" data-comments-opened=\"1\" data-image-description=\"\" data-image-meta='{\"aperture\":\"0\",\"credit\":\"\",\"camera\":\"\",\"caption\":\"\",\"created_timestamp\":\"0\",\"copyright\":\"\",\"focal_length\":\"0\",\"iso\":\"0\",\"shutter_speed\":\"0\",\"title\":\"\",\"orientation\":\"0\"}' data-image-title=\"bande-noire-forage-glace\" data-large-file=\"http://www.laboiteverte.fr/wp-content/uploads/2015/10/bande-noire-forage-glace-1227x920.jpg\" data-medium-file=\"http://www.laboiteverte.fr/wp-content/uploads/2015/10/bande-noire-forage-glace-620x465.jpg\" data-orig-file=\"http://www.laboiteverte.fr/wp-content/uploads/2015/10/bande-noire-forage-glace.jpg\" data-orig-size=\"3200,2400\" data-permalink=\"http://www.laboiteverte.fr/120-photos-autour-du-pole-sud/bande-noire-forage-glace/\" height=\"810\" sizes=\"(max-width: 1080px) 100vw, 1080px\" src=\"http://www.laboiteverte.fr/wp-content/uploads/2015/10/bande-noire-forage-glace-1227x920.jpg\" srcset=\"http://www.laboiteverte.fr/wp-content/uploads/2015/10/bande-noire-forage-glace-1227x920.jpg 1227w, http://www.laboiteverte.fr/wp-content/uploads/2015/10/bande-noire-forage-glace-620x465.jpg 620w\" width=\"1080\"/></a>,\n",
       " <a href=\"http://www.laboiteverte.fr/120-photos-autour-du-pole-sud/mat-forage-carotte-glace/\" rel=\"attachment wp-att-66728\"><img alt=\"Un mat de forage qui sert à collecter les carottes de glace - Steven Profaizer\" class=\"size-large wp-image-66728\" data-attachment-id=\"66728\" data-comments-opened=\"1\" data-image-description=\"\" data-image-meta='{\"aperture\":\"0\",\"credit\":\"\",\"camera\":\"\",\"caption\":\"\",\"created_timestamp\":\"0\",\"copyright\":\"\",\"focal_length\":\"0\",\"iso\":\"0\",\"shutter_speed\":\"0\",\"title\":\"\",\"orientation\":\"0\"}' data-image-title=\"mat-forage-carotte-glace\" data-large-file=\"http://www.laboiteverte.fr/wp-content/uploads/2015/10/mat-forage-carotte-glace-1280x853.jpg\" data-medium-file=\"http://www.laboiteverte.fr/wp-content/uploads/2015/10/mat-forage-carotte-glace-620x413.jpg\" data-orig-file=\"http://www.laboiteverte.fr/wp-content/uploads/2015/10/mat-forage-carotte-glace.jpg\" data-orig-size=\"3200,2133\" data-permalink=\"http://www.laboiteverte.fr/120-photos-autour-du-pole-sud/mat-forage-carotte-glace/\" height=\"720\" sizes=\"(max-width: 1080px) 100vw, 1080px\" src=\"http://www.laboiteverte.fr/wp-content/uploads/2015/10/mat-forage-carotte-glace-1280x853.jpg\" srcset=\"http://www.laboiteverte.fr/wp-content/uploads/2015/10/mat-forage-carotte-glace-1280x853.jpg 1280w, http://www.laboiteverte.fr/wp-content/uploads/2015/10/mat-forage-carotte-glace-480x320.jpg 480w, http://www.laboiteverte.fr/wp-content/uploads/2015/10/mat-forage-carotte-glace-620x413.jpg 620w\" width=\"1080\"/></a>,\n",
       " <a href=\"http://www.laboiteverte.fr/120-photos-autour-du-pole-sud/construction-south-pole-telescope/\" rel=\"attachment wp-att-66729\"><img alt=\"Le télescope du pole sud avec l'équipe qui l'a assemblé - John Mallon\" class=\"size-large wp-image-66729\" data-attachment-id=\"66729\" data-comments-opened=\"1\" data-image-description=\"\" data-image-meta='{\"aperture\":\"0\",\"credit\":\"\",\"camera\":\"\",\"caption\":\"\",\"created_timestamp\":\"0\",\"copyright\":\"\",\"focal_length\":\"0\",\"iso\":\"0\",\"shutter_speed\":\"0\",\"title\":\"\",\"orientation\":\"0\"}' data-image-title=\"construction-south-pole-telescope\" data-large-file=\"http://www.laboiteverte.fr/wp-content/uploads/2015/10/construction-south-pole-telescope-803x920.jpg\" data-medium-file=\"http://www.laboiteverte.fr/wp-content/uploads/2015/10/construction-south-pole-telescope-419x480.jpg\" data-orig-file=\"http://www.laboiteverte.fr/wp-content/uploads/2015/10/construction-south-pole-telescope.jpg\" data-orig-size=\"2792,3200\" data-permalink=\"http://www.laboiteverte.fr/120-photos-autour-du-pole-sud/construction-south-pole-telescope/\" height=\"920\" sizes=\"(max-width: 803px) 100vw, 803px\" src=\"http://www.laboiteverte.fr/wp-content/uploads/2015/10/construction-south-pole-telescope-803x920.jpg\" srcset=\"http://www.laboiteverte.fr/wp-content/uploads/2015/10/construction-south-pole-telescope-803x920.jpg 803w, http://www.laboiteverte.fr/wp-content/uploads/2015/10/construction-south-pole-telescope-419x480.jpg 419w\" width=\"803\"/></a>,\n",
       " <a href=\"http://www.laboiteverte.fr/120-photos-autour-du-pole-sud/base-south-pole-telescope/\" rel=\"attachment wp-att-66730\"><img alt=\"La base du télescope - Daniel Luong-Van\" class=\"size-large wp-image-66730\" data-attachment-id=\"66730\" data-comments-opened=\"1\" data-image-description=\"\" data-image-meta='{\"aperture\":\"0\",\"credit\":\"\",\"camera\":\"\",\"caption\":\"\",\"created_timestamp\":\"0\",\"copyright\":\"\",\"focal_length\":\"0\",\"iso\":\"0\",\"shutter_speed\":\"0\",\"title\":\"\",\"orientation\":\"0\"}' data-image-title=\"base-south-pole-telescope\" data-large-file=\"http://www.laboiteverte.fr/wp-content/uploads/2015/10/base-south-pole-telescope-1227x920.jpg\" data-medium-file=\"http://www.laboiteverte.fr/wp-content/uploads/2015/10/base-south-pole-telescope-620x465.jpg\" data-orig-file=\"http://www.laboiteverte.fr/wp-content/uploads/2015/10/base-south-pole-telescope.jpg\" data-orig-size=\"2048,1536\" data-permalink=\"http://www.laboiteverte.fr/120-photos-autour-du-pole-sud/base-south-pole-telescope/\" height=\"810\" sizes=\"(max-width: 1080px) 100vw, 1080px\" src=\"http://www.laboiteverte.fr/wp-content/uploads/2015/10/base-south-pole-telescope-1227x920.jpg\" srcset=\"http://www.laboiteverte.fr/wp-content/uploads/2015/10/base-south-pole-telescope-1227x920.jpg 1227w, http://www.laboiteverte.fr/wp-content/uploads/2015/10/base-south-pole-telescope-620x465.jpg 620w\" width=\"1080\"/></a>,\n",
       " <a href=\"http://www.laboiteverte.fr/120-photos-autour-du-pole-sud/aurore-telescope/\" rel=\"attachment wp-att-66737\"><img alt=\"Une aurore au dessus du télescope - Daniel Luong-Van\" class=\"size-large wp-image-66737\" data-attachment-id=\"66737\" data-comments-opened=\"1\" data-image-description=\"\" data-image-meta='{\"aperture\":\"0\",\"credit\":\"\",\"camera\":\"\",\"caption\":\"\",\"created_timestamp\":\"0\",\"copyright\":\"\",\"focal_length\":\"0\",\"iso\":\"0\",\"shutter_speed\":\"0\",\"title\":\"\",\"orientation\":\"0\"}' data-image-title=\"aurore-telescope\" data-large-file=\"http://www.laboiteverte.fr/wp-content/uploads/2015/10/aurore-telescope-613x920.jpg\" data-medium-file=\"http://www.laboiteverte.fr/wp-content/uploads/2015/10/aurore-telescope-320x480.jpg\" data-orig-file=\"http://www.laboiteverte.fr/wp-content/uploads/2015/10/aurore-telescope.jpg\" data-orig-size=\"1600,2400\" data-permalink=\"http://www.laboiteverte.fr/120-photos-autour-du-pole-sud/aurore-telescope/\" height=\"920\" sizes=\"(max-width: 613px) 100vw, 613px\" src=\"http://www.laboiteverte.fr/wp-content/uploads/2015/10/aurore-telescope-613x920.jpg\" srcset=\"http://www.laboiteverte.fr/wp-content/uploads/2015/10/aurore-telescope-613x920.jpg 613w, http://www.laboiteverte.fr/wp-content/uploads/2015/10/aurore-telescope-320x480.jpg 320w, http://www.laboiteverte.fr/wp-content/uploads/2015/10/aurore-telescope.jpg 1600w\" width=\"613\"/></a>,\n",
       " <a href=\"http://www.laboiteverte.fr/120-photos-autour-du-pole-sud/20min-etoiles-pole-sud/\" rel=\"attachment wp-att-66738\"><img alt=\"20 minutes d'exposition révèlent l'axe de rotation de la terre - Patrick Cullis\" class=\"size-large wp-image-66738\" data-attachment-id=\"66738\" data-comments-opened=\"1\" data-image-description=\"\" data-image-meta='{\"aperture\":\"0\",\"credit\":\"\",\"camera\":\"\",\"caption\":\"\",\"created_timestamp\":\"0\",\"copyright\":\"\",\"focal_length\":\"0\",\"iso\":\"0\",\"shutter_speed\":\"0\",\"title\":\"\",\"orientation\":\"0\"}' data-image-title=\"20min-etoiles-pole-sud\" data-large-file=\"http://www.laboiteverte.fr/wp-content/uploads/2015/10/20min-etoiles-pole-sud-1280x851.jpg\" data-medium-file=\"http://www.laboiteverte.fr/wp-content/uploads/2015/10/20min-etoiles-pole-sud-620x412.jpg\" data-orig-file=\"http://www.laboiteverte.fr/wp-content/uploads/2015/10/20min-etoiles-pole-sud.jpg\" data-orig-size=\"3200,2127\" data-permalink=\"http://www.laboiteverte.fr/120-photos-autour-du-pole-sud/20min-etoiles-pole-sud/\" height=\"718\" sizes=\"(max-width: 1080px) 100vw, 1080px\" src=\"http://www.laboiteverte.fr/wp-content/uploads/2015/10/20min-etoiles-pole-sud-1280x851.jpg\" srcset=\"http://www.laboiteverte.fr/wp-content/uploads/2015/10/20min-etoiles-pole-sud-1280x851.jpg 1280w, http://www.laboiteverte.fr/wp-content/uploads/2015/10/20min-etoiles-pole-sud-480x320.jpg 480w, http://www.laboiteverte.fr/wp-content/uploads/2015/10/20min-etoiles-pole-sud-620x412.jpg 620w\" width=\"1080\"/></a>,\n",
       " <a href=\"http://www.laboiteverte.fr/120-photos-autour-du-pole-sud/etoilerotation-circulaire/\" rel=\"attachment wp-att-66739\"><img alt=\"Cette rotation parfaitement circulaire dessiné par les étoiles en pose longue n'est visible qu'aux pôles, la ligne verticale à gauche a été créée par l'élévation d'un ballon météo - Paul Siple, 1957\" class=\"size-large wp-image-66739\" data-attachment-id=\"66739\" data-comments-opened=\"1\" data-image-description=\"\" data-image-meta='{\"aperture\":\"0\",\"credit\":\"\",\"camera\":\"\",\"caption\":\"\",\"created_timestamp\":\"0\",\"copyright\":\"\",\"focal_length\":\"0\",\"iso\":\"0\",\"shutter_speed\":\"0\",\"title\":\"\",\"orientation\":\"0\"}' data-image-title=\"etoilerotation-circulaire\" data-large-file=\"http://www.laboiteverte.fr/wp-content/uploads/2015/10/etoilerotation-circulaire-734x920.jpg\" data-medium-file=\"http://www.laboiteverte.fr/wp-content/uploads/2015/10/etoilerotation-circulaire-383x480.jpg\" data-orig-file=\"http://www.laboiteverte.fr/wp-content/uploads/2015/10/etoilerotation-circulaire.jpg\" data-orig-size=\"1189,1490\" data-permalink=\"http://www.laboiteverte.fr/120-photos-autour-du-pole-sud/etoilerotation-circulaire/\" height=\"920\" sizes=\"(max-width: 734px) 100vw, 734px\" src=\"http://www.laboiteverte.fr/wp-content/uploads/2015/10/etoilerotation-circulaire-734x920.jpg\" srcset=\"http://www.laboiteverte.fr/wp-content/uploads/2015/10/etoilerotation-circulaire-734x920.jpg 734w, http://www.laboiteverte.fr/wp-content/uploads/2015/10/etoilerotation-circulaire-383x480.jpg 383w, http://www.laboiteverte.fr/wp-content/uploads/2015/10/etoilerotation-circulaire.jpg 1189w\" width=\"734\"/></a>,\n",
       " <a href=\"http://www.laboiteverte.fr/120-photos-autour-du-pole-sud/pole-sud-nuit-lumiere-rouge-01/\" rel=\"attachment wp-att-66741\"><img alt=\"L’excédent de neige est enlevé du toit des bâtiments régulièrement durant l'hiver, les bâtiments sont éclairés avec une lumière rouge pour minimiser la polution lumineuse qui affecte les télescopes - Sven Lidstrom\" class=\"size-large wp-image-66741\" data-attachment-id=\"66741\" data-comments-opened=\"1\" data-image-description=\"\" data-image-meta='{\"aperture\":\"0\",\"credit\":\"\",\"camera\":\"\",\"caption\":\"\",\"created_timestamp\":\"0\",\"copyright\":\"\",\"focal_length\":\"0\",\"iso\":\"0\",\"shutter_speed\":\"0\",\"title\":\"\",\"orientation\":\"0\"}' data-image-title=\"pole-sud-nuit-lumiere-rouge-01\" data-large-file=\"http://www.laboiteverte.fr/wp-content/uploads/2015/10/pole-sud-nuit-lumiere-rouge-01-1280x853.jpg\" data-medium-file=\"http://www.laboiteverte.fr/wp-content/uploads/2015/10/pole-sud-nuit-lumiere-rouge-01-620x413.jpg\" data-orig-file=\"http://www.laboiteverte.fr/wp-content/uploads/2015/10/pole-sud-nuit-lumiere-rouge-01.jpg\" data-orig-size=\"3200,2133\" data-permalink=\"http://www.laboiteverte.fr/120-photos-autour-du-pole-sud/pole-sud-nuit-lumiere-rouge-01/\" height=\"720\" sizes=\"(max-width: 1080px) 100vw, 1080px\" src=\"http://www.laboiteverte.fr/wp-content/uploads/2015/10/pole-sud-nuit-lumiere-rouge-01-1280x853.jpg\" srcset=\"http://www.laboiteverte.fr/wp-content/uploads/2015/10/pole-sud-nuit-lumiere-rouge-01-1280x853.jpg 1280w, http://www.laboiteverte.fr/wp-content/uploads/2015/10/pole-sud-nuit-lumiere-rouge-01-480x320.jpg 480w, http://www.laboiteverte.fr/wp-content/uploads/2015/10/pole-sud-nuit-lumiere-rouge-01-620x413.jpg 620w\" width=\"1080\"/></a>,\n",
       " <a href=\"http://www.laboiteverte.fr/120-photos-autour-du-pole-sud/pole-sud-nuit-lumiere-rouge-02/\" rel=\"attachment wp-att-66742\"><img alt=\"Comme ici avec le bâtiment de l'IceCube - Carlos Pobes\" class=\"size-large wp-image-66742\" data-attachment-id=\"66742\" data-comments-opened=\"1\" data-image-description=\"\" data-image-meta='{\"aperture\":\"0\",\"credit\":\"\",\"camera\":\"\",\"caption\":\"\",\"created_timestamp\":\"0\",\"copyright\":\"\",\"focal_length\":\"0\",\"iso\":\"0\",\"shutter_speed\":\"0\",\"title\":\"\",\"orientation\":\"0\"}' data-image-title=\"pole-sud-nuit-lumiere-rouge-02\" data-large-file=\"http://www.laboiteverte.fr/wp-content/uploads/2015/10/pole-sud-nuit-lumiere-rouge-02-1280x848.jpg\" data-medium-file=\"http://www.laboiteverte.fr/wp-content/uploads/2015/10/pole-sud-nuit-lumiere-rouge-02-620x411.jpg\" data-orig-file=\"http://www.laboiteverte.fr/wp-content/uploads/2015/10/pole-sud-nuit-lumiere-rouge-02.jpg\" data-orig-size=\"3200,2119\" data-permalink=\"http://www.laboiteverte.fr/120-photos-autour-du-pole-sud/pole-sud-nuit-lumiere-rouge-02/\" height=\"716\" sizes=\"(max-width: 1080px) 100vw, 1080px\" src=\"http://www.laboiteverte.fr/wp-content/uploads/2015/10/pole-sud-nuit-lumiere-rouge-02-1280x848.jpg\" srcset=\"http://www.laboiteverte.fr/wp-content/uploads/2015/10/pole-sud-nuit-lumiere-rouge-02-1280x848.jpg 1280w, http://www.laboiteverte.fr/wp-content/uploads/2015/10/pole-sud-nuit-lumiere-rouge-02-620x411.jpg 620w\" width=\"1080\"/></a>,\n",
       " <a href=\"http://www.laboiteverte.fr/120-photos-autour-du-pole-sud/pole-sud-nuit-lumiere-rouge-03/\" rel=\"attachment wp-att-66743\"><img alt=\"Sven Lidstrom\" class=\"size-large wp-image-66743\" data-attachment-id=\"66743\" data-comments-opened=\"1\" data-image-description=\"\" data-image-meta='{\"aperture\":\"0\",\"credit\":\"\",\"camera\":\"\",\"caption\":\"\",\"created_timestamp\":\"0\",\"copyright\":\"\",\"focal_length\":\"0\",\"iso\":\"0\",\"shutter_speed\":\"0\",\"title\":\"\",\"orientation\":\"0\"}' data-image-title=\"pole-sud-nuit-lumiere-rouge-03\" data-large-file=\"http://www.laboiteverte.fr/wp-content/uploads/2015/10/pole-sud-nuit-lumiere-rouge-03-1280x853.jpg\" data-medium-file=\"http://www.laboiteverte.fr/wp-content/uploads/2015/10/pole-sud-nuit-lumiere-rouge-03-620x413.jpg\" data-orig-file=\"http://www.laboiteverte.fr/wp-content/uploads/2015/10/pole-sud-nuit-lumiere-rouge-03.jpg\" data-orig-size=\"3200,2133\" data-permalink=\"http://www.laboiteverte.fr/120-photos-autour-du-pole-sud/pole-sud-nuit-lumiere-rouge-03/\" height=\"720\" sizes=\"(max-width: 1080px) 100vw, 1080px\" src=\"http://www.laboiteverte.fr/wp-content/uploads/2015/10/pole-sud-nuit-lumiere-rouge-03-1280x853.jpg\" srcset=\"http://www.laboiteverte.fr/wp-content/uploads/2015/10/pole-sud-nuit-lumiere-rouge-03-1280x853.jpg 1280w, http://www.laboiteverte.fr/wp-content/uploads/2015/10/pole-sud-nuit-lumiere-rouge-03-480x320.jpg 480w, http://www.laboiteverte.fr/wp-content/uploads/2015/10/pole-sud-nuit-lumiere-rouge-03-620x413.jpg 620w\" width=\"1080\"/></a>,\n",
       " <a href=\"http://www.laboiteverte.fr/120-photos-autour-du-pole-sud/coucher-soleil-hivers-antarctique/\" rel=\"attachment wp-att-66744\"><img alt=\"Un coucher de soleil à Palmer Station - Perri Barbour\" class=\"size-large wp-image-66744\" data-attachment-id=\"66744\" data-comments-opened=\"1\" data-image-description=\"\" data-image-meta='{\"aperture\":\"0\",\"credit\":\"\",\"camera\":\"\",\"caption\":\"\",\"created_timestamp\":\"0\",\"copyright\":\"\",\"focal_length\":\"0\",\"iso\":\"0\",\"shutter_speed\":\"0\",\"title\":\"\",\"orientation\":\"0\"}' data-image-title=\"coucher-soleil-hivers-antarctique\" data-large-file=\"http://www.laboiteverte.fr/wp-content/uploads/2015/10/coucher-soleil-hivers-antarctique-1227x920.jpg\" data-medium-file=\"http://www.laboiteverte.fr/wp-content/uploads/2015/10/coucher-soleil-hivers-antarctique-620x465.jpg\" data-orig-file=\"http://www.laboiteverte.fr/wp-content/uploads/2015/10/coucher-soleil-hivers-antarctique.jpg\" data-orig-size=\"3200,2400\" data-permalink=\"http://www.laboiteverte.fr/120-photos-autour-du-pole-sud/coucher-soleil-hivers-antarctique/\" height=\"810\" sizes=\"(max-width: 1080px) 100vw, 1080px\" src=\"http://www.laboiteverte.fr/wp-content/uploads/2015/10/coucher-soleil-hivers-antarctique-1227x920.jpg\" srcset=\"http://www.laboiteverte.fr/wp-content/uploads/2015/10/coucher-soleil-hivers-antarctique-1227x920.jpg 1227w, http://www.laboiteverte.fr/wp-content/uploads/2015/10/coucher-soleil-hivers-antarctique-620x465.jpg 620w\" width=\"1080\"/></a>,\n",
       " <a href=\"http://www.laboiteverte.fr/120-photos-autour-du-pole-sud/1-montagne-reflet/\" rel=\"attachment wp-att-66745\"><img alt=\"Paysage du Neumayer Channel - Peter Rejcek\" class=\"size-large wp-image-66745\" data-attachment-id=\"66745\" data-comments-opened=\"1\" data-image-description=\"\" data-image-meta='{\"aperture\":\"0\",\"credit\":\"\",\"camera\":\"\",\"caption\":\"\",\"created_timestamp\":\"0\",\"copyright\":\"\",\"focal_length\":\"0\",\"iso\":\"0\",\"shutter_speed\":\"0\",\"title\":\"\",\"orientation\":\"0\"}' data-image-title=\"1-montagne-reflet\" data-large-file=\"http://www.laboiteverte.fr/wp-content/uploads/2015/10/1-montagne-reflet-1280x853.jpg\" data-medium-file=\"http://www.laboiteverte.fr/wp-content/uploads/2015/10/1-montagne-reflet-620x413.jpg\" data-orig-file=\"http://www.laboiteverte.fr/wp-content/uploads/2015/10/1-montagne-reflet.jpg\" data-orig-size=\"2988,1992\" data-permalink=\"http://www.laboiteverte.fr/120-photos-autour-du-pole-sud/1-montagne-reflet/\" height=\"720\" sizes=\"(max-width: 1080px) 100vw, 1080px\" src=\"http://www.laboiteverte.fr/wp-content/uploads/2015/10/1-montagne-reflet-1280x853.jpg\" srcset=\"http://www.laboiteverte.fr/wp-content/uploads/2015/10/1-montagne-reflet-1280x853.jpg 1280w, http://www.laboiteverte.fr/wp-content/uploads/2015/10/1-montagne-reflet-480x320.jpg 480w, http://www.laboiteverte.fr/wp-content/uploads/2015/10/1-montagne-reflet-620x413.jpg 620w\" width=\"1080\"/></a>,\n",
       " <a href=\"http://www.laboiteverte.fr/120-photos-autour-du-pole-sud/2-arche-iceberg/\" rel=\"attachment wp-att-66746\"><img alt=\"Mer de Ross - Patrick Rowe\" class=\"size-large wp-image-66746\" data-attachment-id=\"66746\" data-comments-opened=\"1\" data-image-description=\"\" data-image-meta='{\"aperture\":\"0\",\"credit\":\"\",\"camera\":\"\",\"caption\":\"\",\"created_timestamp\":\"0\",\"copyright\":\"\",\"focal_length\":\"0\",\"iso\":\"0\",\"shutter_speed\":\"0\",\"title\":\"\",\"orientation\":\"0\"}' data-image-title=\"2-arche-iceberg\" data-large-file=\"http://www.laboiteverte.fr/wp-content/uploads/2015/10/2-arche-iceberg-690x920.jpg\" data-medium-file=\"http://www.laboiteverte.fr/wp-content/uploads/2015/10/2-arche-iceberg-360x480.jpg\" data-orig-file=\"http://www.laboiteverte.fr/wp-content/uploads/2015/10/2-arche-iceberg.jpg\" data-orig-size=\"2400,3200\" data-permalink=\"http://www.laboiteverte.fr/120-photos-autour-du-pole-sud/2-arche-iceberg/\" height=\"920\" sizes=\"(max-width: 690px) 100vw, 690px\" src=\"http://www.laboiteverte.fr/wp-content/uploads/2015/10/2-arche-iceberg-690x920.jpg\" srcset=\"http://www.laboiteverte.fr/wp-content/uploads/2015/10/2-arche-iceberg-690x920.jpg 690w, http://www.laboiteverte.fr/wp-content/uploads/2015/10/2-arche-iceberg-360x480.jpg 360w\" width=\"690\"/></a>,\n",
       " <a href=\"http://www.laboiteverte.fr/120-photos-autour-du-pole-sud/3-chaos-crevasse-pole-sud/\" rel=\"attachment wp-att-66747\"><img alt=\"Le glacier de Pine Island\" class=\"size-large wp-image-66747\" data-attachment-id=\"66747\" data-comments-opened=\"1\" data-image-description=\"\" data-image-meta='{\"aperture\":\"0\",\"credit\":\"\",\"camera\":\"\",\"caption\":\"\",\"created_timestamp\":\"0\",\"copyright\":\"\",\"focal_length\":\"0\",\"iso\":\"0\",\"shutter_speed\":\"0\",\"title\":\"\",\"orientation\":\"0\"}' data-image-title=\"3-chaos-crevasse-pole-sud\" data-large-file=\"http://www.laboiteverte.fr/wp-content/uploads/2015/10/3-chaos-crevasse-pole-sud-1280x850.jpg\" data-medium-file=\"http://www.laboiteverte.fr/wp-content/uploads/2015/10/3-chaos-crevasse-pole-sud-620x412.jpg\" data-orig-file=\"http://www.laboiteverte.fr/wp-content/uploads/2015/10/3-chaos-crevasse-pole-sud.jpg\" data-orig-size=\"3200,2125\" data-permalink=\"http://www.laboiteverte.fr/120-photos-autour-du-pole-sud/3-chaos-crevasse-pole-sud/\" height=\"717\" sizes=\"(max-width: 1080px) 100vw, 1080px\" src=\"http://www.laboiteverte.fr/wp-content/uploads/2015/10/3-chaos-crevasse-pole-sud-1280x850.jpg\" srcset=\"http://www.laboiteverte.fr/wp-content/uploads/2015/10/3-chaos-crevasse-pole-sud-1280x850.jpg 1280w, http://www.laboiteverte.fr/wp-content/uploads/2015/10/3-chaos-crevasse-pole-sud-480x320.jpg 480w, http://www.laboiteverte.fr/wp-content/uploads/2015/10/3-chaos-crevasse-pole-sud-620x412.jpg 620w\" width=\"1080\"/></a>,\n",
       " <a href=\"http://www.laboiteverte.fr/120-photos-autour-du-pole-sud/4-nuages-pole-sud/\" rel=\"attachment wp-att-66748\"><img alt=\"Peter Rejcek\" class=\"size-large wp-image-66748\" data-attachment-id=\"66748\" data-comments-opened=\"1\" data-image-description=\"\" data-image-meta='{\"aperture\":\"0\",\"credit\":\"\",\"camera\":\"\",\"caption\":\"\",\"created_timestamp\":\"0\",\"copyright\":\"\",\"focal_length\":\"0\",\"iso\":\"0\",\"shutter_speed\":\"0\",\"title\":\"\",\"orientation\":\"0\"}' data-image-title=\"4-nuages-pole-sud\" data-large-file=\"http://www.laboiteverte.fr/wp-content/uploads/2015/10/4-nuages-pole-sud-1280x851.jpg\" data-medium-file=\"http://www.laboiteverte.fr/wp-content/uploads/2015/10/4-nuages-pole-sud-620x412.jpg\" data-orig-file=\"http://www.laboiteverte.fr/wp-content/uploads/2015/10/4-nuages-pole-sud.jpg\" data-orig-size=\"3008,2000\" data-permalink=\"http://www.laboiteverte.fr/120-photos-autour-du-pole-sud/4-nuages-pole-sud/\" height=\"718\" sizes=\"(max-width: 1080px) 100vw, 1080px\" src=\"http://www.laboiteverte.fr/wp-content/uploads/2015/10/4-nuages-pole-sud-1280x851.jpg\" srcset=\"http://www.laboiteverte.fr/wp-content/uploads/2015/10/4-nuages-pole-sud-1280x851.jpg 1280w, http://www.laboiteverte.fr/wp-content/uploads/2015/10/4-nuages-pole-sud-480x320.jpg 480w, http://www.laboiteverte.fr/wp-content/uploads/2015/10/4-nuages-pole-sud-620x412.jpg 620w\" width=\"1080\"/></a>,\n",
       " <a href=\"http://www.laboiteverte.fr/120-photos-autour-du-pole-sud/5-montagnes-neige-pole-sud-aerien/\" rel=\"attachment wp-att-66749\"><img alt=\"5-montagnes-neige-pole-sud-aerien\" class=\"aligncenter size-large wp-image-66749\" data-attachment-id=\"66749\" data-comments-opened=\"1\" data-image-description=\"\" data-image-meta='{\"aperture\":\"0\",\"credit\":\"\",\"camera\":\"\",\"caption\":\"\",\"created_timestamp\":\"0\",\"copyright\":\"\",\"focal_length\":\"0\",\"iso\":\"0\",\"shutter_speed\":\"0\",\"title\":\"\",\"orientation\":\"0\"}' data-image-title=\"5-montagnes-neige-pole-sud-aerien\" data-large-file=\"http://www.laboiteverte.fr/wp-content/uploads/2015/10/5-montagnes-neige-pole-sud-aerien-1280x853.jpg\" data-medium-file=\"http://www.laboiteverte.fr/wp-content/uploads/2015/10/5-montagnes-neige-pole-sud-aerien-620x413.jpg\" data-orig-file=\"http://www.laboiteverte.fr/wp-content/uploads/2015/10/5-montagnes-neige-pole-sud-aerien.jpg\" data-orig-size=\"3200,2133\" data-permalink=\"http://www.laboiteverte.fr/120-photos-autour-du-pole-sud/5-montagnes-neige-pole-sud-aerien/\" height=\"720\" sizes=\"(max-width: 1080px) 100vw, 1080px\" src=\"http://www.laboiteverte.fr/wp-content/uploads/2015/10/5-montagnes-neige-pole-sud-aerien-1280x853.jpg\" srcset=\"http://www.laboiteverte.fr/wp-content/uploads/2015/10/5-montagnes-neige-pole-sud-aerien-1280x853.jpg 1280w, http://www.laboiteverte.fr/wp-content/uploads/2015/10/5-montagnes-neige-pole-sud-aerien-480x320.jpg 480w, http://www.laboiteverte.fr/wp-content/uploads/2015/10/5-montagnes-neige-pole-sud-aerien-620x413.jpg 620w\" width=\"1080\"/></a>,\n",
       " <a href=\"http://www.laboiteverte.fr/120-photos-autour-du-pole-sud/6-base-pole-sud/\" rel=\"attachment wp-att-66750\"><img alt=\"Camp Helo sur Pine Island \" class=\"size-large wp-image-66750\" data-attachment-id=\"66750\" data-comments-opened=\"1\" data-image-description=\"\" data-image-meta='{\"aperture\":\"0\",\"credit\":\"\",\"camera\":\"\",\"caption\":\"\",\"created_timestamp\":\"0\",\"copyright\":\"\",\"focal_length\":\"0\",\"iso\":\"0\",\"shutter_speed\":\"0\",\"title\":\"\",\"orientation\":\"0\"}' data-image-title=\"6-base-pole-sud\" data-large-file=\"http://www.laboiteverte.fr/wp-content/uploads/2015/10/6-base-pole-sud-1280x850.jpg\" data-medium-file=\"http://www.laboiteverte.fr/wp-content/uploads/2015/10/6-base-pole-sud-620x412.jpg\" data-orig-file=\"http://www.laboiteverte.fr/wp-content/uploads/2015/10/6-base-pole-sud.jpg\" data-orig-size=\"3200,2126\" data-permalink=\"http://www.laboiteverte.fr/120-photos-autour-du-pole-sud/6-base-pole-sud/\" height=\"717\" sizes=\"(max-width: 1080px) 100vw, 1080px\" src=\"http://www.laboiteverte.fr/wp-content/uploads/2015/10/6-base-pole-sud-1280x850.jpg\" srcset=\"http://www.laboiteverte.fr/wp-content/uploads/2015/10/6-base-pole-sud-1280x850.jpg 1280w, http://www.laboiteverte.fr/wp-content/uploads/2015/10/6-base-pole-sud-480x320.jpg 480w, http://www.laboiteverte.fr/wp-content/uploads/2015/10/6-base-pole-sud-620x412.jpg 620w\" width=\"1080\"/></a>,\n",
       " <a href=\"http://www.laboiteverte.fr/120-photos-autour-du-pole-sud/7-installation-baraques-pole-sud/\" rel=\"attachment wp-att-66751\"><img alt=\"Un camp proche d'un glacier à Lake Hoare\" class=\"size-large wp-image-66751\" data-attachment-id=\"66751\" data-comments-opened=\"1\" data-image-description=\"\" data-image-meta='{\"aperture\":\"0\",\"credit\":\"\",\"camera\":\"\",\"caption\":\"\",\"created_timestamp\":\"0\",\"copyright\":\"\",\"focal_length\":\"0\",\"iso\":\"0\",\"shutter_speed\":\"0\",\"title\":\"\",\"orientation\":\"0\"}' data-image-title=\"7-installation-baraques-pole-sud\" data-large-file=\"http://www.laboiteverte.fr/wp-content/uploads/2015/10/7-installation-baraques-pole-sud-1280x848.jpg\" data-medium-file=\"http://www.laboiteverte.fr/wp-content/uploads/2015/10/7-installation-baraques-pole-sud-620x411.jpg\" data-orig-file=\"http://www.laboiteverte.fr/wp-content/uploads/2015/10/7-installation-baraques-pole-sud.jpg\" data-orig-size=\"3200,2119\" data-permalink=\"http://www.laboiteverte.fr/120-photos-autour-du-pole-sud/7-installation-baraques-pole-sud/\" height=\"716\" sizes=\"(max-width: 1080px) 100vw, 1080px\" src=\"http://www.laboiteverte.fr/wp-content/uploads/2015/10/7-installation-baraques-pole-sud-1280x848.jpg\" srcset=\"http://www.laboiteverte.fr/wp-content/uploads/2015/10/7-installation-baraques-pole-sud-1280x848.jpg 1280w, http://www.laboiteverte.fr/wp-content/uploads/2015/10/7-installation-baraques-pole-sud-620x411.jpg 620w\" width=\"1080\"/></a>,\n",
       " <a href=\"http://www.laboiteverte.fr/120-photos-autour-du-pole-sud/8-fatamorgana-mirale-neige-antarctique/\" rel=\"attachment wp-att-66752\"><img alt=\"Une Fata Morgana, un mirage, sur William Field à coté de la station de Mc Murdo - Jack Green\" class=\"size-large wp-image-66752\" data-attachment-id=\"66752\" data-comments-opened=\"1\" data-image-description=\"\" data-image-meta='{\"aperture\":\"0\",\"credit\":\"\",\"camera\":\"\",\"caption\":\"\",\"created_timestamp\":\"0\",\"copyright\":\"\",\"focal_length\":\"0\",\"iso\":\"0\",\"shutter_speed\":\"0\",\"title\":\"\",\"orientation\":\"0\"}' data-image-title=\"8-fatamorgana-mirale-neige-antarctique\" data-large-file=\"http://www.laboiteverte.fr/wp-content/uploads/2015/10/8-fatamorgana-mirale-neige-antarctique-1280x853.jpg\" data-medium-file=\"http://www.laboiteverte.fr/wp-content/uploads/2015/10/8-fatamorgana-mirale-neige-antarctique-620x413.jpg\" data-orig-file=\"http://www.laboiteverte.fr/wp-content/uploads/2015/10/8-fatamorgana-mirale-neige-antarctique.jpg\" data-orig-size=\"3200,2133\" data-permalink=\"http://www.laboiteverte.fr/120-photos-autour-du-pole-sud/8-fatamorgana-mirale-neige-antarctique/\" height=\"720\" sizes=\"(max-width: 1080px) 100vw, 1080px\" src=\"http://www.laboiteverte.fr/wp-content/uploads/2015/10/8-fatamorgana-mirale-neige-antarctique-1280x853.jpg\" srcset=\"http://www.laboiteverte.fr/wp-content/uploads/2015/10/8-fatamorgana-mirale-neige-antarctique-1280x853.jpg 1280w, http://www.laboiteverte.fr/wp-content/uploads/2015/10/8-fatamorgana-mirale-neige-antarctique-480x320.jpg 480w, http://www.laboiteverte.fr/wp-content/uploads/2015/10/8-fatamorgana-mirale-neige-antarctique-620x413.jpg 620w\" width=\"1080\"/></a>,\n",
       " <a href=\"http://www.laboiteverte.fr/120-photos-autour-du-pole-sud/9-dans-la-tempete/\" rel=\"attachment wp-att-66753\"><img alt=\"Pine Island dans la tempête \" class=\"size-large wp-image-66753\" data-attachment-id=\"66753\" data-comments-opened=\"1\" data-image-description=\"\" data-image-meta='{\"aperture\":\"0\",\"credit\":\"\",\"camera\":\"\",\"caption\":\"\",\"created_timestamp\":\"0\",\"copyright\":\"\",\"focal_length\":\"0\",\"iso\":\"0\",\"shutter_speed\":\"0\",\"title\":\"\",\"orientation\":\"0\"}' data-image-title=\"9-dans-la-tempete\" data-large-file=\"http://www.laboiteverte.fr/wp-content/uploads/2015/10/9-dans-la-tempete-1280x770.jpg\" data-medium-file=\"http://www.laboiteverte.fr/wp-content/uploads/2015/10/9-dans-la-tempete-620x373.jpg\" data-orig-file=\"http://www.laboiteverte.fr/wp-content/uploads/2015/10/9-dans-la-tempete.jpg\" data-orig-size=\"3200,1924\" data-permalink=\"http://www.laboiteverte.fr/120-photos-autour-du-pole-sud/9-dans-la-tempete/\" height=\"650\" sizes=\"(max-width: 1080px) 100vw, 1080px\" src=\"http://www.laboiteverte.fr/wp-content/uploads/2015/10/9-dans-la-tempete-1280x770.jpg\" srcset=\"http://www.laboiteverte.fr/wp-content/uploads/2015/10/9-dans-la-tempete-1280x770.jpg 1280w, http://www.laboiteverte.fr/wp-content/uploads/2015/10/9-dans-la-tempete-620x373.jpg 620w\" width=\"1080\"/></a>,\n",
       " <a href=\"http://www.laboiteverte.fr/120-photos-autour-du-pole-sud/tente-tempete-neige/\" rel=\"attachment wp-att-66755\"><img alt=\"Une tente dans une tempête de neige - August Allen\" class=\"size-large wp-image-66755\" data-attachment-id=\"66755\" data-comments-opened=\"1\" data-image-description=\"\" data-image-meta='{\"aperture\":\"0\",\"credit\":\"\",\"camera\":\"\",\"caption\":\"\",\"created_timestamp\":\"0\",\"copyright\":\"\",\"focal_length\":\"0\",\"iso\":\"0\",\"shutter_speed\":\"0\",\"title\":\"\",\"orientation\":\"0\"}' data-image-title=\"tente-tempete-neige\" data-large-file=\"http://www.laboiteverte.fr/wp-content/uploads/2015/10/tente-tempete-neige-1280x851.jpg\" data-medium-file=\"http://www.laboiteverte.fr/wp-content/uploads/2015/10/tente-tempete-neige-620x412.jpg\" data-orig-file=\"http://www.laboiteverte.fr/wp-content/uploads/2015/10/tente-tempete-neige.jpg\" data-orig-size=\"2492,1657\" data-permalink=\"http://www.laboiteverte.fr/120-photos-autour-du-pole-sud/tente-tempete-neige/\" height=\"718\" sizes=\"(max-width: 1080px) 100vw, 1080px\" src=\"http://www.laboiteverte.fr/wp-content/uploads/2015/10/tente-tempete-neige-1280x851.jpg\" srcset=\"http://www.laboiteverte.fr/wp-content/uploads/2015/10/tente-tempete-neige-1280x851.jpg 1280w, http://www.laboiteverte.fr/wp-content/uploads/2015/10/tente-tempete-neige-480x320.jpg 480w, http://www.laboiteverte.fr/wp-content/uploads/2015/10/tente-tempete-neige-620x412.jpg 620w\" width=\"1080\"/></a>,\n",
       " <a href=\"http://www.laboiteverte.fr/120-photos-autour-du-pole-sud/pine-island-tempete/\" rel=\"attachment wp-att-66756\"><img alt=\"Dans la neige à Pine Island - August Allen\" class=\"size-large wp-image-66756\" data-attachment-id=\"66756\" data-comments-opened=\"1\" data-image-description=\"\" data-image-meta='{\"aperture\":\"0\",\"credit\":\"\",\"camera\":\"\",\"caption\":\"\",\"created_timestamp\":\"0\",\"copyright\":\"\",\"focal_length\":\"0\",\"iso\":\"0\",\"shutter_speed\":\"0\",\"title\":\"\",\"orientation\":\"0\"}' data-image-title=\"pine-island-tempete\" data-large-file=\"http://www.laboiteverte.fr/wp-content/uploads/2015/10/pine-island-tempete-1280x850.jpg\" data-medium-file=\"http://www.laboiteverte.fr/wp-content/uploads/2015/10/pine-island-tempete-620x412.jpg\" data-orig-file=\"http://www.laboiteverte.fr/wp-content/uploads/2015/10/pine-island-tempete.jpg\" data-orig-size=\"2574,1710\" data-permalink=\"http://www.laboiteverte.fr/120-photos-autour-du-pole-sud/pine-island-tempete/\" height=\"717\" sizes=\"(max-width: 1080px) 100vw, 1080px\" src=\"http://www.laboiteverte.fr/wp-content/uploads/2015/10/pine-island-tempete-1280x850.jpg\" srcset=\"http://www.laboiteverte.fr/wp-content/uploads/2015/10/pine-island-tempete-1280x850.jpg 1280w, http://www.laboiteverte.fr/wp-content/uploads/2015/10/pine-island-tempete-480x320.jpg 480w, http://www.laboiteverte.fr/wp-content/uploads/2015/10/pine-island-tempete-620x412.jpg 620w\" width=\"1080\"/></a>,\n",
       " <a href=\"http://www.laboiteverte.fr/120-photos-autour-du-pole-sud/antartique-amarer-bateau/\" rel=\"attachment wp-att-66757\"><img alt=\"Préparation de l'amarrage d'un bateau à Palmer Station - Zee Evans\" class=\"size-large wp-image-66757\" data-attachment-id=\"66757\" data-comments-opened=\"1\" data-image-description=\"\" data-image-meta='{\"aperture\":\"0\",\"credit\":\"\",\"camera\":\"\",\"caption\":\"\",\"created_timestamp\":\"0\",\"copyright\":\"\",\"focal_length\":\"0\",\"iso\":\"0\",\"shutter_speed\":\"0\",\"title\":\"\",\"orientation\":\"0\"}' data-image-title=\"antartique-amarer-bateau\" data-large-file=\"http://www.laboiteverte.fr/wp-content/uploads/2015/10/antartique-amarer-bateau-1227x920.jpg\" data-medium-file=\"http://www.laboiteverte.fr/wp-content/uploads/2015/10/antartique-amarer-bateau-620x465.jpg\" data-orig-file=\"http://www.laboiteverte.fr/wp-content/uploads/2015/10/antartique-amarer-bateau.jpg\" data-orig-size=\"1600,1200\" data-permalink=\"http://www.laboiteverte.fr/120-photos-autour-du-pole-sud/antartique-amarer-bateau/\" height=\"810\" sizes=\"(max-width: 1080px) 100vw, 1080px\" src=\"http://www.laboiteverte.fr/wp-content/uploads/2015/10/antartique-amarer-bateau-1227x920.jpg\" srcset=\"http://www.laboiteverte.fr/wp-content/uploads/2015/10/antartique-amarer-bateau-1227x920.jpg 1227w, http://www.laboiteverte.fr/wp-content/uploads/2015/10/antartique-amarer-bateau-620x465.jpg 620w, http://www.laboiteverte.fr/wp-content/uploads/2015/10/antartique-amarer-bateau.jpg 1600w\" width=\"1080\"/></a>,\n",
       " <a href=\"http://www.laboiteverte.fr/120-photos-autour-du-pole-sud/01-petit-bateau-antarctique/\" rel=\"attachment wp-att-66758\"><img alt=\"Un petit bateau de l'US Navy dans la glace, 1957\" class=\"size-large wp-image-66758\" data-attachment-id=\"66758\" data-comments-opened=\"1\" data-image-description=\"\" data-image-meta='{\"aperture\":\"0\",\"credit\":\"\",\"camera\":\"\",\"caption\":\"\",\"created_timestamp\":\"0\",\"copyright\":\"\",\"focal_length\":\"0\",\"iso\":\"0\",\"shutter_speed\":\"0\",\"title\":\"\",\"orientation\":\"0\"}' data-image-title=\"01-petit-bateau-antarctique\" data-large-file=\"http://www.laboiteverte.fr/wp-content/uploads/2015/10/01-petit-bateau-antarctique-1280x872.jpg\" data-medium-file=\"http://www.laboiteverte.fr/wp-content/uploads/2015/10/01-petit-bateau-antarctique-620x422.jpg\" data-orig-file=\"http://www.laboiteverte.fr/wp-content/uploads/2015/10/01-petit-bateau-antarctique.jpg\" data-orig-size=\"2935,2000\" data-permalink=\"http://www.laboiteverte.fr/120-photos-autour-du-pole-sud/01-petit-bateau-antarctique/\" height=\"736\" sizes=\"(max-width: 1080px) 100vw, 1080px\" src=\"http://www.laboiteverte.fr/wp-content/uploads/2015/10/01-petit-bateau-antarctique-1280x872.jpg\" srcset=\"http://www.laboiteverte.fr/wp-content/uploads/2015/10/01-petit-bateau-antarctique-1280x872.jpg 1280w, http://www.laboiteverte.fr/wp-content/uploads/2015/10/01-petit-bateau-antarctique-620x422.jpg 620w\" width=\"1080\"/></a>,\n",
       " <a href=\"http://www.laboiteverte.fr/120-photos-autour-du-pole-sud/02-pano-briseglace/\" rel=\"attachment wp-att-66759\"><img alt=\"Vue panoramique du brise -glace RV Laurence Gould - Cynthia Spence\" class=\"size-large wp-image-66759\" data-attachment-id=\"66759\" data-comments-opened=\"1\" data-image-description=\"\" data-image-meta='{\"aperture\":\"0\",\"credit\":\"\",\"camera\":\"\",\"caption\":\"\",\"created_timestamp\":\"0\",\"copyright\":\"\",\"focal_length\":\"0\",\"iso\":\"0\",\"shutter_speed\":\"0\",\"title\":\"\",\"orientation\":\"0\"}' data-image-title=\"02-pano-briseglace\" data-large-file=\"http://www.laboiteverte.fr/wp-content/uploads/2015/10/02-pano-briseglace-1280x387.jpg\" data-medium-file=\"http://www.laboiteverte.fr/wp-content/uploads/2015/10/02-pano-briseglace-620x187.jpg\" data-orig-file=\"http://www.laboiteverte.fr/wp-content/uploads/2015/10/02-pano-briseglace.jpg\" data-orig-size=\"3000,907\" data-permalink=\"http://www.laboiteverte.fr/120-photos-autour-du-pole-sud/02-pano-briseglace/\" height=\"327\" sizes=\"(max-width: 1080px) 100vw, 1080px\" src=\"http://www.laboiteverte.fr/wp-content/uploads/2015/10/02-pano-briseglace-1280x387.jpg\" srcset=\"http://www.laboiteverte.fr/wp-content/uploads/2015/10/02-pano-briseglace-1280x387.jpg 1280w, http://www.laboiteverte.fr/wp-content/uploads/2015/10/02-pano-briseglace-620x187.jpg 620w\" width=\"1080\"/></a>,\n",
       " <a href=\"http://www.laboiteverte.fr/120-photos-autour-du-pole-sud/03-mer-demonte-pole-sud/\" rel=\"attachment wp-att-66760\"><img alt=\"La mer démontée\" class=\"size-large wp-image-66760\" data-attachment-id=\"66760\" data-comments-opened=\"1\" data-image-description=\"\" data-image-meta='{\"aperture\":\"0\",\"credit\":\"\",\"camera\":\"\",\"caption\":\"\",\"created_timestamp\":\"0\",\"copyright\":\"\",\"focal_length\":\"0\",\"iso\":\"0\",\"shutter_speed\":\"0\",\"title\":\"\",\"orientation\":\"0\"}' data-image-title=\"03-mer-demonte-pole-sud\" data-large-file=\"http://www.laboiteverte.fr/wp-content/uploads/2015/10/03-mer-demonte-pole-sud-1280x850.jpg\" data-medium-file=\"http://www.laboiteverte.fr/wp-content/uploads/2015/10/03-mer-demonte-pole-sud-620x412.jpg\" data-orig-file=\"http://www.laboiteverte.fr/wp-content/uploads/2015/10/03-mer-demonte-pole-sud.jpg\" data-orig-size=\"3200,2125\" data-permalink=\"http://www.laboiteverte.fr/120-photos-autour-du-pole-sud/03-mer-demonte-pole-sud/\" height=\"717\" sizes=\"(max-width: 1080px) 100vw, 1080px\" src=\"http://www.laboiteverte.fr/wp-content/uploads/2015/10/03-mer-demonte-pole-sud-1280x850.jpg\" srcset=\"http://www.laboiteverte.fr/wp-content/uploads/2015/10/03-mer-demonte-pole-sud-1280x850.jpg 1280w, http://www.laboiteverte.fr/wp-content/uploads/2015/10/03-mer-demonte-pole-sud-480x320.jpg 480w, http://www.laboiteverte.fr/wp-content/uploads/2015/10/03-mer-demonte-pole-sud-620x412.jpg 620w\" width=\"1080\"/></a>,\n",
       " <a href=\"http://www.laboiteverte.fr/120-photos-autour-du-pole-sud/04-3-bateau-navy-pousse-iceberg/\" rel=\"attachment wp-att-66761\"><img alt=\"L'USS Burton, l'USS Atka et l'USS Glacier poussent un iceberg qui menaçait la banquise de McMurdo, dans la mer de Ross en 1965\" class=\"size-large wp-image-66761\" data-attachment-id=\"66761\" data-comments-opened=\"1\" data-image-description=\"\" data-image-meta='{\"aperture\":\"0\",\"credit\":\"\",\"camera\":\"\",\"caption\":\"\",\"created_timestamp\":\"0\",\"copyright\":\"\",\"focal_length\":\"0\",\"iso\":\"0\",\"shutter_speed\":\"0\",\"title\":\"\",\"orientation\":\"0\"}' data-image-title=\"04-3-bateau-navy-pousse-iceberg\" data-large-file=\"http://www.laboiteverte.fr/wp-content/uploads/2015/10/04-3-bateau-navy-pousse-iceberg-1280x859.jpg\" data-medium-file=\"http://www.laboiteverte.fr/wp-content/uploads/2015/10/04-3-bateau-navy-pousse-iceberg-620x416.jpg\" data-orig-file=\"http://www.laboiteverte.fr/wp-content/uploads/2015/10/04-3-bateau-navy-pousse-iceberg.jpg\" data-orig-size=\"1944,1304\" data-permalink=\"http://www.laboiteverte.fr/120-photos-autour-du-pole-sud/04-3-bateau-navy-pousse-iceberg/\" height=\"725\" sizes=\"(max-width: 1080px) 100vw, 1080px\" src=\"http://www.laboiteverte.fr/wp-content/uploads/2015/10/04-3-bateau-navy-pousse-iceberg-1280x859.jpg\" srcset=\"http://www.laboiteverte.fr/wp-content/uploads/2015/10/04-3-bateau-navy-pousse-iceberg-1280x859.jpg 1280w, http://www.laboiteverte.fr/wp-content/uploads/2015/10/04-3-bateau-navy-pousse-iceberg-620x416.jpg 620w\" width=\"1080\"/></a>,\n",
       " <a href=\"http://www.laboiteverte.fr/120-photos-autour-du-pole-sud/05-basler-aiplane/\" rel=\"attachment wp-att-66762\"><img alt=\"Un avion de la compagnie Kenn Borek Air, basée à Calgary au Canada. Depuis les années 80 la compagnie s'occupe du transport entre les différentes bases de l'antarctique. Les avions passent l'hiver au Canada et font le voyage à travers les Amériques deux fois par an. - Ella Derbyshire\" class=\"size-large wp-image-66762\" data-attachment-id=\"66762\" data-comments-opened=\"1\" data-image-description=\"\" data-image-meta='{\"aperture\":\"0\",\"credit\":\"\",\"camera\":\"\",\"caption\":\"\",\"created_timestamp\":\"0\",\"copyright\":\"\",\"focal_length\":\"0\",\"iso\":\"0\",\"shutter_speed\":\"0\",\"title\":\"\",\"orientation\":\"0\"}' data-image-title=\"05-basler-aiplane\" data-large-file=\"http://www.laboiteverte.fr/wp-content/uploads/2015/10/05-basler-aiplane-1280x630.jpg\" data-medium-file=\"http://www.laboiteverte.fr/wp-content/uploads/2015/10/05-basler-aiplane-620x305.jpg\" data-orig-file=\"http://www.laboiteverte.fr/wp-content/uploads/2015/10/05-basler-aiplane.jpg\" data-orig-size=\"3200,1575\" data-permalink=\"http://www.laboiteverte.fr/120-photos-autour-du-pole-sud/05-basler-aiplane/\" height=\"532\" sizes=\"(max-width: 1080px) 100vw, 1080px\" src=\"http://www.laboiteverte.fr/wp-content/uploads/2015/10/05-basler-aiplane-1280x630.jpg\" srcset=\"http://www.laboiteverte.fr/wp-content/uploads/2015/10/05-basler-aiplane-1280x630.jpg 1280w, http://www.laboiteverte.fr/wp-content/uploads/2015/10/05-basler-aiplane-620x305.jpg 620w\" width=\"1080\"/></a>,\n",
       " <a href=\"http://www.laboiteverte.fr/120-photos-autour-du-pole-sud/06-c17globemaster/\" rel=\"attachment wp-att-66763\"><img alt=\"Un C-17 Globemaster III de l'US Air Force réalise une partie des besoins de transport vers l'Antarctique\" class=\"size-large wp-image-66763\" data-attachment-id=\"66763\" data-comments-opened=\"1\" data-image-description=\"\" data-image-meta='{\"aperture\":\"0\",\"credit\":\"\",\"camera\":\"\",\"caption\":\"\",\"created_timestamp\":\"0\",\"copyright\":\"\",\"focal_length\":\"0\",\"iso\":\"0\",\"shutter_speed\":\"0\",\"title\":\"\",\"orientation\":\"0\"}' data-image-title=\"06-C17GLobemaster\" data-large-file=\"http://www.laboiteverte.fr/wp-content/uploads/2015/10/06-C17GLobemaster-1280x853.jpg\" data-medium-file=\"http://www.laboiteverte.fr/wp-content/uploads/2015/10/06-C17GLobemaster-620x413.jpg\" data-orig-file=\"http://www.laboiteverte.fr/wp-content/uploads/2015/10/06-C17GLobemaster.jpg\" data-orig-size=\"3200,2133\" data-permalink=\"http://www.laboiteverte.fr/120-photos-autour-du-pole-sud/06-c17globemaster/\" height=\"720\" sizes=\"(max-width: 1080px) 100vw, 1080px\" src=\"http://www.laboiteverte.fr/wp-content/uploads/2015/10/06-C17GLobemaster-1280x853.jpg\" srcset=\"http://www.laboiteverte.fr/wp-content/uploads/2015/10/06-C17GLobemaster-1280x853.jpg 1280w, http://www.laboiteverte.fr/wp-content/uploads/2015/10/06-C17GLobemaster-480x320.jpg 480w, http://www.laboiteverte.fr/wp-content/uploads/2015/10/06-C17GLobemaster-620x413.jpg 620w\" width=\"1080\"/></a>,\n",
       " <a href=\"http://www.laboiteverte.fr/120-photos-autour-du-pole-sud/07-c17-globemaster-passager-cargo/\" rel=\"attachment wp-att-66764\"><img alt=\"La cargaison et les passagers se partagent l'espace disponible\" class=\"size-large wp-image-66764\" data-attachment-id=\"66764\" data-comments-opened=\"1\" data-image-description=\"\" data-image-meta='{\"aperture\":\"0\",\"credit\":\"\",\"camera\":\"\",\"caption\":\"\",\"created_timestamp\":\"0\",\"copyright\":\"\",\"focal_length\":\"0\",\"iso\":\"0\",\"shutter_speed\":\"0\",\"title\":\"\",\"orientation\":\"0\"}' data-image-title=\"07-C17-globemaster-passager-cargo\" data-large-file=\"http://www.laboiteverte.fr/wp-content/uploads/2015/10/07-C17-globemaster-passager-cargo-1227x920.jpg\" data-medium-file=\"http://www.laboiteverte.fr/wp-content/uploads/2015/10/07-C17-globemaster-passager-cargo-620x465.jpg\" data-orig-file=\"http://www.laboiteverte.fr/wp-content/uploads/2015/10/07-C17-globemaster-passager-cargo.jpg\" data-orig-size=\"1600,1200\" data-permalink=\"http://www.laboiteverte.fr/120-photos-autour-du-pole-sud/07-c17-globemaster-passager-cargo/\" height=\"810\" sizes=\"(max-width: 1080px) 100vw, 1080px\" src=\"http://www.laboiteverte.fr/wp-content/uploads/2015/10/07-C17-globemaster-passager-cargo-1227x920.jpg\" srcset=\"http://www.laboiteverte.fr/wp-content/uploads/2015/10/07-C17-globemaster-passager-cargo-1227x920.jpg 1227w, http://www.laboiteverte.fr/wp-content/uploads/2015/10/07-C17-globemaster-passager-cargo-620x465.jpg 620w, http://www.laboiteverte.fr/wp-content/uploads/2015/10/07-C17-globemaster-passager-cargo.jpg 1600w\" width=\"1080\"/></a>,\n",
       " <a href=\"http://www.laboiteverte.fr/120-photos-autour-du-pole-sud/08-c17-jato/\" rel=\"attachment wp-att-66765\"><img alt=\"Il est équipé de petites fusées pour l'assister au décollage en cas de difficultés ( JATO )\" class=\"size-large wp-image-66765\" data-attachment-id=\"66765\" data-comments-opened=\"1\" data-image-description=\"\" data-image-meta='{\"aperture\":\"0\",\"credit\":\"\",\"camera\":\"\",\"caption\":\"\",\"created_timestamp\":\"0\",\"copyright\":\"\",\"focal_length\":\"0\",\"iso\":\"0\",\"shutter_speed\":\"0\",\"title\":\"\",\"orientation\":\"0\"}' data-image-title=\"08-C17-JATO\" data-large-file=\"http://www.laboiteverte.fr/wp-content/uploads/2015/10/08-C17-JATO-1227x920.jpg\" data-medium-file=\"http://www.laboiteverte.fr/wp-content/uploads/2015/10/08-C17-JATO-620x465.jpg\" data-orig-file=\"http://www.laboiteverte.fr/wp-content/uploads/2015/10/08-C17-JATO.jpg\" data-orig-size=\"2304,1728\" data-permalink=\"http://www.laboiteverte.fr/120-photos-autour-du-pole-sud/08-c17-jato/\" height=\"810\" sizes=\"(max-width: 1080px) 100vw, 1080px\" src=\"http://www.laboiteverte.fr/wp-content/uploads/2015/10/08-C17-JATO-1227x920.jpg\" srcset=\"http://www.laboiteverte.fr/wp-content/uploads/2015/10/08-C17-JATO-1227x920.jpg 1227w, http://www.laboiteverte.fr/wp-content/uploads/2015/10/08-C17-JATO-620x465.jpg 620w\" width=\"1080\"/></a>,\n",
       " <a href=\"http://www.laboiteverte.fr/120-photos-autour-du-pole-sud/10-c124-accident/\" rel=\"attachment wp-att-66766\"><img alt=\"Un avion C124 de l'US Air Force après un problème avec son train d’atterrissage\" class=\"size-large wp-image-66766\" data-attachment-id=\"66766\" data-comments-opened=\"1\" data-image-description=\"\" data-image-meta='{\"aperture\":\"0\",\"credit\":\"\",\"camera\":\"\",\"caption\":\"\",\"created_timestamp\":\"0\",\"copyright\":\"\",\"focal_length\":\"0\",\"iso\":\"0\",\"shutter_speed\":\"0\",\"title\":\"\",\"orientation\":\"0\"}' data-image-title=\"10-c124-accident\" data-large-file=\"http://www.laboiteverte.fr/wp-content/uploads/2015/10/10-c124-accident-1280x853.jpg\" data-medium-file=\"http://www.laboiteverte.fr/wp-content/uploads/2015/10/10-c124-accident-620x413.jpg\" data-orig-file=\"http://www.laboiteverte.fr/wp-content/uploads/2015/10/10-c124-accident.jpg\" data-orig-size=\"2886,1924\" data-permalink=\"http://www.laboiteverte.fr/120-photos-autour-du-pole-sud/10-c124-accident/\" height=\"720\" sizes=\"(max-width: 1080px) 100vw, 1080px\" src=\"http://www.laboiteverte.fr/wp-content/uploads/2015/10/10-c124-accident-1280x853.jpg\" srcset=\"http://www.laboiteverte.fr/wp-content/uploads/2015/10/10-c124-accident-1280x853.jpg 1280w, http://www.laboiteverte.fr/wp-content/uploads/2015/10/10-c124-accident-480x320.jpg 480w, http://www.laboiteverte.fr/wp-content/uploads/2015/10/10-c124-accident-620x413.jpg 620w\" width=\"1080\"/></a>,\n",
       " <a href=\"http://www.laboiteverte.fr/120-photos-autour-du-pole-sud/11-avion-c11-envers/\" rel=\"attachment wp-att-66767\"><img alt=\"Un avion UC1 retourné par une violente tempête en 1958\" class=\"size-large wp-image-66767\" data-attachment-id=\"66767\" data-comments-opened=\"1\" data-image-description=\"\" data-image-meta='{\"aperture\":\"0\",\"credit\":\"\",\"camera\":\"\",\"caption\":\"\",\"created_timestamp\":\"0\",\"copyright\":\"\",\"focal_length\":\"0\",\"iso\":\"0\",\"shutter_speed\":\"0\",\"title\":\"\",\"orientation\":\"0\"}' data-image-title=\"11-avion-C11-envers\" data-large-file=\"http://www.laboiteverte.fr/wp-content/uploads/2015/10/11-avion-C11-envers-1280x854.jpg\" data-medium-file=\"http://www.laboiteverte.fr/wp-content/uploads/2015/10/11-avion-C11-envers-620x414.jpg\" data-orig-file=\"http://www.laboiteverte.fr/wp-content/uploads/2015/10/11-avion-C11-envers.jpg\" data-orig-size=\"2333,1556\" data-permalink=\"http://www.laboiteverte.fr/120-photos-autour-du-pole-sud/11-avion-c11-envers/\" height=\"721\" sizes=\"(max-width: 1080px) 100vw, 1080px\" src=\"http://www.laboiteverte.fr/wp-content/uploads/2015/10/11-avion-C11-envers-1280x854.jpg\" srcset=\"http://www.laboiteverte.fr/wp-content/uploads/2015/10/11-avion-C11-envers-1280x854.jpg 1280w, http://www.laboiteverte.fr/wp-content/uploads/2015/10/11-avion-C11-envers-480x320.jpg 480w, http://www.laboiteverte.fr/wp-content/uploads/2015/10/11-avion-C11-envers-620x414.jpg 620w\" width=\"1080\"/></a>,\n",
       " <a href=\"http://www.laboiteverte.fr/120-photos-autour-du-pole-sud/12-sur-la-route-1957/\" rel=\"attachment wp-att-66768\"><img alt=\"Une expédition en 1956\" class=\"size-large wp-image-66768\" data-attachment-id=\"66768\" data-comments-opened=\"1\" data-image-description=\"\" data-image-meta='{\"aperture\":\"0\",\"credit\":\"\",\"camera\":\"\",\"caption\":\"\",\"created_timestamp\":\"0\",\"copyright\":\"\",\"focal_length\":\"0\",\"iso\":\"0\",\"shutter_speed\":\"0\",\"title\":\"\",\"orientation\":\"0\"}' data-image-title=\"12-sur-la-route-1957\" data-large-file=\"http://www.laboiteverte.fr/wp-content/uploads/2015/10/12-sur-la-route-1957-1280x853.jpg\" data-medium-file=\"http://www.laboiteverte.fr/wp-content/uploads/2015/10/12-sur-la-route-1957-620x413.jpg\" data-orig-file=\"http://www.laboiteverte.fr/wp-content/uploads/2015/10/12-sur-la-route-1957.jpg\" data-orig-size=\"3000,2000\" data-permalink=\"http://www.laboiteverte.fr/120-photos-autour-du-pole-sud/12-sur-la-route-1957/\" height=\"720\" sizes=\"(max-width: 1080px) 100vw, 1080px\" src=\"http://www.laboiteverte.fr/wp-content/uploads/2015/10/12-sur-la-route-1957-1280x853.jpg\" srcset=\"http://www.laboiteverte.fr/wp-content/uploads/2015/10/12-sur-la-route-1957-1280x853.jpg 1280w, http://www.laboiteverte.fr/wp-content/uploads/2015/10/12-sur-la-route-1957-480x320.jpg 480w, http://www.laboiteverte.fr/wp-content/uploads/2015/10/12-sur-la-route-1957-620x413.jpg 620w\" width=\"1080\"/></a>,\n",
       " <a href=\"http://www.laboiteverte.fr/120-photos-autour-du-pole-sud/13-marvin-medlin-bulldozer/\" rel=\"attachment wp-att-66769\"><img alt=\"Marvin Medlin qui aime vraiment beaucoup son bulldozer en 1956\" class=\"size-large wp-image-66769\" data-attachment-id=\"66769\" data-comments-opened=\"1\" data-image-description=\"\" data-image-meta='{\"aperture\":\"0\",\"credit\":\"\",\"camera\":\"\",\"caption\":\"\",\"created_timestamp\":\"0\",\"copyright\":\"\",\"focal_length\":\"0\",\"iso\":\"0\",\"shutter_speed\":\"0\",\"title\":\"\",\"orientation\":\"0\"}' data-image-title=\"13-marvin-medlin-bulldozer\" data-large-file=\"http://www.laboiteverte.fr/wp-content/uploads/2015/10/13-marvin-medlin-bulldozer-936x920.jpg\" data-medium-file=\"http://www.laboiteverte.fr/wp-content/uploads/2015/10/13-marvin-medlin-bulldozer-488x480.jpg\" data-orig-file=\"http://www.laboiteverte.fr/wp-content/uploads/2015/10/13-marvin-medlin-bulldozer.jpg\" data-orig-size=\"1042,1024\" data-permalink=\"http://www.laboiteverte.fr/120-photos-autour-du-pole-sud/13-marvin-medlin-bulldozer/\" height=\"920\" sizes=\"(max-width: 936px) 100vw, 936px\" src=\"http://www.laboiteverte.fr/wp-content/uploads/2015/10/13-marvin-medlin-bulldozer-936x920.jpg\" srcset=\"http://www.laboiteverte.fr/wp-content/uploads/2015/10/13-marvin-medlin-bulldozer-936x920.jpg 936w, http://www.laboiteverte.fr/wp-content/uploads/2015/10/13-marvin-medlin-bulldozer-488x480.jpg 488w, http://www.laboiteverte.fr/wp-content/uploads/2015/10/13-marvin-medlin-bulldozer.jpg 1042w\" width=\"936\"/></a>,\n",
       " <a href=\"http://www.laboiteverte.fr/120-photos-autour-du-pole-sud/mode-transport-antarctique-1955/\" rel=\"attachment wp-att-66771\"><img alt=\"Différents mode de transport en Antarctique en 1955 au début de la construction de la station de McMurdo\" class=\"size-large wp-image-66771\" data-attachment-id=\"66771\" data-comments-opened=\"1\" data-image-description=\"\" data-image-meta='{\"aperture\":\"0\",\"credit\":\"\",\"camera\":\"\",\"caption\":\"\",\"created_timestamp\":\"0\",\"copyright\":\"\",\"focal_length\":\"0\",\"iso\":\"0\",\"shutter_speed\":\"0\",\"title\":\"\",\"orientation\":\"0\"}' data-image-title=\"mode-transport-antarctique-1955\" data-large-file=\"http://www.laboiteverte.fr/wp-content/uploads/2015/10/mode-transport-antarctique-1955-1158x920.jpg\" data-medium-file=\"http://www.laboiteverte.fr/wp-content/uploads/2015/10/mode-transport-antarctique-1955-604x480.jpg\" data-orig-file=\"http://www.laboiteverte.fr/wp-content/uploads/2015/10/mode-transport-antarctique-1955.jpg\" data-orig-size=\"1632,1297\" data-permalink=\"http://www.laboiteverte.fr/120-photos-autour-du-pole-sud/mode-transport-antarctique-1955/\" height=\"858\" sizes=\"(max-width: 1080px) 100vw, 1080px\" src=\"http://www.laboiteverte.fr/wp-content/uploads/2015/10/mode-transport-antarctique-1955-1158x920.jpg\" srcset=\"http://www.laboiteverte.fr/wp-content/uploads/2015/10/mode-transport-antarctique-1955-1158x920.jpg 1158w, http://www.laboiteverte.fr/wp-content/uploads/2015/10/mode-transport-antarctique-1955-604x480.jpg 604w\" width=\"1080\"/></a>,\n",
       " <a href=\"http://www.laboiteverte.fr/120-photos-autour-du-pole-sud/route-antarctique/\" rel=\"attachment wp-att-66772\"><img alt=\"Une route sur l'étendue glacée de l'Antarctique\" class=\"size-large wp-image-66772\" data-attachment-id=\"66772\" data-comments-opened=\"1\" data-image-description=\"\" data-image-meta='{\"aperture\":\"0\",\"credit\":\"\",\"camera\":\"\",\"caption\":\"\",\"created_timestamp\":\"0\",\"copyright\":\"\",\"focal_length\":\"0\",\"iso\":\"0\",\"shutter_speed\":\"0\",\"title\":\"\",\"orientation\":\"0\"}' data-image-title=\"route-antarctique\" data-large-file=\"http://www.laboiteverte.fr/wp-content/uploads/2015/10/route-antarctique-1280x764.jpg\" data-medium-file=\"http://www.laboiteverte.fr/wp-content/uploads/2015/10/route-antarctique-620x370.jpg\" data-orig-file=\"http://www.laboiteverte.fr/wp-content/uploads/2015/10/route-antarctique.jpg\" data-orig-size=\"1835,1095\" data-permalink=\"http://www.laboiteverte.fr/120-photos-autour-du-pole-sud/route-antarctique/\" height=\"645\" sizes=\"(max-width: 1080px) 100vw, 1080px\" src=\"http://www.laboiteverte.fr/wp-content/uploads/2015/10/route-antarctique-1280x764.jpg\" srcset=\"http://www.laboiteverte.fr/wp-content/uploads/2015/10/route-antarctique-1280x764.jpg 1280w, http://www.laboiteverte.fr/wp-content/uploads/2015/10/route-antarctique-620x370.jpg 620w\" width=\"1080\"/></a>,\n",
       " <a href=\"http://www.laboiteverte.fr/120-photos-autour-du-pole-sud/desert-antarctique-pole-sud-01/\" rel=\"attachment wp-att-66773\"><img alt=\"Le Commonwealth Glacier - \" class=\"size-large wp-image-66773\" data-attachment-id=\"66773\" data-comments-opened=\"1\" data-image-description=\"\" data-image-meta='{\"aperture\":\"0\",\"credit\":\"\",\"camera\":\"\",\"caption\":\"\",\"created_timestamp\":\"0\",\"copyright\":\"\",\"focal_length\":\"0\",\"iso\":\"0\",\"shutter_speed\":\"0\",\"title\":\"\",\"orientation\":\"0\"}' data-image-title=\"desert-antarctique-pole-sud-01\" data-large-file=\"http://www.laboiteverte.fr/wp-content/uploads/2015/10/desert-antarctique-pole-sud-01-1227x920.jpg\" data-medium-file=\"http://www.laboiteverte.fr/wp-content/uploads/2015/10/desert-antarctique-pole-sud-01-620x465.jpg\" data-orig-file=\"http://www.laboiteverte.fr/wp-content/uploads/2015/10/desert-antarctique-pole-sud-01.jpg\" data-orig-size=\"2048,1536\" data-permalink=\"http://www.laboiteverte.fr/120-photos-autour-du-pole-sud/desert-antarctique-pole-sud-01/\" height=\"810\" sizes=\"(max-width: 1080px) 100vw, 1080px\" src=\"http://www.laboiteverte.fr/wp-content/uploads/2015/10/desert-antarctique-pole-sud-01-1227x920.jpg\" srcset=\"http://www.laboiteverte.fr/wp-content/uploads/2015/10/desert-antarctique-pole-sud-01-1227x920.jpg 1227w, http://www.laboiteverte.fr/wp-content/uploads/2015/10/desert-antarctique-pole-sud-01-620x465.jpg 620w\" width=\"1080\"/></a>,\n",
       " <a href=\"http://www.laboiteverte.fr/120-photos-autour-du-pole-sud/desert-antarctique-pole-sud-02/\" rel=\"attachment wp-att-66774\"><img alt=\"Les vallées sèches de McMurdo sont une des régions les plus désertiques de la planète et la plus grande étendue sans glace de l'Antarctique. Elles auraient été créées par une ancienne inondation - Peter Sejcek\" class=\"size-large wp-image-66774\" data-attachment-id=\"66774\" data-comments-opened=\"1\" data-image-description=\"\" data-image-meta='{\"aperture\":\"0\",\"credit\":\"\",\"camera\":\"\",\"caption\":\"\",\"created_timestamp\":\"0\",\"copyright\":\"\",\"focal_length\":\"0\",\"iso\":\"0\",\"shutter_speed\":\"0\",\"title\":\"\",\"orientation\":\"0\"}' data-image-title=\"desert-antarctique-pole-sud-02\" data-large-file=\"http://www.laboiteverte.fr/wp-content/uploads/2015/10/desert-antarctique-pole-sud-02-1280x851.jpg\" data-medium-file=\"http://www.laboiteverte.fr/wp-content/uploads/2015/10/desert-antarctique-pole-sud-02-620x412.jpg\" data-orig-file=\"http://www.laboiteverte.fr/wp-content/uploads/2015/10/desert-antarctique-pole-sud-02.jpg\" data-orig-size=\"3008,2000\" data-permalink=\"http://www.laboiteverte.fr/120-photos-autour-du-pole-sud/desert-antarctique-pole-sud-02/\" height=\"718\" sizes=\"(max-width: 1080px) 100vw, 1080px\" src=\"http://www.laboiteverte.fr/wp-content/uploads/2015/10/desert-antarctique-pole-sud-02-1280x851.jpg\" srcset=\"http://www.laboiteverte.fr/wp-content/uploads/2015/10/desert-antarctique-pole-sud-02-1280x851.jpg 1280w, http://www.laboiteverte.fr/wp-content/uploads/2015/10/desert-antarctique-pole-sud-02-480x320.jpg 480w, http://www.laboiteverte.fr/wp-content/uploads/2015/10/desert-antarctique-pole-sud-02-620x412.jpg 620w\" width=\"1080\"/></a>,\n",
       " <a href=\"http://www.laboiteverte.fr/120-photos-autour-du-pole-sud/ventifacts-pole-sud/\" rel=\"attachment wp-att-66775\"><img alt=\"Cette roche nommée un ventifact doit sa forme à l'érosion du vent - Dave Haney\" class=\"size-large wp-image-66775\" data-attachment-id=\"66775\" data-comments-opened=\"1\" data-image-description=\"\" data-image-meta='{\"aperture\":\"0\",\"credit\":\"\",\"camera\":\"\",\"caption\":\"\",\"created_timestamp\":\"0\",\"copyright\":\"\",\"focal_length\":\"0\",\"iso\":\"0\",\"shutter_speed\":\"0\",\"title\":\"\",\"orientation\":\"0\"}' data-image-title=\"ventifacts-pole-sud\" data-large-file=\"http://www.laboiteverte.fr/wp-content/uploads/2015/10/ventifacts-pole-sud-1227x920.jpg\" data-medium-file=\"http://www.laboiteverte.fr/wp-content/uploads/2015/10/ventifacts-pole-sud-620x465.jpg\" data-orig-file=\"http://www.laboiteverte.fr/wp-content/uploads/2015/10/ventifacts-pole-sud.jpg\" data-orig-size=\"2592,1944\" data-permalink=\"http://www.laboiteverte.fr/120-photos-autour-du-pole-sud/ventifacts-pole-sud/\" height=\"810\" sizes=\"(max-width: 1080px) 100vw, 1080px\" src=\"http://www.laboiteverte.fr/wp-content/uploads/2015/10/ventifacts-pole-sud-1227x920.jpg\" srcset=\"http://www.laboiteverte.fr/wp-content/uploads/2015/10/ventifacts-pole-sud-1227x920.jpg 1227w, http://www.laboiteverte.fr/wp-content/uploads/2015/10/ventifacts-pole-sud-620x465.jpg 620w\" width=\"1080\"/></a>,\n",
       " <a href=\"http://www.laboiteverte.fr/120-photos-autour-du-pole-sud/01-blood-falls/\" rel=\"attachment wp-att-66777\"><img alt=\"Les Blood Falls, littéralement, &quot;cascades de sang&quot;, sont une coulée d'oxyde de fer en marge du glacier Taylor, dans les vallées sèches de McMurdo - Peter Rejcek\" class=\"size-large wp-image-66777\" data-attachment-id=\"66777\" data-comments-opened=\"1\" data-image-description=\"\" data-image-meta='{\"aperture\":\"0\",\"credit\":\"\",\"camera\":\"\",\"caption\":\"\",\"created_timestamp\":\"0\",\"copyright\":\"\",\"focal_length\":\"0\",\"iso\":\"0\",\"shutter_speed\":\"0\",\"title\":\"\",\"orientation\":\"0\"}' data-image-title=\"01-blood-falls\" data-large-file=\"http://www.laboiteverte.fr/wp-content/uploads/2015/10/01-blood-falls-1280x848.jpg\" data-medium-file=\"http://www.laboiteverte.fr/wp-content/uploads/2015/10/01-blood-falls-620x411.jpg\" data-orig-file=\"http://www.laboiteverte.fr/wp-content/uploads/2015/10/01-blood-falls.jpg\" data-orig-size=\"3200,2119\" data-permalink=\"http://www.laboiteverte.fr/120-photos-autour-du-pole-sud/01-blood-falls/\" height=\"716\" sizes=\"(max-width: 1080px) 100vw, 1080px\" src=\"http://www.laboiteverte.fr/wp-content/uploads/2015/10/01-blood-falls-1280x848.jpg\" srcset=\"http://www.laboiteverte.fr/wp-content/uploads/2015/10/01-blood-falls-1280x848.jpg 1280w, http://www.laboiteverte.fr/wp-content/uploads/2015/10/01-blood-falls-620x411.jpg 620w\" width=\"1080\"/></a>,\n",
       " <a href=\"http://www.laboiteverte.fr/120-photos-autour-du-pole-sud/02-blood-falls/\" rel=\"attachment wp-att-66778\"><img alt=\"Ce dépôt rougeâtre est découvert par le géologue Thomas Griffith Taylor en 1911 dans la vallée qui porte son nom, la vallée de Taylor - Peter Rejcek\" class=\"size-large wp-image-66778\" data-attachment-id=\"66778\" data-comments-opened=\"1\" data-image-description=\"\" data-image-meta='{\"aperture\":\"0\",\"credit\":\"\",\"camera\":\"\",\"caption\":\"\",\"created_timestamp\":\"0\",\"copyright\":\"\",\"focal_length\":\"0\",\"iso\":\"0\",\"shutter_speed\":\"0\",\"title\":\"\",\"orientation\":\"0\"}' data-image-title=\"02-blood-falls\" data-large-file=\"http://www.laboiteverte.fr/wp-content/uploads/2015/10/02-blood-falls-1280x848.jpg\" data-medium-file=\"http://www.laboiteverte.fr/wp-content/uploads/2015/10/02-blood-falls-620x411.jpg\" data-orig-file=\"http://www.laboiteverte.fr/wp-content/uploads/2015/10/02-blood-falls.jpg\" data-orig-size=\"3200,2119\" data-permalink=\"http://www.laboiteverte.fr/120-photos-autour-du-pole-sud/02-blood-falls/\" height=\"716\" sizes=\"(max-width: 1080px) 100vw, 1080px\" src=\"http://www.laboiteverte.fr/wp-content/uploads/2015/10/02-blood-falls-1280x848.jpg\" srcset=\"http://www.laboiteverte.fr/wp-content/uploads/2015/10/02-blood-falls-1280x848.jpg 1280w, http://www.laboiteverte.fr/wp-content/uploads/2015/10/02-blood-falls-620x411.jpg 620w\" width=\"1080\"/></a>,\n",
       " <a href=\"http://www.laboiteverte.fr/120-photos-autour-du-pole-sud/03-blood-falls/\" rel=\"attachment wp-att-66779\"><img alt=\"Les hydroxydes de fer, peu solubles, se déposent après que les ions ferreux, présents dans l'eau riche en sel, se sont oxydés au contact de l'oxygène atmosphérique. Ces ions proviennent de l'ancienne poche d'eau de mer de l'océan Austral qui fut piégée dans le fjord par le glacier au Miocène, il y a cinq millions d'années, lorsque le niveau de la mer était plus haut qu'aujourd'hui - Peter Rejcek\" class=\"size-large wp-image-66779\" data-attachment-id=\"66779\" data-comments-opened=\"1\" data-image-description=\"\" data-image-meta='{\"aperture\":\"0\",\"credit\":\"\",\"camera\":\"\",\"caption\":\"\",\"created_timestamp\":\"0\",\"copyright\":\"\",\"focal_length\":\"0\",\"iso\":\"0\",\"shutter_speed\":\"0\",\"title\":\"\",\"orientation\":\"0\"}' data-image-title=\"03-blood-falls\" data-large-file=\"http://www.laboiteverte.fr/wp-content/uploads/2015/10/03-blood-falls-1280x851.jpg\" data-medium-file=\"http://www.laboiteverte.fr/wp-content/uploads/2015/10/03-blood-falls-620x412.jpg\" data-orig-file=\"http://www.laboiteverte.fr/wp-content/uploads/2015/10/03-blood-falls.jpg\" data-orig-size=\"3008,2000\" data-permalink=\"http://www.laboiteverte.fr/120-photos-autour-du-pole-sud/03-blood-falls/\" height=\"718\" sizes=\"(max-width: 1080px) 100vw, 1080px\" src=\"http://www.laboiteverte.fr/wp-content/uploads/2015/10/03-blood-falls-1280x851.jpg\" srcset=\"http://www.laboiteverte.fr/wp-content/uploads/2015/10/03-blood-falls-1280x851.jpg 1280w, http://www.laboiteverte.fr/wp-content/uploads/2015/10/03-blood-falls-480x320.jpg 480w, http://www.laboiteverte.fr/wp-content/uploads/2015/10/03-blood-falls-620x412.jpg 620w\" width=\"1080\"/></a>,\n",
       " <a href=\"http://www.laboiteverte.fr/120-photos-autour-du-pole-sud/montagne-soleil-pokle-sud/\" rel=\"attachment wp-att-66780\"><img alt=\"Janice O'Reilly\" class=\"size-large wp-image-66780\" data-attachment-id=\"66780\" data-comments-opened=\"1\" data-image-description=\"\" data-image-meta='{\"aperture\":\"0\",\"credit\":\"\",\"camera\":\"\",\"caption\":\"\",\"created_timestamp\":\"0\",\"copyright\":\"\",\"focal_length\":\"0\",\"iso\":\"0\",\"shutter_speed\":\"0\",\"title\":\"\",\"orientation\":\"0\"}' data-image-title=\"montagne-soleil-pokle-sud\" data-large-file=\"http://www.laboiteverte.fr/wp-content/uploads/2015/10/montagne-soleil-pokle-sud-1227x920.jpg\" data-medium-file=\"http://www.laboiteverte.fr/wp-content/uploads/2015/10/montagne-soleil-pokle-sud-620x465.jpg\" data-orig-file=\"http://www.laboiteverte.fr/wp-content/uploads/2015/10/montagne-soleil-pokle-sud.jpg\" data-orig-size=\"3200,2400\" data-permalink=\"http://www.laboiteverte.fr/120-photos-autour-du-pole-sud/montagne-soleil-pokle-sud/\" height=\"810\" sizes=\"(max-width: 1080px) 100vw, 1080px\" src=\"http://www.laboiteverte.fr/wp-content/uploads/2015/10/montagne-soleil-pokle-sud-1227x920.jpg\" srcset=\"http://www.laboiteverte.fr/wp-content/uploads/2015/10/montagne-soleil-pokle-sud-1227x920.jpg 1227w, http://www.laboiteverte.fr/wp-content/uploads/2015/10/montagne-soleil-pokle-sud-620x465.jpg 620w\" width=\"1080\"/></a>,\n",
       " <a href=\"http://www.laboiteverte.fr/120-photos-autour-du-pole-sud/1-football/\" rel=\"attachment wp-att-66781\"><img alt=\"Des personnels de la Amundsen-Scott South Pole Station se détendent en jouant au football par -10°C - Peter Rejcek\" class=\"size-large wp-image-66781\" data-attachment-id=\"66781\" data-comments-opened=\"1\" data-image-description=\"\" data-image-meta='{\"aperture\":\"0\",\"credit\":\"\",\"camera\":\"\",\"caption\":\"\",\"created_timestamp\":\"0\",\"copyright\":\"\",\"focal_length\":\"0\",\"iso\":\"0\",\"shutter_speed\":\"0\",\"title\":\"\",\"orientation\":\"0\"}' data-image-title=\"1-football\" data-large-file=\"http://www.laboiteverte.fr/wp-content/uploads/2015/10/1-football-1280x732.jpg\" data-medium-file=\"http://www.laboiteverte.fr/wp-content/uploads/2015/10/1-football-620x355.jpg\" data-orig-file=\"http://www.laboiteverte.fr/wp-content/uploads/2015/10/1-football.jpg\" data-orig-size=\"3200,1831\" data-permalink=\"http://www.laboiteverte.fr/120-photos-autour-du-pole-sud/1-football/\" height=\"618\" sizes=\"(max-width: 1080px) 100vw, 1080px\" src=\"http://www.laboiteverte.fr/wp-content/uploads/2015/10/1-football-1280x732.jpg\" srcset=\"http://www.laboiteverte.fr/wp-content/uploads/2015/10/1-football-1280x732.jpg 1280w, http://www.laboiteverte.fr/wp-content/uploads/2015/10/1-football-620x355.jpg 620w\" width=\"1080\"/></a>,\n",
       " <a href=\"http://www.laboiteverte.fr/120-photos-autour-du-pole-sud/2-vapeur-froid/\" rel=\"attachment wp-att-66782\"><img alt=\"Anna Bramucci s'amuse à lancer de l'eau chaude en l'air par -32°C pour créer de la vapeur - Victoria Chris Kannen\" class=\"size-large wp-image-66782\" data-attachment-id=\"66782\" data-comments-opened=\"1\" data-image-description=\"\" data-image-meta='{\"aperture\":\"0\",\"credit\":\"\",\"camera\":\"\",\"caption\":\"\",\"created_timestamp\":\"0\",\"copyright\":\"\",\"focal_length\":\"0\",\"iso\":\"0\",\"shutter_speed\":\"0\",\"title\":\"\",\"orientation\":\"0\"}' data-image-title=\"2-vapeur-froid\" data-large-file=\"http://www.laboiteverte.fr/wp-content/uploads/2015/10/2-vapeur-froid-1280x853.jpg\" data-medium-file=\"http://www.laboiteverte.fr/wp-content/uploads/2015/10/2-vapeur-froid-620x413.jpg\" data-orig-file=\"http://www.laboiteverte.fr/wp-content/uploads/2015/10/2-vapeur-froid.jpg\" data-orig-size=\"3200,2133\" data-permalink=\"http://www.laboiteverte.fr/120-photos-autour-du-pole-sud/2-vapeur-froid/\" height=\"720\" sizes=\"(max-width: 1080px) 100vw, 1080px\" src=\"http://www.laboiteverte.fr/wp-content/uploads/2015/10/2-vapeur-froid-1280x853.jpg\" srcset=\"http://www.laboiteverte.fr/wp-content/uploads/2015/10/2-vapeur-froid-1280x853.jpg 1280w, http://www.laboiteverte.fr/wp-content/uploads/2015/10/2-vapeur-froid-480x320.jpg 480w, http://www.laboiteverte.fr/wp-content/uploads/2015/10/2-vapeur-froid-620x413.jpg 620w\" width=\"1080\"/></a>,\n",
       " <a href=\"http://www.laboiteverte.fr/120-photos-autour-du-pole-sud/3-theatre-mariage-renier/\" rel=\"attachment wp-att-66783\"><img alt=\"Pour se divertir durant l'hiver 1956 des officiers de l'US Navy rejouent le mariage de Grace Kelly et du Prince Rainier de Monaco\" class=\"size-large wp-image-66783\" data-attachment-id=\"66783\" data-comments-opened=\"1\" data-image-description=\"\" data-image-meta='{\"aperture\":\"0\",\"credit\":\"\",\"camera\":\"\",\"caption\":\"\",\"created_timestamp\":\"0\",\"copyright\":\"\",\"focal_length\":\"0\",\"iso\":\"0\",\"shutter_speed\":\"0\",\"title\":\"\",\"orientation\":\"0\"}' data-image-title=\"3-theatre-mariage-renier\" data-large-file=\"http://www.laboiteverte.fr/wp-content/uploads/2015/10/3-theatre-mariage-renier-1156x920.jpg\" data-medium-file=\"http://www.laboiteverte.fr/wp-content/uploads/2015/10/3-theatre-mariage-renier-603x480.jpg\" data-orig-file=\"http://www.laboiteverte.fr/wp-content/uploads/2015/10/3-theatre-mariage-renier.jpg\" data-orig-size=\"1492,1187\" data-permalink=\"http://www.laboiteverte.fr/120-photos-autour-du-pole-sud/3-theatre-mariage-renier/\" height=\"860\" sizes=\"(max-width: 1080px) 100vw, 1080px\" src=\"http://www.laboiteverte.fr/wp-content/uploads/2015/10/3-theatre-mariage-renier-1156x920.jpg\" srcset=\"http://www.laboiteverte.fr/wp-content/uploads/2015/10/3-theatre-mariage-renier-1156x920.jpg 1156w, http://www.laboiteverte.fr/wp-content/uploads/2015/10/3-theatre-mariage-renier-603x480.jpg 603w, http://www.laboiteverte.fr/wp-content/uploads/2015/10/3-theatre-mariage-renier.jpg 1492w\" width=\"1080\"/></a>,\n",
       " <a href=\"http://www.laboiteverte.fr/120-photos-autour-du-pole-sud/4-peinture-artiste-inconnu/\" rel=\"attachment wp-att-66784\"><img alt=\"Un artiste inconnu a réalisé cette peinture derrière une porte d'un bâtiment de service - Melanie Conner\" class=\"size-large wp-image-66784\" data-attachment-id=\"66784\" data-comments-opened=\"1\" data-image-description=\"\" data-image-meta=\"{&quot;aperture&quot;:&quot;0&quot;,&quot;credit&quot;:&quot;&quot;,&quot;camera&quot;:&quot;&quot;,&quot;caption&quot;:&quot;A Renaissance-style painting by an unknown artist hides on the back door of the paint barn near the carpenter's shop at McMurdo Station.&quot;,&quot;created_timestamp&quot;:&quot;0&quot;,&quot;copyright&quot;:&quot;&quot;,&quot;focal_length&quot;:&quot;0&quot;,&quot;iso&quot;:&quot;0&quot;,&quot;shutter_speed&quot;:&quot;0&quot;,&quot;title&quot;:&quot;&quot;,&quot;orientation&quot;:&quot;0&quot;}\" data-image-title=\"4-peinture-artiste-inconnu\" data-large-file=\"http://www.laboiteverte.fr/wp-content/uploads/2015/10/4-peinture-artiste-inconnu-614x920.jpg\" data-medium-file=\"http://www.laboiteverte.fr/wp-content/uploads/2015/10/4-peinture-artiste-inconnu-320x480.jpg\" data-orig-file=\"http://www.laboiteverte.fr/wp-content/uploads/2015/10/4-peinture-artiste-inconnu.jpg\" data-orig-size=\"1201,1800\" data-permalink=\"http://www.laboiteverte.fr/120-photos-autour-du-pole-sud/4-peinture-artiste-inconnu/\" height=\"920\" sizes=\"(max-width: 614px) 100vw, 614px\" src=\"http://www.laboiteverte.fr/wp-content/uploads/2015/10/4-peinture-artiste-inconnu-614x920.jpg\" srcset=\"http://www.laboiteverte.fr/wp-content/uploads/2015/10/4-peinture-artiste-inconnu-614x920.jpg 614w, http://www.laboiteverte.fr/wp-content/uploads/2015/10/4-peinture-artiste-inconnu-320x480.jpg 320w, http://www.laboiteverte.fr/wp-content/uploads/2015/10/4-peinture-artiste-inconnu.jpg 1201w\" width=\"614\"/></a>,\n",
       " <a href=\"http://www.laboiteverte.fr/120-photos-autour-du-pole-sud/01-dome-geodesique-pole-sud/\" rel=\"attachment wp-att-66787\"><img alt=\"En 1975 un dome géodésique en aluminium de 50m de diamètre a été construit sur la base d'Amundsen-Scott\" class=\"size-large wp-image-66787\" data-attachment-id=\"66787\" data-comments-opened=\"1\" data-image-description=\"\" data-image-meta='{\"aperture\":\"0\",\"credit\":\"\",\"camera\":\"\",\"caption\":\"\",\"created_timestamp\":\"0\",\"copyright\":\"\",\"focal_length\":\"0\",\"iso\":\"0\",\"shutter_speed\":\"0\",\"title\":\"\",\"orientation\":\"0\"}' data-image-title=\"01-dome-geodesique-pole-sud\" data-large-file=\"http://www.laboiteverte.fr/wp-content/uploads/2015/10/01-dome-geodesique-pole-sud-1280x872.jpg\" data-medium-file=\"http://www.laboiteverte.fr/wp-content/uploads/2015/10/01-dome-geodesique-pole-sud-620x423.jpg\" data-orig-file=\"http://www.laboiteverte.fr/wp-content/uploads/2015/10/01-dome-geodesique-pole-sud.jpg\" data-orig-size=\"2317,1579\" data-permalink=\"http://www.laboiteverte.fr/120-photos-autour-du-pole-sud/01-dome-geodesique-pole-sud/\" height=\"736\" sizes=\"(max-width: 1080px) 100vw, 1080px\" src=\"http://www.laboiteverte.fr/wp-content/uploads/2015/10/01-dome-geodesique-pole-sud-1280x872.jpg\" srcset=\"http://www.laboiteverte.fr/wp-content/uploads/2015/10/01-dome-geodesique-pole-sud-1280x872.jpg 1280w, http://www.laboiteverte.fr/wp-content/uploads/2015/10/01-dome-geodesique-pole-sud-620x423.jpg 620w\" width=\"1080\"/></a>,\n",
       " <a href=\"http://www.laboiteverte.fr/120-photos-autour-du-pole-sud/02-dome-geodesique-pole-sud/\" rel=\"attachment wp-att-66788\"><img alt=\"Le but était de protéger les bâtiments à l'intérieur du vent et des congères - Melanie Corner\" class=\"size-large wp-image-66788\" data-attachment-id=\"66788\" data-comments-opened=\"1\" data-image-description=\"\" data-image-meta='{\"aperture\":\"0\",\"credit\":\"\",\"camera\":\"\",\"caption\":\"\",\"created_timestamp\":\"0\",\"copyright\":\"\",\"focal_length\":\"0\",\"iso\":\"0\",\"shutter_speed\":\"0\",\"title\":\"\",\"orientation\":\"0\"}' data-image-title=\"02-dome-geodesique-pole-sud\" data-large-file=\"http://www.laboiteverte.fr/wp-content/uploads/2015/10/02-dome-geodesique-pole-sud-583x920.jpg\" data-medium-file=\"http://www.laboiteverte.fr/wp-content/uploads/2015/10/02-dome-geodesique-pole-sud-304x480.jpg\" data-orig-file=\"http://www.laboiteverte.fr/wp-content/uploads/2015/10/02-dome-geodesique-pole-sud.jpg\" data-orig-size=\"1330,2100\" data-permalink=\"http://www.laboiteverte.fr/120-photos-autour-du-pole-sud/02-dome-geodesique-pole-sud/\" height=\"920\" sizes=\"(max-width: 583px) 100vw, 583px\" src=\"http://www.laboiteverte.fr/wp-content/uploads/2015/10/02-dome-geodesique-pole-sud-583x920.jpg\" srcset=\"http://www.laboiteverte.fr/wp-content/uploads/2015/10/02-dome-geodesique-pole-sud-583x920.jpg 583w, http://www.laboiteverte.fr/wp-content/uploads/2015/10/02-dome-geodesique-pole-sud-304x480.jpg 304w, http://www.laboiteverte.fr/wp-content/uploads/2015/10/02-dome-geodesique-pole-sud.jpg 1330w\" width=\"583\"/></a>,\n",
       " <a href=\"http://www.laboiteverte.fr/120-photos-autour-du-pole-sud/03-dome-geodesique-pole-sud/\" rel=\"attachment wp-att-66789\"><img alt=\"L'intérieur du dome vidé de son contenu - Doug Bell\" class=\"size-large wp-image-66789\" data-attachment-id=\"66789\" data-comments-opened=\"1\" data-image-description=\"\" data-image-meta='{\"aperture\":\"0\",\"credit\":\"\",\"camera\":\"\",\"caption\":\"\",\"created_timestamp\":\"0\",\"copyright\":\"\",\"focal_length\":\"0\",\"iso\":\"0\",\"shutter_speed\":\"0\",\"title\":\"\",\"orientation\":\"0\"}' data-image-title=\"03-dome-geodesique-pole-sud\" data-large-file=\"http://www.laboiteverte.fr/wp-content/uploads/2015/10/03-dome-geodesique-pole-sud-1280x415.jpg\" data-medium-file=\"http://www.laboiteverte.fr/wp-content/uploads/2015/10/03-dome-geodesique-pole-sud-620x201.jpg\" data-orig-file=\"http://www.laboiteverte.fr/wp-content/uploads/2015/10/03-dome-geodesique-pole-sud.jpg\" data-orig-size=\"3200,1038\" data-permalink=\"http://www.laboiteverte.fr/120-photos-autour-du-pole-sud/03-dome-geodesique-pole-sud/\" height=\"350\" sizes=\"(max-width: 1080px) 100vw, 1080px\" src=\"http://www.laboiteverte.fr/wp-content/uploads/2015/10/03-dome-geodesique-pole-sud-1280x415.jpg\" srcset=\"http://www.laboiteverte.fr/wp-content/uploads/2015/10/03-dome-geodesique-pole-sud-1280x415.jpg 1280w, http://www.laboiteverte.fr/wp-content/uploads/2015/10/03-dome-geodesique-pole-sud-620x201.jpg 620w\" width=\"1080\"/></a>,\n",
       " <a href=\"http://www.laboiteverte.fr/120-photos-autour-du-pole-sud/04-dome-geodesique-pole-sud/\" rel=\"attachment wp-att-66790\"><img alt=\"Le dôme a été démonté en 2009 après la construction d'un bâtiment pour le remplacer - Forest Banks\" class=\"size-large wp-image-66790\" data-attachment-id=\"66790\" data-comments-opened=\"1\" data-image-description=\"\" data-image-meta='{\"aperture\":\"0\",\"credit\":\"\",\"camera\":\"\",\"caption\":\"\",\"created_timestamp\":\"0\",\"copyright\":\"\",\"focal_length\":\"0\",\"iso\":\"0\",\"shutter_speed\":\"0\",\"title\":\"\",\"orientation\":\"0\"}' data-image-title=\"04-dome-geodesique-pole-sud\" data-large-file=\"http://www.laboiteverte.fr/wp-content/uploads/2015/10/04-dome-geodesique-pole-sud-1280x853.jpg\" data-medium-file=\"http://www.laboiteverte.fr/wp-content/uploads/2015/10/04-dome-geodesique-pole-sud-620x413.jpg\" data-orig-file=\"http://www.laboiteverte.fr/wp-content/uploads/2015/10/04-dome-geodesique-pole-sud.jpg\" data-orig-size=\"2920,1947\" data-permalink=\"http://www.laboiteverte.fr/120-photos-autour-du-pole-sud/04-dome-geodesique-pole-sud/\" height=\"720\" sizes=\"(max-width: 1080px) 100vw, 1080px\" src=\"http://www.laboiteverte.fr/wp-content/uploads/2015/10/04-dome-geodesique-pole-sud-1280x853.jpg\" srcset=\"http://www.laboiteverte.fr/wp-content/uploads/2015/10/04-dome-geodesique-pole-sud-1280x853.jpg 1280w, http://www.laboiteverte.fr/wp-content/uploads/2015/10/04-dome-geodesique-pole-sud-480x320.jpg 480w, http://www.laboiteverte.fr/wp-content/uploads/2015/10/04-dome-geodesique-pole-sud-620x413.jpg 620w\" width=\"1080\"/></a>,\n",
       " <a href=\"http://www.laboiteverte.fr/120-photos-autour-du-pole-sud/01-grotte-glace-antarctique/\" rel=\"attachment wp-att-66791\"><img alt=\"Une grotte de glace proche de Palmer Station - Zee Evans\" class=\"size-large wp-image-66791\" data-attachment-id=\"66791\" data-comments-opened=\"1\" data-image-description=\"\" data-image-meta='{\"aperture\":\"0\",\"credit\":\"\",\"camera\":\"\",\"caption\":\"\",\"created_timestamp\":\"0\",\"copyright\":\"\",\"focal_length\":\"0\",\"iso\":\"0\",\"shutter_speed\":\"0\",\"title\":\"\",\"orientation\":\"0\"}' data-image-title=\"01-grotte-glace-antarctique\" data-large-file=\"http://www.laboiteverte.fr/wp-content/uploads/2015/10/01-grotte-glace-antarctique-1227x920.jpg\" data-medium-file=\"http://www.laboiteverte.fr/wp-content/uploads/2015/10/01-grotte-glace-antarctique-620x465.jpg\" data-orig-file=\"http://www.laboiteverte.fr/wp-content/uploads/2015/10/01-grotte-glace-antarctique.jpg\" data-orig-size=\"1600,1200\" data-permalink=\"http://www.laboiteverte.fr/120-photos-autour-du-pole-sud/01-grotte-glace-antarctique/\" height=\"810\" sizes=\"(max-width: 1080px) 100vw, 1080px\" src=\"http://www.laboiteverte.fr/wp-content/uploads/2015/10/01-grotte-glace-antarctique-1227x920.jpg\" srcset=\"http://www.laboiteverte.fr/wp-content/uploads/2015/10/01-grotte-glace-antarctique-1227x920.jpg 1227w, http://www.laboiteverte.fr/wp-content/uploads/2015/10/01-grotte-glace-antarctique-620x465.jpg 620w, http://www.laboiteverte.fr/wp-content/uploads/2015/10/01-grotte-glace-antarctique.jpg 1600w\" width=\"1080\"/></a>,\n",
       " <a href=\"http://www.laboiteverte.fr/120-photos-autour-du-pole-sud/02-grotte-glace-antarctique/\" rel=\"attachment wp-att-66792\"><img alt=\"Une autre grotte de glace, proche du volcan Erebus - Peter Rejcek\" class=\"size-large wp-image-66792\" data-attachment-id=\"66792\" data-comments-opened=\"1\" data-image-description=\"\" data-image-meta='{\"aperture\":\"0\",\"credit\":\"\",\"camera\":\"\",\"caption\":\"\",\"created_timestamp\":\"0\",\"copyright\":\"\",\"focal_length\":\"0\",\"iso\":\"0\",\"shutter_speed\":\"0\",\"title\":\"\",\"orientation\":\"0\"}' data-image-title=\"02-grotte-glace-antarctique\" data-large-file=\"http://www.laboiteverte.fr/wp-content/uploads/2015/10/02-grotte-glace-antarctique-1280x851.jpg\" data-medium-file=\"http://www.laboiteverte.fr/wp-content/uploads/2015/10/02-grotte-glace-antarctique-620x412.jpg\" data-orig-file=\"http://www.laboiteverte.fr/wp-content/uploads/2015/10/02-grotte-glace-antarctique.jpg\" data-orig-size=\"3008,2000\" data-permalink=\"http://www.laboiteverte.fr/120-photos-autour-du-pole-sud/02-grotte-glace-antarctique/\" height=\"718\" sizes=\"(max-width: 1080px) 100vw, 1080px\" src=\"http://www.laboiteverte.fr/wp-content/uploads/2015/10/02-grotte-glace-antarctique-1280x851.jpg\" srcset=\"http://www.laboiteverte.fr/wp-content/uploads/2015/10/02-grotte-glace-antarctique-1280x851.jpg 1280w, http://www.laboiteverte.fr/wp-content/uploads/2015/10/02-grotte-glace-antarctique-480x320.jpg 480w, http://www.laboiteverte.fr/wp-content/uploads/2015/10/02-grotte-glace-antarctique-620x412.jpg 620w\" width=\"1080\"/></a>,\n",
       " <a href=\"http://www.laboiteverte.fr/120-photos-autour-du-pole-sud/01-antarctique-mcmurdo-debut-construciton/\" rel=\"attachment wp-att-66794\"><img alt=\"La base de Mc Murdo au début de sa construction en 1955\" class=\"size-large wp-image-66794\" data-attachment-id=\"66794\" data-comments-opened=\"1\" data-image-description=\"\" data-image-meta='{\"aperture\":\"0\",\"credit\":\"\",\"camera\":\"\",\"caption\":\"\",\"created_timestamp\":\"0\",\"copyright\":\"\",\"focal_length\":\"0\",\"iso\":\"0\",\"shutter_speed\":\"0\",\"title\":\"\",\"orientation\":\"0\"}' data-image-title=\"01-antarctique-mcmurdo-debut-construciton\" data-large-file=\"http://www.laboiteverte.fr/wp-content/uploads/2015/10/01-antarctique-mcmurdo-debut-construciton-1280x853.jpg\" data-medium-file=\"http://www.laboiteverte.fr/wp-content/uploads/2015/10/01-antarctique-mcmurdo-debut-construciton-620x413.jpg\" data-orig-file=\"http://www.laboiteverte.fr/wp-content/uploads/2015/10/01-antarctique-mcmurdo-debut-construciton.jpg\" data-orig-size=\"2886,1924\" data-permalink=\"http://www.laboiteverte.fr/120-photos-autour-du-pole-sud/01-antarctique-mcmurdo-debut-construciton/\" height=\"720\" sizes=\"(max-width: 1080px) 100vw, 1080px\" src=\"http://www.laboiteverte.fr/wp-content/uploads/2015/10/01-antarctique-mcmurdo-debut-construciton-1280x853.jpg\" srcset=\"http://www.laboiteverte.fr/wp-content/uploads/2015/10/01-antarctique-mcmurdo-debut-construciton-1280x853.jpg 1280w, http://www.laboiteverte.fr/wp-content/uploads/2015/10/01-antarctique-mcmurdo-debut-construciton-480x320.jpg 480w, http://www.laboiteverte.fr/wp-content/uploads/2015/10/01-antarctique-mcmurdo-debut-construciton-620x413.jpg 620w\" width=\"1080\"/></a>,\n",
       " <a href=\"http://www.laboiteverte.fr/120-photos-autour-du-pole-sud/02-antarctique-mcmurdo-1957/\" rel=\"attachment wp-att-66795\"><img alt=\"La base de MC Murdo avec ses premiers bâtiments en 1957\" class=\"size-large wp-image-66795\" data-attachment-id=\"66795\" data-comments-opened=\"1\" data-image-description=\"\" data-image-meta='{\"aperture\":\"0\",\"credit\":\"\",\"camera\":\"\",\"caption\":\"\",\"created_timestamp\":\"0\",\"copyright\":\"\",\"focal_length\":\"0\",\"iso\":\"0\",\"shutter_speed\":\"0\",\"title\":\"\",\"orientation\":\"0\"}' data-image-title=\"02-antarctique-mcmurdo 1957\" data-large-file=\"http://www.laboiteverte.fr/wp-content/uploads/2015/10/02-antarctique-mcmurdo-1957-1226x920.jpg\" data-medium-file=\"http://www.laboiteverte.fr/wp-content/uploads/2015/10/02-antarctique-mcmurdo-1957-620x465.jpg\" data-orig-file=\"http://www.laboiteverte.fr/wp-content/uploads/2015/10/02-antarctique-mcmurdo-1957.jpg\" data-orig-size=\"2181,1636\" data-permalink=\"http://www.laboiteverte.fr/120-photos-autour-du-pole-sud/02-antarctique-mcmurdo-1957/\" height=\"810\" sizes=\"(max-width: 1080px) 100vw, 1080px\" src=\"http://www.laboiteverte.fr/wp-content/uploads/2015/10/02-antarctique-mcmurdo-1957-1226x920.jpg\" srcset=\"http://www.laboiteverte.fr/wp-content/uploads/2015/10/02-antarctique-mcmurdo-1957-1226x920.jpg 1226w, http://www.laboiteverte.fr/wp-content/uploads/2015/10/02-antarctique-mcmurdo-1957-620x465.jpg 620w\" width=\"1080\"/></a>,\n",
       " <a href=\"http://www.laboiteverte.fr/120-photos-autour-du-pole-sud/03-antarctique-mcmurdo-2014/\" rel=\"attachment wp-att-66796\"><img alt=\"La base de Mc Murdo en 2014 sous la pleine lune - Andrew Smith\" class=\"size-large wp-image-66796\" data-attachment-id=\"66796\" data-comments-opened=\"1\" data-image-description=\"\" data-image-meta='{\"aperture\":\"0\",\"credit\":\"\",\"camera\":\"\",\"caption\":\"\",\"created_timestamp\":\"0\",\"copyright\":\"\",\"focal_length\":\"0\",\"iso\":\"0\",\"shutter_speed\":\"0\",\"title\":\"\",\"orientation\":\"0\"}' data-image-title=\"03-antarctique-mcmurdo-2014\" data-large-file=\"http://www.laboiteverte.fr/wp-content/uploads/2015/10/03-antarctique-mcmurdo-2014-1280x743.jpg\" data-medium-file=\"http://www.laboiteverte.fr/wp-content/uploads/2015/10/03-antarctique-mcmurdo-2014-620x360.jpg\" data-orig-file=\"http://www.laboiteverte.fr/wp-content/uploads/2015/10/03-antarctique-mcmurdo-2014.jpg\" data-orig-size=\"3200,1858\" data-permalink=\"http://www.laboiteverte.fr/120-photos-autour-du-pole-sud/03-antarctique-mcmurdo-2014/\" height=\"627\" sizes=\"(max-width: 1080px) 100vw, 1080px\" src=\"http://www.laboiteverte.fr/wp-content/uploads/2015/10/03-antarctique-mcmurdo-2014-1280x743.jpg\" srcset=\"http://www.laboiteverte.fr/wp-content/uploads/2015/10/03-antarctique-mcmurdo-2014-1280x743.jpg 1280w, http://www.laboiteverte.fr/wp-content/uploads/2015/10/03-antarctique-mcmurdo-2014-620x360.jpg 620w\" width=\"1080\"/></a>,\n",
       " <a href=\"http://www.laboiteverte.fr/120-photos-autour-du-pole-sud/04-antarctique-eglise/\" rel=\"attachment wp-att-66797\"><img alt=\"Une église luthérienne norvégienne proche d'un camp de baleiniers abandonné sur l’île de South Georgia - Julian Race\" class=\"size-large wp-image-66797\" data-attachment-id=\"66797\" data-comments-opened=\"1\" data-image-description=\"\" data-image-meta='{\"aperture\":\"0\",\"credit\":\"\",\"camera\":\"\",\"caption\":\"\",\"created_timestamp\":\"0\",\"copyright\":\"\",\"focal_length\":\"0\",\"iso\":\"0\",\"shutter_speed\":\"0\",\"title\":\"\",\"orientation\":\"0\"}' data-image-title=\"04-antarctique-eglise\" data-large-file=\"http://www.laboiteverte.fr/wp-content/uploads/2015/10/04-antarctique-eglise-1227x920.jpg\" data-medium-file=\"http://www.laboiteverte.fr/wp-content/uploads/2015/10/04-antarctique-eglise-620x465.jpg\" data-orig-file=\"http://www.laboiteverte.fr/wp-content/uploads/2015/10/04-antarctique-eglise.jpg\" data-orig-size=\"3200,2400\" data-permalink=\"http://www.laboiteverte.fr/120-photos-autour-du-pole-sud/04-antarctique-eglise/\" height=\"810\" sizes=\"(max-width: 1080px) 100vw, 1080px\" src=\"http://www.laboiteverte.fr/wp-content/uploads/2015/10/04-antarctique-eglise-1227x920.jpg\" srcset=\"http://www.laboiteverte.fr/wp-content/uploads/2015/10/04-antarctique-eglise-1227x920.jpg 1227w, http://www.laboiteverte.fr/wp-content/uploads/2015/10/04-antarctique-eglise-620x465.jpg 620w\" width=\"1080\"/></a>,\n",
       " <a href=\"http://www.laboiteverte.fr/120-photos-autour-du-pole-sud/05-antarctique-aurore/\" rel=\"attachment wp-att-66798\"><img alt=\"05-antarctique-aurore\" class=\"aligncenter size-large wp-image-66798\" data-attachment-id=\"66798\" data-comments-opened=\"1\" data-image-description=\"\" data-image-meta='{\"aperture\":\"0\",\"credit\":\"\",\"camera\":\"\",\"caption\":\"\",\"created_timestamp\":\"0\",\"copyright\":\"\",\"focal_length\":\"0\",\"iso\":\"0\",\"shutter_speed\":\"0\",\"title\":\"\",\"orientation\":\"0\"}' data-image-title=\"05-antarctique-aurore\" data-large-file=\"http://www.laboiteverte.fr/wp-content/uploads/2015/10/05-antarctique-aurore-1280x853.jpg\" data-medium-file=\"http://www.laboiteverte.fr/wp-content/uploads/2015/10/05-antarctique-aurore-620x413.jpg\" data-orig-file=\"http://www.laboiteverte.fr/wp-content/uploads/2015/10/05-antarctique-aurore.jpg\" data-orig-size=\"3200,2133\" data-permalink=\"http://www.laboiteverte.fr/120-photos-autour-du-pole-sud/05-antarctique-aurore/\" height=\"720\" sizes=\"(max-width: 1080px) 100vw, 1080px\" src=\"http://www.laboiteverte.fr/wp-content/uploads/2015/10/05-antarctique-aurore-1280x853.jpg\" srcset=\"http://www.laboiteverte.fr/wp-content/uploads/2015/10/05-antarctique-aurore-1280x853.jpg 1280w, http://www.laboiteverte.fr/wp-content/uploads/2015/10/05-antarctique-aurore-480x320.jpg 480w, http://www.laboiteverte.fr/wp-content/uploads/2015/10/05-antarctique-aurore-620x413.jpg 620w\" width=\"1080\"/></a>,\n",
       " <a href=\"http://www.laboiteverte.fr/120-photos-autour-du-pole-sud/06-antarctique-pine-island-iceberg-naissance/\" rel=\"attachment wp-att-66799\"><img alt=\"La naissance d'un iceberg de 80m de haut se brisant du glacier de Pine Island - Jose Vinas\" class=\"size-large wp-image-66799\" data-attachment-id=\"66799\" data-comments-opened=\"1\" data-image-description=\"\" data-image-meta='{\"aperture\":\"0\",\"credit\":\"\",\"camera\":\"\",\"caption\":\"\",\"created_timestamp\":\"0\",\"copyright\":\"\",\"focal_length\":\"0\",\"iso\":\"0\",\"shutter_speed\":\"0\",\"title\":\"\",\"orientation\":\"0\"}' data-image-title=\"06-antarctique-pine-island-iceberg-naissance\" data-large-file=\"http://www.laboiteverte.fr/wp-content/uploads/2015/10/06-antarctique-pine-island-iceberg-naissance-1227x920.jpg\" data-medium-file=\"http://www.laboiteverte.fr/wp-content/uploads/2015/10/06-antarctique-pine-island-iceberg-naissance-620x465.jpg\" data-orig-file=\"http://www.laboiteverte.fr/wp-content/uploads/2015/10/06-antarctique-pine-island-iceberg-naissance.jpg\" data-orig-size=\"2560,1920\" data-permalink=\"http://www.laboiteverte.fr/120-photos-autour-du-pole-sud/06-antarctique-pine-island-iceberg-naissance/\" height=\"810\" sizes=\"(max-width: 1080px) 100vw, 1080px\" src=\"http://www.laboiteverte.fr/wp-content/uploads/2015/10/06-antarctique-pine-island-iceberg-naissance-1227x920.jpg\" srcset=\"http://www.laboiteverte.fr/wp-content/uploads/2015/10/06-antarctique-pine-island-iceberg-naissance-1227x920.jpg 1227w, http://www.laboiteverte.fr/wp-content/uploads/2015/10/06-antarctique-pine-island-iceberg-naissance-620x465.jpg 620w\" width=\"1080\"/></a>,\n",
       " <a href=\"http://www.laboiteverte.fr/120-photos-autour-du-pole-sud/07-antarctique-paysage/\" rel=\"attachment wp-att-66800\"><img alt=\"Un iceberg - Robin Solfisburg\" class=\"size-large wp-image-66800\" data-attachment-id=\"66800\" data-comments-opened=\"1\" data-image-description=\"\" data-image-meta='{\"aperture\":\"0\",\"credit\":\"\",\"camera\":\"\",\"caption\":\"\",\"created_timestamp\":\"0\",\"copyright\":\"\",\"focal_length\":\"0\",\"iso\":\"0\",\"shutter_speed\":\"0\",\"title\":\"\",\"orientation\":\"0\"}' data-image-title=\"07-antarctique-paysage\" data-large-file=\"http://www.laboiteverte.fr/wp-content/uploads/2015/10/07-antarctique-paysage-1280x853.jpg\" data-medium-file=\"http://www.laboiteverte.fr/wp-content/uploads/2015/10/07-antarctique-paysage-620x413.jpg\" data-orig-file=\"http://www.laboiteverte.fr/wp-content/uploads/2015/10/07-antarctique-paysage.jpg\" data-orig-size=\"3200,2133\" data-permalink=\"http://www.laboiteverte.fr/120-photos-autour-du-pole-sud/07-antarctique-paysage/\" height=\"720\" sizes=\"(max-width: 1080px) 100vw, 1080px\" src=\"http://www.laboiteverte.fr/wp-content/uploads/2015/10/07-antarctique-paysage-1280x853.jpg\" srcset=\"http://www.laboiteverte.fr/wp-content/uploads/2015/10/07-antarctique-paysage-1280x853.jpg 1280w, http://www.laboiteverte.fr/wp-content/uploads/2015/10/07-antarctique-paysage-480x320.jpg 480w, http://www.laboiteverte.fr/wp-content/uploads/2015/10/07-antarctique-paysage-620x413.jpg 620w\" width=\"1080\"/></a>,\n",
       " <a href=\"http://www.laboiteverte.fr/120-photos-autour-du-pole-sud/08-antarctique-iceberg-geant/\" rel=\"attachment wp-att-66801\"><img alt=\"Une vue aérienne d'un iceberg géant qui s'est détaché de Ross Island en 2001 - Josh Landis\" class=\"size-large wp-image-66801\" data-attachment-id=\"66801\" data-comments-opened=\"1\" data-image-description=\"\" data-image-meta='{\"aperture\":\"0\",\"credit\":\"\",\"camera\":\"\",\"caption\":\"\",\"created_timestamp\":\"0\",\"copyright\":\"\",\"focal_length\":\"0\",\"iso\":\"0\",\"shutter_speed\":\"0\",\"title\":\"\",\"orientation\":\"0\"}' data-image-title=\"08-antarctique-iceberg-geant\" data-large-file=\"http://www.laboiteverte.fr/wp-content/uploads/2015/10/08-antarctique-iceberg-geant-1280x840.jpg\" data-medium-file=\"http://www.laboiteverte.fr/wp-content/uploads/2015/10/08-antarctique-iceberg-geant-620x407.jpg\" data-orig-file=\"http://www.laboiteverte.fr/wp-content/uploads/2015/10/08-antarctique-iceberg-geant.jpg\" data-orig-size=\"2000,1312\" data-permalink=\"http://www.laboiteverte.fr/120-photos-autour-du-pole-sud/08-antarctique-iceberg-geant/\" height=\"709\" sizes=\"(max-width: 1080px) 100vw, 1080px\" src=\"http://www.laboiteverte.fr/wp-content/uploads/2015/10/08-antarctique-iceberg-geant-1280x840.jpg\" srcset=\"http://www.laboiteverte.fr/wp-content/uploads/2015/10/08-antarctique-iceberg-geant-1280x840.jpg 1280w, http://www.laboiteverte.fr/wp-content/uploads/2015/10/08-antarctique-iceberg-geant-620x407.jpg 620w\" width=\"1080\"/></a>,\n",
       " <a href=\"http://www.laboiteverte.fr/120-photos-autour-du-pole-sud/09-antarctique-peninsule-montagne/\" rel=\"attachment wp-att-66802\"><img alt=\"Des montagnes de la péninsule Antarctique - Kelly Jacques\" class=\"size-large wp-image-66802\" data-attachment-id=\"66802\" data-comments-opened=\"1\" data-image-description=\"\" data-image-meta='{\"aperture\":\"0\",\"credit\":\"\",\"camera\":\"\",\"caption\":\"\",\"created_timestamp\":\"0\",\"copyright\":\"\",\"focal_length\":\"0\",\"iso\":\"0\",\"shutter_speed\":\"0\",\"title\":\"\",\"orientation\":\"0\"}' data-image-title=\"09-antarctique-peninsule-montagne\" data-large-file=\"http://www.laboiteverte.fr/wp-content/uploads/2015/10/09-antarctique-peninsule-montagne-1280x853.jpg\" data-medium-file=\"http://www.laboiteverte.fr/wp-content/uploads/2015/10/09-antarctique-peninsule-montagne-620x413.jpg\" data-orig-file=\"http://www.laboiteverte.fr/wp-content/uploads/2015/10/09-antarctique-peninsule-montagne.jpg\" data-orig-size=\"3200,2133\" data-permalink=\"http://www.laboiteverte.fr/120-photos-autour-du-pole-sud/09-antarctique-peninsule-montagne/\" height=\"720\" sizes=\"(max-width: 1080px) 100vw, 1080px\" src=\"http://www.laboiteverte.fr/wp-content/uploads/2015/10/09-antarctique-peninsule-montagne-1280x853.jpg\" srcset=\"http://www.laboiteverte.fr/wp-content/uploads/2015/10/09-antarctique-peninsule-montagne-1280x853.jpg 1280w, http://www.laboiteverte.fr/wp-content/uploads/2015/10/09-antarctique-peninsule-montagne-480x320.jpg 480w, http://www.laboiteverte.fr/wp-content/uploads/2015/10/09-antarctique-peninsule-montagne-620x413.jpg 620w\" width=\"1080\"/></a>,\n",
       " <a href=\"http://www.laboiteverte.fr/120-photos-autour-du-pole-sud/10-antarctique-arthur-arbor-coucher-soleil/\" rel=\"attachment wp-att-66803\"><img alt=\"Un coucher de soleil sur Arthur Harbor - Zee Evans\" class=\"size-large wp-image-66803\" data-attachment-id=\"66803\" data-comments-opened=\"1\" data-image-description=\"\" data-image-meta='{\"aperture\":\"0\",\"credit\":\"\",\"camera\":\"\",\"caption\":\"\",\"created_timestamp\":\"0\",\"copyright\":\"\",\"focal_length\":\"0\",\"iso\":\"0\",\"shutter_speed\":\"0\",\"title\":\"\",\"orientation\":\"0\"}' data-image-title=\"10-antarctique-arthur-arbor-coucher-soleil\" data-large-file=\"http://www.laboiteverte.fr/wp-content/uploads/2015/10/10-antarctique-arthur-arbor-coucher-soleil-1227x920.jpg\" data-medium-file=\"http://www.laboiteverte.fr/wp-content/uploads/2015/10/10-antarctique-arthur-arbor-coucher-soleil-620x465.jpg\" data-orig-file=\"http://www.laboiteverte.fr/wp-content/uploads/2015/10/10-antarctique-arthur-arbor-coucher-soleil.jpg\" data-orig-size=\"1975,1481\" data-permalink=\"http://www.laboiteverte.fr/120-photos-autour-du-pole-sud/10-antarctique-arthur-arbor-coucher-soleil/\" height=\"810\" sizes=\"(max-width: 1080px) 100vw, 1080px\" src=\"http://www.laboiteverte.fr/wp-content/uploads/2015/10/10-antarctique-arthur-arbor-coucher-soleil-1227x920.jpg\" srcset=\"http://www.laboiteverte.fr/wp-content/uploads/2015/10/10-antarctique-arthur-arbor-coucher-soleil-1227x920.jpg 1227w, http://www.laboiteverte.fr/wp-content/uploads/2015/10/10-antarctique-arthur-arbor-coucher-soleil-620x465.jpg 620w\" width=\"1080\"/></a>,\n",
       " <a href=\"http://www.laboiteverte.fr/120-photos-autour-du-pole-sud/11-antarctique/\" rel=\"attachment wp-att-66804\"><img alt=\"11-antarctique-\" class=\"aligncenter size-large wp-image-66804\" data-attachment-id=\"66804\" data-comments-opened=\"1\" data-image-description=\"\" data-image-meta='{\"aperture\":\"0\",\"credit\":\"\",\"camera\":\"\",\"caption\":\"\",\"created_timestamp\":\"0\",\"copyright\":\"\",\"focal_length\":\"0\",\"iso\":\"0\",\"shutter_speed\":\"0\",\"title\":\"\",\"orientation\":\"0\"}' data-image-title=\"11-antarctique-\" data-large-file=\"http://www.laboiteverte.fr/wp-content/uploads/2015/10/11-antarctique--1280x853.jpg\" data-medium-file=\"http://www.laboiteverte.fr/wp-content/uploads/2015/10/11-antarctique--620x413.jpg\" data-orig-file=\"http://www.laboiteverte.fr/wp-content/uploads/2015/10/11-antarctique-.jpg\" data-orig-size=\"3200,2133\" data-permalink=\"http://www.laboiteverte.fr/120-photos-autour-du-pole-sud/11-antarctique/\" height=\"720\" sizes=\"(max-width: 1080px) 100vw, 1080px\" src=\"http://www.laboiteverte.fr/wp-content/uploads/2015/10/11-antarctique--1280x853.jpg\" srcset=\"http://www.laboiteverte.fr/wp-content/uploads/2015/10/11-antarctique--1280x853.jpg 1280w, http://www.laboiteverte.fr/wp-content/uploads/2015/10/11-antarctique--480x320.jpg 480w, http://www.laboiteverte.fr/wp-content/uploads/2015/10/11-antarctique--620x413.jpg 620w\" width=\"1080\"/></a>,\n",
       " <a href=\"http://www.laboiteverte.fr/120-photos-autour-du-pole-sud/12-antarctique-ecolo-recherche-pied-eau/\" rel=\"attachment wp-att-66805\"><img alt=\"L'hydrologiste Steven Chrisp mesure le courant de la rivière Onyx - Chris Jaros\" class=\"size-large wp-image-66805\" data-attachment-id=\"66805\" data-comments-opened=\"1\" data-image-description=\"\" data-image-meta='{\"aperture\":\"0\",\"credit\":\"\",\"camera\":\"\",\"caption\":\"\",\"created_timestamp\":\"0\",\"copyright\":\"\",\"focal_length\":\"0\",\"iso\":\"0\",\"shutter_speed\":\"0\",\"title\":\"\",\"orientation\":\"0\"}' data-image-title=\"12-antarctique-ecolo-recherche-pied-eau\" data-large-file=\"http://www.laboiteverte.fr/wp-content/uploads/2015/10/12-antarctique-ecolo-recherche-pied-eau-1227x920.jpg\" data-medium-file=\"http://www.laboiteverte.fr/wp-content/uploads/2015/10/12-antarctique-ecolo-recherche-pied-eau-620x465.jpg\" data-orig-file=\"http://www.laboiteverte.fr/wp-content/uploads/2015/10/12-antarctique-ecolo-recherche-pied-eau.jpg\" data-orig-size=\"3200,2400\" data-permalink=\"http://www.laboiteverte.fr/120-photos-autour-du-pole-sud/12-antarctique-ecolo-recherche-pied-eau/\" height=\"810\" sizes=\"(max-width: 1080px) 100vw, 1080px\" src=\"http://www.laboiteverte.fr/wp-content/uploads/2015/10/12-antarctique-ecolo-recherche-pied-eau-1227x920.jpg\" srcset=\"http://www.laboiteverte.fr/wp-content/uploads/2015/10/12-antarctique-ecolo-recherche-pied-eau-1227x920.jpg 1227w, http://www.laboiteverte.fr/wp-content/uploads/2015/10/12-antarctique-ecolo-recherche-pied-eau-620x465.jpg 620w\" width=\"1080\"/></a>,\n",
       " <a href=\"http://www.laboiteverte.fr/120-photos-autour-du-pole-sud/14-antarctique-long-duration-baloon/\" rel=\"attachment wp-att-66806\"><img alt=\"Un ballon d'observation de longue durée est prêt à être lâché - James Pappas\" class=\"size-large wp-image-66806\" data-attachment-id=\"66806\" data-comments-opened=\"1\" data-image-description=\"\" data-image-meta='{\"aperture\":\"0\",\"credit\":\"\",\"camera\":\"\",\"caption\":\"\",\"created_timestamp\":\"0\",\"copyright\":\"\",\"focal_length\":\"0\",\"iso\":\"0\",\"shutter_speed\":\"0\",\"title\":\"\",\"orientation\":\"0\"}' data-image-title=\"14-antarctique-long-duration-baloon\" data-large-file=\"http://www.laboiteverte.fr/wp-content/uploads/2015/10/14-antarctique-long-duration-baloon-1280x853.jpg\" data-medium-file=\"http://www.laboiteverte.fr/wp-content/uploads/2015/10/14-antarctique-long-duration-baloon-620x413.jpg\" data-orig-file=\"http://www.laboiteverte.fr/wp-content/uploads/2015/10/14-antarctique-long-duration-baloon.jpg\" data-orig-size=\"2560,1706\" data-permalink=\"http://www.laboiteverte.fr/120-photos-autour-du-pole-sud/14-antarctique-long-duration-baloon/\" height=\"720\" sizes=\"(max-width: 1080px) 100vw, 1080px\" src=\"http://www.laboiteverte.fr/wp-content/uploads/2015/10/14-antarctique-long-duration-baloon-1280x853.jpg\" srcset=\"http://www.laboiteverte.fr/wp-content/uploads/2015/10/14-antarctique-long-duration-baloon-1280x853.jpg 1280w, http://www.laboiteverte.fr/wp-content/uploads/2015/10/14-antarctique-long-duration-baloon-480x320.jpg 480w, http://www.laboiteverte.fr/wp-content/uploads/2015/10/14-antarctique-long-duration-baloon-620x413.jpg 620w\" width=\"1080\"/></a>,\n",
       " <a href=\"http://www.laboiteverte.fr/120-photos-autour-du-pole-sud/15-antarctique-skytem-helicoptere/\" rel=\"attachment wp-att-66807\"><img alt=\"Un hélicoptère transporte un instument destiné à cartographier les champs magnétiques - Peter Rejcek\" class=\"size-large wp-image-66807\" data-attachment-id=\"66807\" data-comments-opened=\"1\" data-image-description=\"\" data-image-meta='{\"aperture\":\"0\",\"credit\":\"\",\"camera\":\"\",\"caption\":\"\",\"created_timestamp\":\"0\",\"copyright\":\"\",\"focal_length\":\"0\",\"iso\":\"0\",\"shutter_speed\":\"0\",\"title\":\"\",\"orientation\":\"0\"}' data-image-title=\"15-antarctique-skytem-helicoptere\" data-large-file=\"http://www.laboiteverte.fr/wp-content/uploads/2015/10/15-antarctique-skytem-helicoptere-1280x848.jpg\" data-medium-file=\"http://www.laboiteverte.fr/wp-content/uploads/2015/10/15-antarctique-skytem-helicoptere-620x411.jpg\" data-orig-file=\"http://www.laboiteverte.fr/wp-content/uploads/2015/10/15-antarctique-skytem-helicoptere.jpg\" data-orig-size=\"3200,2119\" data-permalink=\"http://www.laboiteverte.fr/120-photos-autour-du-pole-sud/15-antarctique-skytem-helicoptere/\" height=\"716\" sizes=\"(max-width: 1080px) 100vw, 1080px\" src=\"http://www.laboiteverte.fr/wp-content/uploads/2015/10/15-antarctique-skytem-helicoptere-1280x848.jpg\" srcset=\"http://www.laboiteverte.fr/wp-content/uploads/2015/10/15-antarctique-skytem-helicoptere-1280x848.jpg 1280w, http://www.laboiteverte.fr/wp-content/uploads/2015/10/15-antarctique-skytem-helicoptere-620x411.jpg 620w\" width=\"1080\"/></a>,\n",
       " <a href=\"http://www.laboiteverte.fr/120-photos-autour-du-pole-sud/16-antarctique-echantillon-fossiles/\" rel=\"attachment wp-att-66808\"><img alt=\"Des sacs et des boites remplis de fossiles de plantes sont prêts à être ramenés à Mc Murdo - Peter Rejcek\" class=\"size-large wp-image-66808\" data-attachment-id=\"66808\" data-comments-opened=\"1\" data-image-description=\"\" data-image-meta='{\"aperture\":\"0\",\"credit\":\"\",\"camera\":\"\",\"caption\":\"\",\"created_timestamp\":\"0\",\"copyright\":\"\",\"focal_length\":\"0\",\"iso\":\"0\",\"shutter_speed\":\"0\",\"title\":\"\",\"orientation\":\"0\"}' data-image-title=\"16-antarctique-echantillon-fossiles\" data-large-file=\"http://www.laboiteverte.fr/wp-content/uploads/2015/10/16-antarctique-echantillon-fossiles-613x920.jpg\" data-medium-file=\"http://www.laboiteverte.fr/wp-content/uploads/2015/10/16-antarctique-echantillon-fossiles-320x480.jpg\" data-orig-file=\"http://www.laboiteverte.fr/wp-content/uploads/2015/10/16-antarctique-echantillon-fossiles.jpg\" data-orig-size=\"2133,3200\" data-permalink=\"http://www.laboiteverte.fr/120-photos-autour-du-pole-sud/16-antarctique-echantillon-fossiles/\" height=\"920\" sizes=\"(max-width: 613px) 100vw, 613px\" src=\"http://www.laboiteverte.fr/wp-content/uploads/2015/10/16-antarctique-echantillon-fossiles-613x920.jpg\" srcset=\"http://www.laboiteverte.fr/wp-content/uploads/2015/10/16-antarctique-echantillon-fossiles-613x920.jpg 613w, http://www.laboiteverte.fr/wp-content/uploads/2015/10/16-antarctique-echantillon-fossiles-320x480.jpg 320w\" width=\"613\"/></a>,\n",
       " <a href=\"http://www.laboiteverte.fr/120-photos-autour-du-pole-sud/17-antarctique-orque-souris-photo/\" rel=\"attachment wp-att-66809\"><img alt=\"Un orque de dirige vers Wayne Perryman - Donald Leroy\" class=\"size-large wp-image-66809\" data-attachment-id=\"66809\" data-comments-opened=\"1\" data-image-description=\"\" data-image-meta='{\"aperture\":\"0\",\"credit\":\"\",\"camera\":\"\",\"caption\":\"\",\"created_timestamp\":\"0\",\"copyright\":\"\",\"focal_length\":\"0\",\"iso\":\"0\",\"shutter_speed\":\"0\",\"title\":\"\",\"orientation\":\"0\"}' data-image-title=\"17-antarctique-orque-souris-photo\" data-large-file=\"http://www.laboiteverte.fr/wp-content/uploads/2015/10/17-antarctique-orque-souris-photo-1280x824.jpg\" data-medium-file=\"http://www.laboiteverte.fr/wp-content/uploads/2015/10/17-antarctique-orque-souris-photo-620x399.jpg\" data-orig-file=\"http://www.laboiteverte.fr/wp-content/uploads/2015/10/17-antarctique-orque-souris-photo.jpg\" data-orig-size=\"3200,2061\" data-permalink=\"http://www.laboiteverte.fr/120-photos-autour-du-pole-sud/17-antarctique-orque-souris-photo/\" height=\"695\" sizes=\"(max-width: 1080px) 100vw, 1080px\" src=\"http://www.laboiteverte.fr/wp-content/uploads/2015/10/17-antarctique-orque-souris-photo-1280x824.jpg\" srcset=\"http://www.laboiteverte.fr/wp-content/uploads/2015/10/17-antarctique-orque-souris-photo-1280x824.jpg 1280w, http://www.laboiteverte.fr/wp-content/uploads/2015/10/17-antarctique-orque-souris-photo-620x399.jpg 620w\" width=\"1080\"/></a>,\n",
       " <a href=\"http://www.laboiteverte.fr/120-photos-autour-du-pole-sud/18-antarctique-pousse-legume-frais/\" rel=\"attachment wp-att-66810\"><img alt=\"Des chambres de croissance permettent au personnel de manger une salade fraîche tous les quelques jours pendant l'hiver - Lane Patterson\" class=\"size-large wp-image-66810\" data-attachment-id=\"66810\" data-comments-opened=\"1\" data-image-description=\"\" data-image-meta='{\"aperture\":\"0\",\"credit\":\"\",\"camera\":\"\",\"caption\":\"\",\"created_timestamp\":\"0\",\"copyright\":\"\",\"focal_length\":\"0\",\"iso\":\"0\",\"shutter_speed\":\"0\",\"title\":\"\",\"orientation\":\"0\"}' data-image-title=\"18-antarctique-pousse-legume-frais\" data-large-file=\"http://www.laboiteverte.fr/wp-content/uploads/2015/10/18-antarctique-pousse-legume-frais-1227x920.jpg\" data-medium-file=\"http://www.laboiteverte.fr/wp-content/uploads/2015/10/18-antarctique-pousse-legume-frais-620x465.jpg\" data-orig-file=\"http://www.laboiteverte.fr/wp-content/uploads/2015/10/18-antarctique-pousse-legume-frais.jpg\" data-orig-size=\"3200,2400\" data-permalink=\"http://www.laboiteverte.fr/120-photos-autour-du-pole-sud/18-antarctique-pousse-legume-frais/\" height=\"810\" sizes=\"(max-width: 1080px) 100vw, 1080px\" src=\"http://www.laboiteverte.fr/wp-content/uploads/2015/10/18-antarctique-pousse-legume-frais-1227x920.jpg\" srcset=\"http://www.laboiteverte.fr/wp-content/uploads/2015/10/18-antarctique-pousse-legume-frais-1227x920.jpg 1227w, http://www.laboiteverte.fr/wp-content/uploads/2015/10/18-antarctique-pousse-legume-frais-620x465.jpg 620w\" width=\"1080\"/></a>,\n",
       " <a href=\"http://www.laboiteverte.fr/120-photos-autour-du-pole-sud/19-antarctique-forage-eau-cahude/\" rel=\"attachment wp-att-66811\"><img alt=\"Une foreuse à eau chaude perce la glace pour installer les capteurs de l'IceCube - Andy Martinez\" class=\"size-large wp-image-66811\" data-attachment-id=\"66811\" data-comments-opened=\"1\" data-image-description=\"\" data-image-meta='{\"aperture\":\"0\",\"credit\":\"\",\"camera\":\"\",\"caption\":\"\",\"created_timestamp\":\"0\",\"copyright\":\"\",\"focal_length\":\"0\",\"iso\":\"0\",\"shutter_speed\":\"0\",\"title\":\"\",\"orientation\":\"0\"}' data-image-title=\"19-antarctique-forage-eau-cahude\" data-large-file=\"http://www.laboiteverte.fr/wp-content/uploads/2015/10/19-antarctique-forage-eau-cahude-1227x920.jpg\" data-medium-file=\"http://www.laboiteverte.fr/wp-content/uploads/2015/10/19-antarctique-forage-eau-cahude-620x465.jpg\" data-orig-file=\"http://www.laboiteverte.fr/wp-content/uploads/2015/10/19-antarctique-forage-eau-cahude.jpg\" data-orig-size=\"2048,1536\" data-permalink=\"http://www.laboiteverte.fr/120-photos-autour-du-pole-sud/19-antarctique-forage-eau-cahude/\" height=\"810\" sizes=\"(max-width: 1080px) 100vw, 1080px\" src=\"http://www.laboiteverte.fr/wp-content/uploads/2015/10/19-antarctique-forage-eau-cahude-1227x920.jpg\" srcset=\"http://www.laboiteverte.fr/wp-content/uploads/2015/10/19-antarctique-forage-eau-cahude-1227x920.jpg 1227w, http://www.laboiteverte.fr/wp-content/uploads/2015/10/19-antarctique-forage-eau-cahude-620x465.jpg 620w\" width=\"1080\"/></a>,\n",
       " <a href=\"http://www.laboiteverte.fr/120-photos-autour-du-pole-sud/21-antarctique-preservation-vieux-batiment/\" rel=\"attachment wp-att-66813\"><img alt=\"Nicola Dunn entreprends des travaux de conservation sur a cabane de Scott construite sur l'ile de Ross en 1911 par Robert Falcon Scott - Peter Rejcek\" class=\"size-large wp-image-66813\" data-attachment-id=\"66813\" data-comments-opened=\"1\" data-image-description=\"\" data-image-meta='{\"aperture\":\"0\",\"credit\":\"\",\"camera\":\"\",\"caption\":\"\",\"created_timestamp\":\"0\",\"copyright\":\"\",\"focal_length\":\"0\",\"iso\":\"0\",\"shutter_speed\":\"0\",\"title\":\"\",\"orientation\":\"0\"}' data-image-title=\"21-antarctique-preservation-vieux-batiment\" data-large-file=\"http://www.laboiteverte.fr/wp-content/uploads/2015/10/21-antarctique-preservation-vieux-batiment-1280x848.jpg\" data-medium-file=\"http://www.laboiteverte.fr/wp-content/uploads/2015/10/21-antarctique-preservation-vieux-batiment-620x411.jpg\" data-orig-file=\"http://www.laboiteverte.fr/wp-content/uploads/2015/10/21-antarctique-preservation-vieux-batiment.jpg\" data-orig-size=\"3200,2119\" data-permalink=\"http://www.laboiteverte.fr/120-photos-autour-du-pole-sud/21-antarctique-preservation-vieux-batiment/\" height=\"716\" sizes=\"(max-width: 1080px) 100vw, 1080px\" src=\"http://www.laboiteverte.fr/wp-content/uploads/2015/10/21-antarctique-preservation-vieux-batiment-1280x848.jpg\" srcset=\"http://www.laboiteverte.fr/wp-content/uploads/2015/10/21-antarctique-preservation-vieux-batiment-1280x848.jpg 1280w, http://www.laboiteverte.fr/wp-content/uploads/2015/10/21-antarctique-preservation-vieux-batiment-620x411.jpg 620w\" width=\"1080\"/></a>,\n",
       " <a href=\"http://www.laboiteverte.fr/120-photos-autour-du-pole-sud/22-antarctique-krill/\" rel=\"attachment wp-att-66814\"><img alt=\"Un seau de krill, des petites crevettes d'eau froides - Peter Rejcek\" class=\"size-large wp-image-66814\" data-attachment-id=\"66814\" data-comments-opened=\"1\" data-image-description=\"\" data-image-meta='{\"aperture\":\"0\",\"credit\":\"\",\"camera\":\"\",\"caption\":\"\",\"created_timestamp\":\"0\",\"copyright\":\"\",\"focal_length\":\"0\",\"iso\":\"0\",\"shutter_speed\":\"0\",\"title\":\"\",\"orientation\":\"0\"}' data-image-title=\"22-antarctique-krill\" data-large-file=\"http://www.laboiteverte.fr/wp-content/uploads/2015/10/22-antarctique-krill-1280x851.jpg\" data-medium-file=\"http://www.laboiteverte.fr/wp-content/uploads/2015/10/22-antarctique-krill-620x412.jpg\" data-orig-file=\"http://www.laboiteverte.fr/wp-content/uploads/2015/10/22-antarctique-krill.jpg\" data-orig-size=\"3008,2000\" data-permalink=\"http://www.laboiteverte.fr/120-photos-autour-du-pole-sud/22-antarctique-krill/\" height=\"718\" sizes=\"(max-width: 1080px) 100vw, 1080px\" src=\"http://www.laboiteverte.fr/wp-content/uploads/2015/10/22-antarctique-krill-1280x851.jpg\" srcset=\"http://www.laboiteverte.fr/wp-content/uploads/2015/10/22-antarctique-krill-1280x851.jpg 1280w, http://www.laboiteverte.fr/wp-content/uploads/2015/10/22-antarctique-krill-480x320.jpg 480w, http://www.laboiteverte.fr/wp-content/uploads/2015/10/22-antarctique-krill-620x412.jpg 620w\" width=\"1080\"/></a>,\n",
       " <a href=\"http://www.laboiteverte.fr/120-photos-autour-du-pole-sud/23-antarctique-manchot/\" rel=\"attachment wp-att-66815\"><img alt=\"Une colonie de manchots d'Adélie\" class=\"size-large wp-image-66815\" data-attachment-id=\"66815\" data-comments-opened=\"1\" data-image-description=\"\" data-image-meta='{\"aperture\":\"0\",\"credit\":\"\",\"camera\":\"\",\"caption\":\"\",\"created_timestamp\":\"0\",\"copyright\":\"\",\"focal_length\":\"0\",\"iso\":\"0\",\"shutter_speed\":\"0\",\"title\":\"\",\"orientation\":\"0\"}' data-image-title=\"23-antarctique-manchot\" data-large-file=\"http://www.laboiteverte.fr/wp-content/uploads/2015/10/23-antarctique-manchot-1280x850.jpg\" data-medium-file=\"http://www.laboiteverte.fr/wp-content/uploads/2015/10/23-antarctique-manchot-620x412.jpg\" data-orig-file=\"http://www.laboiteverte.fr/wp-content/uploads/2015/10/23-antarctique-manchot.jpg\" data-orig-size=\"3200,2125\" data-permalink=\"http://www.laboiteverte.fr/120-photos-autour-du-pole-sud/23-antarctique-manchot/\" height=\"717\" sizes=\"(max-width: 1080px) 100vw, 1080px\" src=\"http://www.laboiteverte.fr/wp-content/uploads/2015/10/23-antarctique-manchot-1280x850.jpg\" srcset=\"http://www.laboiteverte.fr/wp-content/uploads/2015/10/23-antarctique-manchot-1280x850.jpg 1280w, http://www.laboiteverte.fr/wp-content/uploads/2015/10/23-antarctique-manchot-480x320.jpg 480w, http://www.laboiteverte.fr/wp-content/uploads/2015/10/23-antarctique-manchot-620x412.jpg 620w\" width=\"1080\"/></a>,\n",
       " <a href=\"http://www.laboiteverte.fr/120-photos-autour-du-pole-sud/24-antarctique-manchot-micgon-avec-bebe/\" rel=\"attachment wp-att-66816\"><img alt=\"Un manchot d'Adélie adulte s'occupe d'un jeune à Cape Royds - Peter Rejcek\" class=\"size-large wp-image-66816\" data-attachment-id=\"66816\" data-comments-opened=\"1\" data-image-description=\"\" data-image-meta='{\"aperture\":\"0\",\"credit\":\"\",\"camera\":\"\",\"caption\":\"\",\"created_timestamp\":\"0\",\"copyright\":\"\",\"focal_length\":\"0\",\"iso\":\"0\",\"shutter_speed\":\"0\",\"title\":\"\",\"orientation\":\"0\"}' data-image-title=\"24-antarctique-manchot-micgon-avec-bebe\" data-large-file=\"http://www.laboiteverte.fr/wp-content/uploads/2015/10/24-antarctique-manchot-micgon-avec-bebe-648x920.jpg\" data-medium-file=\"http://www.laboiteverte.fr/wp-content/uploads/2015/10/24-antarctique-manchot-micgon-avec-bebe-338x480.jpg\" data-orig-file=\"http://www.laboiteverte.fr/wp-content/uploads/2015/10/24-antarctique-manchot-micgon-avec-bebe.jpg\" data-orig-size=\"1812,2574\" data-permalink=\"http://www.laboiteverte.fr/120-photos-autour-du-pole-sud/24-antarctique-manchot-micgon-avec-bebe/\" height=\"920\" sizes=\"(max-width: 648px) 100vw, 648px\" src=\"http://www.laboiteverte.fr/wp-content/uploads/2015/10/24-antarctique-manchot-micgon-avec-bebe-648x920.jpg\" srcset=\"http://www.laboiteverte.fr/wp-content/uploads/2015/10/24-antarctique-manchot-micgon-avec-bebe-648x920.jpg 648w, http://www.laboiteverte.fr/wp-content/uploads/2015/10/24-antarctique-manchot-micgon-avec-bebe-338x480.jpg 338w\" width=\"648\"/></a>,\n",
       " <a href=\"http://www.laboiteverte.fr/120-photos-autour-du-pole-sud/25-antarctique-manchot-wamera/\" rel=\"attachment wp-att-66817\"><img alt=\"Une caméra les observe en permanence - Peter Rejcek\" class=\"size-large wp-image-66817\" data-attachment-id=\"66817\" data-comments-opened=\"1\" data-image-description=\"\" data-image-meta='{\"aperture\":\"0\",\"credit\":\"\",\"camera\":\"\",\"caption\":\"\",\"created_timestamp\":\"0\",\"copyright\":\"\",\"focal_length\":\"0\",\"iso\":\"0\",\"shutter_speed\":\"0\",\"title\":\"\",\"orientation\":\"0\"}' data-image-title=\"25-antarctique-manchot-wamera\" data-large-file=\"http://www.laboiteverte.fr/wp-content/uploads/2015/10/25-antarctique-manchot-wamera-1193x920.jpg\" data-medium-file=\"http://www.laboiteverte.fr/wp-content/uploads/2015/10/25-antarctique-manchot-wamera-620x478.jpg\" data-orig-file=\"http://www.laboiteverte.fr/wp-content/uploads/2015/10/25-antarctique-manchot-wamera.jpg\" data-orig-size=\"3200,2467\" data-permalink=\"http://www.laboiteverte.fr/120-photos-autour-du-pole-sud/25-antarctique-manchot-wamera/\" height=\"833\" sizes=\"(max-width: 1080px) 100vw, 1080px\" src=\"http://www.laboiteverte.fr/wp-content/uploads/2015/10/25-antarctique-manchot-wamera-1193x920.jpg\" srcset=\"http://www.laboiteverte.fr/wp-content/uploads/2015/10/25-antarctique-manchot-wamera-1193x920.jpg 1193w, http://www.laboiteverte.fr/wp-content/uploads/2015/10/25-antarctique-manchot-wamera-620x478.jpg 620w\" width=\"1080\"/></a>,\n",
       " <a href=\"http://www.laboiteverte.fr/120-photos-autour-du-pole-sud/26-antarctique-premier-coucher-soleil/\" rel=\"attachment wp-att-66818\"><img alt=\"La première image connue d'un coucher de soleil au pôle sud en 1957 - Cliff Dickey\" class=\"size-large wp-image-66818\" data-attachment-id=\"66818\" data-comments-opened=\"1\" data-image-description=\"\" data-image-meta='{\"aperture\":\"0\",\"credit\":\"\",\"camera\":\"\",\"caption\":\"\",\"created_timestamp\":\"0\",\"copyright\":\"\",\"focal_length\":\"0\",\"iso\":\"0\",\"shutter_speed\":\"0\",\"title\":\"\",\"orientation\":\"0\"}' data-image-title=\"26-antarctique-premier-coucher-soleil\" data-large-file=\"http://www.laboiteverte.fr/wp-content/uploads/2015/10/26-antarctique-premier-coucher-soleil-1119x920.jpg\" data-medium-file=\"http://www.laboiteverte.fr/wp-content/uploads/2015/10/26-antarctique-premier-coucher-soleil-584x480.jpg\" data-orig-file=\"http://www.laboiteverte.fr/wp-content/uploads/2015/10/26-antarctique-premier-coucher-soleil.jpg\" data-orig-size=\"2250,1850\" data-permalink=\"http://www.laboiteverte.fr/120-photos-autour-du-pole-sud/26-antarctique-premier-coucher-soleil/\" height=\"888\" sizes=\"(max-width: 1080px) 100vw, 1080px\" src=\"http://www.laboiteverte.fr/wp-content/uploads/2015/10/26-antarctique-premier-coucher-soleil-1119x920.jpg\" srcset=\"http://www.laboiteverte.fr/wp-content/uploads/2015/10/26-antarctique-premier-coucher-soleil-1119x920.jpg 1119w, http://www.laboiteverte.fr/wp-content/uploads/2015/10/26-antarctique-premier-coucher-soleil-584x480.jpg 584w\" width=\"1080\"/></a>,\n",
       " <a href=\"http://www.laboiteverte.fr/120-photos-autour-du-pole-sud/27-antarctique-panoramique-coucher-soleil/\" rel=\"attachment wp-att-66819\"><img alt=\"La base d'Amundsen-Scott après le coucher du soleil. Il passe sous l'horizon le 20 mars et ne réapparaît que le 22 septembre - Daniel Luong-Van\" class=\"size-large wp-image-66819\" data-attachment-id=\"66819\" data-comments-opened=\"1\" data-image-description=\"\" data-image-meta='{\"aperture\":\"0\",\"credit\":\"\",\"camera\":\"\",\"caption\":\"\",\"created_timestamp\":\"0\",\"copyright\":\"\",\"focal_length\":\"0\",\"iso\":\"0\",\"shutter_speed\":\"0\",\"title\":\"\",\"orientation\":\"0\"}' data-image-title=\"27-antarctique-panoramique-coucher-soleil\" data-large-file=\"http://www.laboiteverte.fr/wp-content/uploads/2015/10/27-antarctique-panoramique-coucher-soleil-1280x360.jpg\" data-medium-file=\"http://www.laboiteverte.fr/wp-content/uploads/2015/10/27-antarctique-panoramique-coucher-soleil-620x174.jpg\" data-orig-file=\"http://www.laboiteverte.fr/wp-content/uploads/2015/10/27-antarctique-panoramique-coucher-soleil.jpg\" data-orig-size=\"3200,899\" data-permalink=\"http://www.laboiteverte.fr/120-photos-autour-du-pole-sud/27-antarctique-panoramique-coucher-soleil/\" height=\"304\" sizes=\"(max-width: 1080px) 100vw, 1080px\" src=\"http://www.laboiteverte.fr/wp-content/uploads/2015/10/27-antarctique-panoramique-coucher-soleil-1280x360.jpg\" srcset=\"http://www.laboiteverte.fr/wp-content/uploads/2015/10/27-antarctique-panoramique-coucher-soleil-1280x360.jpg 1280w, http://www.laboiteverte.fr/wp-content/uploads/2015/10/27-antarctique-panoramique-coucher-soleil-620x174.jpg 620w\" width=\"1080\"/></a>,\n",
       " <a href=\"http://www.laboiteverte.fr/120-photos-autour-du-pole-sud/28-antarctique-vrai-pole-sud-baton/\" rel=\"attachment wp-att-66820\"><img alt=\"Le pole sud de cérémonie est un poteau surmonté d'une sphère polie, situé sur la base Amundsen-Scott, à 180m du pôle sud géographique - Deven Stross\" class=\"size-large wp-image-66820\" data-attachment-id=\"66820\" data-comments-opened=\"1\" data-image-description=\"\" data-image-meta='{\"aperture\":\"0\",\"credit\":\"\",\"camera\":\"\",\"caption\":\"\",\"created_timestamp\":\"0\",\"copyright\":\"\",\"focal_length\":\"0\",\"iso\":\"0\",\"shutter_speed\":\"0\",\"title\":\"\",\"orientation\":\"0\"}' data-image-title=\"28-antarctique-vrai-pole-sud-baton\" data-large-file=\"http://www.laboiteverte.fr/wp-content/uploads/2015/10/28-antarctique-vrai-pole-sud-baton-1280x853.jpg\" data-medium-file=\"http://www.laboiteverte.fr/wp-content/uploads/2015/10/28-antarctique-vrai-pole-sud-baton-620x413.jpg\" data-orig-file=\"http://www.laboiteverte.fr/wp-content/uploads/2015/10/28-antarctique-vrai-pole-sud-baton.jpg\" data-orig-size=\"3200,2133\" data-permalink=\"http://www.laboiteverte.fr/120-photos-autour-du-pole-sud/28-antarctique-vrai-pole-sud-baton/\" height=\"720\" sizes=\"(max-width: 1080px) 100vw, 1080px\" src=\"http://www.laboiteverte.fr/wp-content/uploads/2015/10/28-antarctique-vrai-pole-sud-baton-1280x853.jpg\" srcset=\"http://www.laboiteverte.fr/wp-content/uploads/2015/10/28-antarctique-vrai-pole-sud-baton-1280x853.jpg 1280w, http://www.laboiteverte.fr/wp-content/uploads/2015/10/28-antarctique-vrai-pole-sud-baton-480x320.jpg 480w, http://www.laboiteverte.fr/wp-content/uploads/2015/10/28-antarctique-vrai-pole-sud-baton-620x413.jpg 620w\" width=\"1080\"/></a>,\n",
       " <a href=\"http://www.laboiteverte.fr/120-photos-autour-du-pole-sud/29-antarctique-ceremonial-pole-sud/\" rel=\"attachment wp-att-66821\"><img alt=\"29-antarctique-ceremonial-pole-sud\" class=\"aligncenter size-large wp-image-66821\" data-attachment-id=\"66821\" data-comments-opened=\"1\" data-image-description=\"\" data-image-meta='{\"aperture\":\"0\",\"credit\":\"\",\"camera\":\"\",\"caption\":\"\",\"created_timestamp\":\"0\",\"copyright\":\"\",\"focal_length\":\"0\",\"iso\":\"0\",\"shutter_speed\":\"0\",\"title\":\"\",\"orientation\":\"0\"}' data-image-title=\"29-antarctique-ceremonial-pole-sud\" data-large-file=\"http://www.laboiteverte.fr/wp-content/uploads/2015/10/29-antarctique-ceremonial-pole-sud-1280x851.jpg\" data-medium-file=\"http://www.laboiteverte.fr/wp-content/uploads/2015/10/29-antarctique-ceremonial-pole-sud-620x412.jpg\" data-orig-file=\"http://www.laboiteverte.fr/wp-content/uploads/2015/10/29-antarctique-ceremonial-pole-sud.jpg\" data-orig-size=\"3200,2127\" data-permalink=\"http://www.laboiteverte.fr/120-photos-autour-du-pole-sud/29-antarctique-ceremonial-pole-sud/\" height=\"718\" sizes=\"(max-width: 1080px) 100vw, 1080px\" src=\"http://www.laboiteverte.fr/wp-content/uploads/2015/10/29-antarctique-ceremonial-pole-sud-1280x851.jpg\" srcset=\"http://www.laboiteverte.fr/wp-content/uploads/2015/10/29-antarctique-ceremonial-pole-sud-1280x851.jpg 1280w, http://www.laboiteverte.fr/wp-content/uploads/2015/10/29-antarctique-ceremonial-pole-sud-480x320.jpg 480w, http://www.laboiteverte.fr/wp-content/uploads/2015/10/29-antarctique-ceremonial-pole-sud-620x412.jpg 620w\" width=\"1080\"/></a>]"
      ]
     },
     "execution_count": 69,
     "metadata": {},
     "output_type": "execute_result"
    }
   ],
   "source": [
    "reponse"
   ]
  },
  {
   "cell_type": "code",
   "execution_count": 131,
   "metadata": {
    "ExecuteTime": {
     "end_time": "2019-02-08T11:48:41.407663Z",
     "start_time": "2019-02-08T11:48:41.401044Z"
    }
   },
   "outputs": [],
   "source": [
    "liste_liens=[]\n",
    "for ligne in reponse:\n",
    "    liste_liens.append(ligne.attrs['href'])\n",
    "    # break #cale"
   ]
  },
  {
   "cell_type": "code",
   "execution_count": 132,
   "metadata": {
    "ExecuteTime": {
     "end_time": "2019-02-08T11:48:43.826180Z",
     "start_time": "2019-02-08T11:48:43.816096Z"
    }
   },
   "outputs": [
    {
     "data": {
      "text/plain": [
       "['http://www.laboiteverte.fr/120-photos-autour-du-pole-sud/mcmurdo-hivers-lumiere-nuit/',\n",
       " 'http://www.laboiteverte.fr/120-photos-autour-du-pole-sud/carte-antarctique/',\n",
       " 'http://www.laboiteverte.fr/120-photos-autour-du-pole-sud/vue-aerienne-montagne-antartique/',\n",
       " 'http://www.laboiteverte.fr/120-photos-autour-du-pole-sud/rv-laurence-gould-brise-glace/',\n",
       " 'http://www.laboiteverte.fr/120-photos-autour-du-pole-sud/lake-hoare-taylor-valley/',\n",
       " 'http://www.laboiteverte.fr/120-photos-autour-du-pole-sud/lumiere-rouge-maintenance-telescope-pole-sud/',\n",
       " 'http://www.laboiteverte.fr/120-photos-autour-du-pole-sud/ruth-stiple-librairie-amundsen-scott/',\n",
       " 'http://www.laboiteverte.fr/120-photos-autour-du-pole-sud/orque-vue-aerienne/',\n",
       " 'http://www.laboiteverte.fr/120-photos-autour-du-pole-sud/icecubelab-aurore-australe/',\n",
       " 'http://www.laboiteverte.fr/120-photos-autour-du-pole-sud/iceberg-chaos-01/',\n",
       " 'http://www.laboiteverte.fr/120-photos-autour-du-pole-sud/iceberg-chaos-02/',\n",
       " 'http://www.laboiteverte.fr/120-photos-autour-du-pole-sud/iceberg-chaos-03/',\n",
       " 'http://www.laboiteverte.fr/120-photos-autour-du-pole-sud/phoque-trou-capteur/',\n",
       " 'http://www.laboiteverte.fr/120-photos-autour-du-pole-sud/ross-islande/',\n",
       " 'http://www.laboiteverte.fr/120-photos-autour-du-pole-sud/olympe-pyramide-montagne/',\n",
       " 'http://www.laboiteverte.fr/120-photos-autour-du-pole-sud/meteorologue-herbert-hansen-ballon/',\n",
       " 'http://www.laboiteverte.fr/120-photos-autour-du-pole-sud/meteorologue-phillip-marzette-ballon/',\n",
       " 'http://www.laboiteverte.fr/120-photos-autour-du-pole-sud/sculpture-skieur/',\n",
       " 'http://www.laboiteverte.fr/120-photos-autour-du-pole-sud/crevasse-marquage/',\n",
       " 'http://www.laboiteverte.fr/120-photos-autour-du-pole-sud/inspection-crevasse/',\n",
       " 'http://www.laboiteverte.fr/120-photos-autour-du-pole-sud/palmer-entrainement/',\n",
       " 'http://www.laboiteverte.fr/120-photos-autour-du-pole-sud/expo-longue-aurore-antarctique/',\n",
       " 'http://www.laboiteverte.fr/120-photos-autour-du-pole-sud/spool-henge/',\n",
       " 'http://www.laboiteverte.fr/120-photos-autour-du-pole-sud/heliographe-meteo/',\n",
       " 'http://www.laboiteverte.fr/120-photos-autour-du-pole-sud/montagne-pole-sud/',\n",
       " 'http://www.laboiteverte.fr/120-photos-autour-du-pole-sud/collecte-air-frais/',\n",
       " 'http://www.laboiteverte.fr/120-photos-autour-du-pole-sud/manchot-adelie/',\n",
       " 'http://www.laboiteverte.fr/120-photos-autour-du-pole-sud/scientifique-arctique-sterile-forage/',\n",
       " 'http://www.laboiteverte.fr/120-photos-autour-du-pole-sud/plouf-manchot/',\n",
       " 'http://www.laboiteverte.fr/120-photos-autour-du-pole-sud/plongeur-mcmurdo/',\n",
       " 'http://www.laboiteverte.fr/120-photos-autour-du-pole-sud/1957airdropschute-hr/',\n",
       " 'http://www.laboiteverte.fr/120-photos-autour-du-pole-sud/bulldozer-boom/',\n",
       " 'http://www.laboiteverte.fr/120-photos-autour-du-pole-sud/amundsen-scott-south-pole-station-aurora/',\n",
       " 'http://www.laboiteverte.fr/120-photos-autour-du-pole-sud/chaine-montagne-antarctique/',\n",
       " 'http://www.laboiteverte.fr/120-photos-autour-du-pole-sud/arthur-arbor/',\n",
       " 'http://www.laboiteverte.fr/120-photos-autour-du-pole-sud/pteropod-microscope/',\n",
       " 'http://www.laboiteverte.fr/120-photos-autour-du-pole-sud/luge-radar/',\n",
       " 'http://www.laboiteverte.fr/120-photos-autour-du-pole-sud/icecube-serveurs/',\n",
       " 'http://www.laboiteverte.fr/120-photos-autour-du-pole-sud/chauffe-terre-larve/',\n",
       " 'http://www.laboiteverte.fr/120-photos-autour-du-pole-sud/bande-noire-forage-glace/',\n",
       " 'http://www.laboiteverte.fr/120-photos-autour-du-pole-sud/mat-forage-carotte-glace/',\n",
       " 'http://www.laboiteverte.fr/120-photos-autour-du-pole-sud/construction-south-pole-telescope/',\n",
       " 'http://www.laboiteverte.fr/120-photos-autour-du-pole-sud/base-south-pole-telescope/',\n",
       " 'http://www.laboiteverte.fr/120-photos-autour-du-pole-sud/aurore-telescope/',\n",
       " 'http://www.laboiteverte.fr/120-photos-autour-du-pole-sud/20min-etoiles-pole-sud/',\n",
       " 'http://www.laboiteverte.fr/120-photos-autour-du-pole-sud/etoilerotation-circulaire/',\n",
       " 'http://www.laboiteverte.fr/120-photos-autour-du-pole-sud/pole-sud-nuit-lumiere-rouge-01/',\n",
       " 'http://www.laboiteverte.fr/120-photos-autour-du-pole-sud/pole-sud-nuit-lumiere-rouge-02/',\n",
       " 'http://www.laboiteverte.fr/120-photos-autour-du-pole-sud/pole-sud-nuit-lumiere-rouge-03/',\n",
       " 'http://www.laboiteverte.fr/120-photos-autour-du-pole-sud/coucher-soleil-hivers-antarctique/',\n",
       " 'http://www.laboiteverte.fr/120-photos-autour-du-pole-sud/1-montagne-reflet/',\n",
       " 'http://www.laboiteverte.fr/120-photos-autour-du-pole-sud/2-arche-iceberg/',\n",
       " 'http://www.laboiteverte.fr/120-photos-autour-du-pole-sud/3-chaos-crevasse-pole-sud/',\n",
       " 'http://www.laboiteverte.fr/120-photos-autour-du-pole-sud/4-nuages-pole-sud/',\n",
       " 'http://www.laboiteverte.fr/120-photos-autour-du-pole-sud/5-montagnes-neige-pole-sud-aerien/',\n",
       " 'http://www.laboiteverte.fr/120-photos-autour-du-pole-sud/6-base-pole-sud/',\n",
       " 'http://www.laboiteverte.fr/120-photos-autour-du-pole-sud/7-installation-baraques-pole-sud/',\n",
       " 'http://www.laboiteverte.fr/120-photos-autour-du-pole-sud/8-fatamorgana-mirale-neige-antarctique/',\n",
       " 'http://www.laboiteverte.fr/120-photos-autour-du-pole-sud/9-dans-la-tempete/',\n",
       " 'http://www.laboiteverte.fr/120-photos-autour-du-pole-sud/tente-tempete-neige/',\n",
       " 'http://www.laboiteverte.fr/120-photos-autour-du-pole-sud/pine-island-tempete/',\n",
       " 'http://www.laboiteverte.fr/120-photos-autour-du-pole-sud/antartique-amarer-bateau/',\n",
       " 'http://www.laboiteverte.fr/120-photos-autour-du-pole-sud/01-petit-bateau-antarctique/',\n",
       " 'http://www.laboiteverte.fr/120-photos-autour-du-pole-sud/02-pano-briseglace/',\n",
       " 'http://www.laboiteverte.fr/120-photos-autour-du-pole-sud/03-mer-demonte-pole-sud/',\n",
       " 'http://www.laboiteverte.fr/120-photos-autour-du-pole-sud/04-3-bateau-navy-pousse-iceberg/',\n",
       " 'http://www.laboiteverte.fr/120-photos-autour-du-pole-sud/05-basler-aiplane/',\n",
       " 'http://www.laboiteverte.fr/120-photos-autour-du-pole-sud/06-c17globemaster/',\n",
       " 'http://www.laboiteverte.fr/120-photos-autour-du-pole-sud/07-c17-globemaster-passager-cargo/',\n",
       " 'http://www.laboiteverte.fr/120-photos-autour-du-pole-sud/08-c17-jato/',\n",
       " 'http://www.laboiteverte.fr/120-photos-autour-du-pole-sud/10-c124-accident/',\n",
       " 'http://www.laboiteverte.fr/120-photos-autour-du-pole-sud/11-avion-c11-envers/',\n",
       " 'http://www.laboiteverte.fr/120-photos-autour-du-pole-sud/12-sur-la-route-1957/',\n",
       " 'http://www.laboiteverte.fr/120-photos-autour-du-pole-sud/13-marvin-medlin-bulldozer/',\n",
       " 'http://www.laboiteverte.fr/120-photos-autour-du-pole-sud/mode-transport-antarctique-1955/',\n",
       " 'http://www.laboiteverte.fr/120-photos-autour-du-pole-sud/route-antarctique/',\n",
       " 'http://www.laboiteverte.fr/120-photos-autour-du-pole-sud/desert-antarctique-pole-sud-01/',\n",
       " 'http://www.laboiteverte.fr/120-photos-autour-du-pole-sud/desert-antarctique-pole-sud-02/',\n",
       " 'http://www.laboiteverte.fr/120-photos-autour-du-pole-sud/ventifacts-pole-sud/',\n",
       " 'http://www.laboiteverte.fr/120-photos-autour-du-pole-sud/01-blood-falls/',\n",
       " 'http://www.laboiteverte.fr/120-photos-autour-du-pole-sud/02-blood-falls/',\n",
       " 'http://www.laboiteverte.fr/120-photos-autour-du-pole-sud/03-blood-falls/',\n",
       " 'http://www.laboiteverte.fr/120-photos-autour-du-pole-sud/montagne-soleil-pokle-sud/',\n",
       " 'http://www.laboiteverte.fr/120-photos-autour-du-pole-sud/1-football/',\n",
       " 'http://www.laboiteverte.fr/120-photos-autour-du-pole-sud/2-vapeur-froid/',\n",
       " 'http://www.laboiteverte.fr/120-photos-autour-du-pole-sud/3-theatre-mariage-renier/',\n",
       " 'http://www.laboiteverte.fr/120-photos-autour-du-pole-sud/4-peinture-artiste-inconnu/',\n",
       " 'http://www.laboiteverte.fr/120-photos-autour-du-pole-sud/01-dome-geodesique-pole-sud/',\n",
       " 'http://www.laboiteverte.fr/120-photos-autour-du-pole-sud/02-dome-geodesique-pole-sud/',\n",
       " 'http://www.laboiteverte.fr/120-photos-autour-du-pole-sud/03-dome-geodesique-pole-sud/',\n",
       " 'http://www.laboiteverte.fr/120-photos-autour-du-pole-sud/04-dome-geodesique-pole-sud/',\n",
       " 'http://www.laboiteverte.fr/120-photos-autour-du-pole-sud/01-grotte-glace-antarctique/',\n",
       " 'http://www.laboiteverte.fr/120-photos-autour-du-pole-sud/02-grotte-glace-antarctique/',\n",
       " 'http://www.laboiteverte.fr/120-photos-autour-du-pole-sud/01-antarctique-mcmurdo-debut-construciton/',\n",
       " 'http://www.laboiteverte.fr/120-photos-autour-du-pole-sud/02-antarctique-mcmurdo-1957/',\n",
       " 'http://www.laboiteverte.fr/120-photos-autour-du-pole-sud/03-antarctique-mcmurdo-2014/',\n",
       " 'http://www.laboiteverte.fr/120-photos-autour-du-pole-sud/04-antarctique-eglise/',\n",
       " 'http://www.laboiteverte.fr/120-photos-autour-du-pole-sud/05-antarctique-aurore/',\n",
       " 'http://www.laboiteverte.fr/120-photos-autour-du-pole-sud/06-antarctique-pine-island-iceberg-naissance/',\n",
       " 'http://www.laboiteverte.fr/120-photos-autour-du-pole-sud/07-antarctique-paysage/',\n",
       " 'http://www.laboiteverte.fr/120-photos-autour-du-pole-sud/08-antarctique-iceberg-geant/',\n",
       " 'http://www.laboiteverte.fr/120-photos-autour-du-pole-sud/09-antarctique-peninsule-montagne/',\n",
       " 'http://www.laboiteverte.fr/120-photos-autour-du-pole-sud/10-antarctique-arthur-arbor-coucher-soleil/',\n",
       " 'http://www.laboiteverte.fr/120-photos-autour-du-pole-sud/11-antarctique/',\n",
       " 'http://www.laboiteverte.fr/120-photos-autour-du-pole-sud/12-antarctique-ecolo-recherche-pied-eau/',\n",
       " 'http://www.laboiteverte.fr/120-photos-autour-du-pole-sud/14-antarctique-long-duration-baloon/',\n",
       " 'http://www.laboiteverte.fr/120-photos-autour-du-pole-sud/15-antarctique-skytem-helicoptere/',\n",
       " 'http://www.laboiteverte.fr/120-photos-autour-du-pole-sud/16-antarctique-echantillon-fossiles/',\n",
       " 'http://www.laboiteverte.fr/120-photos-autour-du-pole-sud/17-antarctique-orque-souris-photo/',\n",
       " 'http://www.laboiteverte.fr/120-photos-autour-du-pole-sud/18-antarctique-pousse-legume-frais/',\n",
       " 'http://www.laboiteverte.fr/120-photos-autour-du-pole-sud/19-antarctique-forage-eau-cahude/',\n",
       " 'http://www.laboiteverte.fr/120-photos-autour-du-pole-sud/21-antarctique-preservation-vieux-batiment/',\n",
       " 'http://www.laboiteverte.fr/120-photos-autour-du-pole-sud/22-antarctique-krill/',\n",
       " 'http://www.laboiteverte.fr/120-photos-autour-du-pole-sud/23-antarctique-manchot/',\n",
       " 'http://www.laboiteverte.fr/120-photos-autour-du-pole-sud/24-antarctique-manchot-micgon-avec-bebe/',\n",
       " 'http://www.laboiteverte.fr/120-photos-autour-du-pole-sud/25-antarctique-manchot-wamera/',\n",
       " 'http://www.laboiteverte.fr/120-photos-autour-du-pole-sud/26-antarctique-premier-coucher-soleil/',\n",
       " 'http://www.laboiteverte.fr/120-photos-autour-du-pole-sud/27-antarctique-panoramique-coucher-soleil/',\n",
       " 'http://www.laboiteverte.fr/120-photos-autour-du-pole-sud/28-antarctique-vrai-pole-sud-baton/',\n",
       " 'http://www.laboiteverte.fr/120-photos-autour-du-pole-sud/29-antarctique-ceremonial-pole-sud/']"
      ]
     },
     "execution_count": 132,
     "metadata": {},
     "output_type": "execute_result"
    }
   ],
   "source": [
    "liste_liens"
   ]
  },
  {
   "cell_type": "markdown",
   "metadata": {
    "ExecuteTime": {
     "end_time": "2019-02-08T10:58:00.379890Z",
     "start_time": "2019-02-08T10:58:00.348607Z"
    }
   },
   "source": [
    "### Boucle principale"
   ]
  },
  {
   "cell_type": "markdown",
   "metadata": {},
   "source": [
    "Elegimos una foto y la inspectamos, vemos que es una balise img, vemos que trae un img. LAs habiamps hecho todo por separado y despues seleccionamos las cellules con shift y con shift+M las ponemos todas en una celula. Y agregamos el for\n",
    "y hacemos que lo haga para cada elemento de la lista liste_lien"
   ]
  },
  {
   "cell_type": "code",
   "execution_count": 133,
   "metadata": {
    "ExecuteTime": {
     "end_time": "2019-02-08T11:48:49.322701Z",
     "start_time": "2019-02-08T11:48:49.317048Z"
    }
   },
   "outputs": [],
   "source": [
    "lien = liste_liens[0]"
   ]
  },
  {
   "cell_type": "code",
   "execution_count": 134,
   "metadata": {
    "ExecuteTime": {
     "end_time": "2019-02-08T11:49:14.573678Z",
     "start_time": "2019-02-08T11:48:51.883716Z"
    }
   },
   "outputs": [
    {
     "ename": "KeyboardInterrupt",
     "evalue": "",
     "output_type": "error",
     "traceback": [
      "\u001b[1;31m---------------------------------------------------------------------------\u001b[0m",
      "\u001b[1;31mKeyboardInterrupt\u001b[0m                         Traceback (most recent call last)",
      "\u001b[1;32m<ipython-input-134-5d41b894aec4>\u001b[0m in \u001b[0;36m<module>\u001b[1;34m\u001b[0m\n\u001b[0;32m     11\u001b[0m     \u001b[0mlienimg\u001b[0m\u001b[1;33m=\u001b[0m\u001b[0mreponse\u001b[0m\u001b[1;33m.\u001b[0m\u001b[0mattrs\u001b[0m\u001b[1;33m[\u001b[0m\u001b[1;34m'src'\u001b[0m\u001b[1;33m]\u001b[0m\u001b[1;33m\u001b[0m\u001b[1;33m\u001b[0m\u001b[0m\n\u001b[0;32m     12\u001b[0m \u001b[1;33m\u001b[0m\u001b[0m\n\u001b[1;32m---> 13\u001b[1;33m     \u001b[0mresimg\u001b[0m\u001b[1;33m=\u001b[0m\u001b[0msess\u001b[0m\u001b[1;33m.\u001b[0m\u001b[0mget\u001b[0m\u001b[1;33m(\u001b[0m\u001b[0mlienimg\u001b[0m\u001b[1;33m)\u001b[0m\u001b[1;33m\u001b[0m\u001b[1;33m\u001b[0m\u001b[0m\n\u001b[0m\u001b[0;32m     14\u001b[0m \u001b[1;33m\u001b[0m\u001b[0m\n\u001b[0;32m     15\u001b[0m     \u001b[0mnom_fichier\u001b[0m\u001b[1;33m=\u001b[0m\u001b[0mlienimg\u001b[0m\u001b[1;33m.\u001b[0m\u001b[0msplit\u001b[0m\u001b[1;33m(\u001b[0m\u001b[1;34m'/'\u001b[0m\u001b[1;33m)\u001b[0m\u001b[1;33m[\u001b[0m\u001b[1;33m-\u001b[0m\u001b[1;36m1\u001b[0m\u001b[1;33m]\u001b[0m\u001b[1;33m\u001b[0m\u001b[1;33m\u001b[0m\u001b[0m\n",
      "\u001b[1;32m~\\Anaconda3\\lib\\site-packages\\requests\\sessions.py\u001b[0m in \u001b[0;36mget\u001b[1;34m(self, url, **kwargs)\u001b[0m\n\u001b[0;32m    544\u001b[0m \u001b[1;33m\u001b[0m\u001b[0m\n\u001b[0;32m    545\u001b[0m         \u001b[0mkwargs\u001b[0m\u001b[1;33m.\u001b[0m\u001b[0msetdefault\u001b[0m\u001b[1;33m(\u001b[0m\u001b[1;34m'allow_redirects'\u001b[0m\u001b[1;33m,\u001b[0m \u001b[1;32mTrue\u001b[0m\u001b[1;33m)\u001b[0m\u001b[1;33m\u001b[0m\u001b[1;33m\u001b[0m\u001b[0m\n\u001b[1;32m--> 546\u001b[1;33m         \u001b[1;32mreturn\u001b[0m \u001b[0mself\u001b[0m\u001b[1;33m.\u001b[0m\u001b[0mrequest\u001b[0m\u001b[1;33m(\u001b[0m\u001b[1;34m'GET'\u001b[0m\u001b[1;33m,\u001b[0m \u001b[0murl\u001b[0m\u001b[1;33m,\u001b[0m \u001b[1;33m**\u001b[0m\u001b[0mkwargs\u001b[0m\u001b[1;33m)\u001b[0m\u001b[1;33m\u001b[0m\u001b[1;33m\u001b[0m\u001b[0m\n\u001b[0m\u001b[0;32m    547\u001b[0m \u001b[1;33m\u001b[0m\u001b[0m\n\u001b[0;32m    548\u001b[0m     \u001b[1;32mdef\u001b[0m \u001b[0moptions\u001b[0m\u001b[1;33m(\u001b[0m\u001b[0mself\u001b[0m\u001b[1;33m,\u001b[0m \u001b[0murl\u001b[0m\u001b[1;33m,\u001b[0m \u001b[1;33m**\u001b[0m\u001b[0mkwargs\u001b[0m\u001b[1;33m)\u001b[0m\u001b[1;33m:\u001b[0m\u001b[1;33m\u001b[0m\u001b[1;33m\u001b[0m\u001b[0m\n",
      "\u001b[1;32m~\\Anaconda3\\lib\\site-packages\\requests\\sessions.py\u001b[0m in \u001b[0;36mrequest\u001b[1;34m(self, method, url, params, data, headers, cookies, files, auth, timeout, allow_redirects, proxies, hooks, stream, verify, cert, json)\u001b[0m\n\u001b[0;32m    531\u001b[0m         }\n\u001b[0;32m    532\u001b[0m         \u001b[0msend_kwargs\u001b[0m\u001b[1;33m.\u001b[0m\u001b[0mupdate\u001b[0m\u001b[1;33m(\u001b[0m\u001b[0msettings\u001b[0m\u001b[1;33m)\u001b[0m\u001b[1;33m\u001b[0m\u001b[1;33m\u001b[0m\u001b[0m\n\u001b[1;32m--> 533\u001b[1;33m         \u001b[0mresp\u001b[0m \u001b[1;33m=\u001b[0m \u001b[0mself\u001b[0m\u001b[1;33m.\u001b[0m\u001b[0msend\u001b[0m\u001b[1;33m(\u001b[0m\u001b[0mprep\u001b[0m\u001b[1;33m,\u001b[0m \u001b[1;33m**\u001b[0m\u001b[0msend_kwargs\u001b[0m\u001b[1;33m)\u001b[0m\u001b[1;33m\u001b[0m\u001b[1;33m\u001b[0m\u001b[0m\n\u001b[0m\u001b[0;32m    534\u001b[0m \u001b[1;33m\u001b[0m\u001b[0m\n\u001b[0;32m    535\u001b[0m         \u001b[1;32mreturn\u001b[0m \u001b[0mresp\u001b[0m\u001b[1;33m\u001b[0m\u001b[1;33m\u001b[0m\u001b[0m\n",
      "\u001b[1;32m~\\Anaconda3\\lib\\site-packages\\requests\\sessions.py\u001b[0m in \u001b[0;36msend\u001b[1;34m(self, request, **kwargs)\u001b[0m\n\u001b[0;32m    684\u001b[0m \u001b[1;33m\u001b[0m\u001b[0m\n\u001b[0;32m    685\u001b[0m         \u001b[1;32mif\u001b[0m \u001b[1;32mnot\u001b[0m \u001b[0mstream\u001b[0m\u001b[1;33m:\u001b[0m\u001b[1;33m\u001b[0m\u001b[1;33m\u001b[0m\u001b[0m\n\u001b[1;32m--> 686\u001b[1;33m             \u001b[0mr\u001b[0m\u001b[1;33m.\u001b[0m\u001b[0mcontent\u001b[0m\u001b[1;33m\u001b[0m\u001b[1;33m\u001b[0m\u001b[0m\n\u001b[0m\u001b[0;32m    687\u001b[0m \u001b[1;33m\u001b[0m\u001b[0m\n\u001b[0;32m    688\u001b[0m         \u001b[1;32mreturn\u001b[0m \u001b[0mr\u001b[0m\u001b[1;33m\u001b[0m\u001b[1;33m\u001b[0m\u001b[0m\n",
      "\u001b[1;32m~\\Anaconda3\\lib\\site-packages\\requests\\models.py\u001b[0m in \u001b[0;36mcontent\u001b[1;34m(self)\u001b[0m\n\u001b[0;32m    826\u001b[0m                 \u001b[0mself\u001b[0m\u001b[1;33m.\u001b[0m\u001b[0m_content\u001b[0m \u001b[1;33m=\u001b[0m \u001b[1;32mNone\u001b[0m\u001b[1;33m\u001b[0m\u001b[1;33m\u001b[0m\u001b[0m\n\u001b[0;32m    827\u001b[0m             \u001b[1;32melse\u001b[0m\u001b[1;33m:\u001b[0m\u001b[1;33m\u001b[0m\u001b[1;33m\u001b[0m\u001b[0m\n\u001b[1;32m--> 828\u001b[1;33m                 \u001b[0mself\u001b[0m\u001b[1;33m.\u001b[0m\u001b[0m_content\u001b[0m \u001b[1;33m=\u001b[0m \u001b[1;34mb''\u001b[0m\u001b[1;33m.\u001b[0m\u001b[0mjoin\u001b[0m\u001b[1;33m(\u001b[0m\u001b[0mself\u001b[0m\u001b[1;33m.\u001b[0m\u001b[0miter_content\u001b[0m\u001b[1;33m(\u001b[0m\u001b[0mCONTENT_CHUNK_SIZE\u001b[0m\u001b[1;33m)\u001b[0m\u001b[1;33m)\u001b[0m \u001b[1;32mor\u001b[0m \u001b[1;34mb''\u001b[0m\u001b[1;33m\u001b[0m\u001b[1;33m\u001b[0m\u001b[0m\n\u001b[0m\u001b[0;32m    829\u001b[0m \u001b[1;33m\u001b[0m\u001b[0m\n\u001b[0;32m    830\u001b[0m         \u001b[0mself\u001b[0m\u001b[1;33m.\u001b[0m\u001b[0m_content_consumed\u001b[0m \u001b[1;33m=\u001b[0m \u001b[1;32mTrue\u001b[0m\u001b[1;33m\u001b[0m\u001b[1;33m\u001b[0m\u001b[0m\n",
      "\u001b[1;32m~\\Anaconda3\\lib\\site-packages\\requests\\models.py\u001b[0m in \u001b[0;36mgenerate\u001b[1;34m()\u001b[0m\n\u001b[0;32m    748\u001b[0m             \u001b[1;32mif\u001b[0m \u001b[0mhasattr\u001b[0m\u001b[1;33m(\u001b[0m\u001b[0mself\u001b[0m\u001b[1;33m.\u001b[0m\u001b[0mraw\u001b[0m\u001b[1;33m,\u001b[0m \u001b[1;34m'stream'\u001b[0m\u001b[1;33m)\u001b[0m\u001b[1;33m:\u001b[0m\u001b[1;33m\u001b[0m\u001b[1;33m\u001b[0m\u001b[0m\n\u001b[0;32m    749\u001b[0m                 \u001b[1;32mtry\u001b[0m\u001b[1;33m:\u001b[0m\u001b[1;33m\u001b[0m\u001b[1;33m\u001b[0m\u001b[0m\n\u001b[1;32m--> 750\u001b[1;33m                     \u001b[1;32mfor\u001b[0m \u001b[0mchunk\u001b[0m \u001b[1;32min\u001b[0m \u001b[0mself\u001b[0m\u001b[1;33m.\u001b[0m\u001b[0mraw\u001b[0m\u001b[1;33m.\u001b[0m\u001b[0mstream\u001b[0m\u001b[1;33m(\u001b[0m\u001b[0mchunk_size\u001b[0m\u001b[1;33m,\u001b[0m \u001b[0mdecode_content\u001b[0m\u001b[1;33m=\u001b[0m\u001b[1;32mTrue\u001b[0m\u001b[1;33m)\u001b[0m\u001b[1;33m:\u001b[0m\u001b[1;33m\u001b[0m\u001b[1;33m\u001b[0m\u001b[0m\n\u001b[0m\u001b[0;32m    751\u001b[0m                         \u001b[1;32myield\u001b[0m \u001b[0mchunk\u001b[0m\u001b[1;33m\u001b[0m\u001b[1;33m\u001b[0m\u001b[0m\n\u001b[0;32m    752\u001b[0m                 \u001b[1;32mexcept\u001b[0m \u001b[0mProtocolError\u001b[0m \u001b[1;32mas\u001b[0m \u001b[0me\u001b[0m\u001b[1;33m:\u001b[0m\u001b[1;33m\u001b[0m\u001b[1;33m\u001b[0m\u001b[0m\n",
      "\u001b[1;32m~\\Anaconda3\\lib\\site-packages\\urllib3\\response.py\u001b[0m in \u001b[0;36mstream\u001b[1;34m(self, amt, decode_content)\u001b[0m\n\u001b[0;32m    492\u001b[0m         \u001b[1;32melse\u001b[0m\u001b[1;33m:\u001b[0m\u001b[1;33m\u001b[0m\u001b[1;33m\u001b[0m\u001b[0m\n\u001b[0;32m    493\u001b[0m             \u001b[1;32mwhile\u001b[0m \u001b[1;32mnot\u001b[0m \u001b[0mis_fp_closed\u001b[0m\u001b[1;33m(\u001b[0m\u001b[0mself\u001b[0m\u001b[1;33m.\u001b[0m\u001b[0m_fp\u001b[0m\u001b[1;33m)\u001b[0m\u001b[1;33m:\u001b[0m\u001b[1;33m\u001b[0m\u001b[1;33m\u001b[0m\u001b[0m\n\u001b[1;32m--> 494\u001b[1;33m                 \u001b[0mdata\u001b[0m \u001b[1;33m=\u001b[0m \u001b[0mself\u001b[0m\u001b[1;33m.\u001b[0m\u001b[0mread\u001b[0m\u001b[1;33m(\u001b[0m\u001b[0mamt\u001b[0m\u001b[1;33m=\u001b[0m\u001b[0mamt\u001b[0m\u001b[1;33m,\u001b[0m \u001b[0mdecode_content\u001b[0m\u001b[1;33m=\u001b[0m\u001b[0mdecode_content\u001b[0m\u001b[1;33m)\u001b[0m\u001b[1;33m\u001b[0m\u001b[1;33m\u001b[0m\u001b[0m\n\u001b[0m\u001b[0;32m    495\u001b[0m \u001b[1;33m\u001b[0m\u001b[0m\n\u001b[0;32m    496\u001b[0m                 \u001b[1;32mif\u001b[0m \u001b[0mdata\u001b[0m\u001b[1;33m:\u001b[0m\u001b[1;33m\u001b[0m\u001b[1;33m\u001b[0m\u001b[0m\n",
      "\u001b[1;32m~\\Anaconda3\\lib\\site-packages\\urllib3\\response.py\u001b[0m in \u001b[0;36mread\u001b[1;34m(self, amt, decode_content, cache_content)\u001b[0m\n\u001b[0;32m    440\u001b[0m             \u001b[1;32melse\u001b[0m\u001b[1;33m:\u001b[0m\u001b[1;33m\u001b[0m\u001b[1;33m\u001b[0m\u001b[0m\n\u001b[0;32m    441\u001b[0m                 \u001b[0mcache_content\u001b[0m \u001b[1;33m=\u001b[0m \u001b[1;32mFalse\u001b[0m\u001b[1;33m\u001b[0m\u001b[1;33m\u001b[0m\u001b[0m\n\u001b[1;32m--> 442\u001b[1;33m                 \u001b[0mdata\u001b[0m \u001b[1;33m=\u001b[0m \u001b[0mself\u001b[0m\u001b[1;33m.\u001b[0m\u001b[0m_fp\u001b[0m\u001b[1;33m.\u001b[0m\u001b[0mread\u001b[0m\u001b[1;33m(\u001b[0m\u001b[0mamt\u001b[0m\u001b[1;33m)\u001b[0m\u001b[1;33m\u001b[0m\u001b[1;33m\u001b[0m\u001b[0m\n\u001b[0m\u001b[0;32m    443\u001b[0m                 \u001b[1;32mif\u001b[0m \u001b[0mamt\u001b[0m \u001b[1;33m!=\u001b[0m \u001b[1;36m0\u001b[0m \u001b[1;32mand\u001b[0m \u001b[1;32mnot\u001b[0m \u001b[0mdata\u001b[0m\u001b[1;33m:\u001b[0m  \u001b[1;31m# Platform-specific: Buggy versions of Python.\u001b[0m\u001b[1;33m\u001b[0m\u001b[1;33m\u001b[0m\u001b[0m\n\u001b[0;32m    444\u001b[0m                     \u001b[1;31m# Close the connection when no data is returned\u001b[0m\u001b[1;33m\u001b[0m\u001b[1;33m\u001b[0m\u001b[1;33m\u001b[0m\u001b[0m\n",
      "\u001b[1;32m~\\Anaconda3\\lib\\http\\client.py\u001b[0m in \u001b[0;36mread\u001b[1;34m(self, amt)\u001b[0m\n\u001b[0;32m    445\u001b[0m             \u001b[1;31m# Amount is given, implement using readinto\u001b[0m\u001b[1;33m\u001b[0m\u001b[1;33m\u001b[0m\u001b[1;33m\u001b[0m\u001b[0m\n\u001b[0;32m    446\u001b[0m             \u001b[0mb\u001b[0m \u001b[1;33m=\u001b[0m \u001b[0mbytearray\u001b[0m\u001b[1;33m(\u001b[0m\u001b[0mamt\u001b[0m\u001b[1;33m)\u001b[0m\u001b[1;33m\u001b[0m\u001b[1;33m\u001b[0m\u001b[0m\n\u001b[1;32m--> 447\u001b[1;33m             \u001b[0mn\u001b[0m \u001b[1;33m=\u001b[0m \u001b[0mself\u001b[0m\u001b[1;33m.\u001b[0m\u001b[0mreadinto\u001b[0m\u001b[1;33m(\u001b[0m\u001b[0mb\u001b[0m\u001b[1;33m)\u001b[0m\u001b[1;33m\u001b[0m\u001b[1;33m\u001b[0m\u001b[0m\n\u001b[0m\u001b[0;32m    448\u001b[0m             \u001b[1;32mreturn\u001b[0m \u001b[0mmemoryview\u001b[0m\u001b[1;33m(\u001b[0m\u001b[0mb\u001b[0m\u001b[1;33m)\u001b[0m\u001b[1;33m[\u001b[0m\u001b[1;33m:\u001b[0m\u001b[0mn\u001b[0m\u001b[1;33m]\u001b[0m\u001b[1;33m.\u001b[0m\u001b[0mtobytes\u001b[0m\u001b[1;33m(\u001b[0m\u001b[1;33m)\u001b[0m\u001b[1;33m\u001b[0m\u001b[1;33m\u001b[0m\u001b[0m\n\u001b[0;32m    449\u001b[0m         \u001b[1;32melse\u001b[0m\u001b[1;33m:\u001b[0m\u001b[1;33m\u001b[0m\u001b[1;33m\u001b[0m\u001b[0m\n",
      "\u001b[1;32m~\\Anaconda3\\lib\\http\\client.py\u001b[0m in \u001b[0;36mreadinto\u001b[1;34m(self, b)\u001b[0m\n\u001b[0;32m    489\u001b[0m         \u001b[1;31m# connection, and the user is reading more bytes than will be provided\u001b[0m\u001b[1;33m\u001b[0m\u001b[1;33m\u001b[0m\u001b[1;33m\u001b[0m\u001b[0m\n\u001b[0;32m    490\u001b[0m         \u001b[1;31m# (for example, reading in 1k chunks)\u001b[0m\u001b[1;33m\u001b[0m\u001b[1;33m\u001b[0m\u001b[1;33m\u001b[0m\u001b[0m\n\u001b[1;32m--> 491\u001b[1;33m         \u001b[0mn\u001b[0m \u001b[1;33m=\u001b[0m \u001b[0mself\u001b[0m\u001b[1;33m.\u001b[0m\u001b[0mfp\u001b[0m\u001b[1;33m.\u001b[0m\u001b[0mreadinto\u001b[0m\u001b[1;33m(\u001b[0m\u001b[0mb\u001b[0m\u001b[1;33m)\u001b[0m\u001b[1;33m\u001b[0m\u001b[1;33m\u001b[0m\u001b[0m\n\u001b[0m\u001b[0;32m    492\u001b[0m         \u001b[1;32mif\u001b[0m \u001b[1;32mnot\u001b[0m \u001b[0mn\u001b[0m \u001b[1;32mand\u001b[0m \u001b[0mb\u001b[0m\u001b[1;33m:\u001b[0m\u001b[1;33m\u001b[0m\u001b[1;33m\u001b[0m\u001b[0m\n\u001b[0;32m    493\u001b[0m             \u001b[1;31m# Ideally, we would raise IncompleteRead if the content-length\u001b[0m\u001b[1;33m\u001b[0m\u001b[1;33m\u001b[0m\u001b[1;33m\u001b[0m\u001b[0m\n",
      "\u001b[1;32m~\\Anaconda3\\lib\\socket.py\u001b[0m in \u001b[0;36mreadinto\u001b[1;34m(self, b)\u001b[0m\n\u001b[0;32m    587\u001b[0m         \u001b[1;32mwhile\u001b[0m \u001b[1;32mTrue\u001b[0m\u001b[1;33m:\u001b[0m\u001b[1;33m\u001b[0m\u001b[1;33m\u001b[0m\u001b[0m\n\u001b[0;32m    588\u001b[0m             \u001b[1;32mtry\u001b[0m\u001b[1;33m:\u001b[0m\u001b[1;33m\u001b[0m\u001b[1;33m\u001b[0m\u001b[0m\n\u001b[1;32m--> 589\u001b[1;33m                 \u001b[1;32mreturn\u001b[0m \u001b[0mself\u001b[0m\u001b[1;33m.\u001b[0m\u001b[0m_sock\u001b[0m\u001b[1;33m.\u001b[0m\u001b[0mrecv_into\u001b[0m\u001b[1;33m(\u001b[0m\u001b[0mb\u001b[0m\u001b[1;33m)\u001b[0m\u001b[1;33m\u001b[0m\u001b[1;33m\u001b[0m\u001b[0m\n\u001b[0m\u001b[0;32m    590\u001b[0m             \u001b[1;32mexcept\u001b[0m \u001b[0mtimeout\u001b[0m\u001b[1;33m:\u001b[0m\u001b[1;33m\u001b[0m\u001b[1;33m\u001b[0m\u001b[0m\n\u001b[0;32m    591\u001b[0m                 \u001b[0mself\u001b[0m\u001b[1;33m.\u001b[0m\u001b[0m_timeout_occurred\u001b[0m \u001b[1;33m=\u001b[0m \u001b[1;32mTrue\u001b[0m\u001b[1;33m\u001b[0m\u001b[1;33m\u001b[0m\u001b[0m\n",
      "\u001b[1;31mKeyboardInterrupt\u001b[0m: "
     ]
    }
   ],
   "source": [
    "for lien in liste_liens: \n",
    "    \n",
    "    res = sess.get(lien) # Vamos sobre la segunda pagina\n",
    "    \n",
    "    soup=bs4.BeautifulSoup(res.content, 'html.parser')\n",
    "    # Como trae 30 y pico de resultados, buscamos otras valises \n",
    "    #para filtrar y traer la buena imagen. Cambiamos y vamos a tomar solo la primera\n",
    "\n",
    "    reponse=soup.find('img') # Recupere la premiere image\n",
    "\n",
    "    lienimg=reponse.attrs['src']\n",
    "\n",
    "    resimg=sess.get(lienimg)\n",
    "\n",
    "    nom_fichier=lienimg.split('/')[-1]\n",
    "\n",
    "    with open(f'../output/{nom_fichier}', 'wb') as destfile:\n",
    "        destfile.write(resimg.content)   # wb para que lo guarde en binaire. \"content\" contenu en binaire, contrairement à \"texte\"\n",
    "    \n",
    "    time.sleep(1) ### Important : Attente 1 seg !\n",
    "    # ESte programa descarga 140 imagenes !!\n",
    "    \n",
    "    # En C:\\Users\\lucia\\PyBooks\\PyParis_XII_M2\\output\\ la boucle va a descargar 140 imagenes !!"
   ]
  },
  {
   "cell_type": "markdown",
   "metadata": {},
   "source": [
    "# Réaliser un scraper à réponses multiples"
   ]
  },
  {
   "cell_type": "markdown",
   "metadata": {},
   "source": [
    "## Principe"
   ]
  },
  {
   "cell_type": "markdown",
   "metadata": {},
   "source": [
    "Algorithme qui scrape un site une fois sur la base d'une liste de requêts et dont chaque requête renvoi plusieurs réponses (2 boucles)\n",
    "\n",
    "- Créer la liste des requètes\n",
    "- **Boucle des requêtes**. Pour chaque requête faire :\n",
    "    - Envoi de la requête\n",
    "    - Vérification de la réponse\n",
    "    - **Boucle de traitement des réponses**. Pour chaque ligne de données faire :\n",
    "        - Extraction des données\n",
    "        - Formatage des données\n",
    "        - Ajout à une liste de résultats \n",
    "    - Enregistrement des données brutes\n",
    "    - **Attente**\n",
    "- Si nécessaire : Post-traitement des résultats\n",
    "- Si nécessaire : Enregistement des résultats finaux"
   ]
  },
  {
   "cell_type": "markdown",
   "metadata": {},
   "source": [
    "## Application"
   ]
  },
  {
   "cell_type": "markdown",
   "metadata": {
    "ExecuteTime": {
     "end_time": "2019-02-05T22:52:59.483409Z",
     "start_time": "2019-02-05T22:52:59.416409Z"
    }
   },
   "source": [
    "**Site** : https://www.carrefour.fr\n",
    "\n",
    "**Fichier robots du site** : https://www.carrefour.fr/robots.txt"
   ]
  },
  {
   "cell_type": "code",
   "execution_count": null,
   "metadata": {},
   "outputs": [],
   "source": []
  },
  {
   "cell_type": "markdown",
   "metadata": {},
   "source": [
    "# Réaliser un scraper à fonctionnement périodique"
   ]
  },
  {
   "cell_type": "markdown",
   "metadata": {},
   "source": [
    "## Principe"
   ]
  },
  {
   "cell_type": "markdown",
   "metadata": {},
   "source": [
    "Algorithme qui scrape un site périodiquement sur la base d'une liste de requêts (3 boucles)\n",
    "\n",
    "- Créer la liste des requètes\n",
    "- **Boucle périodique**. Pour chaque itération faire :\n",
    "    - **Boucle des requêtes**. Pour chaque requête faire :\n",
    "        - Envoi de la requête\n",
    "        - Vérification de la réponse\n",
    "        - **Boucle de traitement des réponses**. Pour chaque ligne de données faire :\n",
    "            - Extraction des données\n",
    "            - Formatage des données\n",
    "            - Ajout à une liste de résultats\n",
    "        - **Attente**\n",
    "    - Enregistrement des résultats brutes\n",
    "    - **Attente de la prochaine itération**\n",
    "- Si nécessaire : Post-traitement des résultats\n",
    "- Si nécessaire : Enregistement des résultats finaux"
   ]
  },
  {
   "cell_type": "markdown",
   "metadata": {
    "ExecuteTime": {
     "end_time": "2019-02-05T22:52:59.483409Z",
     "start_time": "2019-02-05T22:52:59.416409Z"
    }
   },
   "source": [
    "## Application"
   ]
  },
  {
   "cell_type": "markdown",
   "metadata": {
    "ExecuteTime": {
     "end_time": "2019-02-05T22:52:59.483409Z",
     "start_time": "2019-02-05T22:52:59.416409Z"
    }
   },
   "source": [
    "**Site** : https://www.marinetraffic.com\n",
    "\n",
    "**Fichier robots du site** : https://www.marinetraffic.com/robots.txt"
   ]
  },
  {
   "cell_type": "code",
   "execution_count": null,
   "metadata": {},
   "outputs": [],
   "source": []
  }
 ],
 "metadata": {
  "kernelspec": {
   "display_name": "Python 3",
   "language": "python",
   "name": "python3"
  },
  "language_info": {
   "codemirror_mode": {
    "name": "ipython",
    "version": 3
   },
   "file_extension": ".py",
   "mimetype": "text/x-python",
   "name": "python",
   "nbconvert_exporter": "python",
   "pygments_lexer": "ipython3",
   "version": "3.7.1"
  },
  "toc": {
   "base_numbering": 1,
   "nav_menu": {
    "height": "500px",
    "width": "252px"
   },
   "number_sections": true,
   "sideBar": true,
   "skip_h1_title": false,
   "title_cell": "Table of Contents",
   "title_sidebar": "Contents",
   "toc_cell": false,
   "toc_position": {
    "height": "600px",
    "left": "0px",
    "right": "1359px",
    "top": "107px",
    "width": "180px"
   },
   "toc_section_display": "block",
   "toc_window_display": true
  },
  "varInspector": {
   "cols": {
    "lenName": 16,
    "lenType": 16,
    "lenVar": 40
   },
   "kernels_config": {
    "python": {
     "delete_cmd_postfix": "",
     "delete_cmd_prefix": "del ",
     "library": "var_list.py",
     "varRefreshCmd": "print(var_dic_list())"
    },
    "r": {
     "delete_cmd_postfix": ") ",
     "delete_cmd_prefix": "rm(",
     "library": "var_list.r",
     "varRefreshCmd": "cat(var_dic_list()) "
    }
   },
   "oldHeight": 122.85,
   "position": {
    "height": "40px",
    "left": "1266px",
    "right": "20px",
    "top": "120px",
    "width": "250px"
   },
   "types_to_exclude": [
    "module",
    "function",
    "builtin_function_or_method",
    "instance",
    "_Feature"
   ],
   "varInspector_section_display": "none",
   "window_display": true
  }
 },
 "nbformat": 4,
 "nbformat_minor": 2
}

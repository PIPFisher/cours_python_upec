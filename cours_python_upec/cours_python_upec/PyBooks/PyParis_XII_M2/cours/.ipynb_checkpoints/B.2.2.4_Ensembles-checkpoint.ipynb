{
 "cells": [
  {
   "cell_type": "markdown",
   "metadata": {},
   "source": [
    "<br>\n",
    "<div align=\"right\">Enseignant : Aric Wizenberg</div>\n",
    "<div align=\"right\">E-mail : icarwiz@yahoo.fr</div>\n",
    "<div align=\"right\">Année : 2018/2019</div><br><br><br>\n",
    "<div align=\"center\"><span style=\"font-family:Lucida Caligraphy;font-size:32px;color:darkgreen\">Master 2 MASERATI - Cours de Python</span></div><br><br>\n",
    "<div align=\"center\"><span style=\"font-family:Lucida Caligraphy;font-size:24px;color:#e60000\">Ensembles</span></div><br><br>\n",
    "<hr>"
   ]
  },
  {
   "cell_type": "markdown",
   "metadata": {},
   "source": [
    "# Introduction"
   ]
  },
  {
   "cell_type": "markdown",
   "metadata": {},
   "source": [
    "Python dispose de 4 types d'ensembles principaux, en plus des chaines de caractères (**str**):\n",
    "- les n-uplets (**tuple**)\n",
    "- les ensembles (**set**)\n",
    "- les listes (**list**)\n",
    "- les dictionnaires (**dict**)\n",
    "\n",
    "Ces ensembles contiennent, comme leur nom l'indique, plusieurs éléments.\n",
    "\n",
    "On peut, pour tous ces ensembles obtenir le nombre d'éléments en utilisant la fonction native **len()** (comme *length*)"
   ]
  },
  {
   "cell_type": "markdown",
   "metadata": {},
   "source": [
    "# Tuples"
   ]
  },
  {
   "cell_type": "markdown",
   "metadata": {},
   "source": [
    "## Bases"
   ]
  },
  {
   "cell_type": "markdown",
   "metadata": {},
   "source": [
    "<div class=\"alert alert-block alert-success\">\n",
    "<b>Mot-clé : tuple</b>\n",
    "\n",
    "Un tuple est un ensemble d'éléments <b>ordonnés</b> (et potentiellement <b>répétés</b>). \n",
    "\n",
    "En français, on parle de <b>n-uplets</b>.\n",
    "</div>"
   ]
  },
  {
   "cell_type": "markdown",
   "metadata": {},
   "source": [
    "On le définit entre parenthèses :"
   ]
  },
  {
   "cell_type": "code",
   "execution_count": 1,
   "metadata": {
    "ExecuteTime": {
     "end_time": "2019-01-03T13:53:18.380347Z",
     "start_time": "2019-01-03T13:53:18.370375Z"
    }
   },
   "outputs": [
    {
     "data": {
      "text/plain": [
       "(4, 12, 1)"
      ]
     },
     "execution_count": 1,
     "metadata": {},
     "output_type": "execute_result"
    }
   ],
   "source": [
    "(4, 12, 1)"
   ]
  },
  {
   "cell_type": "code",
   "execution_count": 2,
   "metadata": {
    "ExecuteTime": {
     "end_time": "2019-01-03T13:53:20.415233Z",
     "start_time": "2019-01-03T13:53:20.409289Z"
    }
   },
   "outputs": [
    {
     "data": {
      "text/plain": [
       "tuple"
      ]
     },
     "execution_count": 2,
     "metadata": {},
     "output_type": "execute_result"
    }
   ],
   "source": [
    "type((4, 12, 1))"
   ]
  },
  {
   "cell_type": "markdown",
   "metadata": {},
   "source": [
    "Un tuple peut contenir des valeurs de types différents :"
   ]
  },
  {
   "cell_type": "code",
   "execution_count": 3,
   "metadata": {
    "ExecuteTime": {
     "end_time": "2019-01-03T13:53:23.783670Z",
     "start_time": "2019-01-03T13:53:23.777686Z"
    },
    "scrolled": true
   },
   "outputs": [
    {
     "data": {
      "text/plain": [
       "(1, 1.5, None, True)"
      ]
     },
     "execution_count": 3,
     "metadata": {},
     "output_type": "execute_result"
    }
   ],
   "source": [
    "(1, 1.5, None, True)"
   ]
  },
  {
   "cell_type": "markdown",
   "metadata": {},
   "source": [
    "Etant donné qu'un tuple (comme les autres types d'ensemble d'ailleurs) peuvent contenir des éléments de tous types, il est alors possible entre autres de mettre des tuples dans des tuples. Cela forme des **ensembles emboités**."
   ]
  },
  {
   "cell_type": "code",
   "execution_count": 27,
   "metadata": {
    "ExecuteTime": {
     "end_time": "2019-02-02T18:20:04.923579Z",
     "start_time": "2019-02-02T18:20:04.914627Z"
    }
   },
   "outputs": [],
   "source": [
    "localisation = ('Mail des mèches', (48.79, 2.45))"
   ]
  },
  {
   "cell_type": "markdown",
   "metadata": {},
   "source": [
    "On peut vérifier la présence d'un élément dans un tuple en utilisant l'opérateur **in** (ou son inverse **not in**)"
   ]
  },
  {
   "cell_type": "code",
   "execution_count": 5,
   "metadata": {
    "ExecuteTime": {
     "end_time": "2019-01-03T13:53:51.496791Z",
     "start_time": "2019-01-03T13:53:51.491803Z"
    }
   },
   "outputs": [
    {
     "data": {
      "text/plain": [
       "True"
      ]
     },
     "execution_count": 5,
     "metadata": {},
     "output_type": "execute_result"
    }
   ],
   "source": [
    "1 in (1, 1.5, None, True)"
   ]
  },
  {
   "cell_type": "markdown",
   "metadata": {},
   "source": [
    "Les opérateurs **__+__**, **\\***, **+=**, **\\*=** fonctionnent avec les tuples de la même manière qu'ils fonctionnent avec les chaines de caractères."
   ]
  },
  {
   "cell_type": "markdown",
   "metadata": {},
   "source": [
    "## Indiçage"
   ]
  },
  {
   "cell_type": "markdown",
   "metadata": {},
   "source": [
    "Soit un tuple :"
   ]
  },
  {
   "cell_type": "code",
   "execution_count": 6,
   "metadata": {
    "ExecuteTime": {
     "end_time": "2019-01-03T13:55:41.426524Z",
     "start_time": "2019-01-03T13:55:41.422535Z"
    }
   },
   "outputs": [],
   "source": [
    "mon_triplet = (1, 1.5, None, True)"
   ]
  },
  {
   "cell_type": "code",
   "execution_count": 7,
   "metadata": {
    "ExecuteTime": {
     "end_time": "2019-01-03T13:55:44.548534Z",
     "start_time": "2019-01-03T13:55:44.543550Z"
    }
   },
   "outputs": [
    {
     "data": {
      "text/plain": [
       "4"
      ]
     },
     "execution_count": 7,
     "metadata": {},
     "output_type": "execute_result"
    }
   ],
   "source": [
    "len(mon_triplet)"
   ]
  },
  {
   "cell_type": "markdown",
   "metadata": {},
   "source": [
    "Le fonctionnement de l'indiçage est exactement le même pour un tuple que pour une chaine de caractères"
   ]
  },
  {
   "cell_type": "code",
   "execution_count": 8,
   "metadata": {
    "ExecuteTime": {
     "end_time": "2019-01-03T13:55:52.136312Z",
     "start_time": "2019-01-03T13:55:52.131325Z"
    }
   },
   "outputs": [
    {
     "data": {
      "text/plain": [
       "1"
      ]
     },
     "execution_count": 8,
     "metadata": {},
     "output_type": "execute_result"
    }
   ],
   "source": [
    "mon_triplet[0]"
   ]
  },
  {
   "cell_type": "code",
   "execution_count": 9,
   "metadata": {
    "ExecuteTime": {
     "end_time": "2019-01-03T13:55:59.000544Z",
     "start_time": "2019-01-03T13:55:58.995562Z"
    }
   },
   "outputs": [
    {
     "data": {
      "text/plain": [
       "True"
      ]
     },
     "execution_count": 9,
     "metadata": {},
     "output_type": "execute_result"
    }
   ],
   "source": [
    "mon_triplet[-1]"
   ]
  },
  {
   "cell_type": "code",
   "execution_count": 10,
   "metadata": {
    "ExecuteTime": {
     "end_time": "2019-01-03T13:56:06.468399Z",
     "start_time": "2019-01-03T13:56:06.463411Z"
    }
   },
   "outputs": [
    {
     "data": {
      "text/plain": [
       "(1.5, None, True)"
      ]
     },
     "execution_count": 10,
     "metadata": {},
     "output_type": "execute_result"
    }
   ],
   "source": [
    "mon_triplet[1:]"
   ]
  },
  {
   "cell_type": "markdown",
   "metadata": {},
   "source": [
    "Lorsque des ensembles sont **emboités**, il faut utiliser un multi-indiçage de la manière suivante :"
   ]
  },
  {
   "cell_type": "code",
   "execution_count": 11,
   "metadata": {
    "ExecuteTime": {
     "end_time": "2019-01-03T13:57:18.629211Z",
     "start_time": "2019-01-03T13:57:18.624225Z"
    }
   },
   "outputs": [
    {
     "data": {
      "text/plain": [
       "(48.79, 2.45)"
      ]
     },
     "execution_count": 11,
     "metadata": {},
     "output_type": "execute_result"
    }
   ],
   "source": [
    "localisation[1]"
   ]
  },
  {
   "cell_type": "code",
   "execution_count": 12,
   "metadata": {
    "ExecuteTime": {
     "end_time": "2019-01-03T13:57:20.908938Z",
     "start_time": "2019-01-03T13:57:20.904911Z"
    }
   },
   "outputs": [
    {
     "data": {
      "text/plain": [
       "48.79"
      ]
     },
     "execution_count": 12,
     "metadata": {},
     "output_type": "execute_result"
    }
   ],
   "source": [
    "localisation[1][0]"
   ]
  },
  {
   "cell_type": "markdown",
   "metadata": {},
   "source": [
    "## Muabilité"
   ]
  },
  {
   "cell_type": "markdown",
   "metadata": {},
   "source": [
    "Un tuple est **immuable** : il est impossible d'ajouter ou enlever un élément. \n",
    "\n",
    "Lors de sa création, un N-uplet fixe définitivement sa taille. (5, 2, 3) est un triplet, il restera un triplet."
   ]
  },
  {
   "cell_type": "markdown",
   "metadata": {},
   "source": [
    "<div class=\"alert alert-block alert-info\"><b><i>Pour aller plus loin :</i></b> <a href= https://docs.python.org/3.3/library/stdtypes.html#tuple>Doc officielle Python sur les <b>tuples</b></a></div>"
   ]
  },
  {
   "cell_type": "markdown",
   "metadata": {},
   "source": [
    "---"
   ]
  },
  {
   "cell_type": "markdown",
   "metadata": {},
   "source": [
    "# Sets"
   ]
  },
  {
   "cell_type": "markdown",
   "metadata": {},
   "source": [
    "## Bases"
   ]
  },
  {
   "cell_type": "markdown",
   "metadata": {},
   "source": [
    "<div class=\"alert alert-block alert-success\">\n",
    "<b>Mot-clé : set</b>\n",
    "\n",
    "Ensemble d'éléments <b>sans ordre</b> et <b>sans répétition</b> (ensemble d'éléments uniques)."
   ]
  },
  {
   "cell_type": "markdown",
   "metadata": {},
   "source": [
    "Ils sont définis entre accolades :"
   ]
  },
  {
   "cell_type": "code",
   "execution_count": 13,
   "metadata": {
    "ExecuteTime": {
     "end_time": "2019-01-03T14:00:46.378282Z",
     "start_time": "2019-01-03T14:00:46.373339Z"
    }
   },
   "outputs": [
    {
     "data": {
      "text/plain": [
       "{1, 2, 3}"
      ]
     },
     "execution_count": 13,
     "metadata": {},
     "output_type": "execute_result"
    }
   ],
   "source": [
    "{1, 1, 2, 3}"
   ]
  },
  {
   "cell_type": "code",
   "execution_count": 14,
   "metadata": {
    "ExecuteTime": {
     "end_time": "2019-01-03T14:00:47.940246Z",
     "start_time": "2019-01-03T14:00:47.935260Z"
    }
   },
   "outputs": [
    {
     "data": {
      "text/plain": [
       "True"
      ]
     },
     "execution_count": 14,
     "metadata": {},
     "output_type": "execute_result"
    }
   ],
   "source": [
    "{1, 1, 2, 3} == {2, 1, 3}"
   ]
  },
  {
   "cell_type": "markdown",
   "metadata": {},
   "source": [
    "**Les éléments (uniques donc) sont toujours présentés ordonnés dans l'output**"
   ]
  },
  {
   "cell_type": "code",
   "execution_count": 15,
   "metadata": {
    "ExecuteTime": {
     "end_time": "2019-01-03T14:02:53.590730Z",
     "start_time": "2019-01-03T14:02:53.585743Z"
    }
   },
   "outputs": [
    {
     "data": {
      "text/plain": [
       "{1, 2, 3}"
      ]
     },
     "execution_count": 15,
     "metadata": {},
     "output_type": "execute_result"
    }
   ],
   "source": [
    "{2, 1, 3}"
   ]
  },
  {
   "cell_type": "markdown",
   "metadata": {},
   "source": [
    "Comme un tuple, un set peut être constitué d'éléments de **types différents**"
   ]
  },
  {
   "cell_type": "code",
   "execution_count": 16,
   "metadata": {
    "ExecuteTime": {
     "end_time": "2019-01-03T14:03:01.566497Z",
     "start_time": "2019-01-03T14:03:01.561510Z"
    }
   },
   "outputs": [
    {
     "data": {
      "text/plain": [
       "{False, 1.1, 3.8, 5, 12}"
      ]
     },
     "execution_count": 16,
     "metadata": {},
     "output_type": "execute_result"
    }
   ],
   "source": [
    "{False, 5, 1.1, 12, 3.8}"
   ]
  },
  {
   "cell_type": "markdown",
   "metadata": {},
   "source": [
    "**Les sets sont très utiles pour obtenir le sous-ensemble des éléments uniques d'un ensemble plus large**"
   ]
  },
  {
   "cell_type": "markdown",
   "metadata": {},
   "source": [
    "Depuis un tuple par exemple :"
   ]
  },
  {
   "cell_type": "code",
   "execution_count": 17,
   "metadata": {
    "ExecuteTime": {
     "end_time": "2019-01-03T14:03:15.456215Z",
     "start_time": "2019-01-03T14:03:15.451227Z"
    },
    "run_control": {
     "marked": false
    },
    "scrolled": true
   },
   "outputs": [
    {
     "data": {
      "text/plain": [
       "{1, 2, 3, 5, 6}"
      ]
     },
     "execution_count": 17,
     "metadata": {},
     "output_type": "execute_result"
    }
   ],
   "source": [
    "set((1, 1, 6, 2, 2, 3, 5, 3, 6))"
   ]
  },
  {
   "cell_type": "markdown",
   "metadata": {},
   "source": [
    "Ou depuis une chaine de caractères :"
   ]
  },
  {
   "cell_type": "code",
   "execution_count": 18,
   "metadata": {
    "ExecuteTime": {
     "end_time": "2019-01-03T14:03:22.119605Z",
     "start_time": "2019-01-03T14:03:22.114659Z"
    }
   },
   "outputs": [
    {
     "data": {
      "text/plain": [
       "{' ', 'a', 'c', 'd', 'e', 'h', 'i', 'n', 'r', 's', 't', 'è'}"
      ]
     },
     "execution_count": 18,
     "metadata": {},
     "output_type": "execute_result"
    }
   ],
   "source": [
    "set('chaine de caractères')"
   ]
  },
  {
   "cell_type": "markdown",
   "metadata": {},
   "source": [
    "On peut vérifier la présence d'un élément dans un set en utilisant l'opérateur **in** (ou son inverse **not in**)"
   ]
  },
  {
   "cell_type": "code",
   "execution_count": 19,
   "metadata": {
    "ExecuteTime": {
     "end_time": "2019-01-03T14:05:36.556647Z",
     "start_time": "2019-01-03T14:05:36.551661Z"
    }
   },
   "outputs": [
    {
     "data": {
      "text/plain": [
       "True"
      ]
     },
     "execution_count": 19,
     "metadata": {},
     "output_type": "execute_result"
    }
   ],
   "source": [
    "1 in {1, 2, 3, 5, 6}"
   ]
  },
  {
   "cell_type": "markdown",
   "metadata": {},
   "source": [
    "## Indiçage"
   ]
  },
  {
   "cell_type": "markdown",
   "metadata": {},
   "source": [
    "**On ne peut pas indicer un set** (accéder individuellement à ses éléments sur la base d'un indice), à l'inverse du tuple et de la chaine"
   ]
  },
  {
   "cell_type": "code",
   "execution_count": 1,
   "metadata": {
    "ExecuteTime": {
     "end_time": "2019-02-02T18:04:05.103728Z",
     "start_time": "2019-02-02T18:04:05.089260Z"
    }
   },
   "outputs": [],
   "source": [
    "mon_set = {False, 5, 1.1, 12, 3.8}"
   ]
  },
  {
   "cell_type": "code",
   "execution_count": 22,
   "metadata": {
    "ExecuteTime": {
     "end_time": "2019-01-03T14:06:01.219924Z",
     "start_time": "2019-01-03T14:06:01.212943Z"
    }
   },
   "outputs": [
    {
     "ename": "TypeError",
     "evalue": "'set' object does not support indexing",
     "output_type": "error",
     "traceback": [
      "\u001b[1;31m---------------------------------------------------------------------------\u001b[0m",
      "\u001b[1;31mTypeError\u001b[0m                                 Traceback (most recent call last)",
      "\u001b[1;32m<ipython-input-22-00b0c9de26d4>\u001b[0m in \u001b[0;36m<module>\u001b[1;34m\u001b[0m\n\u001b[1;32m----> 1\u001b[1;33m \u001b[0mmon_set\u001b[0m\u001b[1;33m[\u001b[0m\u001b[1;36m1\u001b[0m\u001b[1;33m]\u001b[0m\u001b[1;33m\u001b[0m\u001b[1;33m\u001b[0m\u001b[0m\n\u001b[0m",
      "\u001b[1;31mTypeError\u001b[0m: 'set' object does not support indexing"
     ]
    }
   ],
   "source": [
    "mon_set[1]"
   ]
  },
  {
   "cell_type": "markdown",
   "metadata": {},
   "source": [
    "## Muabilité et méthodes"
   ]
  },
  {
   "cell_type": "markdown",
   "metadata": {},
   "source": [
    "Contrairement à tous les types vus jusqu'à présent, un set est **muable**.\n",
    "\n",
    "Mais il existe pour des questions de convenance une version immuable du **set** : le **frozenset**"
   ]
  },
  {
   "cell_type": "markdown",
   "metadata": {},
   "source": [
    "<div class=\"alert alert-block alert-success\">\n",
    "<b>Nota Bene :</b> \n",
    "\n",
    "La propriété de **muabilité** des **set** fait que, contrairement aux chaines de caractères, les méthodes suivantes modifient directement le set auquel est appliqué la méthode, elles ne renvoient d'ailleurs rien comme résultat\n",
    "</div>"
   ]
  },
  {
   "cell_type": "markdown",
   "metadata": {},
   "source": [
    "On peut ajouter un élément comme ceci :"
   ]
  },
  {
   "cell_type": "code",
   "execution_count": 2,
   "metadata": {
    "ExecuteTime": {
     "end_time": "2019-02-02T18:04:14.662973Z",
     "start_time": "2019-02-02T18:04:14.652978Z"
    }
   },
   "outputs": [],
   "source": [
    "mon_set.add(4)"
   ]
  },
  {
   "cell_type": "code",
   "execution_count": 3,
   "metadata": {
    "ExecuteTime": {
     "end_time": "2019-02-02T18:04:15.822524Z",
     "start_time": "2019-02-02T18:04:15.802611Z"
    }
   },
   "outputs": [
    {
     "data": {
      "text/plain": [
       "{False, 1.1, 3.8, 4, 5, 12}"
      ]
     },
     "execution_count": 3,
     "metadata": {},
     "output_type": "execute_result"
    }
   ],
   "source": [
    "mon_set"
   ]
  },
  {
   "cell_type": "markdown",
   "metadata": {},
   "source": [
    "Et en enlever un comme cela :"
   ]
  },
  {
   "cell_type": "code",
   "execution_count": 4,
   "metadata": {
    "ExecuteTime": {
     "end_time": "2019-02-02T18:04:28.852921Z",
     "start_time": "2019-02-02T18:04:28.842872Z"
    }
   },
   "outputs": [],
   "source": [
    "mon_set.remove(3.8)"
   ]
  },
  {
   "cell_type": "code",
   "execution_count": 5,
   "metadata": {
    "ExecuteTime": {
     "end_time": "2019-02-02T18:04:30.032779Z",
     "start_time": "2019-02-02T18:04:30.022813Z"
    }
   },
   "outputs": [
    {
     "data": {
      "text/plain": [
       "{False, 1.1, 4, 5, 12}"
      ]
     },
     "execution_count": 5,
     "metadata": {},
     "output_type": "execute_result"
    }
   ],
   "source": [
    "mon_set"
   ]
  },
  {
   "cell_type": "markdown",
   "metadata": {},
   "source": [
    "<div class=\"alert alert-block alert-info\"><b><i>Pour aller plus loin :</i></b> <a href= https://docs.python.org/3.3/library/stdtypes.html#set>Doc officielle Python sur les <b>sets</b></a></div>"
   ]
  },
  {
   "cell_type": "markdown",
   "metadata": {},
   "source": [
    "---"
   ]
  },
  {
   "cell_type": "markdown",
   "metadata": {},
   "source": [
    "# Lists"
   ]
  },
  {
   "cell_type": "markdown",
   "metadata": {},
   "source": [
    "## Bases"
   ]
  },
  {
   "cell_type": "markdown",
   "metadata": {},
   "source": [
    "<div class=\"alert alert-block alert-success\">\n",
    "<b>Mot-clé : list</b>\n",
    "\n",
    "Il s'agit d'un ensemble de valeurs <b>ordonnées</b> (et potentiellement <b>répétées</b>)"
   ]
  },
  {
   "cell_type": "markdown",
   "metadata": {},
   "source": [
    "C'est l'un des types les plus utilisés en Python. Il se définit en utilisant des crochets **[]** :"
   ]
  },
  {
   "cell_type": "code",
   "execution_count": 24,
   "metadata": {
    "ExecuteTime": {
     "end_time": "2019-01-03T14:10:36.262711Z",
     "start_time": "2019-01-03T14:10:36.258683Z"
    }
   },
   "outputs": [
    {
     "data": {
      "text/plain": [
       "[1, 2, 3, 1]"
      ]
     },
     "execution_count": 24,
     "metadata": {},
     "output_type": "execute_result"
    }
   ],
   "source": [
    "[1, 2, 3, 1]"
   ]
  },
  {
   "cell_type": "code",
   "execution_count": 25,
   "metadata": {
    "ExecuteTime": {
     "end_time": "2019-01-03T14:10:40.068524Z",
     "start_time": "2019-01-03T14:10:40.062542Z"
    }
   },
   "outputs": [
    {
     "data": {
      "text/plain": [
       "False"
      ]
     },
     "execution_count": 25,
     "metadata": {},
     "output_type": "execute_result"
    }
   ],
   "source": [
    "[1, 2, 3, 1] == [2, 1, 3, 1]"
   ]
  },
  {
   "cell_type": "code",
   "execution_count": 26,
   "metadata": {
    "ExecuteTime": {
     "end_time": "2019-01-03T14:10:42.878979Z",
     "start_time": "2019-01-03T14:10:42.873991Z"
    },
    "scrolled": true
   },
   "outputs": [
    {
     "data": {
      "text/plain": [
       "4"
      ]
     },
     "execution_count": 26,
     "metadata": {},
     "output_type": "execute_result"
    }
   ],
   "source": [
    "len([1, 2, 3, 1])"
   ]
  },
  {
   "cell_type": "markdown",
   "metadata": {},
   "source": [
    "On peut vérifier la présence d'un élément dans une liste en utilisant l'opérateur **in** (ou son inverse **not in**)"
   ]
  },
  {
   "cell_type": "code",
   "execution_count": 27,
   "metadata": {
    "ExecuteTime": {
     "end_time": "2019-01-03T14:10:48.409492Z",
     "start_time": "2019-01-03T14:10:48.404508Z"
    }
   },
   "outputs": [
    {
     "data": {
      "text/plain": [
       "True"
      ]
     },
     "execution_count": 27,
     "metadata": {},
     "output_type": "execute_result"
    }
   ],
   "source": [
    "1 in [1, 2, 3, 1]"
   ]
  },
  {
   "cell_type": "markdown",
   "metadata": {},
   "source": [
    "Une liste vide s'écrit **[]**, elle est de **taille 0**"
   ]
  },
  {
   "cell_type": "code",
   "execution_count": 28,
   "metadata": {
    "ExecuteTime": {
     "end_time": "2019-01-03T14:10:52.343311Z",
     "start_time": "2019-01-03T14:10:52.338392Z"
    },
    "scrolled": true
   },
   "outputs": [
    {
     "data": {
      "text/plain": [
       "[]"
      ]
     },
     "execution_count": 28,
     "metadata": {},
     "output_type": "execute_result"
    }
   ],
   "source": [
    "[]"
   ]
  },
  {
   "cell_type": "markdown",
   "metadata": {},
   "source": [
    "Les opérateurs **__+__**, **\\***, **+=**, **\\*=** fonctionnent avec les lists de la même manière qu'ils fonctionnent avec les chaines de caractères."
   ]
  },
  {
   "cell_type": "markdown",
   "metadata": {},
   "source": [
    "## Indiçage"
   ]
  },
  {
   "cell_type": "markdown",
   "metadata": {},
   "source": [
    "Soit la liste suivante :"
   ]
  },
  {
   "cell_type": "code",
   "execution_count": 29,
   "metadata": {
    "ExecuteTime": {
     "end_time": "2019-01-03T14:10:56.191541Z",
     "start_time": "2019-01-03T14:10:56.186553Z"
    }
   },
   "outputs": [],
   "source": [
    "ma_liste = [4, 8, 19, 12, 35]"
   ]
  },
  {
   "cell_type": "markdown",
   "metadata": {},
   "source": [
    "Le fonctionnement de l'indiçage est exactement le même pour une liste que pour une string ou un tuple"
   ]
  },
  {
   "cell_type": "code",
   "execution_count": 30,
   "metadata": {
    "ExecuteTime": {
     "end_time": "2019-01-03T14:10:58.059561Z",
     "start_time": "2019-01-03T14:10:58.055532Z"
    }
   },
   "outputs": [
    {
     "data": {
      "text/plain": [
       "4"
      ]
     },
     "execution_count": 30,
     "metadata": {},
     "output_type": "execute_result"
    }
   ],
   "source": [
    "ma_liste[0]"
   ]
  },
  {
   "cell_type": "code",
   "execution_count": 31,
   "metadata": {
    "ExecuteTime": {
     "end_time": "2019-01-03T14:11:00.278901Z",
     "start_time": "2019-01-03T14:11:00.273916Z"
    }
   },
   "outputs": [
    {
     "data": {
      "text/plain": [
       "35"
      ]
     },
     "execution_count": 31,
     "metadata": {},
     "output_type": "execute_result"
    }
   ],
   "source": [
    "ma_liste[-1]"
   ]
  },
  {
   "cell_type": "code",
   "execution_count": 32,
   "metadata": {
    "ExecuteTime": {
     "end_time": "2019-01-03T14:11:04.094589Z",
     "start_time": "2019-01-03T14:11:04.089604Z"
    }
   },
   "outputs": [
    {
     "data": {
      "text/plain": [
       "[19, 12, 35]"
      ]
     },
     "execution_count": 32,
     "metadata": {},
     "output_type": "execute_result"
    }
   ],
   "source": [
    "ma_liste[2:]"
   ]
  },
  {
   "cell_type": "markdown",
   "metadata": {},
   "source": [
    "## Muabilité et méthodes"
   ]
  },
  {
   "cell_type": "markdown",
   "metadata": {},
   "source": [
    "Une **list** est un objet **muable**, comme les **sets**"
   ]
  },
  {
   "cell_type": "code",
   "execution_count": 33,
   "metadata": {
    "ExecuteTime": {
     "end_time": "2019-01-03T14:11:35.832030Z",
     "start_time": "2019-01-03T14:11:35.828042Z"
    }
   },
   "outputs": [],
   "source": [
    "ma_liste = [4, 8, 19, 12, 35, 19]"
   ]
  },
  {
   "cell_type": "markdown",
   "metadata": {},
   "source": [
    "<div class=\"alert alert-block alert-success\">\n",
    "<b>Nota Bene :</b> \n",
    "\n",
    "La propriété de **muabilité** des **list** fait que, contrairement aux chaines de caractères, les méthodes suivantes modifient directement la liste à laquelle est appliquée la méthode, elles ne renvoient d'ailleurs rien comme résultat\n",
    "</div>"
   ]
  },
  {
   "cell_type": "markdown",
   "metadata": {},
   "source": [
    "On peut **ajouter** un élément à la **fin de la liste** :"
   ]
  },
  {
   "cell_type": "code",
   "execution_count": 34,
   "metadata": {
    "ExecuteTime": {
     "end_time": "2019-01-03T14:11:48.207653Z",
     "start_time": "2019-01-03T14:11:48.203667Z"
    },
    "scrolled": true
   },
   "outputs": [
    {
     "data": {
      "text/plain": [
       "[4, 8, 19, 12, 35, 19, 2]"
      ]
     },
     "execution_count": 34,
     "metadata": {},
     "output_type": "execute_result"
    }
   ],
   "source": [
    "ma_liste.append(2)\n",
    "ma_liste"
   ]
  },
  {
   "cell_type": "markdown",
   "metadata": {},
   "source": [
    "On peut aussi réaliser cette opération avec l'opérateur **+=**"
   ]
  },
  {
   "cell_type": "code",
   "execution_count": 35,
   "metadata": {
    "ExecuteTime": {
     "end_time": "2019-01-03T14:12:01.997601Z",
     "start_time": "2019-01-03T14:12:01.991656Z"
    }
   },
   "outputs": [
    {
     "data": {
      "text/plain": [
       "[4, 8, 19, 12, 35, 19, 2, 2]"
      ]
     },
     "execution_count": 35,
     "metadata": {},
     "output_type": "execute_result"
    }
   ],
   "source": [
    "ma_liste += [2]\n",
    "ma_liste"
   ]
  },
  {
   "cell_type": "markdown",
   "metadata": {},
   "source": [
    "Ou en **retirer** un en utilisant sa **valeur**, comme pour les sets :"
   ]
  },
  {
   "cell_type": "code",
   "execution_count": 36,
   "metadata": {
    "ExecuteTime": {
     "end_time": "2019-01-03T14:12:25.325927Z",
     "start_time": "2019-01-03T14:12:25.319942Z"
    }
   },
   "outputs": [
    {
     "data": {
      "text/plain": [
       "[4, 8, 19, 12, 35, 19, 2]"
      ]
     },
     "execution_count": 36,
     "metadata": {},
     "output_type": "execute_result"
    }
   ],
   "source": [
    "ma_liste.remove(2)\n",
    "ma_liste"
   ]
  },
  {
   "cell_type": "markdown",
   "metadata": {},
   "source": [
    "Ou encore en **ajouter** un à une **position précise** (son indice) :"
   ]
  },
  {
   "cell_type": "code",
   "execution_count": 37,
   "metadata": {
    "ExecuteTime": {
     "end_time": "2019-01-03T14:12:30.754029Z",
     "start_time": "2019-01-03T14:12:30.748044Z"
    }
   },
   "outputs": [
    {
     "data": {
      "text/plain": [
       "[4, 8, 3, 19, 12, 35, 19, 2]"
      ]
     },
     "execution_count": 37,
     "metadata": {},
     "output_type": "execute_result"
    }
   ],
   "source": [
    "ma_liste.insert(2, 3)\n",
    "ma_liste"
   ]
  },
  {
   "cell_type": "markdown",
   "metadata": {},
   "source": [
    "Ou encore en **retirer** un en utilisant sa **position précise** (son indice) :"
   ]
  },
  {
   "cell_type": "code",
   "execution_count": 38,
   "metadata": {
    "ExecuteTime": {
     "end_time": "2019-01-03T14:12:33.509284Z",
     "start_time": "2019-01-03T14:12:33.504334Z"
    }
   },
   "outputs": [
    {
     "data": {
      "text/plain": [
       "[4, 8, 19, 12, 35, 19, 2]"
      ]
     },
     "execution_count": 38,
     "metadata": {},
     "output_type": "execute_result"
    }
   ],
   "source": [
    "ma_liste.pop(2)\n",
    "ma_liste"
   ]
  },
  {
   "cell_type": "markdown",
   "metadata": {},
   "source": [
    "## Autres méthodes importantes"
   ]
  },
  {
   "cell_type": "markdown",
   "metadata": {},
   "source": [
    "Obtenir l'indice d'un élément en utilisant sa valeur"
   ]
  },
  {
   "cell_type": "code",
   "execution_count": 39,
   "metadata": {
    "ExecuteTime": {
     "end_time": "2019-01-03T14:13:07.026752Z",
     "start_time": "2019-01-03T14:13:07.021766Z"
    }
   },
   "outputs": [
    {
     "data": {
      "text/plain": [
       "2"
      ]
     },
     "execution_count": 39,
     "metadata": {},
     "output_type": "execute_result"
    }
   ],
   "source": [
    "ma_liste.index(19)"
   ]
  },
  {
   "cell_type": "markdown",
   "metadata": {},
   "source": [
    "**NB :** la propriété de **muabilité** des listes font que les fonctions suivantes modifient la liste concernée"
   ]
  },
  {
   "cell_type": "markdown",
   "metadata": {},
   "source": [
    "Ou dénombrer les éléments d'une valeur donnée"
   ]
  },
  {
   "cell_type": "code",
   "execution_count": 40,
   "metadata": {
    "ExecuteTime": {
     "end_time": "2019-01-03T14:13:10.033022Z",
     "start_time": "2019-01-03T14:13:10.028037Z"
    }
   },
   "outputs": [
    {
     "data": {
      "text/plain": [
       "2"
      ]
     },
     "execution_count": 40,
     "metadata": {},
     "output_type": "execute_result"
    }
   ],
   "source": [
    "ma_liste.count(19)"
   ]
  },
  {
   "cell_type": "markdown",
   "metadata": {},
   "source": [
    "Trier la liste"
   ]
  },
  {
   "cell_type": "code",
   "execution_count": 41,
   "metadata": {
    "ExecuteTime": {
     "end_time": "2019-01-03T14:13:14.897655Z",
     "start_time": "2019-01-03T14:13:14.892669Z"
    }
   },
   "outputs": [
    {
     "data": {
      "text/plain": [
       "[2, 4, 8, 12, 19, 19, 35]"
      ]
     },
     "execution_count": 41,
     "metadata": {},
     "output_type": "execute_result"
    }
   ],
   "source": [
    "ma_liste.sort()\n",
    "ma_liste"
   ]
  },
  {
   "cell_type": "markdown",
   "metadata": {},
   "source": [
    "**Attention** : si les valeurs ne sont pas de même type, le tri peut aboutir à des résultats non désirés"
   ]
  },
  {
   "cell_type": "markdown",
   "metadata": {},
   "source": [
    "Inverser l'ordre des éléments"
   ]
  },
  {
   "cell_type": "code",
   "execution_count": 42,
   "metadata": {
    "ExecuteTime": {
     "end_time": "2019-01-03T14:13:32.033300Z",
     "start_time": "2019-01-03T14:13:32.028314Z"
    }
   },
   "outputs": [
    {
     "data": {
      "text/plain": [
       "[35, 19, 19, 12, 8, 4, 2]"
      ]
     },
     "execution_count": 42,
     "metadata": {},
     "output_type": "execute_result"
    }
   ],
   "source": [
    "ma_liste.reverse()\n",
    "ma_liste"
   ]
  },
  {
   "cell_type": "markdown",
   "metadata": {},
   "source": [
    "<div class=\"alert alert-block alert-info\"><b><i>Pour aller plus loin :</i></b> <a href= https://docs.python.org/3.3/library/stdtypes.html#list>Doc officielle Python sur les <b>lists</b></a></div>"
   ]
  },
  {
   "cell_type": "markdown",
   "metadata": {},
   "source": [
    "---"
   ]
  },
  {
   "cell_type": "markdown",
   "metadata": {},
   "source": [
    "# Dicts"
   ]
  },
  {
   "cell_type": "markdown",
   "metadata": {},
   "source": [
    "## Bases"
   ]
  },
  {
   "cell_type": "markdown",
   "metadata": {},
   "source": [
    "<div class=\"alert alert-block alert-success\">\n",
    "<b>Mot-clé : dict</b>\n",
    "\n",
    "Les dicts fonctionnent comme de véritables dictionnaires. Ils associent :\n",
    "- à un objet **unique** (comme une chaine de caractère), nommé **clé**, ou **entrée** (**key** en anglais), \n",
    "- un autre objet (par exemple une chaine de caractère, mais cela peut être n'importe quel type d'objet), nommé **valeur** (**value** en anglais)."
   ]
  },
  {
   "cell_type": "markdown",
   "metadata": {},
   "source": [
    "C'est l'un des types les plus utiles et utilisés en Python.\n",
    "\n",
    "Ces dictionnaires sont définis entre **accolades** avec utilisation de l'opérateur **:** (deux-points)"
   ]
  },
  {
   "cell_type": "code",
   "execution_count": 6,
   "metadata": {
    "ExecuteTime": {
     "end_time": "2019-02-02T18:09:16.203083Z",
     "start_time": "2019-02-02T18:09:16.192998Z"
    }
   },
   "outputs": [],
   "source": [
    "mon_dict = {'FR': 'France', 'DE': 'Allemagne'}"
   ]
  },
  {
   "cell_type": "markdown",
   "metadata": {},
   "source": [
    "Pour des raisons de clarté, on les présente souvent plutôt comme cela :"
   ]
  },
  {
   "cell_type": "code",
   "execution_count": 7,
   "metadata": {
    "ExecuteTime": {
     "end_time": "2019-02-02T18:09:17.983175Z",
     "start_time": "2019-02-02T18:09:17.952293Z"
    }
   },
   "outputs": [],
   "source": [
    "mon_dict = {\n",
    "    'FR': 'France',\n",
    "    'DE': 'Allemagne',\n",
    "}"
   ]
  },
  {
   "cell_type": "markdown",
   "metadata": {},
   "source": [
    "## Indiçage"
   ]
  },
  {
   "cell_type": "markdown",
   "metadata": {},
   "source": [
    "Comme pour les lists et tuples, on peut obtenir un élément donné en utilisant les crochets avec son **entrée**"
   ]
  },
  {
   "cell_type": "code",
   "execution_count": 8,
   "metadata": {
    "ExecuteTime": {
     "end_time": "2019-02-02T18:09:22.653166Z",
     "start_time": "2019-02-02T18:09:22.636538Z"
    }
   },
   "outputs": [
    {
     "data": {
      "text/plain": [
       "'France'"
      ]
     },
     "execution_count": 8,
     "metadata": {},
     "output_type": "execute_result"
    }
   ],
   "source": [
    "mon_dict['FR']"
   ]
  },
  {
   "cell_type": "markdown",
   "metadata": {},
   "source": [
    "Les **entrées** sont nécessairement **uniques**. \n",
    "\n",
    "Les **valeurs** qui leur sont associées ne le sont **pas nécessairement**."
   ]
  },
  {
   "cell_type": "code",
   "execution_count": 9,
   "metadata": {
    "ExecuteTime": {
     "end_time": "2019-02-02T18:09:38.082965Z",
     "start_time": "2019-02-02T18:09:38.076920Z"
    }
   },
   "outputs": [
    {
     "data": {
      "text/plain": [
       "{'FR': 'Espagne', 'DE': 'Allemagne'}"
      ]
     },
     "execution_count": 9,
     "metadata": {},
     "output_type": "execute_result"
    }
   ],
   "source": [
    "mon_dict = {\n",
    "    'FR': 'France',\n",
    "    'DE': 'Allemagne',\n",
    "    'FR': 'Espagne',\n",
    "}\n",
    "mon_dict"
   ]
  },
  {
   "cell_type": "code",
   "execution_count": 10,
   "metadata": {
    "ExecuteTime": {
     "end_time": "2019-02-02T18:09:49.773219Z",
     "start_time": "2019-02-02T18:09:49.743261Z"
    }
   },
   "outputs": [
    {
     "data": {
      "text/plain": [
       "{'FR': 'France', 'DE': 'France', 'ES': 'France'}"
      ]
     },
     "execution_count": 10,
     "metadata": {},
     "output_type": "execute_result"
    }
   ],
   "source": [
    "mon_dict = {\n",
    "    'FR': 'France',\n",
    "    'DE': 'France',\n",
    "    'ES': 'France',\n",
    "}\n",
    "mon_dict"
   ]
  },
  {
   "cell_type": "markdown",
   "metadata": {},
   "source": [
    "Mais les dictionnaires permettent d'associer à des chaines de caractère, **tout type d'objet** en tant que **valeur** :"
   ]
  },
  {
   "cell_type": "code",
   "execution_count": 11,
   "metadata": {
    "ExecuteTime": {
     "end_time": "2019-02-02T18:10:06.912993Z",
     "start_time": "2019-02-02T18:10:06.903217Z"
    }
   },
   "outputs": [],
   "source": [
    "mon_dict = {\n",
    "    'Jours': ['Lundi', 'Mardi', 'Mercredi', 'Jeudi', 'Vendredi', 'Samedi', 'Dimanche'] ,\n",
    "    'Nombre de jours par an': 365\n",
    "}"
   ]
  },
  {
   "cell_type": "code",
   "execution_count": 12,
   "metadata": {
    "ExecuteTime": {
     "end_time": "2019-02-02T18:10:09.483005Z",
     "start_time": "2019-02-02T18:10:09.473289Z"
    }
   },
   "outputs": [
    {
     "data": {
      "text/plain": [
       "['Lundi', 'Mardi', 'Mercredi', 'Jeudi', 'Vendredi', 'Samedi', 'Dimanche']"
      ]
     },
     "execution_count": 12,
     "metadata": {},
     "output_type": "execute_result"
    }
   ],
   "source": [
    "mon_dict['Jours']"
   ]
  },
  {
   "cell_type": "code",
   "execution_count": 13,
   "metadata": {
    "ExecuteTime": {
     "end_time": "2019-02-02T18:10:11.762787Z",
     "start_time": "2019-02-02T18:10:11.741634Z"
    }
   },
   "outputs": [
    {
     "data": {
      "text/plain": [
       "365"
      ]
     },
     "execution_count": 13,
     "metadata": {},
     "output_type": "execute_result"
    }
   ],
   "source": [
    "mon_dict['Nombre de jours par an']"
   ]
  },
  {
   "cell_type": "markdown",
   "metadata": {},
   "source": [
    "L'ensemble des entrées d'un dictionnaire se comporte donc comme un **set**, d'où l'utilisation des symboles d'**accolades** dans la définition d'un dictionnaire\n",
    "\n",
    "On peut vérifier la présence d'une **entrée** dans un dictionnaire en utilisant l'opérateur **in** (ou son inverse **not in**)"
   ]
  },
  {
   "cell_type": "code",
   "execution_count": 14,
   "metadata": {
    "ExecuteTime": {
     "end_time": "2019-02-02T18:10:26.963083Z",
     "start_time": "2019-02-02T18:10:26.953252Z"
    }
   },
   "outputs": [
    {
     "data": {
      "text/plain": [
       "True"
      ]
     },
     "execution_count": 14,
     "metadata": {},
     "output_type": "execute_result"
    }
   ],
   "source": [
    "'Jours' in mon_dict"
   ]
  },
  {
   "cell_type": "markdown",
   "metadata": {},
   "source": [
    "Un dictionnaire vide s'écrit **{}**, il est de longueur 0."
   ]
  },
  {
   "cell_type": "code",
   "execution_count": 15,
   "metadata": {
    "ExecuteTime": {
     "end_time": "2019-02-02T18:10:31.073105Z",
     "start_time": "2019-02-02T18:10:31.043067Z"
    },
    "scrolled": true
   },
   "outputs": [
    {
     "data": {
      "text/plain": [
       "{}"
      ]
     },
     "execution_count": 15,
     "metadata": {},
     "output_type": "execute_result"
    }
   ],
   "source": [
    "{}"
   ]
  },
  {
   "cell_type": "code",
   "execution_count": 16,
   "metadata": {
    "ExecuteTime": {
     "end_time": "2019-02-02T18:10:43.063310Z",
     "start_time": "2019-02-02T18:10:43.033362Z"
    }
   },
   "outputs": [
    {
     "data": {
      "text/plain": [
       "'Dimanche'"
      ]
     },
     "execution_count": 16,
     "metadata": {},
     "output_type": "execute_result"
    }
   ],
   "source": [
    "mon_dict['Jours'][-1]\n",
    "# Pour avoir le dernier mot de jour"
   ]
  },
  {
   "cell_type": "markdown",
   "metadata": {},
   "source": [
    "## Vues et sous-ensemble d'un dictionnaire"
   ]
  },
  {
   "cell_type": "markdown",
   "metadata": {},
   "source": [
    "Un dictionnaire est donc composé de l'ensemble de ses entrées (**keys** en anglais), qu'on peut obtenir ainsi :"
   ]
  },
  {
   "cell_type": "code",
   "execution_count": 17,
   "metadata": {
    "ExecuteTime": {
     "end_time": "2019-02-02T18:15:14.113103Z",
     "start_time": "2019-02-02T18:15:14.093172Z"
    }
   },
   "outputs": [
    {
     "data": {
      "text/plain": [
       "dict_keys(['Jours', 'Nombre de jours par an'])"
      ]
     },
     "execution_count": 17,
     "metadata": {},
     "output_type": "execute_result"
    }
   ],
   "source": [
    "mon_dict.keys()"
   ]
  },
  {
   "cell_type": "markdown",
   "metadata": {},
   "source": [
    "De l'ensemble de ses valeurs (**values** en anglais), qu'on peut obtenir ainsi :"
   ]
  },
  {
   "cell_type": "code",
   "execution_count": 18,
   "metadata": {
    "ExecuteTime": {
     "end_time": "2019-02-02T18:15:23.323429Z",
     "start_time": "2019-02-02T18:15:23.313376Z"
    }
   },
   "outputs": [
    {
     "data": {
      "text/plain": [
       "dict_values([['Lundi', 'Mardi', 'Mercredi', 'Jeudi', 'Vendredi', 'Samedi', 'Dimanche'], 365])"
      ]
     },
     "execution_count": 18,
     "metadata": {},
     "output_type": "execute_result"
    }
   ],
   "source": [
    "mon_dict.values()"
   ]
  },
  {
   "cell_type": "markdown",
   "metadata": {},
   "source": [
    "Et de l'ensemble des couples **(key, value)**, qu'on peut obtenir ainsi :"
   ]
  },
  {
   "cell_type": "code",
   "execution_count": 19,
   "metadata": {
    "ExecuteTime": {
     "end_time": "2019-02-02T18:15:50.793161Z",
     "start_time": "2019-02-02T18:15:50.773344Z"
    }
   },
   "outputs": [
    {
     "data": {
      "text/plain": [
       "dict_items([('Jours', ['Lundi', 'Mardi', 'Mercredi', 'Jeudi', 'Vendredi', 'Samedi', 'Dimanche']), ('Nombre de jours par an', 365)])"
      ]
     },
     "execution_count": 19,
     "metadata": {},
     "output_type": "execute_result"
    }
   ],
   "source": [
    "mon_dict.items()"
   ]
  },
  {
   "cell_type": "markdown",
   "metadata": {},
   "source": [
    "On peut convertir ces objets, dits **vues** en listes en utilisant la fonction **list()** :"
   ]
  },
  {
   "cell_type": "code",
   "execution_count": 20,
   "metadata": {
    "ExecuteTime": {
     "end_time": "2019-02-02T18:16:20.473519Z",
     "start_time": "2019-02-02T18:16:20.453574Z"
    }
   },
   "outputs": [
    {
     "data": {
      "text/plain": [
       "[('Jours',\n",
       "  ['Lundi', 'Mardi', 'Mercredi', 'Jeudi', 'Vendredi', 'Samedi', 'Dimanche']),\n",
       " ('Nombre de jours par an', 365)]"
      ]
     },
     "execution_count": 20,
     "metadata": {},
     "output_type": "execute_result"
    }
   ],
   "source": [
    "list(mon_dict.items())"
   ]
  },
  {
   "cell_type": "markdown",
   "metadata": {},
   "source": [
    "<div class=\"alert alert-block alert-info\"><b><i>Pour aller plus loin :</i></b> <a href= https://docs.python.org/3.3/library/stdtypes.html#dict-views>Doc officielle Python sur les <b>vues</b></a></div>"
   ]
  },
  {
   "cell_type": "markdown",
   "metadata": {},
   "source": [
    "## Muabilité"
   ]
  },
  {
   "cell_type": "markdown",
   "metadata": {},
   "source": [
    "Un dictionnaire est un objet **muable**.\n",
    "\n",
    "On peut ajouter une **entrée** simplement de la manière suivante :"
   ]
  },
  {
   "cell_type": "code",
   "execution_count": 21,
   "metadata": {
    "ExecuteTime": {
     "end_time": "2019-02-02T18:16:38.873336Z",
     "start_time": "2019-02-02T18:16:38.853577Z"
    }
   },
   "outputs": [
    {
     "data": {
      "text/plain": [
       "{'Jours': ['Lundi',\n",
       "  'Mardi',\n",
       "  'Mercredi',\n",
       "  'Jeudi',\n",
       "  'Vendredi',\n",
       "  'Samedi',\n",
       "  'Dimanche'],\n",
       " 'Nombre de jours par an': 365,\n",
       " 'IT': 'Italie'}"
      ]
     },
     "execution_count": 21,
     "metadata": {},
     "output_type": "execute_result"
    }
   ],
   "source": [
    "mon_dict['IT'] = 'Italie'\n",
    "mon_dict"
   ]
  },
  {
   "cell_type": "markdown",
   "metadata": {},
   "source": [
    "Et en supprimer une comme cela :"
   ]
  },
  {
   "cell_type": "code",
   "execution_count": 22,
   "metadata": {
    "ExecuteTime": {
     "end_time": "2019-02-02T18:16:44.393468Z",
     "start_time": "2019-02-02T18:16:44.383456Z"
    }
   },
   "outputs": [],
   "source": [
    "del mon_dict['IT']"
   ]
  },
  {
   "cell_type": "markdown",
   "metadata": {
    "run_control": {
     "marked": false
    }
   },
   "source": [
    "C'est la même opération que pour supprimer une variable...\n",
    "\n",
    "**Attention** d'ailleurs, **del mon_dict** supprimerait l'ensemble du dictionnaire pas uniquement une entrée"
   ]
  },
  {
   "cell_type": "markdown",
   "metadata": {},
   "source": [
    "## Fusion de deux dictionnaires"
   ]
  },
  {
   "cell_type": "markdown",
   "metadata": {},
   "source": [
    "On peut fusionner deux dictionnaires de la manière suivante :"
   ]
  },
  {
   "cell_type": "code",
   "execution_count": 23,
   "metadata": {
    "ExecuteTime": {
     "end_time": "2019-02-02T18:17:03.633643Z",
     "start_time": "2019-02-02T18:17:03.623643Z"
    }
   },
   "outputs": [],
   "source": [
    "mon_dict_1 = {\n",
    "    'FR': 'France',\n",
    "    'DE': 'Allemagne',\n",
    "}\n",
    "mon_dict_2 = {\n",
    "    'ES': 'Espagne',\n",
    "    'IT': 'Italie',\n",
    "    'FR': 'France métropolitaine'\n",
    "}"
   ]
  },
  {
   "cell_type": "code",
   "execution_count": 24,
   "metadata": {
    "ExecuteTime": {
     "end_time": "2019-02-02T18:17:07.303526Z",
     "start_time": "2019-02-02T18:17:07.293426Z"
    }
   },
   "outputs": [
    {
     "data": {
      "text/plain": [
       "{'FR': 'France métropolitaine',\n",
       " 'DE': 'Allemagne',\n",
       " 'ES': 'Espagne',\n",
       " 'IT': 'Italie'}"
      ]
     },
     "execution_count": 24,
     "metadata": {},
     "output_type": "execute_result"
    }
   ],
   "source": [
    "{**mon_dict_1, **mon_dict_2}"
   ]
  },
  {
   "cell_type": "markdown",
   "metadata": {},
   "source": [
    "Attention : s'il y a des entrées communes, **les entrées du deuxième dictionnaire remplaceront celles du premier**."
   ]
  },
  {
   "cell_type": "markdown",
   "metadata": {},
   "source": [
    "<div class=\"alert alert-block alert-info\"><b><i>Pour aller plus loin :</i></b> <a href= https://docs.python.org/3.3/library/stdtypes.html#dict>Doc officielle Python sur les <b>dicts</b></a></div>"
   ]
  },
  {
   "cell_type": "markdown",
   "metadata": {},
   "source": [
    "# Autres précisions sur les ensembles"
   ]
  },
  {
   "cell_type": "markdown",
   "metadata": {},
   "source": [
    "## Entrelacement"
   ]
  },
  {
   "cell_type": "markdown",
   "metadata": {},
   "source": [
    "On peut entrelacer deux (ou plusieurs) listes en créant une unique liste composée de tuples en utilisant la fonction native **zip** (fermeture éclair) de la manière suivante :"
   ]
  },
  {
   "cell_type": "code",
   "execution_count": 59,
   "metadata": {
    "ExecuteTime": {
     "end_time": "2019-01-03T14:28:46.642662Z",
     "start_time": "2019-01-03T14:28:46.637675Z"
    }
   },
   "outputs": [
    {
     "data": {
      "text/plain": [
       "[(1, 'a'), (2, 'b'), (3, 'c')]"
      ]
     },
     "execution_count": 59,
     "metadata": {},
     "output_type": "execute_result"
    }
   ],
   "source": [
    "list(zip([1, 2, 3], ['a', 'b', 'c']))"
   ]
  },
  {
   "cell_type": "markdown",
   "metadata": {},
   "source": [
    "## Unpacking"
   ]
  },
  {
   "cell_type": "markdown",
   "metadata": {},
   "source": [
    "On peut définir plusieurs variables à la fois à partir d'une **list** ou d'un **tuple** grâce à l'unpacking"
   ]
  },
  {
   "cell_type": "code",
   "execution_count": 60,
   "metadata": {
    "ExecuteTime": {
     "end_time": "2019-01-03T14:28:54.586489Z",
     "start_time": "2019-01-03T14:28:54.581502Z"
    }
   },
   "outputs": [
    {
     "data": {
      "text/plain": [
       "('Mail des mèches', (48.79, 2.45))"
      ]
     },
     "execution_count": 60,
     "metadata": {},
     "output_type": "execute_result"
    }
   ],
   "source": [
    "localisation"
   ]
  },
  {
   "cell_type": "code",
   "execution_count": 28,
   "metadata": {
    "ExecuteTime": {
     "end_time": "2019-02-02T18:20:11.513420Z",
     "start_time": "2019-02-02T18:20:11.503612Z"
    }
   },
   "outputs": [],
   "source": [
    "nom, coords = localisation\n",
    "# localisation est un tuple de 2 elements; si hacemos asi, nom va a tomar el valor del primer element et coords del segundo."
   ]
  },
  {
   "cell_type": "code",
   "execution_count": 29,
   "metadata": {
    "ExecuteTime": {
     "end_time": "2019-02-02T18:20:15.723637Z",
     "start_time": "2019-02-02T18:20:15.703752Z"
    }
   },
   "outputs": [
    {
     "data": {
      "text/plain": [
       "'Mail des mèches'"
      ]
     },
     "execution_count": 29,
     "metadata": {},
     "output_type": "execute_result"
    }
   ],
   "source": [
    "nom"
   ]
  },
  {
   "cell_type": "code",
   "execution_count": 30,
   "metadata": {
    "ExecuteTime": {
     "end_time": "2019-02-02T18:20:16.603458Z",
     "start_time": "2019-02-02T18:20:16.593328Z"
    }
   },
   "outputs": [
    {
     "data": {
      "text/plain": [
       "(48.79, 2.45)"
      ]
     },
     "execution_count": 30,
     "metadata": {},
     "output_type": "execute_result"
    }
   ],
   "source": [
    "coords"
   ]
  },
  {
   "cell_type": "code",
   "execution_count": 64,
   "metadata": {
    "ExecuteTime": {
     "end_time": "2019-01-03T14:29:07.941963Z",
     "start_time": "2019-01-03T14:29:07.937973Z"
    }
   },
   "outputs": [],
   "source": [
    "nom, (coord_x, coord_y) = localisation"
   ]
  },
  {
   "cell_type": "code",
   "execution_count": 65,
   "metadata": {
    "ExecuteTime": {
     "end_time": "2019-01-03T14:29:09.603979Z",
     "start_time": "2019-01-03T14:29:09.599026Z"
    }
   },
   "outputs": [
    {
     "data": {
      "text/plain": [
       "48.79"
      ]
     },
     "execution_count": 65,
     "metadata": {},
     "output_type": "execute_result"
    }
   ],
   "source": [
    "coord_x"
   ]
  },
  {
   "cell_type": "markdown",
   "metadata": {},
   "source": [
    "---"
   ]
  },
  {
   "cell_type": "markdown",
   "metadata": {
    "heading_collapsed": true
   },
   "source": [
    "# Synthèse des ensembles étudiés"
   ]
  },
  {
   "cell_type": "markdown",
   "metadata": {
    "hidden": true
   },
   "source": [
    "Type|str|tuple|set|list|dict\n",
    "---|---|---|---|---|---\n",
    "Muabilité|Non|Non|Oui|Oui|Oui\n",
    "Encadrement|'ab'|(a, b)|{a, b}|[a, b]|{k1: v1, k2: v2}\n",
    "Indiçage|Oui|Oui|Non|Oui|Oui\n",
    "Ensemble vide|''|()|set()|[]|{}\n",
    "Opérateurs|+ *|+ *|Non|+ *|Non"
   ]
  }
 ],
 "metadata": {
  "kernelspec": {
   "display_name": "Python 3",
   "language": "python",
   "name": "python3"
  },
  "language_info": {
   "codemirror_mode": {
    "name": "ipython",
    "version": 3
   },
   "file_extension": ".py",
   "mimetype": "text/x-python",
   "name": "python",
   "nbconvert_exporter": "python",
   "pygments_lexer": "ipython3",
   "version": "3.7.1"
  },
  "toc": {
   "base_numbering": 1,
   "nav_menu": {
    "height": "512px",
    "width": "252px"
   },
   "number_sections": true,
   "sideBar": true,
   "skip_h1_title": false,
   "title_cell": "Table of Contents",
   "title_sidebar": "Contents",
   "toc_cell": false,
   "toc_position": {
    "height": "660px",
    "left": "0px",
    "right": "1328px",
    "top": "107px",
    "width": "165px"
   },
   "toc_section_display": "block",
   "toc_window_display": true
  },
  "varInspector": {
   "cols": {
    "lenName": 16,
    "lenType": 16,
    "lenVar": 40
   },
   "kernels_config": {
    "python": {
     "delete_cmd_postfix": "",
     "delete_cmd_prefix": "del ",
     "library": "var_list.py",
     "varRefreshCmd": "print(var_dic_list())"
    },
    "r": {
     "delete_cmd_postfix": ") ",
     "delete_cmd_prefix": "rm(",
     "library": "var_list.r",
     "varRefreshCmd": "cat(var_dic_list()) "
    }
   },
   "oldHeight": 437.222222,
   "position": {
    "height": "40px",
    "left": "913.2px",
    "right": "20px",
    "top": "120px",
    "width": "350px"
   },
   "types_to_exclude": [
    "module",
    "function",
    "builtin_function_or_method",
    "instance",
    "_Feature"
   ],
   "varInspector_section_display": "none",
   "window_display": true
  }
 },
 "nbformat": 4,
 "nbformat_minor": 2
}

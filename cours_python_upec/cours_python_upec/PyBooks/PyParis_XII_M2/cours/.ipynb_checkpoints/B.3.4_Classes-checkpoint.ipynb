{
 "cells": [
  {
   "cell_type": "markdown",
   "metadata": {},
   "source": [
    "<br>\n",
    "<div align=\"right\">Enseignant : Aric Wizenberg</div>\n",
    "<div align=\"right\">E-mail : icarwiz@yahoo.fr</div>\n",
    "<div align=\"right\">Année : 2018/2019</div><br><br><br>\n",
    "<div align=\"center\"><span style=\"font-family:Lucida Caligraphy;font-size:32px;color:darkgreen\">Master 2 MASERATI - Cours de Python</span></div><br><br>\n",
    "<div align=\"center\"><span style=\"font-family:Lucida Caligraphy;font-size:24px;color:#e60000\">Classes et objets</span></div><br><br>\n",
    "<hr>"
   ]
  },
  {
   "cell_type": "markdown",
   "metadata": {},
   "source": [
    "# Bases de la programmation objet"
   ]
  },
  {
   "cell_type": "markdown",
   "metadata": {},
   "source": [
    "## Classe et objet"
   ]
  },
  {
   "cell_type": "markdown",
   "metadata": {},
   "source": [
    "Une **classe** est la représentation informatique d'une structure de données à laquelle est attachée un ensemble de fonctions s'y rapportant.\n",
    "\n",
    "Un **objet** est une instance d'une **classe**. Il peut donc y avoir un grand nombre d'objets d'une même classe... \n",
    "\n",
    "On pourrait par exemple établir une **classe** *Humain* permettant de caractériser informatiquement le fonctionnement d'un être humain. Les **objets** de cette classe représenteraient alors les différents individus déclarés comme étant de cette classe.\n",
    "\n",
    "Le concept de **classe** est similaire au concept de **type**. Le concept d'**objet** est similaire au concept de **variable**.\n",
    "\n",
    "Toutes les **classes** sont des **types** **muables**.\n",
    "\n",
    "Une fois définie notre classe (et exécution de la cellule contenant la définition), on peut créer des **objets** du type de cette classe"
   ]
  },
  {
   "cell_type": "code",
   "execution_count": null,
   "metadata": {},
   "outputs": [],
   "source": [
    "class Deplacement:\n",
    "    pass"
   ]
  },
  {
   "cell_type": "markdown",
   "metadata": {},
   "source": [
    "<div class=\"alert alert-block alert-success\">\n",
    "<b>Important :</b> \n",
    "\n",
    "le mot-clé réservé **pass** est une instruction permettant d'indiquer à Python de ne rien faire... \n",
    "\n",
    "Elle ne sert à rien en dehors d'éviter une erreur de syntaxe lorsque l'on pose le squelette de fonctions ou de classes.\n",
    "</div>"
   ]
  },
  {
   "cell_type": "code",
   "execution_count": null,
   "metadata": {},
   "outputs": [],
   "source": [
    "mon_deplacement = Deplacement()"
   ]
  },
  {
   "cell_type": "code",
   "execution_count": null,
   "metadata": {},
   "outputs": [],
   "source": [
    "type(mon_deplacement)"
   ]
  },
  {
   "cell_type": "markdown",
   "metadata": {},
   "source": [
    "L'intérêt d'une classe est d'associer en un seul objet:\n",
    "- des **fonctions** (aussi appelées **méthodes**)\n",
    "- des **variables internes** (aussi appelées **attributs**)\n",
    "\n",
    "**NB** : \n",
    "Par convention:\n",
    "- Les noms de classe s'écrivent avec des majuscules en débuts de mots, sans underscores, par exemple : *MaClassePerso*\n",
    "- Les noms d'objets (comme les noms de variables ou de fonctions) sont écrits en minuscule avec underscores, par exemple : *mon_objet*"
   ]
  },
  {
   "cell_type": "markdown",
   "metadata": {},
   "source": [
    "## Méthodes"
   ]
  },
  {
   "cell_type": "markdown",
   "metadata": {},
   "source": [
    "Un objet d'une classe donnée dispose de **méthodes**, c'est-à-dire de moyens d'actions, ce ne sont rien d'autre que de simples fonctions, définies dans la classe (attention à l'indentation) par le mot-clé **def**.\n",
    "\n",
    "Contrairement à une fonction classique une méthode a toujours au moins un paramètre, et le premier de ces paramètres est par convention désigné par **self**, il représente l'objet auquel s'applique l'action."
   ]
  },
  {
   "cell_type": "code",
   "execution_count": null,
   "metadata": {},
   "outputs": [],
   "source": [
    "class Deplacement:\n",
    "    def presentation(self, intro):\n",
    "        print(intro, self)"
   ]
  },
  {
   "cell_type": "code",
   "execution_count": null,
   "metadata": {},
   "outputs": [],
   "source": [
    "mon_deplacement = Deplacement()"
   ]
  },
  {
   "cell_type": "code",
   "execution_count": null,
   "metadata": {
    "scrolled": true
   },
   "outputs": [],
   "source": [
    "mon_deplacement.presentation('Mon déplacement est : ')"
   ]
  },
  {
   "cell_type": "markdown",
   "metadata": {},
   "source": [
    "Comme pour une fonction, si vous oubliez les parenthèses et paramètres lors de l'appel, il ne s'agit plus simplement du résultat de l'exécution de la méthode, mais de la méthode elle-même"
   ]
  },
  {
   "cell_type": "code",
   "execution_count": null,
   "metadata": {},
   "outputs": [],
   "source": [
    "mon_deplacement.presentation"
   ]
  },
  {
   "cell_type": "markdown",
   "metadata": {},
   "source": [
    "## Attributs d'une classe"
   ]
  },
  {
   "cell_type": "markdown",
   "metadata": {},
   "source": [
    "Les **attributs** d'une classe correspondent aux propriétés que vont avoir les objets de cette classe.\n",
    "\n",
    "S'ils n'ont pas besoin d'autre chose que d'une valeur par défaut, on les initialise dans le corps de la classe."
   ]
  },
  {
   "cell_type": "code",
   "execution_count": null,
   "metadata": {},
   "outputs": [],
   "source": [
    "class Deplacement:\n",
    "    origin = ''\n",
    "    destination = ''\n",
    "    duree = 0"
   ]
  },
  {
   "cell_type": "code",
   "execution_count": null,
   "metadata": {},
   "outputs": [],
   "source": [
    "mon_deplacement = Deplacement()"
   ]
  },
  {
   "cell_type": "code",
   "execution_count": null,
   "metadata": {},
   "outputs": [],
   "source": [
    "mon_deplacement.origin"
   ]
  },
  {
   "cell_type": "markdown",
   "metadata": {},
   "source": [
    "Si on veut paramétrer la définition de ces attributs, on les déclare et les initialise dans une méthode spéciale, commune à l'ensemble des classes, la méthode **\\_\\_init\\_\\_()**, aussi appelée le **constructeur** de la classe. \n",
    "\n",
    "Le constructeur est la méthode qui est appelée lorsque l'on crée l'objet à travers l'instruction : **mon_deplacement = Deplacement()**"
   ]
  },
  {
   "cell_type": "code",
   "execution_count": null,
   "metadata": {},
   "outputs": [],
   "source": [
    "class Deplacement:\n",
    "    duree = 0\n",
    "    \n",
    "    def __init__(self, origin, destination):\n",
    "        self.origin = origin\n",
    "        self.destination = destination        "
   ]
  },
  {
   "cell_type": "markdown",
   "metadata": {},
   "source": [
    "Les arguments doivent alors être passés lors de la construction :"
   ]
  },
  {
   "cell_type": "code",
   "execution_count": null,
   "metadata": {},
   "outputs": [],
   "source": [
    "mon_deplacement = Deplacement('Paris', 'Marseille')"
   ]
  },
  {
   "cell_type": "code",
   "execution_count": null,
   "metadata": {},
   "outputs": [],
   "source": [
    "mon_deplacement.origin"
   ]
  },
  {
   "cell_type": "markdown",
   "metadata": {
    "run_control": {
     "marked": false
    }
   },
   "source": [
    "<div class=\"alert alert-block alert-info\"><b>Pour aller plus loin :</b> <a href=https://docs.python.org/3/reference/datamodel.html#basic-customization> Doc officielle sur la <b>personnalisation des classes</b> </a></div>"
   ]
  },
  {
   "cell_type": "markdown",
   "metadata": {},
   "source": [
    "## Attributs et méthodes en action"
   ]
  },
  {
   "cell_type": "code",
   "execution_count": null,
   "metadata": {},
   "outputs": [],
   "source": [
    "import datetime as dt\n",
    "\n",
    "class Deplacement:\n",
    "    duree = 0\n",
    "    \n",
    "    def __init__(self, origin, destination, date_dep, date_arr):\n",
    "        self.origin = origin\n",
    "        self.destination = destination\n",
    "        self.date_dep = date_dep\n",
    "        self.date_arr = date_arr        \n",
    "\n",
    "    def dire_od(self):\n",
    "        return f'OD : {self.origin} - {self.destination}'\n",
    "        \n",
    "    def fixer_duree(self):\n",
    "        dep = dt.datetime.strptime(self.date_dep, '%Y-%m-%dT%H:%M:%S')\n",
    "        arr = dt.datetime.strptime(self.date_arr, '%Y-%m-%dT%H:%M:%S')\n",
    "        self.duree = (arr - dep).seconds\n",
    "    \n",
    "    def dire_duree(self):\n",
    "        self.fixer_duree()\n",
    "        return '{:.2f}'.format(self.duree/3600)"
   ]
  },
  {
   "cell_type": "code",
   "execution_count": null,
   "metadata": {},
   "outputs": [],
   "source": [
    "mon_deplacement = Deplacement('Paris', 'Marseille', '2016-03-15T15:30:00', '2016-03-15T22:05:00')"
   ]
  },
  {
   "cell_type": "code",
   "execution_count": null,
   "metadata": {},
   "outputs": [],
   "source": [
    "mon_deplacement.dire_od()"
   ]
  },
  {
   "cell_type": "code",
   "execution_count": null,
   "metadata": {},
   "outputs": [],
   "source": [
    "mon_deplacement.dire_duree()"
   ]
  },
  {
   "cell_type": "markdown",
   "metadata": {},
   "source": [
    "# Pour aller plus loin"
   ]
  },
  {
   "cell_type": "markdown",
   "metadata": {},
   "source": [
    "## Attributs privés ou publics"
   ]
  },
  {
   "cell_type": "markdown",
   "metadata": {},
   "source": [
    "Lorsqu'un attribut est fait pour n'être utilisé qu'à l'intérieur d'une classe (ce qui est généralement le cas), on le \"rend invisible\" en définissant son nom en ajoutant deux underscores (**\\_\\_**) avant son nom. "
   ]
  },
  {
   "cell_type": "code",
   "execution_count": null,
   "metadata": {},
   "outputs": [],
   "source": [
    "import datetime as dt\n",
    "\n",
    "class Deplacement:\n",
    "    __duree = 0\n",
    "    \n",
    "    def __init__(self, origin, destination, date_dep, date_arr):\n",
    "        # attributs publics\n",
    "        self.origin = origin\n",
    "        self.destination = destination\n",
    "        # attributs privés\n",
    "        self.__date_dep = date_dep\n",
    "        self.__date_arr = date_arr\n",
    "\n",
    "    def dire_od(self):\n",
    "        return f'OD : {self.origin} - {self.destination}'\n",
    "        \n",
    "    def fixer_duree(self):\n",
    "        dep = dt.datetime.strptime(self.__date_dep, '%Y-%m-%dT%H:%M:%S')\n",
    "        arr = dt.datetime.strptime(self.__date_arr, '%Y-%m-%dT%H:%M:%S')\n",
    "        self.__duree = (arr - dep).seconds\n",
    "    \n",
    "    def dire_duree(self):\n",
    "        self.fixer_duree()\n",
    "        return '{:.2f}'.format(self.__duree/3600)"
   ]
  },
  {
   "cell_type": "code",
   "execution_count": null,
   "metadata": {},
   "outputs": [],
   "source": [
    "mon_deplacement = Deplacement('Paris', 'Marseille', '2016-03-15T15:30:00', '2016-03-15T22:05:00')"
   ]
  },
  {
   "cell_type": "code",
   "execution_count": null,
   "metadata": {},
   "outputs": [],
   "source": [
    "mon_deplacement.origin"
   ]
  },
  {
   "cell_type": "code",
   "execution_count": null,
   "metadata": {},
   "outputs": [],
   "source": [
    "mon_deplacement.__date_dep"
   ]
  },
  {
   "cell_type": "markdown",
   "metadata": {},
   "source": [
    "## Autres méthodes spéciales des classes"
   ]
  },
  {
   "cell_type": "markdown",
   "metadata": {},
   "source": [
    "Il existe plusieurs autres méthodes partagées par toutes les classes (à l'image d'**\\_\\_init\\_\\_**).\n",
    "\n",
    "Par exemple **\\_\\_str\\_\\_** qui permet de définir ce qu'il se passe lorsqu'on \"convertit\" un objet en **str**"
   ]
  },
  {
   "cell_type": "code",
   "execution_count": null,
   "metadata": {},
   "outputs": [],
   "source": [
    "import datetime as dt\n",
    "\n",
    "class Deplacement:\n",
    "    def __init__(self, origin, destination, date_dep, date_arr):\n",
    "        # attributs publics\n",
    "        self.origin = origin\n",
    "        self.destination = destination\n",
    "        # attributs privés\n",
    "        self.__date_dep = date_dep\n",
    "        self.__date_arr = date_arr\n",
    "        self.__duree = 0\n",
    "\n",
    "    def __str__(self):\n",
    "        return f'OD : {self.origin} - {self.destination}'\n",
    "        \n",
    "    def fixer_duree(self):\n",
    "        dep = dt.datetime.strptime(self.__date_dep, '%Y-%m-%dT%H:%M:%S')\n",
    "        arr = dt.datetime.strptime(self.__date_arr, '%Y-%m-%dT%H:%M:%S')\n",
    "        self.__duree = (arr - dep).seconds\n",
    "    \n",
    "    def dire_duree(self):\n",
    "        self.fixer_duree()\n",
    "        return '{:.2f}'.format(self.__duree/3600)"
   ]
  },
  {
   "cell_type": "code",
   "execution_count": null,
   "metadata": {},
   "outputs": [],
   "source": [
    "mon_deplacement = Deplacement('Paris', 'Marseille', '2016-03-15T15:30:00', '2016-03-15T22:05:00')"
   ]
  },
  {
   "cell_type": "code",
   "execution_count": null,
   "metadata": {},
   "outputs": [],
   "source": [
    "str(mon_deplacement)"
   ]
  },
  {
   "cell_type": "markdown",
   "metadata": {},
   "source": [
    "Il y en a un certain nombre d'autres...\n",
    "\n",
    "Dont celles permettant de redéfinir le comportement des opérateurs (la **surcharge d'opérateur**), c'est à dire définir ce qu'il se passe lorsque deplacement_1 et deplacement_2 sont définis comme étant des **Deplacement**, et qu'on essaye de les additionner (ou multiplier, ou comparer, etc.) ?"
   ]
  },
  {
   "cell_type": "markdown",
   "metadata": {},
   "source": [
    "<div class=\"alert alert-block alert-info\"><b>Pour aller plus loin :</b> <a href=https://docs.python.org/3/reference/datamodel.html#special-method-names> Doc officielle sur les <b>méthodes spéciales de classes</b></a></div>"
   ]
  },
  {
   "cell_type": "markdown",
   "metadata": {},
   "source": [
    "## Information sur un objet"
   ]
  },
  {
   "cell_type": "markdown",
   "metadata": {},
   "source": [
    "Comme pour les fonctions, on peut utiliser les docstrings pour documenter les classes et méthodes."
   ]
  },
  {
   "cell_type": "code",
   "execution_count": null,
   "metadata": {},
   "outputs": [],
   "source": [
    "import datetime as dt\n",
    "\n",
    "class Deplacement:\n",
    "    '''\n",
    "    Objet représentant un déplacement\n",
    "    '''\n",
    "    \n",
    "    __duree = 0\n",
    "    \n",
    "    def __init__(self, origin, destination, date_dep, date_arr):\n",
    "        '''\n",
    "        Constructeur\n",
    "\n",
    "        :param origin: nom d'origine du lieu (str)\n",
    "        :param destination: nom de destination du déplacement (str)\n",
    "        :param date_dep: date de départ (str, au format 2016-03-15T22:05:00)\n",
    "        :param date_arr: date d'arrivée (str, au format 2016-03-15T22:05:00)\n",
    "        '''\n",
    "        # attributs publics\n",
    "        self.origin = origin\n",
    "        self.destination = destination\n",
    "        # attributs privés\n",
    "        self.__date_dep = date_dep\n",
    "        self.__date_arr = date_arr\n",
    "\n",
    "    def __str__(self):\n",
    "        return f'OD : {self.origin} - {self.destination}'\n",
    "        \n",
    "    def fixer_duree(self):\n",
    "        dep = dt.datetime.strptime(self.__date_dep, '%Y-%m-%dT%H:%M:%S')\n",
    "        arr = dt.datetime.strptime(self.__date_arr, '%Y-%m-%dT%H:%M:%S')\n",
    "        self.__duree = (arr - dep).seconds\n",
    "    \n",
    "    def dire_duree(self):\n",
    "        self.fixer_duree()\n",
    "        return '{:.2f}'.format(self.__duree/3600)"
   ]
  },
  {
   "cell_type": "code",
   "execution_count": null,
   "metadata": {},
   "outputs": [],
   "source": [
    "mon_deplacement = Deplacement('Paris', 'Marseille', '2016-03-15T15:30:00', '2016-03-15T22:05:00')"
   ]
  },
  {
   "cell_type": "markdown",
   "metadata": {},
   "source": [
    "Il existe une fonction qui permet d'obtenir l'ensemble des **méthodes** et **attributs** d'une **classe** ou d'un **objet**, la fonction native **dir()**"
   ]
  },
  {
   "cell_type": "code",
   "execution_count": null,
   "metadata": {},
   "outputs": [],
   "source": [
    "dir(mon_deplacement)"
   ]
  },
  {
   "cell_type": "markdown",
   "metadata": {},
   "source": [
    "On peut aussi utiliser la fonction native **vars()** qui elle ne renvoie que les attributs"
   ]
  },
  {
   "cell_type": "code",
   "execution_count": null,
   "metadata": {},
   "outputs": [],
   "source": [
    "vars(mon_deplacement)"
   ]
  },
  {
   "cell_type": "markdown",
   "metadata": {},
   "source": [
    "Enfin, on peut obtenir la définition d'une classe en utilisant la fonction native **help()**"
   ]
  },
  {
   "cell_type": "code",
   "execution_count": null,
   "metadata": {},
   "outputs": [],
   "source": [
    "help(mon_deplacement)"
   ]
  },
  {
   "cell_type": "markdown",
   "metadata": {},
   "source": [
    "Vous connaissez déjà un certain nombre de \"classes\" en réalité... Tous les types étudiés précédemment (**list**, **set**, **range**, **str**) fonctionnent de manière analogues aux classes, dont vous avez déjà utilisés plusieurs méthodes : \n",
    "\n",
    "Par exemple **append()** est une méthode de la classe **list**"
   ]
  },
  {
   "cell_type": "markdown",
   "metadata": {},
   "source": [
    "## Methode de classes et méthode statiques"
   ]
  },
  {
   "cell_type": "markdown",
   "metadata": {},
   "source": [
    "Par défaut, les méthodes qui ont été définies jusqu'ici sont des **méthodes d'instance**, elles ont vocation à être exécutées depuis un objet. Mais il existe deux autre types de méthodes."
   ]
  },
  {
   "cell_type": "markdown",
   "metadata": {},
   "source": [
    "### Méthodes de classes"
   ]
  },
  {
   "cell_type": "markdown",
   "metadata": {},
   "source": [
    "Les méthodes de classe sont des méthodes qui s'exécutent depuis la classe elle-même, par exemple, si l'on veut faire une méthode qui génère plusieurs objets (à partir d'une base de données par exemple). Le premier argument de cette méthode est alors généralement nommé ***cls***, même si ce n'est pas obligatoire, de la même manière que ***self***, qu'il remplace d'ailleurs"
   ]
  },
  {
   "cell_type": "code",
   "execution_count": null,
   "metadata": {},
   "outputs": [],
   "source": [
    "\n",
    "import datetime as dt\n",
    "\n",
    "class Deplacement:\n",
    "    '''\n",
    "    Objet représentant un déplacement\n",
    "    '''\n",
    "    \n",
    "    __duree = 0\n",
    "    \n",
    "    def __init__(self, origin, destination, date_dep, date_arr):\n",
    "        '''\n",
    "        Constructeur\n",
    "\n",
    "        :param origin: nom d'origine du lieu (str)\n",
    "        :param destination: nom de destination du déplacement (str)\n",
    "        :param date_dep: date de départ (str, au format 2016-03-15T22:05:00)\n",
    "        :param date_arr: date d'arrivée (str, au format 2016-03-15T22:05:00)\n",
    "        '''\n",
    "        # attributs publics\n",
    "        self.origin = origin\n",
    "        self.destination = destination\n",
    "        # attributs privés\n",
    "        self.__date_dep = date_dep\n",
    "        self.__date_arr = date_arr\n",
    "\n",
    "    def __str__(self):\n",
    "        return f'OD : {self.origin} - {self.destination}'\n",
    "        \n",
    "    def fixer_duree(self):\n",
    "        dep = dt.datetime.strptime(self.__date_dep, '%Y-%m-%dT%H:%M:%S')\n",
    "        arr = dt.datetime.strptime(self.__date_arr, '%Y-%m-%dT%H:%M:%S')\n",
    "        self.__duree = (arr - dep).seconds\n",
    "    \n",
    "    def dire_duree(self):\n",
    "        self.fixer_duree()\n",
    "        return '{:.2f}'.format(self.__duree/3600)\n",
    "    \n",
    "    @classmethod\n",
    "    def creer_depuis_liste(cls, data):\n",
    "        res = []\n",
    "        \n",
    "        for line in data:\n",
    "            splitline = line.split(';')\n",
    "            res.append(cls(splitline[3], splitline[4], splitline[6], splitline[7]))\n",
    "            \n",
    "        return res"
   ]
  },
  {
   "cell_type": "code",
   "execution_count": null,
   "metadata": {},
   "outputs": [],
   "source": [
    "DB_VOLS = [\n",
    "    '7;88;15/01/2016 10:12:58;TLS;NTE;HOP!-HOP!;2016-03-15T15:30:00;2016-03-15T22:05:00;6,583333333333333;aller simple;101;1 escale;3h 50min à LIL',\n",
    "    '7;89;15/01/2016 10:12:58;TLS;NTE;HOP!-HOP!;2016-03-15T13:30:00;2016-03-15T20:05:00;6,583333333333333;aller simple;102;1 escale;4h 25min à LYS',\n",
    "    '7;90;15/01/2016 10:12:58;TLS;NTE;HOP!-HOP!;2016-03-15T13:30:00;2016-03-15T21:10:00;7,666666666666667;aller simple;102;1 escale;5h 30min à LYS',\n",
    "    '7;91;15/01/2016 10:12:58;TLS;NTE;HOP!-HOP!;2016-03-15T20:50:00;2016-03-16T16:15:00;19,416666666666668;aller simple;103;1 escale;16h 35min à SXB',\n",
    "    '7;92;15/01/2016 10:12:58;TLS;NTE;HOP!-HOP!;2016-03-15T09:20:00;2016-03-15T16:15:00;6,916666666666667;aller simple;103;1 escale;4h 05min à SXB',\n",
    "]"
   ]
  },
  {
   "cell_type": "code",
   "execution_count": null,
   "metadata": {},
   "outputs": [],
   "source": [
    "Deplacement.creer_depuis_liste(DB_VOLS)"
   ]
  },
  {
   "cell_type": "markdown",
   "metadata": {},
   "source": [
    "<div class=\"alert alert-block alert-info\"><b>Pour aller plus loin : </b> <a href=https://docs.python.org/3/library/functions.html#classmethod> Doc officielle sur les <b>méthodes de classe</b> </a></div>"
   ]
  },
  {
   "cell_type": "markdown",
   "metadata": {},
   "source": [
    "### Méthodes statiques"
   ]
  },
  {
   "cell_type": "markdown",
   "metadata": {},
   "source": [
    "Les méthodes statiques sont des méthodes qui s'exécutent depuis la classe elle-même. On les utilise lorsque l'on veut faire une méthode qui a un rapport avec cette classe mais qui en réalité pourrait très bien être définie indépendamment.\n",
    "\n",
    "Ces méthodes sont les seules qui n'ont pas de premier argument obligatoire (car elles ne se réfèrent ni à la classe ni à des instances de cette classe.\n",
    "\n",
    "Par exemple, si l'on créé une classe qui a pour objectif de faire un objet en utilisant les infos d'une ligne d'une base de données externe, on pourrait faire une méthode statique qui donneraient le nombre d'éléments dans cette base de données."
   ]
  },
  {
   "cell_type": "code",
   "execution_count": null,
   "metadata": {},
   "outputs": [],
   "source": [
    "import datetime as dt\n",
    "\n",
    "NOM_FICHIER = '../data/Googleflights.csv'\n",
    "\n",
    "class Deplacement:\n",
    "    '''\n",
    "    Objet représentant un déplacement\n",
    "    '''\n",
    "    \n",
    "    __duree = 0\n",
    "    \n",
    "    def __init__(self, origin, destination, date_dep, date_arr):\n",
    "        '''\n",
    "        Constructeur\n",
    "\n",
    "        :param origin: nom d'origine du lieu (str)\n",
    "        :param destination: nom de destination du déplacement (str)\n",
    "        :param date_dep: date de départ (str, au format 2016-03-15T22:05:00)\n",
    "        :param date_arr: date d'arrivée (str, au format 2016-03-15T22:05:00)\n",
    "        '''\n",
    "        # attributs publics\n",
    "        self.origin = origin\n",
    "        self.destination = destination\n",
    "        # attributs privés\n",
    "        self.__date_dep = date_dep\n",
    "        self.__date_arr = date_arr\n",
    "\n",
    "    def __str__(self):\n",
    "        return f'OD : {self.origin} - {self.destination}'\n",
    "        \n",
    "    def fixer_duree(self):\n",
    "        dep = dt.datetime.strptime(self.__date_dep, '%Y-%m-%dT%H:%M:%S')\n",
    "        arr = dt.datetime.strptime(self.__date_arr, '%Y-%m-%dT%H:%M:%S')\n",
    "        self.__duree = (arr - dep).seconds\n",
    "    \n",
    "    def dire_duree(self):\n",
    "        self.fixer_duree()\n",
    "        return '{:.2f}'.format(self.__duree/3600)\n",
    "    \n",
    "    @classmethod\n",
    "    def creer_depuis_liste(cls):\n",
    "        res = []\n",
    "\n",
    "        data = Deplacement.recuperer_contenu_db()\n",
    "        \n",
    "        for line in data:\n",
    "            splitline = line.split(';')\n",
    "            res.append(cls(splitline[3], splitline[4], splitline[6], splitline[7]))\n",
    "            \n",
    "        return res\n",
    "    \n",
    "    @staticmethod\n",
    "    def recuperer_contenu_db():        \n",
    "        with open(NOM_FICHIER, encoding='utf-8') as srcfile:\n",
    "            srcfile.readline()\n",
    "            data = srcfile.read().splitlines()\n",
    "        return data"
   ]
  },
  {
   "cell_type": "code",
   "execution_count": null,
   "metadata": {},
   "outputs": [],
   "source": [
    "Deplacement.recuperer_contenu_db()[:3]"
   ]
  },
  {
   "cell_type": "code",
   "execution_count": null,
   "metadata": {},
   "outputs": [],
   "source": [
    "Deplacement.creer_depuis_liste()[:3]"
   ]
  },
  {
   "cell_type": "markdown",
   "metadata": {},
   "source": [
    "<div class=\"alert alert-block alert-info\"><b>Pour aller plus loin : </b> <a href=https://docs.python.org/3/library/functions.html#staticmethod> Doc officielle sur les <b>méthodes statiques</b> </a></div>"
   ]
  },
  {
   "cell_type": "markdown",
   "metadata": {},
   "source": [
    "# L’héritage"
   ]
  },
  {
   "cell_type": "markdown",
   "metadata": {},
   "source": [
    "Une classe (dite **classe fille**) peut être créée comme étant une version modifiée d'une autre **classe** (voire même de plusieurs, dites **classe(s) mère(s)**) et ainsi récupérer ses méthodes et attributs, tout en pouvant créer avoir ses méthodes et attributs propres.\n",
    "\n",
    "La classe fille peut même **remplacer** (on dit **surcharger**) certaines des méthodes dont elle a hérité, c'est le concept de polymorphisme."
   ]
  },
  {
   "cell_type": "code",
   "execution_count": null,
   "metadata": {
    "code_folding": []
   },
   "outputs": [],
   "source": [
    "# classe utilisant un héritage\n",
    "class DepAvion(Deplacement):\n",
    "    def __init__(self, origin, destination, date_dep, date_arr, company):\n",
    "        # optionnel : exécution de la méthode d'initialisation de la classe mère en utilisant la fonction super()\n",
    "        super().__init__(origin, destination, date_dep, date_arr)\n",
    "        self.company = company\n",
    "    \n",
    "    # méthode surchargée\n",
    "    def __str__(self):\n",
    "        return f'OD : {self.origin} - {self.destination} par {self.company}'\n",
    "    \n",
    "    # méthode propre\n",
    "    def dire_compagnie(self):\n",
    "        return self.company"
   ]
  },
  {
   "cell_type": "code",
   "execution_count": null,
   "metadata": {},
   "outputs": [],
   "source": [
    "mon_deplacement_en_avion = DepAvion('Paris', 'Marseille', '2016-03-15T15:30:00', '2016-03-15T22:05:00', 'Air France')"
   ]
  },
  {
   "cell_type": "code",
   "execution_count": null,
   "metadata": {},
   "outputs": [],
   "source": [
    "mon_deplacement = Deplacement('Paris', 'Marseille', '2016-03-15T15:30:00', '2016-03-15T22:05:00')"
   ]
  },
  {
   "cell_type": "code",
   "execution_count": null,
   "metadata": {},
   "outputs": [],
   "source": [
    "type(mon_deplacement_en_avion)"
   ]
  },
  {
   "cell_type": "code",
   "execution_count": null,
   "metadata": {},
   "outputs": [],
   "source": [
    "type(mon_deplacement)"
   ]
  },
  {
   "cell_type": "markdown",
   "metadata": {},
   "source": [
    "L'objet de la classe fille n'a plus le même comportement que l'objet de la classe mère..."
   ]
  },
  {
   "cell_type": "code",
   "execution_count": null,
   "metadata": {},
   "outputs": [],
   "source": [
    "str(mon_deplacement_en_avion)"
   ]
  },
  {
   "cell_type": "code",
   "execution_count": null,
   "metadata": {},
   "outputs": [],
   "source": [
    "str(mon_deplacement)"
   ]
  },
  {
   "cell_type": "markdown",
   "metadata": {},
   "source": [
    "Et l'objet de la classe fille, contrairement à l'objet de classe mère, a de nouvelles méthodes"
   ]
  },
  {
   "cell_type": "code",
   "execution_count": null,
   "metadata": {},
   "outputs": [],
   "source": [
    "mon_deplacement_en_avion.dire_compagnie()"
   ]
  },
  {
   "cell_type": "markdown",
   "metadata": {
    "run_control": {
     "marked": false
    }
   },
   "source": [
    "<div class=\"alert alert-block alert-info\"><b>Pour aller plus loin : </b> <a href=https://docs.python.org/3/tutorial/classes.html#inheritance> Doc officielle sur <b>l'héritage</b></a></div>"
   ]
  },
  {
   "cell_type": "code",
   "execution_count": null,
   "metadata": {},
   "outputs": [],
   "source": []
  }
 ],
 "metadata": {
  "kernelspec": {
   "display_name": "Python 3",
   "language": "python",
   "name": "python3"
  },
  "language_info": {
   "codemirror_mode": {
    "name": "ipython",
    "version": 3
   },
   "file_extension": ".py",
   "mimetype": "text/x-python",
   "name": "python",
   "nbconvert_exporter": "python",
   "pygments_lexer": "ipython3",
   "version": "3.7.1"
  },
  "toc": {
   "base_numbering": 1,
   "nav_menu": {
    "height": "512px",
    "width": "252px"
   },
   "number_sections": true,
   "sideBar": true,
   "skip_h1_title": false,
   "title_cell": "Table of Contents",
   "title_sidebar": "Contents",
   "toc_cell": false,
   "toc_position": {
    "height": "660px",
    "left": "0px",
    "right": "1328px",
    "top": "107px",
    "width": "185.994px"
   },
   "toc_section_display": "block",
   "toc_window_display": true
  },
  "varInspector": {
   "cols": {
    "lenName": 16,
    "lenType": 16,
    "lenVar": 40
   },
   "kernels_config": {
    "python": {
     "delete_cmd_postfix": "",
     "delete_cmd_prefix": "del ",
     "library": "var_list.py",
     "varRefreshCmd": "print(var_dic_list())"
    },
    "r": {
     "delete_cmd_postfix": ") ",
     "delete_cmd_prefix": "rm(",
     "library": "var_list.r",
     "varRefreshCmd": "cat(var_dic_list()) "
    }
   },
   "position": {
    "height": "144px",
    "left": "913.2px",
    "right": "20px",
    "top": "116px",
    "width": "350px"
   },
   "types_to_exclude": [
    "module",
    "function",
    "builtin_function_or_method",
    "instance",
    "_Feature"
   ],
   "window_display": false
  }
 },
 "nbformat": 4,
 "nbformat_minor": 2
}

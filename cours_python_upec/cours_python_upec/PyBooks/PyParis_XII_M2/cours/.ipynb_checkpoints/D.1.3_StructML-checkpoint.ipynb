{
 "cells": [
  {
   "cell_type": "markdown",
   "metadata": {},
   "source": [
    "<br>\n",
    "<div align=\"right\">Enseignant : Aric Wizenberg</div>\n",
    "<div align=\"right\">E-mail : icarwiz@yahoo.fr</div>\n",
    "<div align=\"right\">Année : 2018/2019</div><br><br><br>\n",
    "<div align=\"center\"><span style=\"font-family:Lucida Caligraphy;font-size:32px;color:darkgreen\">Master 2 MASERATI - Cours de Python</span></div><br><br>\n",
    "<div align=\"center\"><span style=\"font-family:Lucida Caligraphy;font-size:24px;color:#e60000\">Structures de type Markup Language</span></div><br><br>\n",
    "<hr>"
   ]
  },
  {
   "cell_type": "markdown",
   "metadata": {},
   "source": [
    "# Présentation générale"
   ]
  },
  {
   "cell_type": "markdown",
   "metadata": {},
   "source": [
    "## Format de balises"
   ]
  },
  {
   "cell_type": "markdown",
   "metadata": {},
   "source": [
    "Abrimos el fichier epicerie_94000.html en C:\\Users\\lucia\\PyBooks\\PyParis_XII_M2\\data para ver el format html (abierto con note++). Ver en el word de notas la foto de la estructura html (de las paginas web).\n",
    "\n",
    "La famille des **formats ML**, pour Markup Language (langage de balises), rassemble des formats constitués d'ensembles de balises imbriquées hiérarchiquement.\n",
    "\n",
    "Ces balises sont de divers types, chaque type ayant un fonctionnement spécifique et déterminé lié au format concerné (par exemple la balise **__P__** représente un paragraphe dans le format **HTML**, mais dans les autres formats ML, cette balise n'a pas de fonction établie)\n",
    "\n",
    "Une balise ML contient :\n",
    "- Un type\n",
    "- Eventuellement une ou des propriétés\n",
    "- Eventuellement un contenu, c'est-à-dire un ou des descendants (soit simplement du texte, soit d'autres balises)\n",
    "\n",
    "Soit une balise du type X, elle s'écrit :"
   ]
  },
  {
   "cell_type": "raw",
   "metadata": {},
   "source": [
    "<X propriete1=\"valeur_propriete_1\" propriete2=\"valeur_propriete_2\"> (contenu, éventuellement une ou des balises filles) </X>"
   ]
  },
  {
   "cell_type": "markdown",
   "metadata": {},
   "source": [
    "Ou, si elle ne contient pas de déscendant, éventuellement :"
   ]
  },
  {
   "cell_type": "raw",
   "metadata": {},
   "source": [
    "<X propriete1=\"valeur_propriete_1\" propriete2=\"valeur_propriete_2\" />"
   ]
  },
  {
   "cell_type": "markdown",
   "metadata": {},
   "source": [
    "**NB** : lorsque du code **HTML** est tapé dans une cellule de contenu (Markdown) d'un Notebook Jupyter, elle est interprétée à l'exécution de cette cellule (d'où l'utilisation de cellules de type Raw NBconvert dans les cellules ci-dessus)\n",
    "\n",
    "L'ensemble constitué par une balise sans contenu ou par deux balises (ouvrante et fermante) encadrant son contenu est appelé un **noeud** du fichier **ML**"
   ]
  },
  {
   "cell_type": "markdown",
   "metadata": {},
   "source": [
    "Il y a un grand nombre de formats dans la famille ML, entre autres :\n",
    "- XML (pour eXtensible), format ML générique\n",
    "- HTML, format des pages web\n",
    "- RDF, format de description de ressources et de métadonnées (cf. Web sémantique, SPARQL)\n",
    "- KML, format d'enregistrement des annotations de Google Earth\n",
    "- RSS, format utilisé pour la syndication sur internet\n",
    "- SVG, format d'image vectoriel\n",
    "- Les documents suivant la norme Office Open XML, c'est-à dire l'ensemble des fichiers Microsoft de génération postérieure à la génération 2003 (sauf les ACCDB et formats binaires XLSB et DOCB)"
   ]
  },
  {
   "cell_type": "markdown",
   "metadata": {},
   "source": [
    "## Exemple : le HTML"
   ]
  },
  {
   "cell_type": "markdown",
   "metadata": {},
   "source": [
    "En **HTML** la structure normale d'un document est la suivante :"
   ]
  },
  {
   "cell_type": "raw",
   "metadata": {},
   "source": [
    "<html>\n",
    "    <head>\n",
    "        metadonnées du document, titre, liens vers des fichiers CSS ou Javascript éventuels\n",
    "    </head>\n",
    "    <body>\n",
    "        contenu affichable de la page web\n",
    "    </body>\n",
    "</html>"
   ]
  },
  {
   "cell_type": "markdown",
   "metadata": {},
   "source": [
    "Voici un exemple de code HTML très simple"
   ]
  },
  {
   "cell_type": "code",
   "execution_count": 3,
   "metadata": {
    "ExecuteTime": {
     "end_time": "2019-01-17T11:23:15.292062Z",
     "start_time": "2019-01-17T11:23:15.287104Z"
    },
    "scrolled": true
   },
   "outputs": [],
   "source": [
    "mon_html = \\\n",
    "'''<html xmlns=\"http://www.w3.org/1999/xhtml\">\n",
    "    <head>\n",
    "        <meta http-equiv=\"Content-Type\" content=\"text/html; charset=UTF-8\" />\n",
    "        <title>Ma page web</title>\n",
    "    </head>\n",
    "    <body>\n",
    "        <div>Hello</div>\n",
    "        <div>World</div>\n",
    "    </body>\n",
    "</html>\n",
    "'''"
   ]
  },
  {
   "cell_type": "markdown",
   "metadata": {},
   "source": [
    "## Propriétés id et class"
   ]
  },
  {
   "cell_type": "markdown",
   "metadata": {},
   "source": [
    "Dans les langages ML, deux **propriétés de balise** facultatives jouent un rôle essentiel :\n",
    "- la propriété **id** qui joue le rôle d'**identifiant unique** d'un noeud. Un noeud peut avoir un id unique, ou pas (permettant entre autre à ce noeud de se voir affecter des attributs CSS **spécifiques**, et permettant d'effectuer facilement une **sélection sur ce noeud**). Un **nom d'id** s'écrit sous la forme **#id_du_noeud** dans beaucoup de situations.\n",
    "- la propriété **class** qui permet de déterminer une **appartenance commune** d'un ensemble de noeuds à un groupe (permettant entre autres à ces noeuds de se voir affecter des attributs CSS **communs**, et permettant d'effectuer une **sélection sur l'ensemble des éléments du groupe**). Un noeud peut ne pas appartenir, ou bien appartenir à **une ou plusieurs classes**. Un **nom de classe** s'écrit sous la forme **.classe_du_noeud** dans beaucoup de situations."
   ]
  },
  {
   "cell_type": "markdown",
   "metadata": {},
   "source": [
    "# Premiers pas"
   ]
  },
  {
   "cell_type": "markdown",
   "metadata": {},
   "source": [
    "## Le module BeautifulSoup"
   ]
  },
  {
   "cell_type": "markdown",
   "metadata": {},
   "source": [
    "Même s'il existe deux modules de la bibliothèque standard de Python dédiés à cela (les modules **html** et **xml**), on va préférer utiliser une bibliothèque externe bien plus pratique : **BeautifulSoup** (**bs4**). Elle est installée par défaut avec Anaconda."
   ]
  },
  {
   "cell_type": "markdown",
   "metadata": {},
   "source": [
    "<div class=\"alert alert-block alert-info\"><b>Pour aller plus loin :</b> <a href=https://docs.python.org/3/library/markup.html> Doc officielle Python sur les <b>modules html et xml</b></a></div>"
   ]
  },
  {
   "cell_type": "markdown",
   "metadata": {},
   "source": [
    "Chargeons le module de BeautifulSoup"
   ]
  },
  {
   "cell_type": "code",
   "execution_count": 1,
   "metadata": {
    "ExecuteTime": {
     "end_time": "2019-01-17T11:20:52.676158Z",
     "start_time": "2019-01-17T11:20:51.876970Z"
    }
   },
   "outputs": [],
   "source": [
    "import bs4"
   ]
  },
  {
   "cell_type": "markdown",
   "metadata": {},
   "source": [
    "Il faut d'abord créer un objet de la classe **bs4.BeautifulSoup**. \n",
    "\n",
    "La methode d'initialisation (**\\_\\_init\\_\\_**) d'un objet **bs4.BeautifulSoup** requiert 2 arguments : \n",
    "- une chaine de caractère contenant du code ML, \n",
    "- le nom du **parser** à utiliser. Pour du HTML on utilisera **html.parser**, et pour les autres, **xml**"
   ]
  },
  {
   "cell_type": "code",
   "execution_count": 4,
   "metadata": {
    "ExecuteTime": {
     "end_time": "2019-01-17T11:23:33.057281Z",
     "start_time": "2019-01-17T11:23:33.053329Z"
    }
   },
   "outputs": [],
   "source": [
    "objet_bs = bs4.BeautifulSoup(mon_html, 'html.parser')\n",
    "\n"
   ]
  },
  {
   "cell_type": "code",
   "execution_count": 5,
   "metadata": {
    "ExecuteTime": {
     "end_time": "2019-01-17T11:24:40.015396Z",
     "start_time": "2019-01-17T11:24:40.006421Z"
    },
    "scrolled": true
   },
   "outputs": [
    {
     "data": {
      "text/plain": [
       "bs4.BeautifulSoup"
      ]
     },
     "execution_count": 5,
     "metadata": {},
     "output_type": "execute_result"
    }
   ],
   "source": [
    "type(objet_bs)"
   ]
  },
  {
   "cell_type": "markdown",
   "metadata": {},
   "source": [
    "## Lire un fichier ML"
   ]
  },
  {
   "cell_type": "markdown",
   "metadata": {},
   "source": [
    "Chargeons la page html enregistrée contenant la première page renvoyée par le site www.pagesjaunes.fr lorsque l'on fait une recherche sur le mot-clé \"épicerie\" à \"Créteil (94000)\""
   ]
  },
  {
   "cell_type": "code",
   "execution_count": 6,
   "metadata": {
    "ExecuteTime": {
     "end_time": "2019-01-17T11:24:50.748847Z",
     "start_time": "2019-01-17T11:24:50.607749Z"
    }
   },
   "outputs": [],
   "source": [
    "with open('../data/epicerie_94000.html', encoding='ansi') as fichier:\n",
    "    contenu = fichier.read()\n",
    "\n",
    "objet_bs = bs4.BeautifulSoup(contenu, 'html.parser')"
   ]
  },
  {
   "cell_type": "markdown",
   "metadata": {},
   "source": [
    "# Parcourir un fichier ML"
   ]
  },
  {
   "cell_type": "markdown",
   "metadata": {},
   "source": [
    "On peut parcourir un fichier ML de proche en proche comme dans toute structure de données de type **arbre**"
   ]
  },
  {
   "cell_type": "markdown",
   "metadata": {},
   "source": [
    "## Enfants du noeud"
   ]
  },
  {
   "cell_type": "markdown",
   "metadata": {},
   "source": [
    "L'objet de base **bs4.BeautifulSoup** que nous venons de créer se comporte en partie comme les autres noeuds de l'**arbre**.\n",
    "\n",
    "On peut accéder à ses **descendants directs**, ses **enfants**, en utilisant la propriété **children**"
   ]
  },
  {
   "cell_type": "code",
   "execution_count": 7,
   "metadata": {
    "ExecuteTime": {
     "end_time": "2019-01-17T11:25:46.377915Z",
     "start_time": "2019-01-17T11:25:46.372929Z"
    }
   },
   "outputs": [
    {
     "data": {
      "text/plain": [
       "<list_iterator at 0x201c26cc668>"
      ]
     },
     "execution_count": 7,
     "metadata": {},
     "output_type": "execute_result"
    }
   ],
   "source": [
    "objet_bs.children"
   ]
  },
  {
   "cell_type": "markdown",
   "metadata": {},
   "source": [
    "Attention, le type de **children** est un **iterator** (souvenez-vous : le boulot n'est pas encore réalisé). Beaucoup de choses qui sont possibles avec les listes ne le seront pas avec un **iterator** (comme obtenir la taille de la liste où accéder directement au ième élément)\n",
    "\n",
    "Il faut forcer la réalisation de l'itérateur en le transformant en **list**."
   ]
  },
  {
   "cell_type": "code",
   "execution_count": 8,
   "metadata": {
    "ExecuteTime": {
     "end_time": "2019-01-17T11:26:44.396097Z",
     "start_time": "2019-01-17T11:26:44.392110Z"
    }
   },
   "outputs": [
    {
     "data": {
      "text/plain": [
       "5"
      ]
     },
     "execution_count": 8,
     "metadata": {},
     "output_type": "execute_result"
    }
   ],
   "source": [
    "len(list(objet_bs.children))"
   ]
  },
  {
   "cell_type": "markdown",
   "metadata": {},
   "source": [
    "l'attribut **name** d'un noeud sert à connaitre le type de la balise\n",
    "\n",
    "Le noeud racine a lui aussi un **name** (le noeud racine est au-dessus hiérarchiquement de la première balise)"
   ]
  },
  {
   "cell_type": "code",
   "execution_count": 9,
   "metadata": {
    "ExecuteTime": {
     "end_time": "2019-01-17T11:30:22.796148Z",
     "start_time": "2019-01-17T11:30:22.788159Z"
    }
   },
   "outputs": [
    {
     "data": {
      "text/plain": [
       "'[document]'"
      ]
     },
     "execution_count": 9,
     "metadata": {},
     "output_type": "execute_result"
    }
   ],
   "source": [
    "objet_bs.name"
   ]
  },
  {
   "cell_type": "code",
   "execution_count": 10,
   "metadata": {
    "ExecuteTime": {
     "end_time": "2019-01-17T11:30:23.924428Z",
     "start_time": "2019-01-17T11:30:23.916485Z"
    }
   },
   "outputs": [
    {
     "name": "stdout",
     "output_type": "stream",
     "text": [
      "None\n",
      "None\n",
      "None\n",
      "None\n",
      "html\n"
     ]
    }
   ],
   "source": [
    "for elem in objet_bs.children:\n",
    "    print(elem.name)"
   ]
  },
  {
   "cell_type": "markdown",
   "metadata": {},
   "source": [
    "Comme nous le voyons, la balise principale du fichier html, **html**, est l'enfant d'indice 4 de la racine, suivons cette piste"
   ]
  },
  {
   "cell_type": "code",
   "execution_count": 11,
   "metadata": {
    "ExecuteTime": {
     "end_time": "2019-01-17T11:31:09.574392Z",
     "start_time": "2019-01-17T11:31:09.566446Z"
    }
   },
   "outputs": [],
   "source": [
    "noeud_actuel = list(objet_bs.children)[4]"
   ]
  },
  {
   "cell_type": "code",
   "execution_count": 12,
   "metadata": {
    "ExecuteTime": {
     "end_time": "2019-01-17T11:31:10.489169Z",
     "start_time": "2019-01-17T11:31:10.485177Z"
    }
   },
   "outputs": [
    {
     "name": "stdout",
     "output_type": "stream",
     "text": [
      "head\n",
      "body\n"
     ]
    }
   ],
   "source": [
    "for elem in noeud_actuel:\n",
    "    if elem.name:\n",
    "        print(elem.name)"
   ]
  },
  {
   "cell_type": "markdown",
   "metadata": {},
   "source": [
    "Comme nous pouvons le voir, les balises **head** et **body** sont les enfants de la balise **html**, comme il se doit dans une page **html**\n",
    "\n",
    "On peut aussi directement utiliser les noms des balises comme attribut d'un noeud et ainsi accéder à la seule balise (où à la première de ces balises s'il y en a plusieurs) **hiérarchiquement directement inférieure** de ce type-là. Par exemple, l'instruction suivante :"
   ]
  },
  {
   "cell_type": "code",
   "execution_count": 13,
   "metadata": {
    "ExecuteTime": {
     "end_time": "2019-01-17T11:32:49.803952Z",
     "start_time": "2019-01-17T11:32:49.787975Z"
    }
   },
   "outputs": [
    {
     "data": {
      "text/plain": [
       "<p>PagesJaunes lance\n",
       "        <strong>votre recherche</strong></p>"
      ]
     },
     "execution_count": 13,
     "metadata": {},
     "output_type": "execute_result"
    }
   ],
   "source": [
    "objet_bs.html.body.p"
   ]
  },
  {
   "cell_type": "markdown",
   "metadata": {},
   "source": [
    "Renvoie le noeud qui se situe comme indiqué ci-dessous."
   ]
  },
  {
   "cell_type": "raw",
   "metadata": {},
   "source": [
    "<html>\n",
    "    <head>\n",
    "    </head>\n",
    "    <body>\n",
    "        <p>PagesJaunes lance\n",
    "        <strong>votre recherche</strong></p>\n",
    "        <p>Autre noeud P</p>\n",
    "    </body>\n",
    "</html>"
   ]
  },
  {
   "cell_type": "markdown",
   "metadata": {},
   "source": [
    "Comme d'ailleurs l'instruction suivante, étant donné que noeud_actuel pointe sur le noeud html..."
   ]
  },
  {
   "cell_type": "code",
   "execution_count": 14,
   "metadata": {
    "ExecuteTime": {
     "end_time": "2019-01-17T13:06:20.045535Z",
     "start_time": "2019-01-17T13:06:20.033552Z"
    }
   },
   "outputs": [
    {
     "data": {
      "text/plain": [
       "<p>PagesJaunes lance\n",
       "        <strong>votre recherche</strong></p>"
      ]
     },
     "execution_count": 14,
     "metadata": {},
     "output_type": "execute_result"
    }
   ],
   "source": [
    "noeud_actuel.body.p"
   ]
  },
  {
   "cell_type": "markdown",
   "metadata": {},
   "source": [
    "## Remarque sur les iterator (itérateurs)"
   ]
  },
  {
   "cell_type": "markdown",
   "metadata": {},
   "source": [
    "Pour info, la seule chose qu'on peut faire avec un **iterator** (en dehors de la possibilité de les transformer en **list** effective de valeur, ou de le parcourir normalement dans une boucle **comme si** c'était des **list**, avec une boucle **for** par exemple), c'est de les itérer. \n",
    "\n",
    "C'est à dire de définir un objet qui va pointer au fur et à mesure successivement sur les différents **éléments** de cet **iterator**, et obtenir le résultat de l'exécution de la **fonction sous-jacente**. Après initialisation du pointeur, on obtient la valeur suivante en utilisant l'instruction **next** (et à nouveau **next** pour obtenir le suivant, etc.)"
   ]
  },
  {
   "cell_type": "code",
   "execution_count": 15,
   "metadata": {
    "ExecuteTime": {
     "end_time": "2019-01-17T13:06:22.759519Z",
     "start_time": "2019-01-17T13:06:22.747535Z"
    }
   },
   "outputs": [],
   "source": [
    "pointeur = iter(noeud_actuel.body.p.children)"
   ]
  },
  {
   "cell_type": "code",
   "execution_count": 16,
   "metadata": {
    "ExecuteTime": {
     "end_time": "2019-01-17T13:06:23.824682Z",
     "start_time": "2019-01-17T13:06:23.816691Z"
    }
   },
   "outputs": [
    {
     "data": {
      "text/plain": [
       "'PagesJaunes lance\\n        '"
      ]
     },
     "execution_count": 16,
     "metadata": {},
     "output_type": "execute_result"
    }
   ],
   "source": [
    "balise = next(pointeur)\n",
    "balise"
   ]
  },
  {
   "cell_type": "markdown",
   "metadata": {},
   "source": [
    "## Parent du noeud"
   ]
  },
  {
   "cell_type": "code",
   "execution_count": 17,
   "metadata": {
    "ExecuteTime": {
     "end_time": "2019-01-17T13:06:26.445448Z",
     "start_time": "2019-01-17T13:06:26.437457Z"
    }
   },
   "outputs": [
    {
     "data": {
      "text/plain": [
       "<p>PagesJaunes lance\n",
       "        <strong>votre recherche</strong></p>"
      ]
     },
     "execution_count": 17,
     "metadata": {},
     "output_type": "execute_result"
    }
   ],
   "source": [
    "balise.parent"
   ]
  },
  {
   "cell_type": "markdown",
   "metadata": {},
   "source": [
    "On peut ainsi litéralement se promener dans l'arbre :"
   ]
  },
  {
   "cell_type": "code",
   "execution_count": null,
   "metadata": {
    "scrolled": true
   },
   "outputs": [],
   "source": [
    "noeud_actuel.body.p.parent.p.parent.p"
   ]
  },
  {
   "cell_type": "markdown",
   "metadata": {},
   "source": [
    "Ca ne sert à rien de faire ça, c'est juste pour l'illustration pédagogique..."
   ]
  },
  {
   "cell_type": "markdown",
   "metadata": {},
   "source": [
    "# Chercher dans une arborescence ML"
   ]
  },
  {
   "cell_type": "markdown",
   "metadata": {},
   "source": [
    "Contrairement aux méthodes précédemment présentées pour parcourir une arborescence ML (qui ne traitait que des relations directes enfants/parents), les fonctions de recherche **find_all()** et **find()** ne se soucient pas du degré de **descendence** (par contre **elles ne cherchent pas dans les parents du noeud** qui sert de point de départ), elles renvoient l'ensemble des noeuds de la descendance correspondant au(x) critère(s) spécifié(s).\n",
    "\n",
    "On peut faire une recherche dans une arborescence ML de quatre manières principales différentes."
   ]
  },
  {
   "cell_type": "code",
   "execution_count": 18,
   "metadata": {
    "ExecuteTime": {
     "end_time": "2019-01-17T13:10:57.234298Z",
     "start_time": "2019-01-17T13:10:56.476479Z"
    }
   },
   "outputs": [],
   "source": [
    "with open('../output/mon_html.html', 'w', encoding='utf-8') as fichier:\n",
    "    fichier.write(objet_bs.prettify())\n",
    "    \n",
    "# Prettfy va a poner \"mas lindo\" el html, lo va a indentar. El de origen es el epicerie.html y de salida (indendato) es el mon_html.html\n",
    "# Genera un html en la carpeta output"
   ]
  },
  {
   "cell_type": "markdown",
   "metadata": {},
   "source": [
    "## Par type"
   ]
  },
  {
   "cell_type": "code",
   "execution_count": 19,
   "metadata": {
    "ExecuteTime": {
     "end_time": "2019-01-17T13:13:01.381472Z",
     "start_time": "2019-01-17T13:13:01.369489Z"
    }
   },
   "outputs": [],
   "source": [
    "liste_metas = objet_bs.find_all('meta')"
   ]
  },
  {
   "cell_type": "code",
   "execution_count": 20,
   "metadata": {
    "ExecuteTime": {
     "end_time": "2019-01-17T13:16:39.201374Z",
     "start_time": "2019-01-17T13:16:39.193430Z"
    }
   },
   "outputs": [
    {
     "data": {
      "text/plain": [
       "5"
      ]
     },
     "execution_count": 20,
     "metadata": {},
     "output_type": "execute_result"
    }
   ],
   "source": [
    "len(liste_metas)"
   ]
  },
  {
   "cell_type": "code",
   "execution_count": 21,
   "metadata": {
    "ExecuteTime": {
     "end_time": "2019-01-17T13:16:40.266255Z",
     "start_time": "2019-01-17T13:16:40.258267Z"
    }
   },
   "outputs": [
    {
     "data": {
      "text/plain": [
       "[<meta content=\"text/html; charset=utf-8\" http-equiv=\"Content-Type\"/>,\n",
       " <meta content=\"width=device-width, initial-scale=1.0\" name=\"viewport\"/>,\n",
       " <meta content=\"Epicerie à Créteil (94) : trouver les numéros de téléphone et adresses des professionnels de votre département ou de votre ville dans l'annuaire PagesJaunes\" name=\"description\"/>,\n",
       " <meta content=\"noindex,nofollow\" name=\"robots\"/>,\n",
       " <meta content=\"origin\" name=\"referrer\"/>]"
      ]
     },
     "execution_count": 21,
     "metadata": {},
     "output_type": "execute_result"
    }
   ],
   "source": [
    "liste_metas"
   ]
  },
  {
   "cell_type": "markdown",
   "metadata": {},
   "source": [
    "NB : **find_all()** peut aussi être utilisé sans argument et renvoie alors **l'ensemble des balises de la descendance d'un noeud**"
   ]
  },
  {
   "cell_type": "code",
   "execution_count": 22,
   "metadata": {
    "ExecuteTime": {
     "end_time": "2019-01-17T13:16:42.140623Z",
     "start_time": "2019-01-17T13:16:42.132632Z"
    }
   },
   "outputs": [
    {
     "data": {
      "text/plain": [
       "52"
      ]
     },
     "execution_count": 22,
     "metadata": {},
     "output_type": "execute_result"
    }
   ],
   "source": [
    "len(objet_bs.html.head.find_all())"
   ]
  },
  {
   "cell_type": "markdown",
   "metadata": {},
   "source": [
    "## Par classe"
   ]
  },
  {
   "cell_type": "code",
   "execution_count": 23,
   "metadata": {
    "ExecuteTime": {
     "end_time": "2019-01-17T13:16:44.998217Z",
     "start_time": "2019-01-17T13:16:44.958270Z"
    }
   },
   "outputs": [],
   "source": [
    "liste_denom_links = objet_bs.find_all(class_='denomination-links')"
   ]
  },
  {
   "cell_type": "code",
   "execution_count": 24,
   "metadata": {
    "ExecuteTime": {
     "end_time": "2019-01-17T13:16:46.106066Z",
     "start_time": "2019-01-17T13:16:46.098077Z"
    }
   },
   "outputs": [
    {
     "data": {
      "text/plain": [
       "20"
      ]
     },
     "execution_count": 24,
     "metadata": {},
     "output_type": "execute_result"
    }
   ],
   "source": [
    "len(liste_denom_links)"
   ]
  },
  {
   "cell_type": "code",
   "execution_count": 25,
   "metadata": {
    "ExecuteTime": {
     "end_time": "2019-01-17T13:16:47.202065Z",
     "start_time": "2019-01-17T13:16:47.194041Z"
    }
   },
   "outputs": [
    {
     "data": {
      "text/plain": [
       "<a class=\"denomination-links pj-link\" data-pjaccengage='{\"action\":\"secondClick\",\"actionType\":\"FANTOMAS\",\"varName\":\"pjinfosaccengage-rmk-connexefd-014207922500000000c0001\"}' data-pjsearchctx-sethref=\"\" data-pjstats=\"{&quot;idTag&quot;:&quot;DENOMINATION-EXACTE&quot;,&quot;pos&quot;:1,&quot;type_bi&quot;:&quot;pro&quot;,&quot;genreBloc&quot;:&quot;1&quot;,&quot;pjscript&quot;:&quot;xt_click({},'C','{%xtn2}','LR_BI::zone_identification::info{%pjstats.type_bi}::denom_exacte','A');&quot;}\" href=\"https://www.pagesjaunes.fr/pros/09071508\" title=\"Créteil Exo Centre\">\n",
       "                            Créteil Exo Centre\n",
       "                        </a>"
      ]
     },
     "execution_count": 25,
     "metadata": {},
     "output_type": "execute_result"
    }
   ],
   "source": [
    "liste_denom_links[0]"
   ]
  },
  {
   "cell_type": "markdown",
   "metadata": {},
   "source": [
    "## Par id"
   ]
  },
  {
   "cell_type": "code",
   "execution_count": 26,
   "metadata": {
    "ExecuteTime": {
     "end_time": "2019-01-17T13:17:06.625786Z",
     "start_time": "2019-01-17T13:17:06.605815Z"
    }
   },
   "outputs": [
    {
     "data": {
      "text/plain": [
       "<script async=\"\" id=\"clobscript\" src=\"./epicerie_94000_files/clobs_569299.js.download\"></script>"
      ]
     },
     "execution_count": 26,
     "metadata": {},
     "output_type": "execute_result"
    }
   ],
   "source": [
    "objet_bs.find(id='clobscript')"
   ]
  },
  {
   "cell_type": "markdown",
   "metadata": {},
   "source": [
    "La méthode **find()**, contrairement à la méthode **find_all()**, ne renvoie par construction qu'un seul élément (le premier s'il y a plusieurs éléments possibles, ce qui ne devrait pas être le cas pour une requête **id** si le codeur HTML a bien fait son travail).\n",
    "\n",
    "Elle peut donc aussi être utilisée pour chercher le premier élément d'une classe où la première balise d'un type (même si cette utilisation est moins naturelle), la syntaxe est alors identique à celle de **find_all()**"
   ]
  },
  {
   "cell_type": "markdown",
   "metadata": {},
   "source": [
    "## Par attribut"
   ]
  },
  {
   "cell_type": "markdown",
   "metadata": {},
   "source": [
    "On peut aussi filtrer sur les **attributs** de balises en passant un dictionnaire en argument contenant une ou des valeurs de filtre"
   ]
  },
  {
   "cell_type": "code",
   "execution_count": 27,
   "metadata": {
    "ExecuteTime": {
     "end_time": "2019-01-17T13:19:49.285713Z",
     "start_time": "2019-01-17T13:19:49.277727Z"
    }
   },
   "outputs": [],
   "source": [
    "filter_dict = {'title': 'Créteil Exo Centre'}"
   ]
  },
  {
   "cell_type": "code",
   "execution_count": 28,
   "metadata": {
    "ExecuteTime": {
     "end_time": "2019-01-17T13:19:51.634880Z",
     "start_time": "2019-01-17T13:19:51.614906Z"
    }
   },
   "outputs": [],
   "source": [
    "liste_noeuds = objet_bs.find_all(attrs=filter_dict)"
   ]
  },
  {
   "cell_type": "code",
   "execution_count": 29,
   "metadata": {
    "ExecuteTime": {
     "end_time": "2019-01-17T13:19:53.000473Z",
     "start_time": "2019-01-17T13:19:52.992486Z"
    }
   },
   "outputs": [
    {
     "data": {
      "text/plain": [
       "3"
      ]
     },
     "execution_count": 29,
     "metadata": {},
     "output_type": "execute_result"
    }
   ],
   "source": [
    "len(liste_noeuds)"
   ]
  },
  {
   "cell_type": "markdown",
   "metadata": {},
   "source": [
    "Si l'on utilise des listes, il renvoie l'ensemble des réponses correspondant à l'une OU l'autre des modalités, on peut rajouter des conditions ET en spécifiant d'autres noms de champs dans ce dictionnaire..."
   ]
  },
  {
   "cell_type": "code",
   "execution_count": 30,
   "metadata": {
    "ExecuteTime": {
     "end_time": "2019-01-17T13:25:21.129125Z",
     "start_time": "2019-01-17T13:25:21.121134Z"
    }
   },
   "outputs": [],
   "source": [
    "filter_dict = {'title': ['Créteil Exo Centre', 'Casadjembees']}"
   ]
  },
  {
   "cell_type": "code",
   "execution_count": 31,
   "metadata": {
    "ExecuteTime": {
     "end_time": "2019-01-17T13:25:22.328417Z",
     "start_time": "2019-01-17T13:25:22.304450Z"
    }
   },
   "outputs": [],
   "source": [
    "liste_noeuds = objet_bs.find_all(attrs=filter_dict)"
   ]
  },
  {
   "cell_type": "code",
   "execution_count": 32,
   "metadata": {
    "ExecuteTime": {
     "end_time": "2019-01-17T13:25:23.461515Z",
     "start_time": "2019-01-17T13:25:23.453490Z"
    }
   },
   "outputs": [
    {
     "data": {
      "text/plain": [
       "6"
      ]
     },
     "execution_count": 32,
     "metadata": {},
     "output_type": "execute_result"
    }
   ],
   "source": [
    "len(liste_noeuds)"
   ]
  },
  {
   "cell_type": "code",
   "execution_count": 33,
   "metadata": {
    "ExecuteTime": {
     "end_time": "2019-01-17T13:25:24.493269Z",
     "start_time": "2019-01-17T13:25:24.485283Z"
    }
   },
   "outputs": [],
   "source": [
    "filter_dict = {\n",
    "    'title': 'Créteil Exo Centre', \n",
    "    'href': 'https://www.pagesjaunes.fr/recherche/creteil-94/epicerie#'\n",
    "}"
   ]
  },
  {
   "cell_type": "code",
   "execution_count": 34,
   "metadata": {
    "ExecuteTime": {
     "end_time": "2019-01-17T13:25:26.450644Z",
     "start_time": "2019-01-17T13:25:26.434663Z"
    }
   },
   "outputs": [],
   "source": [
    "liste_noeuds = objet_bs.find_all(attrs=filter_dict)"
   ]
  },
  {
   "cell_type": "code",
   "execution_count": 35,
   "metadata": {
    "ExecuteTime": {
     "end_time": "2019-01-17T13:25:27.166675Z",
     "start_time": "2019-01-17T13:25:27.158685Z"
    }
   },
   "outputs": [
    {
     "data": {
      "text/plain": [
       "2"
      ]
     },
     "execution_count": 35,
     "metadata": {},
     "output_type": "execute_result"
    }
   ],
   "source": [
    "len(liste_noeuds)"
   ]
  },
  {
   "cell_type": "raw",
   "metadata": {},
   "source": [
    "NB : les balises <A href=\"www.site.fr\">Lien vers mon site</A> servent à imprimer des liens hypertext, c'est une balise extrêmement courante donc"
   ]
  },
  {
   "cell_type": "markdown",
   "metadata": {},
   "source": [
    "On peut aussi parfaitement combiner ces types de recherche (qui fonctionnent alors comme des ET) :"
   ]
  },
  {
   "cell_type": "code",
   "execution_count": 36,
   "metadata": {
    "ExecuteTime": {
     "end_time": "2019-01-17T13:25:33.499374Z",
     "start_time": "2019-01-17T13:25:33.479400Z"
    }
   },
   "outputs": [
    {
     "data": {
      "text/plain": [
       "[<a class=\"details-links details hidden-phone hidden-desktop pj-lb pj-link\" data-pjaccengage='{\"action\":\"secondClick\",\"actionType\":\"FANTOMAS\",\"varName\":\"pjinfosaccengage-rmk-connexefd-014207922500000000c0001\"}' data-pjlb='{\"url\":\"L3Byb3MvMDkwNzE1MDg=\",\"ucod\":\"b64u8\"}' data-pjsearchctx-sethref=\"\" data-pjstats=\"{&quot;idTag&quot;:&quot;DETAIL-PRO&quot;,&quot;pos&quot;:1,&quot;type_bi&quot;:&quot;pro&quot;,&quot;genreBloc&quot;:&quot;1&quot;,&quot;pjscript&quot;:&quot;xt_click({},'C','{%xtn2}','LR_BI::zone_identification::info{%pjstats.type_bi}::detail_pro','A');&quot;}\" href=\"https://www.pagesjaunes.fr/recherche/creteil-94/epicerie#\" title=\"Créteil Exo Centre\">+ d'infos</a>]"
      ]
     },
     "execution_count": 36,
     "metadata": {},
     "output_type": "execute_result"
    }
   ],
   "source": [
    "objet_bs.find_all('a', class_='details-links', attrs=filter_dict)"
   ]
  },
  {
   "cell_type": "markdown",
   "metadata": {},
   "source": [
    "## Chaine de recherches"
   ]
  },
  {
   "cell_type": "markdown",
   "metadata": {},
   "source": [
    "On peut aussi enchainer les instructions de recherche et même les outils de parcours"
   ]
  },
  {
   "cell_type": "code",
   "execution_count": 37,
   "metadata": {
    "ExecuteTime": {
     "end_time": "2019-01-17T13:25:40.335788Z",
     "start_time": "2019-01-17T13:25:40.319773Z"
    }
   },
   "outputs": [
    {
     "data": {
      "text/plain": [
       "[<span class=\"not-visible\">\n",
       "       1\n",
       "       Créteil Exo Centre\n",
       "   </span>]"
      ]
     },
     "execution_count": 37,
     "metadata": {},
     "output_type": "execute_result"
    }
   ],
   "source": [
    "noeud_actuel.find('body').find('article').a.find_all('span')"
   ]
  },
  {
   "cell_type": "markdown",
   "metadata": {},
   "source": [
    "Cette instruction signifie : trouve tous les noeuds **span** du premier noeud **a**, du premier noeud **article**, du premier noeud **body**, en partant du noeud pointé par *noeud_actuel*"
   ]
  },
  {
   "cell_type": "markdown",
   "metadata": {},
   "source": [
    "## L'objet bs4.element.ResultSet"
   ]
  },
  {
   "cell_type": "markdown",
   "metadata": {},
   "source": [
    "La méthode **find_all()** renvoie un objet **bs4.element.ResultSet**, un ensemble d'objets **bs4.element.Tag** (l'objet représentant un **noeud** dans BeautifulSoup)\n",
    "\n",
    "C'est, à très peu de choses près, une **list**.\n",
    "\n",
    "Si nécessaire (pour des raisons de problème de typage) on peut le convertir en **list** avec la fonction **list()** sans problème. Mais il peut généralement être utilisé comme si c'était une **list**\n",
    "\n",
    "La méthode **find()** renvoie un objet **bs4.element.Tag**"
   ]
  },
  {
   "cell_type": "code",
   "execution_count": 38,
   "metadata": {
    "ExecuteTime": {
     "end_time": "2019-01-17T13:28:56.732275Z",
     "start_time": "2019-01-17T13:28:56.682781Z"
    }
   },
   "outputs": [],
   "source": [
    "mes_articles = objet_bs.find_all('article')\n",
    "mes_denoms = objet_bs.find_all(class_='denomination-links')\n",
    "mon_clob_script = objet_bs.find(id='clobscript')"
   ]
  },
  {
   "cell_type": "code",
   "execution_count": 39,
   "metadata": {
    "ExecuteTime": {
     "end_time": "2019-01-17T13:28:57.926043Z",
     "start_time": "2019-01-17T13:28:57.918056Z"
    }
   },
   "outputs": [
    {
     "data": {
      "text/plain": [
       "<a class=\"denomination-links pj-link\" data-pjaccengage='{\"action\":\"secondClick\",\"actionType\":\"FANTOMAS\",\"varName\":\"pjinfosaccengage-rmk-connexefd-014207922500000000c0001\"}' data-pjsearchctx-sethref=\"\" data-pjstats=\"{&quot;idTag&quot;:&quot;DENOMINATION-EXACTE&quot;,&quot;pos&quot;:1,&quot;type_bi&quot;:&quot;pro&quot;,&quot;genreBloc&quot;:&quot;1&quot;,&quot;pjscript&quot;:&quot;xt_click({},'C','{%xtn2}','LR_BI::zone_identification::info{%pjstats.type_bi}::denom_exacte','A');&quot;}\" href=\"https://www.pagesjaunes.fr/pros/09071508\" title=\"Créteil Exo Centre\">\n",
       "                            Créteil Exo Centre\n",
       "                        </a>"
      ]
     },
     "execution_count": 39,
     "metadata": {},
     "output_type": "execute_result"
    }
   ],
   "source": [
    "premier_denom = mes_denoms[0]\n",
    "premier_denom"
   ]
  },
  {
   "cell_type": "markdown",
   "metadata": {},
   "source": [
    "<div class=\"alert alert-block alert-info\"><b>Pour aller plus loin :</b> <a href=https://www.crummy.com/software/BeautifulSoup/bs4/doc/#searching-the-tree> Doc officielle de BeautifulSoup sur le <b>parcours de structure recursive</b></a></div>"
   ]
  },
  {
   "cell_type": "markdown",
   "metadata": {},
   "source": [
    "# Utiliser les objets noeud de BeautifulSoup"
   ]
  },
  {
   "cell_type": "markdown",
   "metadata": {},
   "source": [
    "L'objet **bs4.element.Tag** est l'objet représentant un noeud dans une structure ML"
   ]
  },
  {
   "cell_type": "markdown",
   "metadata": {},
   "source": [
    "## Contenu texte du noeud"
   ]
  },
  {
   "cell_type": "code",
   "execution_count": 40,
   "metadata": {
    "ExecuteTime": {
     "end_time": "2019-01-17T13:33:07.477801Z",
     "start_time": "2019-01-17T13:33:07.469813Z"
    }
   },
   "outputs": [
    {
     "data": {
      "text/plain": [
       "'\\n                            Créteil Exo Centre\\n                        '"
      ]
     },
     "execution_count": 40,
     "metadata": {},
     "output_type": "execute_result"
    }
   ],
   "source": [
    "premier_denom.string"
   ]
  },
  {
   "cell_type": "code",
   "execution_count": 41,
   "metadata": {
    "ExecuteTime": {
     "end_time": "2019-01-17T13:33:08.706701Z",
     "start_time": "2019-01-17T13:33:08.698711Z"
    }
   },
   "outputs": [
    {
     "data": {
      "text/plain": [
       "'Créteil Exo Centre'"
      ]
     },
     "execution_count": 41,
     "metadata": {},
     "output_type": "execute_result"
    }
   ],
   "source": [
    "premier_denom.string.strip()"
   ]
  },
  {
   "cell_type": "code",
   "execution_count": 42,
   "metadata": {
    "ExecuteTime": {
     "end_time": "2019-01-17T13:33:10.289049Z",
     "start_time": "2019-01-17T13:33:10.281061Z"
    },
    "scrolled": true
   },
   "outputs": [
    {
     "data": {
      "text/plain": [
       "['Créteil Exo Centre',\n",
       " 'Casadjembees',\n",
       " 'SRM',\n",
       " 'J Dis',\n",
       " 'Franprix Créteil',\n",
       " 'Pun Lok',\n",
       " 'Ratatouille Créteil',\n",
       " 'Abdellah Karami',\n",
       " 'Bouisangaran Bihi',\n",
       " 'Franprix',\n",
       " 'Sarwin Marche',\n",
       " 'Les Saveurs du Monde',\n",
       " 'Kaki Exo',\n",
       " 'Petit Marché',\n",
       " 'Le Terroir',\n",
       " 'Super Cach',\n",
       " 'Saveurs Village',\n",
       " 'Bakym (SARL)',\n",
       " 'Monnet Jean Claude',\n",
       " 'Franprix Créteil']"
      ]
     },
     "execution_count": 42,
     "metadata": {},
     "output_type": "execute_result"
    }
   ],
   "source": [
    "[elem.string.strip() for elem in mes_denoms]"
   ]
  },
  {
   "cell_type": "markdown",
   "metadata": {},
   "source": [
    "## Classe(s) du noeud"
   ]
  },
  {
   "cell_type": "code",
   "execution_count": 43,
   "metadata": {
    "ExecuteTime": {
     "end_time": "2019-01-17T13:33:15.394303Z",
     "start_time": "2019-01-17T13:33:15.386314Z"
    }
   },
   "outputs": [
    {
     "data": {
      "text/plain": [
       "['denomination-links', 'pj-link']"
      ]
     },
     "execution_count": 43,
     "metadata": {},
     "output_type": "execute_result"
    }
   ],
   "source": [
    "premier_denom['class']"
   ]
  },
  {
   "cell_type": "markdown",
   "metadata": {},
   "source": [
    "## Id du noeud"
   ]
  },
  {
   "cell_type": "code",
   "execution_count": 44,
   "metadata": {
    "ExecuteTime": {
     "end_time": "2019-01-17T13:33:16.414103Z",
     "start_time": "2019-01-17T13:33:16.406116Z"
    }
   },
   "outputs": [
    {
     "data": {
      "text/plain": [
       "<script async=\"\" id=\"clobscript\" src=\"./epicerie_94000_files/clobs_569299.js.download\"></script>"
      ]
     },
     "execution_count": 44,
     "metadata": {},
     "output_type": "execute_result"
    }
   ],
   "source": [
    "mon_clob_script"
   ]
  },
  {
   "cell_type": "code",
   "execution_count": 45,
   "metadata": {
    "ExecuteTime": {
     "end_time": "2019-01-17T13:33:17.648496Z",
     "start_time": "2019-01-17T13:33:17.640506Z"
    }
   },
   "outputs": [
    {
     "data": {
      "text/plain": [
       "'clobscript'"
      ]
     },
     "execution_count": 45,
     "metadata": {},
     "output_type": "execute_result"
    }
   ],
   "source": [
    "mon_clob_script['id']"
   ]
  },
  {
   "cell_type": "markdown",
   "metadata": {},
   "source": [
    "## Attributs de la balise html"
   ]
  },
  {
   "cell_type": "code",
   "execution_count": 46,
   "metadata": {
    "ExecuteTime": {
     "end_time": "2019-01-17T13:44:39.920535Z",
     "start_time": "2019-01-17T13:44:39.912579Z"
    }
   },
   "outputs": [
    {
     "data": {
      "text/plain": [
       "{'class': ['denomination-links', 'pj-link'],\n",
       " 'title': 'Créteil Exo Centre',\n",
       " 'data-pjsearchctx-sethref': '',\n",
       " 'data-pjaccengage': '{\"action\":\"secondClick\",\"actionType\":\"FANTOMAS\",\"varName\":\"pjinfosaccengage-rmk-connexefd-014207922500000000c0001\"}',\n",
       " 'href': 'https://www.pagesjaunes.fr/pros/09071508',\n",
       " 'data-pjstats': '{\"idTag\":\"DENOMINATION-EXACTE\",\"pos\":1,\"type_bi\":\"pro\",\"genreBloc\":\"1\",\"pjscript\":\"xt_click({},\\'C\\',\\'{%xtn2}\\',\\'LR_BI::zone_identification::info{%pjstats.type_bi}::denom_exacte\\',\\'A\\');\"}'}"
      ]
     },
     "execution_count": 46,
     "metadata": {},
     "output_type": "execute_result"
    }
   ],
   "source": [
    "premier_denom.attrs"
   ]
  },
  {
   "cell_type": "code",
   "execution_count": 47,
   "metadata": {
    "ExecuteTime": {
     "end_time": "2019-01-17T13:44:42.044591Z",
     "start_time": "2019-01-17T13:44:42.036566Z"
    }
   },
   "outputs": [
    {
     "data": {
      "text/plain": [
       "'{\"action\":\"secondClick\",\"actionType\":\"FANTOMAS\",\"varName\":\"pjinfosaccengage-rmk-connexefd-014207922500000000c0001\"}'"
      ]
     },
     "execution_count": 47,
     "metadata": {},
     "output_type": "execute_result"
    }
   ],
   "source": [
    "premier_denom.attrs['data-pjaccengage']"
   ]
  },
  {
   "cell_type": "markdown",
   "metadata": {},
   "source": [
    "Attention, il vaut mieux vérifier l'existence de l'attribut avant de l'indicer, sinon, ça peut entraîner une erreur :"
   ]
  },
  {
   "cell_type": "code",
   "execution_count": 48,
   "metadata": {
    "ExecuteTime": {
     "end_time": "2019-01-17T13:44:43.380458Z",
     "start_time": "2019-01-17T13:44:43.372434Z"
    }
   },
   "outputs": [],
   "source": [
    "premier_denom.attrs['data'] if 'data' in premier_denom.attrs else None"
   ]
  },
  {
   "cell_type": "markdown",
   "metadata": {},
   "source": [
    "# Modifier un fichier ML"
   ]
  },
  {
   "cell_type": "markdown",
   "metadata": {},
   "source": [
    "Nous n'étudierons pas cet aspect dans la mesure où dans le cadre de ce cours, les formats ML ne seront pas utilisés en écriture (c'est d'ailleurs un mauvais format de stockage), mais uniquement en lecture. Mais c'est possible et pas si compliqué"
   ]
  },
  {
   "cell_type": "markdown",
   "metadata": {},
   "source": [
    "<div class=\"alert alert-block alert-info\"><b>Pour aller plus loin :</b> <a href=https://www.crummy.com/software/BeautifulSoup/bs4/doc/#modifying-the-tree> Doc officielle de BeautifulSoup sur <b>la modification d'une structure ML</b></a></div>"
   ]
  },
  {
   "cell_type": "markdown",
   "metadata": {},
   "source": [
    "# Ecriture dans un fichier"
   ]
  },
  {
   "cell_type": "markdown",
   "metadata": {},
   "source": [
    "On peut facilement écrire le contenu d'un objet BeautifulSoup de la manière suivante :"
   ]
  },
  {
   "cell_type": "code",
   "execution_count": 49,
   "metadata": {
    "ExecuteTime": {
     "end_time": "2019-01-17T13:44:47.173287Z",
     "start_time": "2019-01-17T13:44:46.721521Z"
    }
   },
   "outputs": [],
   "source": [
    "with open('../output/nouveau_html.html', 'w', encoding='utf-8') as fichier:\n",
    "    fichier.write(str(objet_bs))"
   ]
  },
  {
   "cell_type": "markdown",
   "metadata": {},
   "source": [
    "Ou mieux l'écrire en le **prettyfiant**, anglicisme qui vient de l'anglais prettify, qui veut dire, rendre joli. Dans le cas présent, ça fera en sorte que les indentations soient propres."
   ]
  },
  {
   "cell_type": "code",
   "execution_count": 50,
   "metadata": {
    "ExecuteTime": {
     "end_time": "2019-01-17T13:44:48.425805Z",
     "start_time": "2019-01-17T13:44:47.985823Z"
    }
   },
   "outputs": [],
   "source": [
    "with open('../output/nouveau_html.html', 'w', encoding='utf-8') as fichier:\n",
    "    fichier.write(objet_bs.prettify())"
   ]
  },
  {
   "cell_type": "code",
   "execution_count": null,
   "metadata": {},
   "outputs": [],
   "source": []
  },
  {
   "cell_type": "code",
   "execution_count": null,
   "metadata": {},
   "outputs": [],
   "source": []
  }
 ],
 "metadata": {
  "kernelspec": {
   "display_name": "Python 3",
   "language": "python",
   "name": "python3"
  },
  "language_info": {
   "codemirror_mode": {
    "name": "ipython",
    "version": 3
   },
   "file_extension": ".py",
   "mimetype": "text/x-python",
   "name": "python",
   "nbconvert_exporter": "python",
   "pygments_lexer": "ipython3",
   "version": "3.7.1"
  },
  "toc": {
   "base_numbering": 1,
   "nav_menu": {
    "height": "500px",
    "width": "252px"
   },
   "number_sections": true,
   "sideBar": true,
   "skip_h1_title": false,
   "title_cell": "Table of Contents",
   "title_sidebar": "Contents",
   "toc_cell": false,
   "toc_position": {
    "height": "621px",
    "left": "0px",
    "right": "1359px",
    "top": "107px",
    "width": "187px"
   },
   "toc_section_display": "block",
   "toc_window_display": true
  },
  "varInspector": {
   "cols": {
    "lenName": 16,
    "lenType": 16,
    "lenVar": 40
   },
   "kernels_config": {
    "python": {
     "delete_cmd_postfix": "",
     "delete_cmd_prefix": "del ",
     "library": "var_list.py",
     "varRefreshCmd": "print(var_dic_list())"
    },
    "r": {
     "delete_cmd_postfix": ") ",
     "delete_cmd_prefix": "rm(",
     "library": "var_list.r",
     "varRefreshCmd": "cat(var_dic_list()) "
    }
   },
   "position": {
    "height": "243.4px",
    "left": "1171.6px",
    "right": "20px",
    "top": "118px",
    "width": "344.4px"
   },
   "types_to_exclude": [
    "module",
    "function",
    "builtin_function_or_method",
    "instance",
    "_Feature"
   ],
   "window_display": false
  }
 },
 "nbformat": 4,
 "nbformat_minor": 2
}

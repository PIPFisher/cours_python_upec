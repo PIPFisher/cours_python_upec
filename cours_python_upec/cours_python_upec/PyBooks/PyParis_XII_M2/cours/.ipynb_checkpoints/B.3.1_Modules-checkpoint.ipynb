{
 "cells": [
  {
   "cell_type": "markdown",
   "metadata": {},
   "source": [
    "<br>\n",
    "<div align=\"right\">Enseignant : Aric Wizenberg</div>\n",
    "<div align=\"right\">E-mail : icarwiz@yahoo.fr</div>\n",
    "<div align=\"right\">Année : 2018/2019</div><br><br><br>\n",
    "<div align=\"center\"><span style=\"font-family:Lucida Caligraphy;font-size:32px;color:darkgreen\">Master 2 MASERATI - Cours de Python</span></div><br><br>\n",
    "<div align=\"center\"><span style=\"font-family:Lucida Caligraphy;font-size:24px;color:#e60000\">Modules et bibliothèques</span></div><br><br>\n",
    "<hr>"
   ]
  },
  {
   "cell_type": "markdown",
   "metadata": {},
   "source": [
    "# Fonctions et classe natives"
   ]
  },
  {
   "cell_type": "markdown",
   "metadata": {},
   "source": [
    "Le coeur de Python, chargé par défaut, dispose d'un nombre très limité de fonctions natives, moins d'une centaine. Nous en avons déjà vu quelques-unes (print, type, len, input...)"
   ]
  },
  {
   "cell_type": "markdown",
   "metadata": {},
   "source": [
    "<div class=\"alert alert-block alert-info\"><b>Pour aller plus loin :</b> <a href=https://docs.python.org/3/library/functions.html> Fonctions natives de Python </a></div>"
   ]
  },
  {
   "cell_type": "markdown",
   "metadata": {},
   "source": [
    "De même il y a un nombre limité de classes et types natifs.\n",
    "\n",
    "Mais il existe en réalité un nombre immense de fonctions et de classes crées par les concepteurs de Python ou par des tiers...\n",
    "\n",
    "Les **bibliothèques** (plus couramment nommées **modules** en Python) sont des ensembles de fonctions, de constantes et de classes qu'on peut utiliser dans son code à deux conditions :\n",
    "1. que les modules soient **préalablement installés** sur l'ordinateur qui exécute le code\n",
    "2. que les modules soient **importés** (chargés en mémoire, dans le Kernel) dans le code, avant de les utiliser"
   ]
  },
  {
   "cell_type": "markdown",
   "metadata": {},
   "source": [
    "# Charger un module"
   ]
  },
  {
   "cell_type": "markdown",
   "metadata": {},
   "source": [
    "Il y a deux moyens possibles d'**importer** de nouveaux éléments, donc de les charger en **mémoire** (nécessaire au fait d'en rendre possible l'utilisation)."
   ]
  },
  {
   "cell_type": "markdown",
   "metadata": {},
   "source": [
    "## Par import du module complet"
   ]
  },
  {
   "cell_type": "markdown",
   "metadata": {},
   "source": [
    "En utilisant la commande :\n",
    "```python\n",
    "import nom_module\n",
    "```\n",
    "\n",
    "Tous les composants de la bibliothèque sont alors accessible en utilisant la formulation :\n",
    "```python\n",
    "nom_module.nom_fonction() \n",
    "\n",
    "```\n",
    "ou \n",
    "```python\n",
    "nom_module.NomClasse\n",
    "```\n",
    "\n",
    "Par exemple, la bibliothèque **os** de Python permet d'utiliser des commandes en lien avec le système d'exploitation (Operating System en anglais), comme par exemple : exécuter un programme, parcourir le disque dur...\n",
    "\n",
    "Supposons que je veuille utiliser la fonction **listdir** contenue du module **os** qui permet d'obtenir la liste des fichiers dans un dossier (par défaut celui où se trouve le Notebook). Il suffit de faire :"
   ]
  },
  {
   "cell_type": "code",
   "execution_count": 1,
   "metadata": {
    "ExecuteTime": {
     "end_time": "2019-01-17T08:47:48.648140Z",
     "start_time": "2019-01-17T08:47:48.644147Z"
    }
   },
   "outputs": [],
   "source": [
    "import os"
   ]
  },
  {
   "cell_type": "markdown",
   "metadata": {},
   "source": [
    "Après exécution de cette cellule (et tant que le Kernel n'est pas redémarré), on peut accéder aux fonctions et classes de ce module :"
   ]
  },
  {
   "cell_type": "code",
   "execution_count": 2,
   "metadata": {
    "ExecuteTime": {
     "end_time": "2019-01-17T08:47:55.119448Z",
     "start_time": "2019-01-17T08:47:55.107479Z"
    }
   },
   "outputs": [
    {
     "data": {
      "text/plain": [
       "['.ipynb_checkpoints',\n",
       " 'B.1.1_Installation_HTML.ipynb',\n",
       " 'B.1.1_Installation_NB.ipynb',\n",
       " 'B.1.2_ComposantsBase.ipynb',\n",
       " 'B.1.3_Notebook.ipynb',\n",
       " 'B.2.1_Bases.ipynb',\n",
       " 'B.2.2.1_Nombres.ipynb',\n",
       " 'B.2.2.2_Variables.ipynb',\n",
       " 'B.2.2.3_Strings.ipynb',\n",
       " 'B.2.2.4_Ensembles.ipynb']"
      ]
     },
     "execution_count": 2,
     "metadata": {},
     "output_type": "execute_result"
    }
   ],
   "source": [
    "os.listdir()[:10]"
   ]
  },
  {
   "cell_type": "markdown",
   "metadata": {},
   "source": [
    "On peut aussi ajouter un module entier en lui donnant un **alias**, par exemple on importe souvent la bibliothèque **numpy** qui permet d'utiliser un grand nombre de fonctions de calculs mathématiques en lui donnant l'abréviation *np* grâce au mot-clé **as**"
   ]
  },
  {
   "cell_type": "code",
   "execution_count": 3,
   "metadata": {
    "ExecuteTime": {
     "end_time": "2019-01-17T08:48:17.249481Z",
     "start_time": "2019-01-17T08:48:17.245492Z"
    }
   },
   "outputs": [],
   "source": [
    "import numpy as np"
   ]
  },
  {
   "cell_type": "code",
   "execution_count": 4,
   "metadata": {
    "ExecuteTime": {
     "end_time": "2019-01-17T08:48:18.535748Z",
     "start_time": "2019-01-17T08:48:18.531718Z"
    }
   },
   "outputs": [
    {
     "data": {
      "text/plain": [
       "3.141592653589793"
      ]
     },
     "execution_count": 4,
     "metadata": {},
     "output_type": "execute_result"
    }
   ],
   "source": [
    "np.pi"
   ]
  },
  {
   "cell_type": "markdown",
   "metadata": {},
   "source": [
    "## Par import d'un élément spécifique"
   ]
  },
  {
   "cell_type": "markdown",
   "metadata": {},
   "source": [
    "On peut aussi importer un ou plusieurs éléments spécifiques (au lieu d'importer tout le module) en utilisant la commande :\n",
    "```python\n",
    "from nom_module import nom_fonction\n",
    "```\n",
    "ou\n",
    "```python\n",
    "from nom_module import nom_fonction1, nom_fonction2\n",
    "```"
   ]
  },
  {
   "cell_type": "code",
   "execution_count": 5,
   "metadata": {
    "ExecuteTime": {
     "end_time": "2019-01-17T08:49:05.102841Z",
     "start_time": "2019-01-17T08:49:05.098852Z"
    }
   },
   "outputs": [],
   "source": [
    "from os import listdir"
   ]
  },
  {
   "cell_type": "code",
   "execution_count": 6,
   "metadata": {
    "ExecuteTime": {
     "end_time": "2019-01-17T08:49:06.756315Z",
     "start_time": "2019-01-17T08:49:06.750331Z"
    }
   },
   "outputs": [
    {
     "data": {
      "text/plain": [
       "['.ipynb_checkpoints',\n",
       " 'B.1.1_Installation_HTML.ipynb',\n",
       " 'B.1.1_Installation_NB.ipynb',\n",
       " 'B.1.2_ComposantsBase.ipynb',\n",
       " 'B.1.3_Notebook.ipynb',\n",
       " 'B.2.1_Bases.ipynb',\n",
       " 'B.2.2.1_Nombres.ipynb',\n",
       " 'B.2.2.2_Variables.ipynb',\n",
       " 'B.2.2.3_Strings.ipynb',\n",
       " 'B.2.2.4_Ensembles.ipynb']"
      ]
     },
     "execution_count": 6,
     "metadata": {},
     "output_type": "execute_result"
    }
   ],
   "source": [
    "listdir()[:10]"
   ]
  },
  {
   "cell_type": "code",
   "execution_count": 7,
   "metadata": {
    "ExecuteTime": {
     "end_time": "2019-01-17T08:49:11.017782Z",
     "start_time": "2019-01-17T08:49:11.014788Z"
    }
   },
   "outputs": [],
   "source": [
    "from numpy import pi"
   ]
  },
  {
   "cell_type": "code",
   "execution_count": 8,
   "metadata": {
    "ExecuteTime": {
     "end_time": "2019-01-17T08:49:12.269764Z",
     "start_time": "2019-01-17T08:49:12.264780Z"
    }
   },
   "outputs": [
    {
     "data": {
      "text/plain": [
       "6.283185307179586"
      ]
     },
     "execution_count": 8,
     "metadata": {},
     "output_type": "execute_result"
    }
   ],
   "source": [
    "2*pi"
   ]
  },
  {
   "cell_type": "markdown",
   "metadata": {},
   "source": [
    "Les fonctions et modules peuvent aussi se voir assigner un alias en rajoutant l'instruction **as** après le nom :"
   ]
  },
  {
   "cell_type": "code",
   "execution_count": 9,
   "metadata": {
    "ExecuteTime": {
     "end_time": "2019-01-17T08:49:19.623495Z",
     "start_time": "2019-01-17T08:49:19.619547Z"
    }
   },
   "outputs": [],
   "source": [
    "from os import listdir as ld"
   ]
  },
  {
   "cell_type": "code",
   "execution_count": 10,
   "metadata": {
    "ExecuteTime": {
     "end_time": "2019-01-17T08:49:20.757117Z",
     "start_time": "2019-01-17T08:49:20.751131Z"
    }
   },
   "outputs": [
    {
     "data": {
      "text/plain": [
       "['.ipynb_checkpoints',\n",
       " 'B.1.1_Installation_HTML.ipynb',\n",
       " 'B.1.1_Installation_NB.ipynb',\n",
       " 'B.1.2_ComposantsBase.ipynb',\n",
       " 'B.1.3_Notebook.ipynb',\n",
       " 'B.2.1_Bases.ipynb',\n",
       " 'B.2.2.1_Nombres.ipynb',\n",
       " 'B.2.2.2_Variables.ipynb',\n",
       " 'B.2.2.3_Strings.ipynb',\n",
       " 'B.2.2.4_Ensembles.ipynb']"
      ]
     },
     "execution_count": 10,
     "metadata": {},
     "output_type": "execute_result"
    }
   ],
   "source": [
    "ld()[:10]"
   ]
  },
  {
   "cell_type": "markdown",
   "metadata": {},
   "source": [
    "## Quand utiliser quoi ?"
   ]
  },
  {
   "cell_type": "markdown",
   "metadata": {},
   "source": [
    "Lorsque vous savez que vous n'utiliserez que quelques éléments d'un module, il est préférable d'importer ces éléments en utilisant **from**.\n",
    "\n",
    "Lorsque vous utilisez un nombre plus importants d'éléments d'un module, il est préférable d'importer le module complet, si nécessaire en lui donnant un alias.\n",
    "\n",
    "Sachez qu'**en termes d'utilisation de la mémoire, ça ne change absolument rien**."
   ]
  },
  {
   "cell_type": "markdown",
   "metadata": {},
   "source": [
    "# Modules de la bibliothèque standard"
   ]
  },
  {
   "cell_type": "markdown",
   "metadata": {},
   "source": [
    "Il existe un nombre important de modules, qui sont systématiquement installés avec Python (et donc, a fortiori, avec Anaconda), mais qui ne sont pas chargés en permanence en mémoire (et ne sont donc pas utilisable sans import) : **datetime**, **os**, **random**...\n",
    "\n",
    "La plupart des modules ne seront pas évoqués ici..."
   ]
  },
  {
   "cell_type": "markdown",
   "metadata": {},
   "source": [
    "<div class=\"alert alert-block alert-info\"><b>Pour aller plus loin :</b> \n",
    "\n",
    "<a href=https://docs.python.org/3/library/index.html> Doc officielle de Python sur la <b>bibliothèque standard</b></a>\n",
    "\n",
    "<a href=https://docs.python.org/3/py-modindex.html> Liste de l'ensemble des modules de la <b>bibliothèque standard</b> de Python</a>\n",
    "</div>"
   ]
  },
  {
   "cell_type": "markdown",
   "metadata": {},
   "source": [
    "## Module datetime"
   ]
  },
  {
   "cell_type": "markdown",
   "metadata": {},
   "source": [
    "### Bases"
   ]
  },
  {
   "cell_type": "markdown",
   "metadata": {},
   "source": [
    "Le module **datetime** permet de gérer toutes les questions relatives aux objets permettant de manipuler les dates"
   ]
  },
  {
   "cell_type": "code",
   "execution_count": 11,
   "metadata": {
    "ExecuteTime": {
     "end_time": "2019-01-17T08:49:30.112833Z",
     "start_time": "2019-01-17T08:49:30.108883Z"
    }
   },
   "outputs": [],
   "source": [
    "import datetime as dt"
   ]
  },
  {
   "cell_type": "code",
   "execution_count": 12,
   "metadata": {
    "ExecuteTime": {
     "end_time": "2019-01-17T08:49:31.400366Z",
     "start_time": "2019-01-17T08:49:31.394422Z"
    }
   },
   "outputs": [
    {
     "data": {
      "text/plain": [
       "['MAXYEAR',\n",
       " 'MINYEAR',\n",
       " '__builtins__',\n",
       " '__cached__',\n",
       " '__doc__',\n",
       " '__file__',\n",
       " '__loader__',\n",
       " '__name__',\n",
       " '__package__',\n",
       " '__spec__',\n",
       " 'date',\n",
       " 'datetime',\n",
       " 'datetime_CAPI',\n",
       " 'sys',\n",
       " 'time',\n",
       " 'timedelta',\n",
       " 'timezone',\n",
       " 'tzinfo']"
      ]
     },
     "execution_count": 12,
     "metadata": {},
     "output_type": "execute_result"
    }
   ],
   "source": [
    "dir(dt)"
   ]
  },
  {
   "cell_type": "markdown",
   "metadata": {},
   "source": [
    "le module **datetime** dispose de trois classes de base :\n",
    "- **date** qui est la classe permettant de gérer une date\n",
    "- **time** qui est la classe permettant de gérer une heure de la journée\n",
    "- **datetime** qui est la classe permettant de gérer un ensemble formé par une date et une heure"
   ]
  },
  {
   "cell_type": "markdown",
   "metadata": {},
   "source": [
    "### Obtenir la date actuelle"
   ]
  },
  {
   "cell_type": "code",
   "execution_count": 13,
   "metadata": {
    "ExecuteTime": {
     "end_time": "2019-01-17T08:49:49.113152Z",
     "start_time": "2019-01-17T08:49:49.107168Z"
    }
   },
   "outputs": [
    {
     "data": {
      "text/plain": [
       "datetime.date(2019, 1, 17)"
      ]
     },
     "execution_count": 13,
     "metadata": {},
     "output_type": "execute_result"
    }
   ],
   "source": [
    "dt.date.today()"
   ]
  },
  {
   "cell_type": "code",
   "execution_count": 14,
   "metadata": {
    "ExecuteTime": {
     "end_time": "2019-01-17T08:49:51.249738Z",
     "start_time": "2019-01-17T08:49:51.244754Z"
    }
   },
   "outputs": [
    {
     "data": {
      "text/plain": [
       "datetime.datetime(2019, 1, 17, 9, 49, 51, 245751)"
      ]
     },
     "execution_count": 14,
     "metadata": {},
     "output_type": "execute_result"
    }
   ],
   "source": [
    "dtnow = dt.datetime.now()\n",
    "dtnow"
   ]
  },
  {
   "cell_type": "markdown",
   "metadata": {
    "ExecuteTime": {
     "end_time": "2018-09-09T17:41:11.970783Z",
     "start_time": "2018-09-09T17:41:11.955183Z"
    }
   },
   "source": [
    "L'objet renvoyé par cette fonction est un objet de type **datetime**"
   ]
  },
  {
   "cell_type": "code",
   "execution_count": 17,
   "metadata": {
    "ExecuteTime": {
     "end_time": "2019-01-17T08:52:57.868912Z",
     "start_time": "2019-01-17T08:52:57.862929Z"
    }
   },
   "outputs": [
    {
     "data": {
      "text/plain": [
       "datetime.datetime"
      ]
     },
     "execution_count": 17,
     "metadata": {},
     "output_type": "execute_result"
    }
   ],
   "source": [
    "type(dtnow)"
   ]
  },
  {
   "cell_type": "markdown",
   "metadata": {},
   "source": [
    "Les principaux attributs d'un objet datetime sont les suivants :"
   ]
  },
  {
   "cell_type": "code",
   "execution_count": 16,
   "metadata": {
    "ExecuteTime": {
     "end_time": "2019-01-17T08:50:07.245387Z",
     "start_time": "2019-01-17T08:50:07.238406Z"
    }
   },
   "outputs": [
    {
     "data": {
      "text/plain": [
       "(2019, 1, 17, 9, 49, 51, 245751)"
      ]
     },
     "execution_count": 16,
     "metadata": {},
     "output_type": "execute_result"
    }
   ],
   "source": [
    "dtnow.year, dtnow.month, dtnow.day, dtnow.hour, dtnow.minute, dtnow.second, dtnow.microsecond"
   ]
  },
  {
   "cell_type": "markdown",
   "metadata": {},
   "source": [
    "### Faire des opérations sur les objets datetime"
   ]
  },
  {
   "cell_type": "markdown",
   "metadata": {},
   "source": [
    "Il est aussi possible de faire des opérations différentielles sur les dates en utilisant la classe **timedelta**"
   ]
  },
  {
   "cell_type": "markdown",
   "metadata": {},
   "source": [
    "**timedelta** est une **différence entre 2 périodes de temps**"
   ]
  },
  {
   "cell_type": "code",
   "execution_count": 18,
   "metadata": {
    "ExecuteTime": {
     "end_time": "2019-01-17T08:58:47.789448Z",
     "start_time": "2019-01-17T08:58:47.785459Z"
    }
   },
   "outputs": [],
   "source": [
    "mon_diff_temps = dt.timedelta(hours=20)"
   ]
  },
  {
   "cell_type": "markdown",
   "metadata": {},
   "source": [
    "On peut alors additionner ou soustraire un **datetime** et un **timedelta**"
   ]
  },
  {
   "cell_type": "code",
   "execution_count": 19,
   "metadata": {
    "ExecuteTime": {
     "end_time": "2019-01-17T08:59:00.824640Z",
     "start_time": "2019-01-17T08:59:00.819654Z"
    }
   },
   "outputs": [
    {
     "name": "stdout",
     "output_type": "stream",
     "text": [
      "2019-01-18 05:49:51.245751\n",
      "2019-01-16 13:49:51.245751\n"
     ]
    }
   ],
   "source": [
    "print(dtnow + mon_diff_temps)\n",
    "print(dtnow - mon_diff_temps)"
   ]
  },
  {
   "cell_type": "markdown",
   "metadata": {},
   "source": [
    "### Transformations entre chaines de caractères et objets datetime"
   ]
  },
  {
   "cell_type": "markdown",
   "metadata": {},
   "source": [
    "Pour créer un objet datetime depuis une chaine de caractères, il faut utiliser la méthode **datetime.datetime.strptime()** (comme **string parse time**) et fournir le format de la date avec des spécificateurs particuliers."
   ]
  },
  {
   "cell_type": "code",
   "execution_count": 20,
   "metadata": {
    "ExecuteTime": {
     "end_time": "2019-01-17T08:59:49.713042Z",
     "start_time": "2019-01-17T08:59:49.707128Z"
    }
   },
   "outputs": [],
   "source": [
    "ma_date = dt.datetime.strptime('08/08/18 22:33', '%d/%m/%y %H:%M')"
   ]
  },
  {
   "cell_type": "markdown",
   "metadata": {},
   "source": [
    "La fonction inverse est **strftime** (comme **string format time**), qui fonctionne de manière similaire :"
   ]
  },
  {
   "cell_type": "code",
   "execution_count": 21,
   "metadata": {
    "ExecuteTime": {
     "end_time": "2019-01-17T08:59:58.646013Z",
     "start_time": "2019-01-17T08:59:58.641026Z"
    }
   },
   "outputs": [
    {
     "data": {
      "text/plain": [
       "'18_08_08_22_33'"
      ]
     },
     "execution_count": 21,
     "metadata": {},
     "output_type": "execute_result"
    }
   ],
   "source": [
    "ma_date.strftime('%y_%m_%d_%H_%M')"
   ]
  },
  {
   "cell_type": "markdown",
   "metadata": {},
   "source": [
    "### Module calendar"
   ]
  },
  {
   "cell_type": "markdown",
   "metadata": {},
   "source": [
    "Ce module permet d'utiliser des fonctions supplémentaires en lien avec le calendrier annuel"
   ]
  },
  {
   "cell_type": "markdown",
   "metadata": {},
   "source": [
    "---"
   ]
  },
  {
   "cell_type": "markdown",
   "metadata": {},
   "source": [
    "<div class=\"alert alert-block alert-info\"><b>Pour aller plus loin :</b><br> \n",
    "<a href=https://docs.python.org/3/library/datetime.html#strftime-and-strptime-behavior> Liste complète des <b>spécificateurs de date</b></a><br>\n",
    "<a href=https://docs.python.org/3/library/datetime.html> Doc officielle de Python sur le <b>module datetime</b></a><br>\n",
    "<a href=https://docs.python.org/3/library/calendar.html> Doc officielle de Python sur le <b>module calendar</b></a>\n",
    "</div>"
   ]
  },
  {
   "cell_type": "markdown",
   "metadata": {},
   "source": [
    "## Autres modules en vrac"
   ]
  },
  {
   "cell_type": "markdown",
   "metadata": {
    "ExecuteTime": {
     "end_time": "2018-10-06T10:19:26.873829Z",
     "start_time": "2018-10-06T10:19:26.842629Z"
    }
   },
   "source": [
    "### Module collections"
   ]
  },
  {
   "cell_type": "markdown",
   "metadata": {},
   "source": [
    "Permet d'utiliser des types de base en versions améliorées :\n",
    "- OrderedDict : un type similaire au **dict** mais qui ont l'avantage d'avoir leurs clés ordonnées.\n",
    "- namedtuple : un type permet d'utiliser des **tuple** dont les éléments sont nommés.\n",
    "- deque : un type permettant de manipuler des **files** ou **piles**.\n",
    "\n",
    "Et d'autres...\n",
    "\n",
    "*-Files : comme au supermarché, piles comme la pile quand on fait le menage. Question de choses, de en quel moment sortent, le premier et le dernier.-*-"
   ]
  },
  {
   "cell_type": "markdown",
   "metadata": {},
   "source": [
    "<div class=\"alert alert-block alert-info\"><b>Pour aller plus loin :</b> <a href=https://docs.python.org/3/library/collections.html> Doc officielle de Python sur le <b>module collections</b></a></div>"
   ]
  },
  {
   "cell_type": "markdown",
   "metadata": {},
   "source": [
    "### Module itertools"
   ]
  },
  {
   "cell_type": "markdown",
   "metadata": {},
   "source": [
    "Permet d'utiliser des itérateurs. C'est-à-dire des structures Certaines fonctions devenues natives en Python sont d'ailleurs historiquement issues de ce module : **zip** et **map**. \n",
    "\n",
    "Ce sujet sera brièvement abordé dans la section [Techniques avancées](B.3.5_Avance.ipynb) du cours, que nous étudierons plus tard.\n",
    "\n",
    "On peut par exemple évoquer :\n",
    "- Les **cycle**\n",
    "- Les **permutations**\n",
    "- Les **combinations**\n",
    "- Les **accumulate**"
   ]
  },
  {
   "cell_type": "markdown",
   "metadata": {},
   "source": [
    "<div class=\"alert alert-block alert-info\"><b>Pour aller plus loin :</b> <a href=https://docs.python.org/3/library/itertools.html> Doc officielle de Python sur le <b>module itertools</b></a></div>"
   ]
  },
  {
   "cell_type": "markdown",
   "metadata": {
    "ExecuteTime": {
     "end_time": "2018-10-06T10:19:26.873829Z",
     "start_time": "2018-10-06T10:19:26.842629Z"
    }
   },
   "source": [
    "### Module zipfile et autres modules de compression"
   ]
  },
  {
   "cell_type": "markdown",
   "metadata": {},
   "source": [
    "C'est un module qui permet d'accéder et de travailler avec les fichiers ZIP.\n",
    "\n",
    "On peut aussi citer les modules suivants, traitant d'autres formats de compression : gzip, bz2, lzma..."
   ]
  },
  {
   "cell_type": "markdown",
   "metadata": {},
   "source": [
    "<div class=\"alert alert-block alert-info\"><b>Pour aller plus loin :</b> <a href=https://docs.python.org/3/library/zipfile.html> Doc officielle de Python sur le <b>module zipfile</b></a></div>"
   ]
  },
  {
   "cell_type": "markdown",
   "metadata": {
    "ExecuteTime": {
     "end_time": "2018-10-06T10:19:26.873829Z",
     "start_time": "2018-10-06T10:19:26.842629Z"
    }
   },
   "source": [
    "### Module tkinter"
   ]
  },
  {
   "cell_type": "markdown",
   "metadata": {},
   "source": [
    "C'est le module standard de Python pour faire des **GUI** (Graphical User Interface), ce que vous appelez couramment (et abusivement) un programme. Le GUI est la partie émergée de l'iceberg qu'est un programme : s'agit de tout ce qui permettra de faire une interface avec des fenêtres, des boutons, des boites de dialogue, etc.\n",
    "\n",
    "Normalement on n'utilise jamais tkinter lorsque l'on programme sur Notebook étant donné que Notebook est en soi une sorte de GUI pré-implémenté.\n",
    "\n",
    "Il existe d'autre modules externes permettant de créer des GUI (wxpython par exemple)."
   ]
  },
  {
   "cell_type": "markdown",
   "metadata": {},
   "source": [
    "<div class=\"alert alert-block alert-info\"><b>Pour aller plus loin :</b> <a href=https://docs.python.org/3/library/tkinter.html> Doc officielle de Python sur le <b>module tkinter</b></a></div>"
   ]
  },
  {
   "cell_type": "markdown",
   "metadata": {},
   "source": [
    "### Modules os, shutil, sys"
   ]
  },
  {
   "cell_type": "markdown",
   "metadata": {},
   "source": [
    "Il s'agit des modules en lien avec l'ordinateur lui-même. Ils permettent par exemple d'obtenir toutes les fonctions pour faciliter l'exploitation du disque dur"
   ]
  },
  {
   "cell_type": "markdown",
   "metadata": {},
   "source": [
    "<div class=\"alert alert-block alert-info\"><b>Pour aller plus loin :</b><br> \n",
    "<a href=https://docs.python.org/3/library/os.html> Doc officielle de Python sur le <b>module os</b></a><br>\n",
    "<a href=https://docs.python.org/3/library/shutil.html> Doc officielle de Python sur le <b>module shutil</b></a><br>\n",
    "<a href=https://docs.python.org/3/library/sys.html> Doc officielle de Python sur le <b>module sys</b></a>\n",
    "</div>"
   ]
  },
  {
   "cell_type": "markdown",
   "metadata": {},
   "source": [
    "### Modules random, math, array, statistics"
   ]
  },
  {
   "cell_type": "markdown",
   "metadata": {},
   "source": [
    "Ce sont les modules permettant de travailler avec outils mathématiques ou statistiques\n",
    "\n",
    "**random** est la bibliothèque permettant de générer aléatoirement des nombres ou modalités. Mais on utilisera plutôt le sous-module **random** du module **numpy**, ses fonctions sont des versions améliorées.\n",
    "\n",
    "Il existe aussi d'autres modules de la bibliothèque standard comme **math**, **array**, **statistics**, pour lesquels là aussi, nous préfèrerons généralement utiliser **numpy** (ou **scipy**) qui seront présentés dans la suite de ce cours."
   ]
  },
  {
   "cell_type": "markdown",
   "metadata": {},
   "source": [
    "### Module re"
   ]
  },
  {
   "cell_type": "markdown",
   "metadata": {},
   "source": [
    "**re** est un module qui permet d'utiliser les **regular expressions**, un outil très puissant permettant de trouver des chaines de caractères basées sur des patterns."
   ]
  },
  {
   "cell_type": "markdown",
   "metadata": {},
   "source": [
    "<div class=\"alert alert-block alert-info\"><b>Pour aller plus loin :</b> <a href=https://www.datacamp.com/community/tutorials/python-regular-expression-tutorial> Tutorial sur les <b>regular expressions et le module re</b></a></div>"
   ]
  },
  {
   "cell_type": "markdown",
   "metadata": {},
   "source": [
    "### Module configparser"
   ]
  },
  {
   "cell_type": "markdown",
   "metadata": {},
   "source": [
    "**configparser** permet de traiter les fichiers de configuration **ini**, ce qui est très utile"
   ]
  },
  {
   "cell_type": "markdown",
   "metadata": {},
   "source": [
    "<div class=\"alert alert-block alert-info\"><b>Pour aller plus loin :</b> <a href=https://docs.python.org/3/library/configparser.html> Doc officielle de Python sur le <b>module configparser</b></a></div>"
   ]
  },
  {
   "cell_type": "markdown",
   "metadata": {},
   "source": [
    "# Modules d'autres bibliothèques "
   ]
  },
  {
   "cell_type": "markdown",
   "metadata": {},
   "source": [
    "Il existe en plus un nombre très important et croissant de modules créées en dehors de la bibliothèque standard, ils ont chacun leur documentation. \n",
    "\n",
    "Ces modules **nécessitent d'être installées une première fois** si l'on n'a installé que le coeur de Python...\n",
    "\n",
    "Mais grâce au fait que vous utilisez une distribution, **Anaconda**, un grand nombre de modules supplémentaires sont déjà installées sur votre ordinateur. Par exemple :"
   ]
  },
  {
   "cell_type": "markdown",
   "metadata": {
    "ExecuteTime": {
     "end_time": "2018-01-07T22:09:55.990201Z",
     "start_time": "2018-01-07T22:09:55.976201Z"
    }
   },
   "source": [
    "* Pandas : gestion de tables de données\n",
    "\n",
    "<div class=\"alert alert-block alert-info\"><a href=https://pandas.pydata.org/pandas-docs/stable/>Doc officielle de <b>Pandas</b></a></div>"
   ]
  },
  {
   "cell_type": "markdown",
   "metadata": {
    "ExecuteTime": {
     "end_time": "2018-01-07T22:09:55.990201Z",
     "start_time": "2018-01-07T22:09:55.976201Z"
    }
   },
   "source": [
    "* Numpy : fonctions et objets de calcul numérique (calculs matriciels et objets matrices par exemple)\n",
    "\n",
    "<div class=\"alert alert-block alert-info\"><a href=https://docs.scipy.org/doc/numpy/>Doc officielle de <b>Numpy</b></a></div>\n"
   ]
  },
  {
   "cell_type": "markdown",
   "metadata": {
    "ExecuteTime": {
     "end_time": "2018-01-07T22:09:55.990201Z",
     "start_time": "2018-01-07T22:09:55.976201Z"
    }
   },
   "source": [
    "* Scipy : fonctions et objets scientifique (fonctions statistiques complexes par exemple)\n",
    "\n",
    "<div class=\"alert alert-block alert-info\"><a href=https://docs.scipy.org/doc/scipy/reference/>Doc officielle de <b>Scipy</b></a></div>\n"
   ]
  },
  {
   "cell_type": "markdown",
   "metadata": {
    "ExecuteTime": {
     "end_time": "2018-01-07T22:09:55.990201Z",
     "start_time": "2018-01-07T22:09:55.976201Z"
    }
   },
   "source": [
    "* Matplotlib : fonctions d'affichage de graphiques\n",
    "\n",
    "<div class=\"alert alert-block alert-info\"><a href=https://matplotlib.org/users/index.html>Doc officielle de <b>Matplotlib</b></a></div>\n"
   ]
  },
  {
   "cell_type": "markdown",
   "metadata": {
    "ExecuteTime": {
     "end_time": "2018-01-07T22:09:55.990201Z",
     "start_time": "2018-01-07T22:09:55.976201Z"
    }
   },
   "source": [
    "* Sklearn : fonctions en rapport avec le Machine Learning, biblio de référence de tous les trucs du Data Scientist moderne\n",
    "\n",
    "<div class=\"alert alert-block alert-info\"><a href=http://scikit-learn.org/stable/>Doc officielle de <b>Sklearn</b></a></div>\n"
   ]
  },
  {
   "cell_type": "markdown",
   "metadata": {
    "ExecuteTime": {
     "end_time": "2018-01-07T22:09:55.990201Z",
     "start_time": "2018-01-07T22:09:55.976201Z"
    }
   },
   "source": [
    "* Statsmodels : fonctions en rapport avec l'économétrie\n",
    "\n",
    "<div class=\"alert alert-block alert-info\"><a href=https://www.statsmodels.org/stable/index.html>Doc officielle de <b>StatsModels</b></a></div>\n"
   ]
  },
  {
   "cell_type": "markdown",
   "metadata": {},
   "source": [
    "---"
   ]
  },
  {
   "cell_type": "markdown",
   "metadata": {
    "ExecuteTime": {
     "end_time": "2018-01-11T20:09:25.160839Z",
     "start_time": "2018-01-11T20:09:25.145239Z"
    }
   },
   "source": [
    "<div class=\"alert alert-block alert-info\"><b>Pour aller plus loin :</b> <a href=https://docs.anaconda.com/anaconda/packages/py3.6_win-64.html>La liste de l'ensemble des modules installés par défaut avec Anaconda</a><br> (seules les case cochées correspondent à des modules déjà installés)</div>\n"
   ]
  },
  {
   "cell_type": "markdown",
   "metadata": {
    "ExecuteTime": {
     "end_time": "2018-01-11T20:11:48.355839Z",
     "start_time": "2018-01-11T20:11:48.348839Z"
    }
   },
   "source": [
    "Si vous voulez utiliser des modules qui ne sont pas installés par défaut avec Anaconda, il faudra les installer une première fois (et les réinstaller en cas de nouvelle installation d'Anaconda) vous-même en utilisant **conda** ou **pip** (cf. [Installer les extensions en utilisant la ligne de commande](X.1_Annexes.ipynb#Installer-les-extensions-en-utilisant-la-ligne-de-commande)).\n",
    "\n",
    "C'est d'ailleurs ce qui a été fait avec le module **jupyter_nbcontrib_nbextensions** lorsque vous avez installé Anaconda en début de cours"
   ]
  },
  {
   "cell_type": "markdown",
   "metadata": {},
   "source": [
    "# Modules personnels"
   ]
  },
  {
   "cell_type": "markdown",
   "metadata": {},
   "source": [
    "On peut très facilement créer soi-même des modules. Et c'est d'ailleurs recommandé : dans le cadre de votre activité vous allez vous-même créer vos propres fonctions et classes qui vous seront utiles dans le cadre de plusieurs Notebook. \n",
    "\n",
    "C'est un peu comme si un bricoleur se construisait ses propres outils."
   ]
  },
  {
   "cell_type": "markdown",
   "metadata": {},
   "source": [
    "## Modules simples"
   ]
  },
  {
   "cell_type": "markdown",
   "metadata": {},
   "source": [
    "Tout fichier avec une extension **.py** contenu dans le même dossier que le fichier de travail (en l'occurence le présent Notebook) peut être importé en utilisant les instructions précédemment évoquées (import, from, as) et le nom du fichier.\n",
    "\n",
    "Essayons avec la fonction ***liste_vols_vers_liste*** et , en créant un fichier transport.py qui contient leur définition.\n",
    "\n",
    "Après, essayons de les importer, puis de les utiliser:"
   ]
  },
  {
   "cell_type": "code",
   "execution_count": 23,
   "metadata": {
    "ExecuteTime": {
     "end_time": "2019-01-17T09:15:14.209742Z",
     "start_time": "2019-01-17T09:15:14.191791Z"
    }
   },
   "outputs": [
    {
     "data": {
      "text/plain": [
       "[['CDG', 'NTE', 'Air France'], ['TLS', 'NTE', 'Air France']]"
      ]
     },
     "execution_count": 23,
     "metadata": {},
     "output_type": "execute_result"
    }
   ],
   "source": [
    "import transport as trsp\n",
    "\n",
    "mes_donnees = [\n",
    "    'CDG;NTE;Air France',\n",
    "    'TLS;NTE;Air France',\n",
    "]\n",
    "\n",
    "trsp.liste_vols_vers_liste(mes_donnees)\n",
    "\n",
    "# Le fichier transport.py était en C:\\Users\\lucia\\PyBooks\\PyParis_XII_M2\\cours\\modules, on le copie et le colle en C:\\Users\\lucia\\PyBooks\\PyParis_XII_M2\\cours\\\n",
    "# Doit être là.\n"
   ]
  },
  {
   "cell_type": "markdown",
   "metadata": {},
   "source": [
    "## Modules avec sous-modules"
   ]
  },
  {
   "cell_type": "markdown",
   "metadata": {},
   "source": [
    "On peut aussi très facilement construire des architectures plus complexes de modules contenant des sous-modules.\n",
    "\n",
    "Pour cela, il suffit d'organiser ainsi les fichiers sur le disque dur :\n",
    "\n",
    "***Dossier_de_travail***\n",
    ">***sous_dossier*** &emsp;&emsp;&emsp;&emsp;&emsp;(sous-dossier qui servira de nom de module de base)\n",
    ">>*\\_\\_init\\_\\_.py* &emsp;&emsp;&emsp;(fichier vide, ne servant qu'à indiquer à Python que sous_dossier est un module parent)\n",
    ">>\n",
    ">>*sous_module.py* &emsp;(fichier servant de sous-module)\n",
    ">\n",
    ">*fichier_actuel.ipynb* &emsp;&emsp;&emsp;(fichier dans lequel on souhaite importer les modules et sous-modules, ça peut être indifférement un .py ou un .ipynb)\n",
    "\n",
    "Par exemple, ici, créons l'architecture suivante :\n",
    "\n",
    "***cours***\n",
    ">***modpers***\n",
    ">>*\\_\\_init\\_\\_.py*\n",
    ">>\n",
    ">>*transport.py*\n",
    ">\n",
    ">*B.3.2_Modules.ipynb*"
   ]
  },
  {
   "cell_type": "code",
   "execution_count": null,
   "metadata": {},
   "outputs": [],
   "source": [
    "import modpers.transport as trsp\n",
    "\n",
    "mes_donnees = [\n",
    "    'CDG;NTE;Air France',\n",
    "    'TLS;NTE;Air France',\n",
    "]\n",
    "\n",
    "trsp.liste_vols_vers_liste(mes_donnees)"
   ]
  },
  {
   "cell_type": "markdown",
   "metadata": {},
   "source": [
    "## Ré-import de modules"
   ]
  },
  {
   "cell_type": "markdown",
   "metadata": {},
   "source": [
    "<div class=\"alert alert-block alert-success\"><b>Attention :</b>\n",
    "\n",
    "La fonction **import** d'un élément spécifique (module / objet / fonction) ne fonctionne qu'une fois par session du Kernel, si vous réexuctez cete même instruction une deuxième fois, Python n'essaiera même pas de refaire l'import.\n",
    "\n",
    "Donc, si vous modifiez votre module entre-temps, relancer l'instruction import ne mettra pas à jour votre module dans la session courante du Kernel.\n",
    "</div>"
   ]
  },
  {
   "cell_type": "markdown",
   "metadata": {},
   "source": [
    "Pour mettre à jour un module que vous avez déjà chargé, mais que vous avez modifié entre temps, il existe en revanche une astuce : utiliser la fonction reload du module standard **importlib**"
   ]
  },
  {
   "cell_type": "code",
   "execution_count": null,
   "metadata": {},
   "outputs": [],
   "source": [
    "from importlib import reload\n",
    "reload(bib)"
   ]
  },
  {
   "cell_type": "markdown",
   "metadata": {},
   "source": [
    "# Vérification de version d'un module"
   ]
  },
  {
   "cell_type": "markdown",
   "metadata": {},
   "source": [
    "On peut vérifier la version d'un module ainsi :"
   ]
  },
  {
   "cell_type": "code",
   "execution_count": null,
   "metadata": {
    "scrolled": true
   },
   "outputs": [],
   "source": [
    "np.__version__"
   ]
  },
  {
   "cell_type": "markdown",
   "metadata": {},
   "source": [
    "Mais cela ne fonctionne pas avec les modules de la bibliothèque standard qui n'ont pas de version propre, ils sont de la même version que l'installation de Python. On peut afficher la version de Python ainsi :"
   ]
  },
  {
   "cell_type": "code",
   "execution_count": null,
   "metadata": {},
   "outputs": [],
   "source": [
    "import sys\n",
    "sys.version"
   ]
  },
  {
   "cell_type": "code",
   "execution_count": null,
   "metadata": {},
   "outputs": [],
   "source": []
  }
 ],
 "metadata": {
  "kernelspec": {
   "display_name": "Python 3",
   "language": "python",
   "name": "python3"
  },
  "language_info": {
   "codemirror_mode": {
    "name": "ipython",
    "version": 3
   },
   "file_extension": ".py",
   "mimetype": "text/x-python",
   "name": "python",
   "nbconvert_exporter": "python",
   "pygments_lexer": "ipython3",
   "version": "3.7.1"
  },
  "toc": {
   "base_numbering": 1,
   "nav_menu": {
    "height": "512px",
    "width": "252px"
   },
   "number_sections": true,
   "sideBar": true,
   "skip_h1_title": false,
   "title_cell": "Table of Contents",
   "title_sidebar": "Contents",
   "toc_cell": false,
   "toc_position": {
    "height": "660px",
    "left": "0px",
    "right": "1328px",
    "top": "107px",
    "width": "186px"
   },
   "toc_section_display": "block",
   "toc_window_display": true
  },
  "varInspector": {
   "cols": {
    "lenName": 16,
    "lenType": 16,
    "lenVar": 40
   },
   "kernels_config": {
    "python": {
     "delete_cmd_postfix": "",
     "delete_cmd_prefix": "del ",
     "library": "var_list.py",
     "varRefreshCmd": "print(var_dic_list())"
    },
    "r": {
     "delete_cmd_postfix": ") ",
     "delete_cmd_prefix": "rm(",
     "library": "var_list.r",
     "varRefreshCmd": "cat(var_dic_list()) "
    }
   },
   "position": {
    "height": "144px",
    "left": "913.2px",
    "right": "20px",
    "top": "116px",
    "width": "350px"
   },
   "types_to_exclude": [
    "module",
    "function",
    "builtin_function_or_method",
    "instance",
    "_Feature"
   ],
   "window_display": false
  }
 },
 "nbformat": 4,
 "nbformat_minor": 2
}

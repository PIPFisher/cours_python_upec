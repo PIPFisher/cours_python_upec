{
 "cells": [
  {
   "cell_type": "markdown",
   "metadata": {},
   "source": [
    "<br>\n",
    "<div align=\"right\">Enseignant : Aric Wizenberg</div>\n",
    "<div align=\"right\">E-mail : icarwiz@yahoo.fr</div>\n",
    "<div align=\"right\">Année : 2018/2019</div><br><br><br>\n",
    "<div align=\"center\"><span style=\"font-family:Lucida Caligraphy;font-size:32px;color:darkgreen\">Master 2 MASERATI - Cours de Python</span></div><br><br>\n",
    "<div align=\"center\"><span style=\"font-family:Lucida Caligraphy;font-size:24px;color:#e60000\">Gestion de fichiers</span></div><br><br>\n",
    "<hr>"
   ]
  },
  {
   "cell_type": "markdown",
   "metadata": {},
   "source": [
    "# Bases et fonctions prédéfinies a connaitre"
   ]
  },
  {
   "cell_type": "markdown",
   "metadata": {},
   "source": [
    "## Ouverture et fermeture d'un fichier"
   ]
  },
  {
   "cell_type": "markdown",
   "metadata": {},
   "source": [
    "Il existe trois **modes** principaux d'ouverture de fichiers."
   ]
  },
  {
   "cell_type": "markdown",
   "metadata": {},
   "source": [
    "##### En lecture seule (**r**)"
   ]
  },
  {
   "cell_type": "code",
   "execution_count": 1,
   "metadata": {
    "ExecuteTime": {
     "end_time": "2019-01-17T09:17:49.969003Z",
     "start_time": "2019-01-17T09:17:49.964017Z"
    }
   },
   "outputs": [],
   "source": [
    "fichier = open('../data/fichier_vide.txt', 'r', encoding='utf-8')"
   ]
  },
  {
   "cell_type": "markdown",
   "metadata": {},
   "source": [
    "C'est le mode par défaut, d'ailleurs il est en réalité inutile de préciser **'r'** lors de l'appel"
   ]
  },
  {
   "cell_type": "code",
   "execution_count": 2,
   "metadata": {
    "ExecuteTime": {
     "end_time": "2019-01-17T09:18:04.374177Z",
     "start_time": "2019-01-17T09:18:04.369191Z"
    }
   },
   "outputs": [],
   "source": [
    "fichier = open('../data/fichier_vide.txt', encoding='utf-8')"
   ]
  },
  {
   "cell_type": "markdown",
   "metadata": {},
   "source": [
    "##### En écriture (**w**)"
   ]
  },
  {
   "cell_type": "code",
   "execution_count": 3,
   "metadata": {
    "ExecuteTime": {
     "end_time": "2019-01-17T09:18:11.090134Z",
     "start_time": "2019-01-17T09:18:11.084151Z"
    }
   },
   "outputs": [],
   "source": [
    "fichier = open('../output/fichier_vide.txt', 'w', encoding='utf-8')"
   ]
  },
  {
   "cell_type": "markdown",
   "metadata": {},
   "source": [
    "**Attention** : dans ce mode il **écrase** le fichier s'il existe"
   ]
  },
  {
   "cell_type": "markdown",
   "metadata": {},
   "source": [
    "##### En ajout (**a**)"
   ]
  },
  {
   "cell_type": "code",
   "execution_count": 4,
   "metadata": {
    "ExecuteTime": {
     "end_time": "2019-01-17T09:18:39.574771Z",
     "start_time": "2019-01-17T09:18:39.570821Z"
    }
   },
   "outputs": [],
   "source": [
    "fichier = open('../output/fichier_vide.txt', 'a', encoding='utf-8')"
   ]
  },
  {
   "cell_type": "markdown",
   "metadata": {},
   "source": [
    "Dans ce mode il ouvre le fichier en écriture sans détruire le contenu, **les nouveaux caractères seront écrits à la suite de la fin du fichier**"
   ]
  },
  {
   "cell_type": "markdown",
   "metadata": {},
   "source": [
    "##### Fermeture"
   ]
  },
  {
   "cell_type": "markdown",
   "metadata": {},
   "source": [
    "Pour fermer un fichier, c'est simple on utilise la méthode **close()** de l'objet fichier :"
   ]
  },
  {
   "cell_type": "code",
   "execution_count": 5,
   "metadata": {
    "ExecuteTime": {
     "end_time": "2019-01-17T09:19:45.276924Z",
     "start_time": "2019-01-17T09:19:45.272938Z"
    }
   },
   "outputs": [],
   "source": [
    "fichier.close()"
   ]
  },
  {
   "cell_type": "markdown",
   "metadata": {},
   "source": [
    "##### Bonne manière d'ouvrir et de fermer un fichier"
   ]
  },
  {
   "cell_type": "markdown",
   "metadata": {},
   "source": [
    "On préferera utiliser l'opérateur (mot-clé réservé) **with** qui détermine une zone du code délimitée par l'indentation et où le fichier est ouvert, dès que l'on sort du bloc d'instructions, le fichier se ferme automatiquement.\n",
    "\n",
    "Dès que l'on sort du bloc d'instructions, le fichier se ferme automatiquement, pas besoin d'utiliser la méthode close()"
   ]
  },
  {
   "cell_type": "code",
   "execution_count": 6,
   "metadata": {
    "ExecuteTime": {
     "end_time": "2019-01-17T09:20:07.771442Z",
     "start_time": "2019-01-17T09:20:07.767455Z"
    },
    "run_control": {
     "marked": false
    }
   },
   "outputs": [],
   "source": [
    "with open('../data/fichier_vide.txt', encoding='utf-8') as fichier:\n",
    "    # traitement\n",
    "    pass"
   ]
  },
  {
   "cell_type": "markdown",
   "metadata": {},
   "source": [
    "## Lecture d'un fichier"
   ]
  },
  {
   "cell_type": "code",
   "execution_count": 7,
   "metadata": {
    "ExecuteTime": {
     "end_time": "2019-01-17T09:22:07.864585Z",
     "start_time": "2019-01-17T09:22:07.837657Z"
    }
   },
   "outputs": [
    {
     "data": {
      "text/plain": [
       "'id;respid;extrtime;origin;destination;company;depdate;arrdate;duration;flighttype;price;stopover;stopovertime\\n1;1;15/01/2016 10:12:21;CDG;NTE;Air France;2016-03-15T12:35:00;2016-03-15T13:40:00;1,0833333333333333;aller simple;52;Sans escale;\\n1;2;15/01/2016 10:12:21;CDG;NTE;Air France;2016-03-15T16:40:00;2016-03-15T17:45:00;1,0833333333333333;aller simple;52;Sans escale;\\n1;3;15/01/2016 10:12:21;CDG;NTE;Air France;2016-03-15T21:05:00;2016-03-15T22:10:00;1,0833333333333333;aller simple;52;Sans escal'"
      ]
     },
     "execution_count": 7,
     "metadata": {},
     "output_type": "execute_result"
    }
   ],
   "source": [
    "with open('../data/Googleflights.csv', encoding='utf-8') as fichier:\n",
    "    contenu = fichier.read()\n",
    "    \n",
    "contenu[:500]"
   ]
  },
  {
   "cell_type": "code",
   "execution_count": 10,
   "metadata": {
    "ExecuteTime": {
     "end_time": "2019-01-17T09:23:42.833457Z",
     "start_time": "2019-01-17T09:23:42.822488Z"
    }
   },
   "outputs": [
    {
     "data": {
      "text/plain": [
       "['{',\n",
       " ' \"cells\": [',\n",
       " '  {',\n",
       " '   \"cell_type\": \"markdown\",',\n",
       " '   \"metadata\": {},',\n",
       " '   \"source\": [',\n",
       " '    \"<br>\\\\n\",',\n",
       " '    \"<div align=\\\\\"right\\\\\">Enseignant : Aric Wizenberg</div>\\\\n\",',\n",
       " '    \"<div align=\\\\\"right\\\\\">E-mail : icarwiz@yahoo.fr</div>\\\\n\",',\n",
       " '    \"<div align=\\\\\"right\\\\\">Année : 2018/2019</div><br><br><br>\\\\n\",',\n",
       " '    \"<div align=\\\\\"center\\\\\"><span style=\\\\\"font-family:Lucida Caligraphy;font-size:32px;color:darkgreen\\\\\">Master 2 MASERATI - Cours de Python</span></div><br><br>\\\\n\",',\n",
       " '    \"<div align=\\\\\"center\\\\\"><span style=\\\\\"font-family:Lucida Caligraphy;font-size:24px;color:#e60000\\\\\">Table des matières générale du cours</span></div><br><br>\\\\n\",',\n",
       " '    \"<hr>\"',\n",
       " '   ]',\n",
       " '  },',\n",
       " '  {',\n",
       " '   \"cell_type\": \"markdown\",',\n",
       " '   \"metadata\": {},',\n",
       " '   \"source\": [',\n",
       " '    \"**Calendrier indicatif :**\\\\n\",',\n",
       " '    \"- 3  janvier : Cours chapitre 1\\\\n\",',\n",
       " '    \"- 11 janvier : Cours chapitre 2\\\\n\",',\n",
       " '    \"- 17 janvier : Cours chapitre 3\\\\n\",',\n",
       " '    \"- 8  février : Cours chapitre 4\"',\n",
       " '   ]',\n",
       " '  },',\n",
       " '  {',\n",
       " '   \"cell_type\": \"markdown\",',\n",
       " '   \"metadata\": {},',\n",
       " '   \"source\": [',\n",
       " '    \"---\\\\n\",',\n",
       " '    \"---\"',\n",
       " '   ]',\n",
       " '  },',\n",
       " '  {',\n",
       " '   \"cell_type\": \"markdown\",',\n",
       " '   \"metadata\": {},',\n",
       " '   \"source\": [',\n",
       " '    \"# Chapitre 1 : Jupyter et bases de Python\"',\n",
       " '   ]',\n",
       " '  },',\n",
       " '  {',\n",
       " '   \"cell_type\": \"markdown\",',\n",
       " '   \"metadata\": {},',\n",
       " '   \"source\": [',\n",
       " '    \"## Composants principaux : installation et présentation générale\"',\n",
       " '   ]',\n",
       " '  },',\n",
       " '  {',\n",
       " '   \"cell_type\": \"markdown\",',\n",
       " '   \"metadata\": {},',\n",
       " '   \"source\": [',\n",
       " '    \"### Installation\"',\n",
       " '   ]',\n",
       " '  },',\n",
       " '  {',\n",
       " '   \"cell_type\": \"markdown\",',\n",
       " '   \"metadata\": {},',\n",
       " '   \"source\": [',\n",
       " '    \"#### [Installation des logiciels](cours/B.1.1_Installation_HTML.ipynb)\"',\n",
       " '   ]',\n",
       " '  },',\n",
       " '  {',\n",
       " '   \"cell_type\": \"markdown\",',\n",
       " '   \"metadata\": {},',\n",
       " '   \"source\": [',\n",
       " '    \"#### [Installation et mise à jour des composants](cours/B.1.1_Installation_NB.ipynb)\"',\n",
       " '   ]',\n",
       " '  },',\n",
       " '  {',\n",
       " '   \"cell_type\": \"markdown\",',\n",
       " '   \"metadata\": {},',\n",
       " '   \"source\": [',\n",
       " '    \"### [Composants de base](cours/B.1.2_ComposantsBase.ipynb)\"',\n",
       " '   ]',\n",
       " '  },',\n",
       " '  {',\n",
       " '   \"cell_type\": \"markdown\",',\n",
       " '   \"metadata\": {},',\n",
       " '   \"source\": [',\n",
       " '    \"### [Jupyter et ses Notebooks](cours/B.1.3_Notebook.ipynb)\"',\n",
       " '   ]',\n",
       " '  },',\n",
       " '  {',\n",
       " '   \"cell_type\": \"markdown\",',\n",
       " '   \"metadata\": {},',\n",
       " '   \"source\": [',\n",
       " '    \"***\"',\n",
       " '   ]',\n",
       " '  },',\n",
       " '  {',\n",
       " '   \"cell_type\": \"markdown\",',\n",
       " '   \"metadata\": {},',\n",
       " '   \"source\": [',\n",
       " '    \"## Bases du langage Python\"',\n",
       " '   ]',\n",
       " '  },',\n",
       " '  {',\n",
       " '   \"cell_type\": \"markdown\",',\n",
       " '   \"metadata\": {},',\n",
       " '   \"source\": [',\n",
       " '    \"### [Premiers pas en Python](cours/B.2.1_Bases.ipynb)\"',\n",
       " '   ]',\n",
       " '  },',\n",
       " '  {',\n",
       " '   \"cell_type\": \"markdown\",',\n",
       " '   \"metadata\": {},',\n",
       " '   \"source\": [',\n",
       " '    \"### Variables et types de base\"',\n",
       " '   ]',\n",
       " '  },',\n",
       " '  {',\n",
       " '   \"cell_type\": \"markdown\",',\n",
       " '   \"metadata\": {},',\n",
       " '   \"source\": [',\n",
       " '    \"##### [Nombres, booléens et opérateurs](cours/B.2.2.1_Nombres.ipynb)\"',\n",
       " '   ]',\n",
       " '  },',\n",
       " '  {',\n",
       " '   \"cell_type\": \"markdown\",',\n",
       " '   \"metadata\": {},',\n",
       " '   \"source\": [',\n",
       " '    \"##### [Variables](cours/B.2.2.2_Variables.ipynb)\"',\n",
       " '   ]',\n",
       " '  },',\n",
       " '  {',\n",
       " '   \"cell_type\": \"markdown\",',\n",
       " '   \"metadata\": {},',\n",
       " '   \"source\": [',\n",
       " '    \"##### [Chaines de caractères](cours/B.2.2.3_Strings.ipynb)\"',\n",
       " '   ]',\n",
       " '  },',\n",
       " '  {',\n",
       " '   \"cell_type\": \"markdown\",',\n",
       " '   \"metadata\": {},',\n",
       " '   \"source\": [',\n",
       " '    \"##### [Ensembles](cours/B.2.2.4_Ensembles.ipynb)\"',\n",
       " '   ]',\n",
       " '  },',\n",
       " '  {',\n",
       " '   \"cell_type\": \"markdown\",',\n",
       " '   \"metadata\": {},',\n",
       " '   \"source\": [',\n",
       " '    \"### [Structures programmatiques](cours/B.2.3_StrucProg.ipynb)\"',\n",
       " '   ]',\n",
       " '  },',\n",
       " '  {',\n",
       " '   \"cell_type\": \"markdown\",',\n",
       " '   \"metadata\": {},',\n",
       " '   \"source\": [',\n",
       " '    \"### [Fonctions](cours/B.2.4_Fonctions.ipynb)\"',\n",
       " '   ]',\n",
       " '  },',\n",
       " '  {',\n",
       " '   \"cell_type\": \"markdown\",',\n",
       " '   \"metadata\": {},',\n",
       " '   \"source\": [',\n",
       " '    \"## Python intermédiaire\"',\n",
       " '   ]',\n",
       " '  },',\n",
       " '  {',\n",
       " '   \"cell_type\": \"markdown\",',\n",
       " '   \"metadata\": {},',\n",
       " '   \"source\": [',\n",
       " '    \"Traité dans le chapitre 3\"',\n",
       " '   ]',\n",
       " '  },',\n",
       " '  {',\n",
       " '   \"cell_type\": \"markdown\",',\n",
       " '   \"metadata\": {},',\n",
       " '   \"source\": [',\n",
       " '    \"***\"',\n",
       " '   ]',\n",
       " '  },',\n",
       " '  {',\n",
       " '   \"cell_type\": \"markdown\",',\n",
       " '   \"metadata\": {},',\n",
       " '   \"source\": [',\n",
       " '    \"## Exercices\"',\n",
       " '   ]',\n",
       " '  },',\n",
       " '  {',\n",
       " '   \"cell_type\": \"markdown\",',\n",
       " '   \"metadata\": {},',\n",
       " '   \"source\": [',\n",
       " '    \"### [Exercices du chapitre 1 et 3](exercices/Devoir_no_1/Devoir_no_1.ipynb)\"',\n",
       " '   ]',\n",
       " '  },',\n",
       " '  {',\n",
       " '   \"cell_type\": \"markdown\",',\n",
       " '   \"metadata\": {},',\n",
       " '   \"source\": [',\n",
       " '    \"### [Correction des exercices du chapitre 1 et 3](exercices/Devoir_no_1/Devoir_no_1_correction.ipynb)\"',\n",
       " '   ]',\n",
       " '  },',\n",
       " '  {',\n",
       " '   \"cell_type\": \"markdown\",',\n",
       " '   \"metadata\": {},',\n",
       " '   \"source\": [',\n",
       " '    \"---\\\\n\",',\n",
       " '    \"---\"',\n",
       " '   ]',\n",
       " '  },',\n",
       " '  {',\n",
       " '   \"cell_type\": \"markdown\",',\n",
       " '   \"metadata\": {},',\n",
       " '   \"source\": [',\n",
       " '    \"# Chapitre 2 : Traitement et analyse de données en Python\"',\n",
       " '   ]',\n",
       " '  },',\n",
       " '  {',\n",
       " '   \"cell_type\": \"markdown\",',\n",
       " '   \"metadata\": {},',\n",
       " '   \"source\": [',\n",
       " '    \"## Formats de données récursifs : arbres et réseaux\"',\n",
       " '   ]',\n",
       " '  },',\n",
       " '  {',\n",
       " '   \"cell_type\": \"markdown\",',\n",
       " '   \"metadata\": {},',\n",
       " '   \"source\": [',\n",
       " '    \"Traité dans le chapitre 3\"',\n",
       " '   ]',\n",
       " '  },',\n",
       " '  {',\n",
       " '   \"cell_type\": \"markdown\",',\n",
       " '   \"metadata\": {},',\n",
       " '   \"source\": [',\n",
       " '    \"***\"',\n",
       " '   ]',\n",
       " '  },',\n",
       " '  {',\n",
       " '   \"cell_type\": \"markdown\",',\n",
       " '   \"metadata\": {},',\n",
       " '   \"source\": [',\n",
       " '    \"## Formats de données itératifs : tables de données\"',\n",
       " '   ]',\n",
       " '  },',\n",
       " '  {',\n",
       " '   \"cell_type\": \"markdown\",',\n",
       " '   \"metadata\": {},',\n",
       " '   \"source\": [',\n",
       " '    \"### [Bases de données](cours/D.2.1_Intro_iter.ipynb)\"',\n",
       " '   ]',\n",
       " '  },',\n",
       " '  {',\n",
       " '   \"cell_type\": \"markdown\",',\n",
       " '   \"metadata\": {},',\n",
       " '   \"source\": [',\n",
       " '    \"### Modules de traitement de données\"',\n",
       " '   ]',\n",
       " '  },',\n",
       " '  {',\n",
       " '   \"cell_type\": \"markdown\",',\n",
       " '   \"metadata\": {},',\n",
       " '   \"source\": [',\n",
       " '    \"#### [Bases de Numpy](cours/D.2.2.1_Bases_iter_Numpy.ipynb)\"',\n",
       " '   ]',\n",
       " '  },',\n",
       " '  {',\n",
       " '   \"cell_type\": \"markdown\",',\n",
       " '   \"metadata\": {},',\n",
       " '   \"source\": [',\n",
       " '    \"#### [Bases de Pandas](cours/D.2.2.2_Bases_iter_Pandas.ipynb)\"',\n",
       " '   ]',\n",
       " '  },',\n",
       " '  {',\n",
       " '   \"cell_type\": \"markdown\",',\n",
       " '   \"metadata\": {},',\n",
       " '   \"source\": [',\n",
       " '    \"### [Traitement de données](cours/D.2.3_Trait_data.ipynb)\"',\n",
       " '   ]',\n",
       " '  },',\n",
       " '  {',\n",
       " '   \"cell_type\": \"markdown\",',\n",
       " '   \"metadata\": {},',\n",
       " '   \"source\": [',\n",
       " '    \"### [Manipulation de données](cours/D.2.4_Ana_data.ipynb)\"',\n",
       " '   ]',\n",
       " '  },',\n",
       " '  {',\n",
       " '   \"cell_type\": \"markdown\",',\n",
       " '   \"metadata\": {},',\n",
       " '   \"source\": [',\n",
       " '    \"***\"',\n",
       " '   ]',\n",
       " '  },',\n",
       " '  {',\n",
       " '   \"cell_type\": \"markdown\",',\n",
       " '   \"metadata\": {},',\n",
       " '   \"source\": [',\n",
       " '    \"## Analyse graphique\"',\n",
       " '   ]',\n",
       " '  },',\n",
       " '  {',\n",
       " '   \"cell_type\": \"markdown\",',\n",
       " '   \"metadata\": {},',\n",
       " '   \"source\": [',\n",
       " '    \"### [Graphiques de base](cours/D.3.1_AnaGraph.ipynb)\"',\n",
       " '   ]']"
      ]
     },
     "execution_count": 10,
     "metadata": {},
     "output_type": "execute_result"
    }
   ],
   "source": [
    "with open('../sommaire.ipynb', encoding='utf-8') as fichier:\n",
    "    contenu = fichier.read().splitlines()\n",
    "    \n",
    "contenu[:300]"
   ]
  },
  {
   "cell_type": "markdown",
   "metadata": {},
   "source": [
    "**NB** : il y a un problème d'encodage sur le dernier mot affiché, nous y reviendrons en détail plus tard dans la section [Encodage de caractères](#L’encodage-de-caractères)"
   ]
  },
  {
   "cell_type": "markdown",
   "metadata": {},
   "source": [
    "On peut aussi lire ligne à ligne en utilisant la méthode **readline()**"
   ]
  },
  {
   "cell_type": "code",
   "execution_count": 11,
   "metadata": {
    "ExecuteTime": {
     "end_time": "2019-01-17T09:23:56.103187Z",
     "start_time": "2019-01-17T09:23:56.097201Z"
    }
   },
   "outputs": [
    {
     "name": "stdout",
     "output_type": "stream",
     "text": [
      "id;respid;extrtime;origin;destination;company;depdate;arrdate;duration;flighttype;price;stopover;stopovertime\n",
      "\n",
      "1;1;15/01/2016 10:12:21;CDG;NTE;Air France;2016-03-15T12:35:00;2016-03-15T13:40:00;1,0833333333333333;aller simple;52;Sans escale;\n",
      "\n"
     ]
    }
   ],
   "source": [
    "with open('../data/Googleflights.csv', encoding='utf-8') as fichier:\n",
    "    premiere_ligne = fichier.readline()\n",
    "    deuxieme_ligne = fichier.readline()\n",
    "print(premiere_ligne)\n",
    "print(deuxieme_ligne)"
   ]
  },
  {
   "cell_type": "markdown",
   "metadata": {},
   "source": [
    "**NB** : **readline()** conserve le retour à la ligne de fin de ligne"
   ]
  },
  {
   "cell_type": "markdown",
   "metadata": {},
   "source": [
    "Ou obtenir la liste contenant l'ensemble des lignes en utilisant **splitlines()** (qui lui ne conserve pas les retours à la ligne)"
   ]
  },
  {
   "cell_type": "code",
   "execution_count": 13,
   "metadata": {
    "ExecuteTime": {
     "end_time": "2019-01-17T09:24:12.253512Z",
     "start_time": "2019-01-17T09:24:12.246530Z"
    }
   },
   "outputs": [
    {
     "data": {
      "text/plain": [
       "['{',\n",
       " ' \"cells\": [',\n",
       " '  {',\n",
       " '   \"cell_type\": \"markdown\",',\n",
       " '   \"metadata\": {},',\n",
       " '   \"source\": [',\n",
       " '    \"<br>\\\\n\",',\n",
       " '    \"<div align=\\\\\"right\\\\\">Enseignant : Aric Wizenberg</div>\\\\n\",']"
      ]
     },
     "execution_count": 13,
     "metadata": {},
     "output_type": "execute_result"
    }
   ],
   "source": [
    "with open('../sommaire.ipynb', encoding='utf-8') as fichier:\n",
    "    liste_lignes = fichier.read().splitlines()\n",
    "liste_lignes[:8]"
   ]
  },
  {
   "cell_type": "markdown",
   "metadata": {},
   "source": [
    "## Ecriture de fichier"
   ]
  },
  {
   "cell_type": "markdown",
   "metadata": {},
   "source": [
    "On écrit simplement dans un fichier ouvert en écriture ou en ajout à l'aide de la commande **write()**"
   ]
  },
  {
   "cell_type": "code",
   "execution_count": 17,
   "metadata": {
    "ExecuteTime": {
     "end_time": "2019-01-17T09:26:03.082072Z",
     "start_time": "2019-01-17T09:26:03.077085Z"
    }
   },
   "outputs": [
    {
     "data": {
      "text/plain": [
       "'id;respid;extrtime;origin;destination;company;depdate;arrdate;duration;flighttype;price;stopover;stopovertime\\n'"
      ]
     },
     "execution_count": 17,
     "metadata": {},
     "output_type": "execute_result"
    }
   ],
   "source": [
    "premiere_ligne"
   ]
  },
  {
   "cell_type": "code",
   "execution_count": 14,
   "metadata": {
    "ExecuteTime": {
     "end_time": "2019-01-17T09:25:22.302684Z",
     "start_time": "2019-01-17T09:25:22.290718Z"
    }
   },
   "outputs": [],
   "source": [
    "titres = premiere_ligne.split(';')\n",
    "valeurs = deuxieme_ligne.split(';')\n",
    "\n",
    "contenu = []\n",
    "for i in range(len(titres)):\n",
    "    contenu.append('%s : %s' % (titres[i], valeurs[i]))\n",
    "\n",
    "with open('../output/fichier_vide.txt', 'w', encoding='utf-8') as fichier:\n",
    "    for elem in contenu:\n",
    "        fichier.write(elem + '\\n')"
   ]
  },
  {
   "cell_type": "markdown",
   "metadata": {},
   "source": [
    "Attention : **write()** n'ajoute pas de lui-même des retours à la ligne, il faut le spécifier si on veut en mettre\n",
    "\n",
    "On peut aussi écrire toute une liste de chaines de caractères d'un coup"
   ]
  },
  {
   "cell_type": "code",
   "execution_count": 15,
   "metadata": {
    "ExecuteTime": {
     "end_time": "2019-01-17T09:25:25.056902Z",
     "start_time": "2019-01-17T09:25:25.051919Z"
    }
   },
   "outputs": [
    {
     "data": {
      "text/plain": [
       "['id : 1',\n",
       " 'respid : 1',\n",
       " 'extrtime : 15/01/2016 10:12:21',\n",
       " 'origin : CDG',\n",
       " 'destination : NTE',\n",
       " 'company : Air France',\n",
       " 'depdate : 2016-03-15T12:35:00',\n",
       " 'arrdate : 2016-03-15T13:40:00',\n",
       " 'duration : 1,0833333333333333',\n",
       " 'flighttype : aller simple',\n",
       " 'price : 52',\n",
       " 'stopover : Sans escale',\n",
       " 'stopovertime\\n : \\n']"
      ]
     },
     "execution_count": 15,
     "metadata": {},
     "output_type": "execute_result"
    }
   ],
   "source": [
    "contenu"
   ]
  },
  {
   "cell_type": "code",
   "execution_count": 16,
   "metadata": {
    "ExecuteTime": {
     "end_time": "2019-01-17T09:25:30.737584Z",
     "start_time": "2019-01-17T09:25:30.727613Z"
    }
   },
   "outputs": [],
   "source": [
    "with open('../output/fichier_vide.txt', 'w', encoding='utf-8') as fichier:\n",
    "    fichier.writelines(contenu)"
   ]
  },
  {
   "cell_type": "markdown",
   "metadata": {},
   "source": [
    "Attention : **writelines()** (comme write()) considère que vous avez inclus vous-même vos retours à la ligne. \n",
    "\n",
    "Ici ce n'était pas le cas... La formulation suivante ajoutera les sauts de lignes :"
   ]
  },
  {
   "cell_type": "code",
   "execution_count": null,
   "metadata": {},
   "outputs": [],
   "source": [
    "with open('../output/fichier_vide.txt', 'w', encoding='utf-8') as fichier:\n",
    "    fichier.write('\\n'.join(contenu))"
   ]
  },
  {
   "cell_type": "markdown",
   "metadata": {},
   "source": [
    "## Fichiers binaires et fichiers textes"
   ]
  },
  {
   "cell_type": "markdown",
   "metadata": {},
   "source": [
    "Pour l'instant nous n'avons traité implicitement que d'un type de fichier, les fichiers de type **texte**.\n",
    "C'est d'ailleurs le mode d'ouverture par défaut de la fonction **open**. Nous utilisions les modes 'r', 'w' ou 'a', il s'agissait en réalité des modes 'rt', 'wt' et 'at'. \n",
    "\n",
    "Il existe 2 types de fichiers:\n",
    "- Les fichiers de type **texte** qui sont lisibles directement par un humain avec un simple éditeur de texte, mais qui nécessitent nécessairement de se poser la question de l'**encodage**.\n",
    "- Les fichiers de type **binaire** qui sont illisibles directement par un humain, ce sont tous les autres types de fichiers. Pour ouvrir un fichier binaire\n",
    "\n",
    "Pour être exact, en réalité, il n'existe que des fichiers en binaire qui est le seul moyen de stockage sur un ordinateur."
   ]
  },
  {
   "cell_type": "markdown",
   "metadata": {},
   "source": [
    "Voici par exemple les 100 premiers caractères d'un fichier DOCX :"
   ]
  },
  {
   "cell_type": "code",
   "execution_count": 18,
   "metadata": {
    "ExecuteTime": {
     "end_time": "2019-01-17T09:27:39.760513Z",
     "start_time": "2019-01-17T09:27:39.748545Z"
    }
   },
   "outputs": [
    {
     "ename": "FileNotFoundError",
     "evalue": "[Errno 2] No such file or directory: '../infos/Cours Python.docx'",
     "output_type": "error",
     "traceback": [
      "\u001b[1;31m---------------------------------------------------------------------------\u001b[0m",
      "\u001b[1;31mFileNotFoundError\u001b[0m                         Traceback (most recent call last)",
      "\u001b[1;32m<ipython-input-18-d77ab7878c7f>\u001b[0m in \u001b[0;36m<module>\u001b[1;34m\u001b[0m\n\u001b[1;32m----> 1\u001b[1;33m \u001b[1;32mwith\u001b[0m \u001b[0mopen\u001b[0m\u001b[1;33m(\u001b[0m\u001b[1;34m'../infos/Cours Python.docx'\u001b[0m\u001b[1;33m,\u001b[0m \u001b[1;34m'rb'\u001b[0m\u001b[1;33m)\u001b[0m \u001b[1;32mas\u001b[0m \u001b[0mbinfile\u001b[0m\u001b[1;33m:\u001b[0m\u001b[1;33m\u001b[0m\u001b[1;33m\u001b[0m\u001b[0m\n\u001b[0m\u001b[0;32m      2\u001b[0m     \u001b[0mcontent\u001b[0m \u001b[1;33m=\u001b[0m \u001b[0mbinfile\u001b[0m\u001b[1;33m.\u001b[0m\u001b[0mread\u001b[0m\u001b[1;33m(\u001b[0m\u001b[1;36m100\u001b[0m\u001b[1;33m)\u001b[0m\u001b[1;33m\u001b[0m\u001b[1;33m\u001b[0m\u001b[0m\n",
      "\u001b[1;31mFileNotFoundError\u001b[0m: [Errno 2] No such file or directory: '../infos/Cours Python.docx'"
     ]
    }
   ],
   "source": [
    "with open('../infos/Cours Python.docx', 'rb') as binfile:\n",
    "    content = binfile.read(100)"
   ]
  },
  {
   "cell_type": "code",
   "execution_count": 19,
   "metadata": {
    "ExecuteTime": {
     "end_time": "2019-01-17T09:28:34.517638Z",
     "start_time": "2019-01-17T09:28:34.509661Z"
    }
   },
   "outputs": [
    {
     "ename": "NameError",
     "evalue": "name 'content' is not defined",
     "output_type": "error",
     "traceback": [
      "\u001b[1;31m---------------------------------------------------------------------------\u001b[0m",
      "\u001b[1;31mNameError\u001b[0m                                 Traceback (most recent call last)",
      "\u001b[1;32m<ipython-input-19-0d34ef964404>\u001b[0m in \u001b[0;36m<module>\u001b[1;34m\u001b[0m\n\u001b[1;32m----> 1\u001b[1;33m \u001b[0mprint\u001b[0m\u001b[1;33m(\u001b[0m\u001b[0mtype\u001b[0m\u001b[1;33m(\u001b[0m\u001b[0mcontent\u001b[0m\u001b[1;33m)\u001b[0m\u001b[1;33m)\u001b[0m\u001b[1;33m\u001b[0m\u001b[1;33m\u001b[0m\u001b[0m\n\u001b[0m",
      "\u001b[1;31mNameError\u001b[0m: name 'content' is not defined"
     ]
    }
   ],
   "source": [
    "print(type(content))"
   ]
  },
  {
   "cell_type": "code",
   "execution_count": 20,
   "metadata": {
    "ExecuteTime": {
     "end_time": "2019-01-17T09:28:35.643805Z",
     "start_time": "2019-01-17T09:28:35.635863Z"
    }
   },
   "outputs": [
    {
     "ename": "NameError",
     "evalue": "name 'content' is not defined",
     "output_type": "error",
     "traceback": [
      "\u001b[1;31m---------------------------------------------------------------------------\u001b[0m",
      "\u001b[1;31mNameError\u001b[0m                                 Traceback (most recent call last)",
      "\u001b[1;32m<ipython-input-20-017556a809df>\u001b[0m in \u001b[0;36m<module>\u001b[1;34m\u001b[0m\n\u001b[1;32m----> 1\u001b[1;33m \u001b[0mprint\u001b[0m\u001b[1;33m(\u001b[0m\u001b[0mcontent\u001b[0m\u001b[1;33m)\u001b[0m\u001b[1;33m\u001b[0m\u001b[1;33m\u001b[0m\u001b[0m\n\u001b[0m",
      "\u001b[1;31mNameError\u001b[0m: name 'content' is not defined"
     ]
    }
   ],
   "source": [
    "print(content)"
   ]
  },
  {
   "cell_type": "markdown",
   "metadata": {},
   "source": [
    "# L'horrible problème de l'encodage de caractères"
   ]
  },
  {
   "cell_type": "markdown",
   "metadata": {},
   "source": [
    "Comme l'illustre ce graphique bien peu scientifique... :)"
   ]
  },
  {
   "attachments": {
    "graph_probleme_encodage.jpg": {
     "image/jpeg": "[encoded data removed]"
    }
   },
   "cell_type": "markdown",
   "metadata": {},
   "source": [
    "<div align=\"center\"><img src=\"attachment:graph_probleme_encodage.jpg\" style=\"width:600px\"></div>"
   ]
  },
  {
   "cell_type": "markdown",
   "metadata": {},
   "source": [
    "En petits caractères en bas du graph :\n",
    "- Pour C++ : incluant le temps perdu causé par des problèmes de segmentation de mémoire ayant entrainé le redémarrage de l'ordinateur\n",
    "- Pour Python : incluant le temps perdu à chercher 'UnicodeDecodeError' sur le site StackOverflow\n",
    "\n",
    "Les problèmes d'encodage de caractères en Python sont un sujet qui peut faire perdre beaucoup de temps et qui est particulièrement rageant !\n",
    "\n",
    "Ca va être un peu technique, mais si vous comprenez et intégrez le contenu de cette section, vous n'aurez jamais le moindre souci avec ce sujet..."
   ]
  },
  {
   "cell_type": "markdown",
   "metadata": {},
   "source": [
    "## Remarques préalables sur le fonctionnement d'un ordinateur"
   ]
  },
  {
   "cell_type": "markdown",
   "metadata": {},
   "source": [
    "### Le binaire"
   ]
  },
  {
   "cell_type": "markdown",
   "metadata": {},
   "source": [
    "En réalité, **tout fichier**, (sur un disque dur, une carte SD, un smartphone, etc.), toute **information** ou **instruction** passant par la mémoire ou le microprocesseur d'une machine est **en binaire**, c'est-à-dire une longue série de chiffres composée de **__0__** et de **__1__**."
   ]
  },
  {
   "cell_type": "markdown",
   "metadata": {},
   "source": [
    "L'instruction suivante dit au micro-processeur de copier une valeur depuis la mémoire de l'ordinateur au microprocesseur :\n",
    ">101000010000000100010000\n",
    "\n",
    "Le **problème** avec cette représentation est que pour exprimer un nombre aussi simple que ***128*** il faut écrire un nombre binaire très long pour un oeil humain \n",
    ">10000000 (1 suivi de 7 zeros)"
   ]
  },
  {
   "cell_type": "markdown",
   "metadata": {},
   "source": [
    "Les programmeurs ont donc décidé de trouver une manière courte de représenter ces longues séries de 0 et de 1 qui soit nécessairement compatible avec le **binaire**."
   ]
  },
  {
   "cell_type": "markdown",
   "metadata": {},
   "source": [
    "### L'hexadécimal"
   ]
  },
  {
   "cell_type": "markdown",
   "metadata": {},
   "source": [
    "On aurait aimé utiliser le système **décimal**, celui communément employé par les humais, mais le problème est que ce système est composé de **10 chiffres**, ce qui n'est mathématiquement pas compatible avec le binaire : 10 n'est pas une puissance de 2.\n",
    "\n",
    "**Possibilités de chiffres en décimal : 0, 1, 2, 3, 4, 5, 6, 7, 8, 9**"
   ]
  },
  {
   "cell_type": "markdown",
   "metadata": {},
   "source": [
    "C'est donc l'**hexadécimal** (qui vient du grec 16) qui a été choisi, car ils sont compatibles : $16^2 = 2^8$\n",
    "\n",
    "**Possibilités de chiffres en hexadécimal : 0, 1, 2, 3, 4, 5, 6, 7, 8, 9, A, B, C, D, E, F**"
   ]
  },
  {
   "cell_type": "markdown",
   "metadata": {},
   "source": [
    "L'hexadécimal a deux avantages:\n",
    "- C'est un système court (par exemple 128 est représenté par \"80\" en hexadécimal), l'instruction présentée en binaire précédemment peut être écrite : \n",
    " \n",
    ">Binaire : 10000000\n",
    ">\n",
    ">Hexadécimal : 80\n",
    " \n",
    ">Binaire : 101000010000000100010000\n",
    ">\n",
    ">Hexadécimal : A1 01 10\n",
    "\n",
    "- Compatible avec le binaire : \n",
    "\n",
    ">Tout nombre à **2 chiffres en hexadécimal** peut être représenté par un nombre à exactement **8 chiffres en binaire** et vice-versa.\n",
    "\n",
    "C'est pour cette raison que l'on parle de système **octal** (de 8 en grec) pour le fonctionnement des ordinateurs. Un octet est la plus petite unité de mesure de mémoire sur un ordinateur."
   ]
  },
  {
   "cell_type": "markdown",
   "metadata": {},
   "source": [
    "<div class=\"alert alert-block alert-success\">\n",
    "<b>NB :</b>\n",
    "\n",
    "- A l'écrit, pour distinguer le nombre décimal 80 (quatre-vingt) du nombre hexadécimal 80 (qui vaut 128 en décimal), on utilise la notation **\\x80** en Python (ou **0x80** dans certains autres langages).\n",
    "\n",
    "- A l'oral, on s'efforce plutôt de dire **hexadécimal huit zéro** pour éviter la confusion.\n",
    "</div>\n",
    "\n",
    "<div class=\"alert alert-block alert-success\">\n",
    "<b>NB :</b>\n",
    "\n",
    "- Là où pour 2 chiffres, on avait **100** possibilités pour un nombre **décimal** (**0 à 99**), pour un nombre **hexadécimal** on a **256** possibilités (**\\x00 à \\xFF**)\n",
    "\n",
    "- Un **octet** (**byte** en anglais, abbrevié **__B__**) permet donc de représenter **256 possibilités**\n",
    "\n",
    "- Un **octet** est composé de 8 chiffres en **binaire**, appelés en anglais **binary digits**, soit **bits** (abbrevié **__b__**)\n",
    "<div>\n"
   ]
  },
  {
   "cell_type": "markdown",
   "metadata": {},
   "source": [
    "## Les formats"
   ]
  },
  {
   "cell_type": "markdown",
   "metadata": {},
   "source": [
    "### Qu'est-ce qu'un format d'encodage?"
   ]
  },
  {
   "cell_type": "markdown",
   "metadata": {},
   "source": [
    "Du coup, comme le reste, les fichiers texte sont en réalité écrits comme des séries de paires hexadécimales que l'on doit pouvoir convertir en caractères **imprimables** et **lisibles** par l'homme.\n",
    "\n",
    "Un **format d'encodage** n'est rien d'autre qu'une table de conversion du genre :\n",
    "\n",
    "- \\x37 -> 7\n",
    "- \\x38 -> 8\n",
    "- \\x39 -> 9\n",
    "- \\x3A ->  :\n",
    "- \\x3B ->  ;\n",
    "- \\x3C -> <\n",
    "- \\x3D -> =\n",
    "- \\x3E -> >\n",
    "- \\x3F -> ?\n",
    "- \\x40 -> @\n",
    "- \\x41 -> A\n",
    "- \\x42 -> B\n",
    "- \\x43 -> C\n",
    "\n",
    "(extrait de la table ASCII)\n",
    "\n",
    "Le problème, c'est que \n",
    "- 256 caractères différents, c'est en réalité assez limité : minuscules, majuscultes, chiffres, caractères accentués, caractères de ponctuation, etc.\n",
    "- Historiquement, chaque pays a un peu fait son encodage comme il le voulait... En plus des entreprises ont aussi fait des choix, privilégiant un encodage ou l'autre."
   ]
  },
  {
   "cell_type": "markdown",
   "metadata": {},
   "source": [
    "### Les 4 formats principaux"
   ]
  },
  {
   "cell_type": "markdown",
   "metadata": {},
   "source": [
    "Voici les 4 principaux formats qui nous intéressent (en tant qu'occidentaux)"
   ]
  },
  {
   "cell_type": "markdown",
   "metadata": {},
   "source": [
    "##### ascii"
   ]
  },
  {
   "cell_type": "markdown",
   "metadata": {},
   "source": [
    "L'**ASCII** (American Standard Code for Information Interchange) est :\n",
    "- le **premier format** qui a été crée en informatique, \n",
    "- le plus **simple** : il possède 128 caractères, dont 95 imprimables, mais qui ne contient donc **aucun caractère accentué**.\n",
    "\n",
    "Il est toujours utilisé pour sa simplicité, par exemple dans les adresses mails.\n",
    "\n",
    "Caractères de base de l'ascii :"
   ]
  },
  {
   "cell_type": "code",
   "execution_count": null,
   "metadata": {},
   "outputs": [],
   "source": [
    "' !\"#$%&\\'()*+,-./0123456789:;<=>?@ABCDEFGHIJKLMNOPQRSTUVWXYZ[\\\\]^_`abcdefghijklmnopqrstuvwxyz{|}~'"
   ]
  },
  {
   "cell_type": "markdown",
   "metadata": {},
   "source": [
    "##### latin-1"
   ]
  },
  {
   "cell_type": "markdown",
   "metadata": {},
   "source": [
    "Le **latin-1** (aussi appelé **ISO 8859-1**) est une amélioration de l'**ascii** à destination des occidentaux : \n",
    "- Il contient 256 caractères, dont 191 imprimables, il permet d'avoir les caractères accentués du français par exemple\n",
    "- Ca a été l'encodage par défaut utilisé pendant longtemps sur les pages internet (jusqu'à la génération 5 de HTML, apparue il y a quelques années) \n",
    "- Aujourd'hui, il ne représente que moins de 10% des pages web (contre environ 90% pour l'utf-8)\n",
    "\n",
    "Caractères supplémentaires du latin-1 par rapport à l'ASCII :"
   ]
  },
  {
   "cell_type": "code",
   "execution_count": null,
   "metadata": {},
   "outputs": [],
   "source": [
    "'¡¢£¤¥¦§¨©ª«¬\\xad®¯°±²³´µ¶·¸¹º»¼½¾¿ÀÁÂÃÄÅÆÇÈÉÊËÌÍÎÏÐÑÒÓÔÕÖ×ØÙÚÛÜÝÞßàáâãäåæçèéêëìíîïðñòóôõö÷øùúûüýþÿ'"
   ]
  },
  {
   "cell_type": "markdown",
   "metadata": {},
   "source": [
    "##### ansi"
   ]
  },
  {
   "cell_type": "markdown",
   "metadata": {},
   "source": [
    "L'**ansi** (aussi appelé **windows-1252** ou **cp1252**) est une amélioration du **latin-1** :\n",
    "- Tous les caractères du **latin-1** sont dans le **cp1252**. L'inverse n'est pas vrai: il y a 27 caractères de plus dans le **cp1252** (dont le très français **œ** et le symbole de l'euro **€**). \n",
    "- C'est le codage **utilisé sous Windows par défaut** (et c'est par exemple le codage que Microsoft Excel s'attendra à trouver lors de l'ouverture d'un CSV par exemple)\n",
    "\n",
    "Caractères supplémentaires de l'ansi par rapport au latin-1 :"
   ]
  },
  {
   "cell_type": "code",
   "execution_count": null,
   "metadata": {},
   "outputs": [],
   "source": [
    "'€‚ƒ„…†‡ˆ‰Š‹ŒŽ‘’“”•–—˜™š›œžŸ'"
   ]
  },
  {
   "cell_type": "markdown",
   "metadata": {},
   "source": [
    "##### utf-8"
   ]
  },
  {
   "cell_type": "markdown",
   "metadata": {},
   "source": [
    "L'UTF-8 (Universal Character Set Transformation Format - 8 bits), de la famille des Unicode, est le codage universel par excellence. **C'est le format qui devrait toujours être utilisé**. \n",
    "\n",
    "- Contrairement aux trois précédents formats, et contrairement à ce que son nom semble indiquer, il ne tient pas sur 8 bits, un octet. **Il tient sur 8-bit au minimum** (un octet). Lorsque c'est nécessaire, il peut occuper jusqu'à 4 octets pour un seul caractère. C'est le seul inconvénient de l'utf-8 : il prend un peu plus de place. Un texte en français codé en utf-8 peut généralement prendre quelques pourcents de place en plus que le même texte codé en ansi ou latin-1...\n",
    "- Il contient l'ensemble des caractères de tous les alphabets du monde, mais aussi beaucoup d'autres symboles commes les smileys... ൌ\n",
    "- C'est le format par défaut dans un nombre croissant d'application. Il est utilisé par défaut pour les pages internet modernes (HTML5), sur Linux, pour les Notebooks de Jupyter, etc. En fait partout il remplace les autres formats.\n",
    "\n",
    "<div class=\"alert alert-block alert-info\"><b>Pour aller plus loin :</b> <a href=http://www.fileformat.info/info/charset/UTF-8/list.htm> La liste de l'ensemble des caractères UTF-8 </a></div>"
   ]
  },
  {
   "cell_type": "markdown",
   "metadata": {},
   "source": [
    "##### En résumé, on a\n",
    "\n",
    "$ \\textit{ascii} \\subset \\textit{latin-1} \\subset \\textit{cp1252} $\n",
    "\n",
    "$ \\textit{ascii} \\subset \\textit{utf-8}$\n"
   ]
  },
  {
   "cell_type": "markdown",
   "metadata": {},
   "source": [
    "## Ouverture de fichier avec le bon encodage"
   ]
  },
  {
   "cell_type": "markdown",
   "metadata": {},
   "source": [
    "### Textes indécidables"
   ]
  },
  {
   "cell_type": "markdown",
   "metadata": {},
   "source": [
    "Attention il peut y avoir des fichiers faussement dans un format, la preuve :"
   ]
  },
  {
   "cell_type": "code",
   "execution_count": 21,
   "metadata": {
    "ExecuteTime": {
     "end_time": "2019-01-17T09:39:16.236037Z",
     "start_time": "2019-01-17T09:39:16.201092Z"
    }
   },
   "outputs": [],
   "source": [
    "with open('../output/test.txt', 'w', encoding='ansi') as fichier:\n",
    "    fichier.write('texte douteux')\n",
    "    \n",
    "# Conseil : ouvrir les fichiers avec open avec utf-8. utf8 a tous les caracteres, si n'est pas utf8 va donner erreur mais\n",
    "# va être plus facime à corriger"
   ]
  },
  {
   "cell_type": "markdown",
   "metadata": {},
   "source": [
    "Si vous ouvrez ce fichier sous Notepad++, vous pouvez voir que notre texte l'a berné (car celui-ci considère, s'il n'a pas plus d'élément pour juger, que c'est en utf-8). Et effectivement, ce fichier pourrait aussi bien être en ascii, en utf-8, en latin-1 ou en cp1252..."
   ]
  },
  {
   "cell_type": "markdown",
   "metadata": {},
   "source": [
    "### Résultats possibles à la lecture d'un fichier"
   ]
  },
  {
   "cell_type": "markdown",
   "metadata": {},
   "source": [
    "Mais c'est comme en économétrie, plus l'échantillon est grand (le nombre de caractères dans le fichier), plus la probabilité est faible de se tromper...\n",
    "\n",
    "Trois possibilités lorsque l'on ouvre un fichier texte :\n",
    "- Soit ça **fonctionne** et le fichier semble bien décodé à l'oeil humain : c'est le bon format, ou au minimum le fichier est **faussement dans ce format**.\n",
    "- Soit Python renvoie une **UnicodeDecodeError**, ce qui nous arrange en fait, puisqu'au moins, on a la preuve que le fichier **n'est pas** du format que nous avons essayé (comme en math, prouver que quelque chose est vrai est bien plus difficile que prouver que quelque chose est faux)\n",
    "- Soit Python ne renvoie pas d'erreurs, mais en raison d'un mauvais choix d'encodage, le texte lu contient de **mauvais caractères** (ce qui est plus embarrassant comme situation, on ne découvrira éventuellement le problème que plus tard... Souvent devant un supérieur ou un client...)\n",
    "\n",
    "![Table_formats.png](attachment:Table_formats.png)"
   ]
  },
  {
   "cell_type": "markdown",
   "metadata": {},
   "source": [
    "### Stratégie à adopter"
   ]
  },
  {
   "cell_type": "markdown",
   "metadata": {},
   "source": [
    "Il faut donc lorsque l'on a à faire avec un fichier texte dont l'on ne connait pas l'encodage :\n",
    "- **Essayer de l'ouvriir d'abord en utf-8**, qui au moins à le mérite de générer une erreur tout de suite si ce n'est pas le bon format.\n",
    "- Si cela provoque une erreur, essayer une ouverture en **ansi** qui est la deuxième encodage le plus probable.\n",
    "- Vérifier à l'oeil nu que les caractères accentués ont été bien gérés.\n",
    "\n",
    "<div class=\"alert alert-block alert-success\">\n",
    "<b>Attention :</b> \n",
    "\n",
    "Il existe aussi un encodage, un peu oublié qui était utilisé sous MS-DOS, le **cp850**, si après avoir essayé les 4 formats ci-dessus, il reste des erreurs d'encodage, vous pouvez essayer ce dernier encodage.\n",
    "</div>"
   ]
  },
  {
   "cell_type": "markdown",
   "metadata": {},
   "source": [
    "## Pour aller plus loin"
   ]
  },
  {
   "cell_type": "markdown",
   "metadata": {},
   "source": [
    "### Encodage et décodage"
   ]
  },
  {
   "cell_type": "markdown",
   "metadata": {},
   "source": [
    "Un humain lit une chaine de caractère **décodée** que l'on a vu précédemment : le **str**"
   ]
  },
  {
   "cell_type": "code",
   "execution_count": null,
   "metadata": {},
   "outputs": [],
   "source": [
    "'Chaine de caractères'"
   ]
  },
  {
   "cell_type": "markdown",
   "metadata": {},
   "source": [
    "Mais en réalité une machine ne comprend que leur version **encodée** : le **bytes**"
   ]
  },
  {
   "cell_type": "code",
   "execution_count": null,
   "metadata": {},
   "outputs": [],
   "source": [
    "mon_bytes = 'Chaine de caractères'.encode()\n",
    "mon_bytes"
   ]
  },
  {
   "cell_type": "markdown",
   "metadata": {},
   "source": [
    "Une **str peut être encodée**, un **bytes peut être décodé**"
   ]
  },
  {
   "cell_type": "code",
   "execution_count": null,
   "metadata": {},
   "outputs": [],
   "source": [
    "mon_bytes.decode('latin-1')"
   ]
  },
  {
   "cell_type": "markdown",
   "metadata": {},
   "source": [
    "La majorité du temps, on va travailler avec des str, si une str (donc une chaine décodée) contient des caractères bizarres, comme précédemment, ça veut dire qu'il y a une erreur de choix du format de décodage lorsque ce décodage a été effectué :\n",
    "- soit explicitement dans le code par l'utilisation à un moment de la méthode **decode**, et dans ce cas il suffit de modifier le format de décodage utilisé à ce moment-là, \n",
    "- soit implicitement à l'**entrée** dans le programme (lecture de fichier, de base de donnée, de site internet...) par une fonction de lecture de flux (comme la fonction read() d'un fichier)\n"
   ]
  },
  {
   "cell_type": "markdown",
   "metadata": {},
   "source": [
    "### Forcer un décodage"
   ]
  },
  {
   "cell_type": "markdown",
   "metadata": {},
   "source": [
    "Créons un bytes à partir des caractères du format cp1252"
   ]
  },
  {
   "cell_type": "code",
   "execution_count": null,
   "metadata": {},
   "outputs": [],
   "source": [
    "cp1252_str = ' !\"#$%&\\'()*+,-./0123456789:;<=>?@ABCDEFGHIJKLMNOPQRSTUVWXYZ[\\\\]^_`abcdefghijklmnopqrstuvwxyz{|}~¡¢£¤¥¦§¨©ª«¬\\xad®¯°±²³´µ¶·¸¹º»¼½¾¿ÀÁÂÃÄÅÆÇÈÉÊËÌÍÎÏÐÑÒÓÔÕÖ×ØÙÚÛÜÝÞßàáâãäåæçèéêëìíîïðñòóôõö÷øùúûüýþÿ€‚ƒ„…†‡ˆ‰Š‹ŒŽ‘’“”•–—˜™š›œžŸ'"
   ]
  },
  {
   "cell_type": "code",
   "execution_count": null,
   "metadata": {},
   "outputs": [],
   "source": [
    "cp1252_bytes = cp1252_str.encode(encoding='cp1252')"
   ]
  },
  {
   "cell_type": "code",
   "execution_count": null,
   "metadata": {},
   "outputs": [],
   "source": [
    "cp1252_bytes.decode('utf-8')"
   ]
  },
  {
   "cell_type": "markdown",
   "metadata": {},
   "source": [
    "On peut forcer le décodage de deux manières différentes :"
   ]
  },
  {
   "cell_type": "code",
   "execution_count": null,
   "metadata": {},
   "outputs": [],
   "source": [
    "cp1252_bytes.decode('utf-8', 'ignore')"
   ]
  },
  {
   "cell_type": "code",
   "execution_count": null,
   "metadata": {},
   "outputs": [],
   "source": [
    "cp1252_bytes.decode('utf-8', 'replace')"
   ]
  },
  {
   "cell_type": "markdown",
   "metadata": {},
   "source": [
    "### Les 4 commandements"
   ]
  },
  {
   "cell_type": "markdown",
   "metadata": {},
   "source": [
    "1) Le texte brut n’existe pas\n",
    "\n",
    "2) Utilisez UTF8\n",
    "\n",
    "3) En entrée, connaissez l’encoding de vos données\n",
    "\n",
    "4) En sortie, encodez dans l’encoding attendu par le système qui va recevoir la données, ou si vous ne pouvez pas savoir, cf. 2e commandement"
   ]
  },
  {
   "cell_type": "markdown",
   "metadata": {
    "ExecuteTime": {
     "end_time": "2018-01-10T00:30:50.589082Z",
     "start_time": "2018-01-10T00:30:50.557882Z"
    }
   },
   "source": [
    "### Tenter de détecter l'encodage"
   ]
  },
  {
   "cell_type": "markdown",
   "metadata": {},
   "source": [
    "Le mieux est d'utiliser Notepad++, l'indication est tout en bas à droite.\n",
    "\n",
    "On peut aussi le faire sous Python en utilisant le module chardet (module externe, installé par défaut avec Anaconda)"
   ]
  },
  {
   "cell_type": "code",
   "execution_count": null,
   "metadata": {},
   "outputs": [],
   "source": [
    "import chardet"
   ]
  },
  {
   "cell_type": "markdown",
   "metadata": {},
   "source": [
    "Pour un fichier"
   ]
  },
  {
   "cell_type": "code",
   "execution_count": null,
   "metadata": {
    "scrolled": true
   },
   "outputs": [],
   "source": [
    "import chardet\n",
    "\n",
    "with open('../main.ipynb', 'rb') as fichier:\n",
    "    contenu = fichier.read()\n",
    "    \n",
    "chardet.detect(contenu)"
   ]
  },
  {
   "cell_type": "markdown",
   "metadata": {},
   "source": [
    "Pour une page web"
   ]
  },
  {
   "cell_type": "code",
   "execution_count": null,
   "metadata": {},
   "outputs": [],
   "source": [
    "import chardet\n",
    "import requests\n",
    "\n",
    "s = requests.Session()\n",
    "res = s.get('https://fr.wikipedia.org')\n",
    "\n",
    "chardet.detect(res.content)"
   ]
  }
 ],
 "metadata": {
  "kernelspec": {
   "display_name": "Python 3",
   "language": "python",
   "name": "python3"
  },
  "language_info": {
   "codemirror_mode": {
    "name": "ipython",
    "version": 3
   },
   "file_extension": ".py",
   "mimetype": "text/x-python",
   "name": "python",
   "nbconvert_exporter": "python",
   "pygments_lexer": "ipython3",
   "version": "3.7.1"
  },
  "toc": {
   "base_numbering": 1,
   "nav_menu": {
    "height": "512px",
    "width": "252px"
   },
   "number_sections": true,
   "sideBar": true,
   "skip_h1_title": false,
   "title_cell": "Table of Contents",
   "title_sidebar": "Contents",
   "toc_cell": false,
   "toc_position": {
    "height": "660px",
    "left": "0px",
    "right": "1328px",
    "top": "107px",
    "width": "186px"
   },
   "toc_section_display": "block",
   "toc_window_display": true
  },
  "varInspector": {
   "cols": {
    "lenName": 16,
    "lenType": 16,
    "lenVar": 40
   },
   "kernels_config": {
    "python": {
     "delete_cmd_postfix": "",
     "delete_cmd_prefix": "del ",
     "library": "var_list.py",
     "varRefreshCmd": "print(var_dic_list())"
    },
    "r": {
     "delete_cmd_postfix": ") ",
     "delete_cmd_prefix": "rm(",
     "library": "var_list.r",
     "varRefreshCmd": "cat(var_dic_list()) "
    }
   },
   "position": {
    "height": "144px",
    "left": "913.2px",
    "right": "20px",
    "top": "116px",
    "width": "350px"
   },
   "types_to_exclude": [
    "module",
    "function",
    "builtin_function_or_method",
    "instance",
    "_Feature"
   ],
   "window_display": false
  }
 },
 "nbformat": 4,
 "nbformat_minor": 2
}

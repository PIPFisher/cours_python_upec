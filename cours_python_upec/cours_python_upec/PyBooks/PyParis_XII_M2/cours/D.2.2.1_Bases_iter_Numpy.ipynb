{
 "cells": [
  {
   "cell_type": "markdown",
   "metadata": {},
   "source": [
    "<br>\n",
    "<div align=\"right\">Enseignant : Aric Wizenberg</div>\n",
    "<div align=\"right\">E-mail : icarwiz@yahoo.fr</div>\n",
    "<div align=\"right\">Année : 2018/2019</div><br><br><br>\n",
    "<div align=\"center\"><span style=\"font-family:Lucida Caligraphy;font-size:32px;color:darkgreen\">Master 2 MASERATI - Cours de Python</span></div><br><br>\n",
    "<div align=\"center\"><span style=\"font-family:Lucida Caligraphy;font-size:24px;color:#e60000\">Bases de Numpy</span></div><br><br>\n",
    "<hr>"
   ]
  },
  {
   "cell_type": "markdown",
   "metadata": {},
   "source": [
    "# Introduction"
   ]
  },
  {
   "cell_type": "markdown",
   "metadata": {},
   "source": [
    "Lorsque l'on veut travailler avec des données en Python, il y a deux modules incontournables : **pandas** et **numpy**"
   ]
  },
  {
   "cell_type": "markdown",
   "metadata": {},
   "source": [
    "Commençons par charger le module en mémoire"
   ]
  },
  {
   "cell_type": "code",
   "execution_count": 1,
   "metadata": {
    "ExecuteTime": {
     "end_time": "2019-01-11T09:29:47.189367Z",
     "start_time": "2019-01-11T09:29:47.185372Z"
    },
    "scrolled": true
   },
   "outputs": [],
   "source": [
    "import numpy as np"
   ]
  },
  {
   "cell_type": "markdown",
   "metadata": {},
   "source": [
    "Numpy permet de remplacer plusieurs modules de le bibliothèque standard, en proposant des implémentations plus efficaces en temps de calcul et unifiées :\n",
    "* random\n",
    "* math\n",
    "* array\n",
    "* les quelques fonctions mathématiques natives de Python (min, max, etc.)\n",
    "\n",
    "Aujourd'hui, numpy est un module incontournable lorsque l'on fait quoique ce soit qui implique des calculs mathématiques"
   ]
  },
  {
   "cell_type": "markdown",
   "metadata": {},
   "source": [
    "# Les ndarrays"
   ]
  },
  {
   "cell_type": "markdown",
   "metadata": {},
   "source": [
    "## Bases"
   ]
  },
  {
   "cell_type": "markdown",
   "metadata": {},
   "source": [
    "Le type **numpy.ndarray** (N-dimensional array), est le type Python créé pour implémenter les **vecteurs et matrices aux sens mathématique**, c'est ce qui nous permettra de traiter des séries et des tables de données."
   ]
  },
  {
   "cell_type": "markdown",
   "metadata": {},
   "source": [
    "### list et ndarray"
   ]
  },
  {
   "cell_type": "markdown",
   "metadata": {},
   "source": [
    "Pourquoi ne pas utiliser les **list** de base Python (ou même des listes de listes pour les tables de données)? Pourquoi avoir crée un nouveau type."
   ]
  },
  {
   "cell_type": "markdown",
   "metadata": {},
   "source": [
    "Parce que c'est à la fois l'avantage et l'inconvéniant des **list** de base Python : elles peuvent contenir au sein d'une même liste des données de types variés.\n",
    "- C'est un avantage parce que ça permet **une grande souplesse**\n",
    "- C'est un inconvéniant parce que ça **ralentit énormément les traitements**\n",
    "- C'est inutile parce que lorsque nous parlons de **série de données** en Data Science, on ne s'attend pas à ce qu'une série de données contiennent des types différents.\n",
    "\n",
    "Dans une table de données :\n",
    "- la série \"date\" ne contient a priori que des dates.\n",
    "- la série \"age\" ne contient que des nombres.\n",
    "- la série \"nom\" ne contient que des chaines de caractères.\n",
    "\n",
    "C'est pour ça que chaque **ndarray** est une liste de données avec un type de données unique appelé **dtype** (data type)."
   ]
  },
  {
   "cell_type": "markdown",
   "metadata": {},
   "source": [
    "### Le dtype"
   ]
  },
  {
   "cell_type": "markdown",
   "metadata": {},
   "source": [
    "Il y a un nombre plus important de dtype qu'il n'y a de types Python de base, mais en gros :\n",
    "- les **floatXX** sont des **float** (avec XX étant souvent égal à 64, c'est le nombre de bits)\n",
    "- les **intXX** sont des **int** (avec XX étant souvent égal à 64, c'est le nombre de bits)\n",
    "- les **bool** sont comme en Python classique\n",
    "- les **object** sont des objets Python, souvent des **str**\n",
    "\n",
    "<div class=\"alert alert-block alert-info\"><b>Pour aller plus loin :</b> <a href=https://docs.scipy.org/doc/numpy-1.13.0/reference/arrays.dtypes.html> Doc officielle Numpy sur les <b>dtypes</b></a></div>"
   ]
  },
  {
   "cell_type": "code",
   "execution_count": null,
   "metadata": {},
   "outputs": [],
   "source": [
    "np.array([True, True, False]).dtype"
   ]
  },
  {
   "cell_type": "markdown",
   "metadata": {},
   "source": [
    "### La shape"
   ]
  },
  {
   "cell_type": "markdown",
   "metadata": {},
   "source": [
    "En plus du dtype, une ndarray, contrairement à une list, a nativement une **shape**, c'est à dire qu'elle peut par nature avoir plusieurs dimensions.\n",
    "\n",
    "Pour les séries de données, nous utiliserons des vecteurs. La shape d'un vecteur de **__N__** éléments est :\n",
    "```python\n",
    "(N, )\n",
    "```\n",
    "\n",
    "Pour les séries de données, nous utiliserons des matrices à 2 dimensions. La shape d'une matrice de **__L__** lignes et **__C__** colonnes est :\n",
    "```python\n",
    "(L, C)\n",
    "```\n"
   ]
  },
  {
   "cell_type": "markdown",
   "metadata": {},
   "source": [
    "## Création manuelle"
   ]
  },
  {
   "cell_type": "markdown",
   "metadata": {},
   "source": [
    "### Création d'un ndarray à une dimension"
   ]
  },
  {
   "cell_type": "markdown",
   "metadata": {},
   "source": [
    "##### Déclaration simple"
   ]
  },
  {
   "cell_type": "markdown",
   "metadata": {},
   "source": [
    "On peut créer une **ndarray** à partir d'une **list** ou d'un **tuple**"
   ]
  },
  {
   "cell_type": "code",
   "execution_count": 2,
   "metadata": {
    "ExecuteTime": {
     "end_time": "2019-01-11T09:45:50.966993Z",
     "start_time": "2019-01-11T09:45:50.959003Z"
    }
   },
   "outputs": [],
   "source": [
    "mon_array = np.array([1, 4, 9, 16, 25.0, 36, 49, 64])"
   ]
  },
  {
   "cell_type": "code",
   "execution_count": 3,
   "metadata": {
    "ExecuteTime": {
     "end_time": "2019-01-11T09:45:54.839583Z",
     "start_time": "2019-01-11T09:45:54.823604Z"
    }
   },
   "outputs": [
    {
     "data": {
      "text/plain": [
       "numpy.ndarray"
      ]
     },
     "execution_count": 3,
     "metadata": {},
     "output_type": "execute_result"
    }
   ],
   "source": [
    "type(mon_array)"
   ]
  },
  {
   "cell_type": "markdown",
   "metadata": {},
   "source": [
    "En utilisant la fonction **numpy.array()**, le dtype adopté sera celui de l'élement ayant le dtype le plus élaboré. \n",
    "\n",
    "On utilise l'attribut **.dtype** pour savoir le **dtype** d'une **ndarray**"
   ]
  },
  {
   "cell_type": "code",
   "execution_count": 4,
   "metadata": {
    "ExecuteTime": {
     "end_time": "2019-01-11T09:46:02.208557Z",
     "start_time": "2019-01-11T09:46:02.200568Z"
    }
   },
   "outputs": [
    {
     "data": {
      "text/plain": [
       "dtype('float64')"
      ]
     },
     "execution_count": 4,
     "metadata": {},
     "output_type": "execute_result"
    }
   ],
   "source": [
    "mon_array.dtype"
   ]
  },
  {
   "cell_type": "markdown",
   "metadata": {},
   "source": [
    "On utilise l'attribut **.shape** pour savoir la **shape** d'une **ndarray**"
   ]
  },
  {
   "cell_type": "code",
   "execution_count": 5,
   "metadata": {
    "ExecuteTime": {
     "end_time": "2019-01-11T09:46:10.677898Z",
     "start_time": "2019-01-11T09:46:10.669909Z"
    }
   },
   "outputs": [
    {
     "data": {
      "text/plain": [
       "(8,)"
      ]
     },
     "execution_count": 5,
     "metadata": {},
     "output_type": "execute_result"
    }
   ],
   "source": [
    "mon_array.shape"
   ]
  },
  {
   "cell_type": "markdown",
   "metadata": {},
   "source": [
    "##### Série d'entiers"
   ]
  },
  {
   "cell_type": "markdown",
   "metadata": {},
   "source": [
    "On peut aussi générer directement une ndarray"
   ]
  },
  {
   "cell_type": "markdown",
   "metadata": {},
   "source": [
    "**arange()** (array range) fonctionne exactement sur le même mode que les **range**"
   ]
  },
  {
   "cell_type": "code",
   "execution_count": 6,
   "metadata": {
    "ExecuteTime": {
     "end_time": "2019-01-11T09:52:39.681503Z",
     "start_time": "2019-01-11T09:52:39.669520Z"
    },
    "scrolled": true
   },
   "outputs": [
    {
     "data": {
      "text/plain": [
       "array([ 3,  4,  5,  6,  7,  8,  9, 10, 11, 12, 13, 14, 15])"
      ]
     },
     "execution_count": 6,
     "metadata": {},
     "output_type": "execute_result"
    }
   ],
   "source": [
    "np.arange(3, 16)"
   ]
  },
  {
   "cell_type": "markdown",
   "metadata": {},
   "source": [
    "##### Série de floats linéairement répartis"
   ]
  },
  {
   "cell_type": "markdown",
   "metadata": {},
   "source": [
    "Générer l'ensemble des **11** nombres linéairement répartis entre **__0__** et **__1__** (inclus) :"
   ]
  },
  {
   "cell_type": "code",
   "execution_count": 7,
   "metadata": {
    "ExecuteTime": {
     "end_time": "2019-01-11T09:52:43.080084Z",
     "start_time": "2019-01-11T09:52:43.068101Z"
    },
    "scrolled": false
   },
   "outputs": [
    {
     "data": {
      "text/plain": [
       "array([0. , 0.1, 0.2, 0.3, 0.4, 0.5, 0.6, 0.7, 0.8, 0.9, 1. ])"
      ]
     },
     "execution_count": 7,
     "metadata": {},
     "output_type": "execute_result"
    }
   ],
   "source": [
    "np.linspace(0, 1, 11)"
   ]
  },
  {
   "cell_type": "markdown",
   "metadata": {},
   "source": [
    "##### Série de floats logarithmétiquement répartis"
   ]
  },
  {
   "cell_type": "markdown",
   "metadata": {},
   "source": [
    "Générer l'ensemble des 11 nombres logarithmétiquement répartis entre $10^0$ et $10^1$ (inclus), donc entre 1 et 10 :"
   ]
  },
  {
   "cell_type": "code",
   "execution_count": 8,
   "metadata": {
    "ExecuteTime": {
     "end_time": "2019-01-11T09:52:45.670613Z",
     "start_time": "2019-01-11T09:52:45.662623Z"
    }
   },
   "outputs": [
    {
     "data": {
      "text/plain": [
       "array([ 1.        ,  1.25892541,  1.58489319,  1.99526231,  2.51188643,\n",
       "        3.16227766,  3.98107171,  5.01187234,  6.30957344,  7.94328235,\n",
       "       10.        ])"
      ]
     },
     "execution_count": 8,
     "metadata": {},
     "output_type": "execute_result"
    }
   ],
   "source": [
    "np.logspace(0, 1, 11)"
   ]
  },
  {
   "cell_type": "markdown",
   "metadata": {},
   "source": [
    "**Attention** : logspace est par défaut en base 10"
   ]
  },
  {
   "cell_type": "markdown",
   "metadata": {},
   "source": [
    "### Création d'un ndarray à deux dimensions"
   ]
  },
  {
   "cell_type": "markdown",
   "metadata": {},
   "source": [
    "Pour créer un ndarray à deux dimensions, il faudra deux niveaux d'emboitement.\n",
    "\n",
    "<div class=\"alert alert-block alert-success\">\n",
    "<b>Important :</b> \n",
    "    \n",
    "- Le premier niveau se réfère aux **lignes**\n",
    "- Le deuxième niveau se réfère aux **colonnes**\n",
    "</div>"
   ]
  },
  {
   "cell_type": "markdown",
   "metadata": {},
   "source": [
    "##### Déclaration simple"
   ]
  },
  {
   "cell_type": "code",
   "execution_count": 9,
   "metadata": {
    "ExecuteTime": {
     "end_time": "2019-01-11T09:52:53.621371Z",
     "start_time": "2019-01-11T09:52:53.609389Z"
    }
   },
   "outputs": [
    {
     "data": {
      "text/plain": [
       "array([[1. , 2.5, 3. ],\n",
       "       [4. , 5. , 6. ],\n",
       "       [7.1, 8.2, 9. ]])"
      ]
     },
     "execution_count": 9,
     "metadata": {},
     "output_type": "execute_result"
    }
   ],
   "source": [
    "np.array([[1, 2.5, 3], [4, 5, 6], [7.1, 8.2, 9]])"
   ]
  },
  {
   "cell_type": "markdown",
   "metadata": {},
   "source": [
    "Pour simplifier la lecture, on écrit souvent cela de manière éclatée :"
   ]
  },
  {
   "cell_type": "code",
   "execution_count": 10,
   "metadata": {
    "ExecuteTime": {
     "end_time": "2019-01-11T09:53:01.615398Z",
     "start_time": "2019-01-11T09:53:01.603372Z"
    }
   },
   "outputs": [
    {
     "data": {
      "text/plain": [
       "array([[1. , 2.5, 3. ],\n",
       "       [4. , 5. , 6. ],\n",
       "       [7.1, 8.2, 9. ]])"
      ]
     },
     "execution_count": 10,
     "metadata": {},
     "output_type": "execute_result"
    }
   ],
   "source": [
    "ma_matrice = np.array([\n",
    "    [1, 2.5, 3], \n",
    "    [4, 5, 6],\n",
    "    [7.1, 8.2, 9]\n",
    "])\n",
    "\n",
    "ma_matrice"
   ]
  },
  {
   "cell_type": "markdown",
   "metadata": {},
   "source": [
    "On sépare ainsi les lignes de manière claire"
   ]
  },
  {
   "cell_type": "markdown",
   "metadata": {},
   "source": [
    " **NB** : On peut utiliser indifféremment des lists ou des tuples dans cette définition."
   ]
  },
  {
   "cell_type": "markdown",
   "metadata": {},
   "source": [
    "##### Création par reshaping d'un vecteur"
   ]
  },
  {
   "cell_type": "markdown",
   "metadata": {},
   "source": [
    "On peut aussi utiliser la méthode **.reshape()** pour exploiter les générateurs présentés précédemment et transformer le résultat en matrice"
   ]
  },
  {
   "cell_type": "code",
   "execution_count": 11,
   "metadata": {
    "ExecuteTime": {
     "end_time": "2019-01-11T09:53:11.777971Z",
     "start_time": "2019-01-11T09:53:11.769983Z"
    }
   },
   "outputs": [
    {
     "data": {
      "text/plain": [
       "array([[0.  , 0.08],\n",
       "       [0.16, 0.24],\n",
       "       [0.32, 0.4 ]])"
      ]
     },
     "execution_count": 11,
     "metadata": {},
     "output_type": "execute_result"
    }
   ],
   "source": [
    "np.linspace(0, 0.4, 6).reshape(3, 2)"
   ]
  },
  {
   "cell_type": "code",
   "execution_count": 12,
   "metadata": {
    "ExecuteTime": {
     "end_time": "2019-01-11T09:53:13.541623Z",
     "start_time": "2019-01-11T09:53:13.533635Z"
    }
   },
   "outputs": [
    {
     "data": {
      "text/plain": [
       "array([[0, 1, 2, 3, 4],\n",
       "       [5, 6, 7, 8, 9]])"
      ]
     },
     "execution_count": 12,
     "metadata": {},
     "output_type": "execute_result"
    }
   ],
   "source": [
    "np.arange(10).reshape(2, 5)"
   ]
  },
  {
   "cell_type": "markdown",
   "metadata": {},
   "source": [
    "## Indiçage"
   ]
  },
  {
   "cell_type": "markdown",
   "metadata": {},
   "source": [
    "### Indiçage direct d'un vecteur"
   ]
  },
  {
   "cell_type": "code",
   "execution_count": 13,
   "metadata": {
    "ExecuteTime": {
     "end_time": "2019-01-11T09:53:16.938119Z",
     "start_time": "2019-01-11T09:53:16.930130Z"
    }
   },
   "outputs": [
    {
     "data": {
      "text/plain": [
       "array([ 1.,  4.,  9., 16., 25., 36., 49., 64.])"
      ]
     },
     "execution_count": 13,
     "metadata": {},
     "output_type": "execute_result"
    }
   ],
   "source": [
    "mon_array"
   ]
  },
  {
   "cell_type": "markdown",
   "metadata": {},
   "source": [
    "Avec les vecteurs, c'est simple, ça fonctionne comme pour les listes"
   ]
  },
  {
   "cell_type": "code",
   "execution_count": 14,
   "metadata": {
    "ExecuteTime": {
     "end_time": "2019-01-11T09:53:19.362814Z",
     "start_time": "2019-01-11T09:53:19.350831Z"
    }
   },
   "outputs": [
    {
     "data": {
      "text/plain": [
       "4.0"
      ]
     },
     "execution_count": 14,
     "metadata": {},
     "output_type": "execute_result"
    }
   ],
   "source": [
    "mon_array[1]"
   ]
  },
  {
   "cell_type": "code",
   "execution_count": 15,
   "metadata": {
    "ExecuteTime": {
     "end_time": "2019-01-11T09:53:29.806779Z",
     "start_time": "2019-01-11T09:53:29.798756Z"
    }
   },
   "outputs": [
    {
     "data": {
      "text/plain": [
       "64.0"
      ]
     },
     "execution_count": 15,
     "metadata": {},
     "output_type": "execute_result"
    }
   ],
   "source": [
    "mon_array[-1]"
   ]
  },
  {
   "cell_type": "markdown",
   "metadata": {},
   "source": [
    "##### slicing"
   ]
  },
  {
   "cell_type": "markdown",
   "metadata": {},
   "source": [
    "Comme pour les listes, on peut utiliser le slicing"
   ]
  },
  {
   "cell_type": "code",
   "execution_count": 16,
   "metadata": {
    "ExecuteTime": {
     "end_time": "2019-01-11T09:53:48.374166Z",
     "start_time": "2019-01-11T09:53:48.366177Z"
    }
   },
   "outputs": [
    {
     "data": {
      "text/plain": [
       "array([1., 4., 9.])"
      ]
     },
     "execution_count": 16,
     "metadata": {},
     "output_type": "execute_result"
    }
   ],
   "source": [
    "mon_array[:3]"
   ]
  },
  {
   "cell_type": "markdown",
   "metadata": {},
   "source": [
    "##### fancy indexing"
   ]
  },
  {
   "cell_type": "markdown",
   "metadata": {},
   "source": [
    "Avec les ndarrays, on peut aussi spécifier une liste d'éléments à sélectionner"
   ]
  },
  {
   "cell_type": "code",
   "execution_count": 17,
   "metadata": {
    "ExecuteTime": {
     "end_time": "2019-01-11T09:53:49.887042Z",
     "start_time": "2019-01-11T09:53:49.875043Z"
    }
   },
   "outputs": [
    {
     "data": {
      "text/plain": [
       "array([ 1., 25.,  9.])"
      ]
     },
     "execution_count": 17,
     "metadata": {},
     "output_type": "execute_result"
    }
   ],
   "source": [
    "mon_array[[0, 4, 2]]"
   ]
  },
  {
   "cell_type": "markdown",
   "metadata": {
    "ExecuteTime": {
     "end_time": "2019-01-02T13:02:06.623000Z",
     "start_time": "2019-01-02T13:02:06.613000Z"
    }
   },
   "source": [
    "### Indiçage direct d'une matrice"
   ]
  },
  {
   "cell_type": "code",
   "execution_count": 18,
   "metadata": {
    "ExecuteTime": {
     "end_time": "2019-01-11T09:53:56.903032Z",
     "start_time": "2019-01-11T09:53:56.895041Z"
    }
   },
   "outputs": [
    {
     "data": {
      "text/plain": [
       "array([[1. , 2.5, 3. ],\n",
       "       [4. , 5. , 6. ],\n",
       "       [7.1, 8.2, 9. ]])"
      ]
     },
     "execution_count": 18,
     "metadata": {},
     "output_type": "execute_result"
    }
   ],
   "source": [
    "ma_matrice"
   ]
  },
  {
   "cell_type": "markdown",
   "metadata": {},
   "source": [
    "Dans une ndarray à deux dimensions, on indice en utilisant un tuple (donc des nombres séparés par des virgules pour représenter les deux dimensions de l'array)"
   ]
  },
  {
   "cell_type": "code",
   "execution_count": 19,
   "metadata": {
    "ExecuteTime": {
     "end_time": "2019-01-11T09:54:00.860789Z",
     "start_time": "2019-01-11T09:54:00.852801Z"
    }
   },
   "outputs": [
    {
     "data": {
      "text/plain": [
       "5.0"
      ]
     },
     "execution_count": 19,
     "metadata": {},
     "output_type": "execute_result"
    }
   ],
   "source": [
    "ma_matrice[1, 1]"
   ]
  },
  {
   "cell_type": "markdown",
   "metadata": {},
   "source": [
    "Si l'on ne met qu'une valeur et pas deux, on ne traitera que des lignes entières (car c'est la première dimension)"
   ]
  },
  {
   "cell_type": "code",
   "execution_count": 20,
   "metadata": {
    "ExecuteTime": {
     "end_time": "2019-01-11T09:54:05.300698Z",
     "start_time": "2019-01-11T09:54:05.292710Z"
    }
   },
   "outputs": [
    {
     "data": {
      "text/plain": [
       "array([4., 5., 6.])"
      ]
     },
     "execution_count": 20,
     "metadata": {},
     "output_type": "execute_result"
    }
   ],
   "source": [
    "ma_matrice[1]"
   ]
  },
  {
   "cell_type": "markdown",
   "metadata": {},
   "source": [
    "##### slicing"
   ]
  },
  {
   "cell_type": "code",
   "execution_count": 21,
   "metadata": {
    "ExecuteTime": {
     "end_time": "2019-01-11T09:54:08.270779Z",
     "start_time": "2019-01-11T09:54:08.262791Z"
    }
   },
   "outputs": [
    {
     "data": {
      "text/plain": [
       "array([[1. , 2.5],\n",
       "       [4. , 5. ]])"
      ]
     },
     "execution_count": 21,
     "metadata": {},
     "output_type": "execute_result"
    }
   ],
   "source": [
    "ma_matrice[:2, :2]"
   ]
  },
  {
   "cell_type": "markdown",
   "metadata": {},
   "source": [
    "Pour obtenir une colonne, il faut dire que l'on veut l'ensemble des lignes, donc le premier terme du tuple sera juste l'opérateur **__:__** (deux-points) sans nombre autour, comme pour les listes, afin de dire : \"du début, à la fin, sans limite\""
   ]
  },
  {
   "cell_type": "code",
   "execution_count": 22,
   "metadata": {
    "ExecuteTime": {
     "end_time": "2019-01-11T09:54:11.679506Z",
     "start_time": "2019-01-11T09:54:11.671518Z"
    }
   },
   "outputs": [
    {
     "data": {
      "text/plain": [
       "array([2.5, 5. , 8.2])"
      ]
     },
     "execution_count": 22,
     "metadata": {},
     "output_type": "execute_result"
    }
   ],
   "source": [
    "ma_matrice[:, 1]"
   ]
  },
  {
   "cell_type": "markdown",
   "metadata": {},
   "source": [
    "##### fancy indexing"
   ]
  },
  {
   "cell_type": "code",
   "execution_count": 23,
   "metadata": {
    "ExecuteTime": {
     "end_time": "2019-01-11T09:54:14.301405Z",
     "start_time": "2019-01-11T09:54:14.293416Z"
    }
   },
   "outputs": [
    {
     "data": {
      "text/plain": [
       "array([[1. , 2.5, 3. ],\n",
       "       [7.1, 8.2, 9. ]])"
      ]
     },
     "execution_count": 23,
     "metadata": {},
     "output_type": "execute_result"
    }
   ],
   "source": [
    "ma_matrice[[0, 2], :]"
   ]
  },
  {
   "cell_type": "markdown",
   "metadata": {},
   "source": [
    "## Autres attributs"
   ]
  },
  {
   "cell_type": "markdown",
   "metadata": {},
   "source": [
    "Outre les attributs shape et dtype que l'on a déjà vu, il est bon de connaitre les attributs suivants"
   ]
  },
  {
   "cell_type": "markdown",
   "metadata": {},
   "source": [
    "##### Dimensions"
   ]
  },
  {
   "cell_type": "markdown",
   "metadata": {},
   "source": [
    "La longueur de cette shape est le nombre de ses dimensions"
   ]
  },
  {
   "cell_type": "code",
   "execution_count": 24,
   "metadata": {
    "ExecuteTime": {
     "end_time": "2019-01-11T09:56:54.457484Z",
     "start_time": "2019-01-11T09:56:54.449497Z"
    }
   },
   "outputs": [
    {
     "data": {
      "text/plain": [
       "2"
      ]
     },
     "execution_count": 24,
     "metadata": {},
     "output_type": "execute_result"
    }
   ],
   "source": [
    "len(ma_matrice.shape)"
   ]
  },
  {
   "cell_type": "markdown",
   "metadata": {},
   "source": [
    "Il existe une propriété prédéfinie"
   ]
  },
  {
   "cell_type": "code",
   "execution_count": 25,
   "metadata": {
    "ExecuteTime": {
     "end_time": "2019-01-11T09:56:55.554829Z",
     "start_time": "2019-01-11T09:56:55.546839Z"
    }
   },
   "outputs": [
    {
     "data": {
      "text/plain": [
       "2"
      ]
     },
     "execution_count": 25,
     "metadata": {},
     "output_type": "execute_result"
    }
   ],
   "source": [
    "ma_matrice.ndim"
   ]
  },
  {
   "cell_type": "markdown",
   "metadata": {},
   "source": [
    "##### Nombre d'éléments"
   ]
  },
  {
   "cell_type": "code",
   "execution_count": 26,
   "metadata": {
    "ExecuteTime": {
     "end_time": "2019-01-11T09:56:56.448329Z",
     "start_time": "2019-01-11T09:56:56.440342Z"
    }
   },
   "outputs": [
    {
     "data": {
      "text/plain": [
       "9"
      ]
     },
     "execution_count": 26,
     "metadata": {},
     "output_type": "execute_result"
    }
   ],
   "source": [
    "ma_matrice.size"
   ]
  },
  {
   "cell_type": "markdown",
   "metadata": {},
   "source": [
    "Attention, cela diffère de sa **len** qui est la taille de sa première dimension"
   ]
  },
  {
   "cell_type": "code",
   "execution_count": 27,
   "metadata": {
    "ExecuteTime": {
     "end_time": "2019-01-11T09:56:58.598152Z",
     "start_time": "2019-01-11T09:56:58.590164Z"
    }
   },
   "outputs": [
    {
     "data": {
      "text/plain": [
       "3"
      ]
     },
     "execution_count": 27,
     "metadata": {},
     "output_type": "execute_result"
    }
   ],
   "source": [
    "len(ma_matrice)"
   ]
  },
  {
   "cell_type": "markdown",
   "metadata": {},
   "source": [
    "##### Transposée"
   ]
  },
  {
   "cell_type": "code",
   "execution_count": 28,
   "metadata": {
    "ExecuteTime": {
     "end_time": "2019-01-11T09:57:02.556171Z",
     "start_time": "2019-01-11T09:57:02.548184Z"
    }
   },
   "outputs": [
    {
     "data": {
      "text/plain": [
       "array([[1. , 4. , 7.1],\n",
       "       [2.5, 5. , 8.2],\n",
       "       [3. , 6. , 9. ]])"
      ]
     },
     "execution_count": 28,
     "metadata": {},
     "output_type": "execute_result"
    }
   ],
   "source": [
    "ma_matrice.T"
   ]
  },
  {
   "cell_type": "markdown",
   "metadata": {},
   "source": [
    "<div class=\"alert alert-block alert-info\"><b>Pour aller plus loin :</b> <a href=https://docs.scipy.org/doc/numpy/reference/arrays.ndarray.html> Doc officielle Numpy sur les <b>ndarrays</b></a></div>"
   ]
  },
  {
   "cell_type": "markdown",
   "metadata": {},
   "source": [
    "# Calculs avec ndarrays"
   ]
  },
  {
   "cell_type": "markdown",
   "metadata": {},
   "source": [
    "L'un des grands avantages des ndarrays, c'est qu'elles peuvent entrer naturellement dans le cadre de calculs mathématiques"
   ]
  },
  {
   "cell_type": "markdown",
   "metadata": {},
   "source": [
    "## Calculs simples avec ndarrays"
   ]
  },
  {
   "cell_type": "code",
   "execution_count": 29,
   "metadata": {
    "ExecuteTime": {
     "end_time": "2019-01-11T09:57:07.256124Z",
     "start_time": "2019-01-11T09:57:07.248135Z"
    }
   },
   "outputs": [
    {
     "data": {
      "text/plain": [
       "array([ 1.,  4.,  9., 16., 25., 36., 49., 64.])"
      ]
     },
     "execution_count": 29,
     "metadata": {},
     "output_type": "execute_result"
    }
   ],
   "source": [
    "mon_array"
   ]
  },
  {
   "cell_type": "code",
   "execution_count": 30,
   "metadata": {
    "ExecuteTime": {
     "end_time": "2019-01-11T09:57:09.604911Z",
     "start_time": "2019-01-11T09:57:09.596923Z"
    }
   },
   "outputs": [
    {
     "name": "stdout",
     "output_type": "stream",
     "text": [
      "mon_array + 5 = [ 6.  9. 14. 21. 30. 41. 54. 69.]\n",
      "mon_array - 5 = [-4. -1.  4. 11. 20. 31. 44. 59.]\n",
      "mon_array * 2 = [  2.   8.  18.  32.  50.  72.  98. 128.]\n",
      "mon_array / 2 = [ 0.5  2.   4.5  8.  12.5 18.  24.5 32. ]\n",
      "mon_array // 2 = [ 0.  2.  4.  8. 12. 18. 24. 32.]\n"
     ]
    }
   ],
   "source": [
    "print(\"mon_array + 5 =\", mon_array + 5)\n",
    "print(\"mon_array - 5 =\", mon_array - 5)\n",
    "print(\"mon_array * 2 =\", mon_array * 2)\n",
    "print(\"mon_array / 2 =\", mon_array / 2)\n",
    "print(\"mon_array // 2 =\", mon_array // 2)"
   ]
  },
  {
   "cell_type": "markdown",
   "metadata": {},
   "source": [
    "## Application de fonctions numpy"
   ]
  },
  {
   "cell_type": "markdown",
   "metadata": {},
   "source": [
    "Il existe des fonctions mathématiques pour tous les usages dans Numpy"
   ]
  },
  {
   "cell_type": "code",
   "execution_count": 31,
   "metadata": {
    "ExecuteTime": {
     "end_time": "2019-01-11T09:57:14.241469Z",
     "start_time": "2019-01-11T09:57:14.233479Z"
    }
   },
   "outputs": [
    {
     "data": {
      "text/plain": [
       "array([0.        , 1.38629436, 2.19722458, 2.77258872, 3.21887582,\n",
       "       3.58351894, 3.8918203 , 4.15888308])"
      ]
     },
     "execution_count": 31,
     "metadata": {},
     "output_type": "execute_result"
    }
   ],
   "source": [
    "np.log(mon_array)"
   ]
  },
  {
   "cell_type": "markdown",
   "metadata": {},
   "source": [
    "**Nota bene** : il s'agit bien du logarithme naturel (ou néperien), plus couramment appelé **ln**"
   ]
  },
  {
   "cell_type": "code",
   "execution_count": 32,
   "metadata": {
    "ExecuteTime": {
     "end_time": "2019-01-11T09:57:16.940223Z",
     "start_time": "2019-01-11T09:57:16.932234Z"
    }
   },
   "outputs": [
    {
     "data": {
      "text/plain": [
       "array([ 1.,  4.,  9., 16., 25., 36., 49., 64.])"
      ]
     },
     "execution_count": 32,
     "metadata": {},
     "output_type": "execute_result"
    }
   ],
   "source": [
    "np.exp(np.log(mon_array))"
   ]
  },
  {
   "cell_type": "code",
   "execution_count": 33,
   "metadata": {
    "ExecuteTime": {
     "end_time": "2019-01-11T09:57:18.340383Z",
     "start_time": "2019-01-11T09:57:18.332394Z"
    }
   },
   "outputs": [
    {
     "data": {
      "text/plain": [
       "array([0.        , 0.78539816, 1.57079633, 2.35619449, 3.14159265,\n",
       "       3.92699082, 4.71238898, 5.49778714, 6.28318531])"
      ]
     },
     "execution_count": 33,
     "metadata": {},
     "output_type": "execute_result"
    }
   ],
   "source": [
    "x_trigo = np.linspace(0, 2*np.pi, 9)\n",
    "x_trigo"
   ]
  },
  {
   "cell_type": "code",
   "execution_count": null,
   "metadata": {},
   "outputs": [],
   "source": [
    "np.degrees(x_trigo)"
   ]
  },
  {
   "cell_type": "code",
   "execution_count": null,
   "metadata": {},
   "outputs": [],
   "source": [
    "np.cos(x_trigo)"
   ]
  },
  {
   "cell_type": "code",
   "execution_count": null,
   "metadata": {},
   "outputs": [],
   "source": [
    "np.round(np.cos(x_trigo), 2)"
   ]
  },
  {
   "cell_type": "code",
   "execution_count": null,
   "metadata": {},
   "outputs": [],
   "source": [
    "np.round(np.sin(x_trigo), 2)"
   ]
  },
  {
   "cell_type": "markdown",
   "metadata": {},
   "source": [
    "## Synthétiser les données"
   ]
  },
  {
   "cell_type": "code",
   "execution_count": null,
   "metadata": {},
   "outputs": [],
   "source": [
    "print('Somme : ',      mon_array.sum())\n",
    "print('Moyenne : ',    mon_array.mean())\n",
    "print('Ecart-type : ', mon_array.std())\n",
    "print('Variance : ',   mon_array.var())\n",
    "print('Minimum : ',    mon_array.min())\n",
    "print('Maximum : ',    mon_array.max())"
   ]
  },
  {
   "cell_type": "markdown",
   "metadata": {},
   "source": [
    "## Pour aller plus loin : multiplication de matrices"
   ]
  },
  {
   "cell_type": "markdown",
   "metadata": {},
   "source": [
    "Rappel sur les multiplications de matrices"
   ]
  },
  {
   "cell_type": "markdown",
   "metadata": {},
   "source": [
    "$ M_{(m,k)}.M_{(k,n)} = M_{(m,n)} $ "
   ]
  },
  {
   "cell_type": "markdown",
   "metadata": {},
   "source": [
    "$ \\begin{bmatrix} a_1 & a_2 & a_3 \\\\ b_1 & b_2 & b_3 \\end{bmatrix} . \n",
    "\\begin{bmatrix} \\alpha_1 & \\alpha_2 \\\\ \\beta_1 & \\beta_2 \\\\ \\gamma_1 & \\gamma_2 \\end{bmatrix} = \n",
    "\\begin{bmatrix} a_1.\\alpha_1 + a_2.\\beta_1 + a_3.\\gamma_1 & a_1.\\alpha_2 + a_2.\\beta_2 + a_3.\\gamma_2 \\\\ \n",
    "b_1.\\alpha_1 + b_2.\\beta_1 + b_3.\\gamma_1 & b_1.\\alpha_2 + b_2.\\beta_2 + b_3.\\gamma_2 \\end{bmatrix}$"
   ]
  },
  {
   "cell_type": "markdown",
   "metadata": {},
   "source": [
    "Pour multiplier deux matrices, on peut utiliser l'opérateur **__@__**"
   ]
  },
  {
   "cell_type": "code",
   "execution_count": null,
   "metadata": {},
   "outputs": [],
   "source": [
    "ma_matrice"
   ]
  },
  {
   "cell_type": "code",
   "execution_count": null,
   "metadata": {},
   "outputs": [],
   "source": [
    "ma_matrice.T @ ma_matrice"
   ]
  },
  {
   "cell_type": "code",
   "execution_count": null,
   "metadata": {},
   "outputs": [],
   "source": [
    "ma_matrice @ ma_matrice.T"
   ]
  },
  {
   "cell_type": "markdown",
   "metadata": {},
   "source": [
    "# numpy.random"
   ]
  },
  {
   "cell_type": "markdown",
   "metadata": {},
   "source": [
    "Il s'agit d'un générateur de nombre pseudo-aléatoires. Il permet de générer un vecteur de N éléments suivant une loi de probabilité"
   ]
  },
  {
   "cell_type": "code",
   "execution_count": null,
   "metadata": {},
   "outputs": [],
   "source": [
    "NOMBRE_ELEMENTS = 30"
   ]
  },
  {
   "cell_type": "markdown",
   "metadata": {},
   "source": [
    "##### Distributions uniformes"
   ]
  },
  {
   "cell_type": "markdown",
   "metadata": {},
   "source": [
    "Entier pris au hasard dans [1, 5]"
   ]
  },
  {
   "cell_type": "code",
   "execution_count": null,
   "metadata": {},
   "outputs": [],
   "source": [
    "np.random.randint(1, 5, NOMBRE_ELEMENTS)"
   ]
  },
  {
   "cell_type": "markdown",
   "metadata": {},
   "source": [
    "Loi uniforme sur [0, 1["
   ]
  },
  {
   "cell_type": "code",
   "execution_count": null,
   "metadata": {},
   "outputs": [],
   "source": [
    "np.random.random(NOMBRE_ELEMENTS)"
   ]
  },
  {
   "cell_type": "markdown",
   "metadata": {},
   "source": [
    "Loi uniforme sur [0, 1["
   ]
  },
  {
   "cell_type": "markdown",
   "metadata": {},
   "source": [
    "##### Modalités"
   ]
  },
  {
   "cell_type": "markdown",
   "metadata": {},
   "source": [
    "Choix entre des modalités prédéterminées"
   ]
  },
  {
   "cell_type": "code",
   "execution_count": null,
   "metadata": {},
   "outputs": [],
   "source": [
    "np.random.choice(['Pile', 'Face'], NOMBRE_ELEMENTS).dtype"
   ]
  },
  {
   "cell_type": "markdown",
   "metadata": {},
   "source": [
    "##### Normale"
   ]
  },
  {
   "cell_type": "markdown",
   "metadata": {},
   "source": [
    "$ X \\sim \\mathcal{N}(\\mu,\\,\\sigma^{2})\\,$ "
   ]
  },
  {
   "cell_type": "code",
   "execution_count": null,
   "metadata": {},
   "outputs": [],
   "source": [
    "np.random.normal(0, 1, NOMBRE_ELEMENTS)"
   ]
  },
  {
   "cell_type": "markdown",
   "metadata": {},
   "source": [
    "Il en existe un grand nombre d'autres :\n",
    "- Chi squared\n",
    "- Binomiale\n",
    "- Poisson\n",
    "- etc."
   ]
  },
  {
   "cell_type": "markdown",
   "metadata": {},
   "source": [
    "<div class=\"alert alert-block alert-info\"><b>Pour aller plus loin :</b> <a href=https://docs.scipy.org/doc/numpy-1.13.0/reference/routines.random.html> Doc officielle Numpy sur le sous-module <b>numpy.random</b></a></div>"
   ]
  },
  {
   "cell_type": "markdown",
   "metadata": {},
   "source": [
    "# Scipy et sympy"
   ]
  },
  {
   "cell_type": "markdown",
   "metadata": {},
   "source": [
    "le module **numpy** a aussi deux modules cousins : **scipy** et **sympy** qui ne seront pas présentées en détail dans ce cours. Sachez juste qu'ils existent :\n",
    "* **scipy** permet d'avoir accès à des ensembles de fonctions couvrant des domaines des mathématiques plus avancés : statistiques, interpolation, analyse des signals, transformations de Fourier, optimisation... Le sous-module qui va certainement vous intéresser le plus est le sous-module **scipy.stats**.\n",
    "* **sympy** permet de faire des mathématiques basées sur les symboles (résolution d'équations, intégrales, etc.)\n",
    "\n",
    "<div class=\"alert alert-block alert-info\"><b>Pour aller plus loin :</b> <br>\n",
    "<a href=https://docs.scipy.org/doc/scipy/reference/> Doc officielle de <b>scipy</b></a><br>\n",
    "<a href=https://docs.scipy.org/doc/scipy/reference/tutorial/stats.html> Tutorial pour l'utilisation de <b>scipy.stats</b></a><br>\n",
    "<a href=http://www.sympy.org/en/index.html> Doc officielle de <b>sympy</b></a>\n",
    "</div>"
   ]
  }
 ],
 "metadata": {
  "kernelspec": {
   "display_name": "Python 3",
   "language": "python",
   "name": "python3"
  },
  "language_info": {
   "codemirror_mode": {
    "name": "ipython",
    "version": 3
   },
   "file_extension": ".py",
   "mimetype": "text/x-python",
   "name": "python",
   "nbconvert_exporter": "python",
   "pygments_lexer": "ipython3",
   "version": "3.7.1"
  },
  "toc": {
   "base_numbering": 1,
   "nav_menu": {
    "height": "500px",
    "width": "252px"
   },
   "number_sections": true,
   "sideBar": true,
   "skip_h1_title": false,
   "title_cell": "Table of Contents",
   "title_sidebar": "Contents",
   "toc_cell": false,
   "toc_position": {
    "height": "660px",
    "left": "0px",
    "right": "1359px",
    "top": "107px",
    "width": "187px"
   },
   "toc_section_display": "block",
   "toc_window_display": true
  },
  "varInspector": {
   "cols": {
    "lenName": 16,
    "lenType": 16,
    "lenVar": 40
   },
   "kernels_config": {
    "python": {
     "delete_cmd_postfix": "",
     "delete_cmd_prefix": "del ",
     "library": "var_list.py",
     "varRefreshCmd": "print(var_dic_list())"
    },
    "r": {
     "delete_cmd_postfix": ") ",
     "delete_cmd_prefix": "rm(",
     "library": "var_list.r",
     "varRefreshCmd": "cat(var_dic_list()) "
    }
   },
   "types_to_exclude": [
    "module",
    "function",
    "builtin_function_or_method",
    "instance",
    "_Feature"
   ],
   "window_display": false
  }
 },
 "nbformat": 4,
 "nbformat_minor": 2
}

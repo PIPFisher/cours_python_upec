{
 "cells": [
  {
   "cell_type": "markdown",
   "id": "72c4df9f-40ce-4301-8379-d5fbc8e0244e",
   "metadata": {},
   "source": [
    "# Sommaire"
   ]
  },
  {
   "cell_type": "markdown",
   "id": "ec8d05d7-9704-40df-bf0f-b4b31c7cca33",
   "metadata": {},
   "source": [
    "### [Bases](cours/Bases.ipynb)"
   ]
  },
  {
   "cell_type": "code",
   "execution_count": null,
   "id": "850b285a-7f2d-4c82-bd1e-7a5fdddb1419",
   "metadata": {},
   "outputs": [],
   "source": [
    "### "
   ]
  },
  {
   "cell_type": "code",
   "execution_count": null,
   "id": "fb048819-bc4c-4d12-922c-f4a4fe7dff25",
   "metadata": {},
   "outputs": [],
   "source": []
  }
 ],
 "metadata": {
  "kernelspec": {
   "display_name": "Python 3 (ipykernel)",
   "language": "python",
   "name": "python3"
  },
  "language_info": {
   "codemirror_mode": {
    "name": "ipython",
    "version": 3
   },
   "file_extension": ".py",
   "mimetype": "text/x-python",
   "name": "python",
   "nbconvert_exporter": "python",
   "pygments_lexer": "ipython3",
   "version": "3.11.4"
  }
 },
 "nbformat": 4,
 "nbformat_minor": 5
}

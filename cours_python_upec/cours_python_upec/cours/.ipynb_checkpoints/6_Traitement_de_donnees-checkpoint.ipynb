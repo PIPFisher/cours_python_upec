{
 "cells": [
  {
   "cell_type": "markdown",
   "metadata": {},
   "source": [
    "<div style=\"background-color: #E74C3C; padding: 20px; text-align: center;\">\n",
    "    <div align=\"center\"><span style=\"font-family:Monaco;font-size:50px;color:#FDFEFE\">Master 2 MASERATI</span></div>\n",
    "    <div align=\"center\"><span style=\"font-family:Monaco;font-size:40px;color:#FDFEFE\">Cours de Python</span></div>\n",
    "    <div align=\"center\"><span style=\"font-family:Monaco;font-size:30px;color:#FDFEFE\">2023/2024</span></div>\n",
    "    <div align=\"center\"><span style=\"font-family:Monaco;font-size:15px;color:#FDFEFE\">Enseignante : Lucia Cossaro</div>\n",
    "    <div align=\"center\"><span style=\"font-family:Monaco;font-size:15px;color:#FDFEFE\">E-mail : luciacossaro@gmail.com</div>\n",
    "    <hr>\n",
    "</div>"
   ]
  },
  {
   "cell_type": "markdown",
   "metadata": {},
   "source": [
    "<div style=\"background-color: #1C2833; padding: 20px; text-align: center;\">\n",
    "    <div align=\"center\"><span style=\"font-family:Monaco;font-size:40px;color:#FDFEFE\">Traitement de données</span></div>\n",
    "    <hr>\n",
    "</div>"
   ]
  },
  {
   "cell_type": "markdown",
   "metadata": {},
   "source": [
    "# Initialisation"
   ]
  },
  {
   "cell_type": "markdown",
   "metadata": {},
   "source": [
    "Chargeons d'abord les modules ainsi qu'un jeu de données"
   ]
  },
  {
   "cell_type": "code",
   "execution_count": 1,
   "metadata": {
    "ExecuteTime": {
     "end_time": "2019-01-11T14:16:49.537634Z",
     "start_time": "2019-01-11T14:16:49.533686Z"
    },
    "scrolled": true
   },
   "outputs": [],
   "source": [
    "import pandas as pd\n",
    "import numpy as np"
   ]
  },
  {
   "cell_type": "code",
   "execution_count": 2,
   "metadata": {},
   "outputs": [],
   "source": [
    "df_gflight = pd.read_csv('../data/Googleflights.csv')"
   ]
  },
  {
   "cell_type": "code",
   "execution_count": 3,
   "metadata": {},
   "outputs": [
    {
     "data": {
      "text/html": [
       "<div>\n",
       "<style scoped>\n",
       "    .dataframe tbody tr th:only-of-type {\n",
       "        vertical-align: middle;\n",
       "    }\n",
       "\n",
       "    .dataframe tbody tr th {\n",
       "        vertical-align: top;\n",
       "    }\n",
       "\n",
       "    .dataframe thead th {\n",
       "        text-align: right;\n",
       "    }\n",
       "</style>\n",
       "<table border=\"1\" class=\"dataframe\">\n",
       "  <thead>\n",
       "    <tr style=\"text-align: right;\">\n",
       "      <th></th>\n",
       "      <th>id;respid;extrtime;origin;destination;company;depdate;arrdate;duration;flighttype;price;stopover;stopovertime</th>\n",
       "    </tr>\n",
       "  </thead>\n",
       "  <tbody>\n",
       "    <tr>\n",
       "      <th>1;1;15/01/2016 10:12:21;CDG;NTE;Air France;2016-03-15T12:35:00;2016-03-15T13:40:00;1</th>\n",
       "      <td>0833333333333333;aller simple;52;Sans escale;</td>\n",
       "    </tr>\n",
       "    <tr>\n",
       "      <th>1;2;15/01/2016 10:12:21;CDG;NTE;Air France;2016-03-15T16:40:00;2016-03-15T17:45:00;1</th>\n",
       "      <td>0833333333333333;aller simple;52;Sans escale;</td>\n",
       "    </tr>\n",
       "    <tr>\n",
       "      <th>1;3;15/01/2016 10:12:21;CDG;NTE;Air France;2016-03-15T21:05:00;2016-03-15T22:10:00;1</th>\n",
       "      <td>0833333333333333;aller simple;52;Sans escale;</td>\n",
       "    </tr>\n",
       "    <tr>\n",
       "      <th>1;4;15/01/2016 10:12:21;ORY;NTE;Air France;2016-03-15T19:30:00;2016-03-15T20:45:00;1</th>\n",
       "      <td>25;aller simple;69;Sans escale;</td>\n",
       "    </tr>\n",
       "    <tr>\n",
       "      <th>1;5;15/01/2016 10:12:21;CDG;NTE;Air France-HOP!;2016-03-15T13:20:00;2016-03-15T16:25:00;3</th>\n",
       "      <td>0833333333333335;aller simple;93;1 escale;45mi...</td>\n",
       "    </tr>\n",
       "  </tbody>\n",
       "</table>\n",
       "</div>"
      ],
      "text/plain": [
       "                                                   id;respid;extrtime;origin;destination;company;depdate;arrdate;duration;flighttype;price;stopover;stopovertime\n",
       "1;1;15/01/2016 10:12:21;CDG;NTE;Air France;2016...      0833333333333333;aller simple;52;Sans escale;                                                           \n",
       "1;2;15/01/2016 10:12:21;CDG;NTE;Air France;2016...      0833333333333333;aller simple;52;Sans escale;                                                           \n",
       "1;3;15/01/2016 10:12:21;CDG;NTE;Air France;2016...      0833333333333333;aller simple;52;Sans escale;                                                           \n",
       "1;4;15/01/2016 10:12:21;ORY;NTE;Air France;2016...                    25;aller simple;69;Sans escale;                                                           \n",
       "1;5;15/01/2016 10:12:21;CDG;NTE;Air France-HOP!...  0833333333333335;aller simple;93;1 escale;45mi...                                                           "
      ]
     },
     "execution_count": 3,
     "metadata": {},
     "output_type": "execute_result"
    }
   ],
   "source": [
    "df_gflight.head()"
   ]
  },
  {
   "cell_type": "code",
   "execution_count": 4,
   "metadata": {
    "ExecuteTime": {
     "end_time": "2019-01-11T14:16:51.112871Z",
     "start_time": "2019-01-11T14:16:51.058016Z"
    }
   },
   "outputs": [],
   "source": [
    "df_gflight = pd.read_csv('../data/Googleflights.csv', sep=';', decimal=',')"
   ]
  },
  {
   "cell_type": "markdown",
   "metadata": {},
   "source": [
    "Jettons un coup d'oeil à la table"
   ]
  },
  {
   "cell_type": "code",
   "execution_count": 5,
   "metadata": {
    "ExecuteTime": {
     "end_time": "2019-01-11T14:16:52.714419Z",
     "start_time": "2019-01-11T14:16:52.691482Z"
    }
   },
   "outputs": [
    {
     "data": {
      "text/html": [
       "<div>\n",
       "<style scoped>\n",
       "    .dataframe tbody tr th:only-of-type {\n",
       "        vertical-align: middle;\n",
       "    }\n",
       "\n",
       "    .dataframe tbody tr th {\n",
       "        vertical-align: top;\n",
       "    }\n",
       "\n",
       "    .dataframe thead th {\n",
       "        text-align: right;\n",
       "    }\n",
       "</style>\n",
       "<table border=\"1\" class=\"dataframe\">\n",
       "  <thead>\n",
       "    <tr style=\"text-align: right;\">\n",
       "      <th></th>\n",
       "      <th>id</th>\n",
       "      <th>respid</th>\n",
       "      <th>extrtime</th>\n",
       "      <th>origin</th>\n",
       "      <th>destination</th>\n",
       "      <th>company</th>\n",
       "      <th>depdate</th>\n",
       "      <th>arrdate</th>\n",
       "      <th>duration</th>\n",
       "      <th>flighttype</th>\n",
       "      <th>price</th>\n",
       "      <th>stopover</th>\n",
       "      <th>stopovertime</th>\n",
       "    </tr>\n",
       "  </thead>\n",
       "  <tbody>\n",
       "    <tr>\n",
       "      <th>2667</th>\n",
       "      <td>31</td>\n",
       "      <td>59</td>\n",
       "      <td>15/01/2016 10:15:21</td>\n",
       "      <td>TLS</td>\n",
       "      <td>UIP</td>\n",
       "      <td>Air France-Air France</td>\n",
       "      <td>2016-03-15T20:30:00</td>\n",
       "      <td>2016-03-16T21:50:00</td>\n",
       "      <td>25.333333</td>\n",
       "      <td>aller simple</td>\n",
       "      <td>87.0</td>\n",
       "      <td>1 escale</td>\n",
       "      <td>22h 25min à ORY</td>\n",
       "    </tr>\n",
       "    <tr>\n",
       "      <th>3671</th>\n",
       "      <td>45</td>\n",
       "      <td>1</td>\n",
       "      <td>15/01/2016 10:16:44</td>\n",
       "      <td>NTE</td>\n",
       "      <td>LYS</td>\n",
       "      <td>HOP!</td>\n",
       "      <td>2016-03-15T08:55:00</td>\n",
       "      <td>2016-03-15T10:05:00</td>\n",
       "      <td>1.166667</td>\n",
       "      <td>aller simple</td>\n",
       "      <td>50.0</td>\n",
       "      <td>Sans escale</td>\n",
       "      <td>NaN</td>\n",
       "    </tr>\n",
       "    <tr>\n",
       "      <th>5612</th>\n",
       "      <td>65</td>\n",
       "      <td>7</td>\n",
       "      <td>15/01/2016 10:18:44</td>\n",
       "      <td>LRT</td>\n",
       "      <td>SXB</td>\n",
       "      <td>Air France-Air France</td>\n",
       "      <td>2016-03-15T14:10:00</td>\n",
       "      <td>2016-03-15T18:10:00</td>\n",
       "      <td>4.000000</td>\n",
       "      <td>aller simple</td>\n",
       "      <td>117.0</td>\n",
       "      <td>1 escale</td>\n",
       "      <td>1h 20min à ORY</td>\n",
       "    </tr>\n",
       "    <tr>\n",
       "      <th>5150</th>\n",
       "      <td>58</td>\n",
       "      <td>157</td>\n",
       "      <td>15/01/2016 10:18:04</td>\n",
       "      <td>BES</td>\n",
       "      <td>TLS</td>\n",
       "      <td>Air France-Air France</td>\n",
       "      <td>2016-03-15T18:15:00</td>\n",
       "      <td>2016-03-16T17:05:00</td>\n",
       "      <td>22.833333</td>\n",
       "      <td>aller simple</td>\n",
       "      <td>98.0</td>\n",
       "      <td>1 escale</td>\n",
       "      <td>20h 15min à CDG</td>\n",
       "    </tr>\n",
       "    <tr>\n",
       "      <th>275</th>\n",
       "      <td>2</td>\n",
       "      <td>36</td>\n",
       "      <td>15/01/2016 10:12:27</td>\n",
       "      <td>LYS</td>\n",
       "      <td>NTE</td>\n",
       "      <td>HOP!-HOP!</td>\n",
       "      <td>2016-03-15T15:25:00</td>\n",
       "      <td>2016-03-16T14:20:00</td>\n",
       "      <td>22.916667</td>\n",
       "      <td>aller simple</td>\n",
       "      <td>94.0</td>\n",
       "      <td>1 escale</td>\n",
       "      <td>20h 30min à NCE</td>\n",
       "    </tr>\n",
       "  </tbody>\n",
       "</table>\n",
       "</div>"
      ],
      "text/plain": [
       "      id  respid             extrtime origin destination  \\\n",
       "2667  31      59  15/01/2016 10:15:21    TLS         UIP   \n",
       "3671  45       1  15/01/2016 10:16:44    NTE         LYS   \n",
       "5612  65       7  15/01/2016 10:18:44    LRT         SXB   \n",
       "5150  58     157  15/01/2016 10:18:04    BES         TLS   \n",
       "275    2      36  15/01/2016 10:12:27    LYS         NTE   \n",
       "\n",
       "                    company              depdate              arrdate  \\\n",
       "2667  Air France-Air France  2016-03-15T20:30:00  2016-03-16T21:50:00   \n",
       "3671                   HOP!  2016-03-15T08:55:00  2016-03-15T10:05:00   \n",
       "5612  Air France-Air France  2016-03-15T14:10:00  2016-03-15T18:10:00   \n",
       "5150  Air France-Air France  2016-03-15T18:15:00  2016-03-16T17:05:00   \n",
       "275               HOP!-HOP!  2016-03-15T15:25:00  2016-03-16T14:20:00   \n",
       "\n",
       "       duration    flighttype  price     stopover     stopovertime  \n",
       "2667  25.333333  aller simple   87.0     1 escale  22h 25min à ORY  \n",
       "3671   1.166667  aller simple   50.0  Sans escale              NaN  \n",
       "5612   4.000000  aller simple  117.0     1 escale   1h 20min à ORY  \n",
       "5150  22.833333  aller simple   98.0     1 escale  20h 15min à CDG  \n",
       "275   22.916667  aller simple   94.0     1 escale  20h 30min à NCE  "
      ]
     },
     "execution_count": 5,
     "metadata": {},
     "output_type": "execute_result"
    }
   ],
   "source": [
    "df_gflight.sample(5)"
   ]
  },
  {
   "cell_type": "code",
   "execution_count": 6,
   "metadata": {
    "ExecuteTime": {
     "end_time": "2019-01-11T14:16:53.687353Z",
     "start_time": "2019-01-11T14:16:53.675387Z"
    }
   },
   "outputs": [
    {
     "name": "stdout",
     "output_type": "stream",
     "text": [
      "<class 'pandas.core.frame.DataFrame'>\n",
      "RangeIndex: 6815 entries, 0 to 6814\n",
      "Data columns (total 13 columns):\n",
      " #   Column        Non-Null Count  Dtype  \n",
      "---  ------        --------------  -----  \n",
      " 0   id            6815 non-null   int64  \n",
      " 1   respid        6815 non-null   int64  \n",
      " 2   extrtime      6815 non-null   object \n",
      " 3   origin        6815 non-null   object \n",
      " 4   destination   6815 non-null   object \n",
      " 5   company       6815 non-null   object \n",
      " 6   depdate       6815 non-null   object \n",
      " 7   arrdate       6815 non-null   object \n",
      " 8   duration      6813 non-null   float64\n",
      " 9   flighttype    6815 non-null   object \n",
      " 10  price         6805 non-null   float64\n",
      " 11  stopover      6815 non-null   object \n",
      " 12  stopovertime  6672 non-null   object \n",
      "dtypes: float64(2), int64(2), object(9)\n",
      "memory usage: 692.3+ KB\n"
     ]
    }
   ],
   "source": [
    "df_gflight.info()"
   ]
  },
  {
   "cell_type": "markdown",
   "metadata": {},
   "source": [
    "# Chaines de caractères"
   ]
  },
  {
   "cell_type": "markdown",
   "metadata": {},
   "source": [
    "## Modifier une série de manière systématique grâce à map"
   ]
  },
  {
   "cell_type": "markdown",
   "metadata": {},
   "source": [
    "### Sur la base d'un dictionnaire"
   ]
  },
  {
   "cell_type": "markdown",
   "metadata": {},
   "source": [
    "La méthode **Series.map()** permet, en utilisant un dictionnaire de \"correspondance\" de convertir des modalités en d'autres modalités"
   ]
  },
  {
   "cell_type": "code",
   "execution_count": 7,
   "metadata": {
    "ExecuteTime": {
     "end_time": "2019-01-11T14:16:59.791302Z",
     "start_time": "2019-01-11T14:16:59.786315Z"
    },
    "scrolled": true
   },
   "outputs": [
    {
     "data": {
      "text/plain": [
       "array(['Sans escale', '1 escale'], dtype=object)"
      ]
     },
     "execution_count": 7,
     "metadata": {},
     "output_type": "execute_result"
    }
   ],
   "source": [
    "df_gflight['stopover'].unique()"
   ]
  },
  {
   "cell_type": "code",
   "execution_count": 9,
   "metadata": {},
   "outputs": [
    {
     "data": {
      "text/plain": [
       "2"
      ]
     },
     "execution_count": 9,
     "metadata": {},
     "output_type": "execute_result"
    }
   ],
   "source": [
    "df_gflight['stopover'].nunique()"
   ]
  },
  {
   "cell_type": "code",
   "execution_count": 10,
   "metadata": {
    "ExecuteTime": {
     "end_time": "2019-01-11T14:17:02.372482Z",
     "start_time": "2019-01-11T14:17:02.368494Z"
    }
   },
   "outputs": [],
   "source": [
    "dict_escales = {\n",
    "    'Sans escale' : 0,\n",
    "    '1 escale' : 1,\n",
    "}"
   ]
  },
  {
   "cell_type": "code",
   "execution_count": 11,
   "metadata": {
    "ExecuteTime": {
     "end_time": "2019-01-11T14:17:08.852431Z",
     "start_time": "2019-01-11T14:17:08.846449Z"
    }
   },
   "outputs": [],
   "source": [
    "df_gflight['stopover_num'] = df_gflight['stopover'].map(dict_escales)"
   ]
  },
  {
   "cell_type": "code",
   "execution_count": 12,
   "metadata": {
    "ExecuteTime": {
     "end_time": "2019-01-11T14:17:12.521484Z",
     "start_time": "2019-01-11T14:17:12.515501Z"
    }
   },
   "outputs": [
    {
     "data": {
      "text/html": [
       "<div>\n",
       "<style scoped>\n",
       "    .dataframe tbody tr th:only-of-type {\n",
       "        vertical-align: middle;\n",
       "    }\n",
       "\n",
       "    .dataframe tbody tr th {\n",
       "        vertical-align: top;\n",
       "    }\n",
       "\n",
       "    .dataframe thead th {\n",
       "        text-align: right;\n",
       "    }\n",
       "</style>\n",
       "<table border=\"1\" class=\"dataframe\">\n",
       "  <thead>\n",
       "    <tr style=\"text-align: right;\">\n",
       "      <th></th>\n",
       "      <th>stopover</th>\n",
       "      <th>stopover_num</th>\n",
       "    </tr>\n",
       "  </thead>\n",
       "  <tbody>\n",
       "    <tr>\n",
       "      <th>4817</th>\n",
       "      <td>1 escale</td>\n",
       "      <td>1</td>\n",
       "    </tr>\n",
       "    <tr>\n",
       "      <th>223</th>\n",
       "      <td>1 escale</td>\n",
       "      <td>1</td>\n",
       "    </tr>\n",
       "    <tr>\n",
       "      <th>4585</th>\n",
       "      <td>1 escale</td>\n",
       "      <td>1</td>\n",
       "    </tr>\n",
       "    <tr>\n",
       "      <th>5941</th>\n",
       "      <td>1 escale</td>\n",
       "      <td>1</td>\n",
       "    </tr>\n",
       "    <tr>\n",
       "      <th>3106</th>\n",
       "      <td>1 escale</td>\n",
       "      <td>1</td>\n",
       "    </tr>\n",
       "  </tbody>\n",
       "</table>\n",
       "</div>"
      ],
      "text/plain": [
       "      stopover  stopover_num\n",
       "4817  1 escale             1\n",
       "223   1 escale             1\n",
       "4585  1 escale             1\n",
       "5941  1 escale             1\n",
       "3106  1 escale             1"
      ]
     },
     "execution_count": 12,
     "metadata": {},
     "output_type": "execute_result"
    }
   ],
   "source": [
    "df_gflight[['stopover', 'stopover_num']].sample(5)"
   ]
  },
  {
   "cell_type": "markdown",
   "metadata": {},
   "source": [
    "### Sur la base d'une fonction"
   ]
  },
  {
   "cell_type": "markdown",
   "metadata": {},
   "source": [
    "La méthode **Series.map()** permet aussi d'appliquer une fonction à chaque élément d'une Series"
   ]
  },
  {
   "cell_type": "code",
   "execution_count": 13,
   "metadata": {
    "ExecuteTime": {
     "end_time": "2019-01-11T14:17:15.707094Z",
     "start_time": "2019-01-11T14:17:15.700115Z"
    }
   },
   "outputs": [
    {
     "data": {
      "text/plain": [
       "array([nan, '45min à LYS', '1h 40min à LYS', ..., '21h 55min à MRS',\n",
       "       '11h 50min à MRS', '23h 50min à NCE'], dtype=object)"
      ]
     },
     "execution_count": 13,
     "metadata": {},
     "output_type": "execute_result"
    }
   ],
   "source": [
    "df_gflight['stopovertime'].unique()"
   ]
  },
  {
   "cell_type": "markdown",
   "metadata": {},
   "source": [
    "On peut par exemple appliquer la fonction suivante pour transformer nos ids en chaines de caractères en index"
   ]
  },
  {
   "cell_type": "code",
   "execution_count": 14,
   "metadata": {
    "ExecuteTime": {
     "end_time": "2019-01-11T14:17:17.594831Z",
     "start_time": "2019-01-11T14:17:17.589846Z"
    }
   },
   "outputs": [],
   "source": [
    "def conv_func(val):\n",
    "    if val is np.nan:\n",
    "        return np.nan\n",
    "    else:\n",
    "        if 'h ' in val:\n",
    "            heures = int(val.split('h ')[0]) #Decoupe selon 'h ' et après le convertir en entier.\n",
    "            minutes = int(val.split('h ')[1].split('min')[0]) #Decoupe en plus selon 'Min' maintenant.\n",
    "            return heures + minutes/60\n",
    "        elif 'min' in val:\n",
    "            return int(val.split('min')[0])/60\n",
    "        else:\n",
    "            raise BaseException('Problème')"
   ]
  },
  {
   "cell_type": "code",
   "execution_count": 15,
   "metadata": {
    "ExecuteTime": {
     "end_time": "2019-01-11T14:17:19.493841Z",
     "start_time": "2019-01-11T14:17:19.479879Z"
    }
   },
   "outputs": [],
   "source": [
    "df_gflight['stop_time'] = df_gflight['stopovertime'].map(conv_func)"
   ]
  },
  {
   "cell_type": "code",
   "execution_count": 16,
   "metadata": {
    "ExecuteTime": {
     "end_time": "2019-01-11T14:17:20.493295Z",
     "start_time": "2019-01-11T14:17:20.481327Z"
    }
   },
   "outputs": [
    {
     "data": {
      "text/html": [
       "<div>\n",
       "<style scoped>\n",
       "    .dataframe tbody tr th:only-of-type {\n",
       "        vertical-align: middle;\n",
       "    }\n",
       "\n",
       "    .dataframe tbody tr th {\n",
       "        vertical-align: top;\n",
       "    }\n",
       "\n",
       "    .dataframe thead th {\n",
       "        text-align: right;\n",
       "    }\n",
       "</style>\n",
       "<table border=\"1\" class=\"dataframe\">\n",
       "  <thead>\n",
       "    <tr style=\"text-align: right;\">\n",
       "      <th></th>\n",
       "      <th>stopovertime</th>\n",
       "      <th>stop_time</th>\n",
       "    </tr>\n",
       "  </thead>\n",
       "  <tbody>\n",
       "    <tr>\n",
       "      <th>4396</th>\n",
       "      <td>7h 40min à ORY</td>\n",
       "      <td>7.666667</td>\n",
       "    </tr>\n",
       "    <tr>\n",
       "      <th>1930</th>\n",
       "      <td>15h 00min à ORY</td>\n",
       "      <td>15.000000</td>\n",
       "    </tr>\n",
       "    <tr>\n",
       "      <th>284</th>\n",
       "      <td>22h 20min à SXB</td>\n",
       "      <td>22.333333</td>\n",
       "    </tr>\n",
       "    <tr>\n",
       "      <th>1021</th>\n",
       "      <td>21h 25min à ORY</td>\n",
       "      <td>21.416667</td>\n",
       "    </tr>\n",
       "    <tr>\n",
       "      <th>1910</th>\n",
       "      <td>6h 50min à CDG</td>\n",
       "      <td>6.833333</td>\n",
       "    </tr>\n",
       "  </tbody>\n",
       "</table>\n",
       "</div>"
      ],
      "text/plain": [
       "         stopovertime  stop_time\n",
       "4396   7h 40min à ORY   7.666667\n",
       "1930  15h 00min à ORY  15.000000\n",
       "284   22h 20min à SXB  22.333333\n",
       "1021  21h 25min à ORY  21.416667\n",
       "1910   6h 50min à CDG   6.833333"
      ]
     },
     "execution_count": 16,
     "metadata": {},
     "output_type": "execute_result"
    }
   ],
   "source": [
    "df_gflight[['stopovertime', 'stop_time']].sample(5)"
   ]
  },
  {
   "cell_type": "markdown",
   "metadata": {},
   "source": [
    "On peut faire de même pour extraire les aéroports de correspondance. Ici, c'est une fonction lambda qui est utilisée :"
   ]
  },
  {
   "cell_type": "code",
   "execution_count": 17,
   "metadata": {
    "ExecuteTime": {
     "end_time": "2019-01-11T14:17:26.239785Z",
     "start_time": "2019-01-11T14:17:26.234769Z"
    }
   },
   "outputs": [],
   "source": [
    "def ma_fonc(x):\n",
    "    if x is np.nan:\n",
    "        return ''\n",
    "    else:\n",
    "        return x.split(' à ')[l]"
   ]
  },
  {
   "cell_type": "code",
   "execution_count": 18,
   "metadata": {
    "ExecuteTime": {
     "end_time": "2019-01-11T14:17:27.867306Z",
     "start_time": "2019-01-11T14:17:27.858330Z"
    }
   },
   "outputs": [],
   "source": [
    "df_gflight['stop_place'] = df_gflight['stopovertime'].map(lambda x: '' if x is np.nan else x.split(' à ')[1])"
   ]
  },
  {
   "cell_type": "code",
   "execution_count": 19,
   "metadata": {
    "ExecuteTime": {
     "end_time": "2019-01-11T14:17:28.922675Z",
     "start_time": "2019-01-11T14:17:28.912702Z"
    }
   },
   "outputs": [
    {
     "data": {
      "text/html": [
       "<div>\n",
       "<style scoped>\n",
       "    .dataframe tbody tr th:only-of-type {\n",
       "        vertical-align: middle;\n",
       "    }\n",
       "\n",
       "    .dataframe tbody tr th {\n",
       "        vertical-align: top;\n",
       "    }\n",
       "\n",
       "    .dataframe thead th {\n",
       "        text-align: right;\n",
       "    }\n",
       "</style>\n",
       "<table border=\"1\" class=\"dataframe\">\n",
       "  <thead>\n",
       "    <tr style=\"text-align: right;\">\n",
       "      <th></th>\n",
       "      <th>stopovertime</th>\n",
       "      <th>stop_place</th>\n",
       "    </tr>\n",
       "  </thead>\n",
       "  <tbody>\n",
       "    <tr>\n",
       "      <th>6753</th>\n",
       "      <td>25h 25min à CDG</td>\n",
       "      <td>CDG</td>\n",
       "    </tr>\n",
       "    <tr>\n",
       "      <th>5027</th>\n",
       "      <td>11h 50min à ORY</td>\n",
       "      <td>ORY</td>\n",
       "    </tr>\n",
       "    <tr>\n",
       "      <th>740</th>\n",
       "      <td>11h 55min à TLS</td>\n",
       "      <td>TLS</td>\n",
       "    </tr>\n",
       "    <tr>\n",
       "      <th>6203</th>\n",
       "      <td>11h 35min à MRS</td>\n",
       "      <td>MRS</td>\n",
       "    </tr>\n",
       "    <tr>\n",
       "      <th>1321</th>\n",
       "      <td>25h 05min à ORY</td>\n",
       "      <td>ORY</td>\n",
       "    </tr>\n",
       "  </tbody>\n",
       "</table>\n",
       "</div>"
      ],
      "text/plain": [
       "         stopovertime stop_place\n",
       "6753  25h 25min à CDG        CDG\n",
       "5027  11h 50min à ORY        ORY\n",
       "740   11h 55min à TLS        TLS\n",
       "6203  11h 35min à MRS        MRS\n",
       "1321  25h 05min à ORY        ORY"
      ]
     },
     "execution_count": 19,
     "metadata": {},
     "output_type": "execute_result"
    }
   ],
   "source": [
    "df_gflight[['stopovertime', 'stop_place']].sample(5)"
   ]
  },
  {
   "cell_type": "markdown",
   "metadata": {},
   "source": [
    "<div class=\"alert alert-block alert-info\"><b>Pour aller plus loin :</b> <a href=https://pandas.pydata.org/pandas-docs/stable/generated/pandas.DataFrame.map.html> Doc officielle Pandas sur la <b>méthode map</b></a></div>"
   ]
  },
  {
   "cell_type": "markdown",
   "metadata": {},
   "source": [
    "## Objet .str"
   ]
  },
  {
   "cell_type": "markdown",
   "metadata": {},
   "source": [
    "Une autre manière aurait été de prendre les 3 derniers caractères de la chaine de caractères, pour faire des opérations de type méthode de **str** sur une Serie **object**, on peut utiliser l'objet **.str**"
   ]
  },
  {
   "cell_type": "code",
   "execution_count": 20,
   "metadata": {
    "ExecuteTime": {
     "end_time": "2019-01-11T14:17:31.911348Z",
     "start_time": "2019-01-11T14:17:31.903371Z"
    }
   },
   "outputs": [
    {
     "data": {
      "text/plain": [
       "1539    ORY\n",
       "4296    ORY\n",
       "111     LYS\n",
       "2724    ORY\n",
       "5424    CDG\n",
       "Name: stopovertime, dtype: object"
      ]
     },
     "execution_count": 20,
     "metadata": {},
     "output_type": "execute_result"
    }
   ],
   "source": [
    "df_gflight['stopovertime'].str[-3:].sample(5)"
   ]
  },
  {
   "cell_type": "markdown",
   "metadata": {},
   "source": [
    "La plupart des méthodes aprises dans le cadre des chaines de caractères peuvent être utilisées avec l'objet **.str** :"
   ]
  },
  {
   "cell_type": "code",
   "execution_count": 21,
   "metadata": {
    "ExecuteTime": {
     "end_time": "2019-01-11T14:17:34.152466Z",
     "start_time": "2019-01-11T14:17:34.142492Z"
    }
   },
   "outputs": [
    {
     "data": {
      "text/plain": [
       "6789    [23h, 55min, à, MRS]\n",
       "696      [5h, 10min, à, CDG]\n",
       "6759    [11h, 10min, à, MRS]\n",
       "1692    [20h, 30min, à, ORY]\n",
       "841      [7h, 55min, à, CDG]\n",
       "Name: stopovertime, dtype: object"
      ]
     },
     "execution_count": 21,
     "metadata": {},
     "output_type": "execute_result"
    }
   ],
   "source": [
    "df_gflight['stopovertime'].str.split().sample(5)"
   ]
  },
  {
   "cell_type": "code",
   "execution_count": 22,
   "metadata": {
    "ExecuteTime": {
     "end_time": "2019-01-11T14:17:37.364700Z",
     "start_time": "2019-01-11T14:17:37.354728Z"
    },
    "scrolled": true
   },
   "outputs": [
    {
     "data": {
      "text/plain": [
       "6659    10H 30MIN À CDG\n",
       "795      5H 25MIN À LYS\n",
       "4238    16H 40MIN À ORY\n",
       "5784     3H 25MIN À CDG\n",
       "3471    16H 55MIN À TLS\n",
       "Name: stopovertime, dtype: object"
      ]
     },
     "execution_count": 22,
     "metadata": {},
     "output_type": "execute_result"
    }
   ],
   "source": [
    "df_gflight['stopovertime'].str.upper().sample(5)"
   ]
  },
  {
   "cell_type": "markdown",
   "metadata": {},
   "source": [
    "<div class=\"alert alert-block alert-info\">\n",
    "<b>Pour aller plus loin:</b> <a href=https://pandas.pydata.org/pandas-docs/stable/text.html> Tutoriel sur le <b>traitement de chaines de caractères </b></a>\n",
    "</div>"
   ]
  },
  {
   "cell_type": "markdown",
   "metadata": {},
   "source": [
    "# Valeurs manquantes"
   ]
  },
  {
   "cell_type": "markdown",
   "metadata": {},
   "source": [
    "Remarque :\n",
    "\n",
    "les **object** et **floatXX** contenir des **numpy.nan** (**valeur manquante** dans une **numpy.ndarray**, et par héritage **pandas.Series** et **pandas.DataFrame**), pas les **intXX**"
   ]
  },
  {
   "cell_type": "markdown",
   "metadata": {},
   "source": [
    "## Savoir quelles cases sont nulles"
   ]
  },
  {
   "cell_type": "code",
   "execution_count": 23,
   "metadata": {
    "ExecuteTime": {
     "end_time": "2019-01-11T14:17:41.331011Z",
     "start_time": "2019-01-11T14:17:41.306079Z"
    }
   },
   "outputs": [
    {
     "data": {
      "text/html": [
       "<div>\n",
       "<style scoped>\n",
       "    .dataframe tbody tr th:only-of-type {\n",
       "        vertical-align: middle;\n",
       "    }\n",
       "\n",
       "    .dataframe tbody tr th {\n",
       "        vertical-align: top;\n",
       "    }\n",
       "\n",
       "    .dataframe thead th {\n",
       "        text-align: right;\n",
       "    }\n",
       "</style>\n",
       "<table border=\"1\" class=\"dataframe\">\n",
       "  <thead>\n",
       "    <tr style=\"text-align: right;\">\n",
       "      <th></th>\n",
       "      <th>id</th>\n",
       "      <th>respid</th>\n",
       "      <th>extrtime</th>\n",
       "      <th>origin</th>\n",
       "      <th>destination</th>\n",
       "      <th>company</th>\n",
       "      <th>depdate</th>\n",
       "      <th>arrdate</th>\n",
       "      <th>duration</th>\n",
       "      <th>flighttype</th>\n",
       "      <th>price</th>\n",
       "      <th>stopover</th>\n",
       "      <th>stopovertime</th>\n",
       "      <th>stopover_num</th>\n",
       "      <th>stop_time</th>\n",
       "      <th>stop_place</th>\n",
       "    </tr>\n",
       "  </thead>\n",
       "  <tbody>\n",
       "    <tr>\n",
       "      <th>0</th>\n",
       "      <td>False</td>\n",
       "      <td>False</td>\n",
       "      <td>False</td>\n",
       "      <td>False</td>\n",
       "      <td>False</td>\n",
       "      <td>False</td>\n",
       "      <td>False</td>\n",
       "      <td>False</td>\n",
       "      <td>False</td>\n",
       "      <td>False</td>\n",
       "      <td>False</td>\n",
       "      <td>False</td>\n",
       "      <td>True</td>\n",
       "      <td>False</td>\n",
       "      <td>True</td>\n",
       "      <td>False</td>\n",
       "    </tr>\n",
       "    <tr>\n",
       "      <th>1</th>\n",
       "      <td>False</td>\n",
       "      <td>False</td>\n",
       "      <td>False</td>\n",
       "      <td>False</td>\n",
       "      <td>False</td>\n",
       "      <td>False</td>\n",
       "      <td>False</td>\n",
       "      <td>False</td>\n",
       "      <td>False</td>\n",
       "      <td>False</td>\n",
       "      <td>False</td>\n",
       "      <td>False</td>\n",
       "      <td>True</td>\n",
       "      <td>False</td>\n",
       "      <td>True</td>\n",
       "      <td>False</td>\n",
       "    </tr>\n",
       "    <tr>\n",
       "      <th>2</th>\n",
       "      <td>False</td>\n",
       "      <td>False</td>\n",
       "      <td>False</td>\n",
       "      <td>False</td>\n",
       "      <td>False</td>\n",
       "      <td>False</td>\n",
       "      <td>False</td>\n",
       "      <td>False</td>\n",
       "      <td>False</td>\n",
       "      <td>False</td>\n",
       "      <td>False</td>\n",
       "      <td>False</td>\n",
       "      <td>True</td>\n",
       "      <td>False</td>\n",
       "      <td>True</td>\n",
       "      <td>False</td>\n",
       "    </tr>\n",
       "    <tr>\n",
       "      <th>3</th>\n",
       "      <td>False</td>\n",
       "      <td>False</td>\n",
       "      <td>False</td>\n",
       "      <td>False</td>\n",
       "      <td>False</td>\n",
       "      <td>False</td>\n",
       "      <td>False</td>\n",
       "      <td>False</td>\n",
       "      <td>False</td>\n",
       "      <td>False</td>\n",
       "      <td>False</td>\n",
       "      <td>False</td>\n",
       "      <td>True</td>\n",
       "      <td>False</td>\n",
       "      <td>True</td>\n",
       "      <td>False</td>\n",
       "    </tr>\n",
       "    <tr>\n",
       "      <th>4</th>\n",
       "      <td>False</td>\n",
       "      <td>False</td>\n",
       "      <td>False</td>\n",
       "      <td>False</td>\n",
       "      <td>False</td>\n",
       "      <td>False</td>\n",
       "      <td>False</td>\n",
       "      <td>False</td>\n",
       "      <td>False</td>\n",
       "      <td>False</td>\n",
       "      <td>False</td>\n",
       "      <td>False</td>\n",
       "      <td>False</td>\n",
       "      <td>False</td>\n",
       "      <td>False</td>\n",
       "      <td>False</td>\n",
       "    </tr>\n",
       "  </tbody>\n",
       "</table>\n",
       "</div>"
      ],
      "text/plain": [
       "      id  respid  extrtime  origin  destination  company  depdate  arrdate  \\\n",
       "0  False   False     False   False        False    False    False    False   \n",
       "1  False   False     False   False        False    False    False    False   \n",
       "2  False   False     False   False        False    False    False    False   \n",
       "3  False   False     False   False        False    False    False    False   \n",
       "4  False   False     False   False        False    False    False    False   \n",
       "\n",
       "   duration  flighttype  price  stopover  stopovertime  stopover_num  \\\n",
       "0     False       False  False     False          True         False   \n",
       "1     False       False  False     False          True         False   \n",
       "2     False       False  False     False          True         False   \n",
       "3     False       False  False     False          True         False   \n",
       "4     False       False  False     False         False         False   \n",
       "\n",
       "   stop_time  stop_place  \n",
       "0       True       False  \n",
       "1       True       False  \n",
       "2       True       False  \n",
       "3       True       False  \n",
       "4      False       False  "
      ]
     },
     "execution_count": 23,
     "metadata": {},
     "output_type": "execute_result"
    }
   ],
   "source": [
    "df_gflight.isnull().head()"
   ]
  },
  {
   "cell_type": "markdown",
   "metadata": {},
   "source": [
    "Ou l'inverse :"
   ]
  },
  {
   "cell_type": "code",
   "execution_count": 24,
   "metadata": {
    "ExecuteTime": {
     "end_time": "2019-01-11T14:17:44.143725Z",
     "start_time": "2019-01-11T14:17:44.126770Z"
    }
   },
   "outputs": [
    {
     "data": {
      "text/html": [
       "<div>\n",
       "<style scoped>\n",
       "    .dataframe tbody tr th:only-of-type {\n",
       "        vertical-align: middle;\n",
       "    }\n",
       "\n",
       "    .dataframe tbody tr th {\n",
       "        vertical-align: top;\n",
       "    }\n",
       "\n",
       "    .dataframe thead th {\n",
       "        text-align: right;\n",
       "    }\n",
       "</style>\n",
       "<table border=\"1\" class=\"dataframe\">\n",
       "  <thead>\n",
       "    <tr style=\"text-align: right;\">\n",
       "      <th></th>\n",
       "      <th>id</th>\n",
       "      <th>respid</th>\n",
       "      <th>extrtime</th>\n",
       "      <th>origin</th>\n",
       "      <th>destination</th>\n",
       "      <th>company</th>\n",
       "      <th>depdate</th>\n",
       "      <th>arrdate</th>\n",
       "      <th>duration</th>\n",
       "      <th>flighttype</th>\n",
       "      <th>price</th>\n",
       "      <th>stopover</th>\n",
       "      <th>stopovertime</th>\n",
       "      <th>stopover_num</th>\n",
       "      <th>stop_time</th>\n",
       "      <th>stop_place</th>\n",
       "    </tr>\n",
       "  </thead>\n",
       "  <tbody>\n",
       "    <tr>\n",
       "      <th>0</th>\n",
       "      <td>True</td>\n",
       "      <td>True</td>\n",
       "      <td>True</td>\n",
       "      <td>True</td>\n",
       "      <td>True</td>\n",
       "      <td>True</td>\n",
       "      <td>True</td>\n",
       "      <td>True</td>\n",
       "      <td>True</td>\n",
       "      <td>True</td>\n",
       "      <td>True</td>\n",
       "      <td>True</td>\n",
       "      <td>False</td>\n",
       "      <td>True</td>\n",
       "      <td>False</td>\n",
       "      <td>True</td>\n",
       "    </tr>\n",
       "    <tr>\n",
       "      <th>1</th>\n",
       "      <td>True</td>\n",
       "      <td>True</td>\n",
       "      <td>True</td>\n",
       "      <td>True</td>\n",
       "      <td>True</td>\n",
       "      <td>True</td>\n",
       "      <td>True</td>\n",
       "      <td>True</td>\n",
       "      <td>True</td>\n",
       "      <td>True</td>\n",
       "      <td>True</td>\n",
       "      <td>True</td>\n",
       "      <td>False</td>\n",
       "      <td>True</td>\n",
       "      <td>False</td>\n",
       "      <td>True</td>\n",
       "    </tr>\n",
       "    <tr>\n",
       "      <th>2</th>\n",
       "      <td>True</td>\n",
       "      <td>True</td>\n",
       "      <td>True</td>\n",
       "      <td>True</td>\n",
       "      <td>True</td>\n",
       "      <td>True</td>\n",
       "      <td>True</td>\n",
       "      <td>True</td>\n",
       "      <td>True</td>\n",
       "      <td>True</td>\n",
       "      <td>True</td>\n",
       "      <td>True</td>\n",
       "      <td>False</td>\n",
       "      <td>True</td>\n",
       "      <td>False</td>\n",
       "      <td>True</td>\n",
       "    </tr>\n",
       "    <tr>\n",
       "      <th>3</th>\n",
       "      <td>True</td>\n",
       "      <td>True</td>\n",
       "      <td>True</td>\n",
       "      <td>True</td>\n",
       "      <td>True</td>\n",
       "      <td>True</td>\n",
       "      <td>True</td>\n",
       "      <td>True</td>\n",
       "      <td>True</td>\n",
       "      <td>True</td>\n",
       "      <td>True</td>\n",
       "      <td>True</td>\n",
       "      <td>False</td>\n",
       "      <td>True</td>\n",
       "      <td>False</td>\n",
       "      <td>True</td>\n",
       "    </tr>\n",
       "    <tr>\n",
       "      <th>4</th>\n",
       "      <td>True</td>\n",
       "      <td>True</td>\n",
       "      <td>True</td>\n",
       "      <td>True</td>\n",
       "      <td>True</td>\n",
       "      <td>True</td>\n",
       "      <td>True</td>\n",
       "      <td>True</td>\n",
       "      <td>True</td>\n",
       "      <td>True</td>\n",
       "      <td>True</td>\n",
       "      <td>True</td>\n",
       "      <td>True</td>\n",
       "      <td>True</td>\n",
       "      <td>True</td>\n",
       "      <td>True</td>\n",
       "    </tr>\n",
       "  </tbody>\n",
       "</table>\n",
       "</div>"
      ],
      "text/plain": [
       "     id  respid  extrtime  origin  destination  company  depdate  arrdate  \\\n",
       "0  True    True      True    True         True     True     True     True   \n",
       "1  True    True      True    True         True     True     True     True   \n",
       "2  True    True      True    True         True     True     True     True   \n",
       "3  True    True      True    True         True     True     True     True   \n",
       "4  True    True      True    True         True     True     True     True   \n",
       "\n",
       "   duration  flighttype  price  stopover  stopovertime  stopover_num  \\\n",
       "0      True        True   True      True         False          True   \n",
       "1      True        True   True      True         False          True   \n",
       "2      True        True   True      True         False          True   \n",
       "3      True        True   True      True         False          True   \n",
       "4      True        True   True      True          True          True   \n",
       "\n",
       "   stop_time  stop_place  \n",
       "0      False        True  \n",
       "1      False        True  \n",
       "2      False        True  \n",
       "3      False        True  \n",
       "4       True        True  "
      ]
     },
     "execution_count": 24,
     "metadata": {},
     "output_type": "execute_result"
    }
   ],
   "source": [
    "df_gflight.notnull().head()"
   ]
  },
  {
   "cell_type": "markdown",
   "metadata": {},
   "source": [
    "On peut les compter ainsi (car True est considéré = 1 et False = 0):"
   ]
  },
  {
   "cell_type": "code",
   "execution_count": 25,
   "metadata": {
    "ExecuteTime": {
     "end_time": "2019-01-11T14:17:45.816062Z",
     "start_time": "2019-01-11T14:17:45.807089Z"
    }
   },
   "outputs": [
    {
     "data": {
      "text/plain": [
       "id                0\n",
       "respid            0\n",
       "extrtime          0\n",
       "origin            0\n",
       "destination       0\n",
       "company           0\n",
       "depdate           0\n",
       "arrdate           0\n",
       "duration          2\n",
       "flighttype        0\n",
       "price            10\n",
       "stopover          0\n",
       "stopovertime    143\n",
       "stopover_num      0\n",
       "stop_time       143\n",
       "stop_place        0\n",
       "dtype: int64"
      ]
     },
     "execution_count": 25,
     "metadata": {},
     "output_type": "execute_result"
    }
   ],
   "source": [
    "df_gflight.isnull().sum()"
   ]
  },
  {
   "cell_type": "markdown",
   "metadata": {},
   "source": [
    "## Supprimer les lignes où il y a des valeurs manquantes"
   ]
  },
  {
   "cell_type": "markdown",
   "metadata": {},
   "source": [
    "C'est typiquement ce qu'on voudra faire avec les valeurs manquantes sur notre variable expliquée"
   ]
  },
  {
   "cell_type": "code",
   "execution_count": 26,
   "metadata": {
    "ExecuteTime": {
     "end_time": "2019-01-11T14:17:47.605103Z",
     "start_time": "2019-01-11T14:17:47.598124Z"
    }
   },
   "outputs": [],
   "source": [
    "df_gflight = df_gflight.dropna(subset=['price'])"
   ]
  },
  {
   "cell_type": "code",
   "execution_count": 27,
   "metadata": {
    "ExecuteTime": {
     "end_time": "2019-01-11T14:17:48.876012Z",
     "start_time": "2019-01-11T14:17:48.863113Z"
    }
   },
   "outputs": [
    {
     "data": {
      "text/plain": [
       "id                0\n",
       "respid            0\n",
       "extrtime          0\n",
       "origin            0\n",
       "destination       0\n",
       "company           0\n",
       "depdate           0\n",
       "arrdate           0\n",
       "duration          1\n",
       "flighttype        0\n",
       "price             0\n",
       "stopover          0\n",
       "stopovertime    133\n",
       "stopover_num      0\n",
       "stop_time       133\n",
       "stop_place        0\n",
       "dtype: int64"
      ]
     },
     "execution_count": 27,
     "metadata": {},
     "output_type": "execute_result"
    }
   ],
   "source": [
    "df_gflight.isnull().sum()"
   ]
  },
  {
   "cell_type": "markdown",
   "metadata": {},
   "source": [
    "## Initialiser les valeurs manquantes d'une variable explicative à la valeur moyenne"
   ]
  },
  {
   "cell_type": "code",
   "execution_count": 28,
   "metadata": {
    "ExecuteTime": {
     "end_time": "2019-01-11T14:17:50.626511Z",
     "start_time": "2019-01-11T14:17:50.603573Z"
    }
   },
   "outputs": [],
   "source": [
    "df_gflight['duration'] = df_gflight['duration'].fillna(df_gflight['duration'].mean())"
   ]
  },
  {
   "cell_type": "code",
   "execution_count": 29,
   "metadata": {
    "ExecuteTime": {
     "end_time": "2019-01-11T14:17:51.793750Z",
     "start_time": "2019-01-11T14:17:51.782780Z"
    }
   },
   "outputs": [
    {
     "data": {
      "text/plain": [
       "id                0\n",
       "respid            0\n",
       "extrtime          0\n",
       "origin            0\n",
       "destination       0\n",
       "company           0\n",
       "depdate           0\n",
       "arrdate           0\n",
       "duration          0\n",
       "flighttype        0\n",
       "price             0\n",
       "stopover          0\n",
       "stopovertime    133\n",
       "stopover_num      0\n",
       "stop_time       133\n",
       "stop_place        0\n",
       "dtype: int64"
      ]
     },
     "execution_count": 29,
     "metadata": {},
     "output_type": "execute_result"
    }
   ],
   "source": [
    "df_gflight.isnull().sum()"
   ]
  },
  {
   "cell_type": "markdown",
   "metadata": {},
   "source": [
    "En pourcentage"
   ]
  },
  {
   "cell_type": "code",
   "execution_count": 30,
   "metadata": {},
   "outputs": [
    {
     "data": {
      "text/plain": [
       "id              0.000000\n",
       "respid          0.000000\n",
       "extrtime        0.000000\n",
       "origin          0.000000\n",
       "destination     0.000000\n",
       "company         0.000000\n",
       "depdate         0.000000\n",
       "arrdate         0.000000\n",
       "duration        0.000000\n",
       "flighttype      0.000000\n",
       "price           0.000000\n",
       "stopover        0.000000\n",
       "stopovertime    0.019544\n",
       "stopover_num    0.000000\n",
       "stop_time       0.019544\n",
       "stop_place      0.000000\n",
       "dtype: float64"
      ]
     },
     "execution_count": 30,
     "metadata": {},
     "output_type": "execute_result"
    }
   ],
   "source": [
    "df_gflight.isnull().sum() / len(df_gflight)"
   ]
  },
  {
   "cell_type": "markdown",
   "metadata": {},
   "source": [
    "## Initialiser les valeurs manquantes d'une variable explicative à une modalité"
   ]
  },
  {
   "cell_type": "code",
   "execution_count": 31,
   "metadata": {
    "ExecuteTime": {
     "end_time": "2019-01-11T14:17:56.634483Z",
     "start_time": "2019-01-11T14:17:56.630496Z"
    }
   },
   "outputs": [],
   "source": [
    "df_gflight['stop_time'] = df_gflight['stop_time'].fillna(0)"
   ]
  },
  {
   "cell_type": "code",
   "execution_count": 32,
   "metadata": {
    "ExecuteTime": {
     "end_time": "2019-01-11T14:18:00.259627Z",
     "start_time": "2019-01-11T14:18:00.248656Z"
    },
    "scrolled": true
   },
   "outputs": [
    {
     "data": {
      "text/plain": [
       "id                0\n",
       "respid            0\n",
       "extrtime          0\n",
       "origin            0\n",
       "destination       0\n",
       "company           0\n",
       "depdate           0\n",
       "arrdate           0\n",
       "duration          0\n",
       "flighttype        0\n",
       "price             0\n",
       "stopover          0\n",
       "stopovertime    133\n",
       "stopover_num      0\n",
       "stop_time         0\n",
       "stop_place        0\n",
       "dtype: int64"
      ]
     },
     "execution_count": 32,
     "metadata": {},
     "output_type": "execute_result"
    }
   ],
   "source": [
    "df_gflight.isnull().sum()"
   ]
  },
  {
   "cell_type": "markdown",
   "metadata": {},
   "source": [
    "<div class=\"alert alert-block alert-info\">\n",
    "<b>Pour aller plus loin:</b> <a href=https://pandas.pydata.org/pandas-docs/stable/missing_data.html> Tutoriel sur le <b>traitement des valeurs manquantes</b></a>\n",
    "</div>"
   ]
  },
  {
   "cell_type": "markdown",
   "metadata": {},
   "source": [
    "# Ajout/suppression de colonnes"
   ]
  },
  {
   "cell_type": "markdown",
   "metadata": {},
   "source": [
    "## Ajouter une colonne"
   ]
  },
  {
   "cell_type": "markdown",
   "metadata": {},
   "source": [
    "Ajoutons la Series représentant le temps en vol, qui est la différence entre la durée totale et le temps en correspondance :"
   ]
  },
  {
   "cell_type": "code",
   "execution_count": 33,
   "metadata": {
    "ExecuteTime": {
     "end_time": "2019-01-11T14:18:10.150218Z",
     "start_time": "2019-01-11T14:18:09.923979Z"
    }
   },
   "outputs": [],
   "source": [
    "df_gflight['inflight'] = df_gflight['duration'] - df_gflight['stop_time']"
   ]
  },
  {
   "cell_type": "markdown",
   "metadata": {},
   "source": [
    "## Supprimer une colonne"
   ]
  },
  {
   "cell_type": "markdown",
   "metadata": {},
   "source": [
    "Lorsqu'il y a des Series avec une seule modalité, elles sont généralement inutiles"
   ]
  },
  {
   "cell_type": "code",
   "execution_count": 34,
   "metadata": {
    "ExecuteTime": {
     "end_time": "2019-01-11T14:20:28.390719Z",
     "start_time": "2019-01-11T14:20:28.385734Z"
    },
    "scrolled": true
   },
   "outputs": [
    {
     "data": {
      "text/plain": [
       "array(['aller simple'], dtype=object)"
      ]
     },
     "execution_count": 34,
     "metadata": {},
     "output_type": "execute_result"
    }
   ],
   "source": [
    "df_gflight['flighttype'].unique()"
   ]
  },
  {
   "cell_type": "markdown",
   "metadata": {},
   "source": [
    "Profitons-en pour supprimer quelques Series inutiles"
   ]
  },
  {
   "cell_type": "code",
   "execution_count": 35,
   "metadata": {},
   "outputs": [
    {
     "data": {
      "text/plain": [
       "Index(['id', 'respid', 'extrtime', 'origin', 'destination', 'company',\n",
       "       'depdate', 'arrdate', 'duration', 'flighttype', 'price', 'stopover',\n",
       "       'stopovertime', 'stopover_num', 'stop_time', 'stop_place', 'inflight'],\n",
       "      dtype='object')"
      ]
     },
     "execution_count": 35,
     "metadata": {},
     "output_type": "execute_result"
    }
   ],
   "source": [
    "df_gflight.columns"
   ]
  },
  {
   "cell_type": "code",
   "execution_count": 36,
   "metadata": {
    "ExecuteTime": {
     "end_time": "2019-01-11T14:20:31.748730Z",
     "start_time": "2019-01-11T14:20:31.742741Z"
    }
   },
   "outputs": [],
   "source": [
    "df_gflight = df_gflight.drop(['flighttype', 'stopovertime', 'id', 'respid', 'extrtime'], axis=1)"
   ]
  },
  {
   "cell_type": "markdown",
   "metadata": {},
   "source": [
    "**axis=1** car on veut supprimer des colonnes et que l'axe 0, ce sont les lignes"
   ]
  },
  {
   "cell_type": "code",
   "execution_count": 37,
   "metadata": {},
   "outputs": [
    {
     "data": {
      "text/plain": [
       "Index(['origin', 'destination', 'company', 'depdate', 'arrdate', 'duration',\n",
       "       'price', 'stopover', 'stopover_num', 'stop_time', 'stop_place',\n",
       "       'inflight'],\n",
       "      dtype='object')"
      ]
     },
     "execution_count": 37,
     "metadata": {},
     "output_type": "execute_result"
    }
   ],
   "source": [
    "df_gflight.columns"
   ]
  },
  {
   "cell_type": "markdown",
   "metadata": {},
   "source": [
    "# Séries temporelles"
   ]
  },
  {
   "cell_type": "markdown",
   "metadata": {},
   "source": [
    "## Conversion en format date"
   ]
  },
  {
   "cell_type": "markdown",
   "metadata": {},
   "source": [
    "Les variables temporelles en format texte sont aussi très difficiles à exploiter. On va **a minima** les transformer en objet **Timestamp** (l'objet de la librairie pandas permettant de donner une valeur temporelle précise)"
   ]
  },
  {
   "cell_type": "code",
   "execution_count": 38,
   "metadata": {
    "ExecuteTime": {
     "end_time": "2019-01-11T14:20:34.634908Z",
     "start_time": "2019-01-11T14:20:34.611906Z"
    }
   },
   "outputs": [],
   "source": [
    "for elem in ['depdate', 'arrdate']:\n",
    "    df_gflight[elem] = pd.to_datetime(df_gflight[elem])"
   ]
  },
  {
   "cell_type": "markdown",
   "metadata": {},
   "source": [
    "Normalement, to_datetime() fonctionne bien (surtout quand on lui demande de travailler sur un grand nombre de cas possibles, car il a alors moins de chance de se tromper en déterminant automatiquement un format de date/heure)\n",
    "\n",
    "Mais on peut le forcer à adopter un format précis pour éviter toute erreur :"
   ]
  },
  {
   "cell_type": "code",
   "execution_count": 39,
   "metadata": {
    "ExecuteTime": {
     "end_time": "2019-01-11T14:20:36.584229Z",
     "start_time": "2019-01-11T14:20:36.578207Z"
    }
   },
   "outputs": [
    {
     "data": {
      "text/plain": [
       "0   2016-03-15 12:35:00\n",
       "1   2016-03-15 16:40:00\n",
       "2   2016-03-15 21:05:00\n",
       "3   2016-03-15 19:30:00\n",
       "4   2016-03-15 13:20:00\n",
       "Name: depdate, dtype: datetime64[ns]"
      ]
     },
     "execution_count": 39,
     "metadata": {},
     "output_type": "execute_result"
    }
   ],
   "source": [
    "pd.to_datetime(df_gflight['depdate'], format='%Y-%m-%dT%H:%M:%S').head()"
   ]
  },
  {
   "cell_type": "markdown",
   "metadata": {},
   "source": [
    "## Conversion en float"
   ]
  },
  {
   "cell_type": "markdown",
   "metadata": {},
   "source": [
    "Le format de séries temporelles que nous avons utilisé ne va pas nous convenir pour les régressions et les algotithmes de Data Science (il nous... On peut ajouter des colonnes calculant des timedelta, un nombre d'unité de temps (des jours par exemple, **D**) depuis une date de référence. Une bonne idée peut être de prendre la plus ancienne des dates des colonnes concernées..."
   ]
  },
  {
   "cell_type": "code",
   "execution_count": 40,
   "metadata": {
    "ExecuteTime": {
     "end_time": "2019-01-11T14:20:39.363856Z",
     "start_time": "2019-01-11T14:20:39.356876Z"
    }
   },
   "outputs": [
    {
     "data": {
      "text/plain": [
       "Timestamp('2016-03-15 06:00:00')"
      ]
     },
     "execution_count": 40,
     "metadata": {},
     "output_type": "execute_result"
    }
   ],
   "source": [
    "df_gflight['depdate'].min()"
   ]
  },
  {
   "cell_type": "code",
   "execution_count": 41,
   "metadata": {
    "ExecuteTime": {
     "end_time": "2019-01-11T14:20:41.011700Z",
     "start_time": "2019-01-11T14:20:41.005721Z"
    }
   },
   "outputs": [
    {
     "data": {
      "text/plain": [
       "Timestamp('2016-03-15 21:55:00')"
      ]
     },
     "execution_count": 41,
     "metadata": {},
     "output_type": "execute_result"
    }
   ],
   "source": [
    "df_gflight['depdate'].max()"
   ]
  },
  {
   "cell_type": "code",
   "execution_count": 42,
   "metadata": {
    "ExecuteTime": {
     "end_time": "2019-01-11T14:20:43.063673Z",
     "start_time": "2019-01-11T14:20:43.054696Z"
    }
   },
   "outputs": [],
   "source": [
    "df_gflight['time'] = (df_gflight['depdate'] - df_gflight['depdate'].min()) / np.timedelta64(1,'D')"
   ]
  },
  {
   "cell_type": "markdown",
   "metadata": {},
   "source": [
    "<div class=\"alert alert-block alert-info\"><b>Pour aller plus loin :</b> <a href=https://docs.scipy.org/doc/numpy/reference/arrays.datetime.html> Doc officielle Numpy sur les <b>objets datetime</b></a></div>"
   ]
  },
  {
   "cell_type": "markdown",
   "metadata": {},
   "source": [
    "## Objet .dt"
   ]
  },
  {
   "cell_type": "markdown",
   "metadata": {},
   "source": [
    "Comme pour les Series de chaines de caractères, pour lesquelles il existe un objet **.str**, pour les Series de dates, il existe un objet **.dt** qui permet de faire appel aux méthode des objets **datetime.datetime**"
   ]
  },
  {
   "cell_type": "code",
   "execution_count": 43,
   "metadata": {
    "ExecuteTime": {
     "end_time": "2019-01-11T14:20:49.589853Z",
     "start_time": "2019-01-11T14:20:49.579880Z"
    }
   },
   "outputs": [
    {
     "data": {
      "text/plain": [
       "3879    17\n",
       "747     18\n",
       "1159    13\n",
       "1487     8\n",
       "4945    17\n",
       "Name: depdate, dtype: int32"
      ]
     },
     "execution_count": 43,
     "metadata": {},
     "output_type": "execute_result"
    }
   ],
   "source": [
    "df_gflight['depdate'].dt.hour.sample(5)"
   ]
  },
  {
   "cell_type": "code",
   "execution_count": 44,
   "metadata": {
    "ExecuteTime": {
     "end_time": "2019-01-11T14:20:51.082709Z",
     "start_time": "2019-01-11T14:20:51.075729Z"
    }
   },
   "outputs": [
    {
     "data": {
      "text/plain": [
       "993     1\n",
       "6548    1\n",
       "4994    1\n",
       "611     1\n",
       "1378    1\n",
       "Name: depdate, dtype: int32"
      ]
     },
     "execution_count": 44,
     "metadata": {},
     "output_type": "execute_result"
    }
   ],
   "source": [
    "df_gflight['depdate'].dt.dayofweek.sample(5)"
   ]
  },
  {
   "cell_type": "code",
   "execution_count": 45,
   "metadata": {
    "ExecuteTime": {
     "end_time": "2019-01-11T14:20:54.089395Z",
     "start_time": "2019-01-11T14:20:54.077427Z"
    },
    "scrolled": true
   },
   "outputs": [
    {
     "data": {
      "text/plain": [
       "1762    16:15:00\n",
       "4106    18:35:00\n",
       "2546    09:10:00\n",
       "5576    18:00:00\n",
       "5879    06:35:00\n",
       "Name: depdate, dtype: object"
      ]
     },
     "execution_count": 45,
     "metadata": {},
     "output_type": "execute_result"
    }
   ],
   "source": [
    "df_gflight['depdate'].dt.time.sample(5)"
   ]
  },
  {
   "cell_type": "markdown",
   "metadata": {},
   "source": [
    "<div class=\"alert alert-block alert-info\">\n",
    "<b>Pour aller plus loin:</b> <a href=https://pandas.pydata.org/pandas-docs/stable/timeseries.html> Tutoriel sur le <b>traitement des séries temporelles</b></a>\n",
    "</div>"
   ]
  },
  {
   "cell_type": "markdown",
   "metadata": {},
   "source": [
    "# Catégories"
   ]
  },
  {
   "cell_type": "markdown",
   "metadata": {},
   "source": [
    "## Object ou Category"
   ]
  },
  {
   "cell_type": "markdown",
   "metadata": {},
   "source": [
    "Généralement, on essaie de faire en sorte d'avoir le moins de colonnes de type **object** (**str**) dans nos DataFrame, c'est le type que pandas assigne par défaut aux données qui ont l'air d'être des chaines de caractères.\n",
    "\n",
    "Ce type pose deux problèmes:\n",
    "- Il prend beaucoup de place en mémoire\n",
    "- Il est le plus difficile à traiter dans le cadre de l'analyse\n",
    "\n",
    "Et c'est rare qu'une colonne ait de bonnes raisons d'être de ce type (à part les trucs du genre colonne de commentaires). On va généralement convertir le plus de colonnes possible en types standardisés, plus faciles à exploiter ou retransformer\n",
    "\n",
    "A l'inverse, dans les Data Science, on aime les nombres à virgule, les **float** qui sont utilisables par les algorithmes."
   ]
  },
  {
   "cell_type": "code",
   "execution_count": 40,
   "metadata": {
    "ExecuteTime": {
     "end_time": "2019-01-11T14:21:01.617830Z",
     "start_time": "2019-01-11T14:21:01.606822Z"
    }
   },
   "outputs": [
    {
     "name": "stdout",
     "output_type": "stream",
     "text": [
      "<class 'pandas.core.frame.DataFrame'>\n",
      "Int64Index: 6805 entries, 0 to 6814\n",
      "Data columns (total 12 columns):\n",
      "origin         6805 non-null object\n",
      "destination    6805 non-null object\n",
      "company        6805 non-null object\n",
      "depdate        6805 non-null datetime64[ns]\n",
      "arrdate        6805 non-null datetime64[ns]\n",
      "duration       6805 non-null float64\n",
      "price          6805 non-null float64\n",
      "stopover       6805 non-null int64\n",
      "stop_time      6805 non-null float64\n",
      "stop_place     6805 non-null object\n",
      "inflight       6805 non-null float64\n",
      "time           6805 non-null float64\n",
      "dtypes: datetime64[ns](2), float64(5), int64(1), object(4)\n",
      "memory usage: 691.1+ KB\n"
     ]
    }
   ],
   "source": [
    "df_gflight.info()"
   ]
  },
  {
   "cell_type": "markdown",
   "metadata": {},
   "source": [
    "## Générer des catégories"
   ]
  },
  {
   "cell_type": "markdown",
   "metadata": {},
   "source": [
    "On peut convertir les colonnes en utilisant la méthode **pandas.Series.astype('category')**"
   ]
  },
  {
   "cell_type": "code",
   "execution_count": 46,
   "metadata": {
    "ExecuteTime": {
     "end_time": "2019-01-11T14:21:04.507333Z",
     "start_time": "2019-01-11T14:21:04.492373Z"
    }
   },
   "outputs": [],
   "source": [
    "for elem in ['origin', 'destination', 'stopover', 'company', 'stop_place']:\n",
    "    df_gflight[elem] = df_gflight[elem].astype('category')"
   ]
  },
  {
   "cell_type": "code",
   "execution_count": 47,
   "metadata": {
    "ExecuteTime": {
     "end_time": "2019-01-11T14:21:06.450971Z",
     "start_time": "2019-01-11T14:21:06.441968Z"
    }
   },
   "outputs": [
    {
     "name": "stdout",
     "output_type": "stream",
     "text": [
      "<class 'pandas.core.frame.DataFrame'>\n",
      "Index: 6805 entries, 0 to 6814\n",
      "Data columns (total 13 columns):\n",
      " #   Column        Non-Null Count  Dtype         \n",
      "---  ------        --------------  -----         \n",
      " 0   origin        6805 non-null   category      \n",
      " 1   destination   6805 non-null   category      \n",
      " 2   company       6805 non-null   category      \n",
      " 3   depdate       6805 non-null   datetime64[ns]\n",
      " 4   arrdate       6805 non-null   datetime64[ns]\n",
      " 5   duration      6805 non-null   float64       \n",
      " 6   price         6805 non-null   float64       \n",
      " 7   stopover      6805 non-null   category      \n",
      " 8   stopover_num  6805 non-null   int64         \n",
      " 9   stop_time     6805 non-null   float64       \n",
      " 10  stop_place    6805 non-null   category      \n",
      " 11  inflight      6805 non-null   float64       \n",
      " 12  time          6805 non-null   float64       \n",
      "dtypes: category(5), datetime64[ns](2), float64(5), int64(1)\n",
      "memory usage: 514.6 KB\n"
     ]
    }
   ],
   "source": [
    "df_gflight.info()"
   ]
  },
  {
   "cell_type": "markdown",
   "metadata": {},
   "source": [
    "## Objet .cat"
   ]
  },
  {
   "cell_type": "markdown",
   "metadata": {},
   "source": [
    "De même que les chaines de caractères ont **.str** et les dates ont **.dt**, les catégories ont **.cat**"
   ]
  },
  {
   "cell_type": "code",
   "execution_count": 48,
   "metadata": {
    "ExecuteTime": {
     "end_time": "2019-01-11T14:21:12.482012Z",
     "start_time": "2019-01-11T14:21:12.472038Z"
    }
   },
   "outputs": [
    {
     "data": {
      "text/plain": [
       "1715    TLS\n",
       "3088    MRS\n",
       "5928    UIP\n",
       "5642    LRT\n",
       "4777    BES\n",
       "Name: origin, dtype: category\n",
       "Categories (18, object): ['BES', 'BOD', 'CDG', 'LAI', ..., 'SXB', 'TLN', 'TLS', 'UIP']"
      ]
     },
     "execution_count": 48,
     "metadata": {},
     "output_type": "execute_result"
    }
   ],
   "source": [
    "df_gflight['origin'].sample(5)"
   ]
  },
  {
   "cell_type": "code",
   "execution_count": 49,
   "metadata": {
    "ExecuteTime": {
     "end_time": "2019-01-11T14:21:15.069679Z",
     "start_time": "2019-01-11T14:21:15.062698Z"
    }
   },
   "outputs": [
    {
     "data": {
      "text/plain": [
       "3676    11\n",
       "2401    10\n",
       "2769     2\n",
       "1748    16\n",
       "1611    16\n",
       "dtype: int8"
      ]
     },
     "execution_count": 49,
     "metadata": {},
     "output_type": "execute_result"
    }
   ],
   "source": [
    "df_gflight['origin'].cat.codes.sample(5)"
   ]
  },
  {
   "cell_type": "code",
   "execution_count": 50,
   "metadata": {
    "ExecuteTime": {
     "end_time": "2019-01-11T14:21:17.228881Z",
     "start_time": "2019-01-11T14:21:17.224891Z"
    }
   },
   "outputs": [
    {
     "data": {
      "text/plain": [
       "Index(['BES', 'BOD', 'CDG', 'LAI', 'LIL', 'LRT', 'LYS', 'MLH', 'MPL', 'MRS',\n",
       "       'NCE', 'NTE', 'ORY', 'RNS', 'SXB', 'TLN', 'TLS', 'UIP'],\n",
       "      dtype='object')"
      ]
     },
     "execution_count": 50,
     "metadata": {},
     "output_type": "execute_result"
    }
   ],
   "source": [
    "df_gflight['origin'].cat.categories"
   ]
  },
  {
   "cell_type": "markdown",
   "metadata": {},
   "source": [
    "<div class=\"alert alert-block alert-info\">\n",
    "<b>Pour aller plus loin:</b> <a href=https://pandas.pydata.org/pandas-docs/stable/categorical.html> Tutoriel sur le <b>traitement des catégories</b></a>\n",
    "</div>"
   ]
  },
  {
   "cell_type": "markdown",
   "metadata": {},
   "source": [
    "# Ecriture dans un fichier"
   ]
  },
  {
   "cell_type": "markdown",
   "metadata": {},
   "source": [
    "Stockons cette base de données modifiée, sous format Excel (pour visualiser facilement les données"
   ]
  },
  {
   "cell_type": "code",
   "execution_count": 54,
   "metadata": {
    "ExecuteTime": {
     "end_time": "2019-01-11T14:24:10.085899Z",
     "start_time": "2019-01-11T14:24:07.600277Z"
    }
   },
   "outputs": [],
   "source": [
    "df_gflight.to_excel('../data/output/Output_GFLT.xlsx')"
   ]
  },
  {
   "cell_type": "markdown",
   "metadata": {},
   "source": [
    "Sous format **Pickle** (le format pure Python) juste pour pouvoir récupérer les données dans un autre notebook à **100% identique au DataFrame que nous avons ici**.\n",
    "\n",
    "Les **catégories** en particulier sont un type qu'Excel ne sait pas gérer contrairement à Python... On perdrait donc cela en rechargeant depuis le fichier Excel)"
   ]
  },
  {
   "cell_type": "code",
   "execution_count": 53,
   "metadata": {
    "ExecuteTime": {
     "end_time": "2019-01-11T14:25:35.336220Z",
     "start_time": "2019-01-11T14:25:35.321194Z"
    }
   },
   "outputs": [],
   "source": [
    "df_gflight.to_pickle('../data/output/Output_GFLT.pickle')"
   ]
  },
  {
   "cell_type": "markdown",
   "metadata": {},
   "source": [
    "# Jointures et concatenations"
   ]
  },
  {
   "cell_type": "markdown",
   "metadata": {},
   "source": [
    "## Concaténation"
   ]
  },
  {
   "cell_type": "markdown",
   "metadata": {},
   "source": [
    "On peut facilement ajouter des lignes à un DataFrame en utilisant la fonction **pandas.concat()**. \n",
    "\n",
    "Elle prend comme seul argument obligatoire un **tuple** ou une **list** de **DataFrame** (on peut en concatener plusieurs d'un coup)"
   ]
  },
  {
   "cell_type": "markdown",
   "metadata": {},
   "source": [
    "### Axis = 1 (horizontale)"
   ]
  },
  {
   "cell_type": "code",
   "execution_count": 64,
   "metadata": {},
   "outputs": [],
   "source": [
    "df1 = pd.DataFrame({'A': ['A0', 'A1', 'A2', 'A3'],\n",
    "                    'B': ['B0', 'B1', 'B2', 'B3']})\n",
    "\n",
    "df2 = pd.DataFrame({'C': ['C0', 'C1', 'C2', 'C3'],\n",
    "                    'D': ['D0', 'D1', 'D2', 'D3']})"
   ]
  },
  {
   "cell_type": "code",
   "execution_count": 65,
   "metadata": {},
   "outputs": [
    {
     "data": {
      "text/html": [
       "<div>\n",
       "<style scoped>\n",
       "    .dataframe tbody tr th:only-of-type {\n",
       "        vertical-align: middle;\n",
       "    }\n",
       "\n",
       "    .dataframe tbody tr th {\n",
       "        vertical-align: top;\n",
       "    }\n",
       "\n",
       "    .dataframe thead th {\n",
       "        text-align: right;\n",
       "    }\n",
       "</style>\n",
       "<table border=\"1\" class=\"dataframe\">\n",
       "  <thead>\n",
       "    <tr style=\"text-align: right;\">\n",
       "      <th></th>\n",
       "      <th>A</th>\n",
       "      <th>B</th>\n",
       "    </tr>\n",
       "  </thead>\n",
       "  <tbody>\n",
       "    <tr>\n",
       "      <th>0</th>\n",
       "      <td>A0</td>\n",
       "      <td>B0</td>\n",
       "    </tr>\n",
       "    <tr>\n",
       "      <th>1</th>\n",
       "      <td>A1</td>\n",
       "      <td>B1</td>\n",
       "    </tr>\n",
       "    <tr>\n",
       "      <th>2</th>\n",
       "      <td>A2</td>\n",
       "      <td>B2</td>\n",
       "    </tr>\n",
       "    <tr>\n",
       "      <th>3</th>\n",
       "      <td>A3</td>\n",
       "      <td>B3</td>\n",
       "    </tr>\n",
       "  </tbody>\n",
       "</table>\n",
       "</div>"
      ],
      "text/plain": [
       "    A   B\n",
       "0  A0  B0\n",
       "1  A1  B1\n",
       "2  A2  B2\n",
       "3  A3  B3"
      ]
     },
     "execution_count": 65,
     "metadata": {},
     "output_type": "execute_result"
    }
   ],
   "source": [
    "df1"
   ]
  },
  {
   "cell_type": "code",
   "execution_count": 66,
   "metadata": {},
   "outputs": [
    {
     "data": {
      "text/html": [
       "<div>\n",
       "<style scoped>\n",
       "    .dataframe tbody tr th:only-of-type {\n",
       "        vertical-align: middle;\n",
       "    }\n",
       "\n",
       "    .dataframe tbody tr th {\n",
       "        vertical-align: top;\n",
       "    }\n",
       "\n",
       "    .dataframe thead th {\n",
       "        text-align: right;\n",
       "    }\n",
       "</style>\n",
       "<table border=\"1\" class=\"dataframe\">\n",
       "  <thead>\n",
       "    <tr style=\"text-align: right;\">\n",
       "      <th></th>\n",
       "      <th>C</th>\n",
       "      <th>D</th>\n",
       "    </tr>\n",
       "  </thead>\n",
       "  <tbody>\n",
       "    <tr>\n",
       "      <th>0</th>\n",
       "      <td>C0</td>\n",
       "      <td>D0</td>\n",
       "    </tr>\n",
       "    <tr>\n",
       "      <th>1</th>\n",
       "      <td>C1</td>\n",
       "      <td>D1</td>\n",
       "    </tr>\n",
       "    <tr>\n",
       "      <th>2</th>\n",
       "      <td>C2</td>\n",
       "      <td>D2</td>\n",
       "    </tr>\n",
       "    <tr>\n",
       "      <th>3</th>\n",
       "      <td>C3</td>\n",
       "      <td>D3</td>\n",
       "    </tr>\n",
       "  </tbody>\n",
       "</table>\n",
       "</div>"
      ],
      "text/plain": [
       "    C   D\n",
       "0  C0  D0\n",
       "1  C1  D1\n",
       "2  C2  D2\n",
       "3  C3  D3"
      ]
     },
     "execution_count": 66,
     "metadata": {},
     "output_type": "execute_result"
    }
   ],
   "source": [
    "df2"
   ]
  },
  {
   "cell_type": "code",
   "execution_count": 67,
   "metadata": {},
   "outputs": [
    {
     "data": {
      "text/html": [
       "<div>\n",
       "<style scoped>\n",
       "    .dataframe tbody tr th:only-of-type {\n",
       "        vertical-align: middle;\n",
       "    }\n",
       "\n",
       "    .dataframe tbody tr th {\n",
       "        vertical-align: top;\n",
       "    }\n",
       "\n",
       "    .dataframe thead th {\n",
       "        text-align: right;\n",
       "    }\n",
       "</style>\n",
       "<table border=\"1\" class=\"dataframe\">\n",
       "  <thead>\n",
       "    <tr style=\"text-align: right;\">\n",
       "      <th></th>\n",
       "      <th>A</th>\n",
       "      <th>B</th>\n",
       "      <th>C</th>\n",
       "      <th>D</th>\n",
       "    </tr>\n",
       "  </thead>\n",
       "  <tbody>\n",
       "    <tr>\n",
       "      <th>0</th>\n",
       "      <td>A0</td>\n",
       "      <td>B0</td>\n",
       "      <td>C0</td>\n",
       "      <td>D0</td>\n",
       "    </tr>\n",
       "    <tr>\n",
       "      <th>1</th>\n",
       "      <td>A1</td>\n",
       "      <td>B1</td>\n",
       "      <td>C1</td>\n",
       "      <td>D1</td>\n",
       "    </tr>\n",
       "    <tr>\n",
       "      <th>2</th>\n",
       "      <td>A2</td>\n",
       "      <td>B2</td>\n",
       "      <td>C2</td>\n",
       "      <td>D2</td>\n",
       "    </tr>\n",
       "    <tr>\n",
       "      <th>3</th>\n",
       "      <td>A3</td>\n",
       "      <td>B3</td>\n",
       "      <td>C3</td>\n",
       "      <td>D3</td>\n",
       "    </tr>\n",
       "  </tbody>\n",
       "</table>\n",
       "</div>"
      ],
      "text/plain": [
       "    A   B   C   D\n",
       "0  A0  B0  C0  D0\n",
       "1  A1  B1  C1  D1\n",
       "2  A2  B2  C2  D2\n",
       "3  A3  B3  C3  D3"
      ]
     },
     "execution_count": 67,
     "metadata": {},
     "output_type": "execute_result"
    }
   ],
   "source": [
    "df_concat_axis1 = pd.concat([df1, df2], axis=1)\n",
    "df_concat_axis1"
   ]
  },
  {
   "cell_type": "markdown",
   "metadata": {},
   "source": [
    "### Axis = 0 (verticale)"
   ]
  },
  {
   "cell_type": "code",
   "execution_count": 68,
   "metadata": {},
   "outputs": [],
   "source": [
    "df1 = pd.DataFrame({'A': ['A0', 'A1', 'A2', 'A3'],\n",
    "                    'B': ['B0', 'B1', 'B2', 'B3']})\n",
    "\n",
    "df2 = pd.DataFrame({'A': ['A4', 'A5', 'A6', 'A7'],\n",
    "                    'B': ['B4', 'B5', 'B6', 'B7']})"
   ]
  },
  {
   "cell_type": "code",
   "execution_count": 70,
   "metadata": {},
   "outputs": [
    {
     "data": {
      "text/html": [
       "<div>\n",
       "<style scoped>\n",
       "    .dataframe tbody tr th:only-of-type {\n",
       "        vertical-align: middle;\n",
       "    }\n",
       "\n",
       "    .dataframe tbody tr th {\n",
       "        vertical-align: top;\n",
       "    }\n",
       "\n",
       "    .dataframe thead th {\n",
       "        text-align: right;\n",
       "    }\n",
       "</style>\n",
       "<table border=\"1\" class=\"dataframe\">\n",
       "  <thead>\n",
       "    <tr style=\"text-align: right;\">\n",
       "      <th></th>\n",
       "      <th>A</th>\n",
       "      <th>B</th>\n",
       "    </tr>\n",
       "  </thead>\n",
       "  <tbody>\n",
       "    <tr>\n",
       "      <th>0</th>\n",
       "      <td>A0</td>\n",
       "      <td>B0</td>\n",
       "    </tr>\n",
       "    <tr>\n",
       "      <th>1</th>\n",
       "      <td>A1</td>\n",
       "      <td>B1</td>\n",
       "    </tr>\n",
       "    <tr>\n",
       "      <th>2</th>\n",
       "      <td>A2</td>\n",
       "      <td>B2</td>\n",
       "    </tr>\n",
       "    <tr>\n",
       "      <th>3</th>\n",
       "      <td>A3</td>\n",
       "      <td>B3</td>\n",
       "    </tr>\n",
       "  </tbody>\n",
       "</table>\n",
       "</div>"
      ],
      "text/plain": [
       "    A   B\n",
       "0  A0  B0\n",
       "1  A1  B1\n",
       "2  A2  B2\n",
       "3  A3  B3"
      ]
     },
     "execution_count": 70,
     "metadata": {},
     "output_type": "execute_result"
    }
   ],
   "source": [
    "df1"
   ]
  },
  {
   "cell_type": "code",
   "execution_count": 71,
   "metadata": {},
   "outputs": [
    {
     "data": {
      "text/html": [
       "<div>\n",
       "<style scoped>\n",
       "    .dataframe tbody tr th:only-of-type {\n",
       "        vertical-align: middle;\n",
       "    }\n",
       "\n",
       "    .dataframe tbody tr th {\n",
       "        vertical-align: top;\n",
       "    }\n",
       "\n",
       "    .dataframe thead th {\n",
       "        text-align: right;\n",
       "    }\n",
       "</style>\n",
       "<table border=\"1\" class=\"dataframe\">\n",
       "  <thead>\n",
       "    <tr style=\"text-align: right;\">\n",
       "      <th></th>\n",
       "      <th>A</th>\n",
       "      <th>B</th>\n",
       "    </tr>\n",
       "  </thead>\n",
       "  <tbody>\n",
       "    <tr>\n",
       "      <th>0</th>\n",
       "      <td>A4</td>\n",
       "      <td>B4</td>\n",
       "    </tr>\n",
       "    <tr>\n",
       "      <th>1</th>\n",
       "      <td>A5</td>\n",
       "      <td>B5</td>\n",
       "    </tr>\n",
       "    <tr>\n",
       "      <th>2</th>\n",
       "      <td>A6</td>\n",
       "      <td>B6</td>\n",
       "    </tr>\n",
       "    <tr>\n",
       "      <th>3</th>\n",
       "      <td>A7</td>\n",
       "      <td>B7</td>\n",
       "    </tr>\n",
       "  </tbody>\n",
       "</table>\n",
       "</div>"
      ],
      "text/plain": [
       "    A   B\n",
       "0  A4  B4\n",
       "1  A5  B5\n",
       "2  A6  B6\n",
       "3  A7  B7"
      ]
     },
     "execution_count": 71,
     "metadata": {},
     "output_type": "execute_result"
    }
   ],
   "source": [
    "df2"
   ]
  },
  {
   "cell_type": "code",
   "execution_count": 69,
   "metadata": {},
   "outputs": [
    {
     "data": {
      "text/html": [
       "<div>\n",
       "<style scoped>\n",
       "    .dataframe tbody tr th:only-of-type {\n",
       "        vertical-align: middle;\n",
       "    }\n",
       "\n",
       "    .dataframe tbody tr th {\n",
       "        vertical-align: top;\n",
       "    }\n",
       "\n",
       "    .dataframe thead th {\n",
       "        text-align: right;\n",
       "    }\n",
       "</style>\n",
       "<table border=\"1\" class=\"dataframe\">\n",
       "  <thead>\n",
       "    <tr style=\"text-align: right;\">\n",
       "      <th></th>\n",
       "      <th>A</th>\n",
       "      <th>B</th>\n",
       "    </tr>\n",
       "  </thead>\n",
       "  <tbody>\n",
       "    <tr>\n",
       "      <th>0</th>\n",
       "      <td>A0</td>\n",
       "      <td>B0</td>\n",
       "    </tr>\n",
       "    <tr>\n",
       "      <th>1</th>\n",
       "      <td>A1</td>\n",
       "      <td>B1</td>\n",
       "    </tr>\n",
       "    <tr>\n",
       "      <th>2</th>\n",
       "      <td>A2</td>\n",
       "      <td>B2</td>\n",
       "    </tr>\n",
       "    <tr>\n",
       "      <th>3</th>\n",
       "      <td>A3</td>\n",
       "      <td>B3</td>\n",
       "    </tr>\n",
       "    <tr>\n",
       "      <th>0</th>\n",
       "      <td>A4</td>\n",
       "      <td>B4</td>\n",
       "    </tr>\n",
       "    <tr>\n",
       "      <th>1</th>\n",
       "      <td>A5</td>\n",
       "      <td>B5</td>\n",
       "    </tr>\n",
       "    <tr>\n",
       "      <th>2</th>\n",
       "      <td>A6</td>\n",
       "      <td>B6</td>\n",
       "    </tr>\n",
       "    <tr>\n",
       "      <th>3</th>\n",
       "      <td>A7</td>\n",
       "      <td>B7</td>\n",
       "    </tr>\n",
       "  </tbody>\n",
       "</table>\n",
       "</div>"
      ],
      "text/plain": [
       "    A   B\n",
       "0  A0  B0\n",
       "1  A1  B1\n",
       "2  A2  B2\n",
       "3  A3  B3\n",
       "0  A4  B4\n",
       "1  A5  B5\n",
       "2  A6  B6\n",
       "3  A7  B7"
      ]
     },
     "execution_count": 69,
     "metadata": {},
     "output_type": "execute_result"
    }
   ],
   "source": [
    "df_concat_axis0 = pd.concat([df1, df2], axis=0)\n",
    "df_concat_axis0"
   ]
  },
  {
   "cell_type": "markdown",
   "metadata": {},
   "source": [
    "<div class=\"alert alert-block alert-info\"><b>Pour aller plus loin :</b> <a href=https://pandas.pydata.org/pandas-docs/stable/generated/pandas.concat.html> Doc officielle sur la méthode <b> .concat()</b></a></div>"
   ]
  },
  {
   "cell_type": "markdown",
   "metadata": {},
   "source": [
    "## Jointure"
   ]
  },
  {
   "cell_type": "code",
   "execution_count": 4,
   "metadata": {},
   "outputs": [],
   "source": [
    "df_noms = pd.DataFrame({'ID': [1, 2, 3, 4, 5],\n",
    "                    'Nom': ['Alice', 'Bob', 'Charlie', 'David', 'Eva']})\n",
    "\n",
    "df_ages = pd.DataFrame({'ID': [3, 4, 5, 6, 7],\n",
    "                    'Age': [25, 30, 35, 40, 45]})\n"
   ]
  },
  {
   "cell_type": "code",
   "execution_count": 5,
   "metadata": {},
   "outputs": [
    {
     "data": {
      "text/html": [
       "<div>\n",
       "<style scoped>\n",
       "    .dataframe tbody tr th:only-of-type {\n",
       "        vertical-align: middle;\n",
       "    }\n",
       "\n",
       "    .dataframe tbody tr th {\n",
       "        vertical-align: top;\n",
       "    }\n",
       "\n",
       "    .dataframe thead th {\n",
       "        text-align: right;\n",
       "    }\n",
       "</style>\n",
       "<table border=\"1\" class=\"dataframe\">\n",
       "  <thead>\n",
       "    <tr style=\"text-align: right;\">\n",
       "      <th></th>\n",
       "      <th>ID</th>\n",
       "      <th>Nom</th>\n",
       "    </tr>\n",
       "  </thead>\n",
       "  <tbody>\n",
       "    <tr>\n",
       "      <th>0</th>\n",
       "      <td>1</td>\n",
       "      <td>Alice</td>\n",
       "    </tr>\n",
       "    <tr>\n",
       "      <th>1</th>\n",
       "      <td>2</td>\n",
       "      <td>Bob</td>\n",
       "    </tr>\n",
       "    <tr>\n",
       "      <th>2</th>\n",
       "      <td>3</td>\n",
       "      <td>Charlie</td>\n",
       "    </tr>\n",
       "    <tr>\n",
       "      <th>3</th>\n",
       "      <td>4</td>\n",
       "      <td>David</td>\n",
       "    </tr>\n",
       "    <tr>\n",
       "      <th>4</th>\n",
       "      <td>5</td>\n",
       "      <td>Eva</td>\n",
       "    </tr>\n",
       "  </tbody>\n",
       "</table>\n",
       "</div>"
      ],
      "text/plain": [
       "   ID      Nom\n",
       "0   1    Alice\n",
       "1   2      Bob\n",
       "2   3  Charlie\n",
       "3   4    David\n",
       "4   5      Eva"
      ]
     },
     "execution_count": 5,
     "metadata": {},
     "output_type": "execute_result"
    }
   ],
   "source": [
    "df_noms"
   ]
  },
  {
   "cell_type": "code",
   "execution_count": 6,
   "metadata": {},
   "outputs": [
    {
     "data": {
      "text/html": [
       "<div>\n",
       "<style scoped>\n",
       "    .dataframe tbody tr th:only-of-type {\n",
       "        vertical-align: middle;\n",
       "    }\n",
       "\n",
       "    .dataframe tbody tr th {\n",
       "        vertical-align: top;\n",
       "    }\n",
       "\n",
       "    .dataframe thead th {\n",
       "        text-align: right;\n",
       "    }\n",
       "</style>\n",
       "<table border=\"1\" class=\"dataframe\">\n",
       "  <thead>\n",
       "    <tr style=\"text-align: right;\">\n",
       "      <th></th>\n",
       "      <th>ID</th>\n",
       "      <th>Age</th>\n",
       "    </tr>\n",
       "  </thead>\n",
       "  <tbody>\n",
       "    <tr>\n",
       "      <th>0</th>\n",
       "      <td>3</td>\n",
       "      <td>25</td>\n",
       "    </tr>\n",
       "    <tr>\n",
       "      <th>1</th>\n",
       "      <td>4</td>\n",
       "      <td>30</td>\n",
       "    </tr>\n",
       "    <tr>\n",
       "      <th>2</th>\n",
       "      <td>5</td>\n",
       "      <td>35</td>\n",
       "    </tr>\n",
       "    <tr>\n",
       "      <th>3</th>\n",
       "      <td>6</td>\n",
       "      <td>40</td>\n",
       "    </tr>\n",
       "    <tr>\n",
       "      <th>4</th>\n",
       "      <td>7</td>\n",
       "      <td>45</td>\n",
       "    </tr>\n",
       "  </tbody>\n",
       "</table>\n",
       "</div>"
      ],
      "text/plain": [
       "   ID  Age\n",
       "0   3   25\n",
       "1   4   30\n",
       "2   5   35\n",
       "3   6   40\n",
       "4   7   45"
      ]
     },
     "execution_count": 6,
     "metadata": {},
     "output_type": "execute_result"
    }
   ],
   "source": [
    "df_ages"
   ]
  },
  {
   "cell_type": "markdown",
   "metadata": {},
   "source": [
    "Left, inner, outer"
   ]
  },
  {
   "cell_type": "code",
   "execution_count": 7,
   "metadata": {},
   "outputs": [
    {
     "data": {
      "text/html": [
       "<div>\n",
       "<style scoped>\n",
       "    .dataframe tbody tr th:only-of-type {\n",
       "        vertical-align: middle;\n",
       "    }\n",
       "\n",
       "    .dataframe tbody tr th {\n",
       "        vertical-align: top;\n",
       "    }\n",
       "\n",
       "    .dataframe thead th {\n",
       "        text-align: right;\n",
       "    }\n",
       "</style>\n",
       "<table border=\"1\" class=\"dataframe\">\n",
       "  <thead>\n",
       "    <tr style=\"text-align: right;\">\n",
       "      <th></th>\n",
       "      <th>ID</th>\n",
       "      <th>Nom</th>\n",
       "      <th>Age</th>\n",
       "    </tr>\n",
       "  </thead>\n",
       "  <tbody>\n",
       "    <tr>\n",
       "      <th>0</th>\n",
       "      <td>1</td>\n",
       "      <td>Alice</td>\n",
       "      <td>NaN</td>\n",
       "    </tr>\n",
       "    <tr>\n",
       "      <th>1</th>\n",
       "      <td>2</td>\n",
       "      <td>Bob</td>\n",
       "      <td>NaN</td>\n",
       "    </tr>\n",
       "    <tr>\n",
       "      <th>2</th>\n",
       "      <td>3</td>\n",
       "      <td>Charlie</td>\n",
       "      <td>25.0</td>\n",
       "    </tr>\n",
       "    <tr>\n",
       "      <th>3</th>\n",
       "      <td>4</td>\n",
       "      <td>David</td>\n",
       "      <td>30.0</td>\n",
       "    </tr>\n",
       "    <tr>\n",
       "      <th>4</th>\n",
       "      <td>5</td>\n",
       "      <td>Eva</td>\n",
       "      <td>35.0</td>\n",
       "    </tr>\n",
       "  </tbody>\n",
       "</table>\n",
       "</div>"
      ],
      "text/plain": [
       "   ID      Nom   Age\n",
       "0   1    Alice   NaN\n",
       "1   2      Bob   NaN\n",
       "2   3  Charlie  25.0\n",
       "3   4    David  30.0\n",
       "4   5      Eva  35.0"
      ]
     },
     "execution_count": 7,
     "metadata": {},
     "output_type": "execute_result"
    }
   ],
   "source": [
    "df_infos = df_noms.merge(df_ages, on=\"ID\", how=\"left\", validate=\"1:1\")\n",
    "df_infos"
   ]
  },
  {
   "cell_type": "code",
   "execution_count": 8,
   "metadata": {},
   "outputs": [
    {
     "data": {
      "text/html": [
       "<div>\n",
       "<style scoped>\n",
       "    .dataframe tbody tr th:only-of-type {\n",
       "        vertical-align: middle;\n",
       "    }\n",
       "\n",
       "    .dataframe tbody tr th {\n",
       "        vertical-align: top;\n",
       "    }\n",
       "\n",
       "    .dataframe thead th {\n",
       "        text-align: right;\n",
       "    }\n",
       "</style>\n",
       "<table border=\"1\" class=\"dataframe\">\n",
       "  <thead>\n",
       "    <tr style=\"text-align: right;\">\n",
       "      <th></th>\n",
       "      <th>ID</th>\n",
       "      <th>Nom</th>\n",
       "      <th>Age</th>\n",
       "    </tr>\n",
       "  </thead>\n",
       "  <tbody>\n",
       "    <tr>\n",
       "      <th>0</th>\n",
       "      <td>3</td>\n",
       "      <td>Charlie</td>\n",
       "      <td>25</td>\n",
       "    </tr>\n",
       "    <tr>\n",
       "      <th>1</th>\n",
       "      <td>4</td>\n",
       "      <td>David</td>\n",
       "      <td>30</td>\n",
       "    </tr>\n",
       "    <tr>\n",
       "      <th>2</th>\n",
       "      <td>5</td>\n",
       "      <td>Eva</td>\n",
       "      <td>35</td>\n",
       "    </tr>\n",
       "  </tbody>\n",
       "</table>\n",
       "</div>"
      ],
      "text/plain": [
       "   ID      Nom  Age\n",
       "0   3  Charlie   25\n",
       "1   4    David   30\n",
       "2   5      Eva   35"
      ]
     },
     "execution_count": 8,
     "metadata": {},
     "output_type": "execute_result"
    }
   ],
   "source": [
    "df_infos = df_noms.merge(df_ages, on=\"ID\", how=\"inner\", validate=\"1:1\")\n",
    "df_infos"
   ]
  },
  {
   "cell_type": "code",
   "execution_count": 9,
   "metadata": {},
   "outputs": [
    {
     "data": {
      "text/html": [
       "<div>\n",
       "<style scoped>\n",
       "    .dataframe tbody tr th:only-of-type {\n",
       "        vertical-align: middle;\n",
       "    }\n",
       "\n",
       "    .dataframe tbody tr th {\n",
       "        vertical-align: top;\n",
       "    }\n",
       "\n",
       "    .dataframe thead th {\n",
       "        text-align: right;\n",
       "    }\n",
       "</style>\n",
       "<table border=\"1\" class=\"dataframe\">\n",
       "  <thead>\n",
       "    <tr style=\"text-align: right;\">\n",
       "      <th></th>\n",
       "      <th>ID</th>\n",
       "      <th>Nom</th>\n",
       "      <th>Age</th>\n",
       "    </tr>\n",
       "  </thead>\n",
       "  <tbody>\n",
       "    <tr>\n",
       "      <th>0</th>\n",
       "      <td>1</td>\n",
       "      <td>Alice</td>\n",
       "      <td>NaN</td>\n",
       "    </tr>\n",
       "    <tr>\n",
       "      <th>1</th>\n",
       "      <td>2</td>\n",
       "      <td>Bob</td>\n",
       "      <td>NaN</td>\n",
       "    </tr>\n",
       "    <tr>\n",
       "      <th>2</th>\n",
       "      <td>3</td>\n",
       "      <td>Charlie</td>\n",
       "      <td>25.0</td>\n",
       "    </tr>\n",
       "    <tr>\n",
       "      <th>3</th>\n",
       "      <td>4</td>\n",
       "      <td>David</td>\n",
       "      <td>30.0</td>\n",
       "    </tr>\n",
       "    <tr>\n",
       "      <th>4</th>\n",
       "      <td>5</td>\n",
       "      <td>Eva</td>\n",
       "      <td>35.0</td>\n",
       "    </tr>\n",
       "    <tr>\n",
       "      <th>5</th>\n",
       "      <td>6</td>\n",
       "      <td>NaN</td>\n",
       "      <td>40.0</td>\n",
       "    </tr>\n",
       "    <tr>\n",
       "      <th>6</th>\n",
       "      <td>7</td>\n",
       "      <td>NaN</td>\n",
       "      <td>45.0</td>\n",
       "    </tr>\n",
       "  </tbody>\n",
       "</table>\n",
       "</div>"
      ],
      "text/plain": [
       "   ID      Nom   Age\n",
       "0   1    Alice   NaN\n",
       "1   2      Bob   NaN\n",
       "2   3  Charlie  25.0\n",
       "3   4    David  30.0\n",
       "4   5      Eva  35.0\n",
       "5   6      NaN  40.0\n",
       "6   7      NaN  45.0"
      ]
     },
     "execution_count": 9,
     "metadata": {},
     "output_type": "execute_result"
    }
   ],
   "source": [
    "df_infos = df_noms.merge(df_ages, on=\"ID\", how=\"outer\", validate=\"1:1\")\n",
    "df_infos"
   ]
  },
  {
   "cell_type": "code",
   "execution_count": 10,
   "metadata": {},
   "outputs": [
    {
     "data": {
      "text/html": [
       "<div>\n",
       "<style scoped>\n",
       "    .dataframe tbody tr th:only-of-type {\n",
       "        vertical-align: middle;\n",
       "    }\n",
       "\n",
       "    .dataframe tbody tr th {\n",
       "        vertical-align: top;\n",
       "    }\n",
       "\n",
       "    .dataframe thead th {\n",
       "        text-align: right;\n",
       "    }\n",
       "</style>\n",
       "<table border=\"1\" class=\"dataframe\">\n",
       "  <thead>\n",
       "    <tr style=\"text-align: right;\">\n",
       "      <th></th>\n",
       "      <th>ID</th>\n",
       "      <th>Num_commande</th>\n",
       "    </tr>\n",
       "  </thead>\n",
       "  <tbody>\n",
       "    <tr>\n",
       "      <th>0</th>\n",
       "      <td>1</td>\n",
       "      <td>454535</td>\n",
       "    </tr>\n",
       "    <tr>\n",
       "      <th>1</th>\n",
       "      <td>2</td>\n",
       "      <td>754757</td>\n",
       "    </tr>\n",
       "    <tr>\n",
       "      <th>2</th>\n",
       "      <td>3</td>\n",
       "      <td>96786</td>\n",
       "    </tr>\n",
       "    <tr>\n",
       "      <th>3</th>\n",
       "      <td>4</td>\n",
       "      <td>800766</td>\n",
       "    </tr>\n",
       "    <tr>\n",
       "      <th>4</th>\n",
       "      <td>5</td>\n",
       "      <td>564564</td>\n",
       "    </tr>\n",
       "    <tr>\n",
       "      <th>5</th>\n",
       "      <td>3</td>\n",
       "      <td>89685</td>\n",
       "    </tr>\n",
       "    <tr>\n",
       "      <th>6</th>\n",
       "      <td>6</td>\n",
       "      <td>34252</td>\n",
       "    </tr>\n",
       "    <tr>\n",
       "      <th>7</th>\n",
       "      <td>7</td>\n",
       "      <td>54646</td>\n",
       "    </tr>\n",
       "  </tbody>\n",
       "</table>\n",
       "</div>"
      ],
      "text/plain": [
       "   ID  Num_commande\n",
       "0   1        454535\n",
       "1   2        754757\n",
       "2   3         96786\n",
       "3   4        800766\n",
       "4   5        564564\n",
       "5   3         89685\n",
       "6   6         34252\n",
       "7   7         54646"
      ]
     },
     "execution_count": 10,
     "metadata": {},
     "output_type": "execute_result"
    }
   ],
   "source": [
    "df_achats = pd.DataFrame({'ID': [1, 2, 3, 4, 5, 3, 6, 7],\n",
    "                         'Num_commande': [454535, 754757, 96786, 800766, 564564, 89685, 34252, 54646]})\n",
    "df_achats"
   ]
  },
  {
   "cell_type": "markdown",
   "metadata": {},
   "source": [
    "<div class=\"alert alert-block alert-danger\">\n",
    "Utiliser toujours \"validate\" pour avoir le résultat de merge attendu et éviter des erreurs, tels que l'introduction de doublons"
   ]
  },
  {
   "cell_type": "code",
   "execution_count": 11,
   "metadata": {},
   "outputs": [
    {
     "data": {
      "text/html": [
       "<div>\n",
       "<style scoped>\n",
       "    .dataframe tbody tr th:only-of-type {\n",
       "        vertical-align: middle;\n",
       "    }\n",
       "\n",
       "    .dataframe tbody tr th {\n",
       "        vertical-align: top;\n",
       "    }\n",
       "\n",
       "    .dataframe thead th {\n",
       "        text-align: right;\n",
       "    }\n",
       "</style>\n",
       "<table border=\"1\" class=\"dataframe\">\n",
       "  <thead>\n",
       "    <tr style=\"text-align: right;\">\n",
       "      <th></th>\n",
       "      <th>ID</th>\n",
       "      <th>Nom</th>\n",
       "      <th>Age</th>\n",
       "      <th>Num_commande</th>\n",
       "    </tr>\n",
       "  </thead>\n",
       "  <tbody>\n",
       "    <tr>\n",
       "      <th>0</th>\n",
       "      <td>1</td>\n",
       "      <td>Alice</td>\n",
       "      <td>NaN</td>\n",
       "      <td>454535</td>\n",
       "    </tr>\n",
       "    <tr>\n",
       "      <th>1</th>\n",
       "      <td>2</td>\n",
       "      <td>Bob</td>\n",
       "      <td>NaN</td>\n",
       "      <td>754757</td>\n",
       "    </tr>\n",
       "    <tr>\n",
       "      <th>2</th>\n",
       "      <td>3</td>\n",
       "      <td>Charlie</td>\n",
       "      <td>25.0</td>\n",
       "      <td>96786</td>\n",
       "    </tr>\n",
       "    <tr>\n",
       "      <th>3</th>\n",
       "      <td>3</td>\n",
       "      <td>Charlie</td>\n",
       "      <td>25.0</td>\n",
       "      <td>89685</td>\n",
       "    </tr>\n",
       "    <tr>\n",
       "      <th>4</th>\n",
       "      <td>4</td>\n",
       "      <td>David</td>\n",
       "      <td>30.0</td>\n",
       "      <td>800766</td>\n",
       "    </tr>\n",
       "    <tr>\n",
       "      <th>5</th>\n",
       "      <td>5</td>\n",
       "      <td>Eva</td>\n",
       "      <td>35.0</td>\n",
       "      <td>564564</td>\n",
       "    </tr>\n",
       "    <tr>\n",
       "      <th>6</th>\n",
       "      <td>6</td>\n",
       "      <td>NaN</td>\n",
       "      <td>40.0</td>\n",
       "      <td>34252</td>\n",
       "    </tr>\n",
       "    <tr>\n",
       "      <th>7</th>\n",
       "      <td>7</td>\n",
       "      <td>NaN</td>\n",
       "      <td>45.0</td>\n",
       "      <td>54646</td>\n",
       "    </tr>\n",
       "  </tbody>\n",
       "</table>\n",
       "</div>"
      ],
      "text/plain": [
       "   ID      Nom   Age  Num_commande\n",
       "0   1    Alice   NaN        454535\n",
       "1   2      Bob   NaN        754757\n",
       "2   3  Charlie  25.0         96786\n",
       "3   3  Charlie  25.0         89685\n",
       "4   4    David  30.0        800766\n",
       "5   5      Eva  35.0        564564\n",
       "6   6      NaN  40.0         34252\n",
       "7   7      NaN  45.0         54646"
      ]
     },
     "execution_count": 11,
     "metadata": {},
     "output_type": "execute_result"
    }
   ],
   "source": [
    "df_infos_doublons = df_infos.merge(df_achats, on=\"ID\", how=\"left\")\n",
    "df_infos_doublons"
   ]
  },
  {
   "cell_type": "code",
   "execution_count": 12,
   "metadata": {
    "scrolled": true
   },
   "outputs": [
    {
     "ename": "MergeError",
     "evalue": "Merge keys are not unique in right dataset; not a one-to-one merge",
     "output_type": "error",
     "traceback": [
      "\u001b[0;31m---------------------------------------------------------------------------\u001b[0m",
      "\u001b[0;31mMergeError\u001b[0m                                Traceback (most recent call last)",
      "Cell \u001b[0;32mIn[12], line 1\u001b[0m\n\u001b[0;32m----> 1\u001b[0m df_infos \u001b[38;5;241m=\u001b[39m \u001b[43mdf_infos\u001b[49m\u001b[38;5;241;43m.\u001b[39;49m\u001b[43mmerge\u001b[49m\u001b[43m(\u001b[49m\u001b[43mdf_achats\u001b[49m\u001b[43m,\u001b[49m\u001b[43m \u001b[49m\u001b[43mon\u001b[49m\u001b[38;5;241;43m=\u001b[39;49m\u001b[38;5;124;43m\"\u001b[39;49m\u001b[38;5;124;43mID\u001b[39;49m\u001b[38;5;124;43m\"\u001b[39;49m\u001b[43m,\u001b[49m\u001b[43m \u001b[49m\u001b[43mhow\u001b[49m\u001b[38;5;241;43m=\u001b[39;49m\u001b[38;5;124;43m\"\u001b[39;49m\u001b[38;5;124;43mleft\u001b[39;49m\u001b[38;5;124;43m\"\u001b[39;49m\u001b[43m,\u001b[49m\u001b[43m \u001b[49m\u001b[43mvalidate\u001b[49m\u001b[38;5;241;43m=\u001b[39;49m\u001b[38;5;124;43m\"\u001b[39;49m\u001b[38;5;124;43m1:1\u001b[39;49m\u001b[38;5;124;43m\"\u001b[39;49m\u001b[43m)\u001b[49m\n",
      "File \u001b[0;32m~/Library/Caches/pypoetry/virtualenvs/cours-python-upec-isnqQ7Q7-py3.10/lib/python3.10/site-packages/pandas/core/frame.py:10490\u001b[0m, in \u001b[0;36mDataFrame.merge\u001b[0;34m(self, right, how, on, left_on, right_on, left_index, right_index, sort, suffixes, copy, indicator, validate)\u001b[0m\n\u001b[1;32m  10471\u001b[0m \u001b[38;5;129m@Substitution\u001b[39m(\u001b[38;5;124m\"\u001b[39m\u001b[38;5;124m\"\u001b[39m)\n\u001b[1;32m  10472\u001b[0m \u001b[38;5;129m@Appender\u001b[39m(_merge_doc, indents\u001b[38;5;241m=\u001b[39m\u001b[38;5;241m2\u001b[39m)\n\u001b[1;32m  10473\u001b[0m \u001b[38;5;28;01mdef\u001b[39;00m \u001b[38;5;21mmerge\u001b[39m(\n\u001b[0;32m   (...)\u001b[0m\n\u001b[1;32m  10486\u001b[0m     validate: MergeValidate \u001b[38;5;241m|\u001b[39m \u001b[38;5;28;01mNone\u001b[39;00m \u001b[38;5;241m=\u001b[39m \u001b[38;5;28;01mNone\u001b[39;00m,\n\u001b[1;32m  10487\u001b[0m ) \u001b[38;5;241m-\u001b[39m\u001b[38;5;241m>\u001b[39m DataFrame:\n\u001b[1;32m  10488\u001b[0m     \u001b[38;5;28;01mfrom\u001b[39;00m \u001b[38;5;21;01mpandas\u001b[39;00m\u001b[38;5;21;01m.\u001b[39;00m\u001b[38;5;21;01mcore\u001b[39;00m\u001b[38;5;21;01m.\u001b[39;00m\u001b[38;5;21;01mreshape\u001b[39;00m\u001b[38;5;21;01m.\u001b[39;00m\u001b[38;5;21;01mmerge\u001b[39;00m \u001b[38;5;28;01mimport\u001b[39;00m merge\n\u001b[0;32m> 10490\u001b[0m     \u001b[38;5;28;01mreturn\u001b[39;00m \u001b[43mmerge\u001b[49m\u001b[43m(\u001b[49m\n\u001b[1;32m  10491\u001b[0m \u001b[43m        \u001b[49m\u001b[38;5;28;43mself\u001b[39;49m\u001b[43m,\u001b[49m\n\u001b[1;32m  10492\u001b[0m \u001b[43m        \u001b[49m\u001b[43mright\u001b[49m\u001b[43m,\u001b[49m\n\u001b[1;32m  10493\u001b[0m \u001b[43m        \u001b[49m\u001b[43mhow\u001b[49m\u001b[38;5;241;43m=\u001b[39;49m\u001b[43mhow\u001b[49m\u001b[43m,\u001b[49m\n\u001b[1;32m  10494\u001b[0m \u001b[43m        \u001b[49m\u001b[43mon\u001b[49m\u001b[38;5;241;43m=\u001b[39;49m\u001b[43mon\u001b[49m\u001b[43m,\u001b[49m\n\u001b[1;32m  10495\u001b[0m \u001b[43m        \u001b[49m\u001b[43mleft_on\u001b[49m\u001b[38;5;241;43m=\u001b[39;49m\u001b[43mleft_on\u001b[49m\u001b[43m,\u001b[49m\n\u001b[1;32m  10496\u001b[0m \u001b[43m        \u001b[49m\u001b[43mright_on\u001b[49m\u001b[38;5;241;43m=\u001b[39;49m\u001b[43mright_on\u001b[49m\u001b[43m,\u001b[49m\n\u001b[1;32m  10497\u001b[0m \u001b[43m        \u001b[49m\u001b[43mleft_index\u001b[49m\u001b[38;5;241;43m=\u001b[39;49m\u001b[43mleft_index\u001b[49m\u001b[43m,\u001b[49m\n\u001b[1;32m  10498\u001b[0m \u001b[43m        \u001b[49m\u001b[43mright_index\u001b[49m\u001b[38;5;241;43m=\u001b[39;49m\u001b[43mright_index\u001b[49m\u001b[43m,\u001b[49m\n\u001b[1;32m  10499\u001b[0m \u001b[43m        \u001b[49m\u001b[43msort\u001b[49m\u001b[38;5;241;43m=\u001b[39;49m\u001b[43msort\u001b[49m\u001b[43m,\u001b[49m\n\u001b[1;32m  10500\u001b[0m \u001b[43m        \u001b[49m\u001b[43msuffixes\u001b[49m\u001b[38;5;241;43m=\u001b[39;49m\u001b[43msuffixes\u001b[49m\u001b[43m,\u001b[49m\n\u001b[1;32m  10501\u001b[0m \u001b[43m        \u001b[49m\u001b[43mcopy\u001b[49m\u001b[38;5;241;43m=\u001b[39;49m\u001b[43mcopy\u001b[49m\u001b[43m,\u001b[49m\n\u001b[1;32m  10502\u001b[0m \u001b[43m        \u001b[49m\u001b[43mindicator\u001b[49m\u001b[38;5;241;43m=\u001b[39;49m\u001b[43mindicator\u001b[49m\u001b[43m,\u001b[49m\n\u001b[1;32m  10503\u001b[0m \u001b[43m        \u001b[49m\u001b[43mvalidate\u001b[49m\u001b[38;5;241;43m=\u001b[39;49m\u001b[43mvalidate\u001b[49m\u001b[43m,\u001b[49m\n\u001b[1;32m  10504\u001b[0m \u001b[43m    \u001b[49m\u001b[43m)\u001b[49m\n",
      "File \u001b[0;32m~/Library/Caches/pypoetry/virtualenvs/cours-python-upec-isnqQ7Q7-py3.10/lib/python3.10/site-packages/pandas/core/reshape/merge.py:169\u001b[0m, in \u001b[0;36mmerge\u001b[0;34m(left, right, how, on, left_on, right_on, left_index, right_index, sort, suffixes, copy, indicator, validate)\u001b[0m\n\u001b[1;32m    154\u001b[0m     \u001b[38;5;28;01mreturn\u001b[39;00m _cross_merge(\n\u001b[1;32m    155\u001b[0m         left_df,\n\u001b[1;32m    156\u001b[0m         right_df,\n\u001b[0;32m   (...)\u001b[0m\n\u001b[1;32m    166\u001b[0m         copy\u001b[38;5;241m=\u001b[39mcopy,\n\u001b[1;32m    167\u001b[0m     )\n\u001b[1;32m    168\u001b[0m \u001b[38;5;28;01melse\u001b[39;00m:\n\u001b[0;32m--> 169\u001b[0m     op \u001b[38;5;241m=\u001b[39m \u001b[43m_MergeOperation\u001b[49m\u001b[43m(\u001b[49m\n\u001b[1;32m    170\u001b[0m \u001b[43m        \u001b[49m\u001b[43mleft_df\u001b[49m\u001b[43m,\u001b[49m\n\u001b[1;32m    171\u001b[0m \u001b[43m        \u001b[49m\u001b[43mright_df\u001b[49m\u001b[43m,\u001b[49m\n\u001b[1;32m    172\u001b[0m \u001b[43m        \u001b[49m\u001b[43mhow\u001b[49m\u001b[38;5;241;43m=\u001b[39;49m\u001b[43mhow\u001b[49m\u001b[43m,\u001b[49m\n\u001b[1;32m    173\u001b[0m \u001b[43m        \u001b[49m\u001b[43mon\u001b[49m\u001b[38;5;241;43m=\u001b[39;49m\u001b[43mon\u001b[49m\u001b[43m,\u001b[49m\n\u001b[1;32m    174\u001b[0m \u001b[43m        \u001b[49m\u001b[43mleft_on\u001b[49m\u001b[38;5;241;43m=\u001b[39;49m\u001b[43mleft_on\u001b[49m\u001b[43m,\u001b[49m\n\u001b[1;32m    175\u001b[0m \u001b[43m        \u001b[49m\u001b[43mright_on\u001b[49m\u001b[38;5;241;43m=\u001b[39;49m\u001b[43mright_on\u001b[49m\u001b[43m,\u001b[49m\n\u001b[1;32m    176\u001b[0m \u001b[43m        \u001b[49m\u001b[43mleft_index\u001b[49m\u001b[38;5;241;43m=\u001b[39;49m\u001b[43mleft_index\u001b[49m\u001b[43m,\u001b[49m\n\u001b[1;32m    177\u001b[0m \u001b[43m        \u001b[49m\u001b[43mright_index\u001b[49m\u001b[38;5;241;43m=\u001b[39;49m\u001b[43mright_index\u001b[49m\u001b[43m,\u001b[49m\n\u001b[1;32m    178\u001b[0m \u001b[43m        \u001b[49m\u001b[43msort\u001b[49m\u001b[38;5;241;43m=\u001b[39;49m\u001b[43msort\u001b[49m\u001b[43m,\u001b[49m\n\u001b[1;32m    179\u001b[0m \u001b[43m        \u001b[49m\u001b[43msuffixes\u001b[49m\u001b[38;5;241;43m=\u001b[39;49m\u001b[43msuffixes\u001b[49m\u001b[43m,\u001b[49m\n\u001b[1;32m    180\u001b[0m \u001b[43m        \u001b[49m\u001b[43mindicator\u001b[49m\u001b[38;5;241;43m=\u001b[39;49m\u001b[43mindicator\u001b[49m\u001b[43m,\u001b[49m\n\u001b[1;32m    181\u001b[0m \u001b[43m        \u001b[49m\u001b[43mvalidate\u001b[49m\u001b[38;5;241;43m=\u001b[39;49m\u001b[43mvalidate\u001b[49m\u001b[43m,\u001b[49m\n\u001b[1;32m    182\u001b[0m \u001b[43m    \u001b[49m\u001b[43m)\u001b[49m\n\u001b[1;32m    183\u001b[0m     \u001b[38;5;28;01mreturn\u001b[39;00m op\u001b[38;5;241m.\u001b[39mget_result(copy\u001b[38;5;241m=\u001b[39mcopy)\n",
      "File \u001b[0;32m~/Library/Caches/pypoetry/virtualenvs/cours-python-upec-isnqQ7Q7-py3.10/lib/python3.10/site-packages/pandas/core/reshape/merge.py:810\u001b[0m, in \u001b[0;36m_MergeOperation.__init__\u001b[0;34m(self, left, right, how, on, left_on, right_on, left_index, right_index, sort, suffixes, indicator, validate)\u001b[0m\n\u001b[1;32m    806\u001b[0m \u001b[38;5;66;03m# If argument passed to validate,\u001b[39;00m\n\u001b[1;32m    807\u001b[0m \u001b[38;5;66;03m# check if columns specified as unique\u001b[39;00m\n\u001b[1;32m    808\u001b[0m \u001b[38;5;66;03m# are in fact unique.\u001b[39;00m\n\u001b[1;32m    809\u001b[0m \u001b[38;5;28;01mif\u001b[39;00m validate \u001b[38;5;129;01mis\u001b[39;00m \u001b[38;5;129;01mnot\u001b[39;00m \u001b[38;5;28;01mNone\u001b[39;00m:\n\u001b[0;32m--> 810\u001b[0m     \u001b[38;5;28;43mself\u001b[39;49m\u001b[38;5;241;43m.\u001b[39;49m\u001b[43m_validate_validate_kwd\u001b[49m\u001b[43m(\u001b[49m\u001b[43mvalidate\u001b[49m\u001b[43m)\u001b[49m\n",
      "File \u001b[0;32m~/Library/Caches/pypoetry/virtualenvs/cours-python-upec-isnqQ7Q7-py3.10/lib/python3.10/site-packages/pandas/core/reshape/merge.py:1623\u001b[0m, in \u001b[0;36m_MergeOperation._validate_validate_kwd\u001b[0;34m(self, validate)\u001b[0m\n\u001b[1;32m   1619\u001b[0m         \u001b[38;5;28;01mraise\u001b[39;00m MergeError(\n\u001b[1;32m   1620\u001b[0m             \u001b[38;5;124m\"\u001b[39m\u001b[38;5;124mMerge keys are not unique in left dataset; not a one-to-one merge\u001b[39m\u001b[38;5;124m\"\u001b[39m\n\u001b[1;32m   1621\u001b[0m         )\n\u001b[1;32m   1622\u001b[0m     \u001b[38;5;28;01mif\u001b[39;00m \u001b[38;5;129;01mnot\u001b[39;00m right_unique:\n\u001b[0;32m-> 1623\u001b[0m         \u001b[38;5;28;01mraise\u001b[39;00m MergeError(\n\u001b[1;32m   1624\u001b[0m             \u001b[38;5;124m\"\u001b[39m\u001b[38;5;124mMerge keys are not unique in right dataset; not a one-to-one merge\u001b[39m\u001b[38;5;124m\"\u001b[39m\n\u001b[1;32m   1625\u001b[0m         )\n\u001b[1;32m   1627\u001b[0m \u001b[38;5;28;01melif\u001b[39;00m validate \u001b[38;5;129;01min\u001b[39;00m [\u001b[38;5;124m\"\u001b[39m\u001b[38;5;124mone_to_many\u001b[39m\u001b[38;5;124m\"\u001b[39m, \u001b[38;5;124m\"\u001b[39m\u001b[38;5;124m1:m\u001b[39m\u001b[38;5;124m\"\u001b[39m]:\n\u001b[1;32m   1628\u001b[0m     \u001b[38;5;28;01mif\u001b[39;00m \u001b[38;5;129;01mnot\u001b[39;00m left_unique:\n",
      "\u001b[0;31mMergeError\u001b[0m: Merge keys are not unique in right dataset; not a one-to-one merge"
     ]
    }
   ],
   "source": [
    "df_infos = df_infos.merge(df_achats, on=\"ID\", how=\"left\", validate=\"1:1\")"
   ]
  },
  {
   "cell_type": "code",
   "execution_count": 13,
   "metadata": {
    "scrolled": true
   },
   "outputs": [
    {
     "data": {
      "text/html": [
       "<div>\n",
       "<style scoped>\n",
       "    .dataframe tbody tr th:only-of-type {\n",
       "        vertical-align: middle;\n",
       "    }\n",
       "\n",
       "    .dataframe tbody tr th {\n",
       "        vertical-align: top;\n",
       "    }\n",
       "\n",
       "    .dataframe thead th {\n",
       "        text-align: right;\n",
       "    }\n",
       "</style>\n",
       "<table border=\"1\" class=\"dataframe\">\n",
       "  <thead>\n",
       "    <tr style=\"text-align: right;\">\n",
       "      <th></th>\n",
       "      <th>ID</th>\n",
       "      <th>Nom</th>\n",
       "      <th>Age</th>\n",
       "      <th>Num_commande</th>\n",
       "    </tr>\n",
       "  </thead>\n",
       "  <tbody>\n",
       "    <tr>\n",
       "      <th>0</th>\n",
       "      <td>1</td>\n",
       "      <td>Alice</td>\n",
       "      <td>NaN</td>\n",
       "      <td>454535</td>\n",
       "    </tr>\n",
       "    <tr>\n",
       "      <th>1</th>\n",
       "      <td>2</td>\n",
       "      <td>Bob</td>\n",
       "      <td>NaN</td>\n",
       "      <td>754757</td>\n",
       "    </tr>\n",
       "    <tr>\n",
       "      <th>2</th>\n",
       "      <td>3</td>\n",
       "      <td>Charlie</td>\n",
       "      <td>25.0</td>\n",
       "      <td>96786</td>\n",
       "    </tr>\n",
       "    <tr>\n",
       "      <th>3</th>\n",
       "      <td>3</td>\n",
       "      <td>Charlie</td>\n",
       "      <td>25.0</td>\n",
       "      <td>89685</td>\n",
       "    </tr>\n",
       "    <tr>\n",
       "      <th>4</th>\n",
       "      <td>4</td>\n",
       "      <td>David</td>\n",
       "      <td>30.0</td>\n",
       "      <td>800766</td>\n",
       "    </tr>\n",
       "    <tr>\n",
       "      <th>5</th>\n",
       "      <td>5</td>\n",
       "      <td>Eva</td>\n",
       "      <td>35.0</td>\n",
       "      <td>564564</td>\n",
       "    </tr>\n",
       "    <tr>\n",
       "      <th>6</th>\n",
       "      <td>6</td>\n",
       "      <td>NaN</td>\n",
       "      <td>40.0</td>\n",
       "      <td>34252</td>\n",
       "    </tr>\n",
       "    <tr>\n",
       "      <th>7</th>\n",
       "      <td>7</td>\n",
       "      <td>NaN</td>\n",
       "      <td>45.0</td>\n",
       "      <td>54646</td>\n",
       "    </tr>\n",
       "  </tbody>\n",
       "</table>\n",
       "</div>"
      ],
      "text/plain": [
       "   ID      Nom   Age  Num_commande\n",
       "0   1    Alice   NaN        454535\n",
       "1   2      Bob   NaN        754757\n",
       "2   3  Charlie  25.0         96786\n",
       "3   3  Charlie  25.0         89685\n",
       "4   4    David  30.0        800766\n",
       "5   5      Eva  35.0        564564\n",
       "6   6      NaN  40.0         34252\n",
       "7   7      NaN  45.0         54646"
      ]
     },
     "execution_count": 13,
     "metadata": {},
     "output_type": "execute_result"
    }
   ],
   "source": [
    "df_infos = df_infos.merge(df_achats, on=\"ID\", how=\"left\", validate=\"1:m\")\n",
    "df_infos"
   ]
  },
  {
   "cell_type": "code",
   "execution_count": 14,
   "metadata": {},
   "outputs": [
    {
     "data": {
      "text/html": [
       "<div>\n",
       "<style scoped>\n",
       "    .dataframe tbody tr th:only-of-type {\n",
       "        vertical-align: middle;\n",
       "    }\n",
       "\n",
       "    .dataframe tbody tr th {\n",
       "        vertical-align: top;\n",
       "    }\n",
       "\n",
       "    .dataframe thead th {\n",
       "        text-align: right;\n",
       "    }\n",
       "</style>\n",
       "<table border=\"1\" class=\"dataframe\">\n",
       "  <thead>\n",
       "    <tr style=\"text-align: right;\">\n",
       "      <th></th>\n",
       "      <th>ID</th>\n",
       "      <th>Ville</th>\n",
       "    </tr>\n",
       "  </thead>\n",
       "  <tbody>\n",
       "    <tr>\n",
       "      <th>0</th>\n",
       "      <td>1</td>\n",
       "      <td>New York</td>\n",
       "    </tr>\n",
       "    <tr>\n",
       "      <th>1</th>\n",
       "      <td>2</td>\n",
       "      <td>Los Angeles</td>\n",
       "    </tr>\n",
       "    <tr>\n",
       "      <th>2</th>\n",
       "      <td>3</td>\n",
       "      <td>Chicago</td>\n",
       "    </tr>\n",
       "    <tr>\n",
       "      <th>3</th>\n",
       "      <td>4</td>\n",
       "      <td>Houston</td>\n",
       "    </tr>\n",
       "    <tr>\n",
       "      <th>4</th>\n",
       "      <td>5</td>\n",
       "      <td>Miami</td>\n",
       "    </tr>\n",
       "    <tr>\n",
       "      <th>5</th>\n",
       "      <td>6</td>\n",
       "      <td>Boston</td>\n",
       "    </tr>\n",
       "    <tr>\n",
       "      <th>6</th>\n",
       "      <td>7</td>\n",
       "      <td>Miami</td>\n",
       "    </tr>\n",
       "  </tbody>\n",
       "</table>\n",
       "</div>"
      ],
      "text/plain": [
       "   ID        Ville\n",
       "0   1     New York\n",
       "1   2  Los Angeles\n",
       "2   3      Chicago\n",
       "3   4      Houston\n",
       "4   5        Miami\n",
       "5   6       Boston\n",
       "6   7        Miami"
      ]
     },
     "execution_count": 14,
     "metadata": {},
     "output_type": "execute_result"
    }
   ],
   "source": [
    "df_ville = pd.DataFrame({'ID': [1, 2, 3, 4, 5, 6, 7],\n",
    "                         'Ville': ['New York', 'Los Angeles', 'Chicago', 'Houston', 'Miami', \"Boston\", \"Miami\"]})\n",
    "df_ville"
   ]
  },
  {
   "cell_type": "code",
   "execution_count": 15,
   "metadata": {},
   "outputs": [],
   "source": [
    "df_ville.set_index('ID', inplace=True)"
   ]
  },
  {
   "cell_type": "code",
   "execution_count": 16,
   "metadata": {},
   "outputs": [
    {
     "data": {
      "text/html": [
       "<div>\n",
       "<style scoped>\n",
       "    .dataframe tbody tr th:only-of-type {\n",
       "        vertical-align: middle;\n",
       "    }\n",
       "\n",
       "    .dataframe tbody tr th {\n",
       "        vertical-align: top;\n",
       "    }\n",
       "\n",
       "    .dataframe thead th {\n",
       "        text-align: right;\n",
       "    }\n",
       "</style>\n",
       "<table border=\"1\" class=\"dataframe\">\n",
       "  <thead>\n",
       "    <tr style=\"text-align: right;\">\n",
       "      <th></th>\n",
       "      <th>ID</th>\n",
       "      <th>Nom</th>\n",
       "      <th>Age</th>\n",
       "      <th>Num_commande</th>\n",
       "      <th>Ville</th>\n",
       "    </tr>\n",
       "  </thead>\n",
       "  <tbody>\n",
       "    <tr>\n",
       "      <th>0</th>\n",
       "      <td>1</td>\n",
       "      <td>Alice</td>\n",
       "      <td>NaN</td>\n",
       "      <td>454535</td>\n",
       "      <td>New York</td>\n",
       "    </tr>\n",
       "    <tr>\n",
       "      <th>1</th>\n",
       "      <td>2</td>\n",
       "      <td>Bob</td>\n",
       "      <td>NaN</td>\n",
       "      <td>754757</td>\n",
       "      <td>Los Angeles</td>\n",
       "    </tr>\n",
       "    <tr>\n",
       "      <th>2</th>\n",
       "      <td>3</td>\n",
       "      <td>Charlie</td>\n",
       "      <td>25.0</td>\n",
       "      <td>96786</td>\n",
       "      <td>Chicago</td>\n",
       "    </tr>\n",
       "    <tr>\n",
       "      <th>3</th>\n",
       "      <td>3</td>\n",
       "      <td>Charlie</td>\n",
       "      <td>25.0</td>\n",
       "      <td>89685</td>\n",
       "      <td>Chicago</td>\n",
       "    </tr>\n",
       "    <tr>\n",
       "      <th>4</th>\n",
       "      <td>4</td>\n",
       "      <td>David</td>\n",
       "      <td>30.0</td>\n",
       "      <td>800766</td>\n",
       "      <td>Houston</td>\n",
       "    </tr>\n",
       "    <tr>\n",
       "      <th>5</th>\n",
       "      <td>5</td>\n",
       "      <td>Eva</td>\n",
       "      <td>35.0</td>\n",
       "      <td>564564</td>\n",
       "      <td>Miami</td>\n",
       "    </tr>\n",
       "    <tr>\n",
       "      <th>6</th>\n",
       "      <td>6</td>\n",
       "      <td>NaN</td>\n",
       "      <td>40.0</td>\n",
       "      <td>34252</td>\n",
       "      <td>Boston</td>\n",
       "    </tr>\n",
       "    <tr>\n",
       "      <th>7</th>\n",
       "      <td>7</td>\n",
       "      <td>NaN</td>\n",
       "      <td>45.0</td>\n",
       "      <td>54646</td>\n",
       "      <td>Miami</td>\n",
       "    </tr>\n",
       "  </tbody>\n",
       "</table>\n",
       "</div>"
      ],
      "text/plain": [
       "   ID      Nom   Age  Num_commande        Ville\n",
       "0   1    Alice   NaN        454535     New York\n",
       "1   2      Bob   NaN        754757  Los Angeles\n",
       "2   3  Charlie  25.0         96786      Chicago\n",
       "3   3  Charlie  25.0         89685      Chicago\n",
       "4   4    David  30.0        800766      Houston\n",
       "5   5      Eva  35.0        564564        Miami\n",
       "6   6      NaN  40.0         34252       Boston\n",
       "7   7      NaN  45.0         54646        Miami"
      ]
     },
     "execution_count": 16,
     "metadata": {},
     "output_type": "execute_result"
    }
   ],
   "source": [
    "df_infos = df_infos.merge(df_ville, left_on=\"ID\", right_index=True, how=\"left\", validate=\"m:1\")\n",
    "df_infos"
   ]
  },
  {
   "cell_type": "markdown",
   "metadata": {},
   "source": [
    "<div class=\"alert alert-block alert-info\"><b>Pour aller plus loin :</b> <a href=https://pandas.pydata.org/pandas-docs/stable/generated/pandas.DataFrame.merge.html> Doc officielle sur la méthode <b>.merge()</b></a></div>\n",
    "\n",
    "---\n",
    "\n",
    "<div class=\"alert alert-block alert-info\"><b>Pour aller plus loin :</b> <a href=https://pandas.pydata.org/pandas-docs/stable/merging.html>Tutoriel sur les <b> jointures et concatenations </b></a></div>"
   ]
  }
 ],
 "metadata": {
  "kernelspec": {
   "display_name": "Python 3 (ipykernel)",
   "language": "python",
   "name": "python3"
  },
  "language_info": {
   "codemirror_mode": {
    "name": "ipython",
    "version": 3
   },
   "file_extension": ".py",
   "mimetype": "text/x-python",
   "name": "python",
   "nbconvert_exporter": "python",
   "pygments_lexer": "ipython3",
   "version": "3.10.12"
  },
  "toc": {
   "base_numbering": 1,
   "nav_menu": {
    "height": "500px",
    "width": "252px"
   },
   "number_sections": true,
   "sideBar": true,
   "skip_h1_title": false,
   "title_cell": "Table of Contents",
   "title_sidebar": "Contents",
   "toc_cell": false,
   "toc_position": {
    "height": "660px",
    "left": "0px",
    "right": "1359px",
    "top": "107px",
    "width": "187px"
   },
   "toc_section_display": "block",
   "toc_window_display": true
  },
  "varInspector": {
   "cols": {
    "lenName": 16,
    "lenType": 16,
    "lenVar": 40
   },
   "kernels_config": {
    "python": {
     "delete_cmd_postfix": "",
     "delete_cmd_prefix": "del ",
     "library": "var_list.py",
     "varRefreshCmd": "print(var_dic_list())"
    },
    "r": {
     "delete_cmd_postfix": ") ",
     "delete_cmd_prefix": "rm(",
     "library": "var_list.r",
     "varRefreshCmd": "cat(var_dic_list()) "
    }
   },
   "types_to_exclude": [
    "module",
    "function",
    "builtin_function_or_method",
    "instance",
    "_Feature"
   ],
   "window_display": false
  }
 },
 "nbformat": 4,
 "nbformat_minor": 4
}

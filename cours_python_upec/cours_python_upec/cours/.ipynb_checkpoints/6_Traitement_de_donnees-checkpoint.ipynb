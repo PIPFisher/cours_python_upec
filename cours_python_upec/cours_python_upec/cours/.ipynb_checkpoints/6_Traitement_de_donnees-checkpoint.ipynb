{
 "cells": [
  {
   "cell_type": "markdown",
   "metadata": {},
   "source": [
    "<br>\n",
    "<div align=\"center\"><span style=\"font-family:Monaco;font-size:50px;color:#1c6199\">Master 2 MASERATI</span></div><br><br>\n",
    "<div align=\"center\"><span style=\"font-family:Monaco;font-size:40px;color:#1c6199\">Cours de Python</span></div><br><br>\n",
    "<div align=\"center\"><span style=\"font-family:Monaco;font-size:30px;color:#1c6199\">2023/2024</span></div><br><br>\n",
    "<div align=\"center\"><span style=\"font-family:Monaco;font-size:15px;color:#1c6199\">Enseignante : Lucia Cossaro</div>\n",
    "<div align=\"center\"><span style=\"font-family:Monaco;font-size:15px;color:#1c6199\">E-mail : luciacossaro@gmail.com</div>\n",
    "<hr>"
   ]
  },
  {
   "cell_type": "markdown",
   "metadata": {},
   "source": [
    "# Initialisation"
   ]
  },
  {
   "cell_type": "markdown",
   "metadata": {},
   "source": [
    "Chargeons d'abord les modules ainsi qu'un jeu de données"
   ]
  },
  {
   "cell_type": "code",
   "execution_count": 2,
   "metadata": {
    "ExecuteTime": {
     "end_time": "2019-01-11T14:16:49.537634Z",
     "start_time": "2019-01-11T14:16:49.533686Z"
    },
    "scrolled": true
   },
   "outputs": [],
   "source": [
    "import pandas as pd\n",
    "import numpy as np"
   ]
  },
  {
   "cell_type": "code",
   "execution_count": 3,
   "metadata": {
    "ExecuteTime": {
     "end_time": "2019-01-11T14:16:51.112871Z",
     "start_time": "2019-01-11T14:16:51.058016Z"
    }
   },
   "outputs": [],
   "source": [
    "df_gflight = pd.read_csv('../data/Googleflights.csv', sep=';', decimal=',')"
   ]
  },
  {
   "cell_type": "markdown",
   "metadata": {},
   "source": [
    "Jettons un coup d'oeil à la table"
   ]
  },
  {
   "cell_type": "code",
   "execution_count": 4,
   "metadata": {
    "ExecuteTime": {
     "end_time": "2019-01-11T14:16:52.714419Z",
     "start_time": "2019-01-11T14:16:52.691482Z"
    }
   },
   "outputs": [
    {
     "data": {
      "text/html": [
       "<div>\n",
       "<style scoped>\n",
       "    .dataframe tbody tr th:only-of-type {\n",
       "        vertical-align: middle;\n",
       "    }\n",
       "\n",
       "    .dataframe tbody tr th {\n",
       "        vertical-align: top;\n",
       "    }\n",
       "\n",
       "    .dataframe thead th {\n",
       "        text-align: right;\n",
       "    }\n",
       "</style>\n",
       "<table border=\"1\" class=\"dataframe\">\n",
       "  <thead>\n",
       "    <tr style=\"text-align: right;\">\n",
       "      <th></th>\n",
       "      <th>id</th>\n",
       "      <th>respid</th>\n",
       "      <th>extrtime</th>\n",
       "      <th>origin</th>\n",
       "      <th>destination</th>\n",
       "      <th>company</th>\n",
       "      <th>depdate</th>\n",
       "      <th>arrdate</th>\n",
       "      <th>duration</th>\n",
       "      <th>flighttype</th>\n",
       "      <th>price</th>\n",
       "      <th>stopover</th>\n",
       "      <th>stopovertime</th>\n",
       "    </tr>\n",
       "  </thead>\n",
       "  <tbody>\n",
       "    <tr>\n",
       "      <th>5349</th>\n",
       "      <td>59</td>\n",
       "      <td>124</td>\n",
       "      <td>15/01/2016 10:18:11</td>\n",
       "      <td>BES</td>\n",
       "      <td>NCE</td>\n",
       "      <td>Air France-Air France</td>\n",
       "      <td>2016-03-15T13:10:00</td>\n",
       "      <td>2016-03-16T10:40:00</td>\n",
       "      <td>21.500000</td>\n",
       "      <td>aller simple</td>\n",
       "      <td>115.0</td>\n",
       "      <td>1 escale</td>\n",
       "      <td>18h 50min à ORY</td>\n",
       "    </tr>\n",
       "    <tr>\n",
       "      <th>869</th>\n",
       "      <td>7</td>\n",
       "      <td>100</td>\n",
       "      <td>15/01/2016 10:12:58</td>\n",
       "      <td>TLS</td>\n",
       "      <td>NTE</td>\n",
       "      <td>Air France-Air France</td>\n",
       "      <td>2016-03-15T15:35:00</td>\n",
       "      <td>2016-03-16T14:30:00</td>\n",
       "      <td>22.916667</td>\n",
       "      <td>aller simple</td>\n",
       "      <td>105.0</td>\n",
       "      <td>1 escale</td>\n",
       "      <td>20h 20min à ORY</td>\n",
       "    </tr>\n",
       "    <tr>\n",
       "      <th>4378</th>\n",
       "      <td>51</td>\n",
       "      <td>45</td>\n",
       "      <td>15/01/2016 10:17:21</td>\n",
       "      <td>NTE</td>\n",
       "      <td>NCE</td>\n",
       "      <td>Air France-Air France</td>\n",
       "      <td>2016-03-15T11:25:00</td>\n",
       "      <td>2016-03-15T17:45:00</td>\n",
       "      <td>6.333333</td>\n",
       "      <td>aller simple</td>\n",
       "      <td>107.0</td>\n",
       "      <td>1 escale</td>\n",
       "      <td>3h 55min à ORY</td>\n",
       "    </tr>\n",
       "    <tr>\n",
       "      <th>5786</th>\n",
       "      <td>67</td>\n",
       "      <td>48</td>\n",
       "      <td>15/01/2016 10:18:56</td>\n",
       "      <td>LRT</td>\n",
       "      <td>NCE</td>\n",
       "      <td>Air France-Air France</td>\n",
       "      <td>2016-03-15T14:10:00</td>\n",
       "      <td>2016-03-16T07:50:00</td>\n",
       "      <td>17.666667</td>\n",
       "      <td>aller simple</td>\n",
       "      <td>171.0</td>\n",
       "      <td>1 escale</td>\n",
       "      <td>14h 55min à ORY</td>\n",
       "    </tr>\n",
       "    <tr>\n",
       "      <th>3854</th>\n",
       "      <td>46</td>\n",
       "      <td>80</td>\n",
       "      <td>15/01/2016 10:16:50</td>\n",
       "      <td>NTE</td>\n",
       "      <td>BOD</td>\n",
       "      <td>Air France-Air France</td>\n",
       "      <td>2016-03-15T06:30:00</td>\n",
       "      <td>2016-03-15T12:10:00</td>\n",
       "      <td>5.666667</td>\n",
       "      <td>aller simple</td>\n",
       "      <td>154.0</td>\n",
       "      <td>1 escale</td>\n",
       "      <td>3h 30min à ORY</td>\n",
       "    </tr>\n",
       "  </tbody>\n",
       "</table>\n",
       "</div>"
      ],
      "text/plain": [
       "      id  respid             extrtime origin destination  \\\n",
       "5349  59     124  15/01/2016 10:18:11    BES         NCE   \n",
       "869    7     100  15/01/2016 10:12:58    TLS         NTE   \n",
       "4378  51      45  15/01/2016 10:17:21    NTE         NCE   \n",
       "5786  67      48  15/01/2016 10:18:56    LRT         NCE   \n",
       "3854  46      80  15/01/2016 10:16:50    NTE         BOD   \n",
       "\n",
       "                    company              depdate              arrdate  \\\n",
       "5349  Air France-Air France  2016-03-15T13:10:00  2016-03-16T10:40:00   \n",
       "869   Air France-Air France  2016-03-15T15:35:00  2016-03-16T14:30:00   \n",
       "4378  Air France-Air France  2016-03-15T11:25:00  2016-03-15T17:45:00   \n",
       "5786  Air France-Air France  2016-03-15T14:10:00  2016-03-16T07:50:00   \n",
       "3854  Air France-Air France  2016-03-15T06:30:00  2016-03-15T12:10:00   \n",
       "\n",
       "       duration    flighttype  price  stopover     stopovertime  \n",
       "5349  21.500000  aller simple  115.0  1 escale  18h 50min à ORY  \n",
       "869   22.916667  aller simple  105.0  1 escale  20h 20min à ORY  \n",
       "4378   6.333333  aller simple  107.0  1 escale   3h 55min à ORY  \n",
       "5786  17.666667  aller simple  171.0  1 escale  14h 55min à ORY  \n",
       "3854   5.666667  aller simple  154.0  1 escale   3h 30min à ORY  "
      ]
     },
     "execution_count": 4,
     "metadata": {},
     "output_type": "execute_result"
    }
   ],
   "source": [
    "df_gflight.sample(5)"
   ]
  },
  {
   "cell_type": "code",
   "execution_count": 5,
   "metadata": {
    "ExecuteTime": {
     "end_time": "2019-01-11T14:16:53.687353Z",
     "start_time": "2019-01-11T14:16:53.675387Z"
    }
   },
   "outputs": [
    {
     "name": "stdout",
     "output_type": "stream",
     "text": [
      "<class 'pandas.core.frame.DataFrame'>\n",
      "RangeIndex: 6815 entries, 0 to 6814\n",
      "Data columns (total 13 columns):\n",
      "id              6815 non-null int64\n",
      "respid          6815 non-null int64\n",
      "extrtime        6815 non-null object\n",
      "origin          6815 non-null object\n",
      "destination     6815 non-null object\n",
      "company         6815 non-null object\n",
      "depdate         6815 non-null object\n",
      "arrdate         6815 non-null object\n",
      "duration        6813 non-null float64\n",
      "flighttype      6815 non-null object\n",
      "price           6805 non-null float64\n",
      "stopover        6815 non-null object\n",
      "stopovertime    6672 non-null object\n",
      "dtypes: float64(2), int64(2), object(9)\n",
      "memory usage: 692.2+ KB\n"
     ]
    }
   ],
   "source": [
    "df_gflight.info()"
   ]
  },
  {
   "cell_type": "markdown",
   "metadata": {},
   "source": [
    "# Chaines de caractères"
   ]
  },
  {
   "cell_type": "markdown",
   "metadata": {},
   "source": [
    "## Modifier une série de manière systématique grâce à map"
   ]
  },
  {
   "cell_type": "markdown",
   "metadata": {},
   "source": [
    "### Sur la base d'un dictionnaire"
   ]
  },
  {
   "cell_type": "markdown",
   "metadata": {},
   "source": [
    "La méthode **Series.map()** permet, en utilisant un dictionnaire de \"correspondance\" de convertir des modalités en d'autres modalités"
   ]
  },
  {
   "cell_type": "code",
   "execution_count": 6,
   "metadata": {
    "ExecuteTime": {
     "end_time": "2019-01-11T14:16:59.791302Z",
     "start_time": "2019-01-11T14:16:59.786315Z"
    },
    "scrolled": true
   },
   "outputs": [
    {
     "data": {
      "text/plain": [
       "array(['Sans escale', '1 escale'], dtype=object)"
      ]
     },
     "execution_count": 6,
     "metadata": {},
     "output_type": "execute_result"
    }
   ],
   "source": [
    "df_gflight['stopover'].unique()"
   ]
  },
  {
   "cell_type": "code",
   "execution_count": 7,
   "metadata": {
    "ExecuteTime": {
     "end_time": "2019-01-11T14:17:02.372482Z",
     "start_time": "2019-01-11T14:17:02.368494Z"
    }
   },
   "outputs": [],
   "source": [
    "dict_escales = {\n",
    "    'Sans escale' : 0,\n",
    "    '1 escale' : 1,\n",
    "}"
   ]
  },
  {
   "cell_type": "code",
   "execution_count": 8,
   "metadata": {
    "ExecuteTime": {
     "end_time": "2019-01-11T14:17:08.852431Z",
     "start_time": "2019-01-11T14:17:08.846449Z"
    }
   },
   "outputs": [],
   "source": [
    "df_gflight['stopover'] = df_gflight['stopover'].map(dict_escales)"
   ]
  },
  {
   "cell_type": "code",
   "execution_count": 9,
   "metadata": {
    "ExecuteTime": {
     "end_time": "2019-01-11T14:17:12.521484Z",
     "start_time": "2019-01-11T14:17:12.515501Z"
    }
   },
   "outputs": [
    {
     "data": {
      "text/plain": [
       "2311    1\n",
       "1615    1\n",
       "3085    1\n",
       "618     1\n",
       "173     1\n",
       "Name: stopover, dtype: int64"
      ]
     },
     "execution_count": 9,
     "metadata": {},
     "output_type": "execute_result"
    }
   ],
   "source": [
    "df_gflight['stopover'].sample(5)"
   ]
  },
  {
   "cell_type": "markdown",
   "metadata": {},
   "source": [
    "### Sur la base d'une fonction"
   ]
  },
  {
   "cell_type": "markdown",
   "metadata": {},
   "source": [
    "La méthode **Series.map()** permet aussi d'appliquer une fonction à chaque élément d'une Series"
   ]
  },
  {
   "cell_type": "code",
   "execution_count": 10,
   "metadata": {
    "ExecuteTime": {
     "end_time": "2019-01-11T14:17:15.707094Z",
     "start_time": "2019-01-11T14:17:15.700115Z"
    }
   },
   "outputs": [
    {
     "data": {
      "text/plain": [
       "array([nan, '45min à LYS', '1h 40min à LYS', ..., '21h 55min à MRS',\n",
       "       '11h 50min à MRS', '23h 50min à NCE'], dtype=object)"
      ]
     },
     "execution_count": 10,
     "metadata": {},
     "output_type": "execute_result"
    }
   ],
   "source": [
    "df_gflight['stopovertime'].unique()"
   ]
  },
  {
   "cell_type": "markdown",
   "metadata": {},
   "source": [
    "On peut par exemple appliquer la fonction suivante pour transformer nos ids en chaines de caractères en index"
   ]
  },
  {
   "cell_type": "code",
   "execution_count": 11,
   "metadata": {
    "ExecuteTime": {
     "end_time": "2019-01-11T14:17:17.594831Z",
     "start_time": "2019-01-11T14:17:17.589846Z"
    }
   },
   "outputs": [],
   "source": [
    "def conv_func(val):\n",
    "    if val is np.nan:\n",
    "        return np.nan\n",
    "    else:\n",
    "        if 'h ' in val:\n",
    "            heures = int(val.split('h ')[0]) #Decoupe selon 'h ' et après le convertir en entier.\n",
    "            minutes = int(val.split('h ')[1].split('min')[0]) #Decoupe en plus selon 'Min' maintenant.\n",
    "            return heures + minutes/60\n",
    "        elif 'min' in val:\n",
    "            return int(val.split('min')[0])/60\n",
    "        else:\n",
    "            raise BaseException('Problème')"
   ]
  },
  {
   "cell_type": "code",
   "execution_count": 12,
   "metadata": {
    "ExecuteTime": {
     "end_time": "2019-01-11T14:17:19.493841Z",
     "start_time": "2019-01-11T14:17:19.479879Z"
    }
   },
   "outputs": [],
   "source": [
    "df_gflight['stop_time'] = df_gflight['stopovertime'].map(conv_func)"
   ]
  },
  {
   "cell_type": "code",
   "execution_count": 13,
   "metadata": {
    "ExecuteTime": {
     "end_time": "2019-01-11T14:17:20.493295Z",
     "start_time": "2019-01-11T14:17:20.481327Z"
    }
   },
   "outputs": [
    {
     "data": {
      "text/html": [
       "<div>\n",
       "<style scoped>\n",
       "    .dataframe tbody tr th:only-of-type {\n",
       "        vertical-align: middle;\n",
       "    }\n",
       "\n",
       "    .dataframe tbody tr th {\n",
       "        vertical-align: top;\n",
       "    }\n",
       "\n",
       "    .dataframe thead th {\n",
       "        text-align: right;\n",
       "    }\n",
       "</style>\n",
       "<table border=\"1\" class=\"dataframe\">\n",
       "  <thead>\n",
       "    <tr style=\"text-align: right;\">\n",
       "      <th></th>\n",
       "      <th>stopovertime</th>\n",
       "      <th>stop_time</th>\n",
       "    </tr>\n",
       "  </thead>\n",
       "  <tbody>\n",
       "    <tr>\n",
       "      <th>1733</th>\n",
       "      <td>23h 35min à ORY</td>\n",
       "      <td>23.583333</td>\n",
       "    </tr>\n",
       "    <tr>\n",
       "      <th>3268</th>\n",
       "      <td>22h 30min à TLS</td>\n",
       "      <td>22.500000</td>\n",
       "    </tr>\n",
       "    <tr>\n",
       "      <th>4570</th>\n",
       "      <td>15h 15min à ORY</td>\n",
       "      <td>15.250000</td>\n",
       "    </tr>\n",
       "    <tr>\n",
       "      <th>3168</th>\n",
       "      <td>22h 50min à CDG</td>\n",
       "      <td>22.833333</td>\n",
       "    </tr>\n",
       "    <tr>\n",
       "      <th>280</th>\n",
       "      <td>21h 20min à BOD</td>\n",
       "      <td>21.333333</td>\n",
       "    </tr>\n",
       "  </tbody>\n",
       "</table>\n",
       "</div>"
      ],
      "text/plain": [
       "         stopovertime  stop_time\n",
       "1733  23h 35min à ORY  23.583333\n",
       "3268  22h 30min à TLS  22.500000\n",
       "4570  15h 15min à ORY  15.250000\n",
       "3168  22h 50min à CDG  22.833333\n",
       "280   21h 20min à BOD  21.333333"
      ]
     },
     "execution_count": 13,
     "metadata": {},
     "output_type": "execute_result"
    }
   ],
   "source": [
    "df_gflight[['stopovertime', 'stop_time']].sample(5)"
   ]
  },
  {
   "cell_type": "markdown",
   "metadata": {},
   "source": [
    "On peut faire de même pour extraire les aéroports de correspondance. Ici, c'est une fonction lambda qui est utilisée :"
   ]
  },
  {
   "cell_type": "code",
   "execution_count": 14,
   "metadata": {
    "ExecuteTime": {
     "end_time": "2019-01-11T14:17:26.239785Z",
     "start_time": "2019-01-11T14:17:26.234769Z"
    }
   },
   "outputs": [],
   "source": [
    "def ma_fonc(x):\n",
    "    if x is np.nan:\n",
    "        return ''\n",
    "    else:\n",
    "        return x.split(' à ')[l]"
   ]
  },
  {
   "cell_type": "code",
   "execution_count": 15,
   "metadata": {
    "ExecuteTime": {
     "end_time": "2019-01-11T14:17:27.867306Z",
     "start_time": "2019-01-11T14:17:27.858330Z"
    }
   },
   "outputs": [],
   "source": [
    "df_gflight['stop_place'] = df_gflight['stopovertime'].map(lambda x: '' if x is np.nan else x.split(' à ')[1])"
   ]
  },
  {
   "cell_type": "code",
   "execution_count": 16,
   "metadata": {
    "ExecuteTime": {
     "end_time": "2019-01-11T14:17:28.922675Z",
     "start_time": "2019-01-11T14:17:28.912702Z"
    }
   },
   "outputs": [
    {
     "data": {
      "text/html": [
       "<div>\n",
       "<style scoped>\n",
       "    .dataframe tbody tr th:only-of-type {\n",
       "        vertical-align: middle;\n",
       "    }\n",
       "\n",
       "    .dataframe tbody tr th {\n",
       "        vertical-align: top;\n",
       "    }\n",
       "\n",
       "    .dataframe thead th {\n",
       "        text-align: right;\n",
       "    }\n",
       "</style>\n",
       "<table border=\"1\" class=\"dataframe\">\n",
       "  <thead>\n",
       "    <tr style=\"text-align: right;\">\n",
       "      <th></th>\n",
       "      <th>stopovertime</th>\n",
       "      <th>stop_place</th>\n",
       "    </tr>\n",
       "  </thead>\n",
       "  <tbody>\n",
       "    <tr>\n",
       "      <th>1161</th>\n",
       "      <td>16h 25min à ORY</td>\n",
       "      <td>ORY</td>\n",
       "    </tr>\n",
       "    <tr>\n",
       "      <th>3443</th>\n",
       "      <td>13h 40min à TLS</td>\n",
       "      <td>TLS</td>\n",
       "    </tr>\n",
       "    <tr>\n",
       "      <th>650</th>\n",
       "      <td>21h 15min à LYS</td>\n",
       "      <td>LYS</td>\n",
       "    </tr>\n",
       "    <tr>\n",
       "      <th>4161</th>\n",
       "      <td>1h 30min à AMS</td>\n",
       "      <td>AMS</td>\n",
       "    </tr>\n",
       "    <tr>\n",
       "      <th>765</th>\n",
       "      <td>19h 05min à AMS</td>\n",
       "      <td>AMS</td>\n",
       "    </tr>\n",
       "  </tbody>\n",
       "</table>\n",
       "</div>"
      ],
      "text/plain": [
       "         stopovertime stop_place\n",
       "1161  16h 25min à ORY        ORY\n",
       "3443  13h 40min à TLS        TLS\n",
       "650   21h 15min à LYS        LYS\n",
       "4161   1h 30min à AMS        AMS\n",
       "765   19h 05min à AMS        AMS"
      ]
     },
     "execution_count": 16,
     "metadata": {},
     "output_type": "execute_result"
    }
   ],
   "source": [
    "df_gflight[['stopovertime', 'stop_place']].sample(5)"
   ]
  },
  {
   "cell_type": "markdown",
   "metadata": {},
   "source": [
    "<div class=\"alert alert-block alert-info\"><b>Pour aller plus loin :</b> <a href=https://pandas.pydata.org/pandas-docs/stable/generated/pandas.DataFrame.map.html> Doc officielle Pandas sur la <b>méthode map</b></a></div>"
   ]
  },
  {
   "cell_type": "markdown",
   "metadata": {},
   "source": [
    "## Objet .str"
   ]
  },
  {
   "cell_type": "markdown",
   "metadata": {},
   "source": [
    "Une autre manière aurait été de prendre les 3 derniers caractères de la chaine de caractères, pour faire des opérations de type méthode de **str** sur une Serie **object**, on peut utiliser l'objet **.str**"
   ]
  },
  {
   "cell_type": "code",
   "execution_count": 17,
   "metadata": {
    "ExecuteTime": {
     "end_time": "2019-01-11T14:17:31.911348Z",
     "start_time": "2019-01-11T14:17:31.903371Z"
    }
   },
   "outputs": [
    {
     "data": {
      "text/plain": [
       "6787    CDG\n",
       "2729    ORY\n",
       "6018    CDG\n",
       "1329    CDG\n",
       "1412    ORY\n",
       "Name: stopovertime, dtype: object"
      ]
     },
     "execution_count": 17,
     "metadata": {},
     "output_type": "execute_result"
    }
   ],
   "source": [
    "df_gflight['stopovertime'].str[-3:].sample(5)"
   ]
  },
  {
   "cell_type": "markdown",
   "metadata": {},
   "source": [
    "La plupart des méthodes aprises dans le cadre des chaines de caractères peuvent être utilisées avec l'objet **.str** :"
   ]
  },
  {
   "cell_type": "code",
   "execution_count": 18,
   "metadata": {
    "ExecuteTime": {
     "end_time": "2019-01-11T14:17:34.152466Z",
     "start_time": "2019-01-11T14:17:34.142492Z"
    }
   },
   "outputs": [
    {
     "data": {
      "text/plain": [
       "2192    [18h, 40min, à, ORY]\n",
       "3637    [10h, 55min, à, MRS]\n",
       "2181    [19h, 05min, à, ORY]\n",
       "2333     [1h, 45min, à, ORY]\n",
       "370      [3h, 40min, à, CDG]\n",
       "Name: stopovertime, dtype: object"
      ]
     },
     "execution_count": 18,
     "metadata": {},
     "output_type": "execute_result"
    }
   ],
   "source": [
    "df_gflight['stopovertime'].str.split().sample(5)"
   ]
  },
  {
   "cell_type": "code",
   "execution_count": 19,
   "metadata": {
    "ExecuteTime": {
     "end_time": "2019-01-11T14:17:37.364700Z",
     "start_time": "2019-01-11T14:17:37.354728Z"
    },
    "scrolled": true
   },
   "outputs": [
    {
     "data": {
      "text/plain": [
       "2373    24H 10MIN À ORY\n",
       "5913        55MIN À ORY\n",
       "2438     2H 10MIN À ORY\n",
       "1071    17H 15MIN À ORY\n",
       "4168     3H 45MIN À ORY\n",
       "Name: stopovertime, dtype: object"
      ]
     },
     "execution_count": 19,
     "metadata": {},
     "output_type": "execute_result"
    }
   ],
   "source": [
    "df_gflight['stopovertime'].str.upper().sample(5)"
   ]
  },
  {
   "cell_type": "markdown",
   "metadata": {},
   "source": [
    "<div class=\"alert alert-block alert-info\">\n",
    "<b>Pour aller plus loin:</b> <a href=https://pandas.pydata.org/pandas-docs/stable/text.html> Tutoriel sur le <b>traitement de chaines de caractères </b></a>\n",
    "</div>"
   ]
  },
  {
   "cell_type": "markdown",
   "metadata": {},
   "source": [
    "# Valeurs manquantes"
   ]
  },
  {
   "cell_type": "markdown",
   "metadata": {},
   "source": [
    "Remarque :\n",
    "\n",
    "les **object** et **floatXX** contenir des **numpy.nan** (**valeur manquante** dans une **numpy.ndarray**, et par héritage **pandas.Series** et **pandas.DataFrame**), pas les **intXX**"
   ]
  },
  {
   "cell_type": "markdown",
   "metadata": {},
   "source": [
    "## Savoir quelles cases sont nulles"
   ]
  },
  {
   "cell_type": "code",
   "execution_count": 20,
   "metadata": {
    "ExecuteTime": {
     "end_time": "2019-01-11T14:17:41.331011Z",
     "start_time": "2019-01-11T14:17:41.306079Z"
    }
   },
   "outputs": [
    {
     "data": {
      "text/html": [
       "<div>\n",
       "<style scoped>\n",
       "    .dataframe tbody tr th:only-of-type {\n",
       "        vertical-align: middle;\n",
       "    }\n",
       "\n",
       "    .dataframe tbody tr th {\n",
       "        vertical-align: top;\n",
       "    }\n",
       "\n",
       "    .dataframe thead th {\n",
       "        text-align: right;\n",
       "    }\n",
       "</style>\n",
       "<table border=\"1\" class=\"dataframe\">\n",
       "  <thead>\n",
       "    <tr style=\"text-align: right;\">\n",
       "      <th></th>\n",
       "      <th>id</th>\n",
       "      <th>respid</th>\n",
       "      <th>extrtime</th>\n",
       "      <th>origin</th>\n",
       "      <th>destination</th>\n",
       "      <th>company</th>\n",
       "      <th>depdate</th>\n",
       "      <th>arrdate</th>\n",
       "      <th>duration</th>\n",
       "      <th>flighttype</th>\n",
       "      <th>price</th>\n",
       "      <th>stopover</th>\n",
       "      <th>stopovertime</th>\n",
       "      <th>stop_time</th>\n",
       "      <th>stop_place</th>\n",
       "    </tr>\n",
       "  </thead>\n",
       "  <tbody>\n",
       "    <tr>\n",
       "      <th>0</th>\n",
       "      <td>False</td>\n",
       "      <td>False</td>\n",
       "      <td>False</td>\n",
       "      <td>False</td>\n",
       "      <td>False</td>\n",
       "      <td>False</td>\n",
       "      <td>False</td>\n",
       "      <td>False</td>\n",
       "      <td>False</td>\n",
       "      <td>False</td>\n",
       "      <td>False</td>\n",
       "      <td>False</td>\n",
       "      <td>True</td>\n",
       "      <td>True</td>\n",
       "      <td>False</td>\n",
       "    </tr>\n",
       "    <tr>\n",
       "      <th>1</th>\n",
       "      <td>False</td>\n",
       "      <td>False</td>\n",
       "      <td>False</td>\n",
       "      <td>False</td>\n",
       "      <td>False</td>\n",
       "      <td>False</td>\n",
       "      <td>False</td>\n",
       "      <td>False</td>\n",
       "      <td>False</td>\n",
       "      <td>False</td>\n",
       "      <td>False</td>\n",
       "      <td>False</td>\n",
       "      <td>True</td>\n",
       "      <td>True</td>\n",
       "      <td>False</td>\n",
       "    </tr>\n",
       "    <tr>\n",
       "      <th>2</th>\n",
       "      <td>False</td>\n",
       "      <td>False</td>\n",
       "      <td>False</td>\n",
       "      <td>False</td>\n",
       "      <td>False</td>\n",
       "      <td>False</td>\n",
       "      <td>False</td>\n",
       "      <td>False</td>\n",
       "      <td>False</td>\n",
       "      <td>False</td>\n",
       "      <td>False</td>\n",
       "      <td>False</td>\n",
       "      <td>True</td>\n",
       "      <td>True</td>\n",
       "      <td>False</td>\n",
       "    </tr>\n",
       "    <tr>\n",
       "      <th>3</th>\n",
       "      <td>False</td>\n",
       "      <td>False</td>\n",
       "      <td>False</td>\n",
       "      <td>False</td>\n",
       "      <td>False</td>\n",
       "      <td>False</td>\n",
       "      <td>False</td>\n",
       "      <td>False</td>\n",
       "      <td>False</td>\n",
       "      <td>False</td>\n",
       "      <td>False</td>\n",
       "      <td>False</td>\n",
       "      <td>True</td>\n",
       "      <td>True</td>\n",
       "      <td>False</td>\n",
       "    </tr>\n",
       "    <tr>\n",
       "      <th>4</th>\n",
       "      <td>False</td>\n",
       "      <td>False</td>\n",
       "      <td>False</td>\n",
       "      <td>False</td>\n",
       "      <td>False</td>\n",
       "      <td>False</td>\n",
       "      <td>False</td>\n",
       "      <td>False</td>\n",
       "      <td>False</td>\n",
       "      <td>False</td>\n",
       "      <td>False</td>\n",
       "      <td>False</td>\n",
       "      <td>False</td>\n",
       "      <td>False</td>\n",
       "      <td>False</td>\n",
       "    </tr>\n",
       "  </tbody>\n",
       "</table>\n",
       "</div>"
      ],
      "text/plain": [
       "      id  respid  extrtime  origin  destination  company  depdate  arrdate  \\\n",
       "0  False   False     False   False        False    False    False    False   \n",
       "1  False   False     False   False        False    False    False    False   \n",
       "2  False   False     False   False        False    False    False    False   \n",
       "3  False   False     False   False        False    False    False    False   \n",
       "4  False   False     False   False        False    False    False    False   \n",
       "\n",
       "   duration  flighttype  price  stopover  stopovertime  stop_time  stop_place  \n",
       "0     False       False  False     False          True       True       False  \n",
       "1     False       False  False     False          True       True       False  \n",
       "2     False       False  False     False          True       True       False  \n",
       "3     False       False  False     False          True       True       False  \n",
       "4     False       False  False     False         False      False       False  "
      ]
     },
     "execution_count": 20,
     "metadata": {},
     "output_type": "execute_result"
    }
   ],
   "source": [
    "df_gflight.isnull().head()"
   ]
  },
  {
   "cell_type": "markdown",
   "metadata": {},
   "source": [
    "Ou l'inverse :"
   ]
  },
  {
   "cell_type": "code",
   "execution_count": 21,
   "metadata": {
    "ExecuteTime": {
     "end_time": "2019-01-11T14:17:44.143725Z",
     "start_time": "2019-01-11T14:17:44.126770Z"
    }
   },
   "outputs": [
    {
     "data": {
      "text/html": [
       "<div>\n",
       "<style scoped>\n",
       "    .dataframe tbody tr th:only-of-type {\n",
       "        vertical-align: middle;\n",
       "    }\n",
       "\n",
       "    .dataframe tbody tr th {\n",
       "        vertical-align: top;\n",
       "    }\n",
       "\n",
       "    .dataframe thead th {\n",
       "        text-align: right;\n",
       "    }\n",
       "</style>\n",
       "<table border=\"1\" class=\"dataframe\">\n",
       "  <thead>\n",
       "    <tr style=\"text-align: right;\">\n",
       "      <th></th>\n",
       "      <th>id</th>\n",
       "      <th>respid</th>\n",
       "      <th>extrtime</th>\n",
       "      <th>origin</th>\n",
       "      <th>destination</th>\n",
       "      <th>company</th>\n",
       "      <th>depdate</th>\n",
       "      <th>arrdate</th>\n",
       "      <th>duration</th>\n",
       "      <th>flighttype</th>\n",
       "      <th>price</th>\n",
       "      <th>stopover</th>\n",
       "      <th>stopovertime</th>\n",
       "      <th>stop_time</th>\n",
       "      <th>stop_place</th>\n",
       "    </tr>\n",
       "  </thead>\n",
       "  <tbody>\n",
       "    <tr>\n",
       "      <th>0</th>\n",
       "      <td>True</td>\n",
       "      <td>True</td>\n",
       "      <td>True</td>\n",
       "      <td>True</td>\n",
       "      <td>True</td>\n",
       "      <td>True</td>\n",
       "      <td>True</td>\n",
       "      <td>True</td>\n",
       "      <td>True</td>\n",
       "      <td>True</td>\n",
       "      <td>True</td>\n",
       "      <td>True</td>\n",
       "      <td>False</td>\n",
       "      <td>False</td>\n",
       "      <td>True</td>\n",
       "    </tr>\n",
       "    <tr>\n",
       "      <th>1</th>\n",
       "      <td>True</td>\n",
       "      <td>True</td>\n",
       "      <td>True</td>\n",
       "      <td>True</td>\n",
       "      <td>True</td>\n",
       "      <td>True</td>\n",
       "      <td>True</td>\n",
       "      <td>True</td>\n",
       "      <td>True</td>\n",
       "      <td>True</td>\n",
       "      <td>True</td>\n",
       "      <td>True</td>\n",
       "      <td>False</td>\n",
       "      <td>False</td>\n",
       "      <td>True</td>\n",
       "    </tr>\n",
       "    <tr>\n",
       "      <th>2</th>\n",
       "      <td>True</td>\n",
       "      <td>True</td>\n",
       "      <td>True</td>\n",
       "      <td>True</td>\n",
       "      <td>True</td>\n",
       "      <td>True</td>\n",
       "      <td>True</td>\n",
       "      <td>True</td>\n",
       "      <td>True</td>\n",
       "      <td>True</td>\n",
       "      <td>True</td>\n",
       "      <td>True</td>\n",
       "      <td>False</td>\n",
       "      <td>False</td>\n",
       "      <td>True</td>\n",
       "    </tr>\n",
       "    <tr>\n",
       "      <th>3</th>\n",
       "      <td>True</td>\n",
       "      <td>True</td>\n",
       "      <td>True</td>\n",
       "      <td>True</td>\n",
       "      <td>True</td>\n",
       "      <td>True</td>\n",
       "      <td>True</td>\n",
       "      <td>True</td>\n",
       "      <td>True</td>\n",
       "      <td>True</td>\n",
       "      <td>True</td>\n",
       "      <td>True</td>\n",
       "      <td>False</td>\n",
       "      <td>False</td>\n",
       "      <td>True</td>\n",
       "    </tr>\n",
       "    <tr>\n",
       "      <th>4</th>\n",
       "      <td>True</td>\n",
       "      <td>True</td>\n",
       "      <td>True</td>\n",
       "      <td>True</td>\n",
       "      <td>True</td>\n",
       "      <td>True</td>\n",
       "      <td>True</td>\n",
       "      <td>True</td>\n",
       "      <td>True</td>\n",
       "      <td>True</td>\n",
       "      <td>True</td>\n",
       "      <td>True</td>\n",
       "      <td>True</td>\n",
       "      <td>True</td>\n",
       "      <td>True</td>\n",
       "    </tr>\n",
       "  </tbody>\n",
       "</table>\n",
       "</div>"
      ],
      "text/plain": [
       "     id  respid  extrtime  origin  destination  company  depdate  arrdate  \\\n",
       "0  True    True      True    True         True     True     True     True   \n",
       "1  True    True      True    True         True     True     True     True   \n",
       "2  True    True      True    True         True     True     True     True   \n",
       "3  True    True      True    True         True     True     True     True   \n",
       "4  True    True      True    True         True     True     True     True   \n",
       "\n",
       "   duration  flighttype  price  stopover  stopovertime  stop_time  stop_place  \n",
       "0      True        True   True      True         False      False        True  \n",
       "1      True        True   True      True         False      False        True  \n",
       "2      True        True   True      True         False      False        True  \n",
       "3      True        True   True      True         False      False        True  \n",
       "4      True        True   True      True          True       True        True  "
      ]
     },
     "execution_count": 21,
     "metadata": {},
     "output_type": "execute_result"
    }
   ],
   "source": [
    "df_gflight.notnull().head()"
   ]
  },
  {
   "cell_type": "markdown",
   "metadata": {},
   "source": [
    "On peut les compter ainsi (car True est considéré = 1 et False = 0):"
   ]
  },
  {
   "cell_type": "code",
   "execution_count": 22,
   "metadata": {
    "ExecuteTime": {
     "end_time": "2019-01-11T14:17:45.816062Z",
     "start_time": "2019-01-11T14:17:45.807089Z"
    }
   },
   "outputs": [
    {
     "data": {
      "text/plain": [
       "id                0\n",
       "respid            0\n",
       "extrtime          0\n",
       "origin            0\n",
       "destination       0\n",
       "company           0\n",
       "depdate           0\n",
       "arrdate           0\n",
       "duration          2\n",
       "flighttype        0\n",
       "price            10\n",
       "stopover          0\n",
       "stopovertime    143\n",
       "stop_time       143\n",
       "stop_place        0\n",
       "dtype: int64"
      ]
     },
     "execution_count": 22,
     "metadata": {},
     "output_type": "execute_result"
    }
   ],
   "source": [
    "df_gflight.isnull().sum()"
   ]
  },
  {
   "cell_type": "markdown",
   "metadata": {},
   "source": [
    "## Supprimer les lignes où il y a des valeurs manquantes"
   ]
  },
  {
   "cell_type": "markdown",
   "metadata": {},
   "source": [
    "C'est typiquement ce qu'on voudra faire avec les valeurs manquantes sur notre variable expliquée"
   ]
  },
  {
   "cell_type": "code",
   "execution_count": 23,
   "metadata": {
    "ExecuteTime": {
     "end_time": "2019-01-11T14:17:47.605103Z",
     "start_time": "2019-01-11T14:17:47.598124Z"
    }
   },
   "outputs": [],
   "source": [
    "df_gflight = df_gflight.dropna(subset=['price'])"
   ]
  },
  {
   "cell_type": "code",
   "execution_count": 24,
   "metadata": {
    "ExecuteTime": {
     "end_time": "2019-01-11T14:17:48.876012Z",
     "start_time": "2019-01-11T14:17:48.863113Z"
    }
   },
   "outputs": [
    {
     "data": {
      "text/plain": [
       "id                0\n",
       "respid            0\n",
       "extrtime          0\n",
       "origin            0\n",
       "destination       0\n",
       "company           0\n",
       "depdate           0\n",
       "arrdate           0\n",
       "duration          1\n",
       "flighttype        0\n",
       "price             0\n",
       "stopover          0\n",
       "stopovertime    133\n",
       "stop_time       133\n",
       "stop_place        0\n",
       "dtype: int64"
      ]
     },
     "execution_count": 24,
     "metadata": {},
     "output_type": "execute_result"
    }
   ],
   "source": [
    "df_gflight.isnull().sum()"
   ]
  },
  {
   "cell_type": "markdown",
   "metadata": {},
   "source": [
    "## Initialiser les valeurs manquantes d'une variable explicative à la valeur moyenne"
   ]
  },
  {
   "cell_type": "code",
   "execution_count": 25,
   "metadata": {
    "ExecuteTime": {
     "end_time": "2019-01-11T14:17:50.626511Z",
     "start_time": "2019-01-11T14:17:50.603573Z"
    }
   },
   "outputs": [],
   "source": [
    "df_gflight['duration'] = df_gflight['duration'].fillna(df_gflight['duration'].mean())"
   ]
  },
  {
   "cell_type": "code",
   "execution_count": 26,
   "metadata": {
    "ExecuteTime": {
     "end_time": "2019-01-11T14:17:51.793750Z",
     "start_time": "2019-01-11T14:17:51.782780Z"
    }
   },
   "outputs": [
    {
     "data": {
      "text/plain": [
       "id                0\n",
       "respid            0\n",
       "extrtime          0\n",
       "origin            0\n",
       "destination       0\n",
       "company           0\n",
       "depdate           0\n",
       "arrdate           0\n",
       "duration          0\n",
       "flighttype        0\n",
       "price             0\n",
       "stopover          0\n",
       "stopovertime    133\n",
       "stop_time       133\n",
       "stop_place        0\n",
       "dtype: int64"
      ]
     },
     "execution_count": 26,
     "metadata": {},
     "output_type": "execute_result"
    }
   ],
   "source": [
    "df_gflight.isnull().sum()"
   ]
  },
  {
   "cell_type": "markdown",
   "metadata": {},
   "source": [
    "## Initialiser les valeurs manquantes d'une variable explicative à une modalité"
   ]
  },
  {
   "cell_type": "code",
   "execution_count": 27,
   "metadata": {
    "ExecuteTime": {
     "end_time": "2019-01-11T14:17:56.634483Z",
     "start_time": "2019-01-11T14:17:56.630496Z"
    }
   },
   "outputs": [],
   "source": [
    "df_gflight['stop_time'] = df_gflight['stop_time'].fillna(0)"
   ]
  },
  {
   "cell_type": "code",
   "execution_count": 28,
   "metadata": {
    "ExecuteTime": {
     "end_time": "2019-01-11T14:18:00.259627Z",
     "start_time": "2019-01-11T14:18:00.248656Z"
    },
    "scrolled": true
   },
   "outputs": [
    {
     "data": {
      "text/plain": [
       "id                0\n",
       "respid            0\n",
       "extrtime          0\n",
       "origin            0\n",
       "destination       0\n",
       "company           0\n",
       "depdate           0\n",
       "arrdate           0\n",
       "duration          0\n",
       "flighttype        0\n",
       "price             0\n",
       "stopover          0\n",
       "stopovertime    133\n",
       "stop_time         0\n",
       "stop_place        0\n",
       "dtype: int64"
      ]
     },
     "execution_count": 28,
     "metadata": {},
     "output_type": "execute_result"
    }
   ],
   "source": [
    "df_gflight.isnull().sum()"
   ]
  },
  {
   "cell_type": "markdown",
   "metadata": {},
   "source": [
    "<div class=\"alert alert-block alert-info\">\n",
    "<b>Pour aller plus loin:</b> <a href=https://pandas.pydata.org/pandas-docs/stable/missing_data.html> Tutoriel sur le <b>traitement des valeurs manquantes</b></a>\n",
    "</div>"
   ]
  },
  {
   "cell_type": "markdown",
   "metadata": {},
   "source": [
    "# Ajout/suppression de colonnes"
   ]
  },
  {
   "cell_type": "markdown",
   "metadata": {},
   "source": [
    "## Ajouter une colonne"
   ]
  },
  {
   "cell_type": "markdown",
   "metadata": {},
   "source": [
    "Ajoutons la Series représentant le temps en vol, qui est la différence entre la durée totale et le temps en correspondance :"
   ]
  },
  {
   "cell_type": "code",
   "execution_count": 29,
   "metadata": {
    "ExecuteTime": {
     "end_time": "2019-01-11T14:18:10.150218Z",
     "start_time": "2019-01-11T14:18:09.923979Z"
    }
   },
   "outputs": [],
   "source": [
    "df_gflight['inflight'] = df_gflight['duration'] - df_gflight['stop_time']"
   ]
  },
  {
   "cell_type": "markdown",
   "metadata": {},
   "source": [
    "## Supprimer une colonne"
   ]
  },
  {
   "cell_type": "markdown",
   "metadata": {},
   "source": [
    "Lorsqu'il y a des Series avec une seule modalité, elles sont généralement inutiles"
   ]
  },
  {
   "cell_type": "code",
   "execution_count": 30,
   "metadata": {
    "ExecuteTime": {
     "end_time": "2019-01-11T14:20:28.390719Z",
     "start_time": "2019-01-11T14:20:28.385734Z"
    },
    "scrolled": true
   },
   "outputs": [
    {
     "data": {
      "text/plain": [
       "array(['aller simple'], dtype=object)"
      ]
     },
     "execution_count": 30,
     "metadata": {},
     "output_type": "execute_result"
    }
   ],
   "source": [
    "df_gflight['flighttype'].unique()"
   ]
  },
  {
   "cell_type": "markdown",
   "metadata": {},
   "source": [
    "Profitons-en pour supprimer quelques Series inutiles"
   ]
  },
  {
   "cell_type": "code",
   "execution_count": 31,
   "metadata": {
    "ExecuteTime": {
     "end_time": "2019-01-11T14:20:31.748730Z",
     "start_time": "2019-01-11T14:20:31.742741Z"
    }
   },
   "outputs": [],
   "source": [
    "df_gflight = df_gflight.drop(['flighttype', 'stopovertime', 'id', 'respid', 'extrtime'], axis=1)"
   ]
  },
  {
   "cell_type": "markdown",
   "metadata": {},
   "source": [
    "**axis=1** car on veut supprimer des colonnes et que l'axe 0, ce sont les lignes"
   ]
  },
  {
   "cell_type": "markdown",
   "metadata": {},
   "source": [
    "# Séries temporelles"
   ]
  },
  {
   "cell_type": "markdown",
   "metadata": {},
   "source": [
    "## Conversion en format date"
   ]
  },
  {
   "cell_type": "markdown",
   "metadata": {},
   "source": [
    "Les variables temporelles en format texte sont aussi très difficiles à exploiter. On va **a minima** les transformer en objet **Timestamp** (l'objet de la librairie pandas permettant de donner une valeur temporelle précise)"
   ]
  },
  {
   "cell_type": "code",
   "execution_count": 32,
   "metadata": {
    "ExecuteTime": {
     "end_time": "2019-01-11T14:20:34.634908Z",
     "start_time": "2019-01-11T14:20:34.611906Z"
    }
   },
   "outputs": [],
   "source": [
    "for elem in ['depdate', 'arrdate']:\n",
    "    df_gflight[elem] = pd.to_datetime(df_gflight[elem])"
   ]
  },
  {
   "cell_type": "markdown",
   "metadata": {},
   "source": [
    "Normalement, to_datetime() fonctionne bien (surtout quand on lui demande de travailler sur un grand nombre de cas possibles, car il a alors moins de chance de se tromper en déterminant automatiquement un format de date/heure)\n",
    "\n",
    "Mais on peut le forcer à adopter un format précis pour éviter toute erreur :"
   ]
  },
  {
   "cell_type": "code",
   "execution_count": 33,
   "metadata": {
    "ExecuteTime": {
     "end_time": "2019-01-11T14:20:36.584229Z",
     "start_time": "2019-01-11T14:20:36.578207Z"
    }
   },
   "outputs": [
    {
     "data": {
      "text/plain": [
       "0   2016-03-15 12:35:00\n",
       "1   2016-03-15 16:40:00\n",
       "2   2016-03-15 21:05:00\n",
       "3   2016-03-15 19:30:00\n",
       "4   2016-03-15 13:20:00\n",
       "Name: depdate, dtype: datetime64[ns]"
      ]
     },
     "execution_count": 33,
     "metadata": {},
     "output_type": "execute_result"
    }
   ],
   "source": [
    "pd.to_datetime(df_gflight['depdate'], format='%Y-%m-%dT%H:%M:%S').head()"
   ]
  },
  {
   "cell_type": "markdown",
   "metadata": {},
   "source": [
    "## Conversion en float"
   ]
  },
  {
   "cell_type": "markdown",
   "metadata": {},
   "source": [
    "Le format de séries temporelles que nous avons utilisé ne va pas nous convenir pour les régressions et les algotithmes de Data Science (il nous... On peut ajouter des colonnes calculant des timedelta, un nombre d'unité de temps (des jours par exemple, **D**) depuis une date de référence. Une bonne idée peut être de prendre la plus ancienne des dates des colonnes concernées..."
   ]
  },
  {
   "cell_type": "code",
   "execution_count": 34,
   "metadata": {
    "ExecuteTime": {
     "end_time": "2019-01-11T14:20:39.363856Z",
     "start_time": "2019-01-11T14:20:39.356876Z"
    }
   },
   "outputs": [
    {
     "data": {
      "text/plain": [
       "Timestamp('2016-03-15 06:00:00')"
      ]
     },
     "execution_count": 34,
     "metadata": {},
     "output_type": "execute_result"
    }
   ],
   "source": [
    "df_gflight['depdate'].min()"
   ]
  },
  {
   "cell_type": "code",
   "execution_count": 35,
   "metadata": {
    "ExecuteTime": {
     "end_time": "2019-01-11T14:20:41.011700Z",
     "start_time": "2019-01-11T14:20:41.005721Z"
    }
   },
   "outputs": [
    {
     "data": {
      "text/plain": [
       "Timestamp('2016-03-15 21:55:00')"
      ]
     },
     "execution_count": 35,
     "metadata": {},
     "output_type": "execute_result"
    }
   ],
   "source": [
    "df_gflight['depdate'].max()"
   ]
  },
  {
   "cell_type": "code",
   "execution_count": 36,
   "metadata": {
    "ExecuteTime": {
     "end_time": "2019-01-11T14:20:43.063673Z",
     "start_time": "2019-01-11T14:20:43.054696Z"
    }
   },
   "outputs": [],
   "source": [
    "df_gflight['time'] = (df_gflight['depdate'] - df_gflight['depdate'].min()) / np.timedelta64(1,'D')"
   ]
  },
  {
   "cell_type": "markdown",
   "metadata": {},
   "source": [
    "<div class=\"alert alert-block alert-info\"><b>Pour aller plus loin :</b> <a href=https://docs.scipy.org/doc/numpy/reference/arrays.datetime.html> Doc officielle Numpy sur les <b>objets datetime</b></a></div>"
   ]
  },
  {
   "cell_type": "markdown",
   "metadata": {},
   "source": [
    "## Objet .dt"
   ]
  },
  {
   "cell_type": "markdown",
   "metadata": {},
   "source": [
    "Comme pour les Series de chaines de caractères, pour lesquelles il existe un objet **.str**, pour les Series de dates, il existe un objet **.dt** qui permet de faire appel aux méthode des objets **datetime.datetime**"
   ]
  },
  {
   "cell_type": "code",
   "execution_count": 37,
   "metadata": {
    "ExecuteTime": {
     "end_time": "2019-01-11T14:20:49.589853Z",
     "start_time": "2019-01-11T14:20:49.579880Z"
    }
   },
   "outputs": [
    {
     "data": {
      "text/plain": [
       "6191    13\n",
       "1751    13\n",
       "920     19\n",
       "114     10\n",
       "2074    13\n",
       "Name: depdate, dtype: int64"
      ]
     },
     "execution_count": 37,
     "metadata": {},
     "output_type": "execute_result"
    }
   ],
   "source": [
    "df_gflight['depdate'].dt.hour.sample(5)"
   ]
  },
  {
   "cell_type": "code",
   "execution_count": 38,
   "metadata": {
    "ExecuteTime": {
     "end_time": "2019-01-11T14:20:51.082709Z",
     "start_time": "2019-01-11T14:20:51.075729Z"
    }
   },
   "outputs": [
    {
     "data": {
      "text/plain": [
       "3195    1\n",
       "1284    1\n",
       "3703    1\n",
       "2032    1\n",
       "5938    1\n",
       "Name: depdate, dtype: int64"
      ]
     },
     "execution_count": 38,
     "metadata": {},
     "output_type": "execute_result"
    }
   ],
   "source": [
    "df_gflight['depdate'].dt.dayofweek.sample(5)"
   ]
  },
  {
   "cell_type": "code",
   "execution_count": 39,
   "metadata": {
    "ExecuteTime": {
     "end_time": "2019-01-11T14:20:54.089395Z",
     "start_time": "2019-01-11T14:20:54.077427Z"
    },
    "scrolled": true
   },
   "outputs": [
    {
     "data": {
      "text/plain": [
       "3497    15:05:00\n",
       "4183    18:35:00\n",
       "1147    19:00:00\n",
       "4968    08:50:00\n",
       "5317    06:40:00\n",
       "Name: depdate, dtype: object"
      ]
     },
     "execution_count": 39,
     "metadata": {},
     "output_type": "execute_result"
    }
   ],
   "source": [
    "df_gflight['depdate'].dt.time.sample(5)"
   ]
  },
  {
   "cell_type": "markdown",
   "metadata": {},
   "source": [
    "<div class=\"alert alert-block alert-info\">\n",
    "<b>Pour aller plus loin:</b> <a href=https://pandas.pydata.org/pandas-docs/stable/timeseries.html> Tutoriel sur le <b>traitement des séries temporelles</b></a>\n",
    "</div>"
   ]
  },
  {
   "cell_type": "markdown",
   "metadata": {},
   "source": [
    "# Catégories"
   ]
  },
  {
   "cell_type": "markdown",
   "metadata": {},
   "source": [
    "## Object ou Category"
   ]
  },
  {
   "cell_type": "markdown",
   "metadata": {},
   "source": [
    "Généralement, on essaie de faire en sorte d'avoir le moins de colonnes de type **object** (**str**) dans nos DataFrame, c'est le type que pandas assigne par défaut aux données qui ont l'air d'être des chaines de caractères.\n",
    "\n",
    "Ce type pose deux problèmes:\n",
    "- Il prend beaucoup de place en mémoire\n",
    "- Il est le plus difficile à traiter dans le cadre de l'analyse\n",
    "\n",
    "Et c'est rare qu'une colonne ait de bonnes raisons d'être de ce type (à part les trucs du genre colonne de commentaires). On va généralement convertir le plus de colonnes possible en types standardisés, plus faciles à exploiter ou retransformer\n",
    "\n",
    "A l'inverse, dans les Data Science, on aime les nombres à virgule, les **float** qui sont utilisables par les algorithmes."
   ]
  },
  {
   "cell_type": "code",
   "execution_count": 40,
   "metadata": {
    "ExecuteTime": {
     "end_time": "2019-01-11T14:21:01.617830Z",
     "start_time": "2019-01-11T14:21:01.606822Z"
    }
   },
   "outputs": [
    {
     "name": "stdout",
     "output_type": "stream",
     "text": [
      "<class 'pandas.core.frame.DataFrame'>\n",
      "Int64Index: 6805 entries, 0 to 6814\n",
      "Data columns (total 12 columns):\n",
      "origin         6805 non-null object\n",
      "destination    6805 non-null object\n",
      "company        6805 non-null object\n",
      "depdate        6805 non-null datetime64[ns]\n",
      "arrdate        6805 non-null datetime64[ns]\n",
      "duration       6805 non-null float64\n",
      "price          6805 non-null float64\n",
      "stopover       6805 non-null int64\n",
      "stop_time      6805 non-null float64\n",
      "stop_place     6805 non-null object\n",
      "inflight       6805 non-null float64\n",
      "time           6805 non-null float64\n",
      "dtypes: datetime64[ns](2), float64(5), int64(1), object(4)\n",
      "memory usage: 691.1+ KB\n"
     ]
    }
   ],
   "source": [
    "df_gflight.info()"
   ]
  },
  {
   "cell_type": "markdown",
   "metadata": {},
   "source": [
    "## Générer des catégories"
   ]
  },
  {
   "cell_type": "markdown",
   "metadata": {},
   "source": [
    "On peut convertir les colonnes en utilisant la méthode **pandas.Series.astype('category')**"
   ]
  },
  {
   "cell_type": "code",
   "execution_count": 41,
   "metadata": {
    "ExecuteTime": {
     "end_time": "2019-01-11T14:21:04.507333Z",
     "start_time": "2019-01-11T14:21:04.492373Z"
    }
   },
   "outputs": [],
   "source": [
    "for elem in ['origin', 'destination', 'stopover', 'company', 'stop_place']:\n",
    "    df_gflight[elem] = df_gflight[elem].astype('category')"
   ]
  },
  {
   "cell_type": "code",
   "execution_count": 42,
   "metadata": {
    "ExecuteTime": {
     "end_time": "2019-01-11T14:21:06.450971Z",
     "start_time": "2019-01-11T14:21:06.441968Z"
    }
   },
   "outputs": [
    {
     "name": "stdout",
     "output_type": "stream",
     "text": [
      "<class 'pandas.core.frame.DataFrame'>\n",
      "Int64Index: 6805 entries, 0 to 6814\n",
      "Data columns (total 12 columns):\n",
      "origin         6805 non-null category\n",
      "destination    6805 non-null category\n",
      "company        6805 non-null category\n",
      "depdate        6805 non-null datetime64[ns]\n",
      "arrdate        6805 non-null datetime64[ns]\n",
      "duration       6805 non-null float64\n",
      "price          6805 non-null float64\n",
      "stopover       6805 non-null category\n",
      "stop_time      6805 non-null float64\n",
      "stop_place     6805 non-null category\n",
      "inflight       6805 non-null float64\n",
      "time           6805 non-null float64\n",
      "dtypes: category(5), datetime64[ns](2), float64(5)\n",
      "memory usage: 461.7 KB\n"
     ]
    }
   ],
   "source": [
    "df_gflight.info()"
   ]
  },
  {
   "cell_type": "markdown",
   "metadata": {},
   "source": [
    "## Objet .cat"
   ]
  },
  {
   "cell_type": "markdown",
   "metadata": {},
   "source": [
    "De même que les chaines de caractères ont **.str** et les dates ont **.dt**, les catégories ont **.cat**"
   ]
  },
  {
   "cell_type": "code",
   "execution_count": 43,
   "metadata": {
    "ExecuteTime": {
     "end_time": "2019-01-11T14:21:12.482012Z",
     "start_time": "2019-01-11T14:21:12.472038Z"
    }
   },
   "outputs": [
    {
     "data": {
      "text/plain": [
       "3110    NTE\n",
       "1530    MRS\n",
       "2972    MPL\n",
       "5262    BES\n",
       "855     TLS\n",
       "Name: origin, dtype: category\n",
       "Categories (18, object): [BES, BOD, CDG, LAI, ..., SXB, TLN, TLS, UIP]"
      ]
     },
     "execution_count": 43,
     "metadata": {},
     "output_type": "execute_result"
    }
   ],
   "source": [
    "df_gflight['origin'].sample(5)"
   ]
  },
  {
   "cell_type": "code",
   "execution_count": 44,
   "metadata": {
    "ExecuteTime": {
     "end_time": "2019-01-11T14:21:15.069679Z",
     "start_time": "2019-01-11T14:21:15.062698Z"
    }
   },
   "outputs": [
    {
     "data": {
      "text/plain": [
       "4414    11\n",
       "3861    11\n",
       "1478     9\n",
       "2900     8\n",
       "1238     1\n",
       "dtype: int8"
      ]
     },
     "execution_count": 44,
     "metadata": {},
     "output_type": "execute_result"
    }
   ],
   "source": [
    "df_gflight['origin'].cat.codes.sample(5)"
   ]
  },
  {
   "cell_type": "code",
   "execution_count": 45,
   "metadata": {
    "ExecuteTime": {
     "end_time": "2019-01-11T14:21:17.228881Z",
     "start_time": "2019-01-11T14:21:17.224891Z"
    }
   },
   "outputs": [
    {
     "data": {
      "text/plain": [
       "Index(['BES', 'BOD', 'CDG', 'LAI', 'LIL', 'LRT', 'LYS', 'MLH', 'MPL', 'MRS',\n",
       "       'NCE', 'NTE', 'ORY', 'RNS', 'SXB', 'TLN', 'TLS', 'UIP'],\n",
       "      dtype='object')"
      ]
     },
     "execution_count": 45,
     "metadata": {},
     "output_type": "execute_result"
    }
   ],
   "source": [
    "df_gflight['origin'].cat.categories"
   ]
  },
  {
   "cell_type": "markdown",
   "metadata": {},
   "source": [
    "<div class=\"alert alert-block alert-info\">\n",
    "<b>Pour aller plus loin:</b> <a href=https://pandas.pydata.org/pandas-docs/stable/categorical.html> Tutoriel sur le <b>traitement des catégories</b></a>\n",
    "</div>"
   ]
  },
  {
   "cell_type": "markdown",
   "metadata": {},
   "source": [
    "## Génération de variables muettes"
   ]
  },
  {
   "cell_type": "markdown",
   "metadata": {},
   "source": [
    "Les variables catégorielles posent encore plus de problèmes, auxquels on peut apporter plusieurs solutions:\n",
    "- transformer les variables en dummies à deux modalités en choix 0 / 1\n",
    "- transformer les variables multimodales :\n",
    "    - soit en équivalent numérique si ça a un sens, si l'on pense que la distance numérique entre deux modalités correspond à ce que l'on au modélise... (par exemple : 1, 2 ou 3 chambres ? Est-ce que la distance entre 1 et 2 chambres est bien égale à la distance entre 2 et 3 chambres? Souvent ce ne sera pas un bon choix en termes de modèle)\n",
    "    - soit en une série de variables oui / non (souvent un meilleur choix lorsque l'on peut se permettre de perdre le nombre de degrés de liberté correspondant au nombre de modalités - 1), en retirant toujours une modalité de référence\n",
    "    - soit en une valeur numérique \"représentant\" la modalité (centre de gravité ou autre)"
   ]
  },
  {
   "cell_type": "markdown",
   "metadata": {},
   "source": [
    "Une solution est de générer automatiquement des dummies à partir de catégories de type chaine de caractère en utilisant la fonction **pandas.get_dummies(series)** (**conseil :** utilisez-là avec l'option **drop_first=True** ou supprimez manuelement la serie qui servira de référence, pour éviter d'avoir un problème de **multicolinéarité parfaite** lors d'une régression) "
   ]
  },
  {
   "cell_type": "code",
   "execution_count": 46,
   "metadata": {
    "ExecuteTime": {
     "end_time": "2019-01-11T14:24:02.268132Z",
     "start_time": "2019-01-11T14:24:02.237215Z"
    }
   },
   "outputs": [
    {
     "data": {
      "text/html": [
       "<div>\n",
       "<style scoped>\n",
       "    .dataframe tbody tr th:only-of-type {\n",
       "        vertical-align: middle;\n",
       "    }\n",
       "\n",
       "    .dataframe tbody tr th {\n",
       "        vertical-align: top;\n",
       "    }\n",
       "\n",
       "    .dataframe thead th {\n",
       "        text-align: right;\n",
       "    }\n",
       "</style>\n",
       "<table border=\"1\" class=\"dataframe\">\n",
       "  <thead>\n",
       "    <tr style=\"text-align: right;\">\n",
       "      <th></th>\n",
       "      <th>BOD</th>\n",
       "      <th>CDG</th>\n",
       "      <th>LAI</th>\n",
       "      <th>LIL</th>\n",
       "      <th>LRT</th>\n",
       "      <th>LYS</th>\n",
       "      <th>MLH</th>\n",
       "      <th>MPL</th>\n",
       "      <th>MRS</th>\n",
       "      <th>NCE</th>\n",
       "      <th>NTE</th>\n",
       "      <th>ORY</th>\n",
       "      <th>RNS</th>\n",
       "      <th>SXB</th>\n",
       "      <th>TLN</th>\n",
       "      <th>TLS</th>\n",
       "      <th>UIP</th>\n",
       "    </tr>\n",
       "  </thead>\n",
       "  <tbody>\n",
       "    <tr>\n",
       "      <th>292</th>\n",
       "      <td>0</td>\n",
       "      <td>0</td>\n",
       "      <td>0</td>\n",
       "      <td>0</td>\n",
       "      <td>0</td>\n",
       "      <td>0</td>\n",
       "      <td>0</td>\n",
       "      <td>0</td>\n",
       "      <td>0</td>\n",
       "      <td>0</td>\n",
       "      <td>1</td>\n",
       "      <td>0</td>\n",
       "      <td>0</td>\n",
       "      <td>0</td>\n",
       "      <td>0</td>\n",
       "      <td>0</td>\n",
       "      <td>0</td>\n",
       "    </tr>\n",
       "    <tr>\n",
       "      <th>6359</th>\n",
       "      <td>0</td>\n",
       "      <td>0</td>\n",
       "      <td>0</td>\n",
       "      <td>0</td>\n",
       "      <td>0</td>\n",
       "      <td>1</td>\n",
       "      <td>0</td>\n",
       "      <td>0</td>\n",
       "      <td>0</td>\n",
       "      <td>0</td>\n",
       "      <td>0</td>\n",
       "      <td>0</td>\n",
       "      <td>0</td>\n",
       "      <td>0</td>\n",
       "      <td>0</td>\n",
       "      <td>0</td>\n",
       "      <td>0</td>\n",
       "    </tr>\n",
       "    <tr>\n",
       "      <th>3350</th>\n",
       "      <td>0</td>\n",
       "      <td>0</td>\n",
       "      <td>0</td>\n",
       "      <td>0</td>\n",
       "      <td>0</td>\n",
       "      <td>0</td>\n",
       "      <td>0</td>\n",
       "      <td>0</td>\n",
       "      <td>0</td>\n",
       "      <td>0</td>\n",
       "      <td>0</td>\n",
       "      <td>0</td>\n",
       "      <td>1</td>\n",
       "      <td>0</td>\n",
       "      <td>0</td>\n",
       "      <td>0</td>\n",
       "      <td>0</td>\n",
       "    </tr>\n",
       "    <tr>\n",
       "      <th>6349</th>\n",
       "      <td>0</td>\n",
       "      <td>0</td>\n",
       "      <td>0</td>\n",
       "      <td>0</td>\n",
       "      <td>0</td>\n",
       "      <td>1</td>\n",
       "      <td>0</td>\n",
       "      <td>0</td>\n",
       "      <td>0</td>\n",
       "      <td>0</td>\n",
       "      <td>0</td>\n",
       "      <td>0</td>\n",
       "      <td>0</td>\n",
       "      <td>0</td>\n",
       "      <td>0</td>\n",
       "      <td>0</td>\n",
       "      <td>0</td>\n",
       "    </tr>\n",
       "    <tr>\n",
       "      <th>403</th>\n",
       "      <td>0</td>\n",
       "      <td>0</td>\n",
       "      <td>0</td>\n",
       "      <td>0</td>\n",
       "      <td>0</td>\n",
       "      <td>0</td>\n",
       "      <td>0</td>\n",
       "      <td>0</td>\n",
       "      <td>0</td>\n",
       "      <td>0</td>\n",
       "      <td>1</td>\n",
       "      <td>0</td>\n",
       "      <td>0</td>\n",
       "      <td>0</td>\n",
       "      <td>0</td>\n",
       "      <td>0</td>\n",
       "      <td>0</td>\n",
       "    </tr>\n",
       "  </tbody>\n",
       "</table>\n",
       "</div>"
      ],
      "text/plain": [
       "      BOD  CDG  LAI  LIL  LRT  LYS  MLH  MPL  MRS  NCE  NTE  ORY  RNS  SXB  \\\n",
       "292     0    0    0    0    0    0    0    0    0    0    1    0    0    0   \n",
       "6359    0    0    0    0    0    1    0    0    0    0    0    0    0    0   \n",
       "3350    0    0    0    0    0    0    0    0    0    0    0    0    1    0   \n",
       "6349    0    0    0    0    0    1    0    0    0    0    0    0    0    0   \n",
       "403     0    0    0    0    0    0    0    0    0    0    1    0    0    0   \n",
       "\n",
       "      TLN  TLS  UIP  \n",
       "292     0    0    0  \n",
       "6359    0    0    0  \n",
       "3350    0    0    0  \n",
       "6349    0    0    0  \n",
       "403     0    0    0  "
      ]
     },
     "execution_count": 46,
     "metadata": {},
     "output_type": "execute_result"
    }
   ],
   "source": [
    "df_dummies = pd.get_dummies(df_gflight['destination'], drop_first=True)\n",
    "df_dummies.sample(5)"
   ]
  },
  {
   "cell_type": "markdown",
   "metadata": {
    "ExecuteTime": {
     "end_time": "2018-09-12T19:58:46.817404Z",
     "start_time": "2018-09-12T19:58:46.806404Z"
    }
   },
   "source": [
    "On peut ensuite ajouter ces nouvelles variables en faisant une concaténation"
   ]
  },
  {
   "cell_type": "markdown",
   "metadata": {},
   "source": [
    "# Ecriture dans un fichier"
   ]
  },
  {
   "cell_type": "markdown",
   "metadata": {},
   "source": [
    "Stockons cette base de données modifiée, sous format Excel (pour visualiser facilement les données"
   ]
  },
  {
   "cell_type": "code",
   "execution_count": 47,
   "metadata": {
    "ExecuteTime": {
     "end_time": "2019-01-11T14:24:10.085899Z",
     "start_time": "2019-01-11T14:24:07.600277Z"
    }
   },
   "outputs": [],
   "source": [
    "df_gflight.to_excel('../output/Output_GFLT.xlsx')"
   ]
  },
  {
   "cell_type": "markdown",
   "metadata": {},
   "source": [
    "Sous format **Pickle** (le format pure Python) juste pour pouvoir récupérer les données dans un autre notebook à **100% identique au DataFrame que nous avons ici**.\n",
    "\n",
    "Les **catégories** en particulier sont un type qu'Excel ne sait pas gérer contrairement à Python... On perdrait donc cela en rechargeant depuis le fichier Excel)"
   ]
  },
  {
   "cell_type": "code",
   "execution_count": 48,
   "metadata": {
    "ExecuteTime": {
     "end_time": "2019-01-11T14:25:35.336220Z",
     "start_time": "2019-01-11T14:25:35.321194Z"
    }
   },
   "outputs": [],
   "source": [
    "df_gflight.to_pickle('../output/Output_GFLT.pickle')"
   ]
  },
  {
   "cell_type": "markdown",
   "metadata": {},
   "source": [
    "# Jointures et concatenations"
   ]
  },
  {
   "cell_type": "markdown",
   "metadata": {},
   "source": [
    "## Concaténation"
   ]
  },
  {
   "cell_type": "markdown",
   "metadata": {},
   "source": [
    "On peut facilement ajouter des lignes à un DataFrame en utilisant la fonction **pandas.concat()**. \n",
    "\n",
    "Elle prend comme seul argument obligatoire un **tuple** ou une **list** de **DataFrame** (on peut en concatener plusieurs d'un coup)"
   ]
  },
  {
   "cell_type": "code",
   "execution_count": 49,
   "metadata": {
    "ExecuteTime": {
     "end_time": "2019-01-11T14:26:00.444307Z",
     "start_time": "2019-01-11T14:26:00.413389Z"
    }
   },
   "outputs": [
    {
     "data": {
      "text/html": [
       "<div>\n",
       "<style scoped>\n",
       "    .dataframe tbody tr th:only-of-type {\n",
       "        vertical-align: middle;\n",
       "    }\n",
       "\n",
       "    .dataframe tbody tr th {\n",
       "        vertical-align: top;\n",
       "    }\n",
       "\n",
       "    .dataframe thead th {\n",
       "        text-align: right;\n",
       "    }\n",
       "</style>\n",
       "<table border=\"1\" class=\"dataframe\">\n",
       "  <thead>\n",
       "    <tr style=\"text-align: right;\">\n",
       "      <th></th>\n",
       "      <th>origin</th>\n",
       "      <th>destination</th>\n",
       "      <th>company</th>\n",
       "      <th>depdate</th>\n",
       "      <th>arrdate</th>\n",
       "      <th>duration</th>\n",
       "      <th>price</th>\n",
       "      <th>stopover</th>\n",
       "      <th>stop_time</th>\n",
       "      <th>stop_place</th>\n",
       "      <th>...</th>\n",
       "      <th>MPL</th>\n",
       "      <th>MRS</th>\n",
       "      <th>NCE</th>\n",
       "      <th>NTE</th>\n",
       "      <th>ORY</th>\n",
       "      <th>RNS</th>\n",
       "      <th>SXB</th>\n",
       "      <th>TLN</th>\n",
       "      <th>TLS</th>\n",
       "      <th>UIP</th>\n",
       "    </tr>\n",
       "  </thead>\n",
       "  <tbody>\n",
       "    <tr>\n",
       "      <th>3075</th>\n",
       "      <td>MRS</td>\n",
       "      <td>RNS</td>\n",
       "      <td>HOP!-HOP!</td>\n",
       "      <td>2016-03-15 16:50:00</td>\n",
       "      <td>2016-03-15 21:30:00</td>\n",
       "      <td>4.666667</td>\n",
       "      <td>128.0</td>\n",
       "      <td>1</td>\n",
       "      <td>2.416667</td>\n",
       "      <td>TLS</td>\n",
       "      <td>...</td>\n",
       "      <td>0</td>\n",
       "      <td>0</td>\n",
       "      <td>0</td>\n",
       "      <td>0</td>\n",
       "      <td>0</td>\n",
       "      <td>1</td>\n",
       "      <td>0</td>\n",
       "      <td>0</td>\n",
       "      <td>0</td>\n",
       "      <td>0</td>\n",
       "    </tr>\n",
       "    <tr>\n",
       "      <th>5210</th>\n",
       "      <td>BES</td>\n",
       "      <td>TLS</td>\n",
       "      <td>Air France-Air France</td>\n",
       "      <td>2016-03-15 06:15:00</td>\n",
       "      <td>2016-03-15 21:50:00</td>\n",
       "      <td>15.583333</td>\n",
       "      <td>172.0</td>\n",
       "      <td>1</td>\n",
       "      <td>13.083333</td>\n",
       "      <td>ORY</td>\n",
       "      <td>...</td>\n",
       "      <td>0</td>\n",
       "      <td>0</td>\n",
       "      <td>0</td>\n",
       "      <td>0</td>\n",
       "      <td>0</td>\n",
       "      <td>0</td>\n",
       "      <td>0</td>\n",
       "      <td>0</td>\n",
       "      <td>1</td>\n",
       "      <td>0</td>\n",
       "    </tr>\n",
       "    <tr>\n",
       "      <th>3097</th>\n",
       "      <td>NTE</td>\n",
       "      <td>MLH</td>\n",
       "      <td>Air France-Air France</td>\n",
       "      <td>2016-03-15 14:25:00</td>\n",
       "      <td>2016-03-16 09:05:00</td>\n",
       "      <td>18.666667</td>\n",
       "      <td>95.0</td>\n",
       "      <td>1</td>\n",
       "      <td>16.583333</td>\n",
       "      <td>ORY</td>\n",
       "      <td>...</td>\n",
       "      <td>0</td>\n",
       "      <td>0</td>\n",
       "      <td>0</td>\n",
       "      <td>0</td>\n",
       "      <td>0</td>\n",
       "      <td>0</td>\n",
       "      <td>0</td>\n",
       "      <td>0</td>\n",
       "      <td>0</td>\n",
       "      <td>0</td>\n",
       "    </tr>\n",
       "    <tr>\n",
       "      <th>1233</th>\n",
       "      <td>BOD</td>\n",
       "      <td>BES</td>\n",
       "      <td>Air France-Air France</td>\n",
       "      <td>2016-03-15 11:30:00</td>\n",
       "      <td>2016-03-15 22:40:00</td>\n",
       "      <td>11.166667</td>\n",
       "      <td>82.0</td>\n",
       "      <td>1</td>\n",
       "      <td>8.750000</td>\n",
       "      <td>CDG</td>\n",
       "      <td>...</td>\n",
       "      <td>0</td>\n",
       "      <td>0</td>\n",
       "      <td>0</td>\n",
       "      <td>0</td>\n",
       "      <td>0</td>\n",
       "      <td>0</td>\n",
       "      <td>0</td>\n",
       "      <td>0</td>\n",
       "      <td>0</td>\n",
       "      <td>0</td>\n",
       "    </tr>\n",
       "    <tr>\n",
       "      <th>5418</th>\n",
       "      <td>LRT</td>\n",
       "      <td>ORY</td>\n",
       "      <td>Air France</td>\n",
       "      <td>2016-03-15 10:35:00</td>\n",
       "      <td>2016-03-15 12:00:00</td>\n",
       "      <td>1.416667</td>\n",
       "      <td>51.0</td>\n",
       "      <td>0</td>\n",
       "      <td>0.000000</td>\n",
       "      <td></td>\n",
       "      <td>...</td>\n",
       "      <td>0</td>\n",
       "      <td>0</td>\n",
       "      <td>0</td>\n",
       "      <td>0</td>\n",
       "      <td>1</td>\n",
       "      <td>0</td>\n",
       "      <td>0</td>\n",
       "      <td>0</td>\n",
       "      <td>0</td>\n",
       "      <td>0</td>\n",
       "    </tr>\n",
       "  </tbody>\n",
       "</table>\n",
       "<p>5 rows × 29 columns</p>\n",
       "</div>"
      ],
      "text/plain": [
       "     origin destination                company             depdate  \\\n",
       "3075    MRS         RNS              HOP!-HOP! 2016-03-15 16:50:00   \n",
       "5210    BES         TLS  Air France-Air France 2016-03-15 06:15:00   \n",
       "3097    NTE         MLH  Air France-Air France 2016-03-15 14:25:00   \n",
       "1233    BOD         BES  Air France-Air France 2016-03-15 11:30:00   \n",
       "5418    LRT         ORY             Air France 2016-03-15 10:35:00   \n",
       "\n",
       "                 arrdate   duration  price stopover  stop_time stop_place  \\\n",
       "3075 2016-03-15 21:30:00   4.666667  128.0        1   2.416667        TLS   \n",
       "5210 2016-03-15 21:50:00  15.583333  172.0        1  13.083333        ORY   \n",
       "3097 2016-03-16 09:05:00  18.666667   95.0        1  16.583333        ORY   \n",
       "1233 2016-03-15 22:40:00  11.166667   82.0        1   8.750000        CDG   \n",
       "5418 2016-03-15 12:00:00   1.416667   51.0        0   0.000000              \n",
       "\n",
       "     ...   MPL  MRS  NCE  NTE  ORY  RNS  SXB  TLN  TLS  UIP  \n",
       "3075 ...     0    0    0    0    0    1    0    0    0    0  \n",
       "5210 ...     0    0    0    0    0    0    0    0    1    0  \n",
       "3097 ...     0    0    0    0    0    0    0    0    0    0  \n",
       "1233 ...     0    0    0    0    0    0    0    0    0    0  \n",
       "5418 ...     0    0    0    0    1    0    0    0    0    0  \n",
       "\n",
       "[5 rows x 29 columns]"
      ]
     },
     "execution_count": 49,
     "metadata": {},
     "output_type": "execute_result"
    }
   ],
   "source": [
    "df_gflight_avec_dummies = pd.concat([df_gflight, df_dummies], axis=1)\n",
    "\n",
    "df_gflight_avec_dummies.sample(5)"
   ]
  },
  {
   "cell_type": "markdown",
   "metadata": {},
   "source": [
    "Attention, ici il faut concatener des DataFrame dans le sens des colonnes, pas dans le sens des lignes, il faut alors spécifier le paramètre **axis=1**"
   ]
  },
  {
   "cell_type": "markdown",
   "metadata": {},
   "source": [
    "<div class=\"alert alert-block alert-info\"><b>Pour aller plus loin :</b> <a href=https://pandas.pydata.org/pandas-docs/stable/generated/pandas.concat.html> Doc officielle sur la méthode <b> .concat()</b></a></div>"
   ]
  },
  {
   "cell_type": "markdown",
   "metadata": {},
   "source": [
    "## Jointure"
   ]
  },
  {
   "cell_type": "code",
   "execution_count": 50,
   "metadata": {
    "ExecuteTime": {
     "end_time": "2019-01-11T14:27:05.199745Z",
     "start_time": "2019-01-11T14:27:05.165838Z"
    }
   },
   "outputs": [],
   "source": [
    "df_aero = pd.read_csv('../data/airports.csv', sep=';')"
   ]
  },
  {
   "cell_type": "code",
   "execution_count": 51,
   "metadata": {
    "ExecuteTime": {
     "end_time": "2019-01-11T14:27:07.052692Z",
     "start_time": "2019-01-11T14:27:07.041720Z"
    }
   },
   "outputs": [
    {
     "data": {
      "text/html": [
       "<div>\n",
       "<style scoped>\n",
       "    .dataframe tbody tr th:only-of-type {\n",
       "        vertical-align: middle;\n",
       "    }\n",
       "\n",
       "    .dataframe tbody tr th {\n",
       "        vertical-align: top;\n",
       "    }\n",
       "\n",
       "    .dataframe thead th {\n",
       "        text-align: right;\n",
       "    }\n",
       "</style>\n",
       "<table border=\"1\" class=\"dataframe\">\n",
       "  <thead>\n",
       "    <tr style=\"text-align: right;\">\n",
       "      <th></th>\n",
       "      <th>Iter</th>\n",
       "      <th>Req</th>\n",
       "      <th>Resp</th>\n",
       "      <th>T_Iter</th>\n",
       "      <th>T_Req</th>\n",
       "      <th>Code</th>\n",
       "      <th>Name</th>\n",
       "    </tr>\n",
       "  </thead>\n",
       "  <tbody>\n",
       "    <tr>\n",
       "      <th>0</th>\n",
       "      <td>NaN</td>\n",
       "      <td>1</td>\n",
       "      <td>1</td>\n",
       "      <td>NaN</td>\n",
       "      <td>2017-05-14 00:17:55</td>\n",
       "      <td>AAA</td>\n",
       "      <td>Anaa</td>\n",
       "    </tr>\n",
       "    <tr>\n",
       "      <th>1</th>\n",
       "      <td>NaN</td>\n",
       "      <td>1</td>\n",
       "      <td>2</td>\n",
       "      <td>NaN</td>\n",
       "      <td>2017-05-14 00:17:55</td>\n",
       "      <td>AAB</td>\n",
       "      <td>Arrabury</td>\n",
       "    </tr>\n",
       "    <tr>\n",
       "      <th>2</th>\n",
       "      <td>NaN</td>\n",
       "      <td>1</td>\n",
       "      <td>3</td>\n",
       "      <td>NaN</td>\n",
       "      <td>2017-05-14 00:17:55</td>\n",
       "      <td>AAC</td>\n",
       "      <td>El Arish International Airport</td>\n",
       "    </tr>\n",
       "    <tr>\n",
       "      <th>3</th>\n",
       "      <td>NaN</td>\n",
       "      <td>1</td>\n",
       "      <td>4</td>\n",
       "      <td>NaN</td>\n",
       "      <td>2017-05-14 00:17:55</td>\n",
       "      <td>AAE</td>\n",
       "      <td>Les Salines</td>\n",
       "    </tr>\n",
       "    <tr>\n",
       "      <th>4</th>\n",
       "      <td>NaN</td>\n",
       "      <td>1</td>\n",
       "      <td>5</td>\n",
       "      <td>NaN</td>\n",
       "      <td>2017-05-14 00:17:55</td>\n",
       "      <td>AAF</td>\n",
       "      <td>Apalachicola Regional</td>\n",
       "    </tr>\n",
       "  </tbody>\n",
       "</table>\n",
       "</div>"
      ],
      "text/plain": [
       "   Iter  Req  Resp  T_Iter                T_Req Code  \\\n",
       "0   NaN    1     1     NaN  2017-05-14 00:17:55  AAA   \n",
       "1   NaN    1     2     NaN  2017-05-14 00:17:55  AAB   \n",
       "2   NaN    1     3     NaN  2017-05-14 00:17:55  AAC   \n",
       "3   NaN    1     4     NaN  2017-05-14 00:17:55  AAE   \n",
       "4   NaN    1     5     NaN  2017-05-14 00:17:55  AAF   \n",
       "\n",
       "                             Name  \n",
       "0                            Anaa  \n",
       "1                        Arrabury  \n",
       "2  El Arish International Airport  \n",
       "3                     Les Salines  \n",
       "4           Apalachicola Regional  "
      ]
     },
     "execution_count": 51,
     "metadata": {},
     "output_type": "execute_result"
    }
   ],
   "source": [
    "df_aero.head()"
   ]
  },
  {
   "cell_type": "code",
   "execution_count": 52,
   "metadata": {
    "ExecuteTime": {
     "end_time": "2019-01-11T14:27:11.073462Z",
     "start_time": "2019-01-11T14:27:11.065484Z"
    }
   },
   "outputs": [],
   "source": [
    "assert len(df_aero) == len(df_aero['Code'].unique())\n",
    "df_aero = df_aero.set_index('Code')"
   ]
  },
  {
   "cell_type": "code",
   "execution_count": 53,
   "metadata": {
    "ExecuteTime": {
     "end_time": "2019-01-11T14:28:37.227902Z",
     "start_time": "2019-01-11T14:28:37.214938Z"
    }
   },
   "outputs": [
    {
     "data": {
      "text/html": [
       "<div>\n",
       "<style scoped>\n",
       "    .dataframe tbody tr th:only-of-type {\n",
       "        vertical-align: middle;\n",
       "    }\n",
       "\n",
       "    .dataframe tbody tr th {\n",
       "        vertical-align: top;\n",
       "    }\n",
       "\n",
       "    .dataframe thead th {\n",
       "        text-align: right;\n",
       "    }\n",
       "</style>\n",
       "<table border=\"1\" class=\"dataframe\">\n",
       "  <thead>\n",
       "    <tr style=\"text-align: right;\">\n",
       "      <th></th>\n",
       "      <th>Iter</th>\n",
       "      <th>Req</th>\n",
       "      <th>Resp</th>\n",
       "      <th>T_Iter</th>\n",
       "      <th>T_Req</th>\n",
       "      <th>Name</th>\n",
       "    </tr>\n",
       "    <tr>\n",
       "      <th>Code</th>\n",
       "      <th></th>\n",
       "      <th></th>\n",
       "      <th></th>\n",
       "      <th></th>\n",
       "      <th></th>\n",
       "      <th></th>\n",
       "    </tr>\n",
       "  </thead>\n",
       "  <tbody>\n",
       "    <tr>\n",
       "      <th>AAA</th>\n",
       "      <td>NaN</td>\n",
       "      <td>1</td>\n",
       "      <td>1</td>\n",
       "      <td>NaN</td>\n",
       "      <td>2017-05-14 00:17:55</td>\n",
       "      <td>Anaa</td>\n",
       "    </tr>\n",
       "    <tr>\n",
       "      <th>AAB</th>\n",
       "      <td>NaN</td>\n",
       "      <td>1</td>\n",
       "      <td>2</td>\n",
       "      <td>NaN</td>\n",
       "      <td>2017-05-14 00:17:55</td>\n",
       "      <td>Arrabury</td>\n",
       "    </tr>\n",
       "    <tr>\n",
       "      <th>AAC</th>\n",
       "      <td>NaN</td>\n",
       "      <td>1</td>\n",
       "      <td>3</td>\n",
       "      <td>NaN</td>\n",
       "      <td>2017-05-14 00:17:55</td>\n",
       "      <td>El Arish International Airport</td>\n",
       "    </tr>\n",
       "    <tr>\n",
       "      <th>AAE</th>\n",
       "      <td>NaN</td>\n",
       "      <td>1</td>\n",
       "      <td>4</td>\n",
       "      <td>NaN</td>\n",
       "      <td>2017-05-14 00:17:55</td>\n",
       "      <td>Les Salines</td>\n",
       "    </tr>\n",
       "    <tr>\n",
       "      <th>AAF</th>\n",
       "      <td>NaN</td>\n",
       "      <td>1</td>\n",
       "      <td>5</td>\n",
       "      <td>NaN</td>\n",
       "      <td>2017-05-14 00:17:55</td>\n",
       "      <td>Apalachicola Regional</td>\n",
       "    </tr>\n",
       "  </tbody>\n",
       "</table>\n",
       "</div>"
      ],
      "text/plain": [
       "      Iter  Req  Resp  T_Iter                T_Req  \\\n",
       "Code                                                 \n",
       "AAA    NaN    1     1     NaN  2017-05-14 00:17:55   \n",
       "AAB    NaN    1     2     NaN  2017-05-14 00:17:55   \n",
       "AAC    NaN    1     3     NaN  2017-05-14 00:17:55   \n",
       "AAE    NaN    1     4     NaN  2017-05-14 00:17:55   \n",
       "AAF    NaN    1     5     NaN  2017-05-14 00:17:55   \n",
       "\n",
       "                                Name  \n",
       "Code                                  \n",
       "AAA                             Anaa  \n",
       "AAB                         Arrabury  \n",
       "AAC   El Arish International Airport  \n",
       "AAE                      Les Salines  \n",
       "AAF            Apalachicola Regional  "
      ]
     },
     "execution_count": 53,
     "metadata": {},
     "output_type": "execute_result"
    }
   ],
   "source": [
    "df_aero.head()"
   ]
  },
  {
   "cell_type": "code",
   "execution_count": 54,
   "metadata": {
    "ExecuteTime": {
     "end_time": "2019-01-11T14:28:41.702304Z",
     "start_time": "2019-01-11T14:28:41.688344Z"
    }
   },
   "outputs": [
    {
     "data": {
      "text/html": [
       "<div>\n",
       "<style scoped>\n",
       "    .dataframe tbody tr th:only-of-type {\n",
       "        vertical-align: middle;\n",
       "    }\n",
       "\n",
       "    .dataframe tbody tr th {\n",
       "        vertical-align: top;\n",
       "    }\n",
       "\n",
       "    .dataframe thead th {\n",
       "        text-align: right;\n",
       "    }\n",
       "</style>\n",
       "<table border=\"1\" class=\"dataframe\">\n",
       "  <thead>\n",
       "    <tr style=\"text-align: right;\">\n",
       "      <th></th>\n",
       "      <th>origin</th>\n",
       "      <th>destination</th>\n",
       "      <th>company</th>\n",
       "      <th>depdate</th>\n",
       "      <th>arrdate</th>\n",
       "      <th>duration</th>\n",
       "      <th>price</th>\n",
       "      <th>stopover</th>\n",
       "      <th>stop_time</th>\n",
       "      <th>stop_place</th>\n",
       "      <th>inflight</th>\n",
       "      <th>time</th>\n",
       "    </tr>\n",
       "  </thead>\n",
       "  <tbody>\n",
       "    <tr>\n",
       "      <th>0</th>\n",
       "      <td>CDG</td>\n",
       "      <td>NTE</td>\n",
       "      <td>Air France</td>\n",
       "      <td>2016-03-15 12:35:00</td>\n",
       "      <td>2016-03-15 13:40:00</td>\n",
       "      <td>1.083333</td>\n",
       "      <td>52.0</td>\n",
       "      <td>0</td>\n",
       "      <td>0.00</td>\n",
       "      <td></td>\n",
       "      <td>1.083333</td>\n",
       "      <td>0.274306</td>\n",
       "    </tr>\n",
       "    <tr>\n",
       "      <th>1</th>\n",
       "      <td>CDG</td>\n",
       "      <td>NTE</td>\n",
       "      <td>Air France</td>\n",
       "      <td>2016-03-15 16:40:00</td>\n",
       "      <td>2016-03-15 17:45:00</td>\n",
       "      <td>1.083333</td>\n",
       "      <td>52.0</td>\n",
       "      <td>0</td>\n",
       "      <td>0.00</td>\n",
       "      <td></td>\n",
       "      <td>1.083333</td>\n",
       "      <td>0.444444</td>\n",
       "    </tr>\n",
       "    <tr>\n",
       "      <th>2</th>\n",
       "      <td>CDG</td>\n",
       "      <td>NTE</td>\n",
       "      <td>Air France</td>\n",
       "      <td>2016-03-15 21:05:00</td>\n",
       "      <td>2016-03-15 22:10:00</td>\n",
       "      <td>1.083333</td>\n",
       "      <td>52.0</td>\n",
       "      <td>0</td>\n",
       "      <td>0.00</td>\n",
       "      <td></td>\n",
       "      <td>1.083333</td>\n",
       "      <td>0.628472</td>\n",
       "    </tr>\n",
       "    <tr>\n",
       "      <th>3</th>\n",
       "      <td>ORY</td>\n",
       "      <td>NTE</td>\n",
       "      <td>Air France</td>\n",
       "      <td>2016-03-15 19:30:00</td>\n",
       "      <td>2016-03-15 20:45:00</td>\n",
       "      <td>1.250000</td>\n",
       "      <td>69.0</td>\n",
       "      <td>0</td>\n",
       "      <td>0.00</td>\n",
       "      <td></td>\n",
       "      <td>1.250000</td>\n",
       "      <td>0.562500</td>\n",
       "    </tr>\n",
       "    <tr>\n",
       "      <th>4</th>\n",
       "      <td>CDG</td>\n",
       "      <td>NTE</td>\n",
       "      <td>Air France-HOP!</td>\n",
       "      <td>2016-03-15 13:20:00</td>\n",
       "      <td>2016-03-15 16:25:00</td>\n",
       "      <td>3.083333</td>\n",
       "      <td>93.0</td>\n",
       "      <td>1</td>\n",
       "      <td>0.75</td>\n",
       "      <td>LYS</td>\n",
       "      <td>2.333333</td>\n",
       "      <td>0.305556</td>\n",
       "    </tr>\n",
       "  </tbody>\n",
       "</table>\n",
       "</div>"
      ],
      "text/plain": [
       "  origin destination          company             depdate             arrdate  \\\n",
       "0    CDG         NTE       Air France 2016-03-15 12:35:00 2016-03-15 13:40:00   \n",
       "1    CDG         NTE       Air France 2016-03-15 16:40:00 2016-03-15 17:45:00   \n",
       "2    CDG         NTE       Air France 2016-03-15 21:05:00 2016-03-15 22:10:00   \n",
       "3    ORY         NTE       Air France 2016-03-15 19:30:00 2016-03-15 20:45:00   \n",
       "4    CDG         NTE  Air France-HOP! 2016-03-15 13:20:00 2016-03-15 16:25:00   \n",
       "\n",
       "   duration  price stopover  stop_time stop_place  inflight      time  \n",
       "0  1.083333   52.0        0       0.00             1.083333  0.274306  \n",
       "1  1.083333   52.0        0       0.00             1.083333  0.444444  \n",
       "2  1.083333   52.0        0       0.00             1.083333  0.628472  \n",
       "3  1.250000   69.0        0       0.00             1.250000  0.562500  \n",
       "4  3.083333   93.0        1       0.75        LYS  2.333333  0.305556  "
      ]
     },
     "execution_count": 54,
     "metadata": {},
     "output_type": "execute_result"
    }
   ],
   "source": [
    "df_gflight.head()"
   ]
  },
  {
   "cell_type": "code",
   "execution_count": 55,
   "metadata": {
    "ExecuteTime": {
     "end_time": "2019-01-11T14:28:44.457359Z",
     "start_time": "2019-01-11T14:28:44.435418Z"
    }
   },
   "outputs": [],
   "source": [
    "new_df = pd.merge(\n",
    "    df_gflight, # table de gauche\n",
    "    df_aero[['Name']], # table de droite\n",
    "    how='inner', # mode de jointure : inner, outer, left, right\n",
    "    left_on='origin', # colonne utilisée pour la jointure dans la table de gauche\n",
    "    right_index=True,  # au lieu d'une colonne on utilise l'index de la table de droite\n",
    ")\n",
    "# on utilise le paramètre on='col_name' lorsque le nom de colonne est le même\n",
    "# dans les deux dataframe, dans ce cas, ça remplace les paramètres\n",
    "# left_on, right_on, left_index, right_index\n",
    "\n",
    "new_df = new_df.rename({'Name': 'name_orig'}, axis=1)"
   ]
  },
  {
   "cell_type": "code",
   "execution_count": 56,
   "metadata": {
    "ExecuteTime": {
     "end_time": "2019-01-11T14:29:02.299710Z",
     "start_time": "2019-01-11T14:29:02.284751Z"
    }
   },
   "outputs": [
    {
     "data": {
      "text/html": [
       "<div>\n",
       "<style scoped>\n",
       "    .dataframe tbody tr th:only-of-type {\n",
       "        vertical-align: middle;\n",
       "    }\n",
       "\n",
       "    .dataframe tbody tr th {\n",
       "        vertical-align: top;\n",
       "    }\n",
       "\n",
       "    .dataframe thead th {\n",
       "        text-align: right;\n",
       "    }\n",
       "</style>\n",
       "<table border=\"1\" class=\"dataframe\">\n",
       "  <thead>\n",
       "    <tr style=\"text-align: right;\">\n",
       "      <th></th>\n",
       "      <th>origin</th>\n",
       "      <th>destination</th>\n",
       "      <th>company</th>\n",
       "      <th>depdate</th>\n",
       "      <th>arrdate</th>\n",
       "      <th>duration</th>\n",
       "      <th>price</th>\n",
       "      <th>stopover</th>\n",
       "      <th>stop_time</th>\n",
       "      <th>stop_place</th>\n",
       "      <th>inflight</th>\n",
       "      <th>time</th>\n",
       "      <th>name_orig</th>\n",
       "    </tr>\n",
       "  </thead>\n",
       "  <tbody>\n",
       "    <tr>\n",
       "      <th>0</th>\n",
       "      <td>CDG</td>\n",
       "      <td>NTE</td>\n",
       "      <td>Air France</td>\n",
       "      <td>2016-03-15 12:35:00</td>\n",
       "      <td>2016-03-15 13:40:00</td>\n",
       "      <td>1.083333</td>\n",
       "      <td>52.0</td>\n",
       "      <td>0</td>\n",
       "      <td>0.000000</td>\n",
       "      <td></td>\n",
       "      <td>1.083333</td>\n",
       "      <td>0.274306</td>\n",
       "      <td>Charles De Gaulle</td>\n",
       "    </tr>\n",
       "    <tr>\n",
       "      <th>1</th>\n",
       "      <td>CDG</td>\n",
       "      <td>NTE</td>\n",
       "      <td>Air France</td>\n",
       "      <td>2016-03-15 16:40:00</td>\n",
       "      <td>2016-03-15 17:45:00</td>\n",
       "      <td>1.083333</td>\n",
       "      <td>52.0</td>\n",
       "      <td>0</td>\n",
       "      <td>0.000000</td>\n",
       "      <td></td>\n",
       "      <td>1.083333</td>\n",
       "      <td>0.444444</td>\n",
       "      <td>Charles De Gaulle</td>\n",
       "    </tr>\n",
       "    <tr>\n",
       "      <th>2</th>\n",
       "      <td>CDG</td>\n",
       "      <td>NTE</td>\n",
       "      <td>Air France</td>\n",
       "      <td>2016-03-15 21:05:00</td>\n",
       "      <td>2016-03-15 22:10:00</td>\n",
       "      <td>1.083333</td>\n",
       "      <td>52.0</td>\n",
       "      <td>0</td>\n",
       "      <td>0.000000</td>\n",
       "      <td></td>\n",
       "      <td>1.083333</td>\n",
       "      <td>0.628472</td>\n",
       "      <td>Charles De Gaulle</td>\n",
       "    </tr>\n",
       "    <tr>\n",
       "      <th>4</th>\n",
       "      <td>CDG</td>\n",
       "      <td>NTE</td>\n",
       "      <td>Air France-HOP!</td>\n",
       "      <td>2016-03-15 13:20:00</td>\n",
       "      <td>2016-03-15 16:25:00</td>\n",
       "      <td>3.083333</td>\n",
       "      <td>93.0</td>\n",
       "      <td>1</td>\n",
       "      <td>0.750000</td>\n",
       "      <td>LYS</td>\n",
       "      <td>2.333333</td>\n",
       "      <td>0.305556</td>\n",
       "      <td>Charles De Gaulle</td>\n",
       "    </tr>\n",
       "    <tr>\n",
       "      <th>5</th>\n",
       "      <td>CDG</td>\n",
       "      <td>NTE</td>\n",
       "      <td>Air France-HOP!</td>\n",
       "      <td>2016-03-15 13:20:00</td>\n",
       "      <td>2016-03-15 17:20:00</td>\n",
       "      <td>4.000000</td>\n",
       "      <td>93.0</td>\n",
       "      <td>1</td>\n",
       "      <td>1.666667</td>\n",
       "      <td>LYS</td>\n",
       "      <td>2.333333</td>\n",
       "      <td>0.305556</td>\n",
       "      <td>Charles De Gaulle</td>\n",
       "    </tr>\n",
       "  </tbody>\n",
       "</table>\n",
       "</div>"
      ],
      "text/plain": [
       "  origin destination          company             depdate             arrdate  \\\n",
       "0    CDG         NTE       Air France 2016-03-15 12:35:00 2016-03-15 13:40:00   \n",
       "1    CDG         NTE       Air France 2016-03-15 16:40:00 2016-03-15 17:45:00   \n",
       "2    CDG         NTE       Air France 2016-03-15 21:05:00 2016-03-15 22:10:00   \n",
       "4    CDG         NTE  Air France-HOP! 2016-03-15 13:20:00 2016-03-15 16:25:00   \n",
       "5    CDG         NTE  Air France-HOP! 2016-03-15 13:20:00 2016-03-15 17:20:00   \n",
       "\n",
       "   duration  price stopover  stop_time stop_place  inflight      time  \\\n",
       "0  1.083333   52.0        0   0.000000             1.083333  0.274306   \n",
       "1  1.083333   52.0        0   0.000000             1.083333  0.444444   \n",
       "2  1.083333   52.0        0   0.000000             1.083333  0.628472   \n",
       "4  3.083333   93.0        1   0.750000        LYS  2.333333  0.305556   \n",
       "5  4.000000   93.0        1   1.666667        LYS  2.333333  0.305556   \n",
       "\n",
       "           name_orig  \n",
       "0  Charles De Gaulle  \n",
       "1  Charles De Gaulle  \n",
       "2  Charles De Gaulle  \n",
       "4  Charles De Gaulle  \n",
       "5  Charles De Gaulle  "
      ]
     },
     "execution_count": 56,
     "metadata": {},
     "output_type": "execute_result"
    }
   ],
   "source": [
    "new_df.head()"
   ]
  },
  {
   "cell_type": "code",
   "execution_count": 57,
   "metadata": {
    "ExecuteTime": {
     "end_time": "2019-01-11T14:55:11.325923Z",
     "start_time": "2019-01-11T14:55:11.301953Z"
    }
   },
   "outputs": [],
   "source": [
    "new_df = pd.merge(\n",
    "    new_df,\n",
    "    df_aero[['Name']],\n",
    "    how='inner',\n",
    "    left_on='destination',\n",
    "    right_index=True,\n",
    ")\n",
    "\n",
    "new_df = new_df.rename({'Name': 'name_dest'}, axis=1)"
   ]
  },
  {
   "cell_type": "code",
   "execution_count": 58,
   "metadata": {
    "ExecuteTime": {
     "end_time": "2019-01-11T14:55:14.284677Z",
     "start_time": "2019-01-11T14:55:14.276687Z"
    }
   },
   "outputs": [],
   "source": [
    "assert len(new_df) == len(df_gflight)"
   ]
  },
  {
   "cell_type": "code",
   "execution_count": 59,
   "metadata": {
    "ExecuteTime": {
     "end_time": "2019-01-11T14:55:16.527989Z",
     "start_time": "2019-01-11T14:55:16.508018Z"
    }
   },
   "outputs": [
    {
     "data": {
      "text/html": [
       "<div>\n",
       "<style scoped>\n",
       "    .dataframe tbody tr th:only-of-type {\n",
       "        vertical-align: middle;\n",
       "    }\n",
       "\n",
       "    .dataframe tbody tr th {\n",
       "        vertical-align: top;\n",
       "    }\n",
       "\n",
       "    .dataframe thead th {\n",
       "        text-align: right;\n",
       "    }\n",
       "</style>\n",
       "<table border=\"1\" class=\"dataframe\">\n",
       "  <thead>\n",
       "    <tr style=\"text-align: right;\">\n",
       "      <th></th>\n",
       "      <th>3445</th>\n",
       "      <th>780</th>\n",
       "      <th>5504</th>\n",
       "    </tr>\n",
       "  </thead>\n",
       "  <tbody>\n",
       "    <tr>\n",
       "      <th>origin</th>\n",
       "      <td>RNS</td>\n",
       "      <td>TLS</td>\n",
       "      <td>LRT</td>\n",
       "    </tr>\n",
       "    <tr>\n",
       "      <th>destination</th>\n",
       "      <td>SXB</td>\n",
       "      <td>NTE</td>\n",
       "      <td>BOD</td>\n",
       "    </tr>\n",
       "    <tr>\n",
       "      <th>company</th>\n",
       "      <td>HOP!-HOP!</td>\n",
       "      <td>Air France-Air France</td>\n",
       "      <td>Air France-Air France</td>\n",
       "    </tr>\n",
       "    <tr>\n",
       "      <th>depdate</th>\n",
       "      <td>2016-03-15 18:30:00</td>\n",
       "      <td>2016-03-15 11:10:00</td>\n",
       "      <td>2016-03-15 14:10:00</td>\n",
       "    </tr>\n",
       "    <tr>\n",
       "      <th>arrdate</th>\n",
       "      <td>2016-03-16 22:15:00</td>\n",
       "      <td>2016-03-15 17:45:00</td>\n",
       "      <td>2016-03-15 20:45:00</td>\n",
       "    </tr>\n",
       "    <tr>\n",
       "      <th>duration</th>\n",
       "      <td>27.75</td>\n",
       "      <td>6.58333</td>\n",
       "      <td>6.58333</td>\n",
       "    </tr>\n",
       "    <tr>\n",
       "      <th>price</th>\n",
       "      <td>138</td>\n",
       "      <td>85</td>\n",
       "      <td>178</td>\n",
       "    </tr>\n",
       "    <tr>\n",
       "      <th>stopover</th>\n",
       "      <td>1</td>\n",
       "      <td>1</td>\n",
       "      <td>1</td>\n",
       "    </tr>\n",
       "    <tr>\n",
       "      <th>stop_time</th>\n",
       "      <td>25.1667</td>\n",
       "      <td>4.16667</td>\n",
       "      <td>4.08333</td>\n",
       "    </tr>\n",
       "    <tr>\n",
       "      <th>stop_place</th>\n",
       "      <td>TLS</td>\n",
       "      <td>CDG</td>\n",
       "      <td>ORY</td>\n",
       "    </tr>\n",
       "    <tr>\n",
       "      <th>inflight</th>\n",
       "      <td>2.58333</td>\n",
       "      <td>2.41667</td>\n",
       "      <td>2.5</td>\n",
       "    </tr>\n",
       "    <tr>\n",
       "      <th>time</th>\n",
       "      <td>0.520833</td>\n",
       "      <td>0.215278</td>\n",
       "      <td>0.340278</td>\n",
       "    </tr>\n",
       "    <tr>\n",
       "      <th>name_orig</th>\n",
       "      <td>St Jacques</td>\n",
       "      <td>Blagnac</td>\n",
       "      <td>Lann Bihoue</td>\n",
       "    </tr>\n",
       "    <tr>\n",
       "      <th>name_dest</th>\n",
       "      <td>Entzheim</td>\n",
       "      <td>Nantes Atlantique</td>\n",
       "      <td>Mérignac</td>\n",
       "    </tr>\n",
       "  </tbody>\n",
       "</table>\n",
       "</div>"
      ],
      "text/plain": [
       "                            3445                   780                    5504\n",
       "origin                       RNS                    TLS                    LRT\n",
       "destination                  SXB                    NTE                    BOD\n",
       "company                HOP!-HOP!  Air France-Air France  Air France-Air France\n",
       "depdate      2016-03-15 18:30:00    2016-03-15 11:10:00    2016-03-15 14:10:00\n",
       "arrdate      2016-03-16 22:15:00    2016-03-15 17:45:00    2016-03-15 20:45:00\n",
       "duration                   27.75                6.58333                6.58333\n",
       "price                        138                     85                    178\n",
       "stopover                       1                      1                      1\n",
       "stop_time                25.1667                4.16667                4.08333\n",
       "stop_place                   TLS                    CDG                    ORY\n",
       "inflight                 2.58333                2.41667                    2.5\n",
       "time                    0.520833               0.215278               0.340278\n",
       "name_orig             St Jacques                Blagnac            Lann Bihoue\n",
       "name_dest               Entzheim      Nantes Atlantique               Mérignac"
      ]
     },
     "execution_count": 59,
     "metadata": {},
     "output_type": "execute_result"
    }
   ],
   "source": [
    "new_df.sample(3).T"
   ]
  },
  {
   "cell_type": "markdown",
   "metadata": {},
   "source": [
    "<div class=\"alert alert-block alert-info\"><b>Pour aller plus loin :</b> <a href=https://pandas.pydata.org/pandas-docs/stable/generated/pandas.DataFrame.merge.html> Doc officielle sur la méthode <b>.merge()</b></a></div>\n",
    "\n",
    "---\n",
    "\n",
    "<div class=\"alert alert-block alert-info\"><b>Pour aller plus loin :</b> <a href=https://pandas.pydata.org/pandas-docs/stable/merging.html>Tutoriel sur les <b> jointures et concatenations </b></a></div>"
   ]
  },
  {
   "cell_type": "code",
   "execution_count": null,
   "metadata": {},
   "outputs": [],
   "source": []
  }
 ],
 "metadata": {
  "kernelspec": {
   "display_name": "Python 3 (ipykernel)",
   "language": "python",
   "name": "python3"
  },
  "language_info": {
   "codemirror_mode": {
    "name": "ipython",
    "version": 3
   },
   "file_extension": ".py",
   "mimetype": "text/x-python",
   "name": "python",
   "nbconvert_exporter": "python",
   "pygments_lexer": "ipython3",
   "version": "3.10.12"
  },
  "toc": {
   "base_numbering": 1,
   "nav_menu": {
    "height": "500px",
    "width": "252px"
   },
   "number_sections": true,
   "sideBar": true,
   "skip_h1_title": false,
   "title_cell": "Table of Contents",
   "title_sidebar": "Contents",
   "toc_cell": false,
   "toc_position": {
    "height": "660px",
    "left": "0px",
    "right": "1359px",
    "top": "107px",
    "width": "187px"
   },
   "toc_section_display": "block",
   "toc_window_display": true
  },
  "varInspector": {
   "cols": {
    "lenName": 16,
    "lenType": 16,
    "lenVar": 40
   },
   "kernels_config": {
    "python": {
     "delete_cmd_postfix": "",
     "delete_cmd_prefix": "del ",
     "library": "var_list.py",
     "varRefreshCmd": "print(var_dic_list())"
    },
    "r": {
     "delete_cmd_postfix": ") ",
     "delete_cmd_prefix": "rm(",
     "library": "var_list.r",
     "varRefreshCmd": "cat(var_dic_list()) "
    }
   },
   "types_to_exclude": [
    "module",
    "function",
    "builtin_function_or_method",
    "instance",
    "_Feature"
   ],
   "window_display": false
  }
 },
 "nbformat": 4,
 "nbformat_minor": 4
}

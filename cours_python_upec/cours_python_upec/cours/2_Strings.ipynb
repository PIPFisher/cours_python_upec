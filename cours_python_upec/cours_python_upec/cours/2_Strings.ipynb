{
 "cells": [
  {
   "cell_type": "markdown",
   "metadata": {},
   "source": [
    "<div style=\"background-color: #E74C3C; padding: 20px; text-align: center;\">\n",
    "    <div align=\"center\"><span style=\"font-family:Monaco;font-size:50px;color:#FDFEFE\">Master 2 MASERATI</span></div>\n",
    "    <div align=\"center\"><span style=\"font-family:Monaco;font-size:40px;color:#FDFEFE\">Cours de Python</span></div>\n",
    "    <div align=\"center\"><span style=\"font-family:Monaco;font-size:30px;color:#FDFEFE\">2023/2024</span></div>\n",
    "    <div align=\"center\"><span style=\"font-family:Monaco;font-size:15px;color:#FDFEFE\">Enseignante : Lucia Cossaro</div>\n",
    "    <div align=\"center\"><span style=\"font-family:Monaco;font-size:15px;color:#FDFEFE\">E-mail : luciacossaro@gmail.com</div>\n",
    "    <hr>\n",
    "</div>"
   ]
  },
  {
   "cell_type": "markdown",
   "metadata": {},
   "source": [
    "<div style=\"background-color: #1C2833; padding: 20px; text-align: center;\">\n",
    "    <div align=\"center\"><span style=\"font-family:Monaco;font-size:40px;color:#FDFEFE\">Strings</span></div>\n",
    "    <hr>\n",
    "</div>"
   ]
  },
  {
   "cell_type": "code",
   "execution_count": null,
   "metadata": {},
   "outputs": [],
   "source": []
  },
  {
   "cell_type": "markdown",
   "metadata": {
    "jp-MarkdownHeadingCollapsed": true
   },
   "source": [
    "# Déclaration"
   ]
  },
  {
   "cell_type": "markdown",
   "metadata": {},
   "source": [
    "<div class=\"alert alert-block alert-success\">\n",
    "<b>Mot-clé : str</b>\n",
    "\n",
    "Une <b>chaine de caractères</b> est un ensemble <b>ordonné</b> de <b>caractères décodés</b>.\n",
    "</div>"
   ]
  },
  {
   "cell_type": "markdown",
   "metadata": {},
   "source": [
    "On les définit en les encadrant par des **apostrophes** ou des **guillemets** : ***'chaine'*** ou ***\"chaine\"***, indifféremment. \n",
    "\n",
    "Chacun fait comme il veut, mais l'habitude en Python est :\n",
    "- d'utiliser des guillemets (**\"**) pour les textes :\n",
    "```python\n",
    "\"Ca, c'est un morceau de texte\"\n",
    "```\n",
    "- d'utiliser des apostrophes (**'**) pour les identifiants :\n",
    "```python\n",
    "'id'\n",
    "'nom'\n",
    "'adresse'\n",
    "```\n",
    "\n",
    "On appelle ces caractères en anglais *quote* et *double quote*"
   ]
  },
  {
   "cell_type": "code",
   "execution_count": 1,
   "metadata": {
    "ExecuteTime": {
     "end_time": "2019-01-03T11:08:00.858655Z",
     "start_time": "2019-01-03T11:08:00.849677Z"
    }
   },
   "outputs": [
    {
     "data": {
      "text/plain": [
       "'Chaine de caractères'"
      ]
     },
     "execution_count": 1,
     "metadata": {},
     "output_type": "execute_result"
    }
   ],
   "source": [
    "\"Chaine de caractères\""
   ]
  },
  {
   "cell_type": "code",
   "execution_count": 2,
   "metadata": {
    "ExecuteTime": {
     "end_time": "2019-01-03T11:08:03.399887Z",
     "start_time": "2019-01-03T11:08:03.394899Z"
    },
    "scrolled": true
   },
   "outputs": [
    {
     "data": {
      "text/plain": [
       "True"
      ]
     },
     "execution_count": 2,
     "metadata": {},
     "output_type": "execute_result"
    }
   ],
   "source": [
    "'chaine' == \"chaine\""
   ]
  },
  {
   "cell_type": "markdown",
   "metadata": {},
   "source": [
    "<div class=\"alert alert-block alert-success\">\n",
    "<b>Attention :</b>\n",
    "\n",
    "Du texte entre **apostrophes** (ou **guillemets**), c'est une chaine de caractères. \n",
    "\n",
    "Sans, c'est un nom de fonction ou de variable, et si ce nom n'a pas été préalablement défini, ça provoquera une **erreur**.\n",
    "\n",
    "Il faut profiter du fait que Notebook met en couleur **rouge sombre** les chaines de caractères.\n",
    "\n",
    "</div>"
   ]
  },
  {
   "cell_type": "code",
   "execution_count": 3,
   "metadata": {
    "ExecuteTime": {
     "end_time": "2019-01-03T11:08:08.198384Z",
     "start_time": "2019-01-03T11:08:08.193397Z"
    }
   },
   "outputs": [
    {
     "data": {
      "text/plain": [
       "'Chaine'"
      ]
     },
     "execution_count": 3,
     "metadata": {},
     "output_type": "execute_result"
    }
   ],
   "source": [
    "'Chaine'"
   ]
  },
  {
   "cell_type": "code",
   "execution_count": 4,
   "metadata": {
    "ExecuteTime": {
     "end_time": "2019-01-03T11:08:09.516716Z",
     "start_time": "2019-01-03T11:08:09.447943Z"
    }
   },
   "outputs": [
    {
     "ename": "NameError",
     "evalue": "name 'Chaine' is not defined",
     "output_type": "error",
     "traceback": [
      "\u001b[1;31m---------------------------------------------------------------------------\u001b[0m",
      "\u001b[1;31mNameError\u001b[0m                                 Traceback (most recent call last)",
      "\u001b[1;32m<ipython-input-4-fe5caf4452b0>\u001b[0m in \u001b[0;36m<module>\u001b[1;34m\u001b[0m\n\u001b[1;32m----> 1\u001b[1;33m \u001b[0mChaine\u001b[0m\u001b[1;33m\u001b[0m\u001b[1;33m\u001b[0m\u001b[0m\n\u001b[0m",
      "\u001b[1;31mNameError\u001b[0m: name 'Chaine' is not defined"
     ]
    }
   ],
   "source": [
    "Chaine"
   ]
  },
  {
   "cell_type": "markdown",
   "metadata": {},
   "source": [
    "Un texte peut être déclaré sur **plusieurs lignes** en utilisant les opérateurs ''' (triple apostrophe) ou ''' (triple guillemets).\n",
    "\n",
    "La chaine de caractère retient alors la localisation des **retours à la ligne**."
   ]
  },
  {
   "cell_type": "code",
   "execution_count": 8,
   "metadata": {
    "ExecuteTime": {
     "end_time": "2019-01-03T11:09:14.903312Z",
     "start_time": "2019-01-03T11:09:14.898324Z"
    }
   },
   "outputs": [],
   "source": [
    "ma_chaine = \"\"\"Mon texte est plus\n",
    "clair sur plusieurs\n",
    "lignes\"\"\""
   ]
  },
  {
   "cell_type": "markdown",
   "metadata": {},
   "source": [
    "On peut obtenir le **nombre de caractères** d'une chaine de caractères en utilisant la fonction native **len()** (comme *length*)"
   ]
  },
  {
   "cell_type": "code",
   "execution_count": 5,
   "metadata": {
    "ExecuteTime": {
     "end_time": "2019-01-03T11:08:21.797582Z",
     "start_time": "2019-01-03T11:08:21.792636Z"
    }
   },
   "outputs": [
    {
     "data": {
      "text/plain": [
       "20"
      ]
     },
     "execution_count": 5,
     "metadata": {},
     "output_type": "execute_result"
    }
   ],
   "source": [
    "len(\"Chaine de caractères\")"
   ]
  },
  {
   "cell_type": "markdown",
   "metadata": {},
   "source": [
    "<div class=\"alert alert-block alert-success\">\n",
    "<b>Important:</b> \n",
    "\n",
    "- En Python un caractère seul (par exemple : <b>'a'</b>) est aussi une chaine de caractères, de longueur 1.\n",
    "- Et une chaine de caractères vide est représentée par <b>''</b> (deux apostrophes de suite, ou encore par deux guillemets de suite : <b>\"\"</b>), c'est aussi une chaine de caractères, mais de longueur 0\n",
    "- A ne surtout pas confondre avec <b>' '</b> (<i>apostrophe, espace, apostrophe</i>) qui est le caractère **espace** (donc une chaine de longueur 1)\n",
    "</div>"
   ]
  },
  {
   "cell_type": "markdown",
   "metadata": {},
   "source": [
    "Pour **imprimer dans l'output** la chaine de caractères au propre, sans ses opérateurs d'encadrement, on utilise la fonction **print()**"
   ]
  },
  {
   "cell_type": "code",
   "execution_count": 9,
   "metadata": {
    "ExecuteTime": {
     "end_time": "2019-01-03T11:09:33.243800Z",
     "start_time": "2019-01-03T11:09:33.240807Z"
    },
    "scrolled": true
   },
   "outputs": [
    {
     "name": "stdout",
     "output_type": "stream",
     "text": [
      "Mon texte est plus\n",
      "clair sur plusieurs\n",
      "lignes\n"
     ]
    }
   ],
   "source": [
    "print(ma_chaine)"
   ]
  },
  {
   "cell_type": "markdown",
   "metadata": {
    "jp-MarkdownHeadingCollapsed": true
   },
   "source": [
    "# Opérations"
   ]
  },
  {
   "cell_type": "markdown",
   "metadata": {},
   "source": [
    "## Opérateurs usuels"
   ]
  },
  {
   "cell_type": "markdown",
   "metadata": {},
   "source": [
    "On peut utiliser certains opérateurs usuels avec les chaines de caractères"
   ]
  },
  {
   "cell_type": "markdown",
   "metadata": {},
   "source": [
    "**Addition**"
   ]
  },
  {
   "cell_type": "code",
   "execution_count": 10,
   "metadata": {
    "ExecuteTime": {
     "end_time": "2019-01-03T11:13:56.878886Z",
     "start_time": "2019-01-03T11:13:56.873899Z"
    }
   },
   "outputs": [
    {
     "data": {
      "text/plain": [
       "'Data sciences'"
      ]
     },
     "execution_count": 10,
     "metadata": {},
     "output_type": "execute_result"
    }
   ],
   "source": [
    "'Data' + ' ' + 'sciences' "
   ]
  },
  {
   "cell_type": "markdown",
   "metadata": {},
   "source": [
    "**Multiplication**"
   ]
  },
  {
   "cell_type": "code",
   "execution_count": 11,
   "metadata": {
    "ExecuteTime": {
     "end_time": "2019-01-03T11:14:00.305807Z",
     "start_time": "2019-01-03T11:14:00.300780Z"
    }
   },
   "outputs": [
    {
     "data": {
      "text/plain": [
       "'blablabla'"
      ]
     },
     "execution_count": 11,
     "metadata": {},
     "output_type": "execute_result"
    }
   ],
   "source": [
    "3*'bla'"
   ]
  },
  {
   "cell_type": "markdown",
   "metadata": {},
   "source": [
    "A l'inverse les opérateurs de **division** et de **soustraction** ne sont pas définis pour les chaines de caractères"
   ]
  },
  {
   "cell_type": "markdown",
   "metadata": {},
   "source": [
    "## Opérateurs de réaffectation"
   ]
  },
  {
   "cell_type": "markdown",
   "metadata": {},
   "source": [
    "En conséquence, les opérateurs de réaffectation correspondants (**\\*=** et **+=**) fonctionnent aussi"
   ]
  },
  {
   "cell_type": "code",
   "execution_count": 12,
   "metadata": {
    "ExecuteTime": {
     "end_time": "2019-01-03T11:14:13.575259Z",
     "start_time": "2019-01-03T11:14:13.572264Z"
    }
   },
   "outputs": [],
   "source": [
    "ma_chaine = 'Chaine de caractères'"
   ]
  },
  {
   "cell_type": "code",
   "execution_count": 13,
   "metadata": {
    "ExecuteTime": {
     "end_time": "2019-01-03T11:14:21.975093Z",
     "start_time": "2019-01-03T11:14:21.971104Z"
    }
   },
   "outputs": [],
   "source": [
    "ma_chaine += ' complexe'"
   ]
  },
  {
   "cell_type": "code",
   "execution_count": 14,
   "metadata": {
    "ExecuteTime": {
     "end_time": "2019-01-03T11:14:24.115336Z",
     "start_time": "2019-01-03T11:14:24.110348Z"
    }
   },
   "outputs": [
    {
     "data": {
      "text/plain": [
       "'Chaine de caractères complexe'"
      ]
     },
     "execution_count": 14,
     "metadata": {},
     "output_type": "execute_result"
    }
   ],
   "source": [
    "ma_chaine"
   ]
  },
  {
   "cell_type": "code",
   "execution_count": 15,
   "metadata": {
    "ExecuteTime": {
     "end_time": "2019-01-03T11:14:26.587303Z",
     "start_time": "2019-01-03T11:14:26.583312Z"
    }
   },
   "outputs": [],
   "source": [
    "ma_chaine *= 2"
   ]
  },
  {
   "cell_type": "code",
   "execution_count": 16,
   "metadata": {
    "ExecuteTime": {
     "end_time": "2019-01-03T11:14:28.861889Z",
     "start_time": "2019-01-03T11:14:28.855903Z"
    }
   },
   "outputs": [
    {
     "data": {
      "text/plain": [
       "'Chaine de caractères complexeChaine de caractères complexe'"
      ]
     },
     "execution_count": 16,
     "metadata": {},
     "output_type": "execute_result"
    }
   ],
   "source": [
    "ma_chaine"
   ]
  },
  {
   "cell_type": "markdown",
   "metadata": {},
   "source": [
    "## Opérateur d'appartenance"
   ]
  },
  {
   "cell_type": "markdown",
   "metadata": {},
   "source": [
    "On peut vérifier la présence d'une sous-chaine de caractères dans une chaine en utilisant les **opérateurs d'appartenance** : **in** et **not in**"
   ]
  },
  {
   "cell_type": "code",
   "execution_count": 17,
   "metadata": {
    "ExecuteTime": {
     "end_time": "2019-01-03T11:15:04.633314Z",
     "start_time": "2019-01-03T11:15:04.628366Z"
    }
   },
   "outputs": [
    {
     "data": {
      "text/plain": [
       "True"
      ]
     },
     "execution_count": 17,
     "metadata": {},
     "output_type": "execute_result"
    }
   ],
   "source": [
    "'è' in 'Chaine de caractères'"
   ]
  },
  {
   "cell_type": "code",
   "execution_count": 18,
   "metadata": {
    "ExecuteTime": {
     "end_time": "2019-01-03T11:15:09.214417Z",
     "start_time": "2019-01-03T11:15:09.209432Z"
    }
   },
   "outputs": [
    {
     "data": {
      "text/plain": [
       "False"
      ]
     },
     "execution_count": 18,
     "metadata": {},
     "output_type": "execute_result"
    }
   ],
   "source": [
    "'è' not in 'Chaine de caractères'"
   ]
  },
  {
   "cell_type": "markdown",
   "metadata": {},
   "source": [
    "Ca marche aussi avec une chaine de caractères"
   ]
  },
  {
   "cell_type": "code",
   "execution_count": 19,
   "metadata": {
    "ExecuteTime": {
     "end_time": "2019-01-03T11:15:16.361527Z",
     "start_time": "2019-01-03T11:15:16.357545Z"
    }
   },
   "outputs": [
    {
     "data": {
      "text/plain": [
       "True"
      ]
     },
     "execution_count": 19,
     "metadata": {},
     "output_type": "execute_result"
    }
   ],
   "source": [
    "'carac' in 'Chaine de caractères'"
   ]
  },
  {
   "cell_type": "code",
   "execution_count": 20,
   "metadata": {
    "ExecuteTime": {
     "end_time": "2019-01-03T11:15:18.667564Z",
     "start_time": "2019-01-03T11:15:18.662576Z"
    }
   },
   "outputs": [
    {
     "data": {
      "text/plain": [
       "False"
      ]
     },
     "execution_count": 20,
     "metadata": {},
     "output_type": "execute_result"
    }
   ],
   "source": [
    "'ia' in 'Chaine de caractères'"
   ]
  },
  {
   "cell_type": "markdown",
   "metadata": {
    "jp-MarkdownHeadingCollapsed": true
   },
   "source": [
    "# Indiçage"
   ]
  },
  {
   "cell_type": "markdown",
   "metadata": {},
   "source": [
    "## Par élément individuel"
   ]
  },
  {
   "cell_type": "markdown",
   "metadata": {},
   "source": [
    "Soit une chaine :"
   ]
  },
  {
   "cell_type": "code",
   "execution_count": 21,
   "metadata": {
    "ExecuteTime": {
     "end_time": "2019-01-03T11:15:58.479982Z",
     "start_time": "2019-01-03T11:15:58.476991Z"
    }
   },
   "outputs": [],
   "source": [
    "ma_chaine = 'Chaine de caractères'"
   ]
  },
  {
   "cell_type": "code",
   "execution_count": 22,
   "metadata": {
    "ExecuteTime": {
     "end_time": "2019-01-03T11:16:02.024496Z",
     "start_time": "2019-01-03T11:16:02.019511Z"
    }
   },
   "outputs": [
    {
     "data": {
      "text/plain": [
       "20"
      ]
     },
     "execution_count": 22,
     "metadata": {},
     "output_type": "execute_result"
    }
   ],
   "source": [
    "len(ma_chaine)"
   ]
  },
  {
   "cell_type": "markdown",
   "metadata": {},
   "source": [
    "<div class=\"alert alert-block alert-success\">\n",
    "<b>Important:</b> \n",
    "\n",
    "- On se réfère à un caractère précis de la chaine en utilisant l'opérateur **[i]** pour obtenir le **(i - 1)ième** caractère de cette chaine. \n",
    "- On dit que **__i__** est l'**indice** du caractère dans cette chaine.\n",
    "- Le premier caractère de cette chaine a donc l'indice **0**.\n",
    "- Le dernier caractère de cette chaine a donc l'indice **(N - 1)** avec **__N__** étant la taille de cette chaine, soit **len(ma_chaine)**\n",
    "</div>"
   ]
  },
  {
   "cell_type": "code",
   "execution_count": 23,
   "metadata": {
    "ExecuteTime": {
     "end_time": "2019-01-03T11:16:21.353406Z",
     "start_time": "2019-01-03T11:16:21.347422Z"
    }
   },
   "outputs": [
    {
     "data": {
      "text/plain": [
       "'C'"
      ]
     },
     "execution_count": 23,
     "metadata": {},
     "output_type": "execute_result"
    }
   ],
   "source": [
    "ma_chaine[0]"
   ]
  },
  {
   "cell_type": "code",
   "execution_count": 24,
   "metadata": {
    "ExecuteTime": {
     "end_time": "2019-01-03T11:16:31.646780Z",
     "start_time": "2019-01-03T11:16:31.642791Z"
    }
   },
   "outputs": [
    {
     "data": {
      "text/plain": [
       "'h'"
      ]
     },
     "execution_count": 24,
     "metadata": {},
     "output_type": "execute_result"
    }
   ],
   "source": [
    "ma_chaine[1]"
   ]
  },
  {
   "cell_type": "markdown",
   "metadata": {},
   "source": [
    "##### Indiçage depuis la fin"
   ]
  },
  {
   "cell_type": "markdown",
   "metadata": {},
   "source": [
    "Comme expliqué, le dernier caractère est le **N - 1** ième caractère.\n",
    "\n",
    "On peut donc se référer à un caractère de la chaine en comptant à partir de la fin, pour cela on ajoute un **-** (moins, *dash* ou *minus* en anglais) devant l'indice. \n",
    "\n",
    "**[-1]** désigne donc le dernier caractère de la chaine."
   ]
  },
  {
   "cell_type": "code",
   "execution_count": 25,
   "metadata": {
    "ExecuteTime": {
     "end_time": "2019-01-03T11:19:02.641890Z",
     "start_time": "2019-01-03T11:19:02.636901Z"
    }
   },
   "outputs": [
    {
     "data": {
      "text/plain": [
       "'s'"
      ]
     },
     "execution_count": 25,
     "metadata": {},
     "output_type": "execute_result"
    }
   ],
   "source": [
    "ma_chaine[-1]"
   ]
  },
  {
   "cell_type": "code",
   "execution_count": 26,
   "metadata": {
    "ExecuteTime": {
     "end_time": "2019-01-03T11:19:06.447851Z",
     "start_time": "2019-01-03T11:19:06.442902Z"
    }
   },
   "outputs": [
    {
     "data": {
      "text/plain": [
       "'e'"
      ]
     },
     "execution_count": 26,
     "metadata": {},
     "output_type": "execute_result"
    }
   ],
   "source": [
    "ma_chaine[-2]"
   ]
  },
  {
   "cell_type": "markdown",
   "metadata": {},
   "source": [
    "## Par tranche (slice)"
   ]
  },
  {
   "cell_type": "markdown",
   "metadata": {},
   "source": [
    "On peut extraire une sous-partie d'une chaine en utilisant l'opérateur **:** (deux-points, *colon* en anglais).\n",
    "\n",
    "**ma_chaine[a:b]** est la chaine commençant à l'indice **__a__**, et qui s'arrête dès qu'elle atteint le caractère d'indice **__b__** (mais qui ne le contient pas).\n",
    "\n",
    "C'est donc la chaine de caractères contenant les caractères numérotés **[a, a+1..., b-2, b-1]**.\n",
    "\n",
    "Cette chaine aura par construction **(b - a) caractères** de la chaine **ma_chaine**, dont le premier est à l'indice **a**."
   ]
  },
  {
   "cell_type": "code",
   "execution_count": 27,
   "metadata": {
    "ExecuteTime": {
     "end_time": "2019-01-03T11:19:32.309057Z",
     "start_time": "2019-01-03T11:19:32.304072Z"
    }
   },
   "outputs": [
    {
     "data": {
      "text/plain": [
       "'Chaine de caractères'"
      ]
     },
     "execution_count": 27,
     "metadata": {},
     "output_type": "execute_result"
    }
   ],
   "source": [
    "ma_chaine"
   ]
  },
  {
   "cell_type": "code",
   "execution_count": 28,
   "metadata": {
    "ExecuteTime": {
     "end_time": "2019-01-03T11:19:59.389345Z",
     "start_time": "2019-01-03T11:19:59.384359Z"
    }
   },
   "outputs": [
    {
     "data": {
      "text/plain": [
       "' de '"
      ]
     },
     "execution_count": 28,
     "metadata": {},
     "output_type": "execute_result"
    }
   ],
   "source": [
    "ma_chaine[6:10]"
   ]
  },
  {
   "cell_type": "markdown",
   "metadata": {},
   "source": [
    "##### Absence de borne"
   ]
  },
  {
   "cell_type": "markdown",
   "metadata": {},
   "source": [
    "Si l'on omet l'un des deux indices, cela fonctionne comme une absence de limite (**depuis le début** ou **jusqu'à la fin**) "
   ]
  },
  {
   "cell_type": "code",
   "execution_count": 29,
   "metadata": {
    "ExecuteTime": {
     "end_time": "2019-01-03T11:22:56.152066Z",
     "start_time": "2019-01-03T11:22:56.147082Z"
    }
   },
   "outputs": [
    {
     "data": {
      "text/plain": [
       "'Chain'"
      ]
     },
     "execution_count": 29,
     "metadata": {},
     "output_type": "execute_result"
    }
   ],
   "source": [
    "ma_chaine[:5]"
   ]
  },
  {
   "cell_type": "code",
   "execution_count": 30,
   "metadata": {
    "ExecuteTime": {
     "end_time": "2019-01-03T11:23:04.337803Z",
     "start_time": "2019-01-03T11:23:04.332816Z"
    }
   },
   "outputs": [
    {
     "data": {
      "text/plain": [
       "'e de caractères'"
      ]
     },
     "execution_count": 30,
     "metadata": {},
     "output_type": "execute_result"
    }
   ],
   "source": [
    "ma_chaine[5:]"
   ]
  },
  {
   "cell_type": "code",
   "execution_count": 32,
   "metadata": {
    "ExecuteTime": {
     "end_time": "2019-01-03T11:25:54.701344Z",
     "start_time": "2019-01-03T11:25:54.696343Z"
    }
   },
   "outputs": [
    {
     "data": {
      "text/plain": [
       "'Chaintères'"
      ]
     },
     "execution_count": 32,
     "metadata": {},
     "output_type": "execute_result"
    }
   ],
   "source": [
    "ma_chaine[:5] + ma_chaine[-5:]"
   ]
  },
  {
   "cell_type": "markdown",
   "metadata": {},
   "source": [
    "##### Indiçage depuis la fin"
   ]
  },
  {
   "cell_type": "markdown",
   "metadata": {},
   "source": [
    "On peut aussi utiliser l'opérateur de décompte depuis la fin (**-**)"
   ]
  },
  {
   "cell_type": "code",
   "execution_count": 33,
   "metadata": {
    "ExecuteTime": {
     "end_time": "2019-01-03T11:26:20.276357Z",
     "start_time": "2019-01-03T11:26:20.271411Z"
    }
   },
   "outputs": [
    {
     "data": {
      "text/plain": [
       "'tères'"
      ]
     },
     "execution_count": 33,
     "metadata": {},
     "output_type": "execute_result"
    }
   ],
   "source": [
    "ma_chaine[-5:]"
   ]
  },
  {
   "cell_type": "code",
   "execution_count": 34,
   "metadata": {
    "ExecuteTime": {
     "end_time": "2019-01-03T11:26:22.954309Z",
     "start_time": "2019-01-03T11:26:22.949323Z"
    }
   },
   "outputs": [
    {
     "data": {
      "text/plain": [
       "'Chaine de caractè'"
      ]
     },
     "execution_count": 34,
     "metadata": {},
     "output_type": "execute_result"
    }
   ],
   "source": [
    "ma_chaine[:-3]"
   ]
  },
  {
   "cell_type": "markdown",
   "metadata": {},
   "source": [
    "Le système de décompte est plutôt intuitif : \n",
    "* ***ma_chaine[-5:]*** correspond aux 5 derniers caractères\n",
    "* ***ma_chaine[:-3]*** correspond à l'ensemble de la chaine sauf les 3 derniers caractères"
   ]
  },
  {
   "cell_type": "markdown",
   "metadata": {},
   "source": [
    "##### Step"
   ]
  },
  {
   "cell_type": "markdown",
   "metadata": {},
   "source": [
    "On peut préciser un troisième paramètre pour la tranche : le **step**.\n",
    "\n",
    "Si l'on précise ce troisième paramètre, on ne prendra pas tous les caractères, mais seulement **1/n** éléments. \n",
    "\n",
    "Si on omet ce paramètre, il est égal à 1."
   ]
  },
  {
   "cell_type": "code",
   "execution_count": 35,
   "metadata": {
    "ExecuteTime": {
     "end_time": "2019-01-03T11:26:50.211402Z",
     "start_time": "2019-01-03T11:26:50.206454Z"
    }
   },
   "outputs": [
    {
     "data": {
      "text/plain": [
       "'Chaine de caractères'"
      ]
     },
     "execution_count": 35,
     "metadata": {},
     "output_type": "execute_result"
    }
   ],
   "source": [
    "ma_chaine"
   ]
  },
  {
   "cell_type": "code",
   "execution_count": 37,
   "metadata": {
    "ExecuteTime": {
     "end_time": "2019-01-03T11:27:44.127546Z",
     "start_time": "2019-01-03T11:27:44.123518Z"
    }
   },
   "outputs": [
    {
     "data": {
      "text/plain": [
       "'Can ecrcèe'"
      ]
     },
     "execution_count": 37,
     "metadata": {},
     "output_type": "execute_result"
    }
   ],
   "source": [
    "ma_chaine[::2]\n",
    "# Du debut à la fin, prendre tous les deux caracteres"
   ]
  },
  {
   "cell_type": "code",
   "execution_count": 39,
   "metadata": {
    "ExecuteTime": {
     "end_time": "2019-01-03T11:28:22.945270Z",
     "start_time": "2019-01-03T11:28:22.940286Z"
    }
   },
   "outputs": [
    {
     "data": {
      "text/plain": [
       "'serètcarac ed eniahC'"
      ]
     },
     "execution_count": 39,
     "metadata": {},
     "output_type": "execute_result"
    }
   ],
   "source": [
    "ma_chaine[::-1]\n",
    "# La même chose mais à l'inverse"
   ]
  },
  {
   "cell_type": "code",
   "execution_count": 40,
   "metadata": {
    "ExecuteTime": {
     "end_time": "2019-01-03T11:28:27.690514Z",
     "start_time": "2019-01-03T11:28:27.685529Z"
    }
   },
   "outputs": [
    {
     "data": {
      "text/plain": [
       "'Ci  rte'"
      ]
     },
     "execution_count": 40,
     "metadata": {},
     "output_type": "execute_result"
    }
   ],
   "source": [
    "ma_chaine[::3]"
   ]
  },
  {
   "cell_type": "markdown",
   "metadata": {},
   "source": [
    "Et si l'on met ce paramètre en négatif, on fait la même chose, mais en commençant par la fin..."
   ]
  },
  {
   "cell_type": "code",
   "execution_count": 41,
   "metadata": {
    "ExecuteTime": {
     "end_time": "2019-01-03T11:28:30.921932Z",
     "start_time": "2019-01-03T11:28:30.916946Z"
    }
   },
   "outputs": [
    {
     "data": {
      "text/plain": [
       "'serètcarac ed eniahC'"
      ]
     },
     "execution_count": 41,
     "metadata": {},
     "output_type": "execute_result"
    }
   ],
   "source": [
    "ma_chaine[::-1]"
   ]
  },
  {
   "cell_type": "code",
   "execution_count": 42,
   "metadata": {
    "ExecuteTime": {
     "end_time": "2019-01-03T11:28:33.727936Z",
     "start_time": "2019-01-03T11:28:33.722950Z"
    }
   },
   "outputs": [
    {
     "data": {
      "text/plain": [
       "'srtaa deih'"
      ]
     },
     "execution_count": 42,
     "metadata": {},
     "output_type": "execute_result"
    }
   ],
   "source": [
    "ma_chaine[::-2]"
   ]
  },
  {
   "cell_type": "markdown",
   "metadata": {},
   "source": [
    "<div class=\"alert alert-block alert-success\">\n",
    "En résumé on a : <b>[début:fin:step]</b> \n",
    "</div>"
   ]
  },
  {
   "cell_type": "markdown",
   "metadata": {
    "jp-MarkdownHeadingCollapsed": true
   },
   "source": [
    "# Echappement et caractères spéciaux"
   ]
  },
  {
   "cell_type": "markdown",
   "metadata": {},
   "source": [
    "## Caractère d'échappement"
   ]
  },
  {
   "cell_type": "markdown",
   "metadata": {},
   "source": [
    "Comme dans la plupart des langages, il existe un caractère d'échappement, c'est le caractère **\\\\ (antislash)**"
   ]
  },
  {
   "cell_type": "markdown",
   "metadata": {},
   "source": [
    "## Caractères d'encadrement"
   ]
  },
  {
   "cell_type": "markdown",
   "metadata": {},
   "source": [
    "Bien sûr, l'opérateur d'encadrement (**apostrophes** ou **guillemets**) utilisé pour définir la chaine de caractères ne peux pas être utilisé comme caractère dans une chaine de caractères"
   ]
  },
  {
   "cell_type": "code",
   "execution_count": null,
   "metadata": {},
   "outputs": [],
   "source": [
    "'attention lorsque l'on met des apostrophes dans une chaine de caractères'"
   ]
  },
  {
   "cell_type": "markdown",
   "metadata": {},
   "source": [
    "Il faut faire précéder le caractère d'encadrement utilisé (**__'__** ou **__\"__**) par le **caractère d'échappement \\\\** (antislash).\n",
    "\n",
    "Le **caractère d'échappement antislash**, étant donné son statut, nécessite lui aussi d'être échappé l'intérieur d'une chaine de caractères : **\\\\\\\\**"
   ]
  },
  {
   "cell_type": "code",
   "execution_count": 43,
   "metadata": {
    "ExecuteTime": {
     "end_time": "2019-01-03T11:30:04.670784Z",
     "start_time": "2019-01-03T11:30:04.665836Z"
    }
   },
   "outputs": [
    {
     "name": "stdout",
     "output_type": "stream",
     "text": [
      "Il faut faire précéder le caractère d'encadrement par un \\\n"
     ]
    }
   ],
   "source": [
    "print('Il faut faire précéder le caractère d\\'encadrement par un \\\\')"
   ]
  },
  {
   "cell_type": "code",
   "execution_count": 44,
   "metadata": {
    "ExecuteTime": {
     "end_time": "2019-01-03T11:30:18.177254Z",
     "start_time": "2019-01-03T11:30:18.174265Z"
    }
   },
   "outputs": [
    {
     "name": "stdout",
     "output_type": "stream",
     "text": [
      "De la même manière pour les guillemets si c'est ce que vous utilisez dans une chaine qui en \"contient\"\n"
     ]
    }
   ],
   "source": [
    "print(\"De la même manière pour les guillemets si c'est ce que vous utilisez dans une chaine qui en \\\"contient\\\"\")"
   ]
  },
  {
   "cell_type": "markdown",
   "metadata": {},
   "source": [
    "## Caractères spéciaux"
   ]
  },
  {
   "cell_type": "markdown",
   "metadata": {},
   "source": [
    "Il existe en plus deux caractères non-imprimés à connaitre :\n",
    "- **\\n** : ***new line*** qui permet de signifier le retour à la ligne\n",
    "- **\\t** : ***tabulation*** qui permet de signifier un espace de tabulation (plus grand qu'un espace normal)"
   ]
  },
  {
   "cell_type": "code",
   "execution_count": 45,
   "metadata": {
    "ExecuteTime": {
     "end_time": "2019-01-03T11:31:26.522212Z",
     "start_time": "2019-01-03T11:31:26.518225Z"
    }
   },
   "outputs": [
    {
     "data": {
      "text/plain": [
       "'Le retour à la ligne est exprimé par \\n pour \"new line\"'"
      ]
     },
     "execution_count": 45,
     "metadata": {},
     "output_type": "execute_result"
    }
   ],
   "source": [
    "'Le retour à la ligne est exprimé par \\n pour \"new line\"'"
   ]
  },
  {
   "cell_type": "markdown",
   "metadata": {},
   "source": [
    "La fonction print transforme ces caractères en version imprimée :"
   ]
  },
  {
   "cell_type": "code",
   "execution_count": 46,
   "metadata": {
    "ExecuteTime": {
     "end_time": "2019-01-03T11:31:31.957838Z",
     "start_time": "2019-01-03T11:31:31.953914Z"
    }
   },
   "outputs": [
    {
     "name": "stdout",
     "output_type": "stream",
     "text": [
      "Le retour à la ligne est exprimé par \n",
      " pour \"new line\"\n"
     ]
    }
   ],
   "source": [
    "print('Le retour à la ligne est exprimé par \\n pour \"new line\"')"
   ]
  },
  {
   "cell_type": "code",
   "execution_count": 47,
   "metadata": {
    "ExecuteTime": {
     "end_time": "2019-01-03T11:31:47.310376Z",
     "start_time": "2019-01-03T11:31:47.306349Z"
    }
   },
   "outputs": [
    {
     "name": "stdout",
     "output_type": "stream",
     "text": [
      "Dernier caractère spécial pour la route le symbole de tabulation : \n",
      "\t1 - \n",
      "\t2 - \n",
      "\t3 - \n"
     ]
    }
   ],
   "source": [
    "print('Dernier caractère spécial pour la route le symbole de tabulation : \\n\\t1 - \\n\\t2 - \\n\\t3 - ')"
   ]
  },
  {
   "cell_type": "markdown",
   "metadata": {},
   "source": [
    "Remarque : Il existe aussi un caractère **\\r**, merci Microsoft, car sous Windows, un simple retour à la ligne est censé être signifié par l'ensemble de deux caractères **\\r\\n** (***carriage return - line feed***)"
   ]
  },
  {
   "cell_type": "markdown",
   "metadata": {
    "heading_collapsed": true,
    "jp-MarkdownHeadingCollapsed": true
   },
   "source": [
    "# Méthodes"
   ]
  },
  {
   "cell_type": "markdown",
   "metadata": {
    "hidden": true
   },
   "source": [
    "## Remarques préalables"
   ]
  },
  {
   "cell_type": "markdown",
   "metadata": {
    "hidden": true
   },
   "source": [
    "### Méthodes"
   ]
  },
  {
   "cell_type": "markdown",
   "metadata": {
    "hidden": true
   },
   "source": [
    "Une méthode est une fonction s'appliquant à un objet. \n",
    "\n",
    "Nous ne rentrerons pas maintenant dans le détail de tout ça, mais retenez que pour appliquer la méthode **ma_methode** à l'objet **mon_objet**, on utilisera l'instruction **mon_objet.ma_methode()**."
   ]
  },
  {
   "cell_type": "markdown",
   "metadata": {
    "hidden": true
   },
   "source": [
    "### Muabilité"
   ]
  },
  {
   "cell_type": "markdown",
   "metadata": {
    "hidden": true
   },
   "source": [
    "Une chaine de caractères est un objet **immuable**, c'est-à-dire qu'**on ne peut la modifier que, et seulement que, en la redéfinissant** à l'aide d'un opérateur d'affectation **__=__** ou de réaffectation  **\\*=** ou **\\+=**\n",
    "\n",
    "Tous les types étudiés jusqu'à présent sont aussi **immuables** : les **int**, **float**, **complex** et **bool** ne peuvent pas être modifiés, seulement réaffectés.\n",
    "\n",
    "La propriété de muabilité ou d'immuabilité d'un type est essentielle, comme nous le verrons plus loin."
   ]
  },
  {
   "cell_type": "markdown",
   "metadata": {
    "hidden": true
   },
   "source": [
    "## Recherche et dénombrement d'une sous-partie de chaine"
   ]
  },
  {
   "cell_type": "markdown",
   "metadata": {
    "hidden": true
   },
   "source": [
    "Trouver l'indice du **premier caractère** de la **première occurrence** correspondant à la chaine recherchée"
   ]
  },
  {
   "cell_type": "code",
   "execution_count": 48,
   "metadata": {
    "ExecuteTime": {
     "end_time": "2019-01-03T13:14:41.347636Z",
     "start_time": "2019-01-03T13:14:41.342613Z"
    },
    "hidden": true
   },
   "outputs": [
    {
     "data": {
      "text/plain": [
       "'Chaine de caractères'"
      ]
     },
     "execution_count": 48,
     "metadata": {},
     "output_type": "execute_result"
    }
   ],
   "source": [
    "ma_chaine"
   ]
  },
  {
   "cell_type": "code",
   "execution_count": 49,
   "metadata": {
    "ExecuteTime": {
     "end_time": "2019-01-03T13:14:46.864810Z",
     "start_time": "2019-01-03T13:14:46.858866Z"
    },
    "hidden": true
   },
   "outputs": [
    {
     "data": {
      "text/plain": [
       "7"
      ]
     },
     "execution_count": 49,
     "metadata": {},
     "output_type": "execute_result"
    }
   ],
   "source": [
    "ma_chaine.find('d')"
   ]
  },
  {
   "cell_type": "code",
   "execution_count": 50,
   "metadata": {
    "ExecuteTime": {
     "end_time": "2019-01-03T13:14:50.926369Z",
     "start_time": "2019-01-03T13:14:50.921384Z"
    },
    "hidden": true
   },
   "outputs": [
    {
     "data": {
      "text/plain": [
       "7"
      ]
     },
     "execution_count": 50,
     "metadata": {},
     "output_type": "execute_result"
    }
   ],
   "source": [
    "ma_chaine.find('de')"
   ]
  },
  {
   "cell_type": "markdown",
   "metadata": {
    "hidden": true
   },
   "source": [
    "Compter le nombre de fois qu'une chaine est présente dans une autre chaine"
   ]
  },
  {
   "cell_type": "code",
   "execution_count": 51,
   "metadata": {
    "ExecuteTime": {
     "end_time": "2019-01-03T13:15:00.593942Z",
     "start_time": "2019-01-03T13:15:00.588956Z"
    },
    "hidden": true
   },
   "outputs": [
    {
     "data": {
      "text/plain": [
       "2"
      ]
     },
     "execution_count": 51,
     "metadata": {},
     "output_type": "execute_result"
    }
   ],
   "source": [
    "ma_chaine.count('c')"
   ]
  },
  {
   "cell_type": "markdown",
   "metadata": {
    "hidden": true
   },
   "source": [
    "Bien sûr, nous ne sommes pas obligés de passer par une variable pour que ça fonctionne :"
   ]
  },
  {
   "cell_type": "code",
   "execution_count": 52,
   "metadata": {
    "ExecuteTime": {
     "end_time": "2019-01-03T13:15:18.502609Z",
     "start_time": "2019-01-03T13:15:18.497623Z"
    },
    "hidden": true
   },
   "outputs": [
    {
     "data": {
      "text/plain": [
       "2"
      ]
     },
     "execution_count": 52,
     "metadata": {},
     "output_type": "execute_result"
    }
   ],
   "source": [
    "'chaine de test'.count('t')"
   ]
  },
  {
   "cell_type": "markdown",
   "metadata": {
    "hidden": true
   },
   "source": [
    "## Remplacement de sous-partie d'une chaine"
   ]
  },
  {
   "cell_type": "markdown",
   "metadata": {
    "hidden": true
   },
   "source": [
    "<div class=\"alert alert-block alert-success\">\n",
    "<b>Nota Bene :</b> \n",
    "\n",
    "La propriété d'**immuabilité** des chaine de caractères font qu'aucune des méthodes suivantes ne peuvent **modifier** la chaine de caractères concernée, elles ne font que **renvoyer une autre chaine de caractères** comme résultat\n",
    "</div>"
   ]
  },
  {
   "cell_type": "code",
   "execution_count": 53,
   "metadata": {
    "ExecuteTime": {
     "end_time": "2019-01-03T13:17:59.979997Z",
     "start_time": "2019-01-03T13:17:59.975011Z"
    },
    "hidden": true
   },
   "outputs": [
    {
     "data": {
      "text/plain": [
       "'Chaine de caractères'"
      ]
     },
     "execution_count": 53,
     "metadata": {},
     "output_type": "execute_result"
    }
   ],
   "source": [
    "ma_chaine"
   ]
  },
  {
   "cell_type": "markdown",
   "metadata": {
    "hidden": true
   },
   "source": [
    "Pour remplacer toute sous-chaine d'une chaine correspondant à une valeur testée, par une autre chaine et renvoyer le résultat :"
   ]
  },
  {
   "cell_type": "code",
   "execution_count": 54,
   "metadata": {
    "ExecuteTime": {
     "end_time": "2019-01-03T13:18:09.469320Z",
     "start_time": "2019-01-03T13:18:09.464333Z"
    },
    "hidden": true
   },
   "outputs": [
    {
     "data": {
      "text/plain": [
       "'Chaine de narantères'"
      ]
     },
     "execution_count": 54,
     "metadata": {},
     "output_type": "execute_result"
    }
   ],
   "source": [
    "ma_chaine.replace('c', 'n')"
   ]
  },
  {
   "cell_type": "markdown",
   "metadata": {
    "hidden": true
   },
   "source": [
    "La chaine elle-même n'a pas été modifiée"
   ]
  },
  {
   "cell_type": "code",
   "execution_count": 55,
   "metadata": {
    "ExecuteTime": {
     "end_time": "2019-01-03T13:18:17.539621Z",
     "start_time": "2019-01-03T13:18:17.534634Z"
    },
    "hidden": true
   },
   "outputs": [
    {
     "data": {
      "text/plain": [
       "'Chaine de caractères'"
      ]
     },
     "execution_count": 55,
     "metadata": {},
     "output_type": "execute_result"
    }
   ],
   "source": [
    "ma_chaine"
   ]
  },
  {
   "cell_type": "markdown",
   "metadata": {
    "hidden": true
   },
   "source": [
    "Pour modifier une chaine de caractère la seule possibilité est bien de la réaffecter"
   ]
  },
  {
   "cell_type": "code",
   "execution_count": 56,
   "metadata": {
    "ExecuteTime": {
     "end_time": "2019-01-03T13:18:29.292720Z",
     "start_time": "2019-01-03T13:18:29.288694Z"
    },
    "hidden": true
   },
   "outputs": [],
   "source": [
    "ma_chaine = ma_chaine.replace('è', 'e')"
   ]
  },
  {
   "cell_type": "code",
   "execution_count": 57,
   "metadata": {
    "ExecuteTime": {
     "end_time": "2019-01-03T13:18:33.826811Z",
     "start_time": "2019-01-03T13:18:33.822825Z"
    },
    "hidden": true
   },
   "outputs": [
    {
     "data": {
      "text/plain": [
       "'Chaine de caracteres'"
      ]
     },
     "execution_count": 57,
     "metadata": {},
     "output_type": "execute_result"
    }
   ],
   "source": [
    "ma_chaine"
   ]
  },
  {
   "cell_type": "markdown",
   "metadata": {
    "hidden": true
   },
   "source": [
    "## Nettoyage d'une chaine de caractères"
   ]
  },
  {
   "cell_type": "markdown",
   "metadata": {
    "hidden": true
   },
   "source": [
    "La méthode replace est aussi utilisée pour **supprimer** les occurrences d'une chaine de caractères \n",
    "\n",
    "Attention : il s'agit bien de remplacer une chaine de caractères par la chaine de caractère vide"
   ]
  },
  {
   "cell_type": "code",
   "execution_count": 58,
   "metadata": {
    "ExecuteTime": {
     "end_time": "2019-01-03T13:24:42.800068Z",
     "start_time": "2019-01-03T13:24:42.795082Z"
    },
    "hidden": true
   },
   "outputs": [
    {
     "data": {
      "text/plain": [
       "'Chaine de arateres'"
      ]
     },
     "execution_count": 58,
     "metadata": {},
     "output_type": "execute_result"
    }
   ],
   "source": [
    "ma_chaine.replace('c', '')"
   ]
  },
  {
   "cell_type": "markdown",
   "metadata": {
    "hidden": true
   },
   "source": [
    "Supprimer les caractères à gauche et à droite (par défaut les caractères **espace** et **retour à la ligne**)"
   ]
  },
  {
   "cell_type": "code",
   "execution_count": 59,
   "metadata": {
    "ExecuteTime": {
     "end_time": "2019-01-03T13:24:44.881457Z",
     "start_time": "2019-01-03T13:24:44.876470Z"
    },
    "hidden": true
   },
   "outputs": [
    {
     "data": {
      "text/plain": [
       "'235'"
      ]
     },
     "execution_count": 59,
     "metadata": {},
     "output_type": "execute_result"
    }
   ],
   "source": [
    "'   235   '.strip()"
   ]
  },
  {
   "cell_type": "markdown",
   "metadata": {
    "hidden": true
   },
   "source": [
    "Les méthodes spécifiques **lstrip()** et **rstrip()**, permettent de retirer les caractères uniquement à gauche (left : l) ou à droite(right : r)) "
   ]
  },
  {
   "cell_type": "code",
   "execution_count": 60,
   "metadata": {
    "ExecuteTime": {
     "end_time": "2019-01-03T13:24:47.078620Z",
     "start_time": "2019-01-03T13:24:47.073634Z"
    },
    "hidden": true,
    "scrolled": true
   },
   "outputs": [
    {
     "data": {
      "text/plain": [
       "'   235'"
      ]
     },
     "execution_count": 60,
     "metadata": {},
     "output_type": "execute_result"
    }
   ],
   "source": [
    "'   235   '.rstrip()"
   ]
  },
  {
   "cell_type": "markdown",
   "metadata": {
    "hidden": true
   },
   "source": [
    "## Casse"
   ]
  },
  {
   "cell_type": "markdown",
   "metadata": {
    "hidden": true
   },
   "source": [
    "<div class=\"alert alert-block alert-success\">\n",
    "<b>Important :</b> \n",
    "\n",
    "Il est d'abord important de noter que les chaines de caractères sont **sensibles à la casse**.\n",
    "````python\n",
    "'a' != 'A'\n",
    "```\n",
    "</div>"
   ]
  },
  {
   "cell_type": "markdown",
   "metadata": {
    "hidden": true
   },
   "source": [
    "Pour obtenir une chaine en majuscules ou en minuscules."
   ]
  },
  {
   "cell_type": "code",
   "execution_count": 61,
   "metadata": {
    "ExecuteTime": {
     "end_time": "2019-01-03T13:24:55.121407Z",
     "start_time": "2019-01-03T13:24:55.117417Z"
    },
    "hidden": true
   },
   "outputs": [],
   "source": [
    "ma_chaine_d_animaux = 'Lapin\\nCheval\\nCochon\\nVache'"
   ]
  },
  {
   "cell_type": "code",
   "execution_count": 62,
   "metadata": {
    "ExecuteTime": {
     "end_time": "2019-01-03T13:24:57.830529Z",
     "start_time": "2019-01-03T13:24:57.826539Z"
    },
    "hidden": true
   },
   "outputs": [
    {
     "name": "stdout",
     "output_type": "stream",
     "text": [
      "lapin\n",
      "cheval\n",
      "cochon\n",
      "vache\n"
     ]
    }
   ],
   "source": [
    "print(ma_chaine_d_animaux.lower())"
   ]
  },
  {
   "cell_type": "code",
   "execution_count": 63,
   "metadata": {
    "ExecuteTime": {
     "end_time": "2019-01-03T13:25:01.151114Z",
     "start_time": "2019-01-03T13:25:01.147126Z"
    },
    "hidden": true
   },
   "outputs": [
    {
     "name": "stdout",
     "output_type": "stream",
     "text": [
      "LAPIN\n",
      "CHEVAL\n",
      "COCHON\n",
      "VACHE\n"
     ]
    }
   ],
   "source": [
    "print(ma_chaine_d_animaux.upper())"
   ]
  },
  {
   "cell_type": "markdown",
   "metadata": {
    "hidden": true
   },
   "source": [
    "Pour ne mettre en majuscule que certaines lettres, le reste en minuscules, on peut aussi utiliser les deux méthodes suivantes."
   ]
  },
  {
   "cell_type": "code",
   "execution_count": 64,
   "metadata": {
    "ExecuteTime": {
     "end_time": "2019-01-03T13:25:04.657656Z",
     "start_time": "2019-01-03T13:25:04.652670Z"
    },
    "hidden": true
   },
   "outputs": [
    {
     "name": "stdout",
     "output_type": "stream",
     "text": [
      "Lapin\n",
      "cheval\n",
      "cochon\n",
      "vache\n"
     ]
    }
   ],
   "source": [
    "print(ma_chaine_d_animaux.capitalize()) # première lettre de la chaine"
   ]
  },
  {
   "cell_type": "code",
   "execution_count": 65,
   "metadata": {
    "ExecuteTime": {
     "end_time": "2019-01-03T13:25:12.315079Z",
     "start_time": "2019-01-03T13:25:12.310091Z"
    },
    "hidden": true
   },
   "outputs": [
    {
     "name": "stdout",
     "output_type": "stream",
     "text": [
      "Lapin\n",
      "Cheval\n",
      "Cochon\n",
      "Vache\n"
     ]
    }
   ],
   "source": [
    "print(ma_chaine_d_animaux.title()) # première lettre de chaque mot"
   ]
  },
  {
   "cell_type": "markdown",
   "metadata": {
    "hidden": true
   },
   "source": [
    "## Tests de contenu"
   ]
  },
  {
   "cell_type": "markdown",
   "metadata": {
    "hidden": true
   },
   "source": [
    "##### Début et fin de chaine"
   ]
  },
  {
   "cell_type": "code",
   "execution_count": 66,
   "metadata": {
    "ExecuteTime": {
     "end_time": "2019-01-03T13:25:19.417801Z",
     "start_time": "2019-01-03T13:25:19.412814Z"
    },
    "hidden": true
   },
   "outputs": [
    {
     "data": {
      "text/plain": [
       "False"
      ]
     },
     "execution_count": 66,
     "metadata": {},
     "output_type": "execute_result"
    }
   ],
   "source": [
    "ma_chaine.endswith('Chaine')"
   ]
  },
  {
   "cell_type": "code",
   "execution_count": 67,
   "metadata": {
    "ExecuteTime": {
     "end_time": "2019-01-03T13:25:26.238765Z",
     "start_time": "2019-01-03T13:25:26.235771Z"
    },
    "hidden": true
   },
   "outputs": [
    {
     "data": {
      "text/plain": [
       "True"
      ]
     },
     "execution_count": 67,
     "metadata": {},
     "output_type": "execute_result"
    }
   ],
   "source": [
    "ma_chaine.startswith('Chaine')"
   ]
  },
  {
   "cell_type": "markdown",
   "metadata": {
    "hidden": true
   },
   "source": [
    "##### Contenu exclusivement numérique"
   ]
  },
  {
   "cell_type": "code",
   "execution_count": 68,
   "metadata": {
    "ExecuteTime": {
     "end_time": "2019-01-03T13:26:00.356444Z",
     "start_time": "2019-01-03T13:26:00.351458Z"
    },
    "hidden": true
   },
   "outputs": [
    {
     "data": {
      "text/plain": [
       "True"
      ]
     },
     "execution_count": 68,
     "metadata": {},
     "output_type": "execute_result"
    }
   ],
   "source": [
    "'12'.isnumeric()"
   ]
  },
  {
   "cell_type": "markdown",
   "metadata": {
    "hidden": true
   },
   "source": [
    "Attention les nombres à virgule ne rentrent pas dans ce cadre :"
   ]
  },
  {
   "cell_type": "code",
   "execution_count": 69,
   "metadata": {
    "ExecuteTime": {
     "end_time": "2019-01-03T13:26:03.116578Z",
     "start_time": "2019-01-03T13:26:03.111591Z"
    },
    "hidden": true
   },
   "outputs": [
    {
     "data": {
      "text/plain": [
       "False"
      ]
     },
     "execution_count": 69,
     "metadata": {},
     "output_type": "execute_result"
    }
   ],
   "source": [
    "'1.2'.isnumeric()"
   ]
  },
  {
   "cell_type": "markdown",
   "metadata": {
    "hidden": true
   },
   "source": [
    "##### Contenu exclusivement alphabétique"
   ]
  },
  {
   "cell_type": "code",
   "execution_count": 73,
   "metadata": {
    "ExecuteTime": {
     "end_time": "2019-01-03T13:26:44.710076Z",
     "start_time": "2019-01-03T13:26:44.706087Z"
    },
    "hidden": true
   },
   "outputs": [
    {
     "data": {
      "text/plain": [
       "True"
      ]
     },
     "execution_count": 73,
     "metadata": {},
     "output_type": "execute_result"
    }
   ],
   "source": [
    "'Loup'.isalpha()"
   ]
  },
  {
   "cell_type": "code",
   "execution_count": 72,
   "metadata": {
    "ExecuteTime": {
     "end_time": "2019-01-03T13:26:42.697401Z",
     "start_time": "2019-01-03T13:26:42.692415Z"
    },
    "hidden": true
   },
   "outputs": [
    {
     "data": {
      "text/plain": [
       "False"
      ]
     },
     "execution_count": 72,
     "metadata": {},
     "output_type": "execute_result"
    }
   ],
   "source": [
    "'Loup-garou'.isalpha()"
   ]
  },
  {
   "cell_type": "code",
   "execution_count": 71,
   "metadata": {
    "ExecuteTime": {
     "end_time": "2019-01-03T13:26:40.921233Z",
     "start_time": "2019-01-03T13:26:40.916284Z"
    },
    "hidden": true
   },
   "outputs": [
    {
     "data": {
      "text/plain": [
       "False"
      ]
     },
     "execution_count": 71,
     "metadata": {},
     "output_type": "execute_result"
    }
   ],
   "source": [
    "'Loup garou'.isalpha()"
   ]
  },
  {
   "cell_type": "markdown",
   "metadata": {
    "hidden": true
   },
   "source": [
    "##### Contenu selon la casse"
   ]
  },
  {
   "cell_type": "markdown",
   "metadata": {
    "hidden": true
   },
   "source": [
    "Aucune lettre minuscule :"
   ]
  },
  {
   "cell_type": "code",
   "execution_count": 70,
   "metadata": {
    "ExecuteTime": {
     "end_time": "2019-01-03T13:26:38.749246Z",
     "start_time": "2019-01-03T13:26:38.744297Z"
    },
    "hidden": true
   },
   "outputs": [
    {
     "data": {
      "text/plain": [
       "True"
      ]
     },
     "execution_count": 70,
     "metadata": {},
     "output_type": "execute_result"
    }
   ],
   "source": [
    "'LOUP-GAROU'.isupper()"
   ]
  },
  {
   "cell_type": "markdown",
   "metadata": {
    "hidden": true
   },
   "source": [
    "Aucune lettre majuscule :"
   ]
  },
  {
   "cell_type": "code",
   "execution_count": 74,
   "metadata": {
    "ExecuteTime": {
     "end_time": "2019-01-03T13:26:49.012165Z",
     "start_time": "2019-01-03T13:26:49.007178Z"
    },
    "hidden": true
   },
   "outputs": [
    {
     "data": {
      "text/plain": [
       "True"
      ]
     },
     "execution_count": 74,
     "metadata": {},
     "output_type": "execute_result"
    }
   ],
   "source": [
    "'loup-garou'.islower()"
   ]
  },
  {
   "cell_type": "code",
   "execution_count": 75,
   "metadata": {
    "ExecuteTime": {
     "end_time": "2019-01-03T13:28:53.482449Z",
     "start_time": "2019-01-03T13:28:53.477464Z"
    },
    "hidden": true
   },
   "outputs": [
    {
     "data": {
      "text/plain": [
       "False"
      ]
     },
     "execution_count": 75,
     "metadata": {},
     "output_type": "execute_result"
    }
   ],
   "source": [
    "ma_chaine.isalpha()"
   ]
  },
  {
   "cell_type": "markdown",
   "metadata": {
    "hidden": true
   },
   "source": []
  },
  {
   "cell_type": "markdown",
   "metadata": {
    "hidden": true
   },
   "source": [
    "---"
   ]
  },
  {
   "cell_type": "markdown",
   "metadata": {
    "hidden": true
   },
   "source": [
    "<div class=\"alert alert-block alert-info\"><b><i>Pour aller plus loin :</i></b> <a href=https://docs.python.org/3/library/stdtypes.html#string-methods >Doc officielle Python sur les <b>méthodes de chaines de caractères</b></a></div>"
   ]
  },
  {
   "cell_type": "markdown",
   "metadata": {
    "jp-MarkdownHeadingCollapsed": true
   },
   "source": [
    "# Parsing et formatage"
   ]
  },
  {
   "attachments": {
    "ParseFormat.png": {
     "image/png": "[encoded data removed]"
    }
   },
   "cell_type": "markdown",
   "metadata": {},
   "source": [
    " Il existe deux opérations fondamentales en informatique:\n",
    " - le **parsing** est l'extraction de **données** depuis une **chaine de caractères**\n",
    " - le **formatage** est la création d'une **chaine de caractères** à partir de **données**\n",
    " \n",
    " ![ParseFormat.png](attachment:ParseFormat.png)"
   ]
  },
  {
   "cell_type": "markdown",
   "metadata": {},
   "source": [
    "## Parsing"
   ]
  },
  {
   "cell_type": "markdown",
   "metadata": {},
   "source": [
    "### Séparation"
   ]
  },
  {
   "cell_type": "markdown",
   "metadata": {},
   "source": [
    "Découper une chaine de caractères en morceaux sur la base d'une sous-chaine de caractères et renvoyer une liste des différentes parties découpées.\n",
    "\n",
    "Si aucun paramètre n'est indiqué la chaine sera découpée sur la base des caractères **espace** et **retour à la ligne***"
   ]
  },
  {
   "cell_type": "code",
   "execution_count": 76,
   "metadata": {
    "ExecuteTime": {
     "end_time": "2019-01-03T13:30:47.472013Z",
     "start_time": "2019-01-03T13:30:47.468025Z"
    }
   },
   "outputs": [],
   "source": [
    "ma_chaine_d_animaux = 'Lapin Cheval Cochon Vache'"
   ]
  },
  {
   "cell_type": "code",
   "execution_count": 77,
   "metadata": {
    "ExecuteTime": {
     "end_time": "2019-01-03T13:30:53.761867Z",
     "start_time": "2019-01-03T13:30:53.756881Z"
    }
   },
   "outputs": [
    {
     "data": {
      "text/plain": [
       "['Lapin', 'Cheval', 'Cochon', 'Vache']"
      ]
     },
     "execution_count": 77,
     "metadata": {},
     "output_type": "execute_result"
    }
   ],
   "source": [
    "ma_chaine_d_animaux.split()"
   ]
  },
  {
   "cell_type": "markdown",
   "metadata": {},
   "source": [
    "**Nota Bene** : le résultat de cette méthode n'est pas une chaine de caractères, mais une liste. Nous y reviendrons dans le prochain notebook"
   ]
  },
  {
   "cell_type": "code",
   "execution_count": null,
   "metadata": {},
   "outputs": [],
   "source": [
    "ma_chaine_d_animaux = 'Lapin;Cheval;Cochon;Vache'"
   ]
  },
  {
   "cell_type": "code",
   "execution_count": 78,
   "metadata": {
    "ExecuteTime": {
     "end_time": "2019-01-03T13:31:20.860057Z",
     "start_time": "2019-01-03T13:31:20.854074Z"
    }
   },
   "outputs": [
    {
     "data": {
      "text/plain": [
       "['Lapin Cheval Cochon Vache']"
      ]
     },
     "execution_count": 78,
     "metadata": {},
     "output_type": "execute_result"
    }
   ],
   "source": [
    "ma_chaine_d_animaux.split(';')"
   ]
  },
  {
   "cell_type": "markdown",
   "metadata": {},
   "source": [
    "Attention par construction la chaine utilisée est retirée du résultat, elle n'est donc dans aucun élément de la liste (ici, il n'y a plus de **e**)\n",
    "\n",
    "Il existe aussi un dérivé de la méthode **split()**, la méthode **splitlines()** qui permet de découper un texte en une liste de lignes (donc sur la base du caractère **retour à la ligne**)"
   ]
  },
  {
   "cell_type": "code",
   "execution_count": 79,
   "metadata": {
    "ExecuteTime": {
     "end_time": "2019-01-03T13:32:27.759187Z",
     "start_time": "2019-01-03T13:32:27.754200Z"
    }
   },
   "outputs": [
    {
     "name": "stdout",
     "output_type": "stream",
     "text": [
      "Lapin\n",
      "Cheval\n",
      "Cochon\n",
      "Vache\n"
     ]
    }
   ],
   "source": [
    "ma_chaine_d_animaux = 'Lapin\\nCheval\\nCochon\\nVache'\n",
    "print(ma_chaine_d_animaux)"
   ]
  },
  {
   "cell_type": "code",
   "execution_count": 80,
   "metadata": {
    "ExecuteTime": {
     "end_time": "2019-01-03T13:32:33.093883Z",
     "start_time": "2019-01-03T13:32:33.088898Z"
    }
   },
   "outputs": [
    {
     "data": {
      "text/plain": [
       "['Lapin', 'Cheval', 'Cochon', 'Vache']"
      ]
     },
     "execution_count": 80,
     "metadata": {},
     "output_type": "execute_result"
    }
   ],
   "source": [
    "ma_chaine_d_animaux.splitlines()"
   ]
  },
  {
   "cell_type": "markdown",
   "metadata": {},
   "source": [
    "### Jointure"
   ]
  },
  {
   "cell_type": "markdown",
   "metadata": {},
   "source": [
    "La fonction inverse de la méthode **split()** est un peu surprenante dans sa formulation, elle permet de concaténer les éléments d'un tableau contenant des chaines de caractères en utilisant une chaine de caractères"
   ]
  },
  {
   "cell_type": "code",
   "execution_count": 81,
   "metadata": {
    "ExecuteTime": {
     "end_time": "2019-01-03T13:34:43.563298Z",
     "start_time": "2019-01-03T13:34:43.559310Z"
    }
   },
   "outputs": [],
   "source": [
    "caractere_de_jointure = ' et '"
   ]
  },
  {
   "cell_type": "code",
   "execution_count": 82,
   "metadata": {
    "ExecuteTime": {
     "end_time": "2019-01-03T13:35:06.193811Z",
     "start_time": "2019-01-03T13:35:06.188826Z"
    }
   },
   "outputs": [
    {
     "data": {
      "text/plain": [
       "'Lapin et Cheval et Cochon et Vache'"
      ]
     },
     "execution_count": 82,
     "metadata": {},
     "output_type": "execute_result"
    }
   ],
   "source": [
    "caractere_de_jointure.join(['Lapin', 'Cheval', 'Cochon', 'Vache'])"
   ]
  },
  {
   "cell_type": "markdown",
   "metadata": {},
   "source": [
    "Ou plus directement :"
   ]
  },
  {
   "cell_type": "code",
   "execution_count": 83,
   "metadata": {
    "ExecuteTime": {
     "end_time": "2019-01-03T13:36:03.737536Z",
     "start_time": "2019-01-03T13:36:03.730555Z"
    }
   },
   "outputs": [
    {
     "data": {
      "text/plain": [
       "'Lapin et Cheval et Cochon et Vache'"
      ]
     },
     "execution_count": 83,
     "metadata": {},
     "output_type": "execute_result"
    }
   ],
   "source": [
    "' et '.join(['Lapin', 'Cheval', 'Cochon', 'Vache'])"
   ]
  },
  {
   "cell_type": "markdown",
   "metadata": {},
   "source": [
    "## Formatage"
   ]
  },
  {
   "cell_type": "markdown",
   "metadata": {},
   "source": [
    "Formater une chaine de caractères c'est le fait de la paramétrer en utilisant des variables."
   ]
  },
  {
   "cell_type": "markdown",
   "metadata": {},
   "source": [
    "Il existe quatre méthodes équivalentes pour formater une chaine de caractères, de la plus souhaitable à la moins souhaitable :\n",
    "1. Utiliser la méthode de chaine de caractères **format()**\n",
    "1. Utiliser des f-strings (ne fonctionne pas sur les versions inférieurs à Python 3.6)\n",
    "1. Utiliser l'opérateur de formatage **__%__**\n",
    "1. Faire des concaténations de chaines"
   ]
  },
  {
   "cell_type": "markdown",
   "metadata": {},
   "source": [
    "Prenons un exemple, imaginons qu'on veuille obtenir la chaine de caractères suivante :\n",
    "```Python\n",
    "'Moussa a 23 ans, il a eu 13.26 de moyenne'\n",
    "```\n",
    "A partir des données :"
   ]
  },
  {
   "cell_type": "code",
   "execution_count": 84,
   "metadata": {
    "ExecuteTime": {
     "end_time": "2019-01-03T13:37:26.499928Z",
     "start_time": "2019-01-03T13:37:26.495938Z"
    }
   },
   "outputs": [],
   "source": [
    "age = 23\n",
    "moyenne = 13.256489\n",
    "nom = 'Moussa'"
   ]
  },
  {
   "cell_type": "markdown",
   "metadata": {},
   "source": [
    "On a donc 4 solutions"
   ]
  },
  {
   "cell_type": "markdown",
   "metadata": {},
   "source": [
    "### Méthode de chaine de caractères format()"
   ]
  },
  {
   "cell_type": "markdown",
   "metadata": {},
   "source": [
    "On peut réaliser l'opération en signifiant les lieux où l'on souhaite introduire les formatages par des accolades **{}**"
   ]
  },
  {
   "cell_type": "code",
   "execution_count": 85,
   "metadata": {
    "ExecuteTime": {
     "end_time": "2019-01-03T13:38:07.769122Z",
     "start_time": "2019-01-03T13:38:07.764136Z"
    },
    "scrolled": true
   },
   "outputs": [
    {
     "data": {
      "text/plain": [
       "'Moussa a 23 ans, il a eu 13.256489 de moyenne'"
      ]
     },
     "execution_count": 85,
     "metadata": {},
     "output_type": "execute_result"
    }
   ],
   "source": [
    "'{} a {} ans, il a eu {} de moyenne'.format(nom, age, moyenne)"
   ]
  },
  {
   "cell_type": "markdown",
   "metadata": {},
   "source": [
    "A l'intérieur de l'accolade, on peut spécifier **deux paramètres optionnels**:\n",
    "1. L'indice de l'élément dans la liste fournie (ou la clé de dictionnaire), ce qui est pratique lorsqu'il y a des répétitions"
   ]
  },
  {
   "cell_type": "code",
   "execution_count": 88,
   "metadata": {
    "ExecuteTime": {
     "end_time": "2019-01-03T13:39:53.369463Z",
     "start_time": "2019-01-03T13:39:53.364475Z"
    }
   },
   "outputs": [
    {
     "data": {
      "text/plain": [
       "'Moussa a 23 ans. Moussa a eu 13.256489 de moyenne'"
      ]
     },
     "execution_count": 88,
     "metadata": {},
     "output_type": "execute_result"
    }
   ],
   "source": [
    "'{0} a {1} ans. {0} a eu {2} de moyenne'.format(nom, age, moyenne)"
   ]
  },
  {
   "cell_type": "markdown",
   "metadata": {},
   "source": [
    "2. Des spécifications supplémentaires de formatage. Il va s'agir principalement :\n",
    "    - De spécifier un nombre de chiffres après la virgule (fixer le nombre de chiffres) en utilisant la formulation **.Nf** N étant le nombre de chiffres    \n",
    "    - De mettre des zeros de remplissage devant un nombre entier en utilisant la formulation **0Nd** N étant le nombre de chiffres total du nombre entier\n",
    "\n",
    "Lorsque ce deuxième paramètre est spécifié, il est nécessaire de séparer les deux paramètres par l'opérateur **:** (deux-points)"
   ]
  },
  {
   "cell_type": "code",
   "execution_count": 86,
   "metadata": {
    "ExecuteTime": {
     "end_time": "2019-01-03T13:39:07.538397Z",
     "start_time": "2019-01-03T13:39:07.532414Z"
    }
   },
   "outputs": [
    {
     "data": {
      "text/plain": [
       "'13.26'"
      ]
     },
     "execution_count": 86,
     "metadata": {},
     "output_type": "execute_result"
    }
   ],
   "source": [
    "'{:.2f}'.format(moyenne)"
   ]
  },
  {
   "cell_type": "code",
   "execution_count": 87,
   "metadata": {
    "ExecuteTime": {
     "end_time": "2019-01-03T13:39:08.394873Z",
     "start_time": "2019-01-03T13:39:08.389888Z"
    }
   },
   "outputs": [
    {
     "data": {
      "text/plain": [
       "'0023'"
      ]
     },
     "execution_count": 87,
     "metadata": {},
     "output_type": "execute_result"
    }
   ],
   "source": [
    "'{:04d}'.format(age)"
   ]
  },
  {
   "cell_type": "code",
   "execution_count": 89,
   "metadata": {
    "ExecuteTime": {
     "end_time": "2019-01-03T13:44:37.487559Z",
     "start_time": "2019-01-03T13:44:37.482576Z"
    }
   },
   "outputs": [
    {
     "data": {
      "text/plain": [
       "'Moussa a 23 ans, il a eu 13.26 de moyenne'"
      ]
     },
     "execution_count": 89,
     "metadata": {},
     "output_type": "execute_result"
    }
   ],
   "source": [
    "'{} a {} ans, il a eu {:.2f} de moyenne'.format(nom, age, moyenne)"
   ]
  },
  {
   "cell_type": "markdown",
   "metadata": {},
   "source": [
    "<div class=\"alert alert-block alert-success\">\n",
    "En résumé on a : <b>{position:format}</b> \n",
    "</div>"
   ]
  },
  {
   "cell_type": "markdown",
   "metadata": {},
   "source": [
    "<div class=\"alert alert-block alert-info\"><b><i>Pour aller plus loin :</i></b>\n",
    "\n",
    "Il existe d'autres spécifications détaillées (du type d et f), par exemple pour les nombres hexadécimaux et binaires... \n",
    "\n",
    "<a href=https://docs.python.org/3.7/library/string.html#formatspec>Doc officielle Python sur les <b>specifications détaillées de formatage</b></a></div>"
   ]
  },
  {
   "cell_type": "markdown",
   "metadata": {},
   "source": [
    "Notez bien qu'il est possible de scinder les deux opérations, en créant une sorte de **template** réutilisable"
   ]
  },
  {
   "cell_type": "code",
   "execution_count": 90,
   "metadata": {
    "ExecuteTime": {
     "end_time": "2019-01-03T13:44:57.737944Z",
     "start_time": "2019-01-03T13:44:57.734955Z"
    }
   },
   "outputs": [],
   "source": [
    "ma_chaine_formatee = '{} a {} ans, il a eu {:.2f} de moyenne'"
   ]
  },
  {
   "cell_type": "code",
   "execution_count": 91,
   "metadata": {
    "ExecuteTime": {
     "end_time": "2019-01-03T13:45:07.288193Z",
     "start_time": "2019-01-03T13:45:07.283209Z"
    }
   },
   "outputs": [
    {
     "data": {
      "text/plain": [
       "'Moussa a 23 ans, il a eu 13.26 de moyenne'"
      ]
     },
     "execution_count": 91,
     "metadata": {},
     "output_type": "execute_result"
    }
   ],
   "source": [
    "ma_chaine_formatee.format(nom, age, moyenne)"
   ]
  },
  {
   "cell_type": "markdown",
   "metadata": {},
   "source": [
    "### F-strings"
   ]
  },
  {
   "cell_type": "markdown",
   "metadata": {},
   "source": [
    "Les **f-strings** sont une création récente (ne fonctionne pas sur les versions inférieurs à Python 3.6) et très pratique. \n",
    "\n",
    "Certains peuvent trouver cette représentation un peu moins lisible.\n",
    "\n",
    "Pour définir une f-string, il suffit de mettre directement les noms de variables dans les accolades, à la place du paramètre d'indiçage. \n",
    "\n",
    "En dehors de ça, la syntaxe est identique à celle de la méthode **format()**."
   ]
  },
  {
   "cell_type": "code",
   "execution_count": 92,
   "metadata": {
    "ExecuteTime": {
     "end_time": "2019-01-03T13:47:42.291332Z",
     "start_time": "2019-01-03T13:47:42.286347Z"
    }
   },
   "outputs": [
    {
     "data": {
      "text/plain": [
       "'Moussa a 23 ans, il a eu 13.26 de moyenne'"
      ]
     },
     "execution_count": 92,
     "metadata": {},
     "output_type": "execute_result"
    }
   ],
   "source": [
    "f'{nom} a {age} ans, il a eu {moyenne:.2f} de moyenne'"
   ]
  },
  {
   "cell_type": "markdown",
   "metadata": {},
   "source": [
    "Le système de **template** ne peut pas fonctionner avec cette méthode. Le formatage est **immédiatement appliqué**."
   ]
  },
  {
   "cell_type": "markdown",
   "metadata": {},
   "source": [
    "### Opérateur de formattage (ancienne méthode)"
   ]
  },
  {
   "cell_type": "markdown",
   "metadata": {},
   "source": [
    "Cette solution est héritée de Python 2 (et de la famille des langages C à l'origine), elle fonctionne toujours mais est un peu tombée en désuétude.\n",
    "\n",
    "Pour cette solution, il existe un opérateur de formatage de chaine de caractères : **%**\n",
    "```Python\n",
    "'chaine avec formats' % (variables)\n",
    "```\n",
    "\n",
    "Les formats sont alors écrits :\n",
    "\n",
    "- %s : une chaine de caractères\n",
    "- %d : un nombre décimal : un entier\n",
    "- %f : un nombre à virgule\n",
    "\n",
    "Les spécifications de formatage précédemment évoquées (nombre de chiffres après la virgule et zeros de remplissage) fonctionnent de manière similaire à ce qui a été vu précédemment."
   ]
  },
  {
   "cell_type": "code",
   "execution_count": null,
   "metadata": {},
   "outputs": [],
   "source": [
    "'%s a %d ans, il a eu %.2f de moyenne' % (nom, age, moyenne)"
   ]
  },
  {
   "cell_type": "markdown",
   "metadata": {},
   "source": [
    "<div class=\"alert alert-block alert-info\"><b><i>Pour aller plus loin :</i></b> <a href=https://docs.python.org/3/library/stdtypes.html#printf-style-string-formatting >Doc officielle Python sur cette solution de <b>formatage</b></a></div>"
   ]
  },
  {
   "cell_type": "markdown",
   "metadata": {},
   "source": [
    "### Concaténations de chaines (mauvaise méthode)"
   ]
  },
  {
   "cell_type": "markdown",
   "metadata": {},
   "source": [
    "Cette dernière solution donne une écriture lourde, illisible et peu pratique... \n",
    "\n",
    "Bref, c'est à réserver uniquement aux cas où il s'agit de concaténer deux chaines de caractères."
   ]
  },
  {
   "cell_type": "code",
   "execution_count": null,
   "metadata": {},
   "outputs": [],
   "source": [
    "nom + ' a ' + str(age) + ' ans, il a eu ' + str(moyenne)[:str(moyenne).find('.') + 1 + 2] + ' de moyenne'"
   ]
  },
  {
   "cell_type": "markdown",
   "metadata": {},
   "source": [
    "---"
   ]
  },
  {
   "cell_type": "markdown",
   "metadata": {},
   "source": [
    "<div class=\"alert alert-block alert-info\"><b><i>Pour aller plus loin :</i></b> <a href=https://docs.python.org/3/library/stdtypes.html#text-sequence-type-str >Doc officielle Python sur les <b>str</b></a></div>"
   ]
  },
  {
   "cell_type": "markdown",
   "metadata": {
    "jp-MarkdownHeadingCollapsed": true
   },
   "source": [
    "# Les bytes"
   ]
  },
  {
   "cell_type": "markdown",
   "metadata": {},
   "source": [
    "<div class=\"alert alert-block alert-success\">\n",
    "<b>Mot-clé : bytes</b>\n",
    "\n",
    "Un <b>bytes</b> est un ensemble <b>ordonné</b> de <b>caractères encodés</b>.\n",
    "</div>"
   ]
  },
  {
   "cell_type": "markdown",
   "metadata": {},
   "source": [
    "Pour préciser que c'est ce type particulier, on fait précéder la chaine de caractères par un **b**"
   ]
  },
  {
   "cell_type": "code",
   "execution_count": null,
   "metadata": {},
   "outputs": [],
   "source": [
    "b'string as bytes'"
   ]
  },
  {
   "cell_type": "markdown",
   "metadata": {},
   "source": [
    "On y reviendra brièvement plus tard..."
   ]
  },
  {
   "cell_type": "markdown",
   "metadata": {},
   "source": [
    "<div class=\"alert alert-block alert-info\"><b><i>Pour aller plus loin :</i></b> <a href=https://docs.python.org/3/library/stdtypes.html#bytes >Doc officielle Python sur les <b>bytes</b></a></div>"
   ]
  }
 ],
 "metadata": {
  "kernelspec": {
   "display_name": "Python 3 (ipykernel)",
   "language": "python",
   "name": "python3"
  },
  "language_info": {
   "codemirror_mode": {
    "name": "ipython",
    "version": 3
   },
   "file_extension": ".py",
   "mimetype": "text/x-python",
   "name": "python",
   "nbconvert_exporter": "python",
   "pygments_lexer": "ipython3",
   "version": "3.10.12"
  },
  "toc": {
   "base_numbering": 1,
   "nav_menu": {
    "height": "512px",
    "width": "252px"
   },
   "number_sections": true,
   "sideBar": true,
   "skip_h1_title": false,
   "title_cell": "Table of Contents",
   "title_sidebar": "Contents",
   "toc_cell": false,
   "toc_position": {
    "height": "810.98px",
    "left": "0px",
    "right": "1328px",
    "top": "110.994px",
    "width": "185.967px"
   },
   "toc_section_display": "block",
   "toc_window_display": true
  },
  "varInspector": {
   "cols": {
    "lenName": 16,
    "lenType": 16,
    "lenVar": 40
   },
   "kernels_config": {
    "python": {
     "delete_cmd_postfix": "",
     "delete_cmd_prefix": "del ",
     "library": "var_list.py",
     "varRefreshCmd": "print(var_dic_list())"
    },
    "r": {
     "delete_cmd_postfix": ") ",
     "delete_cmd_prefix": "rm(",
     "library": "var_list.r",
     "varRefreshCmd": "cat(var_dic_list()) "
    }
   },
   "oldHeight": 437.222222,
   "position": {
    "height": "40px",
    "left": "1379.19px",
    "right": "20px",
    "top": "76px",
    "width": "350px"
   },
   "types_to_exclude": [
    "module",
    "function",
    "builtin_function_or_method",
    "instance",
    "_Feature"
   ],
   "varInspector_section_display": "none",
   "window_display": true
  }
 },
 "nbformat": 4,
 "nbformat_minor": 4
}

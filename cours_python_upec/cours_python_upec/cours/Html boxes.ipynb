{
 "cells": [
  {
   "cell_type": "markdown",
   "id": "9af51503-cd2b-45b8-b2e8-caa7af42b238",
   "metadata": {},
   "source": [
    "<div class=\"alert alert-block alert-info\"> <b>NOTE</b> Use blue boxes for Tips and notes. </div>"
   ]
  },
  {
   "cell_type": "markdown",
   "id": "924decbe-de1c-4be3-aa87-bcfd854d4cf7",
   "metadata": {},
   "source": [
    "<div class=\"alert alert-block alert-success\"> Use green boxes sparingly, and only for some specific purpose that the other boxes can't cover. For example, if you have a lot of related content to link to, maybe you decide to use green boxes for related links from each section of a notebook. </div>"
   ]
  },
  {
   "cell_type": "markdown",
   "id": "7b54e331-8c94-44f1-b73d-4555ecc81e14",
   "metadata": {},
   "source": [
    "<div class=\"alert alert-block alert-warning\"> Use yellow boxes for examples that are not inside code cells, or use for mathematical formulas if needed. </div>"
   ]
  },
  {
   "cell_type": "markdown",
   "id": "d4336933-7bab-4651-b6b6-37d046eb4d96",
   "metadata": {},
   "source": [
    "<div class=\"alert alert-block alert-danger\"> In general, just avoid the red boxes. </div>"
   ]
  }
 ],
 "metadata": {
  "kernelspec": {
   "display_name": "Python 3 (ipykernel)",
   "language": "python",
   "name": "python3"
  },
  "language_info": {
   "codemirror_mode": {
    "name": "ipython",
    "version": 3
   },
   "file_extension": ".py",
   "mimetype": "text/x-python",
   "name": "python",
   "nbconvert_exporter": "python",
   "pygments_lexer": "ipython3",
   "version": "3.11.4"
  }
 },
 "nbformat": 4,
 "nbformat_minor": 5
}

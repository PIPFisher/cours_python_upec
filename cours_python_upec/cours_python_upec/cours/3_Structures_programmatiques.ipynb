{
 "cells": [
  {
   "cell_type": "markdown",
   "metadata": {},
   "source": [
    "<br>\n",
    "<div align=\"center\"><span style=\"font-family:Monaco;font-size:50px;color:#1c6199\">Master 2 MASERATI</span></div><br><br>\n",
    "<div align=\"center\"><span style=\"font-family:Monaco;font-size:40px;color:#1c6199\">Cours de Python</span></div><br><br>\n",
    "<div align=\"center\"><span style=\"font-family:Monaco;font-size:30px;color:#1c6199\">2023/2024</span></div><br><br>\n",
    "<div align=\"center\"><span style=\"font-family:Monaco;font-size:15px;color:#1c6199\">Enseignante : Lucia Cossaro</div>\n",
    "<div align=\"center\"><span style=\"font-family:Monaco;font-size:15px;color:#1c6199\">E-mail : luciacossaro@gmail.com</div>\n",
    "<hr>"
   ]
  },
  {
   "cell_type": "markdown",
   "metadata": {
    "jp-MarkdownHeadingCollapsed": true
   },
   "source": [
    "# Introduction"
   ]
  },
  {
   "cell_type": "markdown",
   "metadata": {},
   "source": [
    "## Principes et définitions"
   ]
  },
  {
   "cell_type": "markdown",
   "metadata": {},
   "source": [
    "Un **algorithme** est une suite **finie** et **non ambiguë** d’**opérations** ou d'**instructions** permettant de **résoudre un problème** ou d'**obtenir un résultat**. \n",
    "\n",
    "Un **algorithme** est une description abstraite de cette suite d'opération"
   ]
  },
  {
   "cell_type": "markdown",
   "metadata": {},
   "source": [
    "Un algorithme est constitué de cinq éléments possibles:\n",
    "- Des **données d'entrée** (**input**), ce sont les flèches en vert sur le schéma ci-dessous\n",
    "- Des **opérations** ou **instructions** (généralement mathématiques), ce sont les blocs en bleu clair sur le schéma\n",
    "- Des **boucles**, c'est à dire un regroupement d'instructions executées plusieurs fois, c'est le cercle en orange sur le schéma\n",
    "- Des **structures conditionnelles**, c'est dire un ensemble de situations déclenchées ou pas selon une **condition**, c'est la barre violet avec les 2 flèches représentant les alternatives\n",
    "- Des **données de sortie**, le résultat (**output**), c'est la flèche rouge sur le schéma ci-dessous"
   ]
  },
  {
   "attachments": {
    "shema_prog.png": {
     "image/png": "[encoded data removed]"
    }
   },
   "cell_type": "markdown",
   "metadata": {},
   "source": [
    "![shema_prog.png](attachment:shema_prog.png)"
   ]
  },
  {
   "cell_type": "markdown",
   "metadata": {},
   "source": [
    "La **programmation** est une activité consistant à transformer un algorithme en série d'instruction compréhensible et exécutable par un ordinateur.\n",
    "\n",
    "Un **programme** est donc la version informatisée d'un **algorithme**\n",
    "\n",
    "Une **fonction** est comme un programme, mais désigne plutôt une sous-partie d'un programme."
   ]
  },
  {
   "cell_type": "markdown",
   "metadata": {},
   "source": [
    "## Indentation"
   ]
  },
  {
   "cell_type": "markdown",
   "metadata": {},
   "source": [
    "En Python, les blocs et sous-blocs programmatiques ne sont pas délimités par des symboles ou des mots-clés comme dans la plupart des autres langages (accolades en C/C++/C#/Java/Javascript ou End en VBA par exemple)\n",
    "\n",
    "Ils sont déterminés simplement par l'indentation (les alinéas). Un bloc se termine lorsque l'on revient au niveau d'indentation précédent. Une mauvaise indentation est donc une erreur en Python ! Ca force à faire du code propre, et ça, c'est très bien..."
   ]
  },
  {
   "cell_type": "markdown",
   "metadata": {
    "jp-MarkdownHeadingCollapsed": true
   },
   "source": [
    "# Structures conditionnelles (ou alternatives)"
   ]
  },
  {
   "cell_type": "markdown",
   "metadata": {},
   "source": [
    "## Bases"
   ]
  },
  {
   "cell_type": "markdown",
   "metadata": {},
   "source": [
    "Une structure conditionnelle permet l'évaluation d'une expression de type booléen (vrai ou faux) et d'y associer une réaction en conséquence:\n",
    "- si ma condition est vraie alors faire quelque chose\n",
    "- sinon faire autre chose"
   ]
  },
  {
   "cell_type": "code",
   "execution_count": 1,
   "metadata": {
    "ExecuteTime": {
     "end_time": "2019-02-02T18:36:28.702983Z",
     "start_time": "2019-02-02T18:36:28.695941Z"
    }
   },
   "outputs": [],
   "source": [
    "nombre_eleves = 24"
   ]
  },
  {
   "cell_type": "code",
   "execution_count": 2,
   "metadata": {
    "ExecuteTime": {
     "end_time": "2019-02-02T18:36:30.134567Z",
     "start_time": "2019-02-02T18:36:30.114302Z"
    }
   },
   "outputs": [
    {
     "name": "stdout",
     "output_type": "stream",
     "text": [
      "Petite classe\n"
     ]
    }
   ],
   "source": [
    "if nombre_eleves > 30:\n",
    "    print('Grosse classe')\n",
    "else:\n",
    "    print('Petite classe')"
   ]
  },
  {
   "cell_type": "markdown",
   "metadata": {},
   "source": [
    "On peut aussi faire une structure avec plusieurs alternatives (autant qu'on veut) :\n",
    "- si ma condition est vraie alors faire quelque chose\n",
    "- sinon si une autre condition est vraie alors faire autre chose\n",
    "- sinon faire encore autre chose"
   ]
  },
  {
   "cell_type": "code",
   "execution_count": 3,
   "metadata": {
    "ExecuteTime": {
     "end_time": "2019-02-02T18:36:56.044266Z",
     "start_time": "2019-02-02T18:36:56.025201Z"
    }
   },
   "outputs": [],
   "source": [
    "nombre_eleves = 35"
   ]
  },
  {
   "cell_type": "code",
   "execution_count": 4,
   "metadata": {
    "ExecuteTime": {
     "end_time": "2019-02-02T18:36:57.334569Z",
     "start_time": "2019-02-02T18:36:57.324245Z"
    }
   },
   "outputs": [
    {
     "name": "stdout",
     "output_type": "stream",
     "text": [
      "Grosse classe\n"
     ]
    }
   ],
   "source": [
    "if nombre_eleves > 30:\n",
    "    print('Grosse classe')\n",
    "elif nombre_eleves > 20:\n",
    "    print('Classe moyenne')\n",
    "else:\n",
    "    print('Petite classe')"
   ]
  },
  {
   "cell_type": "markdown",
   "metadata": {},
   "source": [
    "Notez bien que l'évaluation est séquentielle, dans cet exemple, les conditions sur **if** et **elif** sont vraies, mais l'évaluation s'arrête à la première condition vraie et ne va pas plus loin."
   ]
  },
  {
   "cell_type": "markdown",
   "metadata": {},
   "source": [
    "## Conditions imbriquées"
   ]
  },
  {
   "cell_type": "markdown",
   "metadata": {},
   "source": [
    "Il faut bien comprendre que des conditions peuvent être imbriquées et apprendre à repérer grâce à l'indentation les lignes concernées par chaque cas."
   ]
  },
  {
   "cell_type": "code",
   "execution_count": 6,
   "metadata": {
    "ExecuteTime": {
     "end_time": "2019-02-02T19:26:15.065228Z",
     "start_time": "2019-02-02T19:26:15.034010Z"
    }
   },
   "outputs": [],
   "source": [
    "type_animal = 'mammifère'\n",
    "taille_animal = 20"
   ]
  },
  {
   "cell_type": "code",
   "execution_count": 7,
   "metadata": {
    "ExecuteTime": {
     "end_time": "2019-02-02T19:26:17.153953Z",
     "start_time": "2019-02-02T19:26:17.134054Z"
    }
   },
   "outputs": [
    {
     "name": "stdout",
     "output_type": "stream",
     "text": [
      "Est-ce un chat ?\n"
     ]
    }
   ],
   "source": [
    "if type_animal == 'mammifère':\n",
    "    if taille_animal > 30:\n",
    "        print('Est-ce un chien ?')\n",
    "    else:\n",
    "        print('Est-ce un chat ?')\n",
    "else:\n",
    "    print('Est-ce un poisson ?')"
   ]
  },
  {
   "cell_type": "markdown",
   "metadata": {
    "jp-MarkdownHeadingCollapsed": true
   },
   "source": [
    "## Conditions sur expressions non-booléennes"
   ]
  },
  {
   "cell_type": "markdown",
   "metadata": {},
   "source": [
    "Attention : En dehors des constantes (True et False) et expressions booléennes (a < b par exemple) qui peuvent être naturellement utilisées pour servir de condition dans une structure conditionnelles **if**, d'autres valeurs peuvent aussi être testées."
   ]
  },
  {
   "cell_type": "markdown",
   "metadata": {},
   "source": [
    "### La constante None"
   ]
  },
  {
   "cell_type": "markdown",
   "metadata": {},
   "source": [
    "La constante **None** est toujours considérée comme fausse"
   ]
  },
  {
   "cell_type": "code",
   "execution_count": 8,
   "metadata": {
    "ExecuteTime": {
     "end_time": "2019-02-02T19:44:04.074768Z",
     "start_time": "2019-02-02T19:44:04.057704Z"
    }
   },
   "outputs": [
    {
     "name": "stdout",
     "output_type": "stream",
     "text": [
      "None est considéré comme faux\n"
     ]
    }
   ],
   "source": [
    "if None:\n",
    "    print('None est considéré comme vrai')\n",
    "else:\n",
    "    print('None est considéré comme faux')"
   ]
  },
  {
   "cell_type": "markdown",
   "metadata": {},
   "source": [
    "### Nombres"
   ]
  },
  {
   "cell_type": "markdown",
   "metadata": {},
   "source": [
    "Pour tous les types de nombres (**int**, **float**, **complexe**), la valeur **0** est considérée comme fausse (et donc aussi 0.0 et 0j).\n",
    "\n",
    "**A l'inverse de toutes les autres valeurs, négatives ou positives, qui elles sont considérées comme vraies**.\n",
    "\n",
    "Autrement dit, pour les nombres, ce qui est évalué, c'est l'expression :\n",
    "\n",
    "```python\n",
    "nombre != 0\n",
    "```"
   ]
  },
  {
   "cell_type": "code",
   "execution_count": 9,
   "metadata": {
    "ExecuteTime": {
     "end_time": "2019-02-02T19:45:26.514826Z",
     "start_time": "2019-02-02T19:45:26.495308Z"
    }
   },
   "outputs": [],
   "source": [
    "mon_nombre = 0"
   ]
  },
  {
   "cell_type": "code",
   "execution_count": 10,
   "metadata": {
    "ExecuteTime": {
     "end_time": "2019-02-02T19:45:37.475020Z",
     "start_time": "2019-02-02T19:45:37.445073Z"
    }
   },
   "outputs": [
    {
     "name": "stdout",
     "output_type": "stream",
     "text": [
      "Mon nombre est nul\n"
     ]
    }
   ],
   "source": [
    "if mon_nombre:\n",
    "    print('Mon nombre est différent de 0')\n",
    "else:\n",
    "    print('Mon nombre est nul')"
   ]
  },
  {
   "cell_type": "code",
   "execution_count": 11,
   "metadata": {
    "ExecuteTime": {
     "end_time": "2019-02-02T19:45:42.315198Z",
     "start_time": "2019-02-02T19:45:42.305103Z"
    }
   },
   "outputs": [],
   "source": [
    "mon_nombre = -1"
   ]
  },
  {
   "cell_type": "code",
   "execution_count": 12,
   "metadata": {
    "ExecuteTime": {
     "end_time": "2019-02-02T19:45:47.334858Z",
     "start_time": "2019-02-02T19:45:47.315092Z"
    }
   },
   "outputs": [
    {
     "name": "stdout",
     "output_type": "stream",
     "text": [
      "Mon nombre est différent de 0\n"
     ]
    }
   ],
   "source": [
    "if mon_nombre:\n",
    "    print('Mon nombre est différent de 0')\n",
    "else:\n",
    "    print('Mon nombre est nul')"
   ]
  },
  {
   "cell_type": "markdown",
   "metadata": {},
   "source": [
    "### Ensembles"
   ]
  },
  {
   "cell_type": "markdown",
   "metadata": {},
   "source": [
    "Pour les ensembles, tout ensemble vide (**'' , () , [] , {} , set()**) est considéré comme faux.\n",
    "\n",
    "Autrement dit, pour les ensembles, ce qui est évalué, c'est l'expression :\n",
    "\n",
    "```python\n",
    "len(ensemble) != 0\n",
    "```"
   ]
  },
  {
   "cell_type": "code",
   "execution_count": 13,
   "metadata": {
    "ExecuteTime": {
     "end_time": "2019-02-02T19:46:08.464880Z",
     "start_time": "2019-02-02T19:46:08.444916Z"
    }
   },
   "outputs": [],
   "source": [
    "ma_liste = []"
   ]
  },
  {
   "cell_type": "code",
   "execution_count": 14,
   "metadata": {
    "ExecuteTime": {
     "end_time": "2019-02-02T19:46:13.504811Z",
     "start_time": "2019-02-02T19:46:13.486142Z"
    }
   },
   "outputs": [
    {
     "name": "stdout",
     "output_type": "stream",
     "text": [
      "Ma liste ne contient pas d'éléments\n"
     ]
    }
   ],
   "source": [
    "if ma_liste:\n",
    "    print('Ma liste contient des éléments')\n",
    "else:\n",
    "    print('Ma liste ne contient pas d\\'éléments')"
   ]
  },
  {
   "cell_type": "markdown",
   "metadata": {},
   "source": [
    "Mais attention tout ensemble contenant au moins un élément est considéré comme vrai :"
   ]
  },
  {
   "cell_type": "code",
   "execution_count": 15,
   "metadata": {
    "ExecuteTime": {
     "end_time": "2019-02-02T19:46:47.984888Z",
     "start_time": "2019-02-02T19:46:47.974807Z"
    }
   },
   "outputs": [
    {
     "name": "stdout",
     "output_type": "stream",
     "text": [
      "même si elle ne contient que la valeur None...\n"
     ]
    }
   ],
   "source": [
    "if [None]:\n",
    "    print('même si elle ne contient que la valeur None...')"
   ]
  },
  {
   "cell_type": "markdown",
   "metadata": {},
   "source": [
    "<div class=\"alert alert-block alert-success\">\n",
    "<b>Important : </b> \n",
    "\n",
    "Comme on vient de le voir il existe parfois une certaine ambigüité, ce qui peut parfois être une source de confusion et d'erreurs...\n",
    "```python\n",
    "    if not a:\n",
    "        a.append(1)        \n",
    "```\n",
    "Que ***a*** soit une liste vide ou qu'il soit None, la condition ***not a*** sera vraie, mais dans le deuxième cas, l'instruction ***a.append(1)*** provoquera une erreur.\n",
    "\n",
    "Il est donc recommandé d'être plus spécifique, et si l'on veut tester qu'une valeur est None, il faut faire:\n",
    "\n",
    "```python\n",
    "    if a == None:\n",
    "        'A n\\'est pas défini'\n",
    "    elif a == []:\n",
    "        a.append(1)\n",
    "```\n",
    "\n",
    "</div>"
   ]
  },
  {
   "cell_type": "markdown",
   "metadata": {
    "jp-MarkdownHeadingCollapsed": true
   },
   "source": [
    "# Boucles"
   ]
  },
  {
   "cell_type": "markdown",
   "metadata": {},
   "source": [
    "Les boucles permettent de faire quelque chose de manière répétée: \n",
    "- soit un nombre défini à l'avance de fois : boucles **for** (pour chaque ...)\n",
    "- soit tant qu'une condition est respectée : boucles **while** (tant que ...)"
   ]
  },
  {
   "cell_type": "markdown",
   "metadata": {},
   "source": [
    "## Ranges (Intervalles entiers)"
   ]
  },
  {
   "cell_type": "markdown",
   "metadata": {},
   "source": [
    "<div class=\"alert alert-block alert-success\">\n",
    "<b>Mot-clé : range</b>\n",
    "\n",
    "Un range est un <b>intervalle de nombres entiers</b> (issus de ℕ en mathématiques).\n",
    "</div>"
   ]
  },
  {
   "cell_type": "markdown",
   "metadata": {},
   "source": [
    "L'intervalle entier [1, 6[ se définit ainsi :"
   ]
  },
  {
   "cell_type": "code",
   "execution_count": 16,
   "metadata": {
    "ExecuteTime": {
     "end_time": "2019-02-02T19:48:33.014011Z",
     "start_time": "2019-02-02T19:48:32.995712Z"
    }
   },
   "outputs": [
    {
     "data": {
      "text/plain": [
       "range(1, 6)"
      ]
     },
     "execution_count": 16,
     "metadata": {},
     "output_type": "execute_result"
    }
   ],
   "source": [
    "range(1, 6)"
   ]
  },
  {
   "cell_type": "markdown",
   "metadata": {},
   "source": [
    "**Attention : la borne supérieure est exclue !**"
   ]
  },
  {
   "cell_type": "markdown",
   "metadata": {},
   "source": [
    "On peut aussi ne donner qu'un seul argument à **range()**, il s'agit alors de la borne supérieur (exclue toujours), et le premier élément de l'intervalle est alors **0** :"
   ]
  },
  {
   "cell_type": "code",
   "execution_count": 17,
   "metadata": {
    "ExecuteTime": {
     "end_time": "2019-02-02T19:48:43.534861Z",
     "start_time": "2019-02-02T19:48:43.517337Z"
    }
   },
   "outputs": [
    {
     "data": {
      "text/plain": [
       "True"
      ]
     },
     "execution_count": 17,
     "metadata": {},
     "output_type": "execute_result"
    }
   ],
   "source": [
    "range(5) == range(0, 5)"
   ]
  },
  {
   "cell_type": "markdown",
   "metadata": {},
   "source": [
    "Ce qui est plus simple à comprendre en disant : **range(5) est l'intervalle contenant les 5 premiers entiers (dont le premier est 0)**\n",
    "\n",
    "Du coup, **range(len(ma_chaine))** renvoie l'intervalle contenant très exactement l'ensemble des indices d'une chaine"
   ]
  },
  {
   "cell_type": "code",
   "execution_count": 18,
   "metadata": {
    "ExecuteTime": {
     "end_time": "2019-02-02T19:49:13.245187Z",
     "start_time": "2019-02-02T19:49:13.235123Z"
    }
   },
   "outputs": [
    {
     "data": {
      "text/plain": [
       "range(0, 20)"
      ]
     },
     "execution_count": 18,
     "metadata": {},
     "output_type": "execute_result"
    }
   ],
   "source": [
    "range(len('Chaine de caractères'))"
   ]
  },
  {
   "cell_type": "markdown",
   "metadata": {},
   "source": [
    "<div class=\"alert alert-block alert-info\"><b><i>Pour aller plus loin :</i></b> <a href= https://docs.python.org/3.3/library/stdtypes.html#range>Doc officielle Python sur les <b>ranges</b></a></div>"
   ]
  },
  {
   "cell_type": "markdown",
   "metadata": {},
   "source": [
    "## Boucles for"
   ]
  },
  {
   "cell_type": "markdown",
   "metadata": {},
   "source": [
    "Une boucle for définie une **variable d'itération** et donne successivement chaque valeur d'un ensemble à cette variable d'itération"
   ]
  },
  {
   "cell_type": "markdown",
   "metadata": {},
   "source": [
    "### Parcours d'un ensemble par élément"
   ]
  },
  {
   "cell_type": "markdown",
   "metadata": {},
   "source": [
    "On peut faire des boucles for qui parcourent un ensemble (une list par exemple, ou un dict) et qui prend tour à tour les valeurs de cet ensemble"
   ]
  },
  {
   "cell_type": "code",
   "execution_count": 19,
   "metadata": {
    "ExecuteTime": {
     "end_time": "2019-02-02T20:13:42.686914Z",
     "start_time": "2019-02-02T20:13:42.666304Z"
    }
   },
   "outputs": [],
   "source": [
    "ma_liste = [12, 29, 38]"
   ]
  },
  {
   "cell_type": "code",
   "execution_count": 20,
   "metadata": {
    "ExecuteTime": {
     "end_time": "2019-02-02T20:13:44.486773Z",
     "start_time": "2019-02-02T20:13:44.476558Z"
    }
   },
   "outputs": [
    {
     "name": "stdout",
     "output_type": "stream",
     "text": [
      "12\n",
      "29\n",
      "38\n"
     ]
    }
   ],
   "source": [
    "for elem in ma_liste:\n",
    "    print(elem)"
   ]
  },
  {
   "cell_type": "markdown",
   "metadata": {},
   "source": [
    "### Parcours d'un ensemble par indice"
   ]
  },
  {
   "cell_type": "markdown",
   "metadata": {},
   "source": [
    "On peut aussi parcourir la liste en prenant tour à tour les différentes valeurs d'indice. C'est le cas typique ou un **range** sera utilisé"
   ]
  },
  {
   "cell_type": "code",
   "execution_count": 21,
   "metadata": {
    "ExecuteTime": {
     "end_time": "2019-02-02T20:14:30.322089Z",
     "start_time": "2019-02-02T20:14:30.319095Z"
    }
   },
   "outputs": [
    {
     "name": "stdout",
     "output_type": "stream",
     "text": [
      "0\n",
      "1\n",
      "2\n"
     ]
    }
   ],
   "source": [
    "for i in range(len(ma_liste)):\n",
    "    print(i)"
   ]
  },
  {
   "cell_type": "markdown",
   "metadata": {},
   "source": [
    "Pour obtenir l'élément correspondant, on utilise alors l'indiçage"
   ]
  },
  {
   "cell_type": "code",
   "execution_count": 22,
   "metadata": {
    "ExecuteTime": {
     "end_time": "2019-01-03T15:20:55.477513Z",
     "start_time": "2019-01-03T15:20:55.472528Z"
    }
   },
   "outputs": [
    {
     "name": "stdout",
     "output_type": "stream",
     "text": [
      "12\n",
      "29\n",
      "38\n"
     ]
    }
   ],
   "source": [
    "for i in range(len(ma_liste)):\n",
    "    print(ma_liste[i])"
   ]
  },
  {
   "cell_type": "code",
   "execution_count": 23,
   "metadata": {
    "ExecuteTime": {
     "end_time": "2019-01-03T15:23:34.418905Z",
     "start_time": "2019-01-03T15:23:34.413916Z"
    }
   },
   "outputs": [],
   "source": [
    "ma_liste_fin=[]\n",
    "for i in range(len(ma_liste)):\n",
    "    if i > 0:\n",
    "        ma_liste_fin.append(ma_liste[i]-ma_liste[i-1])"
   ]
  },
  {
   "cell_type": "code",
   "execution_count": 24,
   "metadata": {
    "ExecuteTime": {
     "end_time": "2019-01-03T15:23:37.240190Z",
     "start_time": "2019-01-03T15:23:37.234244Z"
    }
   },
   "outputs": [
    {
     "data": {
      "text/plain": [
       "[17, 9]"
      ]
     },
     "execution_count": 24,
     "metadata": {},
     "output_type": "execute_result"
    }
   ],
   "source": [
    "ma_liste_fin"
   ]
  },
  {
   "cell_type": "markdown",
   "metadata": {},
   "source": [
    "### Parcours d'un ensemble par indice et élément"
   ]
  },
  {
   "cell_type": "markdown",
   "metadata": {},
   "source": [
    "On peut mélanger les deux, ce qui est souvent très pratique, en utilisant la fonction native **enumerate()**"
   ]
  },
  {
   "cell_type": "code",
   "execution_count": 25,
   "metadata": {
    "ExecuteTime": {
     "end_time": "2019-01-03T15:30:06.706102Z",
     "start_time": "2019-01-03T15:30:06.701116Z"
    }
   },
   "outputs": [
    {
     "name": "stdout",
     "output_type": "stream",
     "text": [
      "0 12\n",
      "1 29\n",
      "2 38\n"
     ]
    }
   ],
   "source": [
    "for i, elem in enumerate(ma_liste):\n",
    "    print(i, elem)"
   ]
  },
  {
   "cell_type": "markdown",
   "metadata": {},
   "source": [
    "### Parcours d'un dictionnaire"
   ]
  },
  {
   "cell_type": "markdown",
   "metadata": {},
   "source": [
    "Attention, dans le cas d'un dictionnaire, ce sont les **entrées** qui sont prises tour à tour lorsque l'on utilise l'opérateur **in** directement"
   ]
  },
  {
   "cell_type": "code",
   "execution_count": 26,
   "metadata": {
    "ExecuteTime": {
     "end_time": "2019-02-02T20:21:52.599909Z",
     "start_time": "2019-02-02T20:21:52.595881Z"
    }
   },
   "outputs": [],
   "source": [
    "mon_dict = {'DE': 'Allemagne', 'ES': 'Espagne', 'FR': 'France'}"
   ]
  },
  {
   "cell_type": "code",
   "execution_count": 27,
   "metadata": {
    "ExecuteTime": {
     "end_time": "2019-02-02T20:21:58.625753Z",
     "start_time": "2019-02-02T20:21:58.620767Z"
    }
   },
   "outputs": [
    {
     "name": "stdout",
     "output_type": "stream",
     "text": [
      "38\n",
      "38\n",
      "38\n"
     ]
    }
   ],
   "source": [
    "for cle in mon_dict:\n",
    "    print(elem)"
   ]
  },
  {
   "cell_type": "markdown",
   "metadata": {},
   "source": [
    "Pour obtenir l'élément correspondant, on peut utiliser l'indiçage"
   ]
  },
  {
   "cell_type": "code",
   "execution_count": 28,
   "metadata": {
    "ExecuteTime": {
     "end_time": "2019-02-02T20:22:15.786469Z",
     "start_time": "2019-02-02T20:22:15.782450Z"
    }
   },
   "outputs": [
    {
     "name": "stdout",
     "output_type": "stream",
     "text": [
      "Allemagne\n",
      "Espagne\n",
      "France\n"
     ]
    }
   ],
   "source": [
    "for cle in mon_dict:\n",
    "    print(mon_dict[cle])"
   ]
  },
  {
   "cell_type": "markdown",
   "metadata": {},
   "source": [
    "Ou encore mieux, on utilise la méthode **items()** du dictionnaire"
   ]
  },
  {
   "cell_type": "code",
   "execution_count": 29,
   "metadata": {
    "ExecuteTime": {
     "end_time": "2019-01-03T15:31:11.614308Z",
     "start_time": "2019-01-03T15:31:11.609363Z"
    }
   },
   "outputs": [
    {
     "name": "stdout",
     "output_type": "stream",
     "text": [
      "DE Allemagne\n",
      "ES Espagne\n",
      "FR France\n"
     ]
    }
   ],
   "source": [
    "for cle, val in mon_dict.items():\n",
    "    print(cle, val)"
   ]
  },
  {
   "cell_type": "markdown",
   "metadata": {},
   "source": [
    "Nous avons indiqué ici deux noms de variables d'itération en raison du fait que **items()** renvoie un couple de valeurs qu'on peut assigner à deux variables différentes."
   ]
  },
  {
   "cell_type": "markdown",
   "metadata": {},
   "source": [
    "## Boucles while"
   ]
  },
  {
   "cell_type": "markdown",
   "metadata": {},
   "source": [
    "Une boucle while repose sur une condition et ne définit pas de **variable d'itération**. Si l'on veut en avoir une, il faut la définir manuellement. \n",
    "\n",
    "Une boucle continue à tourner tant que la condition de test est vraie"
   ]
  },
  {
   "cell_type": "code",
   "execution_count": 30,
   "metadata": {
    "ExecuteTime": {
     "end_time": "2019-02-02T20:29:56.251251Z",
     "start_time": "2019-02-02T20:29:56.246264Z"
    }
   },
   "outputs": [
    {
     "name": "stdout",
     "output_type": "stream",
     "text": [
      "2\n",
      "4\n",
      "8\n",
      "16\n",
      "32\n"
     ]
    }
   ],
   "source": [
    "a = 2\n",
    "while a < 50:\n",
    "    print(a)\n",
    "    a *= 2"
   ]
  },
  {
   "cell_type": "markdown",
   "metadata": {},
   "source": [
    "Attention à l'ordre des opérations :"
   ]
  },
  {
   "cell_type": "code",
   "execution_count": 31,
   "metadata": {
    "ExecuteTime": {
     "end_time": "2019-02-02T20:34:11.670147Z",
     "start_time": "2019-02-02T20:34:11.649799Z"
    }
   },
   "outputs": [
    {
     "name": "stdout",
     "output_type": "stream",
     "text": [
      "4\n",
      "8\n",
      "16\n",
      "32\n",
      "64\n"
     ]
    }
   ],
   "source": [
    "a = 2\n",
    "while a < 50:\n",
    "    a *= 2\n",
    "    print(a)"
   ]
  },
  {
   "cell_type": "markdown",
   "metadata": {},
   "source": [
    "## Interruption et saut d'une itération d'une boucle (for ou while)"
   ]
  },
  {
   "cell_type": "markdown",
   "metadata": {},
   "source": [
    "Que ce soit dans une boucle while ou for, on peut rajouter un **break**, généralement sous forme d'une condition de rupture, cela indique au programme que même s'il n'a pas fini de faire tourner la boucle, il ne doit pas continuer à faire des tours de cette boucle (mais il finit tout de même le tour actuel)"
   ]
  },
  {
   "cell_type": "code",
   "execution_count": 32,
   "metadata": {
    "ExecuteTime": {
     "end_time": "2019-02-02T20:34:58.500861Z",
     "start_time": "2019-02-02T20:34:58.496872Z"
    }
   },
   "outputs": [
    {
     "name": "stdout",
     "output_type": "stream",
     "text": [
      "0\n",
      "1\n"
     ]
    }
   ],
   "source": [
    "for i in range(10):\n",
    "    if i == 2:\n",
    "        break\n",
    "    print(i)"
   ]
  },
  {
   "cell_type": "markdown",
   "metadata": {},
   "source": [
    "<div class=\"alert alert-block alert-success\">\n",
    "<b>Astuce de codeur : </b>\n",
    "\n",
    "Un **break** peut être utilisé temporairement pour essayer une boucle sur son premier élément avant de l'exécuter sur tous (on l'enlèvera lorsque l'on sera prêt à tester la boucle sur tous les éléments). \n",
    "\n",
    "On peut dire que le break sert alors de **cale**.</div>"
   ]
  },
  {
   "cell_type": "code",
   "execution_count": 33,
   "metadata": {
    "ExecuteTime": {
     "end_time": "2019-02-02T20:35:26.973528Z",
     "start_time": "2019-02-02T20:35:26.968540Z"
    }
   },
   "outputs": [
    {
     "name": "stdout",
     "output_type": "stream",
     "text": [
      "0\n"
     ]
    }
   ],
   "source": [
    "for i in range(9999):\n",
    "    print(i)\n",
    "    break # cale"
   ]
  },
  {
   "cell_type": "markdown",
   "metadata": {},
   "source": [
    "Il existe aussi le mot-clé **continue** qui force le programme à sauter directement au tour suivant de la boucle (sauf si c'était le dernier tour)"
   ]
  },
  {
   "cell_type": "code",
   "execution_count": 34,
   "metadata": {
    "ExecuteTime": {
     "end_time": "2019-01-03T15:39:44.017439Z",
     "start_time": "2019-01-03T15:39:44.011456Z"
    },
    "scrolled": true
   },
   "outputs": [
    {
     "name": "stdout",
     "output_type": "stream",
     "text": [
      "\n",
      "Début de boucle\n",
      "Chiffre pair : 2\n",
      "\n",
      "Début de boucle\n",
      "Autre chiffre : 3\n",
      "\n",
      "Début de boucle\n",
      "Chiffre pair : 4\n"
     ]
    }
   ],
   "source": [
    "for num in range(2, 5):\n",
    "    print()\n",
    "    print(\"Début de boucle\")\n",
    "    if num % 2 == 0:\n",
    "        print(\"Chiffre pair :\", num)\n",
    "        continue\n",
    "    print(\"Autre chiffre :\", num)\n",
    "    "
   ]
  },
  {
   "cell_type": "markdown",
   "metadata": {},
   "source": [
    "<div class=\"alert alert-block alert-info\"><b>Pour aller plus loin :</b> <a href=https://docs.python.org/3/tutorial/controlflow.html#break-and-continue-statements-and-else-clauses-on-loops> Doc officielle sur <b>break</b> et <b>continue</b> </a></div>"
   ]
  },
  {
   "cell_type": "markdown",
   "metadata": {},
   "source": [
    "## Boucles imbriquées"
   ]
  },
  {
   "cell_type": "markdown",
   "metadata": {},
   "source": [
    "Les boucles, comme les structures conditionnelles peuvent être imbriquées"
   ]
  },
  {
   "cell_type": "code",
   "execution_count": 35,
   "metadata": {
    "ExecuteTime": {
     "end_time": "2019-02-02T21:02:30.493410Z",
     "start_time": "2019-02-02T21:02:30.477782Z"
    }
   },
   "outputs": [],
   "source": [
    "tableau = [\n",
    "    [3, 5],\n",
    "    [4, 6],\n",
    "    [7, 8],\n",
    "]"
   ]
  },
  {
   "cell_type": "code",
   "execution_count": 36,
   "metadata": {
    "ExecuteTime": {
     "end_time": "2019-01-03T15:39:49.926720Z",
     "start_time": "2019-01-03T15:39:49.922732Z"
    }
   },
   "outputs": [
    {
     "name": "stdout",
     "output_type": "stream",
     "text": [
      "Nouvelle ligne : [3, 5]\n",
      "3\n",
      "5\n",
      "Nouvelle ligne : [4, 6]\n",
      "4\n",
      "6\n",
      "Nouvelle ligne : [7, 8]\n",
      "7\n",
      "8\n"
     ]
    }
   ],
   "source": [
    "for ligne in tableau:\n",
    "    print(\"Nouvelle ligne :\", ligne)\n",
    "    \n",
    "    for elem in ligne:\n",
    "        print(elem)"
   ]
  },
  {
   "cell_type": "code",
   "execution_count": 37,
   "metadata": {
    "ExecuteTime": {
     "end_time": "2019-01-03T15:39:52.998654Z",
     "start_time": "2019-01-03T15:39:52.992670Z"
    }
   },
   "outputs": [],
   "source": [
    "nombres_pairs = []\n",
    "nombres_impairs = []\n",
    "\n",
    "for ligne in tableau:\n",
    "    for elem in ligne:\n",
    "        if elem % 2 == 0:\n",
    "            nombres_pairs.append(elem)\n",
    "        else:\n",
    "            nombres_impairs.append(elem)"
   ]
  },
  {
   "cell_type": "code",
   "execution_count": 38,
   "metadata": {
    "ExecuteTime": {
     "end_time": "2019-01-03T15:39:56.775838Z",
     "start_time": "2019-01-03T15:39:56.769893Z"
    }
   },
   "outputs": [
    {
     "data": {
      "text/plain": [
       "[4, 6, 8]"
      ]
     },
     "execution_count": 38,
     "metadata": {},
     "output_type": "execute_result"
    }
   ],
   "source": [
    "nombres_pairs"
   ]
  },
  {
   "cell_type": "code",
   "execution_count": 39,
   "metadata": {
    "ExecuteTime": {
     "end_time": "2019-01-03T15:39:59.086970Z",
     "start_time": "2019-01-03T15:39:59.081984Z"
    }
   },
   "outputs": [
    {
     "data": {
      "text/plain": [
       "[3, 5, 7]"
      ]
     },
     "execution_count": 39,
     "metadata": {},
     "output_type": "execute_result"
    }
   ],
   "source": [
    "nombres_impairs"
   ]
  }
 ],
 "metadata": {
  "kernelspec": {
   "display_name": "Python 3 (ipykernel)",
   "language": "python",
   "name": "python3"
  },
  "language_info": {
   "codemirror_mode": {
    "name": "ipython",
    "version": 3
   },
   "file_extension": ".py",
   "mimetype": "text/x-python",
   "name": "python",
   "nbconvert_exporter": "python",
   "pygments_lexer": "ipython3",
   "version": "3.10.12"
  },
  "toc": {
   "base_numbering": 1,
   "nav_menu": {
    "height": "512px",
    "width": "252px"
   },
   "number_sections": true,
   "sideBar": true,
   "skip_h1_title": false,
   "title_cell": "Table of Contents",
   "title_sidebar": "Contents",
   "toc_cell": false,
   "toc_position": {
    "height": "660px",
    "left": "0px",
    "right": "1328px",
    "top": "107px",
    "width": "186px"
   },
   "toc_section_display": "block",
   "toc_window_display": true
  },
  "varInspector": {
   "cols": {
    "lenName": 16,
    "lenType": 16,
    "lenVar": 40
   },
   "kernels_config": {
    "python": {
     "delete_cmd_postfix": "",
     "delete_cmd_prefix": "del ",
     "library": "var_list.py",
     "varRefreshCmd": "print(var_dic_list())"
    },
    "r": {
     "delete_cmd_postfix": ") ",
     "delete_cmd_prefix": "rm(",
     "library": "var_list.r",
     "varRefreshCmd": "cat(var_dic_list()) "
    }
   },
   "oldHeight": 437.222222,
   "position": {
    "height": "40px",
    "left": "913.2px",
    "right": "20px",
    "top": "120px",
    "width": "350px"
   },
   "types_to_exclude": [
    "module",
    "function",
    "builtin_function_or_method",
    "instance",
    "_Feature"
   ],
   "varInspector_section_display": "none",
   "window_display": false
  }
 },
 "nbformat": 4,
 "nbformat_minor": 4
}

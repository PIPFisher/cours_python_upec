{
 "cells": [
  {
   "cell_type": "markdown",
   "id": "a89ee274-321c-4f3d-808c-1b107df95209",
   "metadata": {},
   "source": [
    "<br>\n",
    "<div align=\"center\"><span style=\"font-family:Monaco;font-size:45px;color:#1c6199\">Master 2 MASERATI</span></div><br><br>\n",
    "<div align=\"center\"><span style=\"font-family:Monaco;font-size:40px;color:#1c6199\">Cours de Python</span></div><br><br>\n",
    "<div align=\"center\"><span style=\"font-family:Monaco;font-size:30px;color:#1c6199\">2023/2024</span></div><br><br>\n",
    "<div align=\"center\"><span style=\"font-family:Monaco;font-size:15px;color:#1c6199\">Enseignant : Lucia Cossaro</div>\n",
    "<div align=\"center\"><span style=\"font-family:Monaco;font-size:15px;color:#1c6199\">E-mail : luciacossaro@gmail.com</div>\n",
    "<hr>"
   ]
  },
  {
   "cell_type": "code",
   "execution_count": null,
   "id": "9a717ea2-3a23-49fb-9bd0-f754a7578c75",
   "metadata": {},
   "outputs": [],
   "source": []
  }
 ],
 "metadata": {
  "kernelspec": {
   "display_name": "Python 3 (ipykernel)",
   "language": "python",
   "name": "python3"
  },
  "language_info": {
   "codemirror_mode": {
    "name": "ipython",
    "version": 3
   },
   "file_extension": ".py",
   "mimetype": "text/x-python",
   "name": "python",
   "nbconvert_exporter": "python",
   "pygments_lexer": "ipython3",
   "version": "3.11.4"
  }
 },
 "nbformat": 4,
 "nbformat_minor": 5
}

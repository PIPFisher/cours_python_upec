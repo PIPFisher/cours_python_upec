{
 "cells": [
  {
   "cell_type": "markdown",
   "id": "73f06c8c-66df-42a5-83a5-6ec6df9cc5be",
   "metadata": {},
   "source": [
    "<div style=\"background-color: #E74C3C; padding: 20px; text-align: center;\">\n",
    "    <div align=\"center\"><span style=\"font-family:Monaco;font-size:50px;color:#FDFEFE\">Master 2 MASERATI</span></div>\n",
    "    <div align=\"center\"><span style=\"font-family:Monaco;font-size:40px;color:#FDFEFE\">Cours de Python</span></div>\n",
    "    <div align=\"center\"><span style=\"font-family:Monaco;font-size:30px;color:#FDFEFE\">2023/2024</span></div>\n",
    "    <div align=\"center\"><span style=\"font-family:Monaco;font-size:15px;color:#FDFEFE\">Enseignante : Lucia Cossaro</div>\n",
    "    <div align=\"center\"><span style=\"font-family:Monaco;font-size:15px;color:#FDFEFE\">E-mail : luciacossaro@gmail.com</div>\n",
    "    <hr>\n",
    "</div>"
   ]
  },
  {
   "cell_type": "markdown",
   "id": "72c4df9f-40ce-4301-8379-d5fbc8e0244e",
   "metadata": {},
   "source": [
    "<div style=\"background-color: #1C2833; padding: 20px; text-align: center;\">\n",
    "    <div align=\"center\"><span style=\"font-family:Monaco;font-size:40px;color:#FDFEFE\">Sommaire</span></div>\n",
    "    <hr>\n",
    "</div>"
   ]
  },
  {
   "cell_type": "markdown",
   "id": "bbc3cd4c-d5eb-48b3-9f27-9f535ed94031",
   "metadata": {},
   "source": [
    "# Jeudi 5 Octobre"
   ]
  },
  {
   "cell_type": "markdown",
   "id": "ec8d05d7-9704-40df-bf0f-b4b31c7cca33",
   "metadata": {},
   "source": [
    "## [1 Concepts de base](cours/1_Concepts_de_base.ipynb)"
   ]
  },
  {
   "cell_type": "markdown",
   "id": "cbd69adb-24c2-4a54-80ff-426a03b2d059",
   "metadata": {},
   "source": [
    "# [2 Strings](cours/2_Strings.ipynb)"
   ]
  },
  {
   "cell_type": "markdown",
   "id": "18575b04-0711-4395-95d8-9d931ef96045",
   "metadata": {},
   "source": [
    "# [3 Structures programmatiques](cours/3_Structures_programmatiques.ipynb)"
   ]
  },
  {
   "cell_type": "markdown",
   "id": "70143294-a4d6-415e-9693-781976bf4622",
   "metadata": {},
   "source": [
    "# [4 Fonctions](cours/4_Fonctions.ipynb)"
   ]
  },
  {
   "cell_type": "markdown",
   "id": "1016b6d7-1a44-492e-ad74-d18d94d713ba",
   "metadata": {},
   "source": [
    "# [5 Pandas](cours/5_Pandas.ipynb)"
   ]
  },
  {
   "cell_type": "markdown",
   "id": "b1d27d24-a05f-47df-80e8-be79b1cf5c60",
   "metadata": {},
   "source": [
    "# [6 Traitement de donnees](cours/6_Traitement_de_donnees.ipynb)"
   ]
  },
  {
   "cell_type": "markdown",
   "id": "4c87fb0b-9159-458e-828f-3d178064ab40",
   "metadata": {},
   "source": [
    "# [7 Manipulation de donnees](cours/7_Manipulation_de_donnees.ipynb)"
   ]
  }
 ],
 "metadata": {
  "kernelspec": {
   "display_name": "Python 3 (ipykernel)",
   "language": "python",
   "name": "python3"
  },
  "language_info": {
   "codemirror_mode": {
    "name": "ipython",
    "version": 3
   },
   "file_extension": ".py",
   "mimetype": "text/x-python",
   "name": "python",
   "nbconvert_exporter": "python",
   "pygments_lexer": "ipython3",
   "version": "3.10.12"
  }
 },
 "nbformat": 4,
 "nbformat_minor": 5
}
